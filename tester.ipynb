{
 "cells": [
  {
   "cell_type": "markdown",
   "metadata": {},
   "source": [
    "## Import Modules"
   ]
  },
  {
   "cell_type": "code",
   "execution_count": 12,
   "metadata": {},
   "outputs": [],
   "source": [
    "import pandas as pd\n",
    "import numpy as np\n",
    "\n",
    "import albumentations as A\n",
    "import cv2\n",
    "\n",
    "import torch\n",
    "from ultralytics import settings\n",
    "from ultralytics import YOLO\n"
   ]
  },
  {
   "cell_type": "markdown",
   "metadata": {},
   "source": [
    "# Module Config"
   ]
  },
  {
   "cell_type": "code",
   "execution_count": 4,
   "metadata": {},
   "outputs": [
    {
     "name": "stdout",
     "output_type": "stream",
     "text": [
      "{'settings_version': '0.0.4', 'datasets_dir': 'D:\\\\Tom\\\\GitHub\\\\Third Year Project\\\\datasets', 'weights_dir': 'D:\\\\Tom\\\\GitHub\\\\Third Year Project\\\\Intruder-Aircraft-Detection\\\\weights', 'runs_dir': 'D:\\\\Tom\\\\GitHub\\\\Third Year Project\\\\Intruder-Aircraft-Detection\\\\runs', 'uuid': 'fdb5c10788ffaa41a9047dc764dd8a0a3287d6bec12c0c66234ac745c0366efa', 'sync': True, 'api_key': '', 'openai_api_key': '', 'clearml': True, 'comet': True, 'dvc': True, 'hub': True, 'mlflow': True, 'neptune': True, 'raytune': True, 'tensorboard': True, 'wandb': True}\n",
      "True\n"
     ]
    }
   ],
   "source": [
    "# Ultralytics settings\n",
    "print(settings) \n",
    "\n",
    "# GPU Utilisation\n",
    "print(torch.cuda.is_available())\n",
    "device = torch.device(\"cuda\")"
   ]
  },
  {
   "cell_type": "markdown",
   "metadata": {},
   "source": [
    "# Augmentation Methods"
   ]
  },
  {
   "cell_type": "code",
   "execution_count": null,
   "metadata": {},
   "outputs": [],
   "source": [
    "def read_label(label_path):\n",
    "\n",
    "    # Placeholder for reading the label file in YOLO format\n",
    "    pass\n",
    "\n",
    "def write_label(label_path, bboxes, image_shape):\n",
    "    \n",
    "    # Placeholder for writing the label file in YOLO format\n",
    "    pass\n",
    "\n",
    "def augment_image(image_path, label_path, augmentation):\n",
    "    image = cv2.imread(image_path)\n",
    "    image = cv2.cvtColor(image, cv2.COLOR_BGR2RGB)\n",
    "    bboxes = read_label(label_path)\n",
    "\n",
    "    # Note that bboxes should be normalized (i.e., in the range [0, 1])\n",
    "    transformed = augmentation(image=image, bboxes=bboxes)\n",
    "    transformed_image = transformed['image']\n",
    "    transformed_bboxes = transformed['bboxes']\n",
    "\n",
    "    # Denormalize bboxes here if your write_label function expects that\n",
    "    write_label(label_path, transformed_bboxes, transformed_image.shape)\n",
    "\n",
    "    cv2.imwrite(image_path, cv2.cvtColor(transformed_image, cv2.COLOR_RGB2BGR))\n",
    "\n",
    "# Zoom in/out\n",
    "def zoom(image_path, label_path, min_zoom=0.8, max_zoom=1.2):\n",
    "    augmentation = A.Compose([\n",
    "        A.RandomScale(scale_limit=(min_zoom - 1, max_zoom - 1), p=1.0)\n",
    "    ], bbox_params=A.BboxParams(format='yolo', label_fields=[]))\n",
    "    \n",
    "    augment_image(image_path, label_path, augmentation)\n",
    "\n",
    "# Horizontal and Vertical Reflection\n",
    "def reflection(image_path, label_path):\n",
    "    augmentation = A.Compose([\n",
    "        A.HorizontalFlip(p=0.5),\n",
    "        A.VerticalFlip(p=0.5)\n",
    "    ], bbox_params=A.BboxParams(format='yolo', label_fields=[]))\n",
    "    \n",
    "    augment_image(image_path, label_path, augmentation)\n",
    "\n",
    "# Rotation\n",
    "def rotate(image_path, label_path, angle_limit=90):\n",
    "    augmentation = A.Compose([\n",
    "        A.Rotate(limit=angle_limit, p=1.0)\n",
    "    ], bbox_params=A.BboxParams(format='yolo', label_fields=[]))\n",
    "    \n",
    "    augment_image(image_path, label_path, augmentation)\n",
    "\n",
    "# Contrast and Brightness\n",
    "def adjust_contrast_brightness(image_path, label_path, brightness_limit=0.2, contrast_limit=0.2):\n",
    "    augmentation = A.Compose([\n",
    "        A.RandomBrightnessContrast(brightness_limit=brightness_limit, contrast_limit=contrast_limit, p=1.0)\n",
    "    ])\n",
    "    \n",
    "    augment_image(image_path, label_path, augmentation)\n",
    "\n",
    "# Histogram Equalization\n",
    "def histogram_equalization(image_path, label_path):\n",
    "    augmentation = A.Compose([\n",
    "        A.HistogramMatching(p=1.0)\n",
    "    ])\n",
    "    \n",
    "    augment_image(image_path, label_path, augmentation)\n",
    "\n",
    "# White Balance (using FancyPCA for color augmentation which can simulate white balance shifts)\n",
    "def white_balance(image_path, label_path):\n",
    "    augmentation = A.Compose([\n",
    "        A.FancyPCA(alpha=0.1, p=1.0)\n",
    "    ])\n",
    "    \n",
    "    augment_image(image_path, label_path, augmentation)\n",
    "\n",
    "# Sharpen\n",
    "def sharpen(image_path, label_path):\n",
    "    augmentation = A.Compose([\n",
    "        A.Sharpen(alpha=(0.2, 0.5), lightness=(0.5, 1.0), p=1.0)\n",
    "    ])\n",
    "    \n",
    "    augment_image(image_path, label_path, augmentation)\n",
    "\n",
    "# Gaussian Noise\n",
    "def gaussian_noise(image_path, label_path, var_limit=(10.0, 50.0)):\n",
    "    augmentation = A.Compose([\n",
    "        A.GaussNoise(var_limit=var_limit, p=1.0)\n",
    "    ])\n",
    "    \n",
    "    augment_image(image_path, label_path, augmentation)\n"
   ]
  },
  {
   "cell_type": "markdown",
   "metadata": {},
   "source": [
    "# Test Parameters"
   ]
  },
  {
   "cell_type": "code",
   "execution_count": null,
   "metadata": {},
   "outputs": [],
   "source": [
    "# parameters for each specfic test"
   ]
  },
  {
   "cell_type": "markdown",
   "metadata": {},
   "source": [
    "# Training"
   ]
  },
  {
   "cell_type": "code",
   "execution_count": null,
   "metadata": {},
   "outputs": [],
   "source": []
  },
  {
   "cell_type": "markdown",
   "metadata": {},
   "source": [
    "# Own Implementation of Object Detection System"
   ]
  },
  {
   "cell_type": "code",
   "execution_count": null,
   "metadata": {},
   "outputs": [],
   "source": []
  }
 ],
 "metadata": {
  "kernelspec": {
   "display_name": "Python 3",
   "language": "python",
   "name": "python3"
  },
  "language_info": {
   "codemirror_mode": {
    "name": "ipython",
    "version": 3
   },
   "file_extension": ".py",
   "mimetype": "text/x-python",
   "name": "python",
   "nbconvert_exporter": "python",
   "pygments_lexer": "ipython3",
   "version": "3.11.8"
  }
 },
 "nbformat": 4,
 "nbformat_minor": 2
}

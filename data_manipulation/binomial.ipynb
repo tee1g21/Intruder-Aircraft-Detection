{
 "cells": [
  {
   "cell_type": "code",
   "execution_count": 2,
   "metadata": {},
   "outputs": [],
   "source": []
  },
  {
   "cell_type": "code",
   "execution_count": 10,
   "metadata": {},
   "outputs": [
    {
     "name": "stdout",
     "output_type": "stream",
     "text": [
      "method1: p-value = 0.4999999999999999\n",
      "method2: p-value = 0.017578125\n",
      "method3: p-value = 0.15087890625\n"
     ]
    }
   ],
   "source": [
    "import numpy as np\n",
    "from scipy.stats import binom\n",
    "\n",
    "# Example data: 15 pure values and 15 augmented values per method\n",
    "# Replace these with your actual data\n",
    "pure_values = {\n",
    "    'method1': np.random.rand(15),\n",
    "    'method2': np.random.rand(15),\n",
    "    'method3': np.random.rand(15)\n",
    "}\n",
    "\n",
    "augmented_values = {\n",
    "    'method1': np.random.rand(15) + 0.1,  # Example: augmented values slightly higher\n",
    "    'method2': np.random.rand(15) + 0.2,\n",
    "    'method3': np.random.rand(15) + 0.05\n",
    "}\n",
    "\n",
    "# Function to perform binomial test for each method\n",
    "def perform_binomial_test(pure, aug):\n",
    "    results = {}\n",
    "    for method in pure:\n",
    "        pure_data = pure[method]\n",
    "        aug_data = aug[method]\n",
    "        \n",
    "        # Calculate the number of times augmented values are greater than pure values\n",
    "        successes = np.sum(aug_data > pure_data)\n",
    "        trials = len(pure_data)\n",
    "        \n",
    "        # Calculate the p-value manually for the one-sided test\n",
    "        # Probability of seeing 'successes' or more successful trials under the null hypothesis\n",
    "        p_value = 1 - binom.cdf(successes - 1, trials, 0.5)  # One-sided test\n",
    "        results[method] = p_value\n",
    "    \n",
    "    return results\n",
    "\n",
    "# Perform the tests\n",
    "results = perform_binomial_test(pure_values, augmented_values)\n",
    "\n",
    "# Print the results\n",
    "for method, p_value in results.items():\n",
    "    print(f\"{method}: p-value = {p_value}\")\n"
   ]
  }
 ],
 "metadata": {
  "kernelspec": {
   "display_name": "tf-cpu",
   "language": "python",
   "name": "python3"
  },
  "language_info": {
   "codemirror_mode": {
    "name": "ipython",
    "version": 3
   },
   "file_extension": ".py",
   "mimetype": "text/x-python",
   "name": "python",
   "nbconvert_exporter": "python",
   "pygments_lexer": "ipython3",
   "version": "3.11.9"
  }
 },
 "nbformat": 4,
 "nbformat_minor": 2
}

{
 "cells": [
  {
   "cell_type": "code",
   "execution_count": 13,
   "metadata": {},
   "outputs": [],
   "source": [
    "import Dataset as ds\n",
    "import config as cfg\n",
    "\n",
    "from sklearn.model_selection import train_test_split\n",
    "import os\n",
    "from tqdm.auto import tqdm"
   ]
  },
  {
   "cell_type": "code",
   "execution_count": 14,
   "metadata": {},
   "outputs": [],
   "source": [
    "# Base paths for the images and labels\n",
    "train_images_path = f'{cfg.BASE_DATASET}/images/train'\n",
    "train_labels_path = f'{cfg.BASE_DATASET}/labels/train'\n",
    "val_images_path = f'{cfg.BASE_DATASET}/images/valid'\n",
    "val_labels_path = f'{cfg.BASE_DATASET}/labels/valid'\n",
    "\n",
    "# Base path for metadata\n",
    "metadata_path = f'{cfg.BASE_DATASET}/metadata.json'\n",
    "\n",
    "# Create the DataFrames for the train and validation sets\n",
    "train_df = ds.create_dataframe(train_images_path, train_labels_path, metadata_path)\n",
    "valid_df = ds.create_dataframe(val_images_path, val_labels_path, metadata_path)"
   ]
  },
  {
   "cell_type": "code",
   "execution_count": 15,
   "metadata": {},
   "outputs": [
    {
     "name": "stdout",
     "output_type": "stream",
     "text": [
      "Removing dataset if pre-existing\n",
      "Copying training files:\n"
     ]
    },
    {
     "data": {
      "application/vnd.jupyter.widget-view+json": {
       "model_id": "a906a226bb734e51a77a8951ed60dac6",
       "version_major": 2,
       "version_minor": 0
      },
      "text/plain": [
       "Copying files:   0%|          | 0/200 [00:00<?, ?it/s]"
      ]
     },
     "metadata": {},
     "output_type": "display_data"
    },
    {
     "name": "stdout",
     "output_type": "stream",
     "text": [
      "Copying validation files:\n"
     ]
    },
    {
     "data": {
      "application/vnd.jupyter.widget-view+json": {
       "model_id": "68a1cb4678554ed29bf9570b4ca60ff5",
       "version_major": 2,
       "version_minor": 0
      },
      "text/plain": [
       "Copying files:   0%|          | 0/40 [00:00<?, ?it/s]"
      ]
     },
     "metadata": {},
     "output_type": "display_data"
    },
    {
     "name": "stdout",
     "output_type": "stream",
     "text": [
      "Dataset 'test100' created at C:/github/Third-Year-Project/Intruder-Aircraft-Detection/datasets/Custom\n"
     ]
    }
   ],
   "source": [
    "dataset_dir = cfg.CLF_DATASET_DIR\n",
    "class_names = cfg.CLF_CLASS_NAMES\n",
    "dataset_name = 'test100'\n",
    "\n",
    "_, test_train_df = train_test_split(\n",
    "    train_df,\n",
    "    test_size=100,  # Number of items you want in your sample\n",
    "    stratify=train_df['ac'],  # Stratify based on the combined column\n",
    "    #random_state=42  # Ensures reproducibility\n",
    ")\n",
    "\n",
    "_, test_val_df = train_test_split(\n",
    "    valid_df,\n",
    "    test_size=20,  # Number of items you want in your sample\n",
    "    stratify=valid_df['ac'],  # Stratify based on the combined column\n",
    "    #random_state=42  # Ensures reproducibility\n",
    ")\n",
    "\n",
    "ds.create_sub_dataset(dataset_name, test_train_df, test_val_df, class_names, dataset_dir)\n"
   ]
  },
  {
   "cell_type": "code",
   "execution_count": 16,
   "metadata": {},
   "outputs": [
    {
     "data": {
      "application/vnd.jupyter.widget-view+json": {
       "model_id": "48343f245c4e46b08ecbeb75e976e564",
       "version_major": 2,
       "version_minor": 0
      },
      "text/plain": [
       "Processing train labels in test100:   0%|          | 0/100 [00:00<?, ?it/s]"
      ]
     },
     "metadata": {},
     "output_type": "display_data"
    },
    {
     "data": {
      "application/vnd.jupyter.widget-view+json": {
       "model_id": "d75de28cf4a84db9a1ba9c84aba835f2",
       "version_major": 2,
       "version_minor": 0
      },
      "text/plain": [
       "Processing valid labels in test100:   0%|          | 0/20 [00:00<?, ?it/s]"
      ]
     },
     "metadata": {},
     "output_type": "display_data"
    },
    {
     "name": "stdout",
     "output_type": "stream",
     "text": [
      "Label correction completed.\n"
     ]
    }
   ],
   "source": [
    "def correct_dataset_labels(dataset_dir, train_df, val_df, class_names):\n",
    "    # Assuming dataset_dir is the root that contains 'labels/train' and 'labels/valid'\n",
    "    train_labels_path = dataset_dir + f'/labels/train'\n",
    "    val_labels_path = dataset_dir + f'/labels/valid'\n",
    "    \n",
    "    # Creating dictionaries to map filenames to new class indices based on class_names\n",
    "    train_label_mapping = {os.path.basename(row['label_path']): class_names.index(row['ac']) for _, row in train_df.iterrows()}\n",
    "    val_label_mapping = {os.path.basename(row['label_path']): class_names.index(row['ac']) for _, row in val_df.iterrows()}\n",
    "\n",
    "    # Function to update the labels in a given directory\n",
    "    def update_labels(labels_path, label_mapping, type):\n",
    "        for label_filename in tqdm(label_mapping, desc=f'Processing {type} labels in {os.path.basename(dataset_dir)}'):\n",
    "            new_class_index = label_mapping[label_filename]\n",
    "            label_file_path = os.path.join(labels_path, label_filename)\n",
    "            if os.path.isfile(label_file_path):\n",
    "                with open(label_file_path, 'r') as file:\n",
    "                    lines = file.readlines()\n",
    "\n",
    "                updated_lines = []\n",
    "                for line in lines:\n",
    "                    parts = line.strip().split()\n",
    "                    if parts:\n",
    "                        parts[0] = str(new_class_index)  # Update the class index\n",
    "                        updated_lines.append(' '.join(parts))\n",
    "                \n",
    "                with open(label_file_path, 'w') as file:\n",
    "                    file.writelines('\\n'.join(updated_lines))\n",
    "            else:\n",
    "                print(f\"File not found: {label_file_path}\")\n",
    "\n",
    "    # Update labels in both train and validation directories using respective mappings\n",
    "    update_labels(train_labels_path, train_label_mapping, 'train')\n",
    "    update_labels(val_labels_path, val_label_mapping, 'valid')\n",
    "\n",
    "    print(\"Label correction completed.\")\n",
    "\n",
    "\n",
    "\n",
    "correct_dataset_labels(f'{dataset_dir}/{dataset_name}', test_train_df, test_val_df, class_names)"
   ]
  }
 ],
 "metadata": {
  "kernelspec": {
   "display_name": "Python (venv)",
   "language": "python",
   "name": "venv"
  },
  "language_info": {
   "codemirror_mode": {
    "name": "ipython",
    "version": 3
   },
   "file_extension": ".py",
   "mimetype": "text/x-python",
   "name": "python",
   "nbconvert_exporter": "python",
   "pygments_lexer": "ipython3",
   "version": "3.11.9"
  }
 },
 "nbformat": 4,
 "nbformat_minor": 2
}

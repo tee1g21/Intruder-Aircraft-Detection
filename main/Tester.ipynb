{
 "cells": [
  {
   "cell_type": "markdown",
   "metadata": {},
   "source": [
    "# ClearML\n",
    "https://app.clear.ml/dashboard"
   ]
  },
  {
   "cell_type": "markdown",
   "metadata": {},
   "source": [
    "# Tensorflow Classifier"
   ]
  },
  {
   "cell_type": "code",
   "execution_count": 1,
   "metadata": {},
   "outputs": [
    {
     "name": "stdout",
     "output_type": "stream",
     "text": [
      "Starting RUN: 5\n",
      "Seed:  1011596795\n",
      "Removing dataset if pre-existing\n",
      "Copying training files:\n"
     ]
    },
    {
     "name": "stderr",
     "output_type": "stream",
     "text": [
      "Copying files: 100%|██████████| 1000/1000 [00:00<00:00, 1531.02it/s]\n"
     ]
    },
    {
     "name": "stdout",
     "output_type": "stream",
     "text": [
      "Copying validation files:\n"
     ]
    },
    {
     "name": "stderr",
     "output_type": "stream",
     "text": [
      "Copying files: 100%|██████████| 200/200 [00:00<00:00, 1659.09it/s]\n"
     ]
    },
    {
     "name": "stdout",
     "output_type": "stream",
     "text": [
      "Dataset 'test500' created at C:\\github\\Third-Year-Project\\Intruder-Aircraft-Detection\\datasets\\Custom\\test500\n"
     ]
    },
    {
     "name": "stderr",
     "output_type": "stream",
     "text": [
      "Processing images:  71%|███████   | 353/500 [00:12<00:04, 35.08it/s]"
     ]
    },
    {
     "name": "stdout",
     "output_type": "stream",
     "text": [
      "An error occurred with C:/github/Third-Year-Project/Intruder-Aircraft-Detection/datasets/Custom/test500\\images\\train\\55392.jpg: Expected y_max for bbox (0.07948350000000001, 0.8262404999999999, 0.3677405, 1.0184115, 0) to be in the range [0.0, 1.0], got 1.0184115.\n"
     ]
    },
    {
     "name": "stderr",
     "output_type": "stream",
     "text": [
      "Processing images:  80%|███████▉  | 398/500 [00:13<00:02, 35.18it/s]"
     ]
    },
    {
     "name": "stdout",
     "output_type": "stream",
     "text": [
      "An error occurred with C:/github/Third-Year-Project/Intruder-Aircraft-Detection/datasets/Custom/test500\\images\\train\\61359.jpg: Expected x_max for bbox (0.22889949999999998, 0.43721849999999995, 1.1695805, 1.0643395, 0) to be in the range [0.0, 1.0], got 1.1695805.\n"
     ]
    },
    {
     "name": "stderr",
     "output_type": "stream",
     "text": [
      "Processing images:  84%|████████▍ | 419/500 [00:13<00:02, 35.52it/s]"
     ]
    },
    {
     "name": "stdout",
     "output_type": "stream",
     "text": [
      "An error occurred with C:/github/Third-Year-Project/Intruder-Aircraft-Detection/datasets/Custom/test500\\images\\train\\64043.jpg: Expected x_max for bbox (0.409412, 0.25416, 1.111106, 0.721956, 0) to be in the range [0.0, 1.0], got 1.111106.\n"
     ]
    },
    {
     "name": "stderr",
     "output_type": "stream",
     "text": [
      "Processing images: 100%|██████████| 500/500 [00:16<00:00, 30.33it/s]\n",
      "Processing images: 100%|██████████| 100/100 [00:03<00:00, 29.99it/s]\n"
     ]
    },
    {
     "name": "stdout",
     "output_type": "stream",
     "text": [
      "Processing train labels in test500:\n"
     ]
    },
    {
     "name": "stderr",
     "output_type": "stream",
     "text": [
      "Processing labels:  37%|███▋      | 184/500 [00:00<00:01, 255.75it/s]"
     ]
    },
    {
     "name": "stdout",
     "output_type": "stream",
     "text": [
      "File not found: C:/github/Third-Year-Project/Intruder-Aircraft-Detection/datasets/Custom/test500/labels/train\\61359.txt\n"
     ]
    },
    {
     "name": "stderr",
     "output_type": "stream",
     "text": [
      "Processing labels:  48%|████▊     | 238/500 [00:00<00:01, 260.84it/s]"
     ]
    },
    {
     "name": "stdout",
     "output_type": "stream",
     "text": [
      "File not found: C:/github/Third-Year-Project/Intruder-Aircraft-Detection/datasets/Custom/test500/labels/train\\55392.txt\n"
     ]
    },
    {
     "name": "stderr",
     "output_type": "stream",
     "text": [
      "Processing labels:  90%|█████████ | 451/500 [00:01<00:00, 261.73it/s]"
     ]
    },
    {
     "name": "stdout",
     "output_type": "stream",
     "text": [
      "File not found: C:/github/Third-Year-Project/Intruder-Aircraft-Detection/datasets/Custom/test500/labels/train\\64043.txt\n"
     ]
    },
    {
     "name": "stderr",
     "output_type": "stream",
     "text": [
      "Processing labels: 100%|██████████| 500/500 [00:01<00:00, 257.68it/s]\n"
     ]
    },
    {
     "name": "stdout",
     "output_type": "stream",
     "text": [
      "Processing valid labels in test500:\n"
     ]
    },
    {
     "name": "stderr",
     "output_type": "stream",
     "text": [
      "Processing labels: 100%|██████████| 100/100 [00:00<00:00, 261.38it/s]\n"
     ]
    },
    {
     "name": "stdout",
     "output_type": "stream",
     "text": [
      "Label correction completed.\n"
     ]
    },
    {
     "name": "stderr",
     "output_type": "stream",
     "text": [
      "Removing existing directories/files: 100%|██████████| 3/3 [00:00<00:00, 5940.94it/s]\n",
      "Copying files: 100%|██████████| 497/497 [00:00<00:00, 1126.62it/s]\n",
      "Copying files: 100%|██████████| 497/497 [00:00<00:00, 1333.76it/s]\n",
      "Applying augmentations: 100%|██████████| 248/248 [00:02<00:00, 110.62it/s]\n",
      "Moving images in train: 100%|██████████| 497/497 [00:00<00:00, 2036.39it/s]\n",
      "Moving images in train-aug: 100%|██████████| 745/745 [00:01<00:00, 413.63it/s]\n",
      "Moving images in valid: 100%|██████████| 100/100 [00:00<00:00, 247.77it/s]\n"
     ]
    },
    {
     "name": "stdout",
     "output_type": "stream",
     "text": [
      "Found 497 files belonging to 3 classes.\n",
      "Found 745 files belonging to 3 classes.\n",
      "Found 100 files belonging to 3 classes.\n",
      "ClearML Task: created new task id=85a3474c1e3b4e4aa4f6901f1a3d7098\n",
      "ClearML results page: https://app.clear.ml/projects/0bd425a430484dd5aa3b45a379c6dd67/experiments/85a3474c1e3b4e4aa4f6901f1a3d7098/output/log\n",
      "Training model...\n",
      "Epoch 1/30\n",
      "\u001b[1m16/16\u001b[0m \u001b[32m━━━━━━━━━━━━━━━━━━━━\u001b[0m\u001b[37m\u001b[0m \u001b[1m6s\u001b[0m 246ms/step - accuracy: 0.3012 - loss: 2.6300 - precision: 0.3314 - recall: 0.1260 - val_accuracy: 0.3400 - val_loss: 1.0984 - val_precision: 0.0000e+00 - val_recall: 0.0000e+00\n",
      "Epoch 2/30\n",
      "\u001b[1m16/16\u001b[0m \u001b[32m━━━━━━━━━━━━━━━━━━━━\u001b[0m\u001b[37m\u001b[0m \u001b[1m4s\u001b[0m 217ms/step - accuracy: 0.3641 - loss: 1.0984 - precision: 0.0000e+00 - recall: 0.0000e+00 - val_accuracy: 0.3300 - val_loss: 1.0984 - val_precision: 0.0000e+00 - val_recall: 0.0000e+00\n",
      "Epoch 3/30\n",
      "\u001b[1m16/16\u001b[0m \u001b[32m━━━━━━━━━━━━━━━━━━━━\u001b[0m\u001b[37m\u001b[0m \u001b[1m4s\u001b[0m 219ms/step - accuracy: 0.3200 - loss: 1.0989 - precision: 0.0000e+00 - recall: 0.0000e+00 - val_accuracy: 0.3400 - val_loss: 1.0984 - val_precision: 0.0000e+00 - val_recall: 0.0000e+00\n",
      "Epoch 4/30\n",
      "\u001b[1m16/16\u001b[0m \u001b[32m━━━━━━━━━━━━━━━━━━━━\u001b[0m\u001b[37m\u001b[0m \u001b[1m4s\u001b[0m 214ms/step - accuracy: 0.3464 - loss: 1.0983 - precision: 0.0000e+00 - recall: 0.0000e+00 - val_accuracy: 0.3300 - val_loss: 1.0984 - val_precision: 0.0000e+00 - val_recall: 0.0000e+00\n",
      "Epoch 5/30\n",
      "\u001b[1m16/16\u001b[0m \u001b[32m━━━━━━━━━━━━━━━━━━━━\u001b[0m\u001b[37m\u001b[0m \u001b[1m4s\u001b[0m 214ms/step - accuracy: 0.3568 - loss: 1.0970 - precision: 0.1745 - recall: 0.0039 - val_accuracy: 0.3500 - val_loss: 1.1200 - val_precision: 0.3333 - val_recall: 0.0400\n",
      "Epoch 6/30\n",
      "\u001b[1m16/16\u001b[0m \u001b[32m━━━━━━━━━━━━━━━━━━━━\u001b[0m\u001b[37m\u001b[0m \u001b[1m4s\u001b[0m 215ms/step - accuracy: 0.4400 - loss: 1.0880 - precision: 0.4813 - recall: 0.0277 - val_accuracy: 0.4300 - val_loss: 1.0914 - val_precision: 1.0000 - val_recall: 0.0100\n",
      "Epoch 7/30\n",
      "\u001b[1m16/16\u001b[0m \u001b[32m━━━━━━━━━━━━━━━━━━━━\u001b[0m\u001b[37m\u001b[0m \u001b[1m4s\u001b[0m 216ms/step - accuracy: 0.4227 - loss: 1.0894 - precision: 0.7253 - recall: 0.0117 - val_accuracy: 0.4400 - val_loss: 1.0992 - val_precision: 0.5000 - val_recall: 0.0200\n",
      "Epoch 8/30\n",
      "\u001b[1m16/16\u001b[0m \u001b[32m━━━━━━━━━━━━━━━━━━━━\u001b[0m\u001b[37m\u001b[0m \u001b[1m4s\u001b[0m 219ms/step - accuracy: 0.4675 - loss: 1.0788 - precision: 0.7535 - recall: 0.0224 - val_accuracy: 0.5400 - val_loss: 1.1236 - val_precision: 0.3333 - val_recall: 0.0200\n",
      "Epoch 9/30\n",
      "\u001b[1m16/16\u001b[0m \u001b[32m━━━━━━━━━━━━━━━━━━━━\u001b[0m\u001b[37m\u001b[0m \u001b[1m4s\u001b[0m 215ms/step - accuracy: 0.5298 - loss: 1.0359 - precision: 0.6154 - recall: 0.0383 - val_accuracy: 0.5300 - val_loss: 1.2625 - val_precision: 0.3077 - val_recall: 0.0400\n",
      "Epoch 10/30\n",
      "\u001b[1m16/16\u001b[0m \u001b[32m━━━━━━━━━━━━━━━━━━━━\u001b[0m\u001b[37m\u001b[0m \u001b[1m4s\u001b[0m 216ms/step - accuracy: 0.5423 - loss: 1.0254 - precision: 0.6536 - recall: 0.0951 - val_accuracy: 0.3300 - val_loss: 1.0917 - val_precision: 0.3333 - val_recall: 0.0100\n",
      "Epoch 11/30\n",
      "\u001b[1m16/16\u001b[0m \u001b[32m━━━━━━━━━━━━━━━━━━━━\u001b[0m\u001b[37m\u001b[0m \u001b[1m4s\u001b[0m 223ms/step - accuracy: 0.4059 - loss: 1.0854 - precision: 0.6961 - recall: 0.0061 - val_accuracy: 0.4800 - val_loss: 1.0971 - val_precision: 0.3333 - val_recall: 0.0100\n",
      "Epoch 12/30\n",
      "\u001b[1m16/16\u001b[0m \u001b[32m━━━━━━━━━━━━━━━━━━━━\u001b[0m\u001b[37m\u001b[0m \u001b[1m4s\u001b[0m 234ms/step - accuracy: 0.4472 - loss: 1.0589 - precision: 0.7857 - recall: 0.0339 - val_accuracy: 0.5500 - val_loss: 1.0162 - val_precision: 0.5000 - val_recall: 0.0900\n",
      "Epoch 13/30\n",
      "\u001b[1m16/16\u001b[0m \u001b[32m━━━━━━━━━━━━━━━━━━━━\u001b[0m\u001b[37m\u001b[0m \u001b[1m4s\u001b[0m 214ms/step - accuracy: 0.5687 - loss: 0.9538 - precision: 0.7528 - recall: 0.2024 - val_accuracy: 0.5600 - val_loss: 1.0477 - val_precision: 0.6944 - val_recall: 0.2500\n",
      "Epoch 14/30\n",
      "\u001b[1m16/16\u001b[0m \u001b[32m━━━━━━━━━━━━━━━━━━━━\u001b[0m\u001b[37m\u001b[0m \u001b[1m4s\u001b[0m 211ms/step - accuracy: 0.5755 - loss: 0.8990 - precision: 0.7470 - recall: 0.3675 - val_accuracy: 0.5700 - val_loss: 1.1401 - val_precision: 0.6429 - val_recall: 0.2700\n",
      "Epoch 15/30\n",
      "\u001b[1m16/16\u001b[0m \u001b[32m━━━━━━━━━━━━━━━━━━━━\u001b[0m\u001b[37m\u001b[0m \u001b[1m4s\u001b[0m 216ms/step - accuracy: 0.6439 - loss: 0.8116 - precision: 0.8615 - recall: 0.4330 - val_accuracy: 0.6100 - val_loss: 1.2071 - val_precision: 0.6441 - val_recall: 0.3800\n",
      "Epoch 16/30\n",
      "\u001b[1m16/16\u001b[0m \u001b[32m━━━━━━━━━━━━━━━━━━━━\u001b[0m\u001b[37m\u001b[0m \u001b[1m4s\u001b[0m 217ms/step - accuracy: 0.6772 - loss: 0.7702 - precision: 0.7716 - recall: 0.4468 - val_accuracy: 0.5900 - val_loss: 1.1554 - val_precision: 0.6582 - val_recall: 0.5200\n",
      "Epoch 17/30\n",
      "\u001b[1m16/16\u001b[0m \u001b[32m━━━━━━━━━━━━━━━━━━━━\u001b[0m\u001b[37m\u001b[0m \u001b[1m4s\u001b[0m 214ms/step - accuracy: 0.7205 - loss: 0.6505 - precision: 0.8294 - recall: 0.5880 - val_accuracy: 0.6400 - val_loss: 1.0464 - val_precision: 0.7037 - val_recall: 0.5700\n",
      "Epoch 18/30\n",
      "\u001b[1m16/16\u001b[0m \u001b[32m━━━━━━━━━━━━━━━━━━━━\u001b[0m\u001b[37m\u001b[0m \u001b[1m4s\u001b[0m 216ms/step - accuracy: 0.8025 - loss: 0.5029 - precision: 0.8479 - recall: 0.7020 - val_accuracy: 0.7100 - val_loss: 1.0554 - val_precision: 0.7342 - val_recall: 0.5800\n",
      "Epoch 19/30\n",
      "\u001b[1m16/16\u001b[0m \u001b[32m━━━━━━━━━━━━━━━━━━━━\u001b[0m\u001b[37m\u001b[0m \u001b[1m4s\u001b[0m 215ms/step - accuracy: 0.7867 - loss: 0.5115 - precision: 0.8295 - recall: 0.7204 - val_accuracy: 0.6900 - val_loss: 1.0279 - val_precision: 0.7108 - val_recall: 0.5900\n",
      "Epoch 20/30\n",
      "\u001b[1m16/16\u001b[0m \u001b[32m━━━━━━━━━━━━━━━━━━━━\u001b[0m\u001b[37m\u001b[0m \u001b[1m4s\u001b[0m 214ms/step - accuracy: 0.8040 - loss: 0.4814 - precision: 0.8463 - recall: 0.7217 - val_accuracy: 0.6900 - val_loss: 1.2144 - val_precision: 0.7033 - val_recall: 0.6400\n",
      "Epoch 21/30\n",
      "\u001b[1m16/16\u001b[0m \u001b[32m━━━━━━━━━━━━━━━━━━━━\u001b[0m\u001b[37m\u001b[0m \u001b[1m4s\u001b[0m 220ms/step - accuracy: 0.8555 - loss: 0.4284 - precision: 0.8994 - recall: 0.8090 - val_accuracy: 0.7200 - val_loss: 1.1910 - val_precision: 0.7439 - val_recall: 0.6100\n",
      "Epoch 22/30\n",
      "\u001b[1m16/16\u001b[0m \u001b[32m━━━━━━━━━━━━━━━━━━━━\u001b[0m\u001b[37m\u001b[0m \u001b[1m4s\u001b[0m 215ms/step - accuracy: 0.8370 - loss: 0.4097 - precision: 0.8799 - recall: 0.8024 - val_accuracy: 0.7100 - val_loss: 1.4597 - val_precision: 0.7093 - val_recall: 0.6100\n",
      "Epoch 23/30\n",
      "\u001b[1m16/16\u001b[0m \u001b[32m━━━━━━━━━━━━━━━━━━━━\u001b[0m\u001b[37m\u001b[0m \u001b[1m4s\u001b[0m 215ms/step - accuracy: 0.8503 - loss: 0.3784 - precision: 0.8738 - recall: 0.8266 - val_accuracy: 0.7200 - val_loss: 1.3287 - val_precision: 0.7471 - val_recall: 0.6500\n",
      "Epoch 24/30\n",
      "\u001b[1m16/16\u001b[0m \u001b[32m━━━━━━━━━━━━━━━━━━━━\u001b[0m\u001b[37m\u001b[0m \u001b[1m4s\u001b[0m 214ms/step - accuracy: 0.8579 - loss: 0.3630 - precision: 0.8841 - recall: 0.8078 - val_accuracy: 0.7200 - val_loss: 1.6703 - val_precision: 0.7033 - val_recall: 0.6400\n",
      "Epoch 25/30\n",
      "\u001b[1m16/16\u001b[0m \u001b[32m━━━━━━━━━━━━━━━━━━━━\u001b[0m\u001b[37m\u001b[0m \u001b[1m4s\u001b[0m 213ms/step - accuracy: 0.8280 - loss: 0.3613 - precision: 0.8562 - recall: 0.8039 - val_accuracy: 0.6900 - val_loss: 2.2204 - val_precision: 0.6774 - val_recall: 0.6300\n",
      "Epoch 26/30\n",
      "\u001b[1m16/16\u001b[0m \u001b[32m━━━━━━━━━━━━━━━━━━━━\u001b[0m\u001b[37m\u001b[0m \u001b[1m4s\u001b[0m 218ms/step - accuracy: 0.8704 - loss: 0.3482 - precision: 0.8726 - recall: 0.8330 - val_accuracy: 0.7100 - val_loss: 1.3612 - val_precision: 0.7253 - val_recall: 0.6600\n",
      "Epoch 27/30\n",
      "\u001b[1m16/16\u001b[0m \u001b[32m━━━━━━━━━━━━━━━━━━━━\u001b[0m\u001b[37m\u001b[0m \u001b[1m4s\u001b[0m 213ms/step - accuracy: 0.8730 - loss: 0.3634 - precision: 0.8976 - recall: 0.8247 - val_accuracy: 0.7400 - val_loss: 1.6497 - val_precision: 0.7374 - val_recall: 0.7300\n",
      "Epoch 28/30\n",
      "\u001b[1m16/16\u001b[0m \u001b[32m━━━━━━━━━━━━━━━━━━━━\u001b[0m\u001b[37m\u001b[0m \u001b[1m4s\u001b[0m 213ms/step - accuracy: 0.8826 - loss: 0.2994 - precision: 0.9052 - recall: 0.8587 - val_accuracy: 0.6900 - val_loss: 1.6762 - val_precision: 0.6915 - val_recall: 0.6500\n",
      "Epoch 29/30\n",
      "\u001b[1m16/16\u001b[0m \u001b[32m━━━━━━━━━━━━━━━━━━━━\u001b[0m\u001b[37m\u001b[0m \u001b[1m4s\u001b[0m 215ms/step - accuracy: 0.8498 - loss: 0.3133 - precision: 0.8721 - recall: 0.8408 - val_accuracy: 0.6800 - val_loss: 1.6495 - val_precision: 0.7021 - val_recall: 0.6600\n",
      "Epoch 30/30\n",
      "\u001b[1m16/16\u001b[0m \u001b[32m━━━━━━━━━━━━━━━━━━━━\u001b[0m\u001b[37m\u001b[0m \u001b[1m4s\u001b[0m 213ms/step - accuracy: 0.8999 - loss: 0.2622 - precision: 0.9184 - recall: 0.8520 - val_accuracy: 0.6500 - val_loss: 1.3091 - val_precision: 0.6883 - val_recall: 0.5300\n",
      "Predicting on validation set...\n",
      "\u001b[1m4/4\u001b[0m \u001b[32m━━━━━━━━━━━━━━━━━━━━\u001b[0m\u001b[37m\u001b[0m \u001b[1m0s\u001b[0m 53ms/step\n",
      "Sending metrics to clearML...\n",
      "done\n",
      "ClearML Task: created new task id=654e0a59b6054888a2887c58ec5e88d3\n",
      "ClearML results page: https://app.clear.ml/projects/0bd425a430484dd5aa3b45a379c6dd67/experiments/654e0a59b6054888a2887c58ec5e88d3/output/log\n",
      "Training model...\n",
      "Epoch 1/30\n",
      "\u001b[1m24/24\u001b[0m \u001b[32m━━━━━━━━━━━━━━━━━━━━\u001b[0m\u001b[37m\u001b[0m \u001b[1m8s\u001b[0m 239ms/step - accuracy: 0.3470 - loss: 2.3295 - precision: 0.3136 - recall: 0.1365 - val_accuracy: 0.3700 - val_loss: 1.0986 - val_precision: 0.0000e+00 - val_recall: 0.0000e+00\n",
      "Epoch 2/30\n",
      "\u001b[1m24/24\u001b[0m \u001b[32m━━━━━━━━━━━━━━━━━━━━\u001b[0m\u001b[37m\u001b[0m \u001b[1m6s\u001b[0m 217ms/step - accuracy: 0.3329 - loss: 1.0988 - precision: 0.0000e+00 - recall: 0.0000e+00 - val_accuracy: 0.3300 - val_loss: 1.1060 - val_precision: 0.0000e+00 - val_recall: 0.0000e+00\n",
      "Epoch 3/30\n",
      "\u001b[1m24/24\u001b[0m \u001b[32m━━━━━━━━━━━━━━━━━━━━\u001b[0m\u001b[37m\u001b[0m \u001b[1m5s\u001b[0m 212ms/step - accuracy: 0.3269 - loss: 1.1004 - precision: 0.0114 - recall: 1.0738e-04 - val_accuracy: 0.3300 - val_loss: 1.1166 - val_precision: 0.0000e+00 - val_recall: 0.0000e+00\n",
      "Epoch 4/30\n",
      "\u001b[1m24/24\u001b[0m \u001b[32m━━━━━━━━━━━━━━━━━━━━\u001b[0m\u001b[37m\u001b[0m \u001b[1m5s\u001b[0m 211ms/step - accuracy: 0.3272 - loss: 1.1007 - precision: 0.0000e+00 - recall: 0.0000e+00 - val_accuracy: 0.3900 - val_loss: 1.0992 - val_precision: 0.5000 - val_recall: 0.0100\n",
      "Epoch 5/30\n",
      "\u001b[1m24/24\u001b[0m \u001b[32m━━━━━━━━━━━━━━━━━━━━\u001b[0m\u001b[37m\u001b[0m \u001b[1m5s\u001b[0m 214ms/step - accuracy: 0.3608 - loss: 1.0969 - precision: 0.8000 - recall: 0.0039 - val_accuracy: 0.3300 - val_loss: 1.1431 - val_precision: 0.3333 - val_recall: 0.0100\n",
      "Epoch 6/30\n",
      "\u001b[1m24/24\u001b[0m \u001b[32m━━━━━━━━━━━━━━━━━━━━\u001b[0m\u001b[37m\u001b[0m \u001b[1m5s\u001b[0m 215ms/step - accuracy: 0.3347 - loss: 1.0954 - precision: 0.4967 - recall: 0.0028 - val_accuracy: 0.3300 - val_loss: 1.1826 - val_precision: 0.3333 - val_recall: 0.0100\n",
      "Epoch 7/30\n",
      "\u001b[1m24/24\u001b[0m \u001b[32m━━━━━━━━━━━━━━━━━━━━\u001b[0m\u001b[37m\u001b[0m \u001b[1m5s\u001b[0m 213ms/step - accuracy: 0.3610 - loss: 1.0945 - precision: 0.6800 - recall: 0.0029 - val_accuracy: 0.3200 - val_loss: 1.2538 - val_precision: 0.3333 - val_recall: 0.0100\n",
      "Epoch 8/30\n",
      "\u001b[1m24/24\u001b[0m \u001b[32m━━━━━━━━━━━━━━━━━━━━\u001b[0m\u001b[37m\u001b[0m \u001b[1m6s\u001b[0m 221ms/step - accuracy: 0.4060 - loss: 1.0696 - precision: 0.7712 - recall: 0.0181 - val_accuracy: 0.4300 - val_loss: 1.0884 - val_precision: 0.4000 - val_recall: 0.0200\n",
      "Epoch 9/30\n",
      "\u001b[1m24/24\u001b[0m \u001b[32m━━━━━━━━━━━━━━━━━━━━\u001b[0m\u001b[37m\u001b[0m \u001b[1m6s\u001b[0m 221ms/step - accuracy: 0.4907 - loss: 1.0519 - precision: 0.7199 - recall: 0.0575 - val_accuracy: 0.4900 - val_loss: 1.1454 - val_precision: 0.6667 - val_recall: 0.1000\n",
      "Epoch 10/30\n",
      "\u001b[1m24/24\u001b[0m \u001b[32m━━━━━━━━━━━━━━━━━━━━\u001b[0m\u001b[37m\u001b[0m \u001b[1m5s\u001b[0m 215ms/step - accuracy: 0.4810 - loss: 0.9891 - precision: 0.7687 - recall: 0.1433 - val_accuracy: 0.5700 - val_loss: 1.1746 - val_precision: 0.5926 - val_recall: 0.3200\n",
      "Epoch 11/30\n",
      "\u001b[1m24/24\u001b[0m \u001b[32m━━━━━━━━━━━━━━━━━━━━\u001b[0m\u001b[37m\u001b[0m \u001b[1m5s\u001b[0m 215ms/step - accuracy: 0.5424 - loss: 0.9293 - precision: 0.6893 - recall: 0.3030 - val_accuracy: 0.6000 - val_loss: 1.0755 - val_precision: 0.7143 - val_recall: 0.5000\n",
      "Epoch 12/30\n",
      "\u001b[1m24/24\u001b[0m \u001b[32m━━━━━━━━━━━━━━━━━━━━\u001b[0m\u001b[37m\u001b[0m \u001b[1m5s\u001b[0m 211ms/step - accuracy: 0.6296 - loss: 0.8485 - precision: 0.7625 - recall: 0.4101 - val_accuracy: 0.5700 - val_loss: 1.1154 - val_precision: 0.6071 - val_recall: 0.5100\n",
      "Epoch 13/30\n",
      "\u001b[1m24/24\u001b[0m \u001b[32m━━━━━━━━━━━━━━━━━━━━\u001b[0m\u001b[37m\u001b[0m \u001b[1m6s\u001b[0m 219ms/step - accuracy: 0.6377 - loss: 0.8347 - precision: 0.6906 - recall: 0.5456 - val_accuracy: 0.6200 - val_loss: 0.9549 - val_precision: 0.6933 - val_recall: 0.5200\n",
      "Epoch 14/30\n",
      "\u001b[1m24/24\u001b[0m \u001b[32m━━━━━━━━━━━━━━━━━━━━\u001b[0m\u001b[37m\u001b[0m \u001b[1m5s\u001b[0m 213ms/step - accuracy: 0.7336 - loss: 0.6281 - precision: 0.8217 - recall: 0.6186 - val_accuracy: 0.7200 - val_loss: 0.9121 - val_precision: 0.7714 - val_recall: 0.5400\n",
      "Epoch 15/30\n",
      "\u001b[1m24/24\u001b[0m \u001b[32m━━━━━━━━━━━━━━━━━━━━\u001b[0m\u001b[37m\u001b[0m \u001b[1m5s\u001b[0m 214ms/step - accuracy: 0.7709 - loss: 0.6076 - precision: 0.8330 - recall: 0.6976 - val_accuracy: 0.7000 - val_loss: 1.2784 - val_precision: 0.7159 - val_recall: 0.6300\n",
      "Epoch 16/30\n",
      "\u001b[1m24/24\u001b[0m \u001b[32m━━━━━━━━━━━━━━━━━━━━\u001b[0m\u001b[37m\u001b[0m \u001b[1m5s\u001b[0m 211ms/step - accuracy: 0.7914 - loss: 0.5368 - precision: 0.8285 - recall: 0.7533 - val_accuracy: 0.6900 - val_loss: 1.1952 - val_precision: 0.7027 - val_recall: 0.5200\n",
      "Epoch 17/30\n",
      "\u001b[1m24/24\u001b[0m \u001b[32m━━━━━━━━━━━━━━━━━━━━\u001b[0m\u001b[37m\u001b[0m \u001b[1m5s\u001b[0m 215ms/step - accuracy: 0.7901 - loss: 0.4820 - precision: 0.8351 - recall: 0.7334 - val_accuracy: 0.7400 - val_loss: 1.4996 - val_precision: 0.7160 - val_recall: 0.5800\n",
      "Epoch 18/30\n",
      "\u001b[1m24/24\u001b[0m \u001b[32m━━━━━━━━━━━━━━━━━━━━\u001b[0m\u001b[37m\u001b[0m \u001b[1m5s\u001b[0m 216ms/step - accuracy: 0.8191 - loss: 0.4156 - precision: 0.8582 - recall: 0.7749 - val_accuracy: 0.7100 - val_loss: 1.6513 - val_precision: 0.7312 - val_recall: 0.6800\n",
      "Epoch 19/30\n",
      "\u001b[1m24/24\u001b[0m \u001b[32m━━━━━━━━━━━━━━━━━━━━\u001b[0m\u001b[37m\u001b[0m \u001b[1m5s\u001b[0m 210ms/step - accuracy: 0.8033 - loss: 0.5491 - precision: 0.8553 - recall: 0.7049 - val_accuracy: 0.6200 - val_loss: 1.3412 - val_precision: 0.6716 - val_recall: 0.4500\n",
      "Epoch 20/30\n",
      "\u001b[1m24/24\u001b[0m \u001b[32m━━━━━━━━━━━━━━━━━━━━\u001b[0m\u001b[37m\u001b[0m \u001b[1m5s\u001b[0m 212ms/step - accuracy: 0.8068 - loss: 0.4927 - precision: 0.8476 - recall: 0.7542 - val_accuracy: 0.7100 - val_loss: 1.6050 - val_precision: 0.7172 - val_recall: 0.7100\n",
      "Epoch 21/30\n",
      "\u001b[1m24/24\u001b[0m \u001b[32m━━━━━━━━━━━━━━━━━━━━\u001b[0m\u001b[37m\u001b[0m \u001b[1m5s\u001b[0m 215ms/step - accuracy: 0.8201 - loss: 0.5048 - precision: 0.8495 - recall: 0.7846 - val_accuracy: 0.6800 - val_loss: 1.5060 - val_precision: 0.7045 - val_recall: 0.6200\n",
      "Epoch 22/30\n",
      "\u001b[1m24/24\u001b[0m \u001b[32m━━━━━━━━━━━━━━━━━━━━\u001b[0m\u001b[37m\u001b[0m \u001b[1m5s\u001b[0m 216ms/step - accuracy: 0.7908 - loss: 0.5398 - precision: 0.8325 - recall: 0.6971 - val_accuracy: 0.6800 - val_loss: 1.7416 - val_precision: 0.7111 - val_recall: 0.6400\n",
      "Epoch 23/30\n",
      "\u001b[1m24/24\u001b[0m \u001b[32m━━━━━━━━━━━━━━━━━━━━\u001b[0m\u001b[37m\u001b[0m \u001b[1m5s\u001b[0m 214ms/step - accuracy: 0.8479 - loss: 0.3700 - precision: 0.8808 - recall: 0.8154 - val_accuracy: 0.7000 - val_loss: 1.6985 - val_precision: 0.7053 - val_recall: 0.6700\n",
      "Epoch 24/30\n",
      "\u001b[1m24/24\u001b[0m \u001b[32m━━━━━━━━━━━━━━━━━━━━\u001b[0m\u001b[37m\u001b[0m \u001b[1m5s\u001b[0m 213ms/step - accuracy: 0.8679 - loss: 0.3648 - precision: 0.9066 - recall: 0.8498 - val_accuracy: 0.7200 - val_loss: 2.0383 - val_precision: 0.7172 - val_recall: 0.7100\n",
      "Epoch 25/30\n",
      "\u001b[1m24/24\u001b[0m \u001b[32m━━━━━━━━━━━━━━━━━━━━\u001b[0m\u001b[37m\u001b[0m \u001b[1m5s\u001b[0m 214ms/step - accuracy: 0.9018 - loss: 0.2541 - precision: 0.9253 - recall: 0.8929 - val_accuracy: 0.7200 - val_loss: 2.2834 - val_precision: 0.7320 - val_recall: 0.7100\n",
      "Epoch 26/30\n",
      "\u001b[1m24/24\u001b[0m \u001b[32m━━━━━━━━━━━━━━━━━━━━\u001b[0m\u001b[37m\u001b[0m \u001b[1m5s\u001b[0m 214ms/step - accuracy: 0.8963 - loss: 0.2931 - precision: 0.9153 - recall: 0.8895 - val_accuracy: 0.7200 - val_loss: 1.6026 - val_precision: 0.7396 - val_recall: 0.7100\n",
      "Epoch 27/30\n",
      "\u001b[1m24/24\u001b[0m \u001b[32m━━━━━━━━━━━━━━━━━━━━\u001b[0m\u001b[37m\u001b[0m \u001b[1m5s\u001b[0m 212ms/step - accuracy: 0.9227 - loss: 0.2271 - precision: 0.9401 - recall: 0.8987 - val_accuracy: 0.7400 - val_loss: 3.4247 - val_precision: 0.7604 - val_recall: 0.7300\n",
      "Epoch 28/30\n",
      "\u001b[1m24/24\u001b[0m \u001b[32m━━━━━━━━━━━━━━━━━━━━\u001b[0m\u001b[37m\u001b[0m \u001b[1m6s\u001b[0m 219ms/step - accuracy: 0.9029 - loss: 0.2868 - precision: 0.9137 - recall: 0.8906 - val_accuracy: 0.7800 - val_loss: 1.3234 - val_precision: 0.7732 - val_recall: 0.7500\n",
      "Epoch 29/30\n",
      "\u001b[1m24/24\u001b[0m \u001b[32m━━━━━━━━━━━━━━━━━━━━\u001b[0m\u001b[37m\u001b[0m \u001b[1m5s\u001b[0m 214ms/step - accuracy: 0.9037 - loss: 0.2523 - precision: 0.9250 - recall: 0.8861 - val_accuracy: 0.7600 - val_loss: 1.4660 - val_precision: 0.7653 - val_recall: 0.7500\n",
      "Epoch 30/30\n",
      "\u001b[1m24/24\u001b[0m \u001b[32m━━━━━━━━━━━━━━━━━━━━\u001b[0m\u001b[37m\u001b[0m \u001b[1m6s\u001b[0m 219ms/step - accuracy: 0.8972 - loss: 0.2529 - precision: 0.9165 - recall: 0.8855 - val_accuracy: 0.7600 - val_loss: 1.4426 - val_precision: 0.7551 - val_recall: 0.7400\n",
      "Predicting on validation set...\n",
      "\u001b[1m4/4\u001b[0m \u001b[32m━━━━━━━━━━━━━━━━━━━━\u001b[0m\u001b[37m\u001b[0m \u001b[1m0s\u001b[0m 57ms/step\n",
      "Sending metrics to clearML...\n",
      "done\n"
     ]
    },
    {
     "ename": "",
     "evalue": "",
     "output_type": "error",
     "traceback": [
      "\u001b[1;31mThe Kernel crashed while executing code in the current cell or a previous cell. \n",
      "\u001b[1;31mPlease review the code in the cell(s) to identify a possible cause of the failure. \n",
      "\u001b[1;31mClick <a href='https://aka.ms/vscodeJupyterKernelCrash'>here</a> for more info. \n",
      "\u001b[1;31mView Jupyter <a href='command:jupyter.viewOutput'>log</a> for further details."
     ]
    }
   ],
   "source": [
    "from IPython.display import clear_output \n",
    "import gc\n",
    "import os\n",
    "\n",
    "N = 5  # Number of runs\n",
    "\n",
    "for i in range(N):\n",
    "    RUN = i + 1\n",
    "    try:\n",
    "        print(f\"Starting RUN: {RUN}\")\n",
    "        %run tl_clf.py $RUN\n",
    "    except Exception as e:\n",
    "        print(f\"Error in RUN: {RUN}\")\n",
    "        print(e)\n",
    "    finally:\n",
    "        clear_output(wait=True)  # Clear the output to avoid scrolling\n",
    "        gc.collect()  # Collect garbage to avoid memory leaks\n",
    "\n",
    "os._exit(00)  # Exit the kernel"
   ]
  },
  {
   "cell_type": "markdown",
   "metadata": {},
   "source": [
    "# YOLOv8 Object Detection"
   ]
  },
  {
   "cell_type": "code",
   "execution_count": null,
   "metadata": {},
   "outputs": [],
   "source": [
    "import os \n",
    "\n",
    "os._exit(00)  # Exit the kernel"
   ]
  }
 ],
 "metadata": {
  "kernelspec": {
   "display_name": "tf-cpu",
   "language": "python",
   "name": "python3"
  },
  "language_info": {
   "codemirror_mode": {
    "name": "ipython",
    "version": 3
   },
   "file_extension": ".py",
   "mimetype": "text/x-python",
   "name": "python",
   "nbconvert_exporter": "python",
   "pygments_lexer": "ipython3",
   "version": "3.11.9"
  }
 },
 "nbformat": 4,
 "nbformat_minor": 4
}

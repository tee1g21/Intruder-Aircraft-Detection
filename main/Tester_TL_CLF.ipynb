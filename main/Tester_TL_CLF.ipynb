{
 "cells": [
  {
   "cell_type": "markdown",
   "metadata": {},
   "source": [
    "# ClearML\n",
    "https://app.clear.ml/dashboard"
   ]
  },
  {
   "cell_type": "markdown",
   "metadata": {},
   "source": [
    "# Tensorflow Classifier"
   ]
  },
  {
   "cell_type": "code",
   "execution_count": 1,
   "metadata": {},
   "outputs": [],
   "source": [
    "from IPython.display import clear_output \n",
    "import gc\n",
    "import os\n",
    "from tl_clf import main\n",
    "\n",
    "epochs = 30\n",
    "train_size = 1000\n",
    "N = 5  # Number of runs\n",
    "\n",
    "\n"
   ]
  },
  {
   "cell_type": "markdown",
   "metadata": {},
   "source": [
    "# Weather Conditions 1"
   ]
  },
  {
   "cell_type": "code",
   "execution_count": 2,
   "metadata": {},
   "outputs": [],
   "source": [
    "w1 = 0 \n",
    "w2 = 1"
   ]
  },
  {
   "cell_type": "code",
   "execution_count": 3,
   "metadata": {},
   "outputs": [
    {
     "name": "stdout",
     "output_type": "stream",
     "text": [
      "Starting RUN: 5\n",
      "Seed:  1449636475\n"
     ]
    },
    {
     "name": "stderr",
     "output_type": "stream",
     "text": [
      "c:\\github\\Third-Year-Project\\Intruder-Aircraft-Detection\\main\\tl_clf.py:79: SettingWithCopyWarning:\n",
      "\n",
      "\n",
      "A value is trying to be set on a copy of a slice from a DataFrame.\n",
      "Try using .loc[row_indexer,col_indexer] = value instead\n",
      "\n",
      "See the caveats in the documentation: https://pandas.pydata.org/pandas-docs/stable/user_guide/indexing.html#returning-a-view-versus-a-copy\n",
      "\n",
      "c:\\github\\Third-Year-Project\\Intruder-Aircraft-Detection\\main\\tl_clf.py:80: SettingWithCopyWarning:\n",
      "\n",
      "\n",
      "A value is trying to be set on a copy of a slice from a DataFrame.\n",
      "Try using .loc[row_indexer,col_indexer] = value instead\n",
      "\n",
      "See the caveats in the documentation: https://pandas.pydata.org/pandas-docs/stable/user_guide/indexing.html#returning-a-view-versus-a-copy\n",
      "\n"
     ]
    },
    {
     "name": "stdout",
     "output_type": "stream",
     "text": [
      "Removing dataset if pre-existing\n",
      "Copying training files:\n"
     ]
    },
    {
     "name": "stderr",
     "output_type": "stream",
     "text": [
      "Copying files: 100%|██████████| 2000/2000 [00:01<00:00, 1070.21it/s]\n"
     ]
    },
    {
     "name": "stdout",
     "output_type": "stream",
     "text": [
      "Copying validation files:\n"
     ]
    },
    {
     "name": "stderr",
     "output_type": "stream",
     "text": [
      "Copying files: 100%|██████████| 400/400 [00:00<00:00, 837.48it/s] \n"
     ]
    },
    {
     "name": "stdout",
     "output_type": "stream",
     "text": [
      "Dataset 'weather_01_1000' created at C:\\github\\Third-Year-Project\\Intruder-Aircraft-Detection\\datasets\\Custom\\weather_01_1000\n",
      "Processing train labels in weather_01_1000:\n"
     ]
    },
    {
     "name": "stderr",
     "output_type": "stream",
     "text": [
      "Processing labels: 100%|██████████| 1000/1000 [00:04<00:00, 239.75it/s]\n"
     ]
    },
    {
     "name": "stdout",
     "output_type": "stream",
     "text": [
      "Processing valid labels in weather_01_1000:\n"
     ]
    },
    {
     "name": "stderr",
     "output_type": "stream",
     "text": [
      "Processing labels: 100%|██████████| 200/200 [00:00<00:00, 245.17it/s]\n"
     ]
    },
    {
     "name": "stdout",
     "output_type": "stream",
     "text": [
      "Label correction completed.\n"
     ]
    },
    {
     "name": "stderr",
     "output_type": "stream",
     "text": [
      "Removing existing directories/files: 100%|██████████| 3/3 [00:00<00:00, 3008.83it/s]\n",
      "Copying files: 100%|██████████| 1000/1000 [00:00<00:00, 1119.49it/s]\n",
      "Copying files: 100%|██████████| 1000/1000 [00:00<00:00, 1386.59it/s]\n",
      "Applying augmentations: 100%|██████████| 500/500 [00:04<00:00, 103.78it/s]\n"
     ]
    },
    {
     "name": "stdout",
     "output_type": "stream",
     "text": [
      "An error occurred: Expected x_min for bbox (-0.11297200000000002, 0.2757265, 0.6323099999999999, 0.7725815, 2) to be in the range [0.0, 1.0], got -0.11297200000000002.\n",
      "An error occurred: Expected y_min for bbox (0.604137, -0.0008270000000000083, 0.899387, 0.196007, 2) to be in the range [0.0, 1.0], got -0.0008270000000000083.\n",
      "An error occurred: Expected y_min for bbox (0.5048285, -0.00766349999999999, 0.8729035, 0.2377195, 0) to be in the range [0.0, 1.0], got -0.00766349999999999.\n",
      "An error occurred: Expected y_max for bbox (0.0957615, 0.625385, 0.7186585000000001, 1.040649, 2) to be in the range [0.0, 1.0], got 1.040649.\n"
     ]
    },
    {
     "name": "stderr",
     "output_type": "stream",
     "text": [
      "Processing images:  37%|███▋      | 372/1000 [00:13<00:19, 32.91it/s]"
     ]
    },
    {
     "name": "stdout",
     "output_type": "stream",
     "text": [
      "An error occurred with C:/github/Third-Year-Project/Intruder-Aircraft-Detection/datasets/Custom/weather_01_1000\\images\\train\\24891.jpg: Expected x_min for bbox (-0.01830599999999999, 0.35310800000000003, 0.48958799999999997, 0.6917040000000001, 1) to be in the range [0.0, 1.0], got -0.01830599999999999.\n"
     ]
    },
    {
     "name": "stderr",
     "output_type": "stream",
     "text": [
      "Processing images:  42%|████▏     | 417/1000 [00:15<00:16, 35.42it/s]"
     ]
    },
    {
     "name": "stdout",
     "output_type": "stream",
     "text": [
      "An error occurred with C:/github/Third-Year-Project/Intruder-Aircraft-Detection/datasets/Custom/weather_01_1000\\images\\train\\25261.jpg: Expected x_min for bbox (-0.09083650000000004, -0.04985999999999999, 0.6557445, 0.44786000000000004, 1) to be in the range [0.0, 1.0], got -0.09083650000000004.\n"
     ]
    },
    {
     "name": "stderr",
     "output_type": "stream",
     "text": [
      "Processing images:  60%|█████▉    | 595/1000 [00:20<00:11, 35.71it/s]"
     ]
    },
    {
     "name": "stdout",
     "output_type": "stream",
     "text": [
      "An error occurred with C:/github/Third-Year-Project/Intruder-Aircraft-Detection/datasets/Custom/weather_01_1000\\images\\train\\48003.jpg: Expected y_max for bbox (0.4913965, 0.7711395, 0.8664335000000001, 1.0211645, 2) to be in the range [0.0, 1.0], got 1.0211645.\n"
     ]
    },
    {
     "name": "stderr",
     "output_type": "stream",
     "text": [
      "Processing images:  61%|██████    | 612/1000 [00:20<00:11, 34.74it/s]"
     ]
    },
    {
     "name": "stdout",
     "output_type": "stream",
     "text": [
      "An error occurred with C:/github/Third-Year-Project/Intruder-Aircraft-Detection/datasets/Custom/weather_01_1000\\images\\train\\48102.jpg: Expected y_max for bbox (0.0957615, 0.625385, 0.7186585000000001, 1.040649, 2) to be in the range [0.0, 1.0], got 1.040649.\n"
     ]
    },
    {
     "name": "stderr",
     "output_type": "stream",
     "text": [
      "Processing images:  68%|██████▊   | 680/1000 [00:23<00:09, 35.30it/s]"
     ]
    },
    {
     "name": "stdout",
     "output_type": "stream",
     "text": [
      "An error occurred with C:/github/Third-Year-Project/Intruder-Aircraft-Detection/datasets/Custom/weather_01_1000\\images\\train\\48506.jpg: Expected y_min for bbox (0.604137, -0.0008270000000000083, 0.899387, 0.196007, 2) to be in the range [0.0, 1.0], got -0.0008270000000000083.\n"
     ]
    },
    {
     "name": "stderr",
     "output_type": "stream",
     "text": [
      "Processing images:  80%|███████▉  | 797/1000 [00:26<00:05, 35.75it/s]"
     ]
    },
    {
     "name": "stdout",
     "output_type": "stream",
     "text": [
      "An error occurred with C:/github/Third-Year-Project/Intruder-Aircraft-Detection/datasets/Custom/weather_01_1000\\images\\train\\49219.jpg: Expected x_min for bbox (-0.11297200000000002, 0.2757265, 0.6323099999999999, 0.7725815, 2) to be in the range [0.0, 1.0], got -0.11297200000000002.\n"
     ]
    },
    {
     "name": "stderr",
     "output_type": "stream",
     "text": [
      "Processing images:  90%|████████▉ | 898/1000 [00:29<00:02, 36.09it/s]"
     ]
    },
    {
     "name": "stdout",
     "output_type": "stream",
     "text": [
      "An error occurred with C:/github/Third-Year-Project/Intruder-Aircraft-Detection/datasets/Custom/weather_01_1000\\images\\train\\49729.jpg: Expected x_max for bbox (0.425531, 0.400972, 1.050599, 0.8176840000000001, 2) to be in the range [0.0, 1.0], got 1.050599.\n"
     ]
    },
    {
     "name": "stderr",
     "output_type": "stream",
     "text": [
      "Processing images:  96%|█████████▌| 958/1000 [00:31<00:01, 34.60it/s]"
     ]
    },
    {
     "name": "stdout",
     "output_type": "stream",
     "text": [
      "An error occurred with C:/github/Third-Year-Project/Intruder-Aircraft-Detection/datasets/Custom/weather_01_1000\\images\\train\\671.jpg: Expected y_min for bbox (0.5048285, -0.00766349999999999, 0.8729035, 0.2377195, 0) to be in the range [0.0, 1.0], got -0.00766349999999999.\n"
     ]
    },
    {
     "name": "stderr",
     "output_type": "stream",
     "text": [
      "Processing images: 100%|██████████| 1000/1000 [00:32<00:00, 30.85it/s]\n",
      "Processing images:  37%|███▋      | 548/1496 [00:21<00:28, 33.14it/s]"
     ]
    },
    {
     "name": "stdout",
     "output_type": "stream",
     "text": [
      "An error occurred with C:/github/Third-Year-Project/Intruder-Aircraft-Detection/datasets/Custom/weather_01_1000\\images\\train-aug\\24891.jpg: Expected x_min for bbox (-0.01830599999999999, 0.35310800000000003, 0.48958799999999997, 0.6917040000000001, 1) to be in the range [0.0, 1.0], got -0.01830599999999999.\n"
     ]
    },
    {
     "name": "stderr",
     "output_type": "stream",
     "text": [
      "Processing images:  42%|████▏     | 625/1496 [00:23<00:25, 33.70it/s]"
     ]
    },
    {
     "name": "stdout",
     "output_type": "stream",
     "text": [
      "An error occurred with C:/github/Third-Year-Project/Intruder-Aircraft-Detection/datasets/Custom/weather_01_1000\\images\\train-aug\\25261.jpg: Expected x_min for bbox (-0.09083650000000004, -0.04985999999999999, 0.6557445, 0.44786000000000004, 1) to be in the range [0.0, 1.0], got -0.09083650000000004.\n"
     ]
    },
    {
     "name": "stderr",
     "output_type": "stream",
     "text": [
      "Processing images:  58%|█████▊    | 870/1496 [00:31<00:17, 35.67it/s]"
     ]
    },
    {
     "name": "stdout",
     "output_type": "stream",
     "text": [
      "An error occurred with C:/github/Third-Year-Project/Intruder-Aircraft-Detection/datasets/Custom/weather_01_1000\\images\\train-aug\\48003.jpg: Expected y_max for bbox (0.4913965, 0.7711395, 0.8664335000000001, 1.0211645, 2) to be in the range [0.0, 1.0], got 1.0211645.\n"
     ]
    },
    {
     "name": "stderr",
     "output_type": "stream",
     "text": [
      "Processing images:  60%|█████▉    | 895/1496 [00:31<00:19, 31.61it/s]"
     ]
    },
    {
     "name": "stdout",
     "output_type": "stream",
     "text": [
      "An error occurred with C:/github/Third-Year-Project/Intruder-Aircraft-Detection/datasets/Custom/weather_01_1000\\images\\train-aug\\48102.jpg: Expected y_max for bbox (0.0957615, 0.625385, 0.7186585000000001, 1.040649, 2) to be in the range [0.0, 1.0], got 1.040649.\n"
     ]
    },
    {
     "name": "stderr",
     "output_type": "stream",
     "text": [
      "Processing images:  68%|██████▊   | 1015/1496 [00:35<00:13, 35.91it/s]"
     ]
    },
    {
     "name": "stdout",
     "output_type": "stream",
     "text": [
      "An error occurred with C:/github/Third-Year-Project/Intruder-Aircraft-Detection/datasets/Custom/weather_01_1000\\images\\train-aug\\48506.jpg: Expected y_min for bbox (0.604137, -0.0008270000000000083, 0.899387, 0.196007, 2) to be in the range [0.0, 1.0], got -0.0008270000000000083.\n"
     ]
    },
    {
     "name": "stderr",
     "output_type": "stream",
     "text": [
      "Processing images:  79%|███████▉  | 1184/1496 [00:40<00:08, 36.16it/s]"
     ]
    },
    {
     "name": "stdout",
     "output_type": "stream",
     "text": [
      "An error occurred with C:/github/Third-Year-Project/Intruder-Aircraft-Detection/datasets/Custom/weather_01_1000\\images\\train-aug\\49219.jpg: Expected x_min for bbox (-0.11297200000000002, 0.2757265, 0.6323099999999999, 0.7725815, 2) to be in the range [0.0, 1.0], got -0.11297200000000002.\n"
     ]
    },
    {
     "name": "stderr",
     "output_type": "stream",
     "text": [
      "Processing images:  90%|████████▉ | 1340/1496 [00:45<00:04, 34.17it/s]"
     ]
    },
    {
     "name": "stdout",
     "output_type": "stream",
     "text": [
      "An error occurred with C:/github/Third-Year-Project/Intruder-Aircraft-Detection/datasets/Custom/weather_01_1000\\images\\train-aug\\49729.jpg: Expected x_max for bbox (0.425531, 0.400972, 1.050599, 0.8176840000000001, 2) to be in the range [0.0, 1.0], got 1.050599.\n"
     ]
    },
    {
     "name": "stderr",
     "output_type": "stream",
     "text": [
      "Processing images:  96%|█████████▌| 1432/1496 [00:47<00:01, 34.95it/s]"
     ]
    },
    {
     "name": "stdout",
     "output_type": "stream",
     "text": [
      "An error occurred with C:/github/Third-Year-Project/Intruder-Aircraft-Detection/datasets/Custom/weather_01_1000\\images\\train-aug\\671.jpg: Expected y_min for bbox (0.5048285, -0.00766349999999999, 0.8729035, 0.2377195, 0) to be in the range [0.0, 1.0], got -0.00766349999999999.\n"
     ]
    },
    {
     "name": "stderr",
     "output_type": "stream",
     "text": [
      "Processing images: 100%|██████████| 1496/1496 [00:49<00:00, 29.97it/s]\n",
      "Processing images:  55%|█████▌    | 110/200 [00:04<00:02, 32.90it/s]"
     ]
    },
    {
     "name": "stdout",
     "output_type": "stream",
     "text": [
      "An error occurred with C:/github/Third-Year-Project/Intruder-Aircraft-Detection/datasets/Custom/weather_01_1000\\images\\valid\\48967.jpg: Expected x_max for bbox (0.391763, 0.222879, 1.0974650000000001, 0.6933469999999999, 2) to be in the range [0.0, 1.0], got 1.0974650000000001.\n"
     ]
    },
    {
     "name": "stderr",
     "output_type": "stream",
     "text": [
      "Processing images: 100%|██████████| 200/200 [00:06<00:00, 28.99it/s]\n",
      "Moving images in train: 100%|██████████| 992/992 [00:04<00:00, 239.51it/s]\n",
      "Moving images in train-aug: 100%|██████████| 1488/1488 [00:05<00:00, 274.28it/s]\n",
      "Moving images in valid: 100%|██████████| 199/199 [00:00<00:00, 251.26it/s]\n"
     ]
    },
    {
     "name": "stdout",
     "output_type": "stream",
     "text": [
      "Found 992 files belonging to 3 classes.\n",
      "Found 1488 files belonging to 3 classes.\n",
      "Found 199 files belonging to 3 classes.\n",
      "ClearML Task: created new task id=2d835d2e400a4247a40614384b15bb02\n",
      "ClearML results page: https://app.clear.ml/projects/b821b00eea6c40f7ade2438a3842e411/experiments/2d835d2e400a4247a40614384b15bb02/output/log\n",
      "Training model...\n",
      "Epoch 1/30\n",
      "\u001b[1m31/31\u001b[0m \u001b[32m━━━━━━━━━━━━━━━━━━━━\u001b[0m\u001b[37m\u001b[0m \u001b[1m10s\u001b[0m 270ms/step - accuracy: 0.3530 - loss: 2.0203 - precision: 0.3714 - recall: 0.1146 - val_accuracy: 0.3367 - val_loss: 1.0986 - val_precision: 0.0000e+00 - val_recall: 0.0000e+00\n",
      "Epoch 2/30\n",
      "\u001b[1m31/31\u001b[0m \u001b[32m━━━━━━━━━━━━━━━━━━━━\u001b[0m\u001b[37m\u001b[0m \u001b[1m8s\u001b[0m 246ms/step - accuracy: 0.3352 - loss: 1.0995 - precision: 0.0000e+00 - recall: 0.0000e+00 - val_accuracy: 0.5176 - val_loss: 1.0968 - val_precision: 0.0000e+00 - val_recall: 0.0000e+00\n",
      "Epoch 3/30\n",
      "\u001b[1m31/31\u001b[0m \u001b[32m━━━━━━━━━━━━━━━━━━━━\u001b[0m\u001b[37m\u001b[0m \u001b[1m8s\u001b[0m 256ms/step - accuracy: 0.3447 - loss: 1.0980 - precision: 0.0000e+00 - recall: 0.0000e+00 - val_accuracy: 0.3367 - val_loss: 1.0973 - val_precision: 0.0000e+00 - val_recall: 0.0000e+00\n",
      "Epoch 4/30\n",
      "\u001b[1m31/31\u001b[0m \u001b[32m━━━━━━━━━━━━━━━━━━━━\u001b[0m\u001b[37m\u001b[0m \u001b[1m7s\u001b[0m 229ms/step - accuracy: 0.3465 - loss: 1.0981 - precision: 0.0000e+00 - recall: 0.0000e+00 - val_accuracy: 0.3869 - val_loss: 1.0975 - val_precision: 0.0000e+00 - val_recall: 0.0000e+00\n",
      "Epoch 5/30\n",
      "\u001b[1m31/31\u001b[0m \u001b[32m━━━━━━━━━━━━━━━━━━━━\u001b[0m\u001b[37m\u001b[0m \u001b[1m7s\u001b[0m 229ms/step - accuracy: 0.3613 - loss: 1.0987 - precision: 0.0000e+00 - recall: 0.0000e+00 - val_accuracy: 0.3266 - val_loss: 1.0966 - val_precision: 0.0000e+00 - val_recall: 0.0000e+00\n",
      "Epoch 6/30\n",
      "\u001b[1m31/31\u001b[0m \u001b[32m━━━━━━━━━━━━━━━━━━━━\u001b[0m\u001b[37m\u001b[0m \u001b[1m10s\u001b[0m 301ms/step - accuracy: 0.3475 - loss: 1.0968 - precision: 0.0000e+00 - recall: 0.0000e+00 - val_accuracy: 0.3367 - val_loss: 1.0969 - val_precision: 0.0000e+00 - val_recall: 0.0000e+00\n",
      "Epoch 7/30\n",
      "\u001b[1m31/31\u001b[0m \u001b[32m━━━━━━━━━━━━━━━━━━━━\u001b[0m\u001b[37m\u001b[0m \u001b[1m7s\u001b[0m 223ms/step - accuracy: 0.3410 - loss: 1.0997 - precision: 0.0000e+00 - recall: 0.0000e+00 - val_accuracy: 0.4121 - val_loss: 1.0905 - val_precision: 0.0000e+00 - val_recall: 0.0000e+00\n",
      "Epoch 8/30\n",
      "\u001b[1m31/31\u001b[0m \u001b[32m━━━━━━━━━━━━━━━━━━━━\u001b[0m\u001b[37m\u001b[0m \u001b[1m7s\u001b[0m 229ms/step - accuracy: 0.3915 - loss: 1.0923 - precision: 0.0000e+00 - recall: 0.0000e+00 - val_accuracy: 0.3920 - val_loss: 1.0813 - val_precision: 0.0000e+00 - val_recall: 0.0000e+00\n",
      "Epoch 9/30\n",
      "\u001b[1m31/31\u001b[0m \u001b[32m━━━━━━━━━━━━━━━━━━━━\u001b[0m\u001b[37m\u001b[0m \u001b[1m8s\u001b[0m 243ms/step - accuracy: 0.3935 - loss: 1.0845 - precision: 0.4802 - recall: 0.0229 - val_accuracy: 0.4271 - val_loss: 1.0682 - val_precision: 0.5714 - val_recall: 0.1005\n",
      "Epoch 10/30\n",
      "\u001b[1m31/31\u001b[0m \u001b[32m━━━━━━━━━━━━━━━━━━━━\u001b[0m\u001b[37m\u001b[0m \u001b[1m7s\u001b[0m 228ms/step - accuracy: 0.4601 - loss: 1.0605 - precision: 0.5978 - recall: 0.0832 - val_accuracy: 0.4020 - val_loss: 1.0723 - val_precision: 0.5128 - val_recall: 0.1005\n",
      "Epoch 11/30\n",
      "\u001b[1m31/31\u001b[0m \u001b[32m━━━━━━━━━━━━━━━━━━━━\u001b[0m\u001b[37m\u001b[0m \u001b[1m8s\u001b[0m 249ms/step - accuracy: 0.5055 - loss: 1.0197 - precision: 0.6637 - recall: 0.1786 - val_accuracy: 0.5276 - val_loss: 0.9715 - val_precision: 0.6447 - val_recall: 0.2462\n",
      "Epoch 12/30\n",
      "\u001b[1m31/31\u001b[0m \u001b[32m━━━━━━━━━━━━━━━━━━━━\u001b[0m\u001b[37m\u001b[0m \u001b[1m8s\u001b[0m 244ms/step - accuracy: 0.6405 - loss: 0.8747 - precision: 0.7458 - recall: 0.3942 - val_accuracy: 0.6432 - val_loss: 0.9128 - val_precision: 0.7154 - val_recall: 0.4673\n",
      "Epoch 13/30\n",
      "\u001b[1m31/31\u001b[0m \u001b[32m━━━━━━━━━━━━━━━━━━━━\u001b[0m\u001b[37m\u001b[0m \u001b[1m8s\u001b[0m 247ms/step - accuracy: 0.6896 - loss: 0.7484 - precision: 0.7522 - recall: 0.5375 - val_accuracy: 0.6432 - val_loss: 1.0477 - val_precision: 0.6590 - val_recall: 0.5729\n",
      "Epoch 14/30\n",
      "\u001b[1m31/31\u001b[0m \u001b[32m━━━━━━━━━━━━━━━━━━━━\u001b[0m\u001b[37m\u001b[0m \u001b[1m8s\u001b[0m 246ms/step - accuracy: 0.7607 - loss: 0.6193 - precision: 0.8180 - recall: 0.6630 - val_accuracy: 0.6784 - val_loss: 0.9396 - val_precision: 0.7284 - val_recall: 0.5930\n",
      "Epoch 15/30\n",
      "\u001b[1m31/31\u001b[0m \u001b[32m━━━━━━━━━━━━━━━━━━━━\u001b[0m\u001b[37m\u001b[0m \u001b[1m8s\u001b[0m 238ms/step - accuracy: 0.7578 - loss: 0.5659 - precision: 0.8123 - recall: 0.7071 - val_accuracy: 0.6683 - val_loss: 0.9306 - val_precision: 0.7188 - val_recall: 0.5779\n",
      "Epoch 16/30\n",
      "\u001b[1m31/31\u001b[0m \u001b[32m━━━━━━━━━━━━━━━━━━━━\u001b[0m\u001b[37m\u001b[0m \u001b[1m8s\u001b[0m 236ms/step - accuracy: 0.8022 - loss: 0.5328 - precision: 0.8449 - recall: 0.7303 - val_accuracy: 0.6734 - val_loss: 1.0219 - val_precision: 0.6989 - val_recall: 0.6533\n",
      "Epoch 17/30\n",
      "\u001b[1m31/31\u001b[0m \u001b[32m━━━━━━━━━━━━━━━━━━━━\u001b[0m\u001b[37m\u001b[0m \u001b[1m8s\u001b[0m 238ms/step - accuracy: 0.8317 - loss: 0.4393 - precision: 0.8639 - recall: 0.7884 - val_accuracy: 0.7286 - val_loss: 0.9758 - val_precision: 0.7541 - val_recall: 0.6935\n",
      "Epoch 18/30\n",
      "\u001b[1m31/31\u001b[0m \u001b[32m━━━━━━━━━━━━━━━━━━━━\u001b[0m\u001b[37m\u001b[0m \u001b[1m7s\u001b[0m 224ms/step - accuracy: 0.8463 - loss: 0.3799 - precision: 0.8783 - recall: 0.8267 - val_accuracy: 0.7236 - val_loss: 1.2210 - val_precision: 0.7514 - val_recall: 0.6985\n",
      "Epoch 19/30\n",
      "\u001b[1m31/31\u001b[0m \u001b[32m━━━━━━━━━━━━━━━━━━━━\u001b[0m\u001b[37m\u001b[0m \u001b[1m7s\u001b[0m 229ms/step - accuracy: 0.8570 - loss: 0.3536 - precision: 0.8750 - recall: 0.8268 - val_accuracy: 0.7186 - val_loss: 0.8728 - val_precision: 0.7500 - val_recall: 0.6935\n",
      "Epoch 20/30\n",
      "\u001b[1m31/31\u001b[0m \u001b[32m━━━━━━━━━━━━━━━━━━━━\u001b[0m\u001b[37m\u001b[0m \u001b[1m7s\u001b[0m 221ms/step - accuracy: 0.8761 - loss: 0.3445 - precision: 0.8887 - recall: 0.8483 - val_accuracy: 0.7286 - val_loss: 0.8346 - val_precision: 0.7688 - val_recall: 0.6683\n",
      "Epoch 21/30\n",
      "\u001b[1m31/31\u001b[0m \u001b[32m━━━━━━━━━━━━━━━━━━━━\u001b[0m\u001b[37m\u001b[0m \u001b[1m7s\u001b[0m 229ms/step - accuracy: 0.8632 - loss: 0.3639 - precision: 0.8815 - recall: 0.8183 - val_accuracy: 0.7136 - val_loss: 1.1097 - val_precision: 0.7407 - val_recall: 0.7035\n",
      "Epoch 22/30\n",
      "\u001b[1m31/31\u001b[0m \u001b[32m━━━━━━━━━━━━━━━━━━━━\u001b[0m\u001b[37m\u001b[0m \u001b[1m8s\u001b[0m 240ms/step - accuracy: 0.9249 - loss: 0.2467 - precision: 0.9327 - recall: 0.9180 - val_accuracy: 0.7337 - val_loss: 1.1785 - val_precision: 0.7436 - val_recall: 0.7286\n",
      "Epoch 23/30\n",
      "\u001b[1m31/31\u001b[0m \u001b[32m━━━━━━━━━━━━━━━━━━━━\u001b[0m\u001b[37m\u001b[0m \u001b[1m8s\u001b[0m 232ms/step - accuracy: 0.9321 - loss: 0.1996 - precision: 0.9342 - recall: 0.9313 - val_accuracy: 0.7487 - val_loss: 1.0372 - val_precision: 0.7660 - val_recall: 0.7236\n",
      "Epoch 24/30\n",
      "\u001b[1m31/31\u001b[0m \u001b[32m━━━━━━━━━━━━━━━━━━━━\u001b[0m\u001b[37m\u001b[0m \u001b[1m8s\u001b[0m 239ms/step - accuracy: 0.9258 - loss: 0.2069 - precision: 0.9315 - recall: 0.9162 - val_accuracy: 0.7437 - val_loss: 1.3104 - val_precision: 0.7474 - val_recall: 0.7136\n",
      "Epoch 25/30\n",
      "\u001b[1m31/31\u001b[0m \u001b[32m━━━━━━━━━━━━━━━━━━━━\u001b[0m\u001b[37m\u001b[0m \u001b[1m8s\u001b[0m 244ms/step - accuracy: 0.9110 - loss: 0.2327 - precision: 0.9210 - recall: 0.8978 - val_accuracy: 0.7387 - val_loss: 1.2022 - val_precision: 0.7592 - val_recall: 0.7286\n",
      "Epoch 26/30\n",
      "\u001b[1m31/31\u001b[0m \u001b[32m━━━━━━━━━━━━━━━━━━━━\u001b[0m\u001b[37m\u001b[0m \u001b[1m7s\u001b[0m 230ms/step - accuracy: 0.9441 - loss: 0.1711 - precision: 0.9460 - recall: 0.9402 - val_accuracy: 0.7337 - val_loss: 1.2404 - val_precision: 0.7474 - val_recall: 0.7286\n",
      "Epoch 27/30\n",
      "\u001b[1m31/31\u001b[0m \u001b[32m━━━━━━━━━━━━━━━━━━━━\u001b[0m\u001b[37m\u001b[0m \u001b[1m8s\u001b[0m 235ms/step - accuracy: 0.9451 - loss: 0.1541 - precision: 0.9500 - recall: 0.9439 - val_accuracy: 0.7387 - val_loss: 1.2933 - val_precision: 0.7577 - val_recall: 0.7387\n",
      "Epoch 28/30\n",
      "\u001b[1m31/31\u001b[0m \u001b[32m━━━━━━━━━━━━━━━━━━━━\u001b[0m\u001b[37m\u001b[0m \u001b[1m7s\u001b[0m 224ms/step - accuracy: 0.9516 - loss: 0.1424 - precision: 0.9561 - recall: 0.9482 - val_accuracy: 0.7538 - val_loss: 1.3654 - val_precision: 0.7653 - val_recall: 0.7538\n",
      "Epoch 29/30\n",
      "\u001b[1m31/31\u001b[0m \u001b[32m━━━━━━━━━━━━━━━━━━━━\u001b[0m\u001b[37m\u001b[0m \u001b[1m7s\u001b[0m 220ms/step - accuracy: 0.9489 - loss: 0.1279 - precision: 0.9544 - recall: 0.9465 - val_accuracy: 0.7487 - val_loss: 1.4709 - val_precision: 0.7590 - val_recall: 0.7437\n",
      "Epoch 30/30\n",
      "\u001b[1m31/31\u001b[0m \u001b[32m━━━━━━━━━━━━━━━━━━━━\u001b[0m\u001b[37m\u001b[0m \u001b[1m8s\u001b[0m 235ms/step - accuracy: 0.9605 - loss: 0.1079 - precision: 0.9625 - recall: 0.9602 - val_accuracy: 0.7688 - val_loss: 1.3910 - val_precision: 0.7708 - val_recall: 0.7437\n",
      "Predicting on validation set...\n",
      "\u001b[1m7/7\u001b[0m \u001b[32m━━━━━━━━━━━━━━━━━━━━\u001b[0m\u001b[37m\u001b[0m \u001b[1m1s\u001b[0m 52ms/step\n",
      "Sending metrics to clearML...\n",
      "done\n",
      "ClearML Task: created new task id=a8232d62786b49f7b19c614d239d2240\n",
      "ClearML results page: https://app.clear.ml/projects/b821b00eea6c40f7ade2438a3842e411/experiments/a8232d62786b49f7b19c614d239d2240/output/log\n",
      "Training model...\n",
      "Epoch 1/30\n",
      "\u001b[1m47/47\u001b[0m \u001b[32m━━━━━━━━━━━━━━━━━━━━\u001b[0m\u001b[37m\u001b[0m \u001b[1m15s\u001b[0m 267ms/step - accuracy: 0.3287 - loss: 1.9042 - precision: 0.3104 - recall: 0.1028 - val_accuracy: 0.4623 - val_loss: 1.0976 - val_precision: 0.0000e+00 - val_recall: 0.0000e+00\n",
      "Epoch 2/30\n",
      "\u001b[1m47/47\u001b[0m \u001b[32m━━━━━━━━━━━━━━━━━━━━\u001b[0m\u001b[37m\u001b[0m \u001b[1m11s\u001b[0m 217ms/step - accuracy: 0.4132 - loss: 1.0972 - precision: 0.0486 - recall: 4.0824e-04 - val_accuracy: 0.4623 - val_loss: 1.0903 - val_precision: 0.0000e+00 - val_recall: 0.0000e+00\n",
      "Epoch 3/30\n",
      "\u001b[1m47/47\u001b[0m \u001b[32m━━━━━━━━━━━━━━━━━━━━\u001b[0m\u001b[37m\u001b[0m \u001b[1m10s\u001b[0m 217ms/step - accuracy: 0.4387 - loss: 1.0851 - precision: 0.2772 - recall: 0.0072 - val_accuracy: 0.4975 - val_loss: 1.0841 - val_precision: 0.0000e+00 - val_recall: 0.0000e+00\n",
      "Epoch 4/30\n",
      "\u001b[1m47/47\u001b[0m \u001b[32m━━━━━━━━━━━━━━━━━━━━\u001b[0m\u001b[37m\u001b[0m \u001b[1m11s\u001b[0m 219ms/step - accuracy: 0.4712 - loss: 1.0786 - precision: 0.4949 - recall: 0.0045 - val_accuracy: 0.4724 - val_loss: 1.0179 - val_precision: 0.6222 - val_recall: 0.1407\n",
      "Epoch 5/30\n",
      "\u001b[1m47/47\u001b[0m \u001b[32m━━━━━━━━━━━━━━━━━━━━\u001b[0m\u001b[37m\u001b[0m \u001b[1m12s\u001b[0m 249ms/step - accuracy: 0.5300 - loss: 1.0141 - precision: 0.6455 - recall: 0.1866 - val_accuracy: 0.6482 - val_loss: 0.9340 - val_precision: 0.6923 - val_recall: 0.3618\n",
      "Epoch 6/30\n",
      "\u001b[1m47/47\u001b[0m \u001b[32m━━━━━━━━━━━━━━━━━━━━\u001b[0m\u001b[37m\u001b[0m \u001b[1m11s\u001b[0m 219ms/step - accuracy: 0.6665 - loss: 0.8702 - precision: 0.7724 - recall: 0.4116 - val_accuracy: 0.6281 - val_loss: 0.8751 - val_precision: 0.7273 - val_recall: 0.4422\n",
      "Epoch 7/30\n",
      "\u001b[1m47/47\u001b[0m \u001b[32m━━━━━━━━━━━━━━━━━━━━\u001b[0m\u001b[37m\u001b[0m \u001b[1m11s\u001b[0m 224ms/step - accuracy: 0.6823 - loss: 0.7443 - precision: 0.7776 - recall: 0.5583 - val_accuracy: 0.6583 - val_loss: 0.8362 - val_precision: 0.7535 - val_recall: 0.5377\n",
      "Epoch 8/30\n",
      "\u001b[1m47/47\u001b[0m \u001b[32m━━━━━━━━━━━━━━━━━━━━\u001b[0m\u001b[37m\u001b[0m \u001b[1m11s\u001b[0m 219ms/step - accuracy: 0.7131 - loss: 0.6479 - precision: 0.7874 - recall: 0.6396 - val_accuracy: 0.7186 - val_loss: 0.7968 - val_precision: 0.7561 - val_recall: 0.6231\n",
      "Epoch 9/30\n",
      "\u001b[1m47/47\u001b[0m \u001b[32m━━━━━━━━━━━━━━━━━━━━\u001b[0m\u001b[37m\u001b[0m \u001b[1m10s\u001b[0m 209ms/step - accuracy: 0.7632 - loss: 0.6150 - precision: 0.8343 - recall: 0.6462 - val_accuracy: 0.6834 - val_loss: 0.8608 - val_precision: 0.7017 - val_recall: 0.6382\n",
      "Epoch 10/30\n",
      "\u001b[1m47/47\u001b[0m \u001b[32m━━━━━━━━━━━━━━━━━━━━\u001b[0m\u001b[37m\u001b[0m \u001b[1m10s\u001b[0m 209ms/step - accuracy: 0.7718 - loss: 0.5547 - precision: 0.8132 - recall: 0.7185 - val_accuracy: 0.7035 - val_loss: 0.7991 - val_precision: 0.7308 - val_recall: 0.6683\n",
      "Epoch 11/30\n",
      "\u001b[1m47/47\u001b[0m \u001b[32m━━━━━━━━━━━━━━━━━━━━\u001b[0m\u001b[37m\u001b[0m \u001b[1m10s\u001b[0m 210ms/step - accuracy: 0.8169 - loss: 0.4668 - precision: 0.8478 - recall: 0.7795 - val_accuracy: 0.7286 - val_loss: 0.9095 - val_precision: 0.7382 - val_recall: 0.7085\n",
      "Epoch 12/30\n",
      "\u001b[1m47/47\u001b[0m \u001b[32m━━━━━━━━━━━━━━━━━━━━\u001b[0m\u001b[37m\u001b[0m \u001b[1m10s\u001b[0m 208ms/step - accuracy: 0.8155 - loss: 0.4476 - precision: 0.8304 - recall: 0.7961 - val_accuracy: 0.7236 - val_loss: 0.9032 - val_precision: 0.7344 - val_recall: 0.7085\n",
      "Epoch 13/30\n",
      "\u001b[1m47/47\u001b[0m \u001b[32m━━━━━━━━━━━━━━━━━━━━\u001b[0m\u001b[37m\u001b[0m \u001b[1m10s\u001b[0m 207ms/step - accuracy: 0.8601 - loss: 0.3588 - precision: 0.8755 - recall: 0.8428 - val_accuracy: 0.7387 - val_loss: 0.9479 - val_precision: 0.7606 - val_recall: 0.7186\n",
      "Epoch 14/30\n",
      "\u001b[1m47/47\u001b[0m \u001b[32m━━━━━━━━━━━━━━━━━━━━\u001b[0m\u001b[37m\u001b[0m \u001b[1m10s\u001b[0m 207ms/step - accuracy: 0.8629 - loss: 0.3576 - precision: 0.8793 - recall: 0.8477 - val_accuracy: 0.7437 - val_loss: 0.7950 - val_precision: 0.7725 - val_recall: 0.7337\n",
      "Epoch 15/30\n",
      "\u001b[1m47/47\u001b[0m \u001b[32m━━━━━━━━━━━━━━━━━━━━\u001b[0m\u001b[37m\u001b[0m \u001b[1m10s\u001b[0m 212ms/step - accuracy: 0.8947 - loss: 0.2951 - precision: 0.8988 - recall: 0.8854 - val_accuracy: 0.7688 - val_loss: 0.8888 - val_precision: 0.7749 - val_recall: 0.7437\n",
      "Epoch 16/30\n",
      "\u001b[1m47/47\u001b[0m \u001b[32m━━━━━━━━━━━━━━━━━━━━\u001b[0m\u001b[37m\u001b[0m \u001b[1m10s\u001b[0m 207ms/step - accuracy: 0.8706 - loss: 0.3173 - precision: 0.8849 - recall: 0.8499 - val_accuracy: 0.7337 - val_loss: 0.9837 - val_precision: 0.7553 - val_recall: 0.7136\n",
      "Epoch 17/30\n",
      "\u001b[1m47/47\u001b[0m \u001b[32m━━━━━━━━━━━━━━━━━━━━\u001b[0m\u001b[37m\u001b[0m \u001b[1m10s\u001b[0m 207ms/step - accuracy: 0.9111 - loss: 0.2646 - precision: 0.9184 - recall: 0.9036 - val_accuracy: 0.7889 - val_loss: 0.7974 - val_precision: 0.7969 - val_recall: 0.7688\n",
      "Epoch 18/30\n",
      "\u001b[1m47/47\u001b[0m \u001b[32m━━━━━━━━━━━━━━━━━━━━\u001b[0m\u001b[37m\u001b[0m \u001b[1m10s\u001b[0m 209ms/step - accuracy: 0.9106 - loss: 0.2474 - precision: 0.9271 - recall: 0.9037 - val_accuracy: 0.7739 - val_loss: 0.8745 - val_precision: 0.7772 - val_recall: 0.7538\n",
      "Epoch 19/30\n",
      "\u001b[1m47/47\u001b[0m \u001b[32m━━━━━━━━━━━━━━━━━━━━\u001b[0m\u001b[37m\u001b[0m \u001b[1m10s\u001b[0m 211ms/step - accuracy: 0.9032 - loss: 0.2687 - precision: 0.9143 - recall: 0.8960 - val_accuracy: 0.7487 - val_loss: 0.9935 - val_precision: 0.7539 - val_recall: 0.7236\n",
      "Epoch 20/30\n",
      "\u001b[1m47/47\u001b[0m \u001b[32m━━━━━━━━━━━━━━━━━━━━\u001b[0m\u001b[37m\u001b[0m \u001b[1m10s\u001b[0m 207ms/step - accuracy: 0.9077 - loss: 0.2297 - precision: 0.9182 - recall: 0.9012 - val_accuracy: 0.7588 - val_loss: 0.9642 - val_precision: 0.7588 - val_recall: 0.7588\n",
      "Epoch 21/30\n",
      "\u001b[1m47/47\u001b[0m \u001b[32m━━━━━━━━━━━━━━━━━━━━\u001b[0m\u001b[37m\u001b[0m \u001b[1m10s\u001b[0m 209ms/step - accuracy: 0.9165 - loss: 0.2492 - precision: 0.9186 - recall: 0.9054 - val_accuracy: 0.7789 - val_loss: 0.9894 - val_precision: 0.7868 - val_recall: 0.7789\n",
      "Epoch 22/30\n",
      "\u001b[1m47/47\u001b[0m \u001b[32m━━━━━━━━━━━━━━━━━━━━\u001b[0m\u001b[37m\u001b[0m \u001b[1m10s\u001b[0m 211ms/step - accuracy: 0.9329 - loss: 0.1804 - precision: 0.9379 - recall: 0.9223 - val_accuracy: 0.7889 - val_loss: 1.0838 - val_precision: 0.7979 - val_recall: 0.7739\n",
      "Epoch 23/30\n",
      "\u001b[1m47/47\u001b[0m \u001b[32m━━━━━━━━━━━━━━━━━━━━\u001b[0m\u001b[37m\u001b[0m \u001b[1m10s\u001b[0m 209ms/step - accuracy: 0.9332 - loss: 0.1591 - precision: 0.9369 - recall: 0.9312 - val_accuracy: 0.7739 - val_loss: 1.0980 - val_precision: 0.7795 - val_recall: 0.7638\n",
      "Epoch 24/30\n",
      "\u001b[1m47/47\u001b[0m \u001b[32m━━━━━━━━━━━━━━━━━━━━\u001b[0m\u001b[37m\u001b[0m \u001b[1m10s\u001b[0m 206ms/step - accuracy: 0.9399 - loss: 0.1601 - precision: 0.9467 - recall: 0.9353 - val_accuracy: 0.7739 - val_loss: 0.9961 - val_precision: 0.7876 - val_recall: 0.7638\n",
      "Epoch 25/30\n",
      "\u001b[1m47/47\u001b[0m \u001b[32m━━━━━━━━━━━━━━━━━━━━\u001b[0m\u001b[37m\u001b[0m \u001b[1m10s\u001b[0m 205ms/step - accuracy: 0.9400 - loss: 0.1593 - precision: 0.9424 - recall: 0.9338 - val_accuracy: 0.7789 - val_loss: 1.1262 - val_precision: 0.7938 - val_recall: 0.7739\n",
      "Epoch 26/30\n",
      "\u001b[1m47/47\u001b[0m \u001b[32m━━━━━━━━━━━━━━━━━━━━\u001b[0m\u001b[37m\u001b[0m \u001b[1m10s\u001b[0m 210ms/step - accuracy: 0.9494 - loss: 0.1484 - precision: 0.9530 - recall: 0.9473 - val_accuracy: 0.7688 - val_loss: 1.0139 - val_precision: 0.7760 - val_recall: 0.7487\n",
      "Epoch 27/30\n",
      "\u001b[1m47/47\u001b[0m \u001b[32m━━━━━━━━━━━━━━━━━━━━\u001b[0m\u001b[37m\u001b[0m \u001b[1m10s\u001b[0m 208ms/step - accuracy: 0.9552 - loss: 0.1306 - precision: 0.9593 - recall: 0.9487 - val_accuracy: 0.7739 - val_loss: 1.0470 - val_precision: 0.7806 - val_recall: 0.7688\n",
      "Epoch 28/30\n",
      "\u001b[1m47/47\u001b[0m \u001b[32m━━━━━━━━━━━━━━━━━━━━\u001b[0m\u001b[37m\u001b[0m \u001b[1m10s\u001b[0m 208ms/step - accuracy: 0.9512 - loss: 0.1283 - precision: 0.9533 - recall: 0.9511 - val_accuracy: 0.7437 - val_loss: 1.0077 - val_precision: 0.7475 - val_recall: 0.7437\n",
      "Epoch 29/30\n",
      "\u001b[1m47/47\u001b[0m \u001b[32m━━━━━━━━━━━━━━━━━━━━\u001b[0m\u001b[37m\u001b[0m \u001b[1m10s\u001b[0m 206ms/step - accuracy: 0.9417 - loss: 0.1533 - precision: 0.9446 - recall: 0.9388 - val_accuracy: 0.7739 - val_loss: 1.2076 - val_precision: 0.7806 - val_recall: 0.7688\n",
      "Epoch 30/30\n",
      "\u001b[1m47/47\u001b[0m \u001b[32m━━━━━━━━━━━━━━━━━━━━\u001b[0m\u001b[37m\u001b[0m \u001b[1m10s\u001b[0m 212ms/step - accuracy: 0.9321 - loss: 0.1602 - precision: 0.9370 - recall: 0.9294 - val_accuracy: 0.7889 - val_loss: 1.1162 - val_precision: 0.7979 - val_recall: 0.7739\n",
      "Predicting on validation set...\n",
      "\u001b[1m7/7\u001b[0m \u001b[32m━━━━━━━━━━━━━━━━━━━━\u001b[0m\u001b[37m\u001b[0m \u001b[1m1s\u001b[0m 58ms/step\n",
      "Sending metrics to clearML...\n",
      "done\n"
     ]
    }
   ],
   "source": [
    "# Horizontal flip augmentation\n",
    "\n",
    "task_name = 'hf'\n",
    "sub_project_name = 'H_FLIP'\n",
    "\n",
    "augmentation_metadata = {\n",
    "        'methods': {        \n",
    "            'flip': {\n",
    "                'parameters': {\n",
    "                    'orientation': 'h',  # Could be 'h' for horizontal or 'v' for vertical\n",
    "                    'p': 1.0  # Probability of applying the augmentation\n",
    "                },\n",
    "                'apply_to_percentage': 0.5  # 50% of the training images\n",
    "            }        \n",
    "        }\n",
    "    }\n",
    "\n",
    "for i in range(N):\n",
    "    RUN = i + 1\n",
    "    try:\n",
    "        print(f\"Starting RUN: {RUN}\")\n",
    "        main(RUN, augmentation_metadata, task_name, sub_project_name, epochs, train_size, w1, w2)\n",
    "    except Exception as e:\n",
    "        print(f\"Error in RUN: {RUN}\")\n",
    "        print(e)\n",
    "    finally:\n",
    "        clear_output(wait=True)  # Clear the output to avoid scrolling\n",
    "        gc.collect()  # Collect garbage to avoid memory leaks\n",
    "\n",
    "\n",
    "\n"
   ]
  },
  {
   "cell_type": "code",
   "execution_count": 4,
   "metadata": {},
   "outputs": [
    {
     "name": "stdout",
     "output_type": "stream",
     "text": [
      "Starting RUN: 5\n",
      "Seed:  1453073018\n"
     ]
    },
    {
     "name": "stderr",
     "output_type": "stream",
     "text": [
      "c:\\github\\Third-Year-Project\\Intruder-Aircraft-Detection\\main\\tl_clf.py:79: SettingWithCopyWarning:\n",
      "\n",
      "\n",
      "A value is trying to be set on a copy of a slice from a DataFrame.\n",
      "Try using .loc[row_indexer,col_indexer] = value instead\n",
      "\n",
      "See the caveats in the documentation: https://pandas.pydata.org/pandas-docs/stable/user_guide/indexing.html#returning-a-view-versus-a-copy\n",
      "\n",
      "c:\\github\\Third-Year-Project\\Intruder-Aircraft-Detection\\main\\tl_clf.py:80: SettingWithCopyWarning:\n",
      "\n",
      "\n",
      "A value is trying to be set on a copy of a slice from a DataFrame.\n",
      "Try using .loc[row_indexer,col_indexer] = value instead\n",
      "\n",
      "See the caveats in the documentation: https://pandas.pydata.org/pandas-docs/stable/user_guide/indexing.html#returning-a-view-versus-a-copy\n",
      "\n"
     ]
    },
    {
     "name": "stdout",
     "output_type": "stream",
     "text": [
      "Removing dataset if pre-existing\n",
      "Copying training files:\n"
     ]
    },
    {
     "name": "stderr",
     "output_type": "stream",
     "text": [
      "Copying files: 100%|██████████| 2000/2000 [00:01<00:00, 1846.26it/s]\n"
     ]
    },
    {
     "name": "stdout",
     "output_type": "stream",
     "text": [
      "Copying validation files:\n"
     ]
    },
    {
     "name": "stderr",
     "output_type": "stream",
     "text": [
      "Copying files: 100%|██████████| 400/400 [00:00<00:00, 1904.25it/s]\n"
     ]
    },
    {
     "name": "stdout",
     "output_type": "stream",
     "text": [
      "Dataset 'weather_01_1000' created at C:\\github\\Third-Year-Project\\Intruder-Aircraft-Detection\\datasets\\Custom\\weather_01_1000\n",
      "Processing train labels in weather_01_1000:\n"
     ]
    },
    {
     "name": "stderr",
     "output_type": "stream",
     "text": [
      "Processing labels: 100%|██████████| 1000/1000 [00:03<00:00, 320.14it/s]\n"
     ]
    },
    {
     "name": "stdout",
     "output_type": "stream",
     "text": [
      "Processing valid labels in weather_01_1000:\n"
     ]
    },
    {
     "name": "stderr",
     "output_type": "stream",
     "text": [
      "Processing labels: 100%|██████████| 200/200 [00:00<00:00, 264.49it/s]\n"
     ]
    },
    {
     "name": "stdout",
     "output_type": "stream",
     "text": [
      "Label correction completed.\n"
     ]
    },
    {
     "name": "stderr",
     "output_type": "stream",
     "text": [
      "Removing existing directories/files: 100%|██████████| 3/3 [00:00<00:00, 6014.78it/s]\n",
      "Copying files: 100%|██████████| 1000/1000 [00:00<00:00, 1220.66it/s]\n",
      "Copying files: 100%|██████████| 1000/1000 [00:00<00:00, 1401.21it/s]\n",
      "Applying augmentations: 100%|██████████| 500/500 [00:04<00:00, 111.00it/s]\n"
     ]
    },
    {
     "name": "stdout",
     "output_type": "stream",
     "text": [
      "An error occurred: Expected y_min for bbox (0.604137, -0.0008270000000000083, 0.899387, 0.196007, 2) to be in the range [0.0, 1.0], got -0.0008270000000000083.\n",
      "An error occurred: Expected y_max for bbox (0.42211299999999996, 0.7283575, 0.897627, 1.0453665, 1) to be in the range [0.0, 1.0], got 1.0453665.\n",
      "An error occurred: Expected y_max for bbox (0.24655300000000002, 0.722105, 0.681787, 1.012261, 1) to be in the range [0.0, 1.0], got 1.012261.\n"
     ]
    },
    {
     "name": "stderr",
     "output_type": "stream",
     "text": [
      "Processing images:  20%|██        | 202/1000 [00:08<00:22, 35.35it/s]"
     ]
    },
    {
     "name": "stdout",
     "output_type": "stream",
     "text": [
      "An error occurred with C:/github/Third-Year-Project/Intruder-Aircraft-Detection/datasets/Custom/weather_01_1000\\images\\train\\24022.jpg: Expected y_max for bbox (0.24655300000000002, 0.722105, 0.681787, 1.012261, 1) to be in the range [0.0, 1.0], got 1.012261.\n"
     ]
    },
    {
     "name": "stderr",
     "output_type": "stream",
     "text": [
      "Processing images:  24%|██▎       | 235/1000 [00:09<00:23, 33.14it/s]"
     ]
    },
    {
     "name": "stdout",
     "output_type": "stream",
     "text": [
      "An error occurred with C:/github/Third-Year-Project/Intruder-Aircraft-Detection/datasets/Custom/weather_01_1000\\images\\train\\24202.jpg: Expected y_min for bbox (0.19744650000000002, -0.022690500000000002, 0.6507875000000001, 0.2795365, 1) to be in the range [0.0, 1.0], got -0.022690500000000002.\n"
     ]
    },
    {
     "name": "stderr",
     "output_type": "stream",
     "text": [
      "Processing images:  30%|██▉       | 296/1000 [00:11<00:21, 33.46it/s]"
     ]
    },
    {
     "name": "stdout",
     "output_type": "stream",
     "text": [
      "An error occurred with C:/github/Third-Year-Project/Intruder-Aircraft-Detection/datasets/Custom/weather_01_1000\\images\\train\\24527.jpg: Expected y_max for bbox (0.42211299999999996, 0.7283575, 0.897627, 1.0453665, 1) to be in the range [0.0, 1.0], got 1.0453665.\n"
     ]
    },
    {
     "name": "stderr",
     "output_type": "stream",
     "text": [
      "Processing images:  66%|██████▋   | 665/1000 [00:22<00:09, 35.54it/s]"
     ]
    },
    {
     "name": "stdout",
     "output_type": "stream",
     "text": [
      "An error occurred with C:/github/Third-Year-Project/Intruder-Aircraft-Detection/datasets/Custom/weather_01_1000\\images\\train\\48405.jpg: Expected x_max for bbox (0.25508400000000003, 0.6339159999999999, 1.001982, 1.131848, 2) to be in the range [0.0, 1.0], got 1.001982.\n"
     ]
    },
    {
     "name": "stderr",
     "output_type": "stream",
     "text": [
      "Processing images:  68%|██████▊   | 683/1000 [00:22<00:07, 40.27it/s]"
     ]
    },
    {
     "name": "stdout",
     "output_type": "stream",
     "text": [
      "An error occurred with C:/github/Third-Year-Project/Intruder-Aircraft-Detection/datasets/Custom/weather_01_1000\\images\\train\\48506.jpg: Expected y_min for bbox (0.604137, -0.0008270000000000083, 0.899387, 0.196007, 2) to be in the range [0.0, 1.0], got -0.0008270000000000083.\n",
      "An error occurred with C:/github/Third-Year-Project/Intruder-Aircraft-Detection/datasets/Custom/weather_01_1000\\images\\train\\48545.jpg: Expected x_max for bbox (0.139949, 0.11087449999999999, 1.0701450000000001, 0.7310055, 2) to be in the range [0.0, 1.0], got 1.0701450000000001.\n"
     ]
    },
    {
     "name": "stderr",
     "output_type": "stream",
     "text": [
      "Processing images:  73%|███████▎  | 733/1000 [00:24<00:07, 36.18it/s]"
     ]
    },
    {
     "name": "stdout",
     "output_type": "stream",
     "text": [
      "An error occurred with C:/github/Third-Year-Project/Intruder-Aircraft-Detection/datasets/Custom/weather_01_1000\\images\\train\\48839.jpg: Expected y_max for bbox (0.07873799999999997, 0.6116285, 0.708052, 1.0311715000000001, 2) to be in the range [0.0, 1.0], got 1.0311715000000001.\n"
     ]
    },
    {
     "name": "stderr",
     "output_type": "stream",
     "text": [
      "Processing images:  76%|███████▌  | 762/1000 [00:24<00:06, 36.34it/s]"
     ]
    },
    {
     "name": "stdout",
     "output_type": "stream",
     "text": [
      "An error occurred with C:/github/Third-Year-Project/Intruder-Aircraft-Detection/datasets/Custom/weather_01_1000\\images\\train\\49062.jpg: Expected y_min for bbox (0.028610999999999998, -0.0326805, 0.831313, 0.5024545, 2) to be in the range [0.0, 1.0], got -0.0326805.\n"
     ]
    },
    {
     "name": "stderr",
     "output_type": "stream",
     "text": [
      "Processing images:  79%|███████▊  | 787/1000 [00:25<00:06, 34.23it/s]"
     ]
    },
    {
     "name": "stdout",
     "output_type": "stream",
     "text": [
      "An error occurred with C:/github/Third-Year-Project/Intruder-Aircraft-Detection/datasets/Custom/weather_01_1000\\images\\train\\49148.jpg: Expected y_min for bbox (0.006384999999999974, -0.030349999999999988, 0.652875, 0.400644, 2) to be in the range [0.0, 1.0], got -0.030349999999999988.\n"
     ]
    },
    {
     "name": "stderr",
     "output_type": "stream",
     "text": [
      "Processing images: 100%|██████████| 1000/1000 [00:31<00:00, 31.42it/s]\n",
      "Processing images:  20%|█▉        | 299/1497 [00:12<00:35, 33.99it/s]"
     ]
    },
    {
     "name": "stdout",
     "output_type": "stream",
     "text": [
      "An error occurred with C:/github/Third-Year-Project/Intruder-Aircraft-Detection/datasets/Custom/weather_01_1000\\images\\train-aug\\24022.jpg: Expected y_max for bbox (0.24655300000000002, 0.722105, 0.681787, 1.012261, 1) to be in the range [0.0, 1.0], got 1.012261.\n"
     ]
    },
    {
     "name": "stderr",
     "output_type": "stream",
     "text": [
      "Processing images:  23%|██▎       | 348/1497 [00:13<00:33, 34.03it/s]"
     ]
    },
    {
     "name": "stdout",
     "output_type": "stream",
     "text": [
      "An error occurred with C:/github/Third-Year-Project/Intruder-Aircraft-Detection/datasets/Custom/weather_01_1000\\images\\train-aug\\24202.jpg: Expected y_min for bbox (0.19744650000000002, -0.022690500000000002, 0.6507875000000001, 0.2795365, 1) to be in the range [0.0, 1.0], got -0.022690500000000002.\n"
     ]
    },
    {
     "name": "stderr",
     "output_type": "stream",
     "text": [
      "Processing images:  29%|██▉       | 437/1497 [00:16<00:31, 33.80it/s]"
     ]
    },
    {
     "name": "stdout",
     "output_type": "stream",
     "text": [
      "An error occurred with C:/github/Third-Year-Project/Intruder-Aircraft-Detection/datasets/Custom/weather_01_1000\\images\\train-aug\\24527.jpg: Expected y_max for bbox (0.42211299999999996, 0.7283575, 0.897627, 1.0453665, 1) to be in the range [0.0, 1.0], got 1.0453665.\n"
     ]
    },
    {
     "name": "stderr",
     "output_type": "stream",
     "text": [
      "Processing images:  65%|██████▌   | 977/1497 [00:33<00:15, 34.26it/s]"
     ]
    },
    {
     "name": "stdout",
     "output_type": "stream",
     "text": [
      "An error occurred with C:/github/Third-Year-Project/Intruder-Aircraft-Detection/datasets/Custom/weather_01_1000\\images\\train-aug\\48405.jpg: Expected x_max for bbox (0.25508400000000003, 0.6339159999999999, 1.001982, 1.131848, 2) to be in the range [0.0, 1.0], got 1.001982.\n"
     ]
    },
    {
     "name": "stderr",
     "output_type": "stream",
     "text": [
      "Processing images:  68%|██████▊   | 1019/1497 [00:34<00:12, 38.09it/s]"
     ]
    },
    {
     "name": "stdout",
     "output_type": "stream",
     "text": [
      "An error occurred with C:/github/Third-Year-Project/Intruder-Aircraft-Detection/datasets/Custom/weather_01_1000\\images\\train-aug\\48506.jpg: Expected y_min for bbox (0.604137, -0.0008270000000000083, 0.899387, 0.196007, 2) to be in the range [0.0, 1.0], got -0.0008270000000000083.\n",
      "An error occurred with C:/github/Third-Year-Project/Intruder-Aircraft-Detection/datasets/Custom/weather_01_1000\\images\\train-aug\\48545.jpg: Expected x_max for bbox (0.139949, 0.11087449999999999, 1.0701450000000001, 0.7310055, 2) to be in the range [0.0, 1.0], got 1.0701450000000001.\n"
     ]
    },
    {
     "name": "stderr",
     "output_type": "stream",
     "text": [
      "Processing images:  74%|███████▎  | 1104/1497 [00:36<00:11, 34.67it/s]"
     ]
    },
    {
     "name": "stdout",
     "output_type": "stream",
     "text": [
      "An error occurred with C:/github/Third-Year-Project/Intruder-Aircraft-Detection/datasets/Custom/weather_01_1000\\images\\train-aug\\48839.jpg: Expected y_max for bbox (0.07873799999999997, 0.6116285, 0.708052, 1.0311715000000001, 2) to be in the range [0.0, 1.0], got 1.0311715000000001.\n"
     ]
    },
    {
     "name": "stderr",
     "output_type": "stream",
     "text": [
      "Processing images:  76%|███████▌  | 1137/1497 [00:37<00:09, 36.89it/s]"
     ]
    },
    {
     "name": "stdout",
     "output_type": "stream",
     "text": [
      "An error occurred with C:/github/Third-Year-Project/Intruder-Aircraft-Detection/datasets/Custom/weather_01_1000\\images\\train-aug\\49062.jpg: Expected y_min for bbox (0.028610999999999998, -0.0326805, 0.831313, 0.5024545, 2) to be in the range [0.0, 1.0], got -0.0326805.\n"
     ]
    },
    {
     "name": "stderr",
     "output_type": "stream",
     "text": [
      "Processing images:  78%|███████▊  | 1166/1497 [00:38<00:08, 37.06it/s]"
     ]
    },
    {
     "name": "stdout",
     "output_type": "stream",
     "text": [
      "An error occurred with C:/github/Third-Year-Project/Intruder-Aircraft-Detection/datasets/Custom/weather_01_1000\\images\\train-aug\\49148.jpg: Expected y_min for bbox (0.006384999999999974, -0.030349999999999988, 0.652875, 0.400644, 2) to be in the range [0.0, 1.0], got -0.030349999999999988.\n"
     ]
    },
    {
     "name": "stderr",
     "output_type": "stream",
     "text": [
      "Processing images: 100%|██████████| 1497/1497 [00:48<00:00, 31.08it/s]\n",
      "Processing images:  58%|█████▊    | 117/200 [00:04<00:02, 34.60it/s]"
     ]
    },
    {
     "name": "stdout",
     "output_type": "stream",
     "text": [
      "An error occurred with C:/github/Third-Year-Project/Intruder-Aircraft-Detection/datasets/Custom/weather_01_1000\\images\\valid\\48967.jpg: Expected x_max for bbox (0.391763, 0.222879, 1.0974650000000001, 0.6933469999999999, 2) to be in the range [0.0, 1.0], got 1.0974650000000001.\n"
     ]
    },
    {
     "name": "stderr",
     "output_type": "stream",
     "text": [
      "Processing images: 100%|██████████| 200/200 [00:06<00:00, 30.53it/s]\n",
      "Moving images in train: 100%|██████████| 991/991 [00:03<00:00, 286.89it/s]\n",
      "Moving images in train-aug: 100%|██████████| 1488/1488 [00:04<00:00, 306.88it/s]\n",
      "Moving images in valid: 100%|██████████| 199/199 [00:00<00:00, 272.34it/s]\n"
     ]
    },
    {
     "name": "stdout",
     "output_type": "stream",
     "text": [
      "Found 991 files belonging to 3 classes.\n",
      "Found 1488 files belonging to 3 classes.\n",
      "Found 199 files belonging to 3 classes.\n",
      "ClearML Task: created new task id=5ccc8844b786441594fb317e3055bc18\n",
      "ClearML results page: https://app.clear.ml/projects/b431dd08d42446cea5eabf486b708404/experiments/5ccc8844b786441594fb317e3055bc18/output/log\n",
      "Training model...\n",
      "Epoch 1/30\n",
      "\u001b[1m31/31\u001b[0m \u001b[32m━━━━━━━━━━━━━━━━━━━━\u001b[0m\u001b[37m\u001b[0m \u001b[1m10s\u001b[0m 260ms/step - accuracy: 0.3544 - loss: 2.4589 - precision: 0.3523 - recall: 0.1478 - val_accuracy: 0.3367 - val_loss: 1.1043 - val_precision: 0.0000e+00 - val_recall: 0.0000e+00\n",
      "Epoch 2/30\n",
      "\u001b[1m31/31\u001b[0m \u001b[32m━━━━━━━━━━━━━━━━━━━━\u001b[0m\u001b[37m\u001b[0m \u001b[1m7s\u001b[0m 215ms/step - accuracy: 0.3228 - loss: 1.1040 - precision: 0.0000e+00 - recall: 0.0000e+00 - val_accuracy: 0.3367 - val_loss: 1.0984 - val_precision: 0.0000e+00 - val_recall: 0.0000e+00\n",
      "Epoch 3/30\n",
      "\u001b[1m31/31\u001b[0m \u001b[32m━━━━━━━━━━━━━━━━━━━━\u001b[0m\u001b[37m\u001b[0m \u001b[1m7s\u001b[0m 213ms/step - accuracy: 0.3255 - loss: 1.0987 - precision: 0.0000e+00 - recall: 0.0000e+00 - val_accuracy: 0.3367 - val_loss: 1.0979 - val_precision: 0.0000e+00 - val_recall: 0.0000e+00\n",
      "Epoch 4/30\n",
      "\u001b[1m31/31\u001b[0m \u001b[32m━━━━━━━━━━━━━━━━━━━━\u001b[0m\u001b[37m\u001b[0m \u001b[1m7s\u001b[0m 216ms/step - accuracy: 0.3662 - loss: 1.0979 - precision: 0.0000e+00 - recall: 0.0000e+00 - val_accuracy: 0.4573 - val_loss: 1.0933 - val_precision: 0.0000e+00 - val_recall: 0.0000e+00\n",
      "Epoch 5/30\n",
      "\u001b[1m31/31\u001b[0m \u001b[32m━━━━━━━━━━━━━━━━━━━━\u001b[0m\u001b[37m\u001b[0m \u001b[1m7s\u001b[0m 211ms/step - accuracy: 0.3925 - loss: 1.0944 - precision: 0.0000e+00 - recall: 0.0000e+00 - val_accuracy: 0.4623 - val_loss: 1.0772 - val_precision: 0.0000e+00 - val_recall: 0.0000e+00\n",
      "Epoch 6/30\n",
      "\u001b[1m31/31\u001b[0m \u001b[32m━━━━━━━━━━━━━━━━━━━━\u001b[0m\u001b[37m\u001b[0m \u001b[1m7s\u001b[0m 224ms/step - accuracy: 0.3799 - loss: 1.0907 - precision: 0.2984 - recall: 0.0016 - val_accuracy: 0.4070 - val_loss: 1.0596 - val_precision: 0.5484 - val_recall: 0.0854\n",
      "Epoch 7/30\n",
      "\u001b[1m31/31\u001b[0m \u001b[32m━━━━━━━━━━━━━━━━━━━━\u001b[0m\u001b[37m\u001b[0m \u001b[1m8s\u001b[0m 247ms/step - accuracy: 0.3834 - loss: 1.0888 - precision: 0.6063 - recall: 0.0144 - val_accuracy: 0.3920 - val_loss: 1.0723 - val_precision: 0.0000e+00 - val_recall: 0.0000e+00\n",
      "Epoch 8/30\n",
      "\u001b[1m31/31\u001b[0m \u001b[32m━━━━━━━━━━━━━━━━━━━━\u001b[0m\u001b[37m\u001b[0m \u001b[1m7s\u001b[0m 214ms/step - accuracy: 0.4200 - loss: 1.0782 - precision: 0.4249 - recall: 0.0088 - val_accuracy: 0.4724 - val_loss: 1.0485 - val_precision: 0.5484 - val_recall: 0.0854\n",
      "Epoch 9/30\n",
      "\u001b[1m31/31\u001b[0m \u001b[32m━━━━━━━━━━━━━━━━━━━━\u001b[0m\u001b[37m\u001b[0m \u001b[1m7s\u001b[0m 214ms/step - accuracy: 0.4099 - loss: 1.0705 - precision: 0.6589 - recall: 0.0618 - val_accuracy: 0.4724 - val_loss: 1.0425 - val_precision: 0.6250 - val_recall: 0.1256\n",
      "Epoch 10/30\n",
      "\u001b[1m31/31\u001b[0m \u001b[32m━━━━━━━━━━━━━━━━━━━━\u001b[0m\u001b[37m\u001b[0m \u001b[1m7s\u001b[0m 214ms/step - accuracy: 0.4458 - loss: 1.0618 - precision: 0.5687 - recall: 0.0732 - val_accuracy: 0.4724 - val_loss: 1.0390 - val_precision: 0.5909 - val_recall: 0.1307\n",
      "Epoch 11/30\n",
      "\u001b[1m31/31\u001b[0m \u001b[32m━━━━━━━━━━━━━━━━━━━━\u001b[0m\u001b[37m\u001b[0m \u001b[1m7s\u001b[0m 211ms/step - accuracy: 0.4268 - loss: 1.0564 - precision: 0.6402 - recall: 0.0547 - val_accuracy: 0.4724 - val_loss: 1.0391 - val_precision: 0.5714 - val_recall: 0.1005\n",
      "Epoch 12/30\n",
      "\u001b[1m31/31\u001b[0m \u001b[32m━━━━━━━━━━━━━━━━━━━━\u001b[0m\u001b[37m\u001b[0m \u001b[1m7s\u001b[0m 217ms/step - accuracy: 0.4382 - loss: 1.0552 - precision: 0.6568 - recall: 0.0671 - val_accuracy: 0.4724 - val_loss: 1.0367 - val_precision: 0.5946 - val_recall: 0.1106\n",
      "Epoch 13/30\n",
      "\u001b[1m31/31\u001b[0m \u001b[32m━━━━━━━━━━━━━━━━━━━━\u001b[0m\u001b[37m\u001b[0m \u001b[1m7s\u001b[0m 216ms/step - accuracy: 0.4289 - loss: 1.0543 - precision: 0.6194 - recall: 0.0654 - val_accuracy: 0.4673 - val_loss: 1.0386 - val_precision: 0.5625 - val_recall: 0.0905\n",
      "Epoch 14/30\n",
      "\u001b[1m31/31\u001b[0m \u001b[32m━━━━━━━━━━━━━━━━━━━━\u001b[0m\u001b[37m\u001b[0m \u001b[1m7s\u001b[0m 216ms/step - accuracy: 0.4256 - loss: 1.0603 - precision: 0.6488 - recall: 0.0599 - val_accuracy: 0.4724 - val_loss: 1.0365 - val_precision: 0.5625 - val_recall: 0.0905\n",
      "Epoch 15/30\n",
      "\u001b[1m31/31\u001b[0m \u001b[32m━━━━━━━━━━━━━━━━━━━━\u001b[0m\u001b[37m\u001b[0m \u001b[1m7s\u001b[0m 211ms/step - accuracy: 0.4339 - loss: 1.0647 - precision: 0.6307 - recall: 0.0594 - val_accuracy: 0.4874 - val_loss: 1.0373 - val_precision: 0.5789 - val_recall: 0.1106\n",
      "Epoch 16/30\n",
      "\u001b[1m31/31\u001b[0m \u001b[32m━━━━━━━━━━━━━━━━━━━━\u001b[0m\u001b[37m\u001b[0m \u001b[1m7s\u001b[0m 216ms/step - accuracy: 0.4143 - loss: 1.0602 - precision: 0.5664 - recall: 0.0553 - val_accuracy: 0.4673 - val_loss: 1.0342 - val_precision: 0.5789 - val_recall: 0.1106\n",
      "Epoch 17/30\n",
      "\u001b[1m31/31\u001b[0m \u001b[32m━━━━━━━━━━━━━━━━━━━━\u001b[0m\u001b[37m\u001b[0m \u001b[1m7s\u001b[0m 214ms/step - accuracy: 0.4195 - loss: 1.0596 - precision: 0.5823 - recall: 0.0683 - val_accuracy: 0.4824 - val_loss: 1.0335 - val_precision: 0.5897 - val_recall: 0.1156\n",
      "Epoch 18/30\n",
      "\u001b[1m31/31\u001b[0m \u001b[32m━━━━━━━━━━━━━━━━━━━━\u001b[0m\u001b[37m\u001b[0m \u001b[1m7s\u001b[0m 217ms/step - accuracy: 0.4300 - loss: 1.0540 - precision: 0.5979 - recall: 0.0700 - val_accuracy: 0.4724 - val_loss: 1.0275 - val_precision: 0.5476 - val_recall: 0.1156\n",
      "Epoch 19/30\n",
      "\u001b[1m31/31\u001b[0m \u001b[32m━━━━━━━━━━━━━━━━━━━━\u001b[0m\u001b[37m\u001b[0m \u001b[1m7s\u001b[0m 214ms/step - accuracy: 0.4434 - loss: 1.0460 - precision: 0.5854 - recall: 0.0847 - val_accuracy: 0.4824 - val_loss: 1.0279 - val_precision: 0.5476 - val_recall: 0.1156\n",
      "Epoch 20/30\n",
      "\u001b[1m31/31\u001b[0m \u001b[32m━━━━━━━━━━━━━━━━━━━━\u001b[0m\u001b[37m\u001b[0m \u001b[1m7s\u001b[0m 214ms/step - accuracy: 0.4263 - loss: 1.0541 - precision: 0.5208 - recall: 0.0639 - val_accuracy: 0.4623 - val_loss: 1.0368 - val_precision: 0.5385 - val_recall: 0.0704\n",
      "Epoch 21/30\n",
      "\u001b[1m31/31\u001b[0m \u001b[32m━━━━━━━━━━━━━━━━━━━━\u001b[0m\u001b[37m\u001b[0m \u001b[1m7s\u001b[0m 212ms/step - accuracy: 0.4188 - loss: 1.0633 - precision: 0.6716 - recall: 0.0547 - val_accuracy: 0.4623 - val_loss: 1.0443 - val_precision: 0.6032 - val_recall: 0.1910\n",
      "Epoch 22/30\n",
      "\u001b[1m31/31\u001b[0m \u001b[32m━━━━━━━━━━━━━━━━━━━━\u001b[0m\u001b[37m\u001b[0m \u001b[1m7s\u001b[0m 217ms/step - accuracy: 0.4368 - loss: 1.0563 - precision: 0.5457 - recall: 0.1036 - val_accuracy: 0.4874 - val_loss: 1.0231 - val_precision: 0.5745 - val_recall: 0.1357\n",
      "Epoch 23/30\n",
      "\u001b[1m31/31\u001b[0m \u001b[32m━━━━━━━━━━━━━━━━━━━━\u001b[0m\u001b[37m\u001b[0m \u001b[1m7s\u001b[0m 220ms/step - accuracy: 0.4323 - loss: 1.1099 - precision: 0.4833 - recall: 0.0892 - val_accuracy: 0.4070 - val_loss: 1.0501 - val_precision: 0.5610 - val_recall: 0.1156\n",
      "Epoch 24/30\n",
      "\u001b[1m31/31\u001b[0m \u001b[32m━━━━━━━━━━━━━━━━━━━━\u001b[0m\u001b[37m\u001b[0m \u001b[1m7s\u001b[0m 213ms/step - accuracy: 0.4244 - loss: 1.0680 - precision: 0.6005 - recall: 0.0480 - val_accuracy: 0.4271 - val_loss: 1.0509 - val_precision: 0.5800 - val_recall: 0.1457\n",
      "Epoch 25/30\n",
      "\u001b[1m31/31\u001b[0m \u001b[32m━━━━━━━━━━━━━━━━━━━━\u001b[0m\u001b[37m\u001b[0m \u001b[1m7s\u001b[0m 213ms/step - accuracy: 0.4620 - loss: 1.0538 - precision: 0.6173 - recall: 0.0785 - val_accuracy: 0.4774 - val_loss: 1.0443 - val_precision: 0.5263 - val_recall: 0.1005\n",
      "Epoch 26/30\n",
      "\u001b[1m31/31\u001b[0m \u001b[32m━━━━━━━━━━━━━━━━━━━━\u001b[0m\u001b[37m\u001b[0m \u001b[1m7s\u001b[0m 212ms/step - accuracy: 0.4551 - loss: 1.0627 - precision: 0.6321 - recall: 0.0479 - val_accuracy: 0.4472 - val_loss: 1.0431 - val_precision: 0.5349 - val_recall: 0.1156\n",
      "Epoch 27/30\n",
      "\u001b[1m31/31\u001b[0m \u001b[32m━━━━━━━━━━━━━━━━━━━━\u001b[0m\u001b[37m\u001b[0m \u001b[1m7s\u001b[0m 216ms/step - accuracy: 0.4747 - loss: 1.0529 - precision: 0.6461 - recall: 0.0672 - val_accuracy: 0.5276 - val_loss: 1.0375 - val_precision: 0.5909 - val_recall: 0.1307\n",
      "Epoch 28/30\n",
      "\u001b[1m31/31\u001b[0m \u001b[32m━━━━━━━━━━━━━━━━━━━━\u001b[0m\u001b[37m\u001b[0m \u001b[1m7s\u001b[0m 214ms/step - accuracy: 0.5078 - loss: 1.0460 - precision: 0.6268 - recall: 0.0924 - val_accuracy: 0.5377 - val_loss: 1.0348 - val_precision: 0.5833 - val_recall: 0.1407\n",
      "Epoch 29/30\n",
      "\u001b[1m31/31\u001b[0m \u001b[32m━━━━━━━━━━━━━━━━━━━━\u001b[0m\u001b[37m\u001b[0m \u001b[1m7s\u001b[0m 217ms/step - accuracy: 0.5039 - loss: 1.0486 - precision: 0.6362 - recall: 0.0896 - val_accuracy: 0.5176 - val_loss: 1.0369 - val_precision: 0.6667 - val_recall: 0.0704\n",
      "Epoch 30/30\n",
      "\u001b[1m31/31\u001b[0m \u001b[32m━━━━━━━━━━━━━━━━━━━━\u001b[0m\u001b[37m\u001b[0m \u001b[1m7s\u001b[0m 212ms/step - accuracy: 0.5107 - loss: 1.0146 - precision: 0.7008 - recall: 0.1414 - val_accuracy: 0.5477 - val_loss: 0.9862 - val_precision: 0.6400 - val_recall: 0.2412\n",
      "Predicting on validation set...\n",
      "\u001b[1m7/7\u001b[0m \u001b[32m━━━━━━━━━━━━━━━━━━━━\u001b[0m\u001b[37m\u001b[0m \u001b[1m1s\u001b[0m 53ms/step\n",
      "Sending metrics to clearML...\n",
      "done\n",
      "ClearML Task: created new task id=14bde20a028d42bb9ea4212ecee0435b\n",
      "ClearML results page: https://app.clear.ml/projects/b431dd08d42446cea5eabf486b708404/experiments/14bde20a028d42bb9ea4212ecee0435b/output/log\n",
      "Training model...\n",
      "Epoch 1/30\n",
      "\u001b[1m47/47\u001b[0m \u001b[32m━━━━━━━━━━━━━━━━━━━━\u001b[0m\u001b[37m\u001b[0m \u001b[1m13s\u001b[0m 241ms/step - accuracy: 0.3424 - loss: 2.2081 - precision: 0.2923 - recall: 0.0643 - val_accuracy: 0.3317 - val_loss: 1.0992 - val_precision: 0.0000e+00 - val_recall: 0.0000e+00\n",
      "Epoch 2/30\n",
      "\u001b[1m47/47\u001b[0m \u001b[32m━━━━━━━━━━━━━━━━━━━━\u001b[0m\u001b[37m\u001b[0m \u001b[1m10s\u001b[0m 207ms/step - accuracy: 0.3116 - loss: 1.0999 - precision: 0.0000e+00 - recall: 0.0000e+00 - val_accuracy: 0.3367 - val_loss: 1.0989 - val_precision: 0.0000e+00 - val_recall: 0.0000e+00\n",
      "Epoch 3/30\n",
      "\u001b[1m47/47\u001b[0m \u001b[32m━━━━━━━━━━━━━━━━━━━━\u001b[0m\u001b[37m\u001b[0m \u001b[1m10s\u001b[0m 211ms/step - accuracy: 0.3172 - loss: 1.0985 - precision: 0.0000e+00 - recall: 0.0000e+00 - val_accuracy: 0.3317 - val_loss: 1.0990 - val_precision: 0.0000e+00 - val_recall: 0.0000e+00\n",
      "Epoch 4/30\n",
      "\u001b[1m47/47\u001b[0m \u001b[32m━━━━━━━━━━━━━━━━━━━━\u001b[0m\u001b[37m\u001b[0m \u001b[1m10s\u001b[0m 208ms/step - accuracy: 0.2980 - loss: 1.0996 - precision: 0.0000e+00 - recall: 0.0000e+00 - val_accuracy: 0.3317 - val_loss: 1.0988 - val_precision: 0.0000e+00 - val_recall: 0.0000e+00\n",
      "Epoch 5/30\n",
      "\u001b[1m47/47\u001b[0m \u001b[32m━━━━━━━━━━━━━━━━━━━━\u001b[0m\u001b[37m\u001b[0m \u001b[1m11s\u001b[0m 230ms/step - accuracy: 0.3170 - loss: 1.0991 - precision: 0.0000e+00 - recall: 0.0000e+00 - val_accuracy: 0.3317 - val_loss: 1.0988 - val_precision: 0.0000e+00 - val_recall: 0.0000e+00\n",
      "Epoch 6/30\n",
      "\u001b[1m47/47\u001b[0m \u001b[32m━━━━━━━━━━━━━━━━━━━━\u001b[0m\u001b[37m\u001b[0m \u001b[1m10s\u001b[0m 209ms/step - accuracy: 0.3249 - loss: 1.0986 - precision: 0.0000e+00 - recall: 0.0000e+00 - val_accuracy: 0.3317 - val_loss: 1.0988 - val_precision: 0.0000e+00 - val_recall: 0.0000e+00\n",
      "Epoch 7/30\n",
      "\u001b[1m47/47\u001b[0m \u001b[32m━━━━━━━━━━━━━━━━━━━━\u001b[0m\u001b[37m\u001b[0m \u001b[1m11s\u001b[0m 220ms/step - accuracy: 0.3061 - loss: 1.0984 - precision: 0.0000e+00 - recall: 0.0000e+00 - val_accuracy: 0.3367 - val_loss: 1.0996 - val_precision: 0.0000e+00 - val_recall: 0.0000e+00\n",
      "Epoch 8/30\n",
      "\u001b[1m47/47\u001b[0m \u001b[32m━━━━━━━━━━━━━━━━━━━━\u001b[0m\u001b[37m\u001b[0m \u001b[1m10s\u001b[0m 209ms/step - accuracy: 0.3350 - loss: 1.0994 - precision: 0.0000e+00 - recall: 0.0000e+00 - val_accuracy: 0.3317 - val_loss: 1.0985 - val_precision: 0.0000e+00 - val_recall: 0.0000e+00\n",
      "Epoch 9/30\n",
      "\u001b[1m47/47\u001b[0m \u001b[32m━━━━━━━━━━━━━━━━━━━━\u001b[0m\u001b[37m\u001b[0m \u001b[1m10s\u001b[0m 210ms/step - accuracy: 0.3092 - loss: 1.0995 - precision: 0.0000e+00 - recall: 0.0000e+00 - val_accuracy: 0.3317 - val_loss: 1.0984 - val_precision: 0.0000e+00 - val_recall: 0.0000e+00\n",
      "Epoch 10/30\n",
      "\u001b[1m47/47\u001b[0m \u001b[32m━━━━━━━━━━━━━━━━━━━━\u001b[0m\u001b[37m\u001b[0m \u001b[1m10s\u001b[0m 207ms/step - accuracy: 0.3069 - loss: 1.0993 - precision: 0.0000e+00 - recall: 0.0000e+00 - val_accuracy: 0.3317 - val_loss: 1.0982 - val_precision: 0.0000e+00 - val_recall: 0.0000e+00\n",
      "Epoch 11/30\n",
      "\u001b[1m47/47\u001b[0m \u001b[32m━━━━━━━━━━━━━━━━━━━━\u001b[0m\u001b[37m\u001b[0m \u001b[1m10s\u001b[0m 210ms/step - accuracy: 0.3155 - loss: 1.0995 - precision: 0.0000e+00 - recall: 0.0000e+00 - val_accuracy: 0.3317 - val_loss: 1.0985 - val_precision: 0.0000e+00 - val_recall: 0.0000e+00\n",
      "Epoch 12/30\n",
      "\u001b[1m47/47\u001b[0m \u001b[32m━━━━━━━━━━━━━━━━━━━━\u001b[0m\u001b[37m\u001b[0m \u001b[1m10s\u001b[0m 209ms/step - accuracy: 0.3174 - loss: 1.0990 - precision: 0.0000e+00 - recall: 0.0000e+00 - val_accuracy: 0.3317 - val_loss: 1.0985 - val_precision: 0.0000e+00 - val_recall: 0.0000e+00\n",
      "Epoch 13/30\n",
      "\u001b[1m47/47\u001b[0m \u001b[32m━━━━━━━━━━━━━━━━━━━━\u001b[0m\u001b[37m\u001b[0m \u001b[1m10s\u001b[0m 210ms/step - accuracy: 0.3186 - loss: 1.0991 - precision: 0.0000e+00 - recall: 0.0000e+00 - val_accuracy: 0.3317 - val_loss: 1.0983 - val_precision: 0.0000e+00 - val_recall: 0.0000e+00\n",
      "Epoch 14/30\n",
      "\u001b[1m47/47\u001b[0m \u001b[32m━━━━━━━━━━━━━━━━━━━━\u001b[0m\u001b[37m\u001b[0m \u001b[1m10s\u001b[0m 211ms/step - accuracy: 0.3306 - loss: 1.0989 - precision: 0.0000e+00 - recall: 0.0000e+00 - val_accuracy: 0.3317 - val_loss: 1.0980 - val_precision: 0.0000e+00 - val_recall: 0.0000e+00\n",
      "Epoch 15/30\n",
      "\u001b[1m47/47\u001b[0m \u001b[32m━━━━━━━━━━━━━━━━━━━━\u001b[0m\u001b[37m\u001b[0m \u001b[1m10s\u001b[0m 210ms/step - accuracy: 0.3206 - loss: 1.0987 - precision: 0.0000e+00 - recall: 0.0000e+00 - val_accuracy: 0.3317 - val_loss: 1.0982 - val_precision: 0.0000e+00 - val_recall: 0.0000e+00\n",
      "Epoch 16/30\n",
      "\u001b[1m47/47\u001b[0m \u001b[32m━━━━━━━━━━━━━━━━━━━━\u001b[0m\u001b[37m\u001b[0m \u001b[1m10s\u001b[0m 208ms/step - accuracy: 0.3265 - loss: 1.0980 - precision: 0.0000e+00 - recall: 0.0000e+00 - val_accuracy: 0.3317 - val_loss: 1.0980 - val_precision: 0.0000e+00 - val_recall: 0.0000e+00\n",
      "Epoch 17/30\n",
      "\u001b[1m47/47\u001b[0m \u001b[32m━━━━━━━━━━━━━━━━━━━━\u001b[0m\u001b[37m\u001b[0m \u001b[1m10s\u001b[0m 209ms/step - accuracy: 0.3161 - loss: 1.0988 - precision: 0.0000e+00 - recall: 0.0000e+00 - val_accuracy: 0.3317 - val_loss: 1.0977 - val_precision: 0.0000e+00 - val_recall: 0.0000e+00\n",
      "Epoch 18/30\n",
      "\u001b[1m47/47\u001b[0m \u001b[32m━━━━━━━━━━━━━━━━━━━━\u001b[0m\u001b[37m\u001b[0m \u001b[1m10s\u001b[0m 208ms/step - accuracy: 0.3179 - loss: 1.0981 - precision: 0.0000e+00 - recall: 0.0000e+00 - val_accuracy: 0.3317 - val_loss: 1.0970 - val_precision: 0.0000e+00 - val_recall: 0.0000e+00\n",
      "Epoch 19/30\n",
      "\u001b[1m47/47\u001b[0m \u001b[32m━━━━━━━━━━━━━━━━━━━━\u001b[0m\u001b[37m\u001b[0m \u001b[1m10s\u001b[0m 206ms/step - accuracy: 0.3305 - loss: 1.0987 - precision: 0.0365 - recall: 3.9636e-04 - val_accuracy: 0.3618 - val_loss: 1.0935 - val_precision: 0.0000e+00 - val_recall: 0.0000e+00\n",
      "Epoch 20/30\n",
      "\u001b[1m47/47\u001b[0m \u001b[32m━━━━━━━━━━━━━━━━━━━━\u001b[0m\u001b[37m\u001b[0m \u001b[1m10s\u001b[0m 206ms/step - accuracy: 0.3295 - loss: 1.0983 - precision: 0.0000e+00 - recall: 0.0000e+00 - val_accuracy: 0.3317 - val_loss: 1.0969 - val_precision: 0.0000e+00 - val_recall: 0.0000e+00\n",
      "Epoch 21/30\n",
      "\u001b[1m47/47\u001b[0m \u001b[32m━━━━━━━━━━━━━━━━━━━━\u001b[0m\u001b[37m\u001b[0m \u001b[1m10s\u001b[0m 212ms/step - accuracy: 0.3218 - loss: 1.0987 - precision: 0.0000e+00 - recall: 0.0000e+00 - val_accuracy: 0.3317 - val_loss: 1.0976 - val_precision: 0.0000e+00 - val_recall: 0.0000e+00\n",
      "Epoch 22/30\n",
      "\u001b[1m47/47\u001b[0m \u001b[32m━━━━━━━━━━━━━━━━━━━━\u001b[0m\u001b[37m\u001b[0m \u001b[1m10s\u001b[0m 211ms/step - accuracy: 0.3314 - loss: 1.0985 - precision: 0.0000e+00 - recall: 0.0000e+00 - val_accuracy: 0.3719 - val_loss: 1.0970 - val_precision: 0.0000e+00 - val_recall: 0.0000e+00\n",
      "Epoch 23/30\n",
      "\u001b[1m47/47\u001b[0m \u001b[32m━━━━━━━━━━━━━━━━━━━━\u001b[0m\u001b[37m\u001b[0m \u001b[1m10s\u001b[0m 209ms/step - accuracy: 0.3180 - loss: 1.0985 - precision: 0.0000e+00 - recall: 0.0000e+00 - val_accuracy: 0.3317 - val_loss: 1.0968 - val_precision: 0.0000e+00 - val_recall: 0.0000e+00\n",
      "Epoch 24/30\n",
      "\u001b[1m47/47\u001b[0m \u001b[32m━━━━━━━━━━━━━━━━━━━━\u001b[0m\u001b[37m\u001b[0m \u001b[1m10s\u001b[0m 208ms/step - accuracy: 0.3266 - loss: 1.1000 - precision: 0.0000e+00 - recall: 0.0000e+00 - val_accuracy: 0.3467 - val_loss: 1.0952 - val_precision: 0.0000e+00 - val_recall: 0.0000e+00\n",
      "Epoch 25/30\n",
      "\u001b[1m47/47\u001b[0m \u001b[32m━━━━━━━━━━━━━━━━━━━━\u001b[0m\u001b[37m\u001b[0m \u001b[1m10s\u001b[0m 211ms/step - accuracy: 0.3309 - loss: 1.1000 - precision: 0.0000e+00 - recall: 0.0000e+00 - val_accuracy: 0.3317 - val_loss: 1.0954 - val_precision: 0.0000e+00 - val_recall: 0.0000e+00\n",
      "Epoch 26/30\n",
      "\u001b[1m47/47\u001b[0m \u001b[32m━━━━━━━━━━━━━━━━━━━━\u001b[0m\u001b[37m\u001b[0m \u001b[1m10s\u001b[0m 208ms/step - accuracy: 0.3291 - loss: 1.0979 - precision: 0.0000e+00 - recall: 0.0000e+00 - val_accuracy: 0.4121 - val_loss: 1.0911 - val_precision: 0.0000e+00 - val_recall: 0.0000e+00\n",
      "Epoch 27/30\n",
      "\u001b[1m47/47\u001b[0m \u001b[32m━━━━━━━━━━━━━━━━━━━━\u001b[0m\u001b[37m\u001b[0m \u001b[1m10s\u001b[0m 207ms/step - accuracy: 0.3533 - loss: 1.0967 - precision: 0.0104 - recall: 2.8002e-05 - val_accuracy: 0.3367 - val_loss: 1.5057 - val_precision: 0.3618 - val_recall: 0.2764\n",
      "Epoch 28/30\n",
      "\u001b[1m47/47\u001b[0m \u001b[32m━━━━━━━━━━━━━━━━━━━━\u001b[0m\u001b[37m\u001b[0m \u001b[1m10s\u001b[0m 211ms/step - accuracy: 0.3423 - loss: 1.1341 - precision: 0.4003 - recall: 0.0290 - val_accuracy: 0.4171 - val_loss: 1.0889 - val_precision: 0.0000e+00 - val_recall: 0.0000e+00\n",
      "Epoch 29/30\n",
      "\u001b[1m47/47\u001b[0m \u001b[32m━━━━━━━━━━━━━━━━━━━━\u001b[0m\u001b[37m\u001b[0m \u001b[1m10s\u001b[0m 210ms/step - accuracy: 0.3488 - loss: 1.0977 - precision: 0.0000e+00 - recall: 0.0000e+00 - val_accuracy: 0.4070 - val_loss: 1.0889 - val_precision: 0.0000e+00 - val_recall: 0.0000e+00\n",
      "Epoch 30/30\n",
      "\u001b[1m47/47\u001b[0m \u001b[32m━━━━━━━━━━━━━━━━━━━━\u001b[0m\u001b[37m\u001b[0m \u001b[1m10s\u001b[0m 208ms/step - accuracy: 0.3602 - loss: 1.0994 - precision: 0.0000e+00 - recall: 0.0000e+00 - val_accuracy: 0.4372 - val_loss: 1.0888 - val_precision: 0.0000e+00 - val_recall: 0.0000e+00\n",
      "Predicting on validation set...\n",
      "\u001b[1m7/7\u001b[0m \u001b[32m━━━━━━━━━━━━━━━━━━━━\u001b[0m\u001b[37m\u001b[0m \u001b[1m1s\u001b[0m 52ms/step\n",
      "Sending metrics to clearML...\n",
      "done\n"
     ]
    }
   ],
   "source": [
    "# vertical flip augmentation\n",
    "task_name = 'vf'\n",
    "sub_project_name = 'V_FLIP'\n",
    "\n",
    "augmentation_metadata = {\n",
    "        'methods': {        \n",
    "            'flip': {\n",
    "                'parameters': {\n",
    "                    'orientation': 'v',  # Could be 'h' for horizontal or 'v' for vertical\n",
    "                    'p': 1.0  # Probability of applying the augmentation\n",
    "                },\n",
    "                'apply_to_percentage': 0.5  # 50% of the training images\n",
    "            }        \n",
    "        }\n",
    "    }\n",
    "\n",
    "for i in range(N):\n",
    "    RUN = i + 1\n",
    "    try:\n",
    "        print(f\"Starting RUN: {RUN}\")\n",
    "        main(RUN, augmentation_metadata, task_name, sub_project_name, epochs, train_size, w1, w2)    \n",
    "    except Exception as e:\n",
    "        print(f\"Error in RUN: {RUN}\")\n",
    "        print(e)\n",
    "    finally:\n",
    "        clear_output(wait=True)  # Clear the output to avoid scrolling\n",
    "        gc.collect()  # Collect garbage to avoid memory leaks"
   ]
  },
  {
   "cell_type": "code",
   "execution_count": 5,
   "metadata": {},
   "outputs": [
    {
     "name": "stdout",
     "output_type": "stream",
     "text": [
      "Starting RUN: 5\n",
      "Seed:  1456464458\n"
     ]
    },
    {
     "name": "stderr",
     "output_type": "stream",
     "text": [
      "c:\\github\\Third-Year-Project\\Intruder-Aircraft-Detection\\main\\tl_clf.py:79: SettingWithCopyWarning:\n",
      "\n",
      "\n",
      "A value is trying to be set on a copy of a slice from a DataFrame.\n",
      "Try using .loc[row_indexer,col_indexer] = value instead\n",
      "\n",
      "See the caveats in the documentation: https://pandas.pydata.org/pandas-docs/stable/user_guide/indexing.html#returning-a-view-versus-a-copy\n",
      "\n",
      "c:\\github\\Third-Year-Project\\Intruder-Aircraft-Detection\\main\\tl_clf.py:80: SettingWithCopyWarning:\n",
      "\n",
      "\n",
      "A value is trying to be set on a copy of a slice from a DataFrame.\n",
      "Try using .loc[row_indexer,col_indexer] = value instead\n",
      "\n",
      "See the caveats in the documentation: https://pandas.pydata.org/pandas-docs/stable/user_guide/indexing.html#returning-a-view-versus-a-copy\n",
      "\n"
     ]
    },
    {
     "name": "stdout",
     "output_type": "stream",
     "text": [
      "Removing dataset if pre-existing\n",
      "Copying training files:\n"
     ]
    },
    {
     "name": "stderr",
     "output_type": "stream",
     "text": [
      "Copying files: 100%|██████████| 2000/2000 [00:01<00:00, 1191.85it/s]\n"
     ]
    },
    {
     "name": "stdout",
     "output_type": "stream",
     "text": [
      "Copying validation files:\n"
     ]
    },
    {
     "name": "stderr",
     "output_type": "stream",
     "text": [
      "Copying files: 100%|██████████| 400/400 [00:00<00:00, 759.59it/s]\n"
     ]
    },
    {
     "name": "stdout",
     "output_type": "stream",
     "text": [
      "Dataset 'weather_01_1000' created at C:\\github\\Third-Year-Project\\Intruder-Aircraft-Detection\\datasets\\Custom\\weather_01_1000\n",
      "Processing train labels in weather_01_1000:\n"
     ]
    },
    {
     "name": "stderr",
     "output_type": "stream",
     "text": [
      "Processing labels: 100%|██████████| 1000/1000 [00:03<00:00, 279.07it/s]\n"
     ]
    },
    {
     "name": "stdout",
     "output_type": "stream",
     "text": [
      "Processing valid labels in weather_01_1000:\n"
     ]
    },
    {
     "name": "stderr",
     "output_type": "stream",
     "text": [
      "Processing labels: 100%|██████████| 200/200 [00:00<00:00, 284.44it/s]\n"
     ]
    },
    {
     "name": "stdout",
     "output_type": "stream",
     "text": [
      "Label correction completed.\n"
     ]
    },
    {
     "name": "stderr",
     "output_type": "stream",
     "text": [
      "Removing existing directories/files: 100%|██████████| 3/3 [00:00<00:00, 3000.93it/s]\n",
      "Copying files: 100%|██████████| 1000/1000 [00:00<00:00, 1247.33it/s]\n",
      "Copying files: 100%|██████████| 1000/1000 [00:00<00:00, 1466.95it/s]\n",
      "Applying augmentations: 100%|██████████| 500/500 [00:05<00:00, 86.97it/s] \n",
      "Processing images:  29%|██▊       | 286/1000 [00:10<00:21, 33.31it/s]"
     ]
    },
    {
     "name": "stdout",
     "output_type": "stream",
     "text": [
      "An error occurred with C:/github/Third-Year-Project/Intruder-Aircraft-Detection/datasets/Custom/weather_01_1000\\images\\train\\24416.jpg: Expected y_max for bbox (0.554391, 0.738745, 0.9893209999999999, 1.028699, 1) to be in the range [0.0, 1.0], got 1.028699.\n"
     ]
    },
    {
     "name": "stderr",
     "output_type": "stream",
     "text": [
      "Processing images:  63%|██████▎   | 627/1000 [00:20<00:10, 35.51it/s]"
     ]
    },
    {
     "name": "stdout",
     "output_type": "stream",
     "text": [
      "An error occurred with C:/github/Third-Year-Project/Intruder-Aircraft-Detection/datasets/Custom/weather_01_1000\\images\\train\\48182.jpg: Expected x_max for bbox (0.45793449999999997, 0.39898000000000006, 1.0627735, 0.802206, 2) to be in the range [0.0, 1.0], got 1.0627735.\n"
     ]
    },
    {
     "name": "stderr",
     "output_type": "stream",
     "text": [
      "Processing images:  67%|██████▋   | 672/1000 [00:22<00:09, 36.41it/s]"
     ]
    },
    {
     "name": "stdout",
     "output_type": "stream",
     "text": [
      "An error occurred with C:/github/Third-Year-Project/Intruder-Aircraft-Detection/datasets/Custom/weather_01_1000\\images\\train\\48506.jpg: Expected y_min for bbox (0.604137, -0.0008270000000000083, 0.899387, 0.196007, 2) to be in the range [0.0, 1.0], got -0.0008270000000000083.\n"
     ]
    },
    {
     "name": "stderr",
     "output_type": "stream",
     "text": [
      "Processing images:  70%|███████   | 705/1000 [00:23<00:08, 35.73it/s]"
     ]
    },
    {
     "name": "stdout",
     "output_type": "stream",
     "text": [
      "An error occurred with C:/github/Third-Year-Project/Intruder-Aircraft-Detection/datasets/Custom/weather_01_1000\\images\\train\\48653.jpg: In YOLO format all coordinates must be float and in range (0, 1]\n",
      "An error occurred with C:/github/Third-Year-Project/Intruder-Aircraft-Detection/datasets/Custom/weather_01_1000\\images\\train\\48705.jpg: Expected x_min for bbox (-0.07913550000000003, 0.055376499999999995, 0.8971595, 0.7062394999999999, 2) to be in the range [0.0, 1.0], got -0.07913550000000003.\n"
     ]
    },
    {
     "name": "stderr",
     "output_type": "stream",
     "text": [
      "Processing images:  72%|███████▏  | 719/1000 [00:23<00:07, 37.55it/s]"
     ]
    },
    {
     "name": "stdout",
     "output_type": "stream",
     "text": [
      "An error occurred with C:/github/Third-Year-Project/Intruder-Aircraft-Detection/datasets/Custom/weather_01_1000\\images\\train\\48746.jpg: Expected y_min for bbox (0.46203649999999996, -0.11042649999999998, 1.0618375, 0.2894405, 2) to be in the range [0.0, 1.0], got -0.11042649999999998.\n"
     ]
    },
    {
     "name": "stderr",
     "output_type": "stream",
     "text": [
      "Processing images:  80%|████████  | 804/1000 [00:26<00:05, 35.14it/s]"
     ]
    },
    {
     "name": "stdout",
     "output_type": "stream",
     "text": [
      "An error occurred with C:/github/Third-Year-Project/Intruder-Aircraft-Detection/datasets/Custom/weather_01_1000\\images\\train\\49296.jpg: Expected x_max for bbox (0.368679, 0.3249835, 1.086079, 0.8032505, 2) to be in the range [0.0, 1.0], got 1.086079.\n"
     ]
    },
    {
     "name": "stderr",
     "output_type": "stream",
     "text": [
      "Processing images:  89%|████████▉ | 893/1000 [00:28<00:02, 36.99it/s]"
     ]
    },
    {
     "name": "stdout",
     "output_type": "stream",
     "text": [
      "An error occurred with C:/github/Third-Year-Project/Intruder-Aircraft-Detection/datasets/Custom/weather_01_1000\\images\\train\\49729.jpg: Expected x_max for bbox (0.425531, 0.400972, 1.050599, 0.8176840000000001, 2) to be in the range [0.0, 1.0], got 1.050599.\n"
     ]
    },
    {
     "name": "stderr",
     "output_type": "stream",
     "text": [
      "Processing images: 100%|██████████| 1000/1000 [00:31<00:00, 31.57it/s]\n",
      "Processing images:  28%|██▊       | 419/1500 [00:15<00:30, 35.27it/s]"
     ]
    },
    {
     "name": "stdout",
     "output_type": "stream",
     "text": [
      "An error occurred with C:/github/Third-Year-Project/Intruder-Aircraft-Detection/datasets/Custom/weather_01_1000\\images\\train-aug\\24416.jpg: Expected y_max for bbox (0.554391, 0.738745, 0.9893209999999999, 1.028699, 1) to be in the range [0.0, 1.0], got 1.028699.\n",
      "An error occurred with C:/github/Third-Year-Project/Intruder-Aircraft-Detection/datasets/Custom/weather_01_1000\\images\\train-aug\\24416-histEq.jpg: Expected y_max for bbox (0.554391, 0.738745, 0.9893209999999999, 1.028699, 1) to be in the range [0.0, 1.0], got 1.028699.\n"
     ]
    },
    {
     "name": "stderr",
     "output_type": "stream",
     "text": [
      "Processing images:  61%|██████    | 917/1500 [00:30<00:15, 36.61it/s]"
     ]
    },
    {
     "name": "stdout",
     "output_type": "stream",
     "text": [
      "An error occurred with C:/github/Third-Year-Project/Intruder-Aircraft-Detection/datasets/Custom/weather_01_1000\\images\\train-aug\\48182.jpg: Expected x_max for bbox (0.45793449999999997, 0.39898000000000006, 1.0627735, 0.802206, 2) to be in the range [0.0, 1.0], got 1.0627735.\n",
      "An error occurred with C:/github/Third-Year-Project/Intruder-Aircraft-Detection/datasets/Custom/weather_01_1000\\images\\train-aug\\48182-histEq.jpg: Expected x_max for bbox (0.45793449999999997, 0.39898000000000006, 1.0627735, 0.802206, 2) to be in the range [0.0, 1.0], got 1.0627735.\n"
     ]
    },
    {
     "name": "stderr",
     "output_type": "stream",
     "text": [
      "Processing images:  67%|██████▋   | 999/1500 [00:33<00:13, 38.23it/s]"
     ]
    },
    {
     "name": "stdout",
     "output_type": "stream",
     "text": [
      "An error occurred with C:/github/Third-Year-Project/Intruder-Aircraft-Detection/datasets/Custom/weather_01_1000\\images\\train-aug\\48506-histEq.jpg: Expected y_min for bbox (0.604137, -0.0008270000000000083, 0.899387, 0.196007, 2) to be in the range [0.0, 1.0], got -0.0008270000000000083.\n",
      "An error occurred with C:/github/Third-Year-Project/Intruder-Aircraft-Detection/datasets/Custom/weather_01_1000\\images\\train-aug\\48506.jpg: Expected y_min for bbox (0.604137, -0.0008270000000000083, 0.899387, 0.196007, 2) to be in the range [0.0, 1.0], got -0.0008270000000000083.\n"
     ]
    },
    {
     "name": "stderr",
     "output_type": "stream",
     "text": [
      "Processing images:  70%|██████▉   | 1048/1500 [00:34<00:12, 36.00it/s]"
     ]
    },
    {
     "name": "stdout",
     "output_type": "stream",
     "text": [
      "An error occurred with C:/github/Third-Year-Project/Intruder-Aircraft-Detection/datasets/Custom/weather_01_1000\\images\\train-aug\\48653.jpg: In YOLO format all coordinates must be float and in range (0, 1]\n",
      "An error occurred with C:/github/Third-Year-Project/Intruder-Aircraft-Detection/datasets/Custom/weather_01_1000\\images\\train-aug\\48653-histEq.jpg: In YOLO format all coordinates must be float and in range (0, 1]\n"
     ]
    },
    {
     "name": "stderr",
     "output_type": "stream",
     "text": [
      "Processing images:  71%|███████▏  | 1069/1500 [00:35<00:11, 36.02it/s]"
     ]
    },
    {
     "name": "stdout",
     "output_type": "stream",
     "text": [
      "An error occurred with C:/github/Third-Year-Project/Intruder-Aircraft-Detection/datasets/Custom/weather_01_1000\\images\\train-aug\\48705.jpg: Expected x_min for bbox (-0.07913550000000003, 0.055376499999999995, 0.8971595, 0.7062394999999999, 2) to be in the range [0.0, 1.0], got -0.07913550000000003.\n",
      "An error occurred with C:/github/Third-Year-Project/Intruder-Aircraft-Detection/datasets/Custom/weather_01_1000\\images\\train-aug\\48746.jpg: Expected y_min for bbox (0.46203649999999996, -0.11042649999999998, 1.0618375, 0.2894405, 2) to be in the range [0.0, 1.0], got -0.11042649999999998.\n",
      "An error occurred with C:/github/Third-Year-Project/Intruder-Aircraft-Detection/datasets/Custom/weather_01_1000\\images\\train-aug\\48746-histEq.jpg: Expected y_min for bbox (0.46203649999999996, -0.11042649999999998, 1.0618375, 0.2894405, 2) to be in the range [0.0, 1.0], got -0.11042649999999998.\n"
     ]
    },
    {
     "name": "stderr",
     "output_type": "stream",
     "text": [
      "Processing images:  80%|████████  | 1206/1500 [00:39<00:07, 36.96it/s]"
     ]
    },
    {
     "name": "stdout",
     "output_type": "stream",
     "text": [
      "An error occurred with C:/github/Third-Year-Project/Intruder-Aircraft-Detection/datasets/Custom/weather_01_1000\\images\\train-aug\\49296.jpg: Expected x_max for bbox (0.368679, 0.3249835, 1.086079, 0.8032505, 2) to be in the range [0.0, 1.0], got 1.086079.\n",
      "An error occurred with C:/github/Third-Year-Project/Intruder-Aircraft-Detection/datasets/Custom/weather_01_1000\\images\\train-aug\\49296-histEq.jpg: Expected x_max for bbox (0.368679, 0.3249835, 1.086079, 0.8032505, 2) to be in the range [0.0, 1.0], got 1.086079.\n"
     ]
    },
    {
     "name": "stderr",
     "output_type": "stream",
     "text": [
      "Processing images:  89%|████████▊ | 1328/1500 [00:42<00:04, 39.37it/s]"
     ]
    },
    {
     "name": "stdout",
     "output_type": "stream",
     "text": [
      "An error occurred with C:/github/Third-Year-Project/Intruder-Aircraft-Detection/datasets/Custom/weather_01_1000\\images\\train-aug\\49729.jpg: Expected x_max for bbox (0.425531, 0.400972, 1.050599, 0.8176840000000001, 2) to be in the range [0.0, 1.0], got 1.050599.\n",
      "An error occurred with C:/github/Third-Year-Project/Intruder-Aircraft-Detection/datasets/Custom/weather_01_1000\\images\\train-aug\\49729-histEq.jpg: Expected x_max for bbox (0.425531, 0.400972, 1.050599, 0.8176840000000001, 2) to be in the range [0.0, 1.0], got 1.050599.\n"
     ]
    },
    {
     "name": "stderr",
     "output_type": "stream",
     "text": [
      "Processing images: 100%|██████████| 1500/1500 [00:47<00:00, 31.34it/s]\n",
      "Processing images:  55%|█████▌    | 110/200 [00:03<00:02, 35.11it/s]"
     ]
    },
    {
     "name": "stdout",
     "output_type": "stream",
     "text": [
      "An error occurred with C:/github/Third-Year-Project/Intruder-Aircraft-Detection/datasets/Custom/weather_01_1000\\images\\valid\\48958.jpg: Expected y_min for bbox (0.11869149999999995, -0.083345, 1.0148305, 0.514081, 2) to be in the range [0.0, 1.0], got -0.083345.\n"
     ]
    },
    {
     "name": "stderr",
     "output_type": "stream",
     "text": [
      "Processing images: 100%|██████████| 200/200 [00:06<00:00, 31.18it/s]\n",
      "Moving images in train: 100%|██████████| 992/992 [00:03<00:00, 281.03it/s]\n",
      "Moving images in train-aug: 100%|██████████| 1485/1485 [00:03<00:00, 432.68it/s]\n",
      "Moving images in valid: 100%|██████████| 199/199 [00:00<00:00, 290.31it/s]\n"
     ]
    },
    {
     "name": "stdout",
     "output_type": "stream",
     "text": [
      "Found 992 files belonging to 3 classes.\n",
      "Found 1485 files belonging to 3 classes.\n",
      "Found 199 files belonging to 3 classes.\n",
      "ClearML Task: created new task id=1113af4493524017bc9d3abee44d65dc\n",
      "ClearML results page: https://app.clear.ml/projects/62a798cfc814437d80f9638b3e3aca6d/experiments/1113af4493524017bc9d3abee44d65dc/output/log\n",
      "Training model...\n",
      "Epoch 1/30\n",
      "\u001b[1m31/31\u001b[0m \u001b[32m━━━━━━━━━━━━━━━━━━━━\u001b[0m\u001b[37m\u001b[0m \u001b[1m10s\u001b[0m 258ms/step - accuracy: 0.3435 - loss: 2.7537 - precision: 0.2863 - recall: 0.1208 - val_accuracy: 0.3266 - val_loss: 1.1004 - val_precision: 0.0000e+00 - val_recall: 0.0000e+00\n",
      "Epoch 2/30\n",
      "\u001b[1m31/31\u001b[0m \u001b[32m━━━━━━━━━━━━━━━━━━━━\u001b[0m\u001b[37m\u001b[0m \u001b[1m7s\u001b[0m 215ms/step - accuracy: 0.3284 - loss: 1.1002 - precision: 0.0000e+00 - recall: 0.0000e+00 - val_accuracy: 0.3367 - val_loss: 1.0986 - val_precision: 0.0000e+00 - val_recall: 0.0000e+00\n",
      "Epoch 3/30\n",
      "\u001b[1m31/31\u001b[0m \u001b[32m━━━━━━━━━━━━━━━━━━━━\u001b[0m\u001b[37m\u001b[0m \u001b[1m7s\u001b[0m 212ms/step - accuracy: 0.3250 - loss: 1.0987 - precision: 0.0000e+00 - recall: 0.0000e+00 - val_accuracy: 0.3367 - val_loss: 1.0984 - val_precision: 0.0000e+00 - val_recall: 0.0000e+00\n",
      "Epoch 4/30\n",
      "\u001b[1m31/31\u001b[0m \u001b[32m━━━━━━━━━━━━━━━━━━━━\u001b[0m\u001b[37m\u001b[0m \u001b[1m7s\u001b[0m 220ms/step - accuracy: 0.3343 - loss: 1.0987 - precision: 0.0000e+00 - recall: 0.0000e+00 - val_accuracy: 0.3367 - val_loss: 1.0990 - val_precision: 0.0000e+00 - val_recall: 0.0000e+00\n",
      "Epoch 5/30\n",
      "\u001b[1m31/31\u001b[0m \u001b[32m━━━━━━━━━━━━━━━━━━━━\u001b[0m\u001b[37m\u001b[0m \u001b[1m7s\u001b[0m 212ms/step - accuracy: 0.3713 - loss: 1.1011 - precision: 0.0000e+00 - recall: 0.0000e+00 - val_accuracy: 0.3568 - val_loss: 1.0986 - val_precision: 0.0000e+00 - val_recall: 0.0000e+00\n",
      "Epoch 6/30\n",
      "\u001b[1m31/31\u001b[0m \u001b[32m━━━━━━━━━━━━━━━━━━━━\u001b[0m\u001b[37m\u001b[0m \u001b[1m7s\u001b[0m 222ms/step - accuracy: 0.3408 - loss: 1.0986 - precision: 0.0000e+00 - recall: 0.0000e+00 - val_accuracy: 0.3417 - val_loss: 1.0984 - val_precision: 0.0000e+00 - val_recall: 0.0000e+00\n",
      "Epoch 7/30\n",
      "\u001b[1m31/31\u001b[0m \u001b[32m━━━━━━━━━━━━━━━━━━━━\u001b[0m\u001b[37m\u001b[0m \u001b[1m8s\u001b[0m 245ms/step - accuracy: 0.3593 - loss: 1.0982 - precision: 0.0000e+00 - recall: 0.0000e+00 - val_accuracy: 0.3367 - val_loss: 1.0980 - val_precision: 0.0000e+00 - val_recall: 0.0000e+00\n",
      "Epoch 8/30\n",
      "\u001b[1m31/31\u001b[0m \u001b[32m━━━━━━━━━━━━━━━━━━━━\u001b[0m\u001b[37m\u001b[0m \u001b[1m7s\u001b[0m 215ms/step - accuracy: 0.3468 - loss: 1.1015 - precision: 0.0000e+00 - recall: 0.0000e+00 - val_accuracy: 0.5075 - val_loss: 1.0951 - val_precision: 0.0000e+00 - val_recall: 0.0000e+00\n",
      "Epoch 9/30\n",
      "\u001b[1m31/31\u001b[0m \u001b[32m━━━━━━━━━━━━━━━━━━━━\u001b[0m\u001b[37m\u001b[0m \u001b[1m7s\u001b[0m 215ms/step - accuracy: 0.3489 - loss: 1.0969 - precision: 0.0000e+00 - recall: 0.0000e+00 - val_accuracy: 0.5025 - val_loss: 1.0629 - val_precision: 0.0000e+00 - val_recall: 0.0000e+00\n",
      "Epoch 10/30\n",
      "\u001b[1m31/31\u001b[0m \u001b[32m━━━━━━━━━━━━━━━━━━━━\u001b[0m\u001b[37m\u001b[0m \u001b[1m7s\u001b[0m 217ms/step - accuracy: 0.5603 - loss: 1.0089 - precision: 0.6792 - recall: 0.1056 - val_accuracy: 0.5980 - val_loss: 0.8996 - val_precision: 0.6806 - val_recall: 0.4925\n",
      "Epoch 11/30\n",
      "\u001b[1m31/31\u001b[0m \u001b[32m━━━━━━━━━━━━━━━━━━━━\u001b[0m\u001b[37m\u001b[0m \u001b[1m7s\u001b[0m 211ms/step - accuracy: 0.6351 - loss: 0.8469 - precision: 0.7303 - recall: 0.4523 - val_accuracy: 0.6482 - val_loss: 0.8675 - val_precision: 0.7245 - val_recall: 0.3568\n",
      "Epoch 12/30\n",
      "\u001b[1m31/31\u001b[0m \u001b[32m━━━━━━━━━━━━━━━━━━━━\u001b[0m\u001b[37m\u001b[0m \u001b[1m7s\u001b[0m 212ms/step - accuracy: 0.6819 - loss: 0.7341 - precision: 0.7719 - recall: 0.5502 - val_accuracy: 0.5980 - val_loss: 0.9097 - val_precision: 0.6447 - val_recall: 0.4925\n",
      "Epoch 13/30\n",
      "\u001b[1m31/31\u001b[0m \u001b[32m━━━━━━━━━━━━━━━━━━━━\u001b[0m\u001b[37m\u001b[0m \u001b[1m7s\u001b[0m 212ms/step - accuracy: 0.7240 - loss: 0.6597 - precision: 0.8108 - recall: 0.6242 - val_accuracy: 0.5980 - val_loss: 0.8167 - val_precision: 0.7119 - val_recall: 0.4221\n",
      "Epoch 14/30\n",
      "\u001b[1m31/31\u001b[0m \u001b[32m━━━━━━━━━━━━━━━━━━━━\u001b[0m\u001b[37m\u001b[0m \u001b[1m7s\u001b[0m 214ms/step - accuracy: 0.7178 - loss: 0.6701 - precision: 0.8041 - recall: 0.5799 - val_accuracy: 0.6884 - val_loss: 0.7692 - val_precision: 0.7595 - val_recall: 0.6030\n",
      "Epoch 15/30\n",
      "\u001b[1m31/31\u001b[0m \u001b[32m━━━━━━━━━━━━━━━━━━━━\u001b[0m\u001b[37m\u001b[0m \u001b[1m7s\u001b[0m 213ms/step - accuracy: 0.7622 - loss: 0.5604 - precision: 0.8027 - recall: 0.7031 - val_accuracy: 0.6231 - val_loss: 0.7918 - val_precision: 0.6800 - val_recall: 0.5126\n",
      "Epoch 16/30\n",
      "\u001b[1m31/31\u001b[0m \u001b[32m━━━━━━━━━━━━━━━━━━━━\u001b[0m\u001b[37m\u001b[0m \u001b[1m7s\u001b[0m 218ms/step - accuracy: 0.7689 - loss: 0.5333 - precision: 0.8225 - recall: 0.7165 - val_accuracy: 0.7186 - val_loss: 0.8340 - val_precision: 0.7571 - val_recall: 0.6734\n",
      "Epoch 17/30\n",
      "\u001b[1m31/31\u001b[0m \u001b[32m━━━━━━━━━━━━━━━━━━━━\u001b[0m\u001b[37m\u001b[0m \u001b[1m7s\u001b[0m 214ms/step - accuracy: 0.7918 - loss: 0.4539 - precision: 0.8473 - recall: 0.7665 - val_accuracy: 0.7085 - val_loss: 0.9466 - val_precision: 0.7189 - val_recall: 0.6683\n",
      "Epoch 18/30\n",
      "\u001b[1m31/31\u001b[0m \u001b[32m━━━━━━━━━━━━━━━━━━━━\u001b[0m\u001b[37m\u001b[0m \u001b[1m7s\u001b[0m 214ms/step - accuracy: 0.8353 - loss: 0.4092 - precision: 0.8664 - recall: 0.8019 - val_accuracy: 0.7085 - val_loss: 0.8209 - val_precision: 0.7198 - val_recall: 0.6583\n",
      "Epoch 19/30\n",
      "\u001b[1m31/31\u001b[0m \u001b[32m━━━━━━━━━━━━━━━━━━━━\u001b[0m\u001b[37m\u001b[0m \u001b[1m7s\u001b[0m 213ms/step - accuracy: 0.8423 - loss: 0.3718 - precision: 0.8567 - recall: 0.8135 - val_accuracy: 0.7286 - val_loss: 0.8047 - val_precision: 0.7432 - val_recall: 0.6834\n",
      "Epoch 20/30\n",
      "\u001b[1m31/31\u001b[0m \u001b[32m━━━━━━━━━━━━━━━━━━━━\u001b[0m\u001b[37m\u001b[0m \u001b[1m7s\u001b[0m 213ms/step - accuracy: 0.8689 - loss: 0.3429 - precision: 0.8829 - recall: 0.8461 - val_accuracy: 0.7136 - val_loss: 0.9419 - val_precision: 0.7273 - val_recall: 0.6834\n",
      "Epoch 21/30\n",
      "\u001b[1m31/31\u001b[0m \u001b[32m━━━━━━━━━━━━━━━━━━━━\u001b[0m\u001b[37m\u001b[0m \u001b[1m7s\u001b[0m 215ms/step - accuracy: 0.8744 - loss: 0.2992 - precision: 0.8916 - recall: 0.8562 - val_accuracy: 0.6834 - val_loss: 0.9230 - val_precision: 0.7348 - val_recall: 0.6683\n",
      "Epoch 22/30\n",
      "\u001b[1m31/31\u001b[0m \u001b[32m━━━━━━━━━━━━━━━━━━━━\u001b[0m\u001b[37m\u001b[0m \u001b[1m7s\u001b[0m 221ms/step - accuracy: 0.9004 - loss: 0.2729 - precision: 0.9190 - recall: 0.8805 - val_accuracy: 0.6985 - val_loss: 1.1653 - val_precision: 0.7143 - val_recall: 0.6784\n",
      "Epoch 23/30\n",
      "\u001b[1m31/31\u001b[0m \u001b[32m━━━━━━━━━━━━━━━━━━━━\u001b[0m\u001b[37m\u001b[0m \u001b[1m7s\u001b[0m 214ms/step - accuracy: 0.9057 - loss: 0.2495 - precision: 0.9113 - recall: 0.8940 - val_accuracy: 0.6784 - val_loss: 1.1437 - val_precision: 0.6989 - val_recall: 0.6533\n",
      "Epoch 24/30\n",
      "\u001b[1m31/31\u001b[0m \u001b[32m━━━━━━━━━━━━━━━━━━━━\u001b[0m\u001b[37m\u001b[0m \u001b[1m7s\u001b[0m 214ms/step - accuracy: 0.8802 - loss: 0.2899 - precision: 0.8893 - recall: 0.8719 - val_accuracy: 0.7186 - val_loss: 1.0964 - val_precision: 0.7202 - val_recall: 0.6985\n",
      "Epoch 25/30\n",
      "\u001b[1m31/31\u001b[0m \u001b[32m━━━━━━━━━━━━━━━━━━━━\u001b[0m\u001b[37m\u001b[0m \u001b[1m7s\u001b[0m 211ms/step - accuracy: 0.9270 - loss: 0.2036 - precision: 0.9357 - recall: 0.9188 - val_accuracy: 0.6935 - val_loss: 1.1362 - val_precision: 0.7016 - val_recall: 0.6734\n",
      "Epoch 26/30\n",
      "\u001b[1m31/31\u001b[0m \u001b[32m━━━━━━━━━━━━━━━━━━━━\u001b[0m\u001b[37m\u001b[0m \u001b[1m7s\u001b[0m 216ms/step - accuracy: 0.9087 - loss: 0.2278 - precision: 0.9172 - recall: 0.9014 - val_accuracy: 0.7035 - val_loss: 1.0990 - val_precision: 0.7216 - val_recall: 0.7035\n",
      "Epoch 27/30\n",
      "\u001b[1m31/31\u001b[0m \u001b[32m━━━━━━━━━━━━━━━━━━━━\u001b[0m\u001b[37m\u001b[0m \u001b[1m7s\u001b[0m 217ms/step - accuracy: 0.9270 - loss: 0.2163 - precision: 0.9329 - recall: 0.9195 - val_accuracy: 0.7136 - val_loss: 0.9876 - val_precision: 0.7254 - val_recall: 0.7035\n",
      "Epoch 28/30\n",
      "\u001b[1m31/31\u001b[0m \u001b[32m━━━━━━━━━━━━━━━━━━━━\u001b[0m\u001b[37m\u001b[0m \u001b[1m7s\u001b[0m 215ms/step - accuracy: 0.9420 - loss: 0.1760 - precision: 0.9433 - recall: 0.9359 - val_accuracy: 0.6985 - val_loss: 1.2247 - val_precision: 0.7150 - val_recall: 0.6935\n",
      "Epoch 29/30\n",
      "\u001b[1m31/31\u001b[0m \u001b[32m━━━━━━━━━━━━━━━━━━━━\u001b[0m\u001b[37m\u001b[0m \u001b[1m7s\u001b[0m 213ms/step - accuracy: 0.9507 - loss: 0.1394 - precision: 0.9547 - recall: 0.9459 - val_accuracy: 0.7085 - val_loss: 1.3055 - val_precision: 0.7216 - val_recall: 0.7035\n",
      "Epoch 30/30\n",
      "\u001b[1m31/31\u001b[0m \u001b[32m━━━━━━━━━━━━━━━━━━━━\u001b[0m\u001b[37m\u001b[0m \u001b[1m7s\u001b[0m 211ms/step - accuracy: 0.9443 - loss: 0.1464 - precision: 0.9468 - recall: 0.9408 - val_accuracy: 0.7136 - val_loss: 1.3143 - val_precision: 0.7194 - val_recall: 0.7085\n",
      "Predicting on validation set...\n",
      "\u001b[1m7/7\u001b[0m \u001b[32m━━━━━━━━━━━━━━━━━━━━\u001b[0m\u001b[37m\u001b[0m \u001b[1m1s\u001b[0m 51ms/step\n",
      "Sending metrics to clearML...\n",
      "done\n",
      "ClearML Task: created new task id=25a0e49985024ad6a794b3e792ab7672\n",
      "ClearML results page: https://app.clear.ml/projects/62a798cfc814437d80f9638b3e3aca6d/experiments/25a0e49985024ad6a794b3e792ab7672/output/log\n",
      "Training model...\n",
      "Epoch 1/30\n",
      "\u001b[1m47/47\u001b[0m \u001b[32m━━━━━━━━━━━━━━━━━━━━\u001b[0m\u001b[37m\u001b[0m \u001b[1m13s\u001b[0m 239ms/step - accuracy: 0.3669 - loss: 1.8965 - precision: 0.3775 - recall: 0.1187 - val_accuracy: 0.3266 - val_loss: 1.1083 - val_precision: 0.0000e+00 - val_recall: 0.0000e+00\n",
      "Epoch 2/30\n",
      "\u001b[1m47/47\u001b[0m \u001b[32m━━━━━━━━━━━━━━━━━━━━\u001b[0m\u001b[37m\u001b[0m \u001b[1m10s\u001b[0m 206ms/step - accuracy: 0.3181 - loss: 1.1046 - precision: 0.0000e+00 - recall: 0.0000e+00 - val_accuracy: 0.3367 - val_loss: 1.0975 - val_precision: 0.0000e+00 - val_recall: 0.0000e+00\n",
      "Epoch 3/30\n",
      "\u001b[1m47/47\u001b[0m \u001b[32m━━━━━━━━━━━━━━━━━━━━\u001b[0m\u001b[37m\u001b[0m \u001b[1m10s\u001b[0m 210ms/step - accuracy: 0.3661 - loss: 1.1009 - precision: 0.0286 - recall: 2.7111e-04 - val_accuracy: 0.4824 - val_loss: 1.0878 - val_precision: 0.0000e+00 - val_recall: 0.0000e+00\n",
      "Epoch 4/30\n",
      "\u001b[1m47/47\u001b[0m \u001b[32m━━━━━━━━━━━━━━━━━━━━\u001b[0m\u001b[37m\u001b[0m \u001b[1m10s\u001b[0m 206ms/step - accuracy: 0.5010 - loss: 1.0566 - precision: 0.4830 - recall: 0.0712 - val_accuracy: 0.3618 - val_loss: 1.5775 - val_precision: 0.3641 - val_recall: 0.3568\n",
      "Epoch 5/30\n",
      "\u001b[1m47/47\u001b[0m \u001b[32m━━━━━━━━━━━━━━━━━━━━\u001b[0m\u001b[37m\u001b[0m \u001b[1m11s\u001b[0m 231ms/step - accuracy: 0.6032 - loss: 0.9626 - precision: 0.6763 - recall: 0.3426 - val_accuracy: 0.6131 - val_loss: 0.8732 - val_precision: 0.7447 - val_recall: 0.3518\n",
      "Epoch 6/30\n",
      "\u001b[1m47/47\u001b[0m \u001b[32m━━━━━━━━━━━━━━━━━━━━\u001b[0m\u001b[37m\u001b[0m \u001b[1m10s\u001b[0m 209ms/step - accuracy: 0.6810 - loss: 0.7259 - precision: 0.7717 - recall: 0.5484 - val_accuracy: 0.6482 - val_loss: 0.8585 - val_precision: 0.7163 - val_recall: 0.5075\n",
      "Epoch 7/30\n",
      "\u001b[1m47/47\u001b[0m \u001b[32m━━━━━━━━━━━━━━━━━━━━\u001b[0m\u001b[37m\u001b[0m \u001b[1m10s\u001b[0m 211ms/step - accuracy: 0.7478 - loss: 0.5967 - precision: 0.8017 - recall: 0.6818 - val_accuracy: 0.6533 - val_loss: 0.7822 - val_precision: 0.7329 - val_recall: 0.5377\n",
      "Epoch 8/30\n",
      "\u001b[1m47/47\u001b[0m \u001b[32m━━━━━━━━━━━━━━━━━━━━\u001b[0m\u001b[37m\u001b[0m \u001b[1m10s\u001b[0m 205ms/step - accuracy: 0.7948 - loss: 0.5179 - precision: 0.8462 - recall: 0.7212 - val_accuracy: 0.6784 - val_loss: 0.8439 - val_precision: 0.6889 - val_recall: 0.6231\n",
      "Epoch 9/30\n",
      "\u001b[1m47/47\u001b[0m \u001b[32m━━━━━━━━━━━━━━━━━━━━\u001b[0m\u001b[37m\u001b[0m \u001b[1m10s\u001b[0m 206ms/step - accuracy: 0.8277 - loss: 0.4352 - precision: 0.8634 - recall: 0.7890 - val_accuracy: 0.7085 - val_loss: 1.0648 - val_precision: 0.7405 - val_recall: 0.6884\n",
      "Epoch 10/30\n",
      "\u001b[1m47/47\u001b[0m \u001b[32m━━━━━━━━━━━━━━━━━━━━\u001b[0m\u001b[37m\u001b[0m \u001b[1m10s\u001b[0m 211ms/step - accuracy: 0.8390 - loss: 0.4035 - precision: 0.8668 - recall: 0.8025 - val_accuracy: 0.7035 - val_loss: 1.0276 - val_precision: 0.7389 - val_recall: 0.6683\n",
      "Epoch 11/30\n",
      "\u001b[1m47/47\u001b[0m \u001b[32m━━━━━━━━━━━━━━━━━━━━\u001b[0m\u001b[37m\u001b[0m \u001b[1m10s\u001b[0m 209ms/step - accuracy: 0.8567 - loss: 0.3727 - precision: 0.8781 - recall: 0.8378 - val_accuracy: 0.7186 - val_loss: 0.9826 - val_precision: 0.7460 - val_recall: 0.7085\n",
      "Epoch 12/30\n",
      "\u001b[1m47/47\u001b[0m \u001b[32m━━━━━━━━━━━━━━━━━━━━\u001b[0m\u001b[37m\u001b[0m \u001b[1m10s\u001b[0m 208ms/step - accuracy: 0.8816 - loss: 0.3023 - precision: 0.9009 - recall: 0.8648 - val_accuracy: 0.7085 - val_loss: 1.0554 - val_precision: 0.7254 - val_recall: 0.7035\n",
      "Epoch 13/30\n",
      "\u001b[1m47/47\u001b[0m \u001b[32m━━━━━━━━━━━━━━━━━━━━\u001b[0m\u001b[37m\u001b[0m \u001b[1m10s\u001b[0m 208ms/step - accuracy: 0.8832 - loss: 0.2823 - precision: 0.8966 - recall: 0.8619 - val_accuracy: 0.7186 - val_loss: 1.1689 - val_precision: 0.7333 - val_recall: 0.7186\n",
      "Epoch 14/30\n",
      "\u001b[1m47/47\u001b[0m \u001b[32m━━━━━━━━━━━━━━━━━━━━\u001b[0m\u001b[37m\u001b[0m \u001b[1m10s\u001b[0m 210ms/step - accuracy: 0.9151 - loss: 0.2400 - precision: 0.9259 - recall: 0.9026 - val_accuracy: 0.7437 - val_loss: 1.1751 - val_precision: 0.7487 - val_recall: 0.7337\n",
      "Epoch 15/30\n",
      "\u001b[1m47/47\u001b[0m \u001b[32m━━━━━━━━━━━━━━━━━━━━\u001b[0m\u001b[37m\u001b[0m \u001b[1m10s\u001b[0m 209ms/step - accuracy: 0.9289 - loss: 0.1828 - precision: 0.9399 - recall: 0.9236 - val_accuracy: 0.6633 - val_loss: 1.4318 - val_precision: 0.6771 - val_recall: 0.6533\n",
      "Epoch 16/30\n",
      "\u001b[1m47/47\u001b[0m \u001b[32m━━━━━━━━━━━━━━━━━━━━\u001b[0m\u001b[37m\u001b[0m \u001b[1m10s\u001b[0m 207ms/step - accuracy: 0.9404 - loss: 0.1899 - precision: 0.9418 - recall: 0.9314 - val_accuracy: 0.7437 - val_loss: 1.2621 - val_precision: 0.7500 - val_recall: 0.7387\n",
      "Epoch 17/30\n",
      "\u001b[1m47/47\u001b[0m \u001b[32m━━━━━━━━━━━━━━━━━━━━\u001b[0m\u001b[37m\u001b[0m \u001b[1m10s\u001b[0m 207ms/step - accuracy: 0.9523 - loss: 0.1446 - precision: 0.9536 - recall: 0.9508 - val_accuracy: 0.7538 - val_loss: 1.2557 - val_precision: 0.7538 - val_recall: 0.7538\n",
      "Epoch 18/30\n",
      "\u001b[1m47/47\u001b[0m \u001b[32m━━━━━━━━━━━━━━━━━━━━\u001b[0m\u001b[37m\u001b[0m \u001b[1m10s\u001b[0m 211ms/step - accuracy: 0.9468 - loss: 0.1482 - precision: 0.9483 - recall: 0.9454 - val_accuracy: 0.7638 - val_loss: 1.2593 - val_precision: 0.7716 - val_recall: 0.7638\n",
      "Epoch 19/30\n",
      "\u001b[1m47/47\u001b[0m \u001b[32m━━━━━━━━━━━━━━━━━━━━\u001b[0m\u001b[37m\u001b[0m \u001b[1m10s\u001b[0m 208ms/step - accuracy: 0.9597 - loss: 0.1141 - precision: 0.9650 - recall: 0.9567 - val_accuracy: 0.7437 - val_loss: 1.3638 - val_precision: 0.7424 - val_recall: 0.7387\n",
      "Epoch 20/30\n",
      "\u001b[1m47/47\u001b[0m \u001b[32m━━━━━━━━━━━━━━━━━━━━\u001b[0m\u001b[37m\u001b[0m \u001b[1m10s\u001b[0m 207ms/step - accuracy: 0.9661 - loss: 0.1081 - precision: 0.9675 - recall: 0.9637 - val_accuracy: 0.7186 - val_loss: 1.4229 - val_precision: 0.7245 - val_recall: 0.7136\n",
      "Epoch 21/30\n",
      "\u001b[1m47/47\u001b[0m \u001b[32m━━━━━━━━━━━━━━━━━━━━\u001b[0m\u001b[37m\u001b[0m \u001b[1m10s\u001b[0m 207ms/step - accuracy: 0.9448 - loss: 0.1519 - precision: 0.9479 - recall: 0.9438 - val_accuracy: 0.7236 - val_loss: 1.2780 - val_precision: 0.7371 - val_recall: 0.7186\n",
      "Epoch 22/30\n",
      "\u001b[1m47/47\u001b[0m \u001b[32m━━━━━━━━━━━━━━━━━━━━\u001b[0m\u001b[37m\u001b[0m \u001b[1m10s\u001b[0m 206ms/step - accuracy: 0.9525 - loss: 0.1513 - precision: 0.9606 - recall: 0.9428 - val_accuracy: 0.7387 - val_loss: 1.5562 - val_precision: 0.7462 - val_recall: 0.7387\n",
      "Epoch 23/30\n",
      "\u001b[1m47/47\u001b[0m \u001b[32m━━━━━━━━━━━━━━━━━━━━\u001b[0m\u001b[37m\u001b[0m \u001b[1m10s\u001b[0m 207ms/step - accuracy: 0.9712 - loss: 0.0847 - precision: 0.9723 - recall: 0.9666 - val_accuracy: 0.7789 - val_loss: 1.3156 - val_precision: 0.7828 - val_recall: 0.7789\n",
      "Epoch 24/30\n",
      "\u001b[1m47/47\u001b[0m \u001b[32m━━━━━━━━━━━━━━━━━━━━\u001b[0m\u001b[37m\u001b[0m \u001b[1m10s\u001b[0m 211ms/step - accuracy: 0.9765 - loss: 0.0769 - precision: 0.9781 - recall: 0.9751 - val_accuracy: 0.7688 - val_loss: 1.4503 - val_precision: 0.7755 - val_recall: 0.7638\n",
      "Epoch 25/30\n",
      "\u001b[1m47/47\u001b[0m \u001b[32m━━━━━━━━━━━━━━━━━━━━\u001b[0m\u001b[37m\u001b[0m \u001b[1m10s\u001b[0m 209ms/step - accuracy: 0.9698 - loss: 0.0838 - precision: 0.9711 - recall: 0.9661 - val_accuracy: 0.7286 - val_loss: 1.4625 - val_precision: 0.7358 - val_recall: 0.7136\n",
      "Epoch 26/30\n",
      "\u001b[1m47/47\u001b[0m \u001b[32m━━━━━━━━━━━━━━━━━━━━\u001b[0m\u001b[37m\u001b[0m \u001b[1m10s\u001b[0m 207ms/step - accuracy: 0.9627 - loss: 0.1190 - precision: 0.9643 - recall: 0.9586 - val_accuracy: 0.7538 - val_loss: 1.5110 - val_precision: 0.7513 - val_recall: 0.7437\n",
      "Epoch 27/30\n",
      "\u001b[1m47/47\u001b[0m \u001b[32m━━━━━━━━━━━━━━━━━━━━\u001b[0m\u001b[37m\u001b[0m \u001b[1m10s\u001b[0m 209ms/step - accuracy: 0.9762 - loss: 0.0663 - precision: 0.9762 - recall: 0.9748 - val_accuracy: 0.7286 - val_loss: 1.5787 - val_precision: 0.7360 - val_recall: 0.7286\n",
      "Epoch 28/30\n",
      "\u001b[1m47/47\u001b[0m \u001b[32m━━━━━━━━━━━━━━━━━━━━\u001b[0m\u001b[37m\u001b[0m \u001b[1m10s\u001b[0m 210ms/step - accuracy: 0.9846 - loss: 0.0536 - precision: 0.9859 - recall: 0.9831 - val_accuracy: 0.7588 - val_loss: 1.3638 - val_precision: 0.7626 - val_recall: 0.7588\n",
      "Epoch 29/30\n",
      "\u001b[1m47/47\u001b[0m \u001b[32m━━━━━━━━━━━━━━━━━━━━\u001b[0m\u001b[37m\u001b[0m \u001b[1m10s\u001b[0m 209ms/step - accuracy: 0.9807 - loss: 0.0545 - precision: 0.9824 - recall: 0.9807 - val_accuracy: 0.7236 - val_loss: 1.8524 - val_precision: 0.7222 - val_recall: 0.7186\n",
      "Epoch 30/30\n",
      "\u001b[1m47/47\u001b[0m \u001b[32m━━━━━━━━━━━━━━━━━━━━\u001b[0m\u001b[37m\u001b[0m \u001b[1m10s\u001b[0m 207ms/step - accuracy: 0.9782 - loss: 0.0710 - precision: 0.9783 - recall: 0.9763 - val_accuracy: 0.7538 - val_loss: 1.6940 - val_precision: 0.7563 - val_recall: 0.7487\n",
      "Predicting on validation set...\n",
      "\u001b[1m7/7\u001b[0m \u001b[32m━━━━━━━━━━━━━━━━━━━━\u001b[0m\u001b[37m\u001b[0m \u001b[1m1s\u001b[0m 52ms/step\n",
      "Sending metrics to clearML...\n",
      "done\n"
     ]
    }
   ],
   "source": [
    "# histeq augmentation\n",
    "task_name = 'he'\n",
    "sub_project_name = 'HIST_EQ'\n",
    "\n",
    "augmentation_metadata = {\n",
    "        'methods': {        \n",
    "            'histEq': {\n",
    "                'parameters': {\n",
    "                    'p': 1.0  # Probability of applying the augmentation\n",
    "                },\n",
    "                'apply_to_percentage': 0.5  # 50% of the training images\n",
    "            }        \n",
    "        }\n",
    "    }\n",
    "\n",
    "for i in range(N):\n",
    "    RUN = i + 1\n",
    "    try:\n",
    "        print(f\"Starting RUN: {RUN}\")\n",
    "        main(RUN, augmentation_metadata, task_name, sub_project_name, epochs, train_size, w1, w2)\n",
    "    except Exception as e:\n",
    "        print(f\"Error in RUN: {RUN}\")\n",
    "        print(e)\n",
    "    finally:\n",
    "        clear_output(wait=True)  # Clear the output to avoid scrolling\n",
    "        gc.collect()  # Collect garbage to avoid memory leaks"
   ]
  },
  {
   "cell_type": "code",
   "execution_count": 6,
   "metadata": {},
   "outputs": [
    {
     "name": "stdout",
     "output_type": "stream",
     "text": [
      "Starting RUN: 5\n",
      "Seed:  1459867609\n"
     ]
    },
    {
     "name": "stderr",
     "output_type": "stream",
     "text": [
      "c:\\github\\Third-Year-Project\\Intruder-Aircraft-Detection\\main\\tl_clf.py:79: SettingWithCopyWarning:\n",
      "\n",
      "\n",
      "A value is trying to be set on a copy of a slice from a DataFrame.\n",
      "Try using .loc[row_indexer,col_indexer] = value instead\n",
      "\n",
      "See the caveats in the documentation: https://pandas.pydata.org/pandas-docs/stable/user_guide/indexing.html#returning-a-view-versus-a-copy\n",
      "\n",
      "c:\\github\\Third-Year-Project\\Intruder-Aircraft-Detection\\main\\tl_clf.py:80: SettingWithCopyWarning:\n",
      "\n",
      "\n",
      "A value is trying to be set on a copy of a slice from a DataFrame.\n",
      "Try using .loc[row_indexer,col_indexer] = value instead\n",
      "\n",
      "See the caveats in the documentation: https://pandas.pydata.org/pandas-docs/stable/user_guide/indexing.html#returning-a-view-versus-a-copy\n",
      "\n"
     ]
    },
    {
     "name": "stdout",
     "output_type": "stream",
     "text": [
      "Removing dataset if pre-existing\n",
      "Copying training files:\n"
     ]
    },
    {
     "name": "stderr",
     "output_type": "stream",
     "text": [
      "Copying files: 100%|██████████| 2000/2000 [00:01<00:00, 1383.74it/s]\n"
     ]
    },
    {
     "name": "stdout",
     "output_type": "stream",
     "text": [
      "Copying validation files:\n"
     ]
    },
    {
     "name": "stderr",
     "output_type": "stream",
     "text": [
      "Copying files: 100%|██████████| 400/400 [00:00<00:00, 691.32it/s]\n"
     ]
    },
    {
     "name": "stdout",
     "output_type": "stream",
     "text": [
      "Dataset 'weather_01_1000' created at C:\\github\\Third-Year-Project\\Intruder-Aircraft-Detection\\datasets\\Custom\\weather_01_1000\n",
      "Processing train labels in weather_01_1000:\n"
     ]
    },
    {
     "name": "stderr",
     "output_type": "stream",
     "text": [
      "Processing labels: 100%|██████████| 1000/1000 [00:03<00:00, 264.57it/s]\n"
     ]
    },
    {
     "name": "stdout",
     "output_type": "stream",
     "text": [
      "Processing valid labels in weather_01_1000:\n"
     ]
    },
    {
     "name": "stderr",
     "output_type": "stream",
     "text": [
      "Processing labels: 100%|██████████| 200/200 [00:00<00:00, 292.53it/s]\n"
     ]
    },
    {
     "name": "stdout",
     "output_type": "stream",
     "text": [
      "Label correction completed.\n"
     ]
    },
    {
     "name": "stderr",
     "output_type": "stream",
     "text": [
      "Removing existing directories/files: 100%|██████████| 3/3 [00:00<00:00, 6020.53it/s]\n",
      "Copying files: 100%|██████████| 1000/1000 [00:00<00:00, 1241.04it/s]\n",
      "Copying files: 100%|██████████| 1000/1000 [00:00<00:00, 1494.34it/s]\n",
      "Applying augmentations: 100%|██████████| 500/500 [00:10<00:00, 47.30it/s]\n",
      "Processing images:  26%|██▋       | 265/1000 [00:09<00:20, 35.03it/s]"
     ]
    },
    {
     "name": "stdout",
     "output_type": "stream",
     "text": [
      "An error occurred with C:/github/Third-Year-Project/Intruder-Aircraft-Detection/datasets/Custom/weather_01_1000\\images\\train\\24273.jpg: Expected y_min for bbox (0.197711, -0.007085499999999981, 0.582121, 0.2491875, 1) to be in the range [0.0, 1.0], got -0.007085499999999981.\n"
     ]
    },
    {
     "name": "stderr",
     "output_type": "stream",
     "text": [
      "Processing images:  37%|███▋      | 374/1000 [00:13<00:18, 33.97it/s]"
     ]
    },
    {
     "name": "stdout",
     "output_type": "stream",
     "text": [
      "An error occurred with C:/github/Third-Year-Project/Intruder-Aircraft-Detection/datasets/Custom/weather_01_1000\\images\\train\\24891.jpg: Expected x_min for bbox (-0.01830599999999999, 0.35310800000000003, 0.48958799999999997, 0.6917040000000001, 1) to be in the range [0.0, 1.0], got -0.01830599999999999.\n"
     ]
    },
    {
     "name": "stderr",
     "output_type": "stream",
     "text": [
      "Processing images:  65%|██████▌   | 651/1000 [00:21<00:09, 35.39it/s]"
     ]
    },
    {
     "name": "stdout",
     "output_type": "stream",
     "text": [
      "An error occurred with C:/github/Third-Year-Project/Intruder-Aircraft-Detection/datasets/Custom/weather_01_1000\\images\\train\\48405.jpg: Expected x_max for bbox (0.25508400000000003, 0.6339159999999999, 1.001982, 1.131848, 2) to be in the range [0.0, 1.0], got 1.001982.\n"
     ]
    },
    {
     "name": "stderr",
     "output_type": "stream",
     "text": [
      "Processing images:  68%|██████▊   | 676/1000 [00:22<00:08, 36.72it/s]"
     ]
    },
    {
     "name": "stdout",
     "output_type": "stream",
     "text": [
      "An error occurred with C:/github/Third-Year-Project/Intruder-Aircraft-Detection/datasets/Custom/weather_01_1000\\images\\train\\48506.jpg: Expected y_min for bbox (0.604137, -0.0008270000000000083, 0.899387, 0.196007, 2) to be in the range [0.0, 1.0], got -0.0008270000000000083.\n"
     ]
    },
    {
     "name": "stderr",
     "output_type": "stream",
     "text": [
      "Processing images:  79%|███████▉  | 789/1000 [00:25<00:05, 37.93it/s]"
     ]
    },
    {
     "name": "stdout",
     "output_type": "stream",
     "text": [
      "An error occurred with C:/github/Third-Year-Project/Intruder-Aircraft-Detection/datasets/Custom/weather_01_1000\\images\\train\\49219.jpg: Expected x_min for bbox (-0.11297200000000002, 0.2757265, 0.6323099999999999, 0.7725815, 2) to be in the range [0.0, 1.0], got -0.11297200000000002.\n"
     ]
    },
    {
     "name": "stderr",
     "output_type": "stream",
     "text": [
      "Processing images:  89%|████████▉ | 889/1000 [00:28<00:03, 34.75it/s]"
     ]
    },
    {
     "name": "stdout",
     "output_type": "stream",
     "text": [
      "An error occurred with C:/github/Third-Year-Project/Intruder-Aircraft-Detection/datasets/Custom/weather_01_1000\\images\\train\\49703.jpg: Expected x_max for bbox (0.40675649999999997, 0.6056214999999999, 1.0658075, 1.0449884999999999, 2) to be in the range [0.0, 1.0], got 1.0658075.\n"
     ]
    },
    {
     "name": "stderr",
     "output_type": "stream",
     "text": [
      "Processing images: 100%|██████████| 1000/1000 [00:31<00:00, 31.55it/s]\n",
      "Processing images:  26%|██▌       | 383/1500 [00:14<00:34, 32.81it/s]"
     ]
    },
    {
     "name": "stdout",
     "output_type": "stream",
     "text": [
      "An error occurred with C:/github/Third-Year-Project/Intruder-Aircraft-Detection/datasets/Custom/weather_01_1000\\images\\train-aug\\24273.jpg: Expected y_min for bbox (0.197711, -0.007085499999999981, 0.582121, 0.2491875, 1) to be in the range [0.0, 1.0], got -0.007085499999999981.\n"
     ]
    },
    {
     "name": "stderr",
     "output_type": "stream",
     "text": [
      "Processing images:  37%|███▋      | 552/1500 [00:20<00:27, 34.98it/s]"
     ]
    },
    {
     "name": "stdout",
     "output_type": "stream",
     "text": [
      "An error occurred with C:/github/Third-Year-Project/Intruder-Aircraft-Detection/datasets/Custom/weather_01_1000\\images\\train-aug\\24891.jpg: Expected x_min for bbox (-0.01830599999999999, 0.35310800000000003, 0.48958799999999997, 0.6917040000000001, 1) to be in the range [0.0, 1.0], got -0.01830599999999999.\n",
      "An error occurred with C:/github/Third-Year-Project/Intruder-Aircraft-Detection/datasets/Custom/weather_01_1000\\images\\train-aug\\24891-whiteBal.jpg: Expected x_min for bbox (-0.01830599999999999, 0.35310800000000003, 0.48958799999999997, 0.6917040000000001, 1) to be in the range [0.0, 1.0], got -0.01830599999999999.\n"
     ]
    },
    {
     "name": "stderr",
     "output_type": "stream",
     "text": [
      "Processing images:  64%|██████▍   | 960/1500 [00:32<00:15, 35.81it/s]"
     ]
    },
    {
     "name": "stdout",
     "output_type": "stream",
     "text": [
      "An error occurred with C:/github/Third-Year-Project/Intruder-Aircraft-Detection/datasets/Custom/weather_01_1000\\images\\train-aug\\48405.jpg: Expected x_max for bbox (0.25508400000000003, 0.6339159999999999, 1.001982, 1.131848, 2) to be in the range [0.0, 1.0], got 1.001982.\n"
     ]
    },
    {
     "name": "stderr",
     "output_type": "stream",
     "text": [
      "Processing images:  67%|██████▋   | 1002/1500 [00:33<00:13, 37.84it/s]"
     ]
    },
    {
     "name": "stdout",
     "output_type": "stream",
     "text": [
      "An error occurred with C:/github/Third-Year-Project/Intruder-Aircraft-Detection/datasets/Custom/weather_01_1000\\images\\train-aug\\48506-whiteBal.jpg: Expected y_min for bbox (0.604137, -0.0008270000000000083, 0.899387, 0.196007, 2) to be in the range [0.0, 1.0], got -0.0008270000000000083.\n",
      "An error occurred with C:/github/Third-Year-Project/Intruder-Aircraft-Detection/datasets/Custom/weather_01_1000\\images\\train-aug\\48506.jpg: Expected y_min for bbox (0.604137, -0.0008270000000000083, 0.899387, 0.196007, 2) to be in the range [0.0, 1.0], got -0.0008270000000000083.\n"
     ]
    },
    {
     "name": "stderr",
     "output_type": "stream",
     "text": [
      "Processing images:  79%|███████▉  | 1183/1500 [00:38<00:08, 38.33it/s]"
     ]
    },
    {
     "name": "stdout",
     "output_type": "stream",
     "text": [
      "An error occurred with C:/github/Third-Year-Project/Intruder-Aircraft-Detection/datasets/Custom/weather_01_1000\\images\\train-aug\\49219.jpg: Expected x_min for bbox (-0.11297200000000002, 0.2757265, 0.6323099999999999, 0.7725815, 2) to be in the range [0.0, 1.0], got -0.11297200000000002.\n"
     ]
    },
    {
     "name": "stderr",
     "output_type": "stream",
     "text": [
      "Processing images:  89%|████████▊ | 1328/1500 [00:42<00:04, 35.76it/s]"
     ]
    },
    {
     "name": "stdout",
     "output_type": "stream",
     "text": [
      "An error occurred with C:/github/Third-Year-Project/Intruder-Aircraft-Detection/datasets/Custom/weather_01_1000\\images\\train-aug\\49703.jpg: Expected x_max for bbox (0.40675649999999997, 0.6056214999999999, 1.0658075, 1.0449884999999999, 2) to be in the range [0.0, 1.0], got 1.0658075.\n"
     ]
    },
    {
     "name": "stderr",
     "output_type": "stream",
     "text": [
      "Processing images: 100%|██████████| 1500/1500 [00:48<00:00, 31.25it/s]\n",
      "Processing images:  52%|█████▏    | 104/200 [00:03<00:02, 34.59it/s]"
     ]
    },
    {
     "name": "stdout",
     "output_type": "stream",
     "text": [
      "An error occurred with C:/github/Third-Year-Project/Intruder-Aircraft-Detection/datasets/Custom/weather_01_1000\\images\\valid\\48958.jpg: Expected y_min for bbox (0.11869149999999995, -0.083345, 1.0148305, 0.514081, 2) to be in the range [0.0, 1.0], got -0.083345.\n"
     ]
    },
    {
     "name": "stderr",
     "output_type": "stream",
     "text": [
      "Processing images:  58%|█████▊    | 116/200 [00:04<00:02, 35.38it/s]"
     ]
    },
    {
     "name": "stdout",
     "output_type": "stream",
     "text": [
      "An error occurred with C:/github/Third-Year-Project/Intruder-Aircraft-Detection/datasets/Custom/weather_01_1000\\images\\valid\\48967.jpg: Expected x_max for bbox (0.391763, 0.222879, 1.0974650000000001, 0.6933469999999999, 2) to be in the range [0.0, 1.0], got 1.0974650000000001.\n"
     ]
    },
    {
     "name": "stderr",
     "output_type": "stream",
     "text": [
      "Processing images: 100%|██████████| 200/200 [00:06<00:00, 30.95it/s]\n",
      "Moving images in train: 100%|██████████| 994/994 [00:03<00:00, 290.51it/s]\n",
      "Moving images in train-aug: 100%|██████████| 1492/1492 [00:03<00:00, 425.19it/s]\n",
      "Moving images in valid: 100%|██████████| 198/198 [00:00<00:00, 296.79it/s]\n"
     ]
    },
    {
     "name": "stdout",
     "output_type": "stream",
     "text": [
      "Found 994 files belonging to 3 classes.\n",
      "Found 1492 files belonging to 3 classes.\n",
      "Found 198 files belonging to 3 classes.\n",
      "ClearML Task: created new task id=ff755627ca4a423e8030ff662289e19a\n",
      "ClearML results page: https://app.clear.ml/projects/7bc049eb4223468a9a77e7ff2e4ac17e/experiments/ff755627ca4a423e8030ff662289e19a/output/log\n",
      "Training model...\n",
      "Epoch 1/30\n",
      "\u001b[1m32/32\u001b[0m \u001b[32m━━━━━━━━━━━━━━━━━━━━\u001b[0m\u001b[37m\u001b[0m \u001b[1m10s\u001b[0m 254ms/step - accuracy: 0.3409 - loss: 1.9954 - precision: 0.3390 - recall: 0.1449 - val_accuracy: 0.3333 - val_loss: 1.0986 - val_precision: 0.0000e+00 - val_recall: 0.0000e+00\n",
      "Epoch 2/30\n",
      "\u001b[1m32/32\u001b[0m \u001b[32m━━━━━━━━━━━━━━━━━━━━\u001b[0m\u001b[37m\u001b[0m \u001b[1m7s\u001b[0m 210ms/step - accuracy: 0.3347 - loss: 1.0982 - precision: 0.0000e+00 - recall: 0.0000e+00 - val_accuracy: 0.3384 - val_loss: 1.0982 - val_precision: 0.0000e+00 - val_recall: 0.0000e+00\n",
      "Epoch 3/30\n",
      "\u001b[1m32/32\u001b[0m \u001b[32m━━━━━━━━━━━━━━━━━━━━\u001b[0m\u001b[37m\u001b[0m \u001b[1m7s\u001b[0m 203ms/step - accuracy: 0.3785 - loss: 1.0983 - precision: 0.0000e+00 - recall: 0.0000e+00 - val_accuracy: 0.4394 - val_loss: 1.0974 - val_precision: 0.0000e+00 - val_recall: 0.0000e+00\n",
      "Epoch 4/30\n",
      "\u001b[1m32/32\u001b[0m \u001b[32m━━━━━━━━━━━━━━━━━━━━\u001b[0m\u001b[37m\u001b[0m \u001b[1m7s\u001b[0m 207ms/step - accuracy: 0.4704 - loss: 1.0954 - precision: 0.0000e+00 - recall: 0.0000e+00 - val_accuracy: 0.3333 - val_loss: 1.0984 - val_precision: 0.0000e+00 - val_recall: 0.0000e+00\n",
      "Epoch 5/30\n",
      "\u001b[1m32/32\u001b[0m \u001b[32m━━━━━━━━━━━━━━━━━━━━\u001b[0m\u001b[37m\u001b[0m \u001b[1m7s\u001b[0m 205ms/step - accuracy: 0.3590 - loss: 1.0984 - precision: 0.0424 - recall: 2.2463e-04 - val_accuracy: 0.3687 - val_loss: 1.0946 - val_precision: 0.0000e+00 - val_recall: 0.0000e+00\n",
      "Epoch 6/30\n",
      "\u001b[1m32/32\u001b[0m \u001b[32m━━━━━━━━━━━━━━━━━━━━\u001b[0m\u001b[37m\u001b[0m \u001b[1m7s\u001b[0m 215ms/step - accuracy: 0.3657 - loss: 1.1108 - precision: 0.2083 - recall: 0.0101 - val_accuracy: 0.3333 - val_loss: 1.0977 - val_precision: 0.0000e+00 - val_recall: 0.0000e+00\n",
      "Epoch 7/30\n",
      "\u001b[1m32/32\u001b[0m \u001b[32m━━━━━━━━━━━━━━━━━━━━\u001b[0m\u001b[37m\u001b[0m \u001b[1m8s\u001b[0m 246ms/step - accuracy: 0.3676 - loss: 1.0971 - precision: 0.0000e+00 - recall: 0.0000e+00 - val_accuracy: 0.4495 - val_loss: 1.0880 - val_precision: 0.0000e+00 - val_recall: 0.0000e+00\n",
      "Epoch 8/30\n",
      "\u001b[1m32/32\u001b[0m \u001b[32m━━━━━━━━━━━━━━━━━━━━\u001b[0m\u001b[37m\u001b[0m \u001b[1m7s\u001b[0m 205ms/step - accuracy: 0.5085 - loss: 1.0556 - precision: 0.5111 - recall: 0.0453 - val_accuracy: 0.4495 - val_loss: 1.1106 - val_precision: 0.4500 - val_recall: 0.2727\n",
      "Epoch 9/30\n",
      "\u001b[1m32/32\u001b[0m \u001b[32m━━━━━━━━━━━━━━━━━━━━\u001b[0m\u001b[37m\u001b[0m \u001b[1m7s\u001b[0m 209ms/step - accuracy: 0.5797 - loss: 0.9191 - precision: 0.6563 - recall: 0.3144 - val_accuracy: 0.5455 - val_loss: 1.0272 - val_precision: 0.6204 - val_recall: 0.3384\n",
      "Epoch 10/30\n",
      "\u001b[1m32/32\u001b[0m \u001b[32m━━━━━━━━━━━━━━━━━━━━\u001b[0m\u001b[37m\u001b[0m \u001b[1m7s\u001b[0m 206ms/step - accuracy: 0.6652 - loss: 0.7993 - precision: 0.7592 - recall: 0.4346 - val_accuracy: 0.6061 - val_loss: 1.1027 - val_precision: 0.6478 - val_recall: 0.5202\n",
      "Epoch 11/30\n",
      "\u001b[1m32/32\u001b[0m \u001b[32m━━━━━━━━━━━━━━━━━━━━\u001b[0m\u001b[37m\u001b[0m \u001b[1m7s\u001b[0m 208ms/step - accuracy: 0.7372 - loss: 0.6614 - precision: 0.7970 - recall: 0.6356 - val_accuracy: 0.5909 - val_loss: 0.9997 - val_precision: 0.6376 - val_recall: 0.4798\n",
      "Epoch 12/30\n",
      "\u001b[1m32/32\u001b[0m \u001b[32m━━━━━━━━━━━━━━━━━━━━\u001b[0m\u001b[37m\u001b[0m \u001b[1m7s\u001b[0m 213ms/step - accuracy: 0.7355 - loss: 0.6130 - precision: 0.8038 - recall: 0.6381 - val_accuracy: 0.6010 - val_loss: 1.0435 - val_precision: 0.6145 - val_recall: 0.5152\n",
      "Epoch 13/30\n",
      "\u001b[1m32/32\u001b[0m \u001b[32m━━━━━━━━━━━━━━━━━━━━\u001b[0m\u001b[37m\u001b[0m \u001b[1m7s\u001b[0m 206ms/step - accuracy: 0.7833 - loss: 0.5307 - precision: 0.8241 - recall: 0.7320 - val_accuracy: 0.6616 - val_loss: 1.3908 - val_precision: 0.6649 - val_recall: 0.6313\n",
      "Epoch 14/30\n",
      "\u001b[1m32/32\u001b[0m \u001b[32m━━━━━━━━━━━━━━━━━━━━\u001b[0m\u001b[37m\u001b[0m \u001b[1m7s\u001b[0m 207ms/step - accuracy: 0.8365 - loss: 0.4159 - precision: 0.8615 - recall: 0.8147 - val_accuracy: 0.6919 - val_loss: 1.4594 - val_precision: 0.6974 - val_recall: 0.6869\n",
      "Epoch 15/30\n",
      "\u001b[1m32/32\u001b[0m \u001b[32m━━━━━━━━━━━━━━━━━━━━\u001b[0m\u001b[37m\u001b[0m \u001b[1m7s\u001b[0m 203ms/step - accuracy: 0.8294 - loss: 0.4637 - precision: 0.8365 - recall: 0.7851 - val_accuracy: 0.6717 - val_loss: 1.1545 - val_precision: 0.6995 - val_recall: 0.6465\n",
      "Epoch 16/30\n",
      "\u001b[1m32/32\u001b[0m \u001b[32m━━━━━━━━━━━━━━━━━━━━\u001b[0m\u001b[37m\u001b[0m \u001b[1m7s\u001b[0m 208ms/step - accuracy: 0.8473 - loss: 0.4050 - precision: 0.8608 - recall: 0.8207 - val_accuracy: 0.7222 - val_loss: 1.3880 - val_precision: 0.7173 - val_recall: 0.6919\n",
      "Epoch 17/30\n",
      "\u001b[1m32/32\u001b[0m \u001b[32m━━━━━━━━━━━━━━━━━━━━\u001b[0m\u001b[37m\u001b[0m \u001b[1m7s\u001b[0m 206ms/step - accuracy: 0.8747 - loss: 0.3212 - precision: 0.8846 - recall: 0.8547 - val_accuracy: 0.7121 - val_loss: 1.3144 - val_precision: 0.7143 - val_recall: 0.6818\n",
      "Epoch 18/30\n",
      "\u001b[1m32/32\u001b[0m \u001b[32m━━━━━━━━━━━━━━━━━━━━\u001b[0m\u001b[37m\u001b[0m \u001b[1m7s\u001b[0m 207ms/step - accuracy: 0.8242 - loss: 0.4071 - precision: 0.8496 - recall: 0.8064 - val_accuracy: 0.6717 - val_loss: 1.4247 - val_precision: 0.6806 - val_recall: 0.6566\n",
      "Epoch 19/30\n",
      "\u001b[1m32/32\u001b[0m \u001b[32m━━━━━━━━━━━━━━━━━━━━\u001b[0m\u001b[37m\u001b[0m \u001b[1m7s\u001b[0m 205ms/step - accuracy: 0.8576 - loss: 0.3589 - precision: 0.8670 - recall: 0.8442 - val_accuracy: 0.7071 - val_loss: 1.5226 - val_precision: 0.7158 - val_recall: 0.6869\n",
      "Epoch 20/30\n",
      "\u001b[1m32/32\u001b[0m \u001b[32m━━━━━━━━━━━━━━━━━━━━\u001b[0m\u001b[37m\u001b[0m \u001b[1m7s\u001b[0m 206ms/step - accuracy: 0.9001 - loss: 0.2653 - precision: 0.9053 - recall: 0.8930 - val_accuracy: 0.6919 - val_loss: 1.5298 - val_precision: 0.6919 - val_recall: 0.6919\n",
      "Epoch 21/30\n",
      "\u001b[1m32/32\u001b[0m \u001b[32m━━━━━━━━━━━━━━━━━━━━\u001b[0m\u001b[37m\u001b[0m \u001b[1m7s\u001b[0m 203ms/step - accuracy: 0.8845 - loss: 0.2687 - precision: 0.8914 - recall: 0.8720 - val_accuracy: 0.6970 - val_loss: 1.2398 - val_precision: 0.7127 - val_recall: 0.6515\n",
      "Epoch 22/30\n",
      "\u001b[1m32/32\u001b[0m \u001b[32m━━━━━━━━━━━━━━━━━━━━\u001b[0m\u001b[37m\u001b[0m \u001b[1m7s\u001b[0m 212ms/step - accuracy: 0.8892 - loss: 0.3338 - precision: 0.9004 - recall: 0.8732 - val_accuracy: 0.7323 - val_loss: 1.5185 - val_precision: 0.7282 - val_recall: 0.7172\n",
      "Epoch 23/30\n",
      "\u001b[1m32/32\u001b[0m \u001b[32m━━━━━━━━━━━━━━━━━━━━\u001b[0m\u001b[37m\u001b[0m \u001b[1m7s\u001b[0m 206ms/step - accuracy: 0.9120 - loss: 0.2329 - precision: 0.9182 - recall: 0.9011 - val_accuracy: 0.7424 - val_loss: 1.4500 - val_precision: 0.7552 - val_recall: 0.7323\n",
      "Epoch 24/30\n",
      "\u001b[1m32/32\u001b[0m \u001b[32m━━━━━━━━━━━━━━━━━━━━\u001b[0m\u001b[37m\u001b[0m \u001b[1m7s\u001b[0m 207ms/step - accuracy: 0.9125 - loss: 0.2262 - precision: 0.9160 - recall: 0.9009 - val_accuracy: 0.7475 - val_loss: 1.6093 - val_precision: 0.7592 - val_recall: 0.7323\n",
      "Epoch 25/30\n",
      "\u001b[1m32/32\u001b[0m \u001b[32m━━━━━━━━━━━━━━━━━━━━\u001b[0m\u001b[37m\u001b[0m \u001b[1m7s\u001b[0m 205ms/step - accuracy: 0.9314 - loss: 0.2045 - precision: 0.9380 - recall: 0.9203 - val_accuracy: 0.7071 - val_loss: 1.2220 - val_precision: 0.7225 - val_recall: 0.6970\n",
      "Epoch 26/30\n",
      "\u001b[1m32/32\u001b[0m \u001b[32m━━━━━━━━━━━━━━━━━━━━\u001b[0m\u001b[37m\u001b[0m \u001b[1m7s\u001b[0m 207ms/step - accuracy: 0.9097 - loss: 0.2455 - precision: 0.9218 - recall: 0.8999 - val_accuracy: 0.7121 - val_loss: 1.7664 - val_precision: 0.7240 - val_recall: 0.7020\n",
      "Epoch 27/30\n",
      "\u001b[1m32/32\u001b[0m \u001b[32m━━━━━━━━━━━━━━━━━━━━\u001b[0m\u001b[37m\u001b[0m \u001b[1m7s\u001b[0m 207ms/step - accuracy: 0.9125 - loss: 0.2239 - precision: 0.9191 - recall: 0.9074 - val_accuracy: 0.6515 - val_loss: 2.3555 - val_precision: 0.6528 - val_recall: 0.6364\n",
      "Epoch 28/30\n",
      "\u001b[1m32/32\u001b[0m \u001b[32m━━━━━━━━━━━━━━━━━━━━\u001b[0m\u001b[37m\u001b[0m \u001b[1m7s\u001b[0m 211ms/step - accuracy: 0.9006 - loss: 0.2914 - precision: 0.9179 - recall: 0.8880 - val_accuracy: 0.7525 - val_loss: 1.4045 - val_precision: 0.7487 - val_recall: 0.7374\n",
      "Epoch 29/30\n",
      "\u001b[1m32/32\u001b[0m \u001b[32m━━━━━━━━━━━━━━━━━━━━\u001b[0m\u001b[37m\u001b[0m \u001b[1m7s\u001b[0m 204ms/step - accuracy: 0.9288 - loss: 0.1792 - precision: 0.9332 - recall: 0.9205 - val_accuracy: 0.7273 - val_loss: 1.6157 - val_precision: 0.7259 - val_recall: 0.7222\n",
      "Epoch 30/30\n",
      "\u001b[1m32/32\u001b[0m \u001b[32m━━━━━━━━━━━━━━━━━━━━\u001b[0m\u001b[37m\u001b[0m \u001b[1m7s\u001b[0m 207ms/step - accuracy: 0.9251 - loss: 0.2193 - precision: 0.9263 - recall: 0.9166 - val_accuracy: 0.7374 - val_loss: 1.5673 - val_precision: 0.7449 - val_recall: 0.7374\n",
      "Predicting on validation set...\n",
      "\u001b[1m7/7\u001b[0m \u001b[32m━━━━━━━━━━━━━━━━━━━━\u001b[0m\u001b[37m\u001b[0m \u001b[1m1s\u001b[0m 54ms/step\n",
      "Sending metrics to clearML...\n",
      "done\n",
      "ClearML Task: created new task id=c446ecb4cba24376ba9effabed4f5f73\n",
      "ClearML results page: https://app.clear.ml/projects/7bc049eb4223468a9a77e7ff2e4ac17e/experiments/c446ecb4cba24376ba9effabed4f5f73/output/log\n",
      "Training model...\n",
      "Epoch 1/30\n",
      "\u001b[1m47/47\u001b[0m \u001b[32m━━━━━━━━━━━━━━━━━━━━\u001b[0m\u001b[37m\u001b[0m \u001b[1m13s\u001b[0m 241ms/step - accuracy: 0.3339 - loss: 2.0320 - precision: 0.3382 - recall: 0.0656 - val_accuracy: 0.3232 - val_loss: 1.0986 - val_precision: 0.0000e+00 - val_recall: 0.0000e+00\n",
      "Epoch 2/30\n",
      "\u001b[1m47/47\u001b[0m \u001b[32m━━━━━━━━━━━━━━━━━━━━\u001b[0m\u001b[37m\u001b[0m \u001b[1m10s\u001b[0m 206ms/step - accuracy: 0.3263 - loss: 1.0987 - precision: 0.0000e+00 - recall: 0.0000e+00 - val_accuracy: 0.3283 - val_loss: 1.0986 - val_precision: 0.0000e+00 - val_recall: 0.0000e+00\n",
      "Epoch 3/30\n",
      "\u001b[1m47/47\u001b[0m \u001b[32m━━━━━━━━━━━━━━━━━━━━\u001b[0m\u001b[37m\u001b[0m \u001b[1m10s\u001b[0m 210ms/step - accuracy: 0.3376 - loss: 1.0984 - precision: 0.0000e+00 - recall: 0.0000e+00 - val_accuracy: 0.3283 - val_loss: 1.0989 - val_precision: 0.0000e+00 - val_recall: 0.0000e+00\n",
      "Epoch 4/30\n",
      "\u001b[1m47/47\u001b[0m \u001b[32m━━━━━━━━━━━━━━━━━━━━\u001b[0m\u001b[37m\u001b[0m \u001b[1m10s\u001b[0m 206ms/step - accuracy: 0.3381 - loss: 1.0984 - precision: 0.0000e+00 - recall: 0.0000e+00 - val_accuracy: 0.3283 - val_loss: 1.0984 - val_precision: 0.0000e+00 - val_recall: 0.0000e+00\n",
      "Epoch 5/30\n",
      "\u001b[1m47/47\u001b[0m \u001b[32m━━━━━━━━━━━━━━━━━━━━\u001b[0m\u001b[37m\u001b[0m \u001b[1m11s\u001b[0m 231ms/step - accuracy: 0.3388 - loss: 1.0981 - precision: 0.0000e+00 - recall: 0.0000e+00 - val_accuracy: 0.3737 - val_loss: 1.0977 - val_precision: 0.0000e+00 - val_recall: 0.0000e+00\n",
      "Epoch 6/30\n",
      "\u001b[1m47/47\u001b[0m \u001b[32m━━━━━━━━━━━━━━━━━━━━\u001b[0m\u001b[37m\u001b[0m \u001b[1m10s\u001b[0m 208ms/step - accuracy: 0.3467 - loss: 1.0973 - precision: 0.0000e+00 - recall: 0.0000e+00 - val_accuracy: 0.4091 - val_loss: 1.0945 - val_precision: 0.0000e+00 - val_recall: 0.0000e+00\n",
      "Epoch 7/30\n",
      "\u001b[1m47/47\u001b[0m \u001b[32m━━━━━━━━━━━━━━━━━━━━\u001b[0m\u001b[37m\u001b[0m \u001b[1m10s\u001b[0m 210ms/step - accuracy: 0.3700 - loss: 1.0961 - precision: 0.0000e+00 - recall: 0.0000e+00 - val_accuracy: 0.4040 - val_loss: 1.0919 - val_precision: 0.0000e+00 - val_recall: 0.0000e+00\n",
      "Epoch 8/30\n",
      "\u001b[1m47/47\u001b[0m \u001b[32m━━━━━━━━━━━━━━━━━━━━\u001b[0m\u001b[37m\u001b[0m \u001b[1m10s\u001b[0m 206ms/step - accuracy: 0.3802 - loss: 1.0908 - precision: 0.2812 - recall: 9.7270e-04 - val_accuracy: 0.4242 - val_loss: 1.0870 - val_precision: 0.0000e+00 - val_recall: 0.0000e+00\n",
      "Epoch 9/30\n",
      "\u001b[1m47/47\u001b[0m \u001b[32m━━━━━━━━━━━━━━━━━━━━\u001b[0m\u001b[37m\u001b[0m \u001b[1m10s\u001b[0m 207ms/step - accuracy: 0.3875 - loss: 1.0898 - precision: 0.0660 - recall: 1.2789e-04 - val_accuracy: 0.4242 - val_loss: 1.0832 - val_precision: 0.0000e+00 - val_recall: 0.0000e+00\n",
      "Epoch 10/30\n",
      "\u001b[1m47/47\u001b[0m \u001b[32m━━━━━━━━━━━━━━━━━━━━\u001b[0m\u001b[37m\u001b[0m \u001b[1m10s\u001b[0m 205ms/step - accuracy: 0.4223 - loss: 1.0794 - precision: 0.5608 - recall: 0.0204 - val_accuracy: 0.4192 - val_loss: 1.0979 - val_precision: 0.2963 - val_recall: 0.0404\n",
      "Epoch 11/30\n",
      "\u001b[1m47/47\u001b[0m \u001b[32m━━━━━━━━━━━━━━━━━━━━\u001b[0m\u001b[37m\u001b[0m \u001b[1m10s\u001b[0m 209ms/step - accuracy: 0.4226 - loss: 1.0861 - precision: 0.3855 - recall: 0.0504 - val_accuracy: 0.4798 - val_loss: 1.0645 - val_precision: 1.0000 - val_recall: 0.0101\n",
      "Epoch 12/30\n",
      "\u001b[1m47/47\u001b[0m \u001b[32m━━━━━━━━━━━━━━━━━━━━\u001b[0m\u001b[37m\u001b[0m \u001b[1m10s\u001b[0m 210ms/step - accuracy: 0.5134 - loss: 1.0229 - precision: 0.6698 - recall: 0.1113 - val_accuracy: 0.5253 - val_loss: 1.0430 - val_precision: 0.4865 - val_recall: 0.1818\n",
      "Epoch 13/30\n",
      "\u001b[1m47/47\u001b[0m \u001b[32m━━━━━━━━━━━━━━━━━━━━\u001b[0m\u001b[37m\u001b[0m \u001b[1m10s\u001b[0m 206ms/step - accuracy: 0.5772 - loss: 0.9351 - precision: 0.6461 - recall: 0.3309 - val_accuracy: 0.5758 - val_loss: 1.0594 - val_precision: 0.5963 - val_recall: 0.4848\n",
      "Epoch 14/30\n",
      "\u001b[1m47/47\u001b[0m \u001b[32m━━━━━━━━━━━━━━━━━━━━\u001b[0m\u001b[37m\u001b[0m \u001b[1m10s\u001b[0m 208ms/step - accuracy: 0.6940 - loss: 0.7311 - precision: 0.7445 - recall: 0.5947 - val_accuracy: 0.6263 - val_loss: 1.0600 - val_precision: 0.6331 - val_recall: 0.5404\n",
      "Epoch 15/30\n",
      "\u001b[1m47/47\u001b[0m \u001b[32m━━━━━━━━━━━━━━━━━━━━\u001b[0m\u001b[37m\u001b[0m \u001b[1m10s\u001b[0m 208ms/step - accuracy: 0.7726 - loss: 0.5910 - precision: 0.8227 - recall: 0.7027 - val_accuracy: 0.6465 - val_loss: 1.2558 - val_precision: 0.6755 - val_recall: 0.6414\n",
      "Epoch 16/30\n",
      "\u001b[1m47/47\u001b[0m \u001b[32m━━━━━━━━━━━━━━━━━━━━\u001b[0m\u001b[37m\u001b[0m \u001b[1m10s\u001b[0m 206ms/step - accuracy: 0.7673 - loss: 0.5821 - precision: 0.8105 - recall: 0.7002 - val_accuracy: 0.6111 - val_loss: 1.3497 - val_precision: 0.6162 - val_recall: 0.5758\n",
      "Epoch 17/30\n",
      "\u001b[1m47/47\u001b[0m \u001b[32m━━━━━━━━━━━━━━━━━━━━\u001b[0m\u001b[37m\u001b[0m \u001b[1m10s\u001b[0m 207ms/step - accuracy: 0.7945 - loss: 0.5383 - precision: 0.8302 - recall: 0.7613 - val_accuracy: 0.6869 - val_loss: 1.1671 - val_precision: 0.7059 - val_recall: 0.6667\n",
      "Epoch 18/30\n",
      "\u001b[1m47/47\u001b[0m \u001b[32m━━━━━━━━━━━━━━━━━━━━\u001b[0m\u001b[37m\u001b[0m \u001b[1m10s\u001b[0m 210ms/step - accuracy: 0.8454 - loss: 0.3807 - precision: 0.8616 - recall: 0.8271 - val_accuracy: 0.6515 - val_loss: 1.4040 - val_precision: 0.6562 - val_recall: 0.6364\n",
      "Epoch 19/30\n",
      "\u001b[1m47/47\u001b[0m \u001b[32m━━━━━━━━━━━━━━━━━━━━\u001b[0m\u001b[37m\u001b[0m \u001b[1m10s\u001b[0m 210ms/step - accuracy: 0.8704 - loss: 0.3041 - precision: 0.8845 - recall: 0.8537 - val_accuracy: 0.7323 - val_loss: 1.1090 - val_precision: 0.7258 - val_recall: 0.6818\n",
      "Epoch 20/30\n",
      "\u001b[1m47/47\u001b[0m \u001b[32m━━━━━━━━━━━━━━━━━━━━\u001b[0m\u001b[37m\u001b[0m \u001b[1m10s\u001b[0m 205ms/step - accuracy: 0.8692 - loss: 0.3091 - precision: 0.8806 - recall: 0.8535 - val_accuracy: 0.6818 - val_loss: 1.3319 - val_precision: 0.6837 - val_recall: 0.6768\n",
      "Epoch 21/30\n",
      "\u001b[1m47/47\u001b[0m \u001b[32m━━━━━━━━━━━━━━━━━━━━\u001b[0m\u001b[37m\u001b[0m \u001b[1m10s\u001b[0m 205ms/step - accuracy: 0.9149 - loss: 0.2424 - precision: 0.9276 - recall: 0.9024 - val_accuracy: 0.6616 - val_loss: 1.6505 - val_precision: 0.6598 - val_recall: 0.6465\n",
      "Epoch 22/30\n",
      "\u001b[1m47/47\u001b[0m \u001b[32m━━━━━━━━━━━━━━━━━━━━\u001b[0m\u001b[37m\u001b[0m \u001b[1m10s\u001b[0m 207ms/step - accuracy: 0.9237 - loss: 0.2199 - precision: 0.9264 - recall: 0.9177 - val_accuracy: 0.7121 - val_loss: 1.3382 - val_precision: 0.7113 - val_recall: 0.6970\n",
      "Epoch 23/30\n",
      "\u001b[1m47/47\u001b[0m \u001b[32m━━━━━━━━━━━━━━━━━━━━\u001b[0m\u001b[37m\u001b[0m \u001b[1m10s\u001b[0m 203ms/step - accuracy: 0.9261 - loss: 0.2037 - precision: 0.9289 - recall: 0.9174 - val_accuracy: 0.7424 - val_loss: 1.3598 - val_precision: 0.7423 - val_recall: 0.7273\n",
      "Epoch 24/30\n",
      "\u001b[1m47/47\u001b[0m \u001b[32m━━━━━━━━━━━━━━━━━━━━\u001b[0m\u001b[37m\u001b[0m \u001b[1m10s\u001b[0m 207ms/step - accuracy: 0.9445 - loss: 0.1477 - precision: 0.9472 - recall: 0.9408 - val_accuracy: 0.7172 - val_loss: 1.5377 - val_precision: 0.7202 - val_recall: 0.7020\n",
      "Epoch 25/30\n",
      "\u001b[1m47/47\u001b[0m \u001b[32m━━━━━━━━━━━━━━━━━━━━\u001b[0m\u001b[37m\u001b[0m \u001b[1m10s\u001b[0m 210ms/step - accuracy: 0.9187 - loss: 0.1970 - precision: 0.9238 - recall: 0.9102 - val_accuracy: 0.7172 - val_loss: 1.8136 - val_precision: 0.7179 - val_recall: 0.7071\n",
      "Epoch 26/30\n",
      "\u001b[1m47/47\u001b[0m \u001b[32m━━━━━━━━━━━━━━━━━━━━\u001b[0m\u001b[37m\u001b[0m \u001b[1m10s\u001b[0m 207ms/step - accuracy: 0.9474 - loss: 0.1391 - precision: 0.9490 - recall: 0.9451 - val_accuracy: 0.7222 - val_loss: 1.4585 - val_precision: 0.7259 - val_recall: 0.7222\n",
      "Epoch 27/30\n",
      "\u001b[1m47/47\u001b[0m \u001b[32m━━━━━━━━━━━━━━━━━━━━\u001b[0m\u001b[37m\u001b[0m \u001b[1m10s\u001b[0m 206ms/step - accuracy: 0.9493 - loss: 0.1314 - precision: 0.9519 - recall: 0.9483 - val_accuracy: 0.7222 - val_loss: 1.6841 - val_precision: 0.7259 - val_recall: 0.7222\n",
      "Epoch 28/30\n",
      "\u001b[1m47/47\u001b[0m \u001b[32m━━━━━━━━━━━━━━━━━━━━\u001b[0m\u001b[37m\u001b[0m \u001b[1m10s\u001b[0m 206ms/step - accuracy: 0.9583 - loss: 0.1203 - precision: 0.9583 - recall: 0.9551 - val_accuracy: 0.7374 - val_loss: 1.6413 - val_precision: 0.7436 - val_recall: 0.7323\n",
      "Epoch 29/30\n",
      "\u001b[1m47/47\u001b[0m \u001b[32m━━━━━━━━━━━━━━━━━━━━\u001b[0m\u001b[37m\u001b[0m \u001b[1m10s\u001b[0m 211ms/step - accuracy: 0.9527 - loss: 0.1133 - precision: 0.9540 - recall: 0.9491 - val_accuracy: 0.7222 - val_loss: 1.6111 - val_precision: 0.7202 - val_recall: 0.7020\n",
      "Epoch 30/30\n",
      "\u001b[1m47/47\u001b[0m \u001b[32m━━━━━━━━━━━━━━━━━━━━\u001b[0m\u001b[37m\u001b[0m \u001b[1m10s\u001b[0m 206ms/step - accuracy: 0.9703 - loss: 0.0888 - precision: 0.9706 - recall: 0.9698 - val_accuracy: 0.7121 - val_loss: 1.7231 - val_precision: 0.7143 - val_recall: 0.7071\n",
      "Predicting on validation set...\n",
      "\u001b[1m7/7\u001b[0m \u001b[32m━━━━━━━━━━━━━━━━━━━━\u001b[0m\u001b[37m\u001b[0m \u001b[1m1s\u001b[0m 54ms/step\n",
      "Sending metrics to clearML...\n",
      "done\n"
     ]
    }
   ],
   "source": [
    "# white balance augmentation\n",
    "task_name = 'wb'\n",
    "sub_project_name = 'WHITE_BAL'\n",
    "\n",
    "augmentation_metadata = {\n",
    "        'methods': {        \n",
    "            'whiteBal': {\n",
    "                'parameters': {\n",
    "                    'p': 1.0  # Probability of applying the augmentation\n",
    "                },\n",
    "                'apply_to_percentage': 0.5  # 50% of the training images\n",
    "            }        \n",
    "        }\n",
    "    }\n",
    "\n",
    "for i in range(N):\n",
    "    RUN = i + 1\n",
    "    try:\n",
    "        print(f\"Starting RUN: {RUN}\")\n",
    "        main(RUN, augmentation_metadata, task_name, sub_project_name, epochs, train_size, w1, w2)\n",
    "    except Exception as e:\n",
    "        print(f\"Error in RUN: {RUN}\")\n",
    "        print(e)\n",
    "    finally:\n",
    "        clear_output(wait=True)  # Clear the output to avoid scrolling\n",
    "        gc.collect()  # Collect garbage to avoid memory leaks"
   ]
  },
  {
   "cell_type": "code",
   "execution_count": 7,
   "metadata": {},
   "outputs": [
    {
     "name": "stdout",
     "output_type": "stream",
     "text": [
      "Starting RUN: 5\n",
      "Seed:  1463268885\n"
     ]
    },
    {
     "name": "stderr",
     "output_type": "stream",
     "text": [
      "c:\\github\\Third-Year-Project\\Intruder-Aircraft-Detection\\main\\tl_clf.py:79: SettingWithCopyWarning:\n",
      "\n",
      "\n",
      "A value is trying to be set on a copy of a slice from a DataFrame.\n",
      "Try using .loc[row_indexer,col_indexer] = value instead\n",
      "\n",
      "See the caveats in the documentation: https://pandas.pydata.org/pandas-docs/stable/user_guide/indexing.html#returning-a-view-versus-a-copy\n",
      "\n",
      "c:\\github\\Third-Year-Project\\Intruder-Aircraft-Detection\\main\\tl_clf.py:80: SettingWithCopyWarning:\n",
      "\n",
      "\n",
      "A value is trying to be set on a copy of a slice from a DataFrame.\n",
      "Try using .loc[row_indexer,col_indexer] = value instead\n",
      "\n",
      "See the caveats in the documentation: https://pandas.pydata.org/pandas-docs/stable/user_guide/indexing.html#returning-a-view-versus-a-copy\n",
      "\n"
     ]
    },
    {
     "name": "stdout",
     "output_type": "stream",
     "text": [
      "Removing dataset if pre-existing\n",
      "Copying training files:\n"
     ]
    },
    {
     "name": "stderr",
     "output_type": "stream",
     "text": [
      "Copying files: 100%|██████████| 2000/2000 [00:01<00:00, 1312.33it/s]\n"
     ]
    },
    {
     "name": "stdout",
     "output_type": "stream",
     "text": [
      "Copying validation files:\n"
     ]
    },
    {
     "name": "stderr",
     "output_type": "stream",
     "text": [
      "Copying files: 100%|██████████| 400/400 [00:00<00:00, 768.65it/s] \n"
     ]
    },
    {
     "name": "stdout",
     "output_type": "stream",
     "text": [
      "Dataset 'weather_01_1000' created at C:\\github\\Third-Year-Project\\Intruder-Aircraft-Detection\\datasets\\Custom\\weather_01_1000\n",
      "Processing train labels in weather_01_1000:\n"
     ]
    },
    {
     "name": "stderr",
     "output_type": "stream",
     "text": [
      "Processing labels: 100%|██████████| 1000/1000 [00:03<00:00, 269.62it/s]\n"
     ]
    },
    {
     "name": "stdout",
     "output_type": "stream",
     "text": [
      "Processing valid labels in weather_01_1000:\n"
     ]
    },
    {
     "name": "stderr",
     "output_type": "stream",
     "text": [
      "Processing labels: 100%|██████████| 200/200 [00:00<00:00, 258.16it/s]\n"
     ]
    },
    {
     "name": "stdout",
     "output_type": "stream",
     "text": [
      "Label correction completed.\n"
     ]
    },
    {
     "name": "stderr",
     "output_type": "stream",
     "text": [
      "Removing existing directories/files: 100%|██████████| 3/3 [00:00<00:00, 3010.27it/s]\n",
      "Copying files: 100%|██████████| 1000/1000 [00:00<00:00, 1275.16it/s]\n",
      "Copying files: 100%|██████████| 1000/1000 [00:00<00:00, 1421.07it/s]\n",
      "Applying augmentations: 100%|██████████| 500/500 [00:04<00:00, 100.03it/s]\n",
      "Processing images:  25%|██▍       | 248/1000 [00:09<00:21, 34.37it/s]"
     ]
    },
    {
     "name": "stdout",
     "output_type": "stream",
     "text": [
      "An error occurred with C:/github/Third-Year-Project/Intruder-Aircraft-Detection/datasets/Custom/weather_01_1000\\images\\train\\24273.jpg: Expected y_min for bbox (0.197711, -0.007085499999999981, 0.582121, 0.2491875, 1) to be in the range [0.0, 1.0], got -0.007085499999999981.\n"
     ]
    },
    {
     "name": "stderr",
     "output_type": "stream",
     "text": [
      "Processing images:  30%|██▉       | 296/1000 [00:10<00:21, 33.21it/s]"
     ]
    },
    {
     "name": "stdout",
     "output_type": "stream",
     "text": [
      "An error occurred with C:/github/Third-Year-Project/Intruder-Aircraft-Detection/datasets/Custom/weather_01_1000\\images\\train\\24527.jpg: Expected y_max for bbox (0.42211299999999996, 0.7283575, 0.897627, 1.0453665, 1) to be in the range [0.0, 1.0], got 1.0453665.\n"
     ]
    },
    {
     "name": "stderr",
     "output_type": "stream",
     "text": [
      "Processing images:  41%|████      | 408/1000 [00:14<00:17, 34.00it/s]"
     ]
    },
    {
     "name": "stdout",
     "output_type": "stream",
     "text": [
      "An error occurred with C:/github/Third-Year-Project/Intruder-Aircraft-Detection/datasets/Custom/weather_01_1000\\images\\train\\25189.jpg: Expected y_max for bbox (0.17113399999999998, 0.7412034999999999, 0.601, 1.0277805, 1) to be in the range [0.0, 1.0], got 1.0277805.\n"
     ]
    },
    {
     "name": "stderr",
     "output_type": "stream",
     "text": [
      "Processing images:  50%|█████     | 505/1000 [00:17<00:14, 34.64it/s]"
     ]
    },
    {
     "name": "stdout",
     "output_type": "stream",
     "text": [
      "An error occurred with C:/github/Third-Year-Project/Intruder-Aircraft-Detection/datasets/Custom/weather_01_1000\\images\\train\\25695.jpg: Expected x_max for bbox (0.3757315, 0.3660325, 1.0766624999999999, 0.8333195, 1) to be in the range [0.0, 1.0], got 1.0766624999999999.\n"
     ]
    },
    {
     "name": "stderr",
     "output_type": "stream",
     "text": [
      "Processing images:  59%|█████▉    | 591/1000 [00:19<00:10, 38.53it/s]"
     ]
    },
    {
     "name": "stdout",
     "output_type": "stream",
     "text": [
      "An error occurred with C:/github/Third-Year-Project/Intruder-Aircraft-Detection/datasets/Custom/weather_01_1000\\images\\train\\48003.jpg: Expected y_max for bbox (0.4913965, 0.7711395, 0.8664335000000001, 1.0211645, 2) to be in the range [0.0, 1.0], got 1.0211645.\n"
     ]
    },
    {
     "name": "stderr",
     "output_type": "stream",
     "text": [
      "Processing images:  72%|███████▏  | 720/1000 [00:23<00:08, 34.80it/s]"
     ]
    },
    {
     "name": "stdout",
     "output_type": "stream",
     "text": [
      "An error occurred with C:/github/Third-Year-Project/Intruder-Aircraft-Detection/datasets/Custom/weather_01_1000\\images\\train\\48653.jpg: In YOLO format all coordinates must be float and in range (0, 1]\n"
     ]
    },
    {
     "name": "stderr",
     "output_type": "stream",
     "text": [
      "Processing images:  75%|███████▌  | 753/1000 [00:24<00:06, 35.86it/s]"
     ]
    },
    {
     "name": "stdout",
     "output_type": "stream",
     "text": [
      "An error occurred with C:/github/Third-Year-Project/Intruder-Aircraft-Detection/datasets/Custom/weather_01_1000\\images\\train\\48882.jpg: Expected y_min for bbox (0.0959025, -0.07905450000000001, 0.7032695, 0.3258565, 2) to be in the range [0.0, 1.0], got -0.07905450000000001.\n"
     ]
    },
    {
     "name": "stderr",
     "output_type": "stream",
     "text": [
      "Processing images: 100%|██████████| 1000/1000 [00:31<00:00, 31.64it/s]\n",
      "Processing images:  24%|██▎       | 355/1500 [00:14<00:33, 34.65it/s]"
     ]
    },
    {
     "name": "stdout",
     "output_type": "stream",
     "text": [
      "An error occurred with C:/github/Third-Year-Project/Intruder-Aircraft-Detection/datasets/Custom/weather_01_1000\\images\\train-aug\\24273.jpg: Expected y_min for bbox (0.197711, -0.007085499999999981, 0.582121, 0.2491875, 1) to be in the range [0.0, 1.0], got -0.007085499999999981.\n"
     ]
    },
    {
     "name": "stderr",
     "output_type": "stream",
     "text": [
      "Processing images:  24%|██▍       | 364/1500 [00:14<00:30, 37.01it/s]"
     ]
    },
    {
     "name": "stdout",
     "output_type": "stream",
     "text": [
      "An error occurred with C:/github/Third-Year-Project/Intruder-Aircraft-Detection/datasets/Custom/weather_01_1000\\images\\train-aug\\24273-sharpen.jpg: Expected y_min for bbox (0.197711, -0.007085499999999981, 0.582121, 0.2491875, 1) to be in the range [0.0, 1.0], got -0.007085499999999981.\n"
     ]
    },
    {
     "name": "stderr",
     "output_type": "stream",
     "text": [
      "Processing images:  29%|██▉       | 440/1500 [00:16<00:31, 33.13it/s]"
     ]
    },
    {
     "name": "stdout",
     "output_type": "stream",
     "text": [
      "An error occurred with C:/github/Third-Year-Project/Intruder-Aircraft-Detection/datasets/Custom/weather_01_1000\\images\\train-aug\\24527.jpg: Expected y_max for bbox (0.42211299999999996, 0.7283575, 0.897627, 1.0453665, 1) to be in the range [0.0, 1.0], got 1.0453665.\n",
      "An error occurred with C:/github/Third-Year-Project/Intruder-Aircraft-Detection/datasets/Custom/weather_01_1000\\images\\train-aug\\24527-sharpen.jpg: Expected y_max for bbox (0.42211299999999996, 0.7283575, 0.897627, 1.0453665, 1) to be in the range [0.0, 1.0], got 1.0453665.\n"
     ]
    },
    {
     "name": "stderr",
     "output_type": "stream",
     "text": [
      "Processing images:  40%|████      | 605/1500 [00:22<00:25, 34.77it/s]"
     ]
    },
    {
     "name": "stdout",
     "output_type": "stream",
     "text": [
      "An error occurred with C:/github/Third-Year-Project/Intruder-Aircraft-Detection/datasets/Custom/weather_01_1000\\images\\train-aug\\25189.jpg: Expected y_max for bbox (0.17113399999999998, 0.7412034999999999, 0.601, 1.0277805, 1) to be in the range [0.0, 1.0], got 1.0277805.\n"
     ]
    },
    {
     "name": "stderr",
     "output_type": "stream",
     "text": [
      "Processing images:  49%|████▉     | 742/1500 [00:26<00:20, 37.57it/s]"
     ]
    },
    {
     "name": "stdout",
     "output_type": "stream",
     "text": [
      "An error occurred with C:/github/Third-Year-Project/Intruder-Aircraft-Detection/datasets/Custom/weather_01_1000\\images\\train-aug\\25695-sharpen.jpg: Expected x_max for bbox (0.3757315, 0.3660325, 1.0766624999999999, 0.8333195, 1) to be in the range [0.0, 1.0], got 1.0766624999999999.\n",
      "An error occurred with C:/github/Third-Year-Project/Intruder-Aircraft-Detection/datasets/Custom/weather_01_1000\\images\\train-aug\\25695.jpg: Expected x_max for bbox (0.3757315, 0.3660325, 1.0766624999999999, 0.8333195, 1) to be in the range [0.0, 1.0], got 1.0766624999999999.\n"
     ]
    },
    {
     "name": "stderr",
     "output_type": "stream",
     "text": [
      "Processing images:  58%|█████▊    | 871/1500 [00:30<00:17, 36.69it/s]"
     ]
    },
    {
     "name": "stdout",
     "output_type": "stream",
     "text": [
      "An error occurred with C:/github/Third-Year-Project/Intruder-Aircraft-Detection/datasets/Custom/weather_01_1000\\images\\train-aug\\48003.jpg: Expected y_max for bbox (0.4913965, 0.7711395, 0.8664335000000001, 1.0211645, 2) to be in the range [0.0, 1.0], got 1.0211645.\n"
     ]
    },
    {
     "name": "stderr",
     "output_type": "stream",
     "text": [
      "Processing images:  72%|███████▏  | 1073/1500 [00:36<00:11, 36.82it/s]"
     ]
    },
    {
     "name": "stdout",
     "output_type": "stream",
     "text": [
      "An error occurred with C:/github/Third-Year-Project/Intruder-Aircraft-Detection/datasets/Custom/weather_01_1000\\images\\train-aug\\48653.jpg: In YOLO format all coordinates must be float and in range (0, 1]\n",
      "An error occurred with C:/github/Third-Year-Project/Intruder-Aircraft-Detection/datasets/Custom/weather_01_1000\\images\\train-aug\\48653-sharpen.jpg: In YOLO format all coordinates must be float and in range (0, 1]\n"
     ]
    },
    {
     "name": "stderr",
     "output_type": "stream",
     "text": [
      "Processing images:  75%|███████▌  | 1126/1500 [00:38<00:10, 34.53it/s]"
     ]
    },
    {
     "name": "stdout",
     "output_type": "stream",
     "text": [
      "An error occurred with C:/github/Third-Year-Project/Intruder-Aircraft-Detection/datasets/Custom/weather_01_1000\\images\\train-aug\\48882.jpg: Expected y_min for bbox (0.0959025, -0.07905450000000001, 0.7032695, 0.3258565, 2) to be in the range [0.0, 1.0], got -0.07905450000000001.\n"
     ]
    },
    {
     "name": "stderr",
     "output_type": "stream",
     "text": [
      "Processing images: 100%|██████████| 1500/1500 [00:49<00:00, 30.35it/s]\n",
      "Processing images:  57%|█████▊    | 115/200 [00:03<00:02, 34.98it/s]"
     ]
    },
    {
     "name": "stdout",
     "output_type": "stream",
     "text": [
      "An error occurred with C:/github/Third-Year-Project/Intruder-Aircraft-Detection/datasets/Custom/weather_01_1000\\images\\valid\\48967.jpg: Expected x_max for bbox (0.391763, 0.222879, 1.0974650000000001, 0.6933469999999999, 2) to be in the range [0.0, 1.0], got 1.0974650000000001.\n"
     ]
    },
    {
     "name": "stderr",
     "output_type": "stream",
     "text": [
      "Processing images: 100%|██████████| 200/200 [00:06<00:00, 31.21it/s]\n",
      "Moving images in train: 100%|██████████| 993/993 [00:03<00:00, 286.49it/s]\n",
      "Moving images in train-aug: 100%|██████████| 1489/1489 [00:03<00:00, 396.09it/s]\n",
      "Moving images in valid: 100%|██████████| 199/199 [00:00<00:00, 298.09it/s]\n"
     ]
    },
    {
     "name": "stdout",
     "output_type": "stream",
     "text": [
      "Found 993 files belonging to 3 classes.\n",
      "Found 1489 files belonging to 3 classes.\n",
      "Found 199 files belonging to 3 classes.\n",
      "ClearML Task: created new task id=1dfd04c2df2648fbb1864b911f4a54ca\n",
      "ClearML results page: https://app.clear.ml/projects/1cc8e46152ce4dafaba5e9735ab6ad79/experiments/1dfd04c2df2648fbb1864b911f4a54ca/output/log\n",
      "Training model...\n",
      "Epoch 1/30\n",
      "\u001b[1m32/32\u001b[0m \u001b[32m━━━━━━━━━━━━━━━━━━━━\u001b[0m\u001b[37m\u001b[0m \u001b[1m10s\u001b[0m 248ms/step - accuracy: 0.3594 - loss: 1.5953 - precision: 0.3649 - recall: 0.1715 - val_accuracy: 0.3317 - val_loss: 1.0986 - val_precision: 0.0000e+00 - val_recall: 0.0000e+00\n",
      "Epoch 2/30\n",
      "\u001b[1m32/32\u001b[0m \u001b[32m━━━━━━━━━━━━━━━━━━━━\u001b[0m\u001b[37m\u001b[0m \u001b[1m7s\u001b[0m 208ms/step - accuracy: 0.3231 - loss: 1.0990 - precision: 0.0000e+00 - recall: 0.0000e+00 - val_accuracy: 0.3367 - val_loss: 1.0984 - val_precision: 0.0000e+00 - val_recall: 0.0000e+00\n",
      "Epoch 3/30\n",
      "\u001b[1m32/32\u001b[0m \u001b[32m━━━━━━━━━━━━━━━━━━━━\u001b[0m\u001b[37m\u001b[0m \u001b[1m7s\u001b[0m 204ms/step - accuracy: 0.3203 - loss: 1.0989 - precision: 0.0000e+00 - recall: 0.0000e+00 - val_accuracy: 0.3367 - val_loss: 1.0981 - val_precision: 0.0000e+00 - val_recall: 0.0000e+00\n",
      "Epoch 4/30\n",
      "\u001b[1m32/32\u001b[0m \u001b[32m━━━━━━━━━━━━━━━━━━━━\u001b[0m\u001b[37m\u001b[0m \u001b[1m7s\u001b[0m 212ms/step - accuracy: 0.3283 - loss: 1.0985 - precision: 0.0000e+00 - recall: 0.0000e+00 - val_accuracy: 0.3367 - val_loss: 1.0979 - val_precision: 0.0000e+00 - val_recall: 0.0000e+00\n",
      "Epoch 5/30\n",
      "\u001b[1m32/32\u001b[0m \u001b[32m━━━━━━━━━━━━━━━━━━━━\u001b[0m\u001b[37m\u001b[0m \u001b[1m7s\u001b[0m 202ms/step - accuracy: 0.2963 - loss: 1.0988 - precision: 0.0000e+00 - recall: 0.0000e+00 - val_accuracy: 0.3869 - val_loss: 1.0970 - val_precision: 0.0000e+00 - val_recall: 0.0000e+00\n",
      "Epoch 6/30\n",
      "\u001b[1m32/32\u001b[0m \u001b[32m━━━━━━━━━━━━━━━━━━━━\u001b[0m\u001b[37m\u001b[0m \u001b[1m7s\u001b[0m 219ms/step - accuracy: 0.3718 - loss: 1.0978 - precision: 0.0000e+00 - recall: 0.0000e+00 - val_accuracy: 0.3367 - val_loss: 1.0963 - val_precision: 0.0000e+00 - val_recall: 0.0000e+00\n",
      "Epoch 7/30\n",
      "\u001b[1m32/32\u001b[0m \u001b[32m━━━━━━━━━━━━━━━━━━━━\u001b[0m\u001b[37m\u001b[0m \u001b[1m8s\u001b[0m 239ms/step - accuracy: 0.3636 - loss: 1.0972 - precision: 0.0000e+00 - recall: 0.0000e+00 - val_accuracy: 0.4221 - val_loss: 1.0968 - val_precision: 0.0000e+00 - val_recall: 0.0000e+00\n",
      "Epoch 8/30\n",
      "\u001b[1m32/32\u001b[0m \u001b[32m━━━━━━━━━━━━━━━━━━━━\u001b[0m\u001b[37m\u001b[0m \u001b[1m7s\u001b[0m 204ms/step - accuracy: 0.3846 - loss: 1.0974 - precision: 0.0000e+00 - recall: 0.0000e+00 - val_accuracy: 0.3719 - val_loss: 1.0955 - val_precision: 0.0000e+00 - val_recall: 0.0000e+00\n",
      "Epoch 9/30\n",
      "\u001b[1m32/32\u001b[0m \u001b[32m━━━━━━━━━━━━━━━━━━━━\u001b[0m\u001b[37m\u001b[0m \u001b[1m7s\u001b[0m 212ms/step - accuracy: 0.3440 - loss: 1.0983 - precision: 0.0000e+00 - recall: 0.0000e+00 - val_accuracy: 0.4322 - val_loss: 1.0946 - val_precision: 0.0000e+00 - val_recall: 0.0000e+00\n",
      "Epoch 10/30\n",
      "\u001b[1m32/32\u001b[0m \u001b[32m━━━━━━━━━━━━━━━━━━━━\u001b[0m\u001b[37m\u001b[0m \u001b[1m7s\u001b[0m 205ms/step - accuracy: 0.3598 - loss: 1.0970 - precision: 0.0000e+00 - recall: 0.0000e+00 - val_accuracy: 0.3518 - val_loss: 1.0928 - val_precision: 0.0000e+00 - val_recall: 0.0000e+00\n",
      "Epoch 11/30\n",
      "\u001b[1m32/32\u001b[0m \u001b[32m━━━━━━━━━━━━━━━━━━━━\u001b[0m\u001b[37m\u001b[0m \u001b[1m7s\u001b[0m 206ms/step - accuracy: 0.3145 - loss: 1.1004 - precision: 0.0000e+00 - recall: 0.0000e+00 - val_accuracy: 0.3869 - val_loss: 1.0922 - val_precision: 0.0000e+00 - val_recall: 0.0000e+00\n",
      "Epoch 12/30\n",
      "\u001b[1m32/32\u001b[0m \u001b[32m━━━━━━━━━━━━━━━━━━━━\u001b[0m\u001b[37m\u001b[0m \u001b[1m7s\u001b[0m 204ms/step - accuracy: 0.3402 - loss: 1.0967 - precision: 0.0000e+00 - recall: 0.0000e+00 - val_accuracy: 0.4121 - val_loss: 1.0917 - val_precision: 0.0000e+00 - val_recall: 0.0000e+00\n",
      "Epoch 13/30\n",
      "\u001b[1m32/32\u001b[0m \u001b[32m━━━━━━━━━━━━━━━━━━━━\u001b[0m\u001b[37m\u001b[0m \u001b[1m7s\u001b[0m 206ms/step - accuracy: 0.3564 - loss: 1.0952 - precision: 0.0000e+00 - recall: 0.0000e+00 - val_accuracy: 0.3568 - val_loss: 1.0904 - val_precision: 0.0000e+00 - val_recall: 0.0000e+00\n",
      "Epoch 14/30\n",
      "\u001b[1m32/32\u001b[0m \u001b[32m━━━━━━━━━━━━━━━━━━━━\u001b[0m\u001b[37m\u001b[0m \u001b[1m7s\u001b[0m 205ms/step - accuracy: 0.3343 - loss: 1.0999 - precision: 0.0000e+00 - recall: 0.0000e+00 - val_accuracy: 0.4221 - val_loss: 1.0926 - val_precision: 0.0000e+00 - val_recall: 0.0000e+00\n",
      "Epoch 15/30\n",
      "\u001b[1m32/32\u001b[0m \u001b[32m━━━━━━━━━━━━━━━━━━━━\u001b[0m\u001b[37m\u001b[0m \u001b[1m7s\u001b[0m 210ms/step - accuracy: 0.4019 - loss: 1.0938 - precision: 0.0000e+00 - recall: 0.0000e+00 - val_accuracy: 0.4271 - val_loss: 1.0890 - val_precision: 0.0000e+00 - val_recall: 0.0000e+00\n",
      "Epoch 16/30\n",
      "\u001b[1m32/32\u001b[0m \u001b[32m━━━━━━━━━━━━━━━━━━━━\u001b[0m\u001b[37m\u001b[0m \u001b[1m7s\u001b[0m 203ms/step - accuracy: 0.3645 - loss: 1.0930 - precision: 0.0000e+00 - recall: 0.0000e+00 - val_accuracy: 0.4422 - val_loss: 1.0871 - val_precision: 0.0000e+00 - val_recall: 0.0000e+00\n",
      "Epoch 17/30\n",
      "\u001b[1m32/32\u001b[0m \u001b[32m━━━━━━━━━━━━━━━━━━━━\u001b[0m\u001b[37m\u001b[0m \u001b[1m7s\u001b[0m 206ms/step - accuracy: 0.3652 - loss: 1.0912 - precision: 0.0000e+00 - recall: 0.0000e+00 - val_accuracy: 0.4472 - val_loss: 1.0857 - val_precision: 0.0000e+00 - val_recall: 0.0000e+00\n",
      "Epoch 18/30\n",
      "\u001b[1m32/32\u001b[0m \u001b[32m━━━━━━━━━━━━━━━━━━━━\u001b[0m\u001b[37m\u001b[0m \u001b[1m7s\u001b[0m 207ms/step - accuracy: 0.3629 - loss: 1.0916 - precision: 0.0000e+00 - recall: 0.0000e+00 - val_accuracy: 0.4221 - val_loss: 1.0823 - val_precision: 0.0000e+00 - val_recall: 0.0000e+00\n",
      "Epoch 19/30\n",
      "\u001b[1m32/32\u001b[0m \u001b[32m━━━━━━━━━━━━━━━━━━━━\u001b[0m\u001b[37m\u001b[0m \u001b[1m7s\u001b[0m 206ms/step - accuracy: 0.3343 - loss: 1.1030 - precision: 0.4596 - recall: 0.0040 - val_accuracy: 0.4322 - val_loss: 1.0850 - val_precision: 0.0000e+00 - val_recall: 0.0000e+00\n",
      "Epoch 20/30\n",
      "\u001b[1m32/32\u001b[0m \u001b[32m━━━━━━━━━━━━━━━━━━━━\u001b[0m\u001b[37m\u001b[0m \u001b[1m7s\u001b[0m 205ms/step - accuracy: 0.3921 - loss: 1.0902 - precision: 0.0000e+00 - recall: 0.0000e+00 - val_accuracy: 0.4221 - val_loss: 1.0829 - val_precision: 0.0000e+00 - val_recall: 0.0000e+00\n",
      "Epoch 21/30\n",
      "\u001b[1m32/32\u001b[0m \u001b[32m━━━━━━━━━━━━━━━━━━━━\u001b[0m\u001b[37m\u001b[0m \u001b[1m7s\u001b[0m 208ms/step - accuracy: 0.3525 - loss: 1.0966 - precision: 0.0000e+00 - recall: 0.0000e+00 - val_accuracy: 0.4372 - val_loss: 1.0844 - val_precision: 0.0000e+00 - val_recall: 0.0000e+00\n",
      "Epoch 22/30\n",
      "\u001b[1m32/32\u001b[0m \u001b[32m━━━━━━━━━━━━━━━━━━━━\u001b[0m\u001b[37m\u001b[0m \u001b[1m7s\u001b[0m 207ms/step - accuracy: 0.3377 - loss: 1.1026 - precision: 0.4697 - recall: 0.0019 - val_accuracy: 0.4372 - val_loss: 1.0836 - val_precision: 0.0000e+00 - val_recall: 0.0000e+00\n",
      "Epoch 23/30\n",
      "\u001b[1m32/32\u001b[0m \u001b[32m━━━━━━━━━━━━━━━━━━━━\u001b[0m\u001b[37m\u001b[0m \u001b[1m7s\u001b[0m 205ms/step - accuracy: 0.3564 - loss: 1.0961 - precision: 0.2787 - recall: 0.0104 - val_accuracy: 0.3367 - val_loss: 1.2106 - val_precision: 0.3741 - val_recall: 0.2764\n",
      "Epoch 24/30\n",
      "\u001b[1m32/32\u001b[0m \u001b[32m━━━━━━━━━━━━━━━━━━━━\u001b[0m\u001b[37m\u001b[0m \u001b[1m7s\u001b[0m 206ms/step - accuracy: 0.3638 - loss: 1.1273 - precision: 0.3634 - recall: 0.0589 - val_accuracy: 0.4472 - val_loss: 1.0812 - val_precision: 0.0000e+00 - val_recall: 0.0000e+00\n",
      "Epoch 25/30\n",
      "\u001b[1m32/32\u001b[0m \u001b[32m━━━━━━━━━━━━━━━━━━━━\u001b[0m\u001b[37m\u001b[0m \u001b[1m7s\u001b[0m 206ms/step - accuracy: 0.3761 - loss: 1.0857 - precision: 0.0000e+00 - recall: 0.0000e+00 - val_accuracy: 0.4121 - val_loss: 1.0820 - val_precision: 0.0000e+00 - val_recall: 0.0000e+00\n",
      "Epoch 26/30\n",
      "\u001b[1m32/32\u001b[0m \u001b[32m━━━━━━━━━━━━━━━━━━━━\u001b[0m\u001b[37m\u001b[0m \u001b[1m7s\u001b[0m 204ms/step - accuracy: 0.3840 - loss: 1.0849 - precision: 0.0000e+00 - recall: 0.0000e+00 - val_accuracy: 0.4070 - val_loss: 1.0791 - val_precision: 0.0000e+00 - val_recall: 0.0000e+00\n",
      "Epoch 27/30\n",
      "\u001b[1m32/32\u001b[0m \u001b[32m━━━━━━━━━━━━━━━━━━━━\u001b[0m\u001b[37m\u001b[0m \u001b[1m7s\u001b[0m 211ms/step - accuracy: 0.3592 - loss: 1.0968 - precision: 0.0000e+00 - recall: 0.0000e+00 - val_accuracy: 0.4271 - val_loss: 1.0794 - val_precision: 0.0000e+00 - val_recall: 0.0000e+00\n",
      "Epoch 28/30\n",
      "\u001b[1m32/32\u001b[0m \u001b[32m━━━━━━━━━━━━━━━━━━━━\u001b[0m\u001b[37m\u001b[0m \u001b[1m7s\u001b[0m 206ms/step - accuracy: 0.3928 - loss: 1.0860 - precision: 0.0000e+00 - recall: 0.0000e+00 - val_accuracy: 0.4372 - val_loss: 1.0760 - val_precision: 0.0000e+00 - val_recall: 0.0000e+00\n",
      "Epoch 29/30\n",
      "\u001b[1m32/32\u001b[0m \u001b[32m━━━━━━━━━━━━━━━━━━━━\u001b[0m\u001b[37m\u001b[0m \u001b[1m7s\u001b[0m 206ms/step - accuracy: 0.3674 - loss: 1.0889 - precision: 0.0000e+00 - recall: 0.0000e+00 - val_accuracy: 0.4271 - val_loss: 1.0782 - val_precision: 0.0000e+00 - val_recall: 0.0000e+00\n",
      "Epoch 30/30\n",
      "\u001b[1m32/32\u001b[0m \u001b[32m━━━━━━━━━━━━━━━━━━━━\u001b[0m\u001b[37m\u001b[0m \u001b[1m7s\u001b[0m 204ms/step - accuracy: 0.4028 - loss: 1.0796 - precision: 0.0000e+00 - recall: 0.0000e+00 - val_accuracy: 0.4372 - val_loss: 1.0739 - val_precision: 0.0000e+00 - val_recall: 0.0000e+00\n",
      "Predicting on validation set...\n",
      "\u001b[1m7/7\u001b[0m \u001b[32m━━━━━━━━━━━━━━━━━━━━\u001b[0m\u001b[37m\u001b[0m \u001b[1m1s\u001b[0m 47ms/step\n",
      "Sending metrics to clearML...\n",
      "done\n",
      "ClearML Task: created new task id=0bccf9549056487296eae754714be8f4\n",
      "ClearML results page: https://app.clear.ml/projects/1cc8e46152ce4dafaba5e9735ab6ad79/experiments/0bccf9549056487296eae754714be8f4/output/log\n",
      "Training model...\n",
      "Epoch 1/30\n",
      "\u001b[1m47/47\u001b[0m \u001b[32m━━━━━━━━━━━━━━━━━━━━\u001b[0m\u001b[37m\u001b[0m \u001b[1m13s\u001b[0m 243ms/step - accuracy: 0.3351 - loss: 1.5324 - precision: 0.3377 - recall: 0.0829 - val_accuracy: 0.4020 - val_loss: 1.0967 - val_precision: 0.0000e+00 - val_recall: 0.0000e+00\n",
      "Epoch 2/30\n",
      "\u001b[1m47/47\u001b[0m \u001b[32m━━━━━━━━━━━━━━━━━━━━\u001b[0m\u001b[37m\u001b[0m \u001b[1m10s\u001b[0m 209ms/step - accuracy: 0.3752 - loss: 1.0986 - precision: 0.3206 - recall: 0.0174 - val_accuracy: 0.3417 - val_loss: 1.0954 - val_precision: 0.0000e+00 - val_recall: 0.0000e+00\n",
      "Epoch 3/30\n",
      "\u001b[1m47/47\u001b[0m \u001b[32m━━━━━━━━━━━━━━━━━━━━\u001b[0m\u001b[37m\u001b[0m \u001b[1m10s\u001b[0m 210ms/step - accuracy: 0.3900 - loss: 1.0783 - precision: 0.5923 - recall: 0.0263 - val_accuracy: 0.4372 - val_loss: 1.0743 - val_precision: 0.0000e+00 - val_recall: 0.0000e+00\n",
      "Epoch 4/30\n",
      "\u001b[1m47/47\u001b[0m \u001b[32m━━━━━━━━━━━━━━━━━━━━\u001b[0m\u001b[37m\u001b[0m \u001b[1m10s\u001b[0m 207ms/step - accuracy: 0.5221 - loss: 0.9973 - precision: 0.7250 - recall: 0.1695 - val_accuracy: 0.5377 - val_loss: 0.9860 - val_precision: 0.5699 - val_recall: 0.2663\n",
      "Epoch 5/30\n",
      "\u001b[1m47/47\u001b[0m \u001b[32m━━━━━━━━━━━━━━━━━━━━\u001b[0m\u001b[37m\u001b[0m \u001b[1m11s\u001b[0m 235ms/step - accuracy: 0.6925 - loss: 0.7741 - precision: 0.7424 - recall: 0.5298 - val_accuracy: 0.7085 - val_loss: 0.8171 - val_precision: 0.7355 - val_recall: 0.5729\n",
      "Epoch 6/30\n",
      "\u001b[1m47/47\u001b[0m \u001b[32m━━━━━━━━━━━━━━━━━━━━\u001b[0m\u001b[37m\u001b[0m \u001b[1m10s\u001b[0m 211ms/step - accuracy: 0.7424 - loss: 0.6654 - precision: 0.7918 - recall: 0.6434 - val_accuracy: 0.6884 - val_loss: 0.8072 - val_precision: 0.7399 - val_recall: 0.6432\n",
      "Epoch 7/30\n",
      "\u001b[1m47/47\u001b[0m \u001b[32m━━━━━━━━━━━━━━━━━━━━\u001b[0m\u001b[37m\u001b[0m \u001b[1m10s\u001b[0m 205ms/step - accuracy: 0.7376 - loss: 0.5749 - precision: 0.7881 - recall: 0.6841 - val_accuracy: 0.6985 - val_loss: 0.8244 - val_precision: 0.7228 - val_recall: 0.6683\n",
      "Epoch 8/30\n",
      "\u001b[1m47/47\u001b[0m \u001b[32m━━━━━━━━━━━━━━━━━━━━\u001b[0m\u001b[37m\u001b[0m \u001b[1m10s\u001b[0m 207ms/step - accuracy: 0.7849 - loss: 0.5399 - precision: 0.8118 - recall: 0.7344 - val_accuracy: 0.6683 - val_loss: 0.9079 - val_precision: 0.6800 - val_recall: 0.5980\n",
      "Epoch 9/30\n",
      "\u001b[1m47/47\u001b[0m \u001b[32m━━━━━━━━━━━━━━━━━━━━\u001b[0m\u001b[37m\u001b[0m \u001b[1m10s\u001b[0m 213ms/step - accuracy: 0.7969 - loss: 0.4823 - precision: 0.8271 - recall: 0.7547 - val_accuracy: 0.7085 - val_loss: 0.8719 - val_precision: 0.7243 - val_recall: 0.6734\n",
      "Epoch 10/30\n",
      "\u001b[1m47/47\u001b[0m \u001b[32m━━━━━━━━━━━━━━━━━━━━\u001b[0m\u001b[37m\u001b[0m \u001b[1m10s\u001b[0m 207ms/step - accuracy: 0.8372 - loss: 0.3781 - precision: 0.8575 - recall: 0.8178 - val_accuracy: 0.7236 - val_loss: 0.8865 - val_precision: 0.7263 - val_recall: 0.6935\n",
      "Epoch 11/30\n",
      "\u001b[1m47/47\u001b[0m \u001b[32m━━━━━━━━━━━━━━━━━━━━\u001b[0m\u001b[37m\u001b[0m \u001b[1m10s\u001b[0m 207ms/step - accuracy: 0.8352 - loss: 0.3644 - precision: 0.8492 - recall: 0.8183 - val_accuracy: 0.6935 - val_loss: 0.9901 - val_precision: 0.6974 - val_recall: 0.6834\n",
      "Epoch 12/30\n",
      "\u001b[1m47/47\u001b[0m \u001b[32m━━━━━━━━━━━━━━━━━━━━\u001b[0m\u001b[37m\u001b[0m \u001b[1m10s\u001b[0m 207ms/step - accuracy: 0.8970 - loss: 0.2745 - precision: 0.9041 - recall: 0.8873 - val_accuracy: 0.7085 - val_loss: 1.0026 - val_precision: 0.7128 - val_recall: 0.6985\n",
      "Epoch 13/30\n",
      "\u001b[1m47/47\u001b[0m \u001b[32m━━━━━━━━━━━━━━━━━━━━\u001b[0m\u001b[37m\u001b[0m \u001b[1m10s\u001b[0m 206ms/step - accuracy: 0.8998 - loss: 0.3004 - precision: 0.9079 - recall: 0.8886 - val_accuracy: 0.6985 - val_loss: 1.0765 - val_precision: 0.7173 - val_recall: 0.6884\n",
      "Epoch 14/30\n",
      "\u001b[1m47/47\u001b[0m \u001b[32m━━━━━━━━━━━━━━━━━━━━\u001b[0m\u001b[37m\u001b[0m \u001b[1m10s\u001b[0m 208ms/step - accuracy: 0.8986 - loss: 0.2618 - precision: 0.9035 - recall: 0.8945 - val_accuracy: 0.7035 - val_loss: 1.0410 - val_precision: 0.7297 - val_recall: 0.6784\n",
      "Epoch 15/30\n",
      "\u001b[1m47/47\u001b[0m \u001b[32m━━━━━━━━━━━━━━━━━━━━\u001b[0m\u001b[37m\u001b[0m \u001b[1m10s\u001b[0m 209ms/step - accuracy: 0.9269 - loss: 0.1999 - precision: 0.9305 - recall: 0.9193 - val_accuracy: 0.6834 - val_loss: 1.2020 - val_precision: 0.6869 - val_recall: 0.6834\n",
      "Epoch 16/30\n",
      "\u001b[1m47/47\u001b[0m \u001b[32m━━━━━━━━━━━━━━━━━━━━\u001b[0m\u001b[37m\u001b[0m \u001b[1m10s\u001b[0m 207ms/step - accuracy: 0.9365 - loss: 0.1745 - precision: 0.9417 - recall: 0.9343 - val_accuracy: 0.7085 - val_loss: 1.2250 - val_precision: 0.7254 - val_recall: 0.7035\n",
      "Epoch 17/30\n",
      "\u001b[1m47/47\u001b[0m \u001b[32m━━━━━━━━━━━━━━━━━━━━\u001b[0m\u001b[37m\u001b[0m \u001b[1m10s\u001b[0m 206ms/step - accuracy: 0.9259 - loss: 0.1860 - precision: 0.9297 - recall: 0.9219 - val_accuracy: 0.6935 - val_loss: 1.3916 - val_precision: 0.6970 - val_recall: 0.6935\n",
      "Epoch 18/30\n",
      "\u001b[1m47/47\u001b[0m \u001b[32m━━━━━━━━━━━━━━━━━━━━\u001b[0m\u001b[37m\u001b[0m \u001b[1m10s\u001b[0m 211ms/step - accuracy: 0.9427 - loss: 0.1471 - precision: 0.9463 - recall: 0.9403 - val_accuracy: 0.6834 - val_loss: 1.4354 - val_precision: 0.6904 - val_recall: 0.6834\n",
      "Epoch 19/30\n",
      "\u001b[1m47/47\u001b[0m \u001b[32m━━━━━━━━━━━━━━━━━━━━\u001b[0m\u001b[37m\u001b[0m \u001b[1m10s\u001b[0m 206ms/step - accuracy: 0.9561 - loss: 0.1166 - precision: 0.9566 - recall: 0.9545 - val_accuracy: 0.7236 - val_loss: 1.3396 - val_precision: 0.7282 - val_recall: 0.7136\n",
      "Epoch 20/30\n",
      "\u001b[1m47/47\u001b[0m \u001b[32m━━━━━━━━━━━━━━━━━━━━\u001b[0m\u001b[37m\u001b[0m \u001b[1m10s\u001b[0m 207ms/step - accuracy: 0.9520 - loss: 0.1324 - precision: 0.9540 - recall: 0.9511 - val_accuracy: 0.7035 - val_loss: 1.3767 - val_precision: 0.7179 - val_recall: 0.7035\n",
      "Epoch 21/30\n",
      "\u001b[1m47/47\u001b[0m \u001b[32m━━━━━━━━━━━━━━━━━━━━\u001b[0m\u001b[37m\u001b[0m \u001b[1m10s\u001b[0m 208ms/step - accuracy: 0.9573 - loss: 0.1151 - precision: 0.9594 - recall: 0.9555 - val_accuracy: 0.7035 - val_loss: 1.0592 - val_precision: 0.7173 - val_recall: 0.6884\n",
      "Epoch 22/30\n",
      "\u001b[1m47/47\u001b[0m \u001b[32m━━━━━━━━━━━━━━━━━━━━\u001b[0m\u001b[37m\u001b[0m \u001b[1m10s\u001b[0m 212ms/step - accuracy: 0.9564 - loss: 0.1452 - precision: 0.9574 - recall: 0.9518 - val_accuracy: 0.7035 - val_loss: 1.5195 - val_precision: 0.7128 - val_recall: 0.6985\n",
      "Epoch 23/30\n",
      "\u001b[1m47/47\u001b[0m \u001b[32m━━━━━━━━━━━━━━━━━━━━\u001b[0m\u001b[37m\u001b[0m \u001b[1m10s\u001b[0m 205ms/step - accuracy: 0.9614 - loss: 0.0914 - precision: 0.9635 - recall: 0.9583 - val_accuracy: 0.7085 - val_loss: 1.4098 - val_precision: 0.7143 - val_recall: 0.7035\n",
      "Epoch 24/30\n",
      "\u001b[1m47/47\u001b[0m \u001b[32m━━━━━━━━━━━━━━━━━━━━\u001b[0m\u001b[37m\u001b[0m \u001b[1m10s\u001b[0m 206ms/step - accuracy: 0.9745 - loss: 0.0949 - precision: 0.9745 - recall: 0.9714 - val_accuracy: 0.6985 - val_loss: 1.6943 - val_precision: 0.7077 - val_recall: 0.6935\n",
      "Epoch 25/30\n",
      "\u001b[1m47/47\u001b[0m \u001b[32m━━━━━━━━━━━━━━━━━━━━\u001b[0m\u001b[37m\u001b[0m \u001b[1m10s\u001b[0m 208ms/step - accuracy: 0.9624 - loss: 0.0945 - precision: 0.9629 - recall: 0.9594 - val_accuracy: 0.6935 - val_loss: 1.7639 - val_precision: 0.7010 - val_recall: 0.6834\n",
      "Epoch 26/30\n",
      "\u001b[1m47/47\u001b[0m \u001b[32m━━━━━━━━━━━━━━━━━━━━\u001b[0m\u001b[37m\u001b[0m \u001b[1m10s\u001b[0m 207ms/step - accuracy: 0.9728 - loss: 0.0718 - precision: 0.9753 - recall: 0.9728 - val_accuracy: 0.7035 - val_loss: 1.8921 - val_precision: 0.7056 - val_recall: 0.6985\n",
      "Epoch 27/30\n",
      "\u001b[1m47/47\u001b[0m \u001b[32m━━━━━━━━━━━━━━━━━━━━\u001b[0m\u001b[37m\u001b[0m \u001b[1m10s\u001b[0m 210ms/step - accuracy: 0.9705 - loss: 0.0883 - precision: 0.9738 - recall: 0.9685 - val_accuracy: 0.7035 - val_loss: 1.4881 - val_precision: 0.7098 - val_recall: 0.6884\n",
      "Epoch 28/30\n",
      "\u001b[1m47/47\u001b[0m \u001b[32m━━━━━━━━━━━━━━━━━━━━\u001b[0m\u001b[37m\u001b[0m \u001b[1m10s\u001b[0m 207ms/step - accuracy: 0.9668 - loss: 0.0804 - precision: 0.9699 - recall: 0.9649 - val_accuracy: 0.7085 - val_loss: 1.9769 - val_precision: 0.7143 - val_recall: 0.7035\n",
      "Epoch 29/30\n",
      "\u001b[1m47/47\u001b[0m \u001b[32m━━━━━━━━━━━━━━━━━━━━\u001b[0m\u001b[37m\u001b[0m \u001b[1m10s\u001b[0m 205ms/step - accuracy: 0.9682 - loss: 0.0798 - precision: 0.9697 - recall: 0.9682 - val_accuracy: 0.7337 - val_loss: 1.8154 - val_precision: 0.7374 - val_recall: 0.7337\n",
      "Epoch 30/30\n",
      "\u001b[1m47/47\u001b[0m \u001b[32m━━━━━━━━━━━━━━━━━━━━\u001b[0m\u001b[37m\u001b[0m \u001b[1m10s\u001b[0m 207ms/step - accuracy: 0.9729 - loss: 0.0702 - precision: 0.9739 - recall: 0.9727 - val_accuracy: 0.7186 - val_loss: 1.9320 - val_precision: 0.7333 - val_recall: 0.7186\n",
      "Predicting on validation set...\n",
      "\u001b[1m7/7\u001b[0m \u001b[32m━━━━━━━━━━━━━━━━━━━━\u001b[0m\u001b[37m\u001b[0m \u001b[1m1s\u001b[0m 56ms/step\n",
      "Sending metrics to clearML...\n",
      "done\n"
     ]
    }
   ],
   "source": [
    "# sharpen augmentation\n",
    "task_name = 'sh'\n",
    "sub_project_name = 'SHARPEN'\n",
    "\n",
    "augmentation_metadata = {\n",
    "        'methods': {        \n",
    "            'sharpen': {\n",
    "                'parameters': {\n",
    "                    'p': 1.0  # Probability of applying the augmentation\n",
    "                },\n",
    "                'apply_to_percentage': 0.5  # 50% of the training images\n",
    "            }        \n",
    "        }\n",
    "    }\n",
    "\n",
    "for i in range(N):\n",
    "    RUN = i + 1\n",
    "    try:\n",
    "        print(f\"Starting RUN: {RUN}\")\n",
    "        main(RUN, augmentation_metadata, task_name, sub_project_name, epochs, train_size, w1, w2)\n",
    "    except Exception as e:\n",
    "        print(f\"Error in RUN: {RUN}\")\n",
    "        print(e)\n",
    "    finally:\n",
    "        clear_output(wait=True)  # Clear the output to avoid scrolling\n",
    "        gc.collect()  # Collect garbage to avoid memory leaks"
   ]
  },
  {
   "cell_type": "code",
   "execution_count": 3,
   "metadata": {},
   "outputs": [
    {
     "name": "stdout",
     "output_type": "stream",
     "text": [
      "Starting RUN: 5\n",
      "Seed:  1533179754\n"
     ]
    },
    {
     "name": "stderr",
     "output_type": "stream",
     "text": [
      "c:\\github\\Third-Year-Project\\Intruder-Aircraft-Detection\\main\\tl_clf.py:79: SettingWithCopyWarning:\n",
      "\n",
      "\n",
      "A value is trying to be set on a copy of a slice from a DataFrame.\n",
      "Try using .loc[row_indexer,col_indexer] = value instead\n",
      "\n",
      "See the caveats in the documentation: https://pandas.pydata.org/pandas-docs/stable/user_guide/indexing.html#returning-a-view-versus-a-copy\n",
      "\n",
      "c:\\github\\Third-Year-Project\\Intruder-Aircraft-Detection\\main\\tl_clf.py:80: SettingWithCopyWarning:\n",
      "\n",
      "\n",
      "A value is trying to be set on a copy of a slice from a DataFrame.\n",
      "Try using .loc[row_indexer,col_indexer] = value instead\n",
      "\n",
      "See the caveats in the documentation: https://pandas.pydata.org/pandas-docs/stable/user_guide/indexing.html#returning-a-view-versus-a-copy\n",
      "\n"
     ]
    },
    {
     "name": "stdout",
     "output_type": "stream",
     "text": [
      "Removing dataset if pre-existing\n",
      "Copying training files:\n"
     ]
    },
    {
     "name": "stderr",
     "output_type": "stream",
     "text": [
      "Copying files: 100%|██████████| 2000/2000 [00:01<00:00, 1690.88it/s]\n"
     ]
    },
    {
     "name": "stdout",
     "output_type": "stream",
     "text": [
      "Copying validation files:\n"
     ]
    },
    {
     "name": "stderr",
     "output_type": "stream",
     "text": [
      "Copying files: 100%|██████████| 400/400 [00:00<00:00, 1532.28it/s]\n"
     ]
    },
    {
     "name": "stdout",
     "output_type": "stream",
     "text": [
      "Dataset 'weather_01_1000' created at C:\\github\\Third-Year-Project\\Intruder-Aircraft-Detection\\datasets\\Custom\\weather_01_1000\n",
      "Processing train labels in weather_01_1000:\n"
     ]
    },
    {
     "name": "stderr",
     "output_type": "stream",
     "text": [
      "Processing labels: 100%|██████████| 1000/1000 [00:03<00:00, 287.86it/s]\n"
     ]
    },
    {
     "name": "stdout",
     "output_type": "stream",
     "text": [
      "Processing valid labels in weather_01_1000:\n"
     ]
    },
    {
     "name": "stderr",
     "output_type": "stream",
     "text": [
      "Processing labels: 100%|██████████| 200/200 [00:00<00:00, 235.37it/s]\n"
     ]
    },
    {
     "name": "stdout",
     "output_type": "stream",
     "text": [
      "Label correction completed.\n"
     ]
    },
    {
     "name": "stderr",
     "output_type": "stream",
     "text": [
      "Removing existing directories/files: 100%|██████████| 3/3 [00:00<00:00, 5955.00it/s]\n",
      "Copying files: 100%|██████████| 1000/1000 [00:01<00:00, 761.99it/s]\n",
      "Copying files: 100%|██████████| 1000/1000 [00:00<00:00, 1185.24it/s]\n",
      "Applying augmentations: 100%|██████████| 500/500 [00:21<00:00, 23.65it/s]\n",
      "Processing images:  26%|██▌       | 258/1000 [00:10<00:22, 33.00it/s]"
     ]
    },
    {
     "name": "stdout",
     "output_type": "stream",
     "text": [
      "An error occurred with C:/github/Third-Year-Project/Intruder-Aircraft-Detection/datasets/Custom/weather_01_1000\\images\\train\\24273.jpg: Expected y_min for bbox (0.197711, -0.007085499999999981, 0.582121, 0.2491875, 1) to be in the range [0.0, 1.0], got -0.007085499999999981.\n"
     ]
    },
    {
     "name": "stderr",
     "output_type": "stream",
     "text": [
      "Processing images:  59%|█████▉    | 591/1000 [00:20<00:12, 33.86it/s]"
     ]
    },
    {
     "name": "stdout",
     "output_type": "stream",
     "text": [
      "An error occurred with C:/github/Third-Year-Project/Intruder-Aircraft-Detection/datasets/Custom/weather_01_1000\\images\\train\\48003.jpg: Expected y_max for bbox (0.4913965, 0.7711395, 0.8664335000000001, 1.0211645, 2) to be in the range [0.0, 1.0], got 1.0211645.\n"
     ]
    },
    {
     "name": "stderr",
     "output_type": "stream",
     "text": [
      "Processing images:  76%|███████▌  | 755/1000 [00:25<00:06, 35.90it/s]"
     ]
    },
    {
     "name": "stdout",
     "output_type": "stream",
     "text": [
      "An error occurred with C:/github/Third-Year-Project/Intruder-Aircraft-Detection/datasets/Custom/weather_01_1000\\images\\train\\48882.jpg: Expected y_min for bbox (0.0959025, -0.07905450000000001, 0.7032695, 0.3258565, 2) to be in the range [0.0, 1.0], got -0.07905450000000001.\n"
     ]
    },
    {
     "name": "stderr",
     "output_type": "stream",
     "text": [
      "Processing images:  80%|███████▉  | 796/1000 [00:26<00:05, 36.08it/s]"
     ]
    },
    {
     "name": "stdout",
     "output_type": "stream",
     "text": [
      "An error occurred with C:/github/Third-Year-Project/Intruder-Aircraft-Detection/datasets/Custom/weather_01_1000\\images\\train\\49219.jpg: Expected x_min for bbox (-0.11297200000000002, 0.2757265, 0.6323099999999999, 0.7725815, 2) to be in the range [0.0, 1.0], got -0.11297200000000002.\n"
     ]
    },
    {
     "name": "stderr",
     "output_type": "stream",
     "text": [
      "Processing images: 100%|██████████| 1000/1000 [00:32<00:00, 30.50it/s]\n",
      "Processing images:  26%|██▌       | 391/1500 [00:16<00:35, 31.15it/s]"
     ]
    },
    {
     "name": "stdout",
     "output_type": "stream",
     "text": [
      "An error occurred with C:/github/Third-Year-Project/Intruder-Aircraft-Detection/datasets/Custom/weather_01_1000\\images\\train-aug\\24273.jpg: Expected y_min for bbox (0.197711, -0.007085499999999981, 0.582121, 0.2491875, 1) to be in the range [0.0, 1.0], got -0.007085499999999981.\n"
     ]
    },
    {
     "name": "stderr",
     "output_type": "stream",
     "text": [
      "Processing images:  57%|█████▋    | 858/1500 [00:31<00:19, 32.68it/s]"
     ]
    },
    {
     "name": "stdout",
     "output_type": "stream",
     "text": [
      "An error occurred with C:/github/Third-Year-Project/Intruder-Aircraft-Detection/datasets/Custom/weather_01_1000\\images\\train-aug\\48003.jpg: Expected y_max for bbox (0.4913965, 0.7711395, 0.8664335000000001, 1.0211645, 2) to be in the range [0.0, 1.0], got 1.0211645.\n",
      "An error occurred with C:/github/Third-Year-Project/Intruder-Aircraft-Detection/datasets/Custom/weather_01_1000\\images\\train-aug\\48003-gaussian.jpg: Expected y_max for bbox (0.4913965, 0.7711395, 0.8664335000000001, 1.0211645, 2) to be in the range [0.0, 1.0], got 1.0211645.\n"
     ]
    },
    {
     "name": "stderr",
     "output_type": "stream",
     "text": [
      "Processing images:  75%|███████▌  | 1129/1500 [00:40<00:12, 30.62it/s]"
     ]
    },
    {
     "name": "stdout",
     "output_type": "stream",
     "text": [
      "An error occurred with C:/github/Third-Year-Project/Intruder-Aircraft-Detection/datasets/Custom/weather_01_1000\\images\\train-aug\\48882.jpg: Expected y_min for bbox (0.0959025, -0.07905450000000001, 0.7032695, 0.3258565, 2) to be in the range [0.0, 1.0], got -0.07905450000000001.\n"
     ]
    },
    {
     "name": "stderr",
     "output_type": "stream",
     "text": [
      "Processing images:  79%|███████▉  | 1189/1500 [00:42<00:09, 32.67it/s]"
     ]
    },
    {
     "name": "stdout",
     "output_type": "stream",
     "text": [
      "An error occurred with C:/github/Third-Year-Project/Intruder-Aircraft-Detection/datasets/Custom/weather_01_1000\\images\\train-aug\\49219.jpg: Expected x_min for bbox (-0.11297200000000002, 0.2757265, 0.6323099999999999, 0.7725815, 2) to be in the range [0.0, 1.0], got -0.11297200000000002.\n",
      "An error occurred with C:/github/Third-Year-Project/Intruder-Aircraft-Detection/datasets/Custom/weather_01_1000\\images\\train-aug\\49219-gaussian.jpg: Expected x_min for bbox (-0.11297200000000002, 0.2757265, 0.6323099999999999, 0.7725815, 2) to be in the range [0.0, 1.0], got -0.11297200000000002.\n"
     ]
    },
    {
     "name": "stderr",
     "output_type": "stream",
     "text": [
      "Processing images: 100%|██████████| 1500/1500 [00:52<00:00, 28.44it/s]\n",
      "Processing images:  56%|█████▌    | 111/200 [00:03<00:02, 35.74it/s]"
     ]
    },
    {
     "name": "stdout",
     "output_type": "stream",
     "text": [
      "An error occurred with C:/github/Third-Year-Project/Intruder-Aircraft-Detection/datasets/Custom/weather_01_1000\\images\\valid\\48958.jpg: Expected y_min for bbox (0.11869149999999995, -0.083345, 1.0148305, 0.514081, 2) to be in the range [0.0, 1.0], got -0.083345.\n",
      "An error occurred with C:/github/Third-Year-Project/Intruder-Aircraft-Detection/datasets/Custom/weather_01_1000\\images\\valid\\48967.jpg: Expected x_max for bbox (0.391763, 0.222879, 1.0974650000000001, 0.6933469999999999, 2) to be in the range [0.0, 1.0], got 1.0974650000000001.\n"
     ]
    },
    {
     "name": "stderr",
     "output_type": "stream",
     "text": [
      "Processing images: 100%|██████████| 200/200 [00:06<00:00, 30.48it/s]\n",
      "Moving images in train: 100%|██████████| 996/996 [00:04<00:00, 236.44it/s]\n",
      "Moving images in train-aug: 100%|██████████| 1494/1494 [00:04<00:00, 350.37it/s]\n",
      "Moving images in valid: 100%|██████████| 198/198 [00:00<00:00, 224.94it/s]\n"
     ]
    },
    {
     "name": "stdout",
     "output_type": "stream",
     "text": [
      "Found 996 files belonging to 3 classes.\n",
      "Found 1494 files belonging to 3 classes.\n",
      "Found 198 files belonging to 3 classes.\n",
      "ClearML Task: created new task id=524392851c9a4e77b8a56628faf33ecd\n",
      "ClearML results page: https://app.clear.ml/projects/8cfd67047c9d4e6abe11758d1fccbf13/experiments/524392851c9a4e77b8a56628faf33ecd/output/log\n",
      "Training model...\n",
      "Epoch 1/30\n",
      "\u001b[1m32/32\u001b[0m \u001b[32m━━━━━━━━━━━━━━━━━━━━\u001b[0m\u001b[37m\u001b[0m \u001b[1m11s\u001b[0m 287ms/step - accuracy: 0.3564 - loss: 2.3136 - precision: 0.3721 - recall: 0.1564 - val_accuracy: 0.3283 - val_loss: 1.0988 - val_precision: 0.0000e+00 - val_recall: 0.0000e+00\n",
      "Epoch 2/30\n",
      "\u001b[1m32/32\u001b[0m \u001b[32m━━━━━━━━━━━━━━━━━━━━\u001b[0m\u001b[37m\u001b[0m \u001b[1m8s\u001b[0m 225ms/step - accuracy: 0.3191 - loss: 1.0989 - precision: 0.0000e+00 - recall: 0.0000e+00 - val_accuracy: 0.3333 - val_loss: 1.0985 - val_precision: 0.0000e+00 - val_recall: 0.0000e+00\n",
      "Epoch 3/30\n",
      "\u001b[1m32/32\u001b[0m \u001b[32m━━━━━━━━━━━━━━━━━━━━\u001b[0m\u001b[37m\u001b[0m \u001b[1m7s\u001b[0m 220ms/step - accuracy: 0.3453 - loss: 1.0986 - precision: 0.0000e+00 - recall: 0.0000e+00 - val_accuracy: 0.3333 - val_loss: 1.0981 - val_precision: 0.0000e+00 - val_recall: 0.0000e+00\n",
      "Epoch 4/30\n",
      "\u001b[1m32/32\u001b[0m \u001b[32m━━━━━━━━━━━━━━━━━━━━\u001b[0m\u001b[37m\u001b[0m \u001b[1m7s\u001b[0m 222ms/step - accuracy: 0.3553 - loss: 1.0980 - precision: 0.0000e+00 - recall: 0.0000e+00 - val_accuracy: 0.3333 - val_loss: 1.0978 - val_precision: 0.0000e+00 - val_recall: 0.0000e+00\n",
      "Epoch 5/30\n",
      "\u001b[1m32/32\u001b[0m \u001b[32m━━━━━━━━━━━━━━━━━━━━\u001b[0m\u001b[37m\u001b[0m \u001b[1m7s\u001b[0m 219ms/step - accuracy: 0.3561 - loss: 1.0982 - precision: 0.0000e+00 - recall: 0.0000e+00 - val_accuracy: 0.4394 - val_loss: 1.0967 - val_precision: 0.0000e+00 - val_recall: 0.0000e+00\n",
      "Epoch 6/30\n",
      "\u001b[1m32/32\u001b[0m \u001b[32m━━━━━━━━━━━━━━━━━━━━\u001b[0m\u001b[37m\u001b[0m \u001b[1m8s\u001b[0m 236ms/step - accuracy: 0.4032 - loss: 1.0972 - precision: 0.0000e+00 - recall: 0.0000e+00 - val_accuracy: 0.3384 - val_loss: 1.0959 - val_precision: 0.0000e+00 - val_recall: 0.0000e+00\n",
      "Epoch 7/30\n",
      "\u001b[1m32/32\u001b[0m \u001b[32m━━━━━━━━━━━━━━━━━━━━\u001b[0m\u001b[37m\u001b[0m \u001b[1m10s\u001b[0m 292ms/step - accuracy: 0.3468 - loss: 1.0963 - precision: 0.0000e+00 - recall: 0.0000e+00 - val_accuracy: 0.4343 - val_loss: 1.0979 - val_precision: 0.0000e+00 - val_recall: 0.0000e+00\n",
      "Epoch 8/30\n",
      "\u001b[1m32/32\u001b[0m \u001b[32m━━━━━━━━━━━━━━━━━━━━\u001b[0m\u001b[37m\u001b[0m \u001b[1m8s\u001b[0m 228ms/step - accuracy: 0.3598 - loss: 1.0984 - precision: 0.0000e+00 - recall: 0.0000e+00 - val_accuracy: 0.3535 - val_loss: 1.0975 - val_precision: 0.0000e+00 - val_recall: 0.0000e+00\n",
      "Epoch 9/30\n",
      "\u001b[1m32/32\u001b[0m \u001b[32m━━━━━━━━━━━━━━━━━━━━\u001b[0m\u001b[37m\u001b[0m \u001b[1m7s\u001b[0m 218ms/step - accuracy: 0.3770 - loss: 1.0985 - precision: 0.0000e+00 - recall: 0.0000e+00 - val_accuracy: 0.4343 - val_loss: 1.0972 - val_precision: 0.0000e+00 - val_recall: 0.0000e+00\n",
      "Epoch 10/30\n",
      "\u001b[1m32/32\u001b[0m \u001b[32m━━━━━━━━━━━━━━━━━━━━\u001b[0m\u001b[37m\u001b[0m \u001b[1m7s\u001b[0m 223ms/step - accuracy: 0.3869 - loss: 1.0975 - precision: 0.0000e+00 - recall: 0.0000e+00 - val_accuracy: 0.3939 - val_loss: 1.0964 - val_precision: 0.0000e+00 - val_recall: 0.0000e+00\n",
      "Epoch 11/30\n",
      "\u001b[1m32/32\u001b[0m \u001b[32m━━━━━━━━━━━━━━━━━━━━\u001b[0m\u001b[37m\u001b[0m \u001b[1m7s\u001b[0m 217ms/step - accuracy: 0.3596 - loss: 1.0991 - precision: 0.0000e+00 - recall: 0.0000e+00 - val_accuracy: 0.3889 - val_loss: 1.0962 - val_precision: 0.0000e+00 - val_recall: 0.0000e+00\n",
      "Epoch 12/30\n",
      "\u001b[1m32/32\u001b[0m \u001b[32m━━━━━━━━━━━━━━━━━━━━\u001b[0m\u001b[37m\u001b[0m \u001b[1m7s\u001b[0m 222ms/step - accuracy: 0.3770 - loss: 1.0959 - precision: 0.3030 - recall: 3.3827e-04 - val_accuracy: 0.4192 - val_loss: 1.0870 - val_precision: 0.0000e+00 - val_recall: 0.0000e+00\n",
      "Epoch 13/30\n",
      "\u001b[1m32/32\u001b[0m \u001b[32m━━━━━━━━━━━━━━━━━━━━\u001b[0m\u001b[37m\u001b[0m \u001b[1m7s\u001b[0m 225ms/step - accuracy: 0.4559 - loss: 1.0645 - precision: 0.2869 - recall: 0.0213 - val_accuracy: 0.5505 - val_loss: 0.9927 - val_precision: 0.6327 - val_recall: 0.1566\n",
      "Epoch 14/30\n",
      "\u001b[1m32/32\u001b[0m \u001b[32m━━━━━━━━━━━━━━━━━━━━\u001b[0m\u001b[37m\u001b[0m \u001b[1m8s\u001b[0m 224ms/step - accuracy: 0.6063 - loss: 0.9674 - precision: 0.7325 - recall: 0.2120 - val_accuracy: 0.5101 - val_loss: 1.1568 - val_precision: 0.5385 - val_recall: 0.3535\n",
      "Epoch 15/30\n",
      "\u001b[1m32/32\u001b[0m \u001b[32m━━━━━━━━━━━━━━━━━━━━\u001b[0m\u001b[37m\u001b[0m \u001b[1m7s\u001b[0m 219ms/step - accuracy: 0.5496 - loss: 0.9869 - precision: 0.6511 - recall: 0.2339 - val_accuracy: 0.5253 - val_loss: 1.0101 - val_precision: 0.5769 - val_recall: 0.2273\n",
      "Epoch 16/30\n",
      "\u001b[1m32/32\u001b[0m \u001b[32m━━━━━━━━━━━━━━━━━━━━\u001b[0m\u001b[37m\u001b[0m \u001b[1m7s\u001b[0m 222ms/step - accuracy: 0.4777 - loss: 1.0216 - precision: 0.5978 - recall: 0.2485 - val_accuracy: 0.5152 - val_loss: 2.0769 - val_precision: 0.5210 - val_recall: 0.4394\n",
      "Epoch 17/30\n",
      "\u001b[1m32/32\u001b[0m \u001b[32m━━━━━━━━━━━━━━━━━━━━\u001b[0m\u001b[37m\u001b[0m \u001b[1m7s\u001b[0m 220ms/step - accuracy: 0.6483 - loss: 0.8444 - precision: 0.7269 - recall: 0.5215 - val_accuracy: 0.5960 - val_loss: 0.8514 - val_precision: 0.6861 - val_recall: 0.4747\n",
      "Epoch 18/30\n",
      "\u001b[1m32/32\u001b[0m \u001b[32m━━━━━━━━━━━━━━━━━━━━\u001b[0m\u001b[37m\u001b[0m \u001b[1m7s\u001b[0m 224ms/step - accuracy: 0.7352 - loss: 0.6580 - precision: 0.7936 - recall: 0.6597 - val_accuracy: 0.6919 - val_loss: 0.8331 - val_precision: 0.7159 - val_recall: 0.6364\n",
      "Epoch 19/30\n",
      "\u001b[1m32/32\u001b[0m \u001b[32m━━━━━━━━━━━━━━━━━━━━\u001b[0m\u001b[37m\u001b[0m \u001b[1m7s\u001b[0m 224ms/step - accuracy: 0.7581 - loss: 0.5973 - precision: 0.7974 - recall: 0.7158 - val_accuracy: 0.6667 - val_loss: 0.9462 - val_precision: 0.6885 - val_recall: 0.6364\n",
      "Epoch 20/30\n",
      "\u001b[1m32/32\u001b[0m \u001b[32m━━━━━━━━━━━━━━━━━━━━\u001b[0m\u001b[37m\u001b[0m \u001b[1m7s\u001b[0m 222ms/step - accuracy: 0.7963 - loss: 0.4674 - precision: 0.8229 - recall: 0.7737 - val_accuracy: 0.6919 - val_loss: 0.8570 - val_precision: 0.7198 - val_recall: 0.6616\n",
      "Epoch 21/30\n",
      "\u001b[1m32/32\u001b[0m \u001b[32m━━━━━━━━━━━━━━━━━━━━\u001b[0m\u001b[37m\u001b[0m \u001b[1m7s\u001b[0m 221ms/step - accuracy: 0.8302 - loss: 0.4153 - precision: 0.8551 - recall: 0.8186 - val_accuracy: 0.6919 - val_loss: 0.8425 - val_precision: 0.6952 - val_recall: 0.6566\n",
      "Epoch 22/30\n",
      "\u001b[1m32/32\u001b[0m \u001b[32m━━━━━━━━━━━━━━━━━━━━\u001b[0m\u001b[37m\u001b[0m \u001b[1m7s\u001b[0m 221ms/step - accuracy: 0.8016 - loss: 0.4943 - precision: 0.8353 - recall: 0.7605 - val_accuracy: 0.6869 - val_loss: 0.9679 - val_precision: 0.7074 - val_recall: 0.6717\n",
      "Epoch 23/30\n",
      "\u001b[1m32/32\u001b[0m \u001b[32m━━━━━━━━━━━━━━━━━━━━\u001b[0m\u001b[37m\u001b[0m \u001b[1m7s\u001b[0m 222ms/step - accuracy: 0.8624 - loss: 0.3342 - precision: 0.8759 - recall: 0.8392 - val_accuracy: 0.7020 - val_loss: 1.0027 - val_precision: 0.7128 - val_recall: 0.7020\n",
      "Epoch 24/30\n",
      "\u001b[1m32/32\u001b[0m \u001b[32m━━━━━━━━━━━━━━━━━━━━\u001b[0m\u001b[37m\u001b[0m \u001b[1m8s\u001b[0m 226ms/step - accuracy: 0.8654 - loss: 0.3270 - precision: 0.8826 - recall: 0.8484 - val_accuracy: 0.6869 - val_loss: 0.9956 - val_precision: 0.6907 - val_recall: 0.6768\n",
      "Epoch 25/30\n",
      "\u001b[1m32/32\u001b[0m \u001b[32m━━━━━━━━━━━━━━━━━━━━\u001b[0m\u001b[37m\u001b[0m \u001b[1m7s\u001b[0m 222ms/step - accuracy: 0.8924 - loss: 0.2787 - precision: 0.9039 - recall: 0.8809 - val_accuracy: 0.6717 - val_loss: 1.1230 - val_precision: 0.6788 - val_recall: 0.6616\n",
      "Epoch 26/30\n",
      "\u001b[1m32/32\u001b[0m \u001b[32m━━━━━━━━━━━━━━━━━━━━\u001b[0m\u001b[37m\u001b[0m \u001b[1m7s\u001b[0m 222ms/step - accuracy: 0.8930 - loss: 0.2895 - precision: 0.8972 - recall: 0.8802 - val_accuracy: 0.6768 - val_loss: 1.3811 - val_precision: 0.6837 - val_recall: 0.6768\n",
      "Epoch 27/30\n",
      "\u001b[1m32/32\u001b[0m \u001b[32m━━━━━━━━━━━━━━━━━━━━\u001b[0m\u001b[37m\u001b[0m \u001b[1m7s\u001b[0m 221ms/step - accuracy: 0.9033 - loss: 0.2249 - precision: 0.9098 - recall: 0.8957 - val_accuracy: 0.6768 - val_loss: 1.1628 - val_precision: 0.6839 - val_recall: 0.6667\n",
      "Epoch 28/30\n",
      "\u001b[1m32/32\u001b[0m \u001b[32m━━━━━━━━━━━━━━━━━━━━\u001b[0m\u001b[37m\u001b[0m \u001b[1m7s\u001b[0m 223ms/step - accuracy: 0.9046 - loss: 0.2410 - precision: 0.9121 - recall: 0.9029 - val_accuracy: 0.6869 - val_loss: 1.2155 - val_precision: 0.6853 - val_recall: 0.6818\n",
      "Epoch 29/30\n",
      "\u001b[1m32/32\u001b[0m \u001b[32m━━━━━━━━━━━━━━━━━━━━\u001b[0m\u001b[37m\u001b[0m \u001b[1m7s\u001b[0m 220ms/step - accuracy: 0.9264 - loss: 0.1798 - precision: 0.9312 - recall: 0.9205 - val_accuracy: 0.7071 - val_loss: 1.2352 - val_precision: 0.7077 - val_recall: 0.6970\n",
      "Epoch 30/30\n",
      "\u001b[1m32/32\u001b[0m \u001b[32m━━━━━━━━━━━━━━━━━━━━\u001b[0m\u001b[37m\u001b[0m \u001b[1m8s\u001b[0m 227ms/step - accuracy: 0.9395 - loss: 0.1782 - precision: 0.9418 - recall: 0.9353 - val_accuracy: 0.7071 - val_loss: 1.1904 - val_precision: 0.7150 - val_recall: 0.6970\n",
      "Predicting on validation set...\n",
      "\u001b[1m7/7\u001b[0m \u001b[32m━━━━━━━━━━━━━━━━━━━━\u001b[0m\u001b[37m\u001b[0m \u001b[1m1s\u001b[0m 56ms/step\n",
      "Sending metrics to clearML...\n",
      "done\n",
      "ClearML Task: created new task id=0df9bbb4a13948c9bea5acf86c50e45c\n",
      "ClearML results page: https://app.clear.ml/projects/8cfd67047c9d4e6abe11758d1fccbf13/experiments/0df9bbb4a13948c9bea5acf86c50e45c/output/log\n",
      "Training model...\n",
      "Epoch 1/30\n",
      "\u001b[1m47/47\u001b[0m \u001b[32m━━━━━━━━━━━━━━━━━━━━\u001b[0m\u001b[37m\u001b[0m \u001b[1m16s\u001b[0m 284ms/step - accuracy: 0.3142 - loss: 2.0929 - precision: 0.2666 - recall: 0.0854 - val_accuracy: 0.3283 - val_loss: 1.0972 - val_precision: 0.0000e+00 - val_recall: 0.0000e+00\n",
      "Epoch 2/30\n",
      "\u001b[1m47/47\u001b[0m \u001b[32m━━━━━━━━━━━━━━━━━━━━\u001b[0m\u001b[37m\u001b[0m \u001b[1m11s\u001b[0m 223ms/step - accuracy: 0.3694 - loss: 1.0930 - precision: 0.1228 - recall: 6.4803e-04 - val_accuracy: 0.3333 - val_loss: 1.0814 - val_precision: 0.4444 - val_recall: 0.0202\n",
      "Epoch 3/30\n",
      "\u001b[1m47/47\u001b[0m \u001b[32m━━━━━━━━━━━━━━━━━━━━\u001b[0m\u001b[37m\u001b[0m \u001b[1m11s\u001b[0m 225ms/step - accuracy: 0.4492 - loss: 1.0569 - precision: 0.5136 - recall: 0.0366 - val_accuracy: 0.6313 - val_loss: 0.9776 - val_precision: 0.6588 - val_recall: 0.2828\n",
      "Epoch 4/30\n",
      "\u001b[1m47/47\u001b[0m \u001b[32m━━━━━━━━━━━━━━━━━━━━\u001b[0m\u001b[37m\u001b[0m \u001b[1m11s\u001b[0m 222ms/step - accuracy: 0.6622 - loss: 0.8934 - precision: 0.7521 - recall: 0.3907 - val_accuracy: 0.5505 - val_loss: 1.0112 - val_precision: 0.6316 - val_recall: 0.1212\n",
      "Epoch 5/30\n",
      "\u001b[1m47/47\u001b[0m \u001b[32m━━━━━━━━━━━━━━━━━━━━\u001b[0m\u001b[37m\u001b[0m \u001b[1m13s\u001b[0m 273ms/step - accuracy: 0.6607 - loss: 0.8483 - precision: 0.7746 - recall: 0.3661 - val_accuracy: 0.6869 - val_loss: 0.8674 - val_precision: 0.7251 - val_recall: 0.6263\n",
      "Epoch 6/30\n",
      "\u001b[1m47/47\u001b[0m \u001b[32m━━━━━━━━━━━━━━━━━━━━\u001b[0m\u001b[37m\u001b[0m \u001b[1m11s\u001b[0m 227ms/step - accuracy: 0.7627 - loss: 0.6155 - precision: 0.7955 - recall: 0.6892 - val_accuracy: 0.6970 - val_loss: 0.8568 - val_precision: 0.6989 - val_recall: 0.6212\n",
      "Epoch 7/30\n",
      "\u001b[1m47/47\u001b[0m \u001b[32m━━━━━━━━━━━━━━━━━━━━\u001b[0m\u001b[37m\u001b[0m \u001b[1m11s\u001b[0m 221ms/step - accuracy: 0.8035 - loss: 0.5000 - precision: 0.8374 - recall: 0.7596 - val_accuracy: 0.7172 - val_loss: 0.8185 - val_precision: 0.7486 - val_recall: 0.6919\n",
      "Epoch 8/30\n",
      "\u001b[1m47/47\u001b[0m \u001b[32m━━━━━━━━━━━━━━━━━━━━\u001b[0m\u001b[37m\u001b[0m \u001b[1m11s\u001b[0m 223ms/step - accuracy: 0.8393 - loss: 0.4195 - precision: 0.8583 - recall: 0.8061 - val_accuracy: 0.7020 - val_loss: 0.8786 - val_precision: 0.7273 - val_recall: 0.6869\n",
      "Epoch 9/30\n",
      "\u001b[1m47/47\u001b[0m \u001b[32m━━━━━━━━━━━━━━━━━━━━\u001b[0m\u001b[37m\u001b[0m \u001b[1m11s\u001b[0m 223ms/step - accuracy: 0.8697 - loss: 0.3367 - precision: 0.8865 - recall: 0.8506 - val_accuracy: 0.6970 - val_loss: 0.9264 - val_precision: 0.7074 - val_recall: 0.6717\n",
      "Epoch 10/30\n",
      "\u001b[1m47/47\u001b[0m \u001b[32m━━━━━━━━━━━━━━━━━━━━\u001b[0m\u001b[37m\u001b[0m \u001b[1m11s\u001b[0m 224ms/step - accuracy: 0.8653 - loss: 0.3190 - precision: 0.8784 - recall: 0.8454 - val_accuracy: 0.7020 - val_loss: 1.0359 - val_precision: 0.7083 - val_recall: 0.6869\n",
      "Epoch 11/30\n",
      "\u001b[1m47/47\u001b[0m \u001b[32m━━━━━━━━━━━━━━━━━━━━\u001b[0m\u001b[37m\u001b[0m \u001b[1m11s\u001b[0m 223ms/step - accuracy: 0.8898 - loss: 0.2652 - precision: 0.9010 - recall: 0.8767 - val_accuracy: 0.6970 - val_loss: 1.0395 - val_precision: 0.7135 - val_recall: 0.6919\n",
      "Epoch 12/30\n",
      "\u001b[1m47/47\u001b[0m \u001b[32m━━━━━━━━━━━━━━━━━━━━\u001b[0m\u001b[37m\u001b[0m \u001b[1m11s\u001b[0m 223ms/step - accuracy: 0.9123 - loss: 0.2239 - precision: 0.9186 - recall: 0.9002 - val_accuracy: 0.7020 - val_loss: 1.1703 - val_precision: 0.7077 - val_recall: 0.6970\n",
      "Epoch 13/30\n",
      "\u001b[1m47/47\u001b[0m \u001b[32m━━━━━━━━━━━━━━━━━━━━\u001b[0m\u001b[37m\u001b[0m \u001b[1m11s\u001b[0m 219ms/step - accuracy: 0.9275 - loss: 0.1770 - precision: 0.9315 - recall: 0.9230 - val_accuracy: 0.6970 - val_loss: 1.2820 - val_precision: 0.6990 - val_recall: 0.6919\n",
      "Epoch 14/30\n",
      "\u001b[1m47/47\u001b[0m \u001b[32m━━━━━━━━━━━━━━━━━━━━\u001b[0m\u001b[37m\u001b[0m \u001b[1m11s\u001b[0m 224ms/step - accuracy: 0.9310 - loss: 0.1629 - precision: 0.9355 - recall: 0.9302 - val_accuracy: 0.7121 - val_loss: 0.9885 - val_precision: 0.7263 - val_recall: 0.6970\n",
      "Epoch 15/30\n",
      "\u001b[1m47/47\u001b[0m \u001b[32m━━━━━━━━━━━━━━━━━━━━\u001b[0m\u001b[37m\u001b[0m \u001b[1m11s\u001b[0m 225ms/step - accuracy: 0.9382 - loss: 0.1631 - precision: 0.9407 - recall: 0.9330 - val_accuracy: 0.7172 - val_loss: 1.1965 - val_precision: 0.7330 - val_recall: 0.7071\n",
      "Epoch 16/30\n",
      "\u001b[1m47/47\u001b[0m \u001b[32m━━━━━━━━━━━━━━━━━━━━\u001b[0m\u001b[37m\u001b[0m \u001b[1m11s\u001b[0m 222ms/step - accuracy: 0.9558 - loss: 0.1237 - precision: 0.9594 - recall: 0.9543 - val_accuracy: 0.6818 - val_loss: 1.3626 - val_precision: 0.6837 - val_recall: 0.6768\n",
      "Epoch 17/30\n",
      "\u001b[1m47/47\u001b[0m \u001b[32m━━━━━━━━━━━━━━━━━━━━\u001b[0m\u001b[37m\u001b[0m \u001b[1m11s\u001b[0m 223ms/step - accuracy: 0.9509 - loss: 0.1281 - precision: 0.9530 - recall: 0.9478 - val_accuracy: 0.7071 - val_loss: 1.5002 - val_precision: 0.7026 - val_recall: 0.6919\n",
      "Epoch 18/30\n",
      "\u001b[1m47/47\u001b[0m \u001b[32m━━━━━━━━━━━━━━━━━━━━\u001b[0m\u001b[37m\u001b[0m \u001b[1m11s\u001b[0m 224ms/step - accuracy: 0.9597 - loss: 0.1000 - precision: 0.9631 - recall: 0.9584 - val_accuracy: 0.7121 - val_loss: 1.4934 - val_precision: 0.7165 - val_recall: 0.7020\n",
      "Epoch 19/30\n",
      "\u001b[1m47/47\u001b[0m \u001b[32m━━━━━━━━━━━━━━━━━━━━\u001b[0m\u001b[37m\u001b[0m \u001b[1m11s\u001b[0m 222ms/step - accuracy: 0.9731 - loss: 0.0932 - precision: 0.9737 - recall: 0.9706 - val_accuracy: 0.7020 - val_loss: 1.3961 - val_precision: 0.7020 - val_recall: 0.7020\n",
      "Epoch 20/30\n",
      "\u001b[1m47/47\u001b[0m \u001b[32m━━━━━━━━━━━━━━━━━━━━\u001b[0m\u001b[37m\u001b[0m \u001b[1m11s\u001b[0m 221ms/step - accuracy: 0.9539 - loss: 0.1213 - precision: 0.9541 - recall: 0.9483 - val_accuracy: 0.7020 - val_loss: 1.5161 - val_precision: 0.7041 - val_recall: 0.6970\n",
      "Epoch 21/30\n",
      "\u001b[1m47/47\u001b[0m \u001b[32m━━━━━━━━━━━━━━━━━━━━\u001b[0m\u001b[37m\u001b[0m \u001b[1m11s\u001b[0m 224ms/step - accuracy: 0.9767 - loss: 0.0762 - precision: 0.9806 - recall: 0.9746 - val_accuracy: 0.7121 - val_loss: 1.4373 - val_precision: 0.7121 - val_recall: 0.7121\n",
      "Epoch 22/30\n",
      "\u001b[1m47/47\u001b[0m \u001b[32m━━━━━━━━━━━━━━━━━━━━\u001b[0m\u001b[37m\u001b[0m \u001b[1m11s\u001b[0m 227ms/step - accuracy: 0.9803 - loss: 0.0649 - precision: 0.9805 - recall: 0.9785 - val_accuracy: 0.7323 - val_loss: 1.2975 - val_precision: 0.7360 - val_recall: 0.7323\n",
      "Epoch 23/30\n",
      "\u001b[1m47/47\u001b[0m \u001b[32m━━━━━━━━━━━━━━━━━━━━\u001b[0m\u001b[37m\u001b[0m \u001b[1m11s\u001b[0m 223ms/step - accuracy: 0.9681 - loss: 0.0880 - precision: 0.9689 - recall: 0.9670 - val_accuracy: 0.7222 - val_loss: 1.6443 - val_precision: 0.7296 - val_recall: 0.7222\n",
      "Epoch 24/30\n",
      "\u001b[1m47/47\u001b[0m \u001b[32m━━━━━━━━━━━━━━━━━━━━\u001b[0m\u001b[37m\u001b[0m \u001b[1m11s\u001b[0m 222ms/step - accuracy: 0.9698 - loss: 0.0699 - precision: 0.9732 - recall: 0.9696 - val_accuracy: 0.7374 - val_loss: 1.5447 - val_precision: 0.7360 - val_recall: 0.7323\n",
      "Epoch 25/30\n",
      "\u001b[1m47/47\u001b[0m \u001b[32m━━━━━━━━━━━━━━━━━━━━\u001b[0m\u001b[37m\u001b[0m \u001b[1m11s\u001b[0m 223ms/step - accuracy: 0.9824 - loss: 0.0599 - precision: 0.9835 - recall: 0.9800 - val_accuracy: 0.7525 - val_loss: 1.7372 - val_precision: 0.7513 - val_recall: 0.7475\n",
      "Epoch 26/30\n",
      "\u001b[1m47/47\u001b[0m \u001b[32m━━━━━━━━━━━━━━━━━━━━\u001b[0m\u001b[37m\u001b[0m \u001b[1m11s\u001b[0m 227ms/step - accuracy: 0.9872 - loss: 0.0473 - precision: 0.9872 - recall: 0.9866 - val_accuracy: 0.7020 - val_loss: 1.8611 - val_precision: 0.7041 - val_recall: 0.6970\n",
      "Epoch 27/30\n",
      "\u001b[1m47/47\u001b[0m \u001b[32m━━━━━━━━━━━━━━━━━━━━\u001b[0m\u001b[37m\u001b[0m \u001b[1m11s\u001b[0m 221ms/step - accuracy: 0.9833 - loss: 0.0526 - precision: 0.9833 - recall: 0.9812 - val_accuracy: 0.7172 - val_loss: 1.8968 - val_precision: 0.7245 - val_recall: 0.7172\n",
      "Epoch 28/30\n",
      "\u001b[1m47/47\u001b[0m \u001b[32m━━━━━━━━━━━━━━━━━━━━\u001b[0m\u001b[37m\u001b[0m \u001b[1m11s\u001b[0m 222ms/step - accuracy: 0.9828 - loss: 0.0419 - precision: 0.9836 - recall: 0.9828 - val_accuracy: 0.6818 - val_loss: 1.9657 - val_precision: 0.6853 - val_recall: 0.6818\n",
      "Epoch 29/30\n",
      "\u001b[1m47/47\u001b[0m \u001b[32m━━━━━━━━━━━━━━━━━━━━\u001b[0m\u001b[37m\u001b[0m \u001b[1m11s\u001b[0m 224ms/step - accuracy: 0.9913 - loss: 0.0358 - precision: 0.9923 - recall: 0.9913 - val_accuracy: 0.7121 - val_loss: 1.8360 - val_precision: 0.7194 - val_recall: 0.7121\n",
      "Epoch 30/30\n",
      "\u001b[1m47/47\u001b[0m \u001b[32m━━━━━━━━━━━━━━━━━━━━\u001b[0m\u001b[37m\u001b[0m \u001b[1m11s\u001b[0m 222ms/step - accuracy: 0.9913 - loss: 0.0358 - precision: 0.9913 - recall: 0.9913 - val_accuracy: 0.7374 - val_loss: 1.9309 - val_precision: 0.7374 - val_recall: 0.7374\n",
      "Predicting on validation set...\n",
      "\u001b[1m7/7\u001b[0m \u001b[32m━━━━━━━━━━━━━━━━━━━━\u001b[0m\u001b[37m\u001b[0m \u001b[1m1s\u001b[0m 55ms/step\n",
      "Sending metrics to clearML...\n",
      "done\n"
     ]
    }
   ],
   "source": [
    "# guassian augmentation\n",
    "task_name = 'gau'\n",
    "sub_project_name = 'GAUSSIAN'\n",
    "\n",
    "augmentation_metadata = {\n",
    "        'methods': {        \n",
    "            'gaussian': {\n",
    "                'parameters': {\n",
    "                },\n",
    "                'apply_to_percentage': 0.5  # 50% of the training images\n",
    "            }        \n",
    "        }\n",
    "    }\n",
    "\n",
    "for i in range(N):\n",
    "    RUN = i + 1\n",
    "    try:\n",
    "        print(f\"Starting RUN: {RUN}\")\n",
    "        main(RUN, augmentation_metadata, task_name, sub_project_name, epochs, train_size, w1, w2)\n",
    "    except Exception as e:\n",
    "        print(f\"Error in RUN: {RUN}\")\n",
    "        print(e)\n",
    "    finally:\n",
    "        clear_output(wait=True)  # Clear the output to avoid scrolling\n",
    "        gc.collect()  # Collect garbage to avoid memory leaks"
   ]
  },
  {
   "cell_type": "code",
   "execution_count": 9,
   "metadata": {},
   "outputs": [
    {
     "name": "stdout",
     "output_type": "stream",
     "text": [
      "Starting RUN: 5\n",
      "Seed:  1469470408\n"
     ]
    },
    {
     "name": "stderr",
     "output_type": "stream",
     "text": [
      "c:\\github\\Third-Year-Project\\Intruder-Aircraft-Detection\\main\\tl_clf.py:79: SettingWithCopyWarning:\n",
      "\n",
      "\n",
      "A value is trying to be set on a copy of a slice from a DataFrame.\n",
      "Try using .loc[row_indexer,col_indexer] = value instead\n",
      "\n",
      "See the caveats in the documentation: https://pandas.pydata.org/pandas-docs/stable/user_guide/indexing.html#returning-a-view-versus-a-copy\n",
      "\n",
      "c:\\github\\Third-Year-Project\\Intruder-Aircraft-Detection\\main\\tl_clf.py:80: SettingWithCopyWarning:\n",
      "\n",
      "\n",
      "A value is trying to be set on a copy of a slice from a DataFrame.\n",
      "Try using .loc[row_indexer,col_indexer] = value instead\n",
      "\n",
      "See the caveats in the documentation: https://pandas.pydata.org/pandas-docs/stable/user_guide/indexing.html#returning-a-view-versus-a-copy\n",
      "\n"
     ]
    },
    {
     "name": "stdout",
     "output_type": "stream",
     "text": [
      "Removing dataset if pre-existing\n",
      "Copying training files:\n"
     ]
    },
    {
     "name": "stderr",
     "output_type": "stream",
     "text": [
      "Copying files: 100%|██████████| 2000/2000 [00:01<00:00, 1929.07it/s]\n"
     ]
    },
    {
     "name": "stdout",
     "output_type": "stream",
     "text": [
      "Copying validation files:\n"
     ]
    },
    {
     "name": "stderr",
     "output_type": "stream",
     "text": [
      "Copying files: 100%|██████████| 400/400 [00:00<00:00, 2144.23it/s]\n"
     ]
    },
    {
     "name": "stdout",
     "output_type": "stream",
     "text": [
      "Dataset 'weather_01_1000' created at C:\\github\\Third-Year-Project\\Intruder-Aircraft-Detection\\datasets\\Custom\\weather_01_1000\n",
      "Processing train labels in weather_01_1000:\n"
     ]
    },
    {
     "name": "stderr",
     "output_type": "stream",
     "text": [
      "Processing labels: 100%|██████████| 1000/1000 [00:03<00:00, 253.29it/s]\n"
     ]
    },
    {
     "name": "stdout",
     "output_type": "stream",
     "text": [
      "Processing valid labels in weather_01_1000:\n"
     ]
    },
    {
     "name": "stderr",
     "output_type": "stream",
     "text": [
      "Processing labels: 100%|██████████| 200/200 [00:00<00:00, 269.30it/s]\n"
     ]
    },
    {
     "name": "stdout",
     "output_type": "stream",
     "text": [
      "Label correction completed.\n"
     ]
    },
    {
     "name": "stderr",
     "output_type": "stream",
     "text": [
      "Removing existing directories/files: 100%|██████████| 3/3 [00:00<00:00, 6006.16it/s]\n",
      "Copying files: 100%|██████████| 1000/1000 [00:01<00:00, 973.01it/s]\n",
      "Copying files: 100%|██████████| 1000/1000 [00:00<00:00, 1339.20it/s]\n",
      "Applying augmentations: 100%|██████████| 500/500 [00:05<00:00, 90.95it/s]\n"
     ]
    },
    {
     "name": "stdout",
     "output_type": "stream",
     "text": [
      "An error occurred: Expected y_max for bbox (0.14731649999999996, 0.7641374999999999, 0.5491775, 1.0320445, 1) to be in the range [0.0, 1.0], got 1.0320445.\n",
      "An error occurred: Expected y_max for bbox (0.617381, 0.832845, 0.871829, 1.0024769999999998, 1) to be in the range [0.0, 1.0], got 1.0024769999999998.\n",
      "An error occurred: Expected x_min for bbox (-0.012365500000000001, 0.2159135, 0.4833855, 0.5464145, 1) to be in the range [0.0, 1.0], got -0.012365500000000001.\n",
      "An error occurred: Expected x_max for bbox (0.368679, 0.3249835, 1.086079, 0.8032505, 2) to be in the range [0.0, 1.0], got 1.086079.\n",
      "An error occurred: Expected x_max for bbox (0.389371, 0.478432, 1.160187, 0.99231, 1) to be in the range [0.0, 1.0], got 1.160187.\n",
      "An error occurred: Expected y_max for bbox (0.07873799999999997, 0.6116285, 0.708052, 1.0311715000000001, 2) to be in the range [0.0, 1.0], got 1.0311715000000001.\n"
     ]
    },
    {
     "name": "stderr",
     "output_type": "stream",
     "text": [
      "Processing images:  20%|█▉        | 198/1000 [00:07<00:22, 34.96it/s]"
     ]
    },
    {
     "name": "stdout",
     "output_type": "stream",
     "text": [
      "An error occurred with C:/github/Third-Year-Project/Intruder-Aircraft-Detection/datasets/Custom/weather_01_1000\\images\\train\\24022.jpg: Expected y_max for bbox (0.24655300000000002, 0.722105, 0.681787, 1.012261, 1) to be in the range [0.0, 1.0], got 1.012261.\n"
     ]
    },
    {
     "name": "stderr",
     "output_type": "stream",
     "text": [
      "Processing images:  22%|██▏       | 218/1000 [00:08<00:24, 31.63it/s]"
     ]
    },
    {
     "name": "stdout",
     "output_type": "stream",
     "text": [
      "An error occurred with C:/github/Third-Year-Project/Intruder-Aircraft-Detection/datasets/Custom/weather_01_1000\\images\\train\\24096.jpg: Expected y_max for bbox (0.603079, 0.818155, 0.877433, 1.0010569999999999, 1) to be in the range [0.0, 1.0], got 1.0010569999999999.\n",
      "An error occurred with C:/github/Third-Year-Project/Intruder-Aircraft-Detection/datasets/Custom/weather_01_1000\\images\\train\\24104.jpg: Expected y_max for bbox (0.14731649999999996, 0.7641374999999999, 0.5491775, 1.0320445, 1) to be in the range [0.0, 1.0], got 1.0320445.\n"
     ]
    },
    {
     "name": "stderr",
     "output_type": "stream",
     "text": [
      "Processing images:  23%|██▎       | 232/1000 [00:08<00:21, 35.96it/s]"
     ]
    },
    {
     "name": "stdout",
     "output_type": "stream",
     "text": [
      "An error occurred with C:/github/Third-Year-Project/Intruder-Aircraft-Detection/datasets/Custom/weather_01_1000\\images\\train\\24158.jpg: Expected x_max for bbox (0.48810749999999997, 0.16665499999999997, 1.0361505, 0.532017, 1) to be in the range [0.0, 1.0], got 1.0361505.\n"
     ]
    },
    {
     "name": "stderr",
     "output_type": "stream",
     "text": [
      "Processing images:  26%|██▋       | 265/1000 [00:09<00:21, 34.98it/s]"
     ]
    },
    {
     "name": "stdout",
     "output_type": "stream",
     "text": [
      "An error occurred with C:/github/Third-Year-Project/Intruder-Aircraft-Detection/datasets/Custom/weather_01_1000\\images\\train\\24392.jpg: Expected x_max for bbox (0.389371, 0.478432, 1.160187, 0.99231, 1) to be in the range [0.0, 1.0], got 1.160187.\n"
     ]
    },
    {
     "name": "stderr",
     "output_type": "stream",
     "text": [
      "Processing images:  32%|███▏      | 322/1000 [00:11<00:19, 34.71it/s]"
     ]
    },
    {
     "name": "stdout",
     "output_type": "stream",
     "text": [
      "An error occurred with C:/github/Third-Year-Project/Intruder-Aircraft-Detection/datasets/Custom/weather_01_1000\\images\\train\\24664.jpg: Expected x_min for bbox (-0.012226999999999988, 0.5140865000000001, 0.810117, 1.0623155, 1) to be in the range [0.0, 1.0], got -0.012226999999999988.\n"
     ]
    },
    {
     "name": "stderr",
     "output_type": "stream",
     "text": [
      "Processing images:  44%|████▍     | 439/1000 [00:15<00:15, 36.13it/s]"
     ]
    },
    {
     "name": "stdout",
     "output_type": "stream",
     "text": [
      "An error occurred with C:/github/Third-Year-Project/Intruder-Aircraft-Detection/datasets/Custom/weather_01_1000\\images\\train\\25365.jpg: Expected y_max for bbox (0.617381, 0.832845, 0.871829, 1.0024769999999998, 1) to be in the range [0.0, 1.0], got 1.0024769999999998.\n"
     ]
    },
    {
     "name": "stderr",
     "output_type": "stream",
     "text": [
      "Processing images:  48%|████▊     | 476/1000 [00:16<00:15, 34.13it/s]"
     ]
    },
    {
     "name": "stdout",
     "output_type": "stream",
     "text": [
      "An error occurred with C:/github/Third-Year-Project/Intruder-Aircraft-Detection/datasets/Custom/weather_01_1000\\images\\train\\25571.jpg: Expected x_min for bbox (-0.012365500000000001, 0.2159135, 0.4833855, 0.5464145, 1) to be in the range [0.0, 1.0], got -0.012365500000000001.\n"
     ]
    },
    {
     "name": "stderr",
     "output_type": "stream",
     "text": [
      "Processing images:  74%|███████▎  | 737/1000 [00:24<00:07, 36.42it/s]"
     ]
    },
    {
     "name": "stdout",
     "output_type": "stream",
     "text": [
      "An error occurred with C:/github/Third-Year-Project/Intruder-Aircraft-Detection/datasets/Custom/weather_01_1000\\images\\train\\48839.jpg: Expected y_max for bbox (0.07873799999999997, 0.6116285, 0.708052, 1.0311715000000001, 2) to be in the range [0.0, 1.0], got 1.0311715000000001.\n"
     ]
    },
    {
     "name": "stderr",
     "output_type": "stream",
     "text": [
      "Processing images:  79%|███████▉  | 789/1000 [00:25<00:06, 35.10it/s]"
     ]
    },
    {
     "name": "stdout",
     "output_type": "stream",
     "text": [
      "An error occurred with C:/github/Third-Year-Project/Intruder-Aircraft-Detection/datasets/Custom/weather_01_1000\\images\\train\\49296.jpg: Expected x_max for bbox (0.368679, 0.3249835, 1.086079, 0.8032505, 2) to be in the range [0.0, 1.0], got 1.086079.\n"
     ]
    },
    {
     "name": "stderr",
     "output_type": "stream",
     "text": [
      "Processing images:  87%|████████▋ | 870/1000 [00:27<00:03, 38.01it/s]"
     ]
    },
    {
     "name": "stdout",
     "output_type": "stream",
     "text": [
      "An error occurred with C:/github/Third-Year-Project/Intruder-Aircraft-Detection/datasets/Custom/weather_01_1000\\images\\train\\49729.jpg: Expected x_max for bbox (0.425531, 0.400972, 1.050599, 0.8176840000000001, 2) to be in the range [0.0, 1.0], got 1.050599.\n"
     ]
    },
    {
     "name": "stderr",
     "output_type": "stream",
     "text": [
      "Processing images: 100%|██████████| 1000/1000 [00:31<00:00, 31.56it/s]\n",
      "Processing images:  20%|█▉        | 298/1494 [00:12<00:35, 33.65it/s]"
     ]
    },
    {
     "name": "stdout",
     "output_type": "stream",
     "text": [
      "An error occurred with C:/github/Third-Year-Project/Intruder-Aircraft-Detection/datasets/Custom/weather_01_1000\\images\\train-aug\\24022.jpg: Expected y_max for bbox (0.24655300000000002, 0.722105, 0.681787, 1.012261, 1) to be in the range [0.0, 1.0], got 1.012261.\n"
     ]
    },
    {
     "name": "stderr",
     "output_type": "stream",
     "text": [
      "Processing images:  22%|██▏       | 326/1494 [00:13<00:33, 34.81it/s]"
     ]
    },
    {
     "name": "stdout",
     "output_type": "stream",
     "text": [
      "An error occurred with C:/github/Third-Year-Project/Intruder-Aircraft-Detection/datasets/Custom/weather_01_1000\\images\\train-aug\\24096.jpg: Expected y_max for bbox (0.603079, 0.818155, 0.877433, 1.0010569999999999, 1) to be in the range [0.0, 1.0], got 1.0010569999999999.\n",
      "An error occurred with C:/github/Third-Year-Project/Intruder-Aircraft-Detection/datasets/Custom/weather_01_1000\\images\\train-aug\\24104.jpg: Expected y_max for bbox (0.14731649999999996, 0.7641374999999999, 0.5491775, 1.0320445, 1) to be in the range [0.0, 1.0], got 1.0320445.\n"
     ]
    },
    {
     "name": "stderr",
     "output_type": "stream",
     "text": [
      "Processing images:  23%|██▎       | 350/1494 [00:13<00:33, 34.66it/s]"
     ]
    },
    {
     "name": "stdout",
     "output_type": "stream",
     "text": [
      "An error occurred with C:/github/Third-Year-Project/Intruder-Aircraft-Detection/datasets/Custom/weather_01_1000\\images\\train-aug\\24158.jpg: Expected x_max for bbox (0.48810749999999997, 0.16665499999999997, 1.0361505, 0.532017, 1) to be in the range [0.0, 1.0], got 1.0361505.\n"
     ]
    },
    {
     "name": "stderr",
     "output_type": "stream",
     "text": [
      "Processing images:  26%|██▌       | 387/1494 [00:15<00:32, 34.08it/s]"
     ]
    },
    {
     "name": "stdout",
     "output_type": "stream",
     "text": [
      "An error occurred with C:/github/Third-Year-Project/Intruder-Aircraft-Detection/datasets/Custom/weather_01_1000\\images\\train-aug\\24392.jpg: Expected x_max for bbox (0.389371, 0.478432, 1.160187, 0.99231, 1) to be in the range [0.0, 1.0], got 1.160187.\n"
     ]
    },
    {
     "name": "stderr",
     "output_type": "stream",
     "text": [
      "Processing images:  31%|███▏      | 468/1494 [00:17<00:29, 35.34it/s]"
     ]
    },
    {
     "name": "stdout",
     "output_type": "stream",
     "text": [
      "An error occurred with C:/github/Third-Year-Project/Intruder-Aircraft-Detection/datasets/Custom/weather_01_1000\\images\\train-aug\\24664.jpg: Expected x_min for bbox (-0.012226999999999988, 0.5140865000000001, 0.810117, 1.0623155, 1) to be in the range [0.0, 1.0], got -0.012226999999999988.\n"
     ]
    },
    {
     "name": "stderr",
     "output_type": "stream",
     "text": [
      "Processing images:  33%|███▎      | 489/1494 [00:18<00:29, 34.57it/s]"
     ]
    },
    {
     "name": "stdout",
     "output_type": "stream",
     "text": [
      "An error occurred with C:/github/Third-Year-Project/Intruder-Aircraft-Detection/datasets/Custom/weather_01_1000\\images\\train-aug\\24743-rotate.jpg: Expected y_min for bbox (0.18167650000000002, -5.000000000005e-07, 0.4262815, 0.16919250000000002, 1) to be in the range [0.0, 1.0], got -5.000000000005e-07.\n"
     ]
    },
    {
     "name": "stderr",
     "output_type": "stream",
     "text": [
      "Processing images:  44%|████▍     | 658/1494 [00:23<00:24, 34.46it/s]"
     ]
    },
    {
     "name": "stdout",
     "output_type": "stream",
     "text": [
      "An error occurred with C:/github/Third-Year-Project/Intruder-Aircraft-Detection/datasets/Custom/weather_01_1000\\images\\train-aug\\25365.jpg: Expected y_max for bbox (0.617381, 0.832845, 0.871829, 1.0024769999999998, 1) to be in the range [0.0, 1.0], got 1.0024769999999998.\n"
     ]
    },
    {
     "name": "stderr",
     "output_type": "stream",
     "text": [
      "Processing images:  47%|████▋     | 703/1494 [00:24<00:23, 34.11it/s]"
     ]
    },
    {
     "name": "stdout",
     "output_type": "stream",
     "text": [
      "An error occurred with C:/github/Third-Year-Project/Intruder-Aircraft-Detection/datasets/Custom/weather_01_1000\\images\\train-aug\\25571.jpg: Expected x_min for bbox (-0.012365500000000001, 0.2159135, 0.4833855, 0.5464145, 1) to be in the range [0.0, 1.0], got -0.012365500000000001.\n"
     ]
    },
    {
     "name": "stderr",
     "output_type": "stream",
     "text": [
      "Processing images:  54%|█████▎    | 800/1494 [00:27<00:19, 35.85it/s]"
     ]
    },
    {
     "name": "stdout",
     "output_type": "stream",
     "text": [
      "An error occurred with C:/github/Third-Year-Project/Intruder-Aircraft-Detection/datasets/Custom/weather_01_1000\\images\\train-aug\\39-rotate.jpg: Expected y_min for bbox (0.591823, -5.000000000005e-07, 0.679881, 0.0965345, 0) to be in the range [0.0, 1.0], got -5.000000000005e-07.\n"
     ]
    },
    {
     "name": "stderr",
     "output_type": "stream",
     "text": [
      "Processing images:  73%|███████▎  | 1093/1494 [00:36<00:11, 35.70it/s]"
     ]
    },
    {
     "name": "stdout",
     "output_type": "stream",
     "text": [
      "An error occurred with C:/github/Third-Year-Project/Intruder-Aircraft-Detection/datasets/Custom/weather_01_1000\\images\\train-aug\\48839.jpg: Expected y_max for bbox (0.07873799999999997, 0.6116285, 0.708052, 1.0311715000000001, 2) to be in the range [0.0, 1.0], got 1.0311715000000001.\n"
     ]
    },
    {
     "name": "stderr",
     "output_type": "stream",
     "text": [
      "Processing images:  78%|███████▊  | 1166/1494 [00:38<00:08, 37.12it/s]"
     ]
    },
    {
     "name": "stdout",
     "output_type": "stream",
     "text": [
      "An error occurred with C:/github/Third-Year-Project/Intruder-Aircraft-Detection/datasets/Custom/weather_01_1000\\images\\train-aug\\49296.jpg: Expected x_max for bbox (0.368679, 0.3249835, 1.086079, 0.8032505, 2) to be in the range [0.0, 1.0], got 1.086079.\n"
     ]
    },
    {
     "name": "stderr",
     "output_type": "stream",
     "text": [
      "Processing images:  83%|████████▎ | 1235/1494 [00:40<00:07, 35.89it/s]"
     ]
    },
    {
     "name": "stdout",
     "output_type": "stream",
     "text": [
      "An error occurred with C:/github/Third-Year-Project/Intruder-Aircraft-Detection/datasets/Custom/weather_01_1000\\images\\train-aug\\49540-rotate.jpg: list index out of range\n"
     ]
    },
    {
     "name": "stderr",
     "output_type": "stream",
     "text": [
      "Processing images:  87%|████████▋ | 1299/1494 [00:42<00:05, 36.75it/s]"
     ]
    },
    {
     "name": "stdout",
     "output_type": "stream",
     "text": [
      "An error occurred with C:/github/Third-Year-Project/Intruder-Aircraft-Detection/datasets/Custom/weather_01_1000\\images\\train-aug\\49729.jpg: Expected x_max for bbox (0.425531, 0.400972, 1.050599, 0.8176840000000001, 2) to be in the range [0.0, 1.0], got 1.050599.\n"
     ]
    },
    {
     "name": "stderr",
     "output_type": "stream",
     "text": [
      "Processing images: 100%|██████████| 1494/1494 [00:48<00:00, 30.77it/s]\n",
      "Processing images:  56%|█████▌    | 112/200 [00:03<00:02, 34.83it/s]"
     ]
    },
    {
     "name": "stdout",
     "output_type": "stream",
     "text": [
      "An error occurred with C:/github/Third-Year-Project/Intruder-Aircraft-Detection/datasets/Custom/weather_01_1000\\images\\valid\\48958.jpg: Expected y_min for bbox (0.11869149999999995, -0.083345, 1.0148305, 0.514081, 2) to be in the range [0.0, 1.0], got -0.083345.\n"
     ]
    },
    {
     "name": "stderr",
     "output_type": "stream",
     "text": [
      "Processing images: 100%|██████████| 200/200 [00:06<00:00, 31.01it/s]\n",
      "Moving images in train: 100%|██████████| 989/989 [00:03<00:00, 274.37it/s]\n",
      "Moving images in train-aug: 100%|██████████| 1480/1480 [00:04<00:00, 324.31it/s]\n",
      "Moving images in valid: 100%|██████████| 199/199 [00:00<00:00, 280.43it/s]\n"
     ]
    },
    {
     "name": "stdout",
     "output_type": "stream",
     "text": [
      "Found 989 files belonging to 3 classes.\n",
      "Found 1480 files belonging to 3 classes.\n",
      "Found 199 files belonging to 3 classes.\n",
      "ClearML Task: created new task id=47f2f061b23544f5916d3cce0722023b\n",
      "ClearML results page: https://app.clear.ml/projects/5a674be4cf0f473c808dd42f7b83358f/experiments/47f2f061b23544f5916d3cce0722023b/output/log\n",
      "Training model...\n",
      "Epoch 1/30\n",
      "\u001b[1m31/31\u001b[0m \u001b[32m━━━━━━━━━━━━━━━━━━━━\u001b[0m\u001b[37m\u001b[0m \u001b[1m10s\u001b[0m 260ms/step - accuracy: 0.3411 - loss: 1.8913 - precision: 0.3450 - recall: 0.1457 - val_accuracy: 0.3367 - val_loss: 1.0985 - val_precision: 0.0000e+00 - val_recall: 0.0000e+00\n",
      "Epoch 2/30\n",
      "\u001b[1m31/31\u001b[0m \u001b[32m━━━━━━━━━━━━━━━━━━━━\u001b[0m\u001b[37m\u001b[0m \u001b[1m7s\u001b[0m 218ms/step - accuracy: 0.3288 - loss: 1.0988 - precision: 0.0000e+00 - recall: 0.0000e+00 - val_accuracy: 0.3819 - val_loss: 1.0981 - val_precision: 0.0000e+00 - val_recall: 0.0000e+00\n",
      "Epoch 3/30\n",
      "\u001b[1m31/31\u001b[0m \u001b[32m━━━━━━━━━━━━━━━━━━━━\u001b[0m\u001b[37m\u001b[0m \u001b[1m7s\u001b[0m 213ms/step - accuracy: 0.3360 - loss: 1.0974 - precision: 0.0000e+00 - recall: 0.0000e+00 - val_accuracy: 0.3417 - val_loss: 1.0985 - val_precision: 0.0000e+00 - val_recall: 0.0000e+00\n",
      "Epoch 4/30\n",
      "\u001b[1m31/31\u001b[0m \u001b[32m━━━━━━━━━━━━━━━━━━━━\u001b[0m\u001b[37m\u001b[0m \u001b[1m7s\u001b[0m 215ms/step - accuracy: 0.3436 - loss: 1.0986 - precision: 0.0000e+00 - recall: 0.0000e+00 - val_accuracy: 0.3417 - val_loss: 1.0980 - val_precision: 0.0000e+00 - val_recall: 0.0000e+00\n",
      "Epoch 5/30\n",
      "\u001b[1m31/31\u001b[0m \u001b[32m━━━━━━━━━━━━━━━━━━━━\u001b[0m\u001b[37m\u001b[0m \u001b[1m7s\u001b[0m 210ms/step - accuracy: 0.3786 - loss: 1.0953 - precision: 0.1816 - recall: 0.0026 - val_accuracy: 0.5025 - val_loss: 1.0492 - val_precision: 0.5455 - val_recall: 0.0302\n",
      "Epoch 6/30\n",
      "\u001b[1m31/31\u001b[0m \u001b[32m━━━━━━━━━━━━━━━━━━━━\u001b[0m\u001b[37m\u001b[0m \u001b[1m7s\u001b[0m 210ms/step - accuracy: 0.5002 - loss: 1.0533 - precision: 0.5953 - recall: 0.0552 - val_accuracy: 0.5226 - val_loss: 1.0628 - val_precision: 0.6667 - val_recall: 0.0201\n",
      "Epoch 7/30\n",
      "\u001b[1m31/31\u001b[0m \u001b[32m━━━━━━━━━━━━━━━━━━━━\u001b[0m\u001b[37m\u001b[0m \u001b[1m8s\u001b[0m 257ms/step - accuracy: 0.5351 - loss: 1.0215 - precision: 0.6628 - recall: 0.0975 - val_accuracy: 0.5628 - val_loss: 0.9790 - val_precision: 0.6190 - val_recall: 0.1960\n",
      "Epoch 8/30\n",
      "\u001b[1m31/31\u001b[0m \u001b[32m━━━━━━━━━━━━━━━━━━━━\u001b[0m\u001b[37m\u001b[0m \u001b[1m7s\u001b[0m 213ms/step - accuracy: 0.5941 - loss: 0.9042 - precision: 0.7352 - recall: 0.3628 - val_accuracy: 0.6030 - val_loss: 0.9510 - val_precision: 0.6379 - val_recall: 0.3719\n",
      "Epoch 9/30\n",
      "\u001b[1m31/31\u001b[0m \u001b[32m━━━━━━━━━━━━━━━━━━━━\u001b[0m\u001b[37m\u001b[0m \u001b[1m7s\u001b[0m 218ms/step - accuracy: 0.6709 - loss: 0.7710 - precision: 0.7763 - recall: 0.4632 - val_accuracy: 0.6633 - val_loss: 0.9195 - val_precision: 0.6932 - val_recall: 0.6131\n",
      "Epoch 10/30\n",
      "\u001b[1m31/31\u001b[0m \u001b[32m━━━━━━━━━━━━━━━━━━━━\u001b[0m\u001b[37m\u001b[0m \u001b[1m7s\u001b[0m 215ms/step - accuracy: 0.7344 - loss: 0.6365 - precision: 0.7940 - recall: 0.6514 - val_accuracy: 0.7186 - val_loss: 0.8397 - val_precision: 0.7412 - val_recall: 0.6332\n",
      "Epoch 11/30\n",
      "\u001b[1m31/31\u001b[0m \u001b[32m━━━━━━━━━━━━━━━━━━━━\u001b[0m\u001b[37m\u001b[0m \u001b[1m7s\u001b[0m 212ms/step - accuracy: 0.7736 - loss: 0.5555 - precision: 0.8226 - recall: 0.7197 - val_accuracy: 0.6884 - val_loss: 0.8690 - val_precision: 0.7143 - val_recall: 0.6533\n",
      "Epoch 12/30\n",
      "\u001b[1m31/31\u001b[0m \u001b[32m━━━━━━━━━━━━━━━━━━━━\u001b[0m\u001b[37m\u001b[0m \u001b[1m7s\u001b[0m 211ms/step - accuracy: 0.8305 - loss: 0.4785 - precision: 0.8424 - recall: 0.7769 - val_accuracy: 0.7136 - val_loss: 0.9621 - val_precision: 0.7263 - val_recall: 0.6935\n",
      "Epoch 13/30\n",
      "\u001b[1m31/31\u001b[0m \u001b[32m━━━━━━━━━━━━━━━━━━━━\u001b[0m\u001b[37m\u001b[0m \u001b[1m7s\u001b[0m 215ms/step - accuracy: 0.8096 - loss: 0.4809 - precision: 0.8277 - recall: 0.7744 - val_accuracy: 0.7538 - val_loss: 0.7791 - val_precision: 0.7725 - val_recall: 0.7337\n",
      "Epoch 14/30\n",
      "\u001b[1m31/31\u001b[0m \u001b[32m━━━━━━━━━━━━━━━━━━━━\u001b[0m\u001b[37m\u001b[0m \u001b[1m7s\u001b[0m 212ms/step - accuracy: 0.8622 - loss: 0.3507 - precision: 0.8863 - recall: 0.8455 - val_accuracy: 0.7487 - val_loss: 0.8144 - val_precision: 0.7632 - val_recall: 0.7286\n",
      "Epoch 15/30\n",
      "\u001b[1m31/31\u001b[0m \u001b[32m━━━━━━━━━━━━━━━━━━━━\u001b[0m\u001b[37m\u001b[0m \u001b[1m7s\u001b[0m 215ms/step - accuracy: 0.8702 - loss: 0.3509 - precision: 0.8829 - recall: 0.8453 - val_accuracy: 0.7337 - val_loss: 0.9400 - val_precision: 0.7487 - val_recall: 0.7186\n",
      "Epoch 16/30\n",
      "\u001b[1m31/31\u001b[0m \u001b[32m━━━━━━━━━━━━━━━━━━━━\u001b[0m\u001b[37m\u001b[0m \u001b[1m7s\u001b[0m 213ms/step - accuracy: 0.8870 - loss: 0.3184 - precision: 0.8985 - recall: 0.8737 - val_accuracy: 0.7387 - val_loss: 0.8082 - val_precision: 0.7539 - val_recall: 0.7236\n",
      "Epoch 17/30\n",
      "\u001b[1m31/31\u001b[0m \u001b[32m━━━━━━━━━━━━━━━━━━━━\u001b[0m\u001b[37m\u001b[0m \u001b[1m7s\u001b[0m 215ms/step - accuracy: 0.8739 - loss: 0.3242 - precision: 0.8931 - recall: 0.8684 - val_accuracy: 0.7186 - val_loss: 1.0317 - val_precision: 0.7268 - val_recall: 0.7085\n",
      "Epoch 18/30\n",
      "\u001b[1m31/31\u001b[0m \u001b[32m━━━━━━━━━━━━━━━━━━━━\u001b[0m\u001b[37m\u001b[0m \u001b[1m7s\u001b[0m 214ms/step - accuracy: 0.9168 - loss: 0.2522 - precision: 0.9257 - recall: 0.9040 - val_accuracy: 0.7638 - val_loss: 0.9117 - val_precision: 0.7720 - val_recall: 0.7487\n",
      "Epoch 19/30\n",
      "\u001b[1m31/31\u001b[0m \u001b[32m━━━━━━━━━━━━━━━━━━━━\u001b[0m\u001b[37m\u001b[0m \u001b[1m7s\u001b[0m 211ms/step - accuracy: 0.9121 - loss: 0.2618 - precision: 0.9243 - recall: 0.9064 - val_accuracy: 0.7136 - val_loss: 1.0683 - val_precision: 0.7135 - val_recall: 0.6884\n",
      "Epoch 20/30\n",
      "\u001b[1m31/31\u001b[0m \u001b[32m━━━━━━━━━━━━━━━━━━━━\u001b[0m\u001b[37m\u001b[0m \u001b[1m7s\u001b[0m 215ms/step - accuracy: 0.9144 - loss: 0.2498 - precision: 0.9223 - recall: 0.9073 - val_accuracy: 0.7789 - val_loss: 0.9044 - val_precision: 0.7906 - val_recall: 0.7588\n",
      "Epoch 21/30\n",
      "\u001b[1m31/31\u001b[0m \u001b[32m━━━━━━━━━━━━━━━━━━━━\u001b[0m\u001b[37m\u001b[0m \u001b[1m7s\u001b[0m 211ms/step - accuracy: 0.9268 - loss: 0.2195 - precision: 0.9398 - recall: 0.9106 - val_accuracy: 0.7688 - val_loss: 1.1293 - val_precision: 0.7744 - val_recall: 0.7588\n",
      "Epoch 22/30\n",
      "\u001b[1m31/31\u001b[0m \u001b[32m━━━━━━━━━━━━━━━━━━━━\u001b[0m\u001b[37m\u001b[0m \u001b[1m7s\u001b[0m 218ms/step - accuracy: 0.9397 - loss: 0.1796 - precision: 0.9418 - recall: 0.9368 - val_accuracy: 0.7337 - val_loss: 1.0579 - val_precision: 0.7449 - val_recall: 0.7337\n",
      "Epoch 23/30\n",
      "\u001b[1m31/31\u001b[0m \u001b[32m━━━━━━━━━━━━━━━━━━━━\u001b[0m\u001b[37m\u001b[0m \u001b[1m7s\u001b[0m 212ms/step - accuracy: 0.9459 - loss: 0.1890 - precision: 0.9487 - recall: 0.9430 - val_accuracy: 0.7538 - val_loss: 1.0304 - val_precision: 0.7563 - val_recall: 0.7487\n",
      "Epoch 24/30\n",
      "\u001b[1m31/31\u001b[0m \u001b[32m━━━━━━━━━━━━━━━━━━━━\u001b[0m\u001b[37m\u001b[0m \u001b[1m7s\u001b[0m 211ms/step - accuracy: 0.9499 - loss: 0.1446 - precision: 0.9549 - recall: 0.9488 - val_accuracy: 0.7387 - val_loss: 0.9276 - val_precision: 0.7423 - val_recall: 0.7236\n",
      "Epoch 25/30\n",
      "\u001b[1m31/31\u001b[0m \u001b[32m━━━━━━━━━━━━━━━━━━━━\u001b[0m\u001b[37m\u001b[0m \u001b[1m7s\u001b[0m 211ms/step - accuracy: 0.9391 - loss: 0.1641 - precision: 0.9504 - recall: 0.9385 - val_accuracy: 0.7638 - val_loss: 0.9293 - val_precision: 0.7692 - val_recall: 0.7538\n",
      "Epoch 26/30\n",
      "\u001b[1m31/31\u001b[0m \u001b[32m━━━━━━━━━━━━━━━━━━━━\u001b[0m\u001b[37m\u001b[0m \u001b[1m7s\u001b[0m 213ms/step - accuracy: 0.9559 - loss: 0.1312 - precision: 0.9626 - recall: 0.9551 - val_accuracy: 0.7286 - val_loss: 1.5251 - val_precision: 0.7347 - val_recall: 0.7236\n",
      "Epoch 27/30\n",
      "\u001b[1m31/31\u001b[0m \u001b[32m━━━━━━━━━━━━━━━━━━━━\u001b[0m\u001b[37m\u001b[0m \u001b[1m7s\u001b[0m 212ms/step - accuracy: 0.9611 - loss: 0.1083 - precision: 0.9618 - recall: 0.9540 - val_accuracy: 0.7387 - val_loss: 1.3663 - val_precision: 0.7374 - val_recall: 0.7337\n",
      "Epoch 28/30\n",
      "\u001b[1m31/31\u001b[0m \u001b[32m━━━━━━━━━━━━━━━━━━━━\u001b[0m\u001b[37m\u001b[0m \u001b[1m7s\u001b[0m 216ms/step - accuracy: 0.9177 - loss: 0.2041 - precision: 0.9236 - recall: 0.9097 - val_accuracy: 0.7387 - val_loss: 1.3152 - val_precision: 0.7462 - val_recall: 0.7387\n",
      "Epoch 29/30\n",
      "\u001b[1m31/31\u001b[0m \u001b[32m━━━━━━━━━━━━━━━━━━━━\u001b[0m\u001b[37m\u001b[0m \u001b[1m7s\u001b[0m 212ms/step - accuracy: 0.9386 - loss: 0.1467 - precision: 0.9405 - recall: 0.9356 - val_accuracy: 0.7337 - val_loss: 1.2025 - val_precision: 0.7374 - val_recall: 0.7337\n",
      "Epoch 30/30\n",
      "\u001b[1m31/31\u001b[0m \u001b[32m━━━━━━━━━━━━━━━━━━━━\u001b[0m\u001b[37m\u001b[0m \u001b[1m7s\u001b[0m 212ms/step - accuracy: 0.9650 - loss: 0.1151 - precision: 0.9690 - recall: 0.9615 - val_accuracy: 0.7387 - val_loss: 1.2261 - val_precision: 0.7449 - val_recall: 0.7337\n",
      "Predicting on validation set...\n",
      "\u001b[1m7/7\u001b[0m \u001b[32m━━━━━━━━━━━━━━━━━━━━\u001b[0m\u001b[37m\u001b[0m \u001b[1m1s\u001b[0m 51ms/step\n",
      "Sending metrics to clearML...\n",
      "done\n",
      "ClearML Task: created new task id=8c08f3035c2a4e52afdd0ba68dafe143\n",
      "ClearML results page: https://app.clear.ml/projects/5a674be4cf0f473c808dd42f7b83358f/experiments/8c08f3035c2a4e52afdd0ba68dafe143/output/log\n",
      "Training model...\n",
      "Epoch 1/30\n",
      "\u001b[1m47/47\u001b[0m \u001b[32m━━━━━━━━━━━━━━━━━━━━\u001b[0m\u001b[37m\u001b[0m \u001b[1m14s\u001b[0m 244ms/step - accuracy: 0.3377 - loss: 2.1837 - precision: 0.3388 - recall: 0.1183 - val_accuracy: 0.3317 - val_loss: 1.0985 - val_precision: 0.0000e+00 - val_recall: 0.0000e+00\n",
      "Epoch 2/30\n",
      "\u001b[1m47/47\u001b[0m \u001b[32m━━━━━━━━━━━━━━━━━━━━\u001b[0m\u001b[37m\u001b[0m \u001b[1m10s\u001b[0m 208ms/step - accuracy: 0.3696 - loss: 1.0960 - precision: 0.2152 - recall: 0.0024 - val_accuracy: 0.3367 - val_loss: 1.0985 - val_precision: 0.0000e+00 - val_recall: 0.0000e+00\n",
      "Epoch 3/30\n",
      "\u001b[1m47/47\u001b[0m \u001b[32m━━━━━━━━━━━━━━━━━━━━\u001b[0m\u001b[37m\u001b[0m \u001b[1m10s\u001b[0m 206ms/step - accuracy: 0.3541 - loss: 1.0842 - precision: 0.6444 - recall: 0.0130 - val_accuracy: 0.3618 - val_loss: 1.0918 - val_precision: 0.0000e+00 - val_recall: 0.0000e+00\n",
      "Epoch 4/30\n",
      "\u001b[1m47/47\u001b[0m \u001b[32m━━━━━━━━━━━━━━━━━━━━\u001b[0m\u001b[37m\u001b[0m \u001b[1m10s\u001b[0m 207ms/step - accuracy: 0.4025 - loss: 1.0637 - precision: 0.6918 - recall: 0.0445 - val_accuracy: 0.4874 - val_loss: 1.0585 - val_precision: 0.0000e+00 - val_recall: 0.0000e+00\n",
      "Epoch 5/30\n",
      "\u001b[1m47/47\u001b[0m \u001b[32m━━━━━━━━━━━━━━━━━━━━\u001b[0m\u001b[37m\u001b[0m \u001b[1m11s\u001b[0m 238ms/step - accuracy: 0.5258 - loss: 0.9845 - precision: 0.6978 - recall: 0.1569 - val_accuracy: 0.5176 - val_loss: 0.9389 - val_precision: 0.6905 - val_recall: 0.2915\n",
      "Epoch 6/30\n",
      "\u001b[1m47/47\u001b[0m \u001b[32m━━━━━━━━━━━━━━━━━━━━\u001b[0m\u001b[37m\u001b[0m \u001b[1m10s\u001b[0m 207ms/step - accuracy: 0.6351 - loss: 0.8601 - precision: 0.7310 - recall: 0.3734 - val_accuracy: 0.6332 - val_loss: 0.9283 - val_precision: 0.6966 - val_recall: 0.5075\n",
      "Epoch 7/30\n",
      "\u001b[1m47/47\u001b[0m \u001b[32m━━━━━━━━━━━━━━━━━━━━\u001b[0m\u001b[37m\u001b[0m \u001b[1m10s\u001b[0m 205ms/step - accuracy: 0.6561 - loss: 0.7898 - precision: 0.7245 - recall: 0.5412 - val_accuracy: 0.6482 - val_loss: 0.8056 - val_precision: 0.7241 - val_recall: 0.5276\n",
      "Epoch 8/30\n",
      "\u001b[1m47/47\u001b[0m \u001b[32m━━━━━━━━━━━━━━━━━━━━\u001b[0m\u001b[37m\u001b[0m \u001b[1m10s\u001b[0m 208ms/step - accuracy: 0.7317 - loss: 0.6402 - precision: 0.7996 - recall: 0.6678 - val_accuracy: 0.7337 - val_loss: 0.7727 - val_precision: 0.7572 - val_recall: 0.6583\n",
      "Epoch 9/30\n",
      "\u001b[1m47/47\u001b[0m \u001b[32m━━━━━━━━━━━━━━━━━━━━\u001b[0m\u001b[37m\u001b[0m \u001b[1m10s\u001b[0m 210ms/step - accuracy: 0.7778 - loss: 0.5660 - precision: 0.8299 - recall: 0.7327 - val_accuracy: 0.7236 - val_loss: 0.7701 - val_precision: 0.7446 - val_recall: 0.6884\n",
      "Epoch 10/30\n",
      "\u001b[1m47/47\u001b[0m \u001b[32m━━━━━━━━━━━━━━━━━━━━\u001b[0m\u001b[37m\u001b[0m \u001b[1m10s\u001b[0m 206ms/step - accuracy: 0.8170 - loss: 0.4907 - precision: 0.8562 - recall: 0.7659 - val_accuracy: 0.7487 - val_loss: 0.7287 - val_precision: 0.7857 - val_recall: 0.6633\n",
      "Epoch 11/30\n",
      "\u001b[1m47/47\u001b[0m \u001b[32m━━━━━━━━━━━━━━━━━━━━\u001b[0m\u001b[37m\u001b[0m \u001b[1m10s\u001b[0m 205ms/step - accuracy: 0.8344 - loss: 0.4216 - precision: 0.8682 - recall: 0.7973 - val_accuracy: 0.7839 - val_loss: 0.7039 - val_precision: 0.7857 - val_recall: 0.7186\n",
      "Epoch 12/30\n",
      "\u001b[1m47/47\u001b[0m \u001b[32m━━━━━━━━━━━━━━━━━━━━\u001b[0m\u001b[37m\u001b[0m \u001b[1m10s\u001b[0m 208ms/step - accuracy: 0.8712 - loss: 0.3782 - precision: 0.8998 - recall: 0.8327 - val_accuracy: 0.7638 - val_loss: 0.7050 - val_precision: 0.7814 - val_recall: 0.7186\n",
      "Epoch 13/30\n",
      "\u001b[1m47/47\u001b[0m \u001b[32m━━━━━━━━━━━━━━━━━━━━\u001b[0m\u001b[37m\u001b[0m \u001b[1m10s\u001b[0m 206ms/step - accuracy: 0.8795 - loss: 0.3499 - precision: 0.9006 - recall: 0.8571 - val_accuracy: 0.7337 - val_loss: 0.7182 - val_precision: 0.7513 - val_recall: 0.7286\n",
      "Epoch 14/30\n",
      "\u001b[1m47/47\u001b[0m \u001b[32m━━━━━━━━━━━━━━━━━━━━\u001b[0m\u001b[37m\u001b[0m \u001b[1m10s\u001b[0m 209ms/step - accuracy: 0.8948 - loss: 0.3004 - precision: 0.9111 - recall: 0.8742 - val_accuracy: 0.7136 - val_loss: 0.9799 - val_precision: 0.7157 - val_recall: 0.7085\n",
      "Epoch 15/30\n",
      "\u001b[1m47/47\u001b[0m \u001b[32m━━━━━━━━━━━━━━━━━━━━\u001b[0m\u001b[37m\u001b[0m \u001b[1m10s\u001b[0m 207ms/step - accuracy: 0.8927 - loss: 0.3060 - precision: 0.9066 - recall: 0.8705 - val_accuracy: 0.7688 - val_loss: 0.6841 - val_precision: 0.7772 - val_recall: 0.7538\n",
      "Epoch 16/30\n",
      "\u001b[1m47/47\u001b[0m \u001b[32m━━━━━━━━━━━━━━━━━━━━\u001b[0m\u001b[37m\u001b[0m \u001b[1m10s\u001b[0m 207ms/step - accuracy: 0.8925 - loss: 0.2621 - precision: 0.9104 - recall: 0.8763 - val_accuracy: 0.7839 - val_loss: 0.6773 - val_precision: 0.7835 - val_recall: 0.7638\n",
      "Epoch 17/30\n",
      "\u001b[1m47/47\u001b[0m \u001b[32m━━━━━━━━━━━━━━━━━━━━\u001b[0m\u001b[37m\u001b[0m \u001b[1m10s\u001b[0m 204ms/step - accuracy: 0.9205 - loss: 0.2324 - precision: 0.9296 - recall: 0.9081 - val_accuracy: 0.7688 - val_loss: 0.6274 - val_precision: 0.7946 - val_recall: 0.7387\n",
      "Epoch 18/30\n",
      "\u001b[1m47/47\u001b[0m \u001b[32m━━━━━━━━━━━━━━━━━━━━\u001b[0m\u001b[37m\u001b[0m \u001b[1m10s\u001b[0m 208ms/step - accuracy: 0.9040 - loss: 0.2501 - precision: 0.9197 - recall: 0.9008 - val_accuracy: 0.7739 - val_loss: 0.8676 - val_precision: 0.7937 - val_recall: 0.7538\n",
      "Epoch 19/30\n",
      "\u001b[1m47/47\u001b[0m \u001b[32m━━━━━━━━━━━━━━━━━━━━\u001b[0m\u001b[37m\u001b[0m \u001b[1m10s\u001b[0m 206ms/step - accuracy: 0.9173 - loss: 0.2035 - precision: 0.9303 - recall: 0.9120 - val_accuracy: 0.7789 - val_loss: 0.7868 - val_precision: 0.7744 - val_recall: 0.7588\n",
      "Epoch 20/30\n",
      "\u001b[1m47/47\u001b[0m \u001b[32m━━━━━━━━━━━━━━━━━━━━\u001b[0m\u001b[37m\u001b[0m \u001b[1m10s\u001b[0m 206ms/step - accuracy: 0.9447 - loss: 0.1722 - precision: 0.9487 - recall: 0.9361 - val_accuracy: 0.7739 - val_loss: 0.8345 - val_precision: 0.7876 - val_recall: 0.7638\n",
      "Epoch 21/30\n",
      "\u001b[1m47/47\u001b[0m \u001b[32m━━━━━━━━━━━━━━━━━━━━\u001b[0m\u001b[37m\u001b[0m \u001b[1m10s\u001b[0m 206ms/step - accuracy: 0.9334 - loss: 0.1842 - precision: 0.9380 - recall: 0.9203 - val_accuracy: 0.7538 - val_loss: 0.8907 - val_precision: 0.7590 - val_recall: 0.7437\n",
      "Epoch 22/30\n",
      "\u001b[1m47/47\u001b[0m \u001b[32m━━━━━━━━━━━━━━━━━━━━\u001b[0m\u001b[37m\u001b[0m \u001b[1m10s\u001b[0m 212ms/step - accuracy: 0.9265 - loss: 0.2015 - precision: 0.9326 - recall: 0.9150 - val_accuracy: 0.8040 - val_loss: 0.8052 - val_precision: 0.8112 - val_recall: 0.7990\n",
      "Epoch 23/30\n",
      "\u001b[1m47/47\u001b[0m \u001b[32m━━━━━━━━━━━━━━━━━━━━\u001b[0m\u001b[37m\u001b[0m \u001b[1m10s\u001b[0m 206ms/step - accuracy: 0.8919 - loss: 0.3052 - precision: 0.9184 - recall: 0.8615 - val_accuracy: 0.7889 - val_loss: 0.8708 - val_precision: 0.7959 - val_recall: 0.7839\n",
      "Epoch 24/30\n",
      "\u001b[1m47/47\u001b[0m \u001b[32m━━━━━━━━━━━━━━━━━━━━\u001b[0m\u001b[37m\u001b[0m \u001b[1m10s\u001b[0m 208ms/step - accuracy: 0.9313 - loss: 0.1924 - precision: 0.9442 - recall: 0.9220 - val_accuracy: 0.7990 - val_loss: 0.7919 - val_precision: 0.8010 - val_recall: 0.7889\n",
      "Epoch 25/30\n",
      "\u001b[1m47/47\u001b[0m \u001b[32m━━━━━━━━━━━━━━━━━━━━\u001b[0m\u001b[37m\u001b[0m \u001b[1m10s\u001b[0m 206ms/step - accuracy: 0.9508 - loss: 0.1248 - precision: 0.9544 - recall: 0.9475 - val_accuracy: 0.7789 - val_loss: 0.8802 - val_precision: 0.7927 - val_recall: 0.7688\n",
      "Epoch 26/30\n",
      "\u001b[1m47/47\u001b[0m \u001b[32m━━━━━━━━━━━━━━━━━━━━\u001b[0m\u001b[37m\u001b[0m \u001b[1m10s\u001b[0m 208ms/step - accuracy: 0.9540 - loss: 0.1428 - precision: 0.9588 - recall: 0.9517 - val_accuracy: 0.7789 - val_loss: 0.8488 - val_precision: 0.7817 - val_recall: 0.7739\n",
      "Epoch 27/30\n",
      "\u001b[1m47/47\u001b[0m \u001b[32m━━━━━━━━━━━━━━━━━━━━\u001b[0m\u001b[37m\u001b[0m \u001b[1m10s\u001b[0m 206ms/step - accuracy: 0.9483 - loss: 0.1461 - precision: 0.9507 - recall: 0.9450 - val_accuracy: 0.7889 - val_loss: 0.8347 - val_precision: 0.7908 - val_recall: 0.7789\n",
      "Epoch 28/30\n",
      "\u001b[1m47/47\u001b[0m \u001b[32m━━━━━━━━━━━━━━━━━━━━\u001b[0m\u001b[37m\u001b[0m \u001b[1m10s\u001b[0m 209ms/step - accuracy: 0.9687 - loss: 0.0927 - precision: 0.9729 - recall: 0.9645 - val_accuracy: 0.8090 - val_loss: 0.9290 - val_precision: 0.8103 - val_recall: 0.7940\n",
      "Epoch 29/30\n",
      "\u001b[1m47/47\u001b[0m \u001b[32m━━━━━━━━━━━━━━━━━━━━\u001b[0m\u001b[37m\u001b[0m \u001b[1m10s\u001b[0m 207ms/step - accuracy: 0.9749 - loss: 0.0745 - precision: 0.9757 - recall: 0.9724 - val_accuracy: 0.7789 - val_loss: 1.0264 - val_precision: 0.7778 - val_recall: 0.7739\n",
      "Epoch 30/30\n",
      "\u001b[1m47/47\u001b[0m \u001b[32m━━━━━━━━━━━━━━━━━━━━\u001b[0m\u001b[37m\u001b[0m \u001b[1m10s\u001b[0m 208ms/step - accuracy: 0.9680 - loss: 0.0885 - precision: 0.9686 - recall: 0.9655 - val_accuracy: 0.7990 - val_loss: 1.1175 - val_precision: 0.8020 - val_recall: 0.7940\n",
      "Predicting on validation set...\n",
      "\u001b[1m7/7\u001b[0m \u001b[32m━━━━━━━━━━━━━━━━━━━━\u001b[0m\u001b[37m\u001b[0m \u001b[1m1s\u001b[0m 53ms/step\n",
      "Sending metrics to clearML...\n",
      "done\n"
     ]
    }
   ],
   "source": [
    "# rotate augmentation\n",
    "task_name = 'r'\n",
    "sub_project_name = 'ROTATE'\n",
    "\n",
    "augmentation_metadata = {\n",
    "        'methods': {        \n",
    "            'rotate': {\n",
    "                'parameters': {\n",
    "                    'angle_limit': 20, # Maximum angle of rotation\n",
    "                    'p': 1.0  # Probability of applying the augmentation\n",
    "                },\n",
    "                'apply_to_percentage': 0.5  # 50% of the training images\n",
    "            }        \n",
    "        }\n",
    "    }\n",
    "\n",
    "for i in range(N):\n",
    "    RUN = i + 1\n",
    "    try:\n",
    "        print(f\"Starting RUN: {RUN}\")\n",
    "        main(RUN, augmentation_metadata, task_name, sub_project_name, epochs, train_size, w1, w2)\n",
    "    except Exception as e:\n",
    "        print(f\"Error in RUN: {RUN}\")\n",
    "        print(e)\n",
    "    finally:\n",
    "        clear_output(wait=True)  # Clear the output to avoid scrolling\n",
    "        gc.collect()  # Collect garbage to avoid memory leaks"
   ]
  },
  {
   "cell_type": "code",
   "execution_count": 10,
   "metadata": {},
   "outputs": [
    {
     "name": "stdout",
     "output_type": "stream",
     "text": [
      "Starting RUN: 5\n",
      "Seed:  1472887201\n"
     ]
    },
    {
     "name": "stderr",
     "output_type": "stream",
     "text": [
      "c:\\github\\Third-Year-Project\\Intruder-Aircraft-Detection\\main\\tl_clf.py:79: SettingWithCopyWarning:\n",
      "\n",
      "\n",
      "A value is trying to be set on a copy of a slice from a DataFrame.\n",
      "Try using .loc[row_indexer,col_indexer] = value instead\n",
      "\n",
      "See the caveats in the documentation: https://pandas.pydata.org/pandas-docs/stable/user_guide/indexing.html#returning-a-view-versus-a-copy\n",
      "\n",
      "c:\\github\\Third-Year-Project\\Intruder-Aircraft-Detection\\main\\tl_clf.py:80: SettingWithCopyWarning:\n",
      "\n",
      "\n",
      "A value is trying to be set on a copy of a slice from a DataFrame.\n",
      "Try using .loc[row_indexer,col_indexer] = value instead\n",
      "\n",
      "See the caveats in the documentation: https://pandas.pydata.org/pandas-docs/stable/user_guide/indexing.html#returning-a-view-versus-a-copy\n",
      "\n"
     ]
    },
    {
     "name": "stdout",
     "output_type": "stream",
     "text": [
      "Removing dataset if pre-existing\n",
      "Copying training files:\n"
     ]
    },
    {
     "name": "stderr",
     "output_type": "stream",
     "text": [
      "Copying files: 100%|██████████| 2000/2000 [00:01<00:00, 1998.54it/s]\n"
     ]
    },
    {
     "name": "stdout",
     "output_type": "stream",
     "text": [
      "Copying validation files:\n"
     ]
    },
    {
     "name": "stderr",
     "output_type": "stream",
     "text": [
      "Copying files: 100%|██████████| 400/400 [00:00<00:00, 2191.44it/s]\n"
     ]
    },
    {
     "name": "stdout",
     "output_type": "stream",
     "text": [
      "Dataset 'weather_01_1000' created at C:\\github\\Third-Year-Project\\Intruder-Aircraft-Detection\\datasets\\Custom\\weather_01_1000\n",
      "Processing train labels in weather_01_1000:\n"
     ]
    },
    {
     "name": "stderr",
     "output_type": "stream",
     "text": [
      "Processing labels: 100%|██████████| 1000/1000 [00:03<00:00, 259.31it/s]\n"
     ]
    },
    {
     "name": "stdout",
     "output_type": "stream",
     "text": [
      "Processing valid labels in weather_01_1000:\n"
     ]
    },
    {
     "name": "stderr",
     "output_type": "stream",
     "text": [
      "Processing labels: 100%|██████████| 200/200 [00:00<00:00, 272.05it/s]\n"
     ]
    },
    {
     "name": "stdout",
     "output_type": "stream",
     "text": [
      "Label correction completed.\n"
     ]
    },
    {
     "name": "stderr",
     "output_type": "stream",
     "text": [
      "Removing existing directories/files: 100%|██████████| 3/3 [00:00<00:00, 5957.82it/s]\n",
      "Copying files: 100%|██████████| 1000/1000 [00:01<00:00, 990.92it/s]\n",
      "Copying files: 100%|██████████| 1000/1000 [00:00<00:00, 1464.83it/s]\n",
      "Applying augmentations: 100%|██████████| 500/500 [00:04<00:00, 108.84it/s]\n"
     ]
    },
    {
     "name": "stdout",
     "output_type": "stream",
     "text": [
      "An error occurred: Expected y_max for bbox (0.14731649999999996, 0.7641374999999999, 0.5491775, 1.0320445, 1) to be in the range [0.0, 1.0], got 1.0320445.\n",
      "An error occurred: Expected x_min for bbox (-0.11297200000000002, 0.2757265, 0.6323099999999999, 0.7725815, 2) to be in the range [0.0, 1.0], got -0.11297200000000002.\n",
      "An error occurred: Expected x_min for bbox (-0.012365500000000001, 0.2159135, 0.4833855, 0.5464145, 1) to be in the range [0.0, 1.0], got -0.012365500000000001.\n"
     ]
    },
    {
     "name": "stderr",
     "output_type": "stream",
     "text": [
      "Processing images:  21%|██▏       | 213/1000 [00:08<00:22, 34.57it/s]"
     ]
    },
    {
     "name": "stdout",
     "output_type": "stream",
     "text": [
      "An error occurred with C:/github/Third-Year-Project/Intruder-Aircraft-Detection/datasets/Custom/weather_01_1000\\images\\train\\24066.jpg: Expected x_min for bbox (-0.032714999999999994, -0.10783849999999998, 0.8482190000000001, 0.4794505, 1) to be in the range [0.0, 1.0], got -0.032714999999999994.\n"
     ]
    },
    {
     "name": "stderr",
     "output_type": "stream",
     "text": [
      "Processing images:  22%|██▏       | 222/1000 [00:08<00:22, 34.68it/s]"
     ]
    },
    {
     "name": "stdout",
     "output_type": "stream",
     "text": [
      "An error occurred with C:/github/Third-Year-Project/Intruder-Aircraft-Detection/datasets/Custom/weather_01_1000\\images\\train\\24104.jpg: Expected y_max for bbox (0.14731649999999996, 0.7641374999999999, 0.5491775, 1.0320445, 1) to be in the range [0.0, 1.0], got 1.0320445.\n"
     ]
    },
    {
     "name": "stderr",
     "output_type": "stream",
     "text": [
      "Processing images:  48%|████▊     | 475/1000 [00:16<00:14, 35.58it/s]"
     ]
    },
    {
     "name": "stdout",
     "output_type": "stream",
     "text": [
      "An error occurred with C:/github/Third-Year-Project/Intruder-Aircraft-Detection/datasets/Custom/weather_01_1000\\images\\train\\25571.jpg: Expected x_min for bbox (-0.012365500000000001, 0.2159135, 0.4833855, 0.5464145, 1) to be in the range [0.0, 1.0], got -0.012365500000000001.\n"
     ]
    },
    {
     "name": "stderr",
     "output_type": "stream",
     "text": [
      "Processing images:  70%|███████   | 700/1000 [00:22<00:08, 35.53it/s]"
     ]
    },
    {
     "name": "stdout",
     "output_type": "stream",
     "text": [
      "An error occurred with C:/github/Third-Year-Project/Intruder-Aircraft-Detection/datasets/Custom/weather_01_1000\\images\\train\\48653.jpg: In YOLO format all coordinates must be float and in range (0, 1]\n"
     ]
    },
    {
     "name": "stderr",
     "output_type": "stream",
     "text": [
      "Processing images:  78%|███████▊  | 785/1000 [00:25<00:05, 36.08it/s]"
     ]
    },
    {
     "name": "stdout",
     "output_type": "stream",
     "text": [
      "An error occurred with C:/github/Third-Year-Project/Intruder-Aircraft-Detection/datasets/Custom/weather_01_1000\\images\\train\\49219.jpg: Expected x_min for bbox (-0.11297200000000002, 0.2757265, 0.6323099999999999, 0.7725815, 2) to be in the range [0.0, 1.0], got -0.11297200000000002.\n"
     ]
    },
    {
     "name": "stderr",
     "output_type": "stream",
     "text": [
      "Processing images:  80%|████████  | 802/1000 [00:25<00:05, 33.48it/s]"
     ]
    },
    {
     "name": "stdout",
     "output_type": "stream",
     "text": [
      "An error occurred with C:/github/Third-Year-Project/Intruder-Aircraft-Detection/datasets/Custom/weather_01_1000\\images\\train\\49296.jpg: Expected x_max for bbox (0.368679, 0.3249835, 1.086079, 0.8032505, 2) to be in the range [0.0, 1.0], got 1.086079.\n"
     ]
    },
    {
     "name": "stderr",
     "output_type": "stream",
     "text": [
      "Processing images: 100%|██████████| 1000/1000 [00:31<00:00, 31.50it/s]\n",
      "Processing images:  21%|██▏       | 319/1497 [00:12<00:33, 34.91it/s]"
     ]
    },
    {
     "name": "stdout",
     "output_type": "stream",
     "text": [
      "An error occurred with C:/github/Third-Year-Project/Intruder-Aircraft-Detection/datasets/Custom/weather_01_1000\\images\\train-aug\\24066.jpg: Expected x_min for bbox (-0.032714999999999994, -0.10783849999999998, 0.8482190000000001, 0.4794505, 1) to be in the range [0.0, 1.0], got -0.032714999999999994.\n"
     ]
    },
    {
     "name": "stderr",
     "output_type": "stream",
     "text": [
      "Processing images:  22%|██▏       | 328/1497 [00:13<00:32, 36.39it/s]"
     ]
    },
    {
     "name": "stdout",
     "output_type": "stream",
     "text": [
      "An error occurred with C:/github/Third-Year-Project/Intruder-Aircraft-Detection/datasets/Custom/weather_01_1000\\images\\train-aug\\24104.jpg: Expected y_max for bbox (0.14731649999999996, 0.7641374999999999, 0.5491775, 1.0320445, 1) to be in the range [0.0, 1.0], got 1.0320445.\n"
     ]
    },
    {
     "name": "stderr",
     "output_type": "stream",
     "text": [
      "Processing images:  47%|████▋     | 700/1497 [00:24<00:22, 34.77it/s]"
     ]
    },
    {
     "name": "stdout",
     "output_type": "stream",
     "text": [
      "An error occurred with C:/github/Third-Year-Project/Intruder-Aircraft-Detection/datasets/Custom/weather_01_1000\\images\\train-aug\\25571.jpg: Expected x_min for bbox (-0.012365500000000001, 0.2159135, 0.4833855, 0.5464145, 1) to be in the range [0.0, 1.0], got -0.012365500000000001.\n"
     ]
    },
    {
     "name": "stderr",
     "output_type": "stream",
     "text": [
      "Processing images:  71%|███████   | 1057/1497 [00:35<00:12, 34.84it/s]"
     ]
    },
    {
     "name": "stdout",
     "output_type": "stream",
     "text": [
      "An error occurred with C:/github/Third-Year-Project/Intruder-Aircraft-Detection/datasets/Custom/weather_01_1000\\images\\train-aug\\48653.jpg: In YOLO format all coordinates must be float and in range (0, 1]\n"
     ]
    },
    {
     "name": "stderr",
     "output_type": "stream",
     "text": [
      "Processing images:  78%|███████▊  | 1174/1497 [00:38<00:08, 36.54it/s]"
     ]
    },
    {
     "name": "stdout",
     "output_type": "stream",
     "text": [
      "An error occurred with C:/github/Third-Year-Project/Intruder-Aircraft-Detection/datasets/Custom/weather_01_1000\\images\\train-aug\\49219.jpg: Expected x_min for bbox (-0.11297200000000002, 0.2757265, 0.6323099999999999, 0.7725815, 2) to be in the range [0.0, 1.0], got -0.11297200000000002.\n"
     ]
    },
    {
     "name": "stderr",
     "output_type": "stream",
     "text": [
      "Processing images:  80%|███████▉  | 1195/1497 [00:39<00:08, 34.79it/s]"
     ]
    },
    {
     "name": "stdout",
     "output_type": "stream",
     "text": [
      "An error occurred with C:/github/Third-Year-Project/Intruder-Aircraft-Detection/datasets/Custom/weather_01_1000\\images\\train-aug\\49296.jpg: Expected x_max for bbox (0.368679, 0.3249835, 1.086079, 0.8032505, 2) to be in the range [0.0, 1.0], got 1.086079.\n"
     ]
    },
    {
     "name": "stderr",
     "output_type": "stream",
     "text": [
      "Processing images: 100%|██████████| 1497/1497 [00:48<00:00, 30.97it/s]\n",
      "Processing images:  57%|█████▊    | 115/200 [00:04<00:02, 34.43it/s]"
     ]
    },
    {
     "name": "stdout",
     "output_type": "stream",
     "text": [
      "An error occurred with C:/github/Third-Year-Project/Intruder-Aircraft-Detection/datasets/Custom/weather_01_1000\\images\\valid\\48967.jpg: Expected x_max for bbox (0.391763, 0.222879, 1.0974650000000001, 0.6933469999999999, 2) to be in the range [0.0, 1.0], got 1.0974650000000001.\n"
     ]
    },
    {
     "name": "stderr",
     "output_type": "stream",
     "text": [
      "Processing images: 100%|██████████| 200/200 [00:06<00:00, 30.96it/s]\n",
      "Moving images in train: 100%|██████████| 994/994 [00:03<00:00, 289.18it/s]\n",
      "Moving images in train-aug: 100%|██████████| 1491/1491 [00:04<00:00, 306.19it/s]\n",
      "Moving images in valid: 100%|██████████| 199/199 [00:00<00:00, 293.67it/s]\n"
     ]
    },
    {
     "name": "stdout",
     "output_type": "stream",
     "text": [
      "Found 994 files belonging to 3 classes.\n",
      "Found 1491 files belonging to 3 classes.\n",
      "Found 199 files belonging to 3 classes.\n",
      "ClearML Task: created new task id=88e431234ae145caa4aae9c5d3955936\n",
      "ClearML results page: https://app.clear.ml/projects/7250e546d5324b5c8e520b84207c06f5/experiments/88e431234ae145caa4aae9c5d3955936/output/log\n",
      "Training model...\n",
      "Epoch 1/30\n",
      "\u001b[1m32/32\u001b[0m \u001b[32m━━━━━━━━━━━━━━━━━━━━\u001b[0m\u001b[37m\u001b[0m \u001b[1m10s\u001b[0m 261ms/step - accuracy: 0.3451 - loss: 2.1914 - precision: 0.3525 - recall: 0.1533 - val_accuracy: 0.3367 - val_loss: 1.0984 - val_precision: 0.0000e+00 - val_recall: 0.0000e+00\n",
      "Epoch 2/30\n",
      "\u001b[1m32/32\u001b[0m \u001b[32m━━━━━━━━━━━━━━━━━━━━\u001b[0m\u001b[37m\u001b[0m \u001b[1m7s\u001b[0m 211ms/step - accuracy: 0.3560 - loss: 1.0985 - precision: 0.0000e+00 - recall: 0.0000e+00 - val_accuracy: 0.3367 - val_loss: 1.0985 - val_precision: 0.0000e+00 - val_recall: 0.0000e+00\n",
      "Epoch 3/30\n",
      "\u001b[1m32/32\u001b[0m \u001b[32m━━━━━━━━━━━━━━━━━━━━\u001b[0m\u001b[37m\u001b[0m \u001b[1m7s\u001b[0m 207ms/step - accuracy: 0.3311 - loss: 1.0987 - precision: 0.0000e+00 - recall: 0.0000e+00 - val_accuracy: 0.3216 - val_loss: 1.0984 - val_precision: 0.0000e+00 - val_recall: 0.0000e+00\n",
      "Epoch 4/30\n",
      "\u001b[1m32/32\u001b[0m \u001b[32m━━━━━━━━━━━━━━━━━━━━\u001b[0m\u001b[37m\u001b[0m \u001b[1m7s\u001b[0m 211ms/step - accuracy: 0.3192 - loss: 1.0993 - precision: 0.0000e+00 - recall: 0.0000e+00 - val_accuracy: 0.3266 - val_loss: 1.0984 - val_precision: 0.0000e+00 - val_recall: 0.0000e+00\n",
      "Epoch 5/30\n",
      "\u001b[1m32/32\u001b[0m \u001b[32m━━━━━━━━━━━━━━━━━━━━\u001b[0m\u001b[37m\u001b[0m \u001b[1m7s\u001b[0m 206ms/step - accuracy: 0.3062 - loss: 1.0988 - precision: 0.0000e+00 - recall: 0.0000e+00 - val_accuracy: 0.4472 - val_loss: 1.0958 - val_precision: 0.0000e+00 - val_recall: 0.0000e+00\n",
      "Epoch 6/30\n",
      "\u001b[1m32/32\u001b[0m \u001b[32m━━━━━━━━━━━━━━━━━━━━\u001b[0m\u001b[37m\u001b[0m \u001b[1m7s\u001b[0m 215ms/step - accuracy: 0.3936 - loss: 1.0896 - precision: 0.2032 - recall: 0.0021 - val_accuracy: 0.5176 - val_loss: 1.0450 - val_precision: 0.4800 - val_recall: 0.0603\n",
      "Epoch 7/30\n",
      "\u001b[1m32/32\u001b[0m \u001b[32m━━━━━━━━━━━━━━━━━━━━\u001b[0m\u001b[37m\u001b[0m \u001b[1m8s\u001b[0m 248ms/step - accuracy: 0.5700 - loss: 1.0196 - precision: 0.6086 - recall: 0.1134 - val_accuracy: 0.5879 - val_loss: 0.9960 - val_precision: 0.6714 - val_recall: 0.2362\n",
      "Epoch 8/30\n",
      "\u001b[1m32/32\u001b[0m \u001b[32m━━━━━━━━━━━━━━━━━━━━\u001b[0m\u001b[37m\u001b[0m \u001b[1m7s\u001b[0m 209ms/step - accuracy: 0.6137 - loss: 0.9288 - precision: 0.7340 - recall: 0.3277 - val_accuracy: 0.4121 - val_loss: 2.2545 - val_precision: 0.4121 - val_recall: 0.4121\n",
      "Epoch 9/30\n",
      "\u001b[1m32/32\u001b[0m \u001b[32m━━━━━━━━━━━━━━━━━━━━\u001b[0m\u001b[37m\u001b[0m \u001b[1m7s\u001b[0m 209ms/step - accuracy: 0.6808 - loss: 0.8299 - precision: 0.7678 - recall: 0.4911 - val_accuracy: 0.6131 - val_loss: 0.9363 - val_precision: 0.7168 - val_recall: 0.4070\n",
      "Epoch 10/30\n",
      "\u001b[1m32/32\u001b[0m \u001b[32m━━━━━━━━━━━━━━━━━━━━\u001b[0m\u001b[37m\u001b[0m \u001b[1m7s\u001b[0m 211ms/step - accuracy: 0.7051 - loss: 0.6989 - precision: 0.8125 - recall: 0.5928 - val_accuracy: 0.7136 - val_loss: 0.8829 - val_precision: 0.7346 - val_recall: 0.5980\n",
      "Epoch 11/30\n",
      "\u001b[1m32/32\u001b[0m \u001b[32m━━━━━━━━━━━━━━━━━━━━\u001b[0m\u001b[37m\u001b[0m \u001b[1m7s\u001b[0m 209ms/step - accuracy: 0.7626 - loss: 0.6041 - precision: 0.8104 - recall: 0.6913 - val_accuracy: 0.7035 - val_loss: 0.9118 - val_precision: 0.7159 - val_recall: 0.6332\n",
      "Epoch 12/30\n",
      "\u001b[1m32/32\u001b[0m \u001b[32m━━━━━━━━━━━━━━━━━━━━\u001b[0m\u001b[37m\u001b[0m \u001b[1m7s\u001b[0m 208ms/step - accuracy: 0.7827 - loss: 0.5361 - precision: 0.8260 - recall: 0.7253 - val_accuracy: 0.6985 - val_loss: 1.0183 - val_precision: 0.7228 - val_recall: 0.6683\n",
      "Epoch 13/30\n",
      "\u001b[1m32/32\u001b[0m \u001b[32m━━━━━━━━━━━━━━━━━━━━\u001b[0m\u001b[37m\u001b[0m \u001b[1m7s\u001b[0m 209ms/step - accuracy: 0.8104 - loss: 0.5018 - precision: 0.8466 - recall: 0.7554 - val_accuracy: 0.6935 - val_loss: 0.9351 - val_precision: 0.7151 - val_recall: 0.6683\n",
      "Epoch 14/30\n",
      "\u001b[1m32/32\u001b[0m \u001b[32m━━━━━━━━━━━━━━━━━━━━\u001b[0m\u001b[37m\u001b[0m \u001b[1m7s\u001b[0m 207ms/step - accuracy: 0.8251 - loss: 0.4445 - precision: 0.8452 - recall: 0.7938 - val_accuracy: 0.6533 - val_loss: 1.6102 - val_precision: 0.6632 - val_recall: 0.6432\n",
      "Epoch 15/30\n",
      "\u001b[1m32/32\u001b[0m \u001b[32m━━━━━━━━━━━━━━━━━━━━\u001b[0m\u001b[37m\u001b[0m \u001b[1m7s\u001b[0m 214ms/step - accuracy: 0.8245 - loss: 0.4171 - precision: 0.8502 - recall: 0.7977 - val_accuracy: 0.7286 - val_loss: 1.0138 - val_precision: 0.7368 - val_recall: 0.7035\n",
      "Epoch 16/30\n",
      "\u001b[1m32/32\u001b[0m \u001b[32m━━━━━━━━━━━━━━━━━━━━\u001b[0m\u001b[37m\u001b[0m \u001b[1m7s\u001b[0m 208ms/step - accuracy: 0.8336 - loss: 0.4435 - precision: 0.8611 - recall: 0.8028 - val_accuracy: 0.6382 - val_loss: 1.4257 - val_precision: 0.6392 - val_recall: 0.6231\n",
      "Epoch 17/30\n",
      "\u001b[1m32/32\u001b[0m \u001b[32m━━━━━━━━━━━━━━━━━━━━\u001b[0m\u001b[37m\u001b[0m \u001b[1m7s\u001b[0m 210ms/step - accuracy: 0.8467 - loss: 0.3837 - precision: 0.8630 - recall: 0.8282 - val_accuracy: 0.6985 - val_loss: 1.1096 - val_precision: 0.7128 - val_recall: 0.6985\n",
      "Epoch 18/30\n",
      "\u001b[1m32/32\u001b[0m \u001b[32m━━━━━━━━━━━━━━━━━━━━\u001b[0m\u001b[37m\u001b[0m \u001b[1m7s\u001b[0m 207ms/step - accuracy: 0.8889 - loss: 0.2921 - precision: 0.9018 - recall: 0.8716 - val_accuracy: 0.7085 - val_loss: 1.1278 - val_precision: 0.7277 - val_recall: 0.6985\n",
      "Epoch 19/30\n",
      "\u001b[1m32/32\u001b[0m \u001b[32m━━━━━━━━━━━━━━━━━━━━\u001b[0m\u001b[37m\u001b[0m \u001b[1m7s\u001b[0m 208ms/step - accuracy: 0.8765 - loss: 0.2993 - precision: 0.8955 - recall: 0.8680 - val_accuracy: 0.6935 - val_loss: 1.2291 - val_precision: 0.7113 - val_recall: 0.6935\n",
      "Epoch 20/30\n",
      "\u001b[1m32/32\u001b[0m \u001b[32m━━━━━━━━━━━━━━━━━━━━\u001b[0m\u001b[37m\u001b[0m \u001b[1m7s\u001b[0m 211ms/step - accuracy: 0.8637 - loss: 0.3305 - precision: 0.8716 - recall: 0.8532 - val_accuracy: 0.7085 - val_loss: 1.2360 - val_precision: 0.7150 - val_recall: 0.6935\n",
      "Epoch 21/30\n",
      "\u001b[1m32/32\u001b[0m \u001b[32m━━━━━━━━━━━━━━━━━━━━\u001b[0m\u001b[37m\u001b[0m \u001b[1m7s\u001b[0m 211ms/step - accuracy: 0.9030 - loss: 0.2740 - precision: 0.9094 - recall: 0.8902 - val_accuracy: 0.6884 - val_loss: 1.2001 - val_precision: 0.6891 - val_recall: 0.6683\n",
      "Epoch 22/30\n",
      "\u001b[1m32/32\u001b[0m \u001b[32m━━━━━━━━━━━━━━━━━━━━\u001b[0m\u001b[37m\u001b[0m \u001b[1m7s\u001b[0m 209ms/step - accuracy: 0.9254 - loss: 0.2143 - precision: 0.9358 - recall: 0.9160 - val_accuracy: 0.7035 - val_loss: 1.3504 - val_precision: 0.7071 - val_recall: 0.7035\n",
      "Epoch 23/30\n",
      "\u001b[1m32/32\u001b[0m \u001b[32m━━━━━━━━━━━━━━━━━━━━\u001b[0m\u001b[37m\u001b[0m \u001b[1m7s\u001b[0m 209ms/step - accuracy: 0.8921 - loss: 0.2718 - precision: 0.9008 - recall: 0.8888 - val_accuracy: 0.7035 - val_loss: 1.4775 - val_precision: 0.7179 - val_recall: 0.7035\n",
      "Epoch 24/30\n",
      "\u001b[1m32/32\u001b[0m \u001b[32m━━━━━━━━━━━━━━━━━━━━\u001b[0m\u001b[37m\u001b[0m \u001b[1m7s\u001b[0m 205ms/step - accuracy: 0.9269 - loss: 0.1897 - precision: 0.9275 - recall: 0.9206 - val_accuracy: 0.7186 - val_loss: 1.3294 - val_precision: 0.7245 - val_recall: 0.7136\n",
      "Epoch 25/30\n",
      "\u001b[1m32/32\u001b[0m \u001b[32m━━━━━━━━━━━━━━━━━━━━\u001b[0m\u001b[37m\u001b[0m \u001b[1m7s\u001b[0m 207ms/step - accuracy: 0.9140 - loss: 0.2228 - precision: 0.9177 - recall: 0.9065 - val_accuracy: 0.6734 - val_loss: 2.2536 - val_precision: 0.6786 - val_recall: 0.6683\n",
      "Epoch 26/30\n",
      "\u001b[1m32/32\u001b[0m \u001b[32m━━━━━━━━━━━━━━━━━━━━\u001b[0m\u001b[37m\u001b[0m \u001b[1m7s\u001b[0m 212ms/step - accuracy: 0.9140 - loss: 0.2380 - precision: 0.9213 - recall: 0.9090 - val_accuracy: 0.6884 - val_loss: 1.1686 - val_precision: 0.7016 - val_recall: 0.6734\n",
      "Epoch 27/30\n",
      "\u001b[1m32/32\u001b[0m \u001b[32m━━━━━━━━━━━━━━━━━━━━\u001b[0m\u001b[37m\u001b[0m \u001b[1m7s\u001b[0m 210ms/step - accuracy: 0.8897 - loss: 0.2671 - precision: 0.8962 - recall: 0.8806 - val_accuracy: 0.7035 - val_loss: 1.1749 - val_precision: 0.7150 - val_recall: 0.6935\n",
      "Epoch 28/30\n",
      "\u001b[1m32/32\u001b[0m \u001b[32m━━━━━━━━━━━━━━━━━━━━\u001b[0m\u001b[37m\u001b[0m \u001b[1m7s\u001b[0m 205ms/step - accuracy: 0.9290 - loss: 0.1959 - precision: 0.9334 - recall: 0.9164 - val_accuracy: 0.6633 - val_loss: 1.5245 - val_precision: 0.6701 - val_recall: 0.6633\n",
      "Epoch 29/30\n",
      "\u001b[1m32/32\u001b[0m \u001b[32m━━━━━━━━━━━━━━━━━━━━\u001b[0m\u001b[37m\u001b[0m \u001b[1m7s\u001b[0m 210ms/step - accuracy: 0.9420 - loss: 0.1440 - precision: 0.9458 - recall: 0.9399 - val_accuracy: 0.6533 - val_loss: 1.8827 - val_precision: 0.6566 - val_recall: 0.6533\n",
      "Epoch 30/30\n",
      "\u001b[1m32/32\u001b[0m \u001b[32m━━━━━━━━━━━━━━━━━━━━\u001b[0m\u001b[37m\u001b[0m \u001b[1m7s\u001b[0m 206ms/step - accuracy: 0.9181 - loss: 0.2292 - precision: 0.9232 - recall: 0.9129 - val_accuracy: 0.6985 - val_loss: 1.2721 - val_precision: 0.7173 - val_recall: 0.6884\n",
      "Predicting on validation set...\n",
      "\u001b[1m7/7\u001b[0m \u001b[32m━━━━━━━━━━━━━━━━━━━━\u001b[0m\u001b[37m\u001b[0m \u001b[1m1s\u001b[0m 50ms/step\n",
      "Sending metrics to clearML...\n",
      "done\n",
      "ClearML Task: created new task id=d8e025b7ca834b9da7b6b217dfe0d536\n",
      "ClearML results page: https://app.clear.ml/projects/7250e546d5324b5c8e520b84207c06f5/experiments/d8e025b7ca834b9da7b6b217dfe0d536/output/log\n",
      "Training model...\n",
      "Epoch 1/30\n",
      "\u001b[1m47/47\u001b[0m \u001b[32m━━━━━━━━━━━━━━━━━━━━\u001b[0m\u001b[37m\u001b[0m \u001b[1m14s\u001b[0m 249ms/step - accuracy: 0.3370 - loss: 1.7315 - precision: 0.3213 - recall: 0.0898 - val_accuracy: 0.3266 - val_loss: 1.0987 - val_precision: 0.0000e+00 - val_recall: 0.0000e+00\n",
      "Epoch 2/30\n",
      "\u001b[1m47/47\u001b[0m \u001b[32m━━━━━━━━━━━━━━━━━━━━\u001b[0m\u001b[37m\u001b[0m \u001b[1m10s\u001b[0m 210ms/step - accuracy: 0.3201 - loss: 1.1000 - precision: 0.0000e+00 - recall: 0.0000e+00 - val_accuracy: 0.3367 - val_loss: 1.1386 - val_precision: 0.0000e+00 - val_recall: 0.0000e+00\n",
      "Epoch 3/30\n",
      "\u001b[1m47/47\u001b[0m \u001b[32m━━━━━━━━━━━━━━━━━━━━\u001b[0m\u001b[37m\u001b[0m \u001b[1m10s\u001b[0m 209ms/step - accuracy: 0.3234 - loss: 1.1163 - precision: 0.0000e+00 - recall: 0.0000e+00 - val_accuracy: 0.3216 - val_loss: 1.1006 - val_precision: 0.0000e+00 - val_recall: 0.0000e+00\n",
      "Epoch 4/30\n",
      "\u001b[1m47/47\u001b[0m \u001b[32m━━━━━━━━━━━━━━━━━━━━\u001b[0m\u001b[37m\u001b[0m \u001b[1m10s\u001b[0m 206ms/step - accuracy: 0.3144 - loss: 1.1089 - precision: 0.1485 - recall: 0.0043 - val_accuracy: 0.4372 - val_loss: 1.0950 - val_precision: 0.0000e+00 - val_recall: 0.0000e+00\n",
      "Epoch 5/30\n",
      "\u001b[1m47/47\u001b[0m \u001b[32m━━━━━━━━━━━━━━━━━━━━\u001b[0m\u001b[37m\u001b[0m \u001b[1m12s\u001b[0m 243ms/step - accuracy: 0.3767 - loss: 1.1022 - precision: 0.4137 - recall: 0.0191 - val_accuracy: 0.4673 - val_loss: 1.0490 - val_precision: 0.6296 - val_recall: 0.0854\n",
      "Epoch 6/30\n",
      "\u001b[1m47/47\u001b[0m \u001b[32m━━━━━━━━━━━━━━━━━━━━\u001b[0m\u001b[37m\u001b[0m \u001b[1m10s\u001b[0m 212ms/step - accuracy: 0.5071 - loss: 1.0104 - precision: 0.6924 - recall: 0.1370 - val_accuracy: 0.5377 - val_loss: 1.0504 - val_precision: 0.5613 - val_recall: 0.4372\n",
      "Epoch 7/30\n",
      "\u001b[1m47/47\u001b[0m \u001b[32m━━━━━━━━━━━━━━━━━━━━\u001b[0m\u001b[37m\u001b[0m \u001b[1m10s\u001b[0m 208ms/step - accuracy: 0.5952 - loss: 0.8647 - precision: 0.7056 - recall: 0.3829 - val_accuracy: 0.3869 - val_loss: 1.0634 - val_precision: 0.6667 - val_recall: 0.0201\n",
      "Epoch 8/30\n",
      "\u001b[1m47/47\u001b[0m \u001b[32m━━━━━━━━━━━━━━━━━━━━\u001b[0m\u001b[37m\u001b[0m \u001b[1m10s\u001b[0m 208ms/step - accuracy: 0.3984 - loss: 1.0675 - precision: 0.8264 - recall: 0.0326 - val_accuracy: 0.5678 - val_loss: 1.0455 - val_precision: 0.6467 - val_recall: 0.4874\n",
      "Epoch 9/30\n",
      "\u001b[1m47/47\u001b[0m \u001b[32m━━━━━━━━━━━━━━━━━━━━\u001b[0m\u001b[37m\u001b[0m \u001b[1m10s\u001b[0m 208ms/step - accuracy: 0.6682 - loss: 0.7551 - precision: 0.7366 - recall: 0.5244 - val_accuracy: 0.6884 - val_loss: 1.1743 - val_precision: 0.7093 - val_recall: 0.6131\n",
      "Epoch 10/30\n",
      "\u001b[1m47/47\u001b[0m \u001b[32m━━━━━━━━━━━━━━━━━━━━\u001b[0m\u001b[37m\u001b[0m \u001b[1m10s\u001b[0m 213ms/step - accuracy: 0.7739 - loss: 0.5515 - precision: 0.8121 - recall: 0.7252 - val_accuracy: 0.6482 - val_loss: 1.0078 - val_precision: 0.7052 - val_recall: 0.6131\n",
      "Epoch 11/30\n",
      "\u001b[1m47/47\u001b[0m \u001b[32m━━━━━━━━━━━━━━━━━━━━\u001b[0m\u001b[37m\u001b[0m \u001b[1m10s\u001b[0m 208ms/step - accuracy: 0.7830 - loss: 0.4842 - precision: 0.8077 - recall: 0.7507 - val_accuracy: 0.7236 - val_loss: 0.9207 - val_precision: 0.7500 - val_recall: 0.6482\n",
      "Epoch 12/30\n",
      "\u001b[1m47/47\u001b[0m \u001b[32m━━━━━━━━━━━━━━━━━━━━\u001b[0m\u001b[37m\u001b[0m \u001b[1m10s\u001b[0m 210ms/step - accuracy: 0.8435 - loss: 0.4055 - precision: 0.8689 - recall: 0.8204 - val_accuracy: 0.7236 - val_loss: 1.2406 - val_precision: 0.7194 - val_recall: 0.7085\n",
      "Epoch 13/30\n",
      "\u001b[1m47/47\u001b[0m \u001b[32m━━━━━━━━━━━━━━━━━━━━\u001b[0m\u001b[37m\u001b[0m \u001b[1m10s\u001b[0m 208ms/step - accuracy: 0.8764 - loss: 0.3223 - precision: 0.8903 - recall: 0.8655 - val_accuracy: 0.7136 - val_loss: 1.1827 - val_precision: 0.7273 - val_recall: 0.6834\n",
      "Epoch 14/30\n",
      "\u001b[1m47/47\u001b[0m \u001b[32m━━━━━━━━━━━━━━━━━━━━\u001b[0m\u001b[37m\u001b[0m \u001b[1m10s\u001b[0m 209ms/step - accuracy: 0.8806 - loss: 0.2883 - precision: 0.8929 - recall: 0.8697 - val_accuracy: 0.7286 - val_loss: 1.1968 - val_precision: 0.7292 - val_recall: 0.7035\n",
      "Epoch 15/30\n",
      "\u001b[1m47/47\u001b[0m \u001b[32m━━━━━━━━━━━━━━━━━━━━\u001b[0m\u001b[37m\u001b[0m \u001b[1m10s\u001b[0m 211ms/step - accuracy: 0.9020 - loss: 0.2410 - precision: 0.9071 - recall: 0.8941 - val_accuracy: 0.7236 - val_loss: 1.1965 - val_precision: 0.7240 - val_recall: 0.6985\n",
      "Epoch 16/30\n",
      "\u001b[1m47/47\u001b[0m \u001b[32m━━━━━━━━━━━━━━━━━━━━\u001b[0m\u001b[37m\u001b[0m \u001b[1m10s\u001b[0m 208ms/step - accuracy: 0.8293 - loss: 0.4084 - precision: 0.8597 - recall: 0.7817 - val_accuracy: 0.7387 - val_loss: 1.3160 - val_precision: 0.7462 - val_recall: 0.7387\n",
      "Epoch 17/30\n",
      "\u001b[1m47/47\u001b[0m \u001b[32m━━━━━━━━━━━━━━━━━━━━\u001b[0m\u001b[37m\u001b[0m \u001b[1m10s\u001b[0m 207ms/step - accuracy: 0.8990 - loss: 0.2528 - precision: 0.9126 - recall: 0.8930 - val_accuracy: 0.6633 - val_loss: 1.7573 - val_precision: 0.6667 - val_recall: 0.6633\n",
      "Epoch 18/30\n",
      "\u001b[1m47/47\u001b[0m \u001b[32m━━━━━━━━━━━━━━━━━━━━\u001b[0m\u001b[37m\u001b[0m \u001b[1m10s\u001b[0m 208ms/step - accuracy: 0.9299 - loss: 0.1840 - precision: 0.9367 - recall: 0.9228 - val_accuracy: 0.7085 - val_loss: 0.9861 - val_precision: 0.7207 - val_recall: 0.6482\n",
      "Epoch 19/30\n",
      "\u001b[1m47/47\u001b[0m \u001b[32m━━━━━━━━━━━━━━━━━━━━\u001b[0m\u001b[37m\u001b[0m \u001b[1m10s\u001b[0m 211ms/step - accuracy: 0.8897 - loss: 0.2551 - precision: 0.9013 - recall: 0.8709 - val_accuracy: 0.7286 - val_loss: 1.7355 - val_precision: 0.7330 - val_recall: 0.7035\n",
      "Epoch 20/30\n",
      "\u001b[1m47/47\u001b[0m \u001b[32m━━━━━━━━━━━━━━━━━━━━\u001b[0m\u001b[37m\u001b[0m \u001b[1m10s\u001b[0m 208ms/step - accuracy: 0.9512 - loss: 0.1635 - precision: 0.9533 - recall: 0.9461 - val_accuracy: 0.7487 - val_loss: 1.6196 - val_precision: 0.7487 - val_recall: 0.7337\n",
      "Epoch 21/30\n",
      "\u001b[1m47/47\u001b[0m \u001b[32m━━━━━━━━━━━━━━━━━━━━\u001b[0m\u001b[37m\u001b[0m \u001b[1m10s\u001b[0m 209ms/step - accuracy: 0.9431 - loss: 0.1313 - precision: 0.9467 - recall: 0.9369 - val_accuracy: 0.6935 - val_loss: 1.6653 - val_precision: 0.6970 - val_recall: 0.6935\n",
      "Epoch 22/30\n",
      "\u001b[1m47/47\u001b[0m \u001b[32m━━━━━━━━━━━━━━━━━━━━\u001b[0m\u001b[37m\u001b[0m \u001b[1m10s\u001b[0m 210ms/step - accuracy: 0.9390 - loss: 0.1381 - precision: 0.9402 - recall: 0.9355 - val_accuracy: 0.7337 - val_loss: 1.7105 - val_precision: 0.7411 - val_recall: 0.7337\n",
      "Epoch 23/30\n",
      "\u001b[1m47/47\u001b[0m \u001b[32m━━━━━━━━━━━━━━━━━━━━\u001b[0m\u001b[37m\u001b[0m \u001b[1m10s\u001b[0m 210ms/step - accuracy: 0.9713 - loss: 0.0872 - precision: 0.9720 - recall: 0.9708 - val_accuracy: 0.7236 - val_loss: 1.7600 - val_precision: 0.7310 - val_recall: 0.7236\n",
      "Epoch 24/30\n",
      "\u001b[1m47/47\u001b[0m \u001b[32m━━━━━━━━━━━━━━━━━━━━\u001b[0m\u001b[37m\u001b[0m \u001b[1m10s\u001b[0m 208ms/step - accuracy: 0.9652 - loss: 0.1059 - precision: 0.9652 - recall: 0.9649 - val_accuracy: 0.7337 - val_loss: 1.6748 - val_precision: 0.7310 - val_recall: 0.7236\n",
      "Epoch 25/30\n",
      "\u001b[1m47/47\u001b[0m \u001b[32m━━━━━━━━━━━━━━━━━━━━\u001b[0m\u001b[37m\u001b[0m \u001b[1m10s\u001b[0m 210ms/step - accuracy: 0.9644 - loss: 0.1101 - precision: 0.9652 - recall: 0.9608 - val_accuracy: 0.7387 - val_loss: 1.5280 - val_precision: 0.7424 - val_recall: 0.7387\n",
      "Epoch 26/30\n",
      "\u001b[1m47/47\u001b[0m \u001b[32m━━━━━━━━━━━━━━━━━━━━\u001b[0m\u001b[37m\u001b[0m \u001b[1m10s\u001b[0m 210ms/step - accuracy: 0.9536 - loss: 0.1111 - precision: 0.9558 - recall: 0.9519 - val_accuracy: 0.7286 - val_loss: 1.9085 - val_precision: 0.7259 - val_recall: 0.7186\n",
      "Epoch 27/30\n",
      "\u001b[1m47/47\u001b[0m \u001b[32m━━━━━━━━━━━━━━━━━━━━\u001b[0m\u001b[37m\u001b[0m \u001b[1m10s\u001b[0m 210ms/step - accuracy: 0.9655 - loss: 0.0907 - precision: 0.9705 - recall: 0.9648 - val_accuracy: 0.7186 - val_loss: 2.2054 - val_precision: 0.7222 - val_recall: 0.7186\n",
      "Epoch 28/30\n",
      "\u001b[1m47/47\u001b[0m \u001b[32m━━━━━━━━━━━━━━━━━━━━\u001b[0m\u001b[37m\u001b[0m \u001b[1m10s\u001b[0m 208ms/step - accuracy: 0.9578 - loss: 0.1013 - precision: 0.9614 - recall: 0.9552 - val_accuracy: 0.7387 - val_loss: 1.7691 - val_precision: 0.7449 - val_recall: 0.7337\n",
      "Epoch 29/30\n",
      "\u001b[1m47/47\u001b[0m \u001b[32m━━━━━━━━━━━━━━━━━━━━\u001b[0m\u001b[37m\u001b[0m \u001b[1m10s\u001b[0m 209ms/step - accuracy: 0.9741 - loss: 0.0720 - precision: 0.9763 - recall: 0.9733 - val_accuracy: 0.7538 - val_loss: 2.0331 - val_precision: 0.7551 - val_recall: 0.7437\n",
      "Epoch 30/30\n",
      "\u001b[1m47/47\u001b[0m \u001b[32m━━━━━━━━━━━━━━━━━━━━\u001b[0m\u001b[37m\u001b[0m \u001b[1m10s\u001b[0m 213ms/step - accuracy: 0.9826 - loss: 0.0593 - precision: 0.9826 - recall: 0.9793 - val_accuracy: 0.7588 - val_loss: 2.0490 - val_precision: 0.7563 - val_recall: 0.7487\n",
      "Predicting on validation set...\n",
      "\u001b[1m7/7\u001b[0m \u001b[32m━━━━━━━━━━━━━━━━━━━━\u001b[0m\u001b[37m\u001b[0m \u001b[1m1s\u001b[0m 52ms/step\n",
      "Sending metrics to clearML...\n",
      "done\n"
     ]
    }
   ],
   "source": [
    "# zoom \n",
    "task_name = 'z'\n",
    "sub_project_name = 'ZOOM'\n",
    "\n",
    "augmentation_metadata = {\n",
    "        'methods': {        \n",
    "            'zoom': {\n",
    "                'parameters': {\n",
    "                    'zoom_factor': 1.2, # Maximum angle of rotation\n",
    "                },\n",
    "                'apply_to_percentage': 0.5  # 50% of the training images\n",
    "            }        \n",
    "        }\n",
    "    }\n",
    "\n",
    "for i in range(N):\n",
    "    RUN = i + 1\n",
    "    try:\n",
    "        print(f\"Starting RUN: {RUN}\")\n",
    "        main(RUN, augmentation_metadata, task_name, sub_project_name, epochs, train_size, w1, w2)\n",
    "    except Exception as e:\n",
    "        print(f\"Error in RUN: {RUN}\")\n",
    "        print(e)\n",
    "    finally:\n",
    "        clear_output(wait=True)  # Clear the output to avoid scrolling\n",
    "        gc.collect()  # Collect garbage to avoid memory leaks"
   ]
  },
  {
   "cell_type": "code",
   "execution_count": 11,
   "metadata": {},
   "outputs": [
    {
     "name": "stdout",
     "output_type": "stream",
     "text": [
      "Starting RUN: 5\n",
      "Seed:  1476007416\n"
     ]
    },
    {
     "name": "stderr",
     "output_type": "stream",
     "text": [
      "c:\\github\\Third-Year-Project\\Intruder-Aircraft-Detection\\main\\tl_clf.py:79: SettingWithCopyWarning:\n",
      "\n",
      "\n",
      "A value is trying to be set on a copy of a slice from a DataFrame.\n",
      "Try using .loc[row_indexer,col_indexer] = value instead\n",
      "\n",
      "See the caveats in the documentation: https://pandas.pydata.org/pandas-docs/stable/user_guide/indexing.html#returning-a-view-versus-a-copy\n",
      "\n",
      "c:\\github\\Third-Year-Project\\Intruder-Aircraft-Detection\\main\\tl_clf.py:80: SettingWithCopyWarning:\n",
      "\n",
      "\n",
      "A value is trying to be set on a copy of a slice from a DataFrame.\n",
      "Try using .loc[row_indexer,col_indexer] = value instead\n",
      "\n",
      "See the caveats in the documentation: https://pandas.pydata.org/pandas-docs/stable/user_guide/indexing.html#returning-a-view-versus-a-copy\n",
      "\n"
     ]
    },
    {
     "name": "stdout",
     "output_type": "stream",
     "text": [
      "Removing dataset if pre-existing\n",
      "Copying training files:\n"
     ]
    },
    {
     "name": "stderr",
     "output_type": "stream",
     "text": [
      "Copying files: 100%|██████████| 2000/2000 [00:01<00:00, 1782.86it/s]\n"
     ]
    },
    {
     "name": "stdout",
     "output_type": "stream",
     "text": [
      "Copying validation files:\n"
     ]
    },
    {
     "name": "stderr",
     "output_type": "stream",
     "text": [
      "Copying files: 100%|██████████| 400/400 [00:00<00:00, 865.58it/s] \n"
     ]
    },
    {
     "name": "stdout",
     "output_type": "stream",
     "text": [
      "Dataset 'weather_01_1000' created at C:\\github\\Third-Year-Project\\Intruder-Aircraft-Detection\\datasets\\Custom\\weather_01_1000\n",
      "Processing train labels in weather_01_1000:\n"
     ]
    },
    {
     "name": "stderr",
     "output_type": "stream",
     "text": [
      "Processing labels: 100%|██████████| 1000/1000 [00:03<00:00, 253.92it/s]\n"
     ]
    },
    {
     "name": "stdout",
     "output_type": "stream",
     "text": [
      "Processing valid labels in weather_01_1000:\n"
     ]
    },
    {
     "name": "stderr",
     "output_type": "stream",
     "text": [
      "Processing labels: 100%|██████████| 200/200 [00:00<00:00, 290.85it/s]\n"
     ]
    },
    {
     "name": "stdout",
     "output_type": "stream",
     "text": [
      "Label correction completed.\n"
     ]
    },
    {
     "name": "stderr",
     "output_type": "stream",
     "text": [
      "Removing existing directories/files: 100%|██████████| 3/3 [00:00<00:00, 6032.08it/s]\n",
      "Copying files: 100%|██████████| 1000/1000 [00:00<00:00, 1175.20it/s]\n",
      "Copying files: 100%|██████████| 1000/1000 [00:00<00:00, 1330.36it/s]\n",
      "Applying augmentations: 100%|██████████| 167/167 [00:02<00:00, 81.13it/s]\n",
      "Processing images:  21%|██        | 208/1000 [00:08<00:23, 34.13it/s]"
     ]
    },
    {
     "name": "stdout",
     "output_type": "stream",
     "text": [
      "An error occurred with C:/github/Third-Year-Project/Intruder-Aircraft-Detection/datasets/Custom/weather_01_1000\\images\\train\\24066.jpg: Expected x_min for bbox (-0.032714999999999994, -0.10783849999999998, 0.8482190000000001, 0.4794505, 1) to be in the range [0.0, 1.0], got -0.032714999999999994.\n"
     ]
    },
    {
     "name": "stderr",
     "output_type": "stream",
     "text": [
      "Processing images:  62%|██████▏   | 616/1000 [00:20<00:11, 33.66it/s]"
     ]
    },
    {
     "name": "stdout",
     "output_type": "stream",
     "text": [
      "An error occurred with C:/github/Third-Year-Project/Intruder-Aircraft-Detection/datasets/Custom/weather_01_1000\\images\\train\\48182.jpg: Expected x_max for bbox (0.45793449999999997, 0.39898000000000006, 1.0627735, 0.802206, 2) to be in the range [0.0, 1.0], got 1.0627735.\n"
     ]
    },
    {
     "name": "stderr",
     "output_type": "stream",
     "text": [
      "Processing images:  71%|███████   | 709/1000 [00:23<00:08, 34.48it/s]"
     ]
    },
    {
     "name": "stdout",
     "output_type": "stream",
     "text": [
      "An error occurred with C:/github/Third-Year-Project/Intruder-Aircraft-Detection/datasets/Custom/weather_01_1000\\images\\train\\48705.jpg: Expected x_min for bbox (-0.07913550000000003, 0.055376499999999995, 0.8971595, 0.7062394999999999, 2) to be in the range [0.0, 1.0], got -0.07913550000000003.\n"
     ]
    },
    {
     "name": "stderr",
     "output_type": "stream",
     "text": [
      "Processing images:  74%|███████▍  | 741/1000 [00:24<00:07, 34.86it/s]"
     ]
    },
    {
     "name": "stdout",
     "output_type": "stream",
     "text": [
      "An error occurred with C:/github/Third-Year-Project/Intruder-Aircraft-Detection/datasets/Custom/weather_01_1000\\images\\train\\48882.jpg: Expected y_min for bbox (0.0959025, -0.07905450000000001, 0.7032695, 0.3258565, 2) to be in the range [0.0, 1.0], got -0.07905450000000001.\n"
     ]
    },
    {
     "name": "stderr",
     "output_type": "stream",
     "text": [
      "Processing images:  80%|████████  | 802/1000 [00:26<00:05, 35.76it/s]"
     ]
    },
    {
     "name": "stdout",
     "output_type": "stream",
     "text": [
      "An error occurred with C:/github/Third-Year-Project/Intruder-Aircraft-Detection/datasets/Custom/weather_01_1000\\images\\train\\49296.jpg: Expected x_max for bbox (0.368679, 0.3249835, 1.086079, 0.8032505, 2) to be in the range [0.0, 1.0], got 1.086079.\n"
     ]
    },
    {
     "name": "stderr",
     "output_type": "stream",
     "text": [
      "Processing images: 100%|██████████| 1000/1000 [00:31<00:00, 31.33it/s]\n",
      "Processing images:  20%|██        | 239/1167 [00:09<00:26, 34.55it/s]"
     ]
    },
    {
     "name": "stdout",
     "output_type": "stream",
     "text": [
      "An error occurred with C:/github/Third-Year-Project/Intruder-Aircraft-Detection/datasets/Custom/weather_01_1000\\images\\train-aug\\24066.jpg: Expected x_min for bbox (-0.032714999999999994, -0.10783849999999998, 0.8482190000000001, 0.4794505, 1) to be in the range [0.0, 1.0], got -0.032714999999999994.\n"
     ]
    },
    {
     "name": "stderr",
     "output_type": "stream",
     "text": [
      "Processing images:  60%|██████    | 703/1167 [00:24<00:13, 33.87it/s]"
     ]
    },
    {
     "name": "stdout",
     "output_type": "stream",
     "text": [
      "An error occurred with C:/github/Third-Year-Project/Intruder-Aircraft-Detection/datasets/Custom/weather_01_1000\\images\\train-aug\\48182.jpg: Expected x_max for bbox (0.45793449999999997, 0.39898000000000006, 1.0627735, 0.802206, 2) to be in the range [0.0, 1.0], got 1.0627735.\n"
     ]
    },
    {
     "name": "stderr",
     "output_type": "stream",
     "text": [
      "Processing images:  70%|███████   | 820/1167 [00:27<00:09, 37.73it/s]"
     ]
    },
    {
     "name": "stdout",
     "output_type": "stream",
     "text": [
      "An error occurred with C:/github/Third-Year-Project/Intruder-Aircraft-Detection/datasets/Custom/weather_01_1000\\images\\train-aug\\48705.jpg: Expected x_min for bbox (-0.07913550000000003, 0.055376499999999995, 0.8971595, 0.7062394999999999, 2) to be in the range [0.0, 1.0], got -0.07913550000000003.\n"
     ]
    },
    {
     "name": "stderr",
     "output_type": "stream",
     "text": [
      "Processing images:  74%|███████▍  | 861/1167 [00:28<00:08, 36.20it/s]"
     ]
    },
    {
     "name": "stdout",
     "output_type": "stream",
     "text": [
      "An error occurred with C:/github/Third-Year-Project/Intruder-Aircraft-Detection/datasets/Custom/weather_01_1000\\images\\train-aug\\48882.jpg: Expected y_min for bbox (0.0959025, -0.07905450000000001, 0.7032695, 0.3258565, 2) to be in the range [0.0, 1.0], got -0.07905450000000001.\n"
     ]
    },
    {
     "name": "stderr",
     "output_type": "stream",
     "text": [
      "Processing images:  80%|███████▉  | 930/1167 [00:30<00:06, 37.11it/s]"
     ]
    },
    {
     "name": "stdout",
     "output_type": "stream",
     "text": [
      "An error occurred with C:/github/Third-Year-Project/Intruder-Aircraft-Detection/datasets/Custom/weather_01_1000\\images\\train-aug\\49296.jpg: Expected x_max for bbox (0.368679, 0.3249835, 1.086079, 0.8032505, 2) to be in the range [0.0, 1.0], got 1.086079.\n"
     ]
    },
    {
     "name": "stderr",
     "output_type": "stream",
     "text": [
      "Processing images: 100%|██████████| 1167/1167 [00:37<00:00, 30.97it/s]\n",
      "Processing images:  57%|█████▊    | 115/200 [00:03<00:02, 36.43it/s]"
     ]
    },
    {
     "name": "stdout",
     "output_type": "stream",
     "text": [
      "An error occurred with C:/github/Third-Year-Project/Intruder-Aircraft-Detection/datasets/Custom/weather_01_1000\\images\\valid\\48958.jpg: Expected y_min for bbox (0.11869149999999995, -0.083345, 1.0148305, 0.514081, 2) to be in the range [0.0, 1.0], got -0.083345.\n",
      "An error occurred with C:/github/Third-Year-Project/Intruder-Aircraft-Detection/datasets/Custom/weather_01_1000\\images\\valid\\48967.jpg: Expected x_max for bbox (0.391763, 0.222879, 1.0974650000000001, 0.6933469999999999, 2) to be in the range [0.0, 1.0], got 1.0974650000000001.\n"
     ]
    },
    {
     "name": "stderr",
     "output_type": "stream",
     "text": [
      "Processing images: 100%|██████████| 200/200 [00:06<00:00, 31.31it/s]\n",
      "Moving images in train: 100%|██████████| 995/995 [00:03<00:00, 286.91it/s]\n",
      "Moving images in train-aug: 100%|██████████| 1162/1162 [00:02<00:00, 415.22it/s]\n",
      "Moving images in valid: 100%|██████████| 198/198 [00:00<00:00, 266.00it/s]\n"
     ]
    },
    {
     "name": "stdout",
     "output_type": "stream",
     "text": [
      "Found 995 files belonging to 3 classes.\n",
      "Found 1162 files belonging to 3 classes.\n",
      "Found 198 files belonging to 3 classes.\n",
      "ClearML Task: created new task id=126a17db951a4118958709d1d730ba22\n",
      "ClearML results page: https://app.clear.ml/projects/99b9e23c702f45b6a3b2868de65da134/experiments/126a17db951a4118958709d1d730ba22/output/log\n",
      "Training model...\n",
      "Epoch 1/30\n",
      "\u001b[1m32/32\u001b[0m \u001b[32m━━━━━━━━━━━━━━━━━━━━\u001b[0m\u001b[37m\u001b[0m \u001b[1m10s\u001b[0m 260ms/step - accuracy: 0.3627 - loss: 2.3169 - precision: 0.3974 - recall: 0.0974 - val_accuracy: 0.3384 - val_loss: 1.0978 - val_precision: 0.0000e+00 - val_recall: 0.0000e+00\n",
      "Epoch 2/30\n",
      "\u001b[1m32/32\u001b[0m \u001b[32m━━━━━━━━━━━━━━━━━━━━\u001b[0m\u001b[37m\u001b[0m \u001b[1m7s\u001b[0m 209ms/step - accuracy: 0.3454 - loss: 1.0981 - precision: 0.0000e+00 - recall: 0.0000e+00 - val_accuracy: 0.3636 - val_loss: 1.0981 - val_precision: 0.0000e+00 - val_recall: 0.0000e+00\n",
      "Epoch 3/30\n",
      "\u001b[1m32/32\u001b[0m \u001b[32m━━━━━━━━━━━━━━━━━━━━\u001b[0m\u001b[37m\u001b[0m \u001b[1m7s\u001b[0m 211ms/step - accuracy: 0.3148 - loss: 1.0983 - precision: 0.0000e+00 - recall: 0.0000e+00 - val_accuracy: 0.3333 - val_loss: 1.1033 - val_precision: 0.0000e+00 - val_recall: 0.0000e+00\n",
      "Epoch 4/30\n",
      "\u001b[1m32/32\u001b[0m \u001b[32m━━━━━━━━━━━━━━━━━━━━\u001b[0m\u001b[37m\u001b[0m \u001b[1m7s\u001b[0m 214ms/step - accuracy: 0.3383 - loss: 1.1035 - precision: 0.0000e+00 - recall: 0.0000e+00 - val_accuracy: 0.3232 - val_loss: 1.0981 - val_precision: 0.0000e+00 - val_recall: 0.0000e+00\n",
      "Epoch 5/30\n",
      "\u001b[1m32/32\u001b[0m \u001b[32m━━━━━━━━━━━━━━━━━━━━\u001b[0m\u001b[37m\u001b[0m \u001b[1m7s\u001b[0m 207ms/step - accuracy: 0.3428 - loss: 1.0977 - precision: 0.0000e+00 - recall: 0.0000e+00 - val_accuracy: 0.3788 - val_loss: 1.0958 - val_precision: 0.0000e+00 - val_recall: 0.0000e+00\n",
      "Epoch 6/30\n",
      "\u001b[1m32/32\u001b[0m \u001b[32m━━━━━━━━━━━━━━━━━━━━\u001b[0m\u001b[37m\u001b[0m \u001b[1m7s\u001b[0m 221ms/step - accuracy: 0.3846 - loss: 1.0938 - precision: 0.0000e+00 - recall: 0.0000e+00 - val_accuracy: 0.3333 - val_loss: 1.0901 - val_precision: 0.0000e+00 - val_recall: 0.0000e+00\n",
      "Epoch 7/30\n",
      "\u001b[1m32/32\u001b[0m \u001b[32m━━━━━━━━━━━━━━━━━━━━\u001b[0m\u001b[37m\u001b[0m \u001b[1m8s\u001b[0m 248ms/step - accuracy: 0.3717 - loss: 1.0964 - precision: 0.0000e+00 - recall: 0.0000e+00 - val_accuracy: 0.3838 - val_loss: 1.0856 - val_precision: 0.0000e+00 - val_recall: 0.0000e+00\n",
      "Epoch 8/30\n",
      "\u001b[1m32/32\u001b[0m \u001b[32m━━━━━━━━━━━━━━━━━━━━\u001b[0m\u001b[37m\u001b[0m \u001b[1m7s\u001b[0m 209ms/step - accuracy: 0.3756 - loss: 1.0966 - precision: 0.0000e+00 - recall: 0.0000e+00 - val_accuracy: 0.3434 - val_loss: 1.0850 - val_precision: 0.0000e+00 - val_recall: 0.0000e+00\n",
      "Epoch 9/30\n",
      "\u001b[1m32/32\u001b[0m \u001b[32m━━━━━━━━━━━━━━━━━━━━\u001b[0m\u001b[37m\u001b[0m \u001b[1m7s\u001b[0m 210ms/step - accuracy: 0.3568 - loss: 1.0981 - precision: 0.2244 - recall: 0.0120 - val_accuracy: 0.4747 - val_loss: 1.0703 - val_precision: 0.0000e+00 - val_recall: 0.0000e+00\n",
      "Epoch 10/30\n",
      "\u001b[1m32/32\u001b[0m \u001b[32m━━━━━━━━━━━━━━━━━━━━\u001b[0m\u001b[37m\u001b[0m \u001b[1m7s\u001b[0m 210ms/step - accuracy: 0.4079 - loss: 1.3901 - precision: 0.3444 - recall: 0.0533 - val_accuracy: 0.4394 - val_loss: 1.0886 - val_precision: 0.4773 - val_recall: 0.2121\n",
      "Epoch 11/30\n",
      "\u001b[1m32/32\u001b[0m \u001b[32m━━━━━━━━━━━━━━━━━━━━\u001b[0m\u001b[37m\u001b[0m \u001b[1m7s\u001b[0m 207ms/step - accuracy: 0.4045 - loss: 1.0963 - precision: 0.4601 - recall: 0.0967 - val_accuracy: 0.4040 - val_loss: 1.0679 - val_precision: 0.0000e+00 - val_recall: 0.0000e+00\n",
      "Epoch 12/30\n",
      "\u001b[1m32/32\u001b[0m \u001b[32m━━━━━━━━━━━━━━━━━━━━\u001b[0m\u001b[37m\u001b[0m \u001b[1m7s\u001b[0m 209ms/step - accuracy: 0.3877 - loss: 1.0861 - precision: 0.3952 - recall: 0.0051 - val_accuracy: 0.4343 - val_loss: 1.0720 - val_precision: 0.0000e+00 - val_recall: 0.0000e+00\n",
      "Epoch 13/30\n",
      "\u001b[1m32/32\u001b[0m \u001b[32m━━━━━━━━━━━━━━━━━━━━\u001b[0m\u001b[37m\u001b[0m \u001b[1m7s\u001b[0m 211ms/step - accuracy: 0.3947 - loss: 1.0951 - precision: 0.1805 - recall: 0.0088 - val_accuracy: 0.4949 - val_loss: 1.0604 - val_precision: 0.0000e+00 - val_recall: 0.0000e+00\n",
      "Epoch 14/30\n",
      "\u001b[1m32/32\u001b[0m \u001b[32m━━━━━━━━━━━━━━━━━━━━\u001b[0m\u001b[37m\u001b[0m \u001b[1m7s\u001b[0m 214ms/step - accuracy: 0.4208 - loss: 1.0759 - precision: 0.2778 - recall: 0.0012 - val_accuracy: 0.5101 - val_loss: 1.0575 - val_precision: 0.0000e+00 - val_recall: 0.0000e+00\n",
      "Epoch 15/30\n",
      "\u001b[1m32/32\u001b[0m \u001b[32m━━━━━━━━━━━━━━━━━━━━\u001b[0m\u001b[37m\u001b[0m \u001b[1m7s\u001b[0m 206ms/step - accuracy: 0.4117 - loss: 1.0796 - precision: 0.6667 - recall: 0.0020 - val_accuracy: 0.5152 - val_loss: 1.0610 - val_precision: 0.0000e+00 - val_recall: 0.0000e+00\n",
      "Epoch 16/30\n",
      "\u001b[1m32/32\u001b[0m \u001b[32m━━━━━━━━━━━━━━━━━━━━\u001b[0m\u001b[37m\u001b[0m \u001b[1m7s\u001b[0m 210ms/step - accuracy: 0.4042 - loss: 1.0784 - precision: 0.4158 - recall: 0.0180 - val_accuracy: 0.4798 - val_loss: 1.0553 - val_precision: 0.4667 - val_recall: 0.0354\n",
      "Epoch 17/30\n",
      "\u001b[1m32/32\u001b[0m \u001b[32m━━━━━━━━━━━━━━━━━━━━\u001b[0m\u001b[37m\u001b[0m \u001b[1m7s\u001b[0m 208ms/step - accuracy: 0.4333 - loss: 1.0722 - precision: 0.5524 - recall: 0.0190 - val_accuracy: 0.4798 - val_loss: 1.0513 - val_precision: 0.5200 - val_recall: 0.0657\n",
      "Epoch 18/30\n",
      "\u001b[1m32/32\u001b[0m \u001b[32m━━━━━━━━━━━━━━━━━━━━\u001b[0m\u001b[37m\u001b[0m \u001b[1m7s\u001b[0m 210ms/step - accuracy: 0.4011 - loss: 1.0804 - precision: 0.5801 - recall: 0.0323 - val_accuracy: 0.3889 - val_loss: 1.0585 - val_precision: 0.5000 - val_recall: 0.0758\n",
      "Epoch 19/30\n",
      "\u001b[1m32/32\u001b[0m \u001b[32m━━━━━━━━━━━━━━━━━━━━\u001b[0m\u001b[37m\u001b[0m \u001b[1m7s\u001b[0m 210ms/step - accuracy: 0.4138 - loss: 1.0734 - precision: 0.5294 - recall: 0.0468 - val_accuracy: 0.4646 - val_loss: 1.0530 - val_precision: 0.5000 - val_recall: 0.0808\n",
      "Epoch 20/30\n",
      "\u001b[1m32/32\u001b[0m \u001b[32m━━━━━━━━━━━━━━━━━━━━\u001b[0m\u001b[37m\u001b[0m \u001b[1m7s\u001b[0m 213ms/step - accuracy: 0.3969 - loss: 1.0797 - precision: 0.6388 - recall: 0.0132 - val_accuracy: 0.3384 - val_loss: 1.0732 - val_precision: 0.5217 - val_recall: 0.1212\n",
      "Epoch 21/30\n",
      "\u001b[1m32/32\u001b[0m \u001b[32m━━━━━━━━━━━━━━━━━━━━\u001b[0m\u001b[37m\u001b[0m \u001b[1m7s\u001b[0m 209ms/step - accuracy: 0.3830 - loss: 1.0850 - precision: 0.5774 - recall: 0.0714 - val_accuracy: 0.5101 - val_loss: 1.0537 - val_precision: 0.4286 - val_recall: 0.0152\n",
      "Epoch 22/30\n",
      "\u001b[1m32/32\u001b[0m \u001b[32m━━━━━━━━━━━━━━━━━━━━\u001b[0m\u001b[37m\u001b[0m \u001b[1m7s\u001b[0m 210ms/step - accuracy: 0.4021 - loss: 1.0817 - precision: 0.1717 - recall: 0.0021 - val_accuracy: 0.4394 - val_loss: 1.0510 - val_precision: 0.5143 - val_recall: 0.0909\n",
      "Epoch 23/30\n",
      "\u001b[1m32/32\u001b[0m \u001b[32m━━━━━━━━━━━━━━━━━━━━\u001b[0m\u001b[37m\u001b[0m \u001b[1m7s\u001b[0m 208ms/step - accuracy: 0.4570 - loss: 1.0628 - precision: 0.5014 - recall: 0.0423 - val_accuracy: 0.5101 - val_loss: 1.0522 - val_precision: 0.5217 - val_recall: 0.0606\n",
      "Epoch 24/30\n",
      "\u001b[1m32/32\u001b[0m \u001b[32m━━━━━━━━━━━━━━━━━━━━\u001b[0m\u001b[37m\u001b[0m \u001b[1m7s\u001b[0m 210ms/step - accuracy: 0.4177 - loss: 1.0665 - precision: 0.7219 - recall: 0.0327 - val_accuracy: 0.4697 - val_loss: 1.0507 - val_precision: 0.5238 - val_recall: 0.1111\n",
      "Epoch 25/30\n",
      "\u001b[1m32/32\u001b[0m \u001b[32m━━━━━━━━━━━━━━━━━━━━\u001b[0m\u001b[37m\u001b[0m \u001b[1m7s\u001b[0m 207ms/step - accuracy: 0.3999 - loss: 1.0626 - precision: 0.5862 - recall: 0.0673 - val_accuracy: 0.5253 - val_loss: 1.0506 - val_precision: 0.5263 - val_recall: 0.1010\n",
      "Epoch 26/30\n",
      "\u001b[1m32/32\u001b[0m \u001b[32m━━━━━━━━━━━━━━━━━━━━\u001b[0m\u001b[37m\u001b[0m \u001b[1m7s\u001b[0m 211ms/step - accuracy: 0.4516 - loss: 1.0660 - precision: 0.5853 - recall: 0.0713 - val_accuracy: 0.4899 - val_loss: 1.0483 - val_precision: 0.5366 - val_recall: 0.1111\n",
      "Epoch 27/30\n",
      "\u001b[1m32/32\u001b[0m \u001b[32m━━━━━━━━━━━━━━━━━━━━\u001b[0m\u001b[37m\u001b[0m \u001b[1m7s\u001b[0m 209ms/step - accuracy: 0.4385 - loss: 1.0674 - precision: 0.5532 - recall: 0.0619 - val_accuracy: 0.4899 - val_loss: 1.0452 - val_precision: 0.4839 - val_recall: 0.0758\n",
      "Epoch 28/30\n",
      "\u001b[1m32/32\u001b[0m \u001b[32m━━━━━━━━━━━━━━━━━━━━\u001b[0m\u001b[37m\u001b[0m \u001b[1m7s\u001b[0m 211ms/step - accuracy: 0.4468 - loss: 1.0519 - precision: 0.6146 - recall: 0.0468 - val_accuracy: 0.5253 - val_loss: 1.0423 - val_precision: 0.5152 - val_recall: 0.0859\n",
      "Epoch 29/30\n",
      "\u001b[1m32/32\u001b[0m \u001b[32m━━━━━━━━━━━━━━━━━━━━\u001b[0m\u001b[37m\u001b[0m \u001b[1m7s\u001b[0m 209ms/step - accuracy: 0.4302 - loss: 1.0657 - precision: 0.5482 - recall: 0.0808 - val_accuracy: 0.4949 - val_loss: 1.0500 - val_precision: 0.5000 - val_recall: 0.0606\n",
      "Epoch 30/30\n",
      "\u001b[1m32/32\u001b[0m \u001b[32m━━━━━━━━━━━━━━━━━━━━\u001b[0m\u001b[37m\u001b[0m \u001b[1m7s\u001b[0m 211ms/step - accuracy: 0.4484 - loss: 1.0598 - precision: 0.6116 - recall: 0.0401 - val_accuracy: 0.4747 - val_loss: 1.0360 - val_precision: 0.5000 - val_recall: 0.0909\n",
      "Predicting on validation set...\n",
      "\u001b[1m7/7\u001b[0m \u001b[32m━━━━━━━━━━━━━━━━━━━━\u001b[0m\u001b[37m\u001b[0m \u001b[1m1s\u001b[0m 50ms/step\n",
      "Sending metrics to clearML...\n",
      "done\n",
      "ClearML Task: created new task id=dfdb694f85414317bd62bbc55dbe6915\n",
      "ClearML results page: https://app.clear.ml/projects/99b9e23c702f45b6a3b2868de65da134/experiments/dfdb694f85414317bd62bbc55dbe6915/output/log\n",
      "Training model...\n",
      "Epoch 1/30\n",
      "\u001b[1m37/37\u001b[0m \u001b[32m━━━━━━━━━━━━━━━━━━━━\u001b[0m\u001b[37m\u001b[0m \u001b[1m11s\u001b[0m 257ms/step - accuracy: 0.3130 - loss: 1.6497 - precision: 0.2948 - recall: 0.0968 - val_accuracy: 0.3283 - val_loss: 1.0985 - val_precision: 0.0000e+00 - val_recall: 0.0000e+00\n",
      "Epoch 2/30\n",
      "\u001b[1m37/37\u001b[0m \u001b[32m━━━━━━━━━━━━━━━━━━━━\u001b[0m\u001b[37m\u001b[0m \u001b[1m8s\u001b[0m 209ms/step - accuracy: 0.2925 - loss: 1.0989 - precision: 0.0000e+00 - recall: 0.0000e+00 - val_accuracy: 0.2778 - val_loss: 1.0985 - val_precision: 0.0000e+00 - val_recall: 0.0000e+00\n",
      "Epoch 3/30\n",
      "\u001b[1m37/37\u001b[0m \u001b[32m━━━━━━━━━━━━━━━━━━━━\u001b[0m\u001b[37m\u001b[0m \u001b[1m8s\u001b[0m 211ms/step - accuracy: 0.2931 - loss: 1.0990 - precision: 0.0000e+00 - recall: 0.0000e+00 - val_accuracy: 0.3434 - val_loss: 1.0989 - val_precision: 0.0000e+00 - val_recall: 0.0000e+00\n",
      "Epoch 4/30\n",
      "\u001b[1m37/37\u001b[0m \u001b[32m━━━━━━━━━━━━━━━━━━━━\u001b[0m\u001b[37m\u001b[0m \u001b[1m8s\u001b[0m 212ms/step - accuracy: 0.3356 - loss: 1.1004 - precision: 0.0000e+00 - recall: 0.0000e+00 - val_accuracy: 0.3283 - val_loss: 1.0975 - val_precision: 0.0000e+00 - val_recall: 0.0000e+00\n",
      "Epoch 5/30\n",
      "\u001b[1m37/37\u001b[0m \u001b[32m━━━━━━━━━━━━━━━━━━━━\u001b[0m\u001b[37m\u001b[0m \u001b[1m8s\u001b[0m 208ms/step - accuracy: 0.3096 - loss: 1.0979 - precision: 0.0000e+00 - recall: 0.0000e+00 - val_accuracy: 0.3283 - val_loss: 1.0990 - val_precision: 0.0000e+00 - val_recall: 0.0000e+00\n",
      "Epoch 6/30\n",
      "\u001b[1m37/37\u001b[0m \u001b[32m━━━━━━━━━━━━━━━━━━━━\u001b[0m\u001b[37m\u001b[0m \u001b[1m10s\u001b[0m 251ms/step - accuracy: 0.3073 - loss: 1.0993 - precision: 0.0000e+00 - recall: 0.0000e+00 - val_accuracy: 0.3283 - val_loss: 1.0987 - val_precision: 0.0000e+00 - val_recall: 0.0000e+00\n",
      "Epoch 7/30\n",
      "\u001b[1m37/37\u001b[0m \u001b[32m━━━━━━━━━━━━━━━━━━━━\u001b[0m\u001b[37m\u001b[0m \u001b[1m8s\u001b[0m 211ms/step - accuracy: 0.3242 - loss: 1.0990 - precision: 0.0000e+00 - recall: 0.0000e+00 - val_accuracy: 0.3283 - val_loss: 1.0987 - val_precision: 0.0000e+00 - val_recall: 0.0000e+00\n",
      "Epoch 8/30\n",
      "\u001b[1m37/37\u001b[0m \u001b[32m━━━━━━━━━━━━━━━━━━━━\u001b[0m\u001b[37m\u001b[0m \u001b[1m8s\u001b[0m 215ms/step - accuracy: 0.3049 - loss: 1.0975 - precision: 0.0000e+00 - recall: 0.0000e+00 - val_accuracy: 0.3283 - val_loss: 1.0960 - val_precision: 0.0000e+00 - val_recall: 0.0000e+00\n",
      "Epoch 9/30\n",
      "\u001b[1m37/37\u001b[0m \u001b[32m━━━━━━━━━━━━━━━━━━━━\u001b[0m\u001b[37m\u001b[0m \u001b[1m8s\u001b[0m 208ms/step - accuracy: 0.3245 - loss: 1.0982 - precision: 0.0000e+00 - recall: 0.0000e+00 - val_accuracy: 0.3283 - val_loss: 1.0988 - val_precision: 0.0000e+00 - val_recall: 0.0000e+00\n",
      "Epoch 10/30\n",
      "\u001b[1m37/37\u001b[0m \u001b[32m━━━━━━━━━━━━━━━━━━━━\u001b[0m\u001b[37m\u001b[0m \u001b[1m8s\u001b[0m 210ms/step - accuracy: 0.3331 - loss: 1.0987 - precision: 0.0000e+00 - recall: 0.0000e+00 - val_accuracy: 0.3283 - val_loss: 1.0987 - val_precision: 0.0000e+00 - val_recall: 0.0000e+00\n",
      "Epoch 11/30\n",
      "\u001b[1m37/37\u001b[0m \u001b[32m━━━━━━━━━━━━━━━━━━━━\u001b[0m\u001b[37m\u001b[0m \u001b[1m8s\u001b[0m 212ms/step - accuracy: 0.3309 - loss: 1.1054 - precision: 0.1924 - recall: 0.0083 - val_accuracy: 0.3283 - val_loss: 1.0979 - val_precision: 0.0000e+00 - val_recall: 0.0000e+00\n",
      "Epoch 12/30\n",
      "\u001b[1m37/37\u001b[0m \u001b[32m━━━━━━━━━━━━━━━━━━━━\u001b[0m\u001b[37m\u001b[0m \u001b[1m8s\u001b[0m 210ms/step - accuracy: 0.3325 - loss: 1.0957 - precision: 0.0000e+00 - recall: 0.0000e+00 - val_accuracy: 0.3283 - val_loss: 1.0946 - val_precision: 0.0000e+00 - val_recall: 0.0000e+00\n",
      "Epoch 13/30\n",
      "\u001b[1m37/37\u001b[0m \u001b[32m━━━━━━━━━━━━━━━━━━━━\u001b[0m\u001b[37m\u001b[0m \u001b[1m8s\u001b[0m 212ms/step - accuracy: 0.3364 - loss: 1.0949 - precision: 0.0000e+00 - recall: 0.0000e+00 - val_accuracy: 0.3384 - val_loss: 1.0907 - val_precision: 0.0000e+00 - val_recall: 0.0000e+00\n",
      "Epoch 14/30\n",
      "\u001b[1m37/37\u001b[0m \u001b[32m━━━━━━━━━━━━━━━━━━━━\u001b[0m\u001b[37m\u001b[0m \u001b[1m8s\u001b[0m 208ms/step - accuracy: 0.3324 - loss: 1.0940 - precision: 0.0000e+00 - recall: 0.0000e+00 - val_accuracy: 0.3333 - val_loss: 1.0953 - val_precision: 0.0000e+00 - val_recall: 0.0000e+00\n",
      "Epoch 15/30\n",
      "\u001b[1m37/37\u001b[0m \u001b[32m━━━━━━━━━━━━━━━━━━━━\u001b[0m\u001b[37m\u001b[0m \u001b[1m8s\u001b[0m 211ms/step - accuracy: 0.3394 - loss: 1.0955 - precision: 0.0000e+00 - recall: 0.0000e+00 - val_accuracy: 0.3333 - val_loss: 1.0927 - val_precision: 0.0000e+00 - val_recall: 0.0000e+00\n",
      "Epoch 16/30\n",
      "\u001b[1m37/37\u001b[0m \u001b[32m━━━━━━━━━━━━━━━━━━━━\u001b[0m\u001b[37m\u001b[0m \u001b[1m8s\u001b[0m 210ms/step - accuracy: 0.3441 - loss: 1.0903 - precision: 0.0000e+00 - recall: 0.0000e+00 - val_accuracy: 0.3333 - val_loss: 1.0864 - val_precision: 0.0000e+00 - val_recall: 0.0000e+00\n",
      "Epoch 17/30\n",
      "\u001b[1m37/37\u001b[0m \u001b[32m━━━━━━━━━━━━━━━━━━━━\u001b[0m\u001b[37m\u001b[0m \u001b[1m8s\u001b[0m 210ms/step - accuracy: 0.3847 - loss: 1.0823 - precision: 0.3927 - recall: 0.0122 - val_accuracy: 0.3283 - val_loss: 1.0725 - val_precision: 0.5000 - val_recall: 0.0051\n",
      "Epoch 18/30\n",
      "\u001b[1m37/37\u001b[0m \u001b[32m━━━━━━━━━━━━━━━━━━━━\u001b[0m\u001b[37m\u001b[0m \u001b[1m8s\u001b[0m 214ms/step - accuracy: 0.4018 - loss: 1.0830 - precision: 0.5861 - recall: 0.0072 - val_accuracy: 0.4848 - val_loss: 1.0457 - val_precision: 0.5111 - val_recall: 0.2323\n",
      "Epoch 19/30\n",
      "\u001b[1m37/37\u001b[0m \u001b[32m━━━━━━━━━━━━━━━━━━━━\u001b[0m\u001b[37m\u001b[0m \u001b[1m8s\u001b[0m 211ms/step - accuracy: 0.4941 - loss: 1.0525 - precision: 0.5702 - recall: 0.1115 - val_accuracy: 0.5758 - val_loss: 0.9577 - val_precision: 0.6706 - val_recall: 0.2879\n",
      "Epoch 20/30\n",
      "\u001b[1m37/37\u001b[0m \u001b[32m━━━━━━━━━━━━━━━━━━━━\u001b[0m\u001b[37m\u001b[0m \u001b[1m8s\u001b[0m 209ms/step - accuracy: 0.5823 - loss: 0.9044 - precision: 0.6797 - recall: 0.3836 - val_accuracy: 0.6515 - val_loss: 0.9385 - val_precision: 0.7248 - val_recall: 0.3990\n",
      "Epoch 21/30\n",
      "\u001b[1m37/37\u001b[0m \u001b[32m━━━━━━━━━━━━━━━━━━━━\u001b[0m\u001b[37m\u001b[0m \u001b[1m8s\u001b[0m 209ms/step - accuracy: 0.6705 - loss: 0.7445 - precision: 0.7529 - recall: 0.5108 - val_accuracy: 0.6667 - val_loss: 1.2388 - val_precision: 0.6647 - val_recall: 0.5606\n",
      "Epoch 22/30\n",
      "\u001b[1m37/37\u001b[0m \u001b[32m━━━━━━━━━━━━━━━━━━━━\u001b[0m\u001b[37m\u001b[0m \u001b[1m8s\u001b[0m 209ms/step - accuracy: 0.7810 - loss: 0.5713 - precision: 0.8203 - recall: 0.6841 - val_accuracy: 0.7121 - val_loss: 1.0609 - val_precision: 0.7405 - val_recall: 0.6919\n",
      "Epoch 23/30\n",
      "\u001b[1m37/37\u001b[0m \u001b[32m━━━━━━━━━━━━━━━━━━━━\u001b[0m\u001b[37m\u001b[0m \u001b[1m8s\u001b[0m 214ms/step - accuracy: 0.8116 - loss: 0.4739 - precision: 0.8380 - recall: 0.7645 - val_accuracy: 0.7071 - val_loss: 1.3654 - val_precision: 0.7128 - val_recall: 0.7020\n",
      "Epoch 24/30\n",
      "\u001b[1m37/37\u001b[0m \u001b[32m━━━━━━━━━━━━━━━━━━━━\u001b[0m\u001b[37m\u001b[0m \u001b[1m8s\u001b[0m 211ms/step - accuracy: 0.8379 - loss: 0.4376 - precision: 0.8700 - recall: 0.8078 - val_accuracy: 0.7475 - val_loss: 0.9300 - val_precision: 0.7735 - val_recall: 0.7071\n",
      "Epoch 25/30\n",
      "\u001b[1m37/37\u001b[0m \u001b[32m━━━━━━━━━━━━━━━━━━━━\u001b[0m\u001b[37m\u001b[0m \u001b[1m8s\u001b[0m 209ms/step - accuracy: 0.8605 - loss: 0.3562 - precision: 0.8739 - recall: 0.8272 - val_accuracy: 0.7677 - val_loss: 1.0200 - val_precision: 0.7717 - val_recall: 0.7172\n",
      "Epoch 26/30\n",
      "\u001b[1m37/37\u001b[0m \u001b[32m━━━━━━━━━━━━━━━━━━━━\u001b[0m\u001b[37m\u001b[0m \u001b[1m8s\u001b[0m 210ms/step - accuracy: 0.8886 - loss: 0.3028 - precision: 0.9076 - recall: 0.8716 - val_accuracy: 0.7374 - val_loss: 1.1285 - val_precision: 0.7705 - val_recall: 0.7121\n",
      "Epoch 27/30\n",
      "\u001b[1m37/37\u001b[0m \u001b[32m━━━━━━━━━━━━━━━━━━━━\u001b[0m\u001b[37m\u001b[0m \u001b[1m8s\u001b[0m 215ms/step - accuracy: 0.8722 - loss: 0.3561 - precision: 0.8915 - recall: 0.8485 - val_accuracy: 0.7475 - val_loss: 1.1222 - val_precision: 0.7581 - val_recall: 0.7121\n",
      "Epoch 28/30\n",
      "\u001b[1m37/37\u001b[0m \u001b[32m━━━━━━━━━━━━━━━━━━━━\u001b[0m\u001b[37m\u001b[0m \u001b[1m8s\u001b[0m 210ms/step - accuracy: 0.9059 - loss: 0.2591 - precision: 0.9304 - recall: 0.8935 - val_accuracy: 0.7323 - val_loss: 1.2327 - val_precision: 0.7448 - val_recall: 0.7222\n",
      "Epoch 29/30\n",
      "\u001b[1m37/37\u001b[0m \u001b[32m━━━━━━━━━━━━━━━━━━━━\u001b[0m\u001b[37m\u001b[0m \u001b[1m8s\u001b[0m 207ms/step - accuracy: 0.9117 - loss: 0.2315 - precision: 0.9238 - recall: 0.9066 - val_accuracy: 0.7323 - val_loss: 1.3585 - val_precision: 0.7423 - val_recall: 0.7273\n",
      "Epoch 30/30\n",
      "\u001b[1m37/37\u001b[0m \u001b[32m━━━━━━━━━━━━━━━━━━━━\u001b[0m\u001b[37m\u001b[0m \u001b[1m8s\u001b[0m 208ms/step - accuracy: 0.9279 - loss: 0.1883 - precision: 0.9376 - recall: 0.9244 - val_accuracy: 0.7576 - val_loss: 1.3170 - val_precision: 0.7641 - val_recall: 0.7525\n",
      "Predicting on validation set...\n",
      "\u001b[1m7/7\u001b[0m \u001b[32m━━━━━━━━━━━━━━━━━━━━\u001b[0m\u001b[37m\u001b[0m \u001b[1m1s\u001b[0m 49ms/step\n",
      "Sending metrics to clearML...\n",
      "done\n"
     ]
    }
   ],
   "source": [
    "# hsv augmentation\n",
    "task_name = 'hsv'\n",
    "sub_project_name = 'HSV'\n",
    "\n",
    "augmentation_metadata = {\n",
    "        'methods': {        \n",
    "            'hsv': {\n",
    "                'parameters': {\n",
    "                    'type': 'h', # Maximum angle of rotation\n",
    "                    'shift': 20,\n",
    "                    'p': 1.0  # Probability of applying the augmentation\n",
    "                },\n",
    "                'apply_to_percentage': 0.167  # 50% of the training images\n",
    "            },\n",
    "            'hsv': {\n",
    "                'parameters': {\n",
    "                    'type': 's', # Maximum angle of rotation\n",
    "                    'shift': 30,\n",
    "                    'p': 1.0  # Probability of applying the augmentation\n",
    "                },\n",
    "                'apply_to_percentage': 0.167 # 50% of the training images\n",
    "            },\n",
    "            'hsv': {\n",
    "                'parameters': {\n",
    "                    'type': 'v', # Maximum angle of rotation\n",
    "                    'shift': 20,\n",
    "                    'p': 1.0  # Probability of applying the augmentation\n",
    "                },\n",
    "                'apply_to_percentage': 0.167  # 50% of the training images\n",
    "            }            \n",
    "        }\n",
    "    }\n",
    "\n",
    "for i in range(N):\n",
    "    RUN = i + 1\n",
    "    try:\n",
    "        print(f\"Starting RUN: {RUN}\")\n",
    "        main(RUN, augmentation_metadata, task_name, sub_project_name, epochs, train_size, w1, w2)\n",
    "    except Exception as e:\n",
    "        print(f\"Error in RUN: {RUN}\")\n",
    "        print(e)\n",
    "    finally:\n",
    "        clear_output(wait=True)  # Clear the output to avoid scrolling\n",
    "        gc.collect()  # Collect garbage to avoid memory leaks"
   ]
  },
  {
   "cell_type": "markdown",
   "metadata": {},
   "source": [
    "# Weather Conditions 2"
   ]
  },
  {
   "cell_type": "code",
   "execution_count": 4,
   "metadata": {},
   "outputs": [],
   "source": [
    "w1 = 2\n",
    "w2 = 3"
   ]
  },
  {
   "cell_type": "code",
   "execution_count": 13,
   "metadata": {},
   "outputs": [
    {
     "name": "stdout",
     "output_type": "stream",
     "text": [
      "Starting RUN: 5\n",
      "Seed:  1479368760\n"
     ]
    },
    {
     "name": "stderr",
     "output_type": "stream",
     "text": [
      "c:\\github\\Third-Year-Project\\Intruder-Aircraft-Detection\\main\\tl_clf.py:79: SettingWithCopyWarning:\n",
      "\n",
      "\n",
      "A value is trying to be set on a copy of a slice from a DataFrame.\n",
      "Try using .loc[row_indexer,col_indexer] = value instead\n",
      "\n",
      "See the caveats in the documentation: https://pandas.pydata.org/pandas-docs/stable/user_guide/indexing.html#returning-a-view-versus-a-copy\n",
      "\n",
      "c:\\github\\Third-Year-Project\\Intruder-Aircraft-Detection\\main\\tl_clf.py:80: SettingWithCopyWarning:\n",
      "\n",
      "\n",
      "A value is trying to be set on a copy of a slice from a DataFrame.\n",
      "Try using .loc[row_indexer,col_indexer] = value instead\n",
      "\n",
      "See the caveats in the documentation: https://pandas.pydata.org/pandas-docs/stable/user_guide/indexing.html#returning-a-view-versus-a-copy\n",
      "\n"
     ]
    },
    {
     "name": "stdout",
     "output_type": "stream",
     "text": [
      "Removing dataset if pre-existing\n",
      "Copying training files:\n"
     ]
    },
    {
     "name": "stderr",
     "output_type": "stream",
     "text": [
      "Copying files: 100%|██████████| 2000/2000 [00:01<00:00, 1846.24it/s]\n"
     ]
    },
    {
     "name": "stdout",
     "output_type": "stream",
     "text": [
      "Copying validation files:\n"
     ]
    },
    {
     "name": "stderr",
     "output_type": "stream",
     "text": [
      "Copying files: 100%|██████████| 400/400 [00:00<00:00, 1441.11it/s]\n"
     ]
    },
    {
     "name": "stdout",
     "output_type": "stream",
     "text": [
      "Dataset 'weather_23_1000' created at C:\\github\\Third-Year-Project\\Intruder-Aircraft-Detection\\datasets\\Custom\\weather_23_1000\n",
      "Processing train labels in weather_23_1000:\n"
     ]
    },
    {
     "name": "stderr",
     "output_type": "stream",
     "text": [
      "Processing labels: 100%|██████████| 1000/1000 [00:03<00:00, 296.96it/s]\n"
     ]
    },
    {
     "name": "stdout",
     "output_type": "stream",
     "text": [
      "Processing valid labels in weather_23_1000:\n"
     ]
    },
    {
     "name": "stderr",
     "output_type": "stream",
     "text": [
      "Processing labels: 100%|██████████| 200/200 [00:00<00:00, 277.32it/s]\n"
     ]
    },
    {
     "name": "stdout",
     "output_type": "stream",
     "text": [
      "Label correction completed.\n"
     ]
    },
    {
     "name": "stderr",
     "output_type": "stream",
     "text": [
      "Removing existing directories/files: 100%|██████████| 3/3 [00:00<00:00, 3009.55it/s]\n",
      "Copying files: 100%|██████████| 1000/1000 [00:00<00:00, 1197.23it/s]\n",
      "Copying files: 100%|██████████| 1000/1000 [00:00<00:00, 1450.96it/s]\n",
      "Applying augmentations: 100%|██████████| 500/500 [00:04<00:00, 109.77it/s]\n"
     ]
    },
    {
     "name": "stdout",
     "output_type": "stream",
     "text": [
      "An error occurred: Expected x_max for bbox (0.3556645, 0.47547049999999996, 1.0335975, 0.9274255, 1) to be in the range [0.0, 1.0], got 1.0335975.\n",
      "An error occurred: Expected y_max for bbox (0.06709400000000001, 0.82754, 0.38573199999999996, 1.0399660000000002, 2) to be in the range [0.0, 1.0], got 1.0399660000000002.\n",
      "An error occurred: Expected y_max for bbox (0.36195600000000006, 0.7324, 0.764684, 1.000886, 1) to be in the range [0.0, 1.0], got 1.000886.\n",
      "An error occurred: Expected y_min for bbox (0.05699850000000001, -0.0029215000000000213, 0.5023355, 0.2939695, 2) to be in the range [0.0, 1.0], got -0.0029215000000000213.\n"
     ]
    },
    {
     "name": "stderr",
     "output_type": "stream",
     "text": [
      "Processing images:  16%|█▋        | 163/1000 [00:06<00:22, 37.73it/s]"
     ]
    },
    {
     "name": "stdout",
     "output_type": "stream",
     "text": [
      "An error occurred with C:/github/Third-Year-Project/Intruder-Aircraft-Detection/datasets/Custom/weather_23_1000\\images\\train\\26215.jpg: Expected y_min for bbox (0.3336595, -0.0619315, 1.0472645, 0.41380550000000005, 1) to be in the range [0.0, 1.0], got -0.0619315.\n",
      "An error occurred with C:/github/Third-Year-Project/Intruder-Aircraft-Detection/datasets/Custom/weather_23_1000\\images\\train\\26227.jpg: Expected y_max for bbox (0.36195600000000006, 0.7324, 0.764684, 1.000886, 1) to be in the range [0.0, 1.0], got 1.000886.\n"
     ]
    },
    {
     "name": "stderr",
     "output_type": "stream",
     "text": [
      "Processing images:  21%|██        | 208/1000 [00:08<00:23, 34.14it/s]"
     ]
    },
    {
     "name": "stdout",
     "output_type": "stream",
     "text": [
      "An error occurred with C:/github/Third-Year-Project/Intruder-Aircraft-Detection/datasets/Custom/weather_23_1000\\images\\train\\26422.jpg: Expected x_max for bbox (0.3556645, 0.47547049999999996, 1.0335975, 0.9274255, 1) to be in the range [0.0, 1.0], got 1.0335975.\n"
     ]
    },
    {
     "name": "stderr",
     "output_type": "stream",
     "text": [
      "Processing images:  74%|███████▍  | 744/1000 [00:24<00:07, 34.75it/s]"
     ]
    },
    {
     "name": "stdout",
     "output_type": "stream",
     "text": [
      "An error occurred with C:/github/Third-Year-Project/Intruder-Aircraft-Detection/datasets/Custom/weather_23_1000\\images\\train\\50467.jpg: Expected y_max for bbox (0.06709400000000001, 0.82754, 0.38573199999999996, 1.0399660000000002, 2) to be in the range [0.0, 1.0], got 1.0399660000000002.\n"
     ]
    },
    {
     "name": "stderr",
     "output_type": "stream",
     "text": [
      "Processing images:  82%|████████▏ | 821/1000 [00:26<00:04, 36.09it/s]"
     ]
    },
    {
     "name": "stdout",
     "output_type": "stream",
     "text": [
      "An error occurred with C:/github/Third-Year-Project/Intruder-Aircraft-Detection/datasets/Custom/weather_23_1000\\images\\train\\50820.jpg: Expected y_min for bbox (0.05699850000000001, -0.0029215000000000213, 0.5023355, 0.2939695, 2) to be in the range [0.0, 1.0], got -0.0029215000000000213.\n"
     ]
    },
    {
     "name": "stderr",
     "output_type": "stream",
     "text": [
      "Processing images:  99%|█████████▉| 990/1000 [00:31<00:00, 35.95it/s]"
     ]
    },
    {
     "name": "stdout",
     "output_type": "stream",
     "text": [
      "An error occurred with C:/github/Third-Year-Project/Intruder-Aircraft-Detection/datasets/Custom/weather_23_1000\\images\\train\\51808.jpg: Expected x_min for bbox (-0.02981600000000001, 0.598216, 0.699454, 1.084396, 2) to be in the range [0.0, 1.0], got -0.02981600000000001.\n"
     ]
    },
    {
     "name": "stderr",
     "output_type": "stream",
     "text": [
      "Processing images: 100%|██████████| 1000/1000 [00:31<00:00, 31.54it/s]\n",
      "Processing images:  16%|█▌        | 238/1496 [00:10<00:34, 35.96it/s]"
     ]
    },
    {
     "name": "stdout",
     "output_type": "stream",
     "text": [
      "An error occurred with C:/github/Third-Year-Project/Intruder-Aircraft-Detection/datasets/Custom/weather_23_1000\\images\\train-aug\\26227.jpg: Expected y_max for bbox (0.36195600000000006, 0.7324, 0.764684, 1.000886, 1) to be in the range [0.0, 1.0], got 1.000886.\n",
      "An error occurred with C:/github/Third-Year-Project/Intruder-Aircraft-Detection/datasets/Custom/weather_23_1000\\images\\train-aug\\26215.jpg: Expected y_min for bbox (0.3336595, -0.0619315, 1.0472645, 0.41380550000000005, 1) to be in the range [0.0, 1.0], got -0.0619315.\n"
     ]
    },
    {
     "name": "stderr",
     "output_type": "stream",
     "text": [
      "Processing images:  21%|██        | 307/1496 [00:13<00:34, 34.48it/s]"
     ]
    },
    {
     "name": "stdout",
     "output_type": "stream",
     "text": [
      "An error occurred with C:/github/Third-Year-Project/Intruder-Aircraft-Detection/datasets/Custom/weather_23_1000\\images\\train-aug\\26422.jpg: Expected x_max for bbox (0.3556645, 0.47547049999999996, 1.0335975, 0.9274255, 1) to be in the range [0.0, 1.0], got 1.0335975.\n"
     ]
    },
    {
     "name": "stderr",
     "output_type": "stream",
     "text": [
      "Processing images:  75%|███████▍  | 1116/1496 [00:37<00:11, 33.21it/s]"
     ]
    },
    {
     "name": "stdout",
     "output_type": "stream",
     "text": [
      "An error occurred with C:/github/Third-Year-Project/Intruder-Aircraft-Detection/datasets/Custom/weather_23_1000\\images\\train-aug\\50467.jpg: Expected y_max for bbox (0.06709400000000001, 0.82754, 0.38573199999999996, 1.0399660000000002, 2) to be in the range [0.0, 1.0], got 1.0399660000000002.\n"
     ]
    },
    {
     "name": "stderr",
     "output_type": "stream",
     "text": [
      "Processing images:  81%|████████▏ | 1217/1496 [00:40<00:07, 36.29it/s]"
     ]
    },
    {
     "name": "stdout",
     "output_type": "stream",
     "text": [
      "An error occurred with C:/github/Third-Year-Project/Intruder-Aircraft-Detection/datasets/Custom/weather_23_1000\\images\\train-aug\\50820.jpg: Expected y_min for bbox (0.05699850000000001, -0.0029215000000000213, 0.5023355, 0.2939695, 2) to be in the range [0.0, 1.0], got -0.0029215000000000213.\n"
     ]
    },
    {
     "name": "stderr",
     "output_type": "stream",
     "text": [
      "Processing images:  99%|█████████▉| 1478/1496 [00:47<00:00, 34.66it/s]"
     ]
    },
    {
     "name": "stdout",
     "output_type": "stream",
     "text": [
      "An error occurred with C:/github/Third-Year-Project/Intruder-Aircraft-Detection/datasets/Custom/weather_23_1000\\images\\train-aug\\51808.jpg: Expected x_min for bbox (-0.02981600000000001, 0.598216, 0.699454, 1.084396, 2) to be in the range [0.0, 1.0], got -0.02981600000000001.\n"
     ]
    },
    {
     "name": "stderr",
     "output_type": "stream",
     "text": [
      "Processing images: 100%|██████████| 1496/1496 [00:48<00:00, 30.82it/s]\n",
      "Processing images:  35%|███▌      | 70/200 [00:02<00:03, 36.97it/s]"
     ]
    },
    {
     "name": "stdout",
     "output_type": "stream",
     "text": [
      "An error occurred with C:/github/Third-Year-Project/Intruder-Aircraft-Detection/datasets/Custom/weather_23_1000\\images\\valid\\26999.jpg: Expected x_min for bbox (-0.1462135, 0.3244429999999999, 0.7076735, 0.893701, 1) to be in the range [0.0, 1.0], got -0.1462135.\n"
     ]
    },
    {
     "name": "stderr",
     "output_type": "stream",
     "text": [
      "Processing images:  84%|████████▎ | 167/200 [00:05<00:00, 37.09it/s]"
     ]
    },
    {
     "name": "stdout",
     "output_type": "stream",
     "text": [
      "An error occurred with C:/github/Third-Year-Project/Intruder-Aircraft-Detection/datasets/Custom/weather_23_1000\\images\\valid\\50955.jpg: Expected x_min for bbox (-0.021672000000000025, 0.2856885, 0.507494, 0.6384655, 2) to be in the range [0.0, 1.0], got -0.021672000000000025.\n"
     ]
    },
    {
     "name": "stderr",
     "output_type": "stream",
     "text": [
      "Processing images: 100%|██████████| 200/200 [00:06<00:00, 31.44it/s]\n",
      "Moving images in train: 100%|██████████| 994/994 [00:03<00:00, 271.62it/s]\n",
      "Moving images in train-aug: 100%|██████████| 1490/1490 [00:04<00:00, 323.31it/s]\n",
      "Moving images in valid: 100%|██████████| 198/198 [00:00<00:00, 275.05it/s]\n"
     ]
    },
    {
     "name": "stdout",
     "output_type": "stream",
     "text": [
      "Found 994 files belonging to 3 classes.\n",
      "Found 1490 files belonging to 3 classes.\n",
      "Found 198 files belonging to 3 classes.\n",
      "ClearML Task: created new task id=e0849ee15073406e831a0ff60f4acb15\n",
      "ClearML results page: https://app.clear.ml/projects/b821b00eea6c40f7ade2438a3842e411/experiments/e0849ee15073406e831a0ff60f4acb15/output/log\n",
      "Training model...\n",
      "Epoch 1/30\n",
      "\u001b[1m32/32\u001b[0m \u001b[32m━━━━━━━━━━━━━━━━━━━━\u001b[0m\u001b[37m\u001b[0m \u001b[1m10s\u001b[0m 259ms/step - accuracy: 0.3484 - loss: 1.8675 - precision: 0.3088 - recall: 0.1546 - val_accuracy: 0.3283 - val_loss: 1.1598 - val_precision: 0.3304 - val_recall: 0.1919\n",
      "Epoch 2/30\n",
      "\u001b[1m32/32\u001b[0m \u001b[32m━━━━━━━━━━━━━━━━━━━━\u001b[0m\u001b[37m\u001b[0m \u001b[1m7s\u001b[0m 211ms/step - accuracy: 0.3266 - loss: 1.1317 - precision: 0.3615 - recall: 0.0916 - val_accuracy: 0.3333 - val_loss: 1.0986 - val_precision: 0.0000e+00 - val_recall: 0.0000e+00\n",
      "Epoch 3/30\n",
      "\u001b[1m32/32\u001b[0m \u001b[32m━━━━━━━━━━━━━━━━━━━━\u001b[0m\u001b[37m\u001b[0m \u001b[1m7s\u001b[0m 215ms/step - accuracy: 0.3320 - loss: 1.0987 - precision: 0.0000e+00 - recall: 0.0000e+00 - val_accuracy: 0.3333 - val_loss: 1.0986 - val_precision: 0.0000e+00 - val_recall: 0.0000e+00\n",
      "Epoch 4/30\n",
      "\u001b[1m32/32\u001b[0m \u001b[32m━━━━━━━━━━━━━━━━━━━━\u001b[0m\u001b[37m\u001b[0m \u001b[1m7s\u001b[0m 210ms/step - accuracy: 0.3310 - loss: 1.0987 - precision: 0.0000e+00 - recall: 0.0000e+00 - val_accuracy: 0.3333 - val_loss: 1.0986 - val_precision: 0.0000e+00 - val_recall: 0.0000e+00\n",
      "Epoch 5/30\n",
      "\u001b[1m32/32\u001b[0m \u001b[32m━━━━━━━━━━━━━━━━━━━━\u001b[0m\u001b[37m\u001b[0m \u001b[1m7s\u001b[0m 211ms/step - accuracy: 0.3345 - loss: 1.0987 - precision: 0.0000e+00 - recall: 0.0000e+00 - val_accuracy: 0.3333 - val_loss: 1.0987 - val_precision: 0.0000e+00 - val_recall: 0.0000e+00\n",
      "Epoch 6/30\n",
      "\u001b[1m32/32\u001b[0m \u001b[32m━━━━━━━━━━━━━━━━━━━━\u001b[0m\u001b[37m\u001b[0m \u001b[1m7s\u001b[0m 220ms/step - accuracy: 0.3075 - loss: 1.0990 - precision: 0.0000e+00 - recall: 0.0000e+00 - val_accuracy: 0.3283 - val_loss: 1.0987 - val_precision: 0.0000e+00 - val_recall: 0.0000e+00\n",
      "Epoch 7/30\n",
      "\u001b[1m32/32\u001b[0m \u001b[32m━━━━━━━━━━━━━━━━━━━━\u001b[0m\u001b[37m\u001b[0m \u001b[1m8s\u001b[0m 254ms/step - accuracy: 0.3372 - loss: 1.0986 - precision: 0.0000e+00 - recall: 0.0000e+00 - val_accuracy: 0.3283 - val_loss: 1.0986 - val_precision: 0.0000e+00 - val_recall: 0.0000e+00\n",
      "Epoch 8/30\n",
      "\u001b[1m32/32\u001b[0m \u001b[32m━━━━━━━━━━━━━━━━━━━━\u001b[0m\u001b[37m\u001b[0m \u001b[1m7s\u001b[0m 210ms/step - accuracy: 0.3342 - loss: 1.0987 - precision: 0.0000e+00 - recall: 0.0000e+00 - val_accuracy: 0.3384 - val_loss: 1.0986 - val_precision: 0.0000e+00 - val_recall: 0.0000e+00\n",
      "Epoch 9/30\n",
      "\u001b[1m32/32\u001b[0m \u001b[32m━━━━━━━━━━━━━━━━━━━━\u001b[0m\u001b[37m\u001b[0m \u001b[1m7s\u001b[0m 211ms/step - accuracy: 0.3498 - loss: 1.0985 - precision: 0.0000e+00 - recall: 0.0000e+00 - val_accuracy: 0.3384 - val_loss: 1.0985 - val_precision: 0.0000e+00 - val_recall: 0.0000e+00\n",
      "Epoch 10/30\n",
      "\u001b[1m32/32\u001b[0m \u001b[32m━━━━━━━━━━━━━━━━━━━━\u001b[0m\u001b[37m\u001b[0m \u001b[1m7s\u001b[0m 214ms/step - accuracy: 0.3415 - loss: 1.0985 - precision: 0.0000e+00 - recall: 0.0000e+00 - val_accuracy: 0.3384 - val_loss: 1.0985 - val_precision: 0.0000e+00 - val_recall: 0.0000e+00\n",
      "Epoch 11/30\n",
      "\u001b[1m32/32\u001b[0m \u001b[32m━━━━━━━━━━━━━━━━━━━━\u001b[0m\u001b[37m\u001b[0m \u001b[1m7s\u001b[0m 206ms/step - accuracy: 0.3455 - loss: 1.0986 - precision: 0.0000e+00 - recall: 0.0000e+00 - val_accuracy: 0.3384 - val_loss: 1.0985 - val_precision: 0.0000e+00 - val_recall: 0.0000e+00\n",
      "Epoch 12/30\n",
      "\u001b[1m32/32\u001b[0m \u001b[32m━━━━━━━━━━━━━━━━━━━━\u001b[0m\u001b[37m\u001b[0m \u001b[1m7s\u001b[0m 210ms/step - accuracy: 0.3415 - loss: 1.0985 - precision: 0.0000e+00 - recall: 0.0000e+00 - val_accuracy: 0.3384 - val_loss: 1.0985 - val_precision: 0.0000e+00 - val_recall: 0.0000e+00\n",
      "Epoch 13/30\n",
      "\u001b[1m32/32\u001b[0m \u001b[32m━━━━━━━━━━━━━━━━━━━━\u001b[0m\u001b[37m\u001b[0m \u001b[1m7s\u001b[0m 210ms/step - accuracy: 0.3556 - loss: 1.0981 - precision: 0.0000e+00 - recall: 0.0000e+00 - val_accuracy: 0.3384 - val_loss: 1.0985 - val_precision: 0.0000e+00 - val_recall: 0.0000e+00\n",
      "Epoch 14/30\n",
      "\u001b[1m32/32\u001b[0m \u001b[32m━━━━━━━━━━━━━━━━━━━━\u001b[0m\u001b[37m\u001b[0m \u001b[1m7s\u001b[0m 211ms/step - accuracy: 0.3496 - loss: 1.0983 - precision: 0.0000e+00 - recall: 0.0000e+00 - val_accuracy: 0.3384 - val_loss: 1.0985 - val_precision: 0.0000e+00 - val_recall: 0.0000e+00\n",
      "Epoch 15/30\n",
      "\u001b[1m32/32\u001b[0m \u001b[32m━━━━━━━━━━━━━━━━━━━━\u001b[0m\u001b[37m\u001b[0m \u001b[1m7s\u001b[0m 213ms/step - accuracy: 0.3458 - loss: 1.0986 - precision: 0.0000e+00 - recall: 0.0000e+00 - val_accuracy: 0.3384 - val_loss: 1.0985 - val_precision: 0.0000e+00 - val_recall: 0.0000e+00\n",
      "Epoch 16/30\n",
      "\u001b[1m32/32\u001b[0m \u001b[32m━━━━━━━━━━━━━━━━━━━━\u001b[0m\u001b[37m\u001b[0m \u001b[1m7s\u001b[0m 210ms/step - accuracy: 0.3529 - loss: 1.0984 - precision: 0.0000e+00 - recall: 0.0000e+00 - val_accuracy: 0.3283 - val_loss: 1.0985 - val_precision: 0.0000e+00 - val_recall: 0.0000e+00\n",
      "Epoch 17/30\n",
      "\u001b[1m32/32\u001b[0m \u001b[32m━━━━━━━━━━━━━━━━━━━━\u001b[0m\u001b[37m\u001b[0m \u001b[1m7s\u001b[0m 213ms/step - accuracy: 0.3457 - loss: 1.0987 - precision: 0.0000e+00 - recall: 0.0000e+00 - val_accuracy: 0.3535 - val_loss: 1.0980 - val_precision: 0.0000e+00 - val_recall: 0.0000e+00\n",
      "Epoch 18/30\n",
      "\u001b[1m32/32\u001b[0m \u001b[32m━━━━━━━━━━━━━━━━━━━━\u001b[0m\u001b[37m\u001b[0m \u001b[1m7s\u001b[0m 210ms/step - accuracy: 0.3583 - loss: 1.0984 - precision: 0.0000e+00 - recall: 0.0000e+00 - val_accuracy: 0.3384 - val_loss: 1.0983 - val_precision: 0.0000e+00 - val_recall: 0.0000e+00\n",
      "Epoch 19/30\n",
      "\u001b[1m32/32\u001b[0m \u001b[32m━━━━━━━━━━━━━━━━━━━━\u001b[0m\u001b[37m\u001b[0m \u001b[1m7s\u001b[0m 207ms/step - accuracy: 0.3432 - loss: 1.0984 - precision: 0.0000e+00 - recall: 0.0000e+00 - val_accuracy: 0.3384 - val_loss: 1.0983 - val_precision: 0.0000e+00 - val_recall: 0.0000e+00\n",
      "Epoch 20/30\n",
      "\u001b[1m32/32\u001b[0m \u001b[32m━━━━━━━━━━━━━━━━━━━━\u001b[0m\u001b[37m\u001b[0m \u001b[1m7s\u001b[0m 212ms/step - accuracy: 0.3388 - loss: 1.0985 - precision: 0.0000e+00 - recall: 0.0000e+00 - val_accuracy: 0.3384 - val_loss: 1.0984 - val_precision: 0.0000e+00 - val_recall: 0.0000e+00\n",
      "Epoch 21/30\n",
      "\u001b[1m32/32\u001b[0m \u001b[32m━━━━━━━━━━━━━━━━━━━━\u001b[0m\u001b[37m\u001b[0m \u001b[1m7s\u001b[0m 208ms/step - accuracy: 0.3402 - loss: 1.0987 - precision: 0.0000e+00 - recall: 0.0000e+00 - val_accuracy: 0.3384 - val_loss: 1.0982 - val_precision: 0.0000e+00 - val_recall: 0.0000e+00\n",
      "Epoch 22/30\n",
      "\u001b[1m32/32\u001b[0m \u001b[32m━━━━━━━━━━━━━━━━━━━━\u001b[0m\u001b[37m\u001b[0m \u001b[1m7s\u001b[0m 218ms/step - accuracy: 0.3396 - loss: 1.0986 - precision: 0.0000e+00 - recall: 0.0000e+00 - val_accuracy: 0.3384 - val_loss: 1.0981 - val_precision: 0.0000e+00 - val_recall: 0.0000e+00\n",
      "Epoch 23/30\n",
      "\u001b[1m32/32\u001b[0m \u001b[32m━━━━━━━━━━━━━━━━━━━━\u001b[0m\u001b[37m\u001b[0m \u001b[1m7s\u001b[0m 210ms/step - accuracy: 0.3418 - loss: 1.0977 - precision: 0.0000e+00 - recall: 0.0000e+00 - val_accuracy: 0.3182 - val_loss: 1.0983 - val_precision: 0.0000e+00 - val_recall: 0.0000e+00\n",
      "Epoch 24/30\n",
      "\u001b[1m32/32\u001b[0m \u001b[32m━━━━━━━━━━━━━━━━━━━━\u001b[0m\u001b[37m\u001b[0m \u001b[1m7s\u001b[0m 212ms/step - accuracy: 0.3569 - loss: 1.0975 - precision: 0.0000e+00 - recall: 0.0000e+00 - val_accuracy: 0.3283 - val_loss: 1.0986 - val_precision: 0.0000e+00 - val_recall: 0.0000e+00\n",
      "Epoch 25/30\n",
      "\u001b[1m32/32\u001b[0m \u001b[32m━━━━━━━━━━━━━━━━━━━━\u001b[0m\u001b[37m\u001b[0m \u001b[1m7s\u001b[0m 209ms/step - accuracy: 0.3141 - loss: 1.0988 - precision: 0.0000e+00 - recall: 0.0000e+00 - val_accuracy: 0.3283 - val_loss: 1.0987 - val_precision: 0.0000e+00 - val_recall: 0.0000e+00\n",
      "Epoch 26/30\n",
      "\u001b[1m32/32\u001b[0m \u001b[32m━━━━━━━━━━━━━━━━━━━━\u001b[0m\u001b[37m\u001b[0m \u001b[1m7s\u001b[0m 213ms/step - accuracy: 0.3198 - loss: 1.0988 - precision: 0.0000e+00 - recall: 0.0000e+00 - val_accuracy: 0.3283 - val_loss: 1.0987 - val_precision: 0.0000e+00 - val_recall: 0.0000e+00\n",
      "Epoch 27/30\n",
      "\u001b[1m32/32\u001b[0m \u001b[32m━━━━━━━━━━━━━━━━━━━━\u001b[0m\u001b[37m\u001b[0m \u001b[1m7s\u001b[0m 214ms/step - accuracy: 0.3181 - loss: 1.0988 - precision: 0.0000e+00 - recall: 0.0000e+00 - val_accuracy: 0.3283 - val_loss: 1.0987 - val_precision: 0.0000e+00 - val_recall: 0.0000e+00\n",
      "Epoch 28/30\n",
      "\u001b[1m32/32\u001b[0m \u001b[32m━━━━━━━━━━━━━━━━━━━━\u001b[0m\u001b[37m\u001b[0m \u001b[1m7s\u001b[0m 211ms/step - accuracy: 0.3237 - loss: 1.0990 - precision: 0.0000e+00 - recall: 0.0000e+00 - val_accuracy: 0.3283 - val_loss: 1.0987 - val_precision: 0.0000e+00 - val_recall: 0.0000e+00\n",
      "Epoch 29/30\n",
      "\u001b[1m32/32\u001b[0m \u001b[32m━━━━━━━━━━━━━━━━━━━━\u001b[0m\u001b[37m\u001b[0m \u001b[1m7s\u001b[0m 208ms/step - accuracy: 0.3238 - loss: 1.0999 - precision: 0.0000e+00 - recall: 0.0000e+00 - val_accuracy: 0.3384 - val_loss: 1.0986 - val_precision: 0.0000e+00 - val_recall: 0.0000e+00\n",
      "Epoch 30/30\n",
      "\u001b[1m32/32\u001b[0m \u001b[32m━━━━━━━━━━━━━━━━━━━━\u001b[0m\u001b[37m\u001b[0m \u001b[1m7s\u001b[0m 210ms/step - accuracy: 0.3520 - loss: 1.0988 - precision: 0.0000e+00 - recall: 0.0000e+00 - val_accuracy: 0.3384 - val_loss: 1.0985 - val_precision: 0.0000e+00 - val_recall: 0.0000e+00\n",
      "Predicting on validation set...\n",
      "\u001b[1m7/7\u001b[0m \u001b[32m━━━━━━━━━━━━━━━━━━━━\u001b[0m\u001b[37m\u001b[0m \u001b[1m1s\u001b[0m 53ms/step\n"
     ]
    },
    {
     "name": "stderr",
     "output_type": "stream",
     "text": [
      "c:\\Users\\tomev\\anaconda3\\envs\\tf-cpu\\Lib\\site-packages\\sklearn\\metrics\\_classification.py:1344: UndefinedMetricWarning:\n",
      "\n",
      "Precision and F-score are ill-defined and being set to 0.0 in labels with no predicted samples. Use `zero_division` parameter to control this behavior.\n",
      "\n",
      "c:\\Users\\tomev\\anaconda3\\envs\\tf-cpu\\Lib\\site-packages\\sklearn\\metrics\\_classification.py:1344: UndefinedMetricWarning:\n",
      "\n",
      "Precision and F-score are ill-defined and being set to 0.0 in labels with no predicted samples. Use `zero_division` parameter to control this behavior.\n",
      "\n",
      "c:\\Users\\tomev\\anaconda3\\envs\\tf-cpu\\Lib\\site-packages\\sklearn\\metrics\\_classification.py:1344: UndefinedMetricWarning:\n",
      "\n",
      "Precision and F-score are ill-defined and being set to 0.0 in labels with no predicted samples. Use `zero_division` parameter to control this behavior.\n",
      "\n"
     ]
    },
    {
     "name": "stdout",
     "output_type": "stream",
     "text": [
      "Sending metrics to clearML...\n",
      "done\n",
      "ClearML Task: created new task id=02bf53623f74431686c0332dad91806a\n",
      "ClearML results page: https://app.clear.ml/projects/b821b00eea6c40f7ade2438a3842e411/experiments/02bf53623f74431686c0332dad91806a/output/log\n",
      "Training model...\n",
      "Epoch 1/30\n",
      "\u001b[1m47/47\u001b[0m \u001b[32m━━━━━━━━━━━━━━━━━━━━\u001b[0m\u001b[37m\u001b[0m \u001b[1m14s\u001b[0m 254ms/step - accuracy: 0.3205 - loss: 2.0987 - precision: 0.3064 - recall: 0.1076 - val_accuracy: 0.3333 - val_loss: 1.1062 - val_precision: 0.0000e+00 - val_recall: 0.0000e+00\n",
      "Epoch 2/30\n",
      "\u001b[1m47/47\u001b[0m \u001b[32m━━━━━━━━━━━━━━━━━━━━\u001b[0m\u001b[37m\u001b[0m \u001b[1m10s\u001b[0m 210ms/step - accuracy: 0.3153 - loss: 1.1012 - precision: 0.0000e+00 - recall: 0.0000e+00 - val_accuracy: 0.3384 - val_loss: 1.0985 - val_precision: 0.0000e+00 - val_recall: 0.0000e+00\n",
      "Epoch 3/30\n",
      "\u001b[1m47/47\u001b[0m \u001b[32m━━━━━━━━━━━━━━━━━━━━\u001b[0m\u001b[37m\u001b[0m \u001b[1m10s\u001b[0m 211ms/step - accuracy: 0.3327 - loss: 1.0987 - precision: 0.0000e+00 - recall: 0.0000e+00 - val_accuracy: 0.4747 - val_loss: 1.0967 - val_precision: 0.0000e+00 - val_recall: 0.0000e+00\n",
      "Epoch 4/30\n",
      "\u001b[1m47/47\u001b[0m \u001b[32m━━━━━━━━━━━━━━━━━━━━\u001b[0m\u001b[37m\u001b[0m \u001b[1m10s\u001b[0m 207ms/step - accuracy: 0.3862 - loss: 1.0965 - precision: 0.0000e+00 - recall: 0.0000e+00 - val_accuracy: 0.3788 - val_loss: 1.0627 - val_precision: 0.0000e+00 - val_recall: 0.0000e+00\n",
      "Epoch 5/30\n",
      "\u001b[1m47/47\u001b[0m \u001b[32m━━━━━━━━━━━━━━━━━━━━\u001b[0m\u001b[37m\u001b[0m \u001b[1m12s\u001b[0m 248ms/step - accuracy: 0.4565 - loss: 1.0622 - precision: 0.6492 - recall: 0.0334 - val_accuracy: 0.5707 - val_loss: 0.9217 - val_precision: 0.6733 - val_recall: 0.3434\n",
      "Epoch 6/30\n",
      "\u001b[1m47/47\u001b[0m \u001b[32m━━━━━━━━━━━━━━━━━━━━\u001b[0m\u001b[37m\u001b[0m \u001b[1m10s\u001b[0m 213ms/step - accuracy: 0.5382 - loss: 1.0082 - precision: 0.6573 - recall: 0.2025 - val_accuracy: 0.6717 - val_loss: 0.8173 - val_precision: 0.7398 - val_recall: 0.4596\n",
      "Epoch 7/30\n",
      "\u001b[1m47/47\u001b[0m \u001b[32m━━━━━━━━━━━━━━━━━━━━\u001b[0m\u001b[37m\u001b[0m \u001b[1m10s\u001b[0m 209ms/step - accuracy: 0.6643 - loss: 0.8370 - precision: 0.7369 - recall: 0.4198 - val_accuracy: 0.6970 - val_loss: 0.7044 - val_precision: 0.7468 - val_recall: 0.5960\n",
      "Epoch 8/30\n",
      "\u001b[1m47/47\u001b[0m \u001b[32m━━━━━━━━━━━━━━━━━━━━\u001b[0m\u001b[37m\u001b[0m \u001b[1m10s\u001b[0m 213ms/step - accuracy: 0.6771 - loss: 0.7462 - precision: 0.7467 - recall: 0.5578 - val_accuracy: 0.4343 - val_loss: 1.0565 - val_precision: 0.8750 - val_recall: 0.0354\n",
      "Epoch 9/30\n",
      "\u001b[1m47/47\u001b[0m \u001b[32m━━━━━━━━━━━━━━━━━━━━\u001b[0m\u001b[37m\u001b[0m \u001b[1m10s\u001b[0m 212ms/step - accuracy: 0.4892 - loss: 0.9985 - precision: 0.6641 - recall: 0.1539 - val_accuracy: 0.6162 - val_loss: 0.7777 - val_precision: 0.7347 - val_recall: 0.5455\n",
      "Epoch 10/30\n",
      "\u001b[1m47/47\u001b[0m \u001b[32m━━━━━━━━━━━━━━━━━━━━\u001b[0m\u001b[37m\u001b[0m \u001b[1m10s\u001b[0m 207ms/step - accuracy: 0.6850 - loss: 0.7548 - precision: 0.7556 - recall: 0.5096 - val_accuracy: 0.7677 - val_loss: 0.6298 - val_precision: 0.8095 - val_recall: 0.6869\n",
      "Epoch 11/30\n",
      "\u001b[1m47/47\u001b[0m \u001b[32m━━━━━━━━━━━━━━━━━━━━\u001b[0m\u001b[37m\u001b[0m \u001b[1m10s\u001b[0m 208ms/step - accuracy: 0.7282 - loss: 0.6367 - precision: 0.7831 - recall: 0.6499 - val_accuracy: 0.7980 - val_loss: 0.6320 - val_precision: 0.8021 - val_recall: 0.7576\n",
      "Epoch 12/30\n",
      "\u001b[1m47/47\u001b[0m \u001b[32m━━━━━━━━━━━━━━━━━━━━\u001b[0m\u001b[37m\u001b[0m \u001b[1m10s\u001b[0m 216ms/step - accuracy: 0.7839 - loss: 0.5403 - precision: 0.8027 - recall: 0.7350 - val_accuracy: 0.7879 - val_loss: 0.6120 - val_precision: 0.8022 - val_recall: 0.7374\n",
      "Epoch 13/30\n",
      "\u001b[1m47/47\u001b[0m \u001b[32m━━━━━━━━━━━━━━━━━━━━\u001b[0m\u001b[37m\u001b[0m \u001b[1m10s\u001b[0m 208ms/step - accuracy: 0.7993 - loss: 0.4866 - precision: 0.8314 - recall: 0.7630 - val_accuracy: 0.7727 - val_loss: 0.6324 - val_precision: 0.7842 - val_recall: 0.7525\n",
      "Epoch 14/30\n",
      "\u001b[1m47/47\u001b[0m \u001b[32m━━━━━━━━━━━━━━━━━━━━\u001b[0m\u001b[37m\u001b[0m \u001b[1m10s\u001b[0m 208ms/step - accuracy: 0.8094 - loss: 0.4546 - precision: 0.8338 - recall: 0.7794 - val_accuracy: 0.8030 - val_loss: 0.5844 - val_precision: 0.8220 - val_recall: 0.7929\n",
      "Epoch 15/30\n",
      "\u001b[1m47/47\u001b[0m \u001b[32m━━━━━━━━━━━━━━━━━━━━\u001b[0m\u001b[37m\u001b[0m \u001b[1m10s\u001b[0m 211ms/step - accuracy: 0.8209 - loss: 0.4202 - precision: 0.8442 - recall: 0.7907 - val_accuracy: 0.7828 - val_loss: 0.6591 - val_precision: 0.7947 - val_recall: 0.7626\n",
      "Epoch 16/30\n",
      "\u001b[1m47/47\u001b[0m \u001b[32m━━━━━━━━━━━━━━━━━━━━\u001b[0m\u001b[37m\u001b[0m \u001b[1m10s\u001b[0m 211ms/step - accuracy: 0.8448 - loss: 0.4058 - precision: 0.8581 - recall: 0.8295 - val_accuracy: 0.7980 - val_loss: 0.6536 - val_precision: 0.8000 - val_recall: 0.7879\n",
      "Epoch 17/30\n",
      "\u001b[1m47/47\u001b[0m \u001b[32m━━━━━━━━━━━━━━━━━━━━\u001b[0m\u001b[37m\u001b[0m \u001b[1m10s\u001b[0m 213ms/step - accuracy: 0.8531 - loss: 0.3793 - precision: 0.8678 - recall: 0.8409 - val_accuracy: 0.8131 - val_loss: 0.6403 - val_precision: 0.8187 - val_recall: 0.7980\n",
      "Epoch 18/30\n",
      "\u001b[1m47/47\u001b[0m \u001b[32m━━━━━━━━━━━━━━━━━━━━\u001b[0m\u001b[37m\u001b[0m \u001b[1m10s\u001b[0m 215ms/step - accuracy: 0.8461 - loss: 0.3479 - precision: 0.8580 - recall: 0.8323 - val_accuracy: 0.8030 - val_loss: 0.6197 - val_precision: 0.8154 - val_recall: 0.8030\n",
      "Epoch 19/30\n",
      "\u001b[1m47/47\u001b[0m \u001b[32m━━━━━━━━━━━━━━━━━━━━\u001b[0m\u001b[37m\u001b[0m \u001b[1m10s\u001b[0m 212ms/step - accuracy: 0.8658 - loss: 0.3332 - precision: 0.8762 - recall: 0.8533 - val_accuracy: 0.8182 - val_loss: 0.6367 - val_precision: 0.8214 - val_recall: 0.8131\n",
      "Epoch 20/30\n",
      "\u001b[1m47/47\u001b[0m \u001b[32m━━━━━━━━━━━━━━━━━━━━\u001b[0m\u001b[37m\u001b[0m \u001b[1m10s\u001b[0m 208ms/step - accuracy: 0.8685 - loss: 0.3105 - precision: 0.8891 - recall: 0.8606 - val_accuracy: 0.8232 - val_loss: 0.6951 - val_precision: 0.8223 - val_recall: 0.8182\n",
      "Epoch 21/30\n",
      "\u001b[1m47/47\u001b[0m \u001b[32m━━━━━━━━━━━━━━━━━━━━\u001b[0m\u001b[37m\u001b[0m \u001b[1m10s\u001b[0m 213ms/step - accuracy: 0.8747 - loss: 0.3166 - precision: 0.8879 - recall: 0.8612 - val_accuracy: 0.8081 - val_loss: 0.6755 - val_precision: 0.8105 - val_recall: 0.7778\n",
      "Epoch 22/30\n",
      "\u001b[1m47/47\u001b[0m \u001b[32m━━━━━━━━━━━━━━━━━━━━\u001b[0m\u001b[37m\u001b[0m \u001b[1m10s\u001b[0m 211ms/step - accuracy: 0.8915 - loss: 0.3070 - precision: 0.8972 - recall: 0.8690 - val_accuracy: 0.8030 - val_loss: 0.7582 - val_precision: 0.8187 - val_recall: 0.7980\n",
      "Epoch 23/30\n",
      "\u001b[1m47/47\u001b[0m \u001b[32m━━━━━━━━━━━━━━━━━━━━\u001b[0m\u001b[37m\u001b[0m \u001b[1m10s\u001b[0m 210ms/step - accuracy: 0.8782 - loss: 0.2953 - precision: 0.8935 - recall: 0.8559 - val_accuracy: 0.7980 - val_loss: 0.6936 - val_precision: 0.8093 - val_recall: 0.7929\n",
      "Epoch 24/30\n",
      "\u001b[1m47/47\u001b[0m \u001b[32m━━━━━━━━━━━━━━━━━━━━\u001b[0m\u001b[37m\u001b[0m \u001b[1m10s\u001b[0m 210ms/step - accuracy: 0.8738 - loss: 0.2921 - precision: 0.8901 - recall: 0.8606 - val_accuracy: 0.8030 - val_loss: 0.7490 - val_precision: 0.8182 - val_recall: 0.7727\n",
      "Epoch 25/30\n",
      "\u001b[1m47/47\u001b[0m \u001b[32m━━━━━━━━━━━━━━━━━━━━\u001b[0m\u001b[37m\u001b[0m \u001b[1m10s\u001b[0m 215ms/step - accuracy: 0.8899 - loss: 0.2746 - precision: 0.8998 - recall: 0.8769 - val_accuracy: 0.8081 - val_loss: 0.7682 - val_precision: 0.8122 - val_recall: 0.8081\n",
      "Epoch 26/30\n",
      "\u001b[1m47/47\u001b[0m \u001b[32m━━━━━━━━━━━━━━━━━━━━\u001b[0m\u001b[37m\u001b[0m \u001b[1m10s\u001b[0m 208ms/step - accuracy: 0.8956 - loss: 0.2456 - precision: 0.9014 - recall: 0.8886 - val_accuracy: 0.7980 - val_loss: 0.7644 - val_precision: 0.8135 - val_recall: 0.7929\n",
      "Epoch 27/30\n",
      "\u001b[1m47/47\u001b[0m \u001b[32m━━━━━━━━━━━━━━━━━━━━\u001b[0m\u001b[37m\u001b[0m \u001b[1m10s\u001b[0m 209ms/step - accuracy: 0.9183 - loss: 0.2211 - precision: 0.9294 - recall: 0.9100 - val_accuracy: 0.8030 - val_loss: 0.8024 - val_precision: 0.8061 - val_recall: 0.7980\n",
      "Epoch 28/30\n",
      "\u001b[1m47/47\u001b[0m \u001b[32m━━━━━━━━━━━━━━━━━━━━\u001b[0m\u001b[37m\u001b[0m \u001b[1m10s\u001b[0m 211ms/step - accuracy: 0.8876 - loss: 0.2467 - precision: 0.8976 - recall: 0.8816 - val_accuracy: 0.8434 - val_loss: 0.7607 - val_precision: 0.8520 - val_recall: 0.8434\n",
      "Epoch 29/30\n",
      "\u001b[1m47/47\u001b[0m \u001b[32m━━━━━━━━━━━━━━━━━━━━\u001b[0m\u001b[37m\u001b[0m \u001b[1m10s\u001b[0m 215ms/step - accuracy: 0.9245 - loss: 0.2041 - precision: 0.9299 - recall: 0.9182 - val_accuracy: 0.8384 - val_loss: 0.7429 - val_precision: 0.8426 - val_recall: 0.8384\n",
      "Epoch 30/30\n",
      "\u001b[1m47/47\u001b[0m \u001b[32m━━━━━━━━━━━━━━━━━━━━\u001b[0m\u001b[37m\u001b[0m \u001b[1m10s\u001b[0m 211ms/step - accuracy: 0.9131 - loss: 0.2084 - precision: 0.9223 - recall: 0.9091 - val_accuracy: 0.8283 - val_loss: 0.7562 - val_precision: 0.8265 - val_recall: 0.8182\n",
      "Predicting on validation set...\n",
      "\u001b[1m7/7\u001b[0m \u001b[32m━━━━━━━━━━━━━━━━━━━━\u001b[0m\u001b[37m\u001b[0m \u001b[1m1s\u001b[0m 54ms/step\n",
      "Sending metrics to clearML...\n",
      "done\n"
     ]
    }
   ],
   "source": [
    "# Horizontal flip augmentation\n",
    "\n",
    "task_name = 'hf'\n",
    "sub_project_name = 'H_FLIP'\n",
    "\n",
    "augmentation_metadata = {\n",
    "        'methods': {        \n",
    "            'flip': {\n",
    "                'parameters': {\n",
    "                    'orientation': 'h',  # Could be 'h' for horizontal or 'v' for vertical\n",
    "                    'p': 1.0  # Probability of applying the augmentation\n",
    "                },\n",
    "                'apply_to_percentage': 0.5  # 50% of the training images\n",
    "            }        \n",
    "        }\n",
    "    }\n",
    "\n",
    "for i in range(N):\n",
    "    RUN = i + 1\n",
    "    try:\n",
    "        print(f\"Starting RUN: {RUN}\")\n",
    "        main(RUN, augmentation_metadata, task_name, sub_project_name, epochs, train_size, w1, w2)\n",
    "    except Exception as e:\n",
    "        print(f\"Error in RUN: {RUN}\")\n",
    "        print(e)\n",
    "    finally:\n",
    "        clear_output(wait=True)  # Clear the output to avoid scrolling\n",
    "        gc.collect()  # Collect garbage to avoid memory leaks\n"
   ]
  },
  {
   "cell_type": "code",
   "execution_count": 14,
   "metadata": {},
   "outputs": [
    {
     "name": "stdout",
     "output_type": "stream",
     "text": [
      "Starting RUN: 5\n",
      "Seed:  1482827372\n"
     ]
    },
    {
     "name": "stderr",
     "output_type": "stream",
     "text": [
      "c:\\github\\Third-Year-Project\\Intruder-Aircraft-Detection\\main\\tl_clf.py:79: SettingWithCopyWarning:\n",
      "\n",
      "\n",
      "A value is trying to be set on a copy of a slice from a DataFrame.\n",
      "Try using .loc[row_indexer,col_indexer] = value instead\n",
      "\n",
      "See the caveats in the documentation: https://pandas.pydata.org/pandas-docs/stable/user_guide/indexing.html#returning-a-view-versus-a-copy\n",
      "\n",
      "c:\\github\\Third-Year-Project\\Intruder-Aircraft-Detection\\main\\tl_clf.py:80: SettingWithCopyWarning:\n",
      "\n",
      "\n",
      "A value is trying to be set on a copy of a slice from a DataFrame.\n",
      "Try using .loc[row_indexer,col_indexer] = value instead\n",
      "\n",
      "See the caveats in the documentation: https://pandas.pydata.org/pandas-docs/stable/user_guide/indexing.html#returning-a-view-versus-a-copy\n",
      "\n"
     ]
    },
    {
     "name": "stdout",
     "output_type": "stream",
     "text": [
      "Removing dataset if pre-existing\n",
      "Copying training files:\n"
     ]
    },
    {
     "name": "stderr",
     "output_type": "stream",
     "text": [
      "Copying files: 100%|██████████| 2000/2000 [00:01<00:00, 1904.26it/s]\n"
     ]
    },
    {
     "name": "stdout",
     "output_type": "stream",
     "text": [
      "Copying validation files:\n"
     ]
    },
    {
     "name": "stderr",
     "output_type": "stream",
     "text": [
      "Copying files: 100%|██████████| 400/400 [00:00<00:00, 2061.41it/s]\n"
     ]
    },
    {
     "name": "stdout",
     "output_type": "stream",
     "text": [
      "Dataset 'weather_23_1000' created at C:\\github\\Third-Year-Project\\Intruder-Aircraft-Detection\\datasets\\Custom\\weather_23_1000\n",
      "Processing train labels in weather_23_1000:\n"
     ]
    },
    {
     "name": "stderr",
     "output_type": "stream",
     "text": [
      "Processing labels: 100%|██████████| 1000/1000 [00:03<00:00, 272.41it/s]\n"
     ]
    },
    {
     "name": "stdout",
     "output_type": "stream",
     "text": [
      "Processing valid labels in weather_23_1000:\n"
     ]
    },
    {
     "name": "stderr",
     "output_type": "stream",
     "text": [
      "Processing labels: 100%|██████████| 200/200 [00:00<00:00, 259.01it/s]\n"
     ]
    },
    {
     "name": "stdout",
     "output_type": "stream",
     "text": [
      "Label correction completed.\n"
     ]
    },
    {
     "name": "stderr",
     "output_type": "stream",
     "text": [
      "Removing existing directories/files: 100%|██████████| 3/3 [00:00<00:00, 3003.08it/s]\n",
      "Copying files: 100%|██████████| 1000/1000 [00:00<00:00, 1204.42it/s]\n",
      "Copying files: 100%|██████████| 1000/1000 [00:00<00:00, 1353.72it/s]\n",
      "Applying augmentations: 100%|██████████| 500/500 [00:04<00:00, 112.62it/s]\n"
     ]
    },
    {
     "name": "stdout",
     "output_type": "stream",
     "text": [
      "An error occurred: Expected x_max for bbox (0.27437150000000005, 0.117452, 1.1447385, 0.697696, 1) to be in the range [0.0, 1.0], got 1.1447385.\n",
      "An error occurred: Expected y_max for bbox (0.578752, 0.762086, 0.935798, 1.000116, 0) to be in the range [0.0, 1.0], got 1.000116.\n",
      "An error occurred: Expected x_min for bbox (-0.02266499999999999, 0.5461069999999999, 0.560295, 0.9347469999999999, 2) to be in the range [0.0, 1.0], got -0.02266499999999999.\n",
      "An error occurred: Expected x_min for bbox (-0.08473900000000001, -0.027910999999999964, 0.831197, 0.582713, 1) to be in the range [0.0, 1.0], got -0.08473900000000001.\n",
      "An error occurred: Expected y_max for bbox (0.34076549999999994, 0.686593, 0.8614025, 1.033685, 0) to be in the range [0.0, 1.0], got 1.033685.\n"
     ]
    },
    {
     "name": "stderr",
     "output_type": "stream",
     "text": [
      "Processing images:  19%|█▊        | 186/1000 [00:07<00:23, 33.92it/s]"
     ]
    },
    {
     "name": "stdout",
     "output_type": "stream",
     "text": [
      "An error occurred with C:/github/Third-Year-Project/Intruder-Aircraft-Detection/datasets/Custom/weather_23_1000\\images\\train\\26422.jpg: Expected x_max for bbox (0.3556645, 0.47547049999999996, 1.0335975, 0.9274255, 1) to be in the range [0.0, 1.0], got 1.0335975.\n"
     ]
    },
    {
     "name": "stderr",
     "output_type": "stream",
     "text": [
      "Processing images:  24%|██▍       | 239/1000 [00:09<00:21, 35.24it/s]"
     ]
    },
    {
     "name": "stdout",
     "output_type": "stream",
     "text": [
      "An error occurred with C:/github/Third-Year-Project/Intruder-Aircraft-Detection/datasets/Custom/weather_23_1000\\images\\train\\26657.jpg: Expected x_max for bbox (0.27437150000000005, 0.117452, 1.1447385, 0.697696, 1) to be in the range [0.0, 1.0], got 1.1447385.\n"
     ]
    },
    {
     "name": "stderr",
     "output_type": "stream",
     "text": [
      "Processing images:  33%|███▎      | 332/1000 [00:12<00:18, 36.62it/s]"
     ]
    },
    {
     "name": "stdout",
     "output_type": "stream",
     "text": [
      "An error occurred with C:/github/Third-Year-Project/Intruder-Aircraft-Detection/datasets/Custom/weather_23_1000\\images\\train\\27198.jpg: Expected x_min for bbox (-0.08473900000000001, -0.027910999999999964, 0.831197, 0.582713, 1) to be in the range [0.0, 1.0], got -0.08473900000000001.\n"
     ]
    },
    {
     "name": "stderr",
     "output_type": "stream",
     "text": [
      "Processing images:  65%|██████▍   | 649/1000 [00:21<00:09, 38.04it/s]"
     ]
    },
    {
     "name": "stdout",
     "output_type": "stream",
     "text": [
      "An error occurred with C:/github/Third-Year-Project/Intruder-Aircraft-Detection/datasets/Custom/weather_23_1000\\images\\train\\3818.jpg: Expected y_max for bbox (0.578752, 0.762086, 0.935798, 1.000116, 0) to be in the range [0.0, 1.0], got 1.000116.\n",
      "An error occurred with C:/github/Third-Year-Project/Intruder-Aircraft-Detection/datasets/Custom/weather_23_1000\\images\\train\\3835.jpg: Expected y_max for bbox (0.34076549999999994, 0.686593, 0.8614025, 1.033685, 0) to be in the range [0.0, 1.0], got 1.033685.\n"
     ]
    },
    {
     "name": "stderr",
     "output_type": "stream",
     "text": [
      "Processing images:  80%|████████  | 803/1000 [00:25<00:05, 37.38it/s]"
     ]
    },
    {
     "name": "stdout",
     "output_type": "stream",
     "text": [
      "An error occurred with C:/github/Third-Year-Project/Intruder-Aircraft-Detection/datasets/Custom/weather_23_1000\\images\\train\\50719.jpg: Expected x_min for bbox (-0.11753550000000001, 0.31711149999999994, 0.8069695, 0.9334484999999999, 2) to be in the range [0.0, 1.0], got -0.11753550000000001.\n",
      "An error occurred with C:/github/Third-Year-Project/Intruder-Aircraft-Detection/datasets/Custom/weather_23_1000\\images\\train\\50732.jpg: Expected x_min for bbox (-0.02266499999999999, 0.5461069999999999, 0.560295, 0.9347469999999999, 2) to be in the range [0.0, 1.0], got -0.02266499999999999.\n"
     ]
    },
    {
     "name": "stderr",
     "output_type": "stream",
     "text": [
      "Processing images: 100%|██████████| 1000/1000 [00:31<00:00, 31.59it/s]\n",
      "Processing images:  19%|█▊        | 279/1495 [00:12<00:36, 33.13it/s]"
     ]
    },
    {
     "name": "stdout",
     "output_type": "stream",
     "text": [
      "An error occurred with C:/github/Third-Year-Project/Intruder-Aircraft-Detection/datasets/Custom/weather_23_1000\\images\\train-aug\\26422.jpg: Expected x_max for bbox (0.3556645, 0.47547049999999996, 1.0335975, 0.9274255, 1) to be in the range [0.0, 1.0], got 1.0335975.\n"
     ]
    },
    {
     "name": "stderr",
     "output_type": "stream",
     "text": [
      "Processing images:  23%|██▎       | 348/1495 [00:14<00:32, 35.40it/s]"
     ]
    },
    {
     "name": "stdout",
     "output_type": "stream",
     "text": [
      "An error occurred with C:/github/Third-Year-Project/Intruder-Aircraft-Detection/datasets/Custom/weather_23_1000\\images\\train-aug\\26657.jpg: Expected x_max for bbox (0.27437150000000005, 0.117452, 1.1447385, 0.697696, 1) to be in the range [0.0, 1.0], got 1.1447385.\n"
     ]
    },
    {
     "name": "stderr",
     "output_type": "stream",
     "text": [
      "Processing images:  32%|███▏      | 485/1495 [00:18<00:29, 34.42it/s]"
     ]
    },
    {
     "name": "stdout",
     "output_type": "stream",
     "text": [
      "An error occurred with C:/github/Third-Year-Project/Intruder-Aircraft-Detection/datasets/Custom/weather_23_1000\\images\\train-aug\\27198.jpg: Expected x_min for bbox (-0.08473900000000001, -0.027910999999999964, 0.831197, 0.582713, 1) to be in the range [0.0, 1.0], got -0.08473900000000001.\n"
     ]
    },
    {
     "name": "stderr",
     "output_type": "stream",
     "text": [
      "Processing images:  64%|██████▍   | 958/1495 [00:32<00:13, 38.87it/s]"
     ]
    },
    {
     "name": "stdout",
     "output_type": "stream",
     "text": [
      "An error occurred with C:/github/Third-Year-Project/Intruder-Aircraft-Detection/datasets/Custom/weather_23_1000\\images\\train-aug\\3818.jpg: Expected y_max for bbox (0.578752, 0.762086, 0.935798, 1.000116, 0) to be in the range [0.0, 1.0], got 1.000116.\n",
      "An error occurred with C:/github/Third-Year-Project/Intruder-Aircraft-Detection/datasets/Custom/weather_23_1000\\images\\train-aug\\3835.jpg: Expected y_max for bbox (0.34076549999999994, 0.686593, 0.8614025, 1.033685, 0) to be in the range [0.0, 1.0], got 1.033685.\n"
     ]
    },
    {
     "name": "stderr",
     "output_type": "stream",
     "text": [
      "Processing images:  80%|████████  | 1198/1495 [00:39<00:07, 39.14it/s]"
     ]
    },
    {
     "name": "stdout",
     "output_type": "stream",
     "text": [
      "An error occurred with C:/github/Third-Year-Project/Intruder-Aircraft-Detection/datasets/Custom/weather_23_1000\\images\\train-aug\\50719.jpg: Expected x_min for bbox (-0.11753550000000001, 0.31711149999999994, 0.8069695, 0.9334484999999999, 2) to be in the range [0.0, 1.0], got -0.11753550000000001.\n",
      "An error occurred with C:/github/Third-Year-Project/Intruder-Aircraft-Detection/datasets/Custom/weather_23_1000\\images\\train-aug\\50732.jpg: Expected x_min for bbox (-0.02266499999999999, 0.5461069999999999, 0.560295, 0.9347469999999999, 2) to be in the range [0.0, 1.0], got -0.02266499999999999.\n"
     ]
    },
    {
     "name": "stderr",
     "output_type": "stream",
     "text": [
      "Processing images: 100%|██████████| 1495/1495 [00:48<00:00, 30.94it/s]\n",
      "Processing images:  13%|█▎        | 26/200 [00:01<00:06, 27.08it/s]"
     ]
    },
    {
     "name": "stdout",
     "output_type": "stream",
     "text": [
      "An error occurred with C:/github/Third-Year-Project/Intruder-Aircraft-Detection/datasets/Custom/weather_23_1000\\images\\valid\\26926.jpg: Expected y_min for bbox (0.38187599999999994, -0.12572450000000002, 1.180976, 0.4070085, 1) to be in the range [0.0, 1.0], got -0.12572450000000002.\n"
     ]
    },
    {
     "name": "stderr",
     "output_type": "stream",
     "text": [
      "Processing images:  37%|███▋      | 74/200 [00:02<00:03, 36.60it/s]"
     ]
    },
    {
     "name": "stdout",
     "output_type": "stream",
     "text": [
      "An error occurred with C:/github/Third-Year-Project/Intruder-Aircraft-Detection/datasets/Custom/weather_23_1000\\images\\valid\\26999.jpg: Expected x_min for bbox (-0.1462135, 0.3244429999999999, 0.7076735, 0.893701, 1) to be in the range [0.0, 1.0], got -0.1462135.\n"
     ]
    },
    {
     "name": "stderr",
     "output_type": "stream",
     "text": [
      "Processing images:  74%|███████▍  | 148/200 [00:04<00:01, 37.19it/s]"
     ]
    },
    {
     "name": "stdout",
     "output_type": "stream",
     "text": [
      "An error occurred with C:/github/Third-Year-Project/Intruder-Aircraft-Detection/datasets/Custom/weather_23_1000\\images\\valid\\50917.jpg: Expected y_min for bbox (0.3312055, -0.11337250000000001, 1.1166544999999999, 0.41026050000000003, 2) to be in the range [0.0, 1.0], got -0.11337250000000001.\n"
     ]
    },
    {
     "name": "stderr",
     "output_type": "stream",
     "text": [
      "Processing images:  88%|████████▊ | 177/200 [00:05<00:00, 37.74it/s]"
     ]
    },
    {
     "name": "stdout",
     "output_type": "stream",
     "text": [
      "An error occurred with C:/github/Third-Year-Project/Intruder-Aircraft-Detection/datasets/Custom/weather_23_1000\\images\\valid\\50955.jpg: Expected x_min for bbox (-0.021672000000000025, 0.2856885, 0.507494, 0.6384655, 2) to be in the range [0.0, 1.0], got -0.021672000000000025.\n"
     ]
    },
    {
     "name": "stderr",
     "output_type": "stream",
     "text": [
      "Processing images: 100%|██████████| 200/200 [00:06<00:00, 32.10it/s]\n",
      "Moving images in train: 100%|██████████| 993/993 [00:03<00:00, 286.92it/s]\n",
      "Moving images in train-aug: 100%|██████████| 1488/1488 [00:04<00:00, 313.33it/s]\n",
      "Moving images in valid: 100%|██████████| 196/196 [00:00<00:00, 289.54it/s]\n"
     ]
    },
    {
     "name": "stdout",
     "output_type": "stream",
     "text": [
      "Found 993 files belonging to 3 classes.\n",
      "Found 1488 files belonging to 3 classes.\n",
      "Found 196 files belonging to 3 classes.\n",
      "ClearML Task: created new task id=4d4e91c8e6ec4268af278966bea8cb1f\n",
      "ClearML results page: https://app.clear.ml/projects/b431dd08d42446cea5eabf486b708404/experiments/4d4e91c8e6ec4268af278966bea8cb1f/output/log\n",
      "Training model...\n",
      "Epoch 1/30\n",
      "\u001b[1m32/32\u001b[0m \u001b[32m━━━━━━━━━━━━━━━━━━━━\u001b[0m\u001b[37m\u001b[0m \u001b[1m11s\u001b[0m 268ms/step - accuracy: 0.3613 - loss: 1.8303 - precision: 0.4000 - recall: 0.1453 - val_accuracy: 0.3316 - val_loss: 1.0986 - val_precision: 0.0000e+00 - val_recall: 0.0000e+00\n",
      "Epoch 2/30\n",
      "\u001b[1m32/32\u001b[0m \u001b[32m━━━━━━━━━━━━━━━━━━━━\u001b[0m\u001b[37m\u001b[0m \u001b[1m7s\u001b[0m 213ms/step - accuracy: 0.3227 - loss: 1.1001 - precision: 0.0000e+00 - recall: 0.0000e+00 - val_accuracy: 0.3418 - val_loss: 1.0985 - val_precision: 0.0000e+00 - val_recall: 0.0000e+00\n",
      "Epoch 3/30\n",
      "\u001b[1m32/32\u001b[0m \u001b[32m━━━━━━━━━━━━━━━━━━━━\u001b[0m\u001b[37m\u001b[0m \u001b[1m7s\u001b[0m 208ms/step - accuracy: 0.3299 - loss: 1.0987 - precision: 0.0000e+00 - recall: 0.0000e+00 - val_accuracy: 0.3418 - val_loss: 1.0984 - val_precision: 0.0000e+00 - val_recall: 0.0000e+00\n",
      "Epoch 4/30\n",
      "\u001b[1m32/32\u001b[0m \u001b[32m━━━━━━━━━━━━━━━━━━━━\u001b[0m\u001b[37m\u001b[0m \u001b[1m7s\u001b[0m 215ms/step - accuracy: 0.3298 - loss: 1.0987 - precision: 0.0000e+00 - recall: 0.0000e+00 - val_accuracy: 0.3418 - val_loss: 1.0985 - val_precision: 0.0000e+00 - val_recall: 0.0000e+00\n",
      "Epoch 5/30\n",
      "\u001b[1m32/32\u001b[0m \u001b[32m━━━━━━━━━━━━━━━━━━━━\u001b[0m\u001b[37m\u001b[0m \u001b[1m7s\u001b[0m 211ms/step - accuracy: 0.3120 - loss: 1.0989 - precision: 0.0000e+00 - recall: 0.0000e+00 - val_accuracy: 0.3418 - val_loss: 1.0984 - val_precision: 0.0000e+00 - val_recall: 0.0000e+00\n",
      "Epoch 6/30\n",
      "\u001b[1m32/32\u001b[0m \u001b[32m━━━━━━━━━━━━━━━━━━━━\u001b[0m\u001b[37m\u001b[0m \u001b[1m7s\u001b[0m 223ms/step - accuracy: 0.3158 - loss: 1.0992 - precision: 0.0000e+00 - recall: 0.0000e+00 - val_accuracy: 0.3418 - val_loss: 1.0980 - val_precision: 0.0000e+00 - val_recall: 0.0000e+00\n",
      "Epoch 7/30\n",
      "\u001b[1m32/32\u001b[0m \u001b[32m━━━━━━━━━━━━━━━━━━━━\u001b[0m\u001b[37m\u001b[0m \u001b[1m8s\u001b[0m 255ms/step - accuracy: 0.3518 - loss: 1.0974 - precision: 0.0352 - recall: 0.0011 - val_accuracy: 0.3367 - val_loss: 1.0896 - val_precision: 0.0000e+00 - val_recall: 0.0000e+00\n",
      "Epoch 8/30\n",
      "\u001b[1m32/32\u001b[0m \u001b[32m━━━━━━━━━━━━━━━━━━━━\u001b[0m\u001b[37m\u001b[0m \u001b[1m7s\u001b[0m 215ms/step - accuracy: 0.3525 - loss: 1.0976 - precision: 0.0000e+00 - recall: 0.0000e+00 - val_accuracy: 0.3418 - val_loss: 1.0984 - val_precision: 0.0000e+00 - val_recall: 0.0000e+00\n",
      "Epoch 9/30\n",
      "\u001b[1m32/32\u001b[0m \u001b[32m━━━━━━━━━━━━━━━━━━━━\u001b[0m\u001b[37m\u001b[0m \u001b[1m7s\u001b[0m 212ms/step - accuracy: 0.3212 - loss: 1.0990 - precision: 0.0000e+00 - recall: 0.0000e+00 - val_accuracy: 0.3418 - val_loss: 1.0985 - val_precision: 0.0000e+00 - val_recall: 0.0000e+00\n",
      "Epoch 10/30\n",
      "\u001b[1m32/32\u001b[0m \u001b[32m━━━━━━━━━━━━━━━━━━━━\u001b[0m\u001b[37m\u001b[0m \u001b[1m7s\u001b[0m 215ms/step - accuracy: 0.3141 - loss: 1.0987 - precision: 0.0000e+00 - recall: 0.0000e+00 - val_accuracy: 0.3316 - val_loss: 1.0986 - val_precision: 0.0000e+00 - val_recall: 0.0000e+00\n",
      "Epoch 11/30\n",
      "\u001b[1m32/32\u001b[0m \u001b[32m━━━━━━━━━━━━━━━━━━━━\u001b[0m\u001b[37m\u001b[0m \u001b[1m7s\u001b[0m 212ms/step - accuracy: 0.3450 - loss: 1.0984 - precision: 0.0000e+00 - recall: 0.0000e+00 - val_accuracy: 0.3316 - val_loss: 1.0986 - val_precision: 0.0000e+00 - val_recall: 0.0000e+00\n",
      "Epoch 12/30\n",
      "\u001b[1m32/32\u001b[0m \u001b[32m━━━━━━━━━━━━━━━━━━━━\u001b[0m\u001b[37m\u001b[0m \u001b[1m7s\u001b[0m 211ms/step - accuracy: 0.3432 - loss: 1.0981 - precision: 0.0000e+00 - recall: 0.0000e+00 - val_accuracy: 0.4541 - val_loss: 1.0881 - val_precision: 0.0000e+00 - val_recall: 0.0000e+00\n",
      "Epoch 13/30\n",
      "\u001b[1m32/32\u001b[0m \u001b[32m━━━━━━━━━━━━━━━━━━━━\u001b[0m\u001b[37m\u001b[0m \u001b[1m7s\u001b[0m 212ms/step - accuracy: 0.4402 - loss: 1.0739 - precision: 0.4879 - recall: 0.0181 - val_accuracy: 0.3469 - val_loss: 1.1072 - val_precision: 0.0000e+00 - val_recall: 0.0000e+00\n",
      "Epoch 14/30\n",
      "\u001b[1m32/32\u001b[0m \u001b[32m━━━━━━━━━━━━━━━━━━━━\u001b[0m\u001b[37m\u001b[0m \u001b[1m7s\u001b[0m 214ms/step - accuracy: 0.3624 - loss: 1.1095 - precision: 0.3130 - recall: 0.0465 - val_accuracy: 0.3265 - val_loss: 1.0972 - val_precision: 0.0000e+00 - val_recall: 0.0000e+00\n",
      "Epoch 15/30\n",
      "\u001b[1m32/32\u001b[0m \u001b[32m━━━━━━━━━━━━━━━━━━━━\u001b[0m\u001b[37m\u001b[0m \u001b[1m7s\u001b[0m 212ms/step - accuracy: 0.3450 - loss: 1.0990 - precision: 0.5495 - recall: 0.0158 - val_accuracy: 0.4235 - val_loss: 1.0568 - val_precision: 1.0000 - val_recall: 0.0306\n",
      "Epoch 16/30\n",
      "\u001b[1m32/32\u001b[0m \u001b[32m━━━━━━━━━━━━━━━━━━━━\u001b[0m\u001b[37m\u001b[0m \u001b[1m7s\u001b[0m 213ms/step - accuracy: 0.4164 - loss: 1.0630 - precision: 0.5899 - recall: 0.0445 - val_accuracy: 0.5153 - val_loss: 0.9775 - val_precision: 0.8000 - val_recall: 0.2857\n",
      "Epoch 17/30\n",
      "\u001b[1m32/32\u001b[0m \u001b[32m━━━━━━━━━━━━━━━━━━━━\u001b[0m\u001b[37m\u001b[0m \u001b[1m7s\u001b[0m 212ms/step - accuracy: 0.4850 - loss: 1.0113 - precision: 0.6886 - recall: 0.1633 - val_accuracy: 0.5204 - val_loss: 1.0182 - val_precision: 0.5407 - val_recall: 0.4745\n",
      "Epoch 18/30\n",
      "\u001b[1m32/32\u001b[0m \u001b[32m━━━━━━━━━━━━━━━━━━━━\u001b[0m\u001b[37m\u001b[0m \u001b[1m7s\u001b[0m 211ms/step - accuracy: 0.5687 - loss: 0.9178 - precision: 0.6665 - recall: 0.3369 - val_accuracy: 0.6173 - val_loss: 0.8259 - val_precision: 0.6908 - val_recall: 0.5357\n",
      "Epoch 19/30\n",
      "\u001b[1m32/32\u001b[0m \u001b[32m━━━━━━━━━━━━━━━━━━━━\u001b[0m\u001b[37m\u001b[0m \u001b[1m7s\u001b[0m 212ms/step - accuracy: 0.6444 - loss: 0.7892 - precision: 0.7270 - recall: 0.4786 - val_accuracy: 0.6939 - val_loss: 0.7639 - val_precision: 0.7394 - val_recall: 0.6224\n",
      "Epoch 20/30\n",
      "\u001b[1m32/32\u001b[0m \u001b[32m━━━━━━━━━━━━━━━━━━━━\u001b[0m\u001b[37m\u001b[0m \u001b[1m7s\u001b[0m 218ms/step - accuracy: 0.6755 - loss: 0.7109 - precision: 0.7140 - recall: 0.6100 - val_accuracy: 0.6888 - val_loss: 0.7494 - val_precision: 0.7289 - val_recall: 0.6173\n",
      "Epoch 21/30\n",
      "\u001b[1m32/32\u001b[0m \u001b[32m━━━━━━━━━━━━━━━━━━━━\u001b[0m\u001b[37m\u001b[0m \u001b[1m7s\u001b[0m 210ms/step - accuracy: 0.6957 - loss: 0.6663 - precision: 0.7405 - recall: 0.6174 - val_accuracy: 0.7296 - val_loss: 0.7288 - val_precision: 0.7875 - val_recall: 0.6429\n",
      "Epoch 22/30\n",
      "\u001b[1m32/32\u001b[0m \u001b[32m━━━━━━━━━━━━━━━━━━━━\u001b[0m\u001b[37m\u001b[0m \u001b[1m7s\u001b[0m 213ms/step - accuracy: 0.7407 - loss: 0.6030 - precision: 0.8197 - recall: 0.6303 - val_accuracy: 0.7449 - val_loss: 0.6935 - val_precision: 0.7598 - val_recall: 0.6939\n",
      "Epoch 23/30\n",
      "\u001b[1m32/32\u001b[0m \u001b[32m━━━━━━━━━━━━━━━━━━━━\u001b[0m\u001b[37m\u001b[0m \u001b[1m7s\u001b[0m 211ms/step - accuracy: 0.7731 - loss: 0.5255 - precision: 0.8096 - recall: 0.7477 - val_accuracy: 0.7602 - val_loss: 0.6922 - val_precision: 0.7943 - val_recall: 0.7092\n",
      "Epoch 24/30\n",
      "\u001b[1m32/32\u001b[0m \u001b[32m━━━━━━━━━━━━━━━━━━━━\u001b[0m\u001b[37m\u001b[0m \u001b[1m7s\u001b[0m 211ms/step - accuracy: 0.8012 - loss: 0.4294 - precision: 0.8350 - recall: 0.7699 - val_accuracy: 0.7602 - val_loss: 0.6967 - val_precision: 0.7790 - val_recall: 0.7194\n",
      "Epoch 25/30\n",
      "\u001b[1m32/32\u001b[0m \u001b[32m━━━━━━━━━━━━━━━━━━━━\u001b[0m\u001b[37m\u001b[0m \u001b[1m7s\u001b[0m 216ms/step - accuracy: 0.7956 - loss: 0.4802 - precision: 0.8410 - recall: 0.7235 - val_accuracy: 0.6888 - val_loss: 0.7856 - val_precision: 0.7175 - val_recall: 0.6480\n",
      "Epoch 26/30\n",
      "\u001b[1m32/32\u001b[0m \u001b[32m━━━━━━━━━━━━━━━━━━━━\u001b[0m\u001b[37m\u001b[0m \u001b[1m7s\u001b[0m 214ms/step - accuracy: 0.7553 - loss: 0.5288 - precision: 0.7895 - recall: 0.7193 - val_accuracy: 0.7347 - val_loss: 0.8239 - val_precision: 0.7716 - val_recall: 0.6378\n",
      "Epoch 27/30\n",
      "\u001b[1m32/32\u001b[0m \u001b[32m━━━━━━━━━━━━━━━━━━━━\u001b[0m\u001b[37m\u001b[0m \u001b[1m7s\u001b[0m 211ms/step - accuracy: 0.7659 - loss: 0.5434 - precision: 0.8093 - recall: 0.6874 - val_accuracy: 0.7704 - val_loss: 0.9451 - val_precision: 0.7749 - val_recall: 0.7551\n",
      "Epoch 28/30\n",
      "\u001b[1m32/32\u001b[0m \u001b[32m━━━━━━━━━━━━━━━━━━━━\u001b[0m\u001b[37m\u001b[0m \u001b[1m7s\u001b[0m 210ms/step - accuracy: 0.8616 - loss: 0.3565 - precision: 0.8832 - recall: 0.8431 - val_accuracy: 0.8010 - val_loss: 0.8785 - val_precision: 0.8063 - val_recall: 0.7857\n",
      "Epoch 29/30\n",
      "\u001b[1m32/32\u001b[0m \u001b[32m━━━━━━━━━━━━━━━━━━━━\u001b[0m\u001b[37m\u001b[0m \u001b[1m7s\u001b[0m 209ms/step - accuracy: 0.8675 - loss: 0.3234 - precision: 0.8829 - recall: 0.8577 - val_accuracy: 0.7602 - val_loss: 0.8289 - val_precision: 0.7789 - val_recall: 0.7551\n",
      "Epoch 30/30\n",
      "\u001b[1m32/32\u001b[0m \u001b[32m━━━━━━━━━━━━━━━━━━━━\u001b[0m\u001b[37m\u001b[0m \u001b[1m7s\u001b[0m 216ms/step - accuracy: 0.8771 - loss: 0.3112 - precision: 0.8931 - recall: 0.8559 - val_accuracy: 0.7755 - val_loss: 0.9031 - val_precision: 0.7824 - val_recall: 0.7704\n",
      "Predicting on validation set...\n",
      "\u001b[1m7/7\u001b[0m \u001b[32m━━━━━━━━━━━━━━━━━━━━\u001b[0m\u001b[37m\u001b[0m \u001b[1m1s\u001b[0m 52ms/step\n",
      "Sending metrics to clearML...\n",
      "done\n",
      "ClearML Task: created new task id=ab5b9e2efb13411eba7c1a7efc7b0ee4\n",
      "ClearML results page: https://app.clear.ml/projects/b431dd08d42446cea5eabf486b708404/experiments/ab5b9e2efb13411eba7c1a7efc7b0ee4/output/log\n",
      "Training model...\n",
      "Epoch 1/30\n",
      "\u001b[1m47/47\u001b[0m \u001b[32m━━━━━━━━━━━━━━━━━━━━\u001b[0m\u001b[37m\u001b[0m \u001b[1m14s\u001b[0m 259ms/step - accuracy: 0.3107 - loss: 2.2659 - precision: 0.2984 - recall: 0.0962 - val_accuracy: 0.3265 - val_loss: 1.0987 - val_precision: 0.0000e+00 - val_recall: 0.0000e+00\n",
      "Epoch 2/30\n",
      "\u001b[1m47/47\u001b[0m \u001b[32m━━━━━━━━━━━━━━━━━━━━\u001b[0m\u001b[37m\u001b[0m \u001b[1m12s\u001b[0m 213ms/step - accuracy: 0.3301 - loss: 1.0994 - precision: 0.0000e+00 - recall: 0.0000e+00 - val_accuracy: 0.3265 - val_loss: 1.0985 - val_precision: 0.0000e+00 - val_recall: 0.0000e+00\n",
      "Epoch 3/30\n",
      "\u001b[1m47/47\u001b[0m \u001b[32m━━━━━━━━━━━━━━━━━━━━\u001b[0m\u001b[37m\u001b[0m \u001b[1m10s\u001b[0m 213ms/step - accuracy: 0.3513 - loss: 1.0972 - precision: 0.0500 - recall: 1.6987e-04 - val_accuracy: 0.4286 - val_loss: 1.0649 - val_precision: 0.0000e+00 - val_recall: 0.0000e+00\n",
      "Epoch 4/30\n",
      "\u001b[1m47/47\u001b[0m \u001b[32m━━━━━━━━━━━━━━━━━━━━\u001b[0m\u001b[37m\u001b[0m \u001b[1m10s\u001b[0m 211ms/step - accuracy: 0.4285 - loss: 1.0498 - precision: 0.7058 - recall: 0.0557 - val_accuracy: 0.5561 - val_loss: 0.9755 - val_precision: 0.6596 - val_recall: 0.1582\n",
      "Epoch 5/30\n",
      "\u001b[1m47/47\u001b[0m \u001b[32m━━━━━━━━━━━━━━━━━━━━\u001b[0m\u001b[37m\u001b[0m \u001b[1m12s\u001b[0m 246ms/step - accuracy: 0.5380 - loss: 0.9479 - precision: 0.7244 - recall: 0.2024 - val_accuracy: 0.5714 - val_loss: 0.9104 - val_precision: 0.7857 - val_recall: 0.2806\n",
      "Epoch 6/30\n",
      "\u001b[1m47/47\u001b[0m \u001b[32m━━━━━━━━━━━━━━━━━━━━\u001b[0m\u001b[37m\u001b[0m \u001b[1m10s\u001b[0m 215ms/step - accuracy: 0.6148 - loss: 0.8554 - precision: 0.7096 - recall: 0.4024 - val_accuracy: 0.6276 - val_loss: 0.8280 - val_precision: 0.7869 - val_recall: 0.4898\n",
      "Epoch 7/30\n",
      "\u001b[1m47/47\u001b[0m \u001b[32m━━━━━━━━━━━━━━━━━━━━\u001b[0m\u001b[37m\u001b[0m \u001b[1m10s\u001b[0m 212ms/step - accuracy: 0.6629 - loss: 0.7632 - precision: 0.7679 - recall: 0.5175 - val_accuracy: 0.6327 - val_loss: 0.8190 - val_precision: 0.6842 - val_recall: 0.5306\n",
      "Epoch 8/30\n",
      "\u001b[1m47/47\u001b[0m \u001b[32m━━━━━━━━━━━━━━━━━━━━\u001b[0m\u001b[37m\u001b[0m \u001b[1m10s\u001b[0m 211ms/step - accuracy: 0.6869 - loss: 0.7176 - precision: 0.7409 - recall: 0.5859 - val_accuracy: 0.7347 - val_loss: 0.6988 - val_precision: 0.7778 - val_recall: 0.6786\n",
      "Epoch 9/30\n",
      "\u001b[1m47/47\u001b[0m \u001b[32m━━━━━━━━━━━━━━━━━━━━\u001b[0m\u001b[37m\u001b[0m \u001b[1m10s\u001b[0m 215ms/step - accuracy: 0.7349 - loss: 0.6062 - precision: 0.7996 - recall: 0.6532 - val_accuracy: 0.7806 - val_loss: 0.6500 - val_precision: 0.7977 - val_recall: 0.7041\n",
      "Epoch 10/30\n",
      "\u001b[1m47/47\u001b[0m \u001b[32m━━━━━━━━━━━━━━━━━━━━\u001b[0m\u001b[37m\u001b[0m \u001b[1m10s\u001b[0m 211ms/step - accuracy: 0.7604 - loss: 0.5678 - precision: 0.8157 - recall: 0.6822 - val_accuracy: 0.8061 - val_loss: 0.6490 - val_precision: 0.8167 - val_recall: 0.7500\n",
      "Epoch 11/30\n",
      "\u001b[1m47/47\u001b[0m \u001b[32m━━━━━━━━━━━━━━━━━━━━\u001b[0m\u001b[37m\u001b[0m \u001b[1m10s\u001b[0m 211ms/step - accuracy: 0.7725 - loss: 0.5617 - precision: 0.8306 - recall: 0.7125 - val_accuracy: 0.7806 - val_loss: 0.6829 - val_precision: 0.8011 - val_recall: 0.7194\n",
      "Epoch 12/30\n",
      "\u001b[1m47/47\u001b[0m \u001b[32m━━━━━━━━━━━━━━━━━━━━\u001b[0m\u001b[37m\u001b[0m \u001b[1m10s\u001b[0m 211ms/step - accuracy: 0.7686 - loss: 0.5439 - precision: 0.8199 - recall: 0.6935 - val_accuracy: 0.7704 - val_loss: 0.7385 - val_precision: 0.7797 - val_recall: 0.7041\n",
      "Epoch 13/30\n",
      "\u001b[1m47/47\u001b[0m \u001b[32m━━━━━━━━━━━━━━━━━━━━\u001b[0m\u001b[37m\u001b[0m \u001b[1m10s\u001b[0m 212ms/step - accuracy: 0.7894 - loss: 0.4710 - precision: 0.8278 - recall: 0.7631 - val_accuracy: 0.7959 - val_loss: 0.6852 - val_precision: 0.8128 - val_recall: 0.7755\n",
      "Epoch 14/30\n",
      "\u001b[1m47/47\u001b[0m \u001b[32m━━━━━━━━━━━━━━━━━━━━\u001b[0m\u001b[37m\u001b[0m \u001b[1m10s\u001b[0m 214ms/step - accuracy: 0.8406 - loss: 0.4195 - precision: 0.8609 - recall: 0.8078 - val_accuracy: 0.8316 - val_loss: 0.6486 - val_precision: 0.8324 - val_recall: 0.7857\n",
      "Epoch 15/30\n",
      "\u001b[1m47/47\u001b[0m \u001b[32m━━━━━━━━━━━━━━━━━━━━\u001b[0m\u001b[37m\u001b[0m \u001b[1m10s\u001b[0m 214ms/step - accuracy: 0.8321 - loss: 0.3886 - precision: 0.8559 - recall: 0.8018 - val_accuracy: 0.7653 - val_loss: 0.7029 - val_precision: 0.7696 - val_recall: 0.7500\n",
      "Epoch 16/30\n",
      "\u001b[1m47/47\u001b[0m \u001b[32m━━━━━━━━━━━━━━━━━━━━\u001b[0m\u001b[37m\u001b[0m \u001b[1m10s\u001b[0m 210ms/step - accuracy: 0.8586 - loss: 0.3611 - precision: 0.8768 - recall: 0.8421 - val_accuracy: 0.7959 - val_loss: 0.7782 - val_precision: 0.8053 - val_recall: 0.7806\n",
      "Epoch 17/30\n",
      "\u001b[1m47/47\u001b[0m \u001b[32m━━━━━━━━━━━━━━━━━━━━\u001b[0m\u001b[37m\u001b[0m \u001b[1m10s\u001b[0m 211ms/step - accuracy: 0.8539 - loss: 0.3486 - precision: 0.8788 - recall: 0.8339 - val_accuracy: 0.7908 - val_loss: 0.7168 - val_precision: 0.7990 - val_recall: 0.7908\n",
      "Epoch 18/30\n",
      "\u001b[1m47/47\u001b[0m \u001b[32m━━━━━━━━━━━━━━━━━━━━\u001b[0m\u001b[37m\u001b[0m \u001b[1m10s\u001b[0m 217ms/step - accuracy: 0.8698 - loss: 0.3163 - precision: 0.8848 - recall: 0.8538 - val_accuracy: 0.8316 - val_loss: 0.7125 - val_precision: 0.8438 - val_recall: 0.8265\n",
      "Epoch 19/30\n",
      "\u001b[1m47/47\u001b[0m \u001b[32m━━━━━━━━━━━━━━━━━━━━\u001b[0m\u001b[37m\u001b[0m \u001b[1m10s\u001b[0m 213ms/step - accuracy: 0.8613 - loss: 0.3257 - precision: 0.8802 - recall: 0.8425 - val_accuracy: 0.7653 - val_loss: 0.7681 - val_precision: 0.7789 - val_recall: 0.7551\n",
      "Epoch 20/30\n",
      "\u001b[1m47/47\u001b[0m \u001b[32m━━━━━━━━━━━━━━━━━━━━\u001b[0m\u001b[37m\u001b[0m \u001b[1m10s\u001b[0m 210ms/step - accuracy: 0.8929 - loss: 0.2757 - precision: 0.9110 - recall: 0.8726 - val_accuracy: 0.8214 - val_loss: 0.7295 - val_precision: 0.8168 - val_recall: 0.7959\n",
      "Epoch 21/30\n",
      "\u001b[1m47/47\u001b[0m \u001b[32m━━━━━━━━━━━━━━━━━━━━\u001b[0m\u001b[37m\u001b[0m \u001b[1m10s\u001b[0m 212ms/step - accuracy: 0.8830 - loss: 0.2825 - precision: 0.8944 - recall: 0.8704 - val_accuracy: 0.8214 - val_loss: 0.8352 - val_precision: 0.8196 - val_recall: 0.8112\n",
      "Epoch 22/30\n",
      "\u001b[1m47/47\u001b[0m \u001b[32m━━━━━━━━━━━━━━━━━━━━\u001b[0m\u001b[37m\u001b[0m \u001b[1m10s\u001b[0m 214ms/step - accuracy: 0.8861 - loss: 0.3068 - precision: 0.8948 - recall: 0.8743 - val_accuracy: 0.8316 - val_loss: 0.7684 - val_precision: 0.8281 - val_recall: 0.8112\n",
      "Epoch 23/30\n",
      "\u001b[1m47/47\u001b[0m \u001b[32m━━━━━━━━━━━━━━━━━━━━\u001b[0m\u001b[37m\u001b[0m \u001b[1m10s\u001b[0m 210ms/step - accuracy: 0.8973 - loss: 0.2721 - precision: 0.9106 - recall: 0.8769 - val_accuracy: 0.7908 - val_loss: 0.9184 - val_precision: 0.7938 - val_recall: 0.7857\n",
      "Epoch 24/30\n",
      "\u001b[1m47/47\u001b[0m \u001b[32m━━━━━━━━━━━━━━━━━━━━\u001b[0m\u001b[37m\u001b[0m \u001b[1m10s\u001b[0m 211ms/step - accuracy: 0.8872 - loss: 0.2847 - precision: 0.9080 - recall: 0.8818 - val_accuracy: 0.8010 - val_loss: 0.8140 - val_precision: 0.8010 - val_recall: 0.8010\n",
      "Epoch 25/30\n",
      "\u001b[1m47/47\u001b[0m \u001b[32m━━━━━━━━━━━━━━━━━━━━\u001b[0m\u001b[37m\u001b[0m \u001b[1m10s\u001b[0m 215ms/step - accuracy: 0.9254 - loss: 0.2231 - precision: 0.9321 - recall: 0.9049 - val_accuracy: 0.8010 - val_loss: 0.7863 - val_precision: 0.8041 - val_recall: 0.7959\n",
      "Epoch 26/30\n",
      "\u001b[1m47/47\u001b[0m \u001b[32m━━━━━━━━━━━━━━━━━━━━\u001b[0m\u001b[37m\u001b[0m \u001b[1m10s\u001b[0m 210ms/step - accuracy: 0.9127 - loss: 0.2180 - precision: 0.9235 - recall: 0.8975 - val_accuracy: 0.8112 - val_loss: 0.9452 - val_precision: 0.8144 - val_recall: 0.8061\n",
      "Epoch 27/30\n",
      "\u001b[1m47/47\u001b[0m \u001b[32m━━━━━━━━━━━━━━━━━━━━\u001b[0m\u001b[37m\u001b[0m \u001b[1m10s\u001b[0m 212ms/step - accuracy: 0.9203 - loss: 0.2085 - precision: 0.9284 - recall: 0.9145 - val_accuracy: 0.8316 - val_loss: 0.9117 - val_precision: 0.8316 - val_recall: 0.8316\n",
      "Epoch 28/30\n",
      "\u001b[1m47/47\u001b[0m \u001b[32m━━━━━━━━━━━━━━━━━━━━\u001b[0m\u001b[37m\u001b[0m \u001b[1m10s\u001b[0m 213ms/step - accuracy: 0.9234 - loss: 0.1951 - precision: 0.9329 - recall: 0.9137 - val_accuracy: 0.8265 - val_loss: 0.9140 - val_precision: 0.8308 - val_recall: 0.8265\n",
      "Epoch 29/30\n",
      "\u001b[1m47/47\u001b[0m \u001b[32m━━━━━━━━━━━━━━━━━━━━\u001b[0m\u001b[37m\u001b[0m \u001b[1m10s\u001b[0m 216ms/step - accuracy: 0.9322 - loss: 0.1791 - precision: 0.9349 - recall: 0.9195 - val_accuracy: 0.8367 - val_loss: 0.8375 - val_precision: 0.8367 - val_recall: 0.8367\n",
      "Epoch 30/30\n",
      "\u001b[1m47/47\u001b[0m \u001b[32m━━━━━━━━━━━━━━━━━━━━\u001b[0m\u001b[37m\u001b[0m \u001b[1m10s\u001b[0m 211ms/step - accuracy: 0.9299 - loss: 0.1660 - precision: 0.9382 - recall: 0.9268 - val_accuracy: 0.8265 - val_loss: 0.9564 - val_precision: 0.8265 - val_recall: 0.8265\n",
      "Predicting on validation set...\n",
      "\u001b[1m7/7\u001b[0m \u001b[32m━━━━━━━━━━━━━━━━━━━━\u001b[0m\u001b[37m\u001b[0m \u001b[1m1s\u001b[0m 58ms/step\n",
      "Sending metrics to clearML...\n",
      "done\n"
     ]
    }
   ],
   "source": [
    "# vertical flip augmentation\n",
    "task_name = 'vf'\n",
    "sub_project_name = 'V_FLIP'\n",
    "\n",
    "augmentation_metadata = {\n",
    "        'methods': {        \n",
    "            'flip': {\n",
    "                'parameters': {\n",
    "                    'orientation': 'v',  # Could be 'h' for horizontal or 'v' for vertical\n",
    "                    'p': 1.0  # Probability of applying the augmentation\n",
    "                },\n",
    "                'apply_to_percentage': 0.5  # 50% of the training images\n",
    "            }        \n",
    "        }\n",
    "    }\n",
    "\n",
    "for i in range(N):\n",
    "    RUN = i + 1\n",
    "    try:\n",
    "        print(f\"Starting RUN: {RUN}\")\n",
    "        main(RUN, augmentation_metadata, task_name, sub_project_name, epochs, train_size, w1, w2)    \n",
    "    except Exception as e:\n",
    "        print(f\"Error in RUN: {RUN}\")\n",
    "        print(e)\n",
    "    finally:\n",
    "        clear_output(wait=True)  # Clear the output to avoid scrolling\n",
    "        gc.collect()  # Collect garbage to avoid memory leaks"
   ]
  },
  {
   "cell_type": "code",
   "execution_count": 15,
   "metadata": {},
   "outputs": [
    {
     "name": "stdout",
     "output_type": "stream",
     "text": [
      "Starting RUN: 5\n",
      "Seed:  1486835196\n"
     ]
    },
    {
     "name": "stderr",
     "output_type": "stream",
     "text": [
      "c:\\github\\Third-Year-Project\\Intruder-Aircraft-Detection\\main\\tl_clf.py:79: SettingWithCopyWarning:\n",
      "\n",
      "\n",
      "A value is trying to be set on a copy of a slice from a DataFrame.\n",
      "Try using .loc[row_indexer,col_indexer] = value instead\n",
      "\n",
      "See the caveats in the documentation: https://pandas.pydata.org/pandas-docs/stable/user_guide/indexing.html#returning-a-view-versus-a-copy\n",
      "\n",
      "c:\\github\\Third-Year-Project\\Intruder-Aircraft-Detection\\main\\tl_clf.py:80: SettingWithCopyWarning:\n",
      "\n",
      "\n",
      "A value is trying to be set on a copy of a slice from a DataFrame.\n",
      "Try using .loc[row_indexer,col_indexer] = value instead\n",
      "\n",
      "See the caveats in the documentation: https://pandas.pydata.org/pandas-docs/stable/user_guide/indexing.html#returning-a-view-versus-a-copy\n",
      "\n"
     ]
    },
    {
     "name": "stdout",
     "output_type": "stream",
     "text": [
      "Removing dataset if pre-existing\n",
      "Copying training files:\n"
     ]
    },
    {
     "name": "stderr",
     "output_type": "stream",
     "text": [
      "Copying files: 100%|██████████| 2000/2000 [00:01<00:00, 1651.76it/s]\n"
     ]
    },
    {
     "name": "stdout",
     "output_type": "stream",
     "text": [
      "Copying validation files:\n"
     ]
    },
    {
     "name": "stderr",
     "output_type": "stream",
     "text": [
      "Copying files: 100%|██████████| 400/400 [00:00<00:00, 2150.03it/s]\n"
     ]
    },
    {
     "name": "stdout",
     "output_type": "stream",
     "text": [
      "Dataset 'weather_23_1000' created at C:\\github\\Third-Year-Project\\Intruder-Aircraft-Detection\\datasets\\Custom\\weather_23_1000\n",
      "Processing train labels in weather_23_1000:\n"
     ]
    },
    {
     "name": "stderr",
     "output_type": "stream",
     "text": [
      "Processing labels: 100%|██████████| 1000/1000 [00:03<00:00, 251.57it/s]\n"
     ]
    },
    {
     "name": "stdout",
     "output_type": "stream",
     "text": [
      "Processing valid labels in weather_23_1000:\n"
     ]
    },
    {
     "name": "stderr",
     "output_type": "stream",
     "text": [
      "Processing labels: 100%|██████████| 200/200 [00:00<00:00, 259.68it/s]\n"
     ]
    },
    {
     "name": "stdout",
     "output_type": "stream",
     "text": [
      "Label correction completed.\n"
     ]
    },
    {
     "name": "stderr",
     "output_type": "stream",
     "text": [
      "Removing existing directories/files: 100%|██████████| 3/3 [00:00<00:00, 5994.72it/s]\n",
      "Copying files: 100%|██████████| 1000/1000 [00:00<00:00, 1217.66it/s]\n",
      "Copying files: 100%|██████████| 1000/1000 [00:00<00:00, 1439.51it/s]\n",
      "Applying augmentations: 100%|██████████| 500/500 [00:05<00:00, 84.79it/s]\n",
      "Processing images:  16%|█▌        | 160/1000 [00:06<00:23, 35.65it/s]"
     ]
    },
    {
     "name": "stdout",
     "output_type": "stream",
     "text": [
      "An error occurred with C:/github/Third-Year-Project/Intruder-Aircraft-Detection/datasets/Custom/weather_23_1000\\images\\train\\26227.jpg: Expected y_max for bbox (0.36195600000000006, 0.7324, 0.764684, 1.000886, 1) to be in the range [0.0, 1.0], got 1.000886.\n"
     ]
    },
    {
     "name": "stderr",
     "output_type": "stream",
     "text": [
      "Processing images:  80%|████████  | 805/1000 [00:26<00:05, 36.12it/s]"
     ]
    },
    {
     "name": "stdout",
     "output_type": "stream",
     "text": [
      "An error occurred with C:/github/Third-Year-Project/Intruder-Aircraft-Detection/datasets/Custom/weather_23_1000\\images\\train\\50719.jpg: Expected x_min for bbox (-0.11753550000000001, 0.31711149999999994, 0.8069695, 0.9334484999999999, 2) to be in the range [0.0, 1.0], got -0.11753550000000001.\n"
     ]
    },
    {
     "name": "stderr",
     "output_type": "stream",
     "text": [
      "Processing images:  84%|████████▎ | 837/1000 [00:27<00:04, 34.36it/s]"
     ]
    },
    {
     "name": "stdout",
     "output_type": "stream",
     "text": [
      "An error occurred with C:/github/Third-Year-Project/Intruder-Aircraft-Detection/datasets/Custom/weather_23_1000\\images\\train\\51009.jpg: Expected y_max for bbox (0.26693300000000003, 0.6076385000000001, 0.916885, 1.0409395000000001, 2) to be in the range [0.0, 1.0], got 1.0409395000000001.\n"
     ]
    },
    {
     "name": "stderr",
     "output_type": "stream",
     "text": [
      "Processing images:  87%|████████▋ | 873/1000 [00:28<00:03, 34.27it/s]"
     ]
    },
    {
     "name": "stdout",
     "output_type": "stream",
     "text": [
      "An error occurred with C:/github/Third-Year-Project/Intruder-Aircraft-Detection/datasets/Custom/weather_23_1000\\images\\train\\51177.jpg: Expected x_max for bbox (0.30940350000000005, 0.6482319999999999, 1.1197745000000001, 1.1884799999999998, 2) to be in the range [0.0, 1.0], got 1.1197745000000001.\n"
     ]
    },
    {
     "name": "stderr",
     "output_type": "stream",
     "text": [
      "Processing images:  94%|█████████▍| 938/1000 [00:30<00:01, 35.50it/s]"
     ]
    },
    {
     "name": "stdout",
     "output_type": "stream",
     "text": [
      "An error occurred with C:/github/Third-Year-Project/Intruder-Aircraft-Detection/datasets/Custom/weather_23_1000\\images\\train\\51548.jpg: Expected y_max for bbox (0.38042449999999994, 0.694677, 0.8531095, 1.009801, 2) to be in the range [0.0, 1.0], got 1.009801.\n"
     ]
    },
    {
     "name": "stderr",
     "output_type": "stream",
     "text": [
      "Processing images:  98%|█████████▊| 983/1000 [00:31<00:00, 35.09it/s]"
     ]
    },
    {
     "name": "stdout",
     "output_type": "stream",
     "text": [
      "An error occurred with C:/github/Third-Year-Project/Intruder-Aircraft-Detection/datasets/Custom/weather_23_1000\\images\\train\\51806.jpg: Expected x_min for bbox (-0.14135050000000005, 0.26239999999999997, 0.7313425, 0.844196, 2) to be in the range [0.0, 1.0], got -0.14135050000000005.\n",
      "An error occurred with C:/github/Third-Year-Project/Intruder-Aircraft-Detection/datasets/Custom/weather_23_1000\\images\\train\\51848.jpg: In YOLO format all coordinates must be float and in range (0, 1]\n"
     ]
    },
    {
     "name": "stderr",
     "output_type": "stream",
     "text": [
      "Processing images: 100%|██████████| 1000/1000 [00:31<00:00, 31.42it/s]\n",
      "Processing images:  15%|█▌        | 227/1500 [00:10<00:36, 35.11it/s]"
     ]
    },
    {
     "name": "stdout",
     "output_type": "stream",
     "text": [
      "An error occurred with C:/github/Third-Year-Project/Intruder-Aircraft-Detection/datasets/Custom/weather_23_1000\\images\\train-aug\\26227.jpg: Expected y_max for bbox (0.36195600000000006, 0.7324, 0.764684, 1.000886, 1) to be in the range [0.0, 1.0], got 1.000886.\n",
      "An error occurred with C:/github/Third-Year-Project/Intruder-Aircraft-Detection/datasets/Custom/weather_23_1000\\images\\train-aug\\26227-histEq.jpg: Expected y_max for bbox (0.36195600000000006, 0.7324, 0.764684, 1.000886, 1) to be in the range [0.0, 1.0], got 1.000886.\n"
     ]
    },
    {
     "name": "stderr",
     "output_type": "stream",
     "text": [
      "Processing images:  81%|████████  | 1209/1500 [00:40<00:08, 34.75it/s]"
     ]
    },
    {
     "name": "stdout",
     "output_type": "stream",
     "text": [
      "An error occurred with C:/github/Third-Year-Project/Intruder-Aircraft-Detection/datasets/Custom/weather_23_1000\\images\\train-aug\\50719.jpg: Expected x_min for bbox (-0.11753550000000001, 0.31711149999999994, 0.8069695, 0.9334484999999999, 2) to be in the range [0.0, 1.0], got -0.11753550000000001.\n"
     ]
    },
    {
     "name": "stderr",
     "output_type": "stream",
     "text": [
      "Processing images:  84%|████████▍ | 1262/1500 [00:42<00:07, 33.52it/s]"
     ]
    },
    {
     "name": "stdout",
     "output_type": "stream",
     "text": [
      "An error occurred with C:/github/Third-Year-Project/Intruder-Aircraft-Detection/datasets/Custom/weather_23_1000\\images\\train-aug\\51009.jpg: Expected y_max for bbox (0.26693300000000003, 0.6076385000000001, 0.916885, 1.0409395000000001, 2) to be in the range [0.0, 1.0], got 1.0409395000000001.\n"
     ]
    },
    {
     "name": "stderr",
     "output_type": "stream",
     "text": [
      "Processing images:  87%|████████▋ | 1299/1500 [00:43<00:05, 36.04it/s]"
     ]
    },
    {
     "name": "stdout",
     "output_type": "stream",
     "text": [
      "An error occurred with C:/github/Third-Year-Project/Intruder-Aircraft-Detection/datasets/Custom/weather_23_1000\\images\\train-aug\\51177.jpg: Expected x_max for bbox (0.30940350000000005, 0.6482319999999999, 1.1197745000000001, 1.1884799999999998, 2) to be in the range [0.0, 1.0], got 1.1197745000000001.\n"
     ]
    },
    {
     "name": "stderr",
     "output_type": "stream",
     "text": [
      "Processing images:  93%|█████████▎| 1396/1500 [00:46<00:03, 34.21it/s]"
     ]
    },
    {
     "name": "stdout",
     "output_type": "stream",
     "text": [
      "An error occurred with C:/github/Third-Year-Project/Intruder-Aircraft-Detection/datasets/Custom/weather_23_1000\\images\\train-aug\\51548.jpg: Expected y_max for bbox (0.38042449999999994, 0.694677, 0.8531095, 1.009801, 2) to be in the range [0.0, 1.0], got 1.009801.\n"
     ]
    },
    {
     "name": "stderr",
     "output_type": "stream",
     "text": [
      "Processing images:  98%|█████████▊| 1474/1500 [00:48<00:00, 37.44it/s]"
     ]
    },
    {
     "name": "stdout",
     "output_type": "stream",
     "text": [
      "An error occurred with C:/github/Third-Year-Project/Intruder-Aircraft-Detection/datasets/Custom/weather_23_1000\\images\\train-aug\\51806.jpg: Expected x_min for bbox (-0.14135050000000005, 0.26239999999999997, 0.7313425, 0.844196, 2) to be in the range [0.0, 1.0], got -0.14135050000000005.\n",
      "An error occurred with C:/github/Third-Year-Project/Intruder-Aircraft-Detection/datasets/Custom/weather_23_1000\\images\\train-aug\\51806-histEq.jpg: Expected x_min for bbox (-0.14135050000000005, 0.26239999999999997, 0.7313425, 0.844196, 2) to be in the range [0.0, 1.0], got -0.14135050000000005.\n"
     ]
    },
    {
     "name": "stderr",
     "output_type": "stream",
     "text": [
      "Processing images:  99%|█████████▉| 1483/1500 [00:49<00:00, 36.88it/s]"
     ]
    },
    {
     "name": "stdout",
     "output_type": "stream",
     "text": [
      "An error occurred with C:/github/Third-Year-Project/Intruder-Aircraft-Detection/datasets/Custom/weather_23_1000\\images\\train-aug\\51848.jpg: In YOLO format all coordinates must be float and in range (0, 1]\n"
     ]
    },
    {
     "name": "stderr",
     "output_type": "stream",
     "text": [
      "Processing images: 100%|██████████| 1500/1500 [00:49<00:00, 30.27it/s]\n",
      "Processing images:   8%|▊         | 17/200 [00:00<00:09, 18.33it/s]"
     ]
    },
    {
     "name": "stdout",
     "output_type": "stream",
     "text": [
      "An error occurred with C:/github/Third-Year-Project/Intruder-Aircraft-Detection/datasets/Custom/weather_23_1000\\images\\valid\\26926.jpg: Expected y_min for bbox (0.38187599999999994, -0.12572450000000002, 1.180976, 0.4070085, 1) to be in the range [0.0, 1.0], got -0.12572450000000002.\n"
     ]
    },
    {
     "name": "stderr",
     "output_type": "stream",
     "text": [
      "Processing images:  75%|███████▌  | 150/200 [00:04<00:01, 36.81it/s]"
     ]
    },
    {
     "name": "stdout",
     "output_type": "stream",
     "text": [
      "An error occurred with C:/github/Third-Year-Project/Intruder-Aircraft-Detection/datasets/Custom/weather_23_1000\\images\\valid\\50917.jpg: Expected y_min for bbox (0.3312055, -0.11337250000000001, 1.1166544999999999, 0.41026050000000003, 2) to be in the range [0.0, 1.0], got -0.11337250000000001.\n"
     ]
    },
    {
     "name": "stderr",
     "output_type": "stream",
     "text": [
      "Processing images:  88%|████████▊ | 175/200 [00:05<00:00, 36.79it/s]"
     ]
    },
    {
     "name": "stdout",
     "output_type": "stream",
     "text": [
      "An error occurred with C:/github/Third-Year-Project/Intruder-Aircraft-Detection/datasets/Custom/weather_23_1000\\images\\valid\\50955.jpg: Expected x_min for bbox (-0.021672000000000025, 0.2856885, 0.507494, 0.6384655, 2) to be in the range [0.0, 1.0], got -0.021672000000000025.\n"
     ]
    },
    {
     "name": "stderr",
     "output_type": "stream",
     "text": [
      "Processing images: 100%|██████████| 200/200 [00:06<00:00, 31.01it/s]\n",
      "Moving images in train: 100%|██████████| 993/993 [00:03<00:00, 274.69it/s]\n",
      "Moving images in train-aug: 100%|██████████| 1491/1491 [00:03<00:00, 429.76it/s]\n",
      "Moving images in valid: 100%|██████████| 197/197 [00:00<00:00, 268.81it/s]\n"
     ]
    },
    {
     "name": "stdout",
     "output_type": "stream",
     "text": [
      "Found 993 files belonging to 3 classes.\n",
      "Found 1491 files belonging to 3 classes.\n",
      "Found 197 files belonging to 3 classes.\n",
      "ClearML Task: created new task id=b37152041701465ca6b9a30c58553df2\n",
      "ClearML results page: https://app.clear.ml/projects/62a798cfc814437d80f9638b3e3aca6d/experiments/b37152041701465ca6b9a30c58553df2/output/log\n",
      "Training model...\n",
      "Epoch 1/30\n",
      "\u001b[1m32/32\u001b[0m \u001b[32m━━━━━━━━━━━━━━━━━━━━\u001b[0m\u001b[37m\u001b[0m \u001b[1m11s\u001b[0m 273ms/step - accuracy: 0.3503 - loss: 2.4731 - precision: 0.3599 - recall: 0.1939 - val_accuracy: 0.3401 - val_loss: 1.0986 - val_precision: 0.0000e+00 - val_recall: 0.0000e+00\n",
      "Epoch 2/30\n",
      "\u001b[1m32/32\u001b[0m \u001b[32m━━━━━━━━━━━━━━━━━━━━\u001b[0m\u001b[37m\u001b[0m \u001b[1m7s\u001b[0m 225ms/step - accuracy: 0.3314 - loss: 1.0990 - precision: 0.0000e+00 - recall: 0.0000e+00 - val_accuracy: 0.3401 - val_loss: 1.0984 - val_precision: 0.0000e+00 - val_recall: 0.0000e+00\n",
      "Epoch 3/30\n",
      "\u001b[1m32/32\u001b[0m \u001b[32m━━━━━━━━━━━━━━━━━━━━\u001b[0m\u001b[37m\u001b[0m \u001b[1m7s\u001b[0m 217ms/step - accuracy: 0.3331 - loss: 1.0988 - precision: 0.0000e+00 - recall: 0.0000e+00 - val_accuracy: 0.3249 - val_loss: 1.0983 - val_precision: 0.0000e+00 - val_recall: 0.0000e+00\n",
      "Epoch 4/30\n",
      "\u001b[1m32/32\u001b[0m \u001b[32m━━━━━━━━━━━━━━━━━━━━\u001b[0m\u001b[37m\u001b[0m \u001b[1m7s\u001b[0m 219ms/step - accuracy: 0.3505 - loss: 1.0991 - precision: 0.0000e+00 - recall: 0.0000e+00 - val_accuracy: 0.5025 - val_loss: 1.0972 - val_precision: 0.0000e+00 - val_recall: 0.0000e+00\n",
      "Epoch 5/30\n",
      "\u001b[1m32/32\u001b[0m \u001b[32m━━━━━━━━━━━━━━━━━━━━\u001b[0m\u001b[37m\u001b[0m \u001b[1m7s\u001b[0m 214ms/step - accuracy: 0.4034 - loss: 1.1011 - precision: 0.0000e+00 - recall: 0.0000e+00 - val_accuracy: 0.5888 - val_loss: 1.0807 - val_precision: 0.0000e+00 - val_recall: 0.0000e+00\n",
      "Epoch 6/30\n",
      "\u001b[1m32/32\u001b[0m \u001b[32m━━━━━━━━━━━━━━━━━━━━\u001b[0m\u001b[37m\u001b[0m \u001b[1m8s\u001b[0m 230ms/step - accuracy: 0.4516 - loss: 1.1146 - precision: 0.2954 - recall: 0.0237 - val_accuracy: 0.3249 - val_loss: 1.1026 - val_precision: 0.0000e+00 - val_recall: 0.0000e+00\n",
      "Epoch 7/30\n",
      "\u001b[1m32/32\u001b[0m \u001b[32m━━━━━━━━━━━━━━━━━━━━\u001b[0m\u001b[37m\u001b[0m \u001b[1m9s\u001b[0m 264ms/step - accuracy: 0.4309 - loss: 1.0942 - precision: 0.0000e+00 - recall: 0.0000e+00 - val_accuracy: 0.4670 - val_loss: 1.0479 - val_precision: 0.8000 - val_recall: 0.0406\n",
      "Epoch 8/30\n",
      "\u001b[1m32/32\u001b[0m \u001b[32m━━━━━━━━━━━━━━━━━━━━\u001b[0m\u001b[37m\u001b[0m \u001b[1m7s\u001b[0m 219ms/step - accuracy: 0.4439 - loss: 1.0683 - precision: 0.6811 - recall: 0.0641 - val_accuracy: 0.5178 - val_loss: 1.0286 - val_precision: 0.6061 - val_recall: 0.1015\n",
      "Epoch 9/30\n",
      "\u001b[1m32/32\u001b[0m \u001b[32m━━━━━━━━━━━━━━━━━━━━\u001b[0m\u001b[37m\u001b[0m \u001b[1m7s\u001b[0m 215ms/step - accuracy: 0.5534 - loss: 0.9703 - precision: 0.6909 - recall: 0.2215 - val_accuracy: 0.6548 - val_loss: 0.7478 - val_precision: 0.7152 - val_recall: 0.5736\n",
      "Epoch 10/30\n",
      "\u001b[1m32/32\u001b[0m \u001b[32m━━━━━━━━━━━━━━━━━━━━\u001b[0m\u001b[37m\u001b[0m \u001b[1m7s\u001b[0m 218ms/step - accuracy: 0.6845 - loss: 0.7543 - precision: 0.7543 - recall: 0.5534 - val_accuracy: 0.4721 - val_loss: 1.5643 - val_precision: 0.4745 - val_recall: 0.4721\n",
      "Epoch 11/30\n",
      "\u001b[1m32/32\u001b[0m \u001b[32m━━━━━━━━━━━━━━━━━━━━\u001b[0m\u001b[37m\u001b[0m \u001b[1m7s\u001b[0m 218ms/step - accuracy: 0.5943 - loss: 0.9420 - precision: 0.6998 - recall: 0.3434 - val_accuracy: 0.5787 - val_loss: 0.9258 - val_precision: 0.6190 - val_recall: 0.3299\n",
      "Epoch 12/30\n",
      "\u001b[1m32/32\u001b[0m \u001b[32m━━━━━━━━━━━━━━━━━━━━\u001b[0m\u001b[37m\u001b[0m \u001b[1m7s\u001b[0m 223ms/step - accuracy: 0.6586 - loss: 0.7691 - precision: 0.7546 - recall: 0.4590 - val_accuracy: 0.6244 - val_loss: 0.8516 - val_precision: 0.7383 - val_recall: 0.4010\n",
      "Epoch 13/30\n",
      "\u001b[1m32/32\u001b[0m \u001b[32m━━━━━━━━━━━━━━━━━━━━\u001b[0m\u001b[37m\u001b[0m \u001b[1m7s\u001b[0m 218ms/step - accuracy: 0.6850 - loss: 0.8340 - precision: 0.8643 - recall: 0.2830 - val_accuracy: 0.6701 - val_loss: 0.7423 - val_precision: 0.7076 - val_recall: 0.6142\n",
      "Epoch 14/30\n",
      "\u001b[1m32/32\u001b[0m \u001b[32m━━━━━━━━━━━━━━━━━━━━\u001b[0m\u001b[37m\u001b[0m \u001b[1m7s\u001b[0m 222ms/step - accuracy: 0.7179 - loss: 0.6405 - precision: 0.7690 - recall: 0.6506 - val_accuracy: 0.7614 - val_loss: 0.6899 - val_precision: 0.7816 - val_recall: 0.6904\n",
      "Epoch 15/30\n",
      "\u001b[1m32/32\u001b[0m \u001b[32m━━━━━━━━━━━━━━━━━━━━\u001b[0m\u001b[37m\u001b[0m \u001b[1m8s\u001b[0m 234ms/step - accuracy: 0.7762 - loss: 0.5769 - precision: 0.8114 - recall: 0.7175 - val_accuracy: 0.7259 - val_loss: 0.6912 - val_precision: 0.7572 - val_recall: 0.6650\n",
      "Epoch 16/30\n",
      "\u001b[1m32/32\u001b[0m \u001b[32m━━━━━━━━━━━━━━━━━━━━\u001b[0m\u001b[37m\u001b[0m \u001b[1m7s\u001b[0m 219ms/step - accuracy: 0.8120 - loss: 0.5097 - precision: 0.8564 - recall: 0.7540 - val_accuracy: 0.7817 - val_loss: 0.6712 - val_precision: 0.8077 - val_recall: 0.7462\n",
      "Epoch 17/30\n",
      "\u001b[1m32/32\u001b[0m \u001b[32m━━━━━━━━━━━━━━━━━━━━\u001b[0m\u001b[37m\u001b[0m \u001b[1m7s\u001b[0m 223ms/step - accuracy: 0.8062 - loss: 0.4724 - precision: 0.8323 - recall: 0.7773 - val_accuracy: 0.7919 - val_loss: 0.6492 - val_precision: 0.8066 - val_recall: 0.7411\n",
      "Epoch 18/30\n",
      "\u001b[1m32/32\u001b[0m \u001b[32m━━━━━━━━━━━━━━━━━━━━\u001b[0m\u001b[37m\u001b[0m \u001b[1m7s\u001b[0m 219ms/step - accuracy: 0.8331 - loss: 0.4308 - precision: 0.8540 - recall: 0.8000 - val_accuracy: 0.7513 - val_loss: 0.7013 - val_precision: 0.7617 - val_recall: 0.7462\n",
      "Epoch 19/30\n",
      "\u001b[1m32/32\u001b[0m \u001b[32m━━━━━━━━━━━━━━━━━━━━\u001b[0m\u001b[37m\u001b[0m \u001b[1m7s\u001b[0m 217ms/step - accuracy: 0.8185 - loss: 0.4314 - precision: 0.8380 - recall: 0.7786 - val_accuracy: 0.8173 - val_loss: 0.6677 - val_precision: 0.8360 - val_recall: 0.8020\n",
      "Epoch 20/30\n",
      "\u001b[1m32/32\u001b[0m \u001b[32m━━━━━━━━━━━━━━━━━━━━\u001b[0m\u001b[37m\u001b[0m \u001b[1m7s\u001b[0m 217ms/step - accuracy: 0.8689 - loss: 0.3618 - precision: 0.8852 - recall: 0.8455 - val_accuracy: 0.8325 - val_loss: 0.6869 - val_precision: 0.8342 - val_recall: 0.8173\n",
      "Epoch 21/30\n",
      "\u001b[1m32/32\u001b[0m \u001b[32m━━━━━━━━━━━━━━━━━━━━\u001b[0m\u001b[37m\u001b[0m \u001b[1m7s\u001b[0m 221ms/step - accuracy: 0.8735 - loss: 0.3404 - precision: 0.8788 - recall: 0.8516 - val_accuracy: 0.7868 - val_loss: 0.7488 - val_precision: 0.7872 - val_recall: 0.7513\n",
      "Epoch 22/30\n",
      "\u001b[1m32/32\u001b[0m \u001b[32m━━━━━━━━━━━━━━━━━━━━\u001b[0m\u001b[37m\u001b[0m \u001b[1m7s\u001b[0m 217ms/step - accuracy: 0.8605 - loss: 0.3469 - precision: 0.8737 - recall: 0.8332 - val_accuracy: 0.8528 - val_loss: 0.6469 - val_precision: 0.8608 - val_recall: 0.8477\n",
      "Epoch 23/30\n",
      "\u001b[1m32/32\u001b[0m \u001b[32m━━━━━━━━━━━━━━━━━━━━\u001b[0m\u001b[37m\u001b[0m \u001b[1m7s\u001b[0m 217ms/step - accuracy: 0.8909 - loss: 0.3029 - precision: 0.8987 - recall: 0.8778 - val_accuracy: 0.7919 - val_loss: 0.7508 - val_precision: 0.7989 - val_recall: 0.7665\n",
      "Epoch 24/30\n",
      "\u001b[1m32/32\u001b[0m \u001b[32m━━━━━━━━━━━━━━━━━━━━\u001b[0m\u001b[37m\u001b[0m \u001b[1m7s\u001b[0m 216ms/step - accuracy: 0.8551 - loss: 0.3950 - precision: 0.8661 - recall: 0.8277 - val_accuracy: 0.7868 - val_loss: 0.7206 - val_precision: 0.7927 - val_recall: 0.7766\n",
      "Epoch 25/30\n",
      "\u001b[1m32/32\u001b[0m \u001b[32m━━━━━━━━━━━━━━━━━━━━\u001b[0m\u001b[37m\u001b[0m \u001b[1m7s\u001b[0m 222ms/step - accuracy: 0.8654 - loss: 0.3163 - precision: 0.8828 - recall: 0.8553 - val_accuracy: 0.8020 - val_loss: 0.6979 - val_precision: 0.8128 - val_recall: 0.7716\n",
      "Epoch 26/30\n",
      "\u001b[1m32/32\u001b[0m \u001b[32m━━━━━━━━━━━━━━━━━━━━\u001b[0m\u001b[37m\u001b[0m \u001b[1m7s\u001b[0m 221ms/step - accuracy: 0.8928 - loss: 0.2673 - precision: 0.9012 - recall: 0.8831 - val_accuracy: 0.8325 - val_loss: 0.6985 - val_precision: 0.8394 - val_recall: 0.8223\n",
      "Epoch 27/30\n",
      "\u001b[1m32/32\u001b[0m \u001b[32m━━━━━━━━━━━━━━━━━━━━\u001b[0m\u001b[37m\u001b[0m \u001b[1m7s\u001b[0m 217ms/step - accuracy: 0.9140 - loss: 0.2360 - precision: 0.9241 - recall: 0.9064 - val_accuracy: 0.8223 - val_loss: 0.7716 - val_precision: 0.8299 - val_recall: 0.8173\n",
      "Epoch 28/30\n",
      "\u001b[1m32/32\u001b[0m \u001b[32m━━━━━━━━━━━━━━━━━━━━\u001b[0m\u001b[37m\u001b[0m \u001b[1m7s\u001b[0m 217ms/step - accuracy: 0.9225 - loss: 0.2299 - precision: 0.9256 - recall: 0.9118 - val_accuracy: 0.8325 - val_loss: 0.7924 - val_precision: 0.8367 - val_recall: 0.8325\n",
      "Epoch 29/30\n",
      "\u001b[1m32/32\u001b[0m \u001b[32m━━━━━━━━━━━━━━━━━━━━\u001b[0m\u001b[37m\u001b[0m \u001b[1m7s\u001b[0m 217ms/step - accuracy: 0.9253 - loss: 0.2067 - precision: 0.9278 - recall: 0.9207 - val_accuracy: 0.7868 - val_loss: 0.8162 - val_precision: 0.7990 - val_recall: 0.7868\n",
      "Epoch 30/30\n",
      "\u001b[1m32/32\u001b[0m \u001b[32m━━━━━━━━━━━━━━━━━━━━\u001b[0m\u001b[37m\u001b[0m \u001b[1m7s\u001b[0m 219ms/step - accuracy: 0.8991 - loss: 0.2641 - precision: 0.9061 - recall: 0.8891 - val_accuracy: 0.8020 - val_loss: 0.8674 - val_precision: 0.8041 - val_recall: 0.7919\n",
      "Predicting on validation set...\n",
      "\u001b[1m7/7\u001b[0m \u001b[32m━━━━━━━━━━━━━━━━━━━━\u001b[0m\u001b[37m\u001b[0m \u001b[1m1s\u001b[0m 52ms/step\n",
      "Sending metrics to clearML...\n",
      "done\n",
      "ClearML Task: created new task id=57602cca99d240369d93f67dae1ef322\n",
      "ClearML results page: https://app.clear.ml/projects/62a798cfc814437d80f9638b3e3aca6d/experiments/57602cca99d240369d93f67dae1ef322/output/log\n",
      "Training model...\n",
      "Epoch 1/30\n",
      "\u001b[1m47/47\u001b[0m \u001b[32m━━━━━━━━━━━━━━━━━━━━\u001b[0m\u001b[37m\u001b[0m \u001b[1m14s\u001b[0m 261ms/step - accuracy: 0.3101 - loss: 1.9986 - precision: 0.3072 - recall: 0.1132 - val_accuracy: 0.3401 - val_loss: 1.0987 - val_precision: 0.0000e+00 - val_recall: 0.0000e+00\n",
      "Epoch 2/30\n",
      "\u001b[1m47/47\u001b[0m \u001b[32m━━━━━━━━━━━━━━━━━━━━\u001b[0m\u001b[37m\u001b[0m \u001b[1m11s\u001b[0m 219ms/step - accuracy: 0.3199 - loss: 1.1001 - precision: 0.0000e+00 - recall: 0.0000e+00 - val_accuracy: 0.3249 - val_loss: 1.0983 - val_precision: 0.0000e+00 - val_recall: 0.0000e+00\n",
      "Epoch 3/30\n",
      "\u001b[1m47/47\u001b[0m \u001b[32m━━━━━━━━━━━━━━━━━━━━\u001b[0m\u001b[37m\u001b[0m \u001b[1m10s\u001b[0m 218ms/step - accuracy: 0.3607 - loss: 1.0984 - precision: 0.0000e+00 - recall: 0.0000e+00 - val_accuracy: 0.4772 - val_loss: 1.0934 - val_precision: 0.0000e+00 - val_recall: 0.0000e+00\n",
      "Epoch 4/30\n",
      "\u001b[1m47/47\u001b[0m \u001b[32m━━━━━━━━━━━━━━━━━━━━\u001b[0m\u001b[37m\u001b[0m \u001b[1m10s\u001b[0m 217ms/step - accuracy: 0.4103 - loss: 1.0967 - precision: 0.0000e+00 - recall: 0.0000e+00 - val_accuracy: 0.4518 - val_loss: 1.0926 - val_precision: 0.0000e+00 - val_recall: 0.0000e+00\n",
      "Epoch 5/30\n",
      "\u001b[1m47/47\u001b[0m \u001b[32m━━━━━━━━━━━━━━━━━━━━\u001b[0m\u001b[37m\u001b[0m \u001b[1m12s\u001b[0m 256ms/step - accuracy: 0.4996 - loss: 1.1016 - precision: 0.4197 - recall: 0.0191 - val_accuracy: 0.3401 - val_loss: 1.0985 - val_precision: 0.0000e+00 - val_recall: 0.0000e+00\n",
      "Epoch 6/30\n",
      "\u001b[1m47/47\u001b[0m \u001b[32m━━━━━━━━━━━━━━━━━━━━\u001b[0m\u001b[37m\u001b[0m \u001b[1m11s\u001b[0m 218ms/step - accuracy: 0.3366 - loss: 1.1012 - precision: 0.0000e+00 - recall: 0.0000e+00 - val_accuracy: 0.3401 - val_loss: 1.0981 - val_precision: 0.0000e+00 - val_recall: 0.0000e+00\n",
      "Epoch 7/30\n",
      "\u001b[1m47/47\u001b[0m \u001b[32m━━━━━━━━━━━━━━━━━━━━\u001b[0m\u001b[37m\u001b[0m \u001b[1m10s\u001b[0m 217ms/step - accuracy: 0.3513 - loss: 1.0985 - precision: 0.0000e+00 - recall: 0.0000e+00 - val_accuracy: 0.3909 - val_loss: 1.0976 - val_precision: 0.0000e+00 - val_recall: 0.0000e+00\n",
      "Epoch 8/30\n",
      "\u001b[1m47/47\u001b[0m \u001b[32m━━━━━━━━━━━━━━━━━━━━\u001b[0m\u001b[37m\u001b[0m \u001b[1m10s\u001b[0m 216ms/step - accuracy: 0.3555 - loss: 1.0985 - precision: 0.0000e+00 - recall: 0.0000e+00 - val_accuracy: 0.4772 - val_loss: 1.0972 - val_precision: 0.0000e+00 - val_recall: 0.0000e+00\n",
      "Epoch 9/30\n",
      "\u001b[1m47/47\u001b[0m \u001b[32m━━━━━━━━━━━━━━━━━━━━\u001b[0m\u001b[37m\u001b[0m \u001b[1m11s\u001b[0m 222ms/step - accuracy: 0.3864 - loss: 1.0971 - precision: 0.0000e+00 - recall: 0.0000e+00 - val_accuracy: 0.3401 - val_loss: 1.0938 - val_precision: 0.0000e+00 - val_recall: 0.0000e+00\n",
      "Epoch 10/30\n",
      "\u001b[1m47/47\u001b[0m \u001b[32m━━━━━━━━━━━━━━━━━━━━\u001b[0m\u001b[37m\u001b[0m \u001b[1m10s\u001b[0m 217ms/step - accuracy: 0.3942 - loss: 1.0867 - precision: 0.3885 - recall: 0.0030 - val_accuracy: 0.4975 - val_loss: 1.0115 - val_precision: 1.0000 - val_recall: 0.0203\n",
      "Epoch 11/30\n",
      "\u001b[1m47/47\u001b[0m \u001b[32m━━━━━━━━━━━━━━━━━━━━\u001b[0m\u001b[37m\u001b[0m \u001b[1m10s\u001b[0m 218ms/step - accuracy: 0.5666 - loss: 0.9657 - precision: 0.6300 - recall: 0.1929 - val_accuracy: 0.6599 - val_loss: 0.7964 - val_precision: 0.7642 - val_recall: 0.4772\n",
      "Epoch 12/30\n",
      "\u001b[1m47/47\u001b[0m \u001b[32m━━━━━━━━━━━━━━━━━━━━\u001b[0m\u001b[37m\u001b[0m \u001b[1m11s\u001b[0m 219ms/step - accuracy: 0.7071 - loss: 0.7078 - precision: 0.7729 - recall: 0.5755 - val_accuracy: 0.6853 - val_loss: 0.7340 - val_precision: 0.7279 - val_recall: 0.5025\n",
      "Epoch 13/30\n",
      "\u001b[1m47/47\u001b[0m \u001b[32m━━━━━━━━━━━━━━━━━━━━\u001b[0m\u001b[37m\u001b[0m \u001b[1m11s\u001b[0m 219ms/step - accuracy: 0.7564 - loss: 0.6267 - precision: 0.8181 - recall: 0.6264 - val_accuracy: 0.7817 - val_loss: 0.6454 - val_precision: 0.8176 - val_recall: 0.7056\n",
      "Epoch 14/30\n",
      "\u001b[1m47/47\u001b[0m \u001b[32m━━━━━━━━━━━━━━━━━━━━\u001b[0m\u001b[37m\u001b[0m \u001b[1m11s\u001b[0m 218ms/step - accuracy: 0.8004 - loss: 0.5242 - precision: 0.8324 - recall: 0.7512 - val_accuracy: 0.7817 - val_loss: 0.6518 - val_precision: 0.7979 - val_recall: 0.7614\n",
      "Epoch 15/30\n",
      "\u001b[1m47/47\u001b[0m \u001b[32m━━━━━━━━━━━━━━━━━━━━\u001b[0m\u001b[37m\u001b[0m \u001b[1m11s\u001b[0m 218ms/step - accuracy: 0.8527 - loss: 0.4085 - precision: 0.8670 - recall: 0.8318 - val_accuracy: 0.8274 - val_loss: 0.6123 - val_precision: 0.8402 - val_recall: 0.8274\n",
      "Epoch 16/30\n",
      "\u001b[1m47/47\u001b[0m \u001b[32m━━━━━━━━━━━━━━━━━━━━\u001b[0m\u001b[37m\u001b[0m \u001b[1m11s\u001b[0m 222ms/step - accuracy: 0.8518 - loss: 0.3694 - precision: 0.8772 - recall: 0.8373 - val_accuracy: 0.8122 - val_loss: 0.6596 - val_precision: 0.8272 - val_recall: 0.8020\n",
      "Epoch 17/30\n",
      "\u001b[1m47/47\u001b[0m \u001b[32m━━━━━━━━━━━━━━━━━━━━\u001b[0m\u001b[37m\u001b[0m \u001b[1m10s\u001b[0m 217ms/step - accuracy: 0.8661 - loss: 0.3377 - precision: 0.8826 - recall: 0.8538 - val_accuracy: 0.8325 - val_loss: 0.6734 - val_precision: 0.8454 - val_recall: 0.8325\n",
      "Epoch 18/30\n",
      "\u001b[1m47/47\u001b[0m \u001b[32m━━━━━━━━━━━━━━━━━━━━\u001b[0m\u001b[37m\u001b[0m \u001b[1m11s\u001b[0m 220ms/step - accuracy: 0.8798 - loss: 0.3172 - precision: 0.8990 - recall: 0.8632 - val_accuracy: 0.8426 - val_loss: 0.7089 - val_precision: 0.8462 - val_recall: 0.8376\n",
      "Epoch 19/30\n",
      "\u001b[1m47/47\u001b[0m \u001b[32m━━━━━━━━━━━━━━━━━━━━\u001b[0m\u001b[37m\u001b[0m \u001b[1m11s\u001b[0m 221ms/step - accuracy: 0.9044 - loss: 0.2658 - precision: 0.9145 - recall: 0.8899 - val_accuracy: 0.8173 - val_loss: 0.7166 - val_precision: 0.8261 - val_recall: 0.7716\n",
      "Epoch 20/30\n",
      "\u001b[1m47/47\u001b[0m \u001b[32m━━━━━━━━━━━━━━━━━━━━\u001b[0m\u001b[37m\u001b[0m \u001b[1m11s\u001b[0m 220ms/step - accuracy: 0.9041 - loss: 0.2697 - precision: 0.9213 - recall: 0.8837 - val_accuracy: 0.8071 - val_loss: 0.6865 - val_precision: 0.8404 - val_recall: 0.8020\n",
      "Epoch 21/30\n",
      "\u001b[1m47/47\u001b[0m \u001b[32m━━━━━━━━━━━━━━━━━━━━\u001b[0m\u001b[37m\u001b[0m \u001b[1m11s\u001b[0m 219ms/step - accuracy: 0.9145 - loss: 0.2422 - precision: 0.9203 - recall: 0.9037 - val_accuracy: 0.8376 - val_loss: 0.7535 - val_precision: 0.8505 - val_recall: 0.8376\n",
      "Epoch 22/30\n",
      "\u001b[1m47/47\u001b[0m \u001b[32m━━━━━━━━━━━━━━━━━━━━\u001b[0m\u001b[37m\u001b[0m \u001b[1m10s\u001b[0m 216ms/step - accuracy: 0.9215 - loss: 0.2034 - precision: 0.9241 - recall: 0.9152 - val_accuracy: 0.8274 - val_loss: 0.8254 - val_precision: 0.8316 - val_recall: 0.8274\n",
      "Epoch 23/30\n",
      "\u001b[1m47/47\u001b[0m \u001b[32m━━━━━━━━━━━━━━━━━━━━\u001b[0m\u001b[37m\u001b[0m \u001b[1m10s\u001b[0m 218ms/step - accuracy: 0.9209 - loss: 0.2036 - precision: 0.9302 - recall: 0.9189 - val_accuracy: 0.8376 - val_loss: 0.8058 - val_precision: 0.8454 - val_recall: 0.8325\n",
      "Epoch 24/30\n",
      "\u001b[1m47/47\u001b[0m \u001b[32m━━━━━━━━━━━━━━━━━━━━\u001b[0m\u001b[37m\u001b[0m \u001b[1m11s\u001b[0m 220ms/step - accuracy: 0.9419 - loss: 0.1662 - precision: 0.9419 - recall: 0.9357 - val_accuracy: 0.8528 - val_loss: 0.7843 - val_precision: 0.8520 - val_recall: 0.8477\n",
      "Epoch 25/30\n",
      "\u001b[1m47/47\u001b[0m \u001b[32m━━━━━━━━━━━━━━━━━━━━\u001b[0m\u001b[37m\u001b[0m \u001b[1m10s\u001b[0m 216ms/step - accuracy: 0.9287 - loss: 0.1698 - precision: 0.9309 - recall: 0.9240 - val_accuracy: 0.8579 - val_loss: 0.7613 - val_precision: 0.8667 - val_recall: 0.8579\n",
      "Epoch 26/30\n",
      "\u001b[1m47/47\u001b[0m \u001b[32m━━━━━━━━━━━━━━━━━━━━\u001b[0m\u001b[37m\u001b[0m \u001b[1m11s\u001b[0m 222ms/step - accuracy: 0.9469 - loss: 0.1506 - precision: 0.9509 - recall: 0.9409 - val_accuracy: 0.8579 - val_loss: 0.7948 - val_precision: 0.8622 - val_recall: 0.8579\n",
      "Epoch 27/30\n",
      "\u001b[1m47/47\u001b[0m \u001b[32m━━━━━━━━━━━━━━━━━━━━\u001b[0m\u001b[37m\u001b[0m \u001b[1m11s\u001b[0m 218ms/step - accuracy: 0.9559 - loss: 0.1295 - precision: 0.9597 - recall: 0.9472 - val_accuracy: 0.8528 - val_loss: 0.7827 - val_precision: 0.8571 - val_recall: 0.8528\n",
      "Epoch 28/30\n",
      "\u001b[1m47/47\u001b[0m \u001b[32m━━━━━━━━━━━━━━━━━━━━\u001b[0m\u001b[37m\u001b[0m \u001b[1m10s\u001b[0m 217ms/step - accuracy: 0.9465 - loss: 0.1393 - precision: 0.9517 - recall: 0.9438 - val_accuracy: 0.8579 - val_loss: 0.8790 - val_precision: 0.8622 - val_recall: 0.8579\n",
      "Epoch 29/30\n",
      "\u001b[1m47/47\u001b[0m \u001b[32m━━━━━━━━━━━━━━━━━━━━\u001b[0m\u001b[37m\u001b[0m \u001b[1m11s\u001b[0m 218ms/step - accuracy: 0.9631 - loss: 0.0929 - precision: 0.9646 - recall: 0.9622 - val_accuracy: 0.8579 - val_loss: 0.9093 - val_precision: 0.8622 - val_recall: 0.8579\n",
      "Epoch 30/30\n",
      "\u001b[1m47/47\u001b[0m \u001b[32m━━━━━━━━━━━━━━━━━━━━\u001b[0m\u001b[37m\u001b[0m \u001b[1m11s\u001b[0m 220ms/step - accuracy: 0.9547 - loss: 0.1184 - precision: 0.9582 - recall: 0.9532 - val_accuracy: 0.8528 - val_loss: 0.8656 - val_precision: 0.8557 - val_recall: 0.8426\n",
      "Predicting on validation set...\n",
      "\u001b[1m7/7\u001b[0m \u001b[32m━━━━━━━━━━━━━━━━━━━━\u001b[0m\u001b[37m\u001b[0m \u001b[1m1s\u001b[0m 54ms/step\n",
      "Sending metrics to clearML...\n",
      "done\n"
     ]
    }
   ],
   "source": [
    "# histeq augmentation\n",
    "task_name = 'he'\n",
    "sub_project_name = 'HIST_EQ'\n",
    "\n",
    "augmentation_metadata = {\n",
    "        'methods': {        \n",
    "            'histEq': {\n",
    "                'parameters': {\n",
    "                    'p': 1.0  # Probability of applying the augmentation\n",
    "                },\n",
    "                'apply_to_percentage': 0.5  # 50% of the training images\n",
    "            }        \n",
    "        }\n",
    "    }\n",
    "\n",
    "for i in range(N):\n",
    "    RUN = i + 1\n",
    "    try:\n",
    "        print(f\"Starting RUN: {RUN}\")\n",
    "        main(RUN, augmentation_metadata, task_name, sub_project_name, epochs, train_size, w1, w2)\n",
    "    except Exception as e:\n",
    "        print(f\"Error in RUN: {RUN}\")\n",
    "        print(e)\n",
    "    finally:\n",
    "        clear_output(wait=True)  # Clear the output to avoid scrolling\n",
    "        gc.collect()  # Collect garbage to avoid memory leaks"
   ]
  },
  {
   "cell_type": "code",
   "execution_count": 16,
   "metadata": {},
   "outputs": [
    {
     "name": "stdout",
     "output_type": "stream",
     "text": [
      "Starting RUN: 5\n",
      "Seed:  1490409919\n"
     ]
    },
    {
     "name": "stderr",
     "output_type": "stream",
     "text": [
      "c:\\github\\Third-Year-Project\\Intruder-Aircraft-Detection\\main\\tl_clf.py:79: SettingWithCopyWarning:\n",
      "\n",
      "\n",
      "A value is trying to be set on a copy of a slice from a DataFrame.\n",
      "Try using .loc[row_indexer,col_indexer] = value instead\n",
      "\n",
      "See the caveats in the documentation: https://pandas.pydata.org/pandas-docs/stable/user_guide/indexing.html#returning-a-view-versus-a-copy\n",
      "\n",
      "c:\\github\\Third-Year-Project\\Intruder-Aircraft-Detection\\main\\tl_clf.py:80: SettingWithCopyWarning:\n",
      "\n",
      "\n",
      "A value is trying to be set on a copy of a slice from a DataFrame.\n",
      "Try using .loc[row_indexer,col_indexer] = value instead\n",
      "\n",
      "See the caveats in the documentation: https://pandas.pydata.org/pandas-docs/stable/user_guide/indexing.html#returning-a-view-versus-a-copy\n",
      "\n"
     ]
    },
    {
     "name": "stdout",
     "output_type": "stream",
     "text": [
      "Removing dataset if pre-existing\n",
      "Copying training files:\n"
     ]
    },
    {
     "name": "stderr",
     "output_type": "stream",
     "text": [
      "Copying files: 100%|██████████| 2000/2000 [00:01<00:00, 1838.60it/s]\n"
     ]
    },
    {
     "name": "stdout",
     "output_type": "stream",
     "text": [
      "Copying validation files:\n"
     ]
    },
    {
     "name": "stderr",
     "output_type": "stream",
     "text": [
      "Copying files: 100%|██████████| 400/400 [00:00<00:00, 1204.60it/s]\n"
     ]
    },
    {
     "name": "stdout",
     "output_type": "stream",
     "text": [
      "Dataset 'weather_23_1000' created at C:\\github\\Third-Year-Project\\Intruder-Aircraft-Detection\\datasets\\Custom\\weather_23_1000\n",
      "Processing train labels in weather_23_1000:\n"
     ]
    },
    {
     "name": "stderr",
     "output_type": "stream",
     "text": [
      "Processing labels: 100%|██████████| 1000/1000 [00:03<00:00, 255.95it/s]\n"
     ]
    },
    {
     "name": "stdout",
     "output_type": "stream",
     "text": [
      "Processing valid labels in weather_23_1000:\n"
     ]
    },
    {
     "name": "stderr",
     "output_type": "stream",
     "text": [
      "Processing labels: 100%|██████████| 200/200 [00:00<00:00, 272.98it/s]\n"
     ]
    },
    {
     "name": "stdout",
     "output_type": "stream",
     "text": [
      "Label correction completed.\n"
     ]
    },
    {
     "name": "stderr",
     "output_type": "stream",
     "text": [
      "Removing existing directories/files: 100%|██████████| 3/3 [00:00<?, ?it/s]\n",
      "Copying files: 100%|██████████| 1000/1000 [00:00<00:00, 1012.24it/s]\n",
      "Copying files: 100%|██████████| 1000/1000 [00:00<00:00, 1383.68it/s]\n",
      "Applying augmentations: 100%|██████████| 500/500 [00:10<00:00, 45.54it/s]\n",
      "Processing images:  75%|███████▌  | 751/1000 [00:24<00:07, 34.95it/s]"
     ]
    },
    {
     "name": "stdout",
     "output_type": "stream",
     "text": [
      "An error occurred with C:/github/Third-Year-Project/Intruder-Aircraft-Detection/datasets/Custom/weather_23_1000\\images\\train\\50467.jpg: Expected y_max for bbox (0.06709400000000001, 0.82754, 0.38573199999999996, 1.0399660000000002, 2) to be in the range [0.0, 1.0], got 1.0399660000000002.\n"
     ]
    },
    {
     "name": "stderr",
     "output_type": "stream",
     "text": [
      "Processing images:  92%|█████████▏| 924/1000 [00:29<00:02, 35.55it/s]"
     ]
    },
    {
     "name": "stdout",
     "output_type": "stream",
     "text": [
      "An error occurred with C:/github/Third-Year-Project/Intruder-Aircraft-Detection/datasets/Custom/weather_23_1000\\images\\train\\51512.jpg: In YOLO format all coordinates must be float and in range (0, 1]\n"
     ]
    },
    {
     "name": "stderr",
     "output_type": "stream",
     "text": [
      "Processing images: 100%|██████████| 1000/1000 [00:32<00:00, 31.01it/s]"
     ]
    },
    {
     "name": "stdout",
     "output_type": "stream",
     "text": [
      "An error occurred with C:/github/Third-Year-Project/Intruder-Aircraft-Detection/datasets/Custom/weather_23_1000\\images\\train\\51848.jpg: In YOLO format all coordinates must be float and in range (0, 1]\n"
     ]
    },
    {
     "name": "stderr",
     "output_type": "stream",
     "text": [
      "\n",
      "Processing images:  75%|███████▌  | 1126/1500 [00:38<00:10, 34.02it/s]"
     ]
    },
    {
     "name": "stdout",
     "output_type": "stream",
     "text": [
      "An error occurred with C:/github/Third-Year-Project/Intruder-Aircraft-Detection/datasets/Custom/weather_23_1000\\images\\train-aug\\50467.jpg: Expected y_max for bbox (0.06709400000000001, 0.82754, 0.38573199999999996, 1.0399660000000002, 2) to be in the range [0.0, 1.0], got 1.0399660000000002.\n"
     ]
    },
    {
     "name": "stderr",
     "output_type": "stream",
     "text": [
      "Processing images:  93%|█████████▎| 1390/1500 [00:46<00:02, 37.39it/s]"
     ]
    },
    {
     "name": "stdout",
     "output_type": "stream",
     "text": [
      "An error occurred with C:/github/Third-Year-Project/Intruder-Aircraft-Detection/datasets/Custom/weather_23_1000\\images\\train-aug\\51512-whiteBal.jpg: In YOLO format all coordinates must be float and in range (0, 1]\n",
      "An error occurred with C:/github/Third-Year-Project/Intruder-Aircraft-Detection/datasets/Custom/weather_23_1000\\images\\train-aug\\51512.jpg: In YOLO format all coordinates must be float and in range (0, 1]\n"
     ]
    },
    {
     "name": "stderr",
     "output_type": "stream",
     "text": [
      "Processing images: 100%|█████████▉| 1495/1500 [00:49<00:00, 35.11it/s]"
     ]
    },
    {
     "name": "stdout",
     "output_type": "stream",
     "text": [
      "An error occurred with C:/github/Third-Year-Project/Intruder-Aircraft-Detection/datasets/Custom/weather_23_1000\\images\\train-aug\\51848.jpg: In YOLO format all coordinates must be float and in range (0, 1]\n"
     ]
    },
    {
     "name": "stderr",
     "output_type": "stream",
     "text": [
      "Processing images: 100%|██████████| 1500/1500 [00:49<00:00, 30.21it/s]\n",
      "Processing images:  71%|███████   | 142/200 [00:04<00:01, 37.29it/s]"
     ]
    },
    {
     "name": "stdout",
     "output_type": "stream",
     "text": [
      "An error occurred with C:/github/Third-Year-Project/Intruder-Aircraft-Detection/datasets/Custom/weather_23_1000\\images\\valid\\50917.jpg: Expected y_min for bbox (0.3312055, -0.11337250000000001, 1.1166544999999999, 0.41026050000000003, 2) to be in the range [0.0, 1.0], got -0.11337250000000001.\n"
     ]
    },
    {
     "name": "stderr",
     "output_type": "stream",
     "text": [
      "Processing images: 100%|██████████| 200/200 [00:06<00:00, 30.50it/s]\n",
      "Moving images in train: 100%|██████████| 997/997 [00:03<00:00, 249.42it/s]\n",
      "Moving images in train-aug: 100%|██████████| 1496/1496 [00:03<00:00, 422.39it/s]\n",
      "Moving images in valid: 100%|██████████| 199/199 [00:00<00:00, 265.85it/s]\n"
     ]
    },
    {
     "name": "stdout",
     "output_type": "stream",
     "text": [
      "Found 997 files belonging to 3 classes.\n",
      "Found 1496 files belonging to 3 classes.\n",
      "Found 199 files belonging to 3 classes.\n",
      "ClearML Task: created new task id=50f1ca553ef848888bcce39c6bbb0a26\n",
      "ClearML results page: https://app.clear.ml/projects/7bc049eb4223468a9a77e7ff2e4ac17e/experiments/50f1ca553ef848888bcce39c6bbb0a26/output/log\n",
      "Training model...\n",
      "Epoch 1/30\n",
      "\u001b[1m32/32\u001b[0m \u001b[32m━━━━━━━━━━━━━━━━━━━━\u001b[0m\u001b[37m\u001b[0m \u001b[1m11s\u001b[0m 272ms/step - accuracy: 0.3076 - loss: 2.0008 - precision: 0.2927 - recall: 0.1065 - val_accuracy: 0.3317 - val_loss: 1.0974 - val_precision: 0.0000e+00 - val_recall: 0.0000e+00\n",
      "Epoch 2/30\n",
      "\u001b[1m32/32\u001b[0m \u001b[32m━━━━━━━━━━━━━━━━━━━━\u001b[0m\u001b[37m\u001b[0m \u001b[1m7s\u001b[0m 221ms/step - accuracy: 0.3249 - loss: 1.0986 - precision: 0.0000e+00 - recall: 0.0000e+00 - val_accuracy: 0.3317 - val_loss: 1.0965 - val_precision: 0.0000e+00 - val_recall: 0.0000e+00\n",
      "Epoch 3/30\n",
      "\u001b[1m32/32\u001b[0m \u001b[32m━━━━━━━━━━━━━━━━━━━━\u001b[0m\u001b[37m\u001b[0m \u001b[1m7s\u001b[0m 218ms/step - accuracy: 0.3430 - loss: 1.0968 - precision: 0.0000e+00 - recall: 0.0000e+00 - val_accuracy: 0.3367 - val_loss: 1.2565 - val_precision: 0.3333 - val_recall: 0.3317\n",
      "Epoch 4/30\n",
      "\u001b[1m32/32\u001b[0m \u001b[32m━━━━━━━━━━━━━━━━━━━━\u001b[0m\u001b[37m\u001b[0m \u001b[1m7s\u001b[0m 223ms/step - accuracy: 0.3638 - loss: 1.1152 - precision: 0.4089 - recall: 0.1183 - val_accuracy: 0.3317 - val_loss: 1.0938 - val_precision: 0.0000e+00 - val_recall: 0.0000e+00\n",
      "Epoch 5/30\n",
      "\u001b[1m32/32\u001b[0m \u001b[32m━━━━━━━━━━━━━━━━━━━━\u001b[0m\u001b[37m\u001b[0m \u001b[1m7s\u001b[0m 221ms/step - accuracy: 0.3444 - loss: 1.1047 - precision: 0.2311 - recall: 0.0114 - val_accuracy: 0.5276 - val_loss: 1.0926 - val_precision: 0.0000e+00 - val_recall: 0.0000e+00\n",
      "Epoch 6/30\n",
      "\u001b[1m32/32\u001b[0m \u001b[32m━━━━━━━━━━━━━━━━━━━━\u001b[0m\u001b[37m\u001b[0m \u001b[1m8s\u001b[0m 229ms/step - accuracy: 0.3550 - loss: 1.0982 - precision: 0.0000e+00 - recall: 0.0000e+00 - val_accuracy: 0.3367 - val_loss: 1.0981 - val_precision: 0.0000e+00 - val_recall: 0.0000e+00\n",
      "Epoch 7/30\n",
      "\u001b[1m32/32\u001b[0m \u001b[32m━━━━━━━━━━━━━━━━━━━━\u001b[0m\u001b[37m\u001b[0m \u001b[1m9s\u001b[0m 264ms/step - accuracy: 0.3386 - loss: 1.0983 - precision: 0.0000e+00 - recall: 0.0000e+00 - val_accuracy: 0.4673 - val_loss: 1.0954 - val_precision: 0.0000e+00 - val_recall: 0.0000e+00\n",
      "Epoch 8/30\n",
      "\u001b[1m32/32\u001b[0m \u001b[32m━━━━━━━━━━━━━━━━━━━━\u001b[0m\u001b[37m\u001b[0m \u001b[1m7s\u001b[0m 222ms/step - accuracy: 0.3903 - loss: 1.0951 - precision: 0.1908 - recall: 0.0065 - val_accuracy: 0.3367 - val_loss: 1.1016 - val_precision: 0.0000e+00 - val_recall: 0.0000e+00\n",
      "Epoch 9/30\n",
      "\u001b[1m32/32\u001b[0m \u001b[32m━━━━━━━━━━━━━━━━━━━━\u001b[0m\u001b[37m\u001b[0m \u001b[1m7s\u001b[0m 221ms/step - accuracy: 0.4433 - loss: 1.0660 - precision: 0.4644 - recall: 0.0357 - val_accuracy: 0.5327 - val_loss: 1.0196 - val_precision: 0.5918 - val_recall: 0.1457\n",
      "Epoch 10/30\n",
      "\u001b[1m32/32\u001b[0m \u001b[32m━━━━━━━━━━━━━━━━━━━━\u001b[0m\u001b[37m\u001b[0m \u001b[1m7s\u001b[0m 218ms/step - accuracy: 0.5816 - loss: 0.9976 - precision: 0.6383 - recall: 0.1896 - val_accuracy: 0.6281 - val_loss: 0.8816 - val_precision: 0.7556 - val_recall: 0.3417\n",
      "Epoch 11/30\n",
      "\u001b[1m32/32\u001b[0m \u001b[32m━━━━━━━━━━━━━━━━━━━━\u001b[0m\u001b[37m\u001b[0m \u001b[1m7s\u001b[0m 219ms/step - accuracy: 0.6515 - loss: 0.8128 - precision: 0.7612 - recall: 0.4607 - val_accuracy: 0.6734 - val_loss: 0.7696 - val_precision: 0.7086 - val_recall: 0.5377\n",
      "Epoch 12/30\n",
      "\u001b[1m32/32\u001b[0m \u001b[32m━━━━━━━━━━━━━━━━━━━━\u001b[0m\u001b[37m\u001b[0m \u001b[1m7s\u001b[0m 218ms/step - accuracy: 0.7344 - loss: 0.6266 - precision: 0.7931 - recall: 0.6460 - val_accuracy: 0.6935 - val_loss: 0.7687 - val_precision: 0.7193 - val_recall: 0.6181\n",
      "Epoch 13/30\n",
      "\u001b[1m32/32\u001b[0m \u001b[32m━━━━━━━━━━━━━━━━━━━━\u001b[0m\u001b[37m\u001b[0m \u001b[1m7s\u001b[0m 219ms/step - accuracy: 0.7775 - loss: 0.5412 - precision: 0.8198 - recall: 0.7320 - val_accuracy: 0.6935 - val_loss: 0.7662 - val_precision: 0.7198 - val_recall: 0.6583\n",
      "Epoch 14/30\n",
      "\u001b[1m32/32\u001b[0m \u001b[32m━━━━━━━━━━━━━━━━━━━━\u001b[0m\u001b[37m\u001b[0m \u001b[1m7s\u001b[0m 220ms/step - accuracy: 0.7974 - loss: 0.5323 - precision: 0.8341 - recall: 0.7440 - val_accuracy: 0.7186 - val_loss: 0.8253 - val_precision: 0.7263 - val_recall: 0.6935\n",
      "Epoch 15/30\n",
      "\u001b[1m32/32\u001b[0m \u001b[32m━━━━━━━━━━━━━━━━━━━━\u001b[0m\u001b[37m\u001b[0m \u001b[1m7s\u001b[0m 224ms/step - accuracy: 0.7958 - loss: 0.4704 - precision: 0.8173 - recall: 0.7731 - val_accuracy: 0.6884 - val_loss: 0.8935 - val_precision: 0.7021 - val_recall: 0.6633\n",
      "Epoch 16/30\n",
      "\u001b[1m32/32\u001b[0m \u001b[32m━━━━━━━━━━━━━━━━━━━━\u001b[0m\u001b[37m\u001b[0m \u001b[1m7s\u001b[0m 216ms/step - accuracy: 0.8369 - loss: 0.4190 - precision: 0.8536 - recall: 0.8155 - val_accuracy: 0.7286 - val_loss: 0.9168 - val_precision: 0.7371 - val_recall: 0.7186\n",
      "Epoch 17/30\n",
      "\u001b[1m32/32\u001b[0m \u001b[32m━━━━━━━━━━━━━━━━━━━━\u001b[0m\u001b[37m\u001b[0m \u001b[1m7s\u001b[0m 220ms/step - accuracy: 0.8336 - loss: 0.4319 - precision: 0.8530 - recall: 0.7878 - val_accuracy: 0.7136 - val_loss: 0.9429 - val_precision: 0.7202 - val_recall: 0.6985\n",
      "Epoch 18/30\n",
      "\u001b[1m32/32\u001b[0m \u001b[32m━━━━━━━━━━━━━━━━━━━━\u001b[0m\u001b[37m\u001b[0m \u001b[1m7s\u001b[0m 217ms/step - accuracy: 0.8207 - loss: 0.4654 - precision: 0.8544 - recall: 0.7591 - val_accuracy: 0.7035 - val_loss: 1.0592 - val_precision: 0.7173 - val_recall: 0.6884\n",
      "Epoch 19/30\n",
      "\u001b[1m32/32\u001b[0m \u001b[32m━━━━━━━━━━━━━━━━━━━━\u001b[0m\u001b[37m\u001b[0m \u001b[1m7s\u001b[0m 219ms/step - accuracy: 0.8333 - loss: 0.4070 - precision: 0.8502 - recall: 0.8033 - val_accuracy: 0.6935 - val_loss: 0.9055 - val_precision: 0.7174 - val_recall: 0.6633\n",
      "Epoch 20/30\n",
      "\u001b[1m32/32\u001b[0m \u001b[32m━━━━━━━━━━━━━━━━━━━━\u001b[0m\u001b[37m\u001b[0m \u001b[1m7s\u001b[0m 223ms/step - accuracy: 0.8488 - loss: 0.3766 - precision: 0.8671 - recall: 0.8252 - val_accuracy: 0.7136 - val_loss: 0.9416 - val_precision: 0.7202 - val_recall: 0.6985\n",
      "Epoch 21/30\n",
      "\u001b[1m32/32\u001b[0m \u001b[32m━━━━━━━━━━━━━━━━━━━━\u001b[0m\u001b[37m\u001b[0m \u001b[1m7s\u001b[0m 219ms/step - accuracy: 0.8951 - loss: 0.2985 - precision: 0.9002 - recall: 0.8831 - val_accuracy: 0.7337 - val_loss: 0.9705 - val_precision: 0.7385 - val_recall: 0.7236\n",
      "Epoch 22/30\n",
      "\u001b[1m32/32\u001b[0m \u001b[32m━━━━━━━━━━━━━━━━━━━━\u001b[0m\u001b[37m\u001b[0m \u001b[1m7s\u001b[0m 220ms/step - accuracy: 0.8728 - loss: 0.2981 - precision: 0.8849 - recall: 0.8555 - val_accuracy: 0.7085 - val_loss: 0.9934 - val_precision: 0.7113 - val_recall: 0.6935\n",
      "Epoch 23/30\n",
      "\u001b[1m32/32\u001b[0m \u001b[32m━━━━━━━━━━━━━━━━━━━━\u001b[0m\u001b[37m\u001b[0m \u001b[1m7s\u001b[0m 218ms/step - accuracy: 0.8546 - loss: 0.3300 - precision: 0.8823 - recall: 0.8394 - val_accuracy: 0.7136 - val_loss: 0.9850 - val_precision: 0.7231 - val_recall: 0.7085\n",
      "Epoch 24/30\n",
      "\u001b[1m32/32\u001b[0m \u001b[32m━━━━━━━━━━━━━━━━━━━━\u001b[0m\u001b[37m\u001b[0m \u001b[1m7s\u001b[0m 218ms/step - accuracy: 0.8795 - loss: 0.3043 - precision: 0.8938 - recall: 0.8615 - val_accuracy: 0.7186 - val_loss: 0.9537 - val_precision: 0.7554 - val_recall: 0.6985\n",
      "Epoch 25/30\n",
      "\u001b[1m32/32\u001b[0m \u001b[32m━━━━━━━━━━━━━━━━━━━━\u001b[0m\u001b[37m\u001b[0m \u001b[1m7s\u001b[0m 222ms/step - accuracy: 0.8589 - loss: 0.3552 - precision: 0.8781 - recall: 0.8496 - val_accuracy: 0.7136 - val_loss: 1.1006 - val_precision: 0.7179 - val_recall: 0.7035\n",
      "Epoch 26/30\n",
      "\u001b[1m32/32\u001b[0m \u001b[32m━━━━━━━━━━━━━━━━━━━━\u001b[0m\u001b[37m\u001b[0m \u001b[1m7s\u001b[0m 218ms/step - accuracy: 0.8889 - loss: 0.2771 - precision: 0.8975 - recall: 0.8743 - val_accuracy: 0.7337 - val_loss: 1.0676 - val_precision: 0.7333 - val_recall: 0.7186\n",
      "Epoch 27/30\n",
      "\u001b[1m32/32\u001b[0m \u001b[32m━━━━━━━━━━━━━━━━━━━━\u001b[0m\u001b[37m\u001b[0m \u001b[1m7s\u001b[0m 220ms/step - accuracy: 0.8861 - loss: 0.2819 - precision: 0.8897 - recall: 0.8777 - val_accuracy: 0.7437 - val_loss: 1.2575 - val_precision: 0.7423 - val_recall: 0.7236\n",
      "Epoch 28/30\n",
      "\u001b[1m32/32\u001b[0m \u001b[32m━━━━━━━━━━━━━━━━━━━━\u001b[0m\u001b[37m\u001b[0m \u001b[1m7s\u001b[0m 223ms/step - accuracy: 0.8799 - loss: 0.2990 - precision: 0.8921 - recall: 0.8621 - val_accuracy: 0.7487 - val_loss: 1.1842 - val_precision: 0.7462 - val_recall: 0.7387\n",
      "Epoch 29/30\n",
      "\u001b[1m32/32\u001b[0m \u001b[32m━━━━━━━━━━━━━━━━━━━━\u001b[0m\u001b[37m\u001b[0m \u001b[1m7s\u001b[0m 220ms/step - accuracy: 0.8885 - loss: 0.2912 - precision: 0.8981 - recall: 0.8790 - val_accuracy: 0.7136 - val_loss: 1.2280 - val_precision: 0.7143 - val_recall: 0.7035\n",
      "Epoch 30/30\n",
      "\u001b[1m32/32\u001b[0m \u001b[32m━━━━━━━━━━━━━━━━━━━━\u001b[0m\u001b[37m\u001b[0m \u001b[1m7s\u001b[0m 218ms/step - accuracy: 0.9154 - loss: 0.2072 - precision: 0.9200 - recall: 0.9074 - val_accuracy: 0.7236 - val_loss: 1.0825 - val_precision: 0.7259 - val_recall: 0.7186\n",
      "Predicting on validation set...\n",
      "\u001b[1m7/7\u001b[0m \u001b[32m━━━━━━━━━━━━━━━━━━━━\u001b[0m\u001b[37m\u001b[0m \u001b[1m1s\u001b[0m 53ms/step\n",
      "Sending metrics to clearML...\n",
      "done\n",
      "ClearML Task: created new task id=19a48e7dc8174addac8a4ade5dda9040\n",
      "ClearML results page: https://app.clear.ml/projects/7bc049eb4223468a9a77e7ff2e4ac17e/experiments/19a48e7dc8174addac8a4ade5dda9040/output/log\n",
      "Training model...\n",
      "Epoch 1/30\n",
      "\u001b[1m47/47\u001b[0m \u001b[32m━━━━━━━━━━━━━━━━━━━━\u001b[0m\u001b[37m\u001b[0m \u001b[1m14s\u001b[0m 264ms/step - accuracy: 0.3489 - loss: 2.4936 - precision: 0.2972 - recall: 0.0577 - val_accuracy: 0.3317 - val_loss: 1.0986 - val_precision: 0.0000e+00 - val_recall: 0.0000e+00\n",
      "Epoch 2/30\n",
      "\u001b[1m47/47\u001b[0m \u001b[32m━━━━━━━━━━━━━━━━━━━━\u001b[0m\u001b[37m\u001b[0m \u001b[1m11s\u001b[0m 218ms/step - accuracy: 0.3461 - loss: 1.0986 - precision: 0.0000e+00 - recall: 0.0000e+00 - val_accuracy: 0.4372 - val_loss: 1.0983 - val_precision: 0.0000e+00 - val_recall: 0.0000e+00\n",
      "Epoch 3/30\n",
      "\u001b[1m47/47\u001b[0m \u001b[32m━━━━━━━━━━━━━━━━━━━━\u001b[0m\u001b[37m\u001b[0m \u001b[1m11s\u001b[0m 222ms/step - accuracy: 0.3276 - loss: 1.0993 - precision: 0.0000e+00 - recall: 0.0000e+00 - val_accuracy: 0.3367 - val_loss: 1.0977 - val_precision: 0.0000e+00 - val_recall: 0.0000e+00\n",
      "Epoch 4/30\n",
      "\u001b[1m47/47\u001b[0m \u001b[32m━━━━━━━━━━━━━━━━━━━━\u001b[0m\u001b[37m\u001b[0m \u001b[1m11s\u001b[0m 226ms/step - accuracy: 0.3603 - loss: 1.0976 - precision: 0.0000e+00 - recall: 0.0000e+00 - val_accuracy: 0.3317 - val_loss: 1.1620 - val_precision: 0.3519 - val_recall: 0.2864\n",
      "Epoch 5/30\n",
      "\u001b[1m47/47\u001b[0m \u001b[32m━━━━━━━━━━━━━━━━━━━━\u001b[0m\u001b[37m\u001b[0m \u001b[1m12s\u001b[0m 247ms/step - accuracy: 0.3789 - loss: 1.1019 - precision: 0.2993 - recall: 0.0165 - val_accuracy: 0.4774 - val_loss: 1.0677 - val_precision: 0.0000e+00 - val_recall: 0.0000e+00\n",
      "Epoch 6/30\n",
      "\u001b[1m47/47\u001b[0m \u001b[32m━━━━━━━━━━━━━━━━━━━━\u001b[0m\u001b[37m\u001b[0m \u001b[1m11s\u001b[0m 223ms/step - accuracy: 0.5648 - loss: 1.0246 - precision: 0.6128 - recall: 0.0997 - val_accuracy: 0.5126 - val_loss: 0.9915 - val_precision: 0.6410 - val_recall: 0.1256\n",
      "Epoch 7/30\n",
      "\u001b[1m47/47\u001b[0m \u001b[32m━━━━━━━━━━━━━━━━━━━━\u001b[0m\u001b[37m\u001b[0m \u001b[1m11s\u001b[0m 219ms/step - accuracy: 0.6475 - loss: 0.8353 - precision: 0.7881 - recall: 0.4184 - val_accuracy: 0.6985 - val_loss: 0.8093 - val_precision: 0.7262 - val_recall: 0.6131\n",
      "Epoch 8/30\n",
      "\u001b[1m47/47\u001b[0m \u001b[32m━━━━━━━━━━━━━━━━━━━━\u001b[0m\u001b[37m\u001b[0m \u001b[1m11s\u001b[0m 219ms/step - accuracy: 0.7594 - loss: 0.6423 - precision: 0.8178 - recall: 0.6570 - val_accuracy: 0.6884 - val_loss: 0.8400 - val_precision: 0.7228 - val_recall: 0.6683\n",
      "Epoch 9/30\n",
      "\u001b[1m47/47\u001b[0m \u001b[32m━━━━━━━━━━━━━━━━━━━━\u001b[0m\u001b[37m\u001b[0m \u001b[1m11s\u001b[0m 219ms/step - accuracy: 0.8049 - loss: 0.5140 - precision: 0.8428 - recall: 0.7633 - val_accuracy: 0.7136 - val_loss: 0.7876 - val_precision: 0.7403 - val_recall: 0.6734\n",
      "Epoch 10/30\n",
      "\u001b[1m47/47\u001b[0m \u001b[32m━━━━━━━━━━━━━━━━━━━━\u001b[0m\u001b[37m\u001b[0m \u001b[1m11s\u001b[0m 220ms/step - accuracy: 0.8341 - loss: 0.4537 - precision: 0.8482 - recall: 0.7840 - val_accuracy: 0.6935 - val_loss: 0.8627 - val_precision: 0.7135 - val_recall: 0.6633\n",
      "Epoch 11/30\n",
      "\u001b[1m47/47\u001b[0m \u001b[32m━━━━━━━━━━━━━━━━━━━━\u001b[0m\u001b[37m\u001b[0m \u001b[1m11s\u001b[0m 219ms/step - accuracy: 0.8396 - loss: 0.4275 - precision: 0.8653 - recall: 0.8010 - val_accuracy: 0.6884 - val_loss: 0.8273 - val_precision: 0.7333 - val_recall: 0.6633\n",
      "Epoch 12/30\n",
      "\u001b[1m47/47\u001b[0m \u001b[32m━━━━━━━━━━━━━━━━━━━━\u001b[0m\u001b[37m\u001b[0m \u001b[1m11s\u001b[0m 219ms/step - accuracy: 0.8358 - loss: 0.4116 - precision: 0.8684 - recall: 0.8183 - val_accuracy: 0.6985 - val_loss: 0.9208 - val_precision: 0.7047 - val_recall: 0.6834\n",
      "Epoch 13/30\n",
      "\u001b[1m47/47\u001b[0m \u001b[32m━━━━━━━━━━━━━━━━━━━━\u001b[0m\u001b[37m\u001b[0m \u001b[1m11s\u001b[0m 219ms/step - accuracy: 0.8786 - loss: 0.3266 - precision: 0.8951 - recall: 0.8601 - val_accuracy: 0.7236 - val_loss: 0.9522 - val_precision: 0.7320 - val_recall: 0.7136\n",
      "Epoch 14/30\n",
      "\u001b[1m47/47\u001b[0m \u001b[32m━━━━━━━━━━━━━━━━━━━━\u001b[0m\u001b[37m\u001b[0m \u001b[1m11s\u001b[0m 224ms/step - accuracy: 0.8660 - loss: 0.3217 - precision: 0.8779 - recall: 0.8500 - val_accuracy: 0.6683 - val_loss: 0.9494 - val_precision: 0.6859 - val_recall: 0.6583\n",
      "Epoch 15/30\n",
      "\u001b[1m47/47\u001b[0m \u001b[32m━━━━━━━━━━━━━━━━━━━━\u001b[0m\u001b[37m\u001b[0m \u001b[1m11s\u001b[0m 218ms/step - accuracy: 0.8724 - loss: 0.3195 - precision: 0.8837 - recall: 0.8546 - val_accuracy: 0.7387 - val_loss: 0.9817 - val_precision: 0.7539 - val_recall: 0.7236\n",
      "Epoch 16/30\n",
      "\u001b[1m47/47\u001b[0m \u001b[32m━━━━━━━━━━━━━━━━━━━━\u001b[0m\u001b[37m\u001b[0m \u001b[1m11s\u001b[0m 218ms/step - accuracy: 0.9006 - loss: 0.2619 - precision: 0.9122 - recall: 0.8878 - val_accuracy: 0.7236 - val_loss: 1.0890 - val_precision: 0.7259 - val_recall: 0.7186\n",
      "Epoch 17/30\n",
      "\u001b[1m47/47\u001b[0m \u001b[32m━━━━━━━━━━━━━━━━━━━━\u001b[0m\u001b[37m\u001b[0m \u001b[1m11s\u001b[0m 222ms/step - accuracy: 0.8888 - loss: 0.2608 - precision: 0.8991 - recall: 0.8762 - val_accuracy: 0.7136 - val_loss: 0.9783 - val_precision: 0.7198 - val_recall: 0.6583\n",
      "Epoch 18/30\n",
      "\u001b[1m47/47\u001b[0m \u001b[32m━━━━━━━━━━━━━━━━━━━━\u001b[0m\u001b[37m\u001b[0m \u001b[1m11s\u001b[0m 220ms/step - accuracy: 0.8885 - loss: 0.2741 - precision: 0.9037 - recall: 0.8733 - val_accuracy: 0.7236 - val_loss: 1.0917 - val_precision: 0.7282 - val_recall: 0.7136\n",
      "Epoch 19/30\n",
      "\u001b[1m47/47\u001b[0m \u001b[32m━━━━━━━━━━━━━━━━━━━━\u001b[0m\u001b[37m\u001b[0m \u001b[1m11s\u001b[0m 220ms/step - accuracy: 0.9096 - loss: 0.2212 - precision: 0.9165 - recall: 0.9023 - val_accuracy: 0.7236 - val_loss: 1.1199 - val_precision: 0.7245 - val_recall: 0.7136\n",
      "Epoch 20/30\n",
      "\u001b[1m47/47\u001b[0m \u001b[32m━━━━━━━━━━━━━━━━━━━━\u001b[0m\u001b[37m\u001b[0m \u001b[1m11s\u001b[0m 221ms/step - accuracy: 0.8945 - loss: 0.2527 - precision: 0.9041 - recall: 0.8804 - val_accuracy: 0.7236 - val_loss: 1.2653 - val_precision: 0.7273 - val_recall: 0.7236\n",
      "Epoch 21/30\n",
      "\u001b[1m47/47\u001b[0m \u001b[32m━━━━━━━━━━━━━━━━━━━━\u001b[0m\u001b[37m\u001b[0m \u001b[1m11s\u001b[0m 226ms/step - accuracy: 0.9219 - loss: 0.1794 - precision: 0.9304 - recall: 0.9164 - val_accuracy: 0.7437 - val_loss: 1.1874 - val_precision: 0.7436 - val_recall: 0.7286\n",
      "Epoch 22/30\n",
      "\u001b[1m47/47\u001b[0m \u001b[32m━━━━━━━━━━━━━━━━━━━━\u001b[0m\u001b[37m\u001b[0m \u001b[1m11s\u001b[0m 219ms/step - accuracy: 0.9411 - loss: 0.1571 - precision: 0.9438 - recall: 0.9337 - val_accuracy: 0.7186 - val_loss: 1.3499 - val_precision: 0.7282 - val_recall: 0.7136\n",
      "Epoch 23/30\n",
      "\u001b[1m47/47\u001b[0m \u001b[32m━━━━━━━━━━━━━━━━━━━━\u001b[0m\u001b[37m\u001b[0m \u001b[1m11s\u001b[0m 220ms/step - accuracy: 0.9396 - loss: 0.1512 - precision: 0.9406 - recall: 0.9359 - val_accuracy: 0.7337 - val_loss: 1.4234 - val_precision: 0.7385 - val_recall: 0.7236\n",
      "Epoch 24/30\n",
      "\u001b[1m47/47\u001b[0m \u001b[32m━━━━━━━━━━━━━━━━━━━━\u001b[0m\u001b[37m\u001b[0m \u001b[1m11s\u001b[0m 221ms/step - accuracy: 0.9510 - loss: 0.1394 - precision: 0.9541 - recall: 0.9472 - val_accuracy: 0.6985 - val_loss: 1.5302 - val_precision: 0.7077 - val_recall: 0.6935\n",
      "Epoch 25/30\n",
      "\u001b[1m47/47\u001b[0m \u001b[32m━━━━━━━━━━━━━━━━━━━━\u001b[0m\u001b[37m\u001b[0m \u001b[1m11s\u001b[0m 220ms/step - accuracy: 0.9435 - loss: 0.1270 - precision: 0.9496 - recall: 0.9416 - val_accuracy: 0.7286 - val_loss: 1.2173 - val_precision: 0.7358 - val_recall: 0.7136\n",
      "Epoch 26/30\n",
      "\u001b[1m47/47\u001b[0m \u001b[32m━━━━━━━━━━━━━━━━━━━━\u001b[0m\u001b[37m\u001b[0m \u001b[1m11s\u001b[0m 220ms/step - accuracy: 0.9192 - loss: 0.2314 - precision: 0.9361 - recall: 0.8997 - val_accuracy: 0.7085 - val_loss: 1.1274 - val_precision: 0.7258 - val_recall: 0.6784\n",
      "Epoch 27/30\n",
      "\u001b[1m47/47\u001b[0m \u001b[32m━━━━━━━━━━━━━━━━━━━━\u001b[0m\u001b[37m\u001b[0m \u001b[1m11s\u001b[0m 220ms/step - accuracy: 0.9185 - loss: 0.2094 - precision: 0.9253 - recall: 0.9095 - val_accuracy: 0.7487 - val_loss: 1.4166 - val_precision: 0.7668 - val_recall: 0.7437\n",
      "Epoch 28/30\n",
      "\u001b[1m47/47\u001b[0m \u001b[32m━━━━━━━━━━━━━━━━━━━━\u001b[0m\u001b[37m\u001b[0m \u001b[1m11s\u001b[0m 220ms/step - accuracy: 0.9103 - loss: 0.2584 - precision: 0.9398 - recall: 0.8765 - val_accuracy: 0.7487 - val_loss: 1.4161 - val_precision: 0.7525 - val_recall: 0.7487\n",
      "Epoch 29/30\n",
      "\u001b[1m47/47\u001b[0m \u001b[32m━━━━━━━━━━━━━━━━━━━━\u001b[0m\u001b[37m\u001b[0m \u001b[1m11s\u001b[0m 219ms/step - accuracy: 0.9491 - loss: 0.1345 - precision: 0.9524 - recall: 0.9395 - val_accuracy: 0.7236 - val_loss: 1.4601 - val_precision: 0.7259 - val_recall: 0.7186\n",
      "Epoch 30/30\n",
      "\u001b[1m47/47\u001b[0m \u001b[32m━━━━━━━━━━━━━━━━━━━━\u001b[0m\u001b[37m\u001b[0m \u001b[1m11s\u001b[0m 219ms/step - accuracy: 0.9452 - loss: 0.1461 - precision: 0.9519 - recall: 0.9402 - val_accuracy: 0.7387 - val_loss: 1.5092 - val_precision: 0.7411 - val_recall: 0.7337\n",
      "Predicting on validation set...\n",
      "\u001b[1m7/7\u001b[0m \u001b[32m━━━━━━━━━━━━━━━━━━━━\u001b[0m\u001b[37m\u001b[0m \u001b[1m1s\u001b[0m 52ms/step\n",
      "Sending metrics to clearML...\n",
      "done\n"
     ]
    }
   ],
   "source": [
    "# white balance augmentation\n",
    "task_name = 'wb'\n",
    "sub_project_name = 'WHITE_BAL'\n",
    "\n",
    "augmentation_metadata = {\n",
    "        'methods': {        \n",
    "            'whiteBal': {\n",
    "                'parameters': {\n",
    "                    'p': 1.0  # Probability of applying the augmentation\n",
    "                },\n",
    "                'apply_to_percentage': 0.5  # 50% of the training images\n",
    "            }        \n",
    "        }\n",
    "    }\n",
    "\n",
    "for i in range(N):\n",
    "    RUN = i + 1\n",
    "    try:\n",
    "        print(f\"Starting RUN: {RUN}\")\n",
    "        main(RUN, augmentation_metadata, task_name, sub_project_name, epochs, train_size, w1, w2)\n",
    "    except Exception as e:\n",
    "        print(f\"Error in RUN: {RUN}\")\n",
    "        print(e)\n",
    "    finally:\n",
    "        clear_output(wait=True)  # Clear the output to avoid scrolling\n",
    "        gc.collect()  # Collect garbage to avoid memory leaks"
   ]
  },
  {
   "cell_type": "code",
   "execution_count": 17,
   "metadata": {},
   "outputs": [
    {
     "name": "stdout",
     "output_type": "stream",
     "text": [
      "Starting RUN: 5\n",
      "Seed:  1493987685\n"
     ]
    },
    {
     "name": "stderr",
     "output_type": "stream",
     "text": [
      "c:\\github\\Third-Year-Project\\Intruder-Aircraft-Detection\\main\\tl_clf.py:79: SettingWithCopyWarning:\n",
      "\n",
      "\n",
      "A value is trying to be set on a copy of a slice from a DataFrame.\n",
      "Try using .loc[row_indexer,col_indexer] = value instead\n",
      "\n",
      "See the caveats in the documentation: https://pandas.pydata.org/pandas-docs/stable/user_guide/indexing.html#returning-a-view-versus-a-copy\n",
      "\n",
      "c:\\github\\Third-Year-Project\\Intruder-Aircraft-Detection\\main\\tl_clf.py:80: SettingWithCopyWarning:\n",
      "\n",
      "\n",
      "A value is trying to be set on a copy of a slice from a DataFrame.\n",
      "Try using .loc[row_indexer,col_indexer] = value instead\n",
      "\n",
      "See the caveats in the documentation: https://pandas.pydata.org/pandas-docs/stable/user_guide/indexing.html#returning-a-view-versus-a-copy\n",
      "\n"
     ]
    },
    {
     "name": "stdout",
     "output_type": "stream",
     "text": [
      "Removing dataset if pre-existing\n",
      "Copying training files:\n"
     ]
    },
    {
     "name": "stderr",
     "output_type": "stream",
     "text": [
      "Copying files: 100%|██████████| 2000/2000 [00:01<00:00, 1533.92it/s]\n"
     ]
    },
    {
     "name": "stdout",
     "output_type": "stream",
     "text": [
      "Copying validation files:\n"
     ]
    },
    {
     "name": "stderr",
     "output_type": "stream",
     "text": [
      "Copying files: 100%|██████████| 400/400 [00:00<00:00, 1285.81it/s]\n"
     ]
    },
    {
     "name": "stdout",
     "output_type": "stream",
     "text": [
      "Dataset 'weather_23_1000' created at C:\\github\\Third-Year-Project\\Intruder-Aircraft-Detection\\datasets\\Custom\\weather_23_1000\n",
      "Processing train labels in weather_23_1000:\n"
     ]
    },
    {
     "name": "stderr",
     "output_type": "stream",
     "text": [
      "Processing labels: 100%|██████████| 1000/1000 [00:03<00:00, 316.43it/s]\n"
     ]
    },
    {
     "name": "stdout",
     "output_type": "stream",
     "text": [
      "Processing valid labels in weather_23_1000:\n"
     ]
    },
    {
     "name": "stderr",
     "output_type": "stream",
     "text": [
      "Processing labels: 100%|██████████| 200/200 [00:00<00:00, 257.72it/s]\n"
     ]
    },
    {
     "name": "stdout",
     "output_type": "stream",
     "text": [
      "Label correction completed.\n"
     ]
    },
    {
     "name": "stderr",
     "output_type": "stream",
     "text": [
      "Removing existing directories/files: 100%|██████████| 3/3 [00:00<?, ?it/s]\n",
      "Copying files: 100%|██████████| 1000/1000 [00:01<00:00, 884.99it/s]\n",
      "Copying files: 100%|██████████| 1000/1000 [00:00<00:00, 1219.92it/s]\n",
      "Applying augmentations: 100%|██████████| 500/500 [00:04<00:00, 102.47it/s]\n",
      "Processing images:  14%|█▍        | 140/1000 [00:06<00:25, 33.53it/s]"
     ]
    },
    {
     "name": "stdout",
     "output_type": "stream",
     "text": [
      "An error occurred with C:/github/Third-Year-Project/Intruder-Aircraft-Detection/datasets/Custom/weather_23_1000\\images\\train\\26098.jpg: Expected x_min for bbox (-0.05254049999999999, 0.6148480000000001, 0.7579965, 1.1552060000000002, 1) to be in the range [0.0, 1.0], got -0.05254049999999999.\n"
     ]
    },
    {
     "name": "stderr",
     "output_type": "stream",
     "text": [
      "Processing images:  20%|██        | 201/1000 [00:08<00:24, 33.03it/s]"
     ]
    },
    {
     "name": "stdout",
     "output_type": "stream",
     "text": [
      "An error occurred with C:/github/Third-Year-Project/Intruder-Aircraft-Detection/datasets/Custom/weather_23_1000\\images\\train\\26422.jpg: Expected x_max for bbox (0.3556645, 0.47547049999999996, 1.0335975, 0.9274255, 1) to be in the range [0.0, 1.0], got 1.0335975.\n"
     ]
    },
    {
     "name": "stderr",
     "output_type": "stream",
     "text": [
      "Processing images:  46%|████▌     | 458/1000 [00:16<00:16, 32.66it/s]"
     ]
    },
    {
     "name": "stdout",
     "output_type": "stream",
     "text": [
      "An error occurred with C:/github/Third-Year-Project/Intruder-Aircraft-Detection/datasets/Custom/weather_23_1000\\images\\train\\27726.jpg: Expected y_max for bbox (0.423424, 0.730641, 0.8816200000000001, 1.036105, 1) to be in the range [0.0, 1.0], got 1.036105.\n"
     ]
    },
    {
     "name": "stderr",
     "output_type": "stream",
     "text": [
      "Processing images:  82%|████████▏ | 819/1000 [00:26<00:05, 35.29it/s]"
     ]
    },
    {
     "name": "stdout",
     "output_type": "stream",
     "text": [
      "An error occurred with C:/github/Third-Year-Project/Intruder-Aircraft-Detection/datasets/Custom/weather_23_1000\\images\\train\\50820.jpg: Expected y_min for bbox (0.05699850000000001, -0.0029215000000000213, 0.5023355, 0.2939695, 2) to be in the range [0.0, 1.0], got -0.0029215000000000213.\n"
     ]
    },
    {
     "name": "stderr",
     "output_type": "stream",
     "text": [
      "Processing images: 100%|██████████| 1000/1000 [00:32<00:00, 31.08it/s]\n",
      "Processing images:  14%|█▍        | 208/1500 [00:10<00:40, 32.14it/s]"
     ]
    },
    {
     "name": "stdout",
     "output_type": "stream",
     "text": [
      "An error occurred with C:/github/Third-Year-Project/Intruder-Aircraft-Detection/datasets/Custom/weather_23_1000\\images\\train-aug\\26098.jpg: Expected x_min for bbox (-0.05254049999999999, 0.6148480000000001, 0.7579965, 1.1552060000000002, 1) to be in the range [0.0, 1.0], got -0.05254049999999999.\n"
     ]
    },
    {
     "name": "stderr",
     "output_type": "stream",
     "text": [
      "Processing images:  20%|█▉        | 297/1500 [00:13<00:34, 35.01it/s]"
     ]
    },
    {
     "name": "stdout",
     "output_type": "stream",
     "text": [
      "An error occurred with C:/github/Third-Year-Project/Intruder-Aircraft-Detection/datasets/Custom/weather_23_1000\\images\\train-aug\\26422.jpg: Expected x_max for bbox (0.3556645, 0.47547049999999996, 1.0335975, 0.9274255, 1) to be in the range [0.0, 1.0], got 1.0335975.\n",
      "An error occurred with C:/github/Third-Year-Project/Intruder-Aircraft-Detection/datasets/Custom/weather_23_1000\\images\\train-aug\\26422-sharpen.jpg: Expected x_max for bbox (0.3556645, 0.47547049999999996, 1.0335975, 0.9274255, 1) to be in the range [0.0, 1.0], got 1.0335975.\n"
     ]
    },
    {
     "name": "stderr",
     "output_type": "stream",
     "text": [
      "Processing images:  45%|████▌     | 677/1500 [00:25<00:27, 30.18it/s]"
     ]
    },
    {
     "name": "stdout",
     "output_type": "stream",
     "text": [
      "An error occurred with C:/github/Third-Year-Project/Intruder-Aircraft-Detection/datasets/Custom/weather_23_1000\\images\\train-aug\\27726.jpg: Expected y_max for bbox (0.423424, 0.730641, 0.8816200000000001, 1.036105, 1) to be in the range [0.0, 1.0], got 1.036105.\n"
     ]
    },
    {
     "name": "stderr",
     "output_type": "stream",
     "text": [
      "Processing images:  82%|████████▏ | 1230/1500 [00:42<00:07, 34.22it/s]"
     ]
    },
    {
     "name": "stdout",
     "output_type": "stream",
     "text": [
      "An error occurred with C:/github/Third-Year-Project/Intruder-Aircraft-Detection/datasets/Custom/weather_23_1000\\images\\train-aug\\50820.jpg: Expected y_min for bbox (0.05699850000000001, -0.0029215000000000213, 0.5023355, 0.2939695, 2) to be in the range [0.0, 1.0], got -0.0029215000000000213.\n",
      "An error occurred with C:/github/Third-Year-Project/Intruder-Aircraft-Detection/datasets/Custom/weather_23_1000\\images\\train-aug\\50820-sharpen.jpg: Expected y_min for bbox (0.05699850000000001, -0.0029215000000000213, 0.5023355, 0.2939695, 2) to be in the range [0.0, 1.0], got -0.0029215000000000213.\n"
     ]
    },
    {
     "name": "stderr",
     "output_type": "stream",
     "text": [
      "Processing images: 100%|██████████| 1500/1500 [00:50<00:00, 29.63it/s]\n",
      "Processing images:  11%|█         | 22/200 [00:01<00:07, 24.65it/s]"
     ]
    },
    {
     "name": "stdout",
     "output_type": "stream",
     "text": [
      "An error occurred with C:/github/Third-Year-Project/Intruder-Aircraft-Detection/datasets/Custom/weather_23_1000\\images\\valid\\26926.jpg: Expected y_min for bbox (0.38187599999999994, -0.12572450000000002, 1.180976, 0.4070085, 1) to be in the range [0.0, 1.0], got -0.12572450000000002.\n"
     ]
    },
    {
     "name": "stderr",
     "output_type": "stream",
     "text": [
      "Processing images:  32%|███▎      | 65/200 [00:02<00:03, 34.34it/s]"
     ]
    },
    {
     "name": "stdout",
     "output_type": "stream",
     "text": [
      "An error occurred with C:/github/Third-Year-Project/Intruder-Aircraft-Detection/datasets/Custom/weather_23_1000\\images\\valid\\26999.jpg: Expected x_min for bbox (-0.1462135, 0.3244429999999999, 0.7076735, 0.893701, 1) to be in the range [0.0, 1.0], got -0.1462135.\n"
     ]
    },
    {
     "name": "stderr",
     "output_type": "stream",
     "text": [
      "Processing images:  73%|███████▎  | 146/200 [00:04<00:01, 37.46it/s]"
     ]
    },
    {
     "name": "stdout",
     "output_type": "stream",
     "text": [
      "An error occurred with C:/github/Third-Year-Project/Intruder-Aircraft-Detection/datasets/Custom/weather_23_1000\\images\\valid\\50917.jpg: Expected y_min for bbox (0.3312055, -0.11337250000000001, 1.1166544999999999, 0.41026050000000003, 2) to be in the range [0.0, 1.0], got -0.11337250000000001.\n"
     ]
    },
    {
     "name": "stderr",
     "output_type": "stream",
     "text": [
      "Processing images:  88%|████████▊ | 175/200 [00:05<00:00, 35.46it/s]"
     ]
    },
    {
     "name": "stdout",
     "output_type": "stream",
     "text": [
      "An error occurred with C:/github/Third-Year-Project/Intruder-Aircraft-Detection/datasets/Custom/weather_23_1000\\images\\valid\\50955.jpg: Expected x_min for bbox (-0.021672000000000025, 0.2856885, 0.507494, 0.6384655, 2) to be in the range [0.0, 1.0], got -0.021672000000000025.\n"
     ]
    },
    {
     "name": "stderr",
     "output_type": "stream",
     "text": [
      "Processing images: 100%|██████████| 200/200 [00:06<00:00, 31.17it/s]\n",
      "Moving images in train: 100%|██████████| 996/996 [00:03<00:00, 274.50it/s]\n",
      "Moving images in train-aug: 100%|██████████| 1494/1494 [00:03<00:00, 390.79it/s]\n",
      "Moving images in valid: 100%|██████████| 196/196 [00:00<00:00, 259.49it/s]\n"
     ]
    },
    {
     "name": "stdout",
     "output_type": "stream",
     "text": [
      "Found 996 files belonging to 3 classes.\n",
      "Found 1494 files belonging to 3 classes.\n",
      "Found 196 files belonging to 3 classes.\n",
      "ClearML Task: created new task id=117840459c384cc38aef4e75c731e361\n",
      "ClearML results page: https://app.clear.ml/projects/1cc8e46152ce4dafaba5e9735ab6ad79/experiments/117840459c384cc38aef4e75c731e361/output/log\n",
      "Training model...\n",
      "Epoch 1/30\n",
      "\u001b[1m32/32\u001b[0m \u001b[32m━━━━━━━━━━━━━━━━━━━━\u001b[0m\u001b[37m\u001b[0m \u001b[1m11s\u001b[0m 277ms/step - accuracy: 0.3405 - loss: 2.0524 - precision: 0.3061 - recall: 0.1240 - val_accuracy: 0.3265 - val_loss: 1.0985 - val_precision: 0.0000e+00 - val_recall: 0.0000e+00\n",
      "Epoch 2/30\n",
      "\u001b[1m32/32\u001b[0m \u001b[32m━━━━━━━━━━━━━━━━━━━━\u001b[0m\u001b[37m\u001b[0m \u001b[1m7s\u001b[0m 218ms/step - accuracy: 0.3005 - loss: 1.0994 - precision: 0.0000e+00 - recall: 0.0000e+00 - val_accuracy: 0.3418 - val_loss: 1.0984 - val_precision: 0.0000e+00 - val_recall: 0.0000e+00\n",
      "Epoch 3/30\n",
      "\u001b[1m32/32\u001b[0m \u001b[32m━━━━━━━━━━━━━━━━━━━━\u001b[0m\u001b[37m\u001b[0m \u001b[1m7s\u001b[0m 217ms/step - accuracy: 0.3292 - loss: 1.0995 - precision: 0.0000e+00 - recall: 0.0000e+00 - val_accuracy: 0.3418 - val_loss: 1.1156 - val_precision: 0.0000e+00 - val_recall: 0.0000e+00\n",
      "Epoch 4/30\n",
      "\u001b[1m32/32\u001b[0m \u001b[32m━━━━━━━━━━━━━━━━━━━━\u001b[0m\u001b[37m\u001b[0m \u001b[1m7s\u001b[0m 223ms/step - accuracy: 0.3327 - loss: 1.1157 - precision: 0.0000e+00 - recall: 0.0000e+00 - val_accuracy: 0.3265 - val_loss: 1.1008 - val_precision: 0.0000e+00 - val_recall: 0.0000e+00\n",
      "Epoch 5/30\n",
      "\u001b[1m32/32\u001b[0m \u001b[32m━━━━━━━━━━━━━━━━━━━━\u001b[0m\u001b[37m\u001b[0m \u001b[1m7s\u001b[0m 219ms/step - accuracy: 0.3273 - loss: 1.1003 - precision: 0.0000e+00 - recall: 0.0000e+00 - val_accuracy: 0.5255 - val_loss: 1.0956 - val_precision: 0.0000e+00 - val_recall: 0.0000e+00\n",
      "Epoch 6/30\n",
      "\u001b[1m32/32\u001b[0m \u001b[32m━━━━━━━━━━━━━━━━━━━━\u001b[0m\u001b[37m\u001b[0m \u001b[1m8s\u001b[0m 228ms/step - accuracy: 0.3919 - loss: 1.0973 - precision: 0.0758 - recall: 1.5562e-04 - val_accuracy: 0.3469 - val_loss: 1.0893 - val_precision: 0.0000e+00 - val_recall: 0.0000e+00\n",
      "Epoch 7/30\n",
      "\u001b[1m32/32\u001b[0m \u001b[32m━━━━━━━━━━━━━━━━━━━━\u001b[0m\u001b[37m\u001b[0m \u001b[1m9s\u001b[0m 265ms/step - accuracy: 0.3625 - loss: 1.1013 - precision: 0.1839 - recall: 0.0093 - val_accuracy: 0.6480 - val_loss: 1.0198 - val_precision: 1.0000 - val_recall: 0.0051\n",
      "Epoch 8/30\n",
      "\u001b[1m32/32\u001b[0m \u001b[32m━━━━━━━━━━━━━━━━━━━━\u001b[0m\u001b[37m\u001b[0m \u001b[1m7s\u001b[0m 222ms/step - accuracy: 0.5485 - loss: 1.0329 - precision: 0.5779 - recall: 0.0986 - val_accuracy: 0.3980 - val_loss: 1.4849 - val_precision: 0.4216 - val_recall: 0.3980\n",
      "Epoch 9/30\n",
      "\u001b[1m32/32\u001b[0m \u001b[32m━━━━━━━━━━━━━━━━━━━━\u001b[0m\u001b[37m\u001b[0m \u001b[1m7s\u001b[0m 219ms/step - accuracy: 0.5511 - loss: 1.0282 - precision: 0.6672 - recall: 0.2660 - val_accuracy: 0.6633 - val_loss: 0.8126 - val_precision: 0.7656 - val_recall: 0.5000\n",
      "Epoch 10/30\n",
      "\u001b[1m32/32\u001b[0m \u001b[32m━━━━━━━━━━━━━━━━━━━━\u001b[0m\u001b[37m\u001b[0m \u001b[1m7s\u001b[0m 219ms/step - accuracy: 0.6418 - loss: 0.8145 - precision: 0.7611 - recall: 0.4652 - val_accuracy: 0.5969 - val_loss: 0.8190 - val_precision: 0.7183 - val_recall: 0.5204\n",
      "Epoch 11/30\n",
      "\u001b[1m32/32\u001b[0m \u001b[32m━━━━━━━━━━━━━━━━━━━━\u001b[0m\u001b[37m\u001b[0m \u001b[1m7s\u001b[0m 215ms/step - accuracy: 0.6949 - loss: 0.7072 - precision: 0.7693 - recall: 0.5905 - val_accuracy: 0.6837 - val_loss: 0.7174 - val_precision: 0.7337 - val_recall: 0.6327\n",
      "Epoch 12/30\n",
      "\u001b[1m32/32\u001b[0m \u001b[32m━━━━━━━━━━━━━━━━━━━━\u001b[0m\u001b[37m\u001b[0m \u001b[1m7s\u001b[0m 220ms/step - accuracy: 0.7555 - loss: 0.6245 - precision: 0.7872 - recall: 0.6942 - val_accuracy: 0.7143 - val_loss: 0.6616 - val_precision: 0.7545 - val_recall: 0.6429\n",
      "Epoch 13/30\n",
      "\u001b[1m32/32\u001b[0m \u001b[32m━━━━━━━━━━━━━━━━━━━━\u001b[0m\u001b[37m\u001b[0m \u001b[1m7s\u001b[0m 217ms/step - accuracy: 0.7559 - loss: 0.5786 - precision: 0.8086 - recall: 0.6926 - val_accuracy: 0.7806 - val_loss: 0.5838 - val_precision: 0.7884 - val_recall: 0.7602\n",
      "Epoch 14/30\n",
      "\u001b[1m32/32\u001b[0m \u001b[32m━━━━━━━━━━━━━━━━━━━━\u001b[0m\u001b[37m\u001b[0m \u001b[1m7s\u001b[0m 224ms/step - accuracy: 0.7606 - loss: 0.5637 - precision: 0.8017 - recall: 0.6885 - val_accuracy: 0.7602 - val_loss: 0.6783 - val_precision: 0.7892 - val_recall: 0.7449\n",
      "Epoch 15/30\n",
      "\u001b[1m32/32\u001b[0m \u001b[32m━━━━━━━━━━━━━━━━━━━━\u001b[0m\u001b[37m\u001b[0m \u001b[1m7s\u001b[0m 219ms/step - accuracy: 0.8301 - loss: 0.4676 - precision: 0.8506 - recall: 0.7757 - val_accuracy: 0.7704 - val_loss: 0.5982 - val_precision: 0.8022 - val_recall: 0.7449\n",
      "Epoch 16/30\n",
      "\u001b[1m32/32\u001b[0m \u001b[32m━━━━━━━━━━━━━━━━━━━━\u001b[0m\u001b[37m\u001b[0m \u001b[1m7s\u001b[0m 216ms/step - accuracy: 0.8288 - loss: 0.4703 - precision: 0.8634 - recall: 0.7577 - val_accuracy: 0.7653 - val_loss: 0.6320 - val_precision: 0.7688 - val_recall: 0.7296\n",
      "Epoch 17/30\n",
      "\u001b[1m32/32\u001b[0m \u001b[32m━━━━━━━━━━━━━━━━━━━━\u001b[0m\u001b[37m\u001b[0m \u001b[1m7s\u001b[0m 221ms/step - accuracy: 0.8114 - loss: 0.4382 - precision: 0.8328 - recall: 0.7888 - val_accuracy: 0.7704 - val_loss: 0.6072 - val_precision: 0.7884 - val_recall: 0.7602\n",
      "Epoch 18/30\n",
      "\u001b[1m32/32\u001b[0m \u001b[32m━━━━━━━━━━━━━━━━━━━━\u001b[0m\u001b[37m\u001b[0m \u001b[1m7s\u001b[0m 219ms/step - accuracy: 0.8623 - loss: 0.3644 - precision: 0.8778 - recall: 0.8343 - val_accuracy: 0.7857 - val_loss: 0.6095 - val_precision: 0.7876 - val_recall: 0.7755\n",
      "Epoch 19/30\n",
      "\u001b[1m32/32\u001b[0m \u001b[32m━━━━━━━━━━━━━━━━━━━━\u001b[0m\u001b[37m\u001b[0m \u001b[1m7s\u001b[0m 222ms/step - accuracy: 0.8720 - loss: 0.3568 - precision: 0.8890 - recall: 0.8430 - val_accuracy: 0.7551 - val_loss: 0.6374 - val_precision: 0.7708 - val_recall: 0.7551\n",
      "Epoch 20/30\n",
      "\u001b[1m32/32\u001b[0m \u001b[32m━━━━━━━━━━━━━━━━━━━━\u001b[0m\u001b[37m\u001b[0m \u001b[1m7s\u001b[0m 218ms/step - accuracy: 0.8565 - loss: 0.3318 - precision: 0.8786 - recall: 0.8363 - val_accuracy: 0.7806 - val_loss: 0.6801 - val_precision: 0.7884 - val_recall: 0.7602\n",
      "Epoch 21/30\n",
      "\u001b[1m32/32\u001b[0m \u001b[32m━━━━━━━━━━━━━━━━━━━━\u001b[0m\u001b[37m\u001b[0m \u001b[1m7s\u001b[0m 222ms/step - accuracy: 0.8561 - loss: 0.3386 - precision: 0.8783 - recall: 0.8399 - val_accuracy: 0.8163 - val_loss: 0.5975 - val_precision: 0.8187 - val_recall: 0.8061\n",
      "Epoch 22/30\n",
      "\u001b[1m32/32\u001b[0m \u001b[32m━━━━━━━━━━━━━━━━━━━━\u001b[0m\u001b[37m\u001b[0m \u001b[1m7s\u001b[0m 218ms/step - accuracy: 0.8407 - loss: 0.3914 - precision: 0.8555 - recall: 0.8259 - val_accuracy: 0.7755 - val_loss: 0.6239 - val_precision: 0.8000 - val_recall: 0.7755\n",
      "Epoch 23/30\n",
      "\u001b[1m32/32\u001b[0m \u001b[32m━━━━━━━━━━━━━━━━━━━━\u001b[0m\u001b[37m\u001b[0m \u001b[1m7s\u001b[0m 220ms/step - accuracy: 0.8572 - loss: 0.3137 - precision: 0.8744 - recall: 0.8466 - val_accuracy: 0.7908 - val_loss: 0.6621 - val_precision: 0.7927 - val_recall: 0.7806\n",
      "Epoch 24/30\n",
      "\u001b[1m32/32\u001b[0m \u001b[32m━━━━━━━━━━━━━━━━━━━━\u001b[0m\u001b[37m\u001b[0m \u001b[1m7s\u001b[0m 223ms/step - accuracy: 0.8987 - loss: 0.2442 - precision: 0.9032 - recall: 0.8834 - val_accuracy: 0.8010 - val_loss: 0.6534 - val_precision: 0.8105 - val_recall: 0.7857\n",
      "Epoch 25/30\n",
      "\u001b[1m32/32\u001b[0m \u001b[32m━━━━━━━━━━━━━━━━━━━━\u001b[0m\u001b[37m\u001b[0m \u001b[1m7s\u001b[0m 220ms/step - accuracy: 0.9116 - loss: 0.2274 - precision: 0.9176 - recall: 0.9009 - val_accuracy: 0.7806 - val_loss: 0.6949 - val_precision: 0.7887 - val_recall: 0.7806\n",
      "Epoch 26/30\n",
      "\u001b[1m32/32\u001b[0m \u001b[32m━━━━━━━━━━━━━━━━━━━━\u001b[0m\u001b[37m\u001b[0m \u001b[1m7s\u001b[0m 221ms/step - accuracy: 0.9037 - loss: 0.2343 - precision: 0.9138 - recall: 0.8930 - val_accuracy: 0.8010 - val_loss: 0.6769 - val_precision: 0.8135 - val_recall: 0.8010\n",
      "Epoch 27/30\n",
      "\u001b[1m32/32\u001b[0m \u001b[32m━━━━━━━━━━━━━━━━━━━━\u001b[0m\u001b[37m\u001b[0m \u001b[1m7s\u001b[0m 217ms/step - accuracy: 0.9034 - loss: 0.2469 - precision: 0.9088 - recall: 0.8994 - val_accuracy: 0.7908 - val_loss: 0.6756 - val_precision: 0.7979 - val_recall: 0.7857\n",
      "Epoch 28/30\n",
      "\u001b[1m32/32\u001b[0m \u001b[32m━━━━━━━━━━━━━━━━━━━━\u001b[0m\u001b[37m\u001b[0m \u001b[1m7s\u001b[0m 220ms/step - accuracy: 0.9138 - loss: 0.2121 - precision: 0.9229 - recall: 0.9062 - val_accuracy: 0.8061 - val_loss: 0.7838 - val_precision: 0.8041 - val_recall: 0.7959\n",
      "Epoch 29/30\n",
      "\u001b[1m32/32\u001b[0m \u001b[32m━━━━━━━━━━━━━━━━━━━━\u001b[0m\u001b[37m\u001b[0m \u001b[1m7s\u001b[0m 219ms/step - accuracy: 0.9296 - loss: 0.1647 - precision: 0.9347 - recall: 0.9268 - val_accuracy: 0.7908 - val_loss: 0.7900 - val_precision: 0.7949 - val_recall: 0.7908\n",
      "Epoch 30/30\n",
      "\u001b[1m32/32\u001b[0m \u001b[32m━━━━━━━━━━━━━━━━━━━━\u001b[0m\u001b[37m\u001b[0m \u001b[1m7s\u001b[0m 219ms/step - accuracy: 0.9115 - loss: 0.2471 - precision: 0.9154 - recall: 0.8887 - val_accuracy: 0.7959 - val_loss: 0.7374 - val_precision: 0.8031 - val_recall: 0.7908\n",
      "Predicting on validation set...\n",
      "\u001b[1m7/7\u001b[0m \u001b[32m━━━━━━━━━━━━━━━━━━━━\u001b[0m\u001b[37m\u001b[0m \u001b[1m1s\u001b[0m 53ms/step\n",
      "Sending metrics to clearML...\n",
      "done\n",
      "ClearML Task: created new task id=d3700eac758343ffbc2792a0ca5f1298\n",
      "ClearML results page: https://app.clear.ml/projects/1cc8e46152ce4dafaba5e9735ab6ad79/experiments/d3700eac758343ffbc2792a0ca5f1298/output/log\n",
      "Training model...\n",
      "Epoch 1/30\n",
      "\u001b[1m47/47\u001b[0m \u001b[32m━━━━━━━━━━━━━━━━━━━━\u001b[0m\u001b[37m\u001b[0m \u001b[1m15s\u001b[0m 265ms/step - accuracy: 0.3675 - loss: 1.7668 - precision: 0.3865 - recall: 0.1437 - val_accuracy: 0.3316 - val_loss: 1.1083 - val_precision: 0.0000e+00 - val_recall: 0.0000e+00\n",
      "Epoch 2/30\n",
      "\u001b[1m47/47\u001b[0m \u001b[32m━━━━━━━━━━━━━━━━━━━━\u001b[0m\u001b[37m\u001b[0m \u001b[1m11s\u001b[0m 223ms/step - accuracy: 0.3662 - loss: 1.1027 - precision: 0.0417 - recall: 2.7889e-05 - val_accuracy: 0.6633 - val_loss: 1.0501 - val_precision: 0.0000e+00 - val_recall: 0.0000e+00\n",
      "Epoch 3/30\n",
      "\u001b[1m47/47\u001b[0m \u001b[32m━━━━━━━━━━━━━━━━━━━━\u001b[0m\u001b[37m\u001b[0m \u001b[1m11s\u001b[0m 219ms/step - accuracy: 0.5698 - loss: 0.9946 - precision: 0.6530 - recall: 0.1530 - val_accuracy: 0.7194 - val_loss: 0.7634 - val_precision: 0.7887 - val_recall: 0.5714\n",
      "Epoch 4/30\n",
      "\u001b[1m47/47\u001b[0m \u001b[32m━━━━━━━━━━━━━━━━━━━━\u001b[0m\u001b[37m\u001b[0m \u001b[1m11s\u001b[0m 228ms/step - accuracy: 0.6889 - loss: 0.7742 - precision: 0.7682 - recall: 0.5284 - val_accuracy: 0.7296 - val_loss: 0.6946 - val_precision: 0.7784 - val_recall: 0.6633\n",
      "Epoch 5/30\n",
      "\u001b[1m47/47\u001b[0m \u001b[32m━━━━━━━━━━━━━━━━━━━━\u001b[0m\u001b[37m\u001b[0m \u001b[1m12s\u001b[0m 253ms/step - accuracy: 0.7389 - loss: 0.6331 - precision: 0.8222 - recall: 0.6221 - val_accuracy: 0.7041 - val_loss: 0.7180 - val_precision: 0.7761 - val_recall: 0.5306\n",
      "Epoch 6/30\n",
      "\u001b[1m47/47\u001b[0m \u001b[32m━━━━━━━━━━━━━━━━━━━━\u001b[0m\u001b[37m\u001b[0m \u001b[1m11s\u001b[0m 219ms/step - accuracy: 0.7670 - loss: 0.5703 - precision: 0.8370 - recall: 0.7001 - val_accuracy: 0.7194 - val_loss: 0.6968 - val_precision: 0.7762 - val_recall: 0.5663\n",
      "Epoch 7/30\n",
      "\u001b[1m47/47\u001b[0m \u001b[32m━━━━━━━━━━━━━━━━━━━━\u001b[0m\u001b[37m\u001b[0m \u001b[1m11s\u001b[0m 219ms/step - accuracy: 0.8045 - loss: 0.5279 - precision: 0.8519 - recall: 0.7343 - val_accuracy: 0.7500 - val_loss: 0.6573 - val_precision: 0.7705 - val_recall: 0.7194\n",
      "Epoch 8/30\n",
      "\u001b[1m47/47\u001b[0m \u001b[32m━━━━━━━━━━━━━━━━━━━━\u001b[0m\u001b[37m\u001b[0m \u001b[1m11s\u001b[0m 222ms/step - accuracy: 0.8376 - loss: 0.4218 - precision: 0.8703 - recall: 0.8200 - val_accuracy: 0.7806 - val_loss: 0.6393 - val_precision: 0.7884 - val_recall: 0.7602\n",
      "Epoch 9/30\n",
      "\u001b[1m47/47\u001b[0m \u001b[32m━━━━━━━━━━━━━━━━━━━━\u001b[0m\u001b[37m\u001b[0m \u001b[1m11s\u001b[0m 221ms/step - accuracy: 0.8702 - loss: 0.3353 - precision: 0.8818 - recall: 0.8543 - val_accuracy: 0.7602 - val_loss: 0.6485 - val_precision: 0.7708 - val_recall: 0.7551\n",
      "Epoch 10/30\n",
      "\u001b[1m47/47\u001b[0m \u001b[32m━━━━━━━━━━━━━━━━━━━━\u001b[0m\u001b[37m\u001b[0m \u001b[1m11s\u001b[0m 219ms/step - accuracy: 0.8742 - loss: 0.3094 - precision: 0.8838 - recall: 0.8630 - val_accuracy: 0.7755 - val_loss: 0.6819 - val_precision: 0.7876 - val_recall: 0.7755\n",
      "Epoch 11/30\n",
      "\u001b[1m47/47\u001b[0m \u001b[32m━━━━━━━━━━━━━━━━━━━━\u001b[0m\u001b[37m\u001b[0m \u001b[1m12s\u001b[0m 246ms/step - accuracy: 0.8814 - loss: 0.3183 - precision: 0.8945 - recall: 0.8596 - val_accuracy: 0.7806 - val_loss: 0.6337 - val_precision: 0.7947 - val_recall: 0.7704\n",
      "Epoch 12/30\n",
      "\u001b[1m47/47\u001b[0m \u001b[32m━━━━━━━━━━━━━━━━━━━━\u001b[0m\u001b[37m\u001b[0m \u001b[1m12s\u001b[0m 240ms/step - accuracy: 0.9086 - loss: 0.2533 - precision: 0.9137 - recall: 0.8929 - val_accuracy: 0.7755 - val_loss: 0.7163 - val_precision: 0.7884 - val_recall: 0.7602\n",
      "Epoch 13/30\n",
      "\u001b[1m47/47\u001b[0m \u001b[32m━━━━━━━━━━━━━━━━━━━━\u001b[0m\u001b[37m\u001b[0m \u001b[1m11s\u001b[0m 235ms/step - accuracy: 0.9307 - loss: 0.2041 - precision: 0.9374 - recall: 0.9228 - val_accuracy: 0.8163 - val_loss: 0.7343 - val_precision: 0.8205 - val_recall: 0.8163\n",
      "Epoch 14/30\n",
      "\u001b[1m47/47\u001b[0m \u001b[32m━━━━━━━━━━━━━━━━━━━━\u001b[0m\u001b[37m\u001b[0m \u001b[1m11s\u001b[0m 230ms/step - accuracy: 0.9163 - loss: 0.2096 - precision: 0.9226 - recall: 0.9101 - val_accuracy: 0.8061 - val_loss: 0.7422 - val_precision: 0.8144 - val_recall: 0.8061\n",
      "Epoch 15/30\n",
      "\u001b[1m47/47\u001b[0m \u001b[32m━━━━━━━━━━━━━━━━━━━━\u001b[0m\u001b[37m\u001b[0m \u001b[1m12s\u001b[0m 240ms/step - accuracy: 0.9248 - loss: 0.1914 - precision: 0.9391 - recall: 0.9216 - val_accuracy: 0.7602 - val_loss: 0.7291 - val_precision: 0.7842 - val_recall: 0.7602\n",
      "Epoch 16/30\n",
      "\u001b[1m47/47\u001b[0m \u001b[32m━━━━━━━━━━━━━━━━━━━━\u001b[0m\u001b[37m\u001b[0m \u001b[1m11s\u001b[0m 234ms/step - accuracy: 0.9400 - loss: 0.1699 - precision: 0.9512 - recall: 0.9355 - val_accuracy: 0.8163 - val_loss: 0.6944 - val_precision: 0.8205 - val_recall: 0.8163\n",
      "Epoch 17/30\n",
      "\u001b[1m47/47\u001b[0m \u001b[32m━━━━━━━━━━━━━━━━━━━━\u001b[0m\u001b[37m\u001b[0m \u001b[1m11s\u001b[0m 227ms/step - accuracy: 0.9347 - loss: 0.1648 - precision: 0.9405 - recall: 0.9281 - val_accuracy: 0.8112 - val_loss: 0.6992 - val_precision: 0.8103 - val_recall: 0.8061\n",
      "Epoch 18/30\n",
      "\u001b[1m47/47\u001b[0m \u001b[32m━━━━━━━━━━━━━━━━━━━━\u001b[0m\u001b[37m\u001b[0m \u001b[1m11s\u001b[0m 232ms/step - accuracy: 0.9493 - loss: 0.1466 - precision: 0.9520 - recall: 0.9436 - val_accuracy: 0.8061 - val_loss: 0.7030 - val_precision: 0.8093 - val_recall: 0.8010\n",
      "Epoch 19/30\n",
      "\u001b[1m47/47\u001b[0m \u001b[32m━━━━━━━━━━━━━━━━━━━━\u001b[0m\u001b[37m\u001b[0m \u001b[1m11s\u001b[0m 227ms/step - accuracy: 0.9523 - loss: 0.1252 - precision: 0.9557 - recall: 0.9522 - val_accuracy: 0.8061 - val_loss: 0.8340 - val_precision: 0.8083 - val_recall: 0.7959\n",
      "Epoch 20/30\n",
      "\u001b[1m47/47\u001b[0m \u001b[32m━━━━━━━━━━━━━━━━━━━━\u001b[0m\u001b[37m\u001b[0m \u001b[1m11s\u001b[0m 226ms/step - accuracy: 0.9504 - loss: 0.1262 - precision: 0.9516 - recall: 0.9487 - val_accuracy: 0.7806 - val_loss: 0.9897 - val_precision: 0.7835 - val_recall: 0.7755\n",
      "Epoch 21/30\n",
      "\u001b[1m47/47\u001b[0m \u001b[32m━━━━━━━━━━━━━━━━━━━━\u001b[0m\u001b[37m\u001b[0m \u001b[1m11s\u001b[0m 218ms/step - accuracy: 0.8857 - loss: 0.2444 - precision: 0.8919 - recall: 0.8812 - val_accuracy: 0.8112 - val_loss: 0.8281 - val_precision: 0.8103 - val_recall: 0.8061\n",
      "Epoch 22/30\n",
      "\u001b[1m47/47\u001b[0m \u001b[32m━━━━━━━━━━━━━━━━━━━━\u001b[0m\u001b[37m\u001b[0m \u001b[1m10s\u001b[0m 217ms/step - accuracy: 0.9492 - loss: 0.1365 - precision: 0.9501 - recall: 0.9423 - val_accuracy: 0.8112 - val_loss: 0.8235 - val_precision: 0.8154 - val_recall: 0.8112\n",
      "Epoch 23/30\n",
      "\u001b[1m47/47\u001b[0m \u001b[32m━━━━━━━━━━━━━━━━━━━━\u001b[0m\u001b[37m\u001b[0m \u001b[1m11s\u001b[0m 220ms/step - accuracy: 0.9681 - loss: 0.1063 - precision: 0.9705 - recall: 0.9631 - val_accuracy: 0.8214 - val_loss: 0.7964 - val_precision: 0.8205 - val_recall: 0.8163\n",
      "Epoch 24/30\n",
      "\u001b[1m47/47\u001b[0m \u001b[32m━━━━━━━━━━━━━━━━━━━━\u001b[0m\u001b[37m\u001b[0m \u001b[1m10s\u001b[0m 217ms/step - accuracy: 0.9613 - loss: 0.0970 - precision: 0.9634 - recall: 0.9603 - val_accuracy: 0.8010 - val_loss: 0.9460 - val_precision: 0.8010 - val_recall: 0.8010\n",
      "Epoch 25/30\n",
      "\u001b[1m47/47\u001b[0m \u001b[32m━━━━━━━━━━━━━━━━━━━━\u001b[0m\u001b[37m\u001b[0m \u001b[1m11s\u001b[0m 223ms/step - accuracy: 0.9746 - loss: 0.0777 - precision: 0.9788 - recall: 0.9716 - val_accuracy: 0.7908 - val_loss: 0.7409 - val_precision: 0.7979 - val_recall: 0.7857\n",
      "Epoch 26/30\n",
      "\u001b[1m47/47\u001b[0m \u001b[32m━━━━━━━━━━━━━━━━━━━━\u001b[0m\u001b[37m\u001b[0m \u001b[1m11s\u001b[0m 230ms/step - accuracy: 0.9507 - loss: 0.1334 - precision: 0.9560 - recall: 0.9452 - val_accuracy: 0.8265 - val_loss: 0.8472 - val_precision: 0.8265 - val_recall: 0.8265\n",
      "Epoch 27/30\n",
      "\u001b[1m47/47\u001b[0m \u001b[32m━━━━━━━━━━━━━━━━━━━━\u001b[0m\u001b[37m\u001b[0m \u001b[1m11s\u001b[0m 219ms/step - accuracy: 0.9860 - loss: 0.0477 - precision: 0.9862 - recall: 0.9860 - val_accuracy: 0.8265 - val_loss: 0.8533 - val_precision: 0.8265 - val_recall: 0.8265\n",
      "Epoch 28/30\n",
      "\u001b[1m47/47\u001b[0m \u001b[32m━━━━━━━━━━━━━━━━━━━━\u001b[0m\u001b[37m\u001b[0m \u001b[1m10s\u001b[0m 214ms/step - accuracy: 0.9843 - loss: 0.0458 - precision: 0.9844 - recall: 0.9843 - val_accuracy: 0.8316 - val_loss: 0.9051 - val_precision: 0.8316 - val_recall: 0.8316\n",
      "Epoch 29/30\n",
      "\u001b[1m47/47\u001b[0m \u001b[32m━━━━━━━━━━━━━━━━━━━━\u001b[0m\u001b[37m\u001b[0m \u001b[1m10s\u001b[0m 213ms/step - accuracy: 0.9902 - loss: 0.0357 - precision: 0.9908 - recall: 0.9899 - val_accuracy: 0.8316 - val_loss: 0.8405 - val_precision: 0.8316 - val_recall: 0.8316\n",
      "Epoch 30/30\n",
      "\u001b[1m47/47\u001b[0m \u001b[32m━━━━━━━━━━━━━━━━━━━━\u001b[0m\u001b[37m\u001b[0m \u001b[1m11s\u001b[0m 219ms/step - accuracy: 0.9934 - loss: 0.0296 - precision: 0.9939 - recall: 0.9934 - val_accuracy: 0.8163 - val_loss: 0.8899 - val_precision: 0.8247 - val_recall: 0.8163\n",
      "Predicting on validation set...\n",
      "\u001b[1m7/7\u001b[0m \u001b[32m━━━━━━━━━━━━━━━━━━━━\u001b[0m\u001b[37m\u001b[0m \u001b[1m1s\u001b[0m 51ms/step\n",
      "Sending metrics to clearML...\n",
      "done\n"
     ]
    }
   ],
   "source": [
    "# sharpen augmentation\n",
    "task_name = 'sh'\n",
    "sub_project_name = 'SHARPEN'\n",
    "\n",
    "augmentation_metadata = {\n",
    "        'methods': {        \n",
    "            'sharpen': {\n",
    "                'parameters': {\n",
    "                    'p': 1.0  # Probability of applying the augmentation\n",
    "                },\n",
    "                'apply_to_percentage': 0.5  # 50% of the training images\n",
    "            }        \n",
    "        }\n",
    "    }\n",
    "\n",
    "for i in range(N):\n",
    "    RUN = i + 1\n",
    "    try:\n",
    "        print(f\"Starting RUN: {RUN}\")\n",
    "        main(RUN, augmentation_metadata, task_name, sub_project_name, epochs, train_size, w1, w2)\n",
    "    except Exception as e:\n",
    "        print(f\"Error in RUN: {RUN}\")\n",
    "        print(e)\n",
    "    finally:\n",
    "        clear_output(wait=True)  # Clear the output to avoid scrolling\n",
    "        gc.collect()  # Collect garbage to avoid memory leaks"
   ]
  },
  {
   "cell_type": "code",
   "execution_count": 5,
   "metadata": {},
   "outputs": [
    {
     "name": "stdout",
     "output_type": "stream",
     "text": [
      "Starting RUN: 5\n",
      "Seed:  1537271171\n"
     ]
    },
    {
     "name": "stderr",
     "output_type": "stream",
     "text": [
      "c:\\github\\Third-Year-Project\\Intruder-Aircraft-Detection\\main\\tl_clf.py:79: SettingWithCopyWarning:\n",
      "\n",
      "\n",
      "A value is trying to be set on a copy of a slice from a DataFrame.\n",
      "Try using .loc[row_indexer,col_indexer] = value instead\n",
      "\n",
      "See the caveats in the documentation: https://pandas.pydata.org/pandas-docs/stable/user_guide/indexing.html#returning-a-view-versus-a-copy\n",
      "\n",
      "c:\\github\\Third-Year-Project\\Intruder-Aircraft-Detection\\main\\tl_clf.py:80: SettingWithCopyWarning:\n",
      "\n",
      "\n",
      "A value is trying to be set on a copy of a slice from a DataFrame.\n",
      "Try using .loc[row_indexer,col_indexer] = value instead\n",
      "\n",
      "See the caveats in the documentation: https://pandas.pydata.org/pandas-docs/stable/user_guide/indexing.html#returning-a-view-versus-a-copy\n",
      "\n"
     ]
    },
    {
     "name": "stdout",
     "output_type": "stream",
     "text": [
      "Removing dataset if pre-existing\n",
      "Copying training files:\n"
     ]
    },
    {
     "name": "stderr",
     "output_type": "stream",
     "text": [
      "Copying files: 100%|██████████| 2000/2000 [00:01<00:00, 1734.09it/s]\n"
     ]
    },
    {
     "name": "stdout",
     "output_type": "stream",
     "text": [
      "Copying validation files:\n"
     ]
    },
    {
     "name": "stderr",
     "output_type": "stream",
     "text": [
      "Copying files: 100%|██████████| 400/400 [00:00<00:00, 1927.35it/s]\n"
     ]
    },
    {
     "name": "stdout",
     "output_type": "stream",
     "text": [
      "Dataset 'weather_23_1000' created at C:\\github\\Third-Year-Project\\Intruder-Aircraft-Detection\\datasets\\Custom\\weather_23_1000\n",
      "Processing train labels in weather_23_1000:\n"
     ]
    },
    {
     "name": "stderr",
     "output_type": "stream",
     "text": [
      "Processing labels: 100%|██████████| 1000/1000 [00:03<00:00, 269.41it/s]\n"
     ]
    },
    {
     "name": "stdout",
     "output_type": "stream",
     "text": [
      "Processing valid labels in weather_23_1000:\n"
     ]
    },
    {
     "name": "stderr",
     "output_type": "stream",
     "text": [
      "Processing labels: 100%|██████████| 200/200 [00:00<00:00, 234.68it/s]\n"
     ]
    },
    {
     "name": "stdout",
     "output_type": "stream",
     "text": [
      "Label correction completed.\n"
     ]
    },
    {
     "name": "stderr",
     "output_type": "stream",
     "text": [
      "Removing existing directories/files: 100%|██████████| 3/3 [00:00<00:00, 2995.93it/s]\n",
      "Copying files: 100%|██████████| 1000/1000 [00:01<00:00, 981.09it/s]\n",
      "Copying files: 100%|██████████| 1000/1000 [00:00<00:00, 1330.25it/s]\n",
      "Applying augmentations: 100%|██████████| 500/500 [00:20<00:00, 24.04it/s]\n",
      "Processing images:  25%|██▌       | 253/1000 [00:10<00:23, 32.01it/s]"
     ]
    },
    {
     "name": "stdout",
     "output_type": "stream",
     "text": [
      "An error occurred with C:/github/Third-Year-Project/Intruder-Aircraft-Detection/datasets/Custom/weather_23_1000\\images\\train\\26778.jpg: Expected y_min for bbox (0.17198949999999996, -0.047677, 0.8024305, 0.372617, 1) to be in the range [0.0, 1.0], got -0.047677.\n"
     ]
    },
    {
     "name": "stderr",
     "output_type": "stream",
     "text": [
      "Processing images:  75%|███████▍  | 749/1000 [00:25<00:07, 33.47it/s]"
     ]
    },
    {
     "name": "stdout",
     "output_type": "stream",
     "text": [
      "An error occurred with C:/github/Third-Year-Project/Intruder-Aircraft-Detection/datasets/Custom/weather_23_1000\\images\\train\\50467.jpg: Expected y_max for bbox (0.06709400000000001, 0.82754, 0.38573199999999996, 1.0399660000000002, 2) to be in the range [0.0, 1.0], got 1.0399660000000002.\n"
     ]
    },
    {
     "name": "stderr",
     "output_type": "stream",
     "text": [
      "Processing images:  80%|███████▉  | 799/1000 [00:26<00:05, 38.64it/s]"
     ]
    },
    {
     "name": "stdout",
     "output_type": "stream",
     "text": [
      "An error occurred with C:/github/Third-Year-Project/Intruder-Aircraft-Detection/datasets/Custom/weather_23_1000\\images\\train\\50719.jpg: Expected x_min for bbox (-0.11753550000000001, 0.31711149999999994, 0.8069695, 0.9334484999999999, 2) to be in the range [0.0, 1.0], got -0.11753550000000001.\n",
      "An error occurred with C:/github/Third-Year-Project/Intruder-Aircraft-Detection/datasets/Custom/weather_23_1000\\images\\train\\50732.jpg: Expected x_min for bbox (-0.02266499999999999, 0.5461069999999999, 0.560295, 0.9347469999999999, 2) to be in the range [0.0, 1.0], got -0.02266499999999999.\n"
     ]
    },
    {
     "name": "stderr",
     "output_type": "stream",
     "text": [
      "Processing images:  84%|████████▎ | 835/1000 [00:27<00:05, 32.09it/s]"
     ]
    },
    {
     "name": "stdout",
     "output_type": "stream",
     "text": [
      "An error occurred with C:/github/Third-Year-Project/Intruder-Aircraft-Detection/datasets/Custom/weather_23_1000\\images\\train\\50883.jpg: Expected y_min for bbox (0.12349849999999996, -0.0012560000000000071, 0.7682795, 0.42859800000000003, 2) to be in the range [0.0, 1.0], got -0.0012560000000000071.\n"
     ]
    },
    {
     "name": "stderr",
     "output_type": "stream",
     "text": [
      "Processing images:  94%|█████████▍| 944/1000 [00:30<00:01, 35.62it/s]"
     ]
    },
    {
     "name": "stdout",
     "output_type": "stream",
     "text": [
      "An error occurred with C:/github/Third-Year-Project/Intruder-Aircraft-Detection/datasets/Custom/weather_23_1000\\images\\train\\51548.jpg: Expected y_max for bbox (0.38042449999999994, 0.694677, 0.8531095, 1.009801, 2) to be in the range [0.0, 1.0], got 1.009801.\n"
     ]
    },
    {
     "name": "stderr",
     "output_type": "stream",
     "text": [
      "Processing images: 100%|██████████| 1000/1000 [00:32<00:00, 30.62it/s]\n",
      "Processing images:  25%|██▌       | 376/1500 [00:16<00:34, 32.39it/s]"
     ]
    },
    {
     "name": "stdout",
     "output_type": "stream",
     "text": [
      "An error occurred with C:/github/Third-Year-Project/Intruder-Aircraft-Detection/datasets/Custom/weather_23_1000\\images\\train-aug\\26778.jpg: Expected y_min for bbox (0.17198949999999996, -0.047677, 0.8024305, 0.372617, 1) to be in the range [0.0, 1.0], got -0.047677.\n",
      "An error occurred with C:/github/Third-Year-Project/Intruder-Aircraft-Detection/datasets/Custom/weather_23_1000\\images\\train-aug\\26778-gaussian.jpg: Expected y_min for bbox (0.17198949999999996, -0.047677, 0.8024305, 0.372617, 1) to be in the range [0.0, 1.0], got -0.047677.\n"
     ]
    },
    {
     "name": "stderr",
     "output_type": "stream",
     "text": [
      "Processing images:  75%|███████▍  | 1121/1500 [00:41<00:11, 32.40it/s]"
     ]
    },
    {
     "name": "stdout",
     "output_type": "stream",
     "text": [
      "An error occurred with C:/github/Third-Year-Project/Intruder-Aircraft-Detection/datasets/Custom/weather_23_1000\\images\\train-aug\\50467.jpg: Expected y_max for bbox (0.06709400000000001, 0.82754, 0.38573199999999996, 1.0399660000000002, 2) to be in the range [0.0, 1.0], got 1.0399660000000002.\n"
     ]
    },
    {
     "name": "stderr",
     "output_type": "stream",
     "text": [
      "Processing images:  79%|███████▉  | 1186/1500 [00:43<00:09, 31.58it/s]"
     ]
    },
    {
     "name": "stdout",
     "output_type": "stream",
     "text": [
      "An error occurred with C:/github/Third-Year-Project/Intruder-Aircraft-Detection/datasets/Custom/weather_23_1000\\images\\train-aug\\50719.jpg: Expected x_min for bbox (-0.11753550000000001, 0.31711149999999994, 0.8069695, 0.9334484999999999, 2) to be in the range [0.0, 1.0], got -0.11753550000000001.\n",
      "An error occurred with C:/github/Third-Year-Project/Intruder-Aircraft-Detection/datasets/Custom/weather_23_1000\\images\\train-aug\\50719-gaussian.jpg: Expected x_min for bbox (-0.11753550000000001, 0.31711149999999994, 0.8069695, 0.9334484999999999, 2) to be in the range [0.0, 1.0], got -0.11753550000000001.\n"
     ]
    },
    {
     "name": "stderr",
     "output_type": "stream",
     "text": [
      "Processing images:  80%|███████▉  | 1196/1500 [00:43<00:08, 35.86it/s]"
     ]
    },
    {
     "name": "stdout",
     "output_type": "stream",
     "text": [
      "An error occurred with C:/github/Third-Year-Project/Intruder-Aircraft-Detection/datasets/Custom/weather_23_1000\\images\\train-aug\\50732.jpg: Expected x_min for bbox (-0.02266499999999999, 0.5461069999999999, 0.560295, 0.9347469999999999, 2) to be in the range [0.0, 1.0], got -0.02266499999999999.\n"
     ]
    },
    {
     "name": "stderr",
     "output_type": "stream",
     "text": [
      "Processing images:  83%|████████▎ | 1249/1500 [00:45<00:07, 32.06it/s]"
     ]
    },
    {
     "name": "stdout",
     "output_type": "stream",
     "text": [
      "An error occurred with C:/github/Third-Year-Project/Intruder-Aircraft-Detection/datasets/Custom/weather_23_1000\\images\\train-aug\\50883.jpg: Expected y_min for bbox (0.12349849999999996, -0.0012560000000000071, 0.7682795, 0.42859800000000003, 2) to be in the range [0.0, 1.0], got -0.0012560000000000071.\n"
     ]
    },
    {
     "name": "stderr",
     "output_type": "stream",
     "text": [
      "Processing images:  93%|█████████▎| 1402/1500 [00:50<00:03, 31.91it/s]"
     ]
    },
    {
     "name": "stdout",
     "output_type": "stream",
     "text": [
      "An error occurred with C:/github/Third-Year-Project/Intruder-Aircraft-Detection/datasets/Custom/weather_23_1000\\images\\train-aug\\51548.jpg: Expected y_max for bbox (0.38042449999999994, 0.694677, 0.8531095, 1.009801, 2) to be in the range [0.0, 1.0], got 1.009801.\n"
     ]
    },
    {
     "name": "stderr",
     "output_type": "stream",
     "text": [
      "Processing images: 100%|██████████| 1500/1500 [00:53<00:00, 27.84it/s]\n",
      "Processing images:  14%|█▍        | 29/200 [00:01<00:06, 27.30it/s]"
     ]
    },
    {
     "name": "stdout",
     "output_type": "stream",
     "text": [
      "An error occurred with C:/github/Third-Year-Project/Intruder-Aircraft-Detection/datasets/Custom/weather_23_1000\\images\\valid\\26926.jpg: Expected y_min for bbox (0.38187599999999994, -0.12572450000000002, 1.180976, 0.4070085, 1) to be in the range [0.0, 1.0], got -0.12572450000000002.\n"
     ]
    },
    {
     "name": "stderr",
     "output_type": "stream",
     "text": [
      "Processing images:  34%|███▍      | 69/200 [00:02<00:03, 34.43it/s]"
     ]
    },
    {
     "name": "stdout",
     "output_type": "stream",
     "text": [
      "An error occurred with C:/github/Third-Year-Project/Intruder-Aircraft-Detection/datasets/Custom/weather_23_1000\\images\\valid\\26999.jpg: Expected x_min for bbox (-0.1462135, 0.3244429999999999, 0.7076735, 0.893701, 1) to be in the range [0.0, 1.0], got -0.1462135.\n"
     ]
    },
    {
     "name": "stderr",
     "output_type": "stream",
     "text": [
      "Processing images:  74%|███████▎  | 147/200 [00:04<00:01, 35.03it/s]"
     ]
    },
    {
     "name": "stdout",
     "output_type": "stream",
     "text": [
      "An error occurred with C:/github/Third-Year-Project/Intruder-Aircraft-Detection/datasets/Custom/weather_23_1000\\images\\valid\\50917.jpg: Expected y_min for bbox (0.3312055, -0.11337250000000001, 1.1166544999999999, 0.41026050000000003, 2) to be in the range [0.0, 1.0], got -0.11337250000000001.\n"
     ]
    },
    {
     "name": "stderr",
     "output_type": "stream",
     "text": [
      "Processing images:  82%|████████▏ | 164/200 [00:05<00:01, 35.17it/s]"
     ]
    },
    {
     "name": "stdout",
     "output_type": "stream",
     "text": [
      "An error occurred with C:/github/Third-Year-Project/Intruder-Aircraft-Detection/datasets/Custom/weather_23_1000\\images\\valid\\50955.jpg: Expected x_min for bbox (-0.021672000000000025, 0.2856885, 0.507494, 0.6384655, 2) to be in the range [0.0, 1.0], got -0.021672000000000025.\n"
     ]
    },
    {
     "name": "stderr",
     "output_type": "stream",
     "text": [
      "Processing images: 100%|██████████| 200/200 [00:06<00:00, 30.76it/s]\n",
      "Moving images in train: 100%|██████████| 994/994 [00:04<00:00, 221.20it/s]\n",
      "Moving images in train-aug: 100%|██████████| 1492/1492 [00:04<00:00, 347.18it/s]\n",
      "Moving images in valid: 100%|██████████| 196/196 [00:00<00:00, 224.46it/s]\n"
     ]
    },
    {
     "name": "stdout",
     "output_type": "stream",
     "text": [
      "Found 994 files belonging to 3 classes.\n",
      "Found 1492 files belonging to 3 classes.\n",
      "Found 196 files belonging to 3 classes.\n",
      "ClearML Task: created new task id=ef8d3fcd76f04825be64f067e0ed8986\n",
      "ClearML results page: https://app.clear.ml/projects/8cfd67047c9d4e6abe11758d1fccbf13/experiments/ef8d3fcd76f04825be64f067e0ed8986/output/log\n",
      "Training model...\n",
      "Epoch 1/30\n",
      "\u001b[1m32/32\u001b[0m \u001b[32m━━━━━━━━━━━━━━━━━━━━\u001b[0m\u001b[37m\u001b[0m \u001b[1m12s\u001b[0m 307ms/step - accuracy: 0.3361 - loss: 1.8731 - precision: 0.2899 - recall: 0.1084 - val_accuracy: 0.3316 - val_loss: 1.0985 - val_precision: 0.0000e+00 - val_recall: 0.0000e+00\n",
      "Epoch 2/30\n",
      "\u001b[1m32/32\u001b[0m \u001b[32m━━━━━━━━━━━━━━━━━━━━\u001b[0m\u001b[37m\u001b[0m \u001b[1m7s\u001b[0m 223ms/step - accuracy: 0.3374 - loss: 1.0986 - precision: 0.0000e+00 - recall: 0.0000e+00 - val_accuracy: 0.3316 - val_loss: 1.0986 - val_precision: 0.0000e+00 - val_recall: 0.0000e+00\n",
      "Epoch 3/30\n",
      "\u001b[1m32/32\u001b[0m \u001b[32m━━━━━━━━━━━━━━━━━━━━\u001b[0m\u001b[37m\u001b[0m \u001b[1m8s\u001b[0m 228ms/step - accuracy: 0.3269 - loss: 1.0985 - precision: 0.0000e+00 - recall: 0.0000e+00 - val_accuracy: 0.3316 - val_loss: 1.0986 - val_precision: 0.0000e+00 - val_recall: 0.0000e+00\n",
      "Epoch 4/30\n",
      "\u001b[1m32/32\u001b[0m \u001b[32m━━━━━━━━━━━━━━━━━━━━\u001b[0m\u001b[37m\u001b[0m \u001b[1m7s\u001b[0m 222ms/step - accuracy: 0.3411 - loss: 1.0978 - precision: 0.0000e+00 - recall: 0.0000e+00 - val_accuracy: 0.3316 - val_loss: 1.0986 - val_precision: 0.0000e+00 - val_recall: 0.0000e+00\n",
      "Epoch 5/30\n",
      "\u001b[1m32/32\u001b[0m \u001b[32m━━━━━━━━━━━━━━━━━━━━\u001b[0m\u001b[37m\u001b[0m \u001b[1m7s\u001b[0m 223ms/step - accuracy: 0.3375 - loss: 1.0985 - precision: 0.0000e+00 - recall: 0.0000e+00 - val_accuracy: 0.3571 - val_loss: 1.0983 - val_precision: 0.0000e+00 - val_recall: 0.0000e+00\n",
      "Epoch 6/30\n",
      "\u001b[1m32/32\u001b[0m \u001b[32m━━━━━━━━━━━━━━━━━━━━\u001b[0m\u001b[37m\u001b[0m \u001b[1m8s\u001b[0m 254ms/step - accuracy: 0.3381 - loss: 1.0994 - precision: 0.2029 - recall: 0.0040 - val_accuracy: 0.3367 - val_loss: 1.0983 - val_precision: 0.0000e+00 - val_recall: 0.0000e+00\n",
      "Epoch 7/30\n",
      "\u001b[1m32/32\u001b[0m \u001b[32m━━━━━━━━━━━━━━━━━━━━\u001b[0m\u001b[37m\u001b[0m \u001b[1m10s\u001b[0m 315ms/step - accuracy: 0.3299 - loss: 1.0993 - precision: 0.0000e+00 - recall: 0.0000e+00 - val_accuracy: 0.3316 - val_loss: 1.0984 - val_precision: 0.0000e+00 - val_recall: 0.0000e+00\n",
      "Epoch 8/30\n",
      "\u001b[1m32/32\u001b[0m \u001b[32m━━━━━━━━━━━━━━━━━━━━\u001b[0m\u001b[37m\u001b[0m \u001b[1m8s\u001b[0m 238ms/step - accuracy: 0.3266 - loss: 1.0988 - precision: 0.0000e+00 - recall: 0.0000e+00 - val_accuracy: 0.3316 - val_loss: 1.0983 - val_precision: 0.0000e+00 - val_recall: 0.0000e+00\n",
      "Epoch 9/30\n",
      "\u001b[1m32/32\u001b[0m \u001b[32m━━━━━━━━━━━━━━━━━━━━\u001b[0m\u001b[37m\u001b[0m \u001b[1m8s\u001b[0m 243ms/step - accuracy: 0.3394 - loss: 1.0988 - precision: 0.0000e+00 - recall: 0.0000e+00 - val_accuracy: 0.3316 - val_loss: 1.0984 - val_precision: 0.0000e+00 - val_recall: 0.0000e+00\n",
      "Epoch 10/30\n",
      "\u001b[1m32/32\u001b[0m \u001b[32m━━━━━━━━━━━━━━━━━━━━\u001b[0m\u001b[37m\u001b[0m \u001b[1m8s\u001b[0m 229ms/step - accuracy: 0.3429 - loss: 1.0985 - precision: 0.0000e+00 - recall: 0.0000e+00 - val_accuracy: 0.3316 - val_loss: 1.0981 - val_precision: 0.0000e+00 - val_recall: 0.0000e+00\n",
      "Epoch 11/30\n",
      "\u001b[1m32/32\u001b[0m \u001b[32m━━━━━━━━━━━━━━━━━━━━\u001b[0m\u001b[37m\u001b[0m \u001b[1m8s\u001b[0m 228ms/step - accuracy: 0.3558 - loss: 1.0979 - precision: 0.0000e+00 - recall: 0.0000e+00 - val_accuracy: 0.3316 - val_loss: 1.0979 - val_precision: 0.0000e+00 - val_recall: 0.0000e+00\n",
      "Epoch 12/30\n",
      "\u001b[1m32/32\u001b[0m \u001b[32m━━━━━━━━━━━━━━━━━━━━\u001b[0m\u001b[37m\u001b[0m \u001b[1m7s\u001b[0m 225ms/step - accuracy: 0.3340 - loss: 1.0981 - precision: 0.0000e+00 - recall: 0.0000e+00 - val_accuracy: 0.3622 - val_loss: 1.0979 - val_precision: 0.0000e+00 - val_recall: 0.0000e+00\n",
      "Epoch 13/30\n",
      "\u001b[1m32/32\u001b[0m \u001b[32m━━━━━━━━━━━━━━━━━━━━\u001b[0m\u001b[37m\u001b[0m \u001b[1m8s\u001b[0m 228ms/step - accuracy: 0.3393 - loss: 1.0980 - precision: 0.0000e+00 - recall: 0.0000e+00 - val_accuracy: 0.3724 - val_loss: 1.0970 - val_precision: 0.0000e+00 - val_recall: 0.0000e+00\n",
      "Epoch 14/30\n",
      "\u001b[1m32/32\u001b[0m \u001b[32m━━━━━━━━━━━━━━━━━━━━\u001b[0m\u001b[37m\u001b[0m \u001b[1m8s\u001b[0m 239ms/step - accuracy: 0.3527 - loss: 1.0990 - precision: 0.0000e+00 - recall: 0.0000e+00 - val_accuracy: 0.3776 - val_loss: 1.0968 - val_precision: 0.0000e+00 - val_recall: 0.0000e+00\n",
      "Epoch 15/30\n",
      "\u001b[1m32/32\u001b[0m \u001b[32m━━━━━━━━━━━━━━━━━━━━\u001b[0m\u001b[37m\u001b[0m \u001b[1m8s\u001b[0m 229ms/step - accuracy: 0.3601 - loss: 1.0985 - precision: 0.0000e+00 - recall: 0.0000e+00 - val_accuracy: 0.4643 - val_loss: 1.0966 - val_precision: 0.0000e+00 - val_recall: 0.0000e+00\n",
      "Epoch 16/30\n",
      "\u001b[1m32/32\u001b[0m \u001b[32m━━━━━━━━━━━━━━━━━━━━\u001b[0m\u001b[37m\u001b[0m \u001b[1m8s\u001b[0m 228ms/step - accuracy: 0.3450 - loss: 1.0984 - precision: 0.0000e+00 - recall: 0.0000e+00 - val_accuracy: 0.3571 - val_loss: 1.0964 - val_precision: 0.0000e+00 - val_recall: 0.0000e+00\n",
      "Epoch 17/30\n",
      "\u001b[1m32/32\u001b[0m \u001b[32m━━━━━━━━━━━━━━━━━━━━\u001b[0m\u001b[37m\u001b[0m \u001b[1m8s\u001b[0m 235ms/step - accuracy: 0.3772 - loss: 1.0975 - precision: 0.0000e+00 - recall: 0.0000e+00 - val_accuracy: 0.3367 - val_loss: 1.0952 - val_precision: 0.0000e+00 - val_recall: 0.0000e+00\n",
      "Epoch 18/30\n",
      "\u001b[1m32/32\u001b[0m \u001b[32m━━━━━━━━━━━━━━━━━━━━\u001b[0m\u001b[37m\u001b[0m \u001b[1m8s\u001b[0m 240ms/step - accuracy: 0.3269 - loss: 1.0996 - precision: 0.0000e+00 - recall: 0.0000e+00 - val_accuracy: 0.3520 - val_loss: 1.0944 - val_precision: 0.0000e+00 - val_recall: 0.0000e+00\n",
      "Epoch 19/30\n",
      "\u001b[1m32/32\u001b[0m \u001b[32m━━━━━━━━━━━━━━━━━━━━\u001b[0m\u001b[37m\u001b[0m \u001b[1m8s\u001b[0m 229ms/step - accuracy: 0.3569 - loss: 1.0966 - precision: 0.0000e+00 - recall: 0.0000e+00 - val_accuracy: 0.5051 - val_loss: 1.0846 - val_precision: 0.0000e+00 - val_recall: 0.0000e+00\n",
      "Epoch 20/30\n",
      "\u001b[1m32/32\u001b[0m \u001b[32m━━━━━━━━━━━━━━━━━━━━\u001b[0m\u001b[37m\u001b[0m \u001b[1m8s\u001b[0m 233ms/step - accuracy: 0.4029 - loss: 1.0930 - precision: 0.0000e+00 - recall: 0.0000e+00 - val_accuracy: 0.4184 - val_loss: 1.0775 - val_precision: 0.0000e+00 - val_recall: 0.0000e+00\n",
      "Epoch 21/30\n",
      "\u001b[1m32/32\u001b[0m \u001b[32m━━━━━━━━━━━━━━━━━━━━\u001b[0m\u001b[37m\u001b[0m \u001b[1m8s\u001b[0m 233ms/step - accuracy: 0.3406 - loss: 1.1587 - precision: 0.2277 - recall: 0.0196 - val_accuracy: 0.3469 - val_loss: 1.0986 - val_precision: 0.0000e+00 - val_recall: 0.0000e+00\n",
      "Epoch 22/30\n",
      "\u001b[1m32/32\u001b[0m \u001b[32m━━━━━━━━━━━━━━━━━━━━\u001b[0m\u001b[37m\u001b[0m \u001b[1m8s\u001b[0m 231ms/step - accuracy: 0.3294 - loss: 1.0984 - precision: 0.0000e+00 - recall: 0.0000e+00 - val_accuracy: 0.3316 - val_loss: 1.0985 - val_precision: 0.0000e+00 - val_recall: 0.0000e+00\n",
      "Epoch 23/30\n",
      "\u001b[1m32/32\u001b[0m \u001b[32m━━━━━━━━━━━━━━━━━━━━\u001b[0m\u001b[37m\u001b[0m \u001b[1m8s\u001b[0m 229ms/step - accuracy: 0.3402 - loss: 1.0985 - precision: 0.0000e+00 - recall: 0.0000e+00 - val_accuracy: 0.3316 - val_loss: 1.0985 - val_precision: 0.0000e+00 - val_recall: 0.0000e+00\n",
      "Epoch 24/30\n",
      "\u001b[1m32/32\u001b[0m \u001b[32m━━━━━━━━━━━━━━━━━━━━\u001b[0m\u001b[37m\u001b[0m \u001b[1m8s\u001b[0m 224ms/step - accuracy: 0.3353 - loss: 1.0989 - precision: 0.0000e+00 - recall: 0.0000e+00 - val_accuracy: 0.3316 - val_loss: 1.0984 - val_precision: 0.0000e+00 - val_recall: 0.0000e+00\n",
      "Epoch 25/30\n",
      "\u001b[1m32/32\u001b[0m \u001b[32m━━━━━━━━━━━━━━━━━━━━\u001b[0m\u001b[37m\u001b[0m \u001b[1m8s\u001b[0m 224ms/step - accuracy: 0.3382 - loss: 1.0985 - precision: 0.0000e+00 - recall: 0.0000e+00 - val_accuracy: 0.3316 - val_loss: 1.0985 - val_precision: 0.0000e+00 - val_recall: 0.0000e+00\n",
      "Epoch 26/30\n",
      "\u001b[1m32/32\u001b[0m \u001b[32m━━━━━━━━━━━━━━━━━━━━\u001b[0m\u001b[37m\u001b[0m \u001b[1m8s\u001b[0m 228ms/step - accuracy: 0.3197 - loss: 1.0986 - precision: 0.0000e+00 - recall: 0.0000e+00 - val_accuracy: 0.3367 - val_loss: 1.0986 - val_precision: 0.0000e+00 - val_recall: 0.0000e+00\n",
      "Epoch 27/30\n",
      "\u001b[1m32/32\u001b[0m \u001b[32m━━━━━━━━━━━━━━━━━━━━\u001b[0m\u001b[37m\u001b[0m \u001b[1m8s\u001b[0m 226ms/step - accuracy: 0.3239 - loss: 1.0987 - precision: 0.0000e+00 - recall: 0.0000e+00 - val_accuracy: 0.3316 - val_loss: 1.0985 - val_precision: 0.0000e+00 - val_recall: 0.0000e+00\n",
      "Epoch 28/30\n",
      "\u001b[1m32/32\u001b[0m \u001b[32m━━━━━━━━━━━━━━━━━━━━\u001b[0m\u001b[37m\u001b[0m \u001b[1m8s\u001b[0m 231ms/step - accuracy: 0.3391 - loss: 1.0987 - precision: 0.0000e+00 - recall: 0.0000e+00 - val_accuracy: 0.3265 - val_loss: 1.0985 - val_precision: 0.0000e+00 - val_recall: 0.0000e+00\n",
      "Epoch 29/30\n",
      "\u001b[1m32/32\u001b[0m \u001b[32m━━━━━━━━━━━━━━━━━━━━\u001b[0m\u001b[37m\u001b[0m \u001b[1m8s\u001b[0m 230ms/step - accuracy: 0.3455 - loss: 1.0984 - precision: 0.0000e+00 - recall: 0.0000e+00 - val_accuracy: 0.3316 - val_loss: 1.0984 - val_precision: 0.0000e+00 - val_recall: 0.0000e+00\n",
      "Epoch 30/30\n",
      "\u001b[1m32/32\u001b[0m \u001b[32m━━━━━━━━━━━━━━━━━━━━\u001b[0m\u001b[37m\u001b[0m \u001b[1m8s\u001b[0m 230ms/step - accuracy: 0.3512 - loss: 1.0985 - precision: 0.0000e+00 - recall: 0.0000e+00 - val_accuracy: 0.4592 - val_loss: 1.0985 - val_precision: 0.0000e+00 - val_recall: 0.0000e+00\n",
      "Predicting on validation set...\n",
      "\u001b[1m7/7\u001b[0m \u001b[32m━━━━━━━━━━━━━━━━━━━━\u001b[0m\u001b[37m\u001b[0m \u001b[1m1s\u001b[0m 74ms/step\n"
     ]
    },
    {
     "name": "stderr",
     "output_type": "stream",
     "text": [
      "c:\\Users\\tomev\\anaconda3\\envs\\tf-cpu\\Lib\\site-packages\\sklearn\\metrics\\_classification.py:1344: UndefinedMetricWarning:\n",
      "\n",
      "Precision and F-score are ill-defined and being set to 0.0 in labels with no predicted samples. Use `zero_division` parameter to control this behavior.\n",
      "\n",
      "c:\\Users\\tomev\\anaconda3\\envs\\tf-cpu\\Lib\\site-packages\\sklearn\\metrics\\_classification.py:1344: UndefinedMetricWarning:\n",
      "\n",
      "Precision and F-score are ill-defined and being set to 0.0 in labels with no predicted samples. Use `zero_division` parameter to control this behavior.\n",
      "\n",
      "c:\\Users\\tomev\\anaconda3\\envs\\tf-cpu\\Lib\\site-packages\\sklearn\\metrics\\_classification.py:1344: UndefinedMetricWarning:\n",
      "\n",
      "Precision and F-score are ill-defined and being set to 0.0 in labels with no predicted samples. Use `zero_division` parameter to control this behavior.\n",
      "\n"
     ]
    },
    {
     "name": "stdout",
     "output_type": "stream",
     "text": [
      "Sending metrics to clearML...\n",
      "done\n",
      "ClearML Task: created new task id=8b84b6164ced41c6a5c2cacfb48a202a\n",
      "ClearML results page: https://app.clear.ml/projects/8cfd67047c9d4e6abe11758d1fccbf13/experiments/8b84b6164ced41c6a5c2cacfb48a202a/output/log\n",
      "Training model...\n",
      "Epoch 1/30\n",
      "\u001b[1m47/47\u001b[0m \u001b[32m━━━━━━━━━━━━━━━━━━━━\u001b[0m\u001b[37m\u001b[0m \u001b[1m16s\u001b[0m 293ms/step - accuracy: 0.3641 - loss: 2.2366 - precision: 0.3655 - recall: 0.1366 - val_accuracy: 0.3316 - val_loss: 1.0986 - val_precision: 0.0000e+00 - val_recall: 0.0000e+00\n",
      "Epoch 2/30\n",
      "\u001b[1m47/47\u001b[0m \u001b[32m━━━━━━━━━━━━━━━━━━━━\u001b[0m\u001b[37m\u001b[0m \u001b[1m11s\u001b[0m 233ms/step - accuracy: 0.3610 - loss: 1.0985 - precision: 0.0000e+00 - recall: 0.0000e+00 - val_accuracy: 0.3316 - val_loss: 1.0986 - val_precision: 0.0000e+00 - val_recall: 0.0000e+00\n",
      "Epoch 3/30\n",
      "\u001b[1m47/47\u001b[0m \u001b[32m━━━━━━━━━━━━━━━━━━━━\u001b[0m\u001b[37m\u001b[0m \u001b[1m11s\u001b[0m 235ms/step - accuracy: 0.3467 - loss: 1.0985 - precision: 0.0000e+00 - recall: 0.0000e+00 - val_accuracy: 0.3316 - val_loss: 1.0980 - val_precision: 0.0000e+00 - val_recall: 0.0000e+00\n",
      "Epoch 4/30\n",
      "\u001b[1m47/47\u001b[0m \u001b[32m━━━━━━━━━━━━━━━━━━━━\u001b[0m\u001b[37m\u001b[0m \u001b[1m12s\u001b[0m 258ms/step - accuracy: 0.3910 - loss: 1.1064 - precision: 0.1659 - recall: 0.0075 - val_accuracy: 0.3316 - val_loss: 1.0988 - val_precision: 0.0000e+00 - val_recall: 0.0000e+00\n",
      "Epoch 5/30\n",
      "\u001b[1m47/47\u001b[0m \u001b[32m━━━━━━━━━━━━━━━━━━━━\u001b[0m\u001b[37m\u001b[0m \u001b[1m13s\u001b[0m 267ms/step - accuracy: 0.3071 - loss: 1.1000 - precision: 0.0000e+00 - recall: 0.0000e+00 - val_accuracy: 0.3316 - val_loss: 1.0984 - val_precision: 0.0000e+00 - val_recall: 0.0000e+00\n",
      "Epoch 6/30\n",
      "\u001b[1m47/47\u001b[0m \u001b[32m━━━━━━━━━━━━━━━━━━━━\u001b[0m\u001b[37m\u001b[0m \u001b[1m11s\u001b[0m 220ms/step - accuracy: 0.3561 - loss: 1.0981 - precision: 0.0000e+00 - recall: 0.0000e+00 - val_accuracy: 0.3418 - val_loss: 1.0981 - val_precision: 0.0000e+00 - val_recall: 0.0000e+00\n",
      "Epoch 7/30\n",
      "\u001b[1m47/47\u001b[0m \u001b[32m━━━━━━━━━━━━━━━━━━━━\u001b[0m\u001b[37m\u001b[0m \u001b[1m11s\u001b[0m 227ms/step - accuracy: 0.3295 - loss: 1.0982 - precision: 0.0000e+00 - recall: 0.0000e+00 - val_accuracy: 0.3367 - val_loss: 1.0980 - val_precision: 0.0000e+00 - val_recall: 0.0000e+00\n",
      "Epoch 8/30\n",
      "\u001b[1m47/47\u001b[0m \u001b[32m━━━━━━━━━━━━━━━━━━━━\u001b[0m\u001b[37m\u001b[0m \u001b[1m11s\u001b[0m 231ms/step - accuracy: 0.3312 - loss: 1.1001 - precision: 0.0000e+00 - recall: 0.0000e+00 - val_accuracy: 0.3316 - val_loss: 1.0978 - val_precision: 0.0000e+00 - val_recall: 0.0000e+00\n",
      "Epoch 9/30\n",
      "\u001b[1m47/47\u001b[0m \u001b[32m━━━━━━━━━━━━━━━━━━━━\u001b[0m\u001b[37m\u001b[0m \u001b[1m12s\u001b[0m 258ms/step - accuracy: 0.3721 - loss: 1.0972 - precision: 0.0000e+00 - recall: 0.0000e+00 - val_accuracy: 0.4337 - val_loss: 1.0804 - val_precision: 0.0000e+00 - val_recall: 0.0000e+00\n",
      "Epoch 10/30\n",
      "\u001b[1m47/47\u001b[0m \u001b[32m━━━━━━━━━━━━━━━━━━━━\u001b[0m\u001b[37m\u001b[0m \u001b[1m10s\u001b[0m 216ms/step - accuracy: 0.4541 - loss: 1.0765 - precision: 0.4911 - recall: 0.0349 - val_accuracy: 0.5663 - val_loss: 0.9952 - val_precision: 0.6071 - val_recall: 0.1735\n",
      "Epoch 11/30\n",
      "\u001b[1m47/47\u001b[0m \u001b[32m━━━━━━━━━━━━━━━━━━━━\u001b[0m\u001b[37m\u001b[0m \u001b[1m11s\u001b[0m 219ms/step - accuracy: 0.5430 - loss: 0.9730 - precision: 0.6905 - recall: 0.2019 - val_accuracy: 0.6480 - val_loss: 0.8782 - val_precision: 0.7157 - val_recall: 0.3724\n",
      "Epoch 12/30\n",
      "\u001b[1m47/47\u001b[0m \u001b[32m━━━━━━━━━━━━━━━━━━━━\u001b[0m\u001b[37m\u001b[0m \u001b[1m10s\u001b[0m 216ms/step - accuracy: 0.6667 - loss: 0.7968 - precision: 0.7779 - recall: 0.4751 - val_accuracy: 0.6429 - val_loss: 0.8126 - val_precision: 0.7634 - val_recall: 0.5102\n",
      "Epoch 13/30\n",
      "\u001b[1m47/47\u001b[0m \u001b[32m━━━━━━━━━━━━━━━━━━━━\u001b[0m\u001b[37m\u001b[0m \u001b[1m10s\u001b[0m 216ms/step - accuracy: 0.7283 - loss: 0.6505 - precision: 0.7787 - recall: 0.6483 - val_accuracy: 0.7194 - val_loss: 0.7251 - val_precision: 0.7740 - val_recall: 0.5765\n",
      "Epoch 14/30\n",
      "\u001b[1m47/47\u001b[0m \u001b[32m━━━━━━━━━━━━━━━━━━━━\u001b[0m\u001b[37m\u001b[0m \u001b[1m11s\u001b[0m 219ms/step - accuracy: 0.7598 - loss: 0.5706 - precision: 0.8000 - recall: 0.6792 - val_accuracy: 0.7296 - val_loss: 0.7021 - val_precision: 0.7844 - val_recall: 0.6684\n",
      "Epoch 15/30\n",
      "\u001b[1m47/47\u001b[0m \u001b[32m━━━━━━━━━━━━━━━━━━━━\u001b[0m\u001b[37m\u001b[0m \u001b[1m10s\u001b[0m 215ms/step - accuracy: 0.7822 - loss: 0.5422 - precision: 0.8374 - recall: 0.7089 - val_accuracy: 0.6735 - val_loss: 0.7986 - val_precision: 0.7093 - val_recall: 0.6224\n",
      "Epoch 16/30\n",
      "\u001b[1m47/47\u001b[0m \u001b[32m━━━━━━━━━━━━━━━━━━━━\u001b[0m\u001b[37m\u001b[0m \u001b[1m11s\u001b[0m 218ms/step - accuracy: 0.7722 - loss: 0.5382 - precision: 0.8151 - recall: 0.7145 - val_accuracy: 0.7653 - val_loss: 0.7311 - val_precision: 0.7807 - val_recall: 0.7449\n",
      "Epoch 17/30\n",
      "\u001b[1m47/47\u001b[0m \u001b[32m━━━━━━━━━━━━━━━━━━━━\u001b[0m\u001b[37m\u001b[0m \u001b[1m11s\u001b[0m 217ms/step - accuracy: 0.8034 - loss: 0.4510 - precision: 0.8347 - recall: 0.7786 - val_accuracy: 0.7908 - val_loss: 0.7046 - val_precision: 0.7897 - val_recall: 0.7857\n",
      "Epoch 18/30\n",
      "\u001b[1m47/47\u001b[0m \u001b[32m━━━━━━━━━━━━━━━━━━━━\u001b[0m\u001b[37m\u001b[0m \u001b[1m10s\u001b[0m 215ms/step - accuracy: 0.8401 - loss: 0.3732 - precision: 0.8570 - recall: 0.8169 - val_accuracy: 0.7806 - val_loss: 0.6852 - val_precision: 0.7935 - val_recall: 0.7449\n",
      "Epoch 19/30\n",
      "\u001b[1m47/47\u001b[0m \u001b[32m━━━━━━━━━━━━━━━━━━━━\u001b[0m\u001b[37m\u001b[0m \u001b[1m11s\u001b[0m 217ms/step - accuracy: 0.8460 - loss: 0.3852 - precision: 0.8705 - recall: 0.8096 - val_accuracy: 0.7908 - val_loss: 0.6636 - val_precision: 0.8156 - val_recall: 0.7449\n",
      "Epoch 20/30\n",
      "\u001b[1m47/47\u001b[0m \u001b[32m━━━━━━━━━━━━━━━━━━━━\u001b[0m\u001b[37m\u001b[0m \u001b[1m10s\u001b[0m 216ms/step - accuracy: 0.8670 - loss: 0.3541 - precision: 0.8825 - recall: 0.8416 - val_accuracy: 0.7908 - val_loss: 0.7125 - val_precision: 0.8138 - val_recall: 0.7806\n",
      "Epoch 21/30\n",
      "\u001b[1m47/47\u001b[0m \u001b[32m━━━━━━━━━━━━━━━━━━━━\u001b[0m\u001b[37m\u001b[0m \u001b[1m10s\u001b[0m 216ms/step - accuracy: 0.8555 - loss: 0.3390 - precision: 0.8748 - recall: 0.8468 - val_accuracy: 0.7806 - val_loss: 0.6831 - val_precision: 0.7937 - val_recall: 0.7653\n",
      "Epoch 22/30\n",
      "\u001b[1m47/47\u001b[0m \u001b[32m━━━━━━━━━━━━━━━━━━━━\u001b[0m\u001b[37m\u001b[0m \u001b[1m11s\u001b[0m 218ms/step - accuracy: 0.8841 - loss: 0.3066 - precision: 0.8948 - recall: 0.8635 - val_accuracy: 0.7908 - val_loss: 0.6900 - val_precision: 0.8063 - val_recall: 0.7857\n",
      "Epoch 23/30\n",
      "\u001b[1m47/47\u001b[0m \u001b[32m━━━━━━━━━━━━━━━━━━━━\u001b[0m\u001b[37m\u001b[0m \u001b[1m10s\u001b[0m 217ms/step - accuracy: 0.8902 - loss: 0.2742 - precision: 0.9003 - recall: 0.8800 - val_accuracy: 0.8061 - val_loss: 0.7577 - val_precision: 0.8051 - val_recall: 0.8010\n",
      "Epoch 24/30\n",
      "\u001b[1m47/47\u001b[0m \u001b[32m━━━━━━━━━━━━━━━━━━━━\u001b[0m\u001b[37m\u001b[0m \u001b[1m11s\u001b[0m 219ms/step - accuracy: 0.8952 - loss: 0.2551 - precision: 0.9052 - recall: 0.8887 - val_accuracy: 0.7959 - val_loss: 0.8060 - val_precision: 0.7959 - val_recall: 0.7959\n",
      "Epoch 25/30\n",
      "\u001b[1m47/47\u001b[0m \u001b[32m━━━━━━━━━━━━━━━━━━━━\u001b[0m\u001b[37m\u001b[0m \u001b[1m11s\u001b[0m 218ms/step - accuracy: 0.8907 - loss: 0.2716 - precision: 0.9054 - recall: 0.8874 - val_accuracy: 0.8163 - val_loss: 0.7620 - val_precision: 0.8163 - val_recall: 0.8163\n",
      "Epoch 26/30\n",
      "\u001b[1m47/47\u001b[0m \u001b[32m━━━━━━━━━━━━━━━━━━━━\u001b[0m\u001b[37m\u001b[0m \u001b[1m11s\u001b[0m 218ms/step - accuracy: 0.9174 - loss: 0.2142 - precision: 0.9189 - recall: 0.9105 - val_accuracy: 0.8469 - val_loss: 0.6875 - val_precision: 0.8513 - val_recall: 0.8469\n",
      "Epoch 27/30\n",
      "\u001b[1m47/47\u001b[0m \u001b[32m━━━━━━━━━━━━━━━━━━━━\u001b[0m\u001b[37m\u001b[0m \u001b[1m11s\u001b[0m 218ms/step - accuracy: 0.9184 - loss: 0.2221 - precision: 0.9260 - recall: 0.9071 - val_accuracy: 0.8418 - val_loss: 0.7309 - val_precision: 0.8418 - val_recall: 0.8418\n",
      "Epoch 28/30\n",
      "\u001b[1m47/47\u001b[0m \u001b[32m━━━━━━━━━━━━━━━━━━━━\u001b[0m\u001b[37m\u001b[0m \u001b[1m11s\u001b[0m 220ms/step - accuracy: 0.9345 - loss: 0.1947 - precision: 0.9375 - recall: 0.9302 - val_accuracy: 0.8265 - val_loss: 0.6749 - val_precision: 0.8413 - val_recall: 0.8112\n",
      "Epoch 29/30\n",
      "\u001b[1m47/47\u001b[0m \u001b[32m━━━━━━━━━━━━━━━━━━━━\u001b[0m\u001b[37m\u001b[0m \u001b[1m11s\u001b[0m 220ms/step - accuracy: 0.9148 - loss: 0.2190 - precision: 0.9222 - recall: 0.9064 - val_accuracy: 0.8520 - val_loss: 0.7233 - val_precision: 0.8608 - val_recall: 0.8520\n",
      "Epoch 30/30\n",
      "\u001b[1m47/47\u001b[0m \u001b[32m━━━━━━━━━━━━━━━━━━━━\u001b[0m\u001b[37m\u001b[0m \u001b[1m11s\u001b[0m 219ms/step - accuracy: 0.9258 - loss: 0.1910 - precision: 0.9336 - recall: 0.9166 - val_accuracy: 0.8418 - val_loss: 0.7307 - val_precision: 0.8410 - val_recall: 0.8367\n",
      "Predicting on validation set...\n",
      "\u001b[1m7/7\u001b[0m \u001b[32m━━━━━━━━━━━━━━━━━━━━\u001b[0m\u001b[37m\u001b[0m \u001b[1m1s\u001b[0m 53ms/step\n",
      "Sending metrics to clearML...\n",
      "done\n"
     ]
    }
   ],
   "source": [
    "# guassian augmentation\n",
    "task_name = 'gau'\n",
    "sub_project_name = 'GAUSSIAN'\n",
    "\n",
    "augmentation_metadata = {\n",
    "        'methods': {        \n",
    "            'gaussian': {\n",
    "                'parameters': {\n",
    "                },\n",
    "                'apply_to_percentage': 0.5  # 50% of the training images\n",
    "            }        \n",
    "        }\n",
    "    }\n",
    "\n",
    "for i in range(N):\n",
    "    RUN = i + 1\n",
    "    try:\n",
    "        print(f\"Starting RUN: {RUN}\")\n",
    "        main(RUN, augmentation_metadata, task_name, sub_project_name, epochs, train_size, w1, w2)\n",
    "    except Exception as e:\n",
    "        print(f\"Error in RUN: {RUN}\")\n",
    "        print(e)\n",
    "    finally:\n",
    "        clear_output(wait=True)  # Clear the output to avoid scrolling\n",
    "        gc.collect()  # Collect garbage to avoid memory leaks"
   ]
  },
  {
   "cell_type": "code",
   "execution_count": 19,
   "metadata": {},
   "outputs": [
    {
     "name": "stdout",
     "output_type": "stream",
     "text": [
      "Starting RUN: 5\n",
      "Seed:  1500971982\n"
     ]
    },
    {
     "name": "stderr",
     "output_type": "stream",
     "text": [
      "c:\\github\\Third-Year-Project\\Intruder-Aircraft-Detection\\main\\tl_clf.py:79: SettingWithCopyWarning:\n",
      "\n",
      "\n",
      "A value is trying to be set on a copy of a slice from a DataFrame.\n",
      "Try using .loc[row_indexer,col_indexer] = value instead\n",
      "\n",
      "See the caveats in the documentation: https://pandas.pydata.org/pandas-docs/stable/user_guide/indexing.html#returning-a-view-versus-a-copy\n",
      "\n",
      "c:\\github\\Third-Year-Project\\Intruder-Aircraft-Detection\\main\\tl_clf.py:80: SettingWithCopyWarning:\n",
      "\n",
      "\n",
      "A value is trying to be set on a copy of a slice from a DataFrame.\n",
      "Try using .loc[row_indexer,col_indexer] = value instead\n",
      "\n",
      "See the caveats in the documentation: https://pandas.pydata.org/pandas-docs/stable/user_guide/indexing.html#returning-a-view-versus-a-copy\n",
      "\n"
     ]
    },
    {
     "name": "stdout",
     "output_type": "stream",
     "text": [
      "Removing dataset if pre-existing\n",
      "Copying training files:\n"
     ]
    },
    {
     "name": "stderr",
     "output_type": "stream",
     "text": [
      "Copying files: 100%|██████████| 2000/2000 [00:01<00:00, 1753.87it/s]\n"
     ]
    },
    {
     "name": "stdout",
     "output_type": "stream",
     "text": [
      "Copying validation files:\n"
     ]
    },
    {
     "name": "stderr",
     "output_type": "stream",
     "text": [
      "Copying files: 100%|██████████| 400/400 [00:00<00:00, 908.88it/s] \n"
     ]
    },
    {
     "name": "stdout",
     "output_type": "stream",
     "text": [
      "Dataset 'weather_23_1000' created at C:\\github\\Third-Year-Project\\Intruder-Aircraft-Detection\\datasets\\Custom\\weather_23_1000\n",
      "Processing train labels in weather_23_1000:\n"
     ]
    },
    {
     "name": "stderr",
     "output_type": "stream",
     "text": [
      "Processing labels: 100%|██████████| 1000/1000 [00:03<00:00, 256.35it/s]\n"
     ]
    },
    {
     "name": "stdout",
     "output_type": "stream",
     "text": [
      "Processing valid labels in weather_23_1000:\n"
     ]
    },
    {
     "name": "stderr",
     "output_type": "stream",
     "text": [
      "Processing labels: 100%|██████████| 200/200 [00:00<00:00, 261.03it/s]\n"
     ]
    },
    {
     "name": "stdout",
     "output_type": "stream",
     "text": [
      "Label correction completed.\n"
     ]
    },
    {
     "name": "stderr",
     "output_type": "stream",
     "text": [
      "Removing existing directories/files: 100%|██████████| 3/3 [00:00<00:00, 3014.59it/s]\n",
      "Copying files: 100%|██████████| 1000/1000 [00:00<00:00, 1081.33it/s]\n",
      "Copying files: 100%|██████████| 1000/1000 [00:00<00:00, 1276.78it/s]\n",
      "Applying augmentations: 100%|██████████| 500/500 [00:05<00:00, 85.31it/s]\n"
     ]
    },
    {
     "name": "stdout",
     "output_type": "stream",
     "text": [
      "An error occurred: In YOLO format all coordinates must be float and in range (0, 1]\n",
      "An error occurred: Expected y_max for bbox (0.06709400000000001, 0.82754, 0.38573199999999996, 1.0399660000000002, 2) to be in the range [0.0, 1.0], got 1.0399660000000002.\n"
     ]
    },
    {
     "name": "stderr",
     "output_type": "stream",
     "text": [
      "Processing images:  13%|█▎        | 130/1000 [00:06<00:24, 35.29it/s]"
     ]
    },
    {
     "name": "stdout",
     "output_type": "stream",
     "text": [
      "An error occurred with C:/github/Third-Year-Project/Intruder-Aircraft-Detection/datasets/Custom/weather_23_1000\\images\\train\\26071.jpg: Expected y_max for bbox (0.17629099999999998, 0.6937635, 0.787639, 1.1013285, 1) to be in the range [0.0, 1.0], got 1.1013285.\n"
     ]
    },
    {
     "name": "stderr",
     "output_type": "stream",
     "text": [
      "Processing images:  17%|█▋        | 167/1000 [00:07<00:23, 35.44it/s]"
     ]
    },
    {
     "name": "stdout",
     "output_type": "stream",
     "text": [
      "An error occurred with C:/github/Third-Year-Project/Intruder-Aircraft-Detection/datasets/Custom/weather_23_1000\\images\\train\\26215.jpg: Expected y_min for bbox (0.3336595, -0.0619315, 1.0472645, 0.41380550000000005, 1) to be in the range [0.0, 1.0], got -0.0619315.\n"
     ]
    },
    {
     "name": "stderr",
     "output_type": "stream",
     "text": [
      "Processing images:  27%|██▋       | 268/1000 [00:10<00:21, 34.14it/s]"
     ]
    },
    {
     "name": "stdout",
     "output_type": "stream",
     "text": [
      "An error occurred with C:/github/Third-Year-Project/Intruder-Aircraft-Detection/datasets/Custom/weather_23_1000\\images\\train\\26778.jpg: Expected y_min for bbox (0.17198949999999996, -0.047677, 0.8024305, 0.372617, 1) to be in the range [0.0, 1.0], got -0.047677.\n"
     ]
    },
    {
     "name": "stderr",
     "output_type": "stream",
     "text": [
      "Processing images:  39%|███▉      | 389/1000 [00:13<00:17, 35.07it/s]"
     ]
    },
    {
     "name": "stdout",
     "output_type": "stream",
     "text": [
      "An error occurred with C:/github/Third-Year-Project/Intruder-Aircraft-Detection/datasets/Custom/weather_23_1000\\images\\train\\27381.jpg: Expected y_max for bbox (0.24027500000000002, 0.6626745, 0.832789, 1.0576835, 1) to be in the range [0.0, 1.0], got 1.0576835.\n"
     ]
    },
    {
     "name": "stderr",
     "output_type": "stream",
     "text": [
      "Processing images:  76%|███████▌  | 758/1000 [00:24<00:06, 34.59it/s]"
     ]
    },
    {
     "name": "stdout",
     "output_type": "stream",
     "text": [
      "An error occurred with C:/github/Third-Year-Project/Intruder-Aircraft-Detection/datasets/Custom/weather_23_1000\\images\\train\\50467.jpg: Expected y_max for bbox (0.06709400000000001, 0.82754, 0.38573199999999996, 1.0399660000000002, 2) to be in the range [0.0, 1.0], got 1.0399660000000002.\n"
     ]
    },
    {
     "name": "stderr",
     "output_type": "stream",
     "text": [
      "Processing images:  99%|█████████▉| 991/1000 [00:31<00:00, 37.02it/s]"
     ]
    },
    {
     "name": "stdout",
     "output_type": "stream",
     "text": [
      "An error occurred with C:/github/Third-Year-Project/Intruder-Aircraft-Detection/datasets/Custom/weather_23_1000\\images\\train\\51848.jpg: In YOLO format all coordinates must be float and in range (0, 1]\n"
     ]
    },
    {
     "name": "stderr",
     "output_type": "stream",
     "text": [
      "Processing images: 100%|██████████| 1000/1000 [00:31<00:00, 31.61it/s]\n",
      "Processing images:  13%|█▎        | 190/1498 [00:09<00:44, 29.31it/s]"
     ]
    },
    {
     "name": "stdout",
     "output_type": "stream",
     "text": [
      "An error occurred with C:/github/Third-Year-Project/Intruder-Aircraft-Detection/datasets/Custom/weather_23_1000\\images\\train-aug\\26071.jpg: Expected y_max for bbox (0.17629099999999998, 0.6937635, 0.787639, 1.1013285, 1) to be in the range [0.0, 1.0], got 1.1013285.\n"
     ]
    },
    {
     "name": "stderr",
     "output_type": "stream",
     "text": [
      "Processing images:  17%|█▋        | 251/1498 [00:11<00:35, 35.51it/s]"
     ]
    },
    {
     "name": "stdout",
     "output_type": "stream",
     "text": [
      "An error occurred with C:/github/Third-Year-Project/Intruder-Aircraft-Detection/datasets/Custom/weather_23_1000\\images\\train-aug\\26215.jpg: Expected y_min for bbox (0.3336595, -0.0619315, 1.0472645, 0.41380550000000005, 1) to be in the range [0.0, 1.0], got -0.0619315.\n"
     ]
    },
    {
     "name": "stderr",
     "output_type": "stream",
     "text": [
      "Processing images:  26%|██▋       | 395/1498 [00:16<00:33, 32.53it/s]"
     ]
    },
    {
     "name": "stdout",
     "output_type": "stream",
     "text": [
      "An error occurred with C:/github/Third-Year-Project/Intruder-Aircraft-Detection/datasets/Custom/weather_23_1000\\images\\train-aug\\26778.jpg: Expected y_min for bbox (0.17198949999999996, -0.047677, 0.8024305, 0.372617, 1) to be in the range [0.0, 1.0], got -0.047677.\n"
     ]
    },
    {
     "name": "stderr",
     "output_type": "stream",
     "text": [
      "Processing images:  38%|███▊      | 572/1498 [00:21<00:25, 35.63it/s]"
     ]
    },
    {
     "name": "stdout",
     "output_type": "stream",
     "text": [
      "An error occurred with C:/github/Third-Year-Project/Intruder-Aircraft-Detection/datasets/Custom/weather_23_1000\\images\\train-aug\\27381.jpg: Expected y_max for bbox (0.24027500000000002, 0.6626745, 0.832789, 1.0576835, 1) to be in the range [0.0, 1.0], got 1.0576835.\n"
     ]
    },
    {
     "name": "stderr",
     "output_type": "stream",
     "text": [
      "Processing images:  64%|██████▎   | 953/1498 [00:32<00:15, 36.12it/s]"
     ]
    },
    {
     "name": "stdout",
     "output_type": "stream",
     "text": [
      "An error occurred with C:/github/Third-Year-Project/Intruder-Aircraft-Detection/datasets/Custom/weather_23_1000\\images\\train-aug\\3768-rotate.jpg: list index out of range\n"
     ]
    },
    {
     "name": "stderr",
     "output_type": "stream",
     "text": [
      "Processing images:  75%|███████▌  | 1126/1498 [00:38<00:11, 33.16it/s]"
     ]
    },
    {
     "name": "stdout",
     "output_type": "stream",
     "text": [
      "An error occurred with C:/github/Third-Year-Project/Intruder-Aircraft-Detection/datasets/Custom/weather_23_1000\\images\\train-aug\\50467.jpg: Expected y_max for bbox (0.06709400000000001, 0.82754, 0.38573199999999996, 1.0399660000000002, 2) to be in the range [0.0, 1.0], got 1.0399660000000002.\n"
     ]
    },
    {
     "name": "stderr",
     "output_type": "stream",
     "text": [
      "Processing images:  99%|█████████▉| 1481/1498 [00:48<00:00, 34.19it/s]"
     ]
    },
    {
     "name": "stdout",
     "output_type": "stream",
     "text": [
      "An error occurred with C:/github/Third-Year-Project/Intruder-Aircraft-Detection/datasets/Custom/weather_23_1000\\images\\train-aug\\51848.jpg: In YOLO format all coordinates must be float and in range (0, 1]\n"
     ]
    },
    {
     "name": "stderr",
     "output_type": "stream",
     "text": [
      "Processing images: 100%|██████████| 1498/1498 [00:49<00:00, 30.33it/s]\n",
      "Processing images:  10%|█         | 21/200 [00:01<00:07, 23.31it/s]"
     ]
    },
    {
     "name": "stdout",
     "output_type": "stream",
     "text": [
      "An error occurred with C:/github/Third-Year-Project/Intruder-Aircraft-Detection/datasets/Custom/weather_23_1000\\images\\valid\\26926.jpg: Expected y_min for bbox (0.38187599999999994, -0.12572450000000002, 1.180976, 0.4070085, 1) to be in the range [0.0, 1.0], got -0.12572450000000002.\n"
     ]
    },
    {
     "name": "stderr",
     "output_type": "stream",
     "text": [
      "Processing images:  90%|████████▉ | 179/200 [00:05<00:00, 38.11it/s]"
     ]
    },
    {
     "name": "stdout",
     "output_type": "stream",
     "text": [
      "An error occurred with C:/github/Third-Year-Project/Intruder-Aircraft-Detection/datasets/Custom/weather_23_1000\\images\\valid\\50955.jpg: Expected x_min for bbox (-0.021672000000000025, 0.2856885, 0.507494, 0.6384655, 2) to be in the range [0.0, 1.0], got -0.021672000000000025.\n"
     ]
    },
    {
     "name": "stderr",
     "output_type": "stream",
     "text": [
      "Processing images: 100%|██████████| 200/200 [00:06<00:00, 31.94it/s]\n",
      "Moving images in train: 100%|██████████| 994/994 [00:03<00:00, 249.94it/s]\n",
      "Moving images in train-aug: 100%|██████████| 1491/1491 [00:05<00:00, 273.44it/s]\n",
      "Moving images in valid: 100%|██████████| 198/198 [00:00<00:00, 258.76it/s]\n"
     ]
    },
    {
     "name": "stdout",
     "output_type": "stream",
     "text": [
      "Found 994 files belonging to 3 classes.\n",
      "Found 1491 files belonging to 3 classes.\n",
      "Found 198 files belonging to 3 classes.\n",
      "ClearML Task: created new task id=fc8d3284fab94d03ab5126d9ff6a472e\n",
      "ClearML results page: https://app.clear.ml/projects/5a674be4cf0f473c808dd42f7b83358f/experiments/fc8d3284fab94d03ab5126d9ff6a472e/output/log\n",
      "Training model...\n",
      "Epoch 1/30\n",
      "\u001b[1m32/32\u001b[0m \u001b[32m━━━━━━━━━━━━━━━━━━━━\u001b[0m\u001b[37m\u001b[0m \u001b[1m11s\u001b[0m 292ms/step - accuracy: 0.3194 - loss: 2.2460 - precision: 0.2979 - recall: 0.1088 - val_accuracy: 0.3283 - val_loss: 1.1009 - val_precision: 0.0000e+00 - val_recall: 0.0000e+00\n",
      "Epoch 2/30\n",
      "\u001b[1m32/32\u001b[0m \u001b[32m━━━━━━━━━━━━━━━━━━━━\u001b[0m\u001b[37m\u001b[0m \u001b[1m8s\u001b[0m 226ms/step - accuracy: 0.3312 - loss: 1.0995 - precision: 0.0000e+00 - recall: 0.0000e+00 - val_accuracy: 0.3384 - val_loss: 1.0980 - val_precision: 0.0000e+00 - val_recall: 0.0000e+00\n",
      "Epoch 3/30\n",
      "\u001b[1m32/32\u001b[0m \u001b[32m━━━━━━━━━━━━━━━━━━━━\u001b[0m\u001b[37m\u001b[0m \u001b[1m7s\u001b[0m 221ms/step - accuracy: 0.3546 - loss: 1.0981 - precision: 0.0000e+00 - recall: 0.0000e+00 - val_accuracy: 0.3384 - val_loss: 1.0984 - val_precision: 0.0000e+00 - val_recall: 0.0000e+00\n",
      "Epoch 4/30\n",
      "\u001b[1m32/32\u001b[0m \u001b[32m━━━━━━━━━━━━━━━━━━━━\u001b[0m\u001b[37m\u001b[0m \u001b[1m7s\u001b[0m 225ms/step - accuracy: 0.3650 - loss: 1.0992 - precision: 0.0000e+00 - recall: 0.0000e+00 - val_accuracy: 0.3384 - val_loss: 1.0983 - val_precision: 0.0000e+00 - val_recall: 0.0000e+00\n",
      "Epoch 5/30\n",
      "\u001b[1m32/32\u001b[0m \u001b[32m━━━━━━━━━━━━━━━━━━━━\u001b[0m\u001b[37m\u001b[0m \u001b[1m7s\u001b[0m 224ms/step - accuracy: 0.3426 - loss: 1.0987 - precision: 0.0000e+00 - recall: 0.0000e+00 - val_accuracy: 0.3384 - val_loss: 1.0982 - val_precision: 0.0000e+00 - val_recall: 0.0000e+00\n",
      "Epoch 6/30\n",
      "\u001b[1m32/32\u001b[0m \u001b[32m━━━━━━━━━━━━━━━━━━━━\u001b[0m\u001b[37m\u001b[0m \u001b[1m8s\u001b[0m 239ms/step - accuracy: 0.3402 - loss: 1.0987 - precision: 0.0000e+00 - recall: 0.0000e+00 - val_accuracy: 0.3384 - val_loss: 1.0978 - val_precision: 0.0000e+00 - val_recall: 0.0000e+00\n",
      "Epoch 7/30\n",
      "\u001b[1m32/32\u001b[0m \u001b[32m━━━━━━━━━━━━━━━━━━━━\u001b[0m\u001b[37m\u001b[0m \u001b[1m9s\u001b[0m 268ms/step - accuracy: 0.3181 - loss: 1.0985 - precision: 0.0000e+00 - recall: 0.0000e+00 - val_accuracy: 0.3333 - val_loss: 1.0986 - val_precision: 0.0000e+00 - val_recall: 0.0000e+00\n",
      "Epoch 8/30\n",
      "\u001b[1m32/32\u001b[0m \u001b[32m━━━━━━━━━━━━━━━━━━━━\u001b[0m\u001b[37m\u001b[0m \u001b[1m7s\u001b[0m 225ms/step - accuracy: 0.2877 - loss: 1.0988 - precision: 0.0000e+00 - recall: 0.0000e+00 - val_accuracy: 0.3283 - val_loss: 1.0986 - val_precision: 0.0000e+00 - val_recall: 0.0000e+00\n",
      "Epoch 9/30\n",
      "\u001b[1m32/32\u001b[0m \u001b[32m━━━━━━━━━━━━━━━━━━━━\u001b[0m\u001b[37m\u001b[0m \u001b[1m7s\u001b[0m 222ms/step - accuracy: 0.3192 - loss: 1.0989 - precision: 0.0000e+00 - recall: 0.0000e+00 - val_accuracy: 0.3283 - val_loss: 1.0987 - val_precision: 0.0000e+00 - val_recall: 0.0000e+00\n",
      "Epoch 10/30\n",
      "\u001b[1m32/32\u001b[0m \u001b[32m━━━━━━━━━━━━━━━━━━━━\u001b[0m\u001b[37m\u001b[0m \u001b[1m8s\u001b[0m 227ms/step - accuracy: 0.3183 - loss: 1.0991 - precision: 0.0000e+00 - recall: 0.0000e+00 - val_accuracy: 0.3283 - val_loss: 1.0987 - val_precision: 0.0000e+00 - val_recall: 0.0000e+00\n",
      "Epoch 11/30\n",
      "\u001b[1m32/32\u001b[0m \u001b[32m━━━━━━━━━━━━━━━━━━━━\u001b[0m\u001b[37m\u001b[0m \u001b[1m7s\u001b[0m 224ms/step - accuracy: 0.3195 - loss: 1.0993 - precision: 0.0000e+00 - recall: 0.0000e+00 - val_accuracy: 0.3283 - val_loss: 1.0987 - val_precision: 0.0000e+00 - val_recall: 0.0000e+00\n",
      "Epoch 12/30\n",
      "\u001b[1m32/32\u001b[0m \u001b[32m━━━━━━━━━━━━━━━━━━━━\u001b[0m\u001b[37m\u001b[0m \u001b[1m7s\u001b[0m 222ms/step - accuracy: 0.3091 - loss: 1.0992 - precision: 0.0000e+00 - recall: 0.0000e+00 - val_accuracy: 0.3283 - val_loss: 1.0987 - val_precision: 0.0000e+00 - val_recall: 0.0000e+00\n",
      "Epoch 13/30\n",
      "\u001b[1m32/32\u001b[0m \u001b[32m━━━━━━━━━━━━━━━━━━━━\u001b[0m\u001b[37m\u001b[0m \u001b[1m7s\u001b[0m 223ms/step - accuracy: 0.3176 - loss: 1.0994 - precision: 0.0000e+00 - recall: 0.0000e+00 - val_accuracy: 0.3333 - val_loss: 1.0985 - val_precision: 0.0000e+00 - val_recall: 0.0000e+00\n",
      "Epoch 14/30\n",
      "\u001b[1m32/32\u001b[0m \u001b[32m━━━━━━━━━━━━━━━━━━━━\u001b[0m\u001b[37m\u001b[0m \u001b[1m7s\u001b[0m 222ms/step - accuracy: 0.3263 - loss: 1.0990 - precision: 0.0000e+00 - recall: 0.0000e+00 - val_accuracy: 0.3283 - val_loss: 1.0985 - val_precision: 0.0000e+00 - val_recall: 0.0000e+00\n",
      "Epoch 15/30\n",
      "\u001b[1m32/32\u001b[0m \u001b[32m━━━━━━━━━━━━━━━━━━━━\u001b[0m\u001b[37m\u001b[0m \u001b[1m7s\u001b[0m 225ms/step - accuracy: 0.3133 - loss: 1.0991 - precision: 0.0000e+00 - recall: 0.0000e+00 - val_accuracy: 0.3333 - val_loss: 1.0963 - val_precision: 0.0000e+00 - val_recall: 0.0000e+00\n",
      "Epoch 16/30\n",
      "\u001b[1m32/32\u001b[0m \u001b[32m━━━━━━━━━━━━━━━━━━━━\u001b[0m\u001b[37m\u001b[0m \u001b[1m7s\u001b[0m 222ms/step - accuracy: 0.3294 - loss: 1.0979 - precision: 0.0265 - recall: 6.4064e-04 - val_accuracy: 0.3333 - val_loss: 1.0930 - val_precision: 0.0000e+00 - val_recall: 0.0000e+00\n",
      "Epoch 17/30\n",
      "\u001b[1m32/32\u001b[0m \u001b[32m━━━━━━━━━━━━━━━━━━━━\u001b[0m\u001b[37m\u001b[0m \u001b[1m7s\u001b[0m 224ms/step - accuracy: 0.3173 - loss: 1.0987 - precision: 0.0000e+00 - recall: 0.0000e+00 - val_accuracy: 0.3283 - val_loss: 1.0985 - val_precision: 0.0000e+00 - val_recall: 0.0000e+00\n",
      "Epoch 18/30\n",
      "\u001b[1m32/32\u001b[0m \u001b[32m━━━━━━━━━━━━━━━━━━━━\u001b[0m\u001b[37m\u001b[0m \u001b[1m7s\u001b[0m 222ms/step - accuracy: 0.3301 - loss: 1.0988 - precision: 0.0000e+00 - recall: 0.0000e+00 - val_accuracy: 0.3283 - val_loss: 1.0971 - val_precision: 0.0000e+00 - val_recall: 0.0000e+00\n",
      "Epoch 19/30\n",
      "\u001b[1m32/32\u001b[0m \u001b[32m━━━━━━━━━━━━━━━━━━━━\u001b[0m\u001b[37m\u001b[0m \u001b[1m7s\u001b[0m 226ms/step - accuracy: 0.3266 - loss: 1.0986 - precision: 0.0000e+00 - recall: 0.0000e+00 - val_accuracy: 0.3283 - val_loss: 1.0975 - val_precision: 0.0000e+00 - val_recall: 0.0000e+00\n",
      "Epoch 20/30\n",
      "\u001b[1m32/32\u001b[0m \u001b[32m━━━━━━━━━━━━━━━━━━━━\u001b[0m\u001b[37m\u001b[0m \u001b[1m8s\u001b[0m 227ms/step - accuracy: 0.3495 - loss: 1.0988 - precision: 0.0000e+00 - recall: 0.0000e+00 - val_accuracy: 0.3182 - val_loss: 1.0968 - val_precision: 0.0000e+00 - val_recall: 0.0000e+00\n",
      "Epoch 21/30\n",
      "\u001b[1m32/32\u001b[0m \u001b[32m━━━━━━━━━━━━━━━━━━━━\u001b[0m\u001b[37m\u001b[0m \u001b[1m7s\u001b[0m 221ms/step - accuracy: 0.3042 - loss: 1.0977 - precision: 0.0000e+00 - recall: 0.0000e+00 - val_accuracy: 0.3485 - val_loss: 1.0966 - val_precision: 0.0000e+00 - val_recall: 0.0000e+00\n",
      "Epoch 22/30\n",
      "\u001b[1m32/32\u001b[0m \u001b[32m━━━━━━━━━━━━━━━━━━━━\u001b[0m\u001b[37m\u001b[0m \u001b[1m7s\u001b[0m 225ms/step - accuracy: 0.4018 - loss: 1.0971 - precision: 0.0000e+00 - recall: 0.0000e+00 - val_accuracy: 0.4040 - val_loss: 1.0977 - val_precision: 0.0000e+00 - val_recall: 0.0000e+00\n",
      "Epoch 23/30\n",
      "\u001b[1m32/32\u001b[0m \u001b[32m━━━━━━━━━━━━━━━━━━━━\u001b[0m\u001b[37m\u001b[0m \u001b[1m7s\u001b[0m 222ms/step - accuracy: 0.3420 - loss: 1.0994 - precision: 0.0000e+00 - recall: 0.0000e+00 - val_accuracy: 0.3333 - val_loss: 1.0981 - val_precision: 0.0000e+00 - val_recall: 0.0000e+00\n",
      "Epoch 24/30\n",
      "\u001b[1m32/32\u001b[0m \u001b[32m━━━━━━━━━━━━━━━━━━━━\u001b[0m\u001b[37m\u001b[0m \u001b[1m7s\u001b[0m 226ms/step - accuracy: 0.3424 - loss: 1.0987 - precision: 0.0000e+00 - recall: 0.0000e+00 - val_accuracy: 0.4949 - val_loss: 1.0968 - val_precision: 0.0000e+00 - val_recall: 0.0000e+00\n",
      "Epoch 25/30\n",
      "\u001b[1m32/32\u001b[0m \u001b[32m━━━━━━━━━━━━━━━━━━━━\u001b[0m\u001b[37m\u001b[0m \u001b[1m8s\u001b[0m 226ms/step - accuracy: 0.3812 - loss: 1.0972 - precision: 0.0000e+00 - recall: 0.0000e+00 - val_accuracy: 0.3333 - val_loss: 1.0938 - val_precision: 0.0000e+00 - val_recall: 0.0000e+00\n",
      "Epoch 26/30\n",
      "\u001b[1m32/32\u001b[0m \u001b[32m━━━━━━━━━━━━━━━━━━━━\u001b[0m\u001b[37m\u001b[0m \u001b[1m7s\u001b[0m 223ms/step - accuracy: 0.3297 - loss: 1.0979 - precision: 0.0000e+00 - recall: 0.0000e+00 - val_accuracy: 0.3384 - val_loss: 1.0945 - val_precision: 0.0000e+00 - val_recall: 0.0000e+00\n",
      "Epoch 27/30\n",
      "\u001b[1m32/32\u001b[0m \u001b[32m━━━━━━━━━━━━━━━━━━━━\u001b[0m\u001b[37m\u001b[0m \u001b[1m7s\u001b[0m 221ms/step - accuracy: 0.3691 - loss: 1.1017 - precision: 0.0000e+00 - recall: 0.0000e+00 - val_accuracy: 0.3737 - val_loss: 1.0907 - val_precision: 0.0000e+00 - val_recall: 0.0000e+00\n",
      "Epoch 28/30\n",
      "\u001b[1m32/32\u001b[0m \u001b[32m━━━━━━━━━━━━━━━━━━━━\u001b[0m\u001b[37m\u001b[0m \u001b[1m7s\u001b[0m 223ms/step - accuracy: 0.3637 - loss: 1.0963 - precision: 0.0000e+00 - recall: 0.0000e+00 - val_accuracy: 0.4293 - val_loss: 1.0915 - val_precision: 0.0000e+00 - val_recall: 0.0000e+00\n",
      "Epoch 29/30\n",
      "\u001b[1m32/32\u001b[0m \u001b[32m━━━━━━━━━━━━━━━━━━━━\u001b[0m\u001b[37m\u001b[0m \u001b[1m7s\u001b[0m 226ms/step - accuracy: 0.3745 - loss: 1.0942 - precision: 0.0000e+00 - recall: 0.0000e+00 - val_accuracy: 0.3889 - val_loss: 1.0839 - val_precision: 0.0000e+00 - val_recall: 0.0000e+00\n",
      "Epoch 30/30\n",
      "\u001b[1m32/32\u001b[0m \u001b[32m━━━━━━━━━━━━━━━━━━━━\u001b[0m\u001b[37m\u001b[0m \u001b[1m8s\u001b[0m 227ms/step - accuracy: 0.3734 - loss: 1.0926 - precision: 0.2832 - recall: 0.0252 - val_accuracy: 0.3485 - val_loss: 1.0828 - val_precision: 0.0000e+00 - val_recall: 0.0000e+00\n",
      "Predicting on validation set...\n",
      "\u001b[1m7/7\u001b[0m \u001b[32m━━━━━━━━━━━━━━━━━━━━\u001b[0m\u001b[37m\u001b[0m \u001b[1m1s\u001b[0m 54ms/step\n",
      "Sending metrics to clearML...\n",
      "done\n",
      "ClearML Task: created new task id=3c937493242c4e018e30dd4f6a1bbfaa\n",
      "ClearML results page: https://app.clear.ml/projects/5a674be4cf0f473c808dd42f7b83358f/experiments/3c937493242c4e018e30dd4f6a1bbfaa/output/log\n",
      "Training model...\n",
      "Epoch 1/30\n",
      "\u001b[1m47/47\u001b[0m \u001b[32m━━━━━━━━━━━━━━━━━━━━\u001b[0m\u001b[37m\u001b[0m \u001b[1m15s\u001b[0m 271ms/step - accuracy: 0.3446 - loss: 1.7339 - precision: 0.3413 - recall: 0.1103 - val_accuracy: 0.3333 - val_loss: 1.0984 - val_precision: 0.0000e+00 - val_recall: 0.0000e+00\n",
      "Epoch 2/30\n",
      "\u001b[1m47/47\u001b[0m \u001b[32m━━━━━━━━━━━━━━━━━━━━\u001b[0m\u001b[37m\u001b[0m \u001b[1m11s\u001b[0m 223ms/step - accuracy: 0.3722 - loss: 1.0898 - precision: 0.3622 - recall: 0.0082 - val_accuracy: 0.3283 - val_loss: 1.0984 - val_precision: 0.0000e+00 - val_recall: 0.0000e+00\n",
      "Epoch 3/30\n",
      "\u001b[1m47/47\u001b[0m \u001b[32m━━━━━━━━━━━━━━━━━━━━\u001b[0m\u001b[37m\u001b[0m \u001b[1m11s\u001b[0m 225ms/step - accuracy: 0.3889 - loss: 1.0741 - precision: 0.6650 - recall: 0.0432 - val_accuracy: 0.3737 - val_loss: 1.0643 - val_precision: 0.0000e+00 - val_recall: 0.0000e+00\n",
      "Epoch 4/30\n",
      "\u001b[1m47/47\u001b[0m \u001b[32m━━━━━━━━━━━━━━━━━━━━\u001b[0m\u001b[37m\u001b[0m \u001b[1m11s\u001b[0m 234ms/step - accuracy: 0.4554 - loss: 1.0523 - precision: 0.5864 - recall: 0.0687 - val_accuracy: 0.5051 - val_loss: 1.0306 - val_precision: 0.7619 - val_recall: 0.0808\n",
      "Epoch 5/30\n",
      "\u001b[1m47/47\u001b[0m \u001b[32m━━━━━━━━━━━━━━━━━━━━\u001b[0m\u001b[37m\u001b[0m \u001b[1m12s\u001b[0m 258ms/step - accuracy: 0.5355 - loss: 0.9772 - precision: 0.6983 - recall: 0.2185 - val_accuracy: 0.6465 - val_loss: 0.8576 - val_precision: 0.7143 - val_recall: 0.4545\n",
      "Epoch 6/30\n",
      "\u001b[1m47/47\u001b[0m \u001b[32m━━━━━━━━━━━━━━━━━━━━\u001b[0m\u001b[37m\u001b[0m \u001b[1m11s\u001b[0m 224ms/step - accuracy: 0.6747 - loss: 0.7651 - precision: 0.7507 - recall: 0.4958 - val_accuracy: 0.6313 - val_loss: 0.8073 - val_precision: 0.7089 - val_recall: 0.5657\n",
      "Epoch 7/30\n",
      "\u001b[1m47/47\u001b[0m \u001b[32m━━━━━━━━━━━━━━━━━━━━\u001b[0m\u001b[37m\u001b[0m \u001b[1m11s\u001b[0m 225ms/step - accuracy: 0.7089 - loss: 0.6653 - precision: 0.7964 - recall: 0.6062 - val_accuracy: 0.7424 - val_loss: 0.7007 - val_precision: 0.7778 - val_recall: 0.7071\n",
      "Epoch 8/30\n",
      "\u001b[1m47/47\u001b[0m \u001b[32m━━━━━━━━━━━━━━━━━━━━\u001b[0m\u001b[37m\u001b[0m \u001b[1m11s\u001b[0m 225ms/step - accuracy: 0.7611 - loss: 0.5645 - precision: 0.8032 - recall: 0.7014 - val_accuracy: 0.7576 - val_loss: 0.6629 - val_precision: 0.7824 - val_recall: 0.6717\n",
      "Epoch 9/30\n",
      "\u001b[1m47/47\u001b[0m \u001b[32m━━━━━━━━━━━━━━━━━━━━\u001b[0m\u001b[37m\u001b[0m \u001b[1m11s\u001b[0m 224ms/step - accuracy: 0.8039 - loss: 0.4890 - precision: 0.8477 - recall: 0.7516 - val_accuracy: 0.7071 - val_loss: 0.6669 - val_precision: 0.7363 - val_recall: 0.6768\n",
      "Epoch 10/30\n",
      "\u001b[1m47/47\u001b[0m \u001b[32m━━━━━━━━━━━━━━━━━━━━\u001b[0m\u001b[37m\u001b[0m \u001b[1m11s\u001b[0m 223ms/step - accuracy: 0.8239 - loss: 0.4480 - precision: 0.8541 - recall: 0.7763 - val_accuracy: 0.7424 - val_loss: 0.6809 - val_precision: 0.7594 - val_recall: 0.7172\n",
      "Epoch 11/30\n",
      "\u001b[1m47/47\u001b[0m \u001b[32m━━━━━━━━━━━━━━━━━━━━\u001b[0m\u001b[37m\u001b[0m \u001b[1m11s\u001b[0m 228ms/step - accuracy: 0.8403 - loss: 0.3966 - precision: 0.8634 - recall: 0.8118 - val_accuracy: 0.7626 - val_loss: 0.6710 - val_precision: 0.7772 - val_recall: 0.7576\n",
      "Epoch 12/30\n",
      "\u001b[1m47/47\u001b[0m \u001b[32m━━━━━━━━━━━━━━━━━━━━\u001b[0m\u001b[37m\u001b[0m \u001b[1m11s\u001b[0m 223ms/step - accuracy: 0.8539 - loss: 0.3676 - precision: 0.8713 - recall: 0.8279 - val_accuracy: 0.7727 - val_loss: 0.6775 - val_precision: 0.7812 - val_recall: 0.7576\n",
      "Epoch 13/30\n",
      "\u001b[1m47/47\u001b[0m \u001b[32m━━━━━━━━━━━━━━━━━━━━\u001b[0m\u001b[37m\u001b[0m \u001b[1m11s\u001b[0m 224ms/step - accuracy: 0.8535 - loss: 0.3809 - precision: 0.8843 - recall: 0.8215 - val_accuracy: 0.7980 - val_loss: 0.6749 - val_precision: 0.8103 - val_recall: 0.7980\n",
      "Epoch 14/30\n",
      "\u001b[1m47/47\u001b[0m \u001b[32m━━━━━━━━━━━━━━━━━━━━\u001b[0m\u001b[37m\u001b[0m \u001b[1m11s\u001b[0m 224ms/step - accuracy: 0.8748 - loss: 0.3144 - precision: 0.8993 - recall: 0.8561 - val_accuracy: 0.8081 - val_loss: 0.6076 - val_precision: 0.8298 - val_recall: 0.7879\n",
      "Epoch 15/30\n",
      "\u001b[1m47/47\u001b[0m \u001b[32m━━━━━━━━━━━━━━━━━━━━\u001b[0m\u001b[37m\u001b[0m \u001b[1m11s\u001b[0m 227ms/step - accuracy: 0.8872 - loss: 0.2953 - precision: 0.9096 - recall: 0.8716 - val_accuracy: 0.8030 - val_loss: 0.6587 - val_precision: 0.8187 - val_recall: 0.7980\n",
      "Epoch 16/30\n",
      "\u001b[1m47/47\u001b[0m \u001b[32m━━━━━━━━━━━━━━━━━━━━\u001b[0m\u001b[37m\u001b[0m \u001b[1m11s\u001b[0m 228ms/step - accuracy: 0.8976 - loss: 0.2513 - precision: 0.9106 - recall: 0.8879 - val_accuracy: 0.8030 - val_loss: 0.6627 - val_precision: 0.8229 - val_recall: 0.7980\n",
      "Epoch 17/30\n",
      "\u001b[1m47/47\u001b[0m \u001b[32m━━━━━━━━━━━━━━━━━━━━\u001b[0m\u001b[37m\u001b[0m \u001b[1m11s\u001b[0m 226ms/step - accuracy: 0.9053 - loss: 0.2279 - precision: 0.9153 - recall: 0.8906 - val_accuracy: 0.8030 - val_loss: 0.6999 - val_precision: 0.8071 - val_recall: 0.8030\n",
      "Epoch 18/30\n",
      "\u001b[1m47/47\u001b[0m \u001b[32m━━━━━━━━━━━━━━━━━━━━\u001b[0m\u001b[37m\u001b[0m \u001b[1m11s\u001b[0m 227ms/step - accuracy: 0.9060 - loss: 0.2150 - precision: 0.9170 - recall: 0.8955 - val_accuracy: 0.8030 - val_loss: 0.7386 - val_precision: 0.8144 - val_recall: 0.7980\n",
      "Epoch 19/30\n",
      "\u001b[1m47/47\u001b[0m \u001b[32m━━━━━━━━━━━━━━━━━━━━\u001b[0m\u001b[37m\u001b[0m \u001b[1m11s\u001b[0m 224ms/step - accuracy: 0.9185 - loss: 0.2059 - precision: 0.9253 - recall: 0.9108 - val_accuracy: 0.8232 - val_loss: 0.6969 - val_precision: 0.8299 - val_recall: 0.8131\n",
      "Epoch 20/30\n",
      "\u001b[1m47/47\u001b[0m \u001b[32m━━━━━━━━━━━━━━━━━━━━\u001b[0m\u001b[37m\u001b[0m \u001b[1m11s\u001b[0m 224ms/step - accuracy: 0.9285 - loss: 0.1782 - precision: 0.9406 - recall: 0.9240 - val_accuracy: 0.8081 - val_loss: 0.6405 - val_precision: 0.8272 - val_recall: 0.7980\n",
      "Epoch 21/30\n",
      "\u001b[1m47/47\u001b[0m \u001b[32m━━━━━━━━━━━━━━━━━━━━\u001b[0m\u001b[37m\u001b[0m \u001b[1m11s\u001b[0m 225ms/step - accuracy: 0.9105 - loss: 0.2102 - precision: 0.9197 - recall: 0.9030 - val_accuracy: 0.8131 - val_loss: 0.7447 - val_precision: 0.8290 - val_recall: 0.8081\n",
      "Epoch 22/30\n",
      "\u001b[1m47/47\u001b[0m \u001b[32m━━━━━━━━━━━━━━━━━━━━\u001b[0m\u001b[37m\u001b[0m \u001b[1m11s\u001b[0m 223ms/step - accuracy: 0.9476 - loss: 0.1570 - precision: 0.9540 - recall: 0.9430 - val_accuracy: 0.8232 - val_loss: 0.6540 - val_precision: 0.8256 - val_recall: 0.8131\n",
      "Epoch 23/30\n",
      "\u001b[1m47/47\u001b[0m \u001b[32m━━━━━━━━━━━━━━━━━━━━\u001b[0m\u001b[37m\u001b[0m \u001b[1m11s\u001b[0m 226ms/step - accuracy: 0.9210 - loss: 0.2200 - precision: 0.9317 - recall: 0.9090 - val_accuracy: 0.8182 - val_loss: 0.7413 - val_precision: 0.8247 - val_recall: 0.8081\n",
      "Epoch 24/30\n",
      "\u001b[1m47/47\u001b[0m \u001b[32m━━━━━━━━━━━━━━━━━━━━\u001b[0m\u001b[37m\u001b[0m \u001b[1m11s\u001b[0m 225ms/step - accuracy: 0.9444 - loss: 0.1542 - precision: 0.9563 - recall: 0.9405 - val_accuracy: 0.8384 - val_loss: 0.9062 - val_precision: 0.8376 - val_recall: 0.8333\n",
      "Epoch 25/30\n",
      "\u001b[1m47/47\u001b[0m \u001b[32m━━━━━━━━━━━━━━━━━━━━\u001b[0m\u001b[37m\u001b[0m \u001b[1m11s\u001b[0m 228ms/step - accuracy: 0.9549 - loss: 0.1279 - precision: 0.9601 - recall: 0.9485 - val_accuracy: 0.8333 - val_loss: 0.8948 - val_precision: 0.8333 - val_recall: 0.8333\n",
      "Epoch 26/30\n",
      "\u001b[1m47/47\u001b[0m \u001b[32m━━━━━━━━━━━━━━━━━━━━\u001b[0m\u001b[37m\u001b[0m \u001b[1m11s\u001b[0m 225ms/step - accuracy: 0.9424 - loss: 0.1371 - precision: 0.9511 - recall: 0.9398 - val_accuracy: 0.8333 - val_loss: 0.8219 - val_precision: 0.8367 - val_recall: 0.8283\n",
      "Epoch 27/30\n",
      "\u001b[1m47/47\u001b[0m \u001b[32m━━━━━━━━━━━━━━━━━━━━\u001b[0m\u001b[37m\u001b[0m \u001b[1m11s\u001b[0m 224ms/step - accuracy: 0.9638 - loss: 0.1077 - precision: 0.9700 - recall: 0.9556 - val_accuracy: 0.8384 - val_loss: 0.8724 - val_precision: 0.8469 - val_recall: 0.8384\n",
      "Epoch 28/30\n",
      "\u001b[1m47/47\u001b[0m \u001b[32m━━━━━━━━━━━━━━━━━━━━\u001b[0m\u001b[37m\u001b[0m \u001b[1m11s\u001b[0m 226ms/step - accuracy: 0.9557 - loss: 0.1069 - precision: 0.9618 - recall: 0.9530 - val_accuracy: 0.8333 - val_loss: 0.9045 - val_precision: 0.8376 - val_recall: 0.8333\n",
      "Epoch 29/30\n",
      "\u001b[1m47/47\u001b[0m \u001b[32m━━━━━━━━━━━━━━━━━━━━\u001b[0m\u001b[37m\u001b[0m \u001b[1m11s\u001b[0m 224ms/step - accuracy: 0.9712 - loss: 0.0943 - precision: 0.9723 - recall: 0.9695 - val_accuracy: 0.8535 - val_loss: 0.9188 - val_precision: 0.8520 - val_recall: 0.8434\n",
      "Epoch 30/30\n",
      "\u001b[1m47/47\u001b[0m \u001b[32m━━━━━━━━━━━━━━━━━━━━\u001b[0m\u001b[37m\u001b[0m \u001b[1m11s\u001b[0m 225ms/step - accuracy: 0.9739 - loss: 0.0719 - precision: 0.9769 - recall: 0.9730 - val_accuracy: 0.8687 - val_loss: 0.8346 - val_precision: 0.8680 - val_recall: 0.8636\n",
      "Predicting on validation set...\n",
      "\u001b[1m7/7\u001b[0m \u001b[32m━━━━━━━━━━━━━━━━━━━━\u001b[0m\u001b[37m\u001b[0m \u001b[1m1s\u001b[0m 56ms/step\n",
      "Sending metrics to clearML...\n",
      "done\n"
     ]
    }
   ],
   "source": [
    "# rotate augmentation\n",
    "task_name = 'r'\n",
    "sub_project_name = 'ROTATE'\n",
    "\n",
    "augmentation_metadata = {\n",
    "        'methods': {        \n",
    "            'rotate': {\n",
    "                'parameters': {\n",
    "                    'angle_limit': 20, # Maximum angle of rotation\n",
    "                    'p': 1.0  # Probability of applying the augmentation\n",
    "                },\n",
    "                'apply_to_percentage': 0.5  # 50% of the training images\n",
    "            }        \n",
    "        }\n",
    "    }\n",
    "\n",
    "for i in range(N):\n",
    "    RUN = i + 1\n",
    "    try:\n",
    "        print(f\"Starting RUN: {RUN}\")\n",
    "        main(RUN, augmentation_metadata, task_name, sub_project_name, epochs, train_size, w1, w2)\n",
    "    except Exception as e:\n",
    "        print(f\"Error in RUN: {RUN}\")\n",
    "        print(e)\n",
    "    finally:\n",
    "        clear_output(wait=True)  # Clear the output to avoid scrolling\n",
    "        gc.collect()  # Collect garbage to avoid memory leaks"
   ]
  },
  {
   "cell_type": "code",
   "execution_count": 20,
   "metadata": {},
   "outputs": [
    {
     "name": "stdout",
     "output_type": "stream",
     "text": [
      "Starting RUN: 5\n",
      "Seed:  1504645323\n"
     ]
    },
    {
     "name": "stderr",
     "output_type": "stream",
     "text": [
      "c:\\github\\Third-Year-Project\\Intruder-Aircraft-Detection\\main\\tl_clf.py:79: SettingWithCopyWarning:\n",
      "\n",
      "\n",
      "A value is trying to be set on a copy of a slice from a DataFrame.\n",
      "Try using .loc[row_indexer,col_indexer] = value instead\n",
      "\n",
      "See the caveats in the documentation: https://pandas.pydata.org/pandas-docs/stable/user_guide/indexing.html#returning-a-view-versus-a-copy\n",
      "\n",
      "c:\\github\\Third-Year-Project\\Intruder-Aircraft-Detection\\main\\tl_clf.py:80: SettingWithCopyWarning:\n",
      "\n",
      "\n",
      "A value is trying to be set on a copy of a slice from a DataFrame.\n",
      "Try using .loc[row_indexer,col_indexer] = value instead\n",
      "\n",
      "See the caveats in the documentation: https://pandas.pydata.org/pandas-docs/stable/user_guide/indexing.html#returning-a-view-versus-a-copy\n",
      "\n"
     ]
    },
    {
     "name": "stdout",
     "output_type": "stream",
     "text": [
      "Removing dataset if pre-existing\n",
      "Copying training files:\n"
     ]
    },
    {
     "name": "stderr",
     "output_type": "stream",
     "text": [
      "Copying files: 100%|██████████| 2000/2000 [00:01<00:00, 1771.86it/s]\n"
     ]
    },
    {
     "name": "stdout",
     "output_type": "stream",
     "text": [
      "Copying validation files:\n"
     ]
    },
    {
     "name": "stderr",
     "output_type": "stream",
     "text": [
      "Copying files: 100%|██████████| 400/400 [00:00<00:00, 1746.08it/s]\n"
     ]
    },
    {
     "name": "stdout",
     "output_type": "stream",
     "text": [
      "Dataset 'weather_23_1000' created at C:\\github\\Third-Year-Project\\Intruder-Aircraft-Detection\\datasets\\Custom\\weather_23_1000\n",
      "Processing train labels in weather_23_1000:\n"
     ]
    },
    {
     "name": "stderr",
     "output_type": "stream",
     "text": [
      "Processing labels: 100%|██████████| 1000/1000 [00:04<00:00, 241.72it/s]\n"
     ]
    },
    {
     "name": "stdout",
     "output_type": "stream",
     "text": [
      "Processing valid labels in weather_23_1000:\n"
     ]
    },
    {
     "name": "stderr",
     "output_type": "stream",
     "text": [
      "Processing labels: 100%|██████████| 200/200 [00:00<00:00, 240.91it/s]\n"
     ]
    },
    {
     "name": "stdout",
     "output_type": "stream",
     "text": [
      "Label correction completed.\n"
     ]
    },
    {
     "name": "stderr",
     "output_type": "stream",
     "text": [
      "Removing existing directories/files: 100%|██████████| 3/3 [00:00<00:00, 5946.56it/s]\n",
      "Copying files: 100%|██████████| 1000/1000 [00:00<00:00, 1141.90it/s]\n",
      "Copying files: 100%|██████████| 1000/1000 [00:00<00:00, 1275.18it/s]\n",
      "Applying augmentations: 100%|██████████| 500/500 [00:04<00:00, 105.38it/s]\n"
     ]
    },
    {
     "name": "stdout",
     "output_type": "stream",
     "text": [
      "An error occurred: Expected y_max for bbox (0.0655045, 0.7670555, 0.42422150000000003, 1.0062005, 1) to be in the range [0.0, 1.0], got 1.0062005.\n",
      "An error occurred: Expected x_max for bbox (0.3556645, 0.47547049999999996, 1.0335975, 0.9274255, 1) to be in the range [0.0, 1.0], got 1.0335975.\n",
      "An error occurred: Expected x_min for bbox (-0.02981600000000001, 0.598216, 0.699454, 1.084396, 2) to be in the range [0.0, 1.0], got -0.02981600000000001.\n"
     ]
    },
    {
     "name": "stderr",
     "output_type": "stream",
     "text": [
      "Processing images:  20%|██        | 200/1000 [00:08<00:24, 33.01it/s]"
     ]
    },
    {
     "name": "stdout",
     "output_type": "stream",
     "text": [
      "An error occurred with C:/github/Third-Year-Project/Intruder-Aircraft-Detection/datasets/Custom/weather_23_1000\\images\\train\\26422.jpg: Expected x_max for bbox (0.3556645, 0.47547049999999996, 1.0335975, 0.9274255, 1) to be in the range [0.0, 1.0], got 1.0335975.\n"
     ]
    },
    {
     "name": "stderr",
     "output_type": "stream",
     "text": [
      "Processing images:  22%|██▎       | 225/1000 [00:09<00:23, 32.34it/s]"
     ]
    },
    {
     "name": "stdout",
     "output_type": "stream",
     "text": [
      "An error occurred with C:/github/Third-Year-Project/Intruder-Aircraft-Detection/datasets/Custom/weather_23_1000\\images\\train\\26500.jpg: Expected y_max for bbox (0.0655045, 0.7670555, 0.42422150000000003, 1.0062005, 1) to be in the range [0.0, 1.0], got 1.0062005.\n"
     ]
    },
    {
     "name": "stderr",
     "output_type": "stream",
     "text": [
      "Processing images:  46%|████▌     | 458/1000 [00:16<00:15, 33.89it/s]"
     ]
    },
    {
     "name": "stdout",
     "output_type": "stream",
     "text": [
      "An error occurred with C:/github/Third-Year-Project/Intruder-Aircraft-Detection/datasets/Custom/weather_23_1000\\images\\train\\27726.jpg: Expected y_max for bbox (0.423424, 0.730641, 0.8816200000000001, 1.036105, 1) to be in the range [0.0, 1.0], got 1.036105.\n"
     ]
    },
    {
     "name": "stderr",
     "output_type": "stream",
     "text": [
      "Processing images:  99%|█████████▊| 986/1000 [00:31<00:00, 33.35it/s]"
     ]
    },
    {
     "name": "stdout",
     "output_type": "stream",
     "text": [
      "An error occurred with C:/github/Third-Year-Project/Intruder-Aircraft-Detection/datasets/Custom/weather_23_1000\\images\\train\\51808.jpg: Expected x_min for bbox (-0.02981600000000001, 0.598216, 0.699454, 1.084396, 2) to be in the range [0.0, 1.0], got -0.02981600000000001.\n"
     ]
    },
    {
     "name": "stderr",
     "output_type": "stream",
     "text": [
      "Processing images: 100%|██████████| 1000/1000 [00:32<00:00, 30.96it/s]\n",
      "Processing images:  20%|█▉        | 295/1497 [00:13<00:34, 34.64it/s]"
     ]
    },
    {
     "name": "stdout",
     "output_type": "stream",
     "text": [
      "An error occurred with C:/github/Third-Year-Project/Intruder-Aircraft-Detection/datasets/Custom/weather_23_1000\\images\\train-aug\\26422.jpg: Expected x_max for bbox (0.3556645, 0.47547049999999996, 1.0335975, 0.9274255, 1) to be in the range [0.0, 1.0], got 1.0335975.\n"
     ]
    },
    {
     "name": "stderr",
     "output_type": "stream",
     "text": [
      "Processing images:  22%|██▏       | 328/1497 [00:14<00:32, 35.62it/s]"
     ]
    },
    {
     "name": "stdout",
     "output_type": "stream",
     "text": [
      "An error occurred with C:/github/Third-Year-Project/Intruder-Aircraft-Detection/datasets/Custom/weather_23_1000\\images\\train-aug\\26500.jpg: Expected y_max for bbox (0.0655045, 0.7670555, 0.42422150000000003, 1.0062005, 1) to be in the range [0.0, 1.0], got 1.0062005.\n"
     ]
    },
    {
     "name": "stderr",
     "output_type": "stream",
     "text": [
      "Processing images:  45%|████▌     | 681/1497 [00:25<00:23, 34.09it/s]"
     ]
    },
    {
     "name": "stdout",
     "output_type": "stream",
     "text": [
      "An error occurred with C:/github/Third-Year-Project/Intruder-Aircraft-Detection/datasets/Custom/weather_23_1000\\images\\train-aug\\27726.jpg: Expected y_max for bbox (0.423424, 0.730641, 0.8816200000000001, 1.036105, 1) to be in the range [0.0, 1.0], got 1.036105.\n"
     ]
    },
    {
     "name": "stderr",
     "output_type": "stream",
     "text": [
      "Processing images:  98%|█████████▊| 1471/1497 [00:48<00:00, 33.47it/s]"
     ]
    },
    {
     "name": "stdout",
     "output_type": "stream",
     "text": [
      "An error occurred with C:/github/Third-Year-Project/Intruder-Aircraft-Detection/datasets/Custom/weather_23_1000\\images\\train-aug\\51808.jpg: Expected x_min for bbox (-0.02981600000000001, 0.598216, 0.699454, 1.084396, 2) to be in the range [0.0, 1.0], got -0.02981600000000001.\n"
     ]
    },
    {
     "name": "stderr",
     "output_type": "stream",
     "text": [
      "Processing images: 100%|██████████| 1497/1497 [00:49<00:00, 30.24it/s]\n",
      "Processing images:   9%|▉         | 18/200 [00:01<00:08, 20.72it/s]"
     ]
    },
    {
     "name": "stdout",
     "output_type": "stream",
     "text": [
      "An error occurred with C:/github/Third-Year-Project/Intruder-Aircraft-Detection/datasets/Custom/weather_23_1000\\images\\valid\\26926.jpg: Expected y_min for bbox (0.38187599999999994, -0.12572450000000002, 1.180976, 0.4070085, 1) to be in the range [0.0, 1.0], got -0.12572450000000002.\n"
     ]
    },
    {
     "name": "stderr",
     "output_type": "stream",
     "text": [
      "Processing images:  86%|████████▌ | 171/200 [00:05<00:00, 37.16it/s]"
     ]
    },
    {
     "name": "stdout",
     "output_type": "stream",
     "text": [
      "An error occurred with C:/github/Third-Year-Project/Intruder-Aircraft-Detection/datasets/Custom/weather_23_1000\\images\\valid\\50955.jpg: Expected x_min for bbox (-0.021672000000000025, 0.2856885, 0.507494, 0.6384655, 2) to be in the range [0.0, 1.0], got -0.021672000000000025.\n"
     ]
    },
    {
     "name": "stderr",
     "output_type": "stream",
     "text": [
      "Processing images: 100%|██████████| 200/200 [00:06<00:00, 31.41it/s]\n",
      "Moving images in train: 100%|██████████| 996/996 [00:04<00:00, 236.99it/s]\n",
      "Moving images in train-aug: 100%|██████████| 1493/1493 [00:05<00:00, 269.46it/s]\n",
      "Moving images in valid: 100%|██████████| 198/198 [00:00<00:00, 248.97it/s]\n"
     ]
    },
    {
     "name": "stdout",
     "output_type": "stream",
     "text": [
      "Found 996 files belonging to 3 classes.\n",
      "Found 1493 files belonging to 3 classes.\n",
      "Found 198 files belonging to 3 classes.\n",
      "ClearML Task: created new task id=d4d343916e744c5c9dca1673c9feee5f\n",
      "ClearML results page: https://app.clear.ml/projects/7250e546d5324b5c8e520b84207c06f5/experiments/d4d343916e744c5c9dca1673c9feee5f/output/log\n",
      "Training model...\n",
      "Epoch 1/30\n",
      "\u001b[1m32/32\u001b[0m \u001b[32m━━━━━━━━━━━━━━━━━━━━\u001b[0m\u001b[37m\u001b[0m \u001b[1m11s\u001b[0m 284ms/step - accuracy: 0.3291 - loss: 2.3826 - precision: 0.2982 - recall: 0.1460 - val_accuracy: 0.3333 - val_loss: 1.0979 - val_precision: 0.0000e+00 - val_recall: 0.0000e+00\n",
      "Epoch 2/30\n",
      "\u001b[1m32/32\u001b[0m \u001b[32m━━━━━━━━━━━━━━━━━━━━\u001b[0m\u001b[37m\u001b[0m \u001b[1m8s\u001b[0m 228ms/step - accuracy: 0.3331 - loss: 1.0984 - precision: 0.0000e+00 - recall: 0.0000e+00 - val_accuracy: 0.3333 - val_loss: 1.0972 - val_precision: 0.0000e+00 - val_recall: 0.0000e+00\n",
      "Epoch 3/30\n",
      "\u001b[1m32/32\u001b[0m \u001b[32m━━━━━━━━━━━━━━━━━━━━\u001b[0m\u001b[37m\u001b[0m \u001b[1m7s\u001b[0m 224ms/step - accuracy: 0.3358 - loss: 1.0978 - precision: 0.0000e+00 - recall: 0.0000e+00 - val_accuracy: 0.3384 - val_loss: 1.0961 - val_precision: 0.0000e+00 - val_recall: 0.0000e+00\n",
      "Epoch 4/30\n",
      "\u001b[1m32/32\u001b[0m \u001b[32m━━━━━━━━━━━━━━━━━━━━\u001b[0m\u001b[37m\u001b[0m \u001b[1m8s\u001b[0m 229ms/step - accuracy: 0.3283 - loss: 1.1000 - precision: 0.0000e+00 - recall: 0.0000e+00 - val_accuracy: 0.3333 - val_loss: 1.0985 - val_precision: 0.0000e+00 - val_recall: 0.0000e+00\n",
      "Epoch 5/30\n",
      "\u001b[1m32/32\u001b[0m \u001b[32m━━━━━━━━━━━━━━━━━━━━\u001b[0m\u001b[37m\u001b[0m \u001b[1m7s\u001b[0m 225ms/step - accuracy: 0.3350 - loss: 1.0982 - precision: 0.0000e+00 - recall: 0.0000e+00 - val_accuracy: 0.3838 - val_loss: 1.0959 - val_precision: 0.0000e+00 - val_recall: 0.0000e+00\n",
      "Epoch 6/30\n",
      "\u001b[1m32/32\u001b[0m \u001b[32m━━━━━━━━━━━━━━━━━━━━\u001b[0m\u001b[37m\u001b[0m \u001b[1m8s\u001b[0m 237ms/step - accuracy: 0.3485 - loss: 1.1001 - precision: 0.0000e+00 - recall: 0.0000e+00 - val_accuracy: 0.3384 - val_loss: 1.0955 - val_precision: 0.0000e+00 - val_recall: 0.0000e+00\n",
      "Epoch 7/30\n",
      "\u001b[1m32/32\u001b[0m \u001b[32m━━━━━━━━━━━━━━━━━━━━\u001b[0m\u001b[37m\u001b[0m \u001b[1m9s\u001b[0m 277ms/step - accuracy: 0.3322 - loss: 1.0978 - precision: 0.0000e+00 - recall: 0.0000e+00 - val_accuracy: 0.3434 - val_loss: 1.0959 - val_precision: 0.0000e+00 - val_recall: 0.0000e+00\n",
      "Epoch 8/30\n",
      "\u001b[1m32/32\u001b[0m \u001b[32m━━━━━━━━━━━━━━━━━━━━\u001b[0m\u001b[37m\u001b[0m \u001b[1m8s\u001b[0m 228ms/step - accuracy: 0.3770 - loss: 1.0969 - precision: 0.0000e+00 - recall: 0.0000e+00 - val_accuracy: 0.3384 - val_loss: 1.0946 - val_precision: 0.0000e+00 - val_recall: 0.0000e+00\n",
      "Epoch 9/30\n",
      "\u001b[1m32/32\u001b[0m \u001b[32m━━━━━━━━━━━━━━━━━━━━\u001b[0m\u001b[37m\u001b[0m \u001b[1m8s\u001b[0m 226ms/step - accuracy: 0.3429 - loss: 1.0999 - precision: 0.0000e+00 - recall: 0.0000e+00 - val_accuracy: 0.4192 - val_loss: 1.0930 - val_precision: 0.0000e+00 - val_recall: 0.0000e+00\n",
      "Epoch 10/30\n",
      "\u001b[1m32/32\u001b[0m \u001b[32m━━━━━━━━━━━━━━━━━━━━\u001b[0m\u001b[37m\u001b[0m \u001b[1m8s\u001b[0m 229ms/step - accuracy: 0.4363 - loss: 1.0951 - precision: 0.3593 - recall: 0.0146 - val_accuracy: 0.3384 - val_loss: 1.0992 - val_precision: 0.0000e+00 - val_recall: 0.0000e+00\n",
      "Epoch 11/30\n",
      "\u001b[1m32/32\u001b[0m \u001b[32m━━━━━━━━━━━━━━━━━━━━\u001b[0m\u001b[37m\u001b[0m \u001b[1m8s\u001b[0m 225ms/step - accuracy: 0.3542 - loss: 1.1125 - precision: 0.1816 - recall: 0.0086 - val_accuracy: 0.5808 - val_loss: 1.0382 - val_precision: 0.0000e+00 - val_recall: 0.0000e+00\n",
      "Epoch 12/30\n",
      "\u001b[1m32/32\u001b[0m \u001b[32m━━━━━━━━━━━━━━━━━━━━\u001b[0m\u001b[37m\u001b[0m \u001b[1m8s\u001b[0m 229ms/step - accuracy: 0.5050 - loss: 1.1214 - precision: 0.5125 - recall: 0.0548 - val_accuracy: 0.4495 - val_loss: 1.0685 - val_precision: 1.0000 - val_recall: 0.0101\n",
      "Epoch 13/30\n",
      "\u001b[1m32/32\u001b[0m \u001b[32m━━━━━━━━━━━━━━━━━━━━\u001b[0m\u001b[37m\u001b[0m \u001b[1m7s\u001b[0m 226ms/step - accuracy: 0.5090 - loss: 1.0387 - precision: 0.7752 - recall: 0.0817 - val_accuracy: 0.5354 - val_loss: 0.9662 - val_precision: 0.7955 - val_recall: 0.1768\n",
      "Epoch 14/30\n",
      "\u001b[1m32/32\u001b[0m \u001b[32m━━━━━━━━━━━━━━━━━━━━\u001b[0m\u001b[37m\u001b[0m \u001b[1m8s\u001b[0m 228ms/step - accuracy: 0.5345 - loss: 0.9438 - precision: 0.7202 - recall: 0.2320 - val_accuracy: 0.6717 - val_loss: 0.8527 - val_precision: 0.7279 - val_recall: 0.5000\n",
      "Epoch 15/30\n",
      "\u001b[1m32/32\u001b[0m \u001b[32m━━━━━━━━━━━━━━━━━━━━\u001b[0m\u001b[37m\u001b[0m \u001b[1m8s\u001b[0m 228ms/step - accuracy: 0.6652 - loss: 0.8552 - precision: 0.7584 - recall: 0.3549 - val_accuracy: 0.6364 - val_loss: 0.7971 - val_precision: 0.7647 - val_recall: 0.4596\n",
      "Epoch 16/30\n",
      "\u001b[1m32/32\u001b[0m \u001b[32m━━━━━━━━━━━━━━━━━━━━\u001b[0m\u001b[37m\u001b[0m \u001b[1m8s\u001b[0m 228ms/step - accuracy: 0.6906 - loss: 0.7233 - precision: 0.8320 - recall: 0.5321 - val_accuracy: 0.7172 - val_loss: 0.7593 - val_precision: 0.7296 - val_recall: 0.5859\n",
      "Epoch 17/30\n",
      "\u001b[1m32/32\u001b[0m \u001b[32m━━━━━━━━━━━━━━━━━━━━\u001b[0m\u001b[37m\u001b[0m \u001b[1m8s\u001b[0m 228ms/step - accuracy: 0.7376 - loss: 0.6752 - precision: 0.7849 - recall: 0.6356 - val_accuracy: 0.7273 - val_loss: 0.7850 - val_precision: 0.7386 - val_recall: 0.6566\n",
      "Epoch 18/30\n",
      "\u001b[1m32/32\u001b[0m \u001b[32m━━━━━━━━━━━━━━━━━━━━\u001b[0m\u001b[37m\u001b[0m \u001b[1m8s\u001b[0m 226ms/step - accuracy: 0.7359 - loss: 0.6292 - precision: 0.8085 - recall: 0.6271 - val_accuracy: 0.7273 - val_loss: 0.7795 - val_precision: 0.7394 - val_recall: 0.6162\n",
      "Epoch 19/30\n",
      "\u001b[1m32/32\u001b[0m \u001b[32m━━━━━━━━━━━━━━━━━━━━\u001b[0m\u001b[37m\u001b[0m \u001b[1m8s\u001b[0m 230ms/step - accuracy: 0.7953 - loss: 0.5095 - precision: 0.8269 - recall: 0.7442 - val_accuracy: 0.7525 - val_loss: 0.7954 - val_precision: 0.7341 - val_recall: 0.6414\n",
      "Epoch 20/30\n",
      "\u001b[1m32/32\u001b[0m \u001b[32m━━━━━━━━━━━━━━━━━━━━\u001b[0m\u001b[37m\u001b[0m \u001b[1m8s\u001b[0m 228ms/step - accuracy: 0.8015 - loss: 0.4886 - precision: 0.8396 - recall: 0.7322 - val_accuracy: 0.7374 - val_loss: 0.7980 - val_precision: 0.7459 - val_recall: 0.6970\n",
      "Epoch 21/30\n",
      "\u001b[1m32/32\u001b[0m \u001b[32m━━━━━━━━━━━━━━━━━━━━\u001b[0m\u001b[37m\u001b[0m \u001b[1m8s\u001b[0m 227ms/step - accuracy: 0.8188 - loss: 0.4266 - precision: 0.8478 - recall: 0.7936 - val_accuracy: 0.7626 - val_loss: 0.8508 - val_precision: 0.7807 - val_recall: 0.7374\n",
      "Epoch 22/30\n",
      "\u001b[1m32/32\u001b[0m \u001b[32m━━━━━━━━━━━━━━━━━━━━\u001b[0m\u001b[37m\u001b[0m \u001b[1m8s\u001b[0m 226ms/step - accuracy: 0.8330 - loss: 0.4017 - precision: 0.8475 - recall: 0.8176 - val_accuracy: 0.7020 - val_loss: 0.7800 - val_precision: 0.7176 - val_recall: 0.6162\n",
      "Epoch 23/30\n",
      "\u001b[1m32/32\u001b[0m \u001b[32m━━━━━━━━━━━━━━━━━━━━\u001b[0m\u001b[37m\u001b[0m \u001b[1m8s\u001b[0m 228ms/step - accuracy: 0.4684 - loss: 0.9381 - precision: 0.8413 - recall: 0.1688 - val_accuracy: 0.3333 - val_loss: 1.0989 - val_precision: 0.0000e+00 - val_recall: 0.0000e+00\n",
      "Epoch 24/30\n",
      "\u001b[1m32/32\u001b[0m \u001b[32m━━━━━━━━━━━━━━━━━━━━\u001b[0m\u001b[37m\u001b[0m \u001b[1m8s\u001b[0m 228ms/step - accuracy: 0.3638 - loss: 1.0979 - precision: 0.0000e+00 - recall: 0.0000e+00 - val_accuracy: 0.3384 - val_loss: 1.0974 - val_precision: 0.0000e+00 - val_recall: 0.0000e+00\n",
      "Epoch 25/30\n",
      "\u001b[1m32/32\u001b[0m \u001b[32m━━━━━━━━━━━━━━━━━━━━\u001b[0m\u001b[37m\u001b[0m \u001b[1m8s\u001b[0m 230ms/step - accuracy: 0.3364 - loss: 1.0994 - precision: 0.0000e+00 - recall: 0.0000e+00 - val_accuracy: 0.3939 - val_loss: 1.0967 - val_precision: 0.0000e+00 - val_recall: 0.0000e+00\n",
      "Epoch 26/30\n",
      "\u001b[1m32/32\u001b[0m \u001b[32m━━━━━━━━━━━━━━━━━━━━\u001b[0m\u001b[37m\u001b[0m \u001b[1m8s\u001b[0m 226ms/step - accuracy: 0.3314 - loss: 1.0979 - precision: 0.5758 - recall: 7.9540e-04 - val_accuracy: 0.3384 - val_loss: 1.0959 - val_precision: 0.0000e+00 - val_recall: 0.0000e+00\n",
      "Epoch 27/30\n",
      "\u001b[1m32/32\u001b[0m \u001b[32m━━━━━━━━━━━━━━━━━━━━\u001b[0m\u001b[37m\u001b[0m \u001b[1m7s\u001b[0m 224ms/step - accuracy: 0.3519 - loss: 1.1014 - precision: 0.5152 - recall: 0.0014 - val_accuracy: 0.3384 - val_loss: 1.0971 - val_precision: 0.0000e+00 - val_recall: 0.0000e+00\n",
      "Epoch 28/30\n",
      "\u001b[1m32/32\u001b[0m \u001b[32m━━━━━━━━━━━━━━━━━━━━\u001b[0m\u001b[37m\u001b[0m \u001b[1m8s\u001b[0m 229ms/step - accuracy: 0.3378 - loss: 1.0987 - precision: 0.5455 - recall: 0.0016 - val_accuracy: 0.4040 - val_loss: 1.0971 - val_precision: 0.0000e+00 - val_recall: 0.0000e+00\n",
      "Epoch 29/30\n",
      "\u001b[1m32/32\u001b[0m \u001b[32m━━━━━━━━━━━━━━━━━━━━\u001b[0m\u001b[37m\u001b[0m \u001b[1m8s\u001b[0m 227ms/step - accuracy: 0.3436 - loss: 1.0967 - precision: 0.5152 - recall: 9.5391e-04 - val_accuracy: 0.3384 - val_loss: 1.0962 - val_precision: 0.0000e+00 - val_recall: 0.0000e+00\n",
      "Epoch 30/30\n",
      "\u001b[1m32/32\u001b[0m \u001b[32m━━━━━━━━━━━━━━━━━━━━\u001b[0m\u001b[37m\u001b[0m \u001b[1m8s\u001b[0m 231ms/step - accuracy: 0.3717 - loss: 1.0805 - precision: 0.5336 - recall: 0.0219 - val_accuracy: 0.3636 - val_loss: 1.1037 - val_precision: 0.0000e+00 - val_recall: 0.0000e+00\n",
      "Predicting on validation set...\n",
      "\u001b[1m7/7\u001b[0m \u001b[32m━━━━━━━━━━━━━━━━━━━━\u001b[0m\u001b[37m\u001b[0m \u001b[1m1s\u001b[0m 58ms/step\n",
      "Sending metrics to clearML...\n",
      "done\n",
      "ClearML Task: created new task id=d1db7f4f508d4403bad368c9f9f4920a\n",
      "ClearML results page: https://app.clear.ml/projects/7250e546d5324b5c8e520b84207c06f5/experiments/d1db7f4f508d4403bad368c9f9f4920a/output/log\n",
      "Training model...\n",
      "Epoch 1/30\n",
      "\u001b[1m47/47\u001b[0m \u001b[32m━━━━━━━━━━━━━━━━━━━━\u001b[0m\u001b[37m\u001b[0m \u001b[1m15s\u001b[0m 277ms/step - accuracy: 0.3407 - loss: 2.1178 - precision: 0.3047 - recall: 0.0877 - val_accuracy: 0.3384 - val_loss: 1.0981 - val_precision: 0.0000e+00 - val_recall: 0.0000e+00\n",
      "Epoch 2/30\n",
      "\u001b[1m47/47\u001b[0m \u001b[32m━━━━━━━━━━━━━━━━━━━━\u001b[0m\u001b[37m\u001b[0m \u001b[1m11s\u001b[0m 227ms/step - accuracy: 0.3507 - loss: 1.0984 - precision: 0.0000e+00 - recall: 0.0000e+00 - val_accuracy: 0.4798 - val_loss: 1.0943 - val_precision: 0.0000e+00 - val_recall: 0.0000e+00\n",
      "Epoch 3/30\n",
      "\u001b[1m47/47\u001b[0m \u001b[32m━━━━━━━━━━━━━━━━━━━━\u001b[0m\u001b[37m\u001b[0m \u001b[1m11s\u001b[0m 226ms/step - accuracy: 0.3631 - loss: 1.1000 - precision: 0.2930 - recall: 0.0171 - val_accuracy: 0.4747 - val_loss: 1.0406 - val_precision: 0.0000e+00 - val_recall: 0.0000e+00\n",
      "Epoch 4/30\n",
      "\u001b[1m47/47\u001b[0m \u001b[32m━━━━━━━━━━━━━━━━━━━━\u001b[0m\u001b[37m\u001b[0m \u001b[1m12s\u001b[0m 239ms/step - accuracy: 0.4442 - loss: 1.0573 - precision: 0.4712 - recall: 0.0491 - val_accuracy: 0.5303 - val_loss: 0.9890 - val_precision: 0.8511 - val_recall: 0.2020\n",
      "Epoch 5/30\n",
      "\u001b[1m47/47\u001b[0m \u001b[32m━━━━━━━━━━━━━━━━━━━━\u001b[0m\u001b[37m\u001b[0m \u001b[1m13s\u001b[0m 265ms/step - accuracy: 0.5188 - loss: 1.0314 - precision: 0.7601 - recall: 0.0867 - val_accuracy: 0.6414 - val_loss: 0.9771 - val_precision: 0.8214 - val_recall: 0.1162\n",
      "Epoch 6/30\n",
      "\u001b[1m47/47\u001b[0m \u001b[32m━━━━━━━━━━━━━━━━━━━━\u001b[0m\u001b[37m\u001b[0m \u001b[1m11s\u001b[0m 226ms/step - accuracy: 0.5401 - loss: 1.0205 - precision: 0.7635 - recall: 0.0623 - val_accuracy: 0.6414 - val_loss: 0.8618 - val_precision: 0.7462 - val_recall: 0.4899\n",
      "Epoch 7/30\n",
      "\u001b[1m47/47\u001b[0m \u001b[32m━━━━━━━━━━━━━━━━━━━━\u001b[0m\u001b[37m\u001b[0m \u001b[1m11s\u001b[0m 229ms/step - accuracy: 0.6122 - loss: 0.8757 - precision: 0.7041 - recall: 0.4460 - val_accuracy: 0.7222 - val_loss: 0.7171 - val_precision: 0.7451 - val_recall: 0.5758\n",
      "Epoch 8/30\n",
      "\u001b[1m47/47\u001b[0m \u001b[32m━━━━━━━━━━━━━━━━━━━━\u001b[0m\u001b[37m\u001b[0m \u001b[1m11s\u001b[0m 229ms/step - accuracy: 0.7197 - loss: 0.6908 - precision: 0.7913 - recall: 0.6087 - val_accuracy: 0.7222 - val_loss: 0.7167 - val_precision: 0.7543 - val_recall: 0.6667\n",
      "Epoch 9/30\n",
      "\u001b[1m47/47\u001b[0m \u001b[32m━━━━━━━━━━━━━━━━━━━━\u001b[0m\u001b[37m\u001b[0m \u001b[1m11s\u001b[0m 227ms/step - accuracy: 0.7612 - loss: 0.5740 - precision: 0.8071 - recall: 0.7024 - val_accuracy: 0.7374 - val_loss: 0.6837 - val_precision: 0.7753 - val_recall: 0.6970\n",
      "Epoch 10/30\n",
      "\u001b[1m47/47\u001b[0m \u001b[32m━━━━━━━━━━━━━━━━━━━━\u001b[0m\u001b[37m\u001b[0m \u001b[1m11s\u001b[0m 230ms/step - accuracy: 0.7886 - loss: 0.4846 - precision: 0.8280 - recall: 0.7482 - val_accuracy: 0.7525 - val_loss: 0.7709 - val_precision: 0.7796 - val_recall: 0.7323\n",
      "Epoch 11/30\n",
      "\u001b[1m47/47\u001b[0m \u001b[32m━━━━━━━━━━━━━━━━━━━━\u001b[0m\u001b[37m\u001b[0m \u001b[1m11s\u001b[0m 231ms/step - accuracy: 0.8238 - loss: 0.4230 - precision: 0.8394 - recall: 0.7895 - val_accuracy: 0.7525 - val_loss: 0.8184 - val_precision: 0.7641 - val_recall: 0.7525\n",
      "Epoch 12/30\n",
      "\u001b[1m47/47\u001b[0m \u001b[32m━━━━━━━━━━━━━━━━━━━━\u001b[0m\u001b[37m\u001b[0m \u001b[1m11s\u001b[0m 226ms/step - accuracy: 0.8343 - loss: 0.3859 - precision: 0.8528 - recall: 0.8165 - val_accuracy: 0.7727 - val_loss: 0.8230 - val_precision: 0.7887 - val_recall: 0.7727\n",
      "Epoch 13/30\n",
      "\u001b[1m47/47\u001b[0m \u001b[32m━━━━━━━━━━━━━━━━━━━━\u001b[0m\u001b[37m\u001b[0m \u001b[1m11s\u001b[0m 227ms/step - accuracy: 0.8548 - loss: 0.3538 - precision: 0.8662 - recall: 0.8379 - val_accuracy: 0.8030 - val_loss: 0.7643 - val_precision: 0.8093 - val_recall: 0.7929\n",
      "Epoch 14/30\n",
      "\u001b[1m47/47\u001b[0m \u001b[32m━━━━━━━━━━━━━━━━━━━━\u001b[0m\u001b[37m\u001b[0m \u001b[1m11s\u001b[0m 232ms/step - accuracy: 0.8683 - loss: 0.3278 - precision: 0.8776 - recall: 0.8506 - val_accuracy: 0.7980 - val_loss: 0.8060 - val_precision: 0.8073 - val_recall: 0.7828\n",
      "Epoch 15/30\n",
      "\u001b[1m47/47\u001b[0m \u001b[32m━━━━━━━━━━━━━━━━━━━━\u001b[0m\u001b[37m\u001b[0m \u001b[1m11s\u001b[0m 228ms/step - accuracy: 0.7723 - loss: 0.5390 - precision: 0.8551 - recall: 0.6751 - val_accuracy: 0.7828 - val_loss: 0.8562 - val_precision: 0.7824 - val_recall: 0.7626\n",
      "Epoch 16/30\n",
      "\u001b[1m47/47\u001b[0m \u001b[32m━━━━━━━━━━━━━━━━━━━━\u001b[0m\u001b[37m\u001b[0m \u001b[1m11s\u001b[0m 226ms/step - accuracy: 0.8787 - loss: 0.3138 - precision: 0.8876 - recall: 0.8661 - val_accuracy: 0.7929 - val_loss: 0.8584 - val_precision: 0.8051 - val_recall: 0.7929\n",
      "Epoch 17/30\n",
      "\u001b[1m47/47\u001b[0m \u001b[32m━━━━━━━━━━━━━━━━━━━━\u001b[0m\u001b[37m\u001b[0m \u001b[1m11s\u001b[0m 228ms/step - accuracy: 0.8927 - loss: 0.2596 - precision: 0.8950 - recall: 0.8864 - val_accuracy: 0.7677 - val_loss: 1.0561 - val_precision: 0.7784 - val_recall: 0.7626\n",
      "Epoch 18/30\n",
      "\u001b[1m47/47\u001b[0m \u001b[32m━━━━━━━━━━━━━━━━━━━━\u001b[0m\u001b[37m\u001b[0m \u001b[1m11s\u001b[0m 231ms/step - accuracy: 0.8952 - loss: 0.2493 - precision: 0.9025 - recall: 0.8924 - val_accuracy: 0.7828 - val_loss: 1.0134 - val_precision: 0.7795 - val_recall: 0.7677\n",
      "Epoch 19/30\n",
      "\u001b[1m47/47\u001b[0m \u001b[32m━━━━━━━━━━━━━━━━━━━━\u001b[0m\u001b[37m\u001b[0m \u001b[1m11s\u001b[0m 227ms/step - accuracy: 0.9151 - loss: 0.2244 - precision: 0.9228 - recall: 0.9096 - val_accuracy: 0.7879 - val_loss: 1.1609 - val_precision: 0.7938 - val_recall: 0.7778\n",
      "Epoch 20/30\n",
      "\u001b[1m47/47\u001b[0m \u001b[32m━━━━━━━━━━━━━━━━━━━━\u001b[0m\u001b[37m\u001b[0m \u001b[1m11s\u001b[0m 230ms/step - accuracy: 0.9287 - loss: 0.1926 - precision: 0.9348 - recall: 0.9234 - val_accuracy: 0.8081 - val_loss: 1.0549 - val_precision: 0.8071 - val_recall: 0.8030\n",
      "Epoch 21/30\n",
      "\u001b[1m47/47\u001b[0m \u001b[32m━━━━━━━━━━━━━━━━━━━━\u001b[0m\u001b[37m\u001b[0m \u001b[1m11s\u001b[0m 230ms/step - accuracy: 0.9250 - loss: 0.1804 - precision: 0.9298 - recall: 0.9211 - val_accuracy: 0.8030 - val_loss: 1.1060 - val_precision: 0.8103 - val_recall: 0.7980\n",
      "Epoch 22/30\n",
      "\u001b[1m47/47\u001b[0m \u001b[32m━━━━━━━━━━━━━━━━━━━━\u001b[0m\u001b[37m\u001b[0m \u001b[1m11s\u001b[0m 227ms/step - accuracy: 0.9467 - loss: 0.1636 - precision: 0.9522 - recall: 0.9432 - val_accuracy: 0.8081 - val_loss: 1.2080 - val_precision: 0.8103 - val_recall: 0.7980\n",
      "Epoch 23/30\n",
      "\u001b[1m47/47\u001b[0m \u001b[32m━━━━━━━━━━━━━━━━━━━━\u001b[0m\u001b[37m\u001b[0m \u001b[1m11s\u001b[0m 228ms/step - accuracy: 0.9282 - loss: 0.1626 - precision: 0.9334 - recall: 0.9223 - val_accuracy: 0.8131 - val_loss: 1.1752 - val_precision: 0.8154 - val_recall: 0.8030\n",
      "Epoch 24/30\n",
      "\u001b[1m47/47\u001b[0m \u001b[32m━━━━━━━━━━━━━━━━━━━━\u001b[0m\u001b[37m\u001b[0m \u001b[1m11s\u001b[0m 229ms/step - accuracy: 0.9265 - loss: 0.1718 - precision: 0.9340 - recall: 0.9227 - val_accuracy: 0.8030 - val_loss: 1.1475 - val_precision: 0.8071 - val_recall: 0.8030\n",
      "Epoch 25/30\n",
      "\u001b[1m47/47\u001b[0m \u001b[32m━━━━━━━━━━━━━━━━━━━━\u001b[0m\u001b[37m\u001b[0m \u001b[1m11s\u001b[0m 230ms/step - accuracy: 0.9504 - loss: 0.1364 - precision: 0.9524 - recall: 0.9462 - val_accuracy: 0.8131 - val_loss: 1.0676 - val_precision: 0.8214 - val_recall: 0.8131\n",
      "Epoch 26/30\n",
      "\u001b[1m47/47\u001b[0m \u001b[32m━━━━━━━━━━━━━━━━━━━━\u001b[0m\u001b[37m\u001b[0m \u001b[1m11s\u001b[0m 228ms/step - accuracy: 0.9283 - loss: 0.1783 - precision: 0.9376 - recall: 0.9238 - val_accuracy: 0.8131 - val_loss: 1.3299 - val_precision: 0.8173 - val_recall: 0.8131\n",
      "Epoch 27/30\n",
      "\u001b[1m47/47\u001b[0m \u001b[32m━━━━━━━━━━━━━━━━━━━━\u001b[0m\u001b[37m\u001b[0m \u001b[1m11s\u001b[0m 227ms/step - accuracy: 0.9418 - loss: 0.1391 - precision: 0.9441 - recall: 0.9378 - val_accuracy: 0.8030 - val_loss: 1.3334 - val_precision: 0.8071 - val_recall: 0.8030\n",
      "Epoch 28/30\n",
      "\u001b[1m47/47\u001b[0m \u001b[32m━━━━━━━━━━━━━━━━━━━━\u001b[0m\u001b[37m\u001b[0m \u001b[1m11s\u001b[0m 229ms/step - accuracy: 0.9629 - loss: 0.1038 - precision: 0.9646 - recall: 0.9594 - val_accuracy: 0.8030 - val_loss: 1.4166 - val_precision: 0.8061 - val_recall: 0.7980\n",
      "Epoch 29/30\n",
      "\u001b[1m47/47\u001b[0m \u001b[32m━━━━━━━━━━━━━━━━━━━━\u001b[0m\u001b[37m\u001b[0m \u001b[1m11s\u001b[0m 226ms/step - accuracy: 0.9591 - loss: 0.1088 - precision: 0.9607 - recall: 0.9569 - val_accuracy: 0.7980 - val_loss: 1.4450 - val_precision: 0.8010 - val_recall: 0.7929\n",
      "Epoch 30/30\n",
      "\u001b[1m47/47\u001b[0m \u001b[32m━━━━━━━━━━━━━━━━━━━━\u001b[0m\u001b[37m\u001b[0m \u001b[1m11s\u001b[0m 231ms/step - accuracy: 0.9580 - loss: 0.1160 - precision: 0.9589 - recall: 0.9580 - val_accuracy: 0.8232 - val_loss: 1.4769 - val_precision: 0.8223 - val_recall: 0.8182\n",
      "Predicting on validation set...\n",
      "\u001b[1m7/7\u001b[0m \u001b[32m━━━━━━━━━━━━━━━━━━━━\u001b[0m\u001b[37m\u001b[0m \u001b[1m1s\u001b[0m 57ms/step\n",
      "Sending metrics to clearML...\n",
      "done\n"
     ]
    }
   ],
   "source": [
    "# zoom \n",
    "task_name = 'z'\n",
    "sub_project_name = 'ZOOM'\n",
    "\n",
    "augmentation_metadata = {\n",
    "        'methods': {        \n",
    "            'zoom': {\n",
    "                'parameters': {\n",
    "                    'zoom_factor': 1.2, # Maximum angle of rotation\n",
    "                },\n",
    "                'apply_to_percentage': 0.5  # 50% of the training images\n",
    "            }        \n",
    "        }\n",
    "    }\n",
    "\n",
    "for i in range(N):\n",
    "    RUN = i + 1\n",
    "    try:\n",
    "        print(f\"Starting RUN: {RUN}\")\n",
    "        main(RUN, augmentation_metadata, task_name, sub_project_name, epochs, train_size, w1, w2)\n",
    "    except Exception as e:\n",
    "        print(f\"Error in RUN: {RUN}\")\n",
    "        print(e)\n",
    "    finally:\n",
    "        clear_output(wait=True)  # Clear the output to avoid scrolling\n",
    "        gc.collect()  # Collect garbage to avoid memory leaks"
   ]
  },
  {
   "cell_type": "code",
   "execution_count": 21,
   "metadata": {},
   "outputs": [
    {
     "name": "stdout",
     "output_type": "stream",
     "text": [
      "Starting RUN: 5\n",
      "Seed:  1507977395\n"
     ]
    },
    {
     "name": "stderr",
     "output_type": "stream",
     "text": [
      "c:\\github\\Third-Year-Project\\Intruder-Aircraft-Detection\\main\\tl_clf.py:79: SettingWithCopyWarning:\n",
      "\n",
      "\n",
      "A value is trying to be set on a copy of a slice from a DataFrame.\n",
      "Try using .loc[row_indexer,col_indexer] = value instead\n",
      "\n",
      "See the caveats in the documentation: https://pandas.pydata.org/pandas-docs/stable/user_guide/indexing.html#returning-a-view-versus-a-copy\n",
      "\n",
      "c:\\github\\Third-Year-Project\\Intruder-Aircraft-Detection\\main\\tl_clf.py:80: SettingWithCopyWarning:\n",
      "\n",
      "\n",
      "A value is trying to be set on a copy of a slice from a DataFrame.\n",
      "Try using .loc[row_indexer,col_indexer] = value instead\n",
      "\n",
      "See the caveats in the documentation: https://pandas.pydata.org/pandas-docs/stable/user_guide/indexing.html#returning-a-view-versus-a-copy\n",
      "\n"
     ]
    },
    {
     "name": "stdout",
     "output_type": "stream",
     "text": [
      "Removing dataset if pre-existing\n",
      "Copying training files:\n"
     ]
    },
    {
     "name": "stderr",
     "output_type": "stream",
     "text": [
      "Copying files: 100%|██████████| 2000/2000 [00:01<00:00, 1820.18it/s]\n"
     ]
    },
    {
     "name": "stdout",
     "output_type": "stream",
     "text": [
      "Copying validation files:\n"
     ]
    },
    {
     "name": "stderr",
     "output_type": "stream",
     "text": [
      "Copying files: 100%|██████████| 400/400 [00:00<00:00, 1540.98it/s]\n"
     ]
    },
    {
     "name": "stdout",
     "output_type": "stream",
     "text": [
      "Dataset 'weather_23_1000' created at C:\\github\\Third-Year-Project\\Intruder-Aircraft-Detection\\datasets\\Custom\\weather_23_1000\n",
      "Processing train labels in weather_23_1000:\n"
     ]
    },
    {
     "name": "stderr",
     "output_type": "stream",
     "text": [
      "Processing labels: 100%|██████████| 1000/1000 [00:03<00:00, 255.04it/s]\n"
     ]
    },
    {
     "name": "stdout",
     "output_type": "stream",
     "text": [
      "Processing valid labels in weather_23_1000:\n"
     ]
    },
    {
     "name": "stderr",
     "output_type": "stream",
     "text": [
      "Processing labels: 100%|██████████| 200/200 [00:00<00:00, 253.27it/s]\n"
     ]
    },
    {
     "name": "stdout",
     "output_type": "stream",
     "text": [
      "Label correction completed.\n"
     ]
    },
    {
     "name": "stderr",
     "output_type": "stream",
     "text": [
      "Removing existing directories/files: 100%|██████████| 3/3 [00:00<00:00, 5977.63it/s]\n",
      "Copying files: 100%|██████████| 1000/1000 [00:00<00:00, 1061.84it/s]\n",
      "Copying files: 100%|██████████| 1000/1000 [00:00<00:00, 1398.22it/s]\n",
      "Applying augmentations: 100%|██████████| 167/167 [00:02<00:00, 80.85it/s]\n",
      "Processing images:  17%|█▋        | 173/1000 [00:07<00:23, 34.73it/s]"
     ]
    },
    {
     "name": "stdout",
     "output_type": "stream",
     "text": [
      "An error occurred with C:/github/Third-Year-Project/Intruder-Aircraft-Detection/datasets/Custom/weather_23_1000\\images\\train\\26215.jpg: Expected y_min for bbox (0.3336595, -0.0619315, 1.0472645, 0.41380550000000005, 1) to be in the range [0.0, 1.0], got -0.0619315.\n"
     ]
    },
    {
     "name": "stderr",
     "output_type": "stream",
     "text": [
      "Processing images:  28%|██▊       | 278/1000 [00:10<00:20, 35.55it/s]"
     ]
    },
    {
     "name": "stdout",
     "output_type": "stream",
     "text": [
      "An error occurred with C:/github/Third-Year-Project/Intruder-Aircraft-Detection/datasets/Custom/weather_23_1000\\images\\train\\26778.jpg: Expected y_min for bbox (0.17198949999999996, -0.047677, 0.8024305, 0.372617, 1) to be in the range [0.0, 1.0], got -0.047677.\n"
     ]
    },
    {
     "name": "stderr",
     "output_type": "stream",
     "text": [
      "Processing images:  76%|███████▌  | 760/1000 [00:24<00:06, 36.77it/s]"
     ]
    },
    {
     "name": "stdout",
     "output_type": "stream",
     "text": [
      "An error occurred with C:/github/Third-Year-Project/Intruder-Aircraft-Detection/datasets/Custom/weather_23_1000\\images\\train\\50482.jpg: Expected y_max for bbox (0.4692875000000001, 0.789791, 0.7999505, 1.010233, 2) to be in the range [0.0, 1.0], got 1.010233.\n"
     ]
    },
    {
     "name": "stderr",
     "output_type": "stream",
     "text": [
      "Processing images:  83%|████████▎ | 833/1000 [00:26<00:04, 34.76it/s]"
     ]
    },
    {
     "name": "stdout",
     "output_type": "stream",
     "text": [
      "An error occurred with C:/github/Third-Year-Project/Intruder-Aircraft-Detection/datasets/Custom/weather_23_1000\\images\\train\\50883.jpg: Expected y_min for bbox (0.12349849999999996, -0.0012560000000000071, 0.7682795, 0.42859800000000003, 2) to be in the range [0.0, 1.0], got -0.0012560000000000071.\n"
     ]
    },
    {
     "name": "stderr",
     "output_type": "stream",
     "text": [
      "Processing images:  87%|████████▋ | 870/1000 [00:27<00:03, 35.84it/s]"
     ]
    },
    {
     "name": "stdout",
     "output_type": "stream",
     "text": [
      "An error occurred with C:/github/Third-Year-Project/Intruder-Aircraft-Detection/datasets/Custom/weather_23_1000\\images\\train\\51177.jpg: Expected x_max for bbox (0.30940350000000005, 0.6482319999999999, 1.1197745000000001, 1.1884799999999998, 2) to be in the range [0.0, 1.0], got 1.1197745000000001.\n"
     ]
    },
    {
     "name": "stderr",
     "output_type": "stream",
     "text": [
      "Processing images: 100%|██████████| 1000/1000 [00:31<00:00, 31.38it/s]\n",
      "Processing images:  16%|█▌        | 187/1167 [00:08<00:27, 36.01it/s]"
     ]
    },
    {
     "name": "stdout",
     "output_type": "stream",
     "text": [
      "An error occurred with C:/github/Third-Year-Project/Intruder-Aircraft-Detection/datasets/Custom/weather_23_1000\\images\\train-aug\\26215.jpg: Expected y_min for bbox (0.3336595, -0.0619315, 1.0472645, 0.41380550000000005, 1) to be in the range [0.0, 1.0], got -0.0619315.\n"
     ]
    },
    {
     "name": "stderr",
     "output_type": "stream",
     "text": [
      "Processing images:  27%|██▋       | 316/1167 [00:12<00:24, 34.92it/s]"
     ]
    },
    {
     "name": "stdout",
     "output_type": "stream",
     "text": [
      "An error occurred with C:/github/Third-Year-Project/Intruder-Aircraft-Detection/datasets/Custom/weather_23_1000\\images\\train-aug\\26778.jpg: Expected y_min for bbox (0.17198949999999996, -0.047677, 0.8024305, 0.372617, 1) to be in the range [0.0, 1.0], got -0.047677.\n"
     ]
    },
    {
     "name": "stderr",
     "output_type": "stream",
     "text": [
      "Processing images:  76%|███████▌  | 888/1167 [00:29<00:07, 36.16it/s]"
     ]
    },
    {
     "name": "stdout",
     "output_type": "stream",
     "text": [
      "An error occurred with C:/github/Third-Year-Project/Intruder-Aircraft-Detection/datasets/Custom/weather_23_1000\\images\\train-aug\\50482.jpg: Expected y_max for bbox (0.4692875000000001, 0.789791, 0.7999505, 1.010233, 2) to be in the range [0.0, 1.0], got 1.010233.\n"
     ]
    },
    {
     "name": "stderr",
     "output_type": "stream",
     "text": [
      "Processing images:  83%|████████▎ | 973/1167 [00:31<00:05, 35.73it/s]"
     ]
    },
    {
     "name": "stdout",
     "output_type": "stream",
     "text": [
      "An error occurred with C:/github/Third-Year-Project/Intruder-Aircraft-Detection/datasets/Custom/weather_23_1000\\images\\train-aug\\50883.jpg: Expected y_min for bbox (0.12349849999999996, -0.0012560000000000071, 0.7682795, 0.42859800000000003, 2) to be in the range [0.0, 1.0], got -0.0012560000000000071.\n"
     ]
    },
    {
     "name": "stderr",
     "output_type": "stream",
     "text": [
      "Processing images:  87%|████████▋ | 1014/1167 [00:32<00:04, 35.95it/s]"
     ]
    },
    {
     "name": "stdout",
     "output_type": "stream",
     "text": [
      "An error occurred with C:/github/Third-Year-Project/Intruder-Aircraft-Detection/datasets/Custom/weather_23_1000\\images\\train-aug\\51177.jpg: Expected x_max for bbox (0.30940350000000005, 0.6482319999999999, 1.1197745000000001, 1.1884799999999998, 2) to be in the range [0.0, 1.0], got 1.1197745000000001.\n"
     ]
    },
    {
     "name": "stderr",
     "output_type": "stream",
     "text": [
      "Processing images: 100%|██████████| 1167/1167 [00:37<00:00, 30.93it/s]\n",
      "Processing images:  11%|█         | 22/200 [00:01<00:06, 26.15it/s]"
     ]
    },
    {
     "name": "stdout",
     "output_type": "stream",
     "text": [
      "An error occurred with C:/github/Third-Year-Project/Intruder-Aircraft-Detection/datasets/Custom/weather_23_1000\\images\\valid\\26926.jpg: Expected y_min for bbox (0.38187599999999994, -0.12572450000000002, 1.180976, 0.4070085, 1) to be in the range [0.0, 1.0], got -0.12572450000000002.\n"
     ]
    },
    {
     "name": "stderr",
     "output_type": "stream",
     "text": [
      "Processing images:  33%|███▎      | 66/200 [00:02<00:04, 32.78it/s]"
     ]
    },
    {
     "name": "stdout",
     "output_type": "stream",
     "text": [
      "An error occurred with C:/github/Third-Year-Project/Intruder-Aircraft-Detection/datasets/Custom/weather_23_1000\\images\\valid\\26999.jpg: Expected x_min for bbox (-0.1462135, 0.3244429999999999, 0.7076735, 0.893701, 1) to be in the range [0.0, 1.0], got -0.1462135.\n"
     ]
    },
    {
     "name": "stderr",
     "output_type": "stream",
     "text": [
      "Processing images:  76%|███████▌  | 151/200 [00:04<00:01, 35.86it/s]"
     ]
    },
    {
     "name": "stdout",
     "output_type": "stream",
     "text": [
      "An error occurred with C:/github/Third-Year-Project/Intruder-Aircraft-Detection/datasets/Custom/weather_23_1000\\images\\valid\\50917.jpg: Expected y_min for bbox (0.3312055, -0.11337250000000001, 1.1166544999999999, 0.41026050000000003, 2) to be in the range [0.0, 1.0], got -0.11337250000000001.\n"
     ]
    },
    {
     "name": "stderr",
     "output_type": "stream",
     "text": [
      "Processing images:  88%|████████▊ | 176/200 [00:05<00:00, 36.85it/s]"
     ]
    },
    {
     "name": "stdout",
     "output_type": "stream",
     "text": [
      "An error occurred with C:/github/Third-Year-Project/Intruder-Aircraft-Detection/datasets/Custom/weather_23_1000\\images\\valid\\50955.jpg: Expected x_min for bbox (-0.021672000000000025, 0.2856885, 0.507494, 0.6384655, 2) to be in the range [0.0, 1.0], got -0.021672000000000025.\n"
     ]
    },
    {
     "name": "stderr",
     "output_type": "stream",
     "text": [
      "Processing images: 100%|██████████| 200/200 [00:06<00:00, 31.94it/s]\n",
      "Moving images in train: 100%|██████████| 995/995 [00:03<00:00, 249.56it/s]\n",
      "Moving images in train-aug: 100%|██████████| 1162/1162 [00:03<00:00, 364.28it/s]\n",
      "Moving images in valid: 100%|██████████| 196/196 [00:00<00:00, 258.85it/s]\n"
     ]
    },
    {
     "name": "stdout",
     "output_type": "stream",
     "text": [
      "Found 995 files belonging to 3 classes.\n",
      "Found 1162 files belonging to 3 classes.\n",
      "Found 196 files belonging to 3 classes.\n",
      "ClearML Task: created new task id=d764d387cf614730a602874dbb7132c0\n",
      "ClearML results page: https://app.clear.ml/projects/99b9e23c702f45b6a3b2868de65da134/experiments/d764d387cf614730a602874dbb7132c0/output/log\n",
      "Training model...\n",
      "Epoch 1/30\n",
      "\u001b[1m32/32\u001b[0m \u001b[32m━━━━━━━━━━━━━━━━━━━━\u001b[0m\u001b[37m\u001b[0m \u001b[1m12s\u001b[0m 292ms/step - accuracy: 0.3083 - loss: 2.4859 - precision: 0.2852 - recall: 0.1055 - val_accuracy: 0.3265 - val_loss: 1.1010 - val_precision: 0.0000e+00 - val_recall: 0.0000e+00\n",
      "Epoch 2/30\n",
      "\u001b[1m32/32\u001b[0m \u001b[32m━━━━━━━━━━━━━━━━━━━━\u001b[0m\u001b[37m\u001b[0m \u001b[1m8s\u001b[0m 225ms/step - accuracy: 0.3039 - loss: 1.1033 - precision: 0.0000e+00 - recall: 0.0000e+00 - val_accuracy: 0.3571 - val_loss: 1.0978 - val_precision: 0.0000e+00 - val_recall: 0.0000e+00\n",
      "Epoch 3/30\n",
      "\u001b[1m32/32\u001b[0m \u001b[32m━━━━━━━━━━━━━━━━━━━━\u001b[0m\u001b[37m\u001b[0m \u001b[1m8s\u001b[0m 230ms/step - accuracy: 0.3703 - loss: 1.0979 - precision: 0.0000e+00 - recall: 0.0000e+00 - val_accuracy: 0.3265 - val_loss: 1.1017 - val_precision: 0.0000e+00 - val_recall: 0.0000e+00\n",
      "Epoch 4/30\n",
      "\u001b[1m32/32\u001b[0m \u001b[32m━━━━━━━━━━━━━━━━━━━━\u001b[0m\u001b[37m\u001b[0m \u001b[1m7s\u001b[0m 224ms/step - accuracy: 0.3901 - loss: 1.0931 - precision: 0.2194 - recall: 0.0069 - val_accuracy: 0.3622 - val_loss: 1.0880 - val_precision: 0.0000e+00 - val_recall: 0.0000e+00\n",
      "Epoch 5/30\n",
      "\u001b[1m32/32\u001b[0m \u001b[32m━━━━━━━━━━━━━━━━━━━━\u001b[0m\u001b[37m\u001b[0m \u001b[1m7s\u001b[0m 225ms/step - accuracy: 0.4233 - loss: 1.0637 - precision: 0.7106 - recall: 0.0215 - val_accuracy: 0.6888 - val_loss: 0.9458 - val_precision: 0.8889 - val_recall: 0.1633\n",
      "Epoch 6/30\n",
      "\u001b[1m32/32\u001b[0m \u001b[32m━━━━━━━━━━━━━━━━━━━━\u001b[0m\u001b[37m\u001b[0m \u001b[1m8s\u001b[0m 237ms/step - accuracy: 0.5320 - loss: 1.0090 - precision: 0.6817 - recall: 0.1741 - val_accuracy: 0.5867 - val_loss: 0.9375 - val_precision: 0.7400 - val_recall: 0.1888\n",
      "Epoch 7/30\n",
      "\u001b[1m32/32\u001b[0m \u001b[32m━━━━━━━━━━━━━━━━━━━━\u001b[0m\u001b[37m\u001b[0m \u001b[1m9s\u001b[0m 279ms/step - accuracy: 0.4624 - loss: 1.0303 - precision: 0.6918 - recall: 0.0866 - val_accuracy: 0.7041 - val_loss: 0.7933 - val_precision: 0.8421 - val_recall: 0.4898\n",
      "Epoch 8/30\n",
      "\u001b[1m32/32\u001b[0m \u001b[32m━━━━━━━━━━━━━━━━━━━━\u001b[0m\u001b[37m\u001b[0m \u001b[1m8s\u001b[0m 230ms/step - accuracy: 0.6145 - loss: 0.8461 - precision: 0.7195 - recall: 0.4896 - val_accuracy: 0.7653 - val_loss: 0.6802 - val_precision: 0.8042 - val_recall: 0.5867\n",
      "Epoch 9/30\n",
      "\u001b[1m32/32\u001b[0m \u001b[32m━━━━━━━━━━━━━━━━━━━━\u001b[0m\u001b[37m\u001b[0m \u001b[1m8s\u001b[0m 225ms/step - accuracy: 0.7209 - loss: 0.6752 - precision: 0.8007 - recall: 0.6216 - val_accuracy: 0.7755 - val_loss: 0.6219 - val_precision: 0.8258 - val_recall: 0.6531\n",
      "Epoch 10/30\n",
      "\u001b[1m32/32\u001b[0m \u001b[32m━━━━━━━━━━━━━━━━━━━━\u001b[0m\u001b[37m\u001b[0m \u001b[1m7s\u001b[0m 225ms/step - accuracy: 0.7621 - loss: 0.5990 - precision: 0.8127 - recall: 0.6561 - val_accuracy: 0.7908 - val_loss: 0.5794 - val_precision: 0.7979 - val_recall: 0.7653\n",
      "Epoch 11/30\n",
      "\u001b[1m32/32\u001b[0m \u001b[32m━━━━━━━━━━━━━━━━━━━━\u001b[0m\u001b[37m\u001b[0m \u001b[1m7s\u001b[0m 225ms/step - accuracy: 0.7449 - loss: 0.5828 - precision: 0.7770 - recall: 0.6836 - val_accuracy: 0.7245 - val_loss: 0.6042 - val_precision: 0.7857 - val_recall: 0.6735\n",
      "Epoch 12/30\n",
      "\u001b[1m32/32\u001b[0m \u001b[32m━━━━━━━━━━━━━━━━━━━━\u001b[0m\u001b[37m\u001b[0m \u001b[1m8s\u001b[0m 227ms/step - accuracy: 0.7693 - loss: 0.5875 - precision: 0.7944 - recall: 0.7146 - val_accuracy: 0.7551 - val_loss: 0.5681 - val_precision: 0.7853 - val_recall: 0.7092\n",
      "Epoch 13/30\n",
      "\u001b[1m32/32\u001b[0m \u001b[32m━━━━━━━━━━━━━━━━━━━━\u001b[0m\u001b[37m\u001b[0m \u001b[1m8s\u001b[0m 229ms/step - accuracy: 0.7689 - loss: 0.5308 - precision: 0.8163 - recall: 0.7340 - val_accuracy: 0.7959 - val_loss: 0.5582 - val_precision: 0.8118 - val_recall: 0.7704\n",
      "Epoch 14/30\n",
      "\u001b[1m32/32\u001b[0m \u001b[32m━━━━━━━━━━━━━━━━━━━━\u001b[0m\u001b[37m\u001b[0m \u001b[1m8s\u001b[0m 225ms/step - accuracy: 0.8250 - loss: 0.4735 - precision: 0.8428 - recall: 0.7907 - val_accuracy: 0.8214 - val_loss: 0.5352 - val_precision: 0.8342 - val_recall: 0.7959\n",
      "Epoch 15/30\n",
      "\u001b[1m32/32\u001b[0m \u001b[32m━━━━━━━━━━━━━━━━━━━━\u001b[0m\u001b[37m\u001b[0m \u001b[1m7s\u001b[0m 226ms/step - accuracy: 0.8519 - loss: 0.3839 - precision: 0.8706 - recall: 0.8226 - val_accuracy: 0.7806 - val_loss: 0.5412 - val_precision: 0.7958 - val_recall: 0.7755\n",
      "Epoch 16/30\n",
      "\u001b[1m32/32\u001b[0m \u001b[32m━━━━━━━━━━━━━━━━━━━━\u001b[0m\u001b[37m\u001b[0m \u001b[1m8s\u001b[0m 227ms/step - accuracy: 0.8141 - loss: 0.4978 - precision: 0.8366 - recall: 0.7741 - val_accuracy: 0.7602 - val_loss: 0.6220 - val_precision: 0.7577 - val_recall: 0.7500\n",
      "Epoch 17/30\n",
      "\u001b[1m32/32\u001b[0m \u001b[32m━━━━━━━━━━━━━━━━━━━━\u001b[0m\u001b[37m\u001b[0m \u001b[1m7s\u001b[0m 225ms/step - accuracy: 0.8398 - loss: 0.4279 - precision: 0.8520 - recall: 0.8246 - val_accuracy: 0.8010 - val_loss: 0.5549 - val_precision: 0.8235 - val_recall: 0.7857\n",
      "Epoch 18/30\n",
      "\u001b[1m32/32\u001b[0m \u001b[32m━━━━━━━━━━━━━━━━━━━━\u001b[0m\u001b[37m\u001b[0m \u001b[1m7s\u001b[0m 224ms/step - accuracy: 0.8825 - loss: 0.3214 - precision: 0.8936 - recall: 0.8718 - val_accuracy: 0.8010 - val_loss: 0.5473 - val_precision: 0.8118 - val_recall: 0.7704\n",
      "Epoch 19/30\n",
      "\u001b[1m32/32\u001b[0m \u001b[32m━━━━━━━━━━━━━━━━━━━━\u001b[0m\u001b[37m\u001b[0m \u001b[1m7s\u001b[0m 225ms/step - accuracy: 0.8636 - loss: 0.3657 - precision: 0.8690 - recall: 0.8491 - val_accuracy: 0.8061 - val_loss: 0.5563 - val_precision: 0.8177 - val_recall: 0.8010\n",
      "Epoch 20/30\n",
      "\u001b[1m32/32\u001b[0m \u001b[32m━━━━━━━━━━━━━━━━━━━━\u001b[0m\u001b[37m\u001b[0m \u001b[1m8s\u001b[0m 230ms/step - accuracy: 0.8633 - loss: 0.3557 - precision: 0.8815 - recall: 0.8393 - val_accuracy: 0.8112 - val_loss: 0.5253 - val_precision: 0.8135 - val_recall: 0.8010\n",
      "Epoch 21/30\n",
      "\u001b[1m32/32\u001b[0m \u001b[32m━━━━━━━━━━━━━━━━━━━━\u001b[0m\u001b[37m\u001b[0m \u001b[1m8s\u001b[0m 228ms/step - accuracy: 0.8674 - loss: 0.3206 - precision: 0.8762 - recall: 0.8586 - val_accuracy: 0.7908 - val_loss: 0.5875 - val_precision: 0.7989 - val_recall: 0.7704\n",
      "Epoch 22/30\n",
      "\u001b[1m32/32\u001b[0m \u001b[32m━━━━━━━━━━━━━━━━━━━━\u001b[0m\u001b[37m\u001b[0m \u001b[1m7s\u001b[0m 223ms/step - accuracy: 0.8580 - loss: 0.3554 - precision: 0.8747 - recall: 0.8441 - val_accuracy: 0.8163 - val_loss: 0.6352 - val_precision: 0.8135 - val_recall: 0.8010\n",
      "Epoch 23/30\n",
      "\u001b[1m32/32\u001b[0m \u001b[32m━━━━━━━━━━━━━━━━━━━━\u001b[0m\u001b[37m\u001b[0m \u001b[1m8s\u001b[0m 226ms/step - accuracy: 0.8981 - loss: 0.3006 - precision: 0.8995 - recall: 0.8823 - val_accuracy: 0.8010 - val_loss: 0.7649 - val_precision: 0.8010 - val_recall: 0.8010\n",
      "Epoch 24/30\n",
      "\u001b[1m32/32\u001b[0m \u001b[32m━━━━━━━━━━━━━━━━━━━━\u001b[0m\u001b[37m\u001b[0m \u001b[1m7s\u001b[0m 225ms/step - accuracy: 0.8960 - loss: 0.2940 - precision: 0.9045 - recall: 0.8863 - val_accuracy: 0.8214 - val_loss: 0.5464 - val_precision: 0.8187 - val_recall: 0.8061\n",
      "Epoch 25/30\n",
      "\u001b[1m32/32\u001b[0m \u001b[32m━━━━━━━━━━━━━━━━━━━━\u001b[0m\u001b[37m\u001b[0m \u001b[1m8s\u001b[0m 228ms/step - accuracy: 0.9007 - loss: 0.2761 - precision: 0.9091 - recall: 0.8886 - val_accuracy: 0.8163 - val_loss: 0.5779 - val_precision: 0.8196 - val_recall: 0.8112\n",
      "Epoch 26/30\n",
      "\u001b[1m32/32\u001b[0m \u001b[32m━━━━━━━━━━━━━━━━━━━━\u001b[0m\u001b[37m\u001b[0m \u001b[1m8s\u001b[0m 225ms/step - accuracy: 0.8894 - loss: 0.2975 - precision: 0.8975 - recall: 0.8754 - val_accuracy: 0.8214 - val_loss: 0.5751 - val_precision: 0.8325 - val_recall: 0.8112\n",
      "Epoch 27/30\n",
      "\u001b[1m32/32\u001b[0m \u001b[32m━━━━━━━━━━━━━━━━━━━━\u001b[0m\u001b[37m\u001b[0m \u001b[1m8s\u001b[0m 226ms/step - accuracy: 0.8884 - loss: 0.2832 - precision: 0.9120 - recall: 0.8668 - val_accuracy: 0.7653 - val_loss: 0.6873 - val_precision: 0.7732 - val_recall: 0.7653\n",
      "Epoch 28/30\n",
      "\u001b[1m32/32\u001b[0m \u001b[32m━━━━━━━━━━━━━━━━━━━━\u001b[0m\u001b[37m\u001b[0m \u001b[1m8s\u001b[0m 228ms/step - accuracy: 0.8888 - loss: 0.2818 - precision: 0.8951 - recall: 0.8837 - val_accuracy: 0.8214 - val_loss: 0.6468 - val_precision: 0.8281 - val_recall: 0.8112\n",
      "Epoch 29/30\n",
      "\u001b[1m32/32\u001b[0m \u001b[32m━━━━━━━━━━━━━━━━━━━━\u001b[0m\u001b[37m\u001b[0m \u001b[1m7s\u001b[0m 224ms/step - accuracy: 0.9197 - loss: 0.2113 - precision: 0.9236 - recall: 0.9159 - val_accuracy: 0.8316 - val_loss: 0.5780 - val_precision: 0.8351 - val_recall: 0.8265\n",
      "Epoch 30/30\n",
      "\u001b[1m32/32\u001b[0m \u001b[32m━━━━━━━━━━━━━━━━━━━━\u001b[0m\u001b[37m\u001b[0m \u001b[1m8s\u001b[0m 228ms/step - accuracy: 0.9159 - loss: 0.2063 - precision: 0.9196 - recall: 0.9097 - val_accuracy: 0.8265 - val_loss: 0.7021 - val_precision: 0.8308 - val_recall: 0.8265\n",
      "Predicting on validation set...\n",
      "\u001b[1m7/7\u001b[0m \u001b[32m━━━━━━━━━━━━━━━━━━━━\u001b[0m\u001b[37m\u001b[0m \u001b[1m1s\u001b[0m 56ms/step\n",
      "Sending metrics to clearML...\n",
      "done\n",
      "ClearML Task: created new task id=20bccafe89fc45ff95c9a7c67c3c17ba\n",
      "ClearML results page: https://app.clear.ml/projects/99b9e23c702f45b6a3b2868de65da134/experiments/20bccafe89fc45ff95c9a7c67c3c17ba/output/log\n",
      "Training model...\n",
      "Epoch 1/30\n",
      "\u001b[1m37/37\u001b[0m \u001b[32m━━━━━━━━━━━━━━━━━━━━\u001b[0m\u001b[37m\u001b[0m \u001b[1m13s\u001b[0m 280ms/step - accuracy: 0.2954 - loss: 1.6106 - precision: 0.2910 - recall: 0.1102 - val_accuracy: 0.3673 - val_loss: 1.0977 - val_precision: 0.0000e+00 - val_recall: 0.0000e+00\n",
      "Epoch 2/30\n",
      "\u001b[1m37/37\u001b[0m \u001b[32m━━━━━━━━━━━━━━━━━━━━\u001b[0m\u001b[37m\u001b[0m \u001b[1m9s\u001b[0m 227ms/step - accuracy: 0.3654 - loss: 1.0984 - precision: 0.0000e+00 - recall: 0.0000e+00 - val_accuracy: 0.4490 - val_loss: 1.0968 - val_precision: 0.0000e+00 - val_recall: 0.0000e+00\n",
      "Epoch 3/30\n",
      "\u001b[1m37/37\u001b[0m \u001b[32m━━━━━━━━━━━━━━━━━━━━\u001b[0m\u001b[37m\u001b[0m \u001b[1m9s\u001b[0m 227ms/step - accuracy: 0.3568 - loss: 1.0978 - precision: 0.0000e+00 - recall: 0.0000e+00 - val_accuracy: 0.5765 - val_loss: 1.0723 - val_precision: 0.0000e+00 - val_recall: 0.0000e+00\n",
      "Epoch 4/30\n",
      "\u001b[1m37/37\u001b[0m \u001b[32m━━━━━━━━━━━━━━━━━━━━\u001b[0m\u001b[37m\u001b[0m \u001b[1m9s\u001b[0m 225ms/step - accuracy: 0.5274 - loss: 1.0591 - precision: 0.7063 - recall: 0.0221 - val_accuracy: 0.6633 - val_loss: 0.9248 - val_precision: 0.8205 - val_recall: 0.1633\n",
      "Epoch 5/30\n",
      "\u001b[1m37/37\u001b[0m \u001b[32m━━━━━━━━━━━━━━━━━━━━\u001b[0m\u001b[37m\u001b[0m \u001b[1m9s\u001b[0m 234ms/step - accuracy: 0.6145 - loss: 0.9320 - precision: 0.7067 - recall: 0.2622 - val_accuracy: 0.5051 - val_loss: 1.0362 - val_precision: 1.0000 - val_recall: 0.0357\n",
      "Epoch 6/30\n",
      "\u001b[1m37/37\u001b[0m \u001b[32m━━━━━━━━━━━━━━━━━━━━\u001b[0m\u001b[37m\u001b[0m \u001b[1m10s\u001b[0m 272ms/step - accuracy: 0.5420 - loss: 0.9749 - precision: 0.7140 - recall: 0.1874 - val_accuracy: 0.7143 - val_loss: 0.6789 - val_precision: 0.7500 - val_recall: 0.6429\n",
      "Epoch 7/30\n",
      "\u001b[1m37/37\u001b[0m \u001b[32m━━━━━━━━━━━━━━━━━━━━\u001b[0m\u001b[37m\u001b[0m \u001b[1m9s\u001b[0m 226ms/step - accuracy: 0.6823 - loss: 0.7157 - precision: 0.7527 - recall: 0.5492 - val_accuracy: 0.7245 - val_loss: 0.6275 - val_precision: 0.7574 - val_recall: 0.6531\n",
      "Epoch 8/30\n",
      "\u001b[1m37/37\u001b[0m \u001b[32m━━━━━━━━━━━━━━━━━━━━\u001b[0m\u001b[37m\u001b[0m \u001b[1m9s\u001b[0m 227ms/step - accuracy: 0.7340 - loss: 0.6426 - precision: 0.7762 - recall: 0.6562 - val_accuracy: 0.7704 - val_loss: 0.6140 - val_precision: 0.8121 - val_recall: 0.6837\n",
      "Epoch 9/30\n",
      "\u001b[1m37/37\u001b[0m \u001b[32m━━━━━━━━━━━━━━━━━━━━\u001b[0m\u001b[37m\u001b[0m \u001b[1m9s\u001b[0m 224ms/step - accuracy: 0.7649 - loss: 0.5257 - precision: 0.8108 - recall: 0.6970 - val_accuracy: 0.7653 - val_loss: 0.5943 - val_precision: 0.7886 - val_recall: 0.7041\n",
      "Epoch 10/30\n",
      "\u001b[1m37/37\u001b[0m \u001b[32m━━━━━━━━━━━━━━━━━━━━\u001b[0m\u001b[37m\u001b[0m \u001b[1m9s\u001b[0m 226ms/step - accuracy: 0.7988 - loss: 0.4900 - precision: 0.8386 - recall: 0.7468 - val_accuracy: 0.7500 - val_loss: 0.6238 - val_precision: 0.7701 - val_recall: 0.7347\n",
      "Epoch 11/30\n",
      "\u001b[1m37/37\u001b[0m \u001b[32m━━━━━━━━━━━━━━━━━━━━\u001b[0m\u001b[37m\u001b[0m \u001b[1m9s\u001b[0m 226ms/step - accuracy: 0.8285 - loss: 0.4312 - precision: 0.8536 - recall: 0.8034 - val_accuracy: 0.7602 - val_loss: 0.6705 - val_precision: 0.7778 - val_recall: 0.7500\n",
      "Epoch 12/30\n",
      "\u001b[1m37/37\u001b[0m \u001b[32m━━━━━━━━━━━━━━━━━━━━\u001b[0m\u001b[37m\u001b[0m \u001b[1m9s\u001b[0m 229ms/step - accuracy: 0.8049 - loss: 0.4230 - precision: 0.8281 - recall: 0.7702 - val_accuracy: 0.8061 - val_loss: 0.6041 - val_precision: 0.8093 - val_recall: 0.8010\n",
      "Epoch 13/30\n",
      "\u001b[1m37/37\u001b[0m \u001b[32m━━━━━━━━━━━━━━━━━━━━\u001b[0m\u001b[37m\u001b[0m \u001b[1m9s\u001b[0m 225ms/step - accuracy: 0.8232 - loss: 0.3978 - precision: 0.8397 - recall: 0.8076 - val_accuracy: 0.7704 - val_loss: 0.6231 - val_precision: 0.7796 - val_recall: 0.7398\n",
      "Epoch 14/30\n",
      "\u001b[1m37/37\u001b[0m \u001b[32m━━━━━━━━━━━━━━━━━━━━\u001b[0m\u001b[37m\u001b[0m \u001b[1m9s\u001b[0m 227ms/step - accuracy: 0.8770 - loss: 0.3592 - precision: 0.8898 - recall: 0.8321 - val_accuracy: 0.7908 - val_loss: 0.6695 - val_precision: 0.8010 - val_recall: 0.7806\n",
      "Epoch 15/30\n",
      "\u001b[1m37/37\u001b[0m \u001b[32m━━━━━━━━━━━━━━━━━━━━\u001b[0m\u001b[37m\u001b[0m \u001b[1m9s\u001b[0m 227ms/step - accuracy: 0.8576 - loss: 0.3154 - precision: 0.8731 - recall: 0.8542 - val_accuracy: 0.7908 - val_loss: 0.7458 - val_precision: 0.7947 - val_recall: 0.7704\n",
      "Epoch 16/30\n",
      "\u001b[1m37/37\u001b[0m \u001b[32m━━━━━━━━━━━━━━━━━━━━\u001b[0m\u001b[37m\u001b[0m \u001b[1m9s\u001b[0m 229ms/step - accuracy: 0.7982 - loss: 0.4779 - precision: 0.8849 - recall: 0.7207 - val_accuracy: 0.4031 - val_loss: 1.0299 - val_precision: 0.7342 - val_recall: 0.2959\n",
      "Epoch 17/30\n",
      "\u001b[1m37/37\u001b[0m \u001b[32m━━━━━━━━━━━━━━━━━━━━\u001b[0m\u001b[37m\u001b[0m \u001b[1m9s\u001b[0m 225ms/step - accuracy: 0.4377 - loss: 1.0354 - precision: 0.6964 - recall: 0.1094 - val_accuracy: 0.5918 - val_loss: 0.9439 - val_precision: 0.8333 - val_recall: 0.1531\n",
      "Epoch 18/30\n",
      "\u001b[1m37/37\u001b[0m \u001b[32m━━━━━━━━━━━━━━━━━━━━\u001b[0m\u001b[37m\u001b[0m \u001b[1m9s\u001b[0m 227ms/step - accuracy: 0.5486 - loss: 0.9056 - precision: 0.7877 - recall: 0.2483 - val_accuracy: 0.5204 - val_loss: 0.9859 - val_precision: 0.9474 - val_recall: 0.0918\n",
      "Epoch 19/30\n",
      "\u001b[1m37/37\u001b[0m \u001b[32m━━━━━━━━━━━━━━━━━━━━\u001b[0m\u001b[37m\u001b[0m \u001b[1m9s\u001b[0m 227ms/step - accuracy: 0.5250 - loss: 0.9986 - precision: 0.9689 - recall: 0.0908 - val_accuracy: 0.5765 - val_loss: 0.8786 - val_precision: 0.7297 - val_recall: 0.2755\n",
      "Epoch 20/30\n",
      "\u001b[1m37/37\u001b[0m \u001b[32m━━━━━━━━━━━━━━━━━━━━\u001b[0m\u001b[37m\u001b[0m \u001b[1m9s\u001b[0m 227ms/step - accuracy: 0.4548 - loss: 0.9977 - precision: 0.9020 - recall: 0.1058 - val_accuracy: 0.5408 - val_loss: 0.9736 - val_precision: 0.8571 - val_recall: 0.0918\n",
      "Epoch 21/30\n",
      "\u001b[1m37/37\u001b[0m \u001b[32m━━━━━━━━━━━━━━━━━━━━\u001b[0m\u001b[37m\u001b[0m \u001b[1m9s\u001b[0m 227ms/step - accuracy: 0.5943 - loss: 0.8780 - precision: 0.7858 - recall: 0.2750 - val_accuracy: 0.6888 - val_loss: 0.7367 - val_precision: 0.8211 - val_recall: 0.5153\n",
      "Epoch 22/30\n",
      "\u001b[1m37/37\u001b[0m \u001b[32m━━━━━━━━━━━━━━━━━━━━\u001b[0m\u001b[37m\u001b[0m \u001b[1m9s\u001b[0m 225ms/step - accuracy: 0.7105 - loss: 0.6505 - precision: 0.7688 - recall: 0.6169 - val_accuracy: 0.7398 - val_loss: 0.5884 - val_precision: 0.8000 - val_recall: 0.6939\n",
      "Epoch 23/30\n",
      "\u001b[1m37/37\u001b[0m \u001b[32m━━━━━━━━━━━━━━━━━━━━\u001b[0m\u001b[37m\u001b[0m \u001b[1m9s\u001b[0m 225ms/step - accuracy: 0.7795 - loss: 0.5073 - precision: 0.8113 - recall: 0.7332 - val_accuracy: 0.7398 - val_loss: 0.6349 - val_precision: 0.8176 - val_recall: 0.6633\n",
      "Epoch 24/30\n",
      "\u001b[1m37/37\u001b[0m \u001b[32m━━━━━━━━━━━━━━━━━━━━\u001b[0m\u001b[37m\u001b[0m \u001b[1m9s\u001b[0m 227ms/step - accuracy: 0.8283 - loss: 0.4595 - precision: 0.8601 - recall: 0.7565 - val_accuracy: 0.7704 - val_loss: 0.7285 - val_precision: 0.7819 - val_recall: 0.7500\n",
      "Epoch 25/30\n",
      "\u001b[1m37/37\u001b[0m \u001b[32m━━━━━━━━━━━━━━━━━━━━\u001b[0m\u001b[37m\u001b[0m \u001b[1m9s\u001b[0m 228ms/step - accuracy: 0.8415 - loss: 0.3819 - precision: 0.8652 - recall: 0.8139 - val_accuracy: 0.7551 - val_loss: 0.6575 - val_precision: 0.7807 - val_recall: 0.7449\n",
      "Epoch 26/30\n",
      "\u001b[1m37/37\u001b[0m \u001b[32m━━━━━━━━━━━━━━━━━━━━\u001b[0m\u001b[37m\u001b[0m \u001b[1m9s\u001b[0m 225ms/step - accuracy: 0.8610 - loss: 0.3315 - precision: 0.8842 - recall: 0.8376 - val_accuracy: 0.7857 - val_loss: 0.6836 - val_precision: 0.7969 - val_recall: 0.7806\n",
      "Epoch 27/30\n",
      "\u001b[1m37/37\u001b[0m \u001b[32m━━━━━━━━━━━━━━━━━━━━\u001b[0m\u001b[37m\u001b[0m \u001b[1m9s\u001b[0m 226ms/step - accuracy: 0.8670 - loss: 0.2997 - precision: 0.8813 - recall: 0.8577 - val_accuracy: 0.7602 - val_loss: 0.7009 - val_precision: 0.7914 - val_recall: 0.7551\n",
      "Epoch 28/30\n",
      "\u001b[1m37/37\u001b[0m \u001b[32m━━━━━━━━━━━━━━━━━━━━\u001b[0m\u001b[37m\u001b[0m \u001b[1m9s\u001b[0m 223ms/step - accuracy: 0.8893 - loss: 0.2965 - precision: 0.9047 - recall: 0.8813 - val_accuracy: 0.7398 - val_loss: 0.7862 - val_precision: 0.7448 - val_recall: 0.7296\n",
      "Epoch 29/30\n",
      "\u001b[1m37/37\u001b[0m \u001b[32m━━━━━━━━━━━━━━━━━━━━\u001b[0m\u001b[37m\u001b[0m \u001b[1m9s\u001b[0m 227ms/step - accuracy: 0.8697 - loss: 0.3099 - precision: 0.8758 - recall: 0.8560 - val_accuracy: 0.7959 - val_loss: 0.7842 - val_precision: 0.8073 - val_recall: 0.7908\n",
      "Epoch 30/30\n",
      "\u001b[1m37/37\u001b[0m \u001b[32m━━━━━━━━━━━━━━━━━━━━\u001b[0m\u001b[37m\u001b[0m \u001b[1m9s\u001b[0m 229ms/step - accuracy: 0.8706 - loss: 0.3144 - precision: 0.8989 - recall: 0.8487 - val_accuracy: 0.7755 - val_loss: 0.7671 - val_precision: 0.7795 - val_recall: 0.7755\n",
      "Predicting on validation set...\n",
      "\u001b[1m7/7\u001b[0m \u001b[32m━━━━━━━━━━━━━━━━━━━━\u001b[0m\u001b[37m\u001b[0m \u001b[1m1s\u001b[0m 54ms/step\n",
      "Sending metrics to clearML...\n",
      "done\n"
     ]
    }
   ],
   "source": [
    "# hsv augmentation\n",
    "task_name = 'hsv'\n",
    "sub_project_name = 'HSV'\n",
    "\n",
    "augmentation_metadata = {\n",
    "        'methods': {        \n",
    "            'hsv': {\n",
    "                'parameters': {\n",
    "                    'type': 'h', # Maximum angle of rotation\n",
    "                    'shift': 20,\n",
    "                    'p': 1.0  # Probability of applying the augmentation\n",
    "                },\n",
    "                'apply_to_percentage': 0.167  # 50% of the training images\n",
    "            },\n",
    "            'hsv': {\n",
    "                'parameters': {\n",
    "                    'type': 's', # Maximum angle of rotation\n",
    "                    'shift': 30,\n",
    "                    'p': 1.0  # Probability of applying the augmentation\n",
    "                },\n",
    "                'apply_to_percentage': 0.167 # 50% of the training images\n",
    "            },\n",
    "            'hsv': {\n",
    "                'parameters': {\n",
    "                    'type': 'v', # Maximum angle of rotation\n",
    "                    'shift': 20,\n",
    "                    'p': 1.0  # Probability of applying the augmentation\n",
    "                },\n",
    "                'apply_to_percentage': 0.167  # 50% of the training images\n",
    "            }            \n",
    "        }\n",
    "    }\n",
    "\n",
    "for i in range(N):\n",
    "    RUN = i + 1\n",
    "    try:\n",
    "        print(f\"Starting RUN: {RUN}\")\n",
    "        main(RUN, augmentation_metadata, task_name, sub_project_name, epochs, train_size, w1, w2)\n",
    "    except Exception as e:\n",
    "        print(f\"Error in RUN: {RUN}\")\n",
    "        print(e)\n",
    "    finally:\n",
    "        clear_output(wait=True)  # Clear the output to avoid scrolling\n",
    "        gc.collect()  # Collect garbage to avoid memory leaks"
   ]
  },
  {
   "cell_type": "markdown",
   "metadata": {},
   "source": [
    "# Weather Conditions 3"
   ]
  },
  {
   "cell_type": "code",
   "execution_count": 6,
   "metadata": {},
   "outputs": [],
   "source": [
    "w1 = 4\n",
    "w2 = 5"
   ]
  },
  {
   "cell_type": "code",
   "execution_count": 23,
   "metadata": {},
   "outputs": [
    {
     "name": "stdout",
     "output_type": "stream",
     "text": [
      "Starting RUN: 5\n",
      "Seed:  1511584294\n"
     ]
    },
    {
     "name": "stderr",
     "output_type": "stream",
     "text": [
      "c:\\github\\Third-Year-Project\\Intruder-Aircraft-Detection\\main\\tl_clf.py:79: SettingWithCopyWarning:\n",
      "\n",
      "\n",
      "A value is trying to be set on a copy of a slice from a DataFrame.\n",
      "Try using .loc[row_indexer,col_indexer] = value instead\n",
      "\n",
      "See the caveats in the documentation: https://pandas.pydata.org/pandas-docs/stable/user_guide/indexing.html#returning-a-view-versus-a-copy\n",
      "\n",
      "c:\\github\\Third-Year-Project\\Intruder-Aircraft-Detection\\main\\tl_clf.py:80: SettingWithCopyWarning:\n",
      "\n",
      "\n",
      "A value is trying to be set on a copy of a slice from a DataFrame.\n",
      "Try using .loc[row_indexer,col_indexer] = value instead\n",
      "\n",
      "See the caveats in the documentation: https://pandas.pydata.org/pandas-docs/stable/user_guide/indexing.html#returning-a-view-versus-a-copy\n",
      "\n"
     ]
    },
    {
     "name": "stdout",
     "output_type": "stream",
     "text": [
      "Removing dataset if pre-existing\n",
      "Copying training files:\n"
     ]
    },
    {
     "name": "stderr",
     "output_type": "stream",
     "text": [
      "Copying files: 100%|██████████| 2000/2000 [00:02<00:00, 938.74it/s] \n"
     ]
    },
    {
     "name": "stdout",
     "output_type": "stream",
     "text": [
      "Copying validation files:\n"
     ]
    },
    {
     "name": "stderr",
     "output_type": "stream",
     "text": [
      "Copying files: 100%|██████████| 400/400 [00:00<00:00, 739.16it/s] \n"
     ]
    },
    {
     "name": "stdout",
     "output_type": "stream",
     "text": [
      "Dataset 'weather_45_1000' created at C:\\github\\Third-Year-Project\\Intruder-Aircraft-Detection\\datasets\\Custom\\weather_45_1000\n",
      "Processing train labels in weather_45_1000:\n"
     ]
    },
    {
     "name": "stderr",
     "output_type": "stream",
     "text": [
      "Processing labels: 100%|██████████| 1000/1000 [00:03<00:00, 304.58it/s]\n"
     ]
    },
    {
     "name": "stdout",
     "output_type": "stream",
     "text": [
      "Processing valid labels in weather_45_1000:\n"
     ]
    },
    {
     "name": "stderr",
     "output_type": "stream",
     "text": [
      "Processing labels: 100%|██████████| 200/200 [00:00<00:00, 266.08it/s]\n"
     ]
    },
    {
     "name": "stdout",
     "output_type": "stream",
     "text": [
      "Label correction completed.\n"
     ]
    },
    {
     "name": "stderr",
     "output_type": "stream",
     "text": [
      "Removing existing directories/files: 100%|██████████| 3/3 [00:00<00:00, 2998.79it/s]\n",
      "Copying files: 100%|██████████| 1000/1000 [00:00<00:00, 1047.39it/s]\n",
      "Copying files: 100%|██████████| 1000/1000 [00:00<00:00, 1398.23it/s]\n",
      "Applying augmentations: 100%|██████████| 500/500 [00:04<00:00, 105.70it/s]\n"
     ]
    },
    {
     "name": "stdout",
     "output_type": "stream",
     "text": [
      "An error occurred: Expected x_min for bbox (-0.10308700000000004, -0.017604499999999967, 0.853993, 0.6204485, 2) to be in the range [0.0, 1.0], got -0.10308700000000004.\n",
      "An error occurred: Expected x_min for bbox (-0.101744, 0.561029, 0.612382, 1.037113, 1) to be in the range [0.0, 1.0], got -0.101744.\n",
      "An error occurred: Expected x_min for bbox (-0.02357100000000001, 0.633796, 0.577437, 1.034468, 2) to be in the range [0.0, 1.0], got -0.02357100000000001.\n",
      "An error occurred: Expected y_max for bbox (0.47840099999999997, 0.7528035000000001, 0.926549, 1.0515685000000001, 1) to be in the range [0.0, 1.0], got 1.0515685000000001.\n"
     ]
    },
    {
     "name": "stderr",
     "output_type": "stream",
     "text": [
      "Processing images:   3%|▎         | 27/1000 [00:01<00:58, 16.52it/s]"
     ]
    },
    {
     "name": "stdout",
     "output_type": "stream",
     "text": [
      "An error occurred with C:/github/Third-Year-Project/Intruder-Aircraft-Detection/datasets/Custom/weather_45_1000\\images\\train\\28141.jpg: Expected x_min for bbox (-0.101744, 0.561029, 0.612382, 1.037113, 1) to be in the range [0.0, 1.0], got -0.101744.\n"
     ]
    },
    {
     "name": "stderr",
     "output_type": "stream",
     "text": [
      "Processing images:  17%|█▋        | 173/1000 [00:07<00:24, 33.09it/s]"
     ]
    },
    {
     "name": "stdout",
     "output_type": "stream",
     "text": [
      "An error occurred with C:/github/Third-Year-Project/Intruder-Aircraft-Detection/datasets/Custom/weather_45_1000\\images\\train\\29013.jpg: Expected y_min for bbox (0.59587, -0.02172049999999999, 0.925314, 0.1979085, 1) to be in the range [0.0, 1.0], got -0.02172049999999999.\n"
     ]
    },
    {
     "name": "stderr",
     "output_type": "stream",
     "text": [
      "Processing images:  23%|██▎       | 234/1000 [00:09<00:22, 34.44it/s]"
     ]
    },
    {
     "name": "stdout",
     "output_type": "stream",
     "text": [
      "An error occurred with C:/github/Third-Year-Project/Intruder-Aircraft-Detection/datasets/Custom/weather_45_1000\\images\\train\\29335.jpg: Expected y_max for bbox (0.47840099999999997, 0.7528035000000001, 0.926549, 1.0515685000000001, 1) to be in the range [0.0, 1.0], got 1.0515685000000001.\n"
     ]
    },
    {
     "name": "stderr",
     "output_type": "stream",
     "text": [
      "Processing images:  61%|██████    | 611/1000 [00:20<00:11, 34.55it/s]"
     ]
    },
    {
     "name": "stdout",
     "output_type": "stream",
     "text": [
      "An error occurred with C:/github/Third-Year-Project/Intruder-Aircraft-Detection/datasets/Custom/weather_45_1000\\images\\train\\52310.jpg: Expected y_max for bbox (0.14462699999999998, 0.7264375000000001, 0.618055, 1.0420565000000002, 2) to be in the range [0.0, 1.0], got 1.0420565000000002.\n"
     ]
    },
    {
     "name": "stderr",
     "output_type": "stream",
     "text": [
      "Processing images:  76%|███████▌  | 755/1000 [00:25<00:07, 32.15it/s]"
     ]
    },
    {
     "name": "stdout",
     "output_type": "stream",
     "text": [
      "An error occurred with C:/github/Third-Year-Project/Intruder-Aircraft-Detection/datasets/Custom/weather_45_1000\\images\\train\\53138.jpg: Expected x_min for bbox (-0.10308700000000004, -0.017604499999999967, 0.853993, 0.6204485, 2) to be in the range [0.0, 1.0], got -0.10308700000000004.\n"
     ]
    },
    {
     "name": "stderr",
     "output_type": "stream",
     "text": [
      "Processing images:  78%|███████▊  | 779/1000 [00:25<00:06, 31.58it/s]"
     ]
    },
    {
     "name": "stdout",
     "output_type": "stream",
     "text": [
      "An error occurred with C:/github/Third-Year-Project/Intruder-Aircraft-Detection/datasets/Custom/weather_45_1000\\images\\train\\53248.jpg: Expected y_max for bbox (0.185026, 0.75632, 0.559774, 1.006152, 2) to be in the range [0.0, 1.0], got 1.006152.\n"
     ]
    },
    {
     "name": "stderr",
     "output_type": "stream",
     "text": [
      "Processing images:  90%|█████████ | 900/1000 [00:29<00:02, 34.66it/s]"
     ]
    },
    {
     "name": "stdout",
     "output_type": "stream",
     "text": [
      "An error occurred with C:/github/Third-Year-Project/Intruder-Aircraft-Detection/datasets/Custom/weather_45_1000\\images\\train\\53840.jpg: Expected x_min for bbox (-0.02357100000000001, 0.633796, 0.577437, 1.034468, 2) to be in the range [0.0, 1.0], got -0.02357100000000001.\n"
     ]
    },
    {
     "name": "stderr",
     "output_type": "stream",
     "text": [
      "Processing images: 100%|██████████| 1000/1000 [00:32<00:00, 30.89it/s]\n",
      "Processing images:   3%|▎         | 39/1496 [00:02<01:30, 16.19it/s]"
     ]
    },
    {
     "name": "stdout",
     "output_type": "stream",
     "text": [
      "An error occurred with C:/github/Third-Year-Project/Intruder-Aircraft-Detection/datasets/Custom/weather_45_1000\\images\\train-aug\\28141.jpg: Expected x_min for bbox (-0.101744, 0.561029, 0.612382, 1.037113, 1) to be in the range [0.0, 1.0], got -0.101744.\n"
     ]
    },
    {
     "name": "stderr",
     "output_type": "stream",
     "text": [
      "Processing images:  17%|█▋        | 254/1496 [00:12<00:37, 33.52it/s]"
     ]
    },
    {
     "name": "stdout",
     "output_type": "stream",
     "text": [
      "An error occurred with C:/github/Third-Year-Project/Intruder-Aircraft-Detection/datasets/Custom/weather_45_1000\\images\\train-aug\\29013.jpg: Expected y_min for bbox (0.59587, -0.02172049999999999, 0.925314, 0.1979085, 1) to be in the range [0.0, 1.0], got -0.02172049999999999.\n"
     ]
    },
    {
     "name": "stderr",
     "output_type": "stream",
     "text": [
      "Processing images:  23%|██▎       | 339/1496 [00:15<00:32, 35.38it/s]"
     ]
    },
    {
     "name": "stdout",
     "output_type": "stream",
     "text": [
      "An error occurred with C:/github/Third-Year-Project/Intruder-Aircraft-Detection/datasets/Custom/weather_45_1000\\images\\train-aug\\29335.jpg: Expected y_max for bbox (0.47840099999999997, 0.7528035000000001, 0.926549, 1.0515685000000001, 1) to be in the range [0.0, 1.0], got 1.0515685000000001.\n"
     ]
    },
    {
     "name": "stderr",
     "output_type": "stream",
     "text": [
      "Processing images:  60%|█████▉    | 895/1496 [00:31<00:17, 33.49it/s]"
     ]
    },
    {
     "name": "stdout",
     "output_type": "stream",
     "text": [
      "An error occurred with C:/github/Third-Year-Project/Intruder-Aircraft-Detection/datasets/Custom/weather_45_1000\\images\\train-aug\\52310.jpg: Expected y_max for bbox (0.14462699999999998, 0.7264375000000001, 0.618055, 1.0420565000000002, 2) to be in the range [0.0, 1.0], got 1.0420565000000002.\n"
     ]
    },
    {
     "name": "stderr",
     "output_type": "stream",
     "text": [
      "Processing images:  75%|███████▌  | 1124/1496 [00:38<00:10, 35.45it/s]"
     ]
    },
    {
     "name": "stdout",
     "output_type": "stream",
     "text": [
      "An error occurred with C:/github/Third-Year-Project/Intruder-Aircraft-Detection/datasets/Custom/weather_45_1000\\images\\train-aug\\53138.jpg: Expected x_min for bbox (-0.10308700000000004, -0.017604499999999967, 0.853993, 0.6204485, 2) to be in the range [0.0, 1.0], got -0.10308700000000004.\n"
     ]
    },
    {
     "name": "stderr",
     "output_type": "stream",
     "text": [
      "Processing images:  77%|███████▋  | 1157/1496 [00:39<00:09, 35.45it/s]"
     ]
    },
    {
     "name": "stdout",
     "output_type": "stream",
     "text": [
      "An error occurred with C:/github/Third-Year-Project/Intruder-Aircraft-Detection/datasets/Custom/weather_45_1000\\images\\train-aug\\53248.jpg: Expected y_max for bbox (0.185026, 0.75632, 0.559774, 1.006152, 2) to be in the range [0.0, 1.0], got 1.006152.\n"
     ]
    },
    {
     "name": "stderr",
     "output_type": "stream",
     "text": [
      "Processing images:  89%|████████▉ | 1338/1496 [00:45<00:04, 34.95it/s]"
     ]
    },
    {
     "name": "stdout",
     "output_type": "stream",
     "text": [
      "An error occurred with C:/github/Third-Year-Project/Intruder-Aircraft-Detection/datasets/Custom/weather_45_1000\\images\\train-aug\\53840.jpg: Expected x_min for bbox (-0.02357100000000001, 0.633796, 0.577437, 1.034468, 2) to be in the range [0.0, 1.0], got -0.02357100000000001.\n"
     ]
    },
    {
     "name": "stderr",
     "output_type": "stream",
     "text": [
      "Processing images: 100%|██████████| 1496/1496 [00:49<00:00, 30.06it/s]\n",
      "Processing images:  74%|███████▎  | 147/200 [00:04<00:01, 35.56it/s]"
     ]
    },
    {
     "name": "stdout",
     "output_type": "stream",
     "text": [
      "An error occurred with C:/github/Third-Year-Project/Intruder-Aircraft-Detection/datasets/Custom/weather_45_1000\\images\\valid\\52916.jpg: In YOLO format all coordinates must be float and in range (0, 1]\n"
     ]
    },
    {
     "name": "stderr",
     "output_type": "stream",
     "text": [
      "Processing images:  78%|███████▊  | 156/200 [00:05<00:01, 34.60it/s]"
     ]
    },
    {
     "name": "stdout",
     "output_type": "stream",
     "text": [
      "An error occurred with C:/github/Third-Year-Project/Intruder-Aircraft-Detection/datasets/Custom/weather_45_1000\\images\\valid\\52925.jpg: Expected x_min for bbox (-0.17107, 0.23527800000000004, 0.669476, 0.795642, 2) to be in the range [0.0, 1.0], got -0.17107.\n"
     ]
    },
    {
     "name": "stderr",
     "output_type": "stream",
     "text": [
      "Processing images: 100%|██████████| 200/200 [00:06<00:00, 30.74it/s]\n",
      "Moving images in train: 100%|██████████| 993/993 [00:03<00:00, 248.69it/s]\n",
      "Moving images in train-aug: 100%|██████████| 1489/1489 [00:05<00:00, 272.57it/s]\n",
      "Moving images in valid: 100%|██████████| 198/198 [00:00<00:00, 256.09it/s]\n"
     ]
    },
    {
     "name": "stdout",
     "output_type": "stream",
     "text": [
      "Found 993 files belonging to 3 classes.\n",
      "Found 1489 files belonging to 3 classes.\n",
      "Found 198 files belonging to 3 classes.\n",
      "ClearML Task: created new task id=b32d7a05758c4007a27e0b6e0d89201c\n",
      "ClearML results page: https://app.clear.ml/projects/b821b00eea6c40f7ade2438a3842e411/experiments/b32d7a05758c4007a27e0b6e0d89201c/output/log\n",
      "Training model...\n",
      "Epoch 1/30\n",
      "\u001b[1m32/32\u001b[0m \u001b[32m━━━━━━━━━━━━━━━━━━━━\u001b[0m\u001b[37m\u001b[0m \u001b[1m12s\u001b[0m 292ms/step - accuracy: 0.3229 - loss: 1.8431 - precision: 0.3519 - recall: 0.1278 - val_accuracy: 0.3384 - val_loss: 1.0986 - val_precision: 0.0000e+00 - val_recall: 0.0000e+00\n",
      "Epoch 2/30\n",
      "\u001b[1m32/32\u001b[0m \u001b[32m━━━━━━━━━━━━━━━━━━━━\u001b[0m\u001b[37m\u001b[0m \u001b[1m8s\u001b[0m 227ms/step - accuracy: 0.3176 - loss: 1.0988 - precision: 0.0000e+00 - recall: 0.0000e+00 - val_accuracy: 0.3384 - val_loss: 1.0986 - val_precision: 0.0000e+00 - val_recall: 0.0000e+00\n",
      "Epoch 3/30\n",
      "\u001b[1m32/32\u001b[0m \u001b[32m━━━━━━━━━━━━━━━━━━━━\u001b[0m\u001b[37m\u001b[0m \u001b[1m8s\u001b[0m 227ms/step - accuracy: 0.3108 - loss: 1.0991 - precision: 0.0000e+00 - recall: 0.0000e+00 - val_accuracy: 0.3384 - val_loss: 1.0985 - val_precision: 0.0000e+00 - val_recall: 0.0000e+00\n",
      "Epoch 4/30\n",
      "\u001b[1m32/32\u001b[0m \u001b[32m━━━━━━━━━━━━━━━━━━━━\u001b[0m\u001b[37m\u001b[0m \u001b[1m7s\u001b[0m 225ms/step - accuracy: 0.3001 - loss: 1.0988 - precision: 0.0000e+00 - recall: 0.0000e+00 - val_accuracy: 0.3384 - val_loss: 1.0984 - val_precision: 0.0000e+00 - val_recall: 0.0000e+00\n",
      "Epoch 5/30\n",
      "\u001b[1m32/32\u001b[0m \u001b[32m━━━━━━━━━━━━━━━━━━━━\u001b[0m\u001b[37m\u001b[0m \u001b[1m8s\u001b[0m 227ms/step - accuracy: 0.3387 - loss: 1.0986 - precision: 0.0000e+00 - recall: 0.0000e+00 - val_accuracy: 0.3384 - val_loss: 1.0984 - val_precision: 0.0000e+00 - val_recall: 0.0000e+00\n",
      "Epoch 6/30\n",
      "\u001b[1m32/32\u001b[0m \u001b[32m━━━━━━━━━━━━━━━━━━━━\u001b[0m\u001b[37m\u001b[0m \u001b[1m8s\u001b[0m 237ms/step - accuracy: 0.3430 - loss: 1.0989 - precision: 0.0000e+00 - recall: 0.0000e+00 - val_accuracy: 0.3384 - val_loss: 1.0984 - val_precision: 0.0000e+00 - val_recall: 0.0000e+00\n",
      "Epoch 7/30\n",
      "\u001b[1m32/32\u001b[0m \u001b[32m━━━━━━━━━━━━━━━━━━━━\u001b[0m\u001b[37m\u001b[0m \u001b[1m9s\u001b[0m 278ms/step - accuracy: 0.3523 - loss: 1.0988 - precision: 0.0505 - recall: 1.5580e-04 - val_accuracy: 0.3384 - val_loss: 1.0984 - val_precision: 0.0000e+00 - val_recall: 0.0000e+00\n",
      "Epoch 8/30\n",
      "\u001b[1m32/32\u001b[0m \u001b[32m━━━━━━━━━━━━━━━━━━━━\u001b[0m\u001b[37m\u001b[0m \u001b[1m8s\u001b[0m 227ms/step - accuracy: 0.3290 - loss: 1.0993 - precision: 0.0000e+00 - recall: 0.0000e+00 - val_accuracy: 0.3384 - val_loss: 1.0983 - val_precision: 0.0000e+00 - val_recall: 0.0000e+00\n",
      "Epoch 9/30\n",
      "\u001b[1m32/32\u001b[0m \u001b[32m━━━━━━━━━━━━━━━━━━━━\u001b[0m\u001b[37m\u001b[0m \u001b[1m8s\u001b[0m 227ms/step - accuracy: 0.3477 - loss: 1.0995 - precision: 0.0000e+00 - recall: 0.0000e+00 - val_accuracy: 0.3384 - val_loss: 1.0984 - val_precision: 0.0000e+00 - val_recall: 0.0000e+00\n",
      "Epoch 10/30\n",
      "\u001b[1m32/32\u001b[0m \u001b[32m━━━━━━━━━━━━━━━━━━━━\u001b[0m\u001b[37m\u001b[0m \u001b[1m7s\u001b[0m 225ms/step - accuracy: 0.3340 - loss: 1.0992 - precision: 0.0000e+00 - recall: 0.0000e+00 - val_accuracy: 0.3485 - val_loss: 1.0983 - val_precision: 0.0000e+00 - val_recall: 0.0000e+00\n",
      "Epoch 11/30\n",
      "\u001b[1m32/32\u001b[0m \u001b[32m━━━━━━━━━━━━━━━━━━━━\u001b[0m\u001b[37m\u001b[0m \u001b[1m7s\u001b[0m 225ms/step - accuracy: 0.3230 - loss: 1.0989 - precision: 0.0000e+00 - recall: 0.0000e+00 - val_accuracy: 0.3384 - val_loss: 1.0983 - val_precision: 0.0000e+00 - val_recall: 0.0000e+00\n",
      "Epoch 12/30\n",
      "\u001b[1m32/32\u001b[0m \u001b[32m━━━━━━━━━━━━━━━━━━━━\u001b[0m\u001b[37m\u001b[0m \u001b[1m8s\u001b[0m 229ms/step - accuracy: 0.3246 - loss: 1.0991 - precision: 0.0000e+00 - recall: 0.0000e+00 - val_accuracy: 0.3384 - val_loss: 1.0983 - val_precision: 0.0000e+00 - val_recall: 0.0000e+00\n",
      "Epoch 13/30\n",
      "\u001b[1m32/32\u001b[0m \u001b[32m━━━━━━━━━━━━━━━━━━━━\u001b[0m\u001b[37m\u001b[0m \u001b[1m8s\u001b[0m 230ms/step - accuracy: 0.3145 - loss: 1.0992 - precision: 0.0000e+00 - recall: 0.0000e+00 - val_accuracy: 0.3384 - val_loss: 1.0982 - val_precision: 0.0000e+00 - val_recall: 0.0000e+00\n",
      "Epoch 14/30\n",
      "\u001b[1m32/32\u001b[0m \u001b[32m━━━━━━━━━━━━━━━━━━━━\u001b[0m\u001b[37m\u001b[0m \u001b[1m7s\u001b[0m 225ms/step - accuracy: 0.3388 - loss: 1.0992 - precision: 0.0000e+00 - recall: 0.0000e+00 - val_accuracy: 0.3384 - val_loss: 1.0981 - val_precision: 0.0000e+00 - val_recall: 0.0000e+00\n",
      "Epoch 15/30\n",
      "\u001b[1m32/32\u001b[0m \u001b[32m━━━━━━━━━━━━━━━━━━━━\u001b[0m\u001b[37m\u001b[0m \u001b[1m8s\u001b[0m 226ms/step - accuracy: 0.3228 - loss: 1.0987 - precision: 0.0000e+00 - recall: 0.0000e+00 - val_accuracy: 0.4343 - val_loss: 1.0978 - val_precision: 0.0000e+00 - val_recall: 0.0000e+00\n",
      "Epoch 16/30\n",
      "\u001b[1m32/32\u001b[0m \u001b[32m━━━━━━━━━━━━━━━━━━━━\u001b[0m\u001b[37m\u001b[0m \u001b[1m8s\u001b[0m 228ms/step - accuracy: 0.3357 - loss: 1.0983 - precision: 0.0000e+00 - recall: 0.0000e+00 - val_accuracy: 0.3384 - val_loss: 1.0975 - val_precision: 0.0000e+00 - val_recall: 0.0000e+00\n",
      "Epoch 17/30\n",
      "\u001b[1m32/32\u001b[0m \u001b[32m━━━━━━━━━━━━━━━━━━━━\u001b[0m\u001b[37m\u001b[0m \u001b[1m8s\u001b[0m 227ms/step - accuracy: 0.3172 - loss: 1.0991 - precision: 0.0000e+00 - recall: 0.0000e+00 - val_accuracy: 0.3232 - val_loss: 1.1187 - val_precision: 0.0000e+00 - val_recall: 0.0000e+00\n",
      "Epoch 18/30\n",
      "\u001b[1m32/32\u001b[0m \u001b[32m━━━━━━━━━━━━━━━━━━━━\u001b[0m\u001b[37m\u001b[0m \u001b[1m8s\u001b[0m 227ms/step - accuracy: 0.3272 - loss: 1.1252 - precision: 0.2352 - recall: 0.0246 - val_accuracy: 0.3384 - val_loss: 1.0985 - val_precision: 0.0000e+00 - val_recall: 0.0000e+00\n",
      "Epoch 19/30\n",
      "\u001b[1m32/32\u001b[0m \u001b[32m━━━━━━━━━━━━━━━━━━━━\u001b[0m\u001b[37m\u001b[0m \u001b[1m8s\u001b[0m 227ms/step - accuracy: 0.3445 - loss: 1.0990 - precision: 0.0000e+00 - recall: 0.0000e+00 - val_accuracy: 0.3384 - val_loss: 1.0983 - val_precision: 0.0000e+00 - val_recall: 0.0000e+00\n",
      "Epoch 20/30\n",
      "\u001b[1m32/32\u001b[0m \u001b[32m━━━━━━━━━━━━━━━━━━━━\u001b[0m\u001b[37m\u001b[0m \u001b[1m8s\u001b[0m 227ms/step - accuracy: 0.3953 - loss: 1.0984 - precision: 0.0000e+00 - recall: 0.0000e+00 - val_accuracy: 0.3384 - val_loss: 1.0983 - val_precision: 0.0000e+00 - val_recall: 0.0000e+00\n",
      "Epoch 21/30\n",
      "\u001b[1m32/32\u001b[0m \u001b[32m━━━━━━━━━━━━━━━━━━━━\u001b[0m\u001b[37m\u001b[0m \u001b[1m8s\u001b[0m 227ms/step - accuracy: 0.3125 - loss: 1.0995 - precision: 0.0000e+00 - recall: 0.0000e+00 - val_accuracy: 0.3384 - val_loss: 1.0984 - val_precision: 0.0000e+00 - val_recall: 0.0000e+00\n",
      "Epoch 22/30\n",
      "\u001b[1m32/32\u001b[0m \u001b[32m━━━━━━━━━━━━━━━━━━━━\u001b[0m\u001b[37m\u001b[0m \u001b[1m7s\u001b[0m 224ms/step - accuracy: 0.3186 - loss: 1.0992 - precision: 0.0000e+00 - recall: 0.0000e+00 - val_accuracy: 0.3384 - val_loss: 1.0983 - val_precision: 0.0000e+00 - val_recall: 0.0000e+00\n",
      "Epoch 23/30\n",
      "\u001b[1m32/32\u001b[0m \u001b[32m━━━━━━━━━━━━━━━━━━━━\u001b[0m\u001b[37m\u001b[0m \u001b[1m8s\u001b[0m 228ms/step - accuracy: 0.3270 - loss: 1.0987 - precision: 0.0000e+00 - recall: 0.0000e+00 - val_accuracy: 0.3384 - val_loss: 1.0982 - val_precision: 0.0000e+00 - val_recall: 0.0000e+00\n",
      "Epoch 24/30\n",
      "\u001b[1m32/32\u001b[0m \u001b[32m━━━━━━━━━━━━━━━━━━━━\u001b[0m\u001b[37m\u001b[0m \u001b[1m8s\u001b[0m 226ms/step - accuracy: 0.3080 - loss: 1.0990 - precision: 0.0000e+00 - recall: 0.0000e+00 - val_accuracy: 0.3384 - val_loss: 1.0978 - val_precision: 0.0000e+00 - val_recall: 0.0000e+00\n",
      "Epoch 25/30\n",
      "\u001b[1m32/32\u001b[0m \u001b[32m━━━━━━━━━━━━━━━━━━━━\u001b[0m\u001b[37m\u001b[0m \u001b[1m8s\u001b[0m 227ms/step - accuracy: 0.3251 - loss: 1.0981 - precision: 0.0000e+00 - recall: 0.0000e+00 - val_accuracy: 0.3384 - val_loss: 1.0967 - val_precision: 0.0000e+00 - val_recall: 0.0000e+00\n",
      "Epoch 26/30\n",
      "\u001b[1m32/32\u001b[0m \u001b[32m━━━━━━━━━━━━━━━━━━━━\u001b[0m\u001b[37m\u001b[0m \u001b[1m7s\u001b[0m 224ms/step - accuracy: 0.3232 - loss: 1.0998 - precision: 0.0000e+00 - recall: 0.0000e+00 - val_accuracy: 0.3232 - val_loss: 1.0984 - val_precision: 0.0000e+00 - val_recall: 0.0000e+00\n",
      "Epoch 27/30\n",
      "\u001b[1m32/32\u001b[0m \u001b[32m━━━━━━━━━━━━━━━━━━━━\u001b[0m\u001b[37m\u001b[0m \u001b[1m8s\u001b[0m 226ms/step - accuracy: 0.3294 - loss: 1.0991 - precision: 0.0000e+00 - recall: 0.0000e+00 - val_accuracy: 0.3485 - val_loss: 1.0976 - val_precision: 0.0000e+00 - val_recall: 0.0000e+00\n",
      "Epoch 28/30\n",
      "\u001b[1m32/32\u001b[0m \u001b[32m━━━━━━━━━━━━━━━━━━━━\u001b[0m\u001b[37m\u001b[0m \u001b[1m8s\u001b[0m 225ms/step - accuracy: 0.3388 - loss: 1.0975 - precision: 0.0000e+00 - recall: 0.0000e+00 - val_accuracy: 0.3535 - val_loss: 1.0958 - val_precision: 0.0000e+00 - val_recall: 0.0000e+00\n",
      "Epoch 29/30\n",
      "\u001b[1m32/32\u001b[0m \u001b[32m━━━━━━━━━━━━━━━━━━━━\u001b[0m\u001b[37m\u001b[0m \u001b[1m8s\u001b[0m 229ms/step - accuracy: 0.3251 - loss: 1.1023 - precision: 0.1333 - recall: 0.0020 - val_accuracy: 0.3384 - val_loss: 1.0975 - val_precision: 0.0000e+00 - val_recall: 0.0000e+00\n",
      "Epoch 30/30\n",
      "\u001b[1m32/32\u001b[0m \u001b[32m━━━━━━━━━━━━━━━━━━━━\u001b[0m\u001b[37m\u001b[0m \u001b[1m7s\u001b[0m 225ms/step - accuracy: 0.3273 - loss: 1.0983 - precision: 0.0000e+00 - recall: 0.0000e+00 - val_accuracy: 0.4293 - val_loss: 1.0973 - val_precision: 0.0000e+00 - val_recall: 0.0000e+00\n",
      "Predicting on validation set...\n",
      "\u001b[1m7/7\u001b[0m \u001b[32m━━━━━━━━━━━━━━━━━━━━\u001b[0m\u001b[37m\u001b[0m \u001b[1m1s\u001b[0m 54ms/step\n"
     ]
    },
    {
     "name": "stderr",
     "output_type": "stream",
     "text": [
      "c:\\Users\\tomev\\anaconda3\\envs\\tf-cpu\\Lib\\site-packages\\sklearn\\metrics\\_classification.py:1344: UndefinedMetricWarning:\n",
      "\n",
      "Precision and F-score are ill-defined and being set to 0.0 in labels with no predicted samples. Use `zero_division` parameter to control this behavior.\n",
      "\n",
      "c:\\Users\\tomev\\anaconda3\\envs\\tf-cpu\\Lib\\site-packages\\sklearn\\metrics\\_classification.py:1344: UndefinedMetricWarning:\n",
      "\n",
      "Precision and F-score are ill-defined and being set to 0.0 in labels with no predicted samples. Use `zero_division` parameter to control this behavior.\n",
      "\n",
      "c:\\Users\\tomev\\anaconda3\\envs\\tf-cpu\\Lib\\site-packages\\sklearn\\metrics\\_classification.py:1344: UndefinedMetricWarning:\n",
      "\n",
      "Precision and F-score are ill-defined and being set to 0.0 in labels with no predicted samples. Use `zero_division` parameter to control this behavior.\n",
      "\n"
     ]
    },
    {
     "name": "stdout",
     "output_type": "stream",
     "text": [
      "Sending metrics to clearML...\n",
      "done\n",
      "ClearML Task: created new task id=0f4cbff3988344a3a02c163b23b5beba\n",
      "ClearML results page: https://app.clear.ml/projects/b821b00eea6c40f7ade2438a3842e411/experiments/0f4cbff3988344a3a02c163b23b5beba/output/log\n",
      "Training model...\n",
      "Epoch 1/30\n",
      "\u001b[1m47/47\u001b[0m \u001b[32m━━━━━━━━━━━━━━━━━━━━\u001b[0m\u001b[37m\u001b[0m \u001b[1m15s\u001b[0m 274ms/step - accuracy: 0.3555 - loss: 1.5750 - precision: 0.3917 - recall: 0.1205 - val_accuracy: 0.3384 - val_loss: 1.0986 - val_precision: 0.0000e+00 - val_recall: 0.0000e+00\n",
      "Epoch 2/30\n",
      "\u001b[1m47/47\u001b[0m \u001b[32m━━━━━━━━━━━━━━━━━━━━\u001b[0m\u001b[37m\u001b[0m \u001b[1m11s\u001b[0m 230ms/step - accuracy: 0.3390 - loss: 1.0986 - precision: 0.0000e+00 - recall: 0.0000e+00 - val_accuracy: 0.3232 - val_loss: 1.0988 - val_precision: 0.0000e+00 - val_recall: 0.0000e+00\n",
      "Epoch 3/30\n",
      "\u001b[1m47/47\u001b[0m \u001b[32m━━━━━━━━━━━━━━━━━━━━\u001b[0m\u001b[37m\u001b[0m \u001b[1m11s\u001b[0m 226ms/step - accuracy: 0.3438 - loss: 1.0984 - precision: 0.0000e+00 - recall: 0.0000e+00 - val_accuracy: 0.3232 - val_loss: 1.0988 - val_precision: 0.0000e+00 - val_recall: 0.0000e+00\n",
      "Epoch 4/30\n",
      "\u001b[1m47/47\u001b[0m \u001b[32m━━━━━━━━━━━━━━━━━━━━\u001b[0m\u001b[37m\u001b[0m \u001b[1m11s\u001b[0m 233ms/step - accuracy: 0.3374 - loss: 1.0985 - precision: 0.0000e+00 - recall: 0.0000e+00 - val_accuracy: 0.3232 - val_loss: 1.0986 - val_precision: 0.0000e+00 - val_recall: 0.0000e+00\n",
      "Epoch 5/30\n",
      "\u001b[1m47/47\u001b[0m \u001b[32m━━━━━━━━━━━━━━━━━━━━\u001b[0m\u001b[37m\u001b[0m \u001b[1m13s\u001b[0m 263ms/step - accuracy: 0.3391 - loss: 1.0984 - precision: 0.0000e+00 - recall: 0.0000e+00 - val_accuracy: 0.3232 - val_loss: 1.0989 - val_precision: 0.0000e+00 - val_recall: 0.0000e+00\n",
      "Epoch 6/30\n",
      "\u001b[1m47/47\u001b[0m \u001b[32m━━━━━━━━━━━━━━━━━━━━\u001b[0m\u001b[37m\u001b[0m \u001b[1m11s\u001b[0m 227ms/step - accuracy: 0.3439 - loss: 1.0980 - precision: 0.0000e+00 - recall: 0.0000e+00 - val_accuracy: 0.3232 - val_loss: 1.0977 - val_precision: 0.0000e+00 - val_recall: 0.0000e+00\n",
      "Epoch 7/30\n",
      "\u001b[1m47/47\u001b[0m \u001b[32m━━━━━━━━━━━━━━━━━━━━\u001b[0m\u001b[37m\u001b[0m \u001b[1m11s\u001b[0m 227ms/step - accuracy: 0.3351 - loss: 1.1019 - precision: 0.0000e+00 - recall: 0.0000e+00 - val_accuracy: 0.3232 - val_loss: 1.0992 - val_precision: 0.0000e+00 - val_recall: 0.0000e+00\n",
      "Epoch 8/30\n",
      "\u001b[1m47/47\u001b[0m \u001b[32m━━━━━━━━━━━━━━━━━━━━\u001b[0m\u001b[37m\u001b[0m \u001b[1m11s\u001b[0m 226ms/step - accuracy: 0.3472 - loss: 1.0981 - precision: 0.0000e+00 - recall: 0.0000e+00 - val_accuracy: 0.3232 - val_loss: 1.0985 - val_precision: 0.0000e+00 - val_recall: 0.0000e+00\n",
      "Epoch 9/30\n",
      "\u001b[1m47/47\u001b[0m \u001b[32m━━━━━━━━━━━━━━━━━━━━\u001b[0m\u001b[37m\u001b[0m \u001b[1m11s\u001b[0m 227ms/step - accuracy: 0.3520 - loss: 1.0973 - precision: 0.0000e+00 - recall: 0.0000e+00 - val_accuracy: 0.3232 - val_loss: 1.0978 - val_precision: 0.0000e+00 - val_recall: 0.0000e+00\n",
      "Epoch 10/30\n",
      "\u001b[1m47/47\u001b[0m \u001b[32m━━━━━━━━━━━━━━━━━━━━\u001b[0m\u001b[37m\u001b[0m \u001b[1m11s\u001b[0m 227ms/step - accuracy: 0.3494 - loss: 1.0980 - precision: 0.0000e+00 - recall: 0.0000e+00 - val_accuracy: 0.3232 - val_loss: 1.0970 - val_precision: 0.0000e+00 - val_recall: 0.0000e+00\n",
      "Epoch 11/30\n",
      "\u001b[1m47/47\u001b[0m \u001b[32m━━━━━━━━━━━━━━━━━━━━\u001b[0m\u001b[37m\u001b[0m \u001b[1m11s\u001b[0m 226ms/step - accuracy: 0.3521 - loss: 1.0983 - precision: 0.0000e+00 - recall: 0.0000e+00 - val_accuracy: 0.3737 - val_loss: 1.0967 - val_precision: 0.0000e+00 - val_recall: 0.0000e+00\n",
      "Epoch 12/30\n",
      "\u001b[1m47/47\u001b[0m \u001b[32m━━━━━━━━━━━━━━━━━━━━\u001b[0m\u001b[37m\u001b[0m \u001b[1m11s\u001b[0m 226ms/step - accuracy: 0.3584 - loss: 1.0954 - precision: 0.0000e+00 - recall: 0.0000e+00 - val_accuracy: 0.3535 - val_loss: 1.0902 - val_precision: 0.0000e+00 - val_recall: 0.0000e+00\n",
      "Epoch 13/30\n",
      "\u001b[1m47/47\u001b[0m \u001b[32m━━━━━━━━━━━━━━━━━━━━\u001b[0m\u001b[37m\u001b[0m \u001b[1m11s\u001b[0m 225ms/step - accuracy: 0.3578 - loss: 1.0962 - precision: 0.0000e+00 - recall: 0.0000e+00 - val_accuracy: 0.3636 - val_loss: 1.0888 - val_precision: 0.0000e+00 - val_recall: 0.0000e+00\n",
      "Epoch 14/30\n",
      "\u001b[1m47/47\u001b[0m \u001b[32m━━━━━━━━━━━━━━━━━━━━\u001b[0m\u001b[37m\u001b[0m \u001b[1m11s\u001b[0m 226ms/step - accuracy: 0.3966 - loss: 1.0898 - precision: 0.0000e+00 - recall: 0.0000e+00 - val_accuracy: 0.4141 - val_loss: 1.0834 - val_precision: 0.0000e+00 - val_recall: 0.0000e+00\n",
      "Epoch 15/30\n",
      "\u001b[1m47/47\u001b[0m \u001b[32m━━━━━━━━━━━━━━━━━━━━\u001b[0m\u001b[37m\u001b[0m \u001b[1m11s\u001b[0m 226ms/step - accuracy: 0.4194 - loss: 1.0846 - precision: 0.0542 - recall: 4.6828e-04 - val_accuracy: 0.4697 - val_loss: 1.0586 - val_precision: 0.0000e+00 - val_recall: 0.0000e+00\n",
      "Epoch 16/30\n",
      "\u001b[1m47/47\u001b[0m \u001b[32m━━━━━━━━━━━━━━━━━━━━\u001b[0m\u001b[37m\u001b[0m \u001b[1m11s\u001b[0m 226ms/step - accuracy: 0.4575 - loss: 1.0608 - precision: 0.4638 - recall: 0.0282 - val_accuracy: 0.4141 - val_loss: 1.0686 - val_precision: 0.0000e+00 - val_recall: 0.0000e+00\n",
      "Epoch 17/30\n",
      "\u001b[1m47/47\u001b[0m \u001b[32m━━━━━━━━━━━━━━━━━━━━\u001b[0m\u001b[37m\u001b[0m \u001b[1m11s\u001b[0m 228ms/step - accuracy: 0.4245 - loss: 1.0725 - precision: 0.3527 - recall: 0.0030 - val_accuracy: 0.4949 - val_loss: 1.0523 - val_precision: 0.5000 - val_recall: 0.0202\n",
      "Epoch 18/30\n",
      "\u001b[1m47/47\u001b[0m \u001b[32m━━━━━━━━━━━━━━━━━━━━\u001b[0m\u001b[37m\u001b[0m \u001b[1m11s\u001b[0m 228ms/step - accuracy: 0.4399 - loss: 1.0596 - precision: 0.5506 - recall: 0.0541 - val_accuracy: 0.4192 - val_loss: 1.0624 - val_precision: 0.5000 - val_recall: 0.0152\n",
      "Epoch 19/30\n",
      "\u001b[1m47/47\u001b[0m \u001b[32m━━━━━━━━━━━━━━━━━━━━\u001b[0m\u001b[37m\u001b[0m \u001b[1m11s\u001b[0m 226ms/step - accuracy: 0.4477 - loss: 1.0569 - precision: 0.6063 - recall: 0.0254 - val_accuracy: 0.4596 - val_loss: 1.0552 - val_precision: 0.7500 - val_recall: 0.0152\n",
      "Epoch 20/30\n",
      "\u001b[1m47/47\u001b[0m \u001b[32m━━━━━━━━━━━━━━━━━━━━\u001b[0m\u001b[37m\u001b[0m \u001b[1m11s\u001b[0m 227ms/step - accuracy: 0.4343 - loss: 1.0564 - precision: 0.5620 - recall: 0.0468 - val_accuracy: 0.4747 - val_loss: 1.0510 - val_precision: 0.5000 - val_recall: 0.0152\n",
      "Epoch 21/30\n",
      "\u001b[1m47/47\u001b[0m \u001b[32m━━━━━━━━━━━━━━━━━━━━\u001b[0m\u001b[37m\u001b[0m \u001b[1m11s\u001b[0m 226ms/step - accuracy: 0.4396 - loss: 1.1721 - precision: 0.5360 - recall: 0.0489 - val_accuracy: 0.4343 - val_loss: 1.0595 - val_precision: 0.5556 - val_recall: 0.1768\n",
      "Epoch 22/30\n",
      "\u001b[1m47/47\u001b[0m \u001b[32m━━━━━━━━━━━━━━━━━━━━\u001b[0m\u001b[37m\u001b[0m \u001b[1m11s\u001b[0m 227ms/step - accuracy: 0.4430 - loss: 1.0397 - precision: 0.5409 - recall: 0.1118 - val_accuracy: 0.4596 - val_loss: 1.0367 - val_precision: 0.6410 - val_recall: 0.1263\n",
      "Epoch 23/30\n",
      "\u001b[1m47/47\u001b[0m \u001b[32m━━━━━━━━━━━━━━━━━━━━\u001b[0m\u001b[37m\u001b[0m \u001b[1m11s\u001b[0m 225ms/step - accuracy: 0.4432 - loss: 1.0412 - precision: 0.5775 - recall: 0.1082 - val_accuracy: 0.4495 - val_loss: 1.0412 - val_precision: 0.5932 - val_recall: 0.1768\n",
      "Epoch 24/30\n",
      "\u001b[1m47/47\u001b[0m \u001b[32m━━━━━━━━━━━━━━━━━━━━\u001b[0m\u001b[37m\u001b[0m \u001b[1m11s\u001b[0m 226ms/step - accuracy: 0.4784 - loss: 1.0249 - precision: 0.5781 - recall: 0.1409 - val_accuracy: 0.4848 - val_loss: 1.0013 - val_precision: 0.6491 - val_recall: 0.1869\n",
      "Epoch 25/30\n",
      "\u001b[1m47/47\u001b[0m \u001b[32m━━━━━━━━━━━━━━━━━━━━\u001b[0m\u001b[37m\u001b[0m \u001b[1m11s\u001b[0m 226ms/step - accuracy: 0.5651 - loss: 0.9278 - precision: 0.6971 - recall: 0.3050 - val_accuracy: 0.7222 - val_loss: 0.7684 - val_precision: 0.7817 - val_recall: 0.5606\n",
      "Epoch 26/30\n",
      "\u001b[1m47/47\u001b[0m \u001b[32m━━━━━━━━━━━━━━━━━━━━\u001b[0m\u001b[37m\u001b[0m \u001b[1m11s\u001b[0m 227ms/step - accuracy: 0.7072 - loss: 0.7340 - precision: 0.7595 - recall: 0.5568 - val_accuracy: 0.7121 - val_loss: 0.7230 - val_precision: 0.7333 - val_recall: 0.6667\n",
      "Epoch 27/30\n",
      "\u001b[1m47/47\u001b[0m \u001b[32m━━━━━━━━━━━━━━━━━━━━\u001b[0m\u001b[37m\u001b[0m \u001b[1m11s\u001b[0m 228ms/step - accuracy: 0.6535 - loss: 0.7458 - precision: 0.7622 - recall: 0.5028 - val_accuracy: 0.3333 - val_loss: 1.0948 - val_precision: 0.0000e+00 - val_recall: 0.0000e+00\n",
      "Epoch 28/30\n",
      "\u001b[1m47/47\u001b[0m \u001b[32m━━━━━━━━━━━━━━━━━━━━\u001b[0m\u001b[37m\u001b[0m \u001b[1m11s\u001b[0m 224ms/step - accuracy: 0.3351 - loss: 1.0949 - precision: 0.0000e+00 - recall: 0.0000e+00 - val_accuracy: 0.3737 - val_loss: 1.0879 - val_precision: 0.0000e+00 - val_recall: 0.0000e+00\n",
      "Epoch 29/30\n",
      "\u001b[1m47/47\u001b[0m \u001b[32m━━━━━━━━━━━━━━━━━━━━\u001b[0m\u001b[37m\u001b[0m \u001b[1m11s\u001b[0m 226ms/step - accuracy: 0.4084 - loss: 1.0869 - precision: 0.0000e+00 - recall: 0.0000e+00 - val_accuracy: 0.4091 - val_loss: 1.0840 - val_precision: 0.0000e+00 - val_recall: 0.0000e+00\n",
      "Epoch 30/30\n",
      "\u001b[1m47/47\u001b[0m \u001b[32m━━━━━━━━━━━━━━━━━━━━\u001b[0m\u001b[37m\u001b[0m \u001b[1m11s\u001b[0m 226ms/step - accuracy: 0.4020 - loss: 1.0815 - precision: 0.2448 - recall: 0.0053 - val_accuracy: 0.4040 - val_loss: 1.0796 - val_precision: 0.0000e+00 - val_recall: 0.0000e+00\n",
      "Predicting on validation set...\n",
      "\u001b[1m7/7\u001b[0m \u001b[32m━━━━━━━━━━━━━━━━━━━━\u001b[0m\u001b[37m\u001b[0m \u001b[1m1s\u001b[0m 52ms/step\n",
      "Sending metrics to clearML...\n",
      "done\n"
     ]
    }
   ],
   "source": [
    "# Horizontal flip augmentation\n",
    "\n",
    "task_name = 'hf'\n",
    "sub_project_name = 'H_FLIP'\n",
    "\n",
    "augmentation_metadata = {\n",
    "        'methods': {        \n",
    "            'flip': {\n",
    "                'parameters': {\n",
    "                    'orientation': 'h',  # Could be 'h' for horizontal or 'v' for vertical\n",
    "                    'p': 1.0  # Probability of applying the augmentation\n",
    "                },\n",
    "                'apply_to_percentage': 0.5  # 50% of the training images\n",
    "            }        \n",
    "        }\n",
    "    }\n",
    "\n",
    "for i in range(N):\n",
    "    RUN = i + 1\n",
    "    try:\n",
    "        print(f\"Starting RUN: {RUN}\")\n",
    "        main(RUN, augmentation_metadata, task_name, sub_project_name, epochs, train_size, w1, w2)\n",
    "    except Exception as e:\n",
    "        print(f\"Error in RUN: {RUN}\")\n",
    "        print(e)\n",
    "    finally:\n",
    "        clear_output(wait=True)  # Clear the output to avoid scrolling\n",
    "        gc.collect()  # Collect garbage to avoid memory leaks\n"
   ]
  },
  {
   "cell_type": "code",
   "execution_count": 24,
   "metadata": {},
   "outputs": [
    {
     "name": "stdout",
     "output_type": "stream",
     "text": [
      "Starting RUN: 5\n",
      "Seed:  1515288570\n"
     ]
    },
    {
     "name": "stderr",
     "output_type": "stream",
     "text": [
      "c:\\github\\Third-Year-Project\\Intruder-Aircraft-Detection\\main\\tl_clf.py:79: SettingWithCopyWarning:\n",
      "\n",
      "\n",
      "A value is trying to be set on a copy of a slice from a DataFrame.\n",
      "Try using .loc[row_indexer,col_indexer] = value instead\n",
      "\n",
      "See the caveats in the documentation: https://pandas.pydata.org/pandas-docs/stable/user_guide/indexing.html#returning-a-view-versus-a-copy\n",
      "\n",
      "c:\\github\\Third-Year-Project\\Intruder-Aircraft-Detection\\main\\tl_clf.py:80: SettingWithCopyWarning:\n",
      "\n",
      "\n",
      "A value is trying to be set on a copy of a slice from a DataFrame.\n",
      "Try using .loc[row_indexer,col_indexer] = value instead\n",
      "\n",
      "See the caveats in the documentation: https://pandas.pydata.org/pandas-docs/stable/user_guide/indexing.html#returning-a-view-versus-a-copy\n",
      "\n"
     ]
    },
    {
     "name": "stdout",
     "output_type": "stream",
     "text": [
      "Removing dataset if pre-existing\n",
      "Copying training files:\n"
     ]
    },
    {
     "name": "stderr",
     "output_type": "stream",
     "text": [
      "Copying files: 100%|██████████| 2000/2000 [00:01<00:00, 1718.53it/s]\n"
     ]
    },
    {
     "name": "stdout",
     "output_type": "stream",
     "text": [
      "Copying validation files:\n"
     ]
    },
    {
     "name": "stderr",
     "output_type": "stream",
     "text": [
      "Copying files: 100%|██████████| 400/400 [00:00<00:00, 1860.06it/s]\n"
     ]
    },
    {
     "name": "stdout",
     "output_type": "stream",
     "text": [
      "Dataset 'weather_45_1000' created at C:\\github\\Third-Year-Project\\Intruder-Aircraft-Detection\\datasets\\Custom\\weather_45_1000\n",
      "Processing train labels in weather_45_1000:\n"
     ]
    },
    {
     "name": "stderr",
     "output_type": "stream",
     "text": [
      "Processing labels: 100%|██████████| 1000/1000 [00:03<00:00, 272.82it/s]\n"
     ]
    },
    {
     "name": "stdout",
     "output_type": "stream",
     "text": [
      "Processing valid labels in weather_45_1000:\n"
     ]
    },
    {
     "name": "stderr",
     "output_type": "stream",
     "text": [
      "Processing labels: 100%|██████████| 200/200 [00:00<00:00, 247.76it/s]\n"
     ]
    },
    {
     "name": "stdout",
     "output_type": "stream",
     "text": [
      "Label correction completed.\n"
     ]
    },
    {
     "name": "stderr",
     "output_type": "stream",
     "text": [
      "Removing existing directories/files: 100%|██████████| 3/3 [00:00<00:00, 6011.90it/s]\n",
      "Copying files: 100%|██████████| 1000/1000 [00:01<00:00, 993.77it/s]\n",
      "Copying files: 100%|██████████| 1000/1000 [00:00<00:00, 1429.21it/s]\n",
      "Applying augmentations: 100%|██████████| 500/500 [00:04<00:00, 104.99it/s]\n"
     ]
    },
    {
     "name": "stdout",
     "output_type": "stream",
     "text": [
      "An error occurred: Expected y_min for bbox (0.47015499999999993, -0.022556500000000007, 0.890417, 0.2576185, 1) to be in the range [0.0, 1.0], got -0.022556500000000007.\n",
      "An error occurred: Expected x_max for bbox (0.42271650000000005, 0.6723135, 1.0245235, 1.0735185, 2) to be in the range [0.0, 1.0], got 1.0245235.\n",
      "An error occurred: Expected x_max for bbox (0.18880199999999997, 0.20361949999999995, 1.133998, 0.8337505, 1) to be in the range [0.0, 1.0], got 1.133998.\n",
      "An error occurred: Expected x_max for bbox (0.189772, 0.575604, 1.100998, 1.1830880000000001, 1) to be in the range [0.0, 1.0], got 1.100998.\n",
      "An error occurred: Expected y_max for bbox (0.5705215, 0.8107574999999999, 0.8660985, 1.0078084999999999, 1) to be in the range [0.0, 1.0], got 1.0078084999999999.\n"
     ]
    },
    {
     "name": "stderr",
     "output_type": "stream",
     "text": [
      "Processing images:   6%|▌         | 59/1000 [00:04<00:57, 16.25it/s]"
     ]
    },
    {
     "name": "stdout",
     "output_type": "stream",
     "text": [
      "An error occurred with C:/github/Third-Year-Project/Intruder-Aircraft-Detection/datasets/Custom/weather_45_1000\\images\\train\\28284.jpg: Expected x_max for bbox (0.189772, 0.575604, 1.100998, 1.1830880000000001, 1) to be in the range [0.0, 1.0], got 1.100998.\n"
     ]
    },
    {
     "name": "stderr",
     "output_type": "stream",
     "text": [
      "Processing images:   7%|▋         | 69/1000 [00:04<00:36, 25.54it/s]"
     ]
    },
    {
     "name": "stdout",
     "output_type": "stream",
     "text": [
      "An error occurred with C:/github/Third-Year-Project/Intruder-Aircraft-Detection/datasets/Custom/weather_45_1000\\images\\train\\28333.jpg: Expected y_min for bbox (0.47015499999999993, -0.022556500000000007, 0.890417, 0.2576185, 1) to be in the range [0.0, 1.0], got -0.022556500000000007.\n"
     ]
    },
    {
     "name": "stderr",
     "output_type": "stream",
     "text": [
      "Processing images:  17%|█▋        | 174/1000 [00:08<00:25, 32.65it/s]"
     ]
    },
    {
     "name": "stdout",
     "output_type": "stream",
     "text": [
      "An error occurred with C:/github/Third-Year-Project/Intruder-Aircraft-Detection/datasets/Custom/weather_45_1000\\images\\train\\29013.jpg: Expected y_min for bbox (0.59587, -0.02172049999999999, 0.925314, 0.1979085, 1) to be in the range [0.0, 1.0], got -0.02172049999999999.\n"
     ]
    },
    {
     "name": "stderr",
     "output_type": "stream",
     "text": [
      "Processing images:  26%|██▌       | 258/1000 [00:10<00:22, 32.52it/s]"
     ]
    },
    {
     "name": "stdout",
     "output_type": "stream",
     "text": [
      "An error occurred with C:/github/Third-Year-Project/Intruder-Aircraft-Detection/datasets/Custom/weather_45_1000\\images\\train\\29454.jpg: Expected y_max for bbox (0.166634, 0.6343235, 0.724798, 1.0064325, 1) to be in the range [0.0, 1.0], got 1.0064325.\n"
     ]
    },
    {
     "name": "stderr",
     "output_type": "stream",
     "text": [
      "Processing images:  32%|███▏      | 323/1000 [00:12<00:20, 33.80it/s]"
     ]
    },
    {
     "name": "stdout",
     "output_type": "stream",
     "text": [
      "An error occurred with C:/github/Third-Year-Project/Intruder-Aircraft-Detection/datasets/Custom/weather_45_1000\\images\\train\\29815.jpg: Expected x_max for bbox (0.18880199999999997, 0.20361949999999995, 1.133998, 0.8337505, 1) to be in the range [0.0, 1.0], got 1.133998.\n"
     ]
    },
    {
     "name": "stderr",
     "output_type": "stream",
     "text": [
      "Processing images:  34%|███▎      | 336/1000 [00:12<00:19, 34.86it/s]"
     ]
    },
    {
     "name": "stdout",
     "output_type": "stream",
     "text": [
      "An error occurred with C:/github/Third-Year-Project/Intruder-Aircraft-Detection/datasets/Custom/weather_45_1000\\images\\train\\29894.jpg: Expected y_max for bbox (0.5705215, 0.8107574999999999, 0.8660985, 1.0078084999999999, 1) to be in the range [0.0, 1.0], got 1.0078084999999999.\n"
     ]
    },
    {
     "name": "stderr",
     "output_type": "stream",
     "text": [
      "Processing images:  60%|██████    | 605/1000 [00:20<00:11, 34.61it/s]"
     ]
    },
    {
     "name": "stdout",
     "output_type": "stream",
     "text": [
      "An error occurred with C:/github/Third-Year-Project/Intruder-Aircraft-Detection/datasets/Custom/weather_45_1000\\images\\train\\52310.jpg: Expected y_max for bbox (0.14462699999999998, 0.7264375000000001, 0.618055, 1.0420565000000002, 2) to be in the range [0.0, 1.0], got 1.0420565000000002.\n"
     ]
    },
    {
     "name": "stderr",
     "output_type": "stream",
     "text": [
      "Processing images:  75%|███████▌  | 754/1000 [00:25<00:07, 34.90it/s]"
     ]
    },
    {
     "name": "stdout",
     "output_type": "stream",
     "text": [
      "An error occurred with C:/github/Third-Year-Project/Intruder-Aircraft-Detection/datasets/Custom/weather_45_1000\\images\\train\\53114.jpg: Expected x_max for bbox (0.5044139999999999, 0.7477020000000001, 1.0455839999999998, 1.108482, 2) to be in the range [0.0, 1.0], got 1.0455839999999998.\n"
     ]
    },
    {
     "name": "stderr",
     "output_type": "stream",
     "text": [
      "Processing images:  82%|████████▏ | 815/1000 [00:27<00:05, 34.35it/s]"
     ]
    },
    {
     "name": "stdout",
     "output_type": "stream",
     "text": [
      "An error occurred with C:/github/Third-Year-Project/Intruder-Aircraft-Detection/datasets/Custom/weather_45_1000\\images\\train\\53420.jpg: Expected x_max for bbox (0.42271650000000005, 0.6723135, 1.0245235, 1.0735185, 2) to be in the range [0.0, 1.0], got 1.0245235.\n"
     ]
    },
    {
     "name": "stderr",
     "output_type": "stream",
     "text": [
      "Processing images: 100%|██████████| 1000/1000 [00:32<00:00, 30.48it/s]\n",
      "Processing images:   6%|▌         | 87/1495 [00:05<01:22, 17.13it/s]"
     ]
    },
    {
     "name": "stdout",
     "output_type": "stream",
     "text": [
      "An error occurred with C:/github/Third-Year-Project/Intruder-Aircraft-Detection/datasets/Custom/weather_45_1000\\images\\train-aug\\28284.jpg: Expected x_max for bbox (0.189772, 0.575604, 1.100998, 1.1830880000000001, 1) to be in the range [0.0, 1.0], got 1.100998.\n"
     ]
    },
    {
     "name": "stderr",
     "output_type": "stream",
     "text": [
      "Processing images:   7%|▋         | 100/1495 [00:06<01:24, 16.51it/s]"
     ]
    },
    {
     "name": "stdout",
     "output_type": "stream",
     "text": [
      "An error occurred with C:/github/Third-Year-Project/Intruder-Aircraft-Detection/datasets/Custom/weather_45_1000\\images\\train-aug\\28333.jpg: Expected y_min for bbox (0.47015499999999993, -0.022556500000000007, 0.890417, 0.2576185, 1) to be in the range [0.0, 1.0], got -0.022556500000000007.\n"
     ]
    },
    {
     "name": "stderr",
     "output_type": "stream",
     "text": [
      "Processing images:  17%|█▋        | 255/1495 [00:12<00:35, 34.85it/s]"
     ]
    },
    {
     "name": "stdout",
     "output_type": "stream",
     "text": [
      "An error occurred with C:/github/Third-Year-Project/Intruder-Aircraft-Detection/datasets/Custom/weather_45_1000\\images\\train-aug\\29013.jpg: Expected y_min for bbox (0.59587, -0.02172049999999999, 0.925314, 0.1979085, 1) to be in the range [0.0, 1.0], got -0.02172049999999999.\n"
     ]
    },
    {
     "name": "stderr",
     "output_type": "stream",
     "text": [
      "Processing images:  25%|██▌       | 379/1495 [00:16<00:34, 32.54it/s]"
     ]
    },
    {
     "name": "stdout",
     "output_type": "stream",
     "text": [
      "An error occurred with C:/github/Third-Year-Project/Intruder-Aircraft-Detection/datasets/Custom/weather_45_1000\\images\\train-aug\\29454.jpg: Expected y_max for bbox (0.166634, 0.6343235, 0.724798, 1.0064325, 1) to be in the range [0.0, 1.0], got 1.0064325.\n"
     ]
    },
    {
     "name": "stderr",
     "output_type": "stream",
     "text": [
      "Processing images:  32%|███▏      | 472/1495 [00:19<00:30, 33.30it/s]"
     ]
    },
    {
     "name": "stdout",
     "output_type": "stream",
     "text": [
      "An error occurred with C:/github/Third-Year-Project/Intruder-Aircraft-Detection/datasets/Custom/weather_45_1000\\images\\train-aug\\29815.jpg: Expected x_max for bbox (0.18880199999999997, 0.20361949999999995, 1.133998, 0.8337505, 1) to be in the range [0.0, 1.0], got 1.133998.\n"
     ]
    },
    {
     "name": "stderr",
     "output_type": "stream",
     "text": [
      "Processing images:  33%|███▎      | 489/1495 [00:19<00:30, 33.09it/s]"
     ]
    },
    {
     "name": "stdout",
     "output_type": "stream",
     "text": [
      "An error occurred with C:/github/Third-Year-Project/Intruder-Aircraft-Detection/datasets/Custom/weather_45_1000\\images\\train-aug\\29894.jpg: Expected y_max for bbox (0.5705215, 0.8107574999999999, 0.8660985, 1.0078084999999999, 1) to be in the range [0.0, 1.0], got 1.0078084999999999.\n"
     ]
    },
    {
     "name": "stderr",
     "output_type": "stream",
     "text": [
      "Processing images:  59%|█████▉    | 885/1495 [00:31<00:18, 33.35it/s]"
     ]
    },
    {
     "name": "stdout",
     "output_type": "stream",
     "text": [
      "An error occurred with C:/github/Third-Year-Project/Intruder-Aircraft-Detection/datasets/Custom/weather_45_1000\\images\\train-aug\\52310.jpg: Expected y_max for bbox (0.14462699999999998, 0.7264375000000001, 0.618055, 1.0420565000000002, 2) to be in the range [0.0, 1.0], got 1.0420565000000002.\n"
     ]
    },
    {
     "name": "stderr",
     "output_type": "stream",
     "text": [
      "Processing images:  75%|███████▍  | 1118/1495 [00:38<00:11, 33.87it/s]"
     ]
    },
    {
     "name": "stdout",
     "output_type": "stream",
     "text": [
      "An error occurred with C:/github/Third-Year-Project/Intruder-Aircraft-Detection/datasets/Custom/weather_45_1000\\images\\train-aug\\53114.jpg: Expected x_max for bbox (0.5044139999999999, 0.7477020000000001, 1.0455839999999998, 1.108482, 2) to be in the range [0.0, 1.0], got 1.0455839999999998.\n"
     ]
    },
    {
     "name": "stderr",
     "output_type": "stream",
     "text": [
      "Processing images:  81%|████████  | 1207/1495 [00:40<00:08, 35.51it/s]"
     ]
    },
    {
     "name": "stdout",
     "output_type": "stream",
     "text": [
      "An error occurred with C:/github/Third-Year-Project/Intruder-Aircraft-Detection/datasets/Custom/weather_45_1000\\images\\train-aug\\53420.jpg: Expected x_max for bbox (0.42271650000000005, 0.6723135, 1.0245235, 1.0735185, 2) to be in the range [0.0, 1.0], got 1.0245235.\n"
     ]
    },
    {
     "name": "stderr",
     "output_type": "stream",
     "text": [
      "Processing images: 100%|██████████| 1495/1495 [00:49<00:00, 30.15it/s]\n",
      "Processing images:  74%|███████▍  | 149/200 [00:05<00:01, 33.58it/s]"
     ]
    },
    {
     "name": "stdout",
     "output_type": "stream",
     "text": [
      "An error occurred with C:/github/Third-Year-Project/Intruder-Aircraft-Detection/datasets/Custom/weather_45_1000\\images\\valid\\52916.jpg: In YOLO format all coordinates must be float and in range (0, 1]\n"
     ]
    },
    {
     "name": "stderr",
     "output_type": "stream",
     "text": [
      "Processing images:  79%|███████▉  | 158/200 [00:05<00:01, 35.26it/s]"
     ]
    },
    {
     "name": "stdout",
     "output_type": "stream",
     "text": [
      "An error occurred with C:/github/Third-Year-Project/Intruder-Aircraft-Detection/datasets/Custom/weather_45_1000\\images\\valid\\52925.jpg: Expected x_min for bbox (-0.17107, 0.23527800000000004, 0.669476, 0.795642, 2) to be in the range [0.0, 1.0], got -0.17107.\n"
     ]
    },
    {
     "name": "stderr",
     "output_type": "stream",
     "text": [
      "Processing images: 100%|██████████| 200/200 [00:06<00:00, 30.47it/s]\n",
      "Moving images in train: 100%|██████████| 991/991 [00:04<00:00, 238.22it/s]\n",
      "Moving images in train-aug: 100%|██████████| 1486/1486 [00:05<00:00, 286.21it/s]\n",
      "Moving images in valid: 100%|██████████| 198/198 [00:00<00:00, 236.22it/s]\n"
     ]
    },
    {
     "name": "stdout",
     "output_type": "stream",
     "text": [
      "Found 991 files belonging to 3 classes.\n",
      "Found 1486 files belonging to 3 classes.\n",
      "Found 198 files belonging to 3 classes.\n",
      "ClearML Task: created new task id=bbaea70c052d4af1afcdcb7a894372c7\n",
      "ClearML results page: https://app.clear.ml/projects/b431dd08d42446cea5eabf486b708404/experiments/bbaea70c052d4af1afcdcb7a894372c7/output/log\n",
      "Training model...\n",
      "Epoch 1/30\n",
      "\u001b[1m31/31\u001b[0m \u001b[32m━━━━━━━━━━━━━━━━━━━━\u001b[0m\u001b[37m\u001b[0m \u001b[1m12s\u001b[0m 302ms/step - accuracy: 0.3518 - loss: 1.9923 - precision: 0.3250 - recall: 0.1516 - val_accuracy: 0.3434 - val_loss: 1.0984 - val_precision: 0.0000e+00 - val_recall: 0.0000e+00\n",
      "Epoch 2/30\n",
      "\u001b[1m31/31\u001b[0m \u001b[32m━━━━━━━━━━━━━━━━━━━━\u001b[0m\u001b[37m\u001b[0m \u001b[1m7s\u001b[0m 231ms/step - accuracy: 0.3621 - loss: 1.0983 - precision: 0.0000e+00 - recall: 0.0000e+00 - val_accuracy: 0.3384 - val_loss: 1.0980 - val_precision: 0.0000e+00 - val_recall: 0.0000e+00\n",
      "Epoch 3/30\n",
      "\u001b[1m31/31\u001b[0m \u001b[32m━━━━━━━━━━━━━━━━━━━━\u001b[0m\u001b[37m\u001b[0m \u001b[1m8s\u001b[0m 235ms/step - accuracy: 0.3508 - loss: 1.0980 - precision: 0.0000e+00 - recall: 0.0000e+00 - val_accuracy: 0.3586 - val_loss: 1.0978 - val_precision: 0.0000e+00 - val_recall: 0.0000e+00\n",
      "Epoch 4/30\n",
      "\u001b[1m31/31\u001b[0m \u001b[32m━━━━━━━━━━━━━━━━━━━━\u001b[0m\u001b[37m\u001b[0m \u001b[1m7s\u001b[0m 232ms/step - accuracy: 0.3557 - loss: 1.0984 - precision: 0.0000e+00 - recall: 0.0000e+00 - val_accuracy: 0.3687 - val_loss: 1.0984 - val_precision: 0.0000e+00 - val_recall: 0.0000e+00\n",
      "Epoch 5/30\n",
      "\u001b[1m31/31\u001b[0m \u001b[32m━━━━━━━━━━━━━━━━━━━━\u001b[0m\u001b[37m\u001b[0m \u001b[1m8s\u001b[0m 234ms/step - accuracy: 0.3666 - loss: 1.1042 - precision: 0.1637 - recall: 0.0073 - val_accuracy: 0.3384 - val_loss: 1.0975 - val_precision: 0.0000e+00 - val_recall: 0.0000e+00\n",
      "Epoch 6/30\n",
      "\u001b[1m31/31\u001b[0m \u001b[32m━━━━━━━━━━━━━━━━━━━━\u001b[0m\u001b[37m\u001b[0m \u001b[1m8s\u001b[0m 248ms/step - accuracy: 0.3298 - loss: 1.0992 - precision: 0.0000e+00 - recall: 0.0000e+00 - val_accuracy: 0.3384 - val_loss: 1.0974 - val_precision: 0.0000e+00 - val_recall: 0.0000e+00\n",
      "Epoch 7/30\n",
      "\u001b[1m31/31\u001b[0m \u001b[32m━━━━━━━━━━━━━━━━━━━━\u001b[0m\u001b[37m\u001b[0m \u001b[1m9s\u001b[0m 287ms/step - accuracy: 0.3572 - loss: 1.0966 - precision: 0.0000e+00 - recall: 0.0000e+00 - val_accuracy: 0.3333 - val_loss: 1.0991 - val_precision: 0.0000e+00 - val_recall: 0.0000e+00\n",
      "Epoch 8/30\n",
      "\u001b[1m31/31\u001b[0m \u001b[32m━━━━━━━━━━━━━━━━━━━━\u001b[0m\u001b[37m\u001b[0m \u001b[1m8s\u001b[0m 233ms/step - accuracy: 0.3265 - loss: 1.1000 - precision: 0.0000e+00 - recall: 0.0000e+00 - val_accuracy: 0.3283 - val_loss: 1.0983 - val_precision: 0.0000e+00 - val_recall: 0.0000e+00\n",
      "Epoch 9/30\n",
      "\u001b[1m31/31\u001b[0m \u001b[32m━━━━━━━━━━━━━━━━━━━━\u001b[0m\u001b[37m\u001b[0m \u001b[1m8s\u001b[0m 233ms/step - accuracy: 0.3417 - loss: 1.0980 - precision: 0.0000e+00 - recall: 0.0000e+00 - val_accuracy: 0.3838 - val_loss: 1.0980 - val_precision: 0.0000e+00 - val_recall: 0.0000e+00\n",
      "Epoch 10/30\n",
      "\u001b[1m31/31\u001b[0m \u001b[32m━━━━━━━━━━━━━━━━━━━━\u001b[0m\u001b[37m\u001b[0m \u001b[1m8s\u001b[0m 234ms/step - accuracy: 0.3795 - loss: 1.0975 - precision: 0.0000e+00 - recall: 0.0000e+00 - val_accuracy: 0.3535 - val_loss: 1.0977 - val_precision: 0.0000e+00 - val_recall: 0.0000e+00\n",
      "Epoch 11/30\n",
      "\u001b[1m31/31\u001b[0m \u001b[32m━━━━━━━━━━━━━━━━━━━━\u001b[0m\u001b[37m\u001b[0m \u001b[1m8s\u001b[0m 233ms/step - accuracy: 0.3759 - loss: 1.0974 - precision: 0.0000e+00 - recall: 0.0000e+00 - val_accuracy: 0.4394 - val_loss: 1.0966 - val_precision: 0.0000e+00 - val_recall: 0.0000e+00\n",
      "Epoch 12/30\n",
      "\u001b[1m31/31\u001b[0m \u001b[32m━━━━━━━━━━━━━━━━━━━━\u001b[0m\u001b[37m\u001b[0m \u001b[1m8s\u001b[0m 234ms/step - accuracy: 0.4198 - loss: 1.0940 - precision: 0.0000e+00 - recall: 0.0000e+00 - val_accuracy: 0.4293 - val_loss: 1.0616 - val_precision: 1.0000 - val_recall: 0.0051\n",
      "Epoch 13/30\n",
      "\u001b[1m31/31\u001b[0m \u001b[32m━━━━━━━━━━━━━━━━━━━━\u001b[0m\u001b[37m\u001b[0m \u001b[1m7s\u001b[0m 232ms/step - accuracy: 0.4524 - loss: 1.1541 - precision: 0.4671 - recall: 0.0623 - val_accuracy: 0.5707 - val_loss: 1.0700 - val_precision: 0.0000e+00 - val_recall: 0.0000e+00\n",
      "Epoch 14/30\n",
      "\u001b[1m31/31\u001b[0m \u001b[32m━━━━━━━━━━━━━━━━━━━━\u001b[0m\u001b[37m\u001b[0m \u001b[1m8s\u001b[0m 235ms/step - accuracy: 0.3929 - loss: 1.0900 - precision: 0.0000e+00 - recall: 0.0000e+00 - val_accuracy: 0.3333 - val_loss: 1.0942 - val_precision: 0.0000e+00 - val_recall: 0.0000e+00\n",
      "Epoch 15/30\n",
      "\u001b[1m31/31\u001b[0m \u001b[32m━━━━━━━━━━━━━━━━━━━━\u001b[0m\u001b[37m\u001b[0m \u001b[1m7s\u001b[0m 232ms/step - accuracy: 0.3294 - loss: 1.0972 - precision: 0.0000e+00 - recall: 0.0000e+00 - val_accuracy: 0.3232 - val_loss: 1.0982 - val_precision: 0.0000e+00 - val_recall: 0.0000e+00\n",
      "Epoch 16/30\n",
      "\u001b[1m31/31\u001b[0m \u001b[32m━━━━━━━━━━━━━━━━━━━━\u001b[0m\u001b[37m\u001b[0m \u001b[1m8s\u001b[0m 235ms/step - accuracy: 0.3592 - loss: 1.0958 - precision: 0.0000e+00 - recall: 0.0000e+00 - val_accuracy: 0.3485 - val_loss: 1.0955 - val_precision: 0.0000e+00 - val_recall: 0.0000e+00\n",
      "Epoch 17/30\n",
      "\u001b[1m31/31\u001b[0m \u001b[32m━━━━━━━━━━━━━━━━━━━━\u001b[0m\u001b[37m\u001b[0m \u001b[1m8s\u001b[0m 234ms/step - accuracy: 0.3578 - loss: 1.0950 - precision: 0.0000e+00 - recall: 0.0000e+00 - val_accuracy: 0.3283 - val_loss: 1.0939 - val_precision: 0.0000e+00 - val_recall: 0.0000e+00\n",
      "Epoch 18/30\n",
      "\u001b[1m31/31\u001b[0m \u001b[32m━━━━━━━━━━━━━━━━━━━━\u001b[0m\u001b[37m\u001b[0m \u001b[1m8s\u001b[0m 233ms/step - accuracy: 0.3576 - loss: 1.0936 - precision: 0.0000e+00 - recall: 0.0000e+00 - val_accuracy: 0.3687 - val_loss: 1.0901 - val_precision: 0.0000e+00 - val_recall: 0.0000e+00\n",
      "Epoch 19/30\n",
      "\u001b[1m31/31\u001b[0m \u001b[32m━━━━━━━━━━━━━━━━━━━━\u001b[0m\u001b[37m\u001b[0m \u001b[1m7s\u001b[0m 232ms/step - accuracy: 0.3716 - loss: 1.0939 - precision: 0.2595 - recall: 0.0141 - val_accuracy: 0.3333 - val_loss: 1.0948 - val_precision: 0.0000e+00 - val_recall: 0.0000e+00\n",
      "Epoch 20/30\n",
      "\u001b[1m31/31\u001b[0m \u001b[32m━━━━━━━━━━━━━━━━━━━━\u001b[0m\u001b[37m\u001b[0m \u001b[1m8s\u001b[0m 236ms/step - accuracy: 0.3617 - loss: 1.0952 - precision: 0.0000e+00 - recall: 0.0000e+00 - val_accuracy: 0.3939 - val_loss: 1.0924 - val_precision: 0.0000e+00 - val_recall: 0.0000e+00\n",
      "Epoch 21/30\n",
      "\u001b[1m31/31\u001b[0m \u001b[32m━━━━━━━━━━━━━━━━━━━━\u001b[0m\u001b[37m\u001b[0m \u001b[1m7s\u001b[0m 232ms/step - accuracy: 0.3360 - loss: 1.0967 - precision: 0.0000e+00 - recall: 0.0000e+00 - val_accuracy: 0.4192 - val_loss: 1.0929 - val_precision: 0.0000e+00 - val_recall: 0.0000e+00\n",
      "Epoch 22/30\n",
      "\u001b[1m31/31\u001b[0m \u001b[32m━━━━━━━━━━━━━━━━━━━━\u001b[0m\u001b[37m\u001b[0m \u001b[1m8s\u001b[0m 233ms/step - accuracy: 0.4139 - loss: 1.0917 - precision: 0.0000e+00 - recall: 0.0000e+00 - val_accuracy: 0.3737 - val_loss: 1.0896 - val_precision: 0.0000e+00 - val_recall: 0.0000e+00\n",
      "Epoch 23/30\n",
      "\u001b[1m31/31\u001b[0m \u001b[32m━━━━━━━━━━━━━━━━━━━━\u001b[0m\u001b[37m\u001b[0m \u001b[1m8s\u001b[0m 233ms/step - accuracy: 0.3631 - loss: 1.0912 - precision: 0.0000e+00 - recall: 0.0000e+00 - val_accuracy: 0.4242 - val_loss: 1.0863 - val_precision: 0.0000e+00 - val_recall: 0.0000e+00\n",
      "Epoch 24/30\n",
      "\u001b[1m31/31\u001b[0m \u001b[32m━━━━━━━━━━━━━━━━━━━━\u001b[0m\u001b[37m\u001b[0m \u001b[1m8s\u001b[0m 233ms/step - accuracy: 0.4078 - loss: 1.0902 - precision: 0.0000e+00 - recall: 0.0000e+00 - val_accuracy: 0.4141 - val_loss: 1.0827 - val_precision: 0.0000e+00 - val_recall: 0.0000e+00\n",
      "Epoch 25/30\n",
      "\u001b[1m31/31\u001b[0m \u001b[32m━━━━━━━━━━━━━━━━━━━━\u001b[0m\u001b[37m\u001b[0m \u001b[1m8s\u001b[0m 235ms/step - accuracy: 0.3882 - loss: 1.0921 - precision: 0.0000e+00 - recall: 0.0000e+00 - val_accuracy: 0.3535 - val_loss: 1.0815 - val_precision: 0.0000e+00 - val_recall: 0.0000e+00\n",
      "Epoch 26/30\n",
      "\u001b[1m31/31\u001b[0m \u001b[32m━━━━━━━━━━━━━━━━━━━━\u001b[0m\u001b[37m\u001b[0m \u001b[1m8s\u001b[0m 233ms/step - accuracy: 0.3729 - loss: 1.0866 - precision: 0.3782 - recall: 0.0157 - val_accuracy: 0.3838 - val_loss: 1.0901 - val_precision: 0.0000e+00 - val_recall: 0.0000e+00\n",
      "Epoch 27/30\n",
      "\u001b[1m31/31\u001b[0m \u001b[32m━━━━━━━━━━━━━━━━━━━━\u001b[0m\u001b[37m\u001b[0m \u001b[1m7s\u001b[0m 232ms/step - accuracy: 0.4152 - loss: 1.0891 - precision: 0.0000e+00 - recall: 0.0000e+00 - val_accuracy: 0.3687 - val_loss: 1.0901 - val_precision: 0.0000e+00 - val_recall: 0.0000e+00\n",
      "Epoch 28/30\n",
      "\u001b[1m31/31\u001b[0m \u001b[32m━━━━━━━━━━━━━━━━━━━━\u001b[0m\u001b[37m\u001b[0m \u001b[1m7s\u001b[0m 233ms/step - accuracy: 0.3634 - loss: 1.0910 - precision: 0.1250 - recall: 2.7696e-04 - val_accuracy: 0.3586 - val_loss: 1.0874 - val_precision: 0.0000e+00 - val_recall: 0.0000e+00\n",
      "Epoch 29/30\n",
      "\u001b[1m31/31\u001b[0m \u001b[32m━━━━━━━━━━━━━━━━━━━━\u001b[0m\u001b[37m\u001b[0m \u001b[1m8s\u001b[0m 235ms/step - accuracy: 0.4112 - loss: 1.0809 - precision: 0.1587 - recall: 0.0021 - val_accuracy: 0.4293 - val_loss: 1.0726 - val_precision: 0.0000e+00 - val_recall: 0.0000e+00\n",
      "Epoch 30/30\n",
      "\u001b[1m31/31\u001b[0m \u001b[32m━━━━━━━━━━━━━━━━━━━━\u001b[0m\u001b[37m\u001b[0m \u001b[1m7s\u001b[0m 229ms/step - accuracy: 0.4087 - loss: 1.0758 - precision: 0.5233 - recall: 0.0137 - val_accuracy: 0.3737 - val_loss: 1.0492 - val_precision: 0.5349 - val_recall: 0.1162\n",
      "Predicting on validation set...\n",
      "\u001b[1m7/7\u001b[0m \u001b[32m━━━━━━━━━━━━━━━━━━━━\u001b[0m\u001b[37m\u001b[0m \u001b[1m1s\u001b[0m 55ms/step\n",
      "Sending metrics to clearML...\n",
      "done\n",
      "ClearML Task: created new task id=927750ef1ef64c3394a90d619f168346\n",
      "ClearML results page: https://app.clear.ml/projects/b431dd08d42446cea5eabf486b708404/experiments/927750ef1ef64c3394a90d619f168346/output/log\n",
      "Training model...\n",
      "Epoch 1/30\n",
      "\u001b[1m47/47\u001b[0m \u001b[32m━━━━━━━━━━━━━━━━━━━━\u001b[0m\u001b[37m\u001b[0m \u001b[1m15s\u001b[0m 275ms/step - accuracy: 0.3361 - loss: 1.8575 - precision: 0.3308 - recall: 0.1041 - val_accuracy: 0.3283 - val_loss: 1.0987 - val_precision: 0.0000e+00 - val_recall: 0.0000e+00\n",
      "Epoch 2/30\n",
      "\u001b[1m47/47\u001b[0m \u001b[32m━━━━━━━━━━━━━━━━━━━━\u001b[0m\u001b[37m\u001b[0m \u001b[1m11s\u001b[0m 227ms/step - accuracy: 0.3462 - loss: 1.0985 - precision: 0.0000e+00 - recall: 0.0000e+00 - val_accuracy: 0.3687 - val_loss: 1.0986 - val_precision: 0.0000e+00 - val_recall: 0.0000e+00\n",
      "Epoch 3/30\n",
      "\u001b[1m47/47\u001b[0m \u001b[32m━━━━━━━━━━━━━━━━━━━━\u001b[0m\u001b[37m\u001b[0m \u001b[1m11s\u001b[0m 228ms/step - accuracy: 0.3228 - loss: 1.0987 - precision: 0.0000e+00 - recall: 0.0000e+00 - val_accuracy: 0.3283 - val_loss: 1.0986 - val_precision: 0.0000e+00 - val_recall: 0.0000e+00\n",
      "Epoch 4/30\n",
      "\u001b[1m47/47\u001b[0m \u001b[32m━━━━━━━━━━━━━━━━━━━━\u001b[0m\u001b[37m\u001b[0m \u001b[1m11s\u001b[0m 237ms/step - accuracy: 0.3290 - loss: 1.0986 - precision: 0.0000e+00 - recall: 0.0000e+00 - val_accuracy: 0.3384 - val_loss: 1.0986 - val_precision: 0.0000e+00 - val_recall: 0.0000e+00\n",
      "Epoch 5/30\n",
      "\u001b[1m47/47\u001b[0m \u001b[32m━━━━━━━━━━━━━━━━━━━━\u001b[0m\u001b[37m\u001b[0m \u001b[1m13s\u001b[0m 266ms/step - accuracy: 0.3276 - loss: 1.0984 - precision: 0.0000e+00 - recall: 0.0000e+00 - val_accuracy: 0.3283 - val_loss: 1.0989 - val_precision: 0.0000e+00 - val_recall: 0.0000e+00\n",
      "Epoch 6/30\n",
      "\u001b[1m47/47\u001b[0m \u001b[32m━━━━━━━━━━━━━━━━━━━━\u001b[0m\u001b[37m\u001b[0m \u001b[1m11s\u001b[0m 226ms/step - accuracy: 0.3289 - loss: 1.0981 - precision: 0.0000e+00 - recall: 0.0000e+00 - val_accuracy: 0.3384 - val_loss: 1.0985 - val_precision: 0.0000e+00 - val_recall: 0.0000e+00\n",
      "Epoch 7/30\n",
      "\u001b[1m47/47\u001b[0m \u001b[32m━━━━━━━━━━━━━━━━━━━━\u001b[0m\u001b[37m\u001b[0m \u001b[1m11s\u001b[0m 228ms/step - accuracy: 0.3344 - loss: 1.0990 - precision: 0.0000e+00 - recall: 0.0000e+00 - val_accuracy: 0.3283 - val_loss: 1.0987 - val_precision: 0.0000e+00 - val_recall: 0.0000e+00\n",
      "Epoch 8/30\n",
      "\u001b[1m47/47\u001b[0m \u001b[32m━━━━━━━━━━━━━━━━━━━━\u001b[0m\u001b[37m\u001b[0m \u001b[1m11s\u001b[0m 228ms/step - accuracy: 0.3372 - loss: 1.0983 - precision: 0.0000e+00 - recall: 0.0000e+00 - val_accuracy: 0.3333 - val_loss: 1.1079 - val_precision: 0.0000e+00 - val_recall: 0.0000e+00\n",
      "Epoch 9/30\n",
      "\u001b[1m47/47\u001b[0m \u001b[32m━━━━━━━━━━━━━━━━━━━━\u001b[0m\u001b[37m\u001b[0m \u001b[1m11s\u001b[0m 230ms/step - accuracy: 0.3301 - loss: 1.1011 - precision: 0.0000e+00 - recall: 0.0000e+00 - val_accuracy: 0.3283 - val_loss: 1.0987 - val_precision: 0.0000e+00 - val_recall: 0.0000e+00\n",
      "Epoch 10/30\n",
      "\u001b[1m47/47\u001b[0m \u001b[32m━━━━━━━━━━━━━━━━━━━━\u001b[0m\u001b[37m\u001b[0m \u001b[1m11s\u001b[0m 227ms/step - accuracy: 0.3340 - loss: 1.0983 - precision: 0.0000e+00 - recall: 0.0000e+00 - val_accuracy: 0.3283 - val_loss: 1.0986 - val_precision: 0.0000e+00 - val_recall: 0.0000e+00\n",
      "Epoch 11/30\n",
      "\u001b[1m47/47\u001b[0m \u001b[32m━━━━━━━━━━━━━━━━━━━━\u001b[0m\u001b[37m\u001b[0m \u001b[1m11s\u001b[0m 228ms/step - accuracy: 0.3288 - loss: 1.0982 - precision: 0.0000e+00 - recall: 0.0000e+00 - val_accuracy: 0.3586 - val_loss: 1.0984 - val_precision: 0.0000e+00 - val_recall: 0.0000e+00\n",
      "Epoch 12/30\n",
      "\u001b[1m47/47\u001b[0m \u001b[32m━━━━━━━━━━━━━━━━━━━━\u001b[0m\u001b[37m\u001b[0m \u001b[1m11s\u001b[0m 228ms/step - accuracy: 0.3337 - loss: 1.0980 - precision: 0.0000e+00 - recall: 0.0000e+00 - val_accuracy: 0.3535 - val_loss: 1.0984 - val_precision: 0.0000e+00 - val_recall: 0.0000e+00\n",
      "Epoch 13/30\n",
      "\u001b[1m47/47\u001b[0m \u001b[32m━━━━━━━━━━━━━━━━━━━━\u001b[0m\u001b[37m\u001b[0m \u001b[1m11s\u001b[0m 227ms/step - accuracy: 0.3109 - loss: 1.0985 - precision: 0.0000e+00 - recall: 0.0000e+00 - val_accuracy: 0.3990 - val_loss: 1.0983 - val_precision: 0.0000e+00 - val_recall: 0.0000e+00\n",
      "Epoch 14/30\n",
      "\u001b[1m47/47\u001b[0m \u001b[32m━━━━━━━━━━━━━━━━━━━━\u001b[0m\u001b[37m\u001b[0m \u001b[1m11s\u001b[0m 228ms/step - accuracy: 0.3583 - loss: 1.0976 - precision: 0.0000e+00 - recall: 0.0000e+00 - val_accuracy: 0.3384 - val_loss: 1.0981 - val_precision: 0.0000e+00 - val_recall: 0.0000e+00\n",
      "Epoch 15/30\n",
      "\u001b[1m47/47\u001b[0m \u001b[32m━━━━━━━━━━━━━━━━━━━━\u001b[0m\u001b[37m\u001b[0m \u001b[1m11s\u001b[0m 226ms/step - accuracy: 0.3665 - loss: 1.0973 - precision: 0.0000e+00 - recall: 0.0000e+00 - val_accuracy: 0.3939 - val_loss: 1.0978 - val_precision: 0.0000e+00 - val_recall: 0.0000e+00\n",
      "Epoch 16/30\n",
      "\u001b[1m47/47\u001b[0m \u001b[32m━━━━━━━━━━━━━━━━━━━━\u001b[0m\u001b[37m\u001b[0m \u001b[1m11s\u001b[0m 225ms/step - accuracy: 0.3709 - loss: 1.0965 - precision: 0.0000e+00 - recall: 0.0000e+00 - val_accuracy: 0.3283 - val_loss: 1.0976 - val_precision: 0.0000e+00 - val_recall: 0.0000e+00\n",
      "Epoch 17/30\n",
      "\u001b[1m47/47\u001b[0m \u001b[32m━━━━━━━━━━━━━━━━━━━━\u001b[0m\u001b[37m\u001b[0m \u001b[1m11s\u001b[0m 228ms/step - accuracy: 0.3589 - loss: 1.0965 - precision: 0.0000e+00 - recall: 0.0000e+00 - val_accuracy: 0.3131 - val_loss: 1.0967 - val_precision: 0.0000e+00 - val_recall: 0.0000e+00\n",
      "Epoch 18/30\n",
      "\u001b[1m47/47\u001b[0m \u001b[32m━━━━━━━━━━━━━━━━━━━━\u001b[0m\u001b[37m\u001b[0m \u001b[1m11s\u001b[0m 229ms/step - accuracy: 0.3391 - loss: 1.0971 - precision: 0.0000e+00 - recall: 0.0000e+00 - val_accuracy: 0.3990 - val_loss: 1.0975 - val_precision: 0.0000e+00 - val_recall: 0.0000e+00\n",
      "Epoch 19/30\n",
      "\u001b[1m47/47\u001b[0m \u001b[32m━━━━━━━━━━━━━━━━━━━━\u001b[0m\u001b[37m\u001b[0m \u001b[1m11s\u001b[0m 227ms/step - accuracy: 0.3713 - loss: 1.0969 - precision: 0.0000e+00 - recall: 0.0000e+00 - val_accuracy: 0.3333 - val_loss: 1.0974 - val_precision: 0.0000e+00 - val_recall: 0.0000e+00\n",
      "Epoch 20/30\n",
      "\u001b[1m47/47\u001b[0m \u001b[32m━━━━━━━━━━━━━━━━━━━━\u001b[0m\u001b[37m\u001b[0m \u001b[1m11s\u001b[0m 229ms/step - accuracy: 0.3484 - loss: 1.0969 - precision: 0.0000e+00 - recall: 0.0000e+00 - val_accuracy: 0.3586 - val_loss: 1.0969 - val_precision: 0.0000e+00 - val_recall: 0.0000e+00\n",
      "Epoch 21/30\n",
      "\u001b[1m47/47\u001b[0m \u001b[32m━━━━━━━━━━━━━━━━━━━━\u001b[0m\u001b[37m\u001b[0m \u001b[1m11s\u001b[0m 227ms/step - accuracy: 0.3411 - loss: 1.0981 - precision: 0.1154 - recall: 0.0011 - val_accuracy: 0.3283 - val_loss: 1.0993 - val_precision: 0.0000e+00 - val_recall: 0.0000e+00\n",
      "Epoch 22/30\n",
      "\u001b[1m47/47\u001b[0m \u001b[32m━━━━━━━━━━━━━━━━━━━━\u001b[0m\u001b[37m\u001b[0m \u001b[1m11s\u001b[0m 232ms/step - accuracy: 0.3319 - loss: 1.0971 - precision: 0.0000e+00 - recall: 0.0000e+00 - val_accuracy: 0.3939 - val_loss: 1.0970 - val_precision: 0.0000e+00 - val_recall: 0.0000e+00\n",
      "Epoch 23/30\n",
      "\u001b[1m47/47\u001b[0m \u001b[32m━━━━━━━━━━━━━━━━━━━━\u001b[0m\u001b[37m\u001b[0m \u001b[1m11s\u001b[0m 228ms/step - accuracy: 0.3838 - loss: 1.0943 - precision: 0.0000e+00 - recall: 0.0000e+00 - val_accuracy: 0.3232 - val_loss: 1.0956 - val_precision: 0.0000e+00 - val_recall: 0.0000e+00\n",
      "Epoch 24/30\n",
      "\u001b[1m47/47\u001b[0m \u001b[32m━━━━━━━━━━━━━━━━━━━━\u001b[0m\u001b[37m\u001b[0m \u001b[1m11s\u001b[0m 230ms/step - accuracy: 0.3411 - loss: 1.0967 - precision: 0.0000e+00 - recall: 0.0000e+00 - val_accuracy: 0.3788 - val_loss: 1.0958 - val_precision: 0.0000e+00 - val_recall: 0.0000e+00\n",
      "Epoch 25/30\n",
      "\u001b[1m47/47\u001b[0m \u001b[32m━━━━━━━━━━━━━━━━━━━━\u001b[0m\u001b[37m\u001b[0m \u001b[1m11s\u001b[0m 227ms/step - accuracy: 0.3581 - loss: 1.0971 - precision: 0.0000e+00 - recall: 0.0000e+00 - val_accuracy: 0.3232 - val_loss: 1.0958 - val_precision: 0.0000e+00 - val_recall: 0.0000e+00\n",
      "Epoch 26/30\n",
      "\u001b[1m47/47\u001b[0m \u001b[32m━━━━━━━━━━━━━━━━━━━━\u001b[0m\u001b[37m\u001b[0m \u001b[1m11s\u001b[0m 228ms/step - accuracy: 0.3495 - loss: 1.0939 - precision: 0.0000e+00 - recall: 0.0000e+00 - val_accuracy: 0.3384 - val_loss: 1.0926 - val_precision: 0.0000e+00 - val_recall: 0.0000e+00\n",
      "Epoch 27/30\n",
      "\u001b[1m47/47\u001b[0m \u001b[32m━━━━━━━━━━━━━━━━━━━━\u001b[0m\u001b[37m\u001b[0m \u001b[1m11s\u001b[0m 228ms/step - accuracy: 0.3488 - loss: 1.0930 - precision: 0.0000e+00 - recall: 0.0000e+00 - val_accuracy: 0.3889 - val_loss: 1.0946 - val_precision: 0.0000e+00 - val_recall: 0.0000e+00\n",
      "Epoch 28/30\n",
      "\u001b[1m47/47\u001b[0m \u001b[32m━━━━━━━━━━━━━━━━━━━━\u001b[0m\u001b[37m\u001b[0m \u001b[1m11s\u001b[0m 227ms/step - accuracy: 0.3806 - loss: 1.0937 - precision: 0.0625 - recall: 8.6597e-05 - val_accuracy: 0.3737 - val_loss: 1.0920 - val_precision: 0.0000e+00 - val_recall: 0.0000e+00\n",
      "Epoch 29/30\n",
      "\u001b[1m47/47\u001b[0m \u001b[32m━━━━━━━━━━━━━━━━━━━━\u001b[0m\u001b[37m\u001b[0m \u001b[1m11s\u001b[0m 227ms/step - accuracy: 0.3694 - loss: 1.0921 - precision: 0.0000e+00 - recall: 0.0000e+00 - val_accuracy: 0.4343 - val_loss: 1.0894 - val_precision: 0.0000e+00 - val_recall: 0.0000e+00\n",
      "Epoch 30/30\n",
      "\u001b[1m47/47\u001b[0m \u001b[32m━━━━━━━━━━━━━━━━━━━━\u001b[0m\u001b[37m\u001b[0m \u001b[1m11s\u001b[0m 228ms/step - accuracy: 0.3717 - loss: 1.0917 - precision: 0.0000e+00 - recall: 0.0000e+00 - val_accuracy: 0.3687 - val_loss: 1.0969 - val_precision: 0.0000e+00 - val_recall: 0.0000e+00\n",
      "Predicting on validation set...\n",
      "\u001b[1m7/7\u001b[0m \u001b[32m━━━━━━━━━━━━━━━━━━━━\u001b[0m\u001b[37m\u001b[0m \u001b[1m1s\u001b[0m 52ms/step\n"
     ]
    },
    {
     "name": "stderr",
     "output_type": "stream",
     "text": [
      "c:\\Users\\tomev\\anaconda3\\envs\\tf-cpu\\Lib\\site-packages\\sklearn\\metrics\\_classification.py:1344: UndefinedMetricWarning:\n",
      "\n",
      "Precision and F-score are ill-defined and being set to 0.0 in labels with no predicted samples. Use `zero_division` parameter to control this behavior.\n",
      "\n",
      "c:\\Users\\tomev\\anaconda3\\envs\\tf-cpu\\Lib\\site-packages\\sklearn\\metrics\\_classification.py:1344: UndefinedMetricWarning:\n",
      "\n",
      "Precision and F-score are ill-defined and being set to 0.0 in labels with no predicted samples. Use `zero_division` parameter to control this behavior.\n",
      "\n",
      "c:\\Users\\tomev\\anaconda3\\envs\\tf-cpu\\Lib\\site-packages\\sklearn\\metrics\\_classification.py:1344: UndefinedMetricWarning:\n",
      "\n",
      "Precision and F-score are ill-defined and being set to 0.0 in labels with no predicted samples. Use `zero_division` parameter to control this behavior.\n",
      "\n"
     ]
    },
    {
     "name": "stdout",
     "output_type": "stream",
     "text": [
      "Sending metrics to clearML...\n",
      "done\n"
     ]
    }
   ],
   "source": [
    "# vertical flip augmentation\n",
    "task_name = 'vf'\n",
    "sub_project_name = 'V_FLIP'\n",
    "\n",
    "augmentation_metadata = {\n",
    "        'methods': {        \n",
    "            'flip': {\n",
    "                'parameters': {\n",
    "                    'orientation': 'v',  # Could be 'h' for horizontal or 'v' for vertical\n",
    "                    'p': 1.0  # Probability of applying the augmentation\n",
    "                },\n",
    "                'apply_to_percentage': 0.5  # 50% of the training images\n",
    "            }        \n",
    "        }\n",
    "    }\n",
    "\n",
    "for i in range(N):\n",
    "    RUN = i + 1\n",
    "    try:\n",
    "        print(f\"Starting RUN: {RUN}\")\n",
    "        main(RUN, augmentation_metadata, task_name, sub_project_name, epochs, train_size, w1, w2)    \n",
    "    except Exception as e:\n",
    "        print(f\"Error in RUN: {RUN}\")\n",
    "        print(e)\n",
    "    finally:\n",
    "        clear_output(wait=True)  # Clear the output to avoid scrolling\n",
    "        gc.collect()  # Collect garbage to avoid memory leaks"
   ]
  },
  {
   "cell_type": "code",
   "execution_count": 25,
   "metadata": {},
   "outputs": [
    {
     "name": "stdout",
     "output_type": "stream",
     "text": [
      "Starting RUN: 5\n",
      "Seed:  1519008517\n"
     ]
    },
    {
     "name": "stderr",
     "output_type": "stream",
     "text": [
      "c:\\github\\Third-Year-Project\\Intruder-Aircraft-Detection\\main\\tl_clf.py:79: SettingWithCopyWarning:\n",
      "\n",
      "\n",
      "A value is trying to be set on a copy of a slice from a DataFrame.\n",
      "Try using .loc[row_indexer,col_indexer] = value instead\n",
      "\n",
      "See the caveats in the documentation: https://pandas.pydata.org/pandas-docs/stable/user_guide/indexing.html#returning-a-view-versus-a-copy\n",
      "\n",
      "c:\\github\\Third-Year-Project\\Intruder-Aircraft-Detection\\main\\tl_clf.py:80: SettingWithCopyWarning:\n",
      "\n",
      "\n",
      "A value is trying to be set on a copy of a slice from a DataFrame.\n",
      "Try using .loc[row_indexer,col_indexer] = value instead\n",
      "\n",
      "See the caveats in the documentation: https://pandas.pydata.org/pandas-docs/stable/user_guide/indexing.html#returning-a-view-versus-a-copy\n",
      "\n"
     ]
    },
    {
     "name": "stdout",
     "output_type": "stream",
     "text": [
      "Removing dataset if pre-existing\n",
      "Copying training files:\n"
     ]
    },
    {
     "name": "stderr",
     "output_type": "stream",
     "text": [
      "Copying files: 100%|██████████| 2000/2000 [00:01<00:00, 1626.27it/s]\n"
     ]
    },
    {
     "name": "stdout",
     "output_type": "stream",
     "text": [
      "Copying validation files:\n"
     ]
    },
    {
     "name": "stderr",
     "output_type": "stream",
     "text": [
      "Copying files: 100%|██████████| 400/400 [00:00<00:00, 1805.41it/s]\n"
     ]
    },
    {
     "name": "stdout",
     "output_type": "stream",
     "text": [
      "Dataset 'weather_45_1000' created at C:\\github\\Third-Year-Project\\Intruder-Aircraft-Detection\\datasets\\Custom\\weather_45_1000\n",
      "Processing train labels in weather_45_1000:\n"
     ]
    },
    {
     "name": "stderr",
     "output_type": "stream",
     "text": [
      "Processing labels: 100%|██████████| 1000/1000 [00:03<00:00, 295.74it/s]\n"
     ]
    },
    {
     "name": "stdout",
     "output_type": "stream",
     "text": [
      "Processing valid labels in weather_45_1000:\n"
     ]
    },
    {
     "name": "stderr",
     "output_type": "stream",
     "text": [
      "Processing labels: 100%|██████████| 200/200 [00:00<00:00, 255.53it/s]\n"
     ]
    },
    {
     "name": "stdout",
     "output_type": "stream",
     "text": [
      "Label correction completed.\n"
     ]
    },
    {
     "name": "stderr",
     "output_type": "stream",
     "text": [
      "Removing existing directories/files: 100%|██████████| 3/3 [00:00<00:00, 6009.03it/s]\n",
      "Copying files: 100%|██████████| 1000/1000 [00:01<00:00, 963.13it/s]\n",
      "Copying files: 100%|██████████| 1000/1000 [00:00<00:00, 1414.07it/s]\n",
      "Applying augmentations: 100%|██████████| 500/500 [00:05<00:00, 84.75it/s]\n",
      "Processing images:  12%|█▏        | 124/1000 [00:06<00:25, 34.77it/s]"
     ]
    },
    {
     "name": "stdout",
     "output_type": "stream",
     "text": [
      "An error occurred with C:/github/Third-Year-Project/Intruder-Aircraft-Detection/datasets/Custom/weather_45_1000\\images\\train\\28653.jpg: Expected x_max for bbox (0.4856945, 0.37555200000000005, 1.0210155, 0.732432, 1) to be in the range [0.0, 1.0], got 1.0210155.\n"
     ]
    },
    {
     "name": "stderr",
     "output_type": "stream",
     "text": [
      "Processing images:  24%|██▍       | 245/1000 [00:10<00:22, 32.92it/s]"
     ]
    },
    {
     "name": "stdout",
     "output_type": "stream",
     "text": [
      "An error occurred with C:/github/Third-Year-Project/Intruder-Aircraft-Detection/datasets/Custom/weather_45_1000\\images\\train\\29446.jpg: Expected x_max for bbox (0.23347149999999994, 0.03606499999999996, 1.0153205, 0.5572969999999999, 1) to be in the range [0.0, 1.0], got 1.0153205.\n",
      "An error occurred with C:/github/Third-Year-Project/Intruder-Aircraft-Detection/datasets/Custom/weather_45_1000\\images\\train\\29454.jpg: Expected y_max for bbox (0.166634, 0.6343235, 0.724798, 1.0064325, 1) to be in the range [0.0, 1.0], got 1.0064325.\n"
     ]
    },
    {
     "name": "stderr",
     "output_type": "stream",
     "text": [
      "Processing images:  34%|███▎      | 335/1000 [00:12<00:19, 34.82it/s]"
     ]
    },
    {
     "name": "stdout",
     "output_type": "stream",
     "text": [
      "An error occurred with C:/github/Third-Year-Project/Intruder-Aircraft-Detection/datasets/Custom/weather_45_1000\\images\\train\\29894.jpg: Expected y_max for bbox (0.5705215, 0.8107574999999999, 0.8660985, 1.0078084999999999, 1) to be in the range [0.0, 1.0], got 1.0078084999999999.\n"
     ]
    },
    {
     "name": "stderr",
     "output_type": "stream",
     "text": [
      "Processing images:  70%|██████▉   | 696/1000 [00:23<00:08, 35.18it/s]"
     ]
    },
    {
     "name": "stdout",
     "output_type": "stream",
     "text": [
      "An error occurred with C:/github/Third-Year-Project/Intruder-Aircraft-Detection/datasets/Custom/weather_45_1000\\images\\train\\52751.jpg: Expected x_min for bbox (-0.06371850000000001, -0.10423849999999998, 0.7122185, 0.41305249999999993, 2) to be in the range [0.0, 1.0], got -0.06371850000000001.\n"
     ]
    },
    {
     "name": "stderr",
     "output_type": "stream",
     "text": [
      "Processing images:  75%|███████▌  | 753/1000 [00:25<00:07, 34.98it/s]"
     ]
    },
    {
     "name": "stdout",
     "output_type": "stream",
     "text": [
      "An error occurred with C:/github/Third-Year-Project/Intruder-Aircraft-Detection/datasets/Custom/weather_45_1000\\images\\train\\53114.jpg: Expected x_max for bbox (0.5044139999999999, 0.7477020000000001, 1.0455839999999998, 1.108482, 2) to be in the range [0.0, 1.0], got 1.0455839999999998.\n"
     ]
    },
    {
     "name": "stderr",
     "output_type": "stream",
     "text": [
      "Processing images:  78%|███████▊  | 778/1000 [00:25<00:06, 34.46it/s]"
     ]
    },
    {
     "name": "stdout",
     "output_type": "stream",
     "text": [
      "An error occurred with C:/github/Third-Year-Project/Intruder-Aircraft-Detection/datasets/Custom/weather_45_1000\\images\\train\\53248.jpg: Expected y_max for bbox (0.185026, 0.75632, 0.559774, 1.006152, 2) to be in the range [0.0, 1.0], got 1.006152.\n"
     ]
    },
    {
     "name": "stderr",
     "output_type": "stream",
     "text": [
      "Processing images: 100%|██████████| 1000/1000 [00:32<00:00, 30.71it/s]\n",
      "Processing images:  12%|█▏        | 181/1500 [00:10<00:39, 33.26it/s]"
     ]
    },
    {
     "name": "stdout",
     "output_type": "stream",
     "text": [
      "An error occurred with C:/github/Third-Year-Project/Intruder-Aircraft-Detection/datasets/Custom/weather_45_1000\\images\\train-aug\\28653.jpg: Expected x_max for bbox (0.4856945, 0.37555200000000005, 1.0210155, 0.732432, 1) to be in the range [0.0, 1.0], got 1.0210155.\n"
     ]
    },
    {
     "name": "stderr",
     "output_type": "stream",
     "text": [
      "Processing images:  24%|██▍       | 367/1500 [00:15<00:31, 35.64it/s]"
     ]
    },
    {
     "name": "stdout",
     "output_type": "stream",
     "text": [
      "An error occurred with C:/github/Third-Year-Project/Intruder-Aircraft-Detection/datasets/Custom/weather_45_1000\\images\\train-aug\\29446.jpg: Expected x_max for bbox (0.23347149999999994, 0.03606499999999996, 1.0153205, 0.5572969999999999, 1) to be in the range [0.0, 1.0], got 1.0153205.\n",
      "An error occurred with C:/github/Third-Year-Project/Intruder-Aircraft-Detection/datasets/Custom/weather_45_1000\\images\\train-aug\\29454.jpg: Expected y_max for bbox (0.166634, 0.6343235, 0.724798, 1.0064325, 1) to be in the range [0.0, 1.0], got 1.0064325.\n"
     ]
    },
    {
     "name": "stderr",
     "output_type": "stream",
     "text": [
      "Processing images:  33%|███▎      | 493/1500 [00:19<00:27, 36.79it/s]"
     ]
    },
    {
     "name": "stdout",
     "output_type": "stream",
     "text": [
      "An error occurred with C:/github/Third-Year-Project/Intruder-Aircraft-Detection/datasets/Custom/weather_45_1000\\images\\train-aug\\29894.jpg: Expected y_max for bbox (0.5705215, 0.8107574999999999, 0.8660985, 1.0078084999999999, 1) to be in the range [0.0, 1.0], got 1.0078084999999999.\n",
      "An error occurred with C:/github/Third-Year-Project/Intruder-Aircraft-Detection/datasets/Custom/weather_45_1000\\images\\train-aug\\29894-histEq.jpg: Expected y_max for bbox (0.5705215, 0.8107574999999999, 0.8660985, 1.0078084999999999, 1) to be in the range [0.0, 1.0], got 1.0078084999999999.\n"
     ]
    },
    {
     "name": "stderr",
     "output_type": "stream",
     "text": [
      "Processing images:  69%|██████▉   | 1042/1500 [00:36<00:12, 36.50it/s]"
     ]
    },
    {
     "name": "stdout",
     "output_type": "stream",
     "text": [
      "An error occurred with C:/github/Third-Year-Project/Intruder-Aircraft-Detection/datasets/Custom/weather_45_1000\\images\\train-aug\\52751.jpg: Expected x_min for bbox (-0.06371850000000001, -0.10423849999999998, 0.7122185, 0.41305249999999993, 2) to be in the range [0.0, 1.0], got -0.06371850000000001.\n",
      "An error occurred with C:/github/Third-Year-Project/Intruder-Aircraft-Detection/datasets/Custom/weather_45_1000\\images\\train-aug\\52751-histEq.jpg: Expected x_min for bbox (-0.06371850000000001, -0.10423849999999998, 0.7122185, 0.41305249999999993, 2) to be in the range [0.0, 1.0], got -0.06371850000000001.\n"
     ]
    },
    {
     "name": "stderr",
     "output_type": "stream",
     "text": [
      "Processing images:  75%|███████▍  | 1124/1500 [00:38<00:10, 37.41it/s]"
     ]
    },
    {
     "name": "stdout",
     "output_type": "stream",
     "text": [
      "An error occurred with C:/github/Third-Year-Project/Intruder-Aircraft-Detection/datasets/Custom/weather_45_1000\\images\\train-aug\\53114.jpg: Expected x_max for bbox (0.5044139999999999, 0.7477020000000001, 1.0455839999999998, 1.108482, 2) to be in the range [0.0, 1.0], got 1.0455839999999998.\n",
      "An error occurred with C:/github/Third-Year-Project/Intruder-Aircraft-Detection/datasets/Custom/weather_45_1000\\images\\train-aug\\53114-histEq.jpg: Expected x_max for bbox (0.5044139999999999, 0.7477020000000001, 1.0455839999999998, 1.108482, 2) to be in the range [0.0, 1.0], got 1.0455839999999998.\n"
     ]
    },
    {
     "name": "stderr",
     "output_type": "stream",
     "text": [
      "Processing images:  77%|███████▋  | 1161/1500 [00:39<00:09, 34.33it/s]"
     ]
    },
    {
     "name": "stdout",
     "output_type": "stream",
     "text": [
      "An error occurred with C:/github/Third-Year-Project/Intruder-Aircraft-Detection/datasets/Custom/weather_45_1000\\images\\train-aug\\53248.jpg: Expected y_max for bbox (0.185026, 0.75632, 0.559774, 1.006152, 2) to be in the range [0.0, 1.0], got 1.006152.\n"
     ]
    },
    {
     "name": "stderr",
     "output_type": "stream",
     "text": [
      "Processing images: 100%|██████████| 1500/1500 [00:50<00:00, 29.85it/s]\n",
      "Processing images:  76%|███████▌  | 151/200 [00:05<00:01, 35.27it/s]"
     ]
    },
    {
     "name": "stdout",
     "output_type": "stream",
     "text": [
      "An error occurred with C:/github/Third-Year-Project/Intruder-Aircraft-Detection/datasets/Custom/weather_45_1000\\images\\valid\\52925.jpg: Expected x_min for bbox (-0.17107, 0.23527800000000004, 0.669476, 0.795642, 2) to be in the range [0.0, 1.0], got -0.17107.\n"
     ]
    },
    {
     "name": "stderr",
     "output_type": "stream",
     "text": [
      "Processing images: 100%|██████████| 200/200 [00:06<00:00, 30.03it/s]\n",
      "Moving images in train: 100%|██████████| 993/993 [00:04<00:00, 248.16it/s]\n",
      "Moving images in train-aug: 100%|██████████| 1490/1490 [00:03<00:00, 383.38it/s]\n",
      "Moving images in valid: 100%|██████████| 199/199 [00:00<00:00, 252.06it/s]\n"
     ]
    },
    {
     "name": "stdout",
     "output_type": "stream",
     "text": [
      "Found 993 files belonging to 3 classes.\n",
      "Found 1490 files belonging to 3 classes.\n",
      "Found 199 files belonging to 3 classes.\n",
      "ClearML Task: created new task id=140e965b60a3472b906d1acab2139c3d\n",
      "ClearML results page: https://app.clear.ml/projects/62a798cfc814437d80f9638b3e3aca6d/experiments/140e965b60a3472b906d1acab2139c3d/output/log\n",
      "Training model...\n",
      "Epoch 1/30\n",
      "\u001b[1m32/32\u001b[0m \u001b[32m━━━━━━━━━━━━━━━━━━━━\u001b[0m\u001b[37m\u001b[0m \u001b[1m12s\u001b[0m 294ms/step - accuracy: 0.3786 - loss: 2.4305 - precision: 0.4021 - recall: 0.1331 - val_accuracy: 0.3317 - val_loss: 1.0984 - val_precision: 0.0000e+00 - val_recall: 0.0000e+00\n",
      "Epoch 2/30\n",
      "\u001b[1m32/32\u001b[0m \u001b[32m━━━━━━━━━━━━━━━━━━━━\u001b[0m\u001b[37m\u001b[0m \u001b[1m8s\u001b[0m 230ms/step - accuracy: 0.3100 - loss: 1.0992 - precision: 0.0000e+00 - recall: 0.0000e+00 - val_accuracy: 0.3367 - val_loss: 1.0986 - val_precision: 0.0000e+00 - val_recall: 0.0000e+00\n",
      "Epoch 3/30\n",
      "\u001b[1m32/32\u001b[0m \u001b[32m━━━━━━━━━━━━━━━━━━━━\u001b[0m\u001b[37m\u001b[0m \u001b[1m8s\u001b[0m 230ms/step - accuracy: 0.3297 - loss: 1.0986 - precision: 0.0000e+00 - recall: 0.0000e+00 - val_accuracy: 0.3317 - val_loss: 1.0986 - val_precision: 0.0000e+00 - val_recall: 0.0000e+00\n",
      "Epoch 4/30\n",
      "\u001b[1m32/32\u001b[0m \u001b[32m━━━━━━━━━━━━━━━━━━━━\u001b[0m\u001b[37m\u001b[0m \u001b[1m8s\u001b[0m 231ms/step - accuracy: 0.3319 - loss: 1.0986 - precision: 0.0000e+00 - recall: 0.0000e+00 - val_accuracy: 0.3317 - val_loss: 1.0986 - val_precision: 0.0000e+00 - val_recall: 0.0000e+00\n",
      "Epoch 5/30\n",
      "\u001b[1m32/32\u001b[0m \u001b[32m━━━━━━━━━━━━━━━━━━━━\u001b[0m\u001b[37m\u001b[0m \u001b[1m8s\u001b[0m 229ms/step - accuracy: 0.3307 - loss: 1.0987 - precision: 0.0000e+00 - recall: 0.0000e+00 - val_accuracy: 0.3367 - val_loss: 1.0986 - val_precision: 0.0000e+00 - val_recall: 0.0000e+00\n",
      "Epoch 6/30\n",
      "\u001b[1m32/32\u001b[0m \u001b[32m━━━━━━━━━━━━━━━━━━━━\u001b[0m\u001b[37m\u001b[0m \u001b[1m8s\u001b[0m 240ms/step - accuracy: 0.3210 - loss: 1.0990 - precision: 0.0000e+00 - recall: 0.0000e+00 - val_accuracy: 0.3317 - val_loss: 1.0986 - val_precision: 0.0000e+00 - val_recall: 0.0000e+00\n",
      "Epoch 7/30\n",
      "\u001b[1m32/32\u001b[0m \u001b[32m━━━━━━━━━━━━━━━━━━━━\u001b[0m\u001b[37m\u001b[0m \u001b[1m10s\u001b[0m 290ms/step - accuracy: 0.3247 - loss: 1.0991 - precision: 0.0000e+00 - recall: 0.0000e+00 - val_accuracy: 0.3317 - val_loss: 1.0986 - val_precision: 0.0000e+00 - val_recall: 0.0000e+00\n",
      "Epoch 8/30\n",
      "\u001b[1m32/32\u001b[0m \u001b[32m━━━━━━━━━━━━━━━━━━━━\u001b[0m\u001b[37m\u001b[0m \u001b[1m8s\u001b[0m 229ms/step - accuracy: 0.3294 - loss: 1.0986 - precision: 0.0000e+00 - recall: 0.0000e+00 - val_accuracy: 0.3317 - val_loss: 1.0986 - val_precision: 0.0000e+00 - val_recall: 0.0000e+00\n",
      "Epoch 9/30\n",
      "\u001b[1m32/32\u001b[0m \u001b[32m━━━━━━━━━━━━━━━━━━━━\u001b[0m\u001b[37m\u001b[0m \u001b[1m8s\u001b[0m 227ms/step - accuracy: 0.3422 - loss: 1.0988 - precision: 0.0000e+00 - recall: 0.0000e+00 - val_accuracy: 0.3367 - val_loss: 1.0986 - val_precision: 0.0000e+00 - val_recall: 0.0000e+00\n",
      "Epoch 10/30\n",
      "\u001b[1m32/32\u001b[0m \u001b[32m━━━━━━━━━━━━━━━━━━━━\u001b[0m\u001b[37m\u001b[0m \u001b[1m8s\u001b[0m 228ms/step - accuracy: 0.3116 - loss: 1.0990 - precision: 0.0000e+00 - recall: 0.0000e+00 - val_accuracy: 0.3317 - val_loss: 1.0986 - val_precision: 0.0000e+00 - val_recall: 0.0000e+00\n",
      "Epoch 11/30\n",
      "\u001b[1m32/32\u001b[0m \u001b[32m━━━━━━━━━━━━━━━━━━━━\u001b[0m\u001b[37m\u001b[0m \u001b[1m8s\u001b[0m 227ms/step - accuracy: 0.3377 - loss: 1.0987 - precision: 0.0000e+00 - recall: 0.0000e+00 - val_accuracy: 0.3317 - val_loss: 1.0985 - val_precision: 0.0000e+00 - val_recall: 0.0000e+00\n",
      "Epoch 12/30\n",
      "\u001b[1m32/32\u001b[0m \u001b[32m━━━━━━━━━━━━━━━━━━━━\u001b[0m\u001b[37m\u001b[0m \u001b[1m8s\u001b[0m 232ms/step - accuracy: 0.3492 - loss: 1.0985 - precision: 0.0000e+00 - recall: 0.0000e+00 - val_accuracy: 0.3317 - val_loss: 1.0984 - val_precision: 0.0000e+00 - val_recall: 0.0000e+00\n",
      "Epoch 13/30\n",
      "\u001b[1m32/32\u001b[0m \u001b[32m━━━━━━━━━━━━━━━━━━━━\u001b[0m\u001b[37m\u001b[0m \u001b[1m8s\u001b[0m 227ms/step - accuracy: 0.3686 - loss: 1.0985 - precision: 0.0000e+00 - recall: 0.0000e+00 - val_accuracy: 0.3317 - val_loss: 1.0985 - val_precision: 0.0000e+00 - val_recall: 0.0000e+00\n",
      "Epoch 14/30\n",
      "\u001b[1m32/32\u001b[0m \u001b[32m━━━━━━━━━━━━━━━━━━━━\u001b[0m\u001b[37m\u001b[0m \u001b[1m8s\u001b[0m 228ms/step - accuracy: 0.3360 - loss: 1.0985 - precision: 0.0000e+00 - recall: 0.0000e+00 - val_accuracy: 0.3317 - val_loss: 1.0984 - val_precision: 0.0000e+00 - val_recall: 0.0000e+00\n",
      "Epoch 15/30\n",
      "\u001b[1m32/32\u001b[0m \u001b[32m━━━━━━━━━━━━━━━━━━━━\u001b[0m\u001b[37m\u001b[0m \u001b[1m8s\u001b[0m 225ms/step - accuracy: 0.3395 - loss: 1.0993 - precision: 0.0000e+00 - recall: 0.0000e+00 - val_accuracy: 0.3317 - val_loss: 1.0986 - val_precision: 0.0000e+00 - val_recall: 0.0000e+00\n",
      "Epoch 16/30\n",
      "\u001b[1m32/32\u001b[0m \u001b[32m━━━━━━━━━━━━━━━━━━━━\u001b[0m\u001b[37m\u001b[0m \u001b[1m8s\u001b[0m 231ms/step - accuracy: 0.3281 - loss: 1.0985 - precision: 0.0000e+00 - recall: 0.0000e+00 - val_accuracy: 0.3317 - val_loss: 1.0985 - val_precision: 0.0000e+00 - val_recall: 0.0000e+00\n",
      "Epoch 17/30\n",
      "\u001b[1m32/32\u001b[0m \u001b[32m━━━━━━━━━━━━━━━━━━━━\u001b[0m\u001b[37m\u001b[0m \u001b[1m8s\u001b[0m 228ms/step - accuracy: 0.3301 - loss: 1.0986 - precision: 0.0000e+00 - recall: 0.0000e+00 - val_accuracy: 0.3317 - val_loss: 1.0985 - val_precision: 0.0000e+00 - val_recall: 0.0000e+00\n",
      "Epoch 18/30\n",
      "\u001b[1m32/32\u001b[0m \u001b[32m━━━━━━━━━━━━━━━━━━━━\u001b[0m\u001b[37m\u001b[0m \u001b[1m8s\u001b[0m 230ms/step - accuracy: 0.3245 - loss: 1.0989 - precision: 0.0000e+00 - recall: 0.0000e+00 - val_accuracy: 0.3266 - val_loss: 1.0984 - val_precision: 0.0000e+00 - val_recall: 0.0000e+00\n",
      "Epoch 19/30\n",
      "\u001b[1m32/32\u001b[0m \u001b[32m━━━━━━━━━━━━━━━━━━━━\u001b[0m\u001b[37m\u001b[0m \u001b[1m8s\u001b[0m 226ms/step - accuracy: 0.3766 - loss: 1.0982 - precision: 0.0000e+00 - recall: 0.0000e+00 - val_accuracy: 0.3317 - val_loss: 1.0985 - val_precision: 0.0000e+00 - val_recall: 0.0000e+00\n",
      "Epoch 20/30\n",
      "\u001b[1m32/32\u001b[0m \u001b[32m━━━━━━━━━━━━━━━━━━━━\u001b[0m\u001b[37m\u001b[0m \u001b[1m8s\u001b[0m 232ms/step - accuracy: 0.3414 - loss: 1.0984 - precision: 0.0000e+00 - recall: 0.0000e+00 - val_accuracy: 0.3317 - val_loss: 1.0985 - val_precision: 0.0000e+00 - val_recall: 0.0000e+00\n",
      "Epoch 21/30\n",
      "\u001b[1m32/32\u001b[0m \u001b[32m━━━━━━━━━━━━━━━━━━━━\u001b[0m\u001b[37m\u001b[0m \u001b[1m8s\u001b[0m 231ms/step - accuracy: 0.3431 - loss: 1.0982 - precision: 0.0000e+00 - recall: 0.0000e+00 - val_accuracy: 0.3317 - val_loss: 1.0984 - val_precision: 0.0000e+00 - val_recall: 0.0000e+00\n",
      "Epoch 22/30\n",
      "\u001b[1m32/32\u001b[0m \u001b[32m━━━━━━━━━━━━━━━━━━━━\u001b[0m\u001b[37m\u001b[0m \u001b[1m8s\u001b[0m 230ms/step - accuracy: 0.3364 - loss: 1.0983 - precision: 0.0000e+00 - recall: 0.0000e+00 - val_accuracy: 0.3317 - val_loss: 1.0984 - val_precision: 0.0000e+00 - val_recall: 0.0000e+00\n",
      "Epoch 23/30\n",
      "\u001b[1m32/32\u001b[0m \u001b[32m━━━━━━━━━━━━━━━━━━━━\u001b[0m\u001b[37m\u001b[0m \u001b[1m8s\u001b[0m 227ms/step - accuracy: 0.3408 - loss: 1.0981 - precision: 0.0000e+00 - recall: 0.0000e+00 - val_accuracy: 0.3317 - val_loss: 1.0983 - val_precision: 0.0000e+00 - val_recall: 0.0000e+00\n",
      "Epoch 24/30\n",
      "\u001b[1m32/32\u001b[0m \u001b[32m━━━━━━━━━━━━━━━━━━━━\u001b[0m\u001b[37m\u001b[0m \u001b[1m8s\u001b[0m 230ms/step - accuracy: 0.3470 - loss: 1.0983 - precision: 0.0000e+00 - recall: 0.0000e+00 - val_accuracy: 0.3317 - val_loss: 1.0979 - val_precision: 0.0000e+00 - val_recall: 0.0000e+00\n",
      "Epoch 25/30\n",
      "\u001b[1m32/32\u001b[0m \u001b[32m━━━━━━━━━━━━━━━━━━━━\u001b[0m\u001b[37m\u001b[0m \u001b[1m8s\u001b[0m 228ms/step - accuracy: 0.3306 - loss: 1.0986 - precision: 0.0000e+00 - recall: 0.0000e+00 - val_accuracy: 0.3317 - val_loss: 1.0982 - val_precision: 0.0000e+00 - val_recall: 0.0000e+00\n",
      "Epoch 26/30\n",
      "\u001b[1m32/32\u001b[0m \u001b[32m━━━━━━━━━━━━━━━━━━━━\u001b[0m\u001b[37m\u001b[0m \u001b[1m8s\u001b[0m 230ms/step - accuracy: 0.3164 - loss: 1.0987 - precision: 0.0000e+00 - recall: 0.0000e+00 - val_accuracy: 0.3317 - val_loss: 1.0956 - val_precision: 0.0000e+00 - val_recall: 0.0000e+00\n",
      "Epoch 27/30\n",
      "\u001b[1m32/32\u001b[0m \u001b[32m━━━━━━━━━━━━━━━━━━━━\u001b[0m\u001b[37m\u001b[0m \u001b[1m8s\u001b[0m 227ms/step - accuracy: 0.3698 - loss: 1.0995 - precision: 0.0000e+00 - recall: 0.0000e+00 - val_accuracy: 0.3417 - val_loss: 1.0833 - val_precision: 0.0000e+00 - val_recall: 0.0000e+00\n",
      "Epoch 28/30\n",
      "\u001b[1m32/32\u001b[0m \u001b[32m━━━━━━━━━━━━━━━━━━━━\u001b[0m\u001b[37m\u001b[0m \u001b[1m8s\u001b[0m 231ms/step - accuracy: 0.3337 - loss: 1.0949 - precision: 0.0000e+00 - recall: 0.0000e+00 - val_accuracy: 0.3266 - val_loss: 1.0898 - val_precision: 0.0000e+00 - val_recall: 0.0000e+00\n",
      "Epoch 29/30\n",
      "\u001b[1m32/32\u001b[0m \u001b[32m━━━━━━━━━━━━━━━━━━━━\u001b[0m\u001b[37m\u001b[0m \u001b[1m8s\u001b[0m 229ms/step - accuracy: 0.3382 - loss: 1.1002 - precision: 0.0000e+00 - recall: 0.0000e+00 - val_accuracy: 0.4070 - val_loss: 1.0948 - val_precision: 0.0000e+00 - val_recall: 0.0000e+00\n",
      "Epoch 30/30\n",
      "\u001b[1m32/32\u001b[0m \u001b[32m━━━━━━━━━━━━━━━━━━━━\u001b[0m\u001b[37m\u001b[0m \u001b[1m8s\u001b[0m 231ms/step - accuracy: 0.3554 - loss: 1.0963 - precision: 0.0000e+00 - recall: 0.0000e+00 - val_accuracy: 0.3367 - val_loss: 1.1333 - val_precision: 0.6667 - val_recall: 0.0201\n",
      "Predicting on validation set...\n",
      "\u001b[1m7/7\u001b[0m \u001b[32m━━━━━━━━━━━━━━━━━━━━\u001b[0m\u001b[37m\u001b[0m \u001b[1m1s\u001b[0m 61ms/step\n"
     ]
    },
    {
     "name": "stderr",
     "output_type": "stream",
     "text": [
      "c:\\Users\\tomev\\anaconda3\\envs\\tf-cpu\\Lib\\site-packages\\sklearn\\metrics\\_classification.py:1344: UndefinedMetricWarning:\n",
      "\n",
      "Precision and F-score are ill-defined and being set to 0.0 in labels with no predicted samples. Use `zero_division` parameter to control this behavior.\n",
      "\n",
      "c:\\Users\\tomev\\anaconda3\\envs\\tf-cpu\\Lib\\site-packages\\sklearn\\metrics\\_classification.py:1344: UndefinedMetricWarning:\n",
      "\n",
      "Precision and F-score are ill-defined and being set to 0.0 in labels with no predicted samples. Use `zero_division` parameter to control this behavior.\n",
      "\n",
      "c:\\Users\\tomev\\anaconda3\\envs\\tf-cpu\\Lib\\site-packages\\sklearn\\metrics\\_classification.py:1344: UndefinedMetricWarning:\n",
      "\n",
      "Precision and F-score are ill-defined and being set to 0.0 in labels with no predicted samples. Use `zero_division` parameter to control this behavior.\n",
      "\n"
     ]
    },
    {
     "name": "stdout",
     "output_type": "stream",
     "text": [
      "Sending metrics to clearML...\n",
      "done\n",
      "ClearML Task: created new task id=eadf17cee14f463890f98fa708f7a22b\n",
      "ClearML results page: https://app.clear.ml/projects/62a798cfc814437d80f9638b3e3aca6d/experiments/eadf17cee14f463890f98fa708f7a22b/output/log\n",
      "Training model...\n",
      "Epoch 1/30\n",
      "\u001b[1m47/47\u001b[0m \u001b[32m━━━━━━━━━━━━━━━━━━━━\u001b[0m\u001b[37m\u001b[0m \u001b[1m15s\u001b[0m 276ms/step - accuracy: 0.3287 - loss: 1.7740 - precision: 0.3285 - recall: 0.1015 - val_accuracy: 0.3317 - val_loss: 1.0986 - val_precision: 0.0000e+00 - val_recall: 0.0000e+00\n",
      "Epoch 2/30\n",
      "\u001b[1m47/47\u001b[0m \u001b[32m━━━━━━━━━━━━━━━━━━━━\u001b[0m\u001b[37m\u001b[0m \u001b[1m11s\u001b[0m 228ms/step - accuracy: 0.3532 - loss: 1.0985 - precision: 0.0000e+00 - recall: 0.0000e+00 - val_accuracy: 0.3317 - val_loss: 1.0986 - val_precision: 0.0000e+00 - val_recall: 0.0000e+00\n",
      "Epoch 3/30\n",
      "\u001b[1m47/47\u001b[0m \u001b[32m━━━━━━━━━━━━━━━━━━━━\u001b[0m\u001b[37m\u001b[0m \u001b[1m11s\u001b[0m 229ms/step - accuracy: 0.3418 - loss: 1.0986 - precision: 0.0000e+00 - recall: 0.0000e+00 - val_accuracy: 0.3317 - val_loss: 1.0986 - val_precision: 0.0000e+00 - val_recall: 0.0000e+00\n",
      "Epoch 4/30\n",
      "\u001b[1m47/47\u001b[0m \u001b[32m━━━━━━━━━━━━━━━━━━━━\u001b[0m\u001b[37m\u001b[0m \u001b[1m11s\u001b[0m 239ms/step - accuracy: 0.3686 - loss: 1.0981 - precision: 0.0000e+00 - recall: 0.0000e+00 - val_accuracy: 0.3317 - val_loss: 1.0987 - val_precision: 0.0000e+00 - val_recall: 0.0000e+00\n",
      "Epoch 5/30\n",
      "\u001b[1m47/47\u001b[0m \u001b[32m━━━━━━━━━━━━━━━━━━━━\u001b[0m\u001b[37m\u001b[0m \u001b[1m13s\u001b[0m 267ms/step - accuracy: 0.3569 - loss: 1.0979 - precision: 0.0000e+00 - recall: 0.0000e+00 - val_accuracy: 0.3317 - val_loss: 1.0987 - val_precision: 0.0000e+00 - val_recall: 0.0000e+00\n",
      "Epoch 6/30\n",
      "\u001b[1m47/47\u001b[0m \u001b[32m━━━━━━━━━━━━━━━━━━━━\u001b[0m\u001b[37m\u001b[0m \u001b[1m11s\u001b[0m 229ms/step - accuracy: 0.3575 - loss: 1.0977 - precision: 0.0000e+00 - recall: 0.0000e+00 - val_accuracy: 0.3317 - val_loss: 1.0946 - val_precision: 0.0000e+00 - val_recall: 0.0000e+00\n",
      "Epoch 7/30\n",
      "\u001b[1m47/47\u001b[0m \u001b[32m━━━━━━━━━━━━━━━━━━━━\u001b[0m\u001b[37m\u001b[0m \u001b[1m11s\u001b[0m 230ms/step - accuracy: 0.3977 - loss: 1.0996 - precision: 0.2924 - recall: 0.0164 - val_accuracy: 0.5829 - val_loss: 1.0668 - val_precision: 0.0000e+00 - val_recall: 0.0000e+00\n",
      "Epoch 8/30\n",
      "\u001b[1m47/47\u001b[0m \u001b[32m━━━━━━━━━━━━━━━━━━━━\u001b[0m\u001b[37m\u001b[0m \u001b[1m11s\u001b[0m 231ms/step - accuracy: 0.4941 - loss: 1.0289 - precision: 0.6411 - recall: 0.1099 - val_accuracy: 0.5980 - val_loss: 0.8741 - val_precision: 0.6977 - val_recall: 0.4523\n",
      "Epoch 9/30\n",
      "\u001b[1m47/47\u001b[0m \u001b[32m━━━━━━━━━━━━━━━━━━━━\u001b[0m\u001b[37m\u001b[0m \u001b[1m11s\u001b[0m 227ms/step - accuracy: 0.6419 - loss: 0.8296 - precision: 0.7201 - recall: 0.4782 - val_accuracy: 0.6633 - val_loss: 0.7795 - val_precision: 0.6842 - val_recall: 0.5879\n",
      "Epoch 10/30\n",
      "\u001b[1m47/47\u001b[0m \u001b[32m━━━━━━━━━━━━━━━━━━━━\u001b[0m\u001b[37m\u001b[0m \u001b[1m11s\u001b[0m 228ms/step - accuracy: 0.7476 - loss: 0.5950 - precision: 0.7879 - recall: 0.6927 - val_accuracy: 0.6985 - val_loss: 0.9569 - val_precision: 0.7074 - val_recall: 0.6683\n",
      "Epoch 11/30\n",
      "\u001b[1m47/47\u001b[0m \u001b[32m━━━━━━━━━━━━━━━━━━━━\u001b[0m\u001b[37m\u001b[0m \u001b[1m11s\u001b[0m 233ms/step - accuracy: 0.7878 - loss: 0.5196 - precision: 0.8173 - recall: 0.7560 - val_accuracy: 0.7387 - val_loss: 0.7488 - val_precision: 0.7430 - val_recall: 0.6683\n",
      "Epoch 12/30\n",
      "\u001b[1m47/47\u001b[0m \u001b[32m━━━━━━━━━━━━━━━━━━━━\u001b[0m\u001b[37m\u001b[0m \u001b[1m11s\u001b[0m 227ms/step - accuracy: 0.8291 - loss: 0.4267 - precision: 0.8515 - recall: 0.8076 - val_accuracy: 0.7136 - val_loss: 0.8250 - val_precision: 0.7189 - val_recall: 0.6683\n",
      "Epoch 13/30\n",
      "\u001b[1m47/47\u001b[0m \u001b[32m━━━━━━━━━━━━━━━━━━━━\u001b[0m\u001b[37m\u001b[0m \u001b[1m11s\u001b[0m 230ms/step - accuracy: 0.8558 - loss: 0.3877 - precision: 0.8713 - recall: 0.8439 - val_accuracy: 0.7337 - val_loss: 0.9977 - val_precision: 0.7500 - val_recall: 0.7236\n",
      "Epoch 14/30\n",
      "\u001b[1m47/47\u001b[0m \u001b[32m━━━━━━━━━━━━━━━━━━━━\u001b[0m\u001b[37m\u001b[0m \u001b[1m11s\u001b[0m 230ms/step - accuracy: 0.8581 - loss: 0.3193 - precision: 0.8728 - recall: 0.8503 - val_accuracy: 0.7538 - val_loss: 1.1113 - val_precision: 0.7590 - val_recall: 0.7437\n",
      "Epoch 15/30\n",
      "\u001b[1m47/47\u001b[0m \u001b[32m━━━━━━━━━━━━━━━━━━━━\u001b[0m\u001b[37m\u001b[0m \u001b[1m11s\u001b[0m 227ms/step - accuracy: 0.8964 - loss: 0.2605 - precision: 0.9028 - recall: 0.8883 - val_accuracy: 0.7588 - val_loss: 1.0167 - val_precision: 0.7692 - val_recall: 0.7538\n",
      "Epoch 16/30\n",
      "\u001b[1m47/47\u001b[0m \u001b[32m━━━━━━━━━━━━━━━━━━━━\u001b[0m\u001b[37m\u001b[0m \u001b[1m11s\u001b[0m 229ms/step - accuracy: 0.9038 - loss: 0.2466 - precision: 0.9120 - recall: 0.8965 - val_accuracy: 0.7437 - val_loss: 1.2580 - val_precision: 0.7487 - val_recall: 0.7337\n",
      "Epoch 17/30\n",
      "\u001b[1m47/47\u001b[0m \u001b[32m━━━━━━━━━━━━━━━━━━━━\u001b[0m\u001b[37m\u001b[0m \u001b[1m11s\u001b[0m 229ms/step - accuracy: 0.9085 - loss: 0.2297 - precision: 0.9149 - recall: 0.9041 - val_accuracy: 0.7588 - val_loss: 1.3322 - val_precision: 0.7551 - val_recall: 0.7437\n",
      "Epoch 18/30\n",
      "\u001b[1m47/47\u001b[0m \u001b[32m━━━━━━━━━━━━━━━━━━━━\u001b[0m\u001b[37m\u001b[0m \u001b[1m11s\u001b[0m 228ms/step - accuracy: 0.9394 - loss: 0.1718 - precision: 0.9408 - recall: 0.9360 - val_accuracy: 0.7286 - val_loss: 1.2868 - val_precision: 0.7385 - val_recall: 0.7236\n",
      "Epoch 19/30\n",
      "\u001b[1m47/47\u001b[0m \u001b[32m━━━━━━━━━━━━━━━━━━━━\u001b[0m\u001b[37m\u001b[0m \u001b[1m11s\u001b[0m 228ms/step - accuracy: 0.9375 - loss: 0.1685 - precision: 0.9422 - recall: 0.9359 - val_accuracy: 0.7588 - val_loss: 1.3344 - val_precision: 0.7665 - val_recall: 0.7588\n",
      "Epoch 20/30\n",
      "\u001b[1m47/47\u001b[0m \u001b[32m━━━━━━━━━━━━━━━━━━━━\u001b[0m\u001b[37m\u001b[0m \u001b[1m11s\u001b[0m 229ms/step - accuracy: 0.9500 - loss: 0.1323 - precision: 0.9505 - recall: 0.9495 - val_accuracy: 0.7688 - val_loss: 1.2739 - val_precision: 0.7677 - val_recall: 0.7638\n",
      "Epoch 21/30\n",
      "\u001b[1m47/47\u001b[0m \u001b[32m━━━━━━━━━━━━━━━━━━━━\u001b[0m\u001b[37m\u001b[0m \u001b[1m11s\u001b[0m 230ms/step - accuracy: 0.9476 - loss: 0.1375 - precision: 0.9489 - recall: 0.9470 - val_accuracy: 0.7538 - val_loss: 1.4589 - val_precision: 0.7576 - val_recall: 0.7538\n",
      "Epoch 22/30\n",
      "\u001b[1m47/47\u001b[0m \u001b[32m━━━━━━━━━━━━━━━━━━━━\u001b[0m\u001b[37m\u001b[0m \u001b[1m11s\u001b[0m 228ms/step - accuracy: 0.9562 - loss: 0.1165 - precision: 0.9561 - recall: 0.9538 - val_accuracy: 0.7588 - val_loss: 1.6141 - val_precision: 0.7588 - val_recall: 0.7588\n",
      "Epoch 23/30\n",
      "\u001b[1m47/47\u001b[0m \u001b[32m━━━━━━━━━━━━━━━━━━━━\u001b[0m\u001b[37m\u001b[0m \u001b[1m11s\u001b[0m 229ms/step - accuracy: 0.9586 - loss: 0.1114 - precision: 0.9585 - recall: 0.9546 - val_accuracy: 0.7688 - val_loss: 1.3561 - val_precision: 0.7732 - val_recall: 0.7538\n",
      "Epoch 24/30\n",
      "\u001b[1m47/47\u001b[0m \u001b[32m━━━━━━━━━━━━━━━━━━━━\u001b[0m\u001b[37m\u001b[0m \u001b[1m11s\u001b[0m 228ms/step - accuracy: 0.9495 - loss: 0.1249 - precision: 0.9526 - recall: 0.9486 - val_accuracy: 0.7538 - val_loss: 1.5812 - val_precision: 0.7576 - val_recall: 0.7538\n",
      "Epoch 25/30\n",
      "\u001b[1m47/47\u001b[0m \u001b[32m━━━━━━━━━━━━━━━━━━━━\u001b[0m\u001b[37m\u001b[0m \u001b[1m11s\u001b[0m 230ms/step - accuracy: 0.9667 - loss: 0.0855 - precision: 0.9668 - recall: 0.9656 - val_accuracy: 0.7437 - val_loss: 1.7479 - val_precision: 0.7462 - val_recall: 0.7387\n",
      "Epoch 26/30\n",
      "\u001b[1m47/47\u001b[0m \u001b[32m━━━━━━━━━━━━━━━━━━━━\u001b[0m\u001b[37m\u001b[0m \u001b[1m11s\u001b[0m 228ms/step - accuracy: 0.9731 - loss: 0.0896 - precision: 0.9732 - recall: 0.9712 - val_accuracy: 0.7437 - val_loss: 1.8157 - val_precision: 0.7475 - val_recall: 0.7437\n",
      "Epoch 27/30\n",
      "\u001b[1m47/47\u001b[0m \u001b[32m━━━━━━━━━━━━━━━━━━━━\u001b[0m\u001b[37m\u001b[0m \u001b[1m11s\u001b[0m 229ms/step - accuracy: 0.9760 - loss: 0.0785 - precision: 0.9761 - recall: 0.9756 - val_accuracy: 0.7638 - val_loss: 1.7680 - val_precision: 0.7638 - val_recall: 0.7638\n",
      "Epoch 28/30\n",
      "\u001b[1m47/47\u001b[0m \u001b[32m━━━━━━━━━━━━━━━━━━━━\u001b[0m\u001b[37m\u001b[0m \u001b[1m11s\u001b[0m 230ms/step - accuracy: 0.9812 - loss: 0.0565 - precision: 0.9813 - recall: 0.9812 - val_accuracy: 0.7437 - val_loss: 1.8944 - val_precision: 0.7475 - val_recall: 0.7437\n",
      "Epoch 29/30\n",
      "\u001b[1m47/47\u001b[0m \u001b[32m━━━━━━━━━━━━━━━━━━━━\u001b[0m\u001b[37m\u001b[0m \u001b[1m11s\u001b[0m 227ms/step - accuracy: 0.9802 - loss: 0.0609 - precision: 0.9803 - recall: 0.9802 - val_accuracy: 0.7839 - val_loss: 1.9595 - val_precision: 0.7868 - val_recall: 0.7789\n",
      "Epoch 30/30\n",
      "\u001b[1m47/47\u001b[0m \u001b[32m━━━━━━━━━━━━━━━━━━━━\u001b[0m\u001b[37m\u001b[0m \u001b[1m11s\u001b[0m 232ms/step - accuracy: 0.9869 - loss: 0.0519 - precision: 0.9869 - recall: 0.9856 - val_accuracy: 0.7638 - val_loss: 1.9709 - val_precision: 0.7677 - val_recall: 0.7638\n",
      "Predicting on validation set...\n",
      "\u001b[1m7/7\u001b[0m \u001b[32m━━━━━━━━━━━━━━━━━━━━\u001b[0m\u001b[37m\u001b[0m \u001b[1m1s\u001b[0m 59ms/step\n",
      "Sending metrics to clearML...\n",
      "done\n"
     ]
    }
   ],
   "source": [
    "# histeq augmentation\n",
    "task_name = 'he'\n",
    "sub_project_name = 'HIST_EQ'\n",
    "\n",
    "augmentation_metadata = {\n",
    "        'methods': {        \n",
    "            'histEq': {\n",
    "                'parameters': {\n",
    "                    'p': 1.0  # Probability of applying the augmentation\n",
    "                },\n",
    "                'apply_to_percentage': 0.5  # 50% of the training images\n",
    "            }        \n",
    "        }\n",
    "    }\n",
    "\n",
    "for i in range(N):\n",
    "    RUN = i + 1\n",
    "    try:\n",
    "        print(f\"Starting RUN: {RUN}\")\n",
    "        main(RUN, augmentation_metadata, task_name, sub_project_name, epochs, train_size, w1, w2)\n",
    "    except Exception as e:\n",
    "        print(f\"Error in RUN: {RUN}\")\n",
    "        print(e)\n",
    "    finally:\n",
    "        clear_output(wait=True)  # Clear the output to avoid scrolling\n",
    "        gc.collect()  # Collect garbage to avoid memory leaks"
   ]
  },
  {
   "cell_type": "code",
   "execution_count": 26,
   "metadata": {},
   "outputs": [
    {
     "name": "stdout",
     "output_type": "stream",
     "text": [
      "Starting RUN: 5\n",
      "Seed:  1522771197\n"
     ]
    },
    {
     "name": "stderr",
     "output_type": "stream",
     "text": [
      "c:\\github\\Third-Year-Project\\Intruder-Aircraft-Detection\\main\\tl_clf.py:79: SettingWithCopyWarning:\n",
      "\n",
      "\n",
      "A value is trying to be set on a copy of a slice from a DataFrame.\n",
      "Try using .loc[row_indexer,col_indexer] = value instead\n",
      "\n",
      "See the caveats in the documentation: https://pandas.pydata.org/pandas-docs/stable/user_guide/indexing.html#returning-a-view-versus-a-copy\n",
      "\n",
      "c:\\github\\Third-Year-Project\\Intruder-Aircraft-Detection\\main\\tl_clf.py:80: SettingWithCopyWarning:\n",
      "\n",
      "\n",
      "A value is trying to be set on a copy of a slice from a DataFrame.\n",
      "Try using .loc[row_indexer,col_indexer] = value instead\n",
      "\n",
      "See the caveats in the documentation: https://pandas.pydata.org/pandas-docs/stable/user_guide/indexing.html#returning-a-view-versus-a-copy\n",
      "\n"
     ]
    },
    {
     "name": "stdout",
     "output_type": "stream",
     "text": [
      "Removing dataset if pre-existing\n",
      "Copying training files:\n"
     ]
    },
    {
     "name": "stderr",
     "output_type": "stream",
     "text": [
      "Copying files: 100%|██████████| 2000/2000 [00:01<00:00, 1115.79it/s]\n"
     ]
    },
    {
     "name": "stdout",
     "output_type": "stream",
     "text": [
      "Copying validation files:\n"
     ]
    },
    {
     "name": "stderr",
     "output_type": "stream",
     "text": [
      "Copying files: 100%|██████████| 400/400 [00:00<00:00, 830.55it/s] \n"
     ]
    },
    {
     "name": "stdout",
     "output_type": "stream",
     "text": [
      "Dataset 'weather_45_1000' created at C:\\github\\Third-Year-Project\\Intruder-Aircraft-Detection\\datasets\\Custom\\weather_45_1000\n",
      "Processing train labels in weather_45_1000:\n"
     ]
    },
    {
     "name": "stderr",
     "output_type": "stream",
     "text": [
      "Processing labels: 100%|██████████| 1000/1000 [00:04<00:00, 249.88it/s]\n"
     ]
    },
    {
     "name": "stdout",
     "output_type": "stream",
     "text": [
      "Processing valid labels in weather_45_1000:\n"
     ]
    },
    {
     "name": "stderr",
     "output_type": "stream",
     "text": [
      "Processing labels: 100%|██████████| 200/200 [00:00<00:00, 259.68it/s]\n"
     ]
    },
    {
     "name": "stdout",
     "output_type": "stream",
     "text": [
      "Label correction completed.\n"
     ]
    },
    {
     "name": "stderr",
     "output_type": "stream",
     "text": [
      "Removing existing directories/files: 100%|██████████| 3/3 [00:00<00:00, 6006.16it/s]\n",
      "Copying files: 100%|██████████| 1000/1000 [00:00<00:00, 1091.41it/s]\n",
      "Copying files: 100%|██████████| 1000/1000 [00:00<00:00, 1332.10it/s]\n",
      "Applying augmentations: 100%|██████████| 500/500 [00:11<00:00, 44.41it/s]\n",
      "Processing images:   1%|▏         | 13/1000 [00:00<01:02, 15.71it/s]"
     ]
    },
    {
     "name": "stdout",
     "output_type": "stream",
     "text": [
      "An error occurred with C:/github/Third-Year-Project/Intruder-Aircraft-Detection/datasets/Custom/weather_45_1000\\images\\train\\28040.jpg: Expected x_min for bbox (-0.0473615, 0.3129345, 0.5972675000000001, 0.7426875, 1) to be in the range [0.0, 1.0], got -0.0473615.\n"
     ]
    },
    {
     "name": "stderr",
     "output_type": "stream",
     "text": [
      "Processing images:  12%|█▏        | 124/1000 [00:06<00:29, 29.61it/s]"
     ]
    },
    {
     "name": "stdout",
     "output_type": "stream",
     "text": [
      "An error occurred with C:/github/Third-Year-Project/Intruder-Aircraft-Detection/datasets/Custom/weather_45_1000\\images\\train\\28653.jpg: Expected x_max for bbox (0.4856945, 0.37555200000000005, 1.0210155, 0.732432, 1) to be in the range [0.0, 1.0], got 1.0210155.\n"
     ]
    },
    {
     "name": "stderr",
     "output_type": "stream",
     "text": [
      "Processing images:  16%|█▌        | 160/1000 [00:07<00:28, 29.40it/s]"
     ]
    },
    {
     "name": "stdout",
     "output_type": "stream",
     "text": [
      "An error occurred with C:/github/Third-Year-Project/Intruder-Aircraft-Detection/datasets/Custom/weather_45_1000\\images\\train\\28830.jpg: Expected y_max for bbox (0.3830585, 0.754232, 0.8080715, 1.037574, 1) to be in the range [0.0, 1.0], got 1.037574.\n"
     ]
    },
    {
     "name": "stderr",
     "output_type": "stream",
     "text": [
      "Processing images:  62%|██████▏   | 624/1000 [00:21<00:10, 34.72it/s]"
     ]
    },
    {
     "name": "stdout",
     "output_type": "stream",
     "text": [
      "An error occurred with C:/github/Third-Year-Project/Intruder-Aircraft-Detection/datasets/Custom/weather_45_1000\\images\\train\\52365.jpg: Expected x_max for bbox (0.487545, 0.513501, 1.0378530000000001, 0.880373, 2) to be in the range [0.0, 1.0], got 1.0378530000000001.\n",
      "An error occurred with C:/github/Third-Year-Project/Intruder-Aircraft-Detection/datasets/Custom/weather_45_1000\\images\\train\\52375.jpg: Expected y_max for bbox (0.19351849999999998, 0.622445, 0.7759535, 1.010735, 2) to be in the range [0.0, 1.0], got 1.010735.\n"
     ]
    },
    {
     "name": "stderr",
     "output_type": "stream",
     "text": [
      "Processing images:  70%|██████▉   | 698/1000 [00:24<00:08, 36.33it/s]"
     ]
    },
    {
     "name": "stdout",
     "output_type": "stream",
     "text": [
      "An error occurred with C:/github/Third-Year-Project/Intruder-Aircraft-Detection/datasets/Custom/weather_45_1000\\images\\train\\52751.jpg: Expected x_min for bbox (-0.06371850000000001, -0.10423849999999998, 0.7122185, 0.41305249999999993, 2) to be in the range [0.0, 1.0], got -0.06371850000000001.\n"
     ]
    },
    {
     "name": "stderr",
     "output_type": "stream",
     "text": [
      "Processing images:  78%|███████▊  | 775/1000 [00:26<00:06, 37.14it/s]"
     ]
    },
    {
     "name": "stdout",
     "output_type": "stream",
     "text": [
      "An error occurred with C:/github/Third-Year-Project/Intruder-Aircraft-Detection/datasets/Custom/weather_45_1000\\images\\train\\53248.jpg: Expected y_max for bbox (0.185026, 0.75632, 0.559774, 1.006152, 2) to be in the range [0.0, 1.0], got 1.006152.\n"
     ]
    },
    {
     "name": "stderr",
     "output_type": "stream",
     "text": [
      "Processing images: 100%|██████████| 1000/1000 [00:33<00:00, 30.20it/s]\n",
      "Processing images:   0%|          | 5/1500 [00:00<01:07, 22.26it/s]"
     ]
    },
    {
     "name": "stdout",
     "output_type": "stream",
     "text": [
      "An error occurred with C:/github/Third-Year-Project/Intruder-Aircraft-Detection/datasets/Custom/weather_45_1000\\images\\train-aug\\28040.jpg: Expected x_min for bbox (-0.0473615, 0.3129345, 0.5972675000000001, 0.7426875, 1) to be in the range [0.0, 1.0], got -0.0473615.\n"
     ]
    },
    {
     "name": "stderr",
     "output_type": "stream",
     "text": [
      "Processing images:  12%|█▏        | 185/1500 [00:09<00:39, 33.59it/s]"
     ]
    },
    {
     "name": "stdout",
     "output_type": "stream",
     "text": [
      "An error occurred with C:/github/Third-Year-Project/Intruder-Aircraft-Detection/datasets/Custom/weather_45_1000\\images\\train-aug\\28653-whiteBal.jpg: Expected x_max for bbox (0.4856945, 0.37555200000000005, 1.0210155, 0.732432, 1) to be in the range [0.0, 1.0], got 1.0210155.\n",
      "An error occurred with C:/github/Third-Year-Project/Intruder-Aircraft-Detection/datasets/Custom/weather_45_1000\\images\\train-aug\\28653.jpg: Expected x_max for bbox (0.4856945, 0.37555200000000005, 1.0210155, 0.732432, 1) to be in the range [0.0, 1.0], got 1.0210155.\n"
     ]
    },
    {
     "name": "stderr",
     "output_type": "stream",
     "text": [
      "Processing images:  15%|█▌        | 230/1500 [00:11<00:36, 34.33it/s]"
     ]
    },
    {
     "name": "stdout",
     "output_type": "stream",
     "text": [
      "An error occurred with C:/github/Third-Year-Project/Intruder-Aircraft-Detection/datasets/Custom/weather_45_1000\\images\\train-aug\\28830.jpg: Expected y_max for bbox (0.3830585, 0.754232, 0.8080715, 1.037574, 1) to be in the range [0.0, 1.0], got 1.037574.\n",
      "An error occurred with C:/github/Third-Year-Project/Intruder-Aircraft-Detection/datasets/Custom/weather_45_1000\\images\\train-aug\\28830-whiteBal.jpg: Expected y_max for bbox (0.3830585, 0.754232, 0.8080715, 1.037574, 1) to be in the range [0.0, 1.0], got 1.037574.\n"
     ]
    },
    {
     "name": "stderr",
     "output_type": "stream",
     "text": [
      "Processing images:  61%|██████▏   | 922/1500 [00:32<00:15, 38.28it/s]"
     ]
    },
    {
     "name": "stdout",
     "output_type": "stream",
     "text": [
      "An error occurred with C:/github/Third-Year-Project/Intruder-Aircraft-Detection/datasets/Custom/weather_45_1000\\images\\train-aug\\52365.jpg: Expected x_max for bbox (0.487545, 0.513501, 1.0378530000000001, 0.880373, 2) to be in the range [0.0, 1.0], got 1.0378530000000001.\n",
      "An error occurred with C:/github/Third-Year-Project/Intruder-Aircraft-Detection/datasets/Custom/weather_45_1000\\images\\train-aug\\52365-whiteBal.jpg: Expected x_max for bbox (0.487545, 0.513501, 1.0378530000000001, 0.880373, 2) to be in the range [0.0, 1.0], got 1.0378530000000001.\n",
      "An error occurred with C:/github/Third-Year-Project/Intruder-Aircraft-Detection/datasets/Custom/weather_45_1000\\images\\train-aug\\52375-whiteBal.jpg: Expected y_max for bbox (0.19351849999999998, 0.622445, 0.7759535, 1.010735, 2) to be in the range [0.0, 1.0], got 1.010735.\n"
     ]
    },
    {
     "name": "stderr",
     "output_type": "stream",
     "text": [
      "Processing images:  62%|██████▏   | 927/1500 [00:32<00:14, 40.12it/s]"
     ]
    },
    {
     "name": "stdout",
     "output_type": "stream",
     "text": [
      "An error occurred with C:/github/Third-Year-Project/Intruder-Aircraft-Detection/datasets/Custom/weather_45_1000\\images\\train-aug\\52375.jpg: Expected y_max for bbox (0.19351849999999998, 0.622445, 0.7759535, 1.010735, 2) to be in the range [0.0, 1.0], got 1.010735.\n"
     ]
    },
    {
     "name": "stderr",
     "output_type": "stream",
     "text": [
      "Processing images:  70%|██████▉   | 1049/1500 [00:36<00:12, 35.69it/s]"
     ]
    },
    {
     "name": "stdout",
     "output_type": "stream",
     "text": [
      "An error occurred with C:/github/Third-Year-Project/Intruder-Aircraft-Detection/datasets/Custom/weather_45_1000\\images\\train-aug\\52751.jpg: Expected x_min for bbox (-0.06371850000000001, -0.10423849999999998, 0.7122185, 0.41305249999999993, 2) to be in the range [0.0, 1.0], got -0.06371850000000001.\n",
      "An error occurred with C:/github/Third-Year-Project/Intruder-Aircraft-Detection/datasets/Custom/weather_45_1000\\images\\train-aug\\52751-whiteBal.jpg: Expected x_min for bbox (-0.06371850000000001, -0.10423849999999998, 0.7122185, 0.41305249999999993, 2) to be in the range [0.0, 1.0], got -0.06371850000000001.\n"
     ]
    },
    {
     "name": "stderr",
     "output_type": "stream",
     "text": [
      "Processing images:  77%|███████▋  | 1158/1500 [00:39<00:09, 36.67it/s]"
     ]
    },
    {
     "name": "stdout",
     "output_type": "stream",
     "text": [
      "An error occurred with C:/github/Third-Year-Project/Intruder-Aircraft-Detection/datasets/Custom/weather_45_1000\\images\\train-aug\\53248.jpg: Expected y_max for bbox (0.185026, 0.75632, 0.559774, 1.006152, 2) to be in the range [0.0, 1.0], got 1.006152.\n"
     ]
    },
    {
     "name": "stderr",
     "output_type": "stream",
     "text": [
      "Processing images: 100%|██████████| 1500/1500 [00:49<00:00, 30.07it/s]\n",
      "Processing images:  74%|███████▎  | 147/200 [00:04<00:01, 34.75it/s]"
     ]
    },
    {
     "name": "stdout",
     "output_type": "stream",
     "text": [
      "An error occurred with C:/github/Third-Year-Project/Intruder-Aircraft-Detection/datasets/Custom/weather_45_1000\\images\\valid\\52916.jpg: In YOLO format all coordinates must be float and in range (0, 1]\n"
     ]
    },
    {
     "name": "stderr",
     "output_type": "stream",
     "text": [
      "Processing images: 100%|██████████| 200/200 [00:06<00:00, 30.31it/s]\n",
      "Moving images in train: 100%|██████████| 993/993 [00:04<00:00, 247.67it/s]\n",
      "Moving images in train-aug: 100%|██████████| 1488/1488 [00:03<00:00, 413.76it/s]\n",
      "Moving images in valid: 100%|██████████| 199/199 [00:00<00:00, 258.38it/s]\n"
     ]
    },
    {
     "name": "stdout",
     "output_type": "stream",
     "text": [
      "Found 993 files belonging to 3 classes.\n",
      "Found 1488 files belonging to 3 classes.\n",
      "Found 199 files belonging to 3 classes.\n",
      "ClearML Task: created new task id=27a119c1ab9540a89b26219ae99f7269\n",
      "ClearML results page: https://app.clear.ml/projects/7bc049eb4223468a9a77e7ff2e4ac17e/experiments/27a119c1ab9540a89b26219ae99f7269/output/log\n",
      "Training model...\n",
      "Epoch 1/30\n",
      "\u001b[1m32/32\u001b[0m \u001b[32m━━━━━━━━━━━━━━━━━━━━\u001b[0m\u001b[37m\u001b[0m \u001b[1m12s\u001b[0m 297ms/step - accuracy: 0.3304 - loss: 2.2222 - precision: 0.3476 - recall: 0.1382 - val_accuracy: 0.3920 - val_loss: 1.0985 - val_precision: 0.0000e+00 - val_recall: 0.0000e+00\n",
      "Epoch 2/30\n",
      "\u001b[1m32/32\u001b[0m \u001b[32m━━━━━━━━━━━━━━━━━━━━\u001b[0m\u001b[37m\u001b[0m \u001b[1m8s\u001b[0m 229ms/step - accuracy: 0.3475 - loss: 1.0988 - precision: 0.0000e+00 - recall: 0.0000e+00 - val_accuracy: 0.3367 - val_loss: 1.0984 - val_precision: 0.0000e+00 - val_recall: 0.0000e+00\n",
      "Epoch 3/30\n",
      "\u001b[1m32/32\u001b[0m \u001b[32m━━━━━━━━━━━━━━━━━━━━\u001b[0m\u001b[37m\u001b[0m \u001b[1m8s\u001b[0m 229ms/step - accuracy: 0.3425 - loss: 1.1017 - precision: 0.0000e+00 - recall: 0.0000e+00 - val_accuracy: 0.3367 - val_loss: 1.0981 - val_precision: 0.0000e+00 - val_recall: 0.0000e+00\n",
      "Epoch 4/30\n",
      "\u001b[1m32/32\u001b[0m \u001b[32m━━━━━━━━━━━━━━━━━━━━\u001b[0m\u001b[37m\u001b[0m \u001b[1m8s\u001b[0m 231ms/step - accuracy: 0.3311 - loss: 1.0987 - precision: 0.0000e+00 - recall: 0.0000e+00 - val_accuracy: 0.3367 - val_loss: 1.0982 - val_precision: 0.0000e+00 - val_recall: 0.0000e+00\n",
      "Epoch 5/30\n",
      "\u001b[1m32/32\u001b[0m \u001b[32m━━━━━━━━━━━━━━━━━━━━\u001b[0m\u001b[37m\u001b[0m \u001b[1m8s\u001b[0m 230ms/step - accuracy: 0.3280 - loss: 1.0984 - precision: 0.0000e+00 - recall: 0.0000e+00 - val_accuracy: 0.3367 - val_loss: 1.0977 - val_precision: 0.0000e+00 - val_recall: 0.0000e+00\n",
      "Epoch 6/30\n",
      "\u001b[1m32/32\u001b[0m \u001b[32m━━━━━━━━━━━━━━━━━━━━\u001b[0m\u001b[37m\u001b[0m \u001b[1m8s\u001b[0m 244ms/step - accuracy: 0.3369 - loss: 1.0995 - precision: 0.0000e+00 - recall: 0.0000e+00 - val_accuracy: 0.4221 - val_loss: 1.0981 - val_precision: 0.0000e+00 - val_recall: 0.0000e+00\n",
      "Epoch 7/30\n",
      "\u001b[1m32/32\u001b[0m \u001b[32m━━━━━━━━━━━━━━━━━━━━\u001b[0m\u001b[37m\u001b[0m \u001b[1m9s\u001b[0m 284ms/step - accuracy: 0.3717 - loss: 1.0987 - precision: 0.0000e+00 - recall: 0.0000e+00 - val_accuracy: 0.3417 - val_loss: 1.0977 - val_precision: 0.0000e+00 - val_recall: 0.0000e+00\n",
      "Epoch 8/30\n",
      "\u001b[1m32/32\u001b[0m \u001b[32m━━━━━━━━━━━━━━━━━━━━\u001b[0m\u001b[37m\u001b[0m \u001b[1m8s\u001b[0m 233ms/step - accuracy: 0.3452 - loss: 1.0984 - precision: 0.0000e+00 - recall: 0.0000e+00 - val_accuracy: 0.3367 - val_loss: 1.0975 - val_precision: 0.0000e+00 - val_recall: 0.0000e+00\n",
      "Epoch 9/30\n",
      "\u001b[1m32/32\u001b[0m \u001b[32m━━━━━━━━━━━━━━━━━━━━\u001b[0m\u001b[37m\u001b[0m \u001b[1m8s\u001b[0m 232ms/step - accuracy: 0.3428 - loss: 1.0990 - precision: 0.0000e+00 - recall: 0.0000e+00 - val_accuracy: 0.3417 - val_loss: 1.0975 - val_precision: 0.0000e+00 - val_recall: 0.0000e+00\n",
      "Epoch 10/30\n",
      "\u001b[1m32/32\u001b[0m \u001b[32m━━━━━━━━━━━━━━━━━━━━\u001b[0m\u001b[37m\u001b[0m \u001b[1m8s\u001b[0m 229ms/step - accuracy: 0.3429 - loss: 1.0979 - precision: 0.0000e+00 - recall: 0.0000e+00 - val_accuracy: 0.3367 - val_loss: 1.0969 - val_precision: 0.0000e+00 - val_recall: 0.0000e+00\n",
      "Epoch 11/30\n",
      "\u001b[1m32/32\u001b[0m \u001b[32m━━━━━━━━━━━━━━━━━━━━\u001b[0m\u001b[37m\u001b[0m \u001b[1m8s\u001b[0m 228ms/step - accuracy: 0.3620 - loss: 1.0974 - precision: 0.0000e+00 - recall: 0.0000e+00 - val_accuracy: 0.3417 - val_loss: 1.0963 - val_precision: 0.0000e+00 - val_recall: 0.0000e+00\n",
      "Epoch 12/30\n",
      "\u001b[1m32/32\u001b[0m \u001b[32m━━━━━━━━━━━━━━━━━━━━\u001b[0m\u001b[37m\u001b[0m \u001b[1m8s\u001b[0m 229ms/step - accuracy: 0.3492 - loss: 1.0975 - precision: 0.0000e+00 - recall: 0.0000e+00 - val_accuracy: 0.3417 - val_loss: 1.0960 - val_precision: 0.0000e+00 - val_recall: 0.0000e+00\n",
      "Epoch 13/30\n",
      "\u001b[1m32/32\u001b[0m \u001b[32m━━━━━━━━━━━━━━━━━━━━\u001b[0m\u001b[37m\u001b[0m \u001b[1m8s\u001b[0m 232ms/step - accuracy: 0.3362 - loss: 1.0961 - precision: 0.0000e+00 - recall: 0.0000e+00 - val_accuracy: 0.4322 - val_loss: 1.0945 - val_precision: 0.0000e+00 - val_recall: 0.0000e+00\n",
      "Epoch 14/30\n",
      "\u001b[1m32/32\u001b[0m \u001b[32m━━━━━━━━━━━━━━━━━━━━\u001b[0m\u001b[37m\u001b[0m \u001b[1m8s\u001b[0m 228ms/step - accuracy: 0.3812 - loss: 1.1009 - precision: 0.3112 - recall: 0.0067 - val_accuracy: 0.3417 - val_loss: 1.0979 - val_precision: 0.0000e+00 - val_recall: 0.0000e+00\n",
      "Epoch 15/30\n",
      "\u001b[1m32/32\u001b[0m \u001b[32m━━━━━━━━━━━━━━━━━━━━\u001b[0m\u001b[37m\u001b[0m \u001b[1m8s\u001b[0m 230ms/step - accuracy: 0.3949 - loss: 1.0909 - precision: 0.3076 - recall: 0.0296 - val_accuracy: 0.4523 - val_loss: 1.0551 - val_precision: 0.6923 - val_recall: 0.0452\n",
      "Epoch 16/30\n",
      "\u001b[1m32/32\u001b[0m \u001b[32m━━━━━━━━━━━━━━━━━━━━\u001b[0m\u001b[37m\u001b[0m \u001b[1m8s\u001b[0m 228ms/step - accuracy: 0.4889 - loss: 0.9920 - precision: 0.7621 - recall: 0.1716 - val_accuracy: 0.6231 - val_loss: 0.9668 - val_precision: 0.6800 - val_recall: 0.1709\n",
      "Epoch 17/30\n",
      "\u001b[1m32/32\u001b[0m \u001b[32m━━━━━━━━━━━━━━━━━━━━\u001b[0m\u001b[37m\u001b[0m \u001b[1m8s\u001b[0m 231ms/step - accuracy: 0.5574 - loss: 0.9040 - precision: 0.7627 - recall: 0.2872 - val_accuracy: 0.6181 - val_loss: 0.8817 - val_precision: 0.6975 - val_recall: 0.4171\n",
      "Epoch 18/30\n",
      "\u001b[1m32/32\u001b[0m \u001b[32m━━━━━━━━━━━━━━━━━━━━\u001b[0m\u001b[37m\u001b[0m \u001b[1m8s\u001b[0m 228ms/step - accuracy: 0.6316 - loss: 0.8846 - precision: 0.7461 - recall: 0.3150 - val_accuracy: 0.6131 - val_loss: 1.0839 - val_precision: 0.6344 - val_recall: 0.5930\n",
      "Epoch 19/30\n",
      "\u001b[1m32/32\u001b[0m \u001b[32m━━━━━━━━━━━━━━━━━━━━\u001b[0m\u001b[37m\u001b[0m \u001b[1m8s\u001b[0m 230ms/step - accuracy: 0.6799 - loss: 0.7514 - precision: 0.7169 - recall: 0.6077 - val_accuracy: 0.6181 - val_loss: 0.8508 - val_precision: 0.7333 - val_recall: 0.4422\n",
      "Epoch 20/30\n",
      "\u001b[1m32/32\u001b[0m \u001b[32m━━━━━━━━━━━━━━━━━━━━\u001b[0m\u001b[37m\u001b[0m \u001b[1m8s\u001b[0m 228ms/step - accuracy: 0.6830 - loss: 0.7456 - precision: 0.8005 - recall: 0.4222 - val_accuracy: 0.6482 - val_loss: 0.8965 - val_precision: 0.6860 - val_recall: 0.5930\n",
      "Epoch 21/30\n",
      "\u001b[1m32/32\u001b[0m \u001b[32m━━━━━━━━━━━━━━━━━━━━\u001b[0m\u001b[37m\u001b[0m \u001b[1m8s\u001b[0m 231ms/step - accuracy: 0.7362 - loss: 0.6509 - precision: 0.7668 - recall: 0.6781 - val_accuracy: 0.6482 - val_loss: 0.8950 - val_precision: 0.6974 - val_recall: 0.5327\n",
      "Epoch 22/30\n",
      "\u001b[1m32/32\u001b[0m \u001b[32m━━━━━━━━━━━━━━━━━━━━\u001b[0m\u001b[37m\u001b[0m \u001b[1m8s\u001b[0m 229ms/step - accuracy: 0.7535 - loss: 0.5790 - precision: 0.7736 - recall: 0.6669 - val_accuracy: 0.6533 - val_loss: 1.0065 - val_precision: 0.6833 - val_recall: 0.6181\n",
      "Epoch 23/30\n",
      "\u001b[1m32/32\u001b[0m \u001b[32m━━━━━━━━━━━━━━━━━━━━\u001b[0m\u001b[37m\u001b[0m \u001b[1m8s\u001b[0m 230ms/step - accuracy: 0.7198 - loss: 0.6181 - precision: 0.7820 - recall: 0.6290 - val_accuracy: 0.7136 - val_loss: 1.1458 - val_precision: 0.7225 - val_recall: 0.6935\n",
      "Epoch 24/30\n",
      "\u001b[1m32/32\u001b[0m \u001b[32m━━━━━━━━━━━━━━━━━━━━\u001b[0m\u001b[37m\u001b[0m \u001b[1m8s\u001b[0m 229ms/step - accuracy: 0.8131 - loss: 0.4934 - precision: 0.8273 - recall: 0.7817 - val_accuracy: 0.7186 - val_loss: 1.0219 - val_precision: 0.7330 - val_recall: 0.7035\n",
      "Epoch 25/30\n",
      "\u001b[1m32/32\u001b[0m \u001b[32m━━━━━━━━━━━━━━━━━━━━\u001b[0m\u001b[37m\u001b[0m \u001b[1m8s\u001b[0m 231ms/step - accuracy: 0.8014 - loss: 0.4356 - precision: 0.8215 - recall: 0.7788 - val_accuracy: 0.7085 - val_loss: 1.0370 - val_precision: 0.7351 - val_recall: 0.6834\n",
      "Epoch 26/30\n",
      "\u001b[1m32/32\u001b[0m \u001b[32m━━━━━━━━━━━━━━━━━━━━\u001b[0m\u001b[37m\u001b[0m \u001b[1m8s\u001b[0m 229ms/step - accuracy: 0.8691 - loss: 0.3559 - precision: 0.8818 - recall: 0.8442 - val_accuracy: 0.6985 - val_loss: 0.9952 - val_precision: 0.7273 - val_recall: 0.6834\n",
      "Epoch 27/30\n",
      "\u001b[1m32/32\u001b[0m \u001b[32m━━━━━━━━━━━━━━━━━━━━\u001b[0m\u001b[37m\u001b[0m \u001b[1m8s\u001b[0m 235ms/step - accuracy: 0.8370 - loss: 0.3704 - precision: 0.8481 - recall: 0.8193 - val_accuracy: 0.7286 - val_loss: 1.1900 - val_precision: 0.7553 - val_recall: 0.7136\n",
      "Epoch 28/30\n",
      "\u001b[1m32/32\u001b[0m \u001b[32m━━━━━━━━━━━━━━━━━━━━\u001b[0m\u001b[37m\u001b[0m \u001b[1m8s\u001b[0m 231ms/step - accuracy: 0.8709 - loss: 0.3126 - precision: 0.8863 - recall: 0.8531 - val_accuracy: 0.7136 - val_loss: 1.0349 - val_precision: 0.7219 - val_recall: 0.6784\n",
      "Epoch 29/30\n",
      "\u001b[1m32/32\u001b[0m \u001b[32m━━━━━━━━━━━━━━━━━━━━\u001b[0m\u001b[37m\u001b[0m \u001b[1m8s\u001b[0m 234ms/step - accuracy: 0.8689 - loss: 0.3340 - precision: 0.8749 - recall: 0.8596 - val_accuracy: 0.7538 - val_loss: 1.0494 - val_precision: 0.7912 - val_recall: 0.7236\n",
      "Epoch 30/30\n",
      "\u001b[1m32/32\u001b[0m \u001b[32m━━━━━━━━━━━━━━━━━━━━\u001b[0m\u001b[37m\u001b[0m \u001b[1m8s\u001b[0m 229ms/step - accuracy: 0.8155 - loss: 0.4260 - precision: 0.8404 - recall: 0.7799 - val_accuracy: 0.7487 - val_loss: 1.1038 - val_precision: 0.7760 - val_recall: 0.7136\n",
      "Predicting on validation set...\n",
      "\u001b[1m7/7\u001b[0m \u001b[32m━━━━━━━━━━━━━━━━━━━━\u001b[0m\u001b[37m\u001b[0m \u001b[1m1s\u001b[0m 56ms/step\n",
      "Sending metrics to clearML...\n",
      "done\n",
      "ClearML Task: created new task id=2bd26e9bd3d34bb789c4f59db95ef282\n",
      "ClearML results page: https://app.clear.ml/projects/7bc049eb4223468a9a77e7ff2e4ac17e/experiments/2bd26e9bd3d34bb789c4f59db95ef282/output/log\n",
      "Training model...\n",
      "Epoch 1/30\n",
      "\u001b[1m47/47\u001b[0m \u001b[32m━━━━━━━━━━━━━━━━━━━━\u001b[0m\u001b[37m\u001b[0m \u001b[1m15s\u001b[0m 280ms/step - accuracy: 0.3283 - loss: 1.8104 - precision: 0.3274 - recall: 0.1099 - val_accuracy: 0.3317 - val_loss: 1.0986 - val_precision: 0.0000e+00 - val_recall: 0.0000e+00\n",
      "Epoch 2/30\n",
      "\u001b[1m47/47\u001b[0m \u001b[32m━━━━━━━━━━━━━━━━━━━━\u001b[0m\u001b[37m\u001b[0m \u001b[1m11s\u001b[0m 229ms/step - accuracy: 0.3178 - loss: 1.0988 - precision: 0.0000e+00 - recall: 0.0000e+00 - val_accuracy: 0.3317 - val_loss: 1.0987 - val_precision: 0.0000e+00 - val_recall: 0.0000e+00\n",
      "Epoch 3/30\n",
      "\u001b[1m47/47\u001b[0m \u001b[32m━━━━━━━━━━━━━━━━━━━━\u001b[0m\u001b[37m\u001b[0m \u001b[1m11s\u001b[0m 230ms/step - accuracy: 0.3332 - loss: 1.0986 - precision: 0.0000e+00 - recall: 0.0000e+00 - val_accuracy: 0.3668 - val_loss: 1.0925 - val_precision: 0.0000e+00 - val_recall: 0.0000e+00\n",
      "Epoch 4/30\n",
      "\u001b[1m47/47\u001b[0m \u001b[32m━━━━━━━━━━━━━━━━━━━━\u001b[0m\u001b[37m\u001b[0m \u001b[1m12s\u001b[0m 240ms/step - accuracy: 0.3586 - loss: 1.0999 - precision: 0.4420 - recall: 0.0076 - val_accuracy: 0.3317 - val_loss: 1.1029 - val_precision: 0.0000e+00 - val_recall: 0.0000e+00\n",
      "Epoch 5/30\n",
      "\u001b[1m47/47\u001b[0m \u001b[32m━━━━━━━━━━━━━━━━━━━━\u001b[0m\u001b[37m\u001b[0m \u001b[1m13s\u001b[0m 268ms/step - accuracy: 0.3671 - loss: 1.0834 - precision: 0.3000 - recall: 0.0320 - val_accuracy: 0.6080 - val_loss: 1.0219 - val_precision: 0.6897 - val_recall: 0.1005\n",
      "Epoch 6/30\n",
      "\u001b[1m47/47\u001b[0m \u001b[32m━━━━━━━━━━━━━━━━━━━━\u001b[0m\u001b[37m\u001b[0m \u001b[1m11s\u001b[0m 230ms/step - accuracy: 0.5859 - loss: 0.9442 - precision: 0.7210 - recall: 0.2274 - val_accuracy: 0.6332 - val_loss: 0.8994 - val_precision: 0.6967 - val_recall: 0.4271\n",
      "Epoch 7/30\n",
      "\u001b[1m47/47\u001b[0m \u001b[32m━━━━━━━━━━━━━━━━━━━━\u001b[0m\u001b[37m\u001b[0m \u001b[1m11s\u001b[0m 229ms/step - accuracy: 0.7291 - loss: 0.6734 - precision: 0.7973 - recall: 0.6480 - val_accuracy: 0.7136 - val_loss: 0.8198 - val_precision: 0.7427 - val_recall: 0.6382\n",
      "Epoch 8/30\n",
      "\u001b[1m47/47\u001b[0m \u001b[32m━━━━━━━━━━━━━━━━━━━━\u001b[0m\u001b[37m\u001b[0m \u001b[1m11s\u001b[0m 231ms/step - accuracy: 0.8020 - loss: 0.5188 - precision: 0.8212 - recall: 0.7627 - val_accuracy: 0.6834 - val_loss: 0.8719 - val_precision: 0.6888 - val_recall: 0.6784\n",
      "Epoch 9/30\n",
      "\u001b[1m47/47\u001b[0m \u001b[32m━━━━━━━━━━━━━━━━━━━━\u001b[0m\u001b[37m\u001b[0m \u001b[1m11s\u001b[0m 230ms/step - accuracy: 0.8319 - loss: 0.4540 - precision: 0.8517 - recall: 0.8104 - val_accuracy: 0.7387 - val_loss: 0.8326 - val_precision: 0.7647 - val_recall: 0.7186\n",
      "Epoch 10/30\n",
      "\u001b[1m47/47\u001b[0m \u001b[32m━━━━━━━━━━━━━━━━━━━━\u001b[0m\u001b[37m\u001b[0m \u001b[1m11s\u001b[0m 229ms/step - accuracy: 0.8475 - loss: 0.3764 - precision: 0.8596 - recall: 0.8285 - val_accuracy: 0.7487 - val_loss: 0.9060 - val_precision: 0.7632 - val_recall: 0.7286\n",
      "Epoch 11/30\n",
      "\u001b[1m47/47\u001b[0m \u001b[32m━━━━━━━━━━━━━━━━━━━━\u001b[0m\u001b[37m\u001b[0m \u001b[1m11s\u001b[0m 232ms/step - accuracy: 0.8789 - loss: 0.3084 - precision: 0.8945 - recall: 0.8583 - val_accuracy: 0.7638 - val_loss: 0.9936 - val_precision: 0.7755 - val_recall: 0.7638\n",
      "Epoch 12/30\n",
      "\u001b[1m47/47\u001b[0m \u001b[32m━━━━━━━━━━━━━━━━━━━━\u001b[0m\u001b[37m\u001b[0m \u001b[1m11s\u001b[0m 230ms/step - accuracy: 0.8774 - loss: 0.2925 - precision: 0.8905 - recall: 0.8630 - val_accuracy: 0.7638 - val_loss: 1.0755 - val_precision: 0.7749 - val_recall: 0.7437\n",
      "Epoch 13/30\n",
      "\u001b[1m47/47\u001b[0m \u001b[32m━━━━━━━━━━━━━━━━━━━━\u001b[0m\u001b[37m\u001b[0m \u001b[1m11s\u001b[0m 229ms/step - accuracy: 0.8873 - loss: 0.2855 - precision: 0.9055 - recall: 0.8753 - val_accuracy: 0.7789 - val_loss: 1.1226 - val_precision: 0.7927 - val_recall: 0.7688\n",
      "Epoch 14/30\n",
      "\u001b[1m47/47\u001b[0m \u001b[32m━━━━━━━━━━━━━━━━━━━━\u001b[0m\u001b[37m\u001b[0m \u001b[1m11s\u001b[0m 229ms/step - accuracy: 0.8399 - loss: 0.3965 - precision: 0.8649 - recall: 0.8159 - val_accuracy: 0.7839 - val_loss: 1.0351 - val_precision: 0.7927 - val_recall: 0.7688\n",
      "Epoch 15/30\n",
      "\u001b[1m47/47\u001b[0m \u001b[32m━━━━━━━━━━━━━━━━━━━━\u001b[0m\u001b[37m\u001b[0m \u001b[1m11s\u001b[0m 234ms/step - accuracy: 0.9060 - loss: 0.2217 - precision: 0.9077 - recall: 0.9024 - val_accuracy: 0.7789 - val_loss: 1.2790 - val_precision: 0.7876 - val_recall: 0.7638\n",
      "Epoch 16/30\n",
      "\u001b[1m47/47\u001b[0m \u001b[32m━━━━━━━━━━━━━━━━━━━━\u001b[0m\u001b[37m\u001b[0m \u001b[1m11s\u001b[0m 231ms/step - accuracy: 0.9003 - loss: 0.2279 - precision: 0.9037 - recall: 0.8942 - val_accuracy: 0.7789 - val_loss: 1.1436 - val_precision: 0.7835 - val_recall: 0.7638\n",
      "Epoch 17/30\n",
      "\u001b[1m47/47\u001b[0m \u001b[32m━━━━━━━━━━━━━━━━━━━━\u001b[0m\u001b[37m\u001b[0m \u001b[1m11s\u001b[0m 230ms/step - accuracy: 0.9302 - loss: 0.1947 - precision: 0.9373 - recall: 0.9165 - val_accuracy: 0.7638 - val_loss: 1.1751 - val_precision: 0.7789 - val_recall: 0.7437\n",
      "Epoch 18/30\n",
      "\u001b[1m47/47\u001b[0m \u001b[32m━━━━━━━━━━━━━━━━━━━━\u001b[0m\u001b[37m\u001b[0m \u001b[1m11s\u001b[0m 230ms/step - accuracy: 0.8915 - loss: 0.2575 - precision: 0.9084 - recall: 0.8799 - val_accuracy: 0.7538 - val_loss: 1.3290 - val_precision: 0.7538 - val_recall: 0.7387\n",
      "Epoch 19/30\n",
      "\u001b[1m47/47\u001b[0m \u001b[32m━━━━━━━━━━━━━━━━━━━━\u001b[0m\u001b[37m\u001b[0m \u001b[1m11s\u001b[0m 229ms/step - accuracy: 0.9374 - loss: 0.1885 - precision: 0.9462 - recall: 0.9295 - val_accuracy: 0.7638 - val_loss: 1.2541 - val_precision: 0.7755 - val_recall: 0.7638\n",
      "Epoch 20/30\n",
      "\u001b[1m47/47\u001b[0m \u001b[32m━━━━━━━━━━━━━━━━━━━━\u001b[0m\u001b[37m\u001b[0m \u001b[1m11s\u001b[0m 229ms/step - accuracy: 0.9436 - loss: 0.1304 - precision: 0.9502 - recall: 0.9398 - val_accuracy: 0.7739 - val_loss: 1.4079 - val_precision: 0.7739 - val_recall: 0.7739\n",
      "Epoch 21/30\n",
      "\u001b[1m47/47\u001b[0m \u001b[32m━━━━━━━━━━━━━━━━━━━━\u001b[0m\u001b[37m\u001b[0m \u001b[1m11s\u001b[0m 231ms/step - accuracy: 0.9528 - loss: 0.1253 - precision: 0.9613 - recall: 0.9496 - val_accuracy: 0.7588 - val_loss: 1.4008 - val_precision: 0.7653 - val_recall: 0.7538\n",
      "Epoch 22/30\n",
      "\u001b[1m47/47\u001b[0m \u001b[32m━━━━━━━━━━━━━━━━━━━━\u001b[0m\u001b[37m\u001b[0m \u001b[1m11s\u001b[0m 230ms/step - accuracy: 0.9498 - loss: 0.1241 - precision: 0.9507 - recall: 0.9444 - val_accuracy: 0.7839 - val_loss: 1.3004 - val_precision: 0.7879 - val_recall: 0.7839\n",
      "Epoch 23/30\n",
      "\u001b[1m47/47\u001b[0m \u001b[32m━━━━━━━━━━━━━━━━━━━━\u001b[0m\u001b[37m\u001b[0m \u001b[1m11s\u001b[0m 230ms/step - accuracy: 0.9687 - loss: 0.0952 - precision: 0.9711 - recall: 0.9672 - val_accuracy: 0.8040 - val_loss: 1.2935 - val_precision: 0.8122 - val_recall: 0.8040\n",
      "Epoch 24/30\n",
      "\u001b[1m47/47\u001b[0m \u001b[32m━━━━━━━━━━━━━━━━━━━━\u001b[0m\u001b[37m\u001b[0m \u001b[1m13s\u001b[0m 266ms/step - accuracy: 0.9627 - loss: 0.1006 - precision: 0.9663 - recall: 0.9585 - val_accuracy: 0.7739 - val_loss: 1.4164 - val_precision: 0.7857 - val_recall: 0.7739\n",
      "Epoch 25/30\n",
      "\u001b[1m47/47\u001b[0m \u001b[32m━━━━━━━━━━━━━━━━━━━━\u001b[0m\u001b[37m\u001b[0m \u001b[1m12s\u001b[0m 244ms/step - accuracy: 0.9752 - loss: 0.0743 - precision: 0.9771 - recall: 0.9729 - val_accuracy: 0.7789 - val_loss: 1.5657 - val_precision: 0.7789 - val_recall: 0.7789\n",
      "Epoch 26/30\n",
      "\u001b[1m47/47\u001b[0m \u001b[32m━━━━━━━━━━━━━━━━━━━━\u001b[0m\u001b[37m\u001b[0m \u001b[1m12s\u001b[0m 242ms/step - accuracy: 0.9645 - loss: 0.0920 - precision: 0.9683 - recall: 0.9639 - val_accuracy: 0.7688 - val_loss: 1.7355 - val_precision: 0.7784 - val_recall: 0.7588\n",
      "Epoch 27/30\n",
      "\u001b[1m47/47\u001b[0m \u001b[32m━━━━━━━━━━━━━━━━━━━━\u001b[0m\u001b[37m\u001b[0m \u001b[1m13s\u001b[0m 274ms/step - accuracy: 0.9620 - loss: 0.0960 - precision: 0.9687 - recall: 0.9587 - val_accuracy: 0.7487 - val_loss: 1.4033 - val_precision: 0.7708 - val_recall: 0.7437\n",
      "Epoch 28/30\n",
      "\u001b[1m47/47\u001b[0m \u001b[32m━━━━━━━━━━━━━━━━━━━━\u001b[0m\u001b[37m\u001b[0m \u001b[1m13s\u001b[0m 259ms/step - accuracy: 0.9432 - loss: 0.1436 - precision: 0.9438 - recall: 0.9360 - val_accuracy: 0.7889 - val_loss: 1.3989 - val_precision: 0.7889 - val_recall: 0.7889\n",
      "Epoch 29/30\n",
      "\u001b[1m47/47\u001b[0m \u001b[32m━━━━━━━━━━━━━━━━━━━━\u001b[0m\u001b[37m\u001b[0m \u001b[1m12s\u001b[0m 255ms/step - accuracy: 0.9689 - loss: 0.0762 - precision: 0.9698 - recall: 0.9667 - val_accuracy: 0.7789 - val_loss: 1.6214 - val_precision: 0.7828 - val_recall: 0.7789\n",
      "Epoch 30/30\n",
      "\u001b[1m47/47\u001b[0m \u001b[32m━━━━━━━━━━━━━━━━━━━━\u001b[0m\u001b[37m\u001b[0m \u001b[1m15s\u001b[0m 301ms/step - accuracy: 0.9860 - loss: 0.0432 - precision: 0.9863 - recall: 0.9855 - val_accuracy: 0.7638 - val_loss: 1.5706 - val_precision: 0.7677 - val_recall: 0.7638\n",
      "Predicting on validation set...\n",
      "\u001b[1m7/7\u001b[0m \u001b[32m━━━━━━━━━━━━━━━━━━━━\u001b[0m\u001b[37m\u001b[0m \u001b[1m1s\u001b[0m 85ms/step\n",
      "Sending metrics to clearML...\n",
      "done\n"
     ]
    }
   ],
   "source": [
    "# white balance augmentation\n",
    "task_name = 'wb'\n",
    "sub_project_name = 'WHITE_BAL'\n",
    "\n",
    "augmentation_metadata = {\n",
    "        'methods': {        \n",
    "            'whiteBal': {\n",
    "                'parameters': {\n",
    "                    'p': 1.0  # Probability of applying the augmentation\n",
    "                },\n",
    "                'apply_to_percentage': 0.5  # 50% of the training images\n",
    "            }        \n",
    "        }\n",
    "    }\n",
    "\n",
    "for i in range(N):\n",
    "    RUN = i + 1\n",
    "    try:\n",
    "        print(f\"Starting RUN: {RUN}\")\n",
    "        main(RUN, augmentation_metadata, task_name, sub_project_name, epochs, train_size, w1, w2)\n",
    "    except Exception as e:\n",
    "        print(f\"Error in RUN: {RUN}\")\n",
    "        print(e)\n",
    "    finally:\n",
    "        clear_output(wait=True)  # Clear the output to avoid scrolling\n",
    "        gc.collect()  # Collect garbage to avoid memory leaks"
   ]
  },
  {
   "cell_type": "code",
   "execution_count": 27,
   "metadata": {},
   "outputs": [
    {
     "name": "stdout",
     "output_type": "stream",
     "text": [
      "Starting RUN: 5\n",
      "Seed:  1526742597\n"
     ]
    },
    {
     "name": "stderr",
     "output_type": "stream",
     "text": [
      "c:\\github\\Third-Year-Project\\Intruder-Aircraft-Detection\\main\\tl_clf.py:79: SettingWithCopyWarning:\n",
      "\n",
      "\n",
      "A value is trying to be set on a copy of a slice from a DataFrame.\n",
      "Try using .loc[row_indexer,col_indexer] = value instead\n",
      "\n",
      "See the caveats in the documentation: https://pandas.pydata.org/pandas-docs/stable/user_guide/indexing.html#returning-a-view-versus-a-copy\n",
      "\n",
      "c:\\github\\Third-Year-Project\\Intruder-Aircraft-Detection\\main\\tl_clf.py:80: SettingWithCopyWarning:\n",
      "\n",
      "\n",
      "A value is trying to be set on a copy of a slice from a DataFrame.\n",
      "Try using .loc[row_indexer,col_indexer] = value instead\n",
      "\n",
      "See the caveats in the documentation: https://pandas.pydata.org/pandas-docs/stable/user_guide/indexing.html#returning-a-view-versus-a-copy\n",
      "\n"
     ]
    },
    {
     "name": "stdout",
     "output_type": "stream",
     "text": [
      "Removing dataset if pre-existing\n",
      "Copying training files:\n"
     ]
    },
    {
     "name": "stderr",
     "output_type": "stream",
     "text": [
      "Copying files: 100%|██████████| 2000/2000 [00:01<00:00, 1616.28it/s]\n"
     ]
    },
    {
     "name": "stdout",
     "output_type": "stream",
     "text": [
      "Copying validation files:\n"
     ]
    },
    {
     "name": "stderr",
     "output_type": "stream",
     "text": [
      "Copying files: 100%|██████████| 400/400 [00:00<00:00, 1277.70it/s]\n"
     ]
    },
    {
     "name": "stdout",
     "output_type": "stream",
     "text": [
      "Dataset 'weather_45_1000' created at C:\\github\\Third-Year-Project\\Intruder-Aircraft-Detection\\datasets\\Custom\\weather_45_1000\n",
      "Processing train labels in weather_45_1000:\n"
     ]
    },
    {
     "name": "stderr",
     "output_type": "stream",
     "text": [
      "Processing labels: 100%|██████████| 1000/1000 [00:04<00:00, 200.33it/s]\n"
     ]
    },
    {
     "name": "stdout",
     "output_type": "stream",
     "text": [
      "Processing valid labels in weather_45_1000:\n"
     ]
    },
    {
     "name": "stderr",
     "output_type": "stream",
     "text": [
      "Processing labels: 100%|██████████| 200/200 [00:00<00:00, 245.26it/s]\n"
     ]
    },
    {
     "name": "stdout",
     "output_type": "stream",
     "text": [
      "Label correction completed.\n"
     ]
    },
    {
     "name": "stderr",
     "output_type": "stream",
     "text": [
      "Removing existing directories/files: 100%|██████████| 3/3 [00:00<00:00, 5989.01it/s]\n",
      "Copying files: 100%|██████████| 1000/1000 [00:01<00:00, 923.56it/s]\n",
      "Copying files: 100%|██████████| 1000/1000 [00:00<00:00, 1122.90it/s]\n",
      "Applying augmentations: 100%|██████████| 500/500 [00:05<00:00, 88.27it/s]\n",
      "Processing images:   3%|▎         | 26/1000 [00:02<01:19, 12.21it/s]"
     ]
    },
    {
     "name": "stdout",
     "output_type": "stream",
     "text": [
      "An error occurred with C:/github/Third-Year-Project/Intruder-Aircraft-Detection/datasets/Custom/weather_45_1000\\images\\train\\28141.jpg: Expected x_min for bbox (-0.101744, 0.561029, 0.612382, 1.037113, 1) to be in the range [0.0, 1.0], got -0.101744.\n"
     ]
    },
    {
     "name": "stderr",
     "output_type": "stream",
     "text": [
      "Processing images:   6%|▋         | 64/1000 [00:05<01:00, 15.51it/s]"
     ]
    },
    {
     "name": "stdout",
     "output_type": "stream",
     "text": [
      "An error occurred with C:/github/Third-Year-Project/Intruder-Aircraft-Detection/datasets/Custom/weather_45_1000\\images\\train\\28333.jpg: Expected y_min for bbox (0.47015499999999993, -0.022556500000000007, 0.890417, 0.2576185, 1) to be in the range [0.0, 1.0], got -0.022556500000000007.\n"
     ]
    },
    {
     "name": "stderr",
     "output_type": "stream",
     "text": [
      "Processing images:  16%|█▌        | 155/1000 [00:08<00:28, 29.45it/s]"
     ]
    },
    {
     "name": "stdout",
     "output_type": "stream",
     "text": [
      "An error occurred with C:/github/Third-Year-Project/Intruder-Aircraft-Detection/datasets/Custom/weather_45_1000\\images\\train\\28830.jpg: Expected y_max for bbox (0.3830585, 0.754232, 0.8080715, 1.037574, 1) to be in the range [0.0, 1.0], got 1.037574.\n"
     ]
    },
    {
     "name": "stderr",
     "output_type": "stream",
     "text": [
      "Processing images:  25%|██▍       | 249/1000 [00:11<00:23, 32.47it/s]"
     ]
    },
    {
     "name": "stdout",
     "output_type": "stream",
     "text": [
      "An error occurred with C:/github/Third-Year-Project/Intruder-Aircraft-Detection/datasets/Custom/weather_45_1000\\images\\train\\29454.jpg: Expected y_max for bbox (0.166634, 0.6343235, 0.724798, 1.0064325, 1) to be in the range [0.0, 1.0], got 1.0064325.\n"
     ]
    },
    {
     "name": "stderr",
     "output_type": "stream",
     "text": [
      "Processing images:  33%|███▎      | 334/1000 [00:14<00:21, 30.72it/s]"
     ]
    },
    {
     "name": "stdout",
     "output_type": "stream",
     "text": [
      "An error occurred with C:/github/Third-Year-Project/Intruder-Aircraft-Detection/datasets/Custom/weather_45_1000\\images\\train\\29894.jpg: Expected y_max for bbox (0.5705215, 0.8107574999999999, 0.8660985, 1.0078084999999999, 1) to be in the range [0.0, 1.0], got 1.0078084999999999.\n"
     ]
    },
    {
     "name": "stderr",
     "output_type": "stream",
     "text": [
      "Processing images:  61%|██████    | 606/1000 [00:23<00:11, 34.64it/s]"
     ]
    },
    {
     "name": "stdout",
     "output_type": "stream",
     "text": [
      "An error occurred with C:/github/Third-Year-Project/Intruder-Aircraft-Detection/datasets/Custom/weather_45_1000\\images\\train\\52365.jpg: Expected x_max for bbox (0.487545, 0.513501, 1.0378530000000001, 0.880373, 2) to be in the range [0.0, 1.0], got 1.0378530000000001.\n"
     ]
    },
    {
     "name": "stderr",
     "output_type": "stream",
     "text": [
      "Processing images:  85%|████████▌ | 851/1000 [00:30<00:04, 33.37it/s]"
     ]
    },
    {
     "name": "stdout",
     "output_type": "stream",
     "text": [
      "An error occurred with C:/github/Third-Year-Project/Intruder-Aircraft-Detection/datasets/Custom/weather_45_1000\\images\\train\\53546.jpg: Expected x_min for bbox (-0.196893, 0.27815399999999996, 0.644803, 0.8392839999999999, 2) to be in the range [0.0, 1.0], got -0.196893.\n"
     ]
    },
    {
     "name": "stderr",
     "output_type": "stream",
     "text": [
      "Processing images: 100%|██████████| 1000/1000 [00:35<00:00, 28.30it/s]\n",
      "Processing images:   3%|▎         | 43/1500 [00:03<01:45, 13.81it/s]"
     ]
    },
    {
     "name": "stdout",
     "output_type": "stream",
     "text": [
      "An error occurred with C:/github/Third-Year-Project/Intruder-Aircraft-Detection/datasets/Custom/weather_45_1000\\images\\train-aug\\28141.jpg: Expected x_min for bbox (-0.101744, 0.561029, 0.612382, 1.037113, 1) to be in the range [0.0, 1.0], got -0.101744.\n"
     ]
    },
    {
     "name": "stderr",
     "output_type": "stream",
     "text": [
      "Processing images:   6%|▌         | 89/1500 [00:07<01:54, 12.34it/s]"
     ]
    },
    {
     "name": "stdout",
     "output_type": "stream",
     "text": [
      "An error occurred with C:/github/Third-Year-Project/Intruder-Aircraft-Detection/datasets/Custom/weather_45_1000\\images\\train-aug\\28333.jpg: Expected y_min for bbox (0.47015499999999993, -0.022556500000000007, 0.890417, 0.2576185, 1) to be in the range [0.0, 1.0], got -0.022556500000000007.\n"
     ]
    },
    {
     "name": "stderr",
     "output_type": "stream",
     "text": [
      "Processing images:   7%|▋         | 100/1500 [00:07<01:40, 13.90it/s]"
     ]
    },
    {
     "name": "stdout",
     "output_type": "stream",
     "text": [
      "An error occurred with C:/github/Third-Year-Project/Intruder-Aircraft-Detection/datasets/Custom/weather_45_1000\\images\\train-aug\\28333-sharpen.jpg: Expected y_min for bbox (0.47015499999999993, -0.022556500000000007, 0.890417, 0.2576185, 1) to be in the range [0.0, 1.0], got -0.022556500000000007.\n"
     ]
    },
    {
     "name": "stderr",
     "output_type": "stream",
     "text": [
      "Processing images:  15%|█▍        | 224/1500 [00:12<00:37, 34.48it/s]"
     ]
    },
    {
     "name": "stdout",
     "output_type": "stream",
     "text": [
      "An error occurred with C:/github/Third-Year-Project/Intruder-Aircraft-Detection/datasets/Custom/weather_45_1000\\images\\train-aug\\28830.jpg: Expected y_max for bbox (0.3830585, 0.754232, 0.8080715, 1.037574, 1) to be in the range [0.0, 1.0], got 1.037574.\n",
      "An error occurred with C:/github/Third-Year-Project/Intruder-Aircraft-Detection/datasets/Custom/weather_45_1000\\images\\train-aug\\28830-sharpen.jpg: Expected y_max for bbox (0.3830585, 0.754232, 0.8080715, 1.037574, 1) to be in the range [0.0, 1.0], got 1.037574.\n"
     ]
    },
    {
     "name": "stderr",
     "output_type": "stream",
     "text": [
      "Processing images:  25%|██▍       | 371/1500 [00:17<00:33, 33.60it/s]"
     ]
    },
    {
     "name": "stdout",
     "output_type": "stream",
     "text": [
      "An error occurred with C:/github/Third-Year-Project/Intruder-Aircraft-Detection/datasets/Custom/weather_45_1000\\images\\train-aug\\29454-sharpen.jpg: Expected y_max for bbox (0.166634, 0.6343235, 0.724798, 1.0064325, 1) to be in the range [0.0, 1.0], got 1.0064325.\n",
      "An error occurred with C:/github/Third-Year-Project/Intruder-Aircraft-Detection/datasets/Custom/weather_45_1000\\images\\train-aug\\29454.jpg: Expected y_max for bbox (0.166634, 0.6343235, 0.724798, 1.0064325, 1) to be in the range [0.0, 1.0], got 1.0064325.\n"
     ]
    },
    {
     "name": "stderr",
     "output_type": "stream",
     "text": [
      "Processing images:  33%|███▎      | 498/1500 [00:22<00:30, 32.68it/s]"
     ]
    },
    {
     "name": "stdout",
     "output_type": "stream",
     "text": [
      "An error occurred with C:/github/Third-Year-Project/Intruder-Aircraft-Detection/datasets/Custom/weather_45_1000\\images\\train-aug\\29894.jpg: Expected y_max for bbox (0.5705215, 0.8107574999999999, 0.8660985, 1.0078084999999999, 1) to be in the range [0.0, 1.0], got 1.0078084999999999.\n"
     ]
    },
    {
     "name": "stderr",
     "output_type": "stream",
     "text": [
      "Processing images:  60%|█████▉    | 894/1500 [00:34<00:19, 31.73it/s]"
     ]
    },
    {
     "name": "stdout",
     "output_type": "stream",
     "text": [
      "An error occurred with C:/github/Third-Year-Project/Intruder-Aircraft-Detection/datasets/Custom/weather_45_1000\\images\\train-aug\\52365.jpg: Expected x_max for bbox (0.487545, 0.513501, 1.0378530000000001, 0.880373, 2) to be in the range [0.0, 1.0], got 1.0378530000000001.\n"
     ]
    },
    {
     "name": "stderr",
     "output_type": "stream",
     "text": [
      "Processing images:  85%|████████▌ | 1275/1500 [00:47<00:07, 30.44it/s]"
     ]
    },
    {
     "name": "stdout",
     "output_type": "stream",
     "text": [
      "An error occurred with C:/github/Third-Year-Project/Intruder-Aircraft-Detection/datasets/Custom/weather_45_1000\\images\\train-aug\\53546.jpg: Expected x_min for bbox (-0.196893, 0.27815399999999996, 0.644803, 0.8392839999999999, 2) to be in the range [0.0, 1.0], got -0.196893.\n"
     ]
    },
    {
     "name": "stderr",
     "output_type": "stream",
     "text": [
      "Processing images: 100%|██████████| 1500/1500 [00:54<00:00, 27.34it/s]\n",
      "Processing images:  74%|███████▍  | 149/200 [00:05<00:01, 36.41it/s]"
     ]
    },
    {
     "name": "stdout",
     "output_type": "stream",
     "text": [
      "An error occurred with C:/github/Third-Year-Project/Intruder-Aircraft-Detection/datasets/Custom/weather_45_1000\\images\\valid\\52916.jpg: In YOLO format all coordinates must be float and in range (0, 1]\n",
      "An error occurred with C:/github/Third-Year-Project/Intruder-Aircraft-Detection/datasets/Custom/weather_45_1000\\images\\valid\\52925.jpg: Expected x_min for bbox (-0.17107, 0.23527800000000004, 0.669476, 0.795642, 2) to be in the range [0.0, 1.0], got -0.17107.\n"
     ]
    },
    {
     "name": "stderr",
     "output_type": "stream",
     "text": [
      "Processing images: 100%|██████████| 200/200 [00:06<00:00, 29.18it/s]\n",
      "Moving images in train: 100%|██████████| 993/993 [00:04<00:00, 226.41it/s]\n",
      "Moving images in train-aug: 100%|██████████| 1490/1490 [00:04<00:00, 346.02it/s]\n",
      "Moving images in valid: 100%|██████████| 198/198 [00:00<00:00, 231.96it/s]\n"
     ]
    },
    {
     "name": "stdout",
     "output_type": "stream",
     "text": [
      "Found 993 files belonging to 3 classes.\n",
      "Found 1490 files belonging to 3 classes.\n",
      "Found 198 files belonging to 3 classes.\n",
      "ClearML Task: created new task id=63e41d91662f44ca9b6ec06bad796f37\n",
      "ClearML results page: https://app.clear.ml/projects/1cc8e46152ce4dafaba5e9735ab6ad79/experiments/63e41d91662f44ca9b6ec06bad796f37/output/log\n",
      "Training model...\n",
      "Epoch 1/30\n",
      "\u001b[1m32/32\u001b[0m \u001b[32m━━━━━━━━━━━━━━━━━━━━\u001b[0m\u001b[37m\u001b[0m \u001b[1m12s\u001b[0m 307ms/step - accuracy: 0.3146 - loss: 2.0828 - precision: 0.2725 - recall: 0.1117 - val_accuracy: 0.3333 - val_loss: 1.0983 - val_precision: 0.0000e+00 - val_recall: 0.0000e+00\n",
      "Epoch 2/30\n",
      "\u001b[1m32/32\u001b[0m \u001b[32m━━━━━━━━━━━━━━━━━━━━\u001b[0m\u001b[37m\u001b[0m \u001b[1m8s\u001b[0m 240ms/step - accuracy: 0.3340 - loss: 1.0984 - precision: 0.0000e+00 - recall: 0.0000e+00 - val_accuracy: 0.3485 - val_loss: 1.0991 - val_precision: 0.0000e+00 - val_recall: 0.0000e+00\n",
      "Epoch 3/30\n",
      "\u001b[1m32/32\u001b[0m \u001b[32m━━━━━━━━━━━━━━━━━━━━\u001b[0m\u001b[37m\u001b[0m \u001b[1m8s\u001b[0m 245ms/step - accuracy: 0.3280 - loss: 1.1008 - precision: 0.0000e+00 - recall: 0.0000e+00 - val_accuracy: 0.3283 - val_loss: 1.0986 - val_precision: 0.0000e+00 - val_recall: 0.0000e+00\n",
      "Epoch 4/30\n",
      "\u001b[1m32/32\u001b[0m \u001b[32m━━━━━━━━━━━━━━━━━━━━\u001b[0m\u001b[37m\u001b[0m \u001b[1m8s\u001b[0m 237ms/step - accuracy: 0.3104 - loss: 1.0990 - precision: 0.0000e+00 - recall: 0.0000e+00 - val_accuracy: 0.3333 - val_loss: 1.0987 - val_precision: 0.0000e+00 - val_recall: 0.0000e+00\n",
      "Epoch 5/30\n",
      "\u001b[1m32/32\u001b[0m \u001b[32m━━━━━━━━━━━━━━━━━━━━\u001b[0m\u001b[37m\u001b[0m \u001b[1m8s\u001b[0m 240ms/step - accuracy: 0.3509 - loss: 1.0983 - precision: 0.0000e+00 - recall: 0.0000e+00 - val_accuracy: 0.3788 - val_loss: 1.0956 - val_precision: 0.0000e+00 - val_recall: 0.0000e+00\n",
      "Epoch 6/30\n",
      "\u001b[1m32/32\u001b[0m \u001b[32m━━━━━━━━━━━━━━━━━━━━\u001b[0m\u001b[37m\u001b[0m \u001b[1m10s\u001b[0m 317ms/step - accuracy: 0.4207 - loss: 1.0974 - precision: 0.0000e+00 - recall: 0.0000e+00 - val_accuracy: 0.3333 - val_loss: 1.0972 - val_precision: 0.0000e+00 - val_recall: 0.0000e+00\n",
      "Epoch 7/30\n",
      "\u001b[1m32/32\u001b[0m \u001b[32m━━━━━━━━━━━━━━━━━━━━\u001b[0m\u001b[37m\u001b[0m \u001b[1m8s\u001b[0m 241ms/step - accuracy: 0.4376 - loss: 1.0952 - precision: 0.0000e+00 - recall: 0.0000e+00 - val_accuracy: 0.4141 - val_loss: 1.0951 - val_precision: 0.0000e+00 - val_recall: 0.0000e+00\n",
      "Epoch 8/30\n",
      "\u001b[1m32/32\u001b[0m \u001b[32m━━━━━━━━━━━━━━━━━━━━\u001b[0m\u001b[37m\u001b[0m \u001b[1m8s\u001b[0m 240ms/step - accuracy: 0.3808 - loss: 1.1098 - precision: 0.1875 - recall: 0.0081 - val_accuracy: 0.3333 - val_loss: 1.0988 - val_precision: 0.0000e+00 - val_recall: 0.0000e+00\n",
      "Epoch 9/30\n",
      "\u001b[1m32/32\u001b[0m \u001b[32m━━━━━━━━━━━━━━━━━━━━\u001b[0m\u001b[37m\u001b[0m \u001b[1m8s\u001b[0m 241ms/step - accuracy: 0.3405 - loss: 1.0987 - precision: 0.0000e+00 - recall: 0.0000e+00 - val_accuracy: 0.3333 - val_loss: 1.0984 - val_precision: 0.0000e+00 - val_recall: 0.0000e+00\n",
      "Epoch 10/30\n",
      "\u001b[1m32/32\u001b[0m \u001b[32m━━━━━━━━━━━━━━━━━━━━\u001b[0m\u001b[37m\u001b[0m \u001b[1m8s\u001b[0m 242ms/step - accuracy: 0.3112 - loss: 1.0991 - precision: 0.0000e+00 - recall: 0.0000e+00 - val_accuracy: 0.3283 - val_loss: 1.0988 - val_precision: 0.0000e+00 - val_recall: 0.0000e+00\n",
      "Epoch 11/30\n",
      "\u001b[1m32/32\u001b[0m \u001b[32m━━━━━━━━━━━━━━━━━━━━\u001b[0m\u001b[37m\u001b[0m \u001b[1m11s\u001b[0m 333ms/step - accuracy: 0.3254 - loss: 1.0994 - precision: 0.0000e+00 - recall: 0.0000e+00 - val_accuracy: 0.3283 - val_loss: 1.0990 - val_precision: 0.0000e+00 - val_recall: 0.0000e+00\n",
      "Epoch 12/30\n",
      "\u001b[1m32/32\u001b[0m \u001b[32m━━━━━━━━━━━━━━━━━━━━\u001b[0m\u001b[37m\u001b[0m \u001b[1m8s\u001b[0m 242ms/step - accuracy: 0.3285 - loss: 1.0992 - precision: 0.0000e+00 - recall: 0.0000e+00 - val_accuracy: 0.3283 - val_loss: 1.0992 - val_precision: 0.0000e+00 - val_recall: 0.0000e+00\n",
      "Epoch 13/30\n",
      "\u001b[1m32/32\u001b[0m \u001b[32m━━━━━━━━━━━━━━━━━━━━\u001b[0m\u001b[37m\u001b[0m \u001b[1m8s\u001b[0m 241ms/step - accuracy: 0.3099 - loss: 1.1006 - precision: 0.0000e+00 - recall: 0.0000e+00 - val_accuracy: 0.3283 - val_loss: 1.0992 - val_precision: 0.0000e+00 - val_recall: 0.0000e+00\n",
      "Epoch 14/30\n",
      "\u001b[1m32/32\u001b[0m \u001b[32m━━━━━━━━━━━━━━━━━━━━\u001b[0m\u001b[37m\u001b[0m \u001b[1m8s\u001b[0m 242ms/step - accuracy: 0.3083 - loss: 1.1008 - precision: 0.0000e+00 - recall: 0.0000e+00 - val_accuracy: 0.3283 - val_loss: 1.0992 - val_precision: 0.0000e+00 - val_recall: 0.0000e+00\n",
      "Epoch 15/30\n",
      "\u001b[1m32/32\u001b[0m \u001b[32m━━━━━━━━━━━━━━━━━━━━\u001b[0m\u001b[37m\u001b[0m \u001b[1m8s\u001b[0m 243ms/step - accuracy: 0.3213 - loss: 1.1002 - precision: 0.0000e+00 - recall: 0.0000e+00 - val_accuracy: 0.3283 - val_loss: 1.0992 - val_precision: 0.0000e+00 - val_recall: 0.0000e+00\n",
      "Epoch 16/30\n",
      "\u001b[1m32/32\u001b[0m \u001b[32m━━━━━━━━━━━━━━━━━━━━\u001b[0m\u001b[37m\u001b[0m \u001b[1m11s\u001b[0m 326ms/step - accuracy: 0.3313 - loss: 1.0992 - precision: 0.0000e+00 - recall: 0.0000e+00 - val_accuracy: 0.3687 - val_loss: 1.0987 - val_precision: 0.0000e+00 - val_recall: 0.0000e+00\n",
      "Epoch 17/30\n",
      "\u001b[1m32/32\u001b[0m \u001b[32m━━━━━━━━━━━━━━━━━━━━\u001b[0m\u001b[37m\u001b[0m \u001b[1m8s\u001b[0m 238ms/step - accuracy: 0.3417 - loss: 1.0985 - precision: 0.0000e+00 - recall: 0.0000e+00 - val_accuracy: 0.3434 - val_loss: 1.0981 - val_precision: 0.0000e+00 - val_recall: 0.0000e+00\n",
      "Epoch 18/30\n",
      "\u001b[1m32/32\u001b[0m \u001b[32m━━━━━━━━━━━━━━━━━━━━\u001b[0m\u001b[37m\u001b[0m \u001b[1m8s\u001b[0m 241ms/step - accuracy: 0.3189 - loss: 1.0987 - precision: 0.0000e+00 - recall: 0.0000e+00 - val_accuracy: 0.3283 - val_loss: 1.0981 - val_precision: 0.0000e+00 - val_recall: 0.0000e+00\n",
      "Epoch 19/30\n",
      "\u001b[1m32/32\u001b[0m \u001b[32m━━━━━━━━━━━━━━━━━━━━\u001b[0m\u001b[37m\u001b[0m \u001b[1m8s\u001b[0m 241ms/step - accuracy: 0.3217 - loss: 1.0982 - precision: 0.0000e+00 - recall: 0.0000e+00 - val_accuracy: 0.3283 - val_loss: 1.0979 - val_precision: 0.0000e+00 - val_recall: 0.0000e+00\n",
      "Epoch 20/30\n",
      "\u001b[1m32/32\u001b[0m \u001b[32m━━━━━━━━━━━━━━━━━━━━\u001b[0m\u001b[37m\u001b[0m \u001b[1m8s\u001b[0m 241ms/step - accuracy: 0.3308 - loss: 1.0983 - precision: 0.0000e+00 - recall: 0.0000e+00 - val_accuracy: 0.3434 - val_loss: 1.0976 - val_precision: 0.0000e+00 - val_recall: 0.0000e+00\n",
      "Epoch 21/30\n",
      "\u001b[1m32/32\u001b[0m \u001b[32m━━━━━━━━━━━━━━━━━━━━\u001b[0m\u001b[37m\u001b[0m \u001b[1m9s\u001b[0m 276ms/step - accuracy: 0.3361 - loss: 1.0984 - precision: 0.0000e+00 - recall: 0.0000e+00 - val_accuracy: 0.3283 - val_loss: 1.0977 - val_precision: 0.0000e+00 - val_recall: 0.0000e+00\n",
      "Epoch 22/30\n",
      "\u001b[1m32/32\u001b[0m \u001b[32m━━━━━━━━━━━━━━━━━━━━\u001b[0m\u001b[37m\u001b[0m \u001b[1m9s\u001b[0m 278ms/step - accuracy: 0.3186 - loss: 1.0983 - precision: 0.0000e+00 - recall: 0.0000e+00 - val_accuracy: 0.3384 - val_loss: 1.0981 - val_precision: 0.0000e+00 - val_recall: 0.0000e+00\n",
      "Epoch 23/30\n",
      "\u001b[1m32/32\u001b[0m \u001b[32m━━━━━━━━━━━━━━━━━━━━\u001b[0m\u001b[37m\u001b[0m \u001b[1m8s\u001b[0m 240ms/step - accuracy: 0.3469 - loss: 1.0986 - precision: 0.0000e+00 - recall: 0.0000e+00 - val_accuracy: 0.3384 - val_loss: 1.0978 - val_precision: 0.0000e+00 - val_recall: 0.0000e+00\n",
      "Epoch 24/30\n",
      "\u001b[1m32/32\u001b[0m \u001b[32m━━━━━━━━━━━━━━━━━━━━\u001b[0m\u001b[37m\u001b[0m \u001b[1m8s\u001b[0m 246ms/step - accuracy: 0.3658 - loss: 1.0975 - precision: 0.0000e+00 - recall: 0.0000e+00 - val_accuracy: 0.3384 - val_loss: 1.0975 - val_precision: 0.0000e+00 - val_recall: 0.0000e+00\n",
      "Epoch 25/30\n",
      "\u001b[1m32/32\u001b[0m \u001b[32m━━━━━━━━━━━━━━━━━━━━\u001b[0m\u001b[37m\u001b[0m \u001b[1m8s\u001b[0m 240ms/step - accuracy: 0.3144 - loss: 1.0991 - precision: 0.0000e+00 - recall: 0.0000e+00 - val_accuracy: 0.3283 - val_loss: 1.0976 - val_precision: 0.0000e+00 - val_recall: 0.0000e+00\n",
      "Epoch 26/30\n",
      "\u001b[1m32/32\u001b[0m \u001b[32m━━━━━━━━━━━━━━━━━━━━\u001b[0m\u001b[37m\u001b[0m \u001b[1m8s\u001b[0m 253ms/step - accuracy: 0.3111 - loss: 1.1001 - precision: 0.0000e+00 - recall: 0.0000e+00 - val_accuracy: 0.3283 - val_loss: 1.0975 - val_precision: 0.0000e+00 - val_recall: 0.0000e+00\n",
      "Epoch 27/30\n",
      "\u001b[1m32/32\u001b[0m \u001b[32m━━━━━━━━━━━━━━━━━━━━\u001b[0m\u001b[37m\u001b[0m \u001b[1m11s\u001b[0m 329ms/step - accuracy: 0.3142 - loss: 1.0996 - precision: 0.0000e+00 - recall: 0.0000e+00 - val_accuracy: 0.3283 - val_loss: 1.0978 - val_precision: 0.0000e+00 - val_recall: 0.0000e+00\n",
      "Epoch 28/30\n",
      "\u001b[1m32/32\u001b[0m \u001b[32m━━━━━━━━━━━━━━━━━━━━\u001b[0m\u001b[37m\u001b[0m \u001b[1m8s\u001b[0m 247ms/step - accuracy: 0.3169 - loss: 1.1001 - precision: 0.0000e+00 - recall: 0.0000e+00 - val_accuracy: 0.3434 - val_loss: 1.0983 - val_precision: 0.0000e+00 - val_recall: 0.0000e+00\n",
      "Epoch 29/30\n",
      "\u001b[1m32/32\u001b[0m \u001b[32m━━━━━━━━━━━━━━━━━━━━\u001b[0m\u001b[37m\u001b[0m \u001b[1m8s\u001b[0m 254ms/step - accuracy: 0.3444 - loss: 1.1025 - precision: 0.0000e+00 - recall: 0.0000e+00 - val_accuracy: 0.3283 - val_loss: 1.0967 - val_precision: 0.0000e+00 - val_recall: 0.0000e+00\n",
      "Epoch 30/30\n",
      "\u001b[1m32/32\u001b[0m \u001b[32m━━━━━━━━━━━━━━━━━━━━\u001b[0m\u001b[37m\u001b[0m \u001b[1m9s\u001b[0m 257ms/step - accuracy: 0.3213 - loss: 1.0986 - precision: 0.0000e+00 - recall: 0.0000e+00 - val_accuracy: 0.3283 - val_loss: 1.0969 - val_precision: 0.0000e+00 - val_recall: 0.0000e+00\n",
      "Predicting on validation set...\n",
      "\u001b[1m7/7\u001b[0m \u001b[32m━━━━━━━━━━━━━━━━━━━━\u001b[0m\u001b[37m\u001b[0m \u001b[1m1s\u001b[0m 65ms/step\n"
     ]
    },
    {
     "name": "stderr",
     "output_type": "stream",
     "text": [
      "c:\\Users\\tomev\\anaconda3\\envs\\tf-cpu\\Lib\\site-packages\\sklearn\\metrics\\_classification.py:1344: UndefinedMetricWarning:\n",
      "\n",
      "Precision and F-score are ill-defined and being set to 0.0 in labels with no predicted samples. Use `zero_division` parameter to control this behavior.\n",
      "\n",
      "c:\\Users\\tomev\\anaconda3\\envs\\tf-cpu\\Lib\\site-packages\\sklearn\\metrics\\_classification.py:1344: UndefinedMetricWarning:\n",
      "\n",
      "Precision and F-score are ill-defined and being set to 0.0 in labels with no predicted samples. Use `zero_division` parameter to control this behavior.\n",
      "\n",
      "c:\\Users\\tomev\\anaconda3\\envs\\tf-cpu\\Lib\\site-packages\\sklearn\\metrics\\_classification.py:1344: UndefinedMetricWarning:\n",
      "\n",
      "Precision and F-score are ill-defined and being set to 0.0 in labels with no predicted samples. Use `zero_division` parameter to control this behavior.\n",
      "\n"
     ]
    },
    {
     "name": "stdout",
     "output_type": "stream",
     "text": [
      "Sending metrics to clearML...\n",
      "done\n",
      "ClearML Task: created new task id=55480b8377574f98a54ee9159446757f\n",
      "ClearML results page: https://app.clear.ml/projects/1cc8e46152ce4dafaba5e9735ab6ad79/experiments/55480b8377574f98a54ee9159446757f/output/log\n",
      "Training model...\n",
      "Epoch 1/30\n",
      "\u001b[1m47/47\u001b[0m \u001b[32m━━━━━━━━━━━━━━━━━━━━\u001b[0m\u001b[37m\u001b[0m \u001b[1m17s\u001b[0m 306ms/step - accuracy: 0.3250 - loss: 1.7515 - precision: 0.3352 - recall: 0.0986 - val_accuracy: 0.2980 - val_loss: 1.0985 - val_precision: 0.0000e+00 - val_recall: 0.0000e+00\n",
      "Epoch 2/30\n",
      "\u001b[1m47/47\u001b[0m \u001b[32m━━━━━━━━━━━━━━━━━━━━\u001b[0m\u001b[37m\u001b[0m \u001b[1m12s\u001b[0m 248ms/step - accuracy: 0.3415 - loss: 1.0984 - precision: 0.0000e+00 - recall: 0.0000e+00 - val_accuracy: 0.3838 - val_loss: 1.0984 - val_precision: 0.0000e+00 - val_recall: 0.0000e+00\n",
      "Epoch 3/30\n",
      "\u001b[1m47/47\u001b[0m \u001b[32m━━━━━━━━━━━━━━━━━━━━\u001b[0m\u001b[37m\u001b[0m \u001b[1m12s\u001b[0m 248ms/step - accuracy: 0.3412 - loss: 1.0985 - precision: 0.0000e+00 - recall: 0.0000e+00 - val_accuracy: 0.3283 - val_loss: 1.0981 - val_precision: 0.0000e+00 - val_recall: 0.0000e+00\n",
      "Epoch 4/30\n",
      "\u001b[1m47/47\u001b[0m \u001b[32m━━━━━━━━━━━━━━━━━━━━\u001b[0m\u001b[37m\u001b[0m \u001b[1m15s\u001b[0m 313ms/step - accuracy: 0.3063 - loss: 1.0995 - precision: 0.0000e+00 - recall: 0.0000e+00 - val_accuracy: 0.3333 - val_loss: 1.0984 - val_precision: 0.0000e+00 - val_recall: 0.0000e+00\n",
      "Epoch 5/30\n",
      "\u001b[1m47/47\u001b[0m \u001b[32m━━━━━━━━━━━━━━━━━━━━\u001b[0m\u001b[37m\u001b[0m \u001b[1m12s\u001b[0m 250ms/step - accuracy: 0.3227 - loss: 1.0988 - precision: 0.0000e+00 - recall: 0.0000e+00 - val_accuracy: 0.3283 - val_loss: 1.0986 - val_precision: 0.0000e+00 - val_recall: 0.0000e+00\n",
      "Epoch 6/30\n",
      "\u001b[1m47/47\u001b[0m \u001b[32m━━━━━━━━━━━━━━━━━━━━\u001b[0m\u001b[37m\u001b[0m \u001b[1m12s\u001b[0m 243ms/step - accuracy: 0.3437 - loss: 1.1002 - precision: 0.2083 - recall: 0.0057 - val_accuracy: 0.3384 - val_loss: 1.0976 - val_precision: 0.0000e+00 - val_recall: 0.0000e+00\n",
      "Epoch 7/30\n",
      "\u001b[1m47/47\u001b[0m \u001b[32m━━━━━━━━━━━━━━━━━━━━\u001b[0m\u001b[37m\u001b[0m \u001b[1m13s\u001b[0m 259ms/step - accuracy: 0.3430 - loss: 1.0986 - precision: 0.0000e+00 - recall: 0.0000e+00 - val_accuracy: 0.3283 - val_loss: 1.0950 - val_precision: 0.0000e+00 - val_recall: 0.0000e+00\n",
      "Epoch 8/30\n",
      "\u001b[1m47/47\u001b[0m \u001b[32m━━━━━━━━━━━━━━━━━━━━\u001b[0m\u001b[37m\u001b[0m \u001b[1m14s\u001b[0m 283ms/step - accuracy: 0.4140 - loss: 1.0753 - precision: 0.4410 - recall: 0.0308 - val_accuracy: 0.3485 - val_loss: 1.0945 - val_precision: 0.0000e+00 - val_recall: 0.0000e+00\n",
      "Epoch 9/30\n",
      "\u001b[1m47/47\u001b[0m \u001b[32m━━━━━━━━━━━━━━━━━━━━\u001b[0m\u001b[37m\u001b[0m \u001b[1m12s\u001b[0m 241ms/step - accuracy: 0.3645 - loss: 1.0989 - precision: 0.2014 - recall: 0.0018 - val_accuracy: 0.4495 - val_loss: 1.0940 - val_precision: 0.0000e+00 - val_recall: 0.0000e+00\n",
      "Epoch 10/30\n",
      "\u001b[1m47/47\u001b[0m \u001b[32m━━━━━━━━━━━━━━━━━━━━\u001b[0m\u001b[37m\u001b[0m \u001b[1m12s\u001b[0m 241ms/step - accuracy: 0.4100 - loss: 1.0864 - precision: 0.4360 - recall: 0.0089 - val_accuracy: 0.4444 - val_loss: 1.0847 - val_precision: 0.0000e+00 - val_recall: 0.0000e+00\n",
      "Epoch 11/30\n",
      "\u001b[1m47/47\u001b[0m \u001b[32m━━━━━━━━━━━━━━━━━━━━\u001b[0m\u001b[37m\u001b[0m \u001b[1m15s\u001b[0m 310ms/step - accuracy: 0.5041 - loss: 1.0151 - precision: 0.6551 - recall: 0.1349 - val_accuracy: 0.6263 - val_loss: 0.8751 - val_precision: 0.8261 - val_recall: 0.1919\n",
      "Epoch 12/30\n",
      "\u001b[1m47/47\u001b[0m \u001b[32m━━━━━━━━━━━━━━━━━━━━\u001b[0m\u001b[37m\u001b[0m \u001b[1m12s\u001b[0m 241ms/step - accuracy: 0.6674 - loss: 0.7947 - precision: 0.7566 - recall: 0.4468 - val_accuracy: 0.6768 - val_loss: 0.7841 - val_precision: 0.8333 - val_recall: 0.4040\n",
      "Epoch 13/30\n",
      "\u001b[1m47/47\u001b[0m \u001b[32m━━━━━━━━━━━━━━━━━━━━\u001b[0m\u001b[37m\u001b[0m \u001b[1m12s\u001b[0m 242ms/step - accuracy: 0.7272 - loss: 0.6934 - precision: 0.7892 - recall: 0.5573 - val_accuracy: 0.7323 - val_loss: 0.7137 - val_precision: 0.7806 - val_recall: 0.6111\n",
      "Epoch 14/30\n",
      "\u001b[1m47/47\u001b[0m \u001b[32m━━━━━━━━━━━━━━━━━━━━\u001b[0m\u001b[37m\u001b[0m \u001b[1m12s\u001b[0m 257ms/step - accuracy: 0.7814 - loss: 0.5719 - precision: 0.8084 - recall: 0.7195 - val_accuracy: 0.7576 - val_loss: 0.6850 - val_precision: 0.7841 - val_recall: 0.6970\n",
      "Epoch 15/30\n",
      "\u001b[1m47/47\u001b[0m \u001b[32m━━━━━━━━━━━━━━━━━━━━\u001b[0m\u001b[37m\u001b[0m \u001b[1m17s\u001b[0m 353ms/step - accuracy: 0.8259 - loss: 0.5130 - precision: 0.8535 - recall: 0.7866 - val_accuracy: 0.7475 - val_loss: 0.7552 - val_precision: 0.7500 - val_recall: 0.7273\n",
      "Epoch 16/30\n",
      "\u001b[1m47/47\u001b[0m \u001b[32m━━━━━━━━━━━━━━━━━━━━\u001b[0m\u001b[37m\u001b[0m \u001b[1m12s\u001b[0m 241ms/step - accuracy: 0.8328 - loss: 0.4455 - precision: 0.8511 - recall: 0.8123 - val_accuracy: 0.7727 - val_loss: 0.6841 - val_precision: 0.7814 - val_recall: 0.7222\n",
      "Epoch 17/30\n",
      "\u001b[1m47/47\u001b[0m \u001b[32m━━━━━━━━━━━━━━━━━━━━\u001b[0m\u001b[37m\u001b[0m \u001b[1m12s\u001b[0m 244ms/step - accuracy: 0.8587 - loss: 0.4089 - precision: 0.8715 - recall: 0.8339 - val_accuracy: 0.7576 - val_loss: 0.7510 - val_precision: 0.7778 - val_recall: 0.7424\n",
      "Epoch 18/30\n",
      "\u001b[1m47/47\u001b[0m \u001b[32m━━━━━━━━━━━━━━━━━━━━\u001b[0m\u001b[37m\u001b[0m \u001b[1m14s\u001b[0m 297ms/step - accuracy: 0.8811 - loss: 0.3383 - precision: 0.8891 - recall: 0.8670 - val_accuracy: 0.7424 - val_loss: 0.8291 - val_precision: 0.7419 - val_recall: 0.6970\n",
      "Epoch 19/30\n",
      "\u001b[1m47/47\u001b[0m \u001b[32m━━━━━━━━━━━━━━━━━━━━\u001b[0m\u001b[37m\u001b[0m \u001b[1m12s\u001b[0m 243ms/step - accuracy: 0.8790 - loss: 0.3044 - precision: 0.8874 - recall: 0.8702 - val_accuracy: 0.7020 - val_loss: 0.9223 - val_precision: 0.7047 - val_recall: 0.6869\n",
      "Epoch 20/30\n",
      "\u001b[1m47/47\u001b[0m \u001b[32m━━━━━━━━━━━━━━━━━━━━\u001b[0m\u001b[37m\u001b[0m \u001b[1m12s\u001b[0m 246ms/step - accuracy: 0.8653 - loss: 0.3422 - precision: 0.8766 - recall: 0.8521 - val_accuracy: 0.7778 - val_loss: 0.8421 - val_precision: 0.7744 - val_recall: 0.7626\n",
      "Epoch 21/30\n",
      "\u001b[1m47/47\u001b[0m \u001b[32m━━━━━━━━━━━━━━━━━━━━\u001b[0m\u001b[37m\u001b[0m \u001b[1m12s\u001b[0m 252ms/step - accuracy: 0.9078 - loss: 0.2412 - precision: 0.9132 - recall: 0.9005 - val_accuracy: 0.7475 - val_loss: 0.9021 - val_precision: 0.7538 - val_recall: 0.7424\n",
      "Epoch 22/30\n",
      "\u001b[1m47/47\u001b[0m \u001b[32m━━━━━━━━━━━━━━━━━━━━\u001b[0m\u001b[37m\u001b[0m \u001b[1m14s\u001b[0m 283ms/step - accuracy: 0.9242 - loss: 0.2252 - precision: 0.9334 - recall: 0.9179 - val_accuracy: 0.7424 - val_loss: 0.9285 - val_precision: 0.7538 - val_recall: 0.7424\n",
      "Epoch 23/30\n",
      "\u001b[1m47/47\u001b[0m \u001b[32m━━━━━━━━━━━━━━━━━━━━\u001b[0m\u001b[37m\u001b[0m \u001b[1m12s\u001b[0m 248ms/step - accuracy: 0.9279 - loss: 0.2141 - precision: 0.9329 - recall: 0.9185 - val_accuracy: 0.7475 - val_loss: 0.9842 - val_precision: 0.7565 - val_recall: 0.7374\n",
      "Epoch 24/30\n",
      "\u001b[1m47/47\u001b[0m \u001b[32m━━━━━━━━━━━━━━━━━━━━\u001b[0m\u001b[37m\u001b[0m \u001b[1m12s\u001b[0m 239ms/step - accuracy: 0.9310 - loss: 0.1849 - precision: 0.9387 - recall: 0.9266 - val_accuracy: 0.7475 - val_loss: 1.0040 - val_precision: 0.7551 - val_recall: 0.7475\n",
      "Epoch 25/30\n",
      "\u001b[1m47/47\u001b[0m \u001b[32m━━━━━━━━━━━━━━━━━━━━\u001b[0m\u001b[37m\u001b[0m \u001b[1m14s\u001b[0m 295ms/step - accuracy: 0.9444 - loss: 0.1526 - precision: 0.9501 - recall: 0.9390 - val_accuracy: 0.7525 - val_loss: 1.0652 - val_precision: 0.7513 - val_recall: 0.7475\n",
      "Epoch 26/30\n",
      "\u001b[1m47/47\u001b[0m \u001b[32m━━━━━━━━━━━━━━━━━━━━\u001b[0m\u001b[37m\u001b[0m \u001b[1m12s\u001b[0m 244ms/step - accuracy: 0.9456 - loss: 0.1428 - precision: 0.9492 - recall: 0.9430 - val_accuracy: 0.7374 - val_loss: 1.0188 - val_precision: 0.7500 - val_recall: 0.7273\n",
      "Epoch 27/30\n",
      "\u001b[1m47/47\u001b[0m \u001b[32m━━━━━━━━━━━━━━━━━━━━\u001b[0m\u001b[37m\u001b[0m \u001b[1m12s\u001b[0m 243ms/step - accuracy: 0.9586 - loss: 0.1264 - precision: 0.9630 - recall: 0.9497 - val_accuracy: 0.7222 - val_loss: 1.1063 - val_precision: 0.7245 - val_recall: 0.7172\n",
      "Epoch 28/30\n",
      "\u001b[1m47/47\u001b[0m \u001b[32m━━━━━━━━━━━━━━━━━━━━\u001b[0m\u001b[37m\u001b[0m \u001b[1m12s\u001b[0m 255ms/step - accuracy: 0.9485 - loss: 0.1261 - precision: 0.9577 - recall: 0.9441 - val_accuracy: 0.7525 - val_loss: 1.0157 - val_precision: 0.7538 - val_recall: 0.7424\n",
      "Epoch 29/30\n",
      "\u001b[1m47/47\u001b[0m \u001b[32m━━━━━━━━━━━━━━━━━━━━\u001b[0m\u001b[37m\u001b[0m \u001b[1m14s\u001b[0m 286ms/step - accuracy: 0.9647 - loss: 0.1042 - precision: 0.9662 - recall: 0.9603 - val_accuracy: 0.7576 - val_loss: 1.1434 - val_precision: 0.7590 - val_recall: 0.7475\n",
      "Epoch 30/30\n",
      "\u001b[1m47/47\u001b[0m \u001b[32m━━━━━━━━━━━━━━━━━━━━\u001b[0m\u001b[37m\u001b[0m \u001b[1m12s\u001b[0m 244ms/step - accuracy: 0.9711 - loss: 0.0912 - precision: 0.9740 - recall: 0.9665 - val_accuracy: 0.7626 - val_loss: 1.2063 - val_precision: 0.7614 - val_recall: 0.7576\n",
      "Predicting on validation set...\n",
      "\u001b[1m7/7\u001b[0m \u001b[32m━━━━━━━━━━━━━━━━━━━━\u001b[0m\u001b[37m\u001b[0m \u001b[1m1s\u001b[0m 62ms/step\n",
      "Sending metrics to clearML...\n",
      "done\n"
     ]
    }
   ],
   "source": [
    "# sharpen augmentation\n",
    "task_name = 'sh'\n",
    "sub_project_name = 'SHARPEN'\n",
    "\n",
    "augmentation_metadata = {\n",
    "        'methods': {        \n",
    "            'sharpen': {\n",
    "                'parameters': {\n",
    "                    'p': 1.0  # Probability of applying the augmentation\n",
    "                },\n",
    "                'apply_to_percentage': 0.5  # 50% of the training images\n",
    "            }        \n",
    "        }\n",
    "    }\n",
    "\n",
    "for i in range(N):\n",
    "    RUN = i + 1\n",
    "    try:\n",
    "        print(f\"Starting RUN: {RUN}\")\n",
    "        main(RUN, augmentation_metadata, task_name, sub_project_name, epochs, train_size, w1, w2)\n",
    "    except Exception as e:\n",
    "        print(f\"Error in RUN: {RUN}\")\n",
    "        print(e)\n",
    "    finally:\n",
    "        clear_output(wait=True)  # Clear the output to avoid scrolling\n",
    "        gc.collect()  # Collect garbage to avoid memory leaks"
   ]
  },
  {
   "cell_type": "code",
   "execution_count": 7,
   "metadata": {},
   "outputs": [
    {
     "name": "stdout",
     "output_type": "stream",
     "text": [
      "Starting RUN: 5\n",
      "Seed:  1540996103\n"
     ]
    },
    {
     "name": "stderr",
     "output_type": "stream",
     "text": [
      "c:\\github\\Third-Year-Project\\Intruder-Aircraft-Detection\\main\\tl_clf.py:79: SettingWithCopyWarning:\n",
      "\n",
      "\n",
      "A value is trying to be set on a copy of a slice from a DataFrame.\n",
      "Try using .loc[row_indexer,col_indexer] = value instead\n",
      "\n",
      "See the caveats in the documentation: https://pandas.pydata.org/pandas-docs/stable/user_guide/indexing.html#returning-a-view-versus-a-copy\n",
      "\n",
      "c:\\github\\Third-Year-Project\\Intruder-Aircraft-Detection\\main\\tl_clf.py:80: SettingWithCopyWarning:\n",
      "\n",
      "\n",
      "A value is trying to be set on a copy of a slice from a DataFrame.\n",
      "Try using .loc[row_indexer,col_indexer] = value instead\n",
      "\n",
      "See the caveats in the documentation: https://pandas.pydata.org/pandas-docs/stable/user_guide/indexing.html#returning-a-view-versus-a-copy\n",
      "\n"
     ]
    },
    {
     "name": "stdout",
     "output_type": "stream",
     "text": [
      "Removing dataset if pre-existing\n",
      "Copying training files:\n"
     ]
    },
    {
     "name": "stderr",
     "output_type": "stream",
     "text": [
      "Copying files: 100%|██████████| 2000/2000 [00:01<00:00, 1625.60it/s]\n"
     ]
    },
    {
     "name": "stdout",
     "output_type": "stream",
     "text": [
      "Copying validation files:\n"
     ]
    },
    {
     "name": "stderr",
     "output_type": "stream",
     "text": [
      "Copying files: 100%|██████████| 400/400 [00:00<00:00, 1895.34it/s]\n"
     ]
    },
    {
     "name": "stdout",
     "output_type": "stream",
     "text": [
      "Dataset 'weather_45_1000' created at C:\\github\\Third-Year-Project\\Intruder-Aircraft-Detection\\datasets\\Custom\\weather_45_1000\n",
      "Processing train labels in weather_45_1000:\n"
     ]
    },
    {
     "name": "stderr",
     "output_type": "stream",
     "text": [
      "Processing labels: 100%|██████████| 1000/1000 [00:03<00:00, 303.97it/s]\n"
     ]
    },
    {
     "name": "stdout",
     "output_type": "stream",
     "text": [
      "Processing valid labels in weather_45_1000:\n"
     ]
    },
    {
     "name": "stderr",
     "output_type": "stream",
     "text": [
      "Processing labels: 100%|██████████| 200/200 [00:00<00:00, 261.88it/s]\n"
     ]
    },
    {
     "name": "stdout",
     "output_type": "stream",
     "text": [
      "Label correction completed.\n"
     ]
    },
    {
     "name": "stderr",
     "output_type": "stream",
     "text": [
      "Removing existing directories/files: 100%|██████████| 3/3 [00:00<00:00, 6000.43it/s]\n",
      "Copying files: 100%|██████████| 1000/1000 [00:01<00:00, 851.51it/s]\n",
      "Copying files: 100%|██████████| 1000/1000 [00:00<00:00, 1250.42it/s]\n",
      "Applying augmentations: 100%|██████████| 500/500 [00:23<00:00, 21.54it/s]\n",
      "Processing images:  14%|█▍        | 139/1000 [00:07<00:27, 31.73it/s]"
     ]
    },
    {
     "name": "stdout",
     "output_type": "stream",
     "text": [
      "An error occurred with C:/github/Third-Year-Project/Intruder-Aircraft-Detection/datasets/Custom/weather_45_1000\\images\\train\\28706.jpg: In YOLO format all coordinates must be float and in range (0, 1]\n"
     ]
    },
    {
     "name": "stderr",
     "output_type": "stream",
     "text": [
      "Processing images:  27%|██▋       | 274/1000 [00:11<00:20, 34.66it/s]"
     ]
    },
    {
     "name": "stdout",
     "output_type": "stream",
     "text": [
      "An error occurred with C:/github/Third-Year-Project/Intruder-Aircraft-Detection/datasets/Custom/weather_45_1000\\images\\train\\29532.jpg: Expected y_min for bbox (0.034367499999999995, -0.032188999999999995, 0.4652345, 0.25505500000000003, 1) to be in the range [0.0, 1.0], got -0.032188999999999995.\n"
     ]
    },
    {
     "name": "stderr",
     "output_type": "stream",
     "text": [
      "Processing images:  79%|███████▊  | 787/1000 [00:26<00:05, 37.40it/s]"
     ]
    },
    {
     "name": "stdout",
     "output_type": "stream",
     "text": [
      "An error occurred with C:/github/Third-Year-Project/Intruder-Aircraft-Detection/datasets/Custom/weather_45_1000\\images\\train\\53264.jpg: Expected x_min for bbox (-0.12539900000000004, -0.1299795, 0.864633, 0.5300414999999999, 2) to be in the range [0.0, 1.0], got -0.12539900000000004.\n"
     ]
    },
    {
     "name": "stderr",
     "output_type": "stream",
     "text": [
      "Processing images:  82%|████████▏ | 824/1000 [00:27<00:04, 36.99it/s]"
     ]
    },
    {
     "name": "stdout",
     "output_type": "stream",
     "text": [
      "An error occurred with C:/github/Third-Year-Project/Intruder-Aircraft-Detection/datasets/Custom/weather_45_1000\\images\\train\\53420.jpg: Expected x_max for bbox (0.42271650000000005, 0.6723135, 1.0245235, 1.0735185, 2) to be in the range [0.0, 1.0], got 1.0245235.\n"
     ]
    },
    {
     "name": "stderr",
     "output_type": "stream",
     "text": [
      "Processing images: 100%|██████████| 1000/1000 [00:32<00:00, 30.83it/s]\n",
      "Processing images:  13%|█▎        | 197/1500 [00:11<00:38, 33.82it/s]"
     ]
    },
    {
     "name": "stdout",
     "output_type": "stream",
     "text": [
      "An error occurred with C:/github/Third-Year-Project/Intruder-Aircraft-Detection/datasets/Custom/weather_45_1000\\images\\train-aug\\28706.jpg: In YOLO format all coordinates must be float and in range (0, 1]\n",
      "An error occurred with C:/github/Third-Year-Project/Intruder-Aircraft-Detection/datasets/Custom/weather_45_1000\\images\\train-aug\\28706-gaussian.jpg: In YOLO format all coordinates must be float and in range (0, 1]\n"
     ]
    },
    {
     "name": "stderr",
     "output_type": "stream",
     "text": [
      "Processing images:  27%|██▋       | 402/1500 [00:18<00:35, 31.20it/s]"
     ]
    },
    {
     "name": "stdout",
     "output_type": "stream",
     "text": [
      "An error occurred with C:/github/Third-Year-Project/Intruder-Aircraft-Detection/datasets/Custom/weather_45_1000\\images\\train-aug\\29532.jpg: Expected y_min for bbox (0.034367499999999995, -0.032188999999999995, 0.4652345, 0.25505500000000003, 1) to be in the range [0.0, 1.0], got -0.032188999999999995.\n"
     ]
    },
    {
     "name": "stderr",
     "output_type": "stream",
     "text": [
      "Processing images:  78%|███████▊  | 1175/1500 [00:42<00:09, 33.93it/s]"
     ]
    },
    {
     "name": "stdout",
     "output_type": "stream",
     "text": [
      "An error occurred with C:/github/Third-Year-Project/Intruder-Aircraft-Detection/datasets/Custom/weather_45_1000\\images\\train-aug\\53264.jpg: Expected x_min for bbox (-0.12539900000000004, -0.1299795, 0.864633, 0.5300414999999999, 2) to be in the range [0.0, 1.0], got -0.12539900000000004.\n"
     ]
    },
    {
     "name": "stderr",
     "output_type": "stream",
     "text": [
      "Processing images:  82%|████████▏ | 1227/1500 [00:44<00:08, 33.37it/s]"
     ]
    },
    {
     "name": "stdout",
     "output_type": "stream",
     "text": [
      "An error occurred with C:/github/Third-Year-Project/Intruder-Aircraft-Detection/datasets/Custom/weather_45_1000\\images\\train-aug\\53420.jpg: Expected x_max for bbox (0.42271650000000005, 0.6723135, 1.0245235, 1.0735185, 2) to be in the range [0.0, 1.0], got 1.0245235.\n"
     ]
    },
    {
     "name": "stderr",
     "output_type": "stream",
     "text": [
      "Processing images:  82%|████████▏ | 1232/1500 [00:44<00:07, 35.68it/s]"
     ]
    },
    {
     "name": "stdout",
     "output_type": "stream",
     "text": [
      "An error occurred with C:/github/Third-Year-Project/Intruder-Aircraft-Detection/datasets/Custom/weather_45_1000\\images\\train-aug\\53420-gaussian.jpg: Expected x_max for bbox (0.42271650000000005, 0.6723135, 1.0245235, 1.0735185, 2) to be in the range [0.0, 1.0], got 1.0245235.\n"
     ]
    },
    {
     "name": "stderr",
     "output_type": "stream",
     "text": [
      "Processing images: 100%|██████████| 1500/1500 [00:52<00:00, 28.50it/s]\n",
      "Processing images:  73%|███████▎  | 146/200 [00:04<00:01, 37.98it/s]"
     ]
    },
    {
     "name": "stdout",
     "output_type": "stream",
     "text": [
      "An error occurred with C:/github/Third-Year-Project/Intruder-Aircraft-Detection/datasets/Custom/weather_45_1000\\images\\valid\\52916.jpg: In YOLO format all coordinates must be float and in range (0, 1]\n",
      "An error occurred with C:/github/Third-Year-Project/Intruder-Aircraft-Detection/datasets/Custom/weather_45_1000\\images\\valid\\52925.jpg: Expected x_min for bbox (-0.17107, 0.23527800000000004, 0.669476, 0.795642, 2) to be in the range [0.0, 1.0], got -0.17107.\n"
     ]
    },
    {
     "name": "stderr",
     "output_type": "stream",
     "text": [
      "Processing images: 100%|██████████| 200/200 [00:06<00:00, 30.37it/s]\n",
      "Moving images in train: 100%|██████████| 996/996 [00:03<00:00, 261.69it/s]\n",
      "Moving images in train-aug: 100%|██████████| 1494/1494 [00:03<00:00, 379.27it/s]\n",
      "Moving images in valid: 100%|██████████| 198/198 [00:00<00:00, 271.35it/s]\n"
     ]
    },
    {
     "name": "stdout",
     "output_type": "stream",
     "text": [
      "Found 996 files belonging to 3 classes.\n",
      "Found 1494 files belonging to 3 classes.\n",
      "Found 198 files belonging to 3 classes.\n",
      "ClearML Task: created new task id=050bbd24736a4be7b2b371a14d24cfb1\n",
      "ClearML results page: https://app.clear.ml/projects/8cfd67047c9d4e6abe11758d1fccbf13/experiments/050bbd24736a4be7b2b371a14d24cfb1/output/log\n",
      "Training model...\n",
      "Epoch 1/30\n",
      "\u001b[1m32/32\u001b[0m \u001b[32m━━━━━━━━━━━━━━━━━━━━\u001b[0m\u001b[37m\u001b[0m \u001b[1m11s\u001b[0m 285ms/step - accuracy: 0.3539 - loss: 1.4738 - precision: 0.4095 - recall: 0.1314 - val_accuracy: 0.3333 - val_loss: 1.0985 - val_precision: 0.0000e+00 - val_recall: 0.0000e+00\n",
      "Epoch 2/30\n",
      "\u001b[1m32/32\u001b[0m \u001b[32m━━━━━━━━━━━━━━━━━━━━\u001b[0m\u001b[37m\u001b[0m \u001b[1m7s\u001b[0m 218ms/step - accuracy: 0.3136 - loss: 1.0989 - precision: 0.0000e+00 - recall: 0.0000e+00 - val_accuracy: 0.3333 - val_loss: 1.0982 - val_precision: 0.0000e+00 - val_recall: 0.0000e+00\n",
      "Epoch 3/30\n",
      "\u001b[1m32/32\u001b[0m \u001b[32m━━━━━━━━━━━━━━━━━━━━\u001b[0m\u001b[37m\u001b[0m \u001b[1m7s\u001b[0m 216ms/step - accuracy: 0.3002 - loss: 1.0991 - precision: 0.0000e+00 - recall: 0.0000e+00 - val_accuracy: 0.3990 - val_loss: 1.0984 - val_precision: 0.0000e+00 - val_recall: 0.0000e+00\n",
      "Epoch 4/30\n",
      "\u001b[1m32/32\u001b[0m \u001b[32m━━━━━━━━━━━━━━━━━━━━\u001b[0m\u001b[37m\u001b[0m \u001b[1m7s\u001b[0m 217ms/step - accuracy: 0.3411 - loss: 1.1024 - precision: 0.0000e+00 - recall: 0.0000e+00 - val_accuracy: 0.3384 - val_loss: 1.0986 - val_precision: 0.0000e+00 - val_recall: 0.0000e+00\n",
      "Epoch 5/30\n",
      "\u001b[1m32/32\u001b[0m \u001b[32m━━━━━━━━━━━━━━━━━━━━\u001b[0m\u001b[37m\u001b[0m \u001b[1m7s\u001b[0m 212ms/step - accuracy: 0.3477 - loss: 1.0986 - precision: 0.0000e+00 - recall: 0.0000e+00 - val_accuracy: 0.3485 - val_loss: 1.0986 - val_precision: 0.0000e+00 - val_recall: 0.0000e+00\n",
      "Epoch 6/30\n",
      "\u001b[1m32/32\u001b[0m \u001b[32m━━━━━━━━━━━━━━━━━━━━\u001b[0m\u001b[37m\u001b[0m \u001b[1m7s\u001b[0m 214ms/step - accuracy: 0.3658 - loss: 1.0986 - precision: 0.0000e+00 - recall: 0.0000e+00 - val_accuracy: 0.3384 - val_loss: 1.0986 - val_precision: 0.0000e+00 - val_recall: 0.0000e+00\n",
      "Epoch 7/30\n",
      "\u001b[1m32/32\u001b[0m \u001b[32m━━━━━━━━━━━━━━━━━━━━\u001b[0m\u001b[37m\u001b[0m \u001b[1m9s\u001b[0m 286ms/step - accuracy: 0.3610 - loss: 1.0985 - precision: 0.0000e+00 - recall: 0.0000e+00 - val_accuracy: 0.3384 - val_loss: 1.0985 - val_precision: 0.0000e+00 - val_recall: 0.0000e+00\n",
      "Epoch 8/30\n",
      "\u001b[1m32/32\u001b[0m \u001b[32m━━━━━━━━━━━━━━━━━━━━\u001b[0m\u001b[37m\u001b[0m \u001b[1m7s\u001b[0m 218ms/step - accuracy: 0.3532 - loss: 1.0986 - precision: 0.0000e+00 - recall: 0.0000e+00 - val_accuracy: 0.3384 - val_loss: 1.0986 - val_precision: 0.0000e+00 - val_recall: 0.0000e+00\n",
      "Epoch 9/30\n",
      "\u001b[1m32/32\u001b[0m \u001b[32m━━━━━━━━━━━━━━━━━━━━\u001b[0m\u001b[37m\u001b[0m \u001b[1m7s\u001b[0m 213ms/step - accuracy: 0.3806 - loss: 1.0987 - precision: 0.0000e+00 - recall: 0.0000e+00 - val_accuracy: 0.3384 - val_loss: 1.0983 - val_precision: 0.0000e+00 - val_recall: 0.0000e+00\n",
      "Epoch 10/30\n",
      "\u001b[1m32/32\u001b[0m \u001b[32m━━━━━━━━━━━━━━━━━━━━\u001b[0m\u001b[37m\u001b[0m \u001b[1m7s\u001b[0m 213ms/step - accuracy: 0.3692 - loss: 1.0995 - precision: 0.0000e+00 - recall: 0.0000e+00 - val_accuracy: 0.3333 - val_loss: 1.0986 - val_precision: 0.0000e+00 - val_recall: 0.0000e+00\n",
      "Epoch 11/30\n",
      "\u001b[1m32/32\u001b[0m \u001b[32m━━━━━━━━━━━━━━━━━━━━\u001b[0m\u001b[37m\u001b[0m \u001b[1m7s\u001b[0m 216ms/step - accuracy: 0.3241 - loss: 1.0988 - precision: 0.0000e+00 - recall: 0.0000e+00 - val_accuracy: 0.3333 - val_loss: 1.0985 - val_precision: 0.0000e+00 - val_recall: 0.0000e+00\n",
      "Epoch 12/30\n",
      "\u001b[1m32/32\u001b[0m \u001b[32m━━━━━━━━━━━━━━━━━━━━\u001b[0m\u001b[37m\u001b[0m \u001b[1m8s\u001b[0m 235ms/step - accuracy: 0.3168 - loss: 1.0987 - precision: 0.0000e+00 - recall: 0.0000e+00 - val_accuracy: 0.3636 - val_loss: 1.0985 - val_precision: 0.0000e+00 - val_recall: 0.0000e+00\n",
      "Epoch 13/30\n",
      "\u001b[1m32/32\u001b[0m \u001b[32m━━━━━━━━━━━━━━━━━━━━\u001b[0m\u001b[37m\u001b[0m \u001b[1m10s\u001b[0m 293ms/step - accuracy: 0.3250 - loss: 1.0984 - precision: 0.0000e+00 - recall: 0.0000e+00 - val_accuracy: 0.3283 - val_loss: 1.0971 - val_precision: 0.0000e+00 - val_recall: 0.0000e+00\n",
      "Epoch 14/30\n",
      "\u001b[1m32/32\u001b[0m \u001b[32m━━━━━━━━━━━━━━━━━━━━\u001b[0m\u001b[37m\u001b[0m \u001b[1m7s\u001b[0m 219ms/step - accuracy: 0.4124 - loss: 1.0895 - precision: 0.1944 - recall: 0.0068 - val_accuracy: 0.5404 - val_loss: 1.0154 - val_precision: 0.6667 - val_recall: 0.0707\n",
      "Epoch 15/30\n",
      "\u001b[1m32/32\u001b[0m \u001b[32m━━━━━━━━━━━━━━━━━━━━\u001b[0m\u001b[37m\u001b[0m \u001b[1m7s\u001b[0m 216ms/step - accuracy: 0.5422 - loss: 0.9828 - precision: 0.6297 - recall: 0.2021 - val_accuracy: 0.5909 - val_loss: 1.0053 - val_precision: 0.6185 - val_recall: 0.5404\n",
      "Epoch 16/30\n",
      "\u001b[1m32/32\u001b[0m \u001b[32m━━━━━━━━━━━━━━━━━━━━\u001b[0m\u001b[37m\u001b[0m \u001b[1m7s\u001b[0m 215ms/step - accuracy: 0.6582 - loss: 0.7668 - precision: 0.7121 - recall: 0.5528 - val_accuracy: 0.6465 - val_loss: 0.8669 - val_precision: 0.6726 - val_recall: 0.5707\n",
      "Epoch 17/30\n",
      "\u001b[1m32/32\u001b[0m \u001b[32m━━━━━━━━━━━━━━━━━━━━\u001b[0m\u001b[37m\u001b[0m \u001b[1m7s\u001b[0m 217ms/step - accuracy: 0.7244 - loss: 0.6749 - precision: 0.8065 - recall: 0.5947 - val_accuracy: 0.6566 - val_loss: 0.8649 - val_precision: 0.6919 - val_recall: 0.6010\n",
      "Epoch 18/30\n",
      "\u001b[1m32/32\u001b[0m \u001b[32m━━━━━━━━━━━━━━━━━━━━\u001b[0m\u001b[37m\u001b[0m \u001b[1m7s\u001b[0m 213ms/step - accuracy: 0.7842 - loss: 0.5290 - precision: 0.8114 - recall: 0.7449 - val_accuracy: 0.6818 - val_loss: 1.0671 - val_precision: 0.6882 - val_recall: 0.6465\n",
      "Epoch 19/30\n",
      "\u001b[1m32/32\u001b[0m \u001b[32m━━━━━━━━━━━━━━━━━━━━\u001b[0m\u001b[37m\u001b[0m \u001b[1m7s\u001b[0m 218ms/step - accuracy: 0.8262 - loss: 0.4662 - precision: 0.8520 - recall: 0.7918 - val_accuracy: 0.6667 - val_loss: 0.8622 - val_precision: 0.6988 - val_recall: 0.5859\n",
      "Epoch 20/30\n",
      "\u001b[1m32/32\u001b[0m \u001b[32m━━━━━━━━━━━━━━━━━━━━\u001b[0m\u001b[37m\u001b[0m \u001b[1m7s\u001b[0m 213ms/step - accuracy: 0.7865 - loss: 0.4854 - precision: 0.8487 - recall: 0.7352 - val_accuracy: 0.7071 - val_loss: 1.1169 - val_precision: 0.7219 - val_recall: 0.6818\n",
      "Epoch 21/30\n",
      "\u001b[1m32/32\u001b[0m \u001b[32m━━━━━━━━━━━━━━━━━━━━\u001b[0m\u001b[37m\u001b[0m \u001b[1m7s\u001b[0m 218ms/step - accuracy: 0.8272 - loss: 0.4329 - precision: 0.8509 - recall: 0.7905 - val_accuracy: 0.7374 - val_loss: 1.1213 - val_precision: 0.7487 - val_recall: 0.7374\n",
      "Epoch 22/30\n",
      "\u001b[1m32/32\u001b[0m \u001b[32m━━━━━━━━━━━━━━━━━━━━\u001b[0m\u001b[37m\u001b[0m \u001b[1m7s\u001b[0m 213ms/step - accuracy: 0.8674 - loss: 0.3462 - precision: 0.8778 - recall: 0.8552 - val_accuracy: 0.7374 - val_loss: 0.9916 - val_precision: 0.7409 - val_recall: 0.7222\n",
      "Epoch 23/30\n",
      "\u001b[1m32/32\u001b[0m \u001b[32m━━━━━━━━━━━━━━━━━━━━\u001b[0m\u001b[37m\u001b[0m \u001b[1m7s\u001b[0m 215ms/step - accuracy: 0.8557 - loss: 0.3486 - precision: 0.8711 - recall: 0.8511 - val_accuracy: 0.7576 - val_loss: 1.1737 - val_precision: 0.7696 - val_recall: 0.7424\n",
      "Epoch 24/30\n",
      "\u001b[1m32/32\u001b[0m \u001b[32m━━━━━━━━━━━━━━━━━━━━\u001b[0m\u001b[37m\u001b[0m \u001b[1m7s\u001b[0m 217ms/step - accuracy: 0.8792 - loss: 0.2787 - precision: 0.8891 - recall: 0.8752 - val_accuracy: 0.7475 - val_loss: 1.2120 - val_precision: 0.7487 - val_recall: 0.7374\n",
      "Epoch 25/30\n",
      "\u001b[1m32/32\u001b[0m \u001b[32m━━━━━━━━━━━━━━━━━━━━\u001b[0m\u001b[37m\u001b[0m \u001b[1m7s\u001b[0m 217ms/step - accuracy: 0.9098 - loss: 0.2546 - precision: 0.9191 - recall: 0.9025 - val_accuracy: 0.7020 - val_loss: 1.5643 - val_precision: 0.7135 - val_recall: 0.6919\n",
      "Epoch 26/30\n",
      "\u001b[1m32/32\u001b[0m \u001b[32m━━━━━━━━━━━━━━━━━━━━\u001b[0m\u001b[37m\u001b[0m \u001b[1m7s\u001b[0m 216ms/step - accuracy: 0.8615 - loss: 0.3388 - precision: 0.8777 - recall: 0.8503 - val_accuracy: 0.7121 - val_loss: 1.2141 - val_precision: 0.7292 - val_recall: 0.7071\n",
      "Epoch 27/30\n",
      "\u001b[1m32/32\u001b[0m \u001b[32m━━━━━━━━━━━━━━━━━━━━\u001b[0m\u001b[37m\u001b[0m \u001b[1m7s\u001b[0m 215ms/step - accuracy: 0.8968 - loss: 0.2526 - precision: 0.9009 - recall: 0.8941 - val_accuracy: 0.7525 - val_loss: 1.3169 - val_precision: 0.7577 - val_recall: 0.7424\n",
      "Epoch 28/30\n",
      "\u001b[1m32/32\u001b[0m \u001b[32m━━━━━━━━━━━━━━━━━━━━\u001b[0m\u001b[37m\u001b[0m \u001b[1m7s\u001b[0m 216ms/step - accuracy: 0.9006 - loss: 0.2433 - precision: 0.9053 - recall: 0.8929 - val_accuracy: 0.7172 - val_loss: 1.2550 - val_precision: 0.7231 - val_recall: 0.7121\n",
      "Epoch 29/30\n",
      "\u001b[1m32/32\u001b[0m \u001b[32m━━━━━━━━━━━━━━━━━━━━\u001b[0m\u001b[37m\u001b[0m \u001b[1m7s\u001b[0m 214ms/step - accuracy: 0.9108 - loss: 0.2401 - precision: 0.9183 - recall: 0.8998 - val_accuracy: 0.7323 - val_loss: 1.4609 - val_precision: 0.7461 - val_recall: 0.7273\n",
      "Epoch 30/30\n",
      "\u001b[1m32/32\u001b[0m \u001b[32m━━━━━━━━━━━━━━━━━━━━\u001b[0m\u001b[37m\u001b[0m \u001b[1m7s\u001b[0m 219ms/step - accuracy: 0.9172 - loss: 0.2102 - precision: 0.9226 - recall: 0.9128 - val_accuracy: 0.7121 - val_loss: 1.2744 - val_precision: 0.7344 - val_recall: 0.7121\n",
      "Predicting on validation set...\n",
      "\u001b[1m7/7\u001b[0m \u001b[32m━━━━━━━━━━━━━━━━━━━━\u001b[0m\u001b[37m\u001b[0m \u001b[1m1s\u001b[0m 51ms/step\n",
      "Sending metrics to clearML...\n",
      "done\n",
      "ClearML Task: created new task id=81706034a34f4af3b817507d52405912\n",
      "ClearML results page: https://app.clear.ml/projects/8cfd67047c9d4e6abe11758d1fccbf13/experiments/81706034a34f4af3b817507d52405912/output/log\n",
      "Training model...\n",
      "Epoch 1/30\n",
      "\u001b[1m47/47\u001b[0m \u001b[32m━━━━━━━━━━━━━━━━━━━━\u001b[0m\u001b[37m\u001b[0m \u001b[1m15s\u001b[0m 271ms/step - accuracy: 0.3233 - loss: 1.7137 - precision: 0.2738 - recall: 0.0854 - val_accuracy: 0.3384 - val_loss: 1.0986 - val_precision: 0.0000e+00 - val_recall: 0.0000e+00\n",
      "Epoch 2/30\n",
      "\u001b[1m47/47\u001b[0m \u001b[32m━━━━━━━━━━━━━━━━━━━━\u001b[0m\u001b[37m\u001b[0m \u001b[1m11s\u001b[0m 217ms/step - accuracy: 0.3272 - loss: 1.0987 - precision: 0.0000e+00 - recall: 0.0000e+00 - val_accuracy: 0.3485 - val_loss: 1.0986 - val_precision: 0.0000e+00 - val_recall: 0.0000e+00\n",
      "Epoch 3/30\n",
      "\u001b[1m47/47\u001b[0m \u001b[32m━━━━━━━━━━━━━━━━━━━━\u001b[0m\u001b[37m\u001b[0m \u001b[1m10s\u001b[0m 217ms/step - accuracy: 0.3276 - loss: 1.0986 - precision: 0.0000e+00 - recall: 0.0000e+00 - val_accuracy: 0.3384 - val_loss: 1.0986 - val_precision: 0.0000e+00 - val_recall: 0.0000e+00\n",
      "Epoch 4/30\n",
      "\u001b[1m47/47\u001b[0m \u001b[32m━━━━━━━━━━━━━━━━━━━━\u001b[0m\u001b[37m\u001b[0m \u001b[1m10s\u001b[0m 213ms/step - accuracy: 0.3490 - loss: 1.0990 - precision: 0.0000e+00 - recall: 0.0000e+00 - val_accuracy: 0.3283 - val_loss: 1.0986 - val_precision: 0.0000e+00 - val_recall: 0.0000e+00\n",
      "Epoch 5/30\n",
      "\u001b[1m47/47\u001b[0m \u001b[32m━━━━━━━━━━━━━━━━━━━━\u001b[0m\u001b[37m\u001b[0m \u001b[1m13s\u001b[0m 278ms/step - accuracy: 0.3351 - loss: 1.0985 - precision: 0.0000e+00 - recall: 0.0000e+00 - val_accuracy: 0.3333 - val_loss: 1.0987 - val_precision: 0.0000e+00 - val_recall: 0.0000e+00\n",
      "Epoch 6/30\n",
      "\u001b[1m47/47\u001b[0m \u001b[32m━━━━━━━━━━━━━━━━━━━━\u001b[0m\u001b[37m\u001b[0m \u001b[1m11s\u001b[0m 218ms/step - accuracy: 0.3421 - loss: 1.1002 - precision: 0.0000e+00 - recall: 0.0000e+00 - val_accuracy: 0.3636 - val_loss: 1.0986 - val_precision: 0.0000e+00 - val_recall: 0.0000e+00\n",
      "Epoch 7/30\n",
      "\u001b[1m47/47\u001b[0m \u001b[32m━━━━━━━━━━━━━━━━━━━━\u001b[0m\u001b[37m\u001b[0m \u001b[1m10s\u001b[0m 216ms/step - accuracy: 0.3622 - loss: 1.0985 - precision: 0.0000e+00 - recall: 0.0000e+00 - val_accuracy: 0.3283 - val_loss: 1.0983 - val_precision: 0.0000e+00 - val_recall: 0.0000e+00\n",
      "Epoch 8/30\n",
      "\u001b[1m47/47\u001b[0m \u001b[32m━━━━━━━━━━━━━━━━━━━━\u001b[0m\u001b[37m\u001b[0m \u001b[1m10s\u001b[0m 216ms/step - accuracy: 0.3366 - loss: 1.0981 - precision: 0.0000e+00 - recall: 0.0000e+00 - val_accuracy: 0.3283 - val_loss: 1.0977 - val_precision: 0.0000e+00 - val_recall: 0.0000e+00\n",
      "Epoch 9/30\n",
      "\u001b[1m47/47\u001b[0m \u001b[32m━━━━━━━━━━━━━━━━━━━━\u001b[0m\u001b[37m\u001b[0m \u001b[1m10s\u001b[0m 216ms/step - accuracy: 0.3480 - loss: 1.0973 - precision: 0.0000e+00 - recall: 0.0000e+00 - val_accuracy: 0.3586 - val_loss: 1.0971 - val_precision: 0.0000e+00 - val_recall: 0.0000e+00\n",
      "Epoch 10/30\n",
      "\u001b[1m47/47\u001b[0m \u001b[32m━━━━━━━━━━━━━━━━━━━━\u001b[0m\u001b[37m\u001b[0m \u001b[1m10s\u001b[0m 216ms/step - accuracy: 0.3614 - loss: 1.0965 - precision: 0.0000e+00 - recall: 0.0000e+00 - val_accuracy: 0.4242 - val_loss: 1.0894 - val_precision: 0.0000e+00 - val_recall: 0.0000e+00\n",
      "Epoch 11/30\n",
      "\u001b[1m47/47\u001b[0m \u001b[32m━━━━━━━━━━━━━━━━━━━━\u001b[0m\u001b[37m\u001b[0m \u001b[1m10s\u001b[0m 214ms/step - accuracy: 0.3906 - loss: 1.0809 - precision: 0.4479 - recall: 0.0498 - val_accuracy: 0.3636 - val_loss: 1.0862 - val_precision: 0.0000e+00 - val_recall: 0.0000e+00\n",
      "Epoch 12/30\n",
      "\u001b[1m47/47\u001b[0m \u001b[32m━━━━━━━━━━━━━━━━━━━━\u001b[0m\u001b[37m\u001b[0m \u001b[1m11s\u001b[0m 217ms/step - accuracy: 0.4161 - loss: 1.1417 - precision: 0.5288 - recall: 0.0583 - val_accuracy: 0.3990 - val_loss: 1.0969 - val_precision: 0.0000e+00 - val_recall: 0.0000e+00\n",
      "Epoch 13/30\n",
      "\u001b[1m47/47\u001b[0m \u001b[32m━━━━━━━━━━━━━━━━━━━━\u001b[0m\u001b[37m\u001b[0m \u001b[1m11s\u001b[0m 217ms/step - accuracy: 0.3596 - loss: 1.0981 - precision: 0.0000e+00 - recall: 0.0000e+00 - val_accuracy: 0.3990 - val_loss: 1.0965 - val_precision: 0.0000e+00 - val_recall: 0.0000e+00\n",
      "Epoch 14/30\n",
      "\u001b[1m47/47\u001b[0m \u001b[32m━━━━━━━━━━━━━━━━━━━━\u001b[0m\u001b[37m\u001b[0m \u001b[1m10s\u001b[0m 215ms/step - accuracy: 0.3647 - loss: 1.0963 - precision: 0.0000e+00 - recall: 0.0000e+00 - val_accuracy: 0.3283 - val_loss: 1.1011 - val_precision: 0.0000e+00 - val_recall: 0.0000e+00\n",
      "Epoch 15/30\n",
      "\u001b[1m47/47\u001b[0m \u001b[32m━━━━━━━━━━━━━━━━━━━━\u001b[0m\u001b[37m\u001b[0m \u001b[1m11s\u001b[0m 218ms/step - accuracy: 0.3483 - loss: 1.0965 - precision: 0.0000e+00 - recall: 0.0000e+00 - val_accuracy: 0.3788 - val_loss: 1.0937 - val_precision: 0.0000e+00 - val_recall: 0.0000e+00\n",
      "Epoch 16/30\n",
      "\u001b[1m47/47\u001b[0m \u001b[32m━━━━━━━━━━━━━━━━━━━━\u001b[0m\u001b[37m\u001b[0m \u001b[1m10s\u001b[0m 215ms/step - accuracy: 0.3532 - loss: 1.0934 - precision: 0.0000e+00 - recall: 0.0000e+00 - val_accuracy: 0.3384 - val_loss: 1.0927 - val_precision: 0.0000e+00 - val_recall: 0.0000e+00\n",
      "Epoch 17/30\n",
      "\u001b[1m47/47\u001b[0m \u001b[32m━━━━━━━━━━━━━━━━━━━━\u001b[0m\u001b[37m\u001b[0m \u001b[1m11s\u001b[0m 217ms/step - accuracy: 0.3624 - loss: 1.0952 - precision: 0.0000e+00 - recall: 0.0000e+00 - val_accuracy: 0.3939 - val_loss: 1.0906 - val_precision: 0.0000e+00 - val_recall: 0.0000e+00\n",
      "Epoch 18/30\n",
      "\u001b[1m47/47\u001b[0m \u001b[32m━━━━━━━━━━━━━━━━━━━━\u001b[0m\u001b[37m\u001b[0m \u001b[1m11s\u001b[0m 218ms/step - accuracy: 0.3606 - loss: 1.0944 - precision: 0.0000e+00 - recall: 0.0000e+00 - val_accuracy: 0.3283 - val_loss: 1.1016 - val_precision: 0.0000e+00 - val_recall: 0.0000e+00\n",
      "Epoch 19/30\n",
      "\u001b[1m47/47\u001b[0m \u001b[32m━━━━━━━━━━━━━━━━━━━━\u001b[0m\u001b[37m\u001b[0m \u001b[1m11s\u001b[0m 217ms/step - accuracy: 0.3774 - loss: 1.0925 - precision: 0.4688 - recall: 0.0204 - val_accuracy: 0.3333 - val_loss: 1.0895 - val_precision: 0.0000e+00 - val_recall: 0.0000e+00\n",
      "Epoch 20/30\n",
      "\u001b[1m47/47\u001b[0m \u001b[32m━━━━━━━━━━━━━━━━━━━━\u001b[0m\u001b[37m\u001b[0m \u001b[1m10s\u001b[0m 216ms/step - accuracy: 0.3870 - loss: 1.0896 - precision: 0.0000e+00 - recall: 0.0000e+00 - val_accuracy: 0.3232 - val_loss: 1.0873 - val_precision: 0.0000e+00 - val_recall: 0.0000e+00\n",
      "Epoch 21/30\n",
      "\u001b[1m47/47\u001b[0m \u001b[32m━━━━━━━━━━━━━━━━━━━━\u001b[0m\u001b[37m\u001b[0m \u001b[1m11s\u001b[0m 217ms/step - accuracy: 0.3487 - loss: 1.0917 - precision: 0.5871 - recall: 0.0159 - val_accuracy: 0.4242 - val_loss: 1.0889 - val_precision: 0.0000e+00 - val_recall: 0.0000e+00\n",
      "Epoch 22/30\n",
      "\u001b[1m47/47\u001b[0m \u001b[32m━━━━━━━━━━━━━━━━━━━━\u001b[0m\u001b[37m\u001b[0m \u001b[1m11s\u001b[0m 219ms/step - accuracy: 0.3795 - loss: 1.0903 - precision: 0.0000e+00 - recall: 0.0000e+00 - val_accuracy: 0.4343 - val_loss: 1.0853 - val_precision: 0.0000e+00 - val_recall: 0.0000e+00\n",
      "Epoch 23/30\n",
      "\u001b[1m47/47\u001b[0m \u001b[32m━━━━━━━━━━━━━━━━━━━━\u001b[0m\u001b[37m\u001b[0m \u001b[1m10s\u001b[0m 215ms/step - accuracy: 0.3998 - loss: 1.0833 - precision: 0.0000e+00 - recall: 0.0000e+00 - val_accuracy: 0.4495 - val_loss: 1.0816 - val_precision: 0.0000e+00 - val_recall: 0.0000e+00\n",
      "Epoch 24/30\n",
      "\u001b[1m47/47\u001b[0m \u001b[32m━━━━━━━━━━━━━━━━━━━━\u001b[0m\u001b[37m\u001b[0m \u001b[1m11s\u001b[0m 219ms/step - accuracy: 0.3807 - loss: 1.0840 - precision: 0.4375 - recall: 3.6984e-04 - val_accuracy: 0.4293 - val_loss: 1.0799 - val_precision: 0.0000e+00 - val_recall: 0.0000e+00\n",
      "Epoch 25/30\n",
      "\u001b[1m47/47\u001b[0m \u001b[32m━━━━━━━━━━━━━━━━━━━━\u001b[0m\u001b[37m\u001b[0m \u001b[1m10s\u001b[0m 217ms/step - accuracy: 0.3803 - loss: 1.0875 - precision: 0.0000e+00 - recall: 0.0000e+00 - val_accuracy: 0.4343 - val_loss: 1.0835 - val_precision: 0.0000e+00 - val_recall: 0.0000e+00\n",
      "Epoch 26/30\n",
      "\u001b[1m47/47\u001b[0m \u001b[32m━━━━━━━━━━━━━━━━━━━━\u001b[0m\u001b[37m\u001b[0m \u001b[1m10s\u001b[0m 217ms/step - accuracy: 0.3804 - loss: 1.0817 - precision: 0.1042 - recall: 1.1783e-04 - val_accuracy: 0.4293 - val_loss: 1.0752 - val_precision: 0.0000e+00 - val_recall: 0.0000e+00\n",
      "Epoch 27/30\n",
      "\u001b[1m47/47\u001b[0m \u001b[32m━━━━━━━━━━━━━━━━━━━━\u001b[0m\u001b[37m\u001b[0m \u001b[1m10s\u001b[0m 216ms/step - accuracy: 0.3739 - loss: 1.0819 - precision: 0.0000e+00 - recall: 0.0000e+00 - val_accuracy: 0.4444 - val_loss: 1.0739 - val_precision: 0.0000e+00 - val_recall: 0.0000e+00\n",
      "Epoch 28/30\n",
      "\u001b[1m47/47\u001b[0m \u001b[32m━━━━━━━━━━━━━━━━━━━━\u001b[0m\u001b[37m\u001b[0m \u001b[1m10s\u001b[0m 217ms/step - accuracy: 0.3989 - loss: 1.0748 - precision: 0.0000e+00 - recall: 0.0000e+00 - val_accuracy: 0.4141 - val_loss: 1.0807 - val_precision: 0.0000e+00 - val_recall: 0.0000e+00\n",
      "Epoch 29/30\n",
      "\u001b[1m47/47\u001b[0m \u001b[32m━━━━━━━━━━━━━━━━━━━━\u001b[0m\u001b[37m\u001b[0m \u001b[1m11s\u001b[0m 218ms/step - accuracy: 0.3903 - loss: 1.0754 - precision: 0.0000e+00 - recall: 0.0000e+00 - val_accuracy: 0.4545 - val_loss: 1.0716 - val_precision: 0.0000e+00 - val_recall: 0.0000e+00\n",
      "Epoch 30/30\n",
      "\u001b[1m47/47\u001b[0m \u001b[32m━━━━━━━━━━━━━━━━━━━━\u001b[0m\u001b[37m\u001b[0m \u001b[1m11s\u001b[0m 218ms/step - accuracy: 0.3746 - loss: 1.0719 - precision: 0.6833 - recall: 0.0033 - val_accuracy: 0.4242 - val_loss: 1.0699 - val_precision: 0.0000e+00 - val_recall: 0.0000e+00\n",
      "Predicting on validation set...\n",
      "\u001b[1m7/7\u001b[0m \u001b[32m━━━━━━━━━━━━━━━━━━━━\u001b[0m\u001b[37m\u001b[0m \u001b[1m1s\u001b[0m 53ms/step\n",
      "Sending metrics to clearML...\n",
      "done\n"
     ]
    }
   ],
   "source": [
    "# guassian augmentation\n",
    "task_name = 'gau'\n",
    "sub_project_name = 'GAUSSIAN'\n",
    "\n",
    "augmentation_metadata = {\n",
    "        'methods': {        \n",
    "            'gaussian': {\n",
    "                'parameters': {\n",
    "                },\n",
    "                'apply_to_percentage': 0.5  # 50% of the training images\n",
    "            }        \n",
    "        }\n",
    "    }\n",
    "\n",
    "for i in range(N):\n",
    "    RUN = i + 1\n",
    "    try:\n",
    "        print(f\"Starting RUN: {RUN}\")\n",
    "        main(RUN, augmentation_metadata, task_name, sub_project_name, epochs, train_size, w1, w2)\n",
    "    except Exception as e:\n",
    "        print(f\"Error in RUN: {RUN}\")\n",
    "        print(e)\n",
    "    finally:\n",
    "        clear_output(wait=True)  # Clear the output to avoid scrolling\n",
    "        gc.collect()  # Collect garbage to avoid memory leaks"
   ]
  },
  {
   "cell_type": "code",
   "execution_count": 8,
   "metadata": {},
   "outputs": [
    {
     "name": "stdout",
     "output_type": "stream",
     "text": [
      "Starting RUN: 5\n",
      "Seed:  1544603829\n"
     ]
    },
    {
     "name": "stderr",
     "output_type": "stream",
     "text": [
      "c:\\github\\Third-Year-Project\\Intruder-Aircraft-Detection\\main\\tl_clf.py:79: SettingWithCopyWarning:\n",
      "\n",
      "\n",
      "A value is trying to be set on a copy of a slice from a DataFrame.\n",
      "Try using .loc[row_indexer,col_indexer] = value instead\n",
      "\n",
      "See the caveats in the documentation: https://pandas.pydata.org/pandas-docs/stable/user_guide/indexing.html#returning-a-view-versus-a-copy\n",
      "\n",
      "c:\\github\\Third-Year-Project\\Intruder-Aircraft-Detection\\main\\tl_clf.py:80: SettingWithCopyWarning:\n",
      "\n",
      "\n",
      "A value is trying to be set on a copy of a slice from a DataFrame.\n",
      "Try using .loc[row_indexer,col_indexer] = value instead\n",
      "\n",
      "See the caveats in the documentation: https://pandas.pydata.org/pandas-docs/stable/user_guide/indexing.html#returning-a-view-versus-a-copy\n",
      "\n"
     ]
    },
    {
     "name": "stdout",
     "output_type": "stream",
     "text": [
      "Removing dataset if pre-existing\n",
      "Copying training files:\n"
     ]
    },
    {
     "name": "stderr",
     "output_type": "stream",
     "text": [
      "Copying files: 100%|██████████| 2000/2000 [00:01<00:00, 1084.04it/s]\n"
     ]
    },
    {
     "name": "stdout",
     "output_type": "stream",
     "text": [
      "Copying validation files:\n"
     ]
    },
    {
     "name": "stderr",
     "output_type": "stream",
     "text": [
      "Copying files: 100%|██████████| 400/400 [00:00<00:00, 564.05it/s]\n"
     ]
    },
    {
     "name": "stdout",
     "output_type": "stream",
     "text": [
      "Dataset 'weather_45_1000' created at C:\\github\\Third-Year-Project\\Intruder-Aircraft-Detection\\datasets\\Custom\\weather_45_1000\n",
      "Processing train labels in weather_45_1000:\n"
     ]
    },
    {
     "name": "stderr",
     "output_type": "stream",
     "text": [
      "Processing labels: 100%|██████████| 1000/1000 [00:03<00:00, 278.75it/s]\n"
     ]
    },
    {
     "name": "stdout",
     "output_type": "stream",
     "text": [
      "Processing valid labels in weather_45_1000:\n"
     ]
    },
    {
     "name": "stderr",
     "output_type": "stream",
     "text": [
      "Processing labels: 100%|██████████| 200/200 [00:00<00:00, 277.80it/s]\n"
     ]
    },
    {
     "name": "stdout",
     "output_type": "stream",
     "text": [
      "Label correction completed.\n"
     ]
    },
    {
     "name": "stderr",
     "output_type": "stream",
     "text": [
      "Removing existing directories/files: 100%|██████████| 3/3 [00:00<00:00, 5955.00it/s]\n",
      "Copying files: 100%|██████████| 1000/1000 [00:00<00:00, 1134.77it/s]\n",
      "Copying files: 100%|██████████| 1000/1000 [00:00<00:00, 1254.35it/s]\n",
      "Applying augmentations: 100%|██████████| 500/500 [00:06<00:00, 74.17it/s]\n"
     ]
    },
    {
     "name": "stdout",
     "output_type": "stream",
     "text": [
      "An error occurred: Expected y_max for bbox (0.185026, 0.75632, 0.559774, 1.006152, 2) to be in the range [0.0, 1.0], got 1.006152.\n"
     ]
    },
    {
     "name": "stderr",
     "output_type": "stream",
     "text": [
      "Processing images:  12%|█▏        | 116/1000 [00:06<00:27, 31.92it/s]"
     ]
    },
    {
     "name": "stdout",
     "output_type": "stream",
     "text": [
      "An error occurred with C:/github/Third-Year-Project/Intruder-Aircraft-Detection/datasets/Custom/weather_45_1000\\images\\train\\28653.jpg: Expected x_max for bbox (0.4856945, 0.37555200000000005, 1.0210155, 0.732432, 1) to be in the range [0.0, 1.0], got 1.0210155.\n"
     ]
    },
    {
     "name": "stderr",
     "output_type": "stream",
     "text": [
      "Processing images:  13%|█▎        | 132/1000 [00:06<00:26, 32.50it/s]"
     ]
    },
    {
     "name": "stdout",
     "output_type": "stream",
     "text": [
      "An error occurred with C:/github/Third-Year-Project/Intruder-Aircraft-Detection/datasets/Custom/weather_45_1000\\images\\train\\28706.jpg: In YOLO format all coordinates must be float and in range (0, 1]\n"
     ]
    },
    {
     "name": "stderr",
     "output_type": "stream",
     "text": [
      "Processing images:  25%|██▍       | 246/1000 [00:10<00:20, 36.79it/s]"
     ]
    },
    {
     "name": "stdout",
     "output_type": "stream",
     "text": [
      "An error occurred with C:/github/Third-Year-Project/Intruder-Aircraft-Detection/datasets/Custom/weather_45_1000\\images\\train\\29410.jpg: Expected y_min for bbox (0.113566, -0.11284, 0.8513820000000001, 0.379038, 1) to be in the range [0.0, 1.0], got -0.11284.\n",
      "An error occurred with C:/github/Third-Year-Project/Intruder-Aircraft-Detection/datasets/Custom/weather_45_1000\\images\\train\\29454.jpg: Expected y_max for bbox (0.166634, 0.6343235, 0.724798, 1.0064325, 1) to be in the range [0.0, 1.0], got 1.0064325.\n"
     ]
    },
    {
     "name": "stderr",
     "output_type": "stream",
     "text": [
      "Processing images:  70%|███████   | 703/1000 [00:23<00:08, 35.70it/s]"
     ]
    },
    {
     "name": "stdout",
     "output_type": "stream",
     "text": [
      "An error occurred with C:/github/Third-Year-Project/Intruder-Aircraft-Detection/datasets/Custom/weather_45_1000\\images\\train\\52751.jpg: Expected x_min for bbox (-0.06371850000000001, -0.10423849999999998, 0.7122185, 0.41305249999999993, 2) to be in the range [0.0, 1.0], got -0.06371850000000001.\n"
     ]
    },
    {
     "name": "stderr",
     "output_type": "stream",
     "text": [
      "Processing images:  80%|███████▉  | 796/1000 [00:26<00:05, 36.98it/s]"
     ]
    },
    {
     "name": "stdout",
     "output_type": "stream",
     "text": [
      "An error occurred with C:/github/Third-Year-Project/Intruder-Aircraft-Detection/datasets/Custom/weather_45_1000\\images\\train\\53248.jpg: Expected y_max for bbox (0.185026, 0.75632, 0.559774, 1.006152, 2) to be in the range [0.0, 1.0], got 1.006152.\n"
     ]
    },
    {
     "name": "stderr",
     "output_type": "stream",
     "text": [
      "Processing images: 100%|██████████| 1000/1000 [00:32<00:00, 31.21it/s]\n",
      "Processing images:   1%|          | 11/1499 [00:00<01:28, 16.90it/s]"
     ]
    },
    {
     "name": "stdout",
     "output_type": "stream",
     "text": [
      "An error occurred with C:/github/Third-Year-Project/Intruder-Aircraft-Detection/datasets/Custom/weather_45_1000\\images\\train-aug\\28003-rotate.jpg: Expected y_min for bbox (0.264388, -5.000000000005e-07, 0.506808, 0.19302049999999998, 1) to be in the range [0.0, 1.0], got -5.000000000005e-07.\n"
     ]
    },
    {
     "name": "stderr",
     "output_type": "stream",
     "text": [
      "Processing images:   4%|▍         | 64/1499 [00:04<01:40, 14.26it/s]"
     ]
    },
    {
     "name": "stdout",
     "output_type": "stream",
     "text": [
      "An error occurred with C:/github/Third-Year-Project/Intruder-Aircraft-Detection/datasets/Custom/weather_45_1000\\images\\train-aug\\28242-rotate.jpg: list index out of range\n"
     ]
    },
    {
     "name": "stderr",
     "output_type": "stream",
     "text": [
      "Processing images:  11%|█▏        | 172/1499 [00:10<00:40, 32.99it/s]"
     ]
    },
    {
     "name": "stdout",
     "output_type": "stream",
     "text": [
      "An error occurred with C:/github/Third-Year-Project/Intruder-Aircraft-Detection/datasets/Custom/weather_45_1000\\images\\train-aug\\28653.jpg: Expected x_max for bbox (0.4856945, 0.37555200000000005, 1.0210155, 0.732432, 1) to be in the range [0.0, 1.0], got 1.0210155.\n"
     ]
    },
    {
     "name": "stderr",
     "output_type": "stream",
     "text": [
      "Processing images:  13%|█▎        | 189/1499 [00:10<00:38, 33.95it/s]"
     ]
    },
    {
     "name": "stdout",
     "output_type": "stream",
     "text": [
      "An error occurred with C:/github/Third-Year-Project/Intruder-Aircraft-Detection/datasets/Custom/weather_45_1000\\images\\train-aug\\28706.jpg: In YOLO format all coordinates must be float and in range (0, 1]\n"
     ]
    },
    {
     "name": "stderr",
     "output_type": "stream",
     "text": [
      "Processing images:  24%|██▍       | 362/1499 [00:16<00:33, 34.29it/s]"
     ]
    },
    {
     "name": "stdout",
     "output_type": "stream",
     "text": [
      "An error occurred with C:/github/Third-Year-Project/Intruder-Aircraft-Detection/datasets/Custom/weather_45_1000\\images\\train-aug\\29410.jpg: Expected y_min for bbox (0.113566, -0.11284, 0.8513820000000001, 0.379038, 1) to be in the range [0.0, 1.0], got -0.11284.\n"
     ]
    },
    {
     "name": "stderr",
     "output_type": "stream",
     "text": [
      "Processing images:  25%|██▌       | 375/1499 [00:16<00:32, 34.57it/s]"
     ]
    },
    {
     "name": "stdout",
     "output_type": "stream",
     "text": [
      "An error occurred with C:/github/Third-Year-Project/Intruder-Aircraft-Detection/datasets/Custom/weather_45_1000\\images\\train-aug\\29454.jpg: Expected y_max for bbox (0.166634, 0.6343235, 0.724798, 1.0064325, 1) to be in the range [0.0, 1.0], got 1.0064325.\n"
     ]
    },
    {
     "name": "stderr",
     "output_type": "stream",
     "text": [
      "Processing images:  70%|███████   | 1053/1499 [00:36<00:12, 34.85it/s]"
     ]
    },
    {
     "name": "stdout",
     "output_type": "stream",
     "text": [
      "An error occurred with C:/github/Third-Year-Project/Intruder-Aircraft-Detection/datasets/Custom/weather_45_1000\\images\\train-aug\\52751.jpg: Expected x_min for bbox (-0.06371850000000001, -0.10423849999999998, 0.7122185, 0.41305249999999993, 2) to be in the range [0.0, 1.0], got -0.06371850000000001.\n"
     ]
    },
    {
     "name": "stderr",
     "output_type": "stream",
     "text": [
      "Processing images:  78%|███████▊  | 1170/1499 [00:39<00:08, 36.83it/s]"
     ]
    },
    {
     "name": "stdout",
     "output_type": "stream",
     "text": [
      "An error occurred with C:/github/Third-Year-Project/Intruder-Aircraft-Detection/datasets/Custom/weather_45_1000\\images\\train-aug\\53248.jpg: Expected y_max for bbox (0.185026, 0.75632, 0.559774, 1.006152, 2) to be in the range [0.0, 1.0], got 1.006152.\n"
     ]
    },
    {
     "name": "stderr",
     "output_type": "stream",
     "text": [
      "Processing images: 100%|██████████| 1499/1499 [00:49<00:00, 30.58it/s]\n",
      "Processing images:  76%|███████▌  | 152/200 [00:05<00:01, 35.50it/s]"
     ]
    },
    {
     "name": "stdout",
     "output_type": "stream",
     "text": [
      "An error occurred with C:/github/Third-Year-Project/Intruder-Aircraft-Detection/datasets/Custom/weather_45_1000\\images\\valid\\52925.jpg: Expected x_min for bbox (-0.17107, 0.23527800000000004, 0.669476, 0.795642, 2) to be in the range [0.0, 1.0], got -0.17107.\n"
     ]
    },
    {
     "name": "stderr",
     "output_type": "stream",
     "text": [
      "Processing images: 100%|██████████| 200/200 [00:06<00:00, 30.34it/s]\n",
      "Moving images in train: 100%|██████████| 994/994 [00:03<00:00, 257.82it/s]\n",
      "Moving images in train-aug: 100%|██████████| 1491/1491 [00:04<00:00, 302.21it/s]\n",
      "Moving images in valid: 100%|██████████| 199/199 [00:00<00:00, 260.76it/s]\n"
     ]
    },
    {
     "name": "stdout",
     "output_type": "stream",
     "text": [
      "Found 994 files belonging to 3 classes.\n",
      "Found 1491 files belonging to 3 classes.\n",
      "Found 199 files belonging to 3 classes.\n",
      "ClearML Task: created new task id=03bec06d4c6a4656b60528c14496198c\n",
      "ClearML results page: https://app.clear.ml/projects/5a674be4cf0f473c808dd42f7b83358f/experiments/03bec06d4c6a4656b60528c14496198c/output/log\n",
      "Training model...\n",
      "Epoch 1/30\n",
      "\u001b[1m32/32\u001b[0m \u001b[32m━━━━━━━━━━━━━━━━━━━━\u001b[0m\u001b[37m\u001b[0m \u001b[1m11s\u001b[0m 290ms/step - accuracy: 0.3400 - loss: 1.8037 - precision: 0.3082 - recall: 0.1269 - val_accuracy: 0.3317 - val_loss: 1.0987 - val_precision: 0.0000e+00 - val_recall: 0.0000e+00\n",
      "Epoch 2/30\n",
      "\u001b[1m32/32\u001b[0m \u001b[32m━━━━━━━━━━━━━━━━━━━━\u001b[0m\u001b[37m\u001b[0m \u001b[1m7s\u001b[0m 218ms/step - accuracy: 0.3468 - loss: 1.0984 - precision: 0.0000e+00 - recall: 0.0000e+00 - val_accuracy: 0.3317 - val_loss: 1.0987 - val_precision: 0.0000e+00 - val_recall: 0.0000e+00\n",
      "Epoch 3/30\n",
      "\u001b[1m32/32\u001b[0m \u001b[32m━━━━━━━━━━━━━━━━━━━━\u001b[0m\u001b[37m\u001b[0m \u001b[1m7s\u001b[0m 213ms/step - accuracy: 0.3166 - loss: 1.0988 - precision: 0.0000e+00 - recall: 0.0000e+00 - val_accuracy: 0.3317 - val_loss: 1.0987 - val_precision: 0.0000e+00 - val_recall: 0.0000e+00\n",
      "Epoch 4/30\n",
      "\u001b[1m32/32\u001b[0m \u001b[32m━━━━━━━━━━━━━━━━━━━━\u001b[0m\u001b[37m\u001b[0m \u001b[1m7s\u001b[0m 218ms/step - accuracy: 0.3340 - loss: 1.0986 - precision: 0.0000e+00 - recall: 0.0000e+00 - val_accuracy: 0.3317 - val_loss: 1.0986 - val_precision: 0.0000e+00 - val_recall: 0.0000e+00\n",
      "Epoch 5/30\n",
      "\u001b[1m32/32\u001b[0m \u001b[32m━━━━━━━━━━━━━━━━━━━━\u001b[0m\u001b[37m\u001b[0m \u001b[1m7s\u001b[0m 215ms/step - accuracy: 0.3359 - loss: 1.0986 - precision: 0.0000e+00 - recall: 0.0000e+00 - val_accuracy: 0.3317 - val_loss: 1.0986 - val_precision: 0.0000e+00 - val_recall: 0.0000e+00\n",
      "Epoch 6/30\n",
      "\u001b[1m32/32\u001b[0m \u001b[32m━━━━━━━━━━━━━━━━━━━━\u001b[0m\u001b[37m\u001b[0m \u001b[1m7s\u001b[0m 212ms/step - accuracy: 0.3099 - loss: 1.0988 - precision: 0.0000e+00 - recall: 0.0000e+00 - val_accuracy: 0.3367 - val_loss: 1.0986 - val_precision: 0.0000e+00 - val_recall: 0.0000e+00\n",
      "Epoch 7/30\n",
      "\u001b[1m32/32\u001b[0m \u001b[32m━━━━━━━━━━━━━━━━━━━━\u001b[0m\u001b[37m\u001b[0m \u001b[1m10s\u001b[0m 294ms/step - accuracy: 0.3407 - loss: 1.0986 - precision: 0.0000e+00 - recall: 0.0000e+00 - val_accuracy: 0.3367 - val_loss: 1.0986 - val_precision: 0.0000e+00 - val_recall: 0.0000e+00\n",
      "Epoch 8/30\n",
      "\u001b[1m32/32\u001b[0m \u001b[32m━━━━━━━━━━━━━━━━━━━━\u001b[0m\u001b[37m\u001b[0m \u001b[1m7s\u001b[0m 218ms/step - accuracy: 0.3218 - loss: 1.0990 - precision: 0.0000e+00 - recall: 0.0000e+00 - val_accuracy: 0.3367 - val_loss: 1.0986 - val_precision: 0.0000e+00 - val_recall: 0.0000e+00\n",
      "Epoch 9/30\n",
      "\u001b[1m32/32\u001b[0m \u001b[32m━━━━━━━━━━━━━━━━━━━━\u001b[0m\u001b[37m\u001b[0m \u001b[1m7s\u001b[0m 215ms/step - accuracy: 0.3350 - loss: 1.0987 - precision: 0.0000e+00 - recall: 0.0000e+00 - val_accuracy: 0.3367 - val_loss: 1.0986 - val_precision: 0.0000e+00 - val_recall: 0.0000e+00\n",
      "Epoch 10/30\n",
      "\u001b[1m32/32\u001b[0m \u001b[32m━━━━━━━━━━━━━━━━━━━━\u001b[0m\u001b[37m\u001b[0m \u001b[1m7s\u001b[0m 215ms/step - accuracy: 0.3131 - loss: 1.0986 - precision: 0.0000e+00 - recall: 0.0000e+00 - val_accuracy: 0.3317 - val_loss: 1.0986 - val_precision: 0.0000e+00 - val_recall: 0.0000e+00\n",
      "Epoch 11/30\n",
      "\u001b[1m32/32\u001b[0m \u001b[32m━━━━━━━━━━━━━━━━━━━━\u001b[0m\u001b[37m\u001b[0m \u001b[1m7s\u001b[0m 216ms/step - accuracy: 0.3286 - loss: 1.0988 - precision: 0.0000e+00 - recall: 0.0000e+00 - val_accuracy: 0.3317 - val_loss: 1.0986 - val_precision: 0.0000e+00 - val_recall: 0.0000e+00\n",
      "Epoch 12/30\n",
      "\u001b[1m32/32\u001b[0m \u001b[32m━━━━━━━━━━━━━━━━━━━━\u001b[0m\u001b[37m\u001b[0m \u001b[1m7s\u001b[0m 219ms/step - accuracy: 0.3389 - loss: 1.0984 - precision: 0.0000e+00 - recall: 0.0000e+00 - val_accuracy: 0.3317 - val_loss: 1.0986 - val_precision: 0.0000e+00 - val_recall: 0.0000e+00\n",
      "Epoch 13/30\n",
      "\u001b[1m32/32\u001b[0m \u001b[32m━━━━━━━━━━━━━━━━━━━━\u001b[0m\u001b[37m\u001b[0m \u001b[1m7s\u001b[0m 213ms/step - accuracy: 0.3574 - loss: 1.0985 - precision: 0.0000e+00 - recall: 0.0000e+00 - val_accuracy: 0.3317 - val_loss: 1.0987 - val_precision: 0.0000e+00 - val_recall: 0.0000e+00\n",
      "Epoch 14/30\n",
      "\u001b[1m32/32\u001b[0m \u001b[32m━━━━━━━━━━━━━━━━━━━━\u001b[0m\u001b[37m\u001b[0m \u001b[1m7s\u001b[0m 217ms/step - accuracy: 0.3470 - loss: 1.0984 - precision: 0.0000e+00 - recall: 0.0000e+00 - val_accuracy: 0.3317 - val_loss: 1.0987 - val_precision: 0.0000e+00 - val_recall: 0.0000e+00\n",
      "Epoch 15/30\n",
      "\u001b[1m32/32\u001b[0m \u001b[32m━━━━━━━━━━━━━━━━━━━━\u001b[0m\u001b[37m\u001b[0m \u001b[1m7s\u001b[0m 214ms/step - accuracy: 0.3583 - loss: 1.0982 - precision: 0.0000e+00 - recall: 0.0000e+00 - val_accuracy: 0.3618 - val_loss: 1.0987 - val_precision: 0.0000e+00 - val_recall: 0.0000e+00\n",
      "Epoch 16/30\n",
      "\u001b[1m32/32\u001b[0m \u001b[32m━━━━━━━━━━━━━━━━━━━━\u001b[0m\u001b[37m\u001b[0m \u001b[1m7s\u001b[0m 214ms/step - accuracy: 0.3367 - loss: 1.0990 - precision: 0.0000e+00 - recall: 0.0000e+00 - val_accuracy: 0.3367 - val_loss: 1.0987 - val_precision: 0.0000e+00 - val_recall: 0.0000e+00\n",
      "Epoch 17/30\n",
      "\u001b[1m32/32\u001b[0m \u001b[32m━━━━━━━━━━━━━━━━━━━━\u001b[0m\u001b[37m\u001b[0m \u001b[1m7s\u001b[0m 217ms/step - accuracy: 0.3221 - loss: 1.0989 - precision: 0.0000e+00 - recall: 0.0000e+00 - val_accuracy: 0.3317 - val_loss: 1.0986 - val_precision: 0.0000e+00 - val_recall: 0.0000e+00\n",
      "Epoch 18/30\n",
      "\u001b[1m32/32\u001b[0m \u001b[32m━━━━━━━━━━━━━━━━━━━━\u001b[0m\u001b[37m\u001b[0m \u001b[1m7s\u001b[0m 214ms/step - accuracy: 0.3454 - loss: 1.0984 - precision: 0.0000e+00 - recall: 0.0000e+00 - val_accuracy: 0.3367 - val_loss: 1.0986 - val_precision: 0.0000e+00 - val_recall: 0.0000e+00\n",
      "Epoch 19/30\n",
      "\u001b[1m32/32\u001b[0m \u001b[32m━━━━━━━━━━━━━━━━━━━━\u001b[0m\u001b[37m\u001b[0m \u001b[1m7s\u001b[0m 215ms/step - accuracy: 0.3250 - loss: 1.0986 - precision: 0.0000e+00 - recall: 0.0000e+00 - val_accuracy: 0.3317 - val_loss: 1.0987 - val_precision: 0.0000e+00 - val_recall: 0.0000e+00\n",
      "Epoch 20/30\n",
      "\u001b[1m32/32\u001b[0m \u001b[32m━━━━━━━━━━━━━━━━━━━━\u001b[0m\u001b[37m\u001b[0m \u001b[1m7s\u001b[0m 211ms/step - accuracy: 0.3411 - loss: 1.0983 - precision: 0.0000e+00 - recall: 0.0000e+00 - val_accuracy: 0.3367 - val_loss: 1.0986 - val_precision: 0.0000e+00 - val_recall: 0.0000e+00\n",
      "Epoch 21/30\n",
      "\u001b[1m32/32\u001b[0m \u001b[32m━━━━━━━━━━━━━━━━━━━━\u001b[0m\u001b[37m\u001b[0m \u001b[1m7s\u001b[0m 220ms/step - accuracy: 0.3338 - loss: 1.0988 - precision: 0.0000e+00 - recall: 0.0000e+00 - val_accuracy: 0.3518 - val_loss: 1.0986 - val_precision: 0.0000e+00 - val_recall: 0.0000e+00\n",
      "Epoch 22/30\n",
      "\u001b[1m32/32\u001b[0m \u001b[32m━━━━━━━━━━━━━━━━━━━━\u001b[0m\u001b[37m\u001b[0m \u001b[1m7s\u001b[0m 214ms/step - accuracy: 0.3338 - loss: 1.0987 - precision: 0.0000e+00 - recall: 0.0000e+00 - val_accuracy: 0.3367 - val_loss: 1.0986 - val_precision: 0.0000e+00 - val_recall: 0.0000e+00\n",
      "Epoch 23/30\n",
      "\u001b[1m32/32\u001b[0m \u001b[32m━━━━━━━━━━━━━━━━━━━━\u001b[0m\u001b[37m\u001b[0m \u001b[1m7s\u001b[0m 214ms/step - accuracy: 0.2938 - loss: 1.0992 - precision: 0.0000e+00 - recall: 0.0000e+00 - val_accuracy: 0.3568 - val_loss: 1.0987 - val_precision: 0.0000e+00 - val_recall: 0.0000e+00\n",
      "Epoch 24/30\n",
      "\u001b[1m32/32\u001b[0m \u001b[32m━━━━━━━━━━━━━━━━━━━━\u001b[0m\u001b[37m\u001b[0m \u001b[1m7s\u001b[0m 215ms/step - accuracy: 0.3557 - loss: 1.0982 - precision: 0.0000e+00 - recall: 0.0000e+00 - val_accuracy: 0.3367 - val_loss: 1.0987 - val_precision: 0.0000e+00 - val_recall: 0.0000e+00\n",
      "Epoch 25/30\n",
      "\u001b[1m32/32\u001b[0m \u001b[32m━━━━━━━━━━━━━━━━━━━━\u001b[0m\u001b[37m\u001b[0m \u001b[1m7s\u001b[0m 213ms/step - accuracy: 0.3455 - loss: 1.0980 - precision: 0.0000e+00 - recall: 0.0000e+00 - val_accuracy: 0.3367 - val_loss: 1.0986 - val_precision: 0.0000e+00 - val_recall: 0.0000e+00\n",
      "Epoch 26/30\n",
      "\u001b[1m32/32\u001b[0m \u001b[32m━━━━━━━━━━━━━━━━━━━━\u001b[0m\u001b[37m\u001b[0m \u001b[1m7s\u001b[0m 219ms/step - accuracy: 0.3244 - loss: 1.0983 - precision: 0.0000e+00 - recall: 0.0000e+00 - val_accuracy: 0.3367 - val_loss: 1.0986 - val_precision: 0.0000e+00 - val_recall: 0.0000e+00\n",
      "Epoch 27/30\n",
      "\u001b[1m32/32\u001b[0m \u001b[32m━━━━━━━━━━━━━━━━━━━━\u001b[0m\u001b[37m\u001b[0m \u001b[1m7s\u001b[0m 212ms/step - accuracy: 0.3286 - loss: 1.0986 - precision: 0.0000e+00 - recall: 0.0000e+00 - val_accuracy: 0.3668 - val_loss: 1.0986 - val_precision: 0.0000e+00 - val_recall: 0.0000e+00\n",
      "Epoch 28/30\n",
      "\u001b[1m32/32\u001b[0m \u001b[32m━━━━━━━━━━━━━━━━━━━━\u001b[0m\u001b[37m\u001b[0m \u001b[1m7s\u001b[0m 219ms/step - accuracy: 0.3538 - loss: 1.0980 - precision: 0.0000e+00 - recall: 0.0000e+00 - val_accuracy: 0.3920 - val_loss: 1.0983 - val_precision: 0.0000e+00 - val_recall: 0.0000e+00\n",
      "Epoch 29/30\n",
      "\u001b[1m32/32\u001b[0m \u001b[32m━━━━━━━━━━━━━━━━━━━━\u001b[0m\u001b[37m\u001b[0m \u001b[1m7s\u001b[0m 216ms/step - accuracy: 0.3402 - loss: 1.0979 - precision: 0.0000e+00 - recall: 0.0000e+00 - val_accuracy: 0.3518 - val_loss: 1.0983 - val_precision: 0.0000e+00 - val_recall: 0.0000e+00\n",
      "Epoch 30/30\n",
      "\u001b[1m32/32\u001b[0m \u001b[32m━━━━━━━━━━━━━━━━━━━━\u001b[0m\u001b[37m\u001b[0m \u001b[1m7s\u001b[0m 218ms/step - accuracy: 0.3334 - loss: 1.0985 - precision: 0.0000e+00 - recall: 0.0000e+00 - val_accuracy: 0.3568 - val_loss: 1.0983 - val_precision: 0.0000e+00 - val_recall: 0.0000e+00\n",
      "Predicting on validation set...\n",
      "\u001b[1m7/7\u001b[0m \u001b[32m━━━━━━━━━━━━━━━━━━━━\u001b[0m\u001b[37m\u001b[0m \u001b[1m1s\u001b[0m 52ms/step\n",
      "Sending metrics to clearML...\n",
      "done\n",
      "ClearML Task: created new task id=92fe3b21005540cd9cda69cc35791183\n",
      "ClearML results page: https://app.clear.ml/projects/5a674be4cf0f473c808dd42f7b83358f/experiments/92fe3b21005540cd9cda69cc35791183/output/log\n",
      "Training model...\n",
      "Epoch 1/30\n",
      "\u001b[1m47/47\u001b[0m \u001b[32m━━━━━━━━━━━━━━━━━━━━\u001b[0m\u001b[37m\u001b[0m \u001b[1m15s\u001b[0m 270ms/step - accuracy: 0.3618 - loss: 1.6382 - precision: 0.3921 - recall: 0.0862 - val_accuracy: 0.3266 - val_loss: 1.0975 - val_precision: 0.0000e+00 - val_recall: 0.0000e+00\n",
      "Epoch 2/30\n",
      "\u001b[1m47/47\u001b[0m \u001b[32m━━━━━━━━━━━━━━━━━━━━\u001b[0m\u001b[37m\u001b[0m \u001b[1m10s\u001b[0m 216ms/step - accuracy: 0.3614 - loss: 1.0855 - precision: 0.6407 - recall: 0.0344 - val_accuracy: 0.3367 - val_loss: 1.1061 - val_precision: 0.0000e+00 - val_recall: 0.0000e+00\n",
      "Epoch 3/30\n",
      "\u001b[1m47/47\u001b[0m \u001b[32m━━━━━━━━━━━━━━━━━━━━\u001b[0m\u001b[37m\u001b[0m \u001b[1m10s\u001b[0m 216ms/step - accuracy: 0.3879 - loss: 1.0698 - precision: 0.7634 - recall: 0.0468 - val_accuracy: 0.3467 - val_loss: 1.0977 - val_precision: 0.0000e+00 - val_recall: 0.0000e+00\n",
      "Epoch 4/30\n",
      "\u001b[1m47/47\u001b[0m \u001b[32m━━━━━━━━━━━━━━━━━━━━\u001b[0m\u001b[37m\u001b[0m \u001b[1m10s\u001b[0m 214ms/step - accuracy: 0.4079 - loss: 1.0849 - precision: 0.6364 - recall: 0.0706 - val_accuracy: 0.3568 - val_loss: 1.0928 - val_precision: 0.0000e+00 - val_recall: 0.0000e+00\n",
      "Epoch 5/30\n",
      "\u001b[1m47/47\u001b[0m \u001b[32m━━━━━━━━━━━━━━━━━━━━\u001b[0m\u001b[37m\u001b[0m \u001b[1m13s\u001b[0m 266ms/step - accuracy: 0.4277 - loss: 1.0463 - precision: 0.7681 - recall: 0.0812 - val_accuracy: 0.3668 - val_loss: 1.0830 - val_precision: 0.0000e+00 - val_recall: 0.0000e+00\n",
      "Epoch 6/30\n",
      "\u001b[1m47/47\u001b[0m \u001b[32m━━━━━━━━━━━━━━━━━━━━\u001b[0m\u001b[37m\u001b[0m \u001b[1m10s\u001b[0m 218ms/step - accuracy: 0.4634 - loss: 1.0219 - precision: 0.7558 - recall: 0.0894 - val_accuracy: 0.5176 - val_loss: 1.0406 - val_precision: 0.8889 - val_recall: 0.0402\n",
      "Epoch 7/30\n",
      "\u001b[1m47/47\u001b[0m \u001b[32m━━━━━━━━━━━━━━━━━━━━\u001b[0m\u001b[37m\u001b[0m \u001b[1m10s\u001b[0m 216ms/step - accuracy: 0.5097 - loss: 0.9693 - precision: 0.7647 - recall: 0.1811 - val_accuracy: 0.6533 - val_loss: 0.8338 - val_precision: 0.6963 - val_recall: 0.4724\n",
      "Epoch 8/30\n",
      "\u001b[1m47/47\u001b[0m \u001b[32m━━━━━━━━━━━━━━━━━━━━\u001b[0m\u001b[37m\u001b[0m \u001b[1m10s\u001b[0m 215ms/step - accuracy: 0.6625 - loss: 0.7707 - precision: 0.7383 - recall: 0.5237 - val_accuracy: 0.6683 - val_loss: 0.7387 - val_precision: 0.6994 - val_recall: 0.6080\n",
      "Epoch 9/30\n",
      "\u001b[1m47/47\u001b[0m \u001b[32m━━━━━━━━━━━━━━━━━━━━\u001b[0m\u001b[37m\u001b[0m \u001b[1m10s\u001b[0m 216ms/step - accuracy: 0.7455 - loss: 0.5912 - precision: 0.7894 - recall: 0.6730 - val_accuracy: 0.7236 - val_loss: 0.7048 - val_precision: 0.7391 - val_recall: 0.6834\n",
      "Epoch 10/30\n",
      "\u001b[1m47/47\u001b[0m \u001b[32m━━━━━━━━━━━━━━━━━━━━\u001b[0m\u001b[37m\u001b[0m \u001b[1m10s\u001b[0m 213ms/step - accuracy: 0.8033 - loss: 0.5068 - precision: 0.8230 - recall: 0.7502 - val_accuracy: 0.7487 - val_loss: 0.7049 - val_precision: 0.7634 - val_recall: 0.7136\n",
      "Epoch 11/30\n",
      "\u001b[1m47/47\u001b[0m \u001b[32m━━━━━━━━━━━━━━━━━━━━\u001b[0m\u001b[37m\u001b[0m \u001b[1m10s\u001b[0m 216ms/step - accuracy: 0.8078 - loss: 0.4516 - precision: 0.8363 - recall: 0.7759 - val_accuracy: 0.7387 - val_loss: 0.7734 - val_precision: 0.7371 - val_recall: 0.7186\n",
      "Epoch 12/30\n",
      "\u001b[1m47/47\u001b[0m \u001b[32m━━━━━━━━━━━━━━━━━━━━\u001b[0m\u001b[37m\u001b[0m \u001b[1m10s\u001b[0m 217ms/step - accuracy: 0.8543 - loss: 0.3794 - precision: 0.8668 - recall: 0.8375 - val_accuracy: 0.7437 - val_loss: 0.8390 - val_precision: 0.7448 - val_recall: 0.7186\n",
      "Epoch 13/30\n",
      "\u001b[1m47/47\u001b[0m \u001b[32m━━━━━━━━━━━━━━━━━━━━\u001b[0m\u001b[37m\u001b[0m \u001b[1m10s\u001b[0m 215ms/step - accuracy: 0.8663 - loss: 0.3413 - precision: 0.8804 - recall: 0.8462 - val_accuracy: 0.7487 - val_loss: 0.8924 - val_precision: 0.7617 - val_recall: 0.7387\n",
      "Epoch 14/30\n",
      "\u001b[1m47/47\u001b[0m \u001b[32m━━━━━━━━━━━━━━━━━━━━\u001b[0m\u001b[37m\u001b[0m \u001b[1m10s\u001b[0m 214ms/step - accuracy: 0.8822 - loss: 0.3051 - precision: 0.8902 - recall: 0.8755 - val_accuracy: 0.7487 - val_loss: 0.8600 - val_precision: 0.7590 - val_recall: 0.7437\n",
      "Epoch 15/30\n",
      "\u001b[1m47/47\u001b[0m \u001b[32m━━━━━━━━━━━━━━━━━━━━\u001b[0m\u001b[37m\u001b[0m \u001b[1m11s\u001b[0m 218ms/step - accuracy: 0.8962 - loss: 0.2736 - precision: 0.9044 - recall: 0.8758 - val_accuracy: 0.7839 - val_loss: 0.8027 - val_precision: 0.7908 - val_recall: 0.7789\n",
      "Epoch 16/30\n",
      "\u001b[1m47/47\u001b[0m \u001b[32m━━━━━━━━━━━━━━━━━━━━\u001b[0m\u001b[37m\u001b[0m \u001b[1m10s\u001b[0m 214ms/step - accuracy: 0.9063 - loss: 0.2486 - precision: 0.9163 - recall: 0.9003 - val_accuracy: 0.7839 - val_loss: 0.9083 - val_precision: 0.7879 - val_recall: 0.7839\n",
      "Epoch 17/30\n",
      "\u001b[1m47/47\u001b[0m \u001b[32m━━━━━━━━━━━━━━━━━━━━\u001b[0m\u001b[37m\u001b[0m \u001b[1m10s\u001b[0m 215ms/step - accuracy: 0.9205 - loss: 0.2345 - precision: 0.9320 - recall: 0.9108 - val_accuracy: 0.7487 - val_loss: 0.9505 - val_precision: 0.7641 - val_recall: 0.7487\n",
      "Epoch 18/30\n",
      "\u001b[1m47/47\u001b[0m \u001b[32m━━━━━━━━━━━━━━━━━━━━\u001b[0m\u001b[37m\u001b[0m \u001b[1m10s\u001b[0m 214ms/step - accuracy: 0.9213 - loss: 0.2009 - precision: 0.9308 - recall: 0.9146 - val_accuracy: 0.7588 - val_loss: 1.0375 - val_precision: 0.7576 - val_recall: 0.7538\n",
      "Epoch 19/30\n",
      "\u001b[1m47/47\u001b[0m \u001b[32m━━━━━━━━━━━━━━━━━━━━\u001b[0m\u001b[37m\u001b[0m \u001b[1m10s\u001b[0m 217ms/step - accuracy: 0.9319 - loss: 0.1929 - precision: 0.9408 - recall: 0.9226 - val_accuracy: 0.7688 - val_loss: 0.8121 - val_precision: 0.7895 - val_recall: 0.7538\n",
      "Epoch 20/30\n",
      "\u001b[1m47/47\u001b[0m \u001b[32m━━━━━━━━━━━━━━━━━━━━\u001b[0m\u001b[37m\u001b[0m \u001b[1m10s\u001b[0m 215ms/step - accuracy: 0.9091 - loss: 0.2403 - precision: 0.9212 - recall: 0.9013 - val_accuracy: 0.7889 - val_loss: 1.0153 - val_precision: 0.7949 - val_recall: 0.7789\n",
      "Epoch 21/30\n",
      "\u001b[1m47/47\u001b[0m \u001b[32m━━━━━━━━━━━━━━━━━━━━\u001b[0m\u001b[37m\u001b[0m \u001b[1m10s\u001b[0m 217ms/step - accuracy: 0.9248 - loss: 0.1992 - precision: 0.9362 - recall: 0.9207 - val_accuracy: 0.8090 - val_loss: 1.1563 - val_precision: 0.8051 - val_recall: 0.7889\n",
      "Epoch 22/30\n",
      "\u001b[1m47/47\u001b[0m \u001b[32m━━━━━━━━━━━━━━━━━━━━\u001b[0m\u001b[37m\u001b[0m \u001b[1m10s\u001b[0m 215ms/step - accuracy: 0.9309 - loss: 0.1887 - precision: 0.9416 - recall: 0.9236 - val_accuracy: 0.7940 - val_loss: 1.1345 - val_precision: 0.7980 - val_recall: 0.7940\n",
      "Epoch 23/30\n",
      "\u001b[1m47/47\u001b[0m \u001b[32m━━━━━━━━━━━━━━━━━━━━\u001b[0m\u001b[37m\u001b[0m \u001b[1m10s\u001b[0m 215ms/step - accuracy: 0.9427 - loss: 0.1670 - precision: 0.9443 - recall: 0.9389 - val_accuracy: 0.7789 - val_loss: 1.2641 - val_precision: 0.7828 - val_recall: 0.7789\n",
      "Epoch 24/30\n",
      "\u001b[1m47/47\u001b[0m \u001b[32m━━━━━━━━━━━━━━━━━━━━\u001b[0m\u001b[37m\u001b[0m \u001b[1m10s\u001b[0m 216ms/step - accuracy: 0.9312 - loss: 0.1739 - precision: 0.9355 - recall: 0.9221 - val_accuracy: 0.7889 - val_loss: 1.1313 - val_precision: 0.7889 - val_recall: 0.7889\n",
      "Epoch 25/30\n",
      "\u001b[1m47/47\u001b[0m \u001b[32m━━━━━━━━━━━━━━━━━━━━\u001b[0m\u001b[37m\u001b[0m \u001b[1m10s\u001b[0m 217ms/step - accuracy: 0.9455 - loss: 0.1521 - precision: 0.9483 - recall: 0.9421 - val_accuracy: 0.7487 - val_loss: 1.0639 - val_precision: 0.7525 - val_recall: 0.7487\n",
      "Epoch 26/30\n",
      "\u001b[1m47/47\u001b[0m \u001b[32m━━━━━━━━━━━━━━━━━━━━\u001b[0m\u001b[37m\u001b[0m \u001b[1m10s\u001b[0m 214ms/step - accuracy: 0.9531 - loss: 0.1543 - precision: 0.9592 - recall: 0.9490 - val_accuracy: 0.7739 - val_loss: 0.9832 - val_precision: 0.7778 - val_recall: 0.7739\n",
      "Epoch 27/30\n",
      "\u001b[1m47/47\u001b[0m \u001b[32m━━━━━━━━━━━━━━━━━━━━\u001b[0m\u001b[37m\u001b[0m \u001b[1m10s\u001b[0m 214ms/step - accuracy: 0.9612 - loss: 0.1223 - precision: 0.9632 - recall: 0.9582 - val_accuracy: 0.8090 - val_loss: 1.0331 - val_precision: 0.8163 - val_recall: 0.8040\n",
      "Epoch 28/30\n",
      "\u001b[1m47/47\u001b[0m \u001b[32m━━━━━━━━━━━━━━━━━━━━\u001b[0m\u001b[37m\u001b[0m \u001b[1m10s\u001b[0m 216ms/step - accuracy: 0.9635 - loss: 0.1153 - precision: 0.9666 - recall: 0.9581 - val_accuracy: 0.8141 - val_loss: 1.1333 - val_precision: 0.8182 - val_recall: 0.8141\n",
      "Epoch 29/30\n",
      "\u001b[1m47/47\u001b[0m \u001b[32m━━━━━━━━━━━━━━━━━━━━\u001b[0m\u001b[37m\u001b[0m \u001b[1m10s\u001b[0m 216ms/step - accuracy: 0.9733 - loss: 0.0818 - precision: 0.9744 - recall: 0.9726 - val_accuracy: 0.7889 - val_loss: 0.9858 - val_precision: 0.8000 - val_recall: 0.7839\n",
      "Epoch 30/30\n",
      "\u001b[1m47/47\u001b[0m \u001b[32m━━━━━━━━━━━━━━━━━━━━\u001b[0m\u001b[37m\u001b[0m \u001b[1m10s\u001b[0m 215ms/step - accuracy: 0.9631 - loss: 0.1020 - precision: 0.9678 - recall: 0.9631 - val_accuracy: 0.7839 - val_loss: 1.1677 - val_precision: 0.7828 - val_recall: 0.7789\n",
      "Predicting on validation set...\n",
      "\u001b[1m7/7\u001b[0m \u001b[32m━━━━━━━━━━━━━━━━━━━━\u001b[0m\u001b[37m\u001b[0m \u001b[1m1s\u001b[0m 53ms/step\n",
      "Sending metrics to clearML...\n",
      "done\n"
     ]
    }
   ],
   "source": [
    "# rotate augmentation\n",
    "task_name = 'r'\n",
    "sub_project_name = 'ROTATE'\n",
    "\n",
    "augmentation_metadata = {\n",
    "        'methods': {        \n",
    "            'rotate': {\n",
    "                'parameters': {\n",
    "                    'angle_limit': 20, # Maximum angle of rotation\n",
    "                    'p': 1.0  # Probability of applying the augmentation\n",
    "                },\n",
    "                'apply_to_percentage': 0.5  # 50% of the training images\n",
    "            }        \n",
    "        }\n",
    "    }\n",
    "\n",
    "for i in range(N):\n",
    "    RUN = i + 1\n",
    "    try:\n",
    "        print(f\"Starting RUN: {RUN}\")\n",
    "        main(RUN, augmentation_metadata, task_name, sub_project_name, epochs, train_size, w1, w2)\n",
    "    except Exception as e:\n",
    "        print(f\"Error in RUN: {RUN}\")\n",
    "        print(e)\n",
    "    finally:\n",
    "        clear_output(wait=True)  # Clear the output to avoid scrolling\n",
    "        gc.collect()  # Collect garbage to avoid memory leaks"
   ]
  },
  {
   "cell_type": "code",
   "execution_count": 9,
   "metadata": {},
   "outputs": [
    {
     "name": "stdout",
     "output_type": "stream",
     "text": [
      "Starting RUN: 5\n",
      "Seed:  1548178252\n"
     ]
    },
    {
     "name": "stderr",
     "output_type": "stream",
     "text": [
      "c:\\github\\Third-Year-Project\\Intruder-Aircraft-Detection\\main\\tl_clf.py:79: SettingWithCopyWarning:\n",
      "\n",
      "\n",
      "A value is trying to be set on a copy of a slice from a DataFrame.\n",
      "Try using .loc[row_indexer,col_indexer] = value instead\n",
      "\n",
      "See the caveats in the documentation: https://pandas.pydata.org/pandas-docs/stable/user_guide/indexing.html#returning-a-view-versus-a-copy\n",
      "\n",
      "c:\\github\\Third-Year-Project\\Intruder-Aircraft-Detection\\main\\tl_clf.py:80: SettingWithCopyWarning:\n",
      "\n",
      "\n",
      "A value is trying to be set on a copy of a slice from a DataFrame.\n",
      "Try using .loc[row_indexer,col_indexer] = value instead\n",
      "\n",
      "See the caveats in the documentation: https://pandas.pydata.org/pandas-docs/stable/user_guide/indexing.html#returning-a-view-versus-a-copy\n",
      "\n"
     ]
    },
    {
     "name": "stdout",
     "output_type": "stream",
     "text": [
      "Removing dataset if pre-existing\n",
      "Copying training files:\n"
     ]
    },
    {
     "name": "stderr",
     "output_type": "stream",
     "text": [
      "Copying files: 100%|██████████| 2000/2000 [00:01<00:00, 1165.89it/s]\n"
     ]
    },
    {
     "name": "stdout",
     "output_type": "stream",
     "text": [
      "Copying validation files:\n"
     ]
    },
    {
     "name": "stderr",
     "output_type": "stream",
     "text": [
      "Copying files: 100%|██████████| 400/400 [00:00<00:00, 781.07it/s] \n"
     ]
    },
    {
     "name": "stdout",
     "output_type": "stream",
     "text": [
      "Dataset 'weather_45_1000' created at C:\\github\\Third-Year-Project\\Intruder-Aircraft-Detection\\datasets\\Custom\\weather_45_1000\n",
      "Processing train labels in weather_45_1000:\n"
     ]
    },
    {
     "name": "stderr",
     "output_type": "stream",
     "text": [
      "Processing labels: 100%|██████████| 1000/1000 [00:03<00:00, 255.12it/s]\n"
     ]
    },
    {
     "name": "stdout",
     "output_type": "stream",
     "text": [
      "Processing valid labels in weather_45_1000:\n"
     ]
    },
    {
     "name": "stderr",
     "output_type": "stream",
     "text": [
      "Processing labels: 100%|██████████| 200/200 [00:00<00:00, 283.42it/s]\n"
     ]
    },
    {
     "name": "stdout",
     "output_type": "stream",
     "text": [
      "Label correction completed.\n"
     ]
    },
    {
     "name": "stderr",
     "output_type": "stream",
     "text": [
      "Removing existing directories/files: 100%|██████████| 3/3 [00:00<00:00, 6009.03it/s]\n",
      "Copying files: 100%|██████████| 1000/1000 [00:00<00:00, 1127.09it/s]\n",
      "Copying files: 100%|██████████| 1000/1000 [00:00<00:00, 1231.11it/s]\n",
      "Applying augmentations: 100%|██████████| 500/500 [00:05<00:00, 92.80it/s]\n"
     ]
    },
    {
     "name": "stdout",
     "output_type": "stream",
     "text": [
      "An error occurred: Expected x_max for bbox (0.38954849999999996, 0.45536699999999997, 1.1199314999999999, 0.9422889999999999, 1) to be in the range [0.0, 1.0], got 1.1199314999999999.\n",
      "An error occurred: Expected y_max for bbox (0.166634, 0.6343235, 0.724798, 1.0064325, 1) to be in the range [0.0, 1.0], got 1.0064325.\n"
     ]
    },
    {
     "name": "stderr",
     "output_type": "stream",
     "text": [
      "Processing images:   8%|▊         | 78/1000 [00:05<00:30, 30.66it/s]"
     ]
    },
    {
     "name": "stdout",
     "output_type": "stream",
     "text": [
      "An error occurred with C:/github/Third-Year-Project/Intruder-Aircraft-Detection/datasets/Custom/weather_45_1000\\images\\train\\28423.jpg: Expected y_max for bbox (0.0305415, 0.4883285, 0.9941045, 1.1307035, 1) to be in the range [0.0, 1.0], got 1.1307035.\n"
     ]
    },
    {
     "name": "stderr",
     "output_type": "stream",
     "text": [
      "Processing images:  26%|██▌       | 257/1000 [00:10<00:21, 34.84it/s]"
     ]
    },
    {
     "name": "stdout",
     "output_type": "stream",
     "text": [
      "An error occurred with C:/github/Third-Year-Project/Intruder-Aircraft-Detection/datasets/Custom/weather_45_1000\\images\\train\\29454.jpg: Expected y_max for bbox (0.166634, 0.6343235, 0.724798, 1.0064325, 1) to be in the range [0.0, 1.0], got 1.0064325.\n"
     ]
    },
    {
     "name": "stderr",
     "output_type": "stream",
     "text": [
      "Processing images:  27%|██▋       | 270/1000 [00:11<00:20, 35.36it/s]"
     ]
    },
    {
     "name": "stdout",
     "output_type": "stream",
     "text": [
      "An error occurred with C:/github/Third-Year-Project/Intruder-Aircraft-Detection/datasets/Custom/weather_45_1000\\images\\train\\29465.jpg: Expected x_max for bbox (0.38954849999999996, 0.45536699999999997, 1.1199314999999999, 0.9422889999999999, 1) to be in the range [0.0, 1.0], got 1.1199314999999999.\n"
     ]
    },
    {
     "name": "stderr",
     "output_type": "stream",
     "text": [
      "Processing images:  32%|███▏      | 323/1000 [00:12<00:19, 34.82it/s]"
     ]
    },
    {
     "name": "stdout",
     "output_type": "stream",
     "text": [
      "An error occurred with C:/github/Third-Year-Project/Intruder-Aircraft-Detection/datasets/Custom/weather_45_1000\\images\\train\\29815.jpg: Expected x_max for bbox (0.18880199999999997, 0.20361949999999995, 1.133998, 0.8337505, 1) to be in the range [0.0, 1.0], got 1.133998.\n"
     ]
    },
    {
     "name": "stderr",
     "output_type": "stream",
     "text": [
      "Processing images: 100%|██████████| 1000/1000 [00:32<00:00, 30.81it/s]\n",
      "Processing images:   8%|▊         | 124/1498 [00:08<00:45, 30.37it/s]"
     ]
    },
    {
     "name": "stdout",
     "output_type": "stream",
     "text": [
      "An error occurred with C:/github/Third-Year-Project/Intruder-Aircraft-Detection/datasets/Custom/weather_45_1000\\images\\train-aug\\28423.jpg: Expected y_max for bbox (0.0305415, 0.4883285, 0.9941045, 1.1307035, 1) to be in the range [0.0, 1.0], got 1.1307035.\n"
     ]
    },
    {
     "name": "stderr",
     "output_type": "stream",
     "text": [
      "Processing images:  25%|██▌       | 378/1498 [00:16<00:30, 37.26it/s]"
     ]
    },
    {
     "name": "stdout",
     "output_type": "stream",
     "text": [
      "An error occurred with C:/github/Third-Year-Project/Intruder-Aircraft-Detection/datasets/Custom/weather_45_1000\\images\\train-aug\\29454.jpg: Expected y_max for bbox (0.166634, 0.6343235, 0.724798, 1.0064325, 1) to be in the range [0.0, 1.0], got 1.0064325.\n",
      "An error occurred with C:/github/Third-Year-Project/Intruder-Aircraft-Detection/datasets/Custom/weather_45_1000\\images\\train-aug\\29465.jpg: Expected x_max for bbox (0.38954849999999996, 0.45536699999999997, 1.1199314999999999, 0.9422889999999999, 1) to be in the range [0.0, 1.0], got 1.1199314999999999.\n"
     ]
    },
    {
     "name": "stderr",
     "output_type": "stream",
     "text": [
      "Processing images:  32%|███▏      | 475/1498 [00:19<00:29, 34.94it/s]"
     ]
    },
    {
     "name": "stdout",
     "output_type": "stream",
     "text": [
      "An error occurred with C:/github/Third-Year-Project/Intruder-Aircraft-Detection/datasets/Custom/weather_45_1000\\images\\train-aug\\29815.jpg: Expected x_max for bbox (0.18880199999999997, 0.20361949999999995, 1.133998, 0.8337505, 1) to be in the range [0.0, 1.0], got 1.133998.\n"
     ]
    },
    {
     "name": "stderr",
     "output_type": "stream",
     "text": [
      "Processing images: 100%|██████████| 1498/1498 [00:49<00:00, 30.55it/s]\n",
      "Processing images:  75%|███████▌  | 150/200 [00:05<00:01, 35.39it/s]"
     ]
    },
    {
     "name": "stdout",
     "output_type": "stream",
     "text": [
      "An error occurred with C:/github/Third-Year-Project/Intruder-Aircraft-Detection/datasets/Custom/weather_45_1000\\images\\valid\\52916.jpg: In YOLO format all coordinates must be float and in range (0, 1]\n"
     ]
    },
    {
     "name": "stderr",
     "output_type": "stream",
     "text": [
      "Processing images:  82%|████████▏ | 163/200 [00:05<00:01, 36.01it/s]"
     ]
    },
    {
     "name": "stdout",
     "output_type": "stream",
     "text": [
      "An error occurred with C:/github/Third-Year-Project/Intruder-Aircraft-Detection/datasets/Custom/weather_45_1000\\images\\valid\\52925.jpg: Expected x_min for bbox (-0.17107, 0.23527800000000004, 0.669476, 0.795642, 2) to be in the range [0.0, 1.0], got -0.17107.\n"
     ]
    },
    {
     "name": "stderr",
     "output_type": "stream",
     "text": [
      "Processing images: 100%|██████████| 200/200 [00:06<00:00, 29.94it/s]\n",
      "Moving images in train: 100%|██████████| 996/996 [00:03<00:00, 264.23it/s]\n",
      "Moving images in train-aug: 100%|██████████| 1494/1494 [00:04<00:00, 304.55it/s]\n",
      "Moving images in valid: 100%|██████████| 198/198 [00:00<00:00, 263.94it/s]\n"
     ]
    },
    {
     "name": "stdout",
     "output_type": "stream",
     "text": [
      "Found 996 files belonging to 3 classes.\n",
      "Found 1494 files belonging to 3 classes.\n",
      "Found 198 files belonging to 3 classes.\n",
      "ClearML Task: created new task id=1f12d00f7f014af3ba9ba7399271af84\n",
      "ClearML results page: https://app.clear.ml/projects/7250e546d5324b5c8e520b84207c06f5/experiments/1f12d00f7f014af3ba9ba7399271af84/output/log\n",
      "Training model...\n",
      "Epoch 1/30\n",
      "\u001b[1m32/32\u001b[0m \u001b[32m━━━━━━━━━━━━━━━━━━━━\u001b[0m\u001b[37m\u001b[0m \u001b[1m11s\u001b[0m 284ms/step - accuracy: 0.3551 - loss: 1.8641 - precision: 0.3517 - recall: 0.1434 - val_accuracy: 0.3384 - val_loss: 1.0986 - val_precision: 0.0000e+00 - val_recall: 0.0000e+00\n",
      "Epoch 2/30\n",
      "\u001b[1m32/32\u001b[0m \u001b[32m━━━━━━━━━━━━━━━━━━━━\u001b[0m\u001b[37m\u001b[0m \u001b[1m7s\u001b[0m 220ms/step - accuracy: 0.3252 - loss: 1.0988 - precision: 0.0000e+00 - recall: 0.0000e+00 - val_accuracy: 0.3384 - val_loss: 1.0986 - val_precision: 0.0000e+00 - val_recall: 0.0000e+00\n",
      "Epoch 3/30\n",
      "\u001b[1m32/32\u001b[0m \u001b[32m━━━━━━━━━━━━━━━━━━━━\u001b[0m\u001b[37m\u001b[0m \u001b[1m7s\u001b[0m 213ms/step - accuracy: 0.3433 - loss: 1.0993 - precision: 0.0000e+00 - recall: 0.0000e+00 - val_accuracy: 0.3384 - val_loss: 1.0985 - val_precision: 0.0000e+00 - val_recall: 0.0000e+00\n",
      "Epoch 4/30\n",
      "\u001b[1m32/32\u001b[0m \u001b[32m━━━━━━━━━━━━━━━━━━━━\u001b[0m\u001b[37m\u001b[0m \u001b[1m7s\u001b[0m 220ms/step - accuracy: 0.3057 - loss: 1.0989 - precision: 0.0000e+00 - recall: 0.0000e+00 - val_accuracy: 0.3384 - val_loss: 1.0985 - val_precision: 0.0000e+00 - val_recall: 0.0000e+00\n",
      "Epoch 5/30\n",
      "\u001b[1m32/32\u001b[0m \u001b[32m━━━━━━━━━━━━━━━━━━━━\u001b[0m\u001b[37m\u001b[0m \u001b[1m7s\u001b[0m 218ms/step - accuracy: 0.3149 - loss: 1.0991 - precision: 0.0000e+00 - recall: 0.0000e+00 - val_accuracy: 0.3384 - val_loss: 1.0984 - val_precision: 0.0000e+00 - val_recall: 0.0000e+00\n",
      "Epoch 6/30\n",
      "\u001b[1m32/32\u001b[0m \u001b[32m━━━━━━━━━━━━━━━━━━━━\u001b[0m\u001b[37m\u001b[0m \u001b[1m7s\u001b[0m 214ms/step - accuracy: 0.3368 - loss: 1.0983 - precision: 0.0000e+00 - recall: 0.0000e+00 - val_accuracy: 0.3384 - val_loss: 1.0983 - val_precision: 0.0000e+00 - val_recall: 0.0000e+00\n",
      "Epoch 7/30\n",
      "\u001b[1m32/32\u001b[0m \u001b[32m━━━━━━━━━━━━━━━━━━━━\u001b[0m\u001b[37m\u001b[0m \u001b[1m10s\u001b[0m 291ms/step - accuracy: 0.3665 - loss: 1.1024 - precision: 0.0426 - recall: 0.0014 - val_accuracy: 0.5657 - val_loss: 1.0897 - val_precision: 0.0000e+00 - val_recall: 0.0000e+00\n",
      "Epoch 8/30\n",
      "\u001b[1m32/32\u001b[0m \u001b[32m━━━━━━━━━━━━━━━━━━━━\u001b[0m\u001b[37m\u001b[0m \u001b[1m7s\u001b[0m 220ms/step - accuracy: 0.4616 - loss: 1.0869 - precision: 0.6594 - recall: 0.0025 - val_accuracy: 0.4798 - val_loss: 1.0552 - val_precision: 0.5000 - val_recall: 0.0202\n",
      "Epoch 9/30\n",
      "\u001b[1m32/32\u001b[0m \u001b[32m━━━━━━━━━━━━━━━━━━━━\u001b[0m\u001b[37m\u001b[0m \u001b[1m7s\u001b[0m 217ms/step - accuracy: 0.5043 - loss: 1.0508 - precision: 0.5639 - recall: 0.0568 - val_accuracy: 0.5354 - val_loss: 0.9806 - val_precision: 0.6753 - val_recall: 0.2626\n",
      "Epoch 10/30\n",
      "\u001b[1m32/32\u001b[0m \u001b[32m━━━━━━━━━━━━━━━━━━━━\u001b[0m\u001b[37m\u001b[0m \u001b[1m7s\u001b[0m 214ms/step - accuracy: 0.5035 - loss: 1.0174 - precision: 0.7104 - recall: 0.2191 - val_accuracy: 0.3889 - val_loss: 1.0884 - val_precision: 1.0000 - val_recall: 0.0051\n",
      "Epoch 11/30\n",
      "\u001b[1m32/32\u001b[0m \u001b[32m━━━━━━━━━━━━━━━━━━━━\u001b[0m\u001b[37m\u001b[0m \u001b[1m7s\u001b[0m 215ms/step - accuracy: 0.4232 - loss: 1.0650 - precision: 0.7948 - recall: 0.0350 - val_accuracy: 0.4495 - val_loss: 1.0682 - val_precision: 0.5070 - val_recall: 0.3636\n",
      "Epoch 12/30\n",
      "\u001b[1m32/32\u001b[0m \u001b[32m━━━━━━━━━━━━━━━━━━━━\u001b[0m\u001b[37m\u001b[0m \u001b[1m8s\u001b[0m 231ms/step - accuracy: 0.5096 - loss: 1.0185 - precision: 0.6881 - recall: 0.2319 - val_accuracy: 0.6263 - val_loss: 1.0099 - val_precision: 0.6444 - val_recall: 0.2929\n",
      "Epoch 13/30\n",
      "\u001b[1m32/32\u001b[0m \u001b[32m━━━━━━━━━━━━━━━━━━━━\u001b[0m\u001b[37m\u001b[0m \u001b[1m9s\u001b[0m 277ms/step - accuracy: 0.4327 - loss: 1.1386 - precision: 0.4791 - recall: 0.2017 - val_accuracy: 0.4343 - val_loss: 1.0420 - val_precision: 0.5526 - val_recall: 0.2121\n",
      "Epoch 14/30\n",
      "\u001b[1m32/32\u001b[0m \u001b[32m━━━━━━━━━━━━━━━━━━━━\u001b[0m\u001b[37m\u001b[0m \u001b[1m7s\u001b[0m 219ms/step - accuracy: 0.5699 - loss: 0.9011 - precision: 0.7403 - recall: 0.2995 - val_accuracy: 0.6616 - val_loss: 0.9733 - val_precision: 0.7353 - val_recall: 0.5051\n",
      "Epoch 15/30\n",
      "\u001b[1m32/32\u001b[0m \u001b[32m━━━━━━━━━━━━━━━━━━━━\u001b[0m\u001b[37m\u001b[0m \u001b[1m7s\u001b[0m 215ms/step - accuracy: 0.6734 - loss: 0.7572 - precision: 0.7462 - recall: 0.5589 - val_accuracy: 0.5758 - val_loss: 0.9576 - val_precision: 0.6713 - val_recall: 0.4848\n",
      "Epoch 16/30\n",
      "\u001b[1m32/32\u001b[0m \u001b[32m━━━━━━━━━━━━━━━━━━━━\u001b[0m\u001b[37m\u001b[0m \u001b[1m7s\u001b[0m 216ms/step - accuracy: 0.6735 - loss: 0.7374 - precision: 0.7863 - recall: 0.5703 - val_accuracy: 0.7020 - val_loss: 0.9428 - val_precision: 0.7341 - val_recall: 0.6414\n",
      "Epoch 17/30\n",
      "\u001b[1m32/32\u001b[0m \u001b[32m━━━━━━━━━━━━━━━━━━━━\u001b[0m\u001b[37m\u001b[0m \u001b[1m7s\u001b[0m 215ms/step - accuracy: 0.7420 - loss: 0.6212 - precision: 0.8071 - recall: 0.6648 - val_accuracy: 0.7323 - val_loss: 0.8942 - val_precision: 0.7611 - val_recall: 0.6919\n",
      "Epoch 18/30\n",
      "\u001b[1m32/32\u001b[0m \u001b[32m━━━━━━━━━━━━━━━━━━━━\u001b[0m\u001b[37m\u001b[0m \u001b[1m7s\u001b[0m 217ms/step - accuracy: 0.7796 - loss: 0.5044 - precision: 0.8255 - recall: 0.7541 - val_accuracy: 0.7475 - val_loss: 0.8934 - val_precision: 0.7805 - val_recall: 0.6465\n",
      "Epoch 19/30\n",
      "\u001b[1m32/32\u001b[0m \u001b[32m━━━━━━━━━━━━━━━━━━━━\u001b[0m\u001b[37m\u001b[0m \u001b[1m7s\u001b[0m 214ms/step - accuracy: 0.7572 - loss: 0.5475 - precision: 0.8306 - recall: 0.6690 - val_accuracy: 0.7071 - val_loss: 0.9071 - val_precision: 0.7917 - val_recall: 0.5758\n",
      "Epoch 20/30\n",
      "\u001b[1m32/32\u001b[0m \u001b[32m━━━━━━━━━━━━━━━━━━━━\u001b[0m\u001b[37m\u001b[0m \u001b[1m7s\u001b[0m 217ms/step - accuracy: 0.8015 - loss: 0.4976 - precision: 0.8617 - recall: 0.7294 - val_accuracy: 0.7121 - val_loss: 1.0299 - val_precision: 0.7337 - val_recall: 0.6818\n",
      "Epoch 21/30\n",
      "\u001b[1m32/32\u001b[0m \u001b[32m━━━━━━━━━━━━━━━━━━━━\u001b[0m\u001b[37m\u001b[0m \u001b[1m7s\u001b[0m 217ms/step - accuracy: 0.8105 - loss: 0.4761 - precision: 0.8285 - recall: 0.7800 - val_accuracy: 0.7475 - val_loss: 0.9605 - val_precision: 0.7581 - val_recall: 0.7121\n",
      "Epoch 22/30\n",
      "\u001b[1m32/32\u001b[0m \u001b[32m━━━━━━━━━━━━━━━━━━━━\u001b[0m\u001b[37m\u001b[0m \u001b[1m7s\u001b[0m 216ms/step - accuracy: 0.8589 - loss: 0.3519 - precision: 0.8863 - recall: 0.8228 - val_accuracy: 0.7121 - val_loss: 1.2406 - val_precision: 0.7277 - val_recall: 0.7020\n",
      "Epoch 23/30\n",
      "\u001b[1m32/32\u001b[0m \u001b[32m━━━━━━━━━━━━━━━━━━━━\u001b[0m\u001b[37m\u001b[0m \u001b[1m7s\u001b[0m 216ms/step - accuracy: 0.8681 - loss: 0.3550 - precision: 0.8786 - recall: 0.8456 - val_accuracy: 0.7273 - val_loss: 1.1640 - val_precision: 0.7473 - val_recall: 0.7020\n",
      "Epoch 24/30\n",
      "\u001b[1m32/32\u001b[0m \u001b[32m━━━━━━━━━━━━━━━━━━━━\u001b[0m\u001b[37m\u001b[0m \u001b[1m7s\u001b[0m 215ms/step - accuracy: 0.8813 - loss: 0.2970 - precision: 0.8946 - recall: 0.8685 - val_accuracy: 0.7879 - val_loss: 1.1982 - val_precision: 0.7857 - val_recall: 0.7778\n",
      "Epoch 25/30\n",
      "\u001b[1m32/32\u001b[0m \u001b[32m━━━━━━━━━━━━━━━━━━━━\u001b[0m\u001b[37m\u001b[0m \u001b[1m7s\u001b[0m 216ms/step - accuracy: 0.8722 - loss: 0.3023 - precision: 0.8841 - recall: 0.8618 - val_accuracy: 0.7576 - val_loss: 1.2280 - val_precision: 0.7576 - val_recall: 0.7576\n",
      "Epoch 26/30\n",
      "\u001b[1m32/32\u001b[0m \u001b[32m━━━━━━━━━━━━━━━━━━━━\u001b[0m\u001b[37m\u001b[0m \u001b[1m7s\u001b[0m 215ms/step - accuracy: 0.8838 - loss: 0.3024 - precision: 0.8910 - recall: 0.8729 - val_accuracy: 0.7172 - val_loss: 1.2364 - val_precision: 0.7165 - val_recall: 0.7020\n",
      "Epoch 27/30\n",
      "\u001b[1m32/32\u001b[0m \u001b[32m━━━━━━━━━━━━━━━━━━━━\u001b[0m\u001b[37m\u001b[0m \u001b[1m7s\u001b[0m 215ms/step - accuracy: 0.8942 - loss: 0.2832 - precision: 0.9096 - recall: 0.8695 - val_accuracy: 0.7273 - val_loss: 1.2166 - val_precision: 0.7306 - val_recall: 0.7121\n",
      "Epoch 28/30\n",
      "\u001b[1m32/32\u001b[0m \u001b[32m━━━━━━━━━━━━━━━━━━━━\u001b[0m\u001b[37m\u001b[0m \u001b[1m7s\u001b[0m 216ms/step - accuracy: 0.8858 - loss: 0.2894 - precision: 0.9032 - recall: 0.8667 - val_accuracy: 0.7576 - val_loss: 1.1818 - val_precision: 0.7692 - val_recall: 0.7576\n",
      "Epoch 29/30\n",
      "\u001b[1m32/32\u001b[0m \u001b[32m━━━━━━━━━━━━━━━━━━━━\u001b[0m\u001b[37m\u001b[0m \u001b[1m7s\u001b[0m 217ms/step - accuracy: 0.8858 - loss: 0.2979 - precision: 0.8940 - recall: 0.8758 - val_accuracy: 0.7727 - val_loss: 1.1925 - val_precision: 0.7796 - val_recall: 0.7323\n",
      "Epoch 30/30\n",
      "\u001b[1m32/32\u001b[0m \u001b[32m━━━━━━━━━━━━━━━━━━━━\u001b[0m\u001b[37m\u001b[0m \u001b[1m7s\u001b[0m 218ms/step - accuracy: 0.8690 - loss: 0.3134 - precision: 0.8934 - recall: 0.8558 - val_accuracy: 0.7071 - val_loss: 1.0118 - val_precision: 0.7486 - val_recall: 0.6616\n",
      "Predicting on validation set...\n",
      "\u001b[1m7/7\u001b[0m \u001b[32m━━━━━━━━━━━━━━━━━━━━\u001b[0m\u001b[37m\u001b[0m \u001b[1m1s\u001b[0m 53ms/step\n",
      "Sending metrics to clearML...\n",
      "done\n",
      "ClearML Task: created new task id=804a49b4b9e6441393f57e83d38908f0\n",
      "ClearML results page: https://app.clear.ml/projects/7250e546d5324b5c8e520b84207c06f5/experiments/804a49b4b9e6441393f57e83d38908f0/output/log\n",
      "Training model...\n",
      "Epoch 1/30\n",
      "\u001b[1m47/47\u001b[0m \u001b[32m━━━━━━━━━━━━━━━━━━━━\u001b[0m\u001b[37m\u001b[0m \u001b[1m15s\u001b[0m 270ms/step - accuracy: 0.3331 - loss: 1.7327 - precision: 0.3343 - recall: 0.1282 - val_accuracy: 0.3384 - val_loss: 1.0988 - val_precision: 0.0000e+00 - val_recall: 0.0000e+00\n",
      "Epoch 2/30\n",
      "\u001b[1m47/47\u001b[0m \u001b[32m━━━━━━━━━━━━━━━━━━━━\u001b[0m\u001b[37m\u001b[0m \u001b[1m11s\u001b[0m 218ms/step - accuracy: 0.3549 - loss: 1.0993 - precision: 0.0000e+00 - recall: 0.0000e+00 - val_accuracy: 0.4040 - val_loss: 1.1052 - val_precision: 0.0000e+00 - val_recall: 0.0000e+00\n",
      "Epoch 3/30\n",
      "\u001b[1m47/47\u001b[0m \u001b[32m━━━━━━━━━━━━━━━━━━━━\u001b[0m\u001b[37m\u001b[0m \u001b[1m10s\u001b[0m 217ms/step - accuracy: 0.3530 - loss: 1.1041 - precision: 0.0000e+00 - recall: 0.0000e+00 - val_accuracy: 0.3434 - val_loss: 1.0986 - val_precision: 0.0000e+00 - val_recall: 0.0000e+00\n",
      "Epoch 4/30\n",
      "\u001b[1m47/47\u001b[0m \u001b[32m━━━━━━━━━━━━━━━━━━━━\u001b[0m\u001b[37m\u001b[0m \u001b[1m10s\u001b[0m 213ms/step - accuracy: 0.3738 - loss: 1.0968 - precision: 0.0781 - recall: 0.0011 - val_accuracy: 0.5758 - val_loss: 1.0406 - val_precision: 0.6250 - val_recall: 0.0253\n",
      "Epoch 5/30\n",
      "\u001b[1m47/47\u001b[0m \u001b[32m━━━━━━━━━━━━━━━━━━━━\u001b[0m\u001b[37m\u001b[0m \u001b[1m13s\u001b[0m 269ms/step - accuracy: 0.5344 - loss: 1.0110 - precision: 0.7959 - recall: 0.1165 - val_accuracy: 0.5354 - val_loss: 1.0211 - val_precision: 0.7222 - val_recall: 0.0657\n",
      "Epoch 6/30\n",
      "\u001b[1m47/47\u001b[0m \u001b[32m━━━━━━━━━━━━━━━━━━━━\u001b[0m\u001b[37m\u001b[0m \u001b[1m10s\u001b[0m 216ms/step - accuracy: 0.6673 - loss: 0.8422 - precision: 0.7955 - recall: 0.3545 - val_accuracy: 0.6162 - val_loss: 0.9198 - val_precision: 0.6861 - val_recall: 0.4747\n",
      "Epoch 7/30\n",
      "\u001b[1m47/47\u001b[0m \u001b[32m━━━━━━━━━━━━━━━━━━━━\u001b[0m\u001b[37m\u001b[0m \u001b[1m10s\u001b[0m 217ms/step - accuracy: 0.7279 - loss: 0.6775 - precision: 0.7777 - recall: 0.6297 - val_accuracy: 0.6717 - val_loss: 0.8910 - val_precision: 0.7389 - val_recall: 0.5859\n",
      "Epoch 8/30\n",
      "\u001b[1m47/47\u001b[0m \u001b[32m━━━━━━━━━━━━━━━━━━━━\u001b[0m\u001b[37m\u001b[0m \u001b[1m10s\u001b[0m 214ms/step - accuracy: 0.7862 - loss: 0.6048 - precision: 0.8296 - recall: 0.6659 - val_accuracy: 0.7071 - val_loss: 0.8937 - val_precision: 0.7586 - val_recall: 0.6667\n",
      "Epoch 9/30\n",
      "\u001b[1m47/47\u001b[0m \u001b[32m━━━━━━━━━━━━━━━━━━━━\u001b[0m\u001b[37m\u001b[0m \u001b[1m10s\u001b[0m 217ms/step - accuracy: 0.8203 - loss: 0.4902 - precision: 0.8558 - recall: 0.7686 - val_accuracy: 0.7273 - val_loss: 1.0566 - val_precision: 0.7527 - val_recall: 0.7071\n",
      "Epoch 10/30\n",
      "\u001b[1m47/47\u001b[0m \u001b[32m━━━━━━━━━━━━━━━━━━━━\u001b[0m\u001b[37m\u001b[0m \u001b[1m10s\u001b[0m 215ms/step - accuracy: 0.8579 - loss: 0.3830 - precision: 0.8799 - recall: 0.8378 - val_accuracy: 0.7273 - val_loss: 1.0112 - val_precision: 0.7487 - val_recall: 0.7071\n",
      "Epoch 11/30\n",
      "\u001b[1m47/47\u001b[0m \u001b[32m━━━━━━━━━━━━━━━━━━━━\u001b[0m\u001b[37m\u001b[0m \u001b[1m10s\u001b[0m 215ms/step - accuracy: 0.8583 - loss: 0.3721 - precision: 0.8787 - recall: 0.8295 - val_accuracy: 0.7576 - val_loss: 1.0723 - val_precision: 0.7606 - val_recall: 0.7222\n",
      "Epoch 12/30\n",
      "\u001b[1m47/47\u001b[0m \u001b[32m━━━━━━━━━━━━━━━━━━━━\u001b[0m\u001b[37m\u001b[0m \u001b[1m10s\u001b[0m 217ms/step - accuracy: 0.8583 - loss: 0.3586 - precision: 0.8784 - recall: 0.8391 - val_accuracy: 0.6970 - val_loss: 1.1328 - val_precision: 0.7486 - val_recall: 0.6919\n",
      "Epoch 13/30\n",
      "\u001b[1m47/47\u001b[0m \u001b[32m━━━━━━━━━━━━━━━━━━━━\u001b[0m\u001b[37m\u001b[0m \u001b[1m10s\u001b[0m 216ms/step - accuracy: 0.8444 - loss: 0.3879 - precision: 0.8594 - recall: 0.8146 - val_accuracy: 0.7374 - val_loss: 1.1773 - val_precision: 0.7553 - val_recall: 0.7172\n",
      "Epoch 14/30\n",
      "\u001b[1m47/47\u001b[0m \u001b[32m━━━━━━━━━━━━━━━━━━━━\u001b[0m\u001b[37m\u001b[0m \u001b[1m10s\u001b[0m 214ms/step - accuracy: 0.8809 - loss: 0.3245 - precision: 0.8955 - recall: 0.8666 - val_accuracy: 0.7576 - val_loss: 1.2455 - val_precision: 0.7701 - val_recall: 0.7273\n",
      "Epoch 15/30\n",
      "\u001b[1m47/47\u001b[0m \u001b[32m━━━━━━━━━━━━━━━━━━━━\u001b[0m\u001b[37m\u001b[0m \u001b[1m10s\u001b[0m 217ms/step - accuracy: 0.8949 - loss: 0.2714 - precision: 0.9058 - recall: 0.8881 - val_accuracy: 0.7273 - val_loss: 1.4808 - val_precision: 0.7435 - val_recall: 0.7172\n",
      "Epoch 16/30\n",
      "\u001b[1m47/47\u001b[0m \u001b[32m━━━━━━━━━━━━━━━━━━━━\u001b[0m\u001b[37m\u001b[0m \u001b[1m10s\u001b[0m 214ms/step - accuracy: 0.8962 - loss: 0.2545 - precision: 0.9033 - recall: 0.8887 - val_accuracy: 0.7323 - val_loss: 1.1513 - val_precision: 0.7527 - val_recall: 0.6919\n",
      "Epoch 17/30\n",
      "\u001b[1m47/47\u001b[0m \u001b[32m━━━━━━━━━━━━━━━━━━━━\u001b[0m\u001b[37m\u001b[0m \u001b[1m10s\u001b[0m 214ms/step - accuracy: 0.8646 - loss: 0.3356 - precision: 0.8794 - recall: 0.8506 - val_accuracy: 0.7172 - val_loss: 1.5522 - val_precision: 0.7292 - val_recall: 0.7071\n",
      "Epoch 18/30\n",
      "\u001b[1m47/47\u001b[0m \u001b[32m━━━━━━━━━━━━━━━━━━━━\u001b[0m\u001b[37m\u001b[0m \u001b[1m11s\u001b[0m 218ms/step - accuracy: 0.9099 - loss: 0.2285 - precision: 0.9207 - recall: 0.9030 - val_accuracy: 0.7727 - val_loss: 1.6954 - val_precision: 0.7732 - val_recall: 0.7576\n",
      "Epoch 19/30\n",
      "\u001b[1m47/47\u001b[0m \u001b[32m━━━━━━━━━━━━━━━━━━━━\u001b[0m\u001b[37m\u001b[0m \u001b[1m10s\u001b[0m 216ms/step - accuracy: 0.9200 - loss: 0.2065 - precision: 0.9267 - recall: 0.9068 - val_accuracy: 0.7525 - val_loss: 1.6174 - val_precision: 0.7617 - val_recall: 0.7424\n",
      "Epoch 20/30\n",
      "\u001b[1m47/47\u001b[0m \u001b[32m━━━━━━━━━━━━━━━━━━━━\u001b[0m\u001b[37m\u001b[0m \u001b[1m10s\u001b[0m 213ms/step - accuracy: 0.9227 - loss: 0.1819 - precision: 0.9307 - recall: 0.9172 - val_accuracy: 0.7576 - val_loss: 1.5879 - val_precision: 0.7513 - val_recall: 0.7323\n",
      "Epoch 21/30\n",
      "\u001b[1m47/47\u001b[0m \u001b[32m━━━━━━━━━━━━━━━━━━━━\u001b[0m\u001b[37m\u001b[0m \u001b[1m10s\u001b[0m 215ms/step - accuracy: 0.9372 - loss: 0.1673 - precision: 0.9425 - recall: 0.9331 - val_accuracy: 0.7677 - val_loss: 1.4667 - val_precision: 0.7732 - val_recall: 0.7576\n",
      "Epoch 22/30\n",
      "\u001b[1m47/47\u001b[0m \u001b[32m━━━━━━━━━━━━━━━━━━━━\u001b[0m\u001b[37m\u001b[0m \u001b[1m11s\u001b[0m 217ms/step - accuracy: 0.9344 - loss: 0.1666 - precision: 0.9407 - recall: 0.9269 - val_accuracy: 0.7576 - val_loss: 1.7926 - val_precision: 0.7668 - val_recall: 0.7475\n",
      "Epoch 23/30\n",
      "\u001b[1m47/47\u001b[0m \u001b[32m━━━━━━━━━━━━━━━━━━━━\u001b[0m\u001b[37m\u001b[0m \u001b[1m10s\u001b[0m 216ms/step - accuracy: 0.9473 - loss: 0.1547 - precision: 0.9502 - recall: 0.9423 - val_accuracy: 0.7677 - val_loss: 2.0211 - val_precision: 0.7665 - val_recall: 0.7626\n",
      "Epoch 24/30\n",
      "\u001b[1m47/47\u001b[0m \u001b[32m━━━━━━━━━━━━━━━━━━━━\u001b[0m\u001b[37m\u001b[0m \u001b[1m10s\u001b[0m 217ms/step - accuracy: 0.9458 - loss: 0.1507 - precision: 0.9509 - recall: 0.9403 - val_accuracy: 0.7525 - val_loss: 2.0351 - val_precision: 0.7668 - val_recall: 0.7475\n",
      "Epoch 25/30\n",
      "\u001b[1m47/47\u001b[0m \u001b[32m━━━━━━━━━━━━━━━━━━━━\u001b[0m\u001b[37m\u001b[0m \u001b[1m10s\u001b[0m 215ms/step - accuracy: 0.9542 - loss: 0.1275 - precision: 0.9565 - recall: 0.9507 - val_accuracy: 0.7626 - val_loss: 1.9170 - val_precision: 0.7629 - val_recall: 0.7475\n",
      "Epoch 26/30\n",
      "\u001b[1m47/47\u001b[0m \u001b[32m━━━━━━━━━━━━━━━━━━━━\u001b[0m\u001b[37m\u001b[0m \u001b[1m10s\u001b[0m 217ms/step - accuracy: 0.9631 - loss: 0.1129 - precision: 0.9665 - recall: 0.9612 - val_accuracy: 0.7525 - val_loss: 2.1479 - val_precision: 0.7551 - val_recall: 0.7475\n",
      "Epoch 27/30\n",
      "\u001b[1m47/47\u001b[0m \u001b[32m━━━━━━━━━━━━━━━━━━━━\u001b[0m\u001b[37m\u001b[0m \u001b[1m10s\u001b[0m 216ms/step - accuracy: 0.9475 - loss: 0.1586 - precision: 0.9513 - recall: 0.9456 - val_accuracy: 0.7475 - val_loss: 2.3542 - val_precision: 0.7551 - val_recall: 0.7475\n",
      "Epoch 28/30\n",
      "\u001b[1m47/47\u001b[0m \u001b[32m━━━━━━━━━━━━━━━━━━━━\u001b[0m\u001b[37m\u001b[0m \u001b[1m10s\u001b[0m 217ms/step - accuracy: 0.9627 - loss: 0.1191 - precision: 0.9717 - recall: 0.9589 - val_accuracy: 0.7475 - val_loss: 2.5456 - val_precision: 0.7590 - val_recall: 0.7475\n",
      "Epoch 29/30\n",
      "\u001b[1m47/47\u001b[0m \u001b[32m━━━━━━━━━━━━━━━━━━━━\u001b[0m\u001b[37m\u001b[0m \u001b[1m10s\u001b[0m 216ms/step - accuracy: 0.9561 - loss: 0.1192 - precision: 0.9595 - recall: 0.9559 - val_accuracy: 0.7576 - val_loss: 2.3474 - val_precision: 0.7563 - val_recall: 0.7525\n",
      "Epoch 30/30\n",
      "\u001b[1m47/47\u001b[0m \u001b[32m━━━━━━━━━━━━━━━━━━━━\u001b[0m\u001b[37m\u001b[0m \u001b[1m11s\u001b[0m 218ms/step - accuracy: 0.9448 - loss: 0.1322 - precision: 0.9551 - recall: 0.9367 - val_accuracy: 0.6212 - val_loss: 0.9963 - val_precision: 0.7111 - val_recall: 0.4848\n",
      "Predicting on validation set...\n",
      "\u001b[1m7/7\u001b[0m \u001b[32m━━━━━━━━━━━━━━━━━━━━\u001b[0m\u001b[37m\u001b[0m \u001b[1m1s\u001b[0m 55ms/step\n",
      "Sending metrics to clearML...\n",
      "done\n"
     ]
    }
   ],
   "source": [
    "# zoom \n",
    "task_name = 'z'\n",
    "sub_project_name = 'ZOOM'\n",
    "\n",
    "augmentation_metadata = {\n",
    "        'methods': {        \n",
    "            'zoom': {\n",
    "                'parameters': {\n",
    "                    'zoom_factor': 1.2, # Maximum angle of rotation\n",
    "                },\n",
    "                'apply_to_percentage': 0.5  # 50% of the training images\n",
    "            }        \n",
    "        }\n",
    "    }\n",
    "\n",
    "for i in range(N):\n",
    "    RUN = i + 1\n",
    "    try:\n",
    "        print(f\"Starting RUN: {RUN}\")\n",
    "        main(RUN, augmentation_metadata, task_name, sub_project_name, epochs, train_size, w1, w2)\n",
    "    except Exception as e:\n",
    "        print(f\"Error in RUN: {RUN}\")\n",
    "        print(e)\n",
    "    finally:\n",
    "        clear_output(wait=True)  # Clear the output to avoid scrolling\n",
    "        gc.collect()  # Collect garbage to avoid memory leaks"
   ]
  },
  {
   "cell_type": "code",
   "execution_count": 10,
   "metadata": {},
   "outputs": [
    {
     "name": "stdout",
     "output_type": "stream",
     "text": [
      "Starting RUN: 5\n",
      "Seed:  1551754082\n"
     ]
    },
    {
     "name": "stderr",
     "output_type": "stream",
     "text": [
      "c:\\github\\Third-Year-Project\\Intruder-Aircraft-Detection\\main\\tl_clf.py:79: SettingWithCopyWarning:\n",
      "\n",
      "\n",
      "A value is trying to be set on a copy of a slice from a DataFrame.\n",
      "Try using .loc[row_indexer,col_indexer] = value instead\n",
      "\n",
      "See the caveats in the documentation: https://pandas.pydata.org/pandas-docs/stable/user_guide/indexing.html#returning-a-view-versus-a-copy\n",
      "\n",
      "c:\\github\\Third-Year-Project\\Intruder-Aircraft-Detection\\main\\tl_clf.py:80: SettingWithCopyWarning:\n",
      "\n",
      "\n",
      "A value is trying to be set on a copy of a slice from a DataFrame.\n",
      "Try using .loc[row_indexer,col_indexer] = value instead\n",
      "\n",
      "See the caveats in the documentation: https://pandas.pydata.org/pandas-docs/stable/user_guide/indexing.html#returning-a-view-versus-a-copy\n",
      "\n"
     ]
    },
    {
     "name": "stdout",
     "output_type": "stream",
     "text": [
      "Removing dataset if pre-existing\n",
      "Copying training files:\n"
     ]
    },
    {
     "name": "stderr",
     "output_type": "stream",
     "text": [
      "Copying files: 100%|██████████| 2000/2000 [00:01<00:00, 1225.56it/s]\n"
     ]
    },
    {
     "name": "stdout",
     "output_type": "stream",
     "text": [
      "Copying validation files:\n"
     ]
    },
    {
     "name": "stderr",
     "output_type": "stream",
     "text": [
      "Copying files: 100%|██████████| 400/400 [00:00<00:00, 642.39it/s]\n"
     ]
    },
    {
     "name": "stdout",
     "output_type": "stream",
     "text": [
      "Dataset 'weather_45_1000' created at C:\\github\\Third-Year-Project\\Intruder-Aircraft-Detection\\datasets\\Custom\\weather_45_1000\n",
      "Processing train labels in weather_45_1000:\n"
     ]
    },
    {
     "name": "stderr",
     "output_type": "stream",
     "text": [
      "Processing labels: 100%|██████████| 1000/1000 [00:03<00:00, 259.49it/s]\n"
     ]
    },
    {
     "name": "stdout",
     "output_type": "stream",
     "text": [
      "Processing valid labels in weather_45_1000:\n"
     ]
    },
    {
     "name": "stderr",
     "output_type": "stream",
     "text": [
      "Processing labels: 100%|██████████| 200/200 [00:00<00:00, 255.36it/s]\n"
     ]
    },
    {
     "name": "stdout",
     "output_type": "stream",
     "text": [
      "Label correction completed.\n"
     ]
    },
    {
     "name": "stderr",
     "output_type": "stream",
     "text": [
      "Removing existing directories/files: 100%|██████████| 3/3 [00:00<00:00, 5952.18it/s]\n",
      "Copying files: 100%|██████████| 1000/1000 [00:00<00:00, 1120.10it/s]\n",
      "Copying files: 100%|██████████| 1000/1000 [00:00<00:00, 1231.96it/s]\n",
      "Applying augmentations: 100%|██████████| 500/500 [00:06<00:00, 72.43it/s]\n",
      "Processing images:   7%|▋         | 66/1000 [00:04<00:41, 22.62it/s]"
     ]
    },
    {
     "name": "stdout",
     "output_type": "stream",
     "text": [
      "An error occurred with C:/github/Third-Year-Project/Intruder-Aircraft-Detection/datasets/Custom/weather_45_1000\\images\\train\\28284.jpg: Expected x_max for bbox (0.189772, 0.575604, 1.100998, 1.1830880000000001, 1) to be in the range [0.0, 1.0], got 1.100998.\n"
     ]
    },
    {
     "name": "stderr",
     "output_type": "stream",
     "text": [
      "Processing images:  13%|█▎        | 129/1000 [00:06<00:27, 31.50it/s]"
     ]
    },
    {
     "name": "stdout",
     "output_type": "stream",
     "text": [
      "An error occurred with C:/github/Third-Year-Project/Intruder-Aircraft-Detection/datasets/Custom/weather_45_1000\\images\\train\\28633.jpg: Expected x_min for bbox (-0.02121799999999996, 0.4453045, 0.937496, 1.0844475, 1) to be in the range [0.0, 1.0], got -0.02121799999999996.\n"
     ]
    },
    {
     "name": "stderr",
     "output_type": "stream",
     "text": [
      "Processing images:  23%|██▎       | 226/1000 [00:10<00:22, 34.78it/s]"
     ]
    },
    {
     "name": "stdout",
     "output_type": "stream",
     "text": [
      "An error occurred with C:/github/Third-Year-Project/Intruder-Aircraft-Detection/datasets/Custom/weather_45_1000\\images\\train\\29335.jpg: Expected y_max for bbox (0.47840099999999997, 0.7528035000000001, 0.926549, 1.0515685000000001, 1) to be in the range [0.0, 1.0], got 1.0515685000000001.\n"
     ]
    },
    {
     "name": "stderr",
     "output_type": "stream",
     "text": [
      "Processing images:  24%|██▍       | 243/1000 [00:10<00:21, 35.72it/s]"
     ]
    },
    {
     "name": "stdout",
     "output_type": "stream",
     "text": [
      "An error occurred with C:/github/Third-Year-Project/Intruder-Aircraft-Detection/datasets/Custom/weather_45_1000\\images\\train\\29410.jpg: Expected y_min for bbox (0.113566, -0.11284, 0.8513820000000001, 0.379038, 1) to be in the range [0.0, 1.0], got -0.11284.\n"
     ]
    },
    {
     "name": "stderr",
     "output_type": "stream",
     "text": [
      "Processing images:  26%|██▌       | 260/1000 [00:10<00:20, 35.51it/s]"
     ]
    },
    {
     "name": "stdout",
     "output_type": "stream",
     "text": [
      "An error occurred with C:/github/Third-Year-Project/Intruder-Aircraft-Detection/datasets/Custom/weather_45_1000\\images\\train\\29465.jpg: Expected x_max for bbox (0.38954849999999996, 0.45536699999999997, 1.1199314999999999, 0.9422889999999999, 1) to be in the range [0.0, 1.0], got 1.1199314999999999.\n"
     ]
    },
    {
     "name": "stderr",
     "output_type": "stream",
     "text": [
      "Processing images:  32%|███▏      | 321/1000 [00:12<00:19, 34.76it/s]"
     ]
    },
    {
     "name": "stdout",
     "output_type": "stream",
     "text": [
      "An error occurred with C:/github/Third-Year-Project/Intruder-Aircraft-Detection/datasets/Custom/weather_45_1000\\images\\train\\29815.jpg: Expected x_max for bbox (0.18880199999999997, 0.20361949999999995, 1.133998, 0.8337505, 1) to be in the range [0.0, 1.0], got 1.133998.\n"
     ]
    },
    {
     "name": "stderr",
     "output_type": "stream",
     "text": [
      "Processing images:  55%|█████▌    | 554/1000 [00:19<00:12, 35.53it/s]"
     ]
    },
    {
     "name": "stdout",
     "output_type": "stream",
     "text": [
      "An error occurred with C:/github/Third-Year-Project/Intruder-Aircraft-Detection/datasets/Custom/weather_45_1000\\images\\train\\52087.jpg: Expected x_min for bbox (-0.0442225, 0.15761199999999997, 0.7150505, 0.663794, 2) to be in the range [0.0, 1.0], got -0.0442225.\n"
     ]
    },
    {
     "name": "stderr",
     "output_type": "stream",
     "text": [
      "Processing images:  61%|██████    | 611/1000 [00:21<00:10, 35.59it/s]"
     ]
    },
    {
     "name": "stdout",
     "output_type": "stream",
     "text": [
      "An error occurred with C:/github/Third-Year-Project/Intruder-Aircraft-Detection/datasets/Custom/weather_45_1000\\images\\train\\52365.jpg: Expected x_max for bbox (0.487545, 0.513501, 1.0378530000000001, 0.880373, 2) to be in the range [0.0, 1.0], got 1.0378530000000001.\n"
     ]
    },
    {
     "name": "stderr",
     "output_type": "stream",
     "text": [
      "Processing images: 100%|██████████| 1000/1000 [00:32<00:00, 30.64it/s]\n",
      "Processing images:   6%|▋         | 97/1500 [00:07<01:41, 13.79it/s]"
     ]
    },
    {
     "name": "stdout",
     "output_type": "stream",
     "text": [
      "An error occurred with C:/github/Third-Year-Project/Intruder-Aircraft-Detection/datasets/Custom/weather_45_1000\\images\\train-aug\\28284.jpg: Expected x_max for bbox (0.189772, 0.575604, 1.100998, 1.1830880000000001, 1) to be in the range [0.0, 1.0], got 1.100998.\n"
     ]
    },
    {
     "name": "stderr",
     "output_type": "stream",
     "text": [
      "Processing images:  12%|█▏        | 186/1500 [00:10<00:39, 33.41it/s]"
     ]
    },
    {
     "name": "stdout",
     "output_type": "stream",
     "text": [
      "An error occurred with C:/github/Third-Year-Project/Intruder-Aircraft-Detection/datasets/Custom/weather_45_1000\\images\\train-aug\\28633.jpg: Expected x_min for bbox (-0.02121799999999996, 0.4453045, 0.937496, 1.0844475, 1) to be in the range [0.0, 1.0], got -0.02121799999999996.\n"
     ]
    },
    {
     "name": "stderr",
     "output_type": "stream",
     "text": [
      "Processing images:  22%|██▏       | 335/1500 [00:15<00:34, 33.98it/s]"
     ]
    },
    {
     "name": "stdout",
     "output_type": "stream",
     "text": [
      "An error occurred with C:/github/Third-Year-Project/Intruder-Aircraft-Detection/datasets/Custom/weather_45_1000\\images\\train-aug\\29335.jpg: Expected y_max for bbox (0.47840099999999997, 0.7528035000000001, 0.926549, 1.0515685000000001, 1) to be in the range [0.0, 1.0], got 1.0515685000000001.\n"
     ]
    },
    {
     "name": "stderr",
     "output_type": "stream",
     "text": [
      "Processing images:  24%|██▍       | 364/1500 [00:16<00:31, 35.54it/s]"
     ]
    },
    {
     "name": "stdout",
     "output_type": "stream",
     "text": [
      "An error occurred with C:/github/Third-Year-Project/Intruder-Aircraft-Detection/datasets/Custom/weather_45_1000\\images\\train-aug\\29410.jpg: Expected y_min for bbox (0.113566, -0.11284, 0.8513820000000001, 0.379038, 1) to be in the range [0.0, 1.0], got -0.11284.\n"
     ]
    },
    {
     "name": "stderr",
     "output_type": "stream",
     "text": [
      "Processing images:  25%|██▌       | 381/1500 [00:16<00:31, 35.81it/s]"
     ]
    },
    {
     "name": "stdout",
     "output_type": "stream",
     "text": [
      "An error occurred with C:/github/Third-Year-Project/Intruder-Aircraft-Detection/datasets/Custom/weather_45_1000\\images\\train-aug\\29465.jpg: Expected x_max for bbox (0.38954849999999996, 0.45536699999999997, 1.1199314999999999, 0.9422889999999999, 1) to be in the range [0.0, 1.0], got 1.1199314999999999.\n"
     ]
    },
    {
     "name": "stderr",
     "output_type": "stream",
     "text": [
      "Processing images:  32%|███▏      | 474/1500 [00:19<00:29, 34.40it/s]"
     ]
    },
    {
     "name": "stdout",
     "output_type": "stream",
     "text": [
      "An error occurred with C:/github/Third-Year-Project/Intruder-Aircraft-Detection/datasets/Custom/weather_45_1000\\images\\train-aug\\29815.jpg: Expected x_max for bbox (0.18880199999999997, 0.20361949999999995, 1.133998, 0.8337505, 1) to be in the range [0.0, 1.0], got 1.133998.\n"
     ]
    },
    {
     "name": "stderr",
     "output_type": "stream",
     "text": [
      "Processing images:  54%|█████▍    | 807/1500 [00:28<00:19, 36.36it/s]"
     ]
    },
    {
     "name": "stdout",
     "output_type": "stream",
     "text": [
      "An error occurred with C:/github/Third-Year-Project/Intruder-Aircraft-Detection/datasets/Custom/weather_45_1000\\images\\train-aug\\52087.jpg: Expected x_min for bbox (-0.0442225, 0.15761199999999997, 0.7150505, 0.663794, 2) to be in the range [0.0, 1.0], got -0.0442225.\n"
     ]
    },
    {
     "name": "stderr",
     "output_type": "stream",
     "text": [
      "Processing images:  55%|█████▍    | 820/1500 [00:29<00:18, 36.12it/s]"
     ]
    },
    {
     "name": "stdout",
     "output_type": "stream",
     "text": [
      "An error occurred with C:/github/Third-Year-Project/Intruder-Aircraft-Detection/datasets/Custom/weather_45_1000\\images\\train-aug\\52087-hsv.jpg: Expected x_min for bbox (-0.0442225, 0.15761199999999997, 0.7150505, 0.663794, 2) to be in the range [0.0, 1.0], got -0.0442225.\n"
     ]
    },
    {
     "name": "stderr",
     "output_type": "stream",
     "text": [
      "Processing images:  60%|█████▉    | 897/1500 [00:31<00:17, 34.25it/s]"
     ]
    },
    {
     "name": "stdout",
     "output_type": "stream",
     "text": [
      "An error occurred with C:/github/Third-Year-Project/Intruder-Aircraft-Detection/datasets/Custom/weather_45_1000\\images\\train-aug\\52365.jpg: Expected x_max for bbox (0.487545, 0.513501, 1.0378530000000001, 0.880373, 2) to be in the range [0.0, 1.0], got 1.0378530000000001.\n"
     ]
    },
    {
     "name": "stderr",
     "output_type": "stream",
     "text": [
      "Processing images: 100%|██████████| 1500/1500 [00:49<00:00, 30.38it/s]\n",
      "Processing images: 100%|██████████| 200/200 [00:06<00:00, 29.87it/s]\n",
      "Moving images in train: 100%|██████████| 992/992 [00:03<00:00, 255.04it/s]\n",
      "Moving images in train-aug: 100%|██████████| 1491/1491 [00:03<00:00, 427.17it/s]\n",
      "Moving images in valid: 100%|██████████| 200/200 [00:00<00:00, 218.53it/s]\n"
     ]
    },
    {
     "name": "stdout",
     "output_type": "stream",
     "text": [
      "Found 992 files belonging to 3 classes.\n",
      "Found 1491 files belonging to 3 classes.\n",
      "Found 200 files belonging to 3 classes.\n",
      "ClearML Task: created new task id=160e905233c44a50b6c5c9900ad28084\n",
      "ClearML results page: https://app.clear.ml/projects/99b9e23c702f45b6a3b2868de65da134/experiments/160e905233c44a50b6c5c9900ad28084/output/log\n",
      "Training model...\n",
      "Epoch 1/30\n",
      "\u001b[1m31/31\u001b[0m \u001b[32m━━━━━━━━━━━━━━━━━━━━\u001b[0m\u001b[37m\u001b[0m \u001b[1m11s\u001b[0m 299ms/step - accuracy: 0.3335 - loss: 1.8113 - precision: 0.2622 - recall: 0.1241 - val_accuracy: 0.3350 - val_loss: 1.0997 - val_precision: 0.0000e+00 - val_recall: 0.0000e+00\n",
      "Epoch 2/30\n",
      "\u001b[1m31/31\u001b[0m \u001b[32m━━━━━━━━━━━━━━━━━━━━\u001b[0m\u001b[37m\u001b[0m \u001b[1m7s\u001b[0m 226ms/step - accuracy: 0.3393 - loss: 1.0997 - precision: 0.0000e+00 - recall: 0.0000e+00 - val_accuracy: 0.3350 - val_loss: 1.0986 - val_precision: 0.0000e+00 - val_recall: 0.0000e+00\n",
      "Epoch 3/30\n",
      "\u001b[1m31/31\u001b[0m \u001b[32m━━━━━━━━━━━━━━━━━━━━\u001b[0m\u001b[37m\u001b[0m \u001b[1m7s\u001b[0m 220ms/step - accuracy: 0.3347 - loss: 1.0987 - precision: 0.0000e+00 - recall: 0.0000e+00 - val_accuracy: 0.3350 - val_loss: 1.0986 - val_precision: 0.0000e+00 - val_recall: 0.0000e+00\n",
      "Epoch 4/30\n",
      "\u001b[1m31/31\u001b[0m \u001b[32m━━━━━━━━━━━━━━━━━━━━\u001b[0m\u001b[37m\u001b[0m \u001b[1m7s\u001b[0m 222ms/step - accuracy: 0.3293 - loss: 1.0987 - precision: 0.0000e+00 - recall: 0.0000e+00 - val_accuracy: 0.3350 - val_loss: 1.0986 - val_precision: 0.0000e+00 - val_recall: 0.0000e+00\n",
      "Epoch 5/30\n",
      "\u001b[1m31/31\u001b[0m \u001b[32m━━━━━━━━━━━━━━━━━━━━\u001b[0m\u001b[37m\u001b[0m \u001b[1m7s\u001b[0m 223ms/step - accuracy: 0.3459 - loss: 1.0985 - precision: 0.0000e+00 - recall: 0.0000e+00 - val_accuracy: 0.3350 - val_loss: 1.0986 - val_precision: 0.0000e+00 - val_recall: 0.0000e+00\n",
      "Epoch 6/30\n",
      "\u001b[1m31/31\u001b[0m \u001b[32m━━━━━━━━━━━━━━━━━━━━\u001b[0m\u001b[37m\u001b[0m \u001b[1m7s\u001b[0m 220ms/step - accuracy: 0.3346 - loss: 1.0987 - precision: 0.0000e+00 - recall: 0.0000e+00 - val_accuracy: 0.3350 - val_loss: 1.0986 - val_precision: 0.0000e+00 - val_recall: 0.0000e+00\n",
      "Epoch 7/30\n",
      "\u001b[1m31/31\u001b[0m \u001b[32m━━━━━━━━━━━━━━━━━━━━\u001b[0m\u001b[37m\u001b[0m \u001b[1m10s\u001b[0m 301ms/step - accuracy: 0.3483 - loss: 1.0985 - precision: 0.0000e+00 - recall: 0.0000e+00 - val_accuracy: 0.3350 - val_loss: 1.0986 - val_precision: 0.0000e+00 - val_recall: 0.0000e+00\n",
      "Epoch 8/30\n",
      "\u001b[1m31/31\u001b[0m \u001b[32m━━━━━━━━━━━━━━━━━━━━\u001b[0m\u001b[37m\u001b[0m \u001b[1m7s\u001b[0m 228ms/step - accuracy: 0.3384 - loss: 1.0986 - precision: 0.0000e+00 - recall: 0.0000e+00 - val_accuracy: 0.3350 - val_loss: 1.0986 - val_precision: 0.0000e+00 - val_recall: 0.0000e+00\n",
      "Epoch 9/30\n",
      "\u001b[1m31/31\u001b[0m \u001b[32m━━━━━━━━━━━━━━━━━━━━\u001b[0m\u001b[37m\u001b[0m \u001b[1m7s\u001b[0m 220ms/step - accuracy: 0.3518 - loss: 1.0985 - precision: 0.0000e+00 - recall: 0.0000e+00 - val_accuracy: 0.3350 - val_loss: 1.0986 - val_precision: 0.0000e+00 - val_recall: 0.0000e+00\n",
      "Epoch 10/30\n",
      "\u001b[1m31/31\u001b[0m \u001b[32m━━━━━━━━━━━━━━━━━━━━\u001b[0m\u001b[37m\u001b[0m \u001b[1m7s\u001b[0m 221ms/step - accuracy: 0.3385 - loss: 1.0986 - precision: 0.0000e+00 - recall: 0.0000e+00 - val_accuracy: 0.3350 - val_loss: 1.0986 - val_precision: 0.0000e+00 - val_recall: 0.0000e+00\n",
      "Epoch 11/30\n",
      "\u001b[1m31/31\u001b[0m \u001b[32m━━━━━━━━━━━━━━━━━━━━\u001b[0m\u001b[37m\u001b[0m \u001b[1m7s\u001b[0m 222ms/step - accuracy: 0.3238 - loss: 1.0987 - precision: 0.0000e+00 - recall: 0.0000e+00 - val_accuracy: 0.3300 - val_loss: 1.0986 - val_precision: 0.0000e+00 - val_recall: 0.0000e+00\n",
      "Epoch 12/30\n",
      "\u001b[1m31/31\u001b[0m \u001b[32m━━━━━━━━━━━━━━━━━━━━\u001b[0m\u001b[37m\u001b[0m \u001b[1m7s\u001b[0m 221ms/step - accuracy: 0.3622 - loss: 1.1001 - precision: 0.0000e+00 - recall: 0.0000e+00 - val_accuracy: 0.3350 - val_loss: 1.0986 - val_precision: 0.0000e+00 - val_recall: 0.0000e+00\n",
      "Epoch 13/30\n",
      "\u001b[1m31/31\u001b[0m \u001b[32m━━━━━━━━━━━━━━━━━━━━\u001b[0m\u001b[37m\u001b[0m \u001b[1m9s\u001b[0m 297ms/step - accuracy: 0.3135 - loss: 1.0987 - precision: 0.0000e+00 - recall: 0.0000e+00 - val_accuracy: 0.3350 - val_loss: 1.0985 - val_precision: 0.0000e+00 - val_recall: 0.0000e+00\n",
      "Epoch 14/30\n",
      "\u001b[1m31/31\u001b[0m \u001b[32m━━━━━━━━━━━━━━━━━━━━\u001b[0m\u001b[37m\u001b[0m \u001b[1m7s\u001b[0m 225ms/step - accuracy: 0.3254 - loss: 1.0986 - precision: 0.0000e+00 - recall: 0.0000e+00 - val_accuracy: 0.3350 - val_loss: 1.0985 - val_precision: 0.0000e+00 - val_recall: 0.0000e+00\n",
      "Epoch 15/30\n",
      "\u001b[1m31/31\u001b[0m \u001b[32m━━━━━━━━━━━━━━━━━━━━\u001b[0m\u001b[37m\u001b[0m \u001b[1m7s\u001b[0m 219ms/step - accuracy: 0.3244 - loss: 1.0984 - precision: 0.0000e+00 - recall: 0.0000e+00 - val_accuracy: 0.3350 - val_loss: 1.0985 - val_precision: 0.0000e+00 - val_recall: 0.0000e+00\n",
      "Epoch 16/30\n",
      "\u001b[1m31/31\u001b[0m \u001b[32m━━━━━━━━━━━━━━━━━━━━\u001b[0m\u001b[37m\u001b[0m \u001b[1m7s\u001b[0m 223ms/step - accuracy: 0.3310 - loss: 1.0984 - precision: 0.0000e+00 - recall: 0.0000e+00 - val_accuracy: 0.3350 - val_loss: 1.0985 - val_precision: 0.0000e+00 - val_recall: 0.0000e+00\n",
      "Epoch 17/30\n",
      "\u001b[1m31/31\u001b[0m \u001b[32m━━━━━━━━━━━━━━━━━━━━\u001b[0m\u001b[37m\u001b[0m \u001b[1m7s\u001b[0m 221ms/step - accuracy: 0.3453 - loss: 1.0983 - precision: 0.0000e+00 - recall: 0.0000e+00 - val_accuracy: 0.3350 - val_loss: 1.0984 - val_precision: 0.0000e+00 - val_recall: 0.0000e+00\n",
      "Epoch 18/30\n",
      "\u001b[1m31/31\u001b[0m \u001b[32m━━━━━━━━━━━━━━━━━━━━\u001b[0m\u001b[37m\u001b[0m \u001b[1m7s\u001b[0m 219ms/step - accuracy: 0.3236 - loss: 1.0986 - precision: 0.0000e+00 - recall: 0.0000e+00 - val_accuracy: 0.3350 - val_loss: 1.0990 - val_precision: 0.0000e+00 - val_recall: 0.0000e+00\n",
      "Epoch 19/30\n",
      "\u001b[1m31/31\u001b[0m \u001b[32m━━━━━━━━━━━━━━━━━━━━\u001b[0m\u001b[37m\u001b[0m \u001b[1m10s\u001b[0m 328ms/step - accuracy: 0.3239 - loss: 1.0995 - precision: 0.0000e+00 - recall: 0.0000e+00 - val_accuracy: 0.3350 - val_loss: 1.0984 - val_precision: 0.0000e+00 - val_recall: 0.0000e+00\n",
      "Epoch 20/30\n",
      "\u001b[1m31/31\u001b[0m \u001b[32m━━━━━━━━━━━━━━━━━━━━\u001b[0m\u001b[37m\u001b[0m \u001b[1m7s\u001b[0m 222ms/step - accuracy: 0.3290 - loss: 1.0982 - precision: 0.0000e+00 - recall: 0.0000e+00 - val_accuracy: 0.3350 - val_loss: 1.0982 - val_precision: 0.0000e+00 - val_recall: 0.0000e+00\n",
      "Epoch 21/30\n",
      "\u001b[1m31/31\u001b[0m \u001b[32m━━━━━━━━━━━━━━━━━━━━\u001b[0m\u001b[37m\u001b[0m \u001b[1m7s\u001b[0m 225ms/step - accuracy: 0.3307 - loss: 1.0985 - precision: 0.0000e+00 - recall: 0.0000e+00 - val_accuracy: 0.3350 - val_loss: 1.0984 - val_precision: 0.0000e+00 - val_recall: 0.0000e+00\n",
      "Epoch 22/30\n",
      "\u001b[1m31/31\u001b[0m \u001b[32m━━━━━━━━━━━━━━━━━━━━\u001b[0m\u001b[37m\u001b[0m \u001b[1m7s\u001b[0m 221ms/step - accuracy: 0.3247 - loss: 1.0989 - precision: 0.0000e+00 - recall: 0.0000e+00 - val_accuracy: 0.3350 - val_loss: 1.0985 - val_precision: 0.0000e+00 - val_recall: 0.0000e+00\n",
      "Epoch 23/30\n",
      "\u001b[1m31/31\u001b[0m \u001b[32m━━━━━━━━━━━━━━━━━━━━\u001b[0m\u001b[37m\u001b[0m \u001b[1m7s\u001b[0m 221ms/step - accuracy: 0.3405 - loss: 1.0970 - precision: 0.0000e+00 - recall: 0.0000e+00 - val_accuracy: 0.4150 - val_loss: 1.0978 - val_precision: 0.0000e+00 - val_recall: 0.0000e+00\n",
      "Epoch 24/30\n",
      "\u001b[1m31/31\u001b[0m \u001b[32m━━━━━━━━━━━━━━━━━━━━\u001b[0m\u001b[37m\u001b[0m \u001b[1m8s\u001b[0m 237ms/step - accuracy: 0.3558 - loss: 1.0979 - precision: 0.0000e+00 - recall: 0.0000e+00 - val_accuracy: 0.3400 - val_loss: 1.0975 - val_precision: 0.0000e+00 - val_recall: 0.0000e+00\n",
      "Epoch 25/30\n",
      "\u001b[1m31/31\u001b[0m \u001b[32m━━━━━━━━━━━━━━━━━━━━\u001b[0m\u001b[37m\u001b[0m \u001b[1m9s\u001b[0m 285ms/step - accuracy: 0.3537 - loss: 1.0982 - precision: 0.0000e+00 - recall: 0.0000e+00 - val_accuracy: 0.4000 - val_loss: 1.0975 - val_precision: 0.0000e+00 - val_recall: 0.0000e+00\n",
      "Epoch 26/30\n",
      "\u001b[1m31/31\u001b[0m \u001b[32m━━━━━━━━━━━━━━━━━━━━\u001b[0m\u001b[37m\u001b[0m \u001b[1m7s\u001b[0m 225ms/step - accuracy: 0.3379 - loss: 1.0968 - precision: 0.0000e+00 - recall: 0.0000e+00 - val_accuracy: 0.4300 - val_loss: 1.0939 - val_precision: 0.0000e+00 - val_recall: 0.0000e+00\n",
      "Epoch 27/30\n",
      "\u001b[1m31/31\u001b[0m \u001b[32m━━━━━━━━━━━━━━━━━━━━\u001b[0m\u001b[37m\u001b[0m \u001b[1m7s\u001b[0m 220ms/step - accuracy: 0.3901 - loss: 1.0990 - precision: 0.3000 - recall: 0.0026 - val_accuracy: 0.3950 - val_loss: 1.0944 - val_precision: 0.0000e+00 - val_recall: 0.0000e+00\n",
      "Epoch 28/30\n",
      "\u001b[1m31/31\u001b[0m \u001b[32m━━━━━━━━━━━━━━━━━━━━\u001b[0m\u001b[37m\u001b[0m \u001b[1m7s\u001b[0m 222ms/step - accuracy: 0.3577 - loss: 1.0961 - precision: 0.1562 - recall: 0.0018 - val_accuracy: 0.3650 - val_loss: 1.0941 - val_precision: 0.0000e+00 - val_recall: 0.0000e+00\n",
      "Epoch 29/30\n",
      "\u001b[1m31/31\u001b[0m \u001b[32m━━━━━━━━━━━━━━━━━━━━\u001b[0m\u001b[37m\u001b[0m \u001b[1m7s\u001b[0m 220ms/step - accuracy: 0.3690 - loss: 1.0951 - precision: 0.0000e+00 - recall: 0.0000e+00 - val_accuracy: 0.4350 - val_loss: 1.0930 - val_precision: 0.0000e+00 - val_recall: 0.0000e+00\n",
      "Epoch 30/30\n",
      "\u001b[1m31/31\u001b[0m \u001b[32m━━━━━━━━━━━━━━━━━━━━\u001b[0m\u001b[37m\u001b[0m \u001b[1m7s\u001b[0m 222ms/step - accuracy: 0.3893 - loss: 1.0913 - precision: 0.3438 - recall: 4.0444e-04 - val_accuracy: 0.4500 - val_loss: 1.0909 - val_precision: 0.0000e+00 - val_recall: 0.0000e+00\n",
      "Predicting on validation set...\n",
      "\u001b[1m7/7\u001b[0m \u001b[32m━━━━━━━━━━━━━━━━━━━━\u001b[0m\u001b[37m\u001b[0m \u001b[1m1s\u001b[0m 48ms/step\n"
     ]
    },
    {
     "name": "stderr",
     "output_type": "stream",
     "text": [
      "c:\\Users\\tomev\\anaconda3\\envs\\tf-cpu\\Lib\\site-packages\\sklearn\\metrics\\_classification.py:1344: UndefinedMetricWarning:\n",
      "\n",
      "Precision and F-score are ill-defined and being set to 0.0 in labels with no predicted samples. Use `zero_division` parameter to control this behavior.\n",
      "\n",
      "c:\\Users\\tomev\\anaconda3\\envs\\tf-cpu\\Lib\\site-packages\\sklearn\\metrics\\_classification.py:1344: UndefinedMetricWarning:\n",
      "\n",
      "Precision and F-score are ill-defined and being set to 0.0 in labels with no predicted samples. Use `zero_division` parameter to control this behavior.\n",
      "\n",
      "c:\\Users\\tomev\\anaconda3\\envs\\tf-cpu\\Lib\\site-packages\\sklearn\\metrics\\_classification.py:1344: UndefinedMetricWarning:\n",
      "\n",
      "Precision and F-score are ill-defined and being set to 0.0 in labels with no predicted samples. Use `zero_division` parameter to control this behavior.\n",
      "\n"
     ]
    },
    {
     "name": "stdout",
     "output_type": "stream",
     "text": [
      "Sending metrics to clearML...\n",
      "done\n",
      "ClearML Task: created new task id=fb341f8f8dbc49328be384368dc2a8fa\n",
      "ClearML results page: https://app.clear.ml/projects/99b9e23c702f45b6a3b2868de65da134/experiments/fb341f8f8dbc49328be384368dc2a8fa/output/log\n",
      "Training model...\n",
      "Epoch 1/30\n",
      "\u001b[1m47/47\u001b[0m \u001b[32m━━━━━━━━━━━━━━━━━━━━\u001b[0m\u001b[37m\u001b[0m \u001b[1m15s\u001b[0m 270ms/step - accuracy: 0.3383 - loss: 1.9667 - precision: 0.2991 - recall: 0.0922 - val_accuracy: 0.3350 - val_loss: 1.0983 - val_precision: 0.0000e+00 - val_recall: 0.0000e+00\n",
      "Epoch 2/30\n",
      "\u001b[1m47/47\u001b[0m \u001b[32m━━━━━━━━━━━━━━━━━━━━\u001b[0m\u001b[37m\u001b[0m \u001b[1m11s\u001b[0m 218ms/step - accuracy: 0.3427 - loss: 1.0992 - precision: 0.0000e+00 - recall: 0.0000e+00 - val_accuracy: 0.3350 - val_loss: 1.0986 - val_precision: 0.0000e+00 - val_recall: 0.0000e+00\n",
      "Epoch 3/30\n",
      "\u001b[1m47/47\u001b[0m \u001b[32m━━━━━━━━━━━━━━━━━━━━\u001b[0m\u001b[37m\u001b[0m \u001b[1m11s\u001b[0m 219ms/step - accuracy: 0.3440 - loss: 1.0985 - precision: 0.0000e+00 - recall: 0.0000e+00 - val_accuracy: 0.3350 - val_loss: 1.0985 - val_precision: 0.0000e+00 - val_recall: 0.0000e+00\n",
      "Epoch 4/30\n",
      "\u001b[1m47/47\u001b[0m \u001b[32m━━━━━━━━━━━━━━━━━━━━\u001b[0m\u001b[37m\u001b[0m \u001b[1m10s\u001b[0m 215ms/step - accuracy: 0.3422 - loss: 1.0986 - precision: 0.0000e+00 - recall: 0.0000e+00 - val_accuracy: 0.3350 - val_loss: 1.0985 - val_precision: 0.0000e+00 - val_recall: 0.0000e+00\n",
      "Epoch 5/30\n",
      "\u001b[1m47/47\u001b[0m \u001b[32m━━━━━━━━━━━━━━━━━━━━\u001b[0m\u001b[37m\u001b[0m \u001b[1m14s\u001b[0m 289ms/step - accuracy: 0.3393 - loss: 1.0984 - precision: 0.0000e+00 - recall: 0.0000e+00 - val_accuracy: 0.3350 - val_loss: 1.0984 - val_precision: 0.0000e+00 - val_recall: 0.0000e+00\n",
      "Epoch 6/30\n",
      "\u001b[1m47/47\u001b[0m \u001b[32m━━━━━━━━━━━━━━━━━━━━\u001b[0m\u001b[37m\u001b[0m \u001b[1m11s\u001b[0m 219ms/step - accuracy: 0.3363 - loss: 1.0991 - precision: 0.0000e+00 - recall: 0.0000e+00 - val_accuracy: 0.3350 - val_loss: 1.0988 - val_precision: 0.0000e+00 - val_recall: 0.0000e+00\n",
      "Epoch 7/30\n",
      "\u001b[1m47/47\u001b[0m \u001b[32m━━━━━━━━━━━━━━━━━━━━\u001b[0m\u001b[37m\u001b[0m \u001b[1m10s\u001b[0m 215ms/step - accuracy: 0.3308 - loss: 1.1007 - precision: 0.0000e+00 - recall: 0.0000e+00 - val_accuracy: 0.3350 - val_loss: 1.0991 - val_precision: 0.0000e+00 - val_recall: 0.0000e+00\n",
      "Epoch 8/30\n",
      "\u001b[1m47/47\u001b[0m \u001b[32m━━━━━━━━━━━━━━━━━━━━\u001b[0m\u001b[37m\u001b[0m \u001b[1m10s\u001b[0m 216ms/step - accuracy: 0.3521 - loss: 1.0993 - precision: 0.0000e+00 - recall: 0.0000e+00 - val_accuracy: 0.3350 - val_loss: 1.0984 - val_precision: 0.0000e+00 - val_recall: 0.0000e+00\n",
      "Epoch 9/30\n",
      "\u001b[1m47/47\u001b[0m \u001b[32m━━━━━━━━━━━━━━━━━━━━\u001b[0m\u001b[37m\u001b[0m \u001b[1m13s\u001b[0m 269ms/step - accuracy: 0.3211 - loss: 1.0994 - precision: 0.0000e+00 - recall: 0.0000e+00 - val_accuracy: 0.3350 - val_loss: 1.0984 - val_precision: 0.0000e+00 - val_recall: 0.0000e+00\n",
      "Epoch 10/30\n",
      "\u001b[1m47/47\u001b[0m \u001b[32m━━━━━━━━━━━━━━━━━━━━\u001b[0m\u001b[37m\u001b[0m \u001b[1m10s\u001b[0m 218ms/step - accuracy: 0.3352 - loss: 1.0987 - precision: 0.0000e+00 - recall: 0.0000e+00 - val_accuracy: 0.3350 - val_loss: 1.0983 - val_precision: 0.0000e+00 - val_recall: 0.0000e+00\n",
      "Epoch 11/30\n",
      "\u001b[1m47/47\u001b[0m \u001b[32m━━━━━━━━━━━━━━━━━━━━\u001b[0m\u001b[37m\u001b[0m \u001b[1m10s\u001b[0m 216ms/step - accuracy: 0.3380 - loss: 1.0988 - precision: 0.0000e+00 - recall: 0.0000e+00 - val_accuracy: 0.3450 - val_loss: 1.0981 - val_precision: 0.0000e+00 - val_recall: 0.0000e+00\n",
      "Epoch 12/30\n",
      "\u001b[1m47/47\u001b[0m \u001b[32m━━━━━━━━━━━━━━━━━━━━\u001b[0m\u001b[37m\u001b[0m \u001b[1m10s\u001b[0m 215ms/step - accuracy: 0.3451 - loss: 1.0984 - precision: 0.0000e+00 - recall: 0.0000e+00 - val_accuracy: 0.3500 - val_loss: 1.1030 - val_precision: 0.0000e+00 - val_recall: 0.0000e+00\n",
      "Epoch 13/30\n",
      "\u001b[1m47/47\u001b[0m \u001b[32m━━━━━━━━━━━━━━━━━━━━\u001b[0m\u001b[37m\u001b[0m \u001b[1m10s\u001b[0m 216ms/step - accuracy: 0.3341 - loss: 1.1010 - precision: 0.0000e+00 - recall: 0.0000e+00 - val_accuracy: 0.3400 - val_loss: 1.0981 - val_precision: 0.0000e+00 - val_recall: 0.0000e+00\n",
      "Epoch 14/30\n",
      "\u001b[1m47/47\u001b[0m \u001b[32m━━━━━━━━━━━━━━━━━━━━\u001b[0m\u001b[37m\u001b[0m \u001b[1m10s\u001b[0m 216ms/step - accuracy: 0.3599 - loss: 1.0940 - precision: 0.0000e+00 - recall: 0.0000e+00 - val_accuracy: 0.3400 - val_loss: 1.0974 - val_precision: 0.0000e+00 - val_recall: 0.0000e+00\n",
      "Epoch 15/30\n",
      "\u001b[1m47/47\u001b[0m \u001b[32m━━━━━━━━━━━━━━━━━━━━\u001b[0m\u001b[37m\u001b[0m \u001b[1m11s\u001b[0m 218ms/step - accuracy: 0.3782 - loss: 1.0945 - precision: 0.0000e+00 - recall: 0.0000e+00 - val_accuracy: 0.3550 - val_loss: 1.1016 - val_precision: 0.0000e+00 - val_recall: 0.0000e+00\n",
      "Epoch 16/30\n",
      "\u001b[1m47/47\u001b[0m \u001b[32m━━━━━━━━━━━━━━━━━━━━\u001b[0m\u001b[37m\u001b[0m \u001b[1m10s\u001b[0m 213ms/step - accuracy: 0.4060 - loss: 1.0867 - precision: 0.3516 - recall: 0.0110 - val_accuracy: 0.4550 - val_loss: 1.0695 - val_precision: 0.7500 - val_recall: 0.0300\n",
      "Epoch 17/30\n",
      "\u001b[1m47/47\u001b[0m \u001b[32m━━━━━━━━━━━━━━━━━━━━\u001b[0m\u001b[37m\u001b[0m \u001b[1m10s\u001b[0m 215ms/step - accuracy: 0.5135 - loss: 1.0130 - precision: 0.6293 - recall: 0.1470 - val_accuracy: 0.5300 - val_loss: 1.0469 - val_precision: 0.6667 - val_recall: 0.0600\n",
      "Epoch 18/30\n",
      "\u001b[1m47/47\u001b[0m \u001b[32m━━━━━━━━━━━━━━━━━━━━\u001b[0m\u001b[37m\u001b[0m \u001b[1m10s\u001b[0m 215ms/step - accuracy: 0.5420 - loss: 1.0190 - precision: 0.7448 - recall: 0.1478 - val_accuracy: 0.6100 - val_loss: 1.0013 - val_precision: 0.6486 - val_recall: 0.1200\n",
      "Epoch 19/30\n",
      "\u001b[1m47/47\u001b[0m \u001b[32m━━━━━━━━━━━━━━━━━━━━\u001b[0m\u001b[37m\u001b[0m \u001b[1m10s\u001b[0m 216ms/step - accuracy: 0.6760 - loss: 0.8468 - precision: 0.7926 - recall: 0.3992 - val_accuracy: 0.7100 - val_loss: 0.8885 - val_precision: 0.7500 - val_recall: 0.6450\n",
      "Epoch 20/30\n",
      "\u001b[1m47/47\u001b[0m \u001b[32m━━━━━━━━━━━━━━━━━━━━\u001b[0m\u001b[37m\u001b[0m \u001b[1m10s\u001b[0m 216ms/step - accuracy: 0.7831 - loss: 0.5614 - precision: 0.8296 - recall: 0.7203 - val_accuracy: 0.6950 - val_loss: 0.8967 - val_precision: 0.7243 - val_recall: 0.6700\n",
      "Epoch 21/30\n",
      "\u001b[1m47/47\u001b[0m \u001b[32m━━━━━━━━━━━━━━━━━━━━\u001b[0m\u001b[37m\u001b[0m \u001b[1m10s\u001b[0m 215ms/step - accuracy: 0.8198 - loss: 0.4641 - precision: 0.8446 - recall: 0.7675 - val_accuracy: 0.7050 - val_loss: 0.8660 - val_precision: 0.7263 - val_recall: 0.6900\n",
      "Epoch 22/30\n",
      "\u001b[1m47/47\u001b[0m \u001b[32m━━━━━━━━━━━━━━━━━━━━\u001b[0m\u001b[37m\u001b[0m \u001b[1m10s\u001b[0m 214ms/step - accuracy: 0.8570 - loss: 0.3566 - precision: 0.8681 - recall: 0.8262 - val_accuracy: 0.7250 - val_loss: 0.9187 - val_precision: 0.7292 - val_recall: 0.7000\n",
      "Epoch 23/30\n",
      "\u001b[1m47/47\u001b[0m \u001b[32m━━━━━━━━━━━━━━━━━━━━\u001b[0m\u001b[37m\u001b[0m \u001b[1m10s\u001b[0m 217ms/step - accuracy: 0.8746 - loss: 0.3214 - precision: 0.8870 - recall: 0.8598 - val_accuracy: 0.7600 - val_loss: 0.9961 - val_precision: 0.7720 - val_recall: 0.7450\n",
      "Epoch 24/30\n",
      "\u001b[1m47/47\u001b[0m \u001b[32m━━━━━━━━━━━━━━━━━━━━\u001b[0m\u001b[37m\u001b[0m \u001b[1m10s\u001b[0m 217ms/step - accuracy: 0.8752 - loss: 0.3146 - precision: 0.8824 - recall: 0.8581 - val_accuracy: 0.7500 - val_loss: 0.9844 - val_precision: 0.7525 - val_recall: 0.7450\n",
      "Epoch 25/30\n",
      "\u001b[1m47/47\u001b[0m \u001b[32m━━━━━━━━━━━━━━━━━━━━\u001b[0m\u001b[37m\u001b[0m \u001b[1m10s\u001b[0m 216ms/step - accuracy: 0.8935 - loss: 0.2582 - precision: 0.9047 - recall: 0.8840 - val_accuracy: 0.7100 - val_loss: 1.0121 - val_precision: 0.7459 - val_recall: 0.6900\n",
      "Epoch 26/30\n",
      "\u001b[1m47/47\u001b[0m \u001b[32m━━━━━━━━━━━━━━━━━━━━\u001b[0m\u001b[37m\u001b[0m \u001b[1m10s\u001b[0m 216ms/step - accuracy: 0.8963 - loss: 0.2638 - precision: 0.9085 - recall: 0.8803 - val_accuracy: 0.7100 - val_loss: 1.1868 - val_precision: 0.7292 - val_recall: 0.7000\n",
      "Epoch 27/30\n",
      "\u001b[1m47/47\u001b[0m \u001b[32m━━━━━━━━━━━━━━━━━━━━\u001b[0m\u001b[37m\u001b[0m \u001b[1m10s\u001b[0m 216ms/step - accuracy: 0.8911 - loss: 0.2837 - precision: 0.8970 - recall: 0.8799 - val_accuracy: 0.7300 - val_loss: 1.1714 - val_precision: 0.7347 - val_recall: 0.7200\n",
      "Epoch 28/30\n",
      "\u001b[1m47/47\u001b[0m \u001b[32m━━━━━━━━━━━━━━━━━━━━\u001b[0m\u001b[37m\u001b[0m \u001b[1m10s\u001b[0m 214ms/step - accuracy: 0.9224 - loss: 0.1916 - precision: 0.9280 - recall: 0.9151 - val_accuracy: 0.7200 - val_loss: 1.2432 - val_precision: 0.7259 - val_recall: 0.7150\n",
      "Epoch 29/30\n",
      "\u001b[1m47/47\u001b[0m \u001b[32m━━━━━━━━━━━━━━━━━━━━\u001b[0m\u001b[37m\u001b[0m \u001b[1m10s\u001b[0m 216ms/step - accuracy: 0.9354 - loss: 0.1744 - precision: 0.9394 - recall: 0.9286 - val_accuracy: 0.7500 - val_loss: 1.2799 - val_precision: 0.7563 - val_recall: 0.7450\n",
      "Epoch 30/30\n",
      "\u001b[1m47/47\u001b[0m \u001b[32m━━━━━━━━━━━━━━━━━━━━\u001b[0m\u001b[37m\u001b[0m \u001b[1m10s\u001b[0m 214ms/step - accuracy: 0.9566 - loss: 0.1278 - precision: 0.9593 - recall: 0.9464 - val_accuracy: 0.7250 - val_loss: 1.2836 - val_precision: 0.7360 - val_recall: 0.7250\n",
      "Predicting on validation set...\n",
      "\u001b[1m7/7\u001b[0m \u001b[32m━━━━━━━━━━━━━━━━━━━━\u001b[0m\u001b[37m\u001b[0m \u001b[1m1s\u001b[0m 48ms/step\n",
      "Sending metrics to clearML...\n",
      "done\n"
     ]
    }
   ],
   "source": [
    "# hsv augmentation\n",
    "task_name = 'hsv'\n",
    "sub_project_name = 'HSV'\n",
    "\n",
    "augmentation_metadata = {\n",
    "        'methods': {        \n",
    "            'hsv': {\n",
    "                'parameters': {\n",
    "                    'type': 'h', # Maximum angle of rotation\n",
    "                    'shift': 20,\n",
    "                    'p': 1.0  # Probability of applying the augmentation\n",
    "                },\n",
    "                'apply_to_percentage': 0.5  # 50% of the training images\n",
    "            },\n",
    "            'hsv': {\n",
    "                'parameters': {\n",
    "                    'type': 's', # Maximum angle of rotation\n",
    "                    'shift': 30,\n",
    "                    'p': 1.0  # Probability of applying the augmentation\n",
    "                },\n",
    "                'apply_to_percentage': 0.5 # 50% of the training images\n",
    "            },\n",
    "            'hsv': {\n",
    "                'parameters': {\n",
    "                    'type': 'v', # Maximum angle of rotation\n",
    "                    'shift': 20,\n",
    "                    'p': 1.0  # Probability of applying the augmentation\n",
    "                },\n",
    "                'apply_to_percentage': 0.5  # 50% of the training images\n",
    "            }            \n",
    "        }\n",
    "    }\n",
    "\n",
    "for i in range(N):\n",
    "    RUN = i + 1\n",
    "    try:\n",
    "        print(f\"Starting RUN: {RUN}\")\n",
    "        main(RUN, augmentation_metadata, task_name, sub_project_name, epochs, train_size, w1, w2)\n",
    "    except Exception as e:\n",
    "        print(f\"Error in RUN: {RUN}\")\n",
    "        print(e)\n",
    "    finally:\n",
    "        clear_output(wait=True)  # Clear the output to avoid scrolling\n",
    "        gc.collect()  # Collect garbage to avoid memory leaks"
   ]
  }
 ],
 "metadata": {
  "kernelspec": {
   "display_name": "tf-cpu",
   "language": "python",
   "name": "python3"
  },
  "language_info": {
   "codemirror_mode": {
    "name": "ipython",
    "version": 3
   },
   "file_extension": ".py",
   "mimetype": "text/x-python",
   "name": "python",
   "nbconvert_exporter": "python",
   "pygments_lexer": "ipython3",
   "version": "3.11.9"
  }
 },
 "nbformat": 4,
 "nbformat_minor": 4
}

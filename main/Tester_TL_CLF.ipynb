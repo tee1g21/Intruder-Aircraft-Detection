{
 "cells": [
  {
   "cell_type": "markdown",
   "metadata": {},
   "source": [
    "# ClearML\n",
    "https://app.clear.ml/dashboard"
   ]
  },
  {
   "cell_type": "markdown",
   "metadata": {},
   "source": [
    "# Tensorflow Classifier"
   ]
  },
  {
   "cell_type": "code",
   "execution_count": 17,
   "metadata": {},
   "outputs": [],
   "source": [
    "from IPython.display import clear_output \n",
    "import gc\n",
    "import os\n",
    "from tl_clf import main\n",
    "\n",
    "epochs = 30\n",
    "train_size = 500\n",
    "N = 5  # Number of runs\n",
    "\n",
    "\n"
   ]
  },
  {
   "cell_type": "markdown",
   "metadata": {},
   "source": [
    "# Weather Conditions 1"
   ]
  },
  {
   "cell_type": "code",
   "execution_count": 18,
   "metadata": {},
   "outputs": [],
   "source": [
    "w1 = 0 \n",
    "w2 = 1"
   ]
  },
  {
   "cell_type": "code",
   "execution_count": 19,
   "metadata": {},
   "outputs": [
    {
     "name": "stdout",
     "output_type": "stream",
     "text": [
      "Starting RUN: 5\n",
      "Seed:  3180891015\n",
      "Num GPUs Available:  0\n"
     ]
    },
    {
     "name": "stderr",
     "output_type": "stream",
     "text": [
      "c:\\github\\Third-Year-Project\\Intruder-Aircraft-Detection\\main\\tl_clf.py:82: SettingWithCopyWarning:\n",
      "\n",
      "\n",
      "A value is trying to be set on a copy of a slice from a DataFrame.\n",
      "Try using .loc[row_indexer,col_indexer] = value instead\n",
      "\n",
      "See the caveats in the documentation: https://pandas.pydata.org/pandas-docs/stable/user_guide/indexing.html#returning-a-view-versus-a-copy\n",
      "\n",
      "c:\\github\\Third-Year-Project\\Intruder-Aircraft-Detection\\main\\tl_clf.py:83: SettingWithCopyWarning:\n",
      "\n",
      "\n",
      "A value is trying to be set on a copy of a slice from a DataFrame.\n",
      "Try using .loc[row_indexer,col_indexer] = value instead\n",
      "\n",
      "See the caveats in the documentation: https://pandas.pydata.org/pandas-docs/stable/user_guide/indexing.html#returning-a-view-versus-a-copy\n",
      "\n"
     ]
    },
    {
     "name": "stdout",
     "output_type": "stream",
     "text": [
      "Removing dataset if pre-existing\n",
      "Copying training files:\n"
     ]
    },
    {
     "name": "stderr",
     "output_type": "stream",
     "text": [
      "Copying files: 100%|██████████| 1000/1000 [00:00<00:00, 1564.51it/s]\n"
     ]
    },
    {
     "name": "stdout",
     "output_type": "stream",
     "text": [
      "Copying validation files:\n"
     ]
    },
    {
     "name": "stderr",
     "output_type": "stream",
     "text": [
      "Copying files: 100%|██████████| 250/250 [00:00<00:00, 1347.36it/s]\n"
     ]
    },
    {
     "name": "stdout",
     "output_type": "stream",
     "text": [
      "Dataset 'weather_01_500' created at C:\\github\\Third-Year-Project\\Intruder-Aircraft-Detection\\datasets\\Custom\\weather_01_500\n",
      "Processing train labels in weather_01_500:\n"
     ]
    },
    {
     "name": "stderr",
     "output_type": "stream",
     "text": [
      "Processing labels: 100%|██████████| 500/500 [00:01<00:00, 392.84it/s]\n"
     ]
    },
    {
     "name": "stdout",
     "output_type": "stream",
     "text": [
      "Processing valid labels in weather_01_500:\n"
     ]
    },
    {
     "name": "stderr",
     "output_type": "stream",
     "text": [
      "Processing labels: 100%|██████████| 125/125 [00:00<00:00, 311.27it/s]\n"
     ]
    },
    {
     "name": "stdout",
     "output_type": "stream",
     "text": [
      "Label correction completed.\n"
     ]
    },
    {
     "name": "stderr",
     "output_type": "stream",
     "text": [
      "Removing existing directories/files: 100%|██████████| 3/3 [00:00<00:00, 6000.43it/s]\n",
      "Copying files: 100%|██████████| 500/500 [00:00<00:00, 761.99it/s]\n",
      "Copying files: 100%|██████████| 500/500 [00:00<00:00, 824.23it/s]\n",
      "Applying augmentations: 100%|██████████| 1250/1250 [00:23<00:00, 53.52it/s]\n"
     ]
    },
    {
     "name": "stdout",
     "output_type": "stream",
     "text": [
      "An error occurred: Expected y_min for bbox (0.0959025, -0.07905450000000001, 0.7032695, 0.3258565, 2) to be in the range [0.0, 1.0], got -0.07905450000000001.\n",
      "An error occurred: Expected y_min for bbox (0.197711, -0.007085499999999981, 0.582121, 0.2491875, 1) to be in the range [0.0, 1.0], got -0.007085499999999981.\n",
      "An error occurred: Expected y_min for bbox (0.197711, -0.007085499999999981, 0.582121, 0.2491875, 1) to be in the range [0.0, 1.0], got -0.007085499999999981.\n",
      "An error occurred: Expected y_min for bbox (0.19744650000000002, -0.022690500000000002, 0.6507875000000001, 0.2795365, 1) to be in the range [0.0, 1.0], got -0.022690500000000002.\n",
      "An error occurred: Expected y_min for bbox (0.0959025, -0.07905450000000001, 0.7032695, 0.3258565, 2) to be in the range [0.0, 1.0], got -0.07905450000000001.\n"
     ]
    },
    {
     "name": "stderr",
     "output_type": "stream",
     "text": [
      "Processing images:  24%|██▎       | 118/500 [00:04<00:11, 34.49it/s]"
     ]
    },
    {
     "name": "stdout",
     "output_type": "stream",
     "text": [
      "An error occurred with C:/github/Third-Year-Project/Intruder-Aircraft-Detection/datasets/Custom/weather_01_500\\images\\train\\24202.jpg: Expected y_min for bbox (0.19744650000000002, -0.022690500000000002, 0.6507875000000001, 0.2795365, 1) to be in the range [0.0, 1.0], got -0.022690500000000002.\n"
     ]
    },
    {
     "name": "stderr",
     "output_type": "stream",
     "text": [
      "Processing images:  26%|██▌       | 130/500 [00:05<00:11, 33.34it/s]"
     ]
    },
    {
     "name": "stdout",
     "output_type": "stream",
     "text": [
      "An error occurred with C:/github/Third-Year-Project/Intruder-Aircraft-Detection/datasets/Custom/weather_01_500\\images\\train\\24273.jpg: Expected y_min for bbox (0.197711, -0.007085499999999981, 0.582121, 0.2491875, 1) to be in the range [0.0, 1.0], got -0.007085499999999981.\n"
     ]
    },
    {
     "name": "stderr",
     "output_type": "stream",
     "text": [
      "Processing images:  74%|███████▍  | 371/500 [00:12<00:03, 34.93it/s]"
     ]
    },
    {
     "name": "stdout",
     "output_type": "stream",
     "text": [
      "An error occurred with C:/github/Third-Year-Project/Intruder-Aircraft-Detection/datasets/Custom/weather_01_500\\images\\train\\48882.jpg: Expected y_min for bbox (0.0959025, -0.07905450000000001, 0.7032695, 0.3258565, 2) to be in the range [0.0, 1.0], got -0.07905450000000001.\n"
     ]
    },
    {
     "name": "stderr",
     "output_type": "stream",
     "text": [
      "Processing images: 100%|██████████| 500/500 [00:16<00:00, 30.93it/s]\n",
      "Processing images:  24%|██▎       | 411/1745 [00:16<00:40, 32.65it/s]"
     ]
    },
    {
     "name": "stdout",
     "output_type": "stream",
     "text": [
      "An error occurred with C:/github/Third-Year-Project/Intruder-Aircraft-Detection/datasets/Custom/weather_01_500\\images\\train-aug\\24202.jpg: Expected y_min for bbox (0.19744650000000002, -0.022690500000000002, 0.6507875000000001, 0.2795365, 1) to be in the range [0.0, 1.0], got -0.022690500000000002.\n"
     ]
    },
    {
     "name": "stderr",
     "output_type": "stream",
     "text": [
      "Processing images:  26%|██▌       | 446/1745 [00:18<00:41, 31.64it/s]"
     ]
    },
    {
     "name": "stdout",
     "output_type": "stream",
     "text": [
      "An error occurred with C:/github/Third-Year-Project/Intruder-Aircraft-Detection/datasets/Custom/weather_01_500\\images\\train-aug\\24273.jpg: Expected y_min for bbox (0.197711, -0.007085499999999981, 0.582121, 0.2491875, 1) to be in the range [0.0, 1.0], got -0.007085499999999981.\n"
     ]
    },
    {
     "name": "stderr",
     "output_type": "stream",
     "text": [
      "Processing images:  74%|███████▎  | 1286/1745 [00:44<00:13, 34.57it/s]"
     ]
    },
    {
     "name": "stdout",
     "output_type": "stream",
     "text": [
      "An error occurred with C:/github/Third-Year-Project/Intruder-Aircraft-Detection/datasets/Custom/weather_01_500\\images\\train-aug\\48882.jpg: Expected y_min for bbox (0.0959025, -0.07905450000000001, 0.7032695, 0.3258565, 2) to be in the range [0.0, 1.0], got -0.07905450000000001.\n"
     ]
    },
    {
     "name": "stderr",
     "output_type": "stream",
     "text": [
      "Processing images:  75%|███████▌  | 1311/1745 [00:44<00:13, 33.19it/s]"
     ]
    },
    {
     "name": "stdout",
     "output_type": "stream",
     "text": [
      "An error occurred with C:/github/Third-Year-Project/Intruder-Aircraft-Detection/datasets/Custom/weather_01_500\\images\\train-aug\\49056-rotate2-ee8055c2.jpg: Expected y_min for bbox (0.04320650000000004, -5.000000000143778e-07, 0.9252475, 0.7354665, 2) to be in the range [0.0, 1.0], got -5.000000000143778e-07.\n"
     ]
    },
    {
     "name": "stderr",
     "output_type": "stream",
     "text": [
      "Processing images:  87%|████████▋ | 1520/1745 [00:50<00:06, 35.57it/s]"
     ]
    },
    {
     "name": "stdout",
     "output_type": "stream",
     "text": [
      "An error occurred with C:/github/Third-Year-Project/Intruder-Aircraft-Detection/datasets/Custom/weather_01_500\\images\\train-aug\\49687-rotate-fca109a7.jpg: Expected x_min for bbox (-5.000000000143778e-07, 0.372367, 0.7026844999999999, 0.919595, 2) to be in the range [0.0, 1.0], got -5.000000000143778e-07.\n"
     ]
    },
    {
     "name": "stderr",
     "output_type": "stream",
     "text": [
      "Processing images:  89%|████████▉ | 1549/1745 [00:51<00:05, 35.78it/s]"
     ]
    },
    {
     "name": "stdout",
     "output_type": "stream",
     "text": [
      "An error occurred with C:/github/Third-Year-Project/Intruder-Aircraft-Detection/datasets/Custom/weather_01_500\\images\\train-aug\\49724-rotate2-6ee7fefd.jpg: list index out of range\n"
     ]
    },
    {
     "name": "stderr",
     "output_type": "stream",
     "text": [
      "Processing images: 100%|██████████| 1745/1745 [00:57<00:00, 30.27it/s]\n",
      "Processing images: 100%|██████████| 125/125 [00:04<00:00, 29.15it/s]\n",
      "Moving images in train: 100%|██████████| 497/497 [00:01<00:00, 274.15it/s]\n",
      "Moving images in train-aug: 100%|██████████| 1739/1739 [00:06<00:00, 266.11it/s]\n",
      "Moving images in valid: 100%|██████████| 125/125 [00:00<00:00, 282.43it/s]\n"
     ]
    },
    {
     "name": "stdout",
     "output_type": "stream",
     "text": [
      "Found 497 files belonging to 3 classes.\n",
      "Found 1739 files belonging to 3 classes.\n",
      "Found 125 files belonging to 3 classes.\n",
      "ClearML Task: created new task id=6b85322c296c4c67b99c63742bf0acc5\n",
      "ClearML results page: https://app.clear.ml/projects/1209ba3714444886b3124026634c98ea/experiments/6b85322c296c4c67b99c63742bf0acc5/output/log\n",
      "Training model...\n",
      "Epoch 1/30\n",
      "\u001b[1m16/16\u001b[0m \u001b[32m━━━━━━━━━━━━━━━━━━━━\u001b[0m\u001b[37m\u001b[0m \u001b[1m7s\u001b[0m 280ms/step - accuracy: 0.3584 - loss: 2.9213 - precision: 0.3585 - recall: 0.1734 - val_accuracy: 0.3360 - val_loss: 1.0996 - val_precision: 0.0000e+00 - val_recall: 0.0000e+00\n",
      "Epoch 2/30\n",
      "\u001b[1m16/16\u001b[0m \u001b[32m━━━━━━━━━━━━━━━━━━━━\u001b[0m\u001b[37m\u001b[0m \u001b[1m4s\u001b[0m 225ms/step - accuracy: 0.3330 - loss: 1.1001 - precision: 0.0000e+00 - recall: 0.0000e+00 - val_accuracy: 0.3520 - val_loss: 1.0984 - val_precision: 0.0000e+00 - val_recall: 0.0000e+00\n",
      "Epoch 3/30\n",
      "\u001b[1m16/16\u001b[0m \u001b[32m━━━━━━━━━━━━━━━━━━━━\u001b[0m\u001b[37m\u001b[0m \u001b[1m4s\u001b[0m 230ms/step - accuracy: 0.3684 - loss: 1.0983 - precision: 0.0000e+00 - recall: 0.0000e+00 - val_accuracy: 0.3600 - val_loss: 1.0983 - val_precision: 0.0000e+00 - val_recall: 0.0000e+00\n",
      "Epoch 4/30\n",
      "\u001b[1m16/16\u001b[0m \u001b[32m━━━━━━━━━━━━━━━━━━━━\u001b[0m\u001b[37m\u001b[0m \u001b[1m4s\u001b[0m 227ms/step - accuracy: 0.3597 - loss: 1.0980 - precision: 0.0000e+00 - recall: 0.0000e+00 - val_accuracy: 0.3360 - val_loss: 1.0963 - val_precision: 0.0000e+00 - val_recall: 0.0000e+00\n",
      "Epoch 5/30\n",
      "\u001b[1m16/16\u001b[0m \u001b[32m━━━━━━━━━━━━━━━━━━━━\u001b[0m\u001b[37m\u001b[0m \u001b[1m4s\u001b[0m 220ms/step - accuracy: 0.3698 - loss: 1.0969 - precision: 0.0000e+00 - recall: 0.0000e+00 - val_accuracy: 0.4560 - val_loss: 1.0981 - val_precision: 0.0000e+00 - val_recall: 0.0000e+00\n",
      "Epoch 6/30\n",
      "\u001b[1m16/16\u001b[0m \u001b[32m━━━━━━━━━━━━━━━━━━━━\u001b[0m\u001b[37m\u001b[0m \u001b[1m4s\u001b[0m 219ms/step - accuracy: 0.4093 - loss: 1.0980 - precision: 0.0000e+00 - recall: 0.0000e+00 - val_accuracy: 0.4320 - val_loss: 1.0960 - val_precision: 0.0000e+00 - val_recall: 0.0000e+00\n",
      "Epoch 7/30\n",
      "\u001b[1m16/16\u001b[0m \u001b[32m━━━━━━━━━━━━━━━━━━━━\u001b[0m\u001b[37m\u001b[0m \u001b[1m4s\u001b[0m 224ms/step - accuracy: 0.4552 - loss: 1.0913 - precision: 0.1765 - recall: 3.5926e-04 - val_accuracy: 0.5280 - val_loss: 1.0816 - val_precision: 0.0000e+00 - val_recall: 0.0000e+00\n",
      "Epoch 8/30\n",
      "\u001b[1m16/16\u001b[0m \u001b[32m━━━━━━━━━━━━━━━━━━━━\u001b[0m\u001b[37m\u001b[0m \u001b[1m4s\u001b[0m 220ms/step - accuracy: 0.5621 - loss: 1.0642 - precision: 0.4212 - recall: 0.0150 - val_accuracy: 0.5200 - val_loss: 1.0668 - val_precision: 0.0000e+00 - val_recall: 0.0000e+00\n",
      "Epoch 9/30\n",
      "\u001b[1m16/16\u001b[0m \u001b[32m━━━━━━━━━━━━━━━━━━━━\u001b[0m\u001b[37m\u001b[0m \u001b[1m4s\u001b[0m 219ms/step - accuracy: 0.4962 - loss: 1.0579 - precision: 0.3978 - recall: 0.0115 - val_accuracy: 0.5200 - val_loss: 1.0346 - val_precision: 0.6000 - val_recall: 0.0960\n",
      "Epoch 10/30\n",
      "\u001b[1m16/16\u001b[0m \u001b[32m━━━━━━━━━━━━━━━━━━━━\u001b[0m\u001b[37m\u001b[0m \u001b[1m4s\u001b[0m 220ms/step - accuracy: 0.5778 - loss: 0.9629 - precision: 0.7075 - recall: 0.2051 - val_accuracy: 0.5920 - val_loss: 0.9757 - val_precision: 0.6923 - val_recall: 0.1440\n",
      "Epoch 11/30\n",
      "\u001b[1m16/16\u001b[0m \u001b[32m━━━━━━━━━━━━━━━━━━━━\u001b[0m\u001b[37m\u001b[0m \u001b[1m4s\u001b[0m 240ms/step - accuracy: 0.5937 - loss: 0.9530 - precision: 0.7850 - recall: 0.2501 - val_accuracy: 0.5920 - val_loss: 1.0589 - val_precision: 0.5833 - val_recall: 0.2800\n",
      "Epoch 12/30\n",
      "\u001b[1m16/16\u001b[0m \u001b[32m━━━━━━━━━━━━━━━━━━━━\u001b[0m\u001b[37m\u001b[0m \u001b[1m4s\u001b[0m 260ms/step - accuracy: 0.6716 - loss: 0.7978 - precision: 0.7285 - recall: 0.4881 - val_accuracy: 0.6560 - val_loss: 0.9270 - val_precision: 0.7385 - val_recall: 0.3840\n",
      "Epoch 13/30\n",
      "\u001b[1m16/16\u001b[0m \u001b[32m━━━━━━━━━━━━━━━━━━━━\u001b[0m\u001b[37m\u001b[0m \u001b[1m4s\u001b[0m 229ms/step - accuracy: 0.6900 - loss: 0.7202 - precision: 0.7934 - recall: 0.5322 - val_accuracy: 0.6000 - val_loss: 0.9637 - val_precision: 0.6667 - val_recall: 0.5280\n",
      "Epoch 14/30\n",
      "\u001b[1m16/16\u001b[0m \u001b[32m━━━━━━━━━━━━━━━━━━━━\u001b[0m\u001b[37m\u001b[0m \u001b[1m4s\u001b[0m 223ms/step - accuracy: 0.6998 - loss: 0.6757 - precision: 0.7804 - recall: 0.6199 - val_accuracy: 0.6080 - val_loss: 1.0427 - val_precision: 0.6186 - val_recall: 0.4800\n",
      "Epoch 15/30\n",
      "\u001b[1m16/16\u001b[0m \u001b[32m━━━━━━━━━━━━━━━━━━━━\u001b[0m\u001b[37m\u001b[0m \u001b[1m4s\u001b[0m 225ms/step - accuracy: 0.7348 - loss: 0.5914 - precision: 0.8066 - recall: 0.6612 - val_accuracy: 0.7360 - val_loss: 0.9347 - val_precision: 0.7624 - val_recall: 0.6160\n",
      "Epoch 16/30\n",
      "\u001b[1m16/16\u001b[0m \u001b[32m━━━━━━━━━━━━━━━━━━━━\u001b[0m\u001b[37m\u001b[0m \u001b[1m4s\u001b[0m 221ms/step - accuracy: 0.7603 - loss: 0.5317 - precision: 0.8236 - recall: 0.6975 - val_accuracy: 0.7360 - val_loss: 1.0381 - val_precision: 0.7479 - val_recall: 0.7120\n",
      "Epoch 17/30\n",
      "\u001b[1m16/16\u001b[0m \u001b[32m━━━━━━━━━━━━━━━━━━━━\u001b[0m\u001b[37m\u001b[0m \u001b[1m4s\u001b[0m 224ms/step - accuracy: 0.7731 - loss: 0.4907 - precision: 0.8099 - recall: 0.7307 - val_accuracy: 0.7280 - val_loss: 1.0569 - val_precision: 0.7414 - val_recall: 0.6880\n",
      "Epoch 18/30\n",
      "\u001b[1m16/16\u001b[0m \u001b[32m━━━━━━━━━━━━━━━━━━━━\u001b[0m\u001b[37m\u001b[0m \u001b[1m4s\u001b[0m 222ms/step - accuracy: 0.8133 - loss: 0.4126 - precision: 0.8522 - recall: 0.7867 - val_accuracy: 0.7600 - val_loss: 1.0375 - val_precision: 0.7797 - val_recall: 0.7360\n",
      "Epoch 19/30\n",
      "\u001b[1m16/16\u001b[0m \u001b[32m━━━━━━━━━━━━━━━━━━━━\u001b[0m\u001b[37m\u001b[0m \u001b[1m4s\u001b[0m 220ms/step - accuracy: 0.8511 - loss: 0.3674 - precision: 0.8734 - recall: 0.8185 - val_accuracy: 0.7360 - val_loss: 0.8228 - val_precision: 0.7895 - val_recall: 0.7200\n",
      "Epoch 20/30\n",
      "\u001b[1m16/16\u001b[0m \u001b[32m━━━━━━━━━━━━━━━━━━━━\u001b[0m\u001b[37m\u001b[0m \u001b[1m4s\u001b[0m 222ms/step - accuracy: 0.8502 - loss: 0.3931 - precision: 0.8762 - recall: 0.8188 - val_accuracy: 0.7360 - val_loss: 1.1401 - val_precision: 0.7395 - val_recall: 0.7040\n",
      "Epoch 21/30\n",
      "\u001b[1m16/16\u001b[0m \u001b[32m━━━━━━━━━━━━━━━━━━━━\u001b[0m\u001b[37m\u001b[0m \u001b[1m4s\u001b[0m 223ms/step - accuracy: 0.8435 - loss: 0.3574 - precision: 0.8636 - recall: 0.8314 - val_accuracy: 0.7600 - val_loss: 0.9024 - val_precision: 0.7881 - val_recall: 0.7440\n",
      "Epoch 22/30\n",
      "\u001b[1m16/16\u001b[0m \u001b[32m━━━━━━━━━━━━━━━━━━━━\u001b[0m\u001b[37m\u001b[0m \u001b[1m4s\u001b[0m 228ms/step - accuracy: 0.8664 - loss: 0.3122 - precision: 0.8934 - recall: 0.8622 - val_accuracy: 0.7360 - val_loss: 1.3035 - val_precision: 0.7459 - val_recall: 0.7280\n",
      "Epoch 23/30\n",
      "\u001b[1m16/16\u001b[0m \u001b[32m━━━━━━━━━━━━━━━━━━━━\u001b[0m\u001b[37m\u001b[0m \u001b[1m4s\u001b[0m 226ms/step - accuracy: 0.8353 - loss: 0.4062 - precision: 0.8480 - recall: 0.8116 - val_accuracy: 0.7280 - val_loss: 1.1602 - val_precision: 0.7417 - val_recall: 0.7120\n",
      "Epoch 24/30\n",
      "\u001b[1m16/16\u001b[0m \u001b[32m━━━━━━━━━━━━━━━━━━━━\u001b[0m\u001b[37m\u001b[0m \u001b[1m4s\u001b[0m 222ms/step - accuracy: 0.8886 - loss: 0.2711 - precision: 0.8998 - recall: 0.8745 - val_accuracy: 0.7840 - val_loss: 1.4451 - val_precision: 0.7881 - val_recall: 0.7440\n",
      "Epoch 25/30\n",
      "\u001b[1m16/16\u001b[0m \u001b[32m━━━━━━━━━━━━━━━━━━━━\u001b[0m\u001b[37m\u001b[0m \u001b[1m4s\u001b[0m 219ms/step - accuracy: 0.9275 - loss: 0.2158 - precision: 0.9363 - recall: 0.9166 - val_accuracy: 0.7600 - val_loss: 1.4509 - val_precision: 0.7623 - val_recall: 0.7440\n",
      "Epoch 26/30\n",
      "\u001b[1m16/16\u001b[0m \u001b[32m━━━━━━━━━━━━━━━━━━━━\u001b[0m\u001b[37m\u001b[0m \u001b[1m4s\u001b[0m 219ms/step - accuracy: 0.9297 - loss: 0.1911 - precision: 0.9346 - recall: 0.9206 - val_accuracy: 0.7840 - val_loss: 1.3791 - val_precision: 0.7899 - val_recall: 0.7520\n",
      "Epoch 27/30\n",
      "\u001b[1m16/16\u001b[0m \u001b[32m━━━━━━━━━━━━━━━━━━━━\u001b[0m\u001b[37m\u001b[0m \u001b[1m4s\u001b[0m 222ms/step - accuracy: 0.9019 - loss: 0.2295 - precision: 0.9089 - recall: 0.8926 - val_accuracy: 0.7520 - val_loss: 1.2999 - val_precision: 0.7561 - val_recall: 0.7440\n",
      "Epoch 28/30\n",
      "\u001b[1m16/16\u001b[0m \u001b[32m━━━━━━━━━━━━━━━━━━━━\u001b[0m\u001b[37m\u001b[0m \u001b[1m4s\u001b[0m 220ms/step - accuracy: 0.9434 - loss: 0.1960 - precision: 0.9456 - recall: 0.9271 - val_accuracy: 0.7520 - val_loss: 1.3838 - val_precision: 0.7581 - val_recall: 0.7520\n",
      "Epoch 29/30\n",
      "\u001b[1m16/16\u001b[0m \u001b[32m━━━━━━━━━━━━━━━━━━━━\u001b[0m\u001b[37m\u001b[0m \u001b[1m4s\u001b[0m 221ms/step - accuracy: 0.9304 - loss: 0.1781 - precision: 0.9353 - recall: 0.9224 - val_accuracy: 0.7360 - val_loss: 1.5128 - val_precision: 0.7521 - val_recall: 0.7280\n",
      "Epoch 30/30\n",
      "\u001b[1m16/16\u001b[0m \u001b[32m━━━━━━━━━━━━━━━━━━━━\u001b[0m\u001b[37m\u001b[0m \u001b[1m4s\u001b[0m 225ms/step - accuracy: 0.9281 - loss: 0.1636 - precision: 0.9425 - recall: 0.9226 - val_accuracy: 0.8080 - val_loss: 1.2740 - val_precision: 0.8017 - val_recall: 0.7760\n",
      "Predicting on validation set...\n",
      "\u001b[1m4/4\u001b[0m \u001b[32m━━━━━━━━━━━━━━━━━━━━\u001b[0m\u001b[37m\u001b[0m \u001b[1m0s\u001b[0m 67ms/step\n",
      "Sending metrics to clearML...\n",
      "done\n",
      "ClearML Task: created new task id=44c814cba6504df69e500ae987bc0254\n",
      "ClearML results page: https://app.clear.ml/projects/1209ba3714444886b3124026634c98ea/experiments/44c814cba6504df69e500ae987bc0254/output/log\n",
      "Training model...\n",
      "Epoch 1/30\n",
      "\u001b[1m55/55\u001b[0m \u001b[32m━━━━━━━━━━━━━━━━━━━━\u001b[0m\u001b[37m\u001b[0m \u001b[1m15s\u001b[0m 242ms/step - accuracy: 0.3520 - loss: 1.5320 - precision: 0.3068 - recall: 0.0974 - val_accuracy: 0.3360 - val_loss: 1.0994 - val_precision: 0.0000e+00 - val_recall: 0.0000e+00\n",
      "Epoch 2/30\n",
      "\u001b[1m55/55\u001b[0m \u001b[32m━━━━━━━━━━━━━━━━━━━━\u001b[0m\u001b[37m\u001b[0m \u001b[1m12s\u001b[0m 220ms/step - accuracy: 0.4042 - loss: 1.0707 - precision: 0.5008 - recall: 0.0376 - val_accuracy: 0.3280 - val_loss: 1.1024 - val_precision: 0.0000e+00 - val_recall: 0.0000e+00\n",
      "Epoch 3/30\n",
      "\u001b[1m55/55\u001b[0m \u001b[32m━━━━━━━━━━━━━━━━━━━━\u001b[0m\u001b[37m\u001b[0m \u001b[1m12s\u001b[0m 219ms/step - accuracy: 0.4523 - loss: 1.0443 - precision: 0.7034 - recall: 0.0903 - val_accuracy: 0.5040 - val_loss: 1.0601 - val_precision: 0.6500 - val_recall: 0.1040\n",
      "Epoch 4/30\n",
      "\u001b[1m55/55\u001b[0m \u001b[32m━━━━━━━━━━━━━━━━━━━━\u001b[0m\u001b[37m\u001b[0m \u001b[1m13s\u001b[0m 235ms/step - accuracy: 0.5817 - loss: 0.9673 - precision: 0.7213 - recall: 0.2024 - val_accuracy: 0.5520 - val_loss: 0.9643 - val_precision: 0.6400 - val_recall: 0.3840\n",
      "Epoch 5/30\n",
      "\u001b[1m55/55\u001b[0m \u001b[32m━━━━━━━━━━━━━━━━━━━━\u001b[0m\u001b[37m\u001b[0m \u001b[1m12s\u001b[0m 219ms/step - accuracy: 0.6256 - loss: 0.8574 - precision: 0.7331 - recall: 0.4377 - val_accuracy: 0.6000 - val_loss: 0.8768 - val_precision: 0.6842 - val_recall: 0.4160\n",
      "Epoch 6/30\n",
      "\u001b[1m55/55\u001b[0m \u001b[32m━━━━━━━━━━━━━━━━━━━━\u001b[0m\u001b[37m\u001b[0m \u001b[1m12s\u001b[0m 218ms/step - accuracy: 0.7236 - loss: 0.6851 - precision: 0.8001 - recall: 0.5929 - val_accuracy: 0.6320 - val_loss: 0.8672 - val_precision: 0.6765 - val_recall: 0.5520\n",
      "Epoch 7/30\n",
      "\u001b[1m55/55\u001b[0m \u001b[32m━━━━━━━━━━━━━━━━━━━━\u001b[0m\u001b[37m\u001b[0m \u001b[1m12s\u001b[0m 221ms/step - accuracy: 0.7676 - loss: 0.5768 - precision: 0.8310 - recall: 0.6874 - val_accuracy: 0.6240 - val_loss: 0.9921 - val_precision: 0.6637 - val_recall: 0.6000\n",
      "Epoch 8/30\n",
      "\u001b[1m55/55\u001b[0m \u001b[32m━━━━━━━━━━━━━━━━━━━━\u001b[0m\u001b[37m\u001b[0m \u001b[1m12s\u001b[0m 222ms/step - accuracy: 0.7921 - loss: 0.5114 - precision: 0.8397 - recall: 0.7433 - val_accuracy: 0.6400 - val_loss: 0.8129 - val_precision: 0.7973 - val_recall: 0.4720\n",
      "Epoch 9/30\n",
      "\u001b[1m55/55\u001b[0m \u001b[32m━━━━━━━━━━━━━━━━━━━━\u001b[0m\u001b[37m\u001b[0m \u001b[1m12s\u001b[0m 220ms/step - accuracy: 0.7510 - loss: 0.6341 - precision: 0.8164 - recall: 0.6442 - val_accuracy: 0.6960 - val_loss: 0.7830 - val_precision: 0.7257 - val_recall: 0.6560\n",
      "Epoch 10/30\n",
      "\u001b[1m55/55\u001b[0m \u001b[32m━━━━━━━━━━━━━━━━━━━━\u001b[0m\u001b[37m\u001b[0m \u001b[1m12s\u001b[0m 221ms/step - accuracy: 0.8319 - loss: 0.4079 - precision: 0.8754 - recall: 0.7937 - val_accuracy: 0.7600 - val_loss: 0.8399 - val_precision: 0.7563 - val_recall: 0.7200\n",
      "Epoch 11/30\n",
      "\u001b[1m55/55\u001b[0m \u001b[32m━━━━━━━━━━━━━━━━━━━━\u001b[0m\u001b[37m\u001b[0m \u001b[1m12s\u001b[0m 218ms/step - accuracy: 0.8730 - loss: 0.3381 - precision: 0.8938 - recall: 0.8446 - val_accuracy: 0.8160 - val_loss: 0.7440 - val_precision: 0.8264 - val_recall: 0.8000\n",
      "Epoch 12/30\n",
      "\u001b[1m55/55\u001b[0m \u001b[32m━━━━━━━━━━━━━━━━━━━━\u001b[0m\u001b[37m\u001b[0m \u001b[1m12s\u001b[0m 219ms/step - accuracy: 0.8715 - loss: 0.3284 - precision: 0.8910 - recall: 0.8390 - val_accuracy: 0.7920 - val_loss: 0.9988 - val_precision: 0.8083 - val_recall: 0.7760\n",
      "Epoch 13/30\n",
      "\u001b[1m55/55\u001b[0m \u001b[32m━━━━━━━━━━━━━━━━━━━━\u001b[0m\u001b[37m\u001b[0m \u001b[1m12s\u001b[0m 218ms/step - accuracy: 0.8975 - loss: 0.2572 - precision: 0.9059 - recall: 0.8812 - val_accuracy: 0.7920 - val_loss: 0.9099 - val_precision: 0.7920 - val_recall: 0.7920\n",
      "Epoch 14/30\n",
      "\u001b[1m55/55\u001b[0m \u001b[32m━━━━━━━━━━━━━━━━━━━━\u001b[0m\u001b[37m\u001b[0m \u001b[1m12s\u001b[0m 219ms/step - accuracy: 0.9292 - loss: 0.2148 - precision: 0.9388 - recall: 0.9132 - val_accuracy: 0.7680 - val_loss: 1.0137 - val_precision: 0.7805 - val_recall: 0.7680\n",
      "Epoch 15/30\n",
      "\u001b[1m55/55\u001b[0m \u001b[32m━━━━━━━━━━━━━━━━━━━━\u001b[0m\u001b[37m\u001b[0m \u001b[1m12s\u001b[0m 218ms/step - accuracy: 0.9294 - loss: 0.1932 - precision: 0.9349 - recall: 0.9179 - val_accuracy: 0.7680 - val_loss: 1.3631 - val_precision: 0.7661 - val_recall: 0.7600\n",
      "Epoch 16/30\n",
      "\u001b[1m55/55\u001b[0m \u001b[32m━━━━━━━━━━━━━━━━━━━━\u001b[0m\u001b[37m\u001b[0m \u001b[1m12s\u001b[0m 218ms/step - accuracy: 0.9186 - loss: 0.2141 - precision: 0.9238 - recall: 0.9091 - val_accuracy: 0.7520 - val_loss: 1.1486 - val_precision: 0.7581 - val_recall: 0.7520\n",
      "Epoch 17/30\n",
      "\u001b[1m55/55\u001b[0m \u001b[32m━━━━━━━━━━━━━━━━━━━━\u001b[0m\u001b[37m\u001b[0m \u001b[1m12s\u001b[0m 218ms/step - accuracy: 0.9582 - loss: 0.1341 - precision: 0.9649 - recall: 0.9482 - val_accuracy: 0.7840 - val_loss: 1.2800 - val_precision: 0.7903 - val_recall: 0.7840\n",
      "Epoch 18/30\n",
      "\u001b[1m55/55\u001b[0m \u001b[32m━━━━━━━━━━━━━━━━━━━━\u001b[0m\u001b[37m\u001b[0m \u001b[1m12s\u001b[0m 220ms/step - accuracy: 0.9501 - loss: 0.1350 - precision: 0.9590 - recall: 0.9433 - val_accuracy: 0.8000 - val_loss: 1.1832 - val_precision: 0.7984 - val_recall: 0.7920\n",
      "Epoch 19/30\n",
      "\u001b[1m55/55\u001b[0m \u001b[32m━━━━━━━━━━━━━━━━━━━━\u001b[0m\u001b[37m\u001b[0m \u001b[1m12s\u001b[0m 218ms/step - accuracy: 0.9364 - loss: 0.1530 - precision: 0.9436 - recall: 0.9328 - val_accuracy: 0.7760 - val_loss: 1.3404 - val_precision: 0.7823 - val_recall: 0.7760\n",
      "Epoch 20/30\n",
      "\u001b[1m55/55\u001b[0m \u001b[32m━━━━━━━━━━━━━━━━━━━━\u001b[0m\u001b[37m\u001b[0m \u001b[1m12s\u001b[0m 218ms/step - accuracy: 0.9558 - loss: 0.1434 - precision: 0.9566 - recall: 0.9488 - val_accuracy: 0.7600 - val_loss: 1.2639 - val_precision: 0.7600 - val_recall: 0.7600\n",
      "Epoch 21/30\n",
      "\u001b[1m55/55\u001b[0m \u001b[32m━━━━━━━━━━━━━━━━━━━━\u001b[0m\u001b[37m\u001b[0m \u001b[1m12s\u001b[0m 218ms/step - accuracy: 0.9710 - loss: 0.0929 - precision: 0.9726 - recall: 0.9693 - val_accuracy: 0.7760 - val_loss: 1.3064 - val_precision: 0.7742 - val_recall: 0.7680\n",
      "Epoch 22/30\n",
      "\u001b[1m55/55\u001b[0m \u001b[32m━━━━━━━━━━━━━━━━━━━━\u001b[0m\u001b[37m\u001b[0m \u001b[1m12s\u001b[0m 217ms/step - accuracy: 0.9750 - loss: 0.0800 - precision: 0.9762 - recall: 0.9733 - val_accuracy: 0.7680 - val_loss: 1.2930 - val_precision: 0.7724 - val_recall: 0.7600\n",
      "Epoch 23/30\n",
      "\u001b[1m55/55\u001b[0m \u001b[32m━━━━━━━━━━━━━━━━━━━━\u001b[0m\u001b[37m\u001b[0m \u001b[1m12s\u001b[0m 218ms/step - accuracy: 0.9734 - loss: 0.0872 - precision: 0.9743 - recall: 0.9678 - val_accuracy: 0.7360 - val_loss: 1.5835 - val_precision: 0.7360 - val_recall: 0.7360\n",
      "Epoch 24/30\n",
      "\u001b[1m55/55\u001b[0m \u001b[32m━━━━━━━━━━━━━━━━━━━━\u001b[0m\u001b[37m\u001b[0m \u001b[1m12s\u001b[0m 217ms/step - accuracy: 0.9734 - loss: 0.0584 - precision: 0.9806 - recall: 0.9727 - val_accuracy: 0.7680 - val_loss: 1.4486 - val_precision: 0.7680 - val_recall: 0.7680\n",
      "Epoch 25/30\n",
      "\u001b[1m55/55\u001b[0m \u001b[32m━━━━━━━━━━━━━━━━━━━━\u001b[0m\u001b[37m\u001b[0m \u001b[1m12s\u001b[0m 218ms/step - accuracy: 0.9766 - loss: 0.0775 - precision: 0.9788 - recall: 0.9720 - val_accuracy: 0.7840 - val_loss: 1.2725 - val_precision: 0.7840 - val_recall: 0.7840\n",
      "Epoch 26/30\n",
      "\u001b[1m55/55\u001b[0m \u001b[32m━━━━━━━━━━━━━━━━━━━━\u001b[0m\u001b[37m\u001b[0m \u001b[1m12s\u001b[0m 217ms/step - accuracy: 0.9805 - loss: 0.0715 - precision: 0.9808 - recall: 0.9793 - val_accuracy: 0.7600 - val_loss: 1.5080 - val_precision: 0.7600 - val_recall: 0.7600\n",
      "Epoch 27/30\n",
      "\u001b[1m55/55\u001b[0m \u001b[32m━━━━━━━━━━━━━━━━━━━━\u001b[0m\u001b[37m\u001b[0m \u001b[1m12s\u001b[0m 217ms/step - accuracy: 0.9791 - loss: 0.0620 - precision: 0.9808 - recall: 0.9737 - val_accuracy: 0.7600 - val_loss: 1.6040 - val_precision: 0.7600 - val_recall: 0.7600\n",
      "Epoch 28/30\n",
      "\u001b[1m55/55\u001b[0m \u001b[32m━━━━━━━━━━━━━━━━━━━━\u001b[0m\u001b[37m\u001b[0m \u001b[1m12s\u001b[0m 221ms/step - accuracy: 0.9853 - loss: 0.0518 - precision: 0.9855 - recall: 0.9826 - val_accuracy: 0.7600 - val_loss: 1.4999 - val_precision: 0.7661 - val_recall: 0.7600\n",
      "Epoch 29/30\n",
      "\u001b[1m55/55\u001b[0m \u001b[32m━━━━━━━━━━━━━━━━━━━━\u001b[0m\u001b[37m\u001b[0m \u001b[1m12s\u001b[0m 221ms/step - accuracy: 0.9818 - loss: 0.0522 - precision: 0.9838 - recall: 0.9813 - val_accuracy: 0.7280 - val_loss: 1.8821 - val_precision: 0.7280 - val_recall: 0.7280\n",
      "Epoch 30/30\n",
      "\u001b[1m55/55\u001b[0m \u001b[32m━━━━━━━━━━━━━━━━━━━━\u001b[0m\u001b[37m\u001b[0m \u001b[1m12s\u001b[0m 219ms/step - accuracy: 0.9904 - loss: 0.0386 - precision: 0.9908 - recall: 0.9888 - val_accuracy: 0.7680 - val_loss: 1.3932 - val_precision: 0.7680 - val_recall: 0.7680\n",
      "Predicting on validation set...\n",
      "\u001b[1m4/4\u001b[0m \u001b[32m━━━━━━━━━━━━━━━━━━━━\u001b[0m\u001b[37m\u001b[0m \u001b[1m0s\u001b[0m 68ms/step\n",
      "Sending metrics to clearML...\n",
      "done\n"
     ]
    }
   ],
   "source": [
    "# combination 2: rotate 5 + rotate 20 250%\n",
    "task_name = 'r5,20'\n",
    "sub_project_name = 'ROTATE_20'\n",
    "\n",
    "augmentation_metadata = {\n",
    "        'methods': {        \n",
    "            'rotate': {\n",
    "                'parameters': {\n",
    "                    'angle_limit': 5, # Maximum angle of rotation\n",
    "                    'p': 1.0  # Probability of applying the augmentation\n",
    "                },\n",
    "                'apply_to_percentage': 1.25  # 50% of the training images\n",
    "            },\n",
    "            'rotate2': {\n",
    "                'parameters': {\n",
    "                    'angle_limit': 20, # Maximum angle of rotation\n",
    "                    'p': 1.0  # Probability of applying the augmentation\n",
    "                },\n",
    "                'apply_to_percentage': 1.25  # 50% of the training images\n",
    "            }        \n",
    "        }\n",
    "    }\n",
    "\n",
    "\n",
    "for i in range(N):\n",
    "    RUN = i + 1\n",
    "    try:\n",
    "        print(f\"Starting RUN: {RUN}\")\n",
    "        main(RUN, augmentation_metadata, task_name, sub_project_name, epochs, train_size, w1, w2)\n",
    "    except Exception as e:\n",
    "        print(f\"Error in RUN: {RUN}\")\n",
    "        print(e)\n",
    "        break\n",
    "    finally:\n",
    "        clear_output(wait=True)  # Clear the output to avoid scrolling\n",
    "        gc.collect()  # Collect garbage to avoid memory leaks"
   ]
  },
  {
   "cell_type": "code",
   "execution_count": 20,
   "metadata": {},
   "outputs": [
    {
     "name": "stdout",
     "output_type": "stream",
     "text": [
      "Starting RUN: 5\n",
      "Seed:  3184163918\n",
      "Num GPUs Available:  0\n"
     ]
    },
    {
     "name": "stderr",
     "output_type": "stream",
     "text": [
      "c:\\github\\Third-Year-Project\\Intruder-Aircraft-Detection\\main\\tl_clf.py:82: SettingWithCopyWarning:\n",
      "\n",
      "\n",
      "A value is trying to be set on a copy of a slice from a DataFrame.\n",
      "Try using .loc[row_indexer,col_indexer] = value instead\n",
      "\n",
      "See the caveats in the documentation: https://pandas.pydata.org/pandas-docs/stable/user_guide/indexing.html#returning-a-view-versus-a-copy\n",
      "\n",
      "c:\\github\\Third-Year-Project\\Intruder-Aircraft-Detection\\main\\tl_clf.py:83: SettingWithCopyWarning:\n",
      "\n",
      "\n",
      "A value is trying to be set on a copy of a slice from a DataFrame.\n",
      "Try using .loc[row_indexer,col_indexer] = value instead\n",
      "\n",
      "See the caveats in the documentation: https://pandas.pydata.org/pandas-docs/stable/user_guide/indexing.html#returning-a-view-versus-a-copy\n",
      "\n"
     ]
    },
    {
     "name": "stdout",
     "output_type": "stream",
     "text": [
      "Removing dataset if pre-existing\n",
      "Copying training files:\n"
     ]
    },
    {
     "name": "stderr",
     "output_type": "stream",
     "text": [
      "Copying files: 100%|██████████| 1000/1000 [00:00<00:00, 1560.87it/s]\n"
     ]
    },
    {
     "name": "stdout",
     "output_type": "stream",
     "text": [
      "Copying validation files:\n"
     ]
    },
    {
     "name": "stderr",
     "output_type": "stream",
     "text": [
      "Copying files: 100%|██████████| 250/250 [00:00<00:00, 934.39it/s]\n"
     ]
    },
    {
     "name": "stdout",
     "output_type": "stream",
     "text": [
      "Dataset 'weather_01_500' created at C:\\github\\Third-Year-Project\\Intruder-Aircraft-Detection\\datasets\\Custom\\weather_01_500\n",
      "Processing train labels in weather_01_500:\n"
     ]
    },
    {
     "name": "stderr",
     "output_type": "stream",
     "text": [
      "Processing labels: 100%|██████████| 500/500 [00:01<00:00, 336.33it/s]\n"
     ]
    },
    {
     "name": "stdout",
     "output_type": "stream",
     "text": [
      "Processing valid labels in weather_01_500:\n"
     ]
    },
    {
     "name": "stderr",
     "output_type": "stream",
     "text": [
      "Processing labels: 100%|██████████| 125/125 [00:00<00:00, 290.30it/s]\n"
     ]
    },
    {
     "name": "stdout",
     "output_type": "stream",
     "text": [
      "Label correction completed.\n"
     ]
    },
    {
     "name": "stderr",
     "output_type": "stream",
     "text": [
      "Removing existing directories/files: 100%|██████████| 3/3 [00:00<00:00, 6017.65it/s]\n",
      "Copying files: 100%|██████████| 500/500 [00:00<00:00, 945.78it/s] \n",
      "Copying files: 100%|██████████| 500/500 [00:00<00:00, 1455.24it/s]\n",
      "Applying augmentations: 100%|██████████| 1250/1250 [00:23<00:00, 53.96it/s]\n"
     ]
    },
    {
     "name": "stdout",
     "output_type": "stream",
     "text": [
      "An error occurred: Expected x_max for bbox (0.368679, 0.3249835, 1.086079, 0.8032505, 2) to be in the range [0.0, 1.0], got 1.086079.\n",
      "An error occurred: Expected x_min for bbox (-0.07913550000000003, 0.055376499999999995, 0.8971595, 0.7062394999999999, 2) to be in the range [0.0, 1.0], got -0.07913550000000003.\n",
      "An error occurred: Expected y_min for bbox (0.006384999999999974, -0.030349999999999988, 0.652875, 0.400644, 2) to be in the range [0.0, 1.0], got -0.030349999999999988.\n",
      "An error occurred: Expected x_max for bbox (0.368679, 0.3249835, 1.086079, 0.8032505, 2) to be in the range [0.0, 1.0], got 1.086079.\n",
      "An error occurred: Expected y_min for bbox (0.21910349999999998, -0.01988999999999999, 0.6275445, 0.25240399999999996, 1) to be in the range [0.0, 1.0], got -0.01988999999999999.\n"
     ]
    },
    {
     "name": "stderr",
     "output_type": "stream",
     "text": [
      "Processing images:  30%|███       | 152/500 [00:05<00:09, 35.27it/s]"
     ]
    },
    {
     "name": "stdout",
     "output_type": "stream",
     "text": [
      "An error occurred with C:/github/Third-Year-Project/Intruder-Aircraft-Detection/datasets/Custom/weather_01_500\\images\\train\\24613.jpg: Expected y_min for bbox (0.21910349999999998, -0.01988999999999999, 0.6275445, 0.25240399999999996, 1) to be in the range [0.0, 1.0], got -0.01988999999999999.\n"
     ]
    },
    {
     "name": "stderr",
     "output_type": "stream",
     "text": [
      "Processing images:  47%|████▋     | 233/500 [00:08<00:07, 34.74it/s]"
     ]
    },
    {
     "name": "stdout",
     "output_type": "stream",
     "text": [
      "An error occurred with C:/github/Third-Year-Project/Intruder-Aircraft-Detection/datasets/Custom/weather_01_500\\images\\train\\25571.jpg: Expected x_min for bbox (-0.012365500000000001, 0.2159135, 0.4833855, 0.5464145, 1) to be in the range [0.0, 1.0], got -0.012365500000000001.\n"
     ]
    },
    {
     "name": "stderr",
     "output_type": "stream",
     "text": [
      "Processing images:  74%|███████▍  | 370/500 [00:12<00:03, 35.86it/s]"
     ]
    },
    {
     "name": "stdout",
     "output_type": "stream",
     "text": [
      "An error occurred with C:/github/Third-Year-Project/Intruder-Aircraft-Detection/datasets/Custom/weather_01_500\\images\\train\\48705.jpg: Expected x_min for bbox (-0.07913550000000003, 0.055376499999999995, 0.8971595, 0.7062394999999999, 2) to be in the range [0.0, 1.0], got -0.07913550000000003.\n"
     ]
    },
    {
     "name": "stderr",
     "output_type": "stream",
     "text": [
      "Processing images:  81%|████████  | 403/500 [00:13<00:02, 35.86it/s]"
     ]
    },
    {
     "name": "stdout",
     "output_type": "stream",
     "text": [
      "An error occurred with C:/github/Third-Year-Project/Intruder-Aircraft-Detection/datasets/Custom/weather_01_500\\images\\train\\49148.jpg: Expected y_min for bbox (0.006384999999999974, -0.030349999999999988, 0.652875, 0.400644, 2) to be in the range [0.0, 1.0], got -0.030349999999999988.\n"
     ]
    },
    {
     "name": "stderr",
     "output_type": "stream",
     "text": [
      "Processing images:  83%|████████▎ | 416/500 [00:13<00:02, 38.52it/s]"
     ]
    },
    {
     "name": "stdout",
     "output_type": "stream",
     "text": [
      "An error occurred with C:/github/Third-Year-Project/Intruder-Aircraft-Detection/datasets/Custom/weather_01_500\\images\\train\\49296.jpg: Expected x_max for bbox (0.368679, 0.3249835, 1.086079, 0.8032505, 2) to be in the range [0.0, 1.0], got 1.086079.\n"
     ]
    },
    {
     "name": "stderr",
     "output_type": "stream",
     "text": [
      "Processing images: 100%|██████████| 500/500 [00:15<00:00, 31.54it/s]\n",
      "Processing images:  31%|███       | 533/1745 [00:20<00:35, 34.08it/s]"
     ]
    },
    {
     "name": "stdout",
     "output_type": "stream",
     "text": [
      "An error occurred with C:/github/Third-Year-Project/Intruder-Aircraft-Detection/datasets/Custom/weather_01_500\\images\\train-aug\\24613.jpg: Expected y_min for bbox (0.21910349999999998, -0.01988999999999999, 0.6275445, 0.25240399999999996, 1) to be in the range [0.0, 1.0], got -0.01988999999999999.\n"
     ]
    },
    {
     "name": "stderr",
     "output_type": "stream",
     "text": [
      "Processing images:  46%|████▌     | 806/1745 [00:28<00:27, 34.34it/s]"
     ]
    },
    {
     "name": "stdout",
     "output_type": "stream",
     "text": [
      "An error occurred with C:/github/Third-Year-Project/Intruder-Aircraft-Detection/datasets/Custom/weather_01_500\\images\\train-aug\\25571.jpg: Expected x_min for bbox (-0.012365500000000001, 0.2159135, 0.4833855, 0.5464145, 1) to be in the range [0.0, 1.0], got -0.012365500000000001.\n"
     ]
    },
    {
     "name": "stderr",
     "output_type": "stream",
     "text": [
      "Processing images:  73%|███████▎  | 1279/1745 [00:42<00:12, 36.97it/s]"
     ]
    },
    {
     "name": "stdout",
     "output_type": "stream",
     "text": [
      "An error occurred with C:/github/Third-Year-Project/Intruder-Aircraft-Detection/datasets/Custom/weather_01_500\\images\\train-aug\\48705.jpg: Expected x_min for bbox (-0.07913550000000003, 0.055376499999999995, 0.8971595, 0.7062394999999999, 2) to be in the range [0.0, 1.0], got -0.07913550000000003.\n"
     ]
    },
    {
     "name": "stderr",
     "output_type": "stream",
     "text": [
      "Processing images:  80%|████████  | 1396/1745 [00:45<00:09, 35.88it/s]"
     ]
    },
    {
     "name": "stdout",
     "output_type": "stream",
     "text": [
      "An error occurred with C:/github/Third-Year-Project/Intruder-Aircraft-Detection/datasets/Custom/weather_01_500\\images\\train-aug\\49148.jpg: Expected y_min for bbox (0.006384999999999974, -0.030349999999999988, 0.652875, 0.400644, 2) to be in the range [0.0, 1.0], got -0.030349999999999988.\n"
     ]
    },
    {
     "name": "stderr",
     "output_type": "stream",
     "text": [
      "Processing images:  82%|████████▏ | 1433/1745 [00:47<00:08, 36.86it/s]"
     ]
    },
    {
     "name": "stdout",
     "output_type": "stream",
     "text": [
      "An error occurred with C:/github/Third-Year-Project/Intruder-Aircraft-Detection/datasets/Custom/weather_01_500\\images\\train-aug\\49296.jpg: Expected x_max for bbox (0.368679, 0.3249835, 1.086079, 0.8032505, 2) to be in the range [0.0, 1.0], got 1.086079.\n"
     ]
    },
    {
     "name": "stderr",
     "output_type": "stream",
     "text": [
      "Processing images: 100%|██████████| 1745/1745 [00:56<00:00, 30.97it/s]\n",
      "Processing images: 100%|██████████| 125/125 [00:03<00:00, 31.27it/s]\n",
      "Moving images in train: 100%|██████████| 495/495 [00:01<00:00, 274.44it/s]\n",
      "Moving images in train-aug: 100%|██████████| 1740/1740 [00:05<00:00, 290.88it/s]\n",
      "Moving images in valid: 100%|██████████| 125/125 [00:00<00:00, 268.49it/s]\n"
     ]
    },
    {
     "name": "stdout",
     "output_type": "stream",
     "text": [
      "Found 495 files belonging to 3 classes.\n",
      "Found 1740 files belonging to 3 classes.\n",
      "Found 125 files belonging to 3 classes.\n",
      "ClearML Task: created new task id=c706579fdc054ffe9bcf8619b9c1c204\n",
      "ClearML results page: https://app.clear.ml/projects/5a674be4cf0f473c808dd42f7b83358f/experiments/c706579fdc054ffe9bcf8619b9c1c204/output/log\n",
      "Training model...\n",
      "Epoch 1/30\n",
      "\u001b[1m16/16\u001b[0m \u001b[32m━━━━━━━━━━━━━━━━━━━━\u001b[0m\u001b[37m\u001b[0m \u001b[1m7s\u001b[0m 284ms/step - accuracy: 0.3382 - loss: 2.2839 - precision: 0.3669 - recall: 0.1645 - val_accuracy: 0.3280 - val_loss: 1.0986 - val_precision: 0.0000e+00 - val_recall: 0.0000e+00\n",
      "Epoch 2/30\n",
      "\u001b[1m16/16\u001b[0m \u001b[32m━━━━━━━━━━━━━━━━━━━━\u001b[0m\u001b[37m\u001b[0m \u001b[1m4s\u001b[0m 225ms/step - accuracy: 0.3283 - loss: 1.0996 - precision: 0.0000e+00 - recall: 0.0000e+00 - val_accuracy: 0.3280 - val_loss: 1.0988 - val_precision: 0.0000e+00 - val_recall: 0.0000e+00\n",
      "Epoch 3/30\n",
      "\u001b[1m16/16\u001b[0m \u001b[32m━━━━━━━━━━━━━━━━━━━━\u001b[0m\u001b[37m\u001b[0m \u001b[1m4s\u001b[0m 220ms/step - accuracy: 0.3087 - loss: 1.0992 - precision: 0.0000e+00 - recall: 0.0000e+00 - val_accuracy: 0.3280 - val_loss: 1.0986 - val_precision: 0.0000e+00 - val_recall: 0.0000e+00\n",
      "Epoch 4/30\n",
      "\u001b[1m16/16\u001b[0m \u001b[32m━━━━━━━━━━━━━━━━━━━━\u001b[0m\u001b[37m\u001b[0m \u001b[1m4s\u001b[0m 216ms/step - accuracy: 0.3356 - loss: 1.0987 - precision: 0.0000e+00 - recall: 0.0000e+00 - val_accuracy: 0.3280 - val_loss: 1.0987 - val_precision: 0.0000e+00 - val_recall: 0.0000e+00\n",
      "Epoch 5/30\n",
      "\u001b[1m16/16\u001b[0m \u001b[32m━━━━━━━━━━━━━━━━━━━━\u001b[0m\u001b[37m\u001b[0m \u001b[1m4s\u001b[0m 217ms/step - accuracy: 0.3270 - loss: 1.0987 - precision: 0.0000e+00 - recall: 0.0000e+00 - val_accuracy: 0.3280 - val_loss: 1.0986 - val_precision: 0.0000e+00 - val_recall: 0.0000e+00\n",
      "Epoch 6/30\n",
      "\u001b[1m16/16\u001b[0m \u001b[32m━━━━━━━━━━━━━━━━━━━━\u001b[0m\u001b[37m\u001b[0m \u001b[1m4s\u001b[0m 221ms/step - accuracy: 0.3336 - loss: 1.0986 - precision: 0.0000e+00 - recall: 0.0000e+00 - val_accuracy: 0.3280 - val_loss: 1.0986 - val_precision: 0.0000e+00 - val_recall: 0.0000e+00\n",
      "Epoch 7/30\n",
      "\u001b[1m16/16\u001b[0m \u001b[32m━━━━━━━━━━━━━━━━━━━━\u001b[0m\u001b[37m\u001b[0m \u001b[1m4s\u001b[0m 220ms/step - accuracy: 0.3534 - loss: 1.0985 - precision: 0.0000e+00 - recall: 0.0000e+00 - val_accuracy: 0.3280 - val_loss: 1.0986 - val_precision: 0.0000e+00 - val_recall: 0.0000e+00\n",
      "Epoch 8/30\n",
      "\u001b[1m16/16\u001b[0m \u001b[32m━━━━━━━━━━━━━━━━━━━━\u001b[0m\u001b[37m\u001b[0m \u001b[1m4s\u001b[0m 217ms/step - accuracy: 0.3318 - loss: 1.0986 - precision: 0.0000e+00 - recall: 0.0000e+00 - val_accuracy: 0.3760 - val_loss: 1.0985 - val_precision: 0.0000e+00 - val_recall: 0.0000e+00\n",
      "Epoch 9/30\n",
      "\u001b[1m16/16\u001b[0m \u001b[32m━━━━━━━━━━━━━━━━━━━━\u001b[0m\u001b[37m\u001b[0m \u001b[1m4s\u001b[0m 216ms/step - accuracy: 0.4119 - loss: 1.0985 - precision: 0.0000e+00 - recall: 0.0000e+00 - val_accuracy: 0.3280 - val_loss: 1.0987 - val_precision: 0.0000e+00 - val_recall: 0.0000e+00\n",
      "Epoch 10/30\n",
      "\u001b[1m16/16\u001b[0m \u001b[32m━━━━━━━━━━━━━━━━━━━━\u001b[0m\u001b[37m\u001b[0m \u001b[1m4s\u001b[0m 223ms/step - accuracy: 0.3572 - loss: 1.0982 - precision: 0.0000e+00 - recall: 0.0000e+00 - val_accuracy: 0.3280 - val_loss: 1.0986 - val_precision: 0.0000e+00 - val_recall: 0.0000e+00\n",
      "Epoch 11/30\n",
      "\u001b[1m16/16\u001b[0m \u001b[32m━━━━━━━━━━━━━━━━━━━━\u001b[0m\u001b[37m\u001b[0m \u001b[1m4s\u001b[0m 233ms/step - accuracy: 0.3522 - loss: 1.0985 - precision: 0.0000e+00 - recall: 0.0000e+00 - val_accuracy: 0.3680 - val_loss: 1.0983 - val_precision: 0.0000e+00 - val_recall: 0.0000e+00\n",
      "Epoch 12/30\n",
      "\u001b[1m16/16\u001b[0m \u001b[32m━━━━━━━━━━━━━━━━━━━━\u001b[0m\u001b[37m\u001b[0m \u001b[1m4s\u001b[0m 252ms/step - accuracy: 0.3791 - loss: 1.0984 - precision: 0.0000e+00 - recall: 0.0000e+00 - val_accuracy: 0.4000 - val_loss: 1.0983 - val_precision: 0.0000e+00 - val_recall: 0.0000e+00\n",
      "Epoch 13/30\n",
      "\u001b[1m16/16\u001b[0m \u001b[32m━━━━━━━━━━━━━━━━━━━━\u001b[0m\u001b[37m\u001b[0m \u001b[1m4s\u001b[0m 221ms/step - accuracy: 0.3949 - loss: 1.0981 - precision: 0.0000e+00 - recall: 0.0000e+00 - val_accuracy: 0.4080 - val_loss: 1.0980 - val_precision: 0.0000e+00 - val_recall: 0.0000e+00\n",
      "Epoch 14/30\n",
      "\u001b[1m16/16\u001b[0m \u001b[32m━━━━━━━━━━━━━━━━━━━━\u001b[0m\u001b[37m\u001b[0m \u001b[1m4s\u001b[0m 219ms/step - accuracy: 0.3769 - loss: 1.0980 - precision: 0.0000e+00 - recall: 0.0000e+00 - val_accuracy: 0.4080 - val_loss: 1.0979 - val_precision: 0.0000e+00 - val_recall: 0.0000e+00\n",
      "Epoch 15/30\n",
      "\u001b[1m16/16\u001b[0m \u001b[32m━━━━━━━━━━━━━━━━━━━━\u001b[0m\u001b[37m\u001b[0m \u001b[1m4s\u001b[0m 221ms/step - accuracy: 0.3994 - loss: 1.0962 - precision: 0.0000e+00 - recall: 0.0000e+00 - val_accuracy: 0.3920 - val_loss: 1.0970 - val_precision: 0.0000e+00 - val_recall: 0.0000e+00\n",
      "Epoch 16/30\n",
      "\u001b[1m16/16\u001b[0m \u001b[32m━━━━━━━━━━━━━━━━━━━━\u001b[0m\u001b[37m\u001b[0m \u001b[1m4s\u001b[0m 218ms/step - accuracy: 0.4009 - loss: 1.0966 - precision: 0.0000e+00 - recall: 0.0000e+00 - val_accuracy: 0.3280 - val_loss: 1.0957 - val_precision: 0.0000e+00 - val_recall: 0.0000e+00\n",
      "Epoch 17/30\n",
      "\u001b[1m16/16\u001b[0m \u001b[32m━━━━━━━━━━━━━━━━━━━━\u001b[0m\u001b[37m\u001b[0m \u001b[1m4s\u001b[0m 218ms/step - accuracy: 0.3670 - loss: 1.1197 - precision: 0.1133 - recall: 0.0100 - val_accuracy: 0.3440 - val_loss: 1.0983 - val_precision: 0.0000e+00 - val_recall: 0.0000e+00\n",
      "Epoch 18/30\n",
      "\u001b[1m16/16\u001b[0m \u001b[32m━━━━━━━━━━━━━━━━━━━━\u001b[0m\u001b[37m\u001b[0m \u001b[1m4s\u001b[0m 216ms/step - accuracy: 0.3030 - loss: 1.1005 - precision: 0.0000e+00 - recall: 0.0000e+00 - val_accuracy: 0.3040 - val_loss: 1.0974 - val_precision: 0.0000e+00 - val_recall: 0.0000e+00\n",
      "Epoch 19/30\n",
      "\u001b[1m16/16\u001b[0m \u001b[32m━━━━━━━━━━━━━━━━━━━━\u001b[0m\u001b[37m\u001b[0m \u001b[1m4s\u001b[0m 217ms/step - accuracy: 0.3558 - loss: 1.0987 - precision: 0.0000e+00 - recall: 0.0000e+00 - val_accuracy: 0.3760 - val_loss: 1.0971 - val_precision: 0.0000e+00 - val_recall: 0.0000e+00\n",
      "Epoch 20/30\n",
      "\u001b[1m16/16\u001b[0m \u001b[32m━━━━━━━━━━━━━━━━━━━━\u001b[0m\u001b[37m\u001b[0m \u001b[1m4s\u001b[0m 219ms/step - accuracy: 0.3513 - loss: 1.0954 - precision: 0.0000e+00 - recall: 0.0000e+00 - val_accuracy: 0.3280 - val_loss: 1.1991 - val_precision: 0.3396 - val_recall: 0.2880\n",
      "Epoch 21/30\n",
      "\u001b[1m16/16\u001b[0m \u001b[32m━━━━━━━━━━━━━━━━━━━━\u001b[0m\u001b[37m\u001b[0m \u001b[1m4s\u001b[0m 217ms/step - accuracy: 0.3488 - loss: 1.1158 - precision: 0.3796 - recall: 0.0967 - val_accuracy: 0.3120 - val_loss: 1.0958 - val_precision: 0.0000e+00 - val_recall: 0.0000e+00\n",
      "Epoch 22/30\n",
      "\u001b[1m16/16\u001b[0m \u001b[32m━━━━━━━━━━━━━━━━━━━━\u001b[0m\u001b[37m\u001b[0m \u001b[1m4s\u001b[0m 217ms/step - accuracy: 0.3370 - loss: 1.0962 - precision: 0.0000e+00 - recall: 0.0000e+00 - val_accuracy: 0.4560 - val_loss: 1.0954 - val_precision: 0.0000e+00 - val_recall: 0.0000e+00\n",
      "Epoch 23/30\n",
      "\u001b[1m16/16\u001b[0m \u001b[32m━━━━━━━━━━━━━━━━━━━━\u001b[0m\u001b[37m\u001b[0m \u001b[1m4s\u001b[0m 220ms/step - accuracy: 0.4203 - loss: 1.0930 - precision: 0.0000e+00 - recall: 0.0000e+00 - val_accuracy: 0.3200 - val_loss: 1.0944 - val_precision: 0.0000e+00 - val_recall: 0.0000e+00\n",
      "Epoch 24/30\n",
      "\u001b[1m16/16\u001b[0m \u001b[32m━━━━━━━━━━━━━━━━━━━━\u001b[0m\u001b[37m\u001b[0m \u001b[1m4s\u001b[0m 219ms/step - accuracy: 0.3746 - loss: 1.0952 - precision: 0.0000e+00 - recall: 0.0000e+00 - val_accuracy: 0.3280 - val_loss: 1.0931 - val_precision: 0.0000e+00 - val_recall: 0.0000e+00\n",
      "Epoch 25/30\n",
      "\u001b[1m16/16\u001b[0m \u001b[32m━━━━━━━━━━━━━━━━━━━━\u001b[0m\u001b[37m\u001b[0m \u001b[1m4s\u001b[0m 223ms/step - accuracy: 0.3800 - loss: 1.0967 - precision: 0.0546 - recall: 0.0028 - val_accuracy: 0.3360 - val_loss: 1.0988 - val_precision: 0.0000e+00 - val_recall: 0.0000e+00\n",
      "Epoch 26/30\n",
      "\u001b[1m16/16\u001b[0m \u001b[32m━━━━━━━━━━━━━━━━━━━━\u001b[0m\u001b[37m\u001b[0m \u001b[1m4s\u001b[0m 222ms/step - accuracy: 0.3879 - loss: 1.0977 - precision: 0.1357 - recall: 0.0072 - val_accuracy: 0.3280 - val_loss: 1.0859 - val_precision: 0.0000e+00 - val_recall: 0.0000e+00\n",
      "Epoch 27/30\n",
      "\u001b[1m16/16\u001b[0m \u001b[32m━━━━━━━━━━━━━━━━━━━━\u001b[0m\u001b[37m\u001b[0m \u001b[1m4s\u001b[0m 221ms/step - accuracy: 0.3723 - loss: 1.0861 - precision: 0.0000e+00 - recall: 0.0000e+00 - val_accuracy: 0.4240 - val_loss: 1.0657 - val_precision: 1.0000 - val_recall: 0.0080\n",
      "Epoch 28/30\n",
      "\u001b[1m16/16\u001b[0m \u001b[32m━━━━━━━━━━━━━━━━━━━━\u001b[0m\u001b[37m\u001b[0m \u001b[1m4s\u001b[0m 215ms/step - accuracy: 0.3898 - loss: 1.0787 - precision: 0.6471 - recall: 0.0057 - val_accuracy: 0.3520 - val_loss: 1.0928 - val_precision: 0.0000e+00 - val_recall: 0.0000e+00\n",
      "Epoch 29/30\n",
      "\u001b[1m16/16\u001b[0m \u001b[32m━━━━━━━━━━━━━━━━━━━━\u001b[0m\u001b[37m\u001b[0m \u001b[1m4s\u001b[0m 218ms/step - accuracy: 0.3963 - loss: 1.0896 - precision: 0.0000e+00 - recall: 0.0000e+00 - val_accuracy: 0.4160 - val_loss: 1.0904 - val_precision: 0.0000e+00 - val_recall: 0.0000e+00\n",
      "Epoch 30/30\n",
      "\u001b[1m16/16\u001b[0m \u001b[32m━━━━━━━━━━━━━━━━━━━━\u001b[0m\u001b[37m\u001b[0m \u001b[1m4s\u001b[0m 221ms/step - accuracy: 0.3961 - loss: 1.0886 - precision: 0.0000e+00 - recall: 0.0000e+00 - val_accuracy: 0.4400 - val_loss: 1.0879 - val_precision: 0.0000e+00 - val_recall: 0.0000e+00\n",
      "Predicting on validation set...\n",
      "\u001b[1m4/4\u001b[0m \u001b[32m━━━━━━━━━━━━━━━━━━━━\u001b[0m\u001b[37m\u001b[0m \u001b[1m0s\u001b[0m 70ms/step\n",
      "Sending metrics to clearML...\n",
      "done\n",
      "ClearML Task: created new task id=2bfc4b4373254d60a13237893f7f4647\n",
      "ClearML results page: https://app.clear.ml/projects/5a674be4cf0f473c808dd42f7b83358f/experiments/2bfc4b4373254d60a13237893f7f4647/output/log\n",
      "Training model...\n",
      "Epoch 1/30\n",
      "\u001b[1m55/55\u001b[0m \u001b[32m━━━━━━━━━━━━━━━━━━━━\u001b[0m\u001b[37m\u001b[0m \u001b[1m15s\u001b[0m 241ms/step - accuracy: 0.3389 - loss: 1.4401 - precision: 0.3705 - recall: 0.0944 - val_accuracy: 0.3360 - val_loss: 1.1313 - val_precision: 0.3500 - val_recall: 0.0560\n",
      "Epoch 2/30\n",
      "\u001b[1m55/55\u001b[0m \u001b[32m━━━━━━━━━━━━━━━━━━━━\u001b[0m\u001b[37m\u001b[0m \u001b[1m12s\u001b[0m 215ms/step - accuracy: 0.4214 - loss: 1.0674 - precision: 0.5855 - recall: 0.0513 - val_accuracy: 0.4640 - val_loss: 1.1216 - val_precision: 0.5263 - val_recall: 0.1600\n",
      "Epoch 3/30\n",
      "\u001b[1m55/55\u001b[0m \u001b[32m━━━━━━━━━━━━━━━━━━━━\u001b[0m\u001b[37m\u001b[0m \u001b[1m12s\u001b[0m 217ms/step - accuracy: 0.5279 - loss: 0.9793 - precision: 0.6928 - recall: 0.2188 - val_accuracy: 0.4800 - val_loss: 1.1312 - val_precision: 0.5000 - val_recall: 0.3920\n",
      "Epoch 4/30\n",
      "\u001b[1m55/55\u001b[0m \u001b[32m━━━━━━━━━━━━━━━━━━━━\u001b[0m\u001b[37m\u001b[0m \u001b[1m13s\u001b[0m 229ms/step - accuracy: 0.6587 - loss: 0.7839 - precision: 0.7403 - recall: 0.4856 - val_accuracy: 0.6160 - val_loss: 1.2777 - val_precision: 0.6228 - val_recall: 0.5680\n",
      "Epoch 5/30\n",
      "\u001b[1m55/55\u001b[0m \u001b[32m━━━━━━━━━━━━━━━━━━━━\u001b[0m\u001b[37m\u001b[0m \u001b[1m12s\u001b[0m 215ms/step - accuracy: 0.7796 - loss: 0.5882 - precision: 0.8228 - recall: 0.7231 - val_accuracy: 0.6880 - val_loss: 1.3808 - val_precision: 0.7119 - val_recall: 0.6720\n",
      "Epoch 6/30\n",
      "\u001b[1m55/55\u001b[0m \u001b[32m━━━━━━━━━━━━━━━━━━━━\u001b[0m\u001b[37m\u001b[0m \u001b[1m12s\u001b[0m 214ms/step - accuracy: 0.8160 - loss: 0.4681 - precision: 0.8407 - recall: 0.7834 - val_accuracy: 0.6800 - val_loss: 1.3314 - val_precision: 0.6860 - val_recall: 0.6640\n",
      "Epoch 7/30\n",
      "\u001b[1m55/55\u001b[0m \u001b[32m━━━━━━━━━━━━━━━━━━━━\u001b[0m\u001b[37m\u001b[0m \u001b[1m12s\u001b[0m 219ms/step - accuracy: 0.8517 - loss: 0.3686 - precision: 0.8728 - recall: 0.8358 - val_accuracy: 0.6800 - val_loss: 1.7340 - val_precision: 0.6800 - val_recall: 0.6800\n",
      "Epoch 8/30\n",
      "\u001b[1m55/55\u001b[0m \u001b[32m━━━━━━━━━━━━━━━━━━━━\u001b[0m\u001b[37m\u001b[0m \u001b[1m12s\u001b[0m 217ms/step - accuracy: 0.8908 - loss: 0.2690 - precision: 0.9049 - recall: 0.8803 - val_accuracy: 0.6880 - val_loss: 1.4948 - val_precision: 0.7119 - val_recall: 0.6720\n",
      "Epoch 9/30\n",
      "\u001b[1m55/55\u001b[0m \u001b[32m━━━━━━━━━━━━━━━━━━━━\u001b[0m\u001b[37m\u001b[0m \u001b[1m12s\u001b[0m 215ms/step - accuracy: 0.8953 - loss: 0.2592 - precision: 0.9046 - recall: 0.8837 - val_accuracy: 0.6560 - val_loss: 1.6816 - val_precision: 0.6555 - val_recall: 0.6240\n",
      "Epoch 10/30\n",
      "\u001b[1m55/55\u001b[0m \u001b[32m━━━━━━━━━━━━━━━━━━━━\u001b[0m\u001b[37m\u001b[0m \u001b[1m12s\u001b[0m 214ms/step - accuracy: 0.9212 - loss: 0.2235 - precision: 0.9274 - recall: 0.9132 - val_accuracy: 0.7120 - val_loss: 1.8007 - val_precision: 0.7177 - val_recall: 0.7120\n",
      "Epoch 11/30\n",
      "\u001b[1m55/55\u001b[0m \u001b[32m━━━━━━━━━━━━━━━━━━━━\u001b[0m\u001b[37m\u001b[0m \u001b[1m12s\u001b[0m 219ms/step - accuracy: 0.9321 - loss: 0.2019 - precision: 0.9364 - recall: 0.9238 - val_accuracy: 0.6800 - val_loss: 1.9482 - val_precision: 0.7025 - val_recall: 0.6800\n",
      "Epoch 12/30\n",
      "\u001b[1m55/55\u001b[0m \u001b[32m━━━━━━━━━━━━━━━━━━━━\u001b[0m\u001b[37m\u001b[0m \u001b[1m12s\u001b[0m 217ms/step - accuracy: 0.9039 - loss: 0.2554 - precision: 0.9207 - recall: 0.8949 - val_accuracy: 0.6720 - val_loss: 1.9997 - val_precision: 0.6774 - val_recall: 0.6720\n",
      "Epoch 13/30\n",
      "\u001b[1m55/55\u001b[0m \u001b[32m━━━━━━━━━━━━━━━━━━━━\u001b[0m\u001b[37m\u001b[0m \u001b[1m12s\u001b[0m 216ms/step - accuracy: 0.9242 - loss: 0.1837 - precision: 0.9399 - recall: 0.9178 - val_accuracy: 0.6880 - val_loss: 1.8242 - val_precision: 0.7059 - val_recall: 0.6720\n",
      "Epoch 14/30\n",
      "\u001b[1m55/55\u001b[0m \u001b[32m━━━━━━━━━━━━━━━━━━━━\u001b[0m\u001b[37m\u001b[0m \u001b[1m12s\u001b[0m 215ms/step - accuracy: 0.9269 - loss: 0.1732 - precision: 0.9389 - recall: 0.9198 - val_accuracy: 0.6880 - val_loss: 2.0577 - val_precision: 0.7025 - val_recall: 0.6800\n",
      "Epoch 15/30\n",
      "\u001b[1m55/55\u001b[0m \u001b[32m━━━━━━━━━━━━━━━━━━━━\u001b[0m\u001b[37m\u001b[0m \u001b[1m12s\u001b[0m 215ms/step - accuracy: 0.9413 - loss: 0.1542 - precision: 0.9477 - recall: 0.9369 - val_accuracy: 0.6720 - val_loss: 1.9801 - val_precision: 0.6829 - val_recall: 0.6720\n",
      "Epoch 16/30\n",
      "\u001b[1m55/55\u001b[0m \u001b[32m━━━━━━━━━━━━━━━━━━━━\u001b[0m\u001b[37m\u001b[0m \u001b[1m12s\u001b[0m 215ms/step - accuracy: 0.9500 - loss: 0.1305 - precision: 0.9562 - recall: 0.9448 - val_accuracy: 0.6720 - val_loss: 2.8728 - val_precision: 0.6694 - val_recall: 0.6640\n",
      "Epoch 17/30\n",
      "\u001b[1m55/55\u001b[0m \u001b[32m━━━━━━━━━━━━━━━━━━━━\u001b[0m\u001b[37m\u001b[0m \u001b[1m12s\u001b[0m 216ms/step - accuracy: 0.9529 - loss: 0.1352 - precision: 0.9586 - recall: 0.9508 - val_accuracy: 0.6800 - val_loss: 2.3250 - val_precision: 0.6829 - val_recall: 0.6720\n",
      "Epoch 18/30\n",
      "\u001b[1m55/55\u001b[0m \u001b[32m━━━━━━━━━━━━━━━━━━━━\u001b[0m\u001b[37m\u001b[0m \u001b[1m12s\u001b[0m 216ms/step - accuracy: 0.9660 - loss: 0.0977 - precision: 0.9704 - recall: 0.9629 - val_accuracy: 0.7040 - val_loss: 2.7527 - val_precision: 0.7097 - val_recall: 0.7040\n",
      "Epoch 19/30\n",
      "\u001b[1m55/55\u001b[0m \u001b[32m━━━━━━━━━━━━━━━━━━━━\u001b[0m\u001b[37m\u001b[0m \u001b[1m12s\u001b[0m 215ms/step - accuracy: 0.9571 - loss: 0.1019 - precision: 0.9602 - recall: 0.9530 - val_accuracy: 0.6800 - val_loss: 2.1973 - val_precision: 0.6800 - val_recall: 0.6800\n",
      "Epoch 20/30\n",
      "\u001b[1m55/55\u001b[0m \u001b[32m━━━━━━━━━━━━━━━━━━━━\u001b[0m\u001b[37m\u001b[0m \u001b[1m12s\u001b[0m 214ms/step - accuracy: 0.9728 - loss: 0.0724 - precision: 0.9751 - recall: 0.9720 - val_accuracy: 0.7120 - val_loss: 2.7252 - val_precision: 0.7131 - val_recall: 0.6960\n",
      "Epoch 21/30\n",
      "\u001b[1m55/55\u001b[0m \u001b[32m━━━━━━━━━━━━━━━━━━━━\u001b[0m\u001b[37m\u001b[0m \u001b[1m12s\u001b[0m 216ms/step - accuracy: 0.9771 - loss: 0.0761 - precision: 0.9802 - recall: 0.9752 - val_accuracy: 0.7040 - val_loss: 2.6817 - val_precision: 0.7073 - val_recall: 0.6960\n",
      "Epoch 22/30\n",
      "\u001b[1m55/55\u001b[0m \u001b[32m━━━━━━━━━━━━━━━━━━━━\u001b[0m\u001b[37m\u001b[0m \u001b[1m12s\u001b[0m 214ms/step - accuracy: 0.9730 - loss: 0.0703 - precision: 0.9747 - recall: 0.9711 - val_accuracy: 0.7120 - val_loss: 2.6914 - val_precision: 0.7177 - val_recall: 0.7120\n",
      "Epoch 23/30\n",
      "\u001b[1m55/55\u001b[0m \u001b[32m━━━━━━━━━━━━━━━━━━━━\u001b[0m\u001b[37m\u001b[0m \u001b[1m12s\u001b[0m 216ms/step - accuracy: 0.9736 - loss: 0.0795 - precision: 0.9746 - recall: 0.9718 - val_accuracy: 0.7280 - val_loss: 2.7322 - val_precision: 0.7317 - val_recall: 0.7200\n",
      "Epoch 24/30\n",
      "\u001b[1m55/55\u001b[0m \u001b[32m━━━━━━━━━━━━━━━━━━━━\u001b[0m\u001b[37m\u001b[0m \u001b[1m12s\u001b[0m 215ms/step - accuracy: 0.9824 - loss: 0.0597 - precision: 0.9826 - recall: 0.9799 - val_accuracy: 0.6720 - val_loss: 3.1609 - val_precision: 0.6720 - val_recall: 0.6720\n",
      "Epoch 25/30\n",
      "\u001b[1m55/55\u001b[0m \u001b[32m━━━━━━━━━━━━━━━━━━━━\u001b[0m\u001b[37m\u001b[0m \u001b[1m12s\u001b[0m 215ms/step - accuracy: 0.9664 - loss: 0.1015 - precision: 0.9680 - recall: 0.9643 - val_accuracy: 0.6720 - val_loss: 2.9286 - val_precision: 0.6720 - val_recall: 0.6720\n",
      "Epoch 26/30\n",
      "\u001b[1m55/55\u001b[0m \u001b[32m━━━━━━━━━━━━━━━━━━━━\u001b[0m\u001b[37m\u001b[0m \u001b[1m12s\u001b[0m 218ms/step - accuracy: 0.9801 - loss: 0.0543 - precision: 0.9823 - recall: 0.9789 - val_accuracy: 0.6880 - val_loss: 2.7441 - val_precision: 0.6855 - val_recall: 0.6800\n",
      "Epoch 27/30\n",
      "\u001b[1m55/55\u001b[0m \u001b[32m━━━━━━━━━━━━━━━━━━━━\u001b[0m\u001b[37m\u001b[0m \u001b[1m12s\u001b[0m 215ms/step - accuracy: 0.9852 - loss: 0.0606 - precision: 0.9860 - recall: 0.9816 - val_accuracy: 0.6880 - val_loss: 2.6426 - val_precision: 0.6935 - val_recall: 0.6880\n",
      "Epoch 28/30\n",
      "\u001b[1m55/55\u001b[0m \u001b[32m━━━━━━━━━━━━━━━━━━━━\u001b[0m\u001b[37m\u001b[0m \u001b[1m12s\u001b[0m 215ms/step - accuracy: 0.9750 - loss: 0.0796 - precision: 0.9750 - recall: 0.9740 - val_accuracy: 0.6800 - val_loss: 3.1601 - val_precision: 0.6800 - val_recall: 0.6800\n",
      "Epoch 29/30\n",
      "\u001b[1m55/55\u001b[0m \u001b[32m━━━━━━━━━━━━━━━━━━━━\u001b[0m\u001b[37m\u001b[0m \u001b[1m12s\u001b[0m 216ms/step - accuracy: 0.9886 - loss: 0.0459 - precision: 0.9896 - recall: 0.9886 - val_accuracy: 0.7040 - val_loss: 3.0057 - val_precision: 0.7016 - val_recall: 0.6960\n",
      "Epoch 30/30\n",
      "\u001b[1m55/55\u001b[0m \u001b[32m━━━━━━━━━━━━━━━━━━━━\u001b[0m\u001b[37m\u001b[0m \u001b[1m12s\u001b[0m 215ms/step - accuracy: 0.9922 - loss: 0.0252 - precision: 0.9946 - recall: 0.9922 - val_accuracy: 0.6800 - val_loss: 3.0129 - val_precision: 0.6800 - val_recall: 0.6800\n",
      "Predicting on validation set...\n",
      "\u001b[1m4/4\u001b[0m \u001b[32m━━━━━━━━━━━━━━━━━━━━\u001b[0m\u001b[37m\u001b[0m \u001b[1m0s\u001b[0m 65ms/step\n",
      "Sending metrics to clearML...\n",
      "done\n"
     ]
    }
   ],
   "source": [
    "# combination 1: rotate 5 250%\n",
    "task_name = 'r5'\n",
    "sub_project_name = 'ROTATE'\n",
    "\n",
    "augmentation_metadata = {\n",
    "        'methods': {        \n",
    "            'rotate': {\n",
    "                'parameters': {\n",
    "                    'angle_limit': 5, # Maximum angle of rotation\n",
    "                    'p': 1.0  # Probability of applying the augmentation\n",
    "                },\n",
    "                'apply_to_percentage': 2.5  # 50% of the training images\n",
    "            }        \n",
    "        }\n",
    "    }\n",
    "\n",
    "\n",
    "for i in range(N):\n",
    "    RUN = i + 1\n",
    "    try:\n",
    "        print(f\"Starting RUN: {RUN}\")\n",
    "        main(RUN, augmentation_metadata, task_name, sub_project_name, epochs, train_size, w1, w2)\n",
    "    except Exception as e:\n",
    "        print(f\"Error in RUN: {RUN}\")\n",
    "        print(e)\n",
    "        break\n",
    "    finally:\n",
    "        clear_output(wait=True)  # Clear the output to avoid scrolling\n",
    "        gc.collect()  # Collect garbage to avoid memory leaks"
   ]
  },
  {
   "cell_type": "code",
   "execution_count": 21,
   "metadata": {},
   "outputs": [
    {
     "name": "stdout",
     "output_type": "stream",
     "text": [
      "Starting RUN: 5\n",
      "Seed:  3187430061\n",
      "Num GPUs Available:  0\n"
     ]
    },
    {
     "name": "stderr",
     "output_type": "stream",
     "text": [
      "c:\\github\\Third-Year-Project\\Intruder-Aircraft-Detection\\main\\tl_clf.py:82: SettingWithCopyWarning:\n",
      "\n",
      "\n",
      "A value is trying to be set on a copy of a slice from a DataFrame.\n",
      "Try using .loc[row_indexer,col_indexer] = value instead\n",
      "\n",
      "See the caveats in the documentation: https://pandas.pydata.org/pandas-docs/stable/user_guide/indexing.html#returning-a-view-versus-a-copy\n",
      "\n",
      "c:\\github\\Third-Year-Project\\Intruder-Aircraft-Detection\\main\\tl_clf.py:83: SettingWithCopyWarning:\n",
      "\n",
      "\n",
      "A value is trying to be set on a copy of a slice from a DataFrame.\n",
      "Try using .loc[row_indexer,col_indexer] = value instead\n",
      "\n",
      "See the caveats in the documentation: https://pandas.pydata.org/pandas-docs/stable/user_guide/indexing.html#returning-a-view-versus-a-copy\n",
      "\n"
     ]
    },
    {
     "name": "stdout",
     "output_type": "stream",
     "text": [
      "Removing dataset if pre-existing\n",
      "Copying training files:\n"
     ]
    },
    {
     "name": "stderr",
     "output_type": "stream",
     "text": [
      "Copying files: 100%|██████████| 1000/1000 [00:00<00:00, 1728.21it/s]\n"
     ]
    },
    {
     "name": "stdout",
     "output_type": "stream",
     "text": [
      "Copying validation files:\n"
     ]
    },
    {
     "name": "stderr",
     "output_type": "stream",
     "text": [
      "Copying files: 100%|██████████| 250/250 [00:00<00:00, 1908.09it/s]"
     ]
    },
    {
     "name": "stdout",
     "output_type": "stream",
     "text": [
      "Dataset 'weather_01_500' created at C:\\github\\Third-Year-Project\\Intruder-Aircraft-Detection\\datasets\\Custom\\weather_01_500\n"
     ]
    },
    {
     "name": "stderr",
     "output_type": "stream",
     "text": [
      "\n"
     ]
    },
    {
     "name": "stdout",
     "output_type": "stream",
     "text": [
      "Processing train labels in weather_01_500:\n"
     ]
    },
    {
     "name": "stderr",
     "output_type": "stream",
     "text": [
      "Processing labels: 100%|██████████| 500/500 [00:01<00:00, 302.17it/s]\n"
     ]
    },
    {
     "name": "stdout",
     "output_type": "stream",
     "text": [
      "Processing valid labels in weather_01_500:\n"
     ]
    },
    {
     "name": "stderr",
     "output_type": "stream",
     "text": [
      "Processing labels: 100%|██████████| 125/125 [00:00<00:00, 298.27it/s]\n"
     ]
    },
    {
     "name": "stdout",
     "output_type": "stream",
     "text": [
      "Label correction completed.\n"
     ]
    },
    {
     "name": "stderr",
     "output_type": "stream",
     "text": [
      "Removing existing directories/files: 100%|██████████| 3/3 [00:00<00:00, 6014.78it/s]\n",
      "Copying files: 100%|██████████| 500/500 [00:00<00:00, 791.57it/s]\n",
      "Copying files: 100%|██████████| 500/500 [00:00<00:00, 764.92it/s]\n",
      "Applying augmentations: 100%|██████████| 1250/1250 [00:28<00:00, 44.49it/s]\n",
      "Processing images:  22%|██▏       | 109/500 [00:04<00:10, 35.85it/s]"
     ]
    },
    {
     "name": "stdout",
     "output_type": "stream",
     "text": [
      "An error occurred with C:/github/Third-Year-Project/Intruder-Aircraft-Detection/datasets/Custom/weather_01_500\\images\\train\\24096.jpg: Expected y_max for bbox (0.603079, 0.818155, 0.877433, 1.0010569999999999, 1) to be in the range [0.0, 1.0], got 1.0010569999999999.\n"
     ]
    },
    {
     "name": "stderr",
     "output_type": "stream",
     "text": [
      "Processing images:  26%|██▌       | 130/500 [00:04<00:11, 33.21it/s]"
     ]
    },
    {
     "name": "stdout",
     "output_type": "stream",
     "text": [
      "An error occurred with C:/github/Third-Year-Project/Intruder-Aircraft-Detection/datasets/Custom/weather_01_500\\images\\train\\24273.jpg: Expected y_min for bbox (0.197711, -0.007085499999999981, 0.582121, 0.2491875, 1) to be in the range [0.0, 1.0], got -0.007085499999999981.\n"
     ]
    },
    {
     "name": "stderr",
     "output_type": "stream",
     "text": [
      "Processing images:  61%|██████▏   | 307/500 [00:10<00:05, 34.70it/s]"
     ]
    },
    {
     "name": "stdout",
     "output_type": "stream",
     "text": [
      "An error occurred with C:/github/Third-Year-Project/Intruder-Aircraft-Detection/datasets/Custom/weather_01_500\\images\\train\\48182.jpg: Expected x_max for bbox (0.45793449999999997, 0.39898000000000006, 1.0627735, 0.802206, 2) to be in the range [0.0, 1.0], got 1.0627735.\n"
     ]
    },
    {
     "name": "stderr",
     "output_type": "stream",
     "text": [
      "Processing images:  66%|██████▋   | 332/500 [00:10<00:04, 34.50it/s]"
     ]
    },
    {
     "name": "stdout",
     "output_type": "stream",
     "text": [
      "An error occurred with C:/github/Third-Year-Project/Intruder-Aircraft-Detection/datasets/Custom/weather_01_500\\images\\train\\48405.jpg: Expected x_max for bbox (0.25508400000000003, 0.6339159999999999, 1.001982, 1.131848, 2) to be in the range [0.0, 1.0], got 1.001982.\n"
     ]
    },
    {
     "name": "stderr",
     "output_type": "stream",
     "text": [
      "Processing images:  68%|██████▊   | 341/500 [00:11<00:04, 36.56it/s]"
     ]
    },
    {
     "name": "stdout",
     "output_type": "stream",
     "text": [
      "An error occurred with C:/github/Third-Year-Project/Intruder-Aircraft-Detection/datasets/Custom/weather_01_500\\images\\train\\48506.jpg: Expected y_min for bbox (0.604137, -0.0008270000000000083, 0.899387, 0.196007, 2) to be in the range [0.0, 1.0], got -0.0008270000000000083.\n"
     ]
    },
    {
     "name": "stderr",
     "output_type": "stream",
     "text": [
      "Processing images:  71%|███████   | 354/500 [00:11<00:03, 37.67it/s]"
     ]
    },
    {
     "name": "stdout",
     "output_type": "stream",
     "text": [
      "An error occurred with C:/github/Third-Year-Project/Intruder-Aircraft-Detection/datasets/Custom/weather_01_500\\images\\train\\48653.jpg: In YOLO format all coordinates must be float and in range (0, 1]\n",
      "An error occurred with C:/github/Third-Year-Project/Intruder-Aircraft-Detection/datasets/Custom/weather_01_500\\images\\train\\48705.jpg: Expected x_min for bbox (-0.07913550000000003, 0.055376499999999995, 0.8971595, 0.7062394999999999, 2) to be in the range [0.0, 1.0], got -0.07913550000000003.\n"
     ]
    },
    {
     "name": "stderr",
     "output_type": "stream",
     "text": [
      "Processing images:  74%|███████▎  | 368/500 [00:11<00:03, 39.18it/s]"
     ]
    },
    {
     "name": "stdout",
     "output_type": "stream",
     "text": [
      "An error occurred with C:/github/Third-Year-Project/Intruder-Aircraft-Detection/datasets/Custom/weather_01_500\\images\\train\\48839.jpg: Expected y_max for bbox (0.07873799999999997, 0.6116285, 0.708052, 1.0311715000000001, 2) to be in the range [0.0, 1.0], got 1.0311715000000001.\n",
      "An error occurred with C:/github/Third-Year-Project/Intruder-Aircraft-Detection/datasets/Custom/weather_01_500\\images\\train\\48882.jpg: Expected y_min for bbox (0.0959025, -0.07905450000000001, 0.7032695, 0.3258565, 2) to be in the range [0.0, 1.0], got -0.07905450000000001.\n"
     ]
    },
    {
     "name": "stderr",
     "output_type": "stream",
     "text": [
      "Processing images: 100%|██████████| 500/500 [00:15<00:00, 31.90it/s]\n",
      "Processing images:  22%|██▏       | 385/1750 [00:15<00:34, 39.61it/s]"
     ]
    },
    {
     "name": "stdout",
     "output_type": "stream",
     "text": [
      "An error occurred with C:/github/Third-Year-Project/Intruder-Aircraft-Detection/datasets/Custom/weather_01_500\\images\\train-aug\\24096-bnc-8bddd9cf.jpg: Expected y_max for bbox (0.603079, 0.818155, 0.877433, 1.0010569999999999, 1) to be in the range [0.0, 1.0], got 1.0010569999999999.\n",
      "An error occurred with C:/github/Third-Year-Project/Intruder-Aircraft-Detection/datasets/Custom/weather_01_500\\images\\train-aug\\24096-bnc-bb980b91.jpg: Expected y_max for bbox (0.603079, 0.818155, 0.877433, 1.0010569999999999, 1) to be in the range [0.0, 1.0], got 1.0010569999999999.\n",
      "An error occurred with C:/github/Third-Year-Project/Intruder-Aircraft-Detection/datasets/Custom/weather_01_500\\images\\train-aug\\24096.jpg: Expected y_max for bbox (0.603079, 0.818155, 0.877433, 1.0010569999999999, 1) to be in the range [0.0, 1.0], got 1.0010569999999999.\n"
     ]
    },
    {
     "name": "stderr",
     "output_type": "stream",
     "text": [
      "Processing images:  26%|██▋       | 463/1750 [00:17<00:27, 47.10it/s]"
     ]
    },
    {
     "name": "stdout",
     "output_type": "stream",
     "text": [
      "An error occurred with C:/github/Third-Year-Project/Intruder-Aircraft-Detection/datasets/Custom/weather_01_500\\images\\train-aug\\24273.jpg: Expected y_min for bbox (0.197711, -0.007085499999999981, 0.582121, 0.2491875, 1) to be in the range [0.0, 1.0], got -0.007085499999999981.\n",
      "An error occurred with C:/github/Third-Year-Project/Intruder-Aircraft-Detection/datasets/Custom/weather_01_500\\images\\train-aug\\24273-histEq-49c19af0.jpg: Expected y_min for bbox (0.197711, -0.007085499999999981, 0.582121, 0.2491875, 1) to be in the range [0.0, 1.0], got -0.007085499999999981.\n",
      "An error occurred with C:/github/Third-Year-Project/Intruder-Aircraft-Detection/datasets/Custom/weather_01_500\\images\\train-aug\\24273-bnc-ea40e486.jpg: Expected y_min for bbox (0.197711, -0.007085499999999981, 0.582121, 0.2491875, 1) to be in the range [0.0, 1.0], got -0.007085499999999981.\n",
      "An error occurred with C:/github/Third-Year-Project/Intruder-Aircraft-Detection/datasets/Custom/weather_01_500\\images\\train-aug\\24273-bnc-a9f56e89.jpg: Expected y_min for bbox (0.197711, -0.007085499999999981, 0.582121, 0.2491875, 1) to be in the range [0.0, 1.0], got -0.007085499999999981.\n",
      "An error occurred with C:/github/Third-Year-Project/Intruder-Aircraft-Detection/datasets/Custom/weather_01_500\\images\\train-aug\\24273-histEq-fff19ca7.jpg: Expected y_min for bbox (0.197711, -0.007085499999999981, 0.582121, 0.2491875, 1) to be in the range [0.0, 1.0], got -0.007085499999999981.\n",
      "An error occurred with C:/github/Third-Year-Project/Intruder-Aircraft-Detection/datasets/Custom/weather_01_500\\images\\train-aug\\24273-histEq-84f7ba28.jpg: Expected y_min for bbox (0.197711, -0.007085499999999981, 0.582121, 0.2491875, 1) to be in the range [0.0, 1.0], got -0.007085499999999981.\n"
     ]
    },
    {
     "name": "stderr",
     "output_type": "stream",
     "text": [
      "Processing images:  59%|█████▉    | 1038/1750 [00:35<00:17, 40.28it/s]"
     ]
    },
    {
     "name": "stdout",
     "output_type": "stream",
     "text": [
      "An error occurred with C:/github/Third-Year-Project/Intruder-Aircraft-Detection/datasets/Custom/weather_01_500\\images\\train-aug\\48182.jpg: Expected x_max for bbox (0.45793449999999997, 0.39898000000000006, 1.0627735, 0.802206, 2) to be in the range [0.0, 1.0], got 1.0627735.\n",
      "An error occurred with C:/github/Third-Year-Project/Intruder-Aircraft-Detection/datasets/Custom/weather_01_500\\images\\train-aug\\48182-histEq-f4ec7012.jpg: Expected x_max for bbox (0.45793449999999997, 0.39898000000000006, 1.0627735, 0.802206, 2) to be in the range [0.0, 1.0], got 1.0627735.\n",
      "An error occurred with C:/github/Third-Year-Project/Intruder-Aircraft-Detection/datasets/Custom/weather_01_500\\images\\train-aug\\48182-bnc-4507d44e.jpg: Expected x_max for bbox (0.45793449999999997, 0.39898000000000006, 1.0627735, 0.802206, 2) to be in the range [0.0, 1.0], got 1.0627735.\n"
     ]
    },
    {
     "name": "stderr",
     "output_type": "stream",
     "text": [
      "Processing images:  66%|██████▌   | 1152/1750 [00:38<00:13, 43.90it/s]"
     ]
    },
    {
     "name": "stdout",
     "output_type": "stream",
     "text": [
      "An error occurred with C:/github/Third-Year-Project/Intruder-Aircraft-Detection/datasets/Custom/weather_01_500\\images\\train-aug\\48405-bnc-4cafa763.jpg: Expected x_max for bbox (0.25508400000000003, 0.6339159999999999, 1.001982, 1.131848, 2) to be in the range [0.0, 1.0], got 1.001982.\n",
      "An error occurred with C:/github/Third-Year-Project/Intruder-Aircraft-Detection/datasets/Custom/weather_01_500\\images\\train-aug\\48405-bnc-f9d1fd5d.jpg: Expected x_max for bbox (0.25508400000000003, 0.6339159999999999, 1.001982, 1.131848, 2) to be in the range [0.0, 1.0], got 1.001982.\n",
      "An error occurred with C:/github/Third-Year-Project/Intruder-Aircraft-Detection/datasets/Custom/weather_01_500\\images\\train-aug\\48405-bnc-b43f3c9b.jpg: Expected x_max for bbox (0.25508400000000003, 0.6339159999999999, 1.001982, 1.131848, 2) to be in the range [0.0, 1.0], got 1.001982.\n",
      "An error occurred with C:/github/Third-Year-Project/Intruder-Aircraft-Detection/datasets/Custom/weather_01_500\\images\\train-aug\\48405-histEq-e4b130ba.jpg: Expected x_max for bbox (0.25508400000000003, 0.6339159999999999, 1.001982, 1.131848, 2) to be in the range [0.0, 1.0], got 1.001982.\n",
      "An error occurred with C:/github/Third-Year-Project/Intruder-Aircraft-Detection/datasets/Custom/weather_01_500\\images\\train-aug\\48405-histEq-e5fc9546.jpg: Expected x_max for bbox (0.25508400000000003, 0.6339159999999999, 1.001982, 1.131848, 2) to be in the range [0.0, 1.0], got 1.001982.\n",
      "An error occurred with C:/github/Third-Year-Project/Intruder-Aircraft-Detection/datasets/Custom/weather_01_500\\images\\train-aug\\48405.jpg: Expected x_max for bbox (0.25508400000000003, 0.6339159999999999, 1.001982, 1.131848, 2) to be in the range [0.0, 1.0], got 1.001982.\n"
     ]
    },
    {
     "name": "stderr",
     "output_type": "stream",
     "text": [
      "Processing images:  67%|██████▋   | 1177/1750 [00:39<00:13, 41.63it/s]"
     ]
    },
    {
     "name": "stdout",
     "output_type": "stream",
     "text": [
      "An error occurred with C:/github/Third-Year-Project/Intruder-Aircraft-Detection/datasets/Custom/weather_01_500\\images\\train-aug\\48506-bnc-75aad650.jpg: Expected y_min for bbox (0.604137, -0.0008270000000000083, 0.899387, 0.196007, 2) to be in the range [0.0, 1.0], got -0.0008270000000000083.\n",
      "An error occurred with C:/github/Third-Year-Project/Intruder-Aircraft-Detection/datasets/Custom/weather_01_500\\images\\train-aug\\48506-histEq-a53d822c.jpg: Expected y_min for bbox (0.604137, -0.0008270000000000083, 0.899387, 0.196007, 2) to be in the range [0.0, 1.0], got -0.0008270000000000083.\n",
      "An error occurred with C:/github/Third-Year-Project/Intruder-Aircraft-Detection/datasets/Custom/weather_01_500\\images\\train-aug\\48506.jpg: Expected y_min for bbox (0.604137, -0.0008270000000000083, 0.899387, 0.196007, 2) to be in the range [0.0, 1.0], got -0.0008270000000000083.\n",
      "An error occurred with C:/github/Third-Year-Project/Intruder-Aircraft-Detection/datasets/Custom/weather_01_500\\images\\train-aug\\48506-histEq-6ad1413f.jpg: Expected y_min for bbox (0.604137, -0.0008270000000000083, 0.899387, 0.196007, 2) to be in the range [0.0, 1.0], got -0.0008270000000000083.\n"
     ]
    },
    {
     "name": "stderr",
     "output_type": "stream",
     "text": [
      "Processing images:  70%|███████   | 1232/1750 [00:40<00:12, 41.73it/s]"
     ]
    },
    {
     "name": "stdout",
     "output_type": "stream",
     "text": [
      "An error occurred with C:/github/Third-Year-Project/Intruder-Aircraft-Detection/datasets/Custom/weather_01_500\\images\\train-aug\\48653.jpg: In YOLO format all coordinates must be float and in range (0, 1]\n",
      "An error occurred with C:/github/Third-Year-Project/Intruder-Aircraft-Detection/datasets/Custom/weather_01_500\\images\\train-aug\\48653-bnc-ed87ee6f.jpg: In YOLO format all coordinates must be float and in range (0, 1]\n"
     ]
    },
    {
     "name": "stderr",
     "output_type": "stream",
     "text": [
      "Processing images:  72%|███████▏  | 1252/1750 [00:40<00:09, 51.95it/s]"
     ]
    },
    {
     "name": "stdout",
     "output_type": "stream",
     "text": [
      "An error occurred with C:/github/Third-Year-Project/Intruder-Aircraft-Detection/datasets/Custom/weather_01_500\\images\\train-aug\\48705-bnc-e3f483a1.jpg: Expected x_min for bbox (-0.07913550000000003, 0.055376499999999995, 0.8971595, 0.7062394999999999, 2) to be in the range [0.0, 1.0], got -0.07913550000000003.\n",
      "An error occurred with C:/github/Third-Year-Project/Intruder-Aircraft-Detection/datasets/Custom/weather_01_500\\images\\train-aug\\48705.jpg: Expected x_min for bbox (-0.07913550000000003, 0.055376499999999995, 0.8971595, 0.7062394999999999, 2) to be in the range [0.0, 1.0], got -0.07913550000000003.\n",
      "An error occurred with C:/github/Third-Year-Project/Intruder-Aircraft-Detection/datasets/Custom/weather_01_500\\images\\train-aug\\48705-histEq-dd00a52c.jpg: Expected x_min for bbox (-0.07913550000000003, 0.055376499999999995, 0.8971595, 0.7062394999999999, 2) to be in the range [0.0, 1.0], got -0.07913550000000003.\n",
      "An error occurred with C:/github/Third-Year-Project/Intruder-Aircraft-Detection/datasets/Custom/weather_01_500\\images\\train-aug\\48705-histEq-d88ef5aa.jpg: Expected x_min for bbox (-0.07913550000000003, 0.055376499999999995, 0.8971595, 0.7062394999999999, 2) to be in the range [0.0, 1.0], got -0.07913550000000003.\n",
      "An error occurred with C:/github/Third-Year-Project/Intruder-Aircraft-Detection/datasets/Custom/weather_01_500\\images\\train-aug\\48705-bnc-0534e849.jpg: Expected x_min for bbox (-0.07913550000000003, 0.055376499999999995, 0.8971595, 0.7062394999999999, 2) to be in the range [0.0, 1.0], got -0.07913550000000003.\n",
      "An error occurred with C:/github/Third-Year-Project/Intruder-Aircraft-Detection/datasets/Custom/weather_01_500\\images\\train-aug\\48705-histEq-9a95e313.jpg: Expected x_min for bbox (-0.07913550000000003, 0.055376499999999995, 0.8971595, 0.7062394999999999, 2) to be in the range [0.0, 1.0], got -0.07913550000000003.\n"
     ]
    },
    {
     "name": "stderr",
     "output_type": "stream",
     "text": [
      "Processing images:  73%|███████▎  | 1284/1750 [00:41<00:10, 42.63it/s]"
     ]
    },
    {
     "name": "stdout",
     "output_type": "stream",
     "text": [
      "An error occurred with C:/github/Third-Year-Project/Intruder-Aircraft-Detection/datasets/Custom/weather_01_500\\images\\train-aug\\48839.jpg: Expected y_max for bbox (0.07873799999999997, 0.6116285, 0.708052, 1.0311715000000001, 2) to be in the range [0.0, 1.0], got 1.0311715000000001.\n",
      "An error occurred with C:/github/Third-Year-Project/Intruder-Aircraft-Detection/datasets/Custom/weather_01_500\\images\\train-aug\\48839-bnc-8818225d.jpg: Expected y_max for bbox (0.07873799999999997, 0.6116285, 0.708052, 1.0311715000000001, 2) to be in the range [0.0, 1.0], got 1.0311715000000001.\n",
      "An error occurred with C:/github/Third-Year-Project/Intruder-Aircraft-Detection/datasets/Custom/weather_01_500\\images\\train-aug\\48839-histEq-54c104a4.jpg: Expected y_max for bbox (0.07873799999999997, 0.6116285, 0.708052, 1.0311715000000001, 2) to be in the range [0.0, 1.0], got 1.0311715000000001.\n",
      "An error occurred with C:/github/Third-Year-Project/Intruder-Aircraft-Detection/datasets/Custom/weather_01_500\\images\\train-aug\\48839-histEq-132f8b61.jpg: Expected y_max for bbox (0.07873799999999997, 0.6116285, 0.708052, 1.0311715000000001, 2) to be in the range [0.0, 1.0], got 1.0311715000000001.\n",
      "An error occurred with C:/github/Third-Year-Project/Intruder-Aircraft-Detection/datasets/Custom/weather_01_500\\images\\train-aug\\48882.jpg: Expected y_min for bbox (0.0959025, -0.07905450000000001, 0.7032695, 0.3258565, 2) to be in the range [0.0, 1.0], got -0.07905450000000001.\n"
     ]
    },
    {
     "name": "stderr",
     "output_type": "stream",
     "text": [
      "Processing images:  74%|███████▍  | 1295/1750 [00:42<00:09, 47.70it/s]"
     ]
    },
    {
     "name": "stdout",
     "output_type": "stream",
     "text": [
      "An error occurred with C:/github/Third-Year-Project/Intruder-Aircraft-Detection/datasets/Custom/weather_01_500\\images\\train-aug\\48882-histEq-4713277f.jpg: Expected y_min for bbox (0.0959025, -0.07905450000000001, 0.7032695, 0.3258565, 2) to be in the range [0.0, 1.0], got -0.07905450000000001.\n",
      "An error occurred with C:/github/Third-Year-Project/Intruder-Aircraft-Detection/datasets/Custom/weather_01_500\\images\\train-aug\\48882-bnc-8602c863.jpg: Expected y_min for bbox (0.0959025, -0.07905450000000001, 0.7032695, 0.3258565, 2) to be in the range [0.0, 1.0], got -0.07905450000000001.\n"
     ]
    },
    {
     "name": "stderr",
     "output_type": "stream",
     "text": [
      "Processing images: 100%|██████████| 1750/1750 [00:55<00:00, 31.48it/s]\n",
      "Processing images:  62%|██████▏   | 78/125 [00:02<00:01, 35.15it/s]"
     ]
    },
    {
     "name": "stdout",
     "output_type": "stream",
     "text": [
      "An error occurred with C:/github/Third-Year-Project/Intruder-Aircraft-Detection/datasets/Custom/weather_01_500\\images\\valid\\48958.jpg: Expected y_min for bbox (0.11869149999999995, -0.083345, 1.0148305, 0.514081, 2) to be in the range [0.0, 1.0], got -0.083345.\n"
     ]
    },
    {
     "name": "stderr",
     "output_type": "stream",
     "text": [
      "Processing images: 100%|██████████| 125/125 [00:04<00:00, 31.20it/s]\n",
      "Moving images in train: 100%|██████████| 491/491 [00:01<00:00, 285.60it/s]\n",
      "Moving images in train-aug: 100%|██████████| 1713/1713 [00:02<00:00, 670.67it/s]\n",
      "Moving images in valid: 100%|██████████| 124/124 [00:00<00:00, 299.58it/s]\n"
     ]
    },
    {
     "name": "stdout",
     "output_type": "stream",
     "text": [
      "Found 491 files belonging to 3 classes.\n",
      "Found 1713 files belonging to 3 classes.\n",
      "Found 124 files belonging to 3 classes.\n",
      "ClearML Task: created new task id=24d431bcab2649cdb7f79a4dcf94011e\n",
      "ClearML results page: https://app.clear.ml/projects/732b3d856c964d8c8d6c1abc5eb2b83a/experiments/24d431bcab2649cdb7f79a4dcf94011e/output/log\n",
      "Training model...\n",
      "Epoch 1/30\n",
      "\u001b[1m16/16\u001b[0m \u001b[32m━━━━━━━━━━━━━━━━━━━━\u001b[0m\u001b[37m\u001b[0m \u001b[1m6s\u001b[0m 278ms/step - accuracy: 0.3378 - loss: 3.1408 - precision: 0.3387 - recall: 0.1973 - val_accuracy: 0.3387 - val_loss: 1.1028 - val_precision: 0.0000e+00 - val_recall: 0.0000e+00\n",
      "Epoch 2/30\n",
      "\u001b[1m16/16\u001b[0m \u001b[32m━━━━━━━━━━━━━━━━━━━━\u001b[0m\u001b[37m\u001b[0m \u001b[1m4s\u001b[0m 223ms/step - accuracy: 0.3452 - loss: 1.1005 - precision: 0.0000e+00 - recall: 0.0000e+00 - val_accuracy: 0.3387 - val_loss: 1.0983 - val_precision: 0.0000e+00 - val_recall: 0.0000e+00\n",
      "Epoch 3/30\n",
      "\u001b[1m16/16\u001b[0m \u001b[32m━━━━━━━━━━━━━━━━━━━━\u001b[0m\u001b[37m\u001b[0m \u001b[1m4s\u001b[0m 217ms/step - accuracy: 0.3508 - loss: 1.0985 - precision: 0.0000e+00 - recall: 0.0000e+00 - val_accuracy: 0.3387 - val_loss: 1.1081 - val_precision: 0.0000e+00 - val_recall: 0.0000e+00\n",
      "Epoch 4/30\n",
      "\u001b[1m16/16\u001b[0m \u001b[32m━━━━━━━━━━━━━━━━━━━━\u001b[0m\u001b[37m\u001b[0m \u001b[1m4s\u001b[0m 219ms/step - accuracy: 0.3622 - loss: 1.1005 - precision: 0.0000e+00 - recall: 0.0000e+00 - val_accuracy: 0.3629 - val_loss: 1.0981 - val_precision: 0.0000e+00 - val_recall: 0.0000e+00\n",
      "Epoch 5/30\n",
      "\u001b[1m16/16\u001b[0m \u001b[32m━━━━━━━━━━━━━━━━━━━━\u001b[0m\u001b[37m\u001b[0m \u001b[1m4s\u001b[0m 214ms/step - accuracy: 0.3619 - loss: 1.0980 - precision: 0.0000e+00 - recall: 0.0000e+00 - val_accuracy: 0.3387 - val_loss: 1.0987 - val_precision: 0.0000e+00 - val_recall: 0.0000e+00\n",
      "Epoch 6/30\n",
      "\u001b[1m16/16\u001b[0m \u001b[32m━━━━━━━━━━━━━━━━━━━━\u001b[0m\u001b[37m\u001b[0m \u001b[1m4s\u001b[0m 217ms/step - accuracy: 0.3231 - loss: 1.0983 - precision: 0.0000e+00 - recall: 0.0000e+00 - val_accuracy: 0.3387 - val_loss: 1.0986 - val_precision: 0.0000e+00 - val_recall: 0.0000e+00\n",
      "Epoch 7/30\n",
      "\u001b[1m16/16\u001b[0m \u001b[32m━━━━━━━━━━━━━━━━━━━━\u001b[0m\u001b[37m\u001b[0m \u001b[1m4s\u001b[0m 220ms/step - accuracy: 0.3464 - loss: 1.0979 - precision: 0.0000e+00 - recall: 0.0000e+00 - val_accuracy: 0.3306 - val_loss: 1.0954 - val_precision: 0.0000e+00 - val_recall: 0.0000e+00\n",
      "Epoch 8/30\n",
      "\u001b[1m16/16\u001b[0m \u001b[32m━━━━━━━━━━━━━━━━━━━━\u001b[0m\u001b[37m\u001b[0m \u001b[1m4s\u001b[0m 218ms/step - accuracy: 0.3475 - loss: 1.0958 - precision: 0.0000e+00 - recall: 0.0000e+00 - val_accuracy: 0.3710 - val_loss: 1.0961 - val_precision: 0.0000e+00 - val_recall: 0.0000e+00\n",
      "Epoch 9/30\n",
      "\u001b[1m16/16\u001b[0m \u001b[32m━━━━━━━━━━━━━━━━━━━━\u001b[0m\u001b[37m\u001b[0m \u001b[1m4s\u001b[0m 219ms/step - accuracy: 0.3944 - loss: 1.1038 - precision: 0.1046 - recall: 0.0086 - val_accuracy: 0.3387 - val_loss: 1.0933 - val_precision: 0.0000e+00 - val_recall: 0.0000e+00\n",
      "Epoch 10/30\n",
      "\u001b[1m16/16\u001b[0m \u001b[32m━━━━━━━━━━━━━━━━━━━━\u001b[0m\u001b[37m\u001b[0m \u001b[1m4s\u001b[0m 215ms/step - accuracy: 0.2879 - loss: 1.1010 - precision: 0.0000e+00 - recall: 0.0000e+00 - val_accuracy: 0.4435 - val_loss: 1.0927 - val_precision: 0.0000e+00 - val_recall: 0.0000e+00\n",
      "Epoch 11/30\n",
      "\u001b[1m16/16\u001b[0m \u001b[32m━━━━━━━━━━━━━━━━━━━━\u001b[0m\u001b[37m\u001b[0m \u001b[1m4s\u001b[0m 232ms/step - accuracy: 0.4290 - loss: 1.0910 - precision: 0.0000e+00 - recall: 0.0000e+00 - val_accuracy: 0.3065 - val_loss: 1.0887 - val_precision: 0.0000e+00 - val_recall: 0.0000e+00\n",
      "Epoch 12/30\n",
      "\u001b[1m16/16\u001b[0m \u001b[32m━━━━━━━━━━━━━━━━━━━━\u001b[0m\u001b[37m\u001b[0m \u001b[1m4s\u001b[0m 259ms/step - accuracy: 0.3086 - loss: 1.0897 - precision: 0.0000e+00 - recall: 0.0000e+00 - val_accuracy: 0.3790 - val_loss: 1.0850 - val_precision: 0.0000e+00 - val_recall: 0.0000e+00\n",
      "Epoch 13/30\n",
      "\u001b[1m16/16\u001b[0m \u001b[32m━━━━━━━━━━━━━━━━━━━━\u001b[0m\u001b[37m\u001b[0m \u001b[1m4s\u001b[0m 216ms/step - accuracy: 0.4209 - loss: 1.0854 - precision: 0.0000e+00 - recall: 0.0000e+00 - val_accuracy: 0.4194 - val_loss: 1.0830 - val_precision: 0.0000e+00 - val_recall: 0.0000e+00\n",
      "Epoch 14/30\n",
      "\u001b[1m16/16\u001b[0m \u001b[32m━━━━━━━━━━━━━━━━━━━━\u001b[0m\u001b[37m\u001b[0m \u001b[1m4s\u001b[0m 218ms/step - accuracy: 0.4221 - loss: 1.0836 - precision: 0.2353 - recall: 9.5516e-04 - val_accuracy: 0.4516 - val_loss: 1.0802 - val_precision: 0.0000e+00 - val_recall: 0.0000e+00\n",
      "Epoch 15/30\n",
      "\u001b[1m16/16\u001b[0m \u001b[32m━━━━━━━━━━━━━━━━━━━━\u001b[0m\u001b[37m\u001b[0m \u001b[1m4s\u001b[0m 220ms/step - accuracy: 0.4660 - loss: 1.0648 - precision: 0.3884 - recall: 0.0215 - val_accuracy: 0.3710 - val_loss: 1.0893 - val_precision: 0.0000e+00 - val_recall: 0.0000e+00\n",
      "Epoch 16/30\n",
      "\u001b[1m16/16\u001b[0m \u001b[32m━━━━━━━━━━━━━━━━━━━━\u001b[0m\u001b[37m\u001b[0m \u001b[1m4s\u001b[0m 214ms/step - accuracy: 0.4015 - loss: 1.0872 - precision: 0.7353 - recall: 0.0111 - val_accuracy: 0.4758 - val_loss: 1.0561 - val_precision: 0.5000 - val_recall: 0.0161\n",
      "Epoch 17/30\n",
      "\u001b[1m16/16\u001b[0m \u001b[32m━━━━━━━━━━━━━━━━━━━━\u001b[0m\u001b[37m\u001b[0m \u001b[1m4s\u001b[0m 217ms/step - accuracy: 0.4441 - loss: 1.0480 - precision: 0.6563 - recall: 0.0674 - val_accuracy: 0.4113 - val_loss: 1.0944 - val_precision: 0.5273 - val_recall: 0.2339\n",
      "Epoch 18/30\n",
      "\u001b[1m16/16\u001b[0m \u001b[32m━━━━━━━━━━━━━━━━━━━━\u001b[0m\u001b[37m\u001b[0m \u001b[1m4s\u001b[0m 218ms/step - accuracy: 0.4996 - loss: 1.0363 - precision: 0.5966 - recall: 0.2595 - val_accuracy: 0.5161 - val_loss: 1.0542 - val_precision: 1.0000 - val_recall: 0.0081\n",
      "Epoch 19/30\n",
      "\u001b[1m16/16\u001b[0m \u001b[32m━━━━━━━━━━━━━━━━━━━━\u001b[0m\u001b[37m\u001b[0m \u001b[1m4s\u001b[0m 226ms/step - accuracy: 0.5455 - loss: 1.0161 - precision: 0.8375 - recall: 0.0546 - val_accuracy: 0.5645 - val_loss: 0.9994 - val_precision: 0.6842 - val_recall: 0.2097\n",
      "Epoch 20/30\n",
      "\u001b[1m16/16\u001b[0m \u001b[32m━━━━━━━━━━━━━━━━━━━━\u001b[0m\u001b[37m\u001b[0m \u001b[1m4s\u001b[0m 216ms/step - accuracy: 0.5920 - loss: 0.9254 - precision: 0.6797 - recall: 0.3014 - val_accuracy: 0.6210 - val_loss: 0.9420 - val_precision: 0.7826 - val_recall: 0.2903\n",
      "Epoch 21/30\n",
      "\u001b[1m16/16\u001b[0m \u001b[32m━━━━━━━━━━━━━━━━━━━━\u001b[0m\u001b[37m\u001b[0m \u001b[1m4s\u001b[0m 214ms/step - accuracy: 0.6877 - loss: 0.8281 - precision: 0.8433 - recall: 0.4312 - val_accuracy: 0.6129 - val_loss: 0.8594 - val_precision: 0.6771 - val_recall: 0.5242\n",
      "Epoch 22/30\n",
      "\u001b[1m16/16\u001b[0m \u001b[32m━━━━━━━━━━━━━━━━━━━━\u001b[0m\u001b[37m\u001b[0m \u001b[1m4s\u001b[0m 216ms/step - accuracy: 0.6683 - loss: 0.7697 - precision: 0.7493 - recall: 0.5037 - val_accuracy: 0.6855 - val_loss: 0.7999 - val_precision: 0.7684 - val_recall: 0.5887\n",
      "Epoch 23/30\n",
      "\u001b[1m16/16\u001b[0m \u001b[32m━━━━━━━━━━━━━━━━━━━━\u001b[0m\u001b[37m\u001b[0m \u001b[1m4s\u001b[0m 218ms/step - accuracy: 0.6945 - loss: 0.6734 - precision: 0.7637 - recall: 0.6073 - val_accuracy: 0.7016 - val_loss: 0.7974 - val_precision: 0.7273 - val_recall: 0.5806\n",
      "Epoch 24/30\n",
      "\u001b[1m16/16\u001b[0m \u001b[32m━━━━━━━━━━━━━━━━━━━━\u001b[0m\u001b[37m\u001b[0m \u001b[1m4s\u001b[0m 219ms/step - accuracy: 0.7810 - loss: 0.5884 - precision: 0.8015 - recall: 0.7093 - val_accuracy: 0.7742 - val_loss: 0.6705 - val_precision: 0.8113 - val_recall: 0.6935\n",
      "Epoch 25/30\n",
      "\u001b[1m16/16\u001b[0m \u001b[32m━━━━━━━━━━━━━━━━━━━━\u001b[0m\u001b[37m\u001b[0m \u001b[1m4s\u001b[0m 217ms/step - accuracy: 0.8276 - loss: 0.4733 - precision: 0.8648 - recall: 0.7548 - val_accuracy: 0.7177 - val_loss: 0.6965 - val_precision: 0.7477 - val_recall: 0.6694\n",
      "Epoch 26/30\n",
      "\u001b[1m16/16\u001b[0m \u001b[32m━━━━━━━━━━━━━━━━━━━━\u001b[0m\u001b[37m\u001b[0m \u001b[1m4s\u001b[0m 219ms/step - accuracy: 0.8351 - loss: 0.4696 - precision: 0.8638 - recall: 0.7862 - val_accuracy: 0.7097 - val_loss: 0.7006 - val_precision: 0.7981 - val_recall: 0.6694\n",
      "Epoch 27/30\n",
      "\u001b[1m16/16\u001b[0m \u001b[32m━━━━━━━━━━━━━━━━━━━━\u001b[0m\u001b[37m\u001b[0m \u001b[1m4s\u001b[0m 217ms/step - accuracy: 0.8321 - loss: 0.4331 - precision: 0.8753 - recall: 0.7923 - val_accuracy: 0.8226 - val_loss: 0.6513 - val_precision: 0.8403 - val_recall: 0.8065\n",
      "Epoch 28/30\n",
      "\u001b[1m16/16\u001b[0m \u001b[32m━━━━━━━━━━━━━━━━━━━━\u001b[0m\u001b[37m\u001b[0m \u001b[1m4s\u001b[0m 214ms/step - accuracy: 0.8422 - loss: 0.4458 - precision: 0.8633 - recall: 0.7904 - val_accuracy: 0.7823 - val_loss: 0.7266 - val_precision: 0.8103 - val_recall: 0.7581\n",
      "Epoch 29/30\n",
      "\u001b[1m16/16\u001b[0m \u001b[32m━━━━━━━━━━━━━━━━━━━━\u001b[0m\u001b[37m\u001b[0m \u001b[1m4s\u001b[0m 216ms/step - accuracy: 0.8640 - loss: 0.4104 - precision: 0.9004 - recall: 0.8164 - val_accuracy: 0.7742 - val_loss: 0.7352 - val_precision: 0.7909 - val_recall: 0.7016\n",
      "Epoch 30/30\n",
      "\u001b[1m16/16\u001b[0m \u001b[32m━━━━━━━━━━━━━━━━━━━━\u001b[0m\u001b[37m\u001b[0m \u001b[1m4s\u001b[0m 217ms/step - accuracy: 0.8229 - loss: 0.3914 - precision: 0.8696 - recall: 0.7936 - val_accuracy: 0.7903 - val_loss: 0.7143 - val_precision: 0.8017 - val_recall: 0.7500\n",
      "Predicting on validation set...\n",
      "\u001b[1m4/4\u001b[0m \u001b[32m━━━━━━━━━━━━━━━━━━━━\u001b[0m\u001b[37m\u001b[0m \u001b[1m0s\u001b[0m 62ms/step\n",
      "Sending metrics to clearML...\n",
      "done\n",
      "ClearML Task: created new task id=9696d34abb384c06bf6213d2bc7acc77\n",
      "ClearML results page: https://app.clear.ml/projects/732b3d856c964d8c8d6c1abc5eb2b83a/experiments/9696d34abb384c06bf6213d2bc7acc77/output/log\n",
      "Training model...\n",
      "Epoch 1/30\n",
      "\u001b[1m54/54\u001b[0m \u001b[32m━━━━━━━━━━━━━━━━━━━━\u001b[0m\u001b[37m\u001b[0m \u001b[1m15s\u001b[0m 244ms/step - accuracy: 0.3093 - loss: 2.0152 - precision: 0.3140 - recall: 0.0857 - val_accuracy: 0.4194 - val_loss: 1.0972 - val_precision: 0.0000e+00 - val_recall: 0.0000e+00\n",
      "Epoch 2/30\n",
      "\u001b[1m54/54\u001b[0m \u001b[32m━━━━━━━━━━━━━━━━━━━━\u001b[0m\u001b[37m\u001b[0m \u001b[1m12s\u001b[0m 215ms/step - accuracy: 0.3571 - loss: 1.1002 - precision: 0.0000e+00 - recall: 0.0000e+00 - val_accuracy: 0.3387 - val_loss: 1.0986 - val_precision: 0.0000e+00 - val_recall: 0.0000e+00\n",
      "Epoch 3/30\n",
      "\u001b[1m54/54\u001b[0m \u001b[32m━━━━━━━━━━━━━━━━━━━━\u001b[0m\u001b[37m\u001b[0m \u001b[1m12s\u001b[0m 218ms/step - accuracy: 0.3455 - loss: 1.0979 - precision: 0.0000e+00 - recall: 0.0000e+00 - val_accuracy: 0.3387 - val_loss: 1.0981 - val_precision: 0.0000e+00 - val_recall: 0.0000e+00\n",
      "Epoch 4/30\n",
      "\u001b[1m54/54\u001b[0m \u001b[32m━━━━━━━━━━━━━━━━━━━━\u001b[0m\u001b[37m\u001b[0m \u001b[1m13s\u001b[0m 233ms/step - accuracy: 0.3825 - loss: 1.0977 - precision: 0.2930 - recall: 8.3786e-04 - val_accuracy: 0.3387 - val_loss: 1.0960 - val_precision: 0.0000e+00 - val_recall: 0.0000e+00\n",
      "Epoch 5/30\n",
      "\u001b[1m54/54\u001b[0m \u001b[32m━━━━━━━━━━━━━━━━━━━━\u001b[0m\u001b[37m\u001b[0m \u001b[1m12s\u001b[0m 217ms/step - accuracy: 0.4497 - loss: 1.0482 - precision: 0.7161 - recall: 0.0700 - val_accuracy: 0.5323 - val_loss: 1.0747 - val_precision: 0.6714 - val_recall: 0.3790\n",
      "Epoch 6/30\n",
      "\u001b[1m54/54\u001b[0m \u001b[32m━━━━━━━━━━━━━━━━━━━━\u001b[0m\u001b[37m\u001b[0m \u001b[1m12s\u001b[0m 216ms/step - accuracy: 0.6879 - loss: 0.7931 - precision: 0.7922 - recall: 0.5043 - val_accuracy: 0.5806 - val_loss: 0.9844 - val_precision: 0.6842 - val_recall: 0.5242\n",
      "Epoch 7/30\n",
      "\u001b[1m54/54\u001b[0m \u001b[32m━━━━━━━━━━━━━━━━━━━━\u001b[0m\u001b[37m\u001b[0m \u001b[1m12s\u001b[0m 219ms/step - accuracy: 0.7816 - loss: 0.5406 - precision: 0.8455 - recall: 0.6964 - val_accuracy: 0.7500 - val_loss: 1.0403 - val_precision: 0.7712 - val_recall: 0.7339\n",
      "Epoch 8/30\n",
      "\u001b[1m54/54\u001b[0m \u001b[32m━━━━━━━━━━━━━━━━━━━━\u001b[0m\u001b[37m\u001b[0m \u001b[1m12s\u001b[0m 218ms/step - accuracy: 0.8347 - loss: 0.3916 - precision: 0.8650 - recall: 0.8135 - val_accuracy: 0.7500 - val_loss: 1.2725 - val_precision: 0.7561 - val_recall: 0.7500\n",
      "Epoch 9/30\n",
      "\u001b[1m54/54\u001b[0m \u001b[32m━━━━━━━━━━━━━━━━━━━━\u001b[0m\u001b[37m\u001b[0m \u001b[1m12s\u001b[0m 214ms/step - accuracy: 0.8635 - loss: 0.3209 - precision: 0.8893 - recall: 0.8430 - val_accuracy: 0.7097 - val_loss: 1.2627 - val_precision: 0.7179 - val_recall: 0.6774\n",
      "Epoch 10/30\n",
      "\u001b[1m54/54\u001b[0m \u001b[32m━━━━━━━━━━━━━━━━━━━━\u001b[0m\u001b[37m\u001b[0m \u001b[1m12s\u001b[0m 216ms/step - accuracy: 0.9036 - loss: 0.2592 - precision: 0.9226 - recall: 0.8824 - val_accuracy: 0.7742 - val_loss: 1.2574 - val_precision: 0.7787 - val_recall: 0.7661\n",
      "Epoch 11/30\n",
      "\u001b[1m54/54\u001b[0m \u001b[32m━━━━━━━━━━━━━━━━━━━━\u001b[0m\u001b[37m\u001b[0m \u001b[1m12s\u001b[0m 216ms/step - accuracy: 0.9103 - loss: 0.2364 - precision: 0.9195 - recall: 0.9004 - val_accuracy: 0.7661 - val_loss: 1.3052 - val_precision: 0.7623 - val_recall: 0.7500\n",
      "Epoch 12/30\n",
      "\u001b[1m54/54\u001b[0m \u001b[32m━━━━━━━━━━━━━━━━━━━━\u001b[0m\u001b[37m\u001b[0m \u001b[1m12s\u001b[0m 216ms/step - accuracy: 0.9099 - loss: 0.2368 - precision: 0.9225 - recall: 0.8956 - val_accuracy: 0.7984 - val_loss: 1.3039 - val_precision: 0.8083 - val_recall: 0.7823\n",
      "Epoch 13/30\n",
      "\u001b[1m54/54\u001b[0m \u001b[32m━━━━━━━━━━━━━━━━━━━━\u001b[0m\u001b[37m\u001b[0m \u001b[1m12s\u001b[0m 217ms/step - accuracy: 0.9354 - loss: 0.1643 - precision: 0.9505 - recall: 0.9275 - val_accuracy: 0.7903 - val_loss: 1.2755 - val_precision: 0.8033 - val_recall: 0.7903\n",
      "Epoch 14/30\n",
      "\u001b[1m54/54\u001b[0m \u001b[32m━━━━━━━━━━━━━━━━━━━━\u001b[0m\u001b[37m\u001b[0m \u001b[1m12s\u001b[0m 216ms/step - accuracy: 0.9452 - loss: 0.1283 - precision: 0.9493 - recall: 0.9409 - val_accuracy: 0.7742 - val_loss: 1.1403 - val_precision: 0.7983 - val_recall: 0.7661\n",
      "Epoch 15/30\n",
      "\u001b[1m54/54\u001b[0m \u001b[32m━━━━━━━━━━━━━━━━━━━━\u001b[0m\u001b[37m\u001b[0m \u001b[1m12s\u001b[0m 218ms/step - accuracy: 0.9440 - loss: 0.1322 - precision: 0.9496 - recall: 0.9426 - val_accuracy: 0.7903 - val_loss: 1.4090 - val_precision: 0.7886 - val_recall: 0.7823\n",
      "Epoch 16/30\n",
      "\u001b[1m54/54\u001b[0m \u001b[32m━━━━━━━━━━━━━━━━━━━━\u001b[0m\u001b[37m\u001b[0m \u001b[1m12s\u001b[0m 217ms/step - accuracy: 0.9616 - loss: 0.1122 - precision: 0.9672 - recall: 0.9573 - val_accuracy: 0.8065 - val_loss: 1.2973 - val_precision: 0.8049 - val_recall: 0.7984\n",
      "Epoch 17/30\n",
      "\u001b[1m54/54\u001b[0m \u001b[32m━━━━━━━━━━━━━━━━━━━━\u001b[0m\u001b[37m\u001b[0m \u001b[1m12s\u001b[0m 217ms/step - accuracy: 0.9597 - loss: 0.1078 - precision: 0.9625 - recall: 0.9539 - val_accuracy: 0.7903 - val_loss: 1.2557 - val_precision: 0.8000 - val_recall: 0.7742\n",
      "Epoch 18/30\n",
      "\u001b[1m54/54\u001b[0m \u001b[32m━━━━━━━━━━━━━━━━━━━━\u001b[0m\u001b[37m\u001b[0m \u001b[1m12s\u001b[0m 217ms/step - accuracy: 0.9636 - loss: 0.0888 - precision: 0.9678 - recall: 0.9623 - val_accuracy: 0.7984 - val_loss: 1.5848 - val_precision: 0.7967 - val_recall: 0.7903\n",
      "Epoch 19/30\n",
      "\u001b[1m54/54\u001b[0m \u001b[32m━━━━━━━━━━━━━━━━━━━━\u001b[0m\u001b[37m\u001b[0m \u001b[1m12s\u001b[0m 217ms/step - accuracy: 0.9764 - loss: 0.0727 - precision: 0.9765 - recall: 0.9745 - val_accuracy: 0.8226 - val_loss: 1.4857 - val_precision: 0.8279 - val_recall: 0.8145\n",
      "Epoch 20/30\n",
      "\u001b[1m54/54\u001b[0m \u001b[32m━━━━━━━━━━━━━━━━━━━━\u001b[0m\u001b[37m\u001b[0m \u001b[1m12s\u001b[0m 215ms/step - accuracy: 0.9791 - loss: 0.0571 - precision: 0.9796 - recall: 0.9785 - val_accuracy: 0.7984 - val_loss: 1.4776 - val_precision: 0.8017 - val_recall: 0.7823\n",
      "Epoch 21/30\n",
      "\u001b[1m54/54\u001b[0m \u001b[32m━━━━━━━━━━━━━━━━━━━━\u001b[0m\u001b[37m\u001b[0m \u001b[1m12s\u001b[0m 217ms/step - accuracy: 0.9790 - loss: 0.0550 - precision: 0.9796 - recall: 0.9780 - val_accuracy: 0.7823 - val_loss: 1.4523 - val_precision: 0.7951 - val_recall: 0.7823\n",
      "Epoch 22/30\n",
      "\u001b[1m54/54\u001b[0m \u001b[32m━━━━━━━━━━━━━━━━━━━━\u001b[0m\u001b[37m\u001b[0m \u001b[1m12s\u001b[0m 216ms/step - accuracy: 0.9830 - loss: 0.0473 - precision: 0.9860 - recall: 0.9828 - val_accuracy: 0.7903 - val_loss: 1.5673 - val_precision: 0.8067 - val_recall: 0.7742\n",
      "Epoch 23/30\n",
      "\u001b[1m54/54\u001b[0m \u001b[32m━━━━━━━━━━━━━━━━━━━━\u001b[0m\u001b[37m\u001b[0m \u001b[1m12s\u001b[0m 217ms/step - accuracy: 0.9851 - loss: 0.0474 - precision: 0.9862 - recall: 0.9815 - val_accuracy: 0.8065 - val_loss: 1.8642 - val_precision: 0.8115 - val_recall: 0.7984\n",
      "Epoch 24/30\n",
      "\u001b[1m54/54\u001b[0m \u001b[32m━━━━━━━━━━━━━━━━━━━━\u001b[0m\u001b[37m\u001b[0m \u001b[1m12s\u001b[0m 217ms/step - accuracy: 0.9897 - loss: 0.0352 - precision: 0.9906 - recall: 0.9887 - val_accuracy: 0.7903 - val_loss: 1.5658 - val_precision: 0.7886 - val_recall: 0.7823\n",
      "Epoch 25/30\n",
      "\u001b[1m54/54\u001b[0m \u001b[32m━━━━━━━━━━━━━━━━━━━━\u001b[0m\u001b[37m\u001b[0m \u001b[1m12s\u001b[0m 220ms/step - accuracy: 0.9939 - loss: 0.0278 - precision: 0.9939 - recall: 0.9930 - val_accuracy: 0.7661 - val_loss: 1.6724 - val_precision: 0.7833 - val_recall: 0.7581\n",
      "Epoch 26/30\n",
      "\u001b[1m54/54\u001b[0m \u001b[32m━━━━━━━━━━━━━━━━━━━━\u001b[0m\u001b[37m\u001b[0m \u001b[1m12s\u001b[0m 217ms/step - accuracy: 0.9859 - loss: 0.0372 - precision: 0.9870 - recall: 0.9824 - val_accuracy: 0.7742 - val_loss: 1.7561 - val_precision: 0.7742 - val_recall: 0.7742\n",
      "Epoch 27/30\n",
      "\u001b[1m54/54\u001b[0m \u001b[32m━━━━━━━━━━━━━━━━━━━━\u001b[0m\u001b[37m\u001b[0m \u001b[1m12s\u001b[0m 216ms/step - accuracy: 0.9888 - loss: 0.0356 - precision: 0.9888 - recall: 0.9862 - val_accuracy: 0.7984 - val_loss: 1.7214 - val_precision: 0.7951 - val_recall: 0.7823\n",
      "Epoch 28/30\n",
      "\u001b[1m54/54\u001b[0m \u001b[32m━━━━━━━━━━━━━━━━━━━━\u001b[0m\u001b[37m\u001b[0m \u001b[1m12s\u001b[0m 216ms/step - accuracy: 0.9977 - loss: 0.0290 - precision: 0.9977 - recall: 0.9932 - val_accuracy: 0.7823 - val_loss: 1.5291 - val_precision: 0.7886 - val_recall: 0.7823\n",
      "Epoch 29/30\n",
      "\u001b[1m54/54\u001b[0m \u001b[32m━━━━━━━━━━━━━━━━━━━━\u001b[0m\u001b[37m\u001b[0m \u001b[1m12s\u001b[0m 217ms/step - accuracy: 0.9890 - loss: 0.0249 - precision: 0.9917 - recall: 0.9890 - val_accuracy: 0.7903 - val_loss: 1.8722 - val_precision: 0.7967 - val_recall: 0.7903\n",
      "Epoch 30/30\n",
      "\u001b[1m54/54\u001b[0m \u001b[32m━━━━━━━━━━━━━━━━━━━━\u001b[0m\u001b[37m\u001b[0m \u001b[1m12s\u001b[0m 216ms/step - accuracy: 0.9942 - loss: 0.0215 - precision: 0.9942 - recall: 0.9942 - val_accuracy: 0.7984 - val_loss: 1.7416 - val_precision: 0.8182 - val_recall: 0.7984\n",
      "Predicting on validation set...\n",
      "\u001b[1m4/4\u001b[0m \u001b[32m━━━━━━━━━━━━━━━━━━━━\u001b[0m\u001b[37m\u001b[0m \u001b[1m0s\u001b[0m 64ms/step\n",
      "Sending metrics to clearML...\n",
      "done\n"
     ]
    }
   ],
   "source": [
    "# combination 3: contrast 0.5 + histEq 250%\n",
    "task_name = 'he,c'\n",
    "sub_project_name = 'HE+CONTRAST'\n",
    "\n",
    "augmentation_metadata = {\n",
    "        'methods': {        \n",
    "            'histEq': {\n",
    "                'parameters': {\n",
    "                    'p': 1.0  # Probability of applying the augmentation\n",
    "                },\n",
    "                'apply_to_percentage': 1.25  # 50% of the training images\n",
    "            },\n",
    "            'bnc': {\n",
    "            'parameters': {\n",
    "                'alpha': 0.5,\n",
    "                'beta': 0\n",
    "            },\n",
    "            'apply_to_percentage': 1.25  # 50% of the training images\n",
    "            }                    \n",
    "        }\n",
    "    }\n",
    "\n",
    "for i in range(N):\n",
    "    RUN = i + 1\n",
    "    try:\n",
    "        print(f\"Starting RUN: {RUN}\")\n",
    "        main(RUN, augmentation_metadata, task_name, sub_project_name, epochs, train_size, w1, w2)\n",
    "    except Exception as e:\n",
    "        print(f\"Error in RUN: {RUN}\")\n",
    "        print(e)\n",
    "        break\n",
    "    finally:\n",
    "        clear_output(wait=True)  # Clear the output to avoid scrolling\n",
    "        gc.collect()  # Collect garbage to avoid memory leaks"
   ]
  },
  {
   "cell_type": "code",
   "execution_count": 22,
   "metadata": {},
   "outputs": [
    {
     "name": "stdout",
     "output_type": "stream",
     "text": [
      "Starting RUN: 5\n",
      "Seed:  3190701081\n",
      "Num GPUs Available:  0\n"
     ]
    },
    {
     "name": "stderr",
     "output_type": "stream",
     "text": [
      "c:\\github\\Third-Year-Project\\Intruder-Aircraft-Detection\\main\\tl_clf.py:82: SettingWithCopyWarning:\n",
      "\n",
      "\n",
      "A value is trying to be set on a copy of a slice from a DataFrame.\n",
      "Try using .loc[row_indexer,col_indexer] = value instead\n",
      "\n",
      "See the caveats in the documentation: https://pandas.pydata.org/pandas-docs/stable/user_guide/indexing.html#returning-a-view-versus-a-copy\n",
      "\n",
      "c:\\github\\Third-Year-Project\\Intruder-Aircraft-Detection\\main\\tl_clf.py:83: SettingWithCopyWarning:\n",
      "\n",
      "\n",
      "A value is trying to be set on a copy of a slice from a DataFrame.\n",
      "Try using .loc[row_indexer,col_indexer] = value instead\n",
      "\n",
      "See the caveats in the documentation: https://pandas.pydata.org/pandas-docs/stable/user_guide/indexing.html#returning-a-view-versus-a-copy\n",
      "\n"
     ]
    },
    {
     "name": "stdout",
     "output_type": "stream",
     "text": [
      "Removing dataset if pre-existing\n",
      "Copying training files:\n"
     ]
    },
    {
     "name": "stderr",
     "output_type": "stream",
     "text": [
      "Copying files: 100%|██████████| 1000/1000 [00:00<00:00, 1657.88it/s]\n"
     ]
    },
    {
     "name": "stdout",
     "output_type": "stream",
     "text": [
      "Copying validation files:\n"
     ]
    },
    {
     "name": "stderr",
     "output_type": "stream",
     "text": [
      "Copying files: 100%|██████████| 250/250 [00:00<00:00, 1975.54it/s]\n"
     ]
    },
    {
     "name": "stdout",
     "output_type": "stream",
     "text": [
      "Dataset 'weather_01_500' created at C:\\github\\Third-Year-Project\\Intruder-Aircraft-Detection\\datasets\\Custom\\weather_01_500\n",
      "Processing train labels in weather_01_500:\n"
     ]
    },
    {
     "name": "stderr",
     "output_type": "stream",
     "text": [
      "Processing labels: 100%|██████████| 500/500 [00:01<00:00, 302.23it/s]\n"
     ]
    },
    {
     "name": "stdout",
     "output_type": "stream",
     "text": [
      "Processing valid labels in weather_01_500:\n"
     ]
    },
    {
     "name": "stderr",
     "output_type": "stream",
     "text": [
      "Processing labels: 100%|██████████| 125/125 [00:00<00:00, 271.08it/s]\n"
     ]
    },
    {
     "name": "stdout",
     "output_type": "stream",
     "text": [
      "Label correction completed.\n"
     ]
    },
    {
     "name": "stderr",
     "output_type": "stream",
     "text": [
      "Removing existing directories/files: 100%|██████████| 3/3 [00:00<00:00, 2001.10it/s]\n",
      "Copying files: 100%|██████████| 500/500 [00:00<00:00, 1112.10it/s]\n",
      "Copying files: 100%|██████████| 500/500 [00:00<00:00, 865.56it/s]\n",
      "Applying augmentations: 100%|██████████| 1248/1248 [00:25<00:00, 48.73it/s]\n"
     ]
    },
    {
     "name": "stdout",
     "output_type": "stream",
     "text": [
      "An error occurred: Expected x_min for bbox (-0.032714999999999994, -0.10783849999999998, 0.8482190000000001, 0.4794505, 1) to be in the range [0.0, 1.0], got -0.032714999999999994.\n",
      "An error occurred: Expected x_max for bbox (0.46096849999999995, 0.09652050000000001, 1.0471375, 0.4872995, 1) to be in the range [0.0, 1.0], got 1.0471375.\n",
      "An error occurred: Expected y_min for bbox (0.5048285, -0.00766349999999999, 0.8729035, 0.2377195, 0) to be in the range [0.0, 1.0], got -0.00766349999999999.\n",
      "An error occurred: Expected x_min for bbox (-0.032714999999999994, -0.10783849999999998, 0.8482190000000001, 0.4794505, 1) to be in the range [0.0, 1.0], got -0.032714999999999994.\n"
     ]
    },
    {
     "name": "stderr",
     "output_type": "stream",
     "text": [
      "Processing images:  20%|██        | 102/500 [00:03<00:11, 36.16it/s]"
     ]
    },
    {
     "name": "stdout",
     "output_type": "stream",
     "text": [
      "An error occurred with C:/github/Third-Year-Project/Intruder-Aircraft-Detection/datasets/Custom/weather_01_500\\images\\train\\24027.jpg: Expected x_max for bbox (0.46096849999999995, 0.09652050000000001, 1.0471375, 0.4872995, 1) to be in the range [0.0, 1.0], got 1.0471375.\n"
     ]
    },
    {
     "name": "stderr",
     "output_type": "stream",
     "text": [
      "Processing images:  22%|██▏       | 110/500 [00:04<00:11, 35.29it/s]"
     ]
    },
    {
     "name": "stdout",
     "output_type": "stream",
     "text": [
      "An error occurred with C:/github/Third-Year-Project/Intruder-Aircraft-Detection/datasets/Custom/weather_01_500\\images\\train\\24066.jpg: Expected x_min for bbox (-0.032714999999999994, -0.10783849999999998, 0.8482190000000001, 0.4794505, 1) to be in the range [0.0, 1.0], got -0.032714999999999994.\n"
     ]
    },
    {
     "name": "stderr",
     "output_type": "stream",
     "text": [
      "Processing images:  30%|███       | 151/500 [00:05<00:10, 33.86it/s]"
     ]
    },
    {
     "name": "stdout",
     "output_type": "stream",
     "text": [
      "An error occurred with C:/github/Third-Year-Project/Intruder-Aircraft-Detection/datasets/Custom/weather_01_500\\images\\train\\24664.jpg: Expected x_min for bbox (-0.012226999999999988, 0.5140865000000001, 0.810117, 1.0623155, 1) to be in the range [0.0, 1.0], got -0.012226999999999988.\n"
     ]
    },
    {
     "name": "stderr",
     "output_type": "stream",
     "text": [
      "Processing images:  94%|█████████▍| 469/500 [00:14<00:00, 36.04it/s]"
     ]
    },
    {
     "name": "stdout",
     "output_type": "stream",
     "text": [
      "An error occurred with C:/github/Third-Year-Project/Intruder-Aircraft-Detection/datasets/Custom/weather_01_500\\images\\train\\671.jpg: Expected y_min for bbox (0.5048285, -0.00766349999999999, 0.8729035, 0.2377195, 0) to be in the range [0.0, 1.0], got -0.00766349999999999.\n"
     ]
    },
    {
     "name": "stderr",
     "output_type": "stream",
     "text": [
      "Processing images: 100%|██████████| 500/500 [00:15<00:00, 31.55it/s]\n",
      "Processing images:  21%|██        | 365/1744 [00:14<00:43, 31.46it/s]"
     ]
    },
    {
     "name": "stdout",
     "output_type": "stream",
     "text": [
      "An error occurred with C:/github/Third-Year-Project/Intruder-Aircraft-Detection/datasets/Custom/weather_01_500\\images\\train-aug\\24027.jpg: Expected x_max for bbox (0.46096849999999995, 0.09652050000000001, 1.0471375, 0.4872995, 1) to be in the range [0.0, 1.0], got 1.0471375.\n"
     ]
    },
    {
     "name": "stderr",
     "output_type": "stream",
     "text": [
      "Processing images:  22%|██▏       | 381/1744 [00:15<00:43, 31.62it/s]"
     ]
    },
    {
     "name": "stdout",
     "output_type": "stream",
     "text": [
      "An error occurred with C:/github/Third-Year-Project/Intruder-Aircraft-Detection/datasets/Custom/weather_01_500\\images\\train-aug\\24066.jpg: Expected x_min for bbox (-0.032714999999999994, -0.10783849999999998, 0.8482190000000001, 0.4794505, 1) to be in the range [0.0, 1.0], got -0.032714999999999994.\n"
     ]
    },
    {
     "name": "stderr",
     "output_type": "stream",
     "text": [
      "Processing images:  30%|███       | 530/1744 [00:20<00:36, 33.56it/s]"
     ]
    },
    {
     "name": "stdout",
     "output_type": "stream",
     "text": [
      "An error occurred with C:/github/Third-Year-Project/Intruder-Aircraft-Detection/datasets/Custom/weather_01_500\\images\\train-aug\\24664.jpg: Expected x_min for bbox (-0.012226999999999988, 0.5140865000000001, 0.810117, 1.0623155, 1) to be in the range [0.0, 1.0], got -0.012226999999999988.\n",
      "An error occurred with C:/github/Third-Year-Project/Intruder-Aircraft-Detection/datasets/Custom/weather_01_500\\images\\train-aug\\24664-histEq-91d80d5d.jpg: Expected x_min for bbox (-0.012226999999999988, 0.5140865000000001, 0.810117, 1.0623155, 1) to be in the range [0.0, 1.0], got -0.012226999999999988.\n"
     ]
    },
    {
     "name": "stderr",
     "output_type": "stream",
     "text": [
      "Processing images:  94%|█████████▎| 1631/1744 [00:53<00:02, 43.49it/s]"
     ]
    },
    {
     "name": "stdout",
     "output_type": "stream",
     "text": [
      "An error occurred with C:/github/Third-Year-Project/Intruder-Aircraft-Detection/datasets/Custom/weather_01_500\\images\\train-aug\\671.jpg: Expected y_min for bbox (0.5048285, -0.00766349999999999, 0.8729035, 0.2377195, 0) to be in the range [0.0, 1.0], got -0.00766349999999999.\n",
      "An error occurred with C:/github/Third-Year-Project/Intruder-Aircraft-Detection/datasets/Custom/weather_01_500\\images\\train-aug\\671-histEq-46381355.jpg: Expected y_min for bbox (0.5048285, -0.00766349999999999, 0.8729035, 0.2377195, 0) to be in the range [0.0, 1.0], got -0.00766349999999999.\n",
      "An error occurred with C:/github/Third-Year-Project/Intruder-Aircraft-Detection/datasets/Custom/weather_01_500\\images\\train-aug\\671-histEq-bb919ac5.jpg: Expected y_min for bbox (0.5048285, -0.00766349999999999, 0.8729035, 0.2377195, 0) to be in the range [0.0, 1.0], got -0.00766349999999999.\n"
     ]
    },
    {
     "name": "stderr",
     "output_type": "stream",
     "text": [
      "Processing images: 100%|██████████| 1744/1744 [00:56<00:00, 30.84it/s]\n",
      "Processing images: 100%|██████████| 125/125 [00:04<00:00, 30.51it/s]\n",
      "Moving images in train: 100%|██████████| 496/496 [00:01<00:00, 274.76it/s]\n",
      "Moving images in train-aug: 100%|██████████| 1737/1737 [00:04<00:00, 366.17it/s]\n",
      "Moving images in valid: 100%|██████████| 125/125 [00:00<00:00, 291.57it/s]\n"
     ]
    },
    {
     "name": "stdout",
     "output_type": "stream",
     "text": [
      "Found 496 files belonging to 3 classes.\n",
      "Found 1737 files belonging to 3 classes.\n",
      "Found 125 files belonging to 3 classes.\n",
      "ClearML Task: created new task id=1c5279a21a1c40a3b164e3fcd7f38d3b\n",
      "ClearML results page: https://app.clear.ml/projects/fb97ed0f5f9342429b425a323c599f73/experiments/1c5279a21a1c40a3b164e3fcd7f38d3b/output/log\n",
      "Training model...\n",
      "Epoch 1/30\n",
      "\u001b[1m16/16\u001b[0m \u001b[32m━━━━━━━━━━━━━━━━━━━━\u001b[0m\u001b[37m\u001b[0m \u001b[1m7s\u001b[0m 289ms/step - accuracy: 0.3550 - loss: 2.0181 - precision: 0.3584 - recall: 0.2065 - val_accuracy: 0.3360 - val_loss: 1.0986 - val_precision: 0.0000e+00 - val_recall: 0.0000e+00\n",
      "Epoch 2/30\n",
      "\u001b[1m16/16\u001b[0m \u001b[32m━━━━━━━━━━━━━━━━━━━━\u001b[0m\u001b[37m\u001b[0m \u001b[1m4s\u001b[0m 225ms/step - accuracy: 0.3504 - loss: 1.0967 - precision: 0.0000e+00 - recall: 0.0000e+00 - val_accuracy: 0.3360 - val_loss: 1.0984 - val_precision: 0.0000e+00 - val_recall: 0.0000e+00\n",
      "Epoch 3/30\n",
      "\u001b[1m16/16\u001b[0m \u001b[32m━━━━━━━━━━━━━━━━━━━━\u001b[0m\u001b[37m\u001b[0m \u001b[1m4s\u001b[0m 222ms/step - accuracy: 0.3373 - loss: 1.0983 - precision: 0.0000e+00 - recall: 0.0000e+00 - val_accuracy: 0.3360 - val_loss: 1.0978 - val_precision: 0.0000e+00 - val_recall: 0.0000e+00\n",
      "Epoch 4/30\n",
      "\u001b[1m16/16\u001b[0m \u001b[32m━━━━━━━━━━━━━━━━━━━━\u001b[0m\u001b[37m\u001b[0m \u001b[1m4s\u001b[0m 220ms/step - accuracy: 0.3297 - loss: 1.0979 - precision: 0.0000e+00 - recall: 0.0000e+00 - val_accuracy: 0.3360 - val_loss: 1.0973 - val_precision: 0.0000e+00 - val_recall: 0.0000e+00\n",
      "Epoch 5/30\n",
      "\u001b[1m16/16\u001b[0m \u001b[32m━━━━━━━━━━━━━━━━━━━━\u001b[0m\u001b[37m\u001b[0m \u001b[1m4s\u001b[0m 221ms/step - accuracy: 0.3416 - loss: 1.0987 - precision: 0.0000e+00 - recall: 0.0000e+00 - val_accuracy: 0.3360 - val_loss: 1.0971 - val_precision: 0.0000e+00 - val_recall: 0.0000e+00\n",
      "Epoch 6/30\n",
      "\u001b[1m16/16\u001b[0m \u001b[32m━━━━━━━━━━━━━━━━━━━━\u001b[0m\u001b[37m\u001b[0m \u001b[1m4s\u001b[0m 217ms/step - accuracy: 0.3436 - loss: 1.0940 - precision: 0.0000e+00 - recall: 0.0000e+00 - val_accuracy: 0.3360 - val_loss: 1.1328 - val_precision: 0.0000e+00 - val_recall: 0.0000e+00\n",
      "Epoch 7/30\n",
      "\u001b[1m16/16\u001b[0m \u001b[32m━━━━━━━━━━━━━━━━━━━━\u001b[0m\u001b[37m\u001b[0m \u001b[1m4s\u001b[0m 222ms/step - accuracy: 0.3644 - loss: 1.0988 - precision: 0.2407 - recall: 0.0131 - val_accuracy: 0.3520 - val_loss: 1.0819 - val_precision: 1.0000 - val_recall: 0.0080\n",
      "Epoch 8/30\n",
      "\u001b[1m16/16\u001b[0m \u001b[32m━━━━━━━━━━━━━━━━━━━━\u001b[0m\u001b[37m\u001b[0m \u001b[1m4s\u001b[0m 222ms/step - accuracy: 0.4078 - loss: 1.0400 - precision: 0.7449 - recall: 0.0342 - val_accuracy: 0.4080 - val_loss: 1.0573 - val_precision: 1.0000 - val_recall: 0.0240\n",
      "Epoch 9/30\n",
      "\u001b[1m16/16\u001b[0m \u001b[32m━━━━━━━━━━━━━━━━━━━━\u001b[0m\u001b[37m\u001b[0m \u001b[1m4s\u001b[0m 221ms/step - accuracy: 0.5831 - loss: 0.9746 - precision: 0.8794 - recall: 0.1192 - val_accuracy: 0.5040 - val_loss: 0.9883 - val_precision: 0.8108 - val_recall: 0.2400\n",
      "Epoch 10/30\n",
      "\u001b[1m16/16\u001b[0m \u001b[32m━━━━━━━━━━━━━━━━━━━━\u001b[0m\u001b[37m\u001b[0m \u001b[1m4s\u001b[0m 225ms/step - accuracy: 0.6142 - loss: 0.8913 - precision: 0.8094 - recall: 0.3621 - val_accuracy: 0.5680 - val_loss: 1.0412 - val_precision: 0.6154 - val_recall: 0.3840\n",
      "Epoch 11/30\n",
      "\u001b[1m16/16\u001b[0m \u001b[32m━━━━━━━━━━━━━━━━━━━━\u001b[0m\u001b[37m\u001b[0m \u001b[1m4s\u001b[0m 240ms/step - accuracy: 0.6459 - loss: 0.8337 - precision: 0.7685 - recall: 0.4889 - val_accuracy: 0.5680 - val_loss: 0.9281 - val_precision: 0.6716 - val_recall: 0.3600\n",
      "Epoch 12/30\n",
      "\u001b[1m16/16\u001b[0m \u001b[32m━━━━━━━━━━━━━━━━━━━━\u001b[0m\u001b[37m\u001b[0m \u001b[1m5s\u001b[0m 266ms/step - accuracy: 0.6861 - loss: 0.7663 - precision: 0.7954 - recall: 0.4829 - val_accuracy: 0.5200 - val_loss: 0.9322 - val_precision: 0.6222 - val_recall: 0.4480\n",
      "Epoch 13/30\n",
      "\u001b[1m16/16\u001b[0m \u001b[32m━━━━━━━━━━━━━━━━━━━━\u001b[0m\u001b[37m\u001b[0m \u001b[1m4s\u001b[0m 219ms/step - accuracy: 0.6980 - loss: 0.6800 - precision: 0.7615 - recall: 0.6266 - val_accuracy: 0.6080 - val_loss: 0.9274 - val_precision: 0.7179 - val_recall: 0.4480\n",
      "Epoch 14/30\n",
      "\u001b[1m16/16\u001b[0m \u001b[32m━━━━━━━━━━━━━━━━━━━━\u001b[0m\u001b[37m\u001b[0m \u001b[1m4s\u001b[0m 222ms/step - accuracy: 0.6710 - loss: 0.7239 - precision: 0.8153 - recall: 0.5613 - val_accuracy: 0.6080 - val_loss: 0.9572 - val_precision: 0.6939 - val_recall: 0.2720\n",
      "Epoch 15/30\n",
      "\u001b[1m16/16\u001b[0m \u001b[32m━━━━━━━━━━━━━━━━━━━━\u001b[0m\u001b[37m\u001b[0m \u001b[1m4s\u001b[0m 221ms/step - accuracy: 0.6884 - loss: 0.7090 - precision: 0.8655 - recall: 0.4851 - val_accuracy: 0.6880 - val_loss: 0.9358 - val_precision: 0.7184 - val_recall: 0.5920\n",
      "Epoch 16/30\n",
      "\u001b[1m16/16\u001b[0m \u001b[32m━━━━━━━━━━━━━━━━━━━━\u001b[0m\u001b[37m\u001b[0m \u001b[1m4s\u001b[0m 220ms/step - accuracy: 0.7891 - loss: 0.5295 - precision: 0.8130 - recall: 0.7299 - val_accuracy: 0.6960 - val_loss: 0.9180 - val_precision: 0.7264 - val_recall: 0.6160\n",
      "Epoch 17/30\n",
      "\u001b[1m16/16\u001b[0m \u001b[32m━━━━━━━━━━━━━━━━━━━━\u001b[0m\u001b[37m\u001b[0m \u001b[1m4s\u001b[0m 219ms/step - accuracy: 0.7965 - loss: 0.4945 - precision: 0.8551 - recall: 0.7354 - val_accuracy: 0.6720 - val_loss: 0.9074 - val_precision: 0.7182 - val_recall: 0.6320\n",
      "Epoch 18/30\n",
      "\u001b[1m16/16\u001b[0m \u001b[32m━━━━━━━━━━━━━━━━━━━━\u001b[0m\u001b[37m\u001b[0m \u001b[1m4s\u001b[0m 217ms/step - accuracy: 0.8128 - loss: 0.4321 - precision: 0.8502 - recall: 0.7786 - val_accuracy: 0.6800 - val_loss: 1.0927 - val_precision: 0.6891 - val_recall: 0.6560\n",
      "Epoch 19/30\n",
      "\u001b[1m16/16\u001b[0m \u001b[32m━━━━━━━━━━━━━━━━━━━━\u001b[0m\u001b[37m\u001b[0m \u001b[1m4s\u001b[0m 223ms/step - accuracy: 0.8312 - loss: 0.4046 - precision: 0.8696 - recall: 0.7964 - val_accuracy: 0.6960 - val_loss: 0.9183 - val_precision: 0.7364 - val_recall: 0.6480\n",
      "Epoch 20/30\n",
      "\u001b[1m16/16\u001b[0m \u001b[32m━━━━━━━━━━━━━━━━━━━━\u001b[0m\u001b[37m\u001b[0m \u001b[1m4s\u001b[0m 221ms/step - accuracy: 0.8514 - loss: 0.3869 - precision: 0.8876 - recall: 0.8143 - val_accuracy: 0.6480 - val_loss: 1.3426 - val_precision: 0.6529 - val_recall: 0.6320\n",
      "Epoch 21/30\n",
      "\u001b[1m16/16\u001b[0m \u001b[32m━━━━━━━━━━━━━━━━━━━━\u001b[0m\u001b[37m\u001b[0m \u001b[1m4s\u001b[0m 221ms/step - accuracy: 0.8658 - loss: 0.3522 - precision: 0.8788 - recall: 0.8235 - val_accuracy: 0.6880 - val_loss: 1.0938 - val_precision: 0.7143 - val_recall: 0.6800\n",
      "Epoch 22/30\n",
      "\u001b[1m16/16\u001b[0m \u001b[32m━━━━━━━━━━━━━━━━━━━━\u001b[0m\u001b[37m\u001b[0m \u001b[1m4s\u001b[0m 221ms/step - accuracy: 0.8791 - loss: 0.3161 - precision: 0.8988 - recall: 0.8686 - val_accuracy: 0.7200 - val_loss: 0.9689 - val_precision: 0.7414 - val_recall: 0.6880\n",
      "Epoch 23/30\n",
      "\u001b[1m16/16\u001b[0m \u001b[32m━━━━━━━━━━━━━━━━━━━━\u001b[0m\u001b[37m\u001b[0m \u001b[1m4s\u001b[0m 222ms/step - accuracy: 0.7996 - loss: 0.4446 - precision: 0.8477 - recall: 0.7658 - val_accuracy: 0.7120 - val_loss: 1.0395 - val_precision: 0.7250 - val_recall: 0.6960\n",
      "Epoch 24/30\n",
      "\u001b[1m16/16\u001b[0m \u001b[32m━━━━━━━━━━━━━━━━━━━━\u001b[0m\u001b[37m\u001b[0m \u001b[1m4s\u001b[0m 220ms/step - accuracy: 0.8562 - loss: 0.3827 - precision: 0.8784 - recall: 0.8256 - val_accuracy: 0.6640 - val_loss: 1.2795 - val_precision: 0.6777 - val_recall: 0.6560\n",
      "Epoch 25/30\n",
      "\u001b[1m16/16\u001b[0m \u001b[32m━━━━━━━━━━━━━━━━━━━━\u001b[0m\u001b[37m\u001b[0m \u001b[1m4s\u001b[0m 221ms/step - accuracy: 0.9004 - loss: 0.3198 - precision: 0.9090 - recall: 0.8864 - val_accuracy: 0.6880 - val_loss: 1.1804 - val_precision: 0.6885 - val_recall: 0.6720\n",
      "Epoch 26/30\n",
      "\u001b[1m16/16\u001b[0m \u001b[32m━━━━━━━━━━━━━━━━━━━━\u001b[0m\u001b[37m\u001b[0m \u001b[1m4s\u001b[0m 221ms/step - accuracy: 0.8826 - loss: 0.3302 - precision: 0.8959 - recall: 0.8622 - val_accuracy: 0.6960 - val_loss: 1.1718 - val_precision: 0.7107 - val_recall: 0.6880\n",
      "Epoch 27/30\n",
      "\u001b[1m16/16\u001b[0m \u001b[32m━━━━━━━━━━━━━━━━━━━━\u001b[0m\u001b[37m\u001b[0m \u001b[1m4s\u001b[0m 220ms/step - accuracy: 0.8862 - loss: 0.2731 - precision: 0.9111 - recall: 0.8743 - val_accuracy: 0.6560 - val_loss: 1.1430 - val_precision: 0.6949 - val_recall: 0.6560\n",
      "Epoch 28/30\n",
      "\u001b[1m16/16\u001b[0m \u001b[32m━━━━━━━━━━━━━━━━━━━━\u001b[0m\u001b[37m\u001b[0m \u001b[1m4s\u001b[0m 220ms/step - accuracy: 0.8575 - loss: 0.3521 - precision: 0.8738 - recall: 0.8320 - val_accuracy: 0.6560 - val_loss: 1.4062 - val_precision: 0.6639 - val_recall: 0.6480\n",
      "Epoch 29/30\n",
      "\u001b[1m16/16\u001b[0m \u001b[32m━━━━━━━━━━━━━━━━━━━━\u001b[0m\u001b[37m\u001b[0m \u001b[1m4s\u001b[0m 224ms/step - accuracy: 0.8814 - loss: 0.3029 - precision: 0.9047 - recall: 0.8769 - val_accuracy: 0.7120 - val_loss: 1.1262 - val_precision: 0.7250 - val_recall: 0.6960\n",
      "Epoch 30/30\n",
      "\u001b[1m16/16\u001b[0m \u001b[32m━━━━━━━━━━━━━━━━━━━━\u001b[0m\u001b[37m\u001b[0m \u001b[1m4s\u001b[0m 219ms/step - accuracy: 0.9086 - loss: 0.2452 - precision: 0.9213 - recall: 0.8913 - val_accuracy: 0.7200 - val_loss: 1.2728 - val_precision: 0.7311 - val_recall: 0.6960\n",
      "Predicting on validation set...\n",
      "\u001b[1m4/4\u001b[0m \u001b[32m━━━━━━━━━━━━━━━━━━━━\u001b[0m\u001b[37m\u001b[0m \u001b[1m0s\u001b[0m 69ms/step\n",
      "Sending metrics to clearML...\n",
      "done\n",
      "ClearML Task: created new task id=8ee8b50fccec4fcf999a07eb610e942b\n",
      "ClearML results page: https://app.clear.ml/projects/fb97ed0f5f9342429b425a323c599f73/experiments/8ee8b50fccec4fcf999a07eb610e942b/output/log\n",
      "Training model...\n",
      "Epoch 1/30\n",
      "\u001b[1m55/55\u001b[0m \u001b[32m━━━━━━━━━━━━━━━━━━━━\u001b[0m\u001b[37m\u001b[0m \u001b[1m15s\u001b[0m 243ms/step - accuracy: 0.3664 - loss: 1.6423 - precision: 0.3732 - recall: 0.0958 - val_accuracy: 0.3360 - val_loss: 1.0994 - val_precision: 0.0000e+00 - val_recall: 0.0000e+00\n",
      "Epoch 2/30\n",
      "\u001b[1m55/55\u001b[0m \u001b[32m━━━━━━━━━━━━━━━━━━━━\u001b[0m\u001b[37m\u001b[0m \u001b[1m12s\u001b[0m 216ms/step - accuracy: 0.3968 - loss: 1.0655 - precision: 0.6475 - recall: 0.0447 - val_accuracy: 0.5520 - val_loss: 1.0596 - val_precision: 0.5714 - val_recall: 0.1600\n",
      "Epoch 3/30\n",
      "\u001b[1m55/55\u001b[0m \u001b[32m━━━━━━━━━━━━━━━━━━━━\u001b[0m\u001b[37m\u001b[0m \u001b[1m12s\u001b[0m 216ms/step - accuracy: 0.6088 - loss: 0.8908 - precision: 0.7714 - recall: 0.3521 - val_accuracy: 0.5920 - val_loss: 0.8952 - val_precision: 0.6630 - val_recall: 0.4880\n",
      "Epoch 4/30\n",
      "\u001b[1m55/55\u001b[0m \u001b[32m━━━━━━━━━━━━━━━━━━━━\u001b[0m\u001b[37m\u001b[0m \u001b[1m13s\u001b[0m 234ms/step - accuracy: 0.7408 - loss: 0.6496 - precision: 0.7934 - recall: 0.6351 - val_accuracy: 0.6960 - val_loss: 0.8762 - val_precision: 0.7170 - val_recall: 0.6080\n",
      "Epoch 5/30\n",
      "\u001b[1m55/55\u001b[0m \u001b[32m━━━━━━━━━━━━━━━━━━━━\u001b[0m\u001b[37m\u001b[0m \u001b[1m12s\u001b[0m 218ms/step - accuracy: 0.8001 - loss: 0.4804 - precision: 0.8402 - recall: 0.7487 - val_accuracy: 0.6640 - val_loss: 1.0206 - val_precision: 0.7027 - val_recall: 0.6240\n",
      "Epoch 6/30\n",
      "\u001b[1m55/55\u001b[0m \u001b[32m━━━━━━━━━━━━━━━━━━━━\u001b[0m\u001b[37m\u001b[0m \u001b[1m12s\u001b[0m 216ms/step - accuracy: 0.7905 - loss: 0.4803 - precision: 0.8330 - recall: 0.7545 - val_accuracy: 0.6800 - val_loss: 1.0695 - val_precision: 0.6897 - val_recall: 0.6400\n",
      "Epoch 7/30\n",
      "\u001b[1m55/55\u001b[0m \u001b[32m━━━━━━━━━━━━━━━━━━━━\u001b[0m\u001b[37m\u001b[0m \u001b[1m12s\u001b[0m 220ms/step - accuracy: 0.8548 - loss: 0.3736 - precision: 0.8779 - recall: 0.8236 - val_accuracy: 0.7280 - val_loss: 1.0984 - val_precision: 0.7500 - val_recall: 0.7200\n",
      "Epoch 8/30\n",
      "\u001b[1m55/55\u001b[0m \u001b[32m━━━━━━━━━━━━━━━━━━━━\u001b[0m\u001b[37m\u001b[0m \u001b[1m12s\u001b[0m 216ms/step - accuracy: 0.8559 - loss: 0.3664 - precision: 0.8848 - recall: 0.8233 - val_accuracy: 0.7360 - val_loss: 1.0529 - val_precision: 0.7395 - val_recall: 0.7040\n",
      "Epoch 9/30\n",
      "\u001b[1m55/55\u001b[0m \u001b[32m━━━━━━━━━━━━━━━━━━━━\u001b[0m\u001b[37m\u001b[0m \u001b[1m12s\u001b[0m 216ms/step - accuracy: 0.8714 - loss: 0.2985 - precision: 0.9025 - recall: 0.8550 - val_accuracy: 0.7360 - val_loss: 1.2540 - val_precision: 0.7583 - val_recall: 0.7280\n",
      "Epoch 10/30\n",
      "\u001b[1m55/55\u001b[0m \u001b[32m━━━━━━━━━━━━━━━━━━━━\u001b[0m\u001b[37m\u001b[0m \u001b[1m12s\u001b[0m 216ms/step - accuracy: 0.8784 - loss: 0.3120 - precision: 0.9071 - recall: 0.8582 - val_accuracy: 0.7440 - val_loss: 1.4728 - val_precision: 0.7417 - val_recall: 0.7120\n",
      "Epoch 11/30\n",
      "\u001b[1m55/55\u001b[0m \u001b[32m━━━━━━━━━━━━━━━━━━━━\u001b[0m\u001b[37m\u001b[0m \u001b[1m12s\u001b[0m 217ms/step - accuracy: 0.8975 - loss: 0.2553 - precision: 0.9129 - recall: 0.8838 - val_accuracy: 0.6480 - val_loss: 1.8063 - val_precision: 0.6612 - val_recall: 0.6400\n",
      "Epoch 12/30\n",
      "\u001b[1m55/55\u001b[0m \u001b[32m━━━━━━━━━━━━━━━━━━━━\u001b[0m\u001b[37m\u001b[0m \u001b[1m12s\u001b[0m 221ms/step - accuracy: 0.9197 - loss: 0.2026 - precision: 0.9280 - recall: 0.9138 - val_accuracy: 0.6720 - val_loss: 1.9250 - val_precision: 0.6885 - val_recall: 0.6720\n",
      "Epoch 13/30\n",
      "\u001b[1m55/55\u001b[0m \u001b[32m━━━━━━━━━━━━━━━━━━━━\u001b[0m\u001b[37m\u001b[0m \u001b[1m12s\u001b[0m 216ms/step - accuracy: 0.9357 - loss: 0.1642 - precision: 0.9434 - recall: 0.9268 - val_accuracy: 0.7040 - val_loss: 2.0478 - val_precision: 0.6942 - val_recall: 0.6720\n",
      "Epoch 14/30\n",
      "\u001b[1m55/55\u001b[0m \u001b[32m━━━━━━━━━━━━━━━━━━━━\u001b[0m\u001b[37m\u001b[0m \u001b[1m12s\u001b[0m 216ms/step - accuracy: 0.9529 - loss: 0.1323 - precision: 0.9584 - recall: 0.9491 - val_accuracy: 0.6560 - val_loss: 2.1337 - val_precision: 0.6560 - val_recall: 0.6560\n",
      "Epoch 15/30\n",
      "\u001b[1m55/55\u001b[0m \u001b[32m━━━━━━━━━━━━━━━━━━━━\u001b[0m\u001b[37m\u001b[0m \u001b[1m12s\u001b[0m 216ms/step - accuracy: 0.9536 - loss: 0.1268 - precision: 0.9580 - recall: 0.9465 - val_accuracy: 0.6880 - val_loss: 2.2320 - val_precision: 0.6880 - val_recall: 0.6880\n",
      "Epoch 16/30\n",
      "\u001b[1m55/55\u001b[0m \u001b[32m━━━━━━━━━━━━━━━━━━━━\u001b[0m\u001b[37m\u001b[0m \u001b[1m12s\u001b[0m 216ms/step - accuracy: 0.9541 - loss: 0.1424 - precision: 0.9620 - recall: 0.9402 - val_accuracy: 0.6560 - val_loss: 1.7534 - val_precision: 0.6667 - val_recall: 0.6560\n",
      "Epoch 17/30\n",
      "\u001b[1m55/55\u001b[0m \u001b[32m━━━━━━━━━━━━━━━━━━━━\u001b[0m\u001b[37m\u001b[0m \u001b[1m12s\u001b[0m 217ms/step - accuracy: 0.9608 - loss: 0.1372 - precision: 0.9630 - recall: 0.9570 - val_accuracy: 0.6960 - val_loss: 2.2613 - val_precision: 0.7073 - val_recall: 0.6960\n",
      "Epoch 18/30\n",
      "\u001b[1m55/55\u001b[0m \u001b[32m━━━━━━━━━━━━━━━━━━━━\u001b[0m\u001b[37m\u001b[0m \u001b[1m12s\u001b[0m 218ms/step - accuracy: 0.9703 - loss: 0.0952 - precision: 0.9725 - recall: 0.9635 - val_accuracy: 0.7440 - val_loss: 1.7117 - val_precision: 0.7480 - val_recall: 0.7360\n",
      "Epoch 19/30\n",
      "\u001b[1m55/55\u001b[0m \u001b[32m━━━━━━━━━━━━━━━━━━━━\u001b[0m\u001b[37m\u001b[0m \u001b[1m12s\u001b[0m 216ms/step - accuracy: 0.9484 - loss: 0.1342 - precision: 0.9517 - recall: 0.9397 - val_accuracy: 0.6800 - val_loss: 2.9833 - val_precision: 0.6829 - val_recall: 0.6720\n",
      "Epoch 20/30\n",
      "\u001b[1m55/55\u001b[0m \u001b[32m━━━━━━━━━━━━━━━━━━━━\u001b[0m\u001b[37m\u001b[0m \u001b[1m12s\u001b[0m 216ms/step - accuracy: 0.9422 - loss: 0.1687 - precision: 0.9561 - recall: 0.9319 - val_accuracy: 0.6800 - val_loss: 2.5378 - val_precision: 0.6800 - val_recall: 0.6800\n",
      "Epoch 21/30\n",
      "\u001b[1m55/55\u001b[0m \u001b[32m━━━━━━━━━━━━━━━━━━━━\u001b[0m\u001b[37m\u001b[0m \u001b[1m12s\u001b[0m 219ms/step - accuracy: 0.9791 - loss: 0.0674 - precision: 0.9794 - recall: 0.9771 - val_accuracy: 0.6960 - val_loss: 2.4599 - val_precision: 0.6992 - val_recall: 0.6880\n",
      "Epoch 22/30\n",
      "\u001b[1m55/55\u001b[0m \u001b[32m━━━━━━━━━━━━━━━━━━━━\u001b[0m\u001b[37m\u001b[0m \u001b[1m12s\u001b[0m 217ms/step - accuracy: 0.9832 - loss: 0.0600 - precision: 0.9834 - recall: 0.9786 - val_accuracy: 0.6960 - val_loss: 2.4570 - val_precision: 0.6935 - val_recall: 0.6880\n",
      "Epoch 23/30\n",
      "\u001b[1m55/55\u001b[0m \u001b[32m━━━━━━━━━━━━━━━━━━━━\u001b[0m\u001b[37m\u001b[0m \u001b[1m12s\u001b[0m 216ms/step - accuracy: 0.9813 - loss: 0.0575 - precision: 0.9829 - recall: 0.9799 - val_accuracy: 0.6720 - val_loss: 2.8625 - val_precision: 0.6720 - val_recall: 0.6720\n",
      "Epoch 24/30\n",
      "\u001b[1m55/55\u001b[0m \u001b[32m━━━━━━━━━━━━━━━━━━━━\u001b[0m\u001b[37m\u001b[0m \u001b[1m12s\u001b[0m 216ms/step - accuracy: 0.9833 - loss: 0.0559 - precision: 0.9845 - recall: 0.9816 - val_accuracy: 0.6720 - val_loss: 2.8105 - val_precision: 0.6774 - val_recall: 0.6720\n",
      "Epoch 25/30\n",
      "\u001b[1m55/55\u001b[0m \u001b[32m━━━━━━━━━━━━━━━━━━━━\u001b[0m\u001b[37m\u001b[0m \u001b[1m12s\u001b[0m 216ms/step - accuracy: 0.9778 - loss: 0.0777 - precision: 0.9794 - recall: 0.9759 - val_accuracy: 0.6400 - val_loss: 2.9490 - val_precision: 0.6423 - val_recall: 0.6320\n",
      "Epoch 26/30\n",
      "\u001b[1m55/55\u001b[0m \u001b[32m━━━━━━━━━━━━━━━━━━━━\u001b[0m\u001b[37m\u001b[0m \u001b[1m12s\u001b[0m 216ms/step - accuracy: 0.8853 - loss: 0.3526 - precision: 0.8981 - recall: 0.8699 - val_accuracy: 0.6880 - val_loss: 2.1771 - val_precision: 0.6885 - val_recall: 0.6720\n",
      "Epoch 27/30\n",
      "\u001b[1m55/55\u001b[0m \u001b[32m━━━━━━━━━━━━━━━━━━━━\u001b[0m\u001b[37m\u001b[0m \u001b[1m12s\u001b[0m 216ms/step - accuracy: 0.9465 - loss: 0.1764 - precision: 0.9554 - recall: 0.9375 - val_accuracy: 0.7200 - val_loss: 2.3856 - val_precision: 0.7177 - val_recall: 0.7120\n",
      "Epoch 28/30\n",
      "\u001b[1m55/55\u001b[0m \u001b[32m━━━━━━━━━━━━━━━━━━━━\u001b[0m\u001b[37m\u001b[0m \u001b[1m12s\u001b[0m 216ms/step - accuracy: 0.9734 - loss: 0.0725 - precision: 0.9754 - recall: 0.9711 - val_accuracy: 0.6880 - val_loss: 2.8245 - val_precision: 0.6935 - val_recall: 0.6880\n",
      "Epoch 29/30\n",
      "\u001b[1m55/55\u001b[0m \u001b[32m━━━━━━━━━━━━━━━━━━━━\u001b[0m\u001b[37m\u001b[0m \u001b[1m12s\u001b[0m 217ms/step - accuracy: 0.9802 - loss: 0.0542 - precision: 0.9809 - recall: 0.9782 - val_accuracy: 0.7040 - val_loss: 2.4987 - val_precision: 0.7049 - val_recall: 0.6880\n",
      "Epoch 30/30\n",
      "\u001b[1m55/55\u001b[0m \u001b[32m━━━━━━━━━━━━━━━━━━━━\u001b[0m\u001b[37m\u001b[0m \u001b[1m12s\u001b[0m 216ms/step - accuracy: 0.9843 - loss: 0.0383 - precision: 0.9857 - recall: 0.9840 - val_accuracy: 0.6960 - val_loss: 3.0747 - val_precision: 0.7073 - val_recall: 0.6960\n",
      "Predicting on validation set...\n",
      "\u001b[1m4/4\u001b[0m \u001b[32m━━━━━━━━━━━━━━━━━━━━\u001b[0m\u001b[37m\u001b[0m \u001b[1m0s\u001b[0m 62ms/step\n",
      "Sending metrics to clearML...\n",
      "done\n"
     ]
    }
   ],
   "source": [
    "# combination 4: contrast 0.5 + histEq + rotate 5 + rotate 20 (all best performing) 250%\n",
    "task_name = 'he,c,r5,r20'\n",
    "sub_project_name = 'HE+C+ROTATE'\n",
    "\n",
    "augmentation_metadata = {\n",
    "        'methods': {        \n",
    "            'histEq': {\n",
    "                'parameters': {\n",
    "                    'p': 1.0  # Probability of applying the augmentation\n",
    "                },\n",
    "                'apply_to_percentage': 0.625  # 50% of the training images\n",
    "            },\n",
    "            'bnc': {\n",
    "            'parameters': {\n",
    "                'alpha': 0.5,\n",
    "                'beta': 0\n",
    "            },\n",
    "            'apply_to_percentage': 0.625  # 50% of the training images\n",
    "            },\n",
    "            'rotate': {\n",
    "                'parameters': {\n",
    "                    'angle_limit': 5, # Maximum angle of rotation\n",
    "                    'p': 1.0  # Probability of applying the augmentation\n",
    "                },\n",
    "                'apply_to_percentage': 0.625  # 50% of the training images\n",
    "            },\n",
    "            'rotate2': {\n",
    "                'parameters': {\n",
    "                    'angle_limit': 20, # Maximum angle of rotation\n",
    "                    'p': 1.0  # Probability of applying the augmentation\n",
    "                },\n",
    "                'apply_to_percentage': 0.625  # 50% of the training images\n",
    "            }                    \n",
    "        }\n",
    "    }\n",
    "\n",
    "for i in range(N):\n",
    "    RUN = i + 1\n",
    "    try:\n",
    "        print(f\"Starting RUN: {RUN}\")\n",
    "        main(RUN, augmentation_metadata, task_name, sub_project_name, epochs, train_size, w1, w2)\n",
    "    except Exception as e:\n",
    "        print(f\"Error in RUN: {RUN}\")\n",
    "        print(e)\n",
    "        break\n",
    "    finally:\n",
    "        clear_output(wait=True)  # Clear the output to avoid scrolling\n",
    "        gc.collect()  # Collect garbage to avoid memory leaks"
   ]
  },
  {
   "cell_type": "markdown",
   "metadata": {},
   "source": [
    "# Weather Conditions 2"
   ]
  },
  {
   "cell_type": "code",
   "execution_count": 23,
   "metadata": {},
   "outputs": [],
   "source": [
    "w1 = 2\n",
    "w2 = 3"
   ]
  },
  {
   "cell_type": "code",
   "execution_count": 24,
   "metadata": {},
   "outputs": [
    {
     "name": "stdout",
     "output_type": "stream",
     "text": [
      "Starting RUN: 5\n",
      "Seed:  3193977242\n",
      "Num GPUs Available:  0\n"
     ]
    },
    {
     "name": "stderr",
     "output_type": "stream",
     "text": [
      "c:\\github\\Third-Year-Project\\Intruder-Aircraft-Detection\\main\\tl_clf.py:82: SettingWithCopyWarning:\n",
      "\n",
      "\n",
      "A value is trying to be set on a copy of a slice from a DataFrame.\n",
      "Try using .loc[row_indexer,col_indexer] = value instead\n",
      "\n",
      "See the caveats in the documentation: https://pandas.pydata.org/pandas-docs/stable/user_guide/indexing.html#returning-a-view-versus-a-copy\n",
      "\n",
      "c:\\github\\Third-Year-Project\\Intruder-Aircraft-Detection\\main\\tl_clf.py:83: SettingWithCopyWarning:\n",
      "\n",
      "\n",
      "A value is trying to be set on a copy of a slice from a DataFrame.\n",
      "Try using .loc[row_indexer,col_indexer] = value instead\n",
      "\n",
      "See the caveats in the documentation: https://pandas.pydata.org/pandas-docs/stable/user_guide/indexing.html#returning-a-view-versus-a-copy\n",
      "\n"
     ]
    },
    {
     "name": "stdout",
     "output_type": "stream",
     "text": [
      "Removing dataset if pre-existing\n",
      "Copying training files:\n"
     ]
    },
    {
     "name": "stderr",
     "output_type": "stream",
     "text": [
      "Copying files: 100%|██████████| 1000/1000 [00:00<00:00, 1681.57it/s]\n"
     ]
    },
    {
     "name": "stdout",
     "output_type": "stream",
     "text": [
      "Copying validation files:\n"
     ]
    },
    {
     "name": "stderr",
     "output_type": "stream",
     "text": [
      "Copying files: 100%|██████████| 250/250 [00:00<00:00, 1907.79it/s]\n"
     ]
    },
    {
     "name": "stdout",
     "output_type": "stream",
     "text": [
      "Dataset 'weather_23_500' created at C:\\github\\Third-Year-Project\\Intruder-Aircraft-Detection\\datasets\\Custom\\weather_23_500\n",
      "Processing train labels in weather_23_500:\n"
     ]
    },
    {
     "name": "stderr",
     "output_type": "stream",
     "text": [
      "Processing labels: 100%|██████████| 500/500 [00:01<00:00, 385.86it/s]\n"
     ]
    },
    {
     "name": "stdout",
     "output_type": "stream",
     "text": [
      "Processing valid labels in weather_23_500:\n"
     ]
    },
    {
     "name": "stderr",
     "output_type": "stream",
     "text": [
      "Processing labels: 100%|██████████| 125/125 [00:00<00:00, 310.11it/s]\n"
     ]
    },
    {
     "name": "stdout",
     "output_type": "stream",
     "text": [
      "Label correction completed.\n"
     ]
    },
    {
     "name": "stderr",
     "output_type": "stream",
     "text": [
      "Removing existing directories/files: 100%|██████████| 3/3 [00:00<00:00, 6003.30it/s]\n",
      "Copying files: 100%|██████████| 500/500 [00:00<00:00, 757.97it/s]\n",
      "Copying files: 100%|██████████| 500/500 [00:00<00:00, 913.66it/s]\n",
      "Applying augmentations: 100%|██████████| 1250/1250 [00:23<00:00, 53.88it/s]\n"
     ]
    },
    {
     "name": "stdout",
     "output_type": "stream",
     "text": [
      "An error occurred: Expected y_max for bbox (0.26693300000000003, 0.6076385000000001, 0.916885, 1.0409395000000001, 2) to be in the range [0.0, 1.0], got 1.0409395000000001.\n"
     ]
    },
    {
     "name": "stderr",
     "output_type": "stream",
     "text": [
      "Processing images:  85%|████████▌ | 425/500 [00:13<00:02, 35.72it/s]"
     ]
    },
    {
     "name": "stdout",
     "output_type": "stream",
     "text": [
      "An error occurred with C:/github/Third-Year-Project/Intruder-Aircraft-Detection/datasets/Custom/weather_23_500\\images\\train\\51009.jpg: Expected y_max for bbox (0.26693300000000003, 0.6076385000000001, 0.916885, 1.0409395000000001, 2) to be in the range [0.0, 1.0], got 1.0409395000000001.\n"
     ]
    },
    {
     "name": "stderr",
     "output_type": "stream",
     "text": [
      "Processing images: 100%|██████████| 500/500 [00:15<00:00, 31.36it/s]\n",
      "Processing images:  21%|██        | 369/1749 [00:15<00:40, 34.18it/s]"
     ]
    },
    {
     "name": "stdout",
     "output_type": "stream",
     "text": [
      "An error occurred with C:/github/Third-Year-Project/Intruder-Aircraft-Detection/datasets/Custom/weather_23_500\\images\\train-aug\\26488-rotate2-9f44d98e.jpg: Expected y_min for bbox (0.686838, -5.000000000005e-07, 0.7700739999999999, 0.0771625, 1) to be in the range [0.0, 1.0], got -5.000000000005e-07.\n"
     ]
    },
    {
     "name": "stderr",
     "output_type": "stream",
     "text": [
      "Processing images:  84%|████████▍ | 1471/1749 [00:48<00:07, 35.27it/s]"
     ]
    },
    {
     "name": "stdout",
     "output_type": "stream",
     "text": [
      "An error occurred with C:/github/Third-Year-Project/Intruder-Aircraft-Detection/datasets/Custom/weather_23_500\\images\\train-aug\\51009.jpg: Expected y_max for bbox (0.26693300000000003, 0.6076385000000001, 0.916885, 1.0409395000000001, 2) to be in the range [0.0, 1.0], got 1.0409395000000001.\n"
     ]
    },
    {
     "name": "stderr",
     "output_type": "stream",
     "text": [
      "Processing images: 100%|██████████| 1749/1749 [00:57<00:00, 30.59it/s]\n",
      "Processing images: 100%|██████████| 125/125 [00:03<00:00, 31.30it/s]\n",
      "Moving images in train: 100%|██████████| 499/499 [00:01<00:00, 290.73it/s]\n",
      "Moving images in train-aug: 100%|██████████| 1747/1747 [00:06<00:00, 288.64it/s]\n",
      "Moving images in valid: 100%|██████████| 125/125 [00:00<00:00, 289.84it/s]\n"
     ]
    },
    {
     "name": "stdout",
     "output_type": "stream",
     "text": [
      "Found 499 files belonging to 3 classes.\n",
      "Found 1747 files belonging to 3 classes.\n",
      "Found 125 files belonging to 3 classes.\n",
      "ClearML Task: created new task id=4453f92c153647de856341b9d0c7f764\n",
      "ClearML results page: https://app.clear.ml/projects/1209ba3714444886b3124026634c98ea/experiments/4453f92c153647de856341b9d0c7f764/output/log\n",
      "Training model...\n",
      "Epoch 1/30\n",
      "\u001b[1m16/16\u001b[0m \u001b[32m━━━━━━━━━━━━━━━━━━━━\u001b[0m\u001b[37m\u001b[0m \u001b[1m7s\u001b[0m 298ms/step - accuracy: 0.2983 - loss: 2.8300 - precision: 0.2763 - recall: 0.1673 - val_accuracy: 0.3360 - val_loss: 1.1210 - val_precision: 0.0000e+00 - val_recall: 0.0000e+00\n",
      "Epoch 2/30\n",
      "\u001b[1m16/16\u001b[0m \u001b[32m━━━━━━━━━━━━━━━━━━━━\u001b[0m\u001b[37m\u001b[0m \u001b[1m4s\u001b[0m 224ms/step - accuracy: 0.3455 - loss: 1.1097 - precision: 0.0000e+00 - recall: 0.0000e+00 - val_accuracy: 0.3360 - val_loss: 1.1016 - val_precision: 0.0000e+00 - val_recall: 0.0000e+00\n",
      "Epoch 3/30\n",
      "\u001b[1m16/16\u001b[0m \u001b[32m━━━━━━━━━━━━━━━━━━━━\u001b[0m\u001b[37m\u001b[0m \u001b[1m4s\u001b[0m 227ms/step - accuracy: 0.3186 - loss: 1.0983 - precision: 0.0000e+00 - recall: 0.0000e+00 - val_accuracy: 0.3360 - val_loss: 1.1210 - val_precision: 0.0000e+00 - val_recall: 0.0000e+00\n",
      "Epoch 4/30\n",
      "\u001b[1m16/16\u001b[0m \u001b[32m━━━━━━━━━━━━━━━━━━━━\u001b[0m\u001b[37m\u001b[0m \u001b[1m4s\u001b[0m 222ms/step - accuracy: 0.2706 - loss: 1.1267 - precision: 0.0000e+00 - recall: 0.0000e+00 - val_accuracy: 0.3200 - val_loss: 1.0986 - val_precision: 0.0000e+00 - val_recall: 0.0000e+00\n",
      "Epoch 5/30\n",
      "\u001b[1m16/16\u001b[0m \u001b[32m━━━━━━━━━━━━━━━━━━━━\u001b[0m\u001b[37m\u001b[0m \u001b[1m4s\u001b[0m 219ms/step - accuracy: 0.3631 - loss: 1.0986 - precision: 0.0000e+00 - recall: 0.0000e+00 - val_accuracy: 0.3280 - val_loss: 1.1015 - val_precision: 0.0000e+00 - val_recall: 0.0000e+00\n",
      "Epoch 6/30\n",
      "\u001b[1m16/16\u001b[0m \u001b[32m━━━━━━━━━━━━━━━━━━━━\u001b[0m\u001b[37m\u001b[0m \u001b[1m4s\u001b[0m 223ms/step - accuracy: 0.3558 - loss: 1.0996 - precision: 0.0000e+00 - recall: 0.0000e+00 - val_accuracy: 0.3360 - val_loss: 1.0975 - val_precision: 0.0000e+00 - val_recall: 0.0000e+00\n",
      "Epoch 7/30\n",
      "\u001b[1m16/16\u001b[0m \u001b[32m━━━━━━━━━━━━━━━━━━━━\u001b[0m\u001b[37m\u001b[0m \u001b[1m4s\u001b[0m 224ms/step - accuracy: 0.4050 - loss: 1.0970 - precision: 0.0000e+00 - recall: 0.0000e+00 - val_accuracy: 0.3280 - val_loss: 1.0956 - val_precision: 0.0000e+00 - val_recall: 0.0000e+00\n",
      "Epoch 8/30\n",
      "\u001b[1m16/16\u001b[0m \u001b[32m━━━━━━━━━━━━━━━━━━━━\u001b[0m\u001b[37m\u001b[0m \u001b[1m4s\u001b[0m 219ms/step - accuracy: 0.4282 - loss: 1.0958 - precision: 0.0000e+00 - recall: 0.0000e+00 - val_accuracy: 0.2960 - val_loss: 1.0943 - val_precision: 0.0000e+00 - val_recall: 0.0000e+00\n",
      "Epoch 9/30\n",
      "\u001b[1m16/16\u001b[0m \u001b[32m━━━━━━━━━━━━━━━━━━━━\u001b[0m\u001b[37m\u001b[0m \u001b[1m4s\u001b[0m 222ms/step - accuracy: 0.3535 - loss: 1.0933 - precision: 0.0000e+00 - recall: 0.0000e+00 - val_accuracy: 0.3680 - val_loss: 1.0868 - val_precision: 0.0000e+00 - val_recall: 0.0000e+00\n",
      "Epoch 10/30\n",
      "\u001b[1m16/16\u001b[0m \u001b[32m━━━━━━━━━━━━━━━━━━━━\u001b[0m\u001b[37m\u001b[0m \u001b[1m4s\u001b[0m 220ms/step - accuracy: 0.4280 - loss: 1.0855 - precision: 0.4706 - recall: 0.0016 - val_accuracy: 0.4800 - val_loss: 1.0628 - val_precision: 0.5000 - val_recall: 0.0080\n",
      "Epoch 11/30\n",
      "\u001b[1m16/16\u001b[0m \u001b[32m━━━━━━━━━━━━━━━━━━━━\u001b[0m\u001b[37m\u001b[0m \u001b[1m4s\u001b[0m 238ms/step - accuracy: 0.5273 - loss: 1.0499 - precision: 0.6273 - recall: 0.0634 - val_accuracy: 0.5760 - val_loss: 0.9915 - val_precision: 0.7045 - val_recall: 0.2480\n",
      "Epoch 12/30\n",
      "\u001b[1m16/16\u001b[0m \u001b[32m━━━━━━━━━━━━━━━━━━━━\u001b[0m\u001b[37m\u001b[0m \u001b[1m4s\u001b[0m 263ms/step - accuracy: 0.5593 - loss: 1.0187 - precision: 0.7230 - recall: 0.1460 - val_accuracy: 0.5200 - val_loss: 0.9930 - val_precision: 0.6154 - val_recall: 0.2560\n",
      "Epoch 13/30\n",
      "\u001b[1m16/16\u001b[0m \u001b[32m━━━━━━━━━━━━━━━━━━━━\u001b[0m\u001b[37m\u001b[0m \u001b[1m4s\u001b[0m 221ms/step - accuracy: 0.6474 - loss: 0.9174 - precision: 0.7433 - recall: 0.3169 - val_accuracy: 0.6880 - val_loss: 0.8920 - val_precision: 0.7262 - val_recall: 0.4880\n",
      "Epoch 14/30\n",
      "\u001b[1m16/16\u001b[0m \u001b[32m━━━━━━━━━━━━━━━━━━━━\u001b[0m\u001b[37m\u001b[0m \u001b[1m4s\u001b[0m 224ms/step - accuracy: 0.7011 - loss: 0.7644 - precision: 0.8259 - recall: 0.5514 - val_accuracy: 0.7280 - val_loss: 0.8483 - val_precision: 0.8019 - val_recall: 0.6800\n",
      "Epoch 15/30\n",
      "\u001b[1m16/16\u001b[0m \u001b[32m━━━━━━━━━━━━━━━━━━━━\u001b[0m\u001b[37m\u001b[0m \u001b[1m4s\u001b[0m 225ms/step - accuracy: 0.7661 - loss: 0.6700 - precision: 0.8288 - recall: 0.6185 - val_accuracy: 0.6800 - val_loss: 0.8117 - val_precision: 0.7835 - val_recall: 0.6080\n",
      "Epoch 16/30\n",
      "\u001b[1m16/16\u001b[0m \u001b[32m━━━━━━━━━━━━━━━━━━━━\u001b[0m\u001b[37m\u001b[0m \u001b[1m4s\u001b[0m 220ms/step - accuracy: 0.7636 - loss: 0.5920 - precision: 0.8438 - recall: 0.6915 - val_accuracy: 0.6880 - val_loss: 0.7994 - val_precision: 0.7094 - val_recall: 0.6640\n",
      "Epoch 17/30\n",
      "\u001b[1m16/16\u001b[0m \u001b[32m━━━━━━━━━━━━━━━━━━━━\u001b[0m\u001b[37m\u001b[0m \u001b[1m4s\u001b[0m 227ms/step - accuracy: 0.7906 - loss: 0.5449 - precision: 0.8296 - recall: 0.7251 - val_accuracy: 0.7520 - val_loss: 0.7762 - val_precision: 0.7615 - val_recall: 0.6640\n",
      "Epoch 18/30\n",
      "\u001b[1m16/16\u001b[0m \u001b[32m━━━━━━━━━━━━━━━━━━━━\u001b[0m\u001b[37m\u001b[0m \u001b[1m4s\u001b[0m 220ms/step - accuracy: 0.8176 - loss: 0.5254 - precision: 0.8417 - recall: 0.7564 - val_accuracy: 0.7120 - val_loss: 0.7971 - val_precision: 0.7477 - val_recall: 0.6640\n",
      "Epoch 19/30\n",
      "\u001b[1m16/16\u001b[0m \u001b[32m━━━━━━━━━━━━━━━━━━━━\u001b[0m\u001b[37m\u001b[0m \u001b[1m4s\u001b[0m 220ms/step - accuracy: 0.8088 - loss: 0.4754 - precision: 0.8695 - recall: 0.7641 - val_accuracy: 0.7280 - val_loss: 0.8462 - val_precision: 0.7478 - val_recall: 0.6880\n",
      "Epoch 20/30\n",
      "\u001b[1m16/16\u001b[0m \u001b[32m━━━━━━━━━━━━━━━━━━━━\u001b[0m\u001b[37m\u001b[0m \u001b[1m4s\u001b[0m 224ms/step - accuracy: 0.7760 - loss: 0.5615 - precision: 0.8337 - recall: 0.6993 - val_accuracy: 0.7040 - val_loss: 0.8211 - val_precision: 0.7717 - val_recall: 0.5680\n",
      "Epoch 21/30\n",
      "\u001b[1m16/16\u001b[0m \u001b[32m━━━━━━━━━━━━━━━━━━━━\u001b[0m\u001b[37m\u001b[0m \u001b[1m4s\u001b[0m 225ms/step - accuracy: 0.7450 - loss: 0.6937 - precision: 0.8482 - recall: 0.5304 - val_accuracy: 0.6800 - val_loss: 1.0241 - val_precision: 0.6983 - val_recall: 0.6480\n",
      "Epoch 22/30\n",
      "\u001b[1m16/16\u001b[0m \u001b[32m━━━━━━━━━━━━━━━━━━━━\u001b[0m\u001b[37m\u001b[0m \u001b[1m4s\u001b[0m 223ms/step - accuracy: 0.8056 - loss: 0.5206 - precision: 0.8309 - recall: 0.7866 - val_accuracy: 0.7120 - val_loss: 0.9313 - val_precision: 0.7304 - val_recall: 0.6720\n",
      "Epoch 23/30\n",
      "\u001b[1m16/16\u001b[0m \u001b[32m━━━━━━━━━━━━━━━━━━━━\u001b[0m\u001b[37m\u001b[0m \u001b[1m4s\u001b[0m 221ms/step - accuracy: 0.8502 - loss: 0.4072 - precision: 0.8784 - recall: 0.8291 - val_accuracy: 0.7520 - val_loss: 0.9431 - val_precision: 0.7479 - val_recall: 0.7120\n",
      "Epoch 24/30\n",
      "\u001b[1m16/16\u001b[0m \u001b[32m━━━━━━━━━━━━━━━━━━━━\u001b[0m\u001b[37m\u001b[0m \u001b[1m4s\u001b[0m 224ms/step - accuracy: 0.8536 - loss: 0.3934 - precision: 0.8649 - recall: 0.8242 - val_accuracy: 0.7280 - val_loss: 0.9257 - val_precision: 0.7434 - val_recall: 0.6720\n",
      "Epoch 25/30\n",
      "\u001b[1m16/16\u001b[0m \u001b[32m━━━━━━━━━━━━━━━━━━━━\u001b[0m\u001b[37m\u001b[0m \u001b[1m4s\u001b[0m 218ms/step - accuracy: 0.8641 - loss: 0.4385 - precision: 0.8847 - recall: 0.8225 - val_accuracy: 0.7280 - val_loss: 1.0194 - val_precision: 0.7333 - val_recall: 0.7040\n",
      "Epoch 26/30\n",
      "\u001b[1m16/16\u001b[0m \u001b[32m━━━━━━━━━━━━━━━━━━━━\u001b[0m\u001b[37m\u001b[0m \u001b[1m4s\u001b[0m 220ms/step - accuracy: 0.8529 - loss: 0.3738 - precision: 0.8716 - recall: 0.8381 - val_accuracy: 0.7120 - val_loss: 1.0012 - val_precision: 0.7273 - val_recall: 0.7040\n",
      "Epoch 27/30\n",
      "\u001b[1m16/16\u001b[0m \u001b[32m━━━━━━━━━━━━━━━━━━━━\u001b[0m\u001b[37m\u001b[0m \u001b[1m4s\u001b[0m 223ms/step - accuracy: 0.8546 - loss: 0.3480 - precision: 0.8780 - recall: 0.8379 - val_accuracy: 0.7520 - val_loss: 1.0777 - val_precision: 0.7521 - val_recall: 0.7280\n",
      "Epoch 28/30\n",
      "\u001b[1m16/16\u001b[0m \u001b[32m━━━━━━━━━━━━━━━━━━━━\u001b[0m\u001b[37m\u001b[0m \u001b[1m4s\u001b[0m 219ms/step - accuracy: 0.8703 - loss: 0.3499 - precision: 0.8764 - recall: 0.8536 - val_accuracy: 0.7440 - val_loss: 1.0633 - val_precision: 0.7417 - val_recall: 0.7120\n",
      "Epoch 29/30\n",
      "\u001b[1m16/16\u001b[0m \u001b[32m━━━━━━━━━━━━━━━━━━━━\u001b[0m\u001b[37m\u001b[0m \u001b[1m4s\u001b[0m 223ms/step - accuracy: 0.8644 - loss: 0.3377 - precision: 0.8736 - recall: 0.8511 - val_accuracy: 0.7440 - val_loss: 1.1802 - val_precision: 0.7373 - val_recall: 0.6960\n",
      "Epoch 30/30\n",
      "\u001b[1m16/16\u001b[0m \u001b[32m━━━━━━━━━━━━━━━━━━━━\u001b[0m\u001b[37m\u001b[0m \u001b[1m4s\u001b[0m 223ms/step - accuracy: 0.8910 - loss: 0.2673 - precision: 0.9095 - recall: 0.8793 - val_accuracy: 0.7120 - val_loss: 1.0925 - val_precision: 0.7154 - val_recall: 0.7040\n",
      "Predicting on validation set...\n",
      "\u001b[1m4/4\u001b[0m \u001b[32m━━━━━━━━━━━━━━━━━━━━\u001b[0m\u001b[37m\u001b[0m \u001b[1m0s\u001b[0m 63ms/step\n",
      "Sending metrics to clearML...\n",
      "done\n",
      "ClearML Task: created new task id=5a8b8a869eae4c89bb8754d266516371\n",
      "ClearML results page: https://app.clear.ml/projects/1209ba3714444886b3124026634c98ea/experiments/5a8b8a869eae4c89bb8754d266516371/output/log\n",
      "Training model...\n",
      "Epoch 1/30\n",
      "\u001b[1m55/55\u001b[0m \u001b[32m━━━━━━━━━━━━━━━━━━━━\u001b[0m\u001b[37m\u001b[0m \u001b[1m16s\u001b[0m 246ms/step - accuracy: 0.3765 - loss: 1.7007 - precision: 0.3679 - recall: 0.0878 - val_accuracy: 0.3360 - val_loss: 1.0991 - val_precision: 0.0000e+00 - val_recall: 0.0000e+00\n",
      "Epoch 2/30\n",
      "\u001b[1m55/55\u001b[0m \u001b[32m━━━━━━━━━━━━━━━━━━━━\u001b[0m\u001b[37m\u001b[0m \u001b[1m12s\u001b[0m 218ms/step - accuracy: 0.4056 - loss: 1.0776 - precision: 0.5741 - recall: 0.0318 - val_accuracy: 0.3360 - val_loss: 1.0969 - val_precision: 0.0000e+00 - val_recall: 0.0000e+00\n",
      "Epoch 3/30\n",
      "\u001b[1m55/55\u001b[0m \u001b[32m━━━━━━━━━━━━━━━━━━━━\u001b[0m\u001b[37m\u001b[0m \u001b[1m12s\u001b[0m 218ms/step - accuracy: 0.4535 - loss: 1.0557 - precision: 0.6218 - recall: 0.0588 - val_accuracy: 0.5840 - val_loss: 1.0479 - val_precision: 0.0000e+00 - val_recall: 0.0000e+00\n",
      "Epoch 4/30\n",
      "\u001b[1m55/55\u001b[0m \u001b[32m━━━━━━━━━━━━━━━━━━━━\u001b[0m\u001b[37m\u001b[0m \u001b[1m13s\u001b[0m 239ms/step - accuracy: 0.5116 - loss: 1.0182 - precision: 0.6179 - recall: 0.1267 - val_accuracy: 0.6400 - val_loss: 0.9354 - val_precision: 0.7917 - val_recall: 0.3040\n",
      "Epoch 5/30\n",
      "\u001b[1m55/55\u001b[0m \u001b[32m━━━━━━━━━━━━━━━━━━━━\u001b[0m\u001b[37m\u001b[0m \u001b[1m12s\u001b[0m 219ms/step - accuracy: 0.5764 - loss: 0.9467 - precision: 0.7070 - recall: 0.3141 - val_accuracy: 0.4400 - val_loss: 1.0197 - val_precision: 0.7674 - val_recall: 0.2640\n",
      "Epoch 6/30\n",
      "\u001b[1m55/55\u001b[0m \u001b[32m━━━━━━━━━━━━━━━━━━━━\u001b[0m\u001b[37m\u001b[0m \u001b[1m12s\u001b[0m 217ms/step - accuracy: 0.6117 - loss: 0.8840 - precision: 0.7355 - recall: 0.3913 - val_accuracy: 0.6640 - val_loss: 0.8401 - val_precision: 0.7009 - val_recall: 0.6000\n",
      "Epoch 7/30\n",
      "\u001b[1m55/55\u001b[0m \u001b[32m━━━━━━━━━━━━━━━━━━━━\u001b[0m\u001b[37m\u001b[0m \u001b[1m12s\u001b[0m 217ms/step - accuracy: 0.7152 - loss: 0.6710 - precision: 0.7854 - recall: 0.6372 - val_accuracy: 0.7280 - val_loss: 0.7683 - val_precision: 0.7500 - val_recall: 0.6720\n",
      "Epoch 8/30\n",
      "\u001b[1m55/55\u001b[0m \u001b[32m━━━━━━━━━━━━━━━━━━━━\u001b[0m\u001b[37m\u001b[0m \u001b[1m12s\u001b[0m 217ms/step - accuracy: 0.7951 - loss: 0.5227 - precision: 0.8469 - recall: 0.7328 - val_accuracy: 0.7520 - val_loss: 0.8412 - val_precision: 0.7611 - val_recall: 0.6880\n",
      "Epoch 9/30\n",
      "\u001b[1m55/55\u001b[0m \u001b[32m━━━━━━━━━━━━━━━━━━━━\u001b[0m\u001b[37m\u001b[0m \u001b[1m12s\u001b[0m 219ms/step - accuracy: 0.8138 - loss: 0.4633 - precision: 0.8570 - recall: 0.7632 - val_accuracy: 0.7280 - val_loss: 0.9380 - val_precision: 0.7273 - val_recall: 0.7040\n",
      "Epoch 10/30\n",
      "\u001b[1m55/55\u001b[0m \u001b[32m━━━━━━━━━━━━━━━━━━━━\u001b[0m\u001b[37m\u001b[0m \u001b[1m12s\u001b[0m 218ms/step - accuracy: 0.8553 - loss: 0.3632 - precision: 0.8839 - recall: 0.8351 - val_accuracy: 0.7280 - val_loss: 0.9131 - val_precision: 0.7477 - val_recall: 0.6640\n",
      "Epoch 11/30\n",
      "\u001b[1m55/55\u001b[0m \u001b[32m━━━━━━━━━━━━━━━━━━━━\u001b[0m\u001b[37m\u001b[0m \u001b[1m12s\u001b[0m 217ms/step - accuracy: 0.8676 - loss: 0.3466 - precision: 0.8968 - recall: 0.8387 - val_accuracy: 0.7120 - val_loss: 0.9938 - val_precision: 0.7456 - val_recall: 0.6800\n",
      "Epoch 12/30\n",
      "\u001b[1m55/55\u001b[0m \u001b[32m━━━━━━━━━━━━━━━━━━━━\u001b[0m\u001b[37m\u001b[0m \u001b[1m12s\u001b[0m 218ms/step - accuracy: 0.8807 - loss: 0.3176 - precision: 0.8998 - recall: 0.8497 - val_accuracy: 0.7200 - val_loss: 0.8743 - val_precision: 0.7570 - val_recall: 0.6480\n",
      "Epoch 13/30\n",
      "\u001b[1m55/55\u001b[0m \u001b[32m━━━━━━━━━━━━━━━━━━━━\u001b[0m\u001b[37m\u001b[0m \u001b[1m12s\u001b[0m 218ms/step - accuracy: 0.8900 - loss: 0.3163 - precision: 0.9175 - recall: 0.8523 - val_accuracy: 0.7760 - val_loss: 1.0618 - val_precision: 0.7769 - val_recall: 0.7520\n",
      "Epoch 14/30\n",
      "\u001b[1m55/55\u001b[0m \u001b[32m━━━━━━━━━━━━━━━━━━━━\u001b[0m\u001b[37m\u001b[0m \u001b[1m13s\u001b[0m 222ms/step - accuracy: 0.9175 - loss: 0.2182 - precision: 0.9391 - recall: 0.9034 - val_accuracy: 0.8080 - val_loss: 1.1026 - val_precision: 0.8145 - val_recall: 0.8080\n",
      "Epoch 15/30\n",
      "\u001b[1m55/55\u001b[0m \u001b[32m━━━━━━━━━━━━━━━━━━━━\u001b[0m\u001b[37m\u001b[0m \u001b[1m12s\u001b[0m 217ms/step - accuracy: 0.9259 - loss: 0.2115 - precision: 0.9403 - recall: 0.9145 - val_accuracy: 0.7520 - val_loss: 1.1235 - val_precision: 0.7712 - val_recall: 0.7280\n",
      "Epoch 16/30\n",
      "\u001b[1m55/55\u001b[0m \u001b[32m━━━━━━━━━━━━━━━━━━━━\u001b[0m\u001b[37m\u001b[0m \u001b[1m12s\u001b[0m 218ms/step - accuracy: 0.9418 - loss: 0.1772 - precision: 0.9468 - recall: 0.9330 - val_accuracy: 0.7520 - val_loss: 1.1192 - val_precision: 0.7667 - val_recall: 0.7360\n",
      "Epoch 17/30\n",
      "\u001b[1m55/55\u001b[0m \u001b[32m━━━━━━━━━━━━━━━━━━━━\u001b[0m\u001b[37m\u001b[0m \u001b[1m12s\u001b[0m 218ms/step - accuracy: 0.9482 - loss: 0.1504 - precision: 0.9605 - recall: 0.9401 - val_accuracy: 0.8000 - val_loss: 1.1008 - val_precision: 0.7967 - val_recall: 0.7840\n",
      "Epoch 18/30\n",
      "\u001b[1m55/55\u001b[0m \u001b[32m━━━━━━━━━━━━━━━━━━━━\u001b[0m\u001b[37m\u001b[0m \u001b[1m13s\u001b[0m 224ms/step - accuracy: 0.9493 - loss: 0.1488 - precision: 0.9556 - recall: 0.9440 - val_accuracy: 0.7600 - val_loss: 1.1368 - val_precision: 0.7661 - val_recall: 0.7600\n",
      "Epoch 19/30\n",
      "\u001b[1m55/55\u001b[0m \u001b[32m━━━━━━━━━━━━━━━━━━━━\u001b[0m\u001b[37m\u001b[0m \u001b[1m12s\u001b[0m 219ms/step - accuracy: 0.9425 - loss: 0.1714 - precision: 0.9521 - recall: 0.9299 - val_accuracy: 0.7760 - val_loss: 1.0873 - val_precision: 0.8151 - val_recall: 0.7760\n",
      "Epoch 20/30\n",
      "\u001b[1m55/55\u001b[0m \u001b[32m━━━━━━━━━━━━━━━━━━━━\u001b[0m\u001b[37m\u001b[0m \u001b[1m12s\u001b[0m 218ms/step - accuracy: 0.9500 - loss: 0.1254 - precision: 0.9604 - recall: 0.9423 - val_accuracy: 0.7920 - val_loss: 1.1878 - val_precision: 0.7984 - val_recall: 0.7920\n",
      "Epoch 21/30\n",
      "\u001b[1m55/55\u001b[0m \u001b[32m━━━━━━━━━━━━━━━━━━━━\u001b[0m\u001b[37m\u001b[0m \u001b[1m12s\u001b[0m 218ms/step - accuracy: 0.9573 - loss: 0.1207 - precision: 0.9608 - recall: 0.9508 - val_accuracy: 0.7440 - val_loss: 1.3587 - val_precision: 0.7500 - val_recall: 0.7440\n",
      "Epoch 22/30\n",
      "\u001b[1m55/55\u001b[0m \u001b[32m━━━━━━━━━━━━━━━━━━━━\u001b[0m\u001b[37m\u001b[0m \u001b[1m12s\u001b[0m 217ms/step - accuracy: 0.8892 - loss: 0.3157 - precision: 0.9157 - recall: 0.8607 - val_accuracy: 0.8000 - val_loss: 1.1994 - val_precision: 0.8017 - val_recall: 0.7760\n",
      "Epoch 23/30\n",
      "\u001b[1m55/55\u001b[0m \u001b[32m━━━━━━━━━━━━━━━━━━━━\u001b[0m\u001b[37m\u001b[0m \u001b[1m12s\u001b[0m 219ms/step - accuracy: 0.9466 - loss: 0.1498 - precision: 0.9563 - recall: 0.9353 - val_accuracy: 0.7840 - val_loss: 1.3509 - val_precision: 0.7805 - val_recall: 0.7680\n",
      "Epoch 24/30\n",
      "\u001b[1m55/55\u001b[0m \u001b[32m━━━━━━━━━━━━━━━━━━━━\u001b[0m\u001b[37m\u001b[0m \u001b[1m12s\u001b[0m 218ms/step - accuracy: 0.9633 - loss: 0.1135 - precision: 0.9642 - recall: 0.9604 - val_accuracy: 0.7840 - val_loss: 1.3212 - val_precision: 0.7823 - val_recall: 0.7760\n",
      "Epoch 25/30\n",
      "\u001b[1m55/55\u001b[0m \u001b[32m━━━━━━━━━━━━━━━━━━━━\u001b[0m\u001b[37m\u001b[0m \u001b[1m12s\u001b[0m 219ms/step - accuracy: 0.9764 - loss: 0.0738 - precision: 0.9807 - recall: 0.9758 - val_accuracy: 0.7920 - val_loss: 1.3905 - val_precision: 0.7920 - val_recall: 0.7920\n",
      "Epoch 26/30\n",
      "\u001b[1m55/55\u001b[0m \u001b[32m━━━━━━━━━━━━━━━━━━━━\u001b[0m\u001b[37m\u001b[0m \u001b[1m12s\u001b[0m 218ms/step - accuracy: 0.9727 - loss: 0.0906 - precision: 0.9756 - recall: 0.9711 - val_accuracy: 0.8000 - val_loss: 1.4716 - val_precision: 0.8000 - val_recall: 0.8000\n",
      "Epoch 27/30\n",
      "\u001b[1m55/55\u001b[0m \u001b[32m━━━━━━━━━━━━━━━━━━━━\u001b[0m\u001b[37m\u001b[0m \u001b[1m12s\u001b[0m 217ms/step - accuracy: 0.9678 - loss: 0.0852 - precision: 0.9707 - recall: 0.9665 - val_accuracy: 0.7920 - val_loss: 1.4834 - val_precision: 0.7984 - val_recall: 0.7920\n",
      "Epoch 28/30\n",
      "\u001b[1m55/55\u001b[0m \u001b[32m━━━━━━━━━━━━━━━━━━━━\u001b[0m\u001b[37m\u001b[0m \u001b[1m12s\u001b[0m 219ms/step - accuracy: 0.9742 - loss: 0.0701 - precision: 0.9804 - recall: 0.9737 - val_accuracy: 0.8000 - val_loss: 1.6910 - val_precision: 0.7951 - val_recall: 0.7760\n",
      "Epoch 29/30\n",
      "\u001b[1m55/55\u001b[0m \u001b[32m━━━━━━━━━━━━━━━━━━━━\u001b[0m\u001b[37m\u001b[0m \u001b[1m12s\u001b[0m 217ms/step - accuracy: 0.9856 - loss: 0.0460 - precision: 0.9858 - recall: 0.9856 - val_accuracy: 0.8080 - val_loss: 1.5917 - val_precision: 0.8130 - val_recall: 0.8000\n",
      "Epoch 30/30\n",
      "\u001b[1m55/55\u001b[0m \u001b[32m━━━━━━━━━━━━━━━━━━━━\u001b[0m\u001b[37m\u001b[0m \u001b[1m12s\u001b[0m 218ms/step - accuracy: 0.9807 - loss: 0.0525 - precision: 0.9807 - recall: 0.9806 - val_accuracy: 0.7760 - val_loss: 1.6748 - val_precision: 0.7760 - val_recall: 0.7760\n",
      "Predicting on validation set...\n",
      "\u001b[1m4/4\u001b[0m \u001b[32m━━━━━━━━━━━━━━━━━━━━\u001b[0m\u001b[37m\u001b[0m \u001b[1m0s\u001b[0m 63ms/step\n",
      "Sending metrics to clearML...\n",
      "done\n"
     ]
    }
   ],
   "source": [
    "# combination 2: rotate 5 + rotate 20 250%\n",
    "task_name = 'r5,20'\n",
    "sub_project_name = 'ROTATE_20'\n",
    "\n",
    "augmentation_metadata = {\n",
    "        'methods': {        \n",
    "            'rotate': {\n",
    "                'parameters': {\n",
    "                    'angle_limit': 5, # Maximum angle of rotation\n",
    "                    'p': 1.0  # Probability of applying the augmentation\n",
    "                },\n",
    "                'apply_to_percentage': 1.25  # 50% of the training images\n",
    "            },\n",
    "            'rotate2': {\n",
    "                'parameters': {\n",
    "                    'angle_limit': 20, # Maximum angle of rotation\n",
    "                    'p': 1.0  # Probability of applying the augmentation\n",
    "                },\n",
    "                'apply_to_percentage': 1.25  # 50% of the training images\n",
    "            }        \n",
    "        }\n",
    "    }\n",
    "\n",
    "\n",
    "for i in range(N):\n",
    "    RUN = i + 1\n",
    "    try:\n",
    "        print(f\"Starting RUN: {RUN}\")\n",
    "        main(RUN, augmentation_metadata, task_name, sub_project_name, epochs, train_size, w1, w2)\n",
    "    except Exception as e:\n",
    "        print(f\"Error in RUN: {RUN}\")\n",
    "        print(e)\n",
    "        break\n",
    "    finally:\n",
    "        clear_output(wait=True)  # Clear the output to avoid scrolling\n",
    "        gc.collect()  # Collect garbage to avoid memory leaks"
   ]
  },
  {
   "cell_type": "code",
   "execution_count": 25,
   "metadata": {},
   "outputs": [
    {
     "name": "stdout",
     "output_type": "stream",
     "text": [
      "Starting RUN: 5\n",
      "Seed:  3197284735\n",
      "Num GPUs Available:  0\n"
     ]
    },
    {
     "name": "stderr",
     "output_type": "stream",
     "text": [
      "c:\\github\\Third-Year-Project\\Intruder-Aircraft-Detection\\main\\tl_clf.py:82: SettingWithCopyWarning:\n",
      "\n",
      "\n",
      "A value is trying to be set on a copy of a slice from a DataFrame.\n",
      "Try using .loc[row_indexer,col_indexer] = value instead\n",
      "\n",
      "See the caveats in the documentation: https://pandas.pydata.org/pandas-docs/stable/user_guide/indexing.html#returning-a-view-versus-a-copy\n",
      "\n",
      "c:\\github\\Third-Year-Project\\Intruder-Aircraft-Detection\\main\\tl_clf.py:83: SettingWithCopyWarning:\n",
      "\n",
      "\n",
      "A value is trying to be set on a copy of a slice from a DataFrame.\n",
      "Try using .loc[row_indexer,col_indexer] = value instead\n",
      "\n",
      "See the caveats in the documentation: https://pandas.pydata.org/pandas-docs/stable/user_guide/indexing.html#returning-a-view-versus-a-copy\n",
      "\n"
     ]
    },
    {
     "name": "stdout",
     "output_type": "stream",
     "text": [
      "Removing dataset if pre-existing\n",
      "Copying training files:\n"
     ]
    },
    {
     "name": "stderr",
     "output_type": "stream",
     "text": [
      "Copying files: 100%|██████████| 1000/1000 [00:01<00:00, 888.68it/s]\n"
     ]
    },
    {
     "name": "stdout",
     "output_type": "stream",
     "text": [
      "Copying validation files:\n"
     ]
    },
    {
     "name": "stderr",
     "output_type": "stream",
     "text": [
      "Copying files: 100%|██████████| 250/250 [00:00<00:00, 900.70it/s]\n"
     ]
    },
    {
     "name": "stdout",
     "output_type": "stream",
     "text": [
      "Dataset 'weather_23_500' created at C:\\github\\Third-Year-Project\\Intruder-Aircraft-Detection\\datasets\\Custom\\weather_23_500\n",
      "Processing train labels in weather_23_500:\n"
     ]
    },
    {
     "name": "stderr",
     "output_type": "stream",
     "text": [
      "Processing labels: 100%|██████████| 500/500 [00:01<00:00, 314.87it/s]\n"
     ]
    },
    {
     "name": "stdout",
     "output_type": "stream",
     "text": [
      "Processing valid labels in weather_23_500:\n"
     ]
    },
    {
     "name": "stderr",
     "output_type": "stream",
     "text": [
      "Processing labels: 100%|██████████| 125/125 [00:00<00:00, 272.27it/s]\n"
     ]
    },
    {
     "name": "stdout",
     "output_type": "stream",
     "text": [
      "Label correction completed.\n"
     ]
    },
    {
     "name": "stderr",
     "output_type": "stream",
     "text": [
      "Removing existing directories/files: 100%|██████████| 3/3 [00:00<00:00, 3003.80it/s]\n",
      "Copying files: 100%|██████████| 500/500 [00:00<00:00, 1142.50it/s]\n",
      "Copying files: 100%|██████████| 500/500 [00:00<00:00, 1453.17it/s]\n",
      "Applying augmentations: 100%|██████████| 1250/1250 [00:23<00:00, 54.09it/s]\n"
     ]
    },
    {
     "name": "stdout",
     "output_type": "stream",
     "text": [
      "An error occurred: Expected x_min for bbox (-0.08473900000000001, -0.027910999999999964, 0.831197, 0.582713, 1) to be in the range [0.0, 1.0], got -0.08473900000000001.\n",
      "An error occurred: Expected x_min for bbox (-0.08473900000000001, -0.027910999999999964, 0.831197, 0.582713, 1) to be in the range [0.0, 1.0], got -0.08473900000000001.\n",
      "An error occurred: Expected y_min for bbox (0.12349849999999996, -0.0012560000000000071, 0.7682795, 0.42859800000000003, 2) to be in the range [0.0, 1.0], got -0.0012560000000000071.\n",
      "An error occurred: Expected x_min for bbox (-0.02981600000000001, 0.598216, 0.699454, 1.084396, 2) to be in the range [0.0, 1.0], got -0.02981600000000001.\n",
      "An error occurred: Expected x_min for bbox (-0.02981600000000001, 0.598216, 0.699454, 1.084396, 2) to be in the range [0.0, 1.0], got -0.02981600000000001.\n",
      "An error occurred: Expected y_min for bbox (0.12349849999999996, -0.0012560000000000071, 0.7682795, 0.42859800000000003, 2) to be in the range [0.0, 1.0], got -0.0012560000000000071.\n"
     ]
    },
    {
     "name": "stderr",
     "output_type": "stream",
     "text": [
      "Processing images:  34%|███▍      | 169/500 [00:06<00:09, 35.69it/s]"
     ]
    },
    {
     "name": "stdout",
     "output_type": "stream",
     "text": [
      "An error occurred with C:/github/Third-Year-Project/Intruder-Aircraft-Detection/datasets/Custom/weather_23_500\\images\\train\\27198.jpg: Expected x_min for bbox (-0.08473900000000001, -0.027910999999999964, 0.831197, 0.582713, 1) to be in the range [0.0, 1.0], got -0.08473900000000001.\n"
     ]
    },
    {
     "name": "stderr",
     "output_type": "stream",
     "text": [
      "Processing images:  84%|████████▍ | 422/500 [00:13<00:02, 35.56it/s]"
     ]
    },
    {
     "name": "stdout",
     "output_type": "stream",
     "text": [
      "An error occurred with C:/github/Third-Year-Project/Intruder-Aircraft-Detection/datasets/Custom/weather_23_500\\images\\train\\50883.jpg: Expected y_min for bbox (0.12349849999999996, -0.0012560000000000071, 0.7682795, 0.42859800000000003, 2) to be in the range [0.0, 1.0], got -0.0012560000000000071.\n"
     ]
    },
    {
     "name": "stderr",
     "output_type": "stream",
     "text": [
      "Processing images: 100%|██████████| 500/500 [00:15<00:00, 31.49it/s]"
     ]
    },
    {
     "name": "stdout",
     "output_type": "stream",
     "text": [
      "An error occurred with C:/github/Third-Year-Project/Intruder-Aircraft-Detection/datasets/Custom/weather_23_500\\images\\train\\51808.jpg: Expected x_min for bbox (-0.02981600000000001, 0.598216, 0.699454, 1.084396, 2) to be in the range [0.0, 1.0], got -0.02981600000000001.\n"
     ]
    },
    {
     "name": "stderr",
     "output_type": "stream",
     "text": [
      "\n",
      "Processing images:  34%|███▍      | 590/1744 [00:22<00:33, 34.42it/s]"
     ]
    },
    {
     "name": "stdout",
     "output_type": "stream",
     "text": [
      "An error occurred with C:/github/Third-Year-Project/Intruder-Aircraft-Detection/datasets/Custom/weather_23_500\\images\\train-aug\\27198.jpg: Expected x_min for bbox (-0.08473900000000001, -0.027910999999999964, 0.831197, 0.582713, 1) to be in the range [0.0, 1.0], got -0.08473900000000001.\n"
     ]
    },
    {
     "name": "stderr",
     "output_type": "stream",
     "text": [
      "Processing images:  83%|████████▎ | 1448/1744 [00:48<00:08, 34.88it/s]"
     ]
    },
    {
     "name": "stdout",
     "output_type": "stream",
     "text": [
      "An error occurred with C:/github/Third-Year-Project/Intruder-Aircraft-Detection/datasets/Custom/weather_23_500\\images\\train-aug\\50883.jpg: Expected y_min for bbox (0.12349849999999996, -0.0012560000000000071, 0.7682795, 0.42859800000000003, 2) to be in the range [0.0, 1.0], got -0.0012560000000000071.\n"
     ]
    },
    {
     "name": "stderr",
     "output_type": "stream",
     "text": [
      "Processing images:  99%|█████████▉| 1725/1744 [00:56<00:00, 36.38it/s]"
     ]
    },
    {
     "name": "stdout",
     "output_type": "stream",
     "text": [
      "An error occurred with C:/github/Third-Year-Project/Intruder-Aircraft-Detection/datasets/Custom/weather_23_500\\images\\train-aug\\51808.jpg: Expected x_min for bbox (-0.02981600000000001, 0.598216, 0.699454, 1.084396, 2) to be in the range [0.0, 1.0], got -0.02981600000000001.\n"
     ]
    },
    {
     "name": "stderr",
     "output_type": "stream",
     "text": [
      "Processing images: 100%|██████████| 1744/1744 [00:57<00:00, 30.48it/s]\n",
      "Processing images: 100%|██████████| 125/125 [00:04<00:00, 31.04it/s]\n",
      "Moving images in train: 100%|██████████| 497/497 [00:01<00:00, 288.09it/s]\n",
      "Moving images in train-aug: 100%|██████████| 1741/1741 [00:05<00:00, 291.68it/s]\n",
      "Moving images in valid: 100%|██████████| 125/125 [00:00<00:00, 287.98it/s]\n"
     ]
    },
    {
     "name": "stdout",
     "output_type": "stream",
     "text": [
      "Found 497 files belonging to 3 classes.\n",
      "Found 1741 files belonging to 3 classes.\n",
      "Found 125 files belonging to 3 classes.\n",
      "ClearML Task: created new task id=af6f6693cc1846d7bee6c5526e3b55f4\n",
      "ClearML results page: https://app.clear.ml/projects/5a674be4cf0f473c808dd42f7b83358f/experiments/af6f6693cc1846d7bee6c5526e3b55f4/output/log\n",
      "Training model...\n",
      "Epoch 1/30\n",
      "\u001b[1m16/16\u001b[0m \u001b[32m━━━━━━━━━━━━━━━━━━━━\u001b[0m\u001b[37m\u001b[0m \u001b[1m7s\u001b[0m 295ms/step - accuracy: 0.3248 - loss: 2.3842 - precision: 0.3048 - recall: 0.1652 - val_accuracy: 0.3280 - val_loss: 1.0986 - val_precision: 0.0000e+00 - val_recall: 0.0000e+00\n",
      "Epoch 2/30\n",
      "\u001b[1m16/16\u001b[0m \u001b[32m━━━━━━━━━━━━━━━━━━━━\u001b[0m\u001b[37m\u001b[0m \u001b[1m4s\u001b[0m 228ms/step - accuracy: 0.3006 - loss: 1.1001 - precision: 0.0000e+00 - recall: 0.0000e+00 - val_accuracy: 0.3360 - val_loss: 1.0985 - val_precision: 0.0000e+00 - val_recall: 0.0000e+00\n",
      "Epoch 3/30\n",
      "\u001b[1m16/16\u001b[0m \u001b[32m━━━━━━━━━━━━━━━━━━━━\u001b[0m\u001b[37m\u001b[0m \u001b[1m4s\u001b[0m 224ms/step - accuracy: 0.3271 - loss: 1.0990 - precision: 0.0000e+00 - recall: 0.0000e+00 - val_accuracy: 0.3280 - val_loss: 1.0987 - val_precision: 0.0000e+00 - val_recall: 0.0000e+00\n",
      "Epoch 4/30\n",
      "\u001b[1m16/16\u001b[0m \u001b[32m━━━━━━━━━━━━━━━━━━━━\u001b[0m\u001b[37m\u001b[0m \u001b[1m4s\u001b[0m 224ms/step - accuracy: 0.3181 - loss: 1.0991 - precision: 0.0000e+00 - recall: 0.0000e+00 - val_accuracy: 0.3360 - val_loss: 1.0983 - val_precision: 0.0000e+00 - val_recall: 0.0000e+00\n",
      "Epoch 5/30\n",
      "\u001b[1m16/16\u001b[0m \u001b[32m━━━━━━━━━━━━━━━━━━━━\u001b[0m\u001b[37m\u001b[0m \u001b[1m4s\u001b[0m 220ms/step - accuracy: 0.3398 - loss: 1.1029 - precision: 0.0000e+00 - recall: 0.0000e+00 - val_accuracy: 0.3280 - val_loss: 1.0986 - val_precision: 0.0000e+00 - val_recall: 0.0000e+00\n",
      "Epoch 6/30\n",
      "\u001b[1m16/16\u001b[0m \u001b[32m━━━━━━━━━━━━━━━━━━━━\u001b[0m\u001b[37m\u001b[0m \u001b[1m4s\u001b[0m 222ms/step - accuracy: 0.3170 - loss: 1.0999 - precision: 0.0000e+00 - recall: 0.0000e+00 - val_accuracy: 0.3280 - val_loss: 1.0987 - val_precision: 0.0000e+00 - val_recall: 0.0000e+00\n",
      "Epoch 7/30\n",
      "\u001b[1m16/16\u001b[0m \u001b[32m━━━━━━━━━━━━━━━━━━━━\u001b[0m\u001b[37m\u001b[0m \u001b[1m4s\u001b[0m 227ms/step - accuracy: 0.3300 - loss: 1.0985 - precision: 0.0000e+00 - recall: 0.0000e+00 - val_accuracy: 0.3280 - val_loss: 1.0987 - val_precision: 0.0000e+00 - val_recall: 0.0000e+00\n",
      "Epoch 8/30\n",
      "\u001b[1m16/16\u001b[0m \u001b[32m━━━━━━━━━━━━━━━━━━━━\u001b[0m\u001b[37m\u001b[0m \u001b[1m4s\u001b[0m 220ms/step - accuracy: 0.3136 - loss: 1.0986 - precision: 0.0000e+00 - recall: 0.0000e+00 - val_accuracy: 0.3280 - val_loss: 1.0987 - val_precision: 0.0000e+00 - val_recall: 0.0000e+00\n",
      "Epoch 9/30\n",
      "\u001b[1m16/16\u001b[0m \u001b[32m━━━━━━━━━━━━━━━━━━━━\u001b[0m\u001b[37m\u001b[0m \u001b[1m4s\u001b[0m 221ms/step - accuracy: 0.3267 - loss: 1.0986 - precision: 0.0000e+00 - recall: 0.0000e+00 - val_accuracy: 0.3280 - val_loss: 1.0987 - val_precision: 0.0000e+00 - val_recall: 0.0000e+00\n",
      "Epoch 10/30\n",
      "\u001b[1m16/16\u001b[0m \u001b[32m━━━━━━━━━━━━━━━━━━━━\u001b[0m\u001b[37m\u001b[0m \u001b[1m4s\u001b[0m 221ms/step - accuracy: 0.3514 - loss: 1.1028 - precision: 0.0000e+00 - recall: 0.0000e+00 - val_accuracy: 0.3280 - val_loss: 1.0986 - val_precision: 0.0000e+00 - val_recall: 0.0000e+00\n",
      "Epoch 11/30\n",
      "\u001b[1m16/16\u001b[0m \u001b[32m━━━━━━━━━━━━━━━━━━━━\u001b[0m\u001b[37m\u001b[0m \u001b[1m4s\u001b[0m 240ms/step - accuracy: 0.3233 - loss: 1.1000 - precision: 0.0000e+00 - recall: 0.0000e+00 - val_accuracy: 0.3280 - val_loss: 1.0986 - val_precision: 0.0000e+00 - val_recall: 0.0000e+00\n",
      "Epoch 12/30\n",
      "\u001b[1m16/16\u001b[0m \u001b[32m━━━━━━━━━━━━━━━━━━━━\u001b[0m\u001b[37m\u001b[0m \u001b[1m4s\u001b[0m 265ms/step - accuracy: 0.3337 - loss: 1.1024 - precision: 0.0000e+00 - recall: 0.0000e+00 - val_accuracy: 0.3280 - val_loss: 1.0986 - val_precision: 0.0000e+00 - val_recall: 0.0000e+00\n",
      "Epoch 13/30\n",
      "\u001b[1m16/16\u001b[0m \u001b[32m━━━━━━━━━━━━━━━━━━━━\u001b[0m\u001b[37m\u001b[0m \u001b[1m4s\u001b[0m 223ms/step - accuracy: 0.3408 - loss: 1.0989 - precision: 0.0000e+00 - recall: 0.0000e+00 - val_accuracy: 0.3360 - val_loss: 1.0984 - val_precision: 0.0000e+00 - val_recall: 0.0000e+00\n",
      "Epoch 14/30\n",
      "\u001b[1m16/16\u001b[0m \u001b[32m━━━━━━━━━━━━━━━━━━━━\u001b[0m\u001b[37m\u001b[0m \u001b[1m4s\u001b[0m 224ms/step - accuracy: 0.3780 - loss: 1.0983 - precision: 0.0000e+00 - recall: 0.0000e+00 - val_accuracy: 0.3360 - val_loss: 1.0980 - val_precision: 0.0000e+00 - val_recall: 0.0000e+00\n",
      "Epoch 15/30\n",
      "\u001b[1m16/16\u001b[0m \u001b[32m━━━━━━━━━━━━━━━━━━━━\u001b[0m\u001b[37m\u001b[0m \u001b[1m4s\u001b[0m 226ms/step - accuracy: 0.3637 - loss: 1.0987 - precision: 0.0824 - recall: 0.0034 - val_accuracy: 0.4880 - val_loss: 1.0907 - val_precision: 0.0000e+00 - val_recall: 0.0000e+00\n",
      "Epoch 16/30\n",
      "\u001b[1m16/16\u001b[0m \u001b[32m━━━━━━━━━━━━━━━━━━━━\u001b[0m\u001b[37m\u001b[0m \u001b[1m4s\u001b[0m 220ms/step - accuracy: 0.3613 - loss: 1.0944 - precision: 0.0000e+00 - recall: 0.0000e+00 - val_accuracy: 0.3280 - val_loss: 1.3770 - val_precision: 0.3280 - val_recall: 0.3280\n",
      "Epoch 17/30\n",
      "\u001b[1m16/16\u001b[0m \u001b[32m━━━━━━━━━━━━━━━━━━━━\u001b[0m\u001b[37m\u001b[0m \u001b[1m4s\u001b[0m 225ms/step - accuracy: 0.4134 - loss: 1.0929 - precision: 0.4916 - recall: 0.1046 - val_accuracy: 0.4880 - val_loss: 1.0390 - val_precision: 1.0000 - val_recall: 0.0080\n",
      "Epoch 18/30\n",
      "\u001b[1m16/16\u001b[0m \u001b[32m━━━━━━━━━━━━━━━━━━━━\u001b[0m\u001b[37m\u001b[0m \u001b[1m4s\u001b[0m 222ms/step - accuracy: 0.4912 - loss: 1.0360 - precision: 0.8053 - recall: 0.0618 - val_accuracy: 0.6320 - val_loss: 1.0074 - val_precision: 0.9231 - val_recall: 0.0960\n",
      "Epoch 19/30\n",
      "\u001b[1m16/16\u001b[0m \u001b[32m━━━━━━━━━━━━━━━━━━━━\u001b[0m\u001b[37m\u001b[0m \u001b[1m4s\u001b[0m 222ms/step - accuracy: 0.6198 - loss: 0.9570 - precision: 0.6842 - recall: 0.2248 - val_accuracy: 0.6160 - val_loss: 0.9425 - val_precision: 0.6750 - val_recall: 0.2160\n",
      "Epoch 20/30\n",
      "\u001b[1m16/16\u001b[0m \u001b[32m━━━━━━━━━━━━━━━━━━━━\u001b[0m\u001b[37m\u001b[0m \u001b[1m4s\u001b[0m 221ms/step - accuracy: 0.6483 - loss: 0.8142 - precision: 0.7797 - recall: 0.4409 - val_accuracy: 0.7440 - val_loss: 0.8071 - val_precision: 0.7528 - val_recall: 0.5360\n",
      "Epoch 21/30\n",
      "\u001b[1m16/16\u001b[0m \u001b[32m━━━━━━━━━━━━━━━━━━━━\u001b[0m\u001b[37m\u001b[0m \u001b[1m4s\u001b[0m 224ms/step - accuracy: 0.7204 - loss: 0.6933 - precision: 0.7672 - recall: 0.5864 - val_accuracy: 0.4880 - val_loss: 1.0077 - val_precision: 0.6610 - val_recall: 0.3120\n",
      "Epoch 22/30\n",
      "\u001b[1m16/16\u001b[0m \u001b[32m━━━━━━━━━━━━━━━━━━━━\u001b[0m\u001b[37m\u001b[0m \u001b[1m4s\u001b[0m 223ms/step - accuracy: 0.5089 - loss: 0.9613 - precision: 0.7189 - recall: 0.2869 - val_accuracy: 0.5200 - val_loss: 0.9705 - val_precision: 0.5349 - val_recall: 0.1840\n",
      "Epoch 23/30\n",
      "\u001b[1m16/16\u001b[0m \u001b[32m━━━━━━━━━━━━━━━━━━━━\u001b[0m\u001b[37m\u001b[0m \u001b[1m4s\u001b[0m 224ms/step - accuracy: 0.6388 - loss: 0.8073 - precision: 0.6955 - recall: 0.4289 - val_accuracy: 0.6560 - val_loss: 0.9047 - val_precision: 0.7048 - val_recall: 0.5920\n",
      "Epoch 24/30\n",
      "\u001b[1m16/16\u001b[0m \u001b[32m━━━━━━━━━━━━━━━━━━━━\u001b[0m\u001b[37m\u001b[0m \u001b[1m4s\u001b[0m 224ms/step - accuracy: 0.7134 - loss: 0.6624 - precision: 0.7515 - recall: 0.6435 - val_accuracy: 0.6720 - val_loss: 1.0113 - val_precision: 0.7030 - val_recall: 0.5680\n",
      "Epoch 25/30\n",
      "\u001b[1m16/16\u001b[0m \u001b[32m━━━━━━━━━━━━━━━━━━━━\u001b[0m\u001b[37m\u001b[0m \u001b[1m4s\u001b[0m 221ms/step - accuracy: 0.7316 - loss: 0.5962 - precision: 0.7790 - recall: 0.6502 - val_accuracy: 0.6960 - val_loss: 0.9836 - val_precision: 0.7117 - val_recall: 0.6320\n",
      "Epoch 26/30\n",
      "\u001b[1m16/16\u001b[0m \u001b[32m━━━━━━━━━━━━━━━━━━━━\u001b[0m\u001b[37m\u001b[0m \u001b[1m4s\u001b[0m 222ms/step - accuracy: 0.7769 - loss: 0.5208 - precision: 0.7924 - recall: 0.7327 - val_accuracy: 0.6880 - val_loss: 0.9571 - val_precision: 0.7030 - val_recall: 0.5680\n",
      "Epoch 27/30\n",
      "\u001b[1m16/16\u001b[0m \u001b[32m━━━━━━━━━━━━━━━━━━━━\u001b[0m\u001b[37m\u001b[0m \u001b[1m4s\u001b[0m 224ms/step - accuracy: 0.7591 - loss: 0.5997 - precision: 0.8145 - recall: 0.6444 - val_accuracy: 0.6960 - val_loss: 1.0913 - val_precision: 0.7143 - val_recall: 0.6800\n",
      "Epoch 28/30\n",
      "\u001b[1m16/16\u001b[0m \u001b[32m━━━━━━━━━━━━━━━━━━━━\u001b[0m\u001b[37m\u001b[0m \u001b[1m4s\u001b[0m 221ms/step - accuracy: 0.7784 - loss: 0.4944 - precision: 0.7995 - recall: 0.7620 - val_accuracy: 0.7040 - val_loss: 1.1919 - val_precision: 0.7167 - val_recall: 0.6880\n",
      "Epoch 29/30\n",
      "\u001b[1m16/16\u001b[0m \u001b[32m━━━━━━━━━━━━━━━━━━━━\u001b[0m\u001b[37m\u001b[0m \u001b[1m4s\u001b[0m 227ms/step - accuracy: 0.8087 - loss: 0.4484 - precision: 0.8389 - recall: 0.7941 - val_accuracy: 0.7120 - val_loss: 1.0837 - val_precision: 0.7288 - val_recall: 0.6880\n",
      "Epoch 30/30\n",
      "\u001b[1m16/16\u001b[0m \u001b[32m━━━━━━━━━━━━━━━━━━━━\u001b[0m\u001b[37m\u001b[0m \u001b[1m4s\u001b[0m 232ms/step - accuracy: 0.8403 - loss: 0.3927 - precision: 0.8725 - recall: 0.8197 - val_accuracy: 0.7200 - val_loss: 1.1583 - val_precision: 0.7190 - val_recall: 0.6960\n",
      "Predicting on validation set...\n",
      "\u001b[1m4/4\u001b[0m \u001b[32m━━━━━━━━━━━━━━━━━━━━\u001b[0m\u001b[37m\u001b[0m \u001b[1m0s\u001b[0m 65ms/step\n",
      "Sending metrics to clearML...\n",
      "done\n",
      "ClearML Task: created new task id=57e4478c742f479984a3e81d58797485\n",
      "ClearML results page: https://app.clear.ml/projects/5a674be4cf0f473c808dd42f7b83358f/experiments/57e4478c742f479984a3e81d58797485/output/log\n",
      "Training model...\n",
      "Epoch 1/30\n",
      "\u001b[1m55/55\u001b[0m \u001b[32m━━━━━━━━━━━━━━━━━━━━\u001b[0m\u001b[37m\u001b[0m \u001b[1m16s\u001b[0m 246ms/step - accuracy: 0.3332 - loss: 2.3468 - precision: 0.2775 - recall: 0.0942 - val_accuracy: 0.3360 - val_loss: 1.0994 - val_precision: 0.0000e+00 - val_recall: 0.0000e+00\n",
      "Epoch 2/30\n",
      "\u001b[1m55/55\u001b[0m \u001b[32m━━━━━━━━━━━━━━━━━━━━\u001b[0m\u001b[37m\u001b[0m \u001b[1m12s\u001b[0m 218ms/step - accuracy: 0.3543 - loss: 1.0901 - precision: 0.3463 - recall: 0.0080 - val_accuracy: 0.3280 - val_loss: 1.0981 - val_precision: 0.0000e+00 - val_recall: 0.0000e+00\n",
      "Epoch 3/30\n",
      "\u001b[1m55/55\u001b[0m \u001b[32m━━━━━━━━━━━━━━━━━━━━\u001b[0m\u001b[37m\u001b[0m \u001b[1m12s\u001b[0m 219ms/step - accuracy: 0.4081 - loss: 1.0739 - precision: 0.4782 - recall: 0.0292 - val_accuracy: 0.3440 - val_loss: 1.0871 - val_precision: 0.0000e+00 - val_recall: 0.0000e+00\n",
      "Epoch 4/30\n",
      "\u001b[1m55/55\u001b[0m \u001b[32m━━━━━━━━━━━━━━━━━━━━\u001b[0m\u001b[37m\u001b[0m \u001b[1m13s\u001b[0m 237ms/step - accuracy: 0.4279 - loss: 1.0560 - precision: 0.6819 - recall: 0.0778 - val_accuracy: 0.4720 - val_loss: 1.0592 - val_precision: 1.0000 - val_recall: 0.0080\n",
      "Epoch 5/30\n",
      "\u001b[1m55/55\u001b[0m \u001b[32m━━━━━━━━━━━━━━━━━━━━\u001b[0m\u001b[37m\u001b[0m \u001b[1m12s\u001b[0m 219ms/step - accuracy: 0.5609 - loss: 0.9671 - precision: 0.7935 - recall: 0.1916 - val_accuracy: 0.6160 - val_loss: 0.8487 - val_precision: 0.6739 - val_recall: 0.4960\n",
      "Epoch 6/30\n",
      "\u001b[1m55/55\u001b[0m \u001b[32m━━━━━━━━━━━━━━━━━━━━\u001b[0m\u001b[37m\u001b[0m \u001b[1m12s\u001b[0m 217ms/step - accuracy: 0.7188 - loss: 0.7059 - precision: 0.7752 - recall: 0.6314 - val_accuracy: 0.6640 - val_loss: 0.8232 - val_precision: 0.7333 - val_recall: 0.6160\n",
      "Epoch 7/30\n",
      "\u001b[1m55/55\u001b[0m \u001b[32m━━━━━━━━━━━━━━━━━━━━\u001b[0m\u001b[37m\u001b[0m \u001b[1m12s\u001b[0m 218ms/step - accuracy: 0.7442 - loss: 0.6577 - precision: 0.7896 - recall: 0.6651 - val_accuracy: 0.6640 - val_loss: 0.9169 - val_precision: 0.6696 - val_recall: 0.6160\n",
      "Epoch 8/30\n",
      "\u001b[1m55/55\u001b[0m \u001b[32m━━━━━━━━━━━━━━━━━━━━\u001b[0m\u001b[37m\u001b[0m \u001b[1m12s\u001b[0m 219ms/step - accuracy: 0.8011 - loss: 0.4881 - precision: 0.8251 - recall: 0.7629 - val_accuracy: 0.6640 - val_loss: 0.9344 - val_precision: 0.6864 - val_recall: 0.6480\n",
      "Epoch 9/30\n",
      "\u001b[1m55/55\u001b[0m \u001b[32m━━━━━━━━━━━━━━━━━━━━\u001b[0m\u001b[37m\u001b[0m \u001b[1m12s\u001b[0m 218ms/step - accuracy: 0.8274 - loss: 0.4263 - precision: 0.8567 - recall: 0.7908 - val_accuracy: 0.6960 - val_loss: 0.9997 - val_precision: 0.7167 - val_recall: 0.6880\n",
      "Epoch 10/30\n",
      "\u001b[1m55/55\u001b[0m \u001b[32m━━━━━━━━━━━━━━━━━━━━\u001b[0m\u001b[37m\u001b[0m \u001b[1m12s\u001b[0m 218ms/step - accuracy: 0.8638 - loss: 0.3306 - precision: 0.8770 - recall: 0.8432 - val_accuracy: 0.7280 - val_loss: 1.0329 - val_precision: 0.7377 - val_recall: 0.7200\n",
      "Epoch 11/30\n",
      "\u001b[1m55/55\u001b[0m \u001b[32m━━━━━━━━━━━━━━━━━━━━\u001b[0m\u001b[37m\u001b[0m \u001b[1m12s\u001b[0m 218ms/step - accuracy: 0.8917 - loss: 0.3032 - precision: 0.9031 - recall: 0.8729 - val_accuracy: 0.7200 - val_loss: 1.2542 - val_precision: 0.7377 - val_recall: 0.7200\n",
      "Epoch 12/30\n",
      "\u001b[1m55/55\u001b[0m \u001b[32m━━━━━━━━━━━━━━━━━━━━\u001b[0m\u001b[37m\u001b[0m \u001b[1m12s\u001b[0m 219ms/step - accuracy: 0.8898 - loss: 0.2830 - precision: 0.8994 - recall: 0.8719 - val_accuracy: 0.7120 - val_loss: 1.3846 - val_precision: 0.7250 - val_recall: 0.6960\n",
      "Epoch 13/30\n",
      "\u001b[1m55/55\u001b[0m \u001b[32m━━━━━━━━━━━━━━━━━━━━\u001b[0m\u001b[37m\u001b[0m \u001b[1m12s\u001b[0m 221ms/step - accuracy: 0.8989 - loss: 0.2635 - precision: 0.9068 - recall: 0.8886 - val_accuracy: 0.7040 - val_loss: 1.3323 - val_precision: 0.6967 - val_recall: 0.6800\n",
      "Epoch 14/30\n",
      "\u001b[1m55/55\u001b[0m \u001b[32m━━━━━━━━━━━━━━━━━━━━\u001b[0m\u001b[37m\u001b[0m \u001b[1m12s\u001b[0m 218ms/step - accuracy: 0.8947 - loss: 0.2241 - precision: 0.8980 - recall: 0.8867 - val_accuracy: 0.7600 - val_loss: 1.3315 - val_precision: 0.7600 - val_recall: 0.7600\n",
      "Epoch 15/30\n",
      "\u001b[1m55/55\u001b[0m \u001b[32m━━━━━━━━━━━━━━━━━━━━\u001b[0m\u001b[37m\u001b[0m \u001b[1m12s\u001b[0m 219ms/step - accuracy: 0.9236 - loss: 0.1884 - precision: 0.9262 - recall: 0.9189 - val_accuracy: 0.7360 - val_loss: 1.3817 - val_precision: 0.7541 - val_recall: 0.7360\n",
      "Epoch 16/30\n",
      "\u001b[1m55/55\u001b[0m \u001b[32m━━━━━━━━━━━━━━━━━━━━\u001b[0m\u001b[37m\u001b[0m \u001b[1m12s\u001b[0m 218ms/step - accuracy: 0.9092 - loss: 0.2155 - precision: 0.9121 - recall: 0.9036 - val_accuracy: 0.7760 - val_loss: 1.4169 - val_precision: 0.7769 - val_recall: 0.7520\n",
      "Epoch 17/30\n",
      "\u001b[1m55/55\u001b[0m \u001b[32m━━━━━━━━━━━━━━━━━━━━\u001b[0m\u001b[37m\u001b[0m \u001b[1m12s\u001b[0m 218ms/step - accuracy: 0.9100 - loss: 0.2319 - precision: 0.9222 - recall: 0.8976 - val_accuracy: 0.7360 - val_loss: 1.6188 - val_precision: 0.7541 - val_recall: 0.7360\n",
      "Epoch 18/30\n",
      "\u001b[1m55/55\u001b[0m \u001b[32m━━━━━━━━━━━━━━━━━━━━\u001b[0m\u001b[37m\u001b[0m \u001b[1m12s\u001b[0m 221ms/step - accuracy: 0.9349 - loss: 0.1740 - precision: 0.9365 - recall: 0.9313 - val_accuracy: 0.7760 - val_loss: 1.4755 - val_precision: 0.7886 - val_recall: 0.7760\n",
      "Epoch 19/30\n",
      "\u001b[1m55/55\u001b[0m \u001b[32m━━━━━━━━━━━━━━━━━━━━\u001b[0m\u001b[37m\u001b[0m \u001b[1m12s\u001b[0m 218ms/step - accuracy: 0.9472 - loss: 0.1388 - precision: 0.9531 - recall: 0.9431 - val_accuracy: 0.7920 - val_loss: 1.7474 - val_precision: 0.7967 - val_recall: 0.7840\n",
      "Epoch 20/30\n",
      "\u001b[1m55/55\u001b[0m \u001b[32m━━━━━━━━━━━━━━━━━━━━\u001b[0m\u001b[37m\u001b[0m \u001b[1m12s\u001b[0m 220ms/step - accuracy: 0.9587 - loss: 0.1068 - precision: 0.9615 - recall: 0.9572 - val_accuracy: 0.7440 - val_loss: 1.6252 - val_precision: 0.7500 - val_recall: 0.7440\n",
      "Epoch 21/30\n",
      "\u001b[1m55/55\u001b[0m \u001b[32m━━━━━━━━━━━━━━━━━━━━\u001b[0m\u001b[37m\u001b[0m \u001b[1m12s\u001b[0m 219ms/step - accuracy: 0.9731 - loss: 0.0913 - precision: 0.9744 - recall: 0.9695 - val_accuracy: 0.7360 - val_loss: 1.7009 - val_precision: 0.7480 - val_recall: 0.7360\n",
      "Epoch 22/30\n",
      "\u001b[1m55/55\u001b[0m \u001b[32m━━━━━━━━━━━━━━━━━━━━\u001b[0m\u001b[37m\u001b[0m \u001b[1m12s\u001b[0m 218ms/step - accuracy: 0.9524 - loss: 0.1298 - precision: 0.9563 - recall: 0.9505 - val_accuracy: 0.7760 - val_loss: 1.7851 - val_precision: 0.7742 - val_recall: 0.7680\n",
      "Epoch 23/30\n",
      "\u001b[1m55/55\u001b[0m \u001b[32m━━━━━━━━━━━━━━━━━━━━\u001b[0m\u001b[37m\u001b[0m \u001b[1m12s\u001b[0m 220ms/step - accuracy: 0.9511 - loss: 0.1248 - precision: 0.9518 - recall: 0.9494 - val_accuracy: 0.7360 - val_loss: 1.5539 - val_precision: 0.7480 - val_recall: 0.7360\n",
      "Epoch 24/30\n",
      "\u001b[1m55/55\u001b[0m \u001b[32m━━━━━━━━━━━━━━━━━━━━\u001b[0m\u001b[37m\u001b[0m \u001b[1m12s\u001b[0m 218ms/step - accuracy: 0.9646 - loss: 0.0920 - precision: 0.9645 - recall: 0.9621 - val_accuracy: 0.7600 - val_loss: 1.8875 - val_precision: 0.7661 - val_recall: 0.7600\n",
      "Epoch 25/30\n",
      "\u001b[1m55/55\u001b[0m \u001b[32m━━━━━━━━━━━━━━━━━━━━\u001b[0m\u001b[37m\u001b[0m \u001b[1m12s\u001b[0m 218ms/step - accuracy: 0.9614 - loss: 0.0916 - precision: 0.9626 - recall: 0.9592 - val_accuracy: 0.7920 - val_loss: 2.1730 - val_precision: 0.7920 - val_recall: 0.7920\n",
      "Epoch 26/30\n",
      "\u001b[1m55/55\u001b[0m \u001b[32m━━━━━━━━━━━━━━━━━━━━\u001b[0m\u001b[37m\u001b[0m \u001b[1m12s\u001b[0m 217ms/step - accuracy: 0.9753 - loss: 0.0712 - precision: 0.9763 - recall: 0.9753 - val_accuracy: 0.7440 - val_loss: 1.9231 - val_precision: 0.7480 - val_recall: 0.7360\n",
      "Epoch 27/30\n",
      "\u001b[1m55/55\u001b[0m \u001b[32m━━━━━━━━━━━━━━━━━━━━\u001b[0m\u001b[37m\u001b[0m \u001b[1m13s\u001b[0m 223ms/step - accuracy: 0.9706 - loss: 0.0693 - precision: 0.9715 - recall: 0.9698 - val_accuracy: 0.7440 - val_loss: 1.5139 - val_precision: 0.7500 - val_recall: 0.7440\n",
      "Epoch 28/30\n",
      "\u001b[1m55/55\u001b[0m \u001b[32m━━━━━━━━━━━━━━━━━━━━\u001b[0m\u001b[37m\u001b[0m \u001b[1m12s\u001b[0m 218ms/step - accuracy: 0.9670 - loss: 0.0909 - precision: 0.9720 - recall: 0.9663 - val_accuracy: 0.7280 - val_loss: 1.8646 - val_precision: 0.7521 - val_recall: 0.7280\n",
      "Epoch 29/30\n",
      "\u001b[1m55/55\u001b[0m \u001b[32m━━━━━━━━━━━━━━━━━━━━\u001b[0m\u001b[37m\u001b[0m \u001b[1m12s\u001b[0m 218ms/step - accuracy: 0.9784 - loss: 0.0783 - precision: 0.9788 - recall: 0.9767 - val_accuracy: 0.7200 - val_loss: 2.4968 - val_precision: 0.7258 - val_recall: 0.7200\n",
      "Epoch 30/30\n",
      "\u001b[1m55/55\u001b[0m \u001b[32m━━━━━━━━━━━━━━━━━━━━\u001b[0m\u001b[37m\u001b[0m \u001b[1m12s\u001b[0m 218ms/step - accuracy: 0.9795 - loss: 0.0505 - precision: 0.9805 - recall: 0.9789 - val_accuracy: 0.7840 - val_loss: 2.0614 - val_precision: 0.7903 - val_recall: 0.7840\n",
      "Predicting on validation set...\n",
      "\u001b[1m4/4\u001b[0m \u001b[32m━━━━━━━━━━━━━━━━━━━━\u001b[0m\u001b[37m\u001b[0m \u001b[1m0s\u001b[0m 64ms/step\n",
      "Sending metrics to clearML...\n",
      "done\n"
     ]
    }
   ],
   "source": [
    "# combination 1: rotate 5 250%\n",
    "task_name = 'r5'\n",
    "sub_project_name = 'ROTATE'\n",
    "\n",
    "augmentation_metadata = {\n",
    "        'methods': {        \n",
    "            'rotate': {\n",
    "                'parameters': {\n",
    "                    'angle_limit': 5, # Maximum angle of rotation\n",
    "                    'p': 1.0  # Probability of applying the augmentation\n",
    "                },\n",
    "                'apply_to_percentage': 2.5  # 50% of the training images\n",
    "            }        \n",
    "        }\n",
    "    }\n",
    "\n",
    "\n",
    "for i in range(N):\n",
    "    RUN = i + 1\n",
    "    try:\n",
    "        print(f\"Starting RUN: {RUN}\")\n",
    "        main(RUN, augmentation_metadata, task_name, sub_project_name, epochs, train_size, w1, w2)\n",
    "    except Exception as e:\n",
    "        print(f\"Error in RUN: {RUN}\")\n",
    "        print(e)\n",
    "        break\n",
    "    finally:\n",
    "        clear_output(wait=True)  # Clear the output to avoid scrolling\n",
    "        gc.collect()  # Collect garbage to avoid memory leaks"
   ]
  },
  {
   "cell_type": "code",
   "execution_count": 26,
   "metadata": {},
   "outputs": [
    {
     "name": "stdout",
     "output_type": "stream",
     "text": [
      "Starting RUN: 5\n",
      "Seed:  3200601819\n",
      "Num GPUs Available:  0\n"
     ]
    },
    {
     "name": "stderr",
     "output_type": "stream",
     "text": [
      "c:\\github\\Third-Year-Project\\Intruder-Aircraft-Detection\\main\\tl_clf.py:82: SettingWithCopyWarning:\n",
      "\n",
      "\n",
      "A value is trying to be set on a copy of a slice from a DataFrame.\n",
      "Try using .loc[row_indexer,col_indexer] = value instead\n",
      "\n",
      "See the caveats in the documentation: https://pandas.pydata.org/pandas-docs/stable/user_guide/indexing.html#returning-a-view-versus-a-copy\n",
      "\n",
      "c:\\github\\Third-Year-Project\\Intruder-Aircraft-Detection\\main\\tl_clf.py:83: SettingWithCopyWarning:\n",
      "\n",
      "\n",
      "A value is trying to be set on a copy of a slice from a DataFrame.\n",
      "Try using .loc[row_indexer,col_indexer] = value instead\n",
      "\n",
      "See the caveats in the documentation: https://pandas.pydata.org/pandas-docs/stable/user_guide/indexing.html#returning-a-view-versus-a-copy\n",
      "\n"
     ]
    },
    {
     "name": "stdout",
     "output_type": "stream",
     "text": [
      "Removing dataset if pre-existing\n",
      "Copying training files:\n"
     ]
    },
    {
     "name": "stderr",
     "output_type": "stream",
     "text": [
      "Copying files: 100%|██████████| 1000/1000 [00:00<00:00, 1788.36it/s]\n"
     ]
    },
    {
     "name": "stdout",
     "output_type": "stream",
     "text": [
      "Copying validation files:\n"
     ]
    },
    {
     "name": "stderr",
     "output_type": "stream",
     "text": [
      "Copying files: 100%|██████████| 250/250 [00:00<00:00, 2039.98it/s]\n"
     ]
    },
    {
     "name": "stdout",
     "output_type": "stream",
     "text": [
      "Dataset 'weather_23_500' created at C:\\github\\Third-Year-Project\\Intruder-Aircraft-Detection\\datasets\\Custom\\weather_23_500\n",
      "Processing train labels in weather_23_500:\n"
     ]
    },
    {
     "name": "stderr",
     "output_type": "stream",
     "text": [
      "Processing labels: 100%|██████████| 500/500 [00:01<00:00, 306.67it/s]\n"
     ]
    },
    {
     "name": "stdout",
     "output_type": "stream",
     "text": [
      "Processing valid labels in weather_23_500:\n"
     ]
    },
    {
     "name": "stderr",
     "output_type": "stream",
     "text": [
      "Processing labels: 100%|██████████| 125/125 [00:00<00:00, 278.02it/s]\n"
     ]
    },
    {
     "name": "stdout",
     "output_type": "stream",
     "text": [
      "Label correction completed.\n"
     ]
    },
    {
     "name": "stderr",
     "output_type": "stream",
     "text": [
      "Removing existing directories/files: 100%|██████████| 3/3 [00:00<00:00, 3001.65it/s]\n",
      "Copying files: 100%|██████████| 500/500 [00:00<00:00, 1184.49it/s]\n",
      "Copying files: 100%|██████████| 500/500 [00:00<00:00, 1210.35it/s]\n",
      "Applying augmentations: 100%|██████████| 1250/1250 [00:27<00:00, 45.01it/s]\n",
      "Processing images:  28%|██▊       | 139/500 [00:05<00:10, 34.47it/s]"
     ]
    },
    {
     "name": "stdout",
     "output_type": "stream",
     "text": [
      "An error occurred with C:/github/Third-Year-Project/Intruder-Aircraft-Detection/datasets/Custom/weather_23_500\\images\\train\\26778.jpg: Expected y_min for bbox (0.17198949999999996, -0.047677, 0.8024305, 0.372617, 1) to be in the range [0.0, 1.0], got -0.047677.\n"
     ]
    },
    {
     "name": "stderr",
     "output_type": "stream",
     "text": [
      "Processing images:  81%|████████  | 404/500 [00:12<00:02, 36.76it/s]"
     ]
    },
    {
     "name": "stdout",
     "output_type": "stream",
     "text": [
      "An error occurred with C:/github/Third-Year-Project/Intruder-Aircraft-Detection/datasets/Custom/weather_23_500\\images\\train\\50732.jpg: Expected x_min for bbox (-0.02266499999999999, 0.5461069999999999, 0.560295, 0.9347469999999999, 2) to be in the range [0.0, 1.0], got -0.02266499999999999.\n"
     ]
    },
    {
     "name": "stderr",
     "output_type": "stream",
     "text": [
      "Processing images:  90%|████████▉ | 449/500 [00:14<00:01, 35.03it/s]"
     ]
    },
    {
     "name": "stdout",
     "output_type": "stream",
     "text": [
      "An error occurred with C:/github/Third-Year-Project/Intruder-Aircraft-Detection/datasets/Custom/weather_23_500\\images\\train\\51292.jpg: Expected x_min for bbox (-0.01595049999999998, -0.01135449999999999, 0.7156905, 0.4764065, 2) to be in the range [0.0, 1.0], got -0.01595049999999998.\n"
     ]
    },
    {
     "name": "stderr",
     "output_type": "stream",
     "text": [
      "Processing images: 100%|██████████| 500/500 [00:15<00:00, 31.64it/s]\n"
     ]
    },
    {
     "name": "stdout",
     "output_type": "stream",
     "text": [
      "An error occurred with C:/github/Third-Year-Project/Intruder-Aircraft-Detection/datasets/Custom/weather_23_500\\images\\train\\51848.jpg: In YOLO format all coordinates must be float and in range (0, 1]\n"
     ]
    },
    {
     "name": "stderr",
     "output_type": "stream",
     "text": [
      "Processing images:  27%|██▋       | 478/1750 [00:19<00:34, 37.33it/s]"
     ]
    },
    {
     "name": "stdout",
     "output_type": "stream",
     "text": [
      "An error occurred with C:/github/Third-Year-Project/Intruder-Aircraft-Detection/datasets/Custom/weather_23_500\\images\\train-aug\\26778.jpg: Expected y_min for bbox (0.17198949999999996, -0.047677, 0.8024305, 0.372617, 1) to be in the range [0.0, 1.0], got -0.047677.\n",
      "An error occurred with C:/github/Third-Year-Project/Intruder-Aircraft-Detection/datasets/Custom/weather_23_500\\images\\train-aug\\26778-histEq-fb56e963.jpg: Expected y_min for bbox (0.17198949999999996, -0.047677, 0.8024305, 0.372617, 1) to be in the range [0.0, 1.0], got -0.047677.\n"
     ]
    },
    {
     "name": "stderr",
     "output_type": "stream",
     "text": [
      "Processing images:  81%|████████  | 1412/1750 [00:46<00:06, 54.64it/s]"
     ]
    },
    {
     "name": "stdout",
     "output_type": "stream",
     "text": [
      "An error occurred with C:/github/Third-Year-Project/Intruder-Aircraft-Detection/datasets/Custom/weather_23_500\\images\\train-aug\\50732-bnc-327c5fd5.jpg: Expected x_min for bbox (-0.02266499999999999, 0.5461069999999999, 0.560295, 0.9347469999999999, 2) to be in the range [0.0, 1.0], got -0.02266499999999999.\n",
      "An error occurred with C:/github/Third-Year-Project/Intruder-Aircraft-Detection/datasets/Custom/weather_23_500\\images\\train-aug\\50732-bnc-1afb4a66.jpg: Expected x_min for bbox (-0.02266499999999999, 0.5461069999999999, 0.560295, 0.9347469999999999, 2) to be in the range [0.0, 1.0], got -0.02266499999999999.\n",
      "An error occurred with C:/github/Third-Year-Project/Intruder-Aircraft-Detection/datasets/Custom/weather_23_500\\images\\train-aug\\50732-bnc-a44dee6e.jpg: Expected x_min for bbox (-0.02266499999999999, 0.5461069999999999, 0.560295, 0.9347469999999999, 2) to be in the range [0.0, 1.0], got -0.02266499999999999.\n",
      "An error occurred with C:/github/Third-Year-Project/Intruder-Aircraft-Detection/datasets/Custom/weather_23_500\\images\\train-aug\\50732-histEq-8b9ad6dd.jpg: Expected x_min for bbox (-0.02266499999999999, 0.5461069999999999, 0.560295, 0.9347469999999999, 2) to be in the range [0.0, 1.0], got -0.02266499999999999.\n",
      "An error occurred with C:/github/Third-Year-Project/Intruder-Aircraft-Detection/datasets/Custom/weather_23_500\\images\\train-aug\\50732-histEq-8f597358.jpg: Expected x_min for bbox (-0.02266499999999999, 0.5461069999999999, 0.560295, 0.9347469999999999, 2) to be in the range [0.0, 1.0], got -0.02266499999999999.\n",
      "An error occurred with C:/github/Third-Year-Project/Intruder-Aircraft-Detection/datasets/Custom/weather_23_500\\images\\train-aug\\50732-bnc-590a8933.jpg: Expected x_min for bbox (-0.02266499999999999, 0.5461069999999999, 0.560295, 0.9347469999999999, 2) to be in the range [0.0, 1.0], got -0.02266499999999999.\n",
      "An error occurred with C:/github/Third-Year-Project/Intruder-Aircraft-Detection/datasets/Custom/weather_23_500\\images\\train-aug\\50732.jpg: Expected x_min for bbox (-0.02266499999999999, 0.5461069999999999, 0.560295, 0.9347469999999999, 2) to be in the range [0.0, 1.0], got -0.02266499999999999.\n",
      "An error occurred with C:/github/Third-Year-Project/Intruder-Aircraft-Detection/datasets/Custom/weather_23_500\\images\\train-aug\\50732-histEq-b39a972f.jpg: Expected x_min for bbox (-0.02266499999999999, 0.5461069999999999, 0.560295, 0.9347469999999999, 2) to be in the range [0.0, 1.0], got -0.02266499999999999.\n"
     ]
    },
    {
     "name": "stderr",
     "output_type": "stream",
     "text": [
      "Processing images:  90%|████████▉ | 1571/1750 [00:51<00:04, 37.38it/s]"
     ]
    },
    {
     "name": "stdout",
     "output_type": "stream",
     "text": [
      "An error occurred with C:/github/Third-Year-Project/Intruder-Aircraft-Detection/datasets/Custom/weather_23_500\\images\\train-aug\\51292-bnc-a706ac93.jpg: Expected x_min for bbox (-0.01595049999999998, -0.01135449999999999, 0.7156905, 0.4764065, 2) to be in the range [0.0, 1.0], got -0.01595049999999998.\n",
      "An error occurred with C:/github/Third-Year-Project/Intruder-Aircraft-Detection/datasets/Custom/weather_23_500\\images\\train-aug\\51292.jpg: Expected x_min for bbox (-0.01595049999999998, -0.01135449999999999, 0.7156905, 0.4764065, 2) to be in the range [0.0, 1.0], got -0.01595049999999998.\n"
     ]
    },
    {
     "name": "stderr",
     "output_type": "stream",
     "text": [
      "Processing images:  99%|█████████▉| 1739/1750 [00:56<00:00, 42.00it/s]"
     ]
    },
    {
     "name": "stdout",
     "output_type": "stream",
     "text": [
      "An error occurred with C:/github/Third-Year-Project/Intruder-Aircraft-Detection/datasets/Custom/weather_23_500\\images\\train-aug\\51848-histEq-133baf20.jpg: In YOLO format all coordinates must be float and in range (0, 1]\n",
      "An error occurred with C:/github/Third-Year-Project/Intruder-Aircraft-Detection/datasets/Custom/weather_23_500\\images\\train-aug\\51848-bnc-11b35489.jpg: In YOLO format all coordinates must be float and in range (0, 1]\n",
      "An error occurred with C:/github/Third-Year-Project/Intruder-Aircraft-Detection/datasets/Custom/weather_23_500\\images\\train-aug\\51848.jpg: In YOLO format all coordinates must be float and in range (0, 1]\n",
      "An error occurred with C:/github/Third-Year-Project/Intruder-Aircraft-Detection/datasets/Custom/weather_23_500\\images\\train-aug\\51848-bnc-f42b00a1.jpg: In YOLO format all coordinates must be float and in range (0, 1]\n"
     ]
    },
    {
     "name": "stderr",
     "output_type": "stream",
     "text": [
      "Processing images: 100%|██████████| 1750/1750 [00:56<00:00, 30.83it/s]\n",
      "Processing images:  90%|█████████ | 113/125 [00:03<00:00, 36.64it/s]"
     ]
    },
    {
     "name": "stdout",
     "output_type": "stream",
     "text": [
      "An error occurred with C:/github/Third-Year-Project/Intruder-Aircraft-Detection/datasets/Custom/weather_23_500\\images\\valid\\51937.jpg: Expected y_min for bbox (0.07818900000000001, -0.009202500000000002, 0.5387230000000001, 0.2978205, 2) to be in the range [0.0, 1.0], got -0.009202500000000002.\n"
     ]
    },
    {
     "name": "stderr",
     "output_type": "stream",
     "text": [
      "Processing images: 100%|██████████| 125/125 [00:04<00:00, 30.09it/s]\n",
      "Moving images in train: 100%|██████████| 496/496 [00:01<00:00, 281.44it/s]\n",
      "Moving images in train-aug: 100%|██████████| 1734/1734 [00:02<00:00, 675.42it/s]\n",
      "Moving images in valid: 100%|██████████| 124/124 [00:00<00:00, 289.75it/s]\n"
     ]
    },
    {
     "name": "stdout",
     "output_type": "stream",
     "text": [
      "Found 496 files belonging to 3 classes.\n",
      "Found 1734 files belonging to 3 classes.\n",
      "Found 124 files belonging to 3 classes.\n",
      "ClearML Task: created new task id=028e3a7370b442b684d1f26952dd5b85\n",
      "ClearML results page: https://app.clear.ml/projects/732b3d856c964d8c8d6c1abc5eb2b83a/experiments/028e3a7370b442b684d1f26952dd5b85/output/log\n",
      "Training model...\n",
      "Epoch 1/30\n",
      "\u001b[1m16/16\u001b[0m \u001b[32m━━━━━━━━━━━━━━━━━━━━\u001b[0m\u001b[37m\u001b[0m \u001b[1m7s\u001b[0m 290ms/step - accuracy: 0.3443 - loss: 2.6589 - precision: 0.3397 - recall: 0.1759 - val_accuracy: 0.3306 - val_loss: 1.1121 - val_precision: 0.0000e+00 - val_recall: 0.0000e+00\n",
      "Epoch 2/30\n",
      "\u001b[1m16/16\u001b[0m \u001b[32m━━━━━━━━━━━━━━━━━━━━\u001b[0m\u001b[37m\u001b[0m \u001b[1m4s\u001b[0m 223ms/step - accuracy: 0.3201 - loss: 1.1070 - precision: 0.0000e+00 - recall: 0.0000e+00 - val_accuracy: 0.3387 - val_loss: 1.0983 - val_precision: 0.0000e+00 - val_recall: 0.0000e+00\n",
      "Epoch 3/30\n",
      "\u001b[1m16/16\u001b[0m \u001b[32m━━━━━━━━━━━━━━━━━━━━\u001b[0m\u001b[37m\u001b[0m \u001b[1m4s\u001b[0m 226ms/step - accuracy: 0.3715 - loss: 1.0980 - precision: 0.0000e+00 - recall: 0.0000e+00 - val_accuracy: 0.3387 - val_loss: 1.0986 - val_precision: 0.0000e+00 - val_recall: 0.0000e+00\n",
      "Epoch 4/30\n",
      "\u001b[1m16/16\u001b[0m \u001b[32m━━━━━━━━━━━━━━━━━━━━\u001b[0m\u001b[37m\u001b[0m \u001b[1m4s\u001b[0m 220ms/step - accuracy: 0.3488 - loss: 1.0982 - precision: 0.0000e+00 - recall: 0.0000e+00 - val_accuracy: 0.3387 - val_loss: 1.0985 - val_precision: 0.0000e+00 - val_recall: 0.0000e+00\n",
      "Epoch 5/30\n",
      "\u001b[1m16/16\u001b[0m \u001b[32m━━━━━━━━━━━━━━━━━━━━\u001b[0m\u001b[37m\u001b[0m \u001b[1m4s\u001b[0m 220ms/step - accuracy: 0.3620 - loss: 1.0983 - precision: 0.0000e+00 - recall: 0.0000e+00 - val_accuracy: 0.3387 - val_loss: 1.0977 - val_precision: 0.0000e+00 - val_recall: 0.0000e+00\n",
      "Epoch 6/30\n",
      "\u001b[1m16/16\u001b[0m \u001b[32m━━━━━━━━━━━━━━━━━━━━\u001b[0m\u001b[37m\u001b[0m \u001b[1m4s\u001b[0m 224ms/step - accuracy: 0.3562 - loss: 1.0966 - precision: 0.0000e+00 - recall: 0.0000e+00 - val_accuracy: 0.4032 - val_loss: 1.0965 - val_precision: 0.0000e+00 - val_recall: 0.0000e+00\n",
      "Epoch 7/30\n",
      "\u001b[1m16/16\u001b[0m \u001b[32m━━━━━━━━━━━━━━━━━━━━\u001b[0m\u001b[37m\u001b[0m \u001b[1m4s\u001b[0m 227ms/step - accuracy: 0.4018 - loss: 1.0958 - precision: 0.0000e+00 - recall: 0.0000e+00 - val_accuracy: 0.4274 - val_loss: 1.0934 - val_precision: 0.0000e+00 - val_recall: 0.0000e+00\n",
      "Epoch 8/30\n",
      "\u001b[1m16/16\u001b[0m \u001b[32m━━━━━━━━━━━━━━━━━━━━\u001b[0m\u001b[37m\u001b[0m \u001b[1m4s\u001b[0m 223ms/step - accuracy: 0.4350 - loss: 1.0913 - precision: 0.4688 - recall: 0.0094 - val_accuracy: 0.4435 - val_loss: 1.0891 - val_precision: 0.0000e+00 - val_recall: 0.0000e+00\n",
      "Epoch 9/30\n",
      "\u001b[1m16/16\u001b[0m \u001b[32m━━━━━━━━━━━━━━━━━━━━\u001b[0m\u001b[37m\u001b[0m \u001b[1m4s\u001b[0m 224ms/step - accuracy: 0.4119 - loss: 1.0822 - precision: 0.3676 - recall: 0.0017 - val_accuracy: 0.5081 - val_loss: 1.0786 - val_precision: 0.0000e+00 - val_recall: 0.0000e+00\n",
      "Epoch 10/30\n",
      "\u001b[1m16/16\u001b[0m \u001b[32m━━━━━━━━━━━━━━━━━━━━\u001b[0m\u001b[37m\u001b[0m \u001b[1m4s\u001b[0m 231ms/step - accuracy: 0.5572 - loss: 1.0506 - precision: 0.4768 - recall: 0.0172 - val_accuracy: 0.5081 - val_loss: 1.0593 - val_precision: 0.6667 - val_recall: 0.0806\n",
      "Epoch 11/30\n",
      "\u001b[1m16/16\u001b[0m \u001b[32m━━━━━━━━━━━━━━━━━━━━\u001b[0m\u001b[37m\u001b[0m \u001b[1m5s\u001b[0m 272ms/step - accuracy: 0.5615 - loss: 0.9846 - precision: 0.7510 - recall: 0.1643 - val_accuracy: 0.4919 - val_loss: 1.0405 - val_precision: 0.6098 - val_recall: 0.2016\n",
      "Epoch 12/30\n",
      "\u001b[1m16/16\u001b[0m \u001b[32m━━━━━━━━━━━━━━━━━━━━\u001b[0m\u001b[37m\u001b[0m \u001b[1m4s\u001b[0m 243ms/step - accuracy: 0.5636 - loss: 0.9322 - precision: 0.7637 - recall: 0.2990 - val_accuracy: 0.5161 - val_loss: 1.0238 - val_precision: 0.6600 - val_recall: 0.2661\n",
      "Epoch 13/30\n",
      "\u001b[1m16/16\u001b[0m \u001b[32m━━━━━━━━━━━━━━━━━━━━\u001b[0m\u001b[37m\u001b[0m \u001b[1m4s\u001b[0m 223ms/step - accuracy: 0.6615 - loss: 0.8241 - precision: 0.7826 - recall: 0.4353 - val_accuracy: 0.6613 - val_loss: 0.9465 - val_precision: 0.7071 - val_recall: 0.5645\n",
      "Epoch 14/30\n",
      "\u001b[1m16/16\u001b[0m \u001b[32m━━━━━━━━━━━━━━━━━━━━\u001b[0m\u001b[37m\u001b[0m \u001b[1m4s\u001b[0m 222ms/step - accuracy: 0.7371 - loss: 0.7335 - precision: 0.8017 - recall: 0.6107 - val_accuracy: 0.5161 - val_loss: 1.0023 - val_precision: 0.7609 - val_recall: 0.2823\n",
      "Epoch 15/30\n",
      "\u001b[1m16/16\u001b[0m \u001b[32m━━━━━━━━━━━━━━━━━━━━\u001b[0m\u001b[37m\u001b[0m \u001b[1m4s\u001b[0m 223ms/step - accuracy: 0.5528 - loss: 0.9239 - precision: 0.8578 - recall: 0.2487 - val_accuracy: 0.5968 - val_loss: 0.9616 - val_precision: 0.7027 - val_recall: 0.2097\n",
      "Epoch 16/30\n",
      "\u001b[1m16/16\u001b[0m \u001b[32m━━━━━━━━━━━━━━━━━━━━\u001b[0m\u001b[37m\u001b[0m \u001b[1m4s\u001b[0m 220ms/step - accuracy: 0.6625 - loss: 0.8278 - precision: 0.8001 - recall: 0.3673 - val_accuracy: 0.6452 - val_loss: 0.9372 - val_precision: 0.6667 - val_recall: 0.5000\n",
      "Epoch 17/30\n",
      "\u001b[1m16/16\u001b[0m \u001b[32m━━━━━━━━━━━━━━━━━━━━\u001b[0m\u001b[37m\u001b[0m \u001b[1m4s\u001b[0m 226ms/step - accuracy: 0.6898 - loss: 0.7802 - precision: 0.7726 - recall: 0.5489 - val_accuracy: 0.6290 - val_loss: 0.9345 - val_precision: 0.7115 - val_recall: 0.5968\n",
      "Epoch 18/30\n",
      "\u001b[1m16/16\u001b[0m \u001b[32m━━━━━━━━━━━━━━━━━━━━\u001b[0m\u001b[37m\u001b[0m \u001b[1m4s\u001b[0m 222ms/step - accuracy: 0.6901 - loss: 0.6840 - precision: 0.7478 - recall: 0.6064 - val_accuracy: 0.5806 - val_loss: 0.9425 - val_precision: 0.6275 - val_recall: 0.5161\n",
      "Epoch 19/30\n",
      "\u001b[1m16/16\u001b[0m \u001b[32m━━━━━━━━━━━━━━━━━━━━\u001b[0m\u001b[37m\u001b[0m \u001b[1m4s\u001b[0m 221ms/step - accuracy: 0.7017 - loss: 0.6293 - precision: 0.7863 - recall: 0.6093 - val_accuracy: 0.6694 - val_loss: 0.9282 - val_precision: 0.7143 - val_recall: 0.6452\n",
      "Epoch 20/30\n",
      "\u001b[1m16/16\u001b[0m \u001b[32m━━━━━━━━━━━━━━━━━━━━\u001b[0m\u001b[37m\u001b[0m \u001b[1m4s\u001b[0m 226ms/step - accuracy: 0.8049 - loss: 0.5125 - precision: 0.8365 - recall: 0.7762 - val_accuracy: 0.6855 - val_loss: 0.9549 - val_precision: 0.7069 - val_recall: 0.6613\n",
      "Epoch 21/30\n",
      "\u001b[1m16/16\u001b[0m \u001b[32m━━━━━━━━━━━━━━━━━━━━\u001b[0m\u001b[37m\u001b[0m \u001b[1m4s\u001b[0m 221ms/step - accuracy: 0.8263 - loss: 0.4647 - precision: 0.8429 - recall: 0.7896 - val_accuracy: 0.7016 - val_loss: 0.9333 - val_precision: 0.7193 - val_recall: 0.6613\n",
      "Epoch 22/30\n",
      "\u001b[1m16/16\u001b[0m \u001b[32m━━━━━━━━━━━━━━━━━━━━\u001b[0m\u001b[37m\u001b[0m \u001b[1m4s\u001b[0m 222ms/step - accuracy: 0.8574 - loss: 0.4044 - precision: 0.8783 - recall: 0.8388 - val_accuracy: 0.7177 - val_loss: 0.9744 - val_precision: 0.7155 - val_recall: 0.6694\n",
      "Epoch 23/30\n",
      "\u001b[1m16/16\u001b[0m \u001b[32m━━━━━━━━━━━━━━━━━━━━\u001b[0m\u001b[37m\u001b[0m \u001b[1m4s\u001b[0m 228ms/step - accuracy: 0.8322 - loss: 0.4117 - precision: 0.8626 - recall: 0.8118 - val_accuracy: 0.6774 - val_loss: 0.9773 - val_precision: 0.7009 - val_recall: 0.6613\n",
      "Epoch 24/30\n",
      "\u001b[1m16/16\u001b[0m \u001b[32m━━━━━━━━━━━━━━━━━━━━\u001b[0m\u001b[37m\u001b[0m \u001b[1m4s\u001b[0m 222ms/step - accuracy: 0.8513 - loss: 0.3936 - precision: 0.8683 - recall: 0.8350 - val_accuracy: 0.6532 - val_loss: 1.0454 - val_precision: 0.6581 - val_recall: 0.6210\n",
      "Epoch 25/30\n",
      "\u001b[1m16/16\u001b[0m \u001b[32m━━━━━━━━━━━━━━━━━━━━\u001b[0m\u001b[37m\u001b[0m \u001b[1m4s\u001b[0m 219ms/step - accuracy: 0.8406 - loss: 0.4265 - precision: 0.8533 - recall: 0.8336 - val_accuracy: 0.7016 - val_loss: 0.9675 - val_precision: 0.7117 - val_recall: 0.6371\n",
      "Epoch 26/30\n",
      "\u001b[1m16/16\u001b[0m \u001b[32m━━━━━━━━━━━━━━━━━━━━\u001b[0m\u001b[37m\u001b[0m \u001b[1m4s\u001b[0m 226ms/step - accuracy: 0.7829 - loss: 0.4806 - precision: 0.8363 - recall: 0.7278 - val_accuracy: 0.6774 - val_loss: 1.0912 - val_precision: 0.6891 - val_recall: 0.6613\n",
      "Epoch 27/30\n",
      "\u001b[1m16/16\u001b[0m \u001b[32m━━━━━━━━━━━━━━━━━━━━\u001b[0m\u001b[37m\u001b[0m \u001b[1m4s\u001b[0m 224ms/step - accuracy: 0.8619 - loss: 0.3537 - precision: 0.8810 - recall: 0.8524 - val_accuracy: 0.6694 - val_loss: 1.1189 - val_precision: 0.6917 - val_recall: 0.6694\n",
      "Epoch 28/30\n",
      "\u001b[1m16/16\u001b[0m \u001b[32m━━━━━━━━━━━━━━━━━━━━\u001b[0m\u001b[37m\u001b[0m \u001b[1m4s\u001b[0m 220ms/step - accuracy: 0.8753 - loss: 0.3321 - precision: 0.8839 - recall: 0.8555 - val_accuracy: 0.6935 - val_loss: 1.2406 - val_precision: 0.7049 - val_recall: 0.6935\n",
      "Epoch 29/30\n",
      "\u001b[1m16/16\u001b[0m \u001b[32m━━━━━━━━━━━━━━━━━━━━\u001b[0m\u001b[37m\u001b[0m \u001b[1m4s\u001b[0m 226ms/step - accuracy: 0.8864 - loss: 0.3040 - precision: 0.8934 - recall: 0.8747 - val_accuracy: 0.6935 - val_loss: 1.1433 - val_precision: 0.7000 - val_recall: 0.6774\n",
      "Epoch 30/30\n",
      "\u001b[1m16/16\u001b[0m \u001b[32m━━━━━━━━━━━━━━━━━━━━\u001b[0m\u001b[37m\u001b[0m \u001b[1m4s\u001b[0m 221ms/step - accuracy: 0.9086 - loss: 0.2829 - precision: 0.9176 - recall: 0.9059 - val_accuracy: 0.6774 - val_loss: 1.2324 - val_precision: 0.7000 - val_recall: 0.6774\n",
      "Predicting on validation set...\n",
      "\u001b[1m4/4\u001b[0m \u001b[32m━━━━━━━━━━━━━━━━━━━━\u001b[0m\u001b[37m\u001b[0m \u001b[1m0s\u001b[0m 67ms/step\n",
      "Sending metrics to clearML...\n",
      "done\n",
      "ClearML Task: created new task id=4b3921e90b4240689c3001e579d1c43e\n",
      "ClearML results page: https://app.clear.ml/projects/732b3d856c964d8c8d6c1abc5eb2b83a/experiments/4b3921e90b4240689c3001e579d1c43e/output/log\n",
      "Training model...\n",
      "Epoch 1/30\n",
      "\u001b[1m55/55\u001b[0m \u001b[32m━━━━━━━━━━━━━━━━━━━━\u001b[0m\u001b[37m\u001b[0m \u001b[1m16s\u001b[0m 246ms/step - accuracy: 0.3387 - loss: 2.0389 - precision: 0.3052 - recall: 0.0521 - val_accuracy: 0.3387 - val_loss: 1.0986 - val_precision: 0.0000e+00 - val_recall: 0.0000e+00\n",
      "Epoch 2/30\n",
      "\u001b[1m55/55\u001b[0m \u001b[32m━━━━━━━━━━━━━━━━━━━━\u001b[0m\u001b[37m\u001b[0m \u001b[1m12s\u001b[0m 218ms/step - accuracy: 0.3340 - loss: 1.1000 - precision: 0.0000e+00 - recall: 0.0000e+00 - val_accuracy: 0.3306 - val_loss: 1.0987 - val_precision: 0.0000e+00 - val_recall: 0.0000e+00\n",
      "Epoch 3/30\n",
      "\u001b[1m55/55\u001b[0m \u001b[32m━━━━━━━━━━━━━━━━━━━━\u001b[0m\u001b[37m\u001b[0m \u001b[1m12s\u001b[0m 218ms/step - accuracy: 0.3191 - loss: 1.0988 - precision: 0.0000e+00 - recall: 0.0000e+00 - val_accuracy: 0.3306 - val_loss: 1.0987 - val_precision: 0.0000e+00 - val_recall: 0.0000e+00\n",
      "Epoch 4/30\n",
      "\u001b[1m55/55\u001b[0m \u001b[32m━━━━━━━━━━━━━━━━━━━━\u001b[0m\u001b[37m\u001b[0m \u001b[1m13s\u001b[0m 238ms/step - accuracy: 0.3216 - loss: 1.0989 - precision: 0.0000e+00 - recall: 0.0000e+00 - val_accuracy: 0.3306 - val_loss: 1.0986 - val_precision: 0.0000e+00 - val_recall: 0.0000e+00\n",
      "Epoch 5/30\n",
      "\u001b[1m55/55\u001b[0m \u001b[32m━━━━━━━━━━━━━━━━━━━━\u001b[0m\u001b[37m\u001b[0m \u001b[1m12s\u001b[0m 219ms/step - accuracy: 0.3316 - loss: 1.0987 - precision: 0.0000e+00 - recall: 0.0000e+00 - val_accuracy: 0.3306 - val_loss: 1.0986 - val_precision: 0.0000e+00 - val_recall: 0.0000e+00\n",
      "Epoch 6/30\n",
      "\u001b[1m55/55\u001b[0m \u001b[32m━━━━━━━━━━━━━━━━━━━━\u001b[0m\u001b[37m\u001b[0m \u001b[1m12s\u001b[0m 219ms/step - accuracy: 0.3442 - loss: 1.0986 - precision: 0.0000e+00 - recall: 0.0000e+00 - val_accuracy: 0.3306 - val_loss: 1.0987 - val_precision: 0.0000e+00 - val_recall: 0.0000e+00\n",
      "Epoch 7/30\n",
      "\u001b[1m55/55\u001b[0m \u001b[32m━━━━━━━━━━━━━━━━━━━━\u001b[0m\u001b[37m\u001b[0m \u001b[1m12s\u001b[0m 219ms/step - accuracy: 0.3328 - loss: 1.0987 - precision: 0.0000e+00 - recall: 0.0000e+00 - val_accuracy: 0.3306 - val_loss: 1.0985 - val_precision: 0.0000e+00 - val_recall: 0.0000e+00\n",
      "Epoch 8/30\n",
      "\u001b[1m55/55\u001b[0m \u001b[32m━━━━━━━━━━━━━━━━━━━━\u001b[0m\u001b[37m\u001b[0m \u001b[1m12s\u001b[0m 217ms/step - accuracy: 0.3280 - loss: 1.0986 - precision: 0.0000e+00 - recall: 0.0000e+00 - val_accuracy: 0.3306 - val_loss: 1.0973 - val_precision: 0.0000e+00 - val_recall: 0.0000e+00\n",
      "Epoch 9/30\n",
      "\u001b[1m55/55\u001b[0m \u001b[32m━━━━━━━━━━━━━━━━━━━━\u001b[0m\u001b[37m\u001b[0m \u001b[1m12s\u001b[0m 218ms/step - accuracy: 0.3353 - loss: 1.0979 - precision: 0.0000e+00 - recall: 0.0000e+00 - val_accuracy: 0.3306 - val_loss: 1.0986 - val_precision: 0.0000e+00 - val_recall: 0.0000e+00\n",
      "Epoch 10/30\n",
      "\u001b[1m55/55\u001b[0m \u001b[32m━━━━━━━━━━━━━━━━━━━━\u001b[0m\u001b[37m\u001b[0m \u001b[1m12s\u001b[0m 219ms/step - accuracy: 0.3394 - loss: 1.0983 - precision: 0.0000e+00 - recall: 0.0000e+00 - val_accuracy: 0.3306 - val_loss: 1.0983 - val_precision: 0.0000e+00 - val_recall: 0.0000e+00\n",
      "Epoch 11/30\n",
      "\u001b[1m55/55\u001b[0m \u001b[32m━━━━━━━━━━━━━━━━━━━━\u001b[0m\u001b[37m\u001b[0m \u001b[1m12s\u001b[0m 217ms/step - accuracy: 0.3214 - loss: 1.0987 - precision: 0.0000e+00 - recall: 0.0000e+00 - val_accuracy: 0.3306 - val_loss: 1.0984 - val_precision: 0.0000e+00 - val_recall: 0.0000e+00\n",
      "Epoch 12/30\n",
      "\u001b[1m55/55\u001b[0m \u001b[32m━━━━━━━━━━━━━━━━━━━━\u001b[0m\u001b[37m\u001b[0m \u001b[1m12s\u001b[0m 220ms/step - accuracy: 0.3241 - loss: 1.0988 - precision: 0.0000e+00 - recall: 0.0000e+00 - val_accuracy: 0.3306 - val_loss: 1.0981 - val_precision: 0.0000e+00 - val_recall: 0.0000e+00\n",
      "Epoch 13/30\n",
      "\u001b[1m55/55\u001b[0m \u001b[32m━━━━━━━━━━━━━━━━━━━━\u001b[0m\u001b[37m\u001b[0m \u001b[1m12s\u001b[0m 219ms/step - accuracy: 0.3225 - loss: 1.0984 - precision: 0.0000e+00 - recall: 0.0000e+00 - val_accuracy: 0.3306 - val_loss: 1.0978 - val_precision: 0.0000e+00 - val_recall: 0.0000e+00\n",
      "Epoch 14/30\n",
      "\u001b[1m55/55\u001b[0m \u001b[32m━━━━━━━━━━━━━━━━━━━━\u001b[0m\u001b[37m\u001b[0m \u001b[1m12s\u001b[0m 218ms/step - accuracy: 0.3564 - loss: 1.0973 - precision: 0.0000e+00 - recall: 0.0000e+00 - val_accuracy: 0.5081 - val_loss: 1.0935 - val_precision: 0.0000e+00 - val_recall: 0.0000e+00\n",
      "Epoch 15/30\n",
      "\u001b[1m55/55\u001b[0m \u001b[32m━━━━━━━━━━━━━━━━━━━━\u001b[0m\u001b[37m\u001b[0m \u001b[1m12s\u001b[0m 220ms/step - accuracy: 0.3877 - loss: 1.0922 - precision: 0.0000e+00 - recall: 0.0000e+00 - val_accuracy: 0.4435 - val_loss: 1.0776 - val_precision: 0.0000e+00 - val_recall: 0.0000e+00\n",
      "Epoch 16/30\n",
      "\u001b[1m55/55\u001b[0m \u001b[32m━━━━━━━━━━━━━━━━━━━━\u001b[0m\u001b[37m\u001b[0m \u001b[1m12s\u001b[0m 218ms/step - accuracy: 0.4553 - loss: 1.0664 - precision: 0.5420 - recall: 0.0260 - val_accuracy: 0.4677 - val_loss: 1.0012 - val_precision: 0.8261 - val_recall: 0.1532\n",
      "Epoch 17/30\n",
      "\u001b[1m55/55\u001b[0m \u001b[32m━━━━━━━━━━━━━━━━━━━━\u001b[0m\u001b[37m\u001b[0m \u001b[1m12s\u001b[0m 219ms/step - accuracy: 0.5313 - loss: 0.9985 - precision: 0.7602 - recall: 0.1470 - val_accuracy: 0.6694 - val_loss: 0.8666 - val_precision: 0.7308 - val_recall: 0.4597\n",
      "Epoch 18/30\n",
      "\u001b[1m55/55\u001b[0m \u001b[32m━━━━━━━━━━━━━━━━━━━━\u001b[0m\u001b[37m\u001b[0m \u001b[1m12s\u001b[0m 218ms/step - accuracy: 0.6747 - loss: 0.7440 - precision: 0.7998 - recall: 0.5195 - val_accuracy: 0.6613 - val_loss: 0.8417 - val_precision: 0.7097 - val_recall: 0.5323\n",
      "Epoch 19/30\n",
      "\u001b[1m55/55\u001b[0m \u001b[32m━━━━━━━━━━━━━━━━━━━━\u001b[0m\u001b[37m\u001b[0m \u001b[1m12s\u001b[0m 217ms/step - accuracy: 0.7519 - loss: 0.6080 - precision: 0.8306 - recall: 0.6160 - val_accuracy: 0.6855 - val_loss: 0.9754 - val_precision: 0.7500 - val_recall: 0.6048\n",
      "Epoch 20/30\n",
      "\u001b[1m55/55\u001b[0m \u001b[32m━━━━━━━━━━━━━━━━━━━━\u001b[0m\u001b[37m\u001b[0m \u001b[1m12s\u001b[0m 219ms/step - accuracy: 0.8036 - loss: 0.4765 - precision: 0.8509 - recall: 0.7564 - val_accuracy: 0.6935 - val_loss: 1.0937 - val_precision: 0.7304 - val_recall: 0.6774\n",
      "Epoch 21/30\n",
      "\u001b[1m55/55\u001b[0m \u001b[32m━━━━━━━━━━━━━━━━━━━━\u001b[0m\u001b[37m\u001b[0m \u001b[1m12s\u001b[0m 221ms/step - accuracy: 0.8632 - loss: 0.3603 - precision: 0.8819 - recall: 0.8423 - val_accuracy: 0.7419 - val_loss: 1.2671 - val_precision: 0.7417 - val_recall: 0.7177\n",
      "Epoch 22/30\n",
      "\u001b[1m55/55\u001b[0m \u001b[32m━━━━━━━━━━━━━━━━━━━━\u001b[0m\u001b[37m\u001b[0m \u001b[1m12s\u001b[0m 219ms/step - accuracy: 0.8962 - loss: 0.2928 - precision: 0.9065 - recall: 0.8806 - val_accuracy: 0.7258 - val_loss: 1.2472 - val_precision: 0.7458 - val_recall: 0.7097\n",
      "Epoch 23/30\n",
      "\u001b[1m55/55\u001b[0m \u001b[32m━━━━━━━━━━━━━━━━━━━━\u001b[0m\u001b[37m\u001b[0m \u001b[1m12s\u001b[0m 219ms/step - accuracy: 0.9213 - loss: 0.2293 - precision: 0.9345 - recall: 0.9083 - val_accuracy: 0.7258 - val_loss: 1.2788 - val_precision: 0.7236 - val_recall: 0.7177\n",
      "Epoch 24/30\n",
      "\u001b[1m55/55\u001b[0m \u001b[32m━━━━━━━━━━━━━━━━━━━━\u001b[0m\u001b[37m\u001b[0m \u001b[1m12s\u001b[0m 218ms/step - accuracy: 0.9233 - loss: 0.2109 - precision: 0.9300 - recall: 0.9174 - val_accuracy: 0.7258 - val_loss: 1.3080 - val_precision: 0.7395 - val_recall: 0.7097\n",
      "Epoch 25/30\n",
      "\u001b[1m55/55\u001b[0m \u001b[32m━━━━━━━━━━━━━━━━━━━━\u001b[0m\u001b[37m\u001b[0m \u001b[1m12s\u001b[0m 218ms/step - accuracy: 0.9256 - loss: 0.1961 - precision: 0.9355 - recall: 0.9153 - val_accuracy: 0.7500 - val_loss: 1.4272 - val_precision: 0.7521 - val_recall: 0.7339\n",
      "Epoch 26/30\n",
      "\u001b[1m55/55\u001b[0m \u001b[32m━━━━━━━━━━━━━━━━━━━━\u001b[0m\u001b[37m\u001b[0m \u001b[1m12s\u001b[0m 219ms/step - accuracy: 0.9249 - loss: 0.1939 - precision: 0.9323 - recall: 0.9175 - val_accuracy: 0.7500 - val_loss: 1.5998 - val_precision: 0.7541 - val_recall: 0.7419\n",
      "Epoch 27/30\n",
      "\u001b[1m55/55\u001b[0m \u001b[32m━━━━━━━━━━━━━━━━━━━━\u001b[0m\u001b[37m\u001b[0m \u001b[1m12s\u001b[0m 218ms/step - accuracy: 0.9315 - loss: 0.1879 - precision: 0.9441 - recall: 0.9262 - val_accuracy: 0.7258 - val_loss: 1.6307 - val_precision: 0.7355 - val_recall: 0.7177\n",
      "Epoch 28/30\n",
      "\u001b[1m55/55\u001b[0m \u001b[32m━━━━━━━━━━━━━━━━━━━━\u001b[0m\u001b[37m\u001b[0m \u001b[1m12s\u001b[0m 220ms/step - accuracy: 0.9395 - loss: 0.1576 - precision: 0.9429 - recall: 0.9373 - val_accuracy: 0.7581 - val_loss: 1.8800 - val_precision: 0.7581 - val_recall: 0.7581\n",
      "Epoch 29/30\n",
      "\u001b[1m55/55\u001b[0m \u001b[32m━━━━━━━━━━━━━━━━━━━━\u001b[0m\u001b[37m\u001b[0m \u001b[1m12s\u001b[0m 218ms/step - accuracy: 0.9693 - loss: 0.1019 - precision: 0.9707 - recall: 0.9609 - val_accuracy: 0.7742 - val_loss: 1.5950 - val_precision: 0.7805 - val_recall: 0.7742\n",
      "Epoch 30/30\n",
      "\u001b[1m55/55\u001b[0m \u001b[32m━━━━━━━━━━━━━━━━━━━━\u001b[0m\u001b[37m\u001b[0m \u001b[1m12s\u001b[0m 219ms/step - accuracy: 0.9481 - loss: 0.1423 - precision: 0.9504 - recall: 0.9451 - val_accuracy: 0.7903 - val_loss: 1.5053 - val_precision: 0.7886 - val_recall: 0.7823\n",
      "Predicting on validation set...\n",
      "\u001b[1m4/4\u001b[0m \u001b[32m━━━━━━━━━━━━━━━━━━━━\u001b[0m\u001b[37m\u001b[0m \u001b[1m0s\u001b[0m 61ms/step\n",
      "Sending metrics to clearML...\n",
      "done\n"
     ]
    }
   ],
   "source": [
    "# combination 3: contrast 0.5 + histEq 250%\n",
    "task_name = 'he,c'\n",
    "sub_project_name = 'HE+CONTRAST'\n",
    "\n",
    "augmentation_metadata = {\n",
    "        'methods': {        \n",
    "            'histEq': {\n",
    "                'parameters': {\n",
    "                    'p': 1.0  # Probability of applying the augmentation\n",
    "                },\n",
    "                'apply_to_percentage': 1.25  # 50% of the training images\n",
    "            },\n",
    "            'bnc': {\n",
    "            'parameters': {\n",
    "                'alpha': 0.5,\n",
    "                'beta': 0\n",
    "            },\n",
    "            'apply_to_percentage': 1.25  # 50% of the training images\n",
    "            }                    \n",
    "        }\n",
    "    }\n",
    "\n",
    "for i in range(N):\n",
    "    RUN = i + 1\n",
    "    try:\n",
    "        print(f\"Starting RUN: {RUN}\")\n",
    "        main(RUN, augmentation_metadata, task_name, sub_project_name, epochs, train_size, w1, w2)\n",
    "    except Exception as e:\n",
    "        print(f\"Error in RUN: {RUN}\")\n",
    "        print(e)\n",
    "        break\n",
    "    finally:\n",
    "        clear_output(wait=True)  # Clear the output to avoid scrolling\n",
    "        gc.collect()  # Collect garbage to avoid memory leaks"
   ]
  },
  {
   "cell_type": "code",
   "execution_count": 27,
   "metadata": {},
   "outputs": [
    {
     "name": "stdout",
     "output_type": "stream",
     "text": [
      "Starting RUN: 5\n",
      "Seed:  3203918938\n",
      "Num GPUs Available:  0\n"
     ]
    },
    {
     "name": "stderr",
     "output_type": "stream",
     "text": [
      "c:\\github\\Third-Year-Project\\Intruder-Aircraft-Detection\\main\\tl_clf.py:82: SettingWithCopyWarning:\n",
      "\n",
      "\n",
      "A value is trying to be set on a copy of a slice from a DataFrame.\n",
      "Try using .loc[row_indexer,col_indexer] = value instead\n",
      "\n",
      "See the caveats in the documentation: https://pandas.pydata.org/pandas-docs/stable/user_guide/indexing.html#returning-a-view-versus-a-copy\n",
      "\n",
      "c:\\github\\Third-Year-Project\\Intruder-Aircraft-Detection\\main\\tl_clf.py:83: SettingWithCopyWarning:\n",
      "\n",
      "\n",
      "A value is trying to be set on a copy of a slice from a DataFrame.\n",
      "Try using .loc[row_indexer,col_indexer] = value instead\n",
      "\n",
      "See the caveats in the documentation: https://pandas.pydata.org/pandas-docs/stable/user_guide/indexing.html#returning-a-view-versus-a-copy\n",
      "\n"
     ]
    },
    {
     "name": "stdout",
     "output_type": "stream",
     "text": [
      "Removing dataset if pre-existing\n",
      "Copying training files:\n"
     ]
    },
    {
     "name": "stderr",
     "output_type": "stream",
     "text": [
      "Copying files: 100%|██████████| 1000/1000 [00:01<00:00, 939.18it/s]\n"
     ]
    },
    {
     "name": "stdout",
     "output_type": "stream",
     "text": [
      "Copying validation files:\n"
     ]
    },
    {
     "name": "stderr",
     "output_type": "stream",
     "text": [
      "Copying files: 100%|██████████| 250/250 [00:00<00:00, 936.00it/s]\n"
     ]
    },
    {
     "name": "stdout",
     "output_type": "stream",
     "text": [
      "Dataset 'weather_23_500' created at C:\\github\\Third-Year-Project\\Intruder-Aircraft-Detection\\datasets\\Custom\\weather_23_500\n",
      "Processing train labels in weather_23_500:\n"
     ]
    },
    {
     "name": "stderr",
     "output_type": "stream",
     "text": [
      "Processing labels: 100%|██████████| 500/500 [00:01<00:00, 290.88it/s]\n"
     ]
    },
    {
     "name": "stdout",
     "output_type": "stream",
     "text": [
      "Processing valid labels in weather_23_500:\n"
     ]
    },
    {
     "name": "stderr",
     "output_type": "stream",
     "text": [
      "Processing labels: 100%|██████████| 125/125 [00:00<00:00, 272.88it/s]\n"
     ]
    },
    {
     "name": "stdout",
     "output_type": "stream",
     "text": [
      "Label correction completed.\n"
     ]
    },
    {
     "name": "stderr",
     "output_type": "stream",
     "text": [
      "Removing existing directories/files: 100%|██████████| 3/3 [00:00<00:00, 5997.57it/s]\n",
      "Copying files: 100%|██████████| 500/500 [00:00<00:00, 1167.82it/s]\n",
      "Copying files: 100%|██████████| 500/500 [00:00<00:00, 1478.83it/s]\n",
      "Applying augmentations: 100%|██████████| 1248/1248 [00:25<00:00, 49.13it/s]\n"
     ]
    },
    {
     "name": "stdout",
     "output_type": "stream",
     "text": [
      "An error occurred: Expected x_max for bbox (0.30940350000000005, 0.6482319999999999, 1.1197745000000001, 1.1884799999999998, 2) to be in the range [0.0, 1.0], got 1.1197745000000001.\n",
      "An error occurred: Expected x_max for bbox (0.30940350000000005, 0.6482319999999999, 1.1197745000000001, 1.1884799999999998, 2) to be in the range [0.0, 1.0], got 1.1197745000000001.\n",
      "An error occurred: Expected x_max for bbox (0.30940350000000005, 0.6482319999999999, 1.1197745000000001, 1.1884799999999998, 2) to be in the range [0.0, 1.0], got 1.1197745000000001.\n",
      "An error occurred: Expected x_max for bbox (0.30940350000000005, 0.6482319999999999, 1.1197745000000001, 1.1884799999999998, 2) to be in the range [0.0, 1.0], got 1.1197745000000001.\n",
      "An error occurred: Expected x_max for bbox (0.3556645, 0.47547049999999996, 1.0335975, 0.9274255, 1) to be in the range [0.0, 1.0], got 1.0335975.\n",
      "An error occurred: Expected y_max for bbox (0.38584999999999997, 0.7377294999999999, 0.7992459999999999, 1.0133264999999998, 1) to be in the range [0.0, 1.0], got 1.0133264999999998.\n"
     ]
    },
    {
     "name": "stderr",
     "output_type": "stream",
     "text": [
      "Processing images:  20%|██        | 101/500 [00:04<00:11, 35.04it/s]"
     ]
    },
    {
     "name": "stdout",
     "output_type": "stream",
     "text": [
      "An error occurred with C:/github/Third-Year-Project/Intruder-Aircraft-Detection/datasets/Custom/weather_23_500\\images\\train\\26422.jpg: Expected x_max for bbox (0.3556645, 0.47547049999999996, 1.0335975, 0.9274255, 1) to be in the range [0.0, 1.0], got 1.0335975.\n"
     ]
    },
    {
     "name": "stderr",
     "output_type": "stream",
     "text": [
      "Processing images:  34%|███▍      | 170/500 [00:06<00:09, 34.37it/s]"
     ]
    },
    {
     "name": "stdout",
     "output_type": "stream",
     "text": [
      "An error occurred with C:/github/Third-Year-Project/Intruder-Aircraft-Detection/datasets/Custom/weather_23_500\\images\\train\\27218.jpg: Expected y_max for bbox (0.38584999999999997, 0.7377294999999999, 0.7992459999999999, 1.0133264999999998, 1) to be in the range [0.0, 1.0], got 1.0133264999999998.\n"
     ]
    },
    {
     "name": "stderr",
     "output_type": "stream",
     "text": [
      "Processing images:  40%|███▉      | 199/500 [00:06<00:08, 35.03it/s]"
     ]
    },
    {
     "name": "stdout",
     "output_type": "stream",
     "text": [
      "An error occurred with C:/github/Third-Year-Project/Intruder-Aircraft-Detection/datasets/Custom/weather_23_500\\images\\train\\27530.jpg: Expected y_max for bbox (0.19746399999999997, 0.778044, 0.563272, 1.021916, 1) to be in the range [0.0, 1.0], got 1.021916.\n"
     ]
    },
    {
     "name": "stderr",
     "output_type": "stream",
     "text": [
      "Processing images:  87%|████████▋ | 436/500 [00:13<00:01, 35.29it/s]"
     ]
    },
    {
     "name": "stdout",
     "output_type": "stream",
     "text": [
      "An error occurred with C:/github/Third-Year-Project/Intruder-Aircraft-Detection/datasets/Custom/weather_23_500\\images\\train\\51177.jpg: Expected x_max for bbox (0.30940350000000005, 0.6482319999999999, 1.1197745000000001, 1.1884799999999998, 2) to be in the range [0.0, 1.0], got 1.1197745000000001.\n"
     ]
    },
    {
     "name": "stderr",
     "output_type": "stream",
     "text": [
      "Processing images: 100%|██████████| 500/500 [00:15<00:00, 31.67it/s]\n",
      "Processing images:  20%|█▉        | 341/1742 [00:15<00:38, 36.58it/s]"
     ]
    },
    {
     "name": "stdout",
     "output_type": "stream",
     "text": [
      "An error occurred with C:/github/Third-Year-Project/Intruder-Aircraft-Detection/datasets/Custom/weather_23_500\\images\\train-aug\\26422.jpg: Expected x_max for bbox (0.3556645, 0.47547049999999996, 1.0335975, 0.9274255, 1) to be in the range [0.0, 1.0], got 1.0335975.\n",
      "An error occurred with C:/github/Third-Year-Project/Intruder-Aircraft-Detection/datasets/Custom/weather_23_500\\images\\train-aug\\26422-bnc-bc584516.jpg: Expected x_max for bbox (0.3556645, 0.47547049999999996, 1.0335975, 0.9274255, 1) to be in the range [0.0, 1.0], got 1.0335975.\n"
     ]
    },
    {
     "name": "stderr",
     "output_type": "stream",
     "text": [
      "Processing images:  34%|███▍      | 595/1742 [00:23<00:30, 38.08it/s]"
     ]
    },
    {
     "name": "stdout",
     "output_type": "stream",
     "text": [
      "An error occurred with C:/github/Third-Year-Project/Intruder-Aircraft-Detection/datasets/Custom/weather_23_500\\images\\train-aug\\27218.jpg: Expected y_max for bbox (0.38584999999999997, 0.7377294999999999, 0.7992459999999999, 1.0133264999999998, 1) to be in the range [0.0, 1.0], got 1.0133264999999998.\n",
      "An error occurred with C:/github/Third-Year-Project/Intruder-Aircraft-Detection/datasets/Custom/weather_23_500\\images\\train-aug\\27218-bnc-1602064f.jpg: Expected y_max for bbox (0.38584999999999997, 0.7377294999999999, 0.7992459999999999, 1.0133264999999998, 1) to be in the range [0.0, 1.0], got 1.0133264999999998.\n"
     ]
    },
    {
     "name": "stderr",
     "output_type": "stream",
     "text": [
      "Processing images:  39%|███▉      | 687/1742 [00:25<00:32, 32.20it/s]"
     ]
    },
    {
     "name": "stdout",
     "output_type": "stream",
     "text": [
      "An error occurred with C:/github/Third-Year-Project/Intruder-Aircraft-Detection/datasets/Custom/weather_23_500\\images\\train-aug\\27530.jpg: Expected y_max for bbox (0.19746399999999997, 0.778044, 0.563272, 1.021916, 1) to be in the range [0.0, 1.0], got 1.021916.\n"
     ]
    },
    {
     "name": "stderr",
     "output_type": "stream",
     "text": [
      "Processing images:  74%|███████▍  | 1289/1742 [00:43<00:13, 33.90it/s]"
     ]
    },
    {
     "name": "stdout",
     "output_type": "stream",
     "text": [
      "An error occurred with C:/github/Third-Year-Project/Intruder-Aircraft-Detection/datasets/Custom/weather_23_500\\images\\train-aug\\50429-rotate-b92f1ea3.jpg: Expected y_min for bbox (0.06228650000000002, -5.000000000005e-07, 0.44881150000000003, 0.24802049999999998, 2) to be in the range [0.0, 1.0], got -5.000000000005e-07.\n"
     ]
    },
    {
     "name": "stderr",
     "output_type": "stream",
     "text": [
      "Processing images:  87%|████████▋ | 1508/1742 [00:50<00:05, 40.54it/s]"
     ]
    },
    {
     "name": "stdout",
     "output_type": "stream",
     "text": [
      "An error occurred with C:/github/Third-Year-Project/Intruder-Aircraft-Detection/datasets/Custom/weather_23_500\\images\\train-aug\\51177.jpg: Expected x_max for bbox (0.30940350000000005, 0.6482319999999999, 1.1197745000000001, 1.1884799999999998, 2) to be in the range [0.0, 1.0], got 1.1197745000000001.\n",
      "An error occurred with C:/github/Third-Year-Project/Intruder-Aircraft-Detection/datasets/Custom/weather_23_500\\images\\train-aug\\51177-bnc-236e06ca.jpg: Expected x_max for bbox (0.30940350000000005, 0.6482319999999999, 1.1197745000000001, 1.1884799999999998, 2) to be in the range [0.0, 1.0], got 1.1197745000000001.\n",
      "An error occurred with C:/github/Third-Year-Project/Intruder-Aircraft-Detection/datasets/Custom/weather_23_500\\images\\train-aug\\51177-bnc-06635c31.jpg: Expected x_max for bbox (0.30940350000000005, 0.6482319999999999, 1.1197745000000001, 1.1884799999999998, 2) to be in the range [0.0, 1.0], got 1.1197745000000001.\n"
     ]
    },
    {
     "name": "stderr",
     "output_type": "stream",
     "text": [
      "Processing images: 100%|██████████| 1742/1742 [00:57<00:00, 30.40it/s]\n",
      "Processing images: 100%|██████████| 125/125 [00:04<00:00, 30.37it/s]\n",
      "Moving images in train: 100%|██████████| 496/496 [00:01<00:00, 283.73it/s]\n",
      "Moving images in train-aug: 100%|██████████| 1733/1733 [00:04<00:00, 375.66it/s]\n",
      "Moving images in valid: 100%|██████████| 125/125 [00:00<00:00, 303.14it/s]\n"
     ]
    },
    {
     "name": "stdout",
     "output_type": "stream",
     "text": [
      "Found 496 files belonging to 3 classes.\n",
      "Found 1733 files belonging to 3 classes.\n",
      "Found 125 files belonging to 3 classes.\n",
      "ClearML Task: created new task id=2e62b9fc29284a26ba4e0170b9bac4de\n",
      "ClearML results page: https://app.clear.ml/projects/fb97ed0f5f9342429b425a323c599f73/experiments/2e62b9fc29284a26ba4e0170b9bac4de/output/log\n",
      "Training model...\n",
      "Epoch 1/30\n",
      "\u001b[1m16/16\u001b[0m \u001b[32m━━━━━━━━━━━━━━━━━━━━\u001b[0m\u001b[37m\u001b[0m \u001b[1m7s\u001b[0m 307ms/step - accuracy: 0.3077 - loss: 3.1462 - precision: 0.2451 - recall: 0.1573 - val_accuracy: 0.3360 - val_loss: 1.0986 - val_precision: 0.0000e+00 - val_recall: 0.0000e+00\n",
      "Epoch 2/30\n",
      "\u001b[1m16/16\u001b[0m \u001b[32m━━━━━━━━━━━━━━━━━━━━\u001b[0m\u001b[37m\u001b[0m \u001b[1m4s\u001b[0m 227ms/step - accuracy: 0.2975 - loss: 1.0989 - precision: 0.0000e+00 - recall: 0.0000e+00 - val_accuracy: 0.3280 - val_loss: 1.0987 - val_precision: 0.0000e+00 - val_recall: 0.0000e+00\n",
      "Epoch 3/30\n",
      "\u001b[1m16/16\u001b[0m \u001b[32m━━━━━━━━━━━━━━━━━━━━\u001b[0m\u001b[37m\u001b[0m \u001b[1m4s\u001b[0m 224ms/step - accuracy: 0.2982 - loss: 1.0999 - precision: 0.0000e+00 - recall: 0.0000e+00 - val_accuracy: 0.3280 - val_loss: 1.0986 - val_precision: 0.0000e+00 - val_recall: 0.0000e+00\n",
      "Epoch 4/30\n",
      "\u001b[1m16/16\u001b[0m \u001b[32m━━━━━━━━━━━━━━━━━━━━\u001b[0m\u001b[37m\u001b[0m \u001b[1m4s\u001b[0m 224ms/step - accuracy: 0.3123 - loss: 1.1001 - precision: 0.0000e+00 - recall: 0.0000e+00 - val_accuracy: 0.3360 - val_loss: 1.0975 - val_precision: 0.0000e+00 - val_recall: 0.0000e+00\n",
      "Epoch 5/30\n",
      "\u001b[1m16/16\u001b[0m \u001b[32m━━━━━━━━━━━━━━━━━━━━\u001b[0m\u001b[37m\u001b[0m \u001b[1m4s\u001b[0m 223ms/step - accuracy: 0.3424 - loss: 1.0978 - precision: 0.0000e+00 - recall: 0.0000e+00 - val_accuracy: 0.3360 - val_loss: 1.0982 - val_precision: 0.0000e+00 - val_recall: 0.0000e+00\n",
      "Epoch 6/30\n",
      "\u001b[1m16/16\u001b[0m \u001b[32m━━━━━━━━━━━━━━━━━━━━\u001b[0m\u001b[37m\u001b[0m \u001b[1m4s\u001b[0m 224ms/step - accuracy: 0.2991 - loss: 1.0997 - precision: 0.0000e+00 - recall: 0.0000e+00 - val_accuracy: 0.3360 - val_loss: 1.0970 - val_precision: 0.0000e+00 - val_recall: 0.0000e+00\n",
      "Epoch 7/30\n",
      "\u001b[1m16/16\u001b[0m \u001b[32m━━━━━━━━━━━━━━━━━━━━\u001b[0m\u001b[37m\u001b[0m \u001b[1m4s\u001b[0m 226ms/step - accuracy: 0.3769 - loss: 1.0951 - precision: 0.0000e+00 - recall: 0.0000e+00 - val_accuracy: 0.3360 - val_loss: 1.0978 - val_precision: 0.0000e+00 - val_recall: 0.0000e+00\n",
      "Epoch 8/30\n",
      "\u001b[1m16/16\u001b[0m \u001b[32m━━━━━━━━━━━━━━━━━━━━\u001b[0m\u001b[37m\u001b[0m \u001b[1m4s\u001b[0m 220ms/step - accuracy: 0.3553 - loss: 1.0981 - precision: 0.0000e+00 - recall: 0.0000e+00 - val_accuracy: 0.3280 - val_loss: 1.0987 - val_precision: 0.0000e+00 - val_recall: 0.0000e+00\n",
      "Epoch 9/30\n",
      "\u001b[1m16/16\u001b[0m \u001b[32m━━━━━━━━━━━━━━━━━━━━\u001b[0m\u001b[37m\u001b[0m \u001b[1m4s\u001b[0m 225ms/step - accuracy: 0.3387 - loss: 1.0985 - precision: 0.0000e+00 - recall: 0.0000e+00 - val_accuracy: 0.3280 - val_loss: 1.0986 - val_precision: 0.0000e+00 - val_recall: 0.0000e+00\n",
      "Epoch 10/30\n",
      "\u001b[1m16/16\u001b[0m \u001b[32m━━━━━━━━━━━━━━━━━━━━\u001b[0m\u001b[37m\u001b[0m \u001b[1m4s\u001b[0m 220ms/step - accuracy: 0.3473 - loss: 1.0983 - precision: 0.0000e+00 - recall: 0.0000e+00 - val_accuracy: 0.3360 - val_loss: 1.1007 - val_precision: 0.0000e+00 - val_recall: 0.0000e+00\n",
      "Epoch 11/30\n",
      "\u001b[1m16/16\u001b[0m \u001b[32m━━━━━━━━━━━━━━━━━━━━\u001b[0m\u001b[37m\u001b[0m \u001b[1m4s\u001b[0m 246ms/step - accuracy: 0.3304 - loss: 1.0982 - precision: 0.0000e+00 - recall: 0.0000e+00 - val_accuracy: 0.3360 - val_loss: 1.0969 - val_precision: 0.0000e+00 - val_recall: 0.0000e+00\n",
      "Epoch 12/30\n",
      "\u001b[1m16/16\u001b[0m \u001b[32m━━━━━━━━━━━━━━━━━━━━\u001b[0m\u001b[37m\u001b[0m \u001b[1m5s\u001b[0m 273ms/step - accuracy: 0.3484 - loss: 1.0952 - precision: 0.0000e+00 - recall: 0.0000e+00 - val_accuracy: 0.3360 - val_loss: 1.0963 - val_precision: 0.0000e+00 - val_recall: 0.0000e+00\n",
      "Epoch 13/30\n",
      "\u001b[1m16/16\u001b[0m \u001b[32m━━━━━━━━━━━━━━━━━━━━\u001b[0m\u001b[37m\u001b[0m \u001b[1m4s\u001b[0m 221ms/step - accuracy: 0.3857 - loss: 1.0922 - precision: 0.3529 - recall: 7.8563e-04 - val_accuracy: 0.3360 - val_loss: 1.0911 - val_precision: 0.0000e+00 - val_recall: 0.0000e+00\n",
      "Epoch 14/30\n",
      "\u001b[1m16/16\u001b[0m \u001b[32m━━━━━━━━━━━━━━━━━━━━\u001b[0m\u001b[37m\u001b[0m \u001b[1m4s\u001b[0m 225ms/step - accuracy: 0.4284 - loss: 1.0863 - precision: 0.1046 - recall: 0.0023 - val_accuracy: 0.5360 - val_loss: 1.0594 - val_precision: 0.0000e+00 - val_recall: 0.0000e+00\n",
      "Epoch 15/30\n",
      "\u001b[1m16/16\u001b[0m \u001b[32m━━━━━━━━━━━━━━━━━━━━\u001b[0m\u001b[37m\u001b[0m \u001b[1m4s\u001b[0m 227ms/step - accuracy: 0.5050 - loss: 1.0733 - precision: 0.3600 - recall: 0.0483 - val_accuracy: 0.4240 - val_loss: 1.0629 - val_precision: 0.8000 - val_recall: 0.0320\n",
      "Epoch 16/30\n",
      "\u001b[1m16/16\u001b[0m \u001b[32m━━━━━━━━━━━━━━━━━━━━\u001b[0m\u001b[37m\u001b[0m \u001b[1m4s\u001b[0m 220ms/step - accuracy: 0.5000 - loss: 1.0381 - precision: 0.6084 - recall: 0.0612 - val_accuracy: 0.4880 - val_loss: 1.0015 - val_precision: 0.5385 - val_recall: 0.2800\n",
      "Epoch 17/30\n",
      "\u001b[1m16/16\u001b[0m \u001b[32m━━━━━━━━━━━━━━━━━━━━\u001b[0m\u001b[37m\u001b[0m \u001b[1m4s\u001b[0m 225ms/step - accuracy: 0.5747 - loss: 0.8967 - precision: 0.7206 - recall: 0.3532 - val_accuracy: 0.6640 - val_loss: 0.8573 - val_precision: 0.7727 - val_recall: 0.5440\n",
      "Epoch 18/30\n",
      "\u001b[1m16/16\u001b[0m \u001b[32m━━━━━━━━━━━━━━━━━━━━\u001b[0m\u001b[37m\u001b[0m \u001b[1m4s\u001b[0m 221ms/step - accuracy: 0.7178 - loss: 0.7238 - precision: 0.8199 - recall: 0.5862 - val_accuracy: 0.7280 - val_loss: 0.8490 - val_precision: 0.7500 - val_recall: 0.6480\n",
      "Epoch 19/30\n",
      "\u001b[1m16/16\u001b[0m \u001b[32m━━━━━━━━━━━━━━━━━━━━\u001b[0m\u001b[37m\u001b[0m \u001b[1m4s\u001b[0m 223ms/step - accuracy: 0.6762 - loss: 1.0006 - precision: 0.7354 - recall: 0.5044 - val_accuracy: 0.5520 - val_loss: 0.9569 - val_precision: 0.6275 - val_recall: 0.2560\n",
      "Epoch 20/30\n",
      "\u001b[1m16/16\u001b[0m \u001b[32m━━━━━━━━━━━━━━━━━━━━\u001b[0m\u001b[37m\u001b[0m \u001b[1m4s\u001b[0m 222ms/step - accuracy: 0.6678 - loss: 0.8141 - precision: 0.7991 - recall: 0.3459 - val_accuracy: 0.5440 - val_loss: 0.9773 - val_precision: 0.7812 - val_recall: 0.2000\n",
      "Epoch 21/30\n",
      "\u001b[1m16/16\u001b[0m \u001b[32m━━━━━━━━━━━━━━━━━━━━\u001b[0m\u001b[37m\u001b[0m \u001b[1m4s\u001b[0m 221ms/step - accuracy: 0.6280 - loss: 0.8586 - precision: 0.8394 - recall: 0.3079 - val_accuracy: 0.6160 - val_loss: 0.8801 - val_precision: 0.6600 - val_recall: 0.5280\n",
      "Epoch 22/30\n",
      "\u001b[1m16/16\u001b[0m \u001b[32m━━━━━━━━━━━━━━━━━━━━\u001b[0m\u001b[37m\u001b[0m \u001b[1m4s\u001b[0m 222ms/step - accuracy: 0.7297 - loss: 0.6533 - precision: 0.7898 - recall: 0.6259 - val_accuracy: 0.5520 - val_loss: 1.6725 - val_precision: 0.5948 - val_recall: 0.5520\n",
      "Epoch 23/30\n",
      "\u001b[1m16/16\u001b[0m \u001b[32m━━━━━━━━━━━━━━━━━━━━\u001b[0m\u001b[37m\u001b[0m \u001b[1m4s\u001b[0m 222ms/step - accuracy: 0.5746 - loss: 1.0375 - precision: 0.7136 - recall: 0.3257 - val_accuracy: 0.5440 - val_loss: 1.0430 - val_precision: 0.8333 - val_recall: 0.0400\n",
      "Epoch 24/30\n",
      "\u001b[1m16/16\u001b[0m \u001b[32m━━━━━━━━━━━━━━━━━━━━\u001b[0m\u001b[37m\u001b[0m \u001b[1m4s\u001b[0m 225ms/step - accuracy: 0.5215 - loss: 0.9872 - precision: 0.7510 - recall: 0.2146 - val_accuracy: 0.5120 - val_loss: 0.9370 - val_precision: 0.7222 - val_recall: 0.2080\n",
      "Epoch 25/30\n",
      "\u001b[1m16/16\u001b[0m \u001b[32m━━━━━━━━━━━━━━━━━━━━\u001b[0m\u001b[37m\u001b[0m \u001b[1m4s\u001b[0m 223ms/step - accuracy: 0.6346 - loss: 0.7792 - precision: 0.8211 - recall: 0.4065 - val_accuracy: 0.5920 - val_loss: 0.9296 - val_precision: 0.6200 - val_recall: 0.4960\n",
      "Epoch 26/30\n",
      "\u001b[1m16/16\u001b[0m \u001b[32m━━━━━━━━━━━━━━━━━━━━\u001b[0m\u001b[37m\u001b[0m \u001b[1m4s\u001b[0m 223ms/step - accuracy: 0.7242 - loss: 0.6651 - precision: 0.7549 - recall: 0.6577 - val_accuracy: 0.6800 - val_loss: 0.9386 - val_precision: 0.7037 - val_recall: 0.6080\n",
      "Epoch 27/30\n",
      "\u001b[1m16/16\u001b[0m \u001b[32m━━━━━━━━━━━━━━━━━━━━\u001b[0m\u001b[37m\u001b[0m \u001b[1m4s\u001b[0m 227ms/step - accuracy: 0.7416 - loss: 0.5878 - precision: 0.8163 - recall: 0.6356 - val_accuracy: 0.7120 - val_loss: 0.9440 - val_precision: 0.7227 - val_recall: 0.6880\n",
      "Epoch 28/30\n",
      "\u001b[1m16/16\u001b[0m \u001b[32m━━━━━━━━━━━━━━━━━━━━\u001b[0m\u001b[37m\u001b[0m \u001b[1m4s\u001b[0m 221ms/step - accuracy: 0.7805 - loss: 0.5598 - precision: 0.8315 - recall: 0.7311 - val_accuracy: 0.7360 - val_loss: 0.9055 - val_precision: 0.7479 - val_recall: 0.7120\n",
      "Epoch 29/30\n",
      "\u001b[1m16/16\u001b[0m \u001b[32m━━━━━━━━━━━━━━━━━━━━\u001b[0m\u001b[37m\u001b[0m \u001b[1m4s\u001b[0m 222ms/step - accuracy: 0.7824 - loss: 0.5183 - precision: 0.8300 - recall: 0.7221 - val_accuracy: 0.6800 - val_loss: 0.8554 - val_precision: 0.7069 - val_recall: 0.6560\n",
      "Epoch 30/30\n",
      "\u001b[1m16/16\u001b[0m \u001b[32m━━━━━━━━━━━━━━━━━━━━\u001b[0m\u001b[37m\u001b[0m \u001b[1m4s\u001b[0m 225ms/step - accuracy: 0.8278 - loss: 0.4537 - precision: 0.8466 - recall: 0.7989 - val_accuracy: 0.7280 - val_loss: 0.9471 - val_precision: 0.7258 - val_recall: 0.7200\n",
      "Predicting on validation set...\n",
      "\u001b[1m4/4\u001b[0m \u001b[32m━━━━━━━━━━━━━━━━━━━━\u001b[0m\u001b[37m\u001b[0m \u001b[1m0s\u001b[0m 68ms/step\n",
      "Sending metrics to clearML...\n",
      "done\n",
      "ClearML Task: created new task id=3124eb15eab54b40a06dd841a0453c85\n",
      "ClearML results page: https://app.clear.ml/projects/fb97ed0f5f9342429b425a323c599f73/experiments/3124eb15eab54b40a06dd841a0453c85/output/log\n",
      "Training model...\n",
      "Epoch 1/30\n",
      "\u001b[1m55/55\u001b[0m \u001b[32m━━━━━━━━━━━━━━━━━━━━\u001b[0m\u001b[37m\u001b[0m \u001b[1m16s\u001b[0m 246ms/step - accuracy: 0.3879 - loss: 1.8137 - precision: 0.3938 - recall: 0.1318 - val_accuracy: 0.3360 - val_loss: 1.1064 - val_precision: 0.0000e+00 - val_recall: 0.0000e+00\n",
      "Epoch 2/30\n",
      "\u001b[1m55/55\u001b[0m \u001b[32m━━━━━━━━━━━━━━━━━━━━\u001b[0m\u001b[37m\u001b[0m \u001b[1m12s\u001b[0m 217ms/step - accuracy: 0.3845 - loss: 1.0828 - precision: 0.5473 - recall: 0.0342 - val_accuracy: 0.3440 - val_loss: 1.1510 - val_precision: 0.4179 - val_recall: 0.2240\n",
      "Epoch 3/30\n",
      "\u001b[1m55/55\u001b[0m \u001b[32m━━━━━━━━━━━━━━━━━━━━\u001b[0m\u001b[37m\u001b[0m \u001b[1m12s\u001b[0m 219ms/step - accuracy: 0.5456 - loss: 0.9638 - precision: 0.6764 - recall: 0.2679 - val_accuracy: 0.6720 - val_loss: 0.8624 - val_precision: 0.7143 - val_recall: 0.5200\n",
      "Epoch 4/30\n",
      "\u001b[1m55/55\u001b[0m \u001b[32m━━━━━━━━━━━━━━━━━━━━\u001b[0m\u001b[37m\u001b[0m \u001b[1m13s\u001b[0m 238ms/step - accuracy: 0.7006 - loss: 0.7545 - precision: 0.8122 - recall: 0.5342 - val_accuracy: 0.6560 - val_loss: 0.8240 - val_precision: 0.7315 - val_recall: 0.6320\n",
      "Epoch 5/30\n",
      "\u001b[1m55/55\u001b[0m \u001b[32m━━━━━━━━━━━━━━━━━━━━\u001b[0m\u001b[37m\u001b[0m \u001b[1m12s\u001b[0m 220ms/step - accuracy: 0.7426 - loss: 0.6168 - precision: 0.8080 - recall: 0.6579 - val_accuracy: 0.6960 - val_loss: 0.7693 - val_precision: 0.7477 - val_recall: 0.6640\n",
      "Epoch 6/30\n",
      "\u001b[1m55/55\u001b[0m \u001b[32m━━━━━━━━━━━━━━━━━━━━\u001b[0m\u001b[37m\u001b[0m \u001b[1m12s\u001b[0m 220ms/step - accuracy: 0.7807 - loss: 0.5042 - precision: 0.8324 - recall: 0.7264 - val_accuracy: 0.7040 - val_loss: 0.8646 - val_precision: 0.7203 - val_recall: 0.6800\n",
      "Epoch 7/30\n",
      "\u001b[1m55/55\u001b[0m \u001b[32m━━━━━━━━━━━━━━━━━━━━\u001b[0m\u001b[37m\u001b[0m \u001b[1m12s\u001b[0m 219ms/step - accuracy: 0.7982 - loss: 0.4703 - precision: 0.8440 - recall: 0.7529 - val_accuracy: 0.7120 - val_loss: 0.8253 - val_precision: 0.7373 - val_recall: 0.6960\n",
      "Epoch 8/30\n",
      "\u001b[1m55/55\u001b[0m \u001b[32m━━━━━━━━━━━━━━━━━━━━\u001b[0m\u001b[37m\u001b[0m \u001b[1m12s\u001b[0m 219ms/step - accuracy: 0.8117 - loss: 0.4574 - precision: 0.8461 - recall: 0.7684 - val_accuracy: 0.7520 - val_loss: 0.8256 - val_precision: 0.7672 - val_recall: 0.7120\n",
      "Epoch 9/30\n",
      "\u001b[1m55/55\u001b[0m \u001b[32m━━━━━━━━━━━━━━━━━━━━\u001b[0m\u001b[37m\u001b[0m \u001b[1m12s\u001b[0m 218ms/step - accuracy: 0.8701 - loss: 0.3507 - precision: 0.8874 - recall: 0.8418 - val_accuracy: 0.6960 - val_loss: 0.9979 - val_precision: 0.6967 - val_recall: 0.6800\n",
      "Epoch 10/30\n",
      "\u001b[1m55/55\u001b[0m \u001b[32m━━━━━━━━━━━━━━━━━━━━\u001b[0m\u001b[37m\u001b[0m \u001b[1m13s\u001b[0m 224ms/step - accuracy: 0.8703 - loss: 0.3421 - precision: 0.8899 - recall: 0.8454 - val_accuracy: 0.7040 - val_loss: 0.9286 - val_precision: 0.7107 - val_recall: 0.6880\n",
      "Epoch 11/30\n",
      "\u001b[1m55/55\u001b[0m \u001b[32m━━━━━━━━━━━━━━━━━━━━\u001b[0m\u001b[37m\u001b[0m \u001b[1m12s\u001b[0m 218ms/step - accuracy: 0.8726 - loss: 0.3115 - precision: 0.8859 - recall: 0.8544 - val_accuracy: 0.7600 - val_loss: 1.0925 - val_precision: 0.7731 - val_recall: 0.7360\n",
      "Epoch 12/30\n",
      "\u001b[1m55/55\u001b[0m \u001b[32m━━━━━━━━━━━━━━━━━━━━\u001b[0m\u001b[37m\u001b[0m \u001b[1m12s\u001b[0m 218ms/step - accuracy: 0.8835 - loss: 0.2640 - precision: 0.8895 - recall: 0.8718 - val_accuracy: 0.7280 - val_loss: 1.1993 - val_precision: 0.7258 - val_recall: 0.7200\n",
      "Epoch 13/30\n",
      "\u001b[1m55/55\u001b[0m \u001b[32m━━━━━━━━━━━━━━━━━━━━\u001b[0m\u001b[37m\u001b[0m \u001b[1m12s\u001b[0m 220ms/step - accuracy: 0.9059 - loss: 0.2437 - precision: 0.9120 - recall: 0.8911 - val_accuracy: 0.7520 - val_loss: 1.0708 - val_precision: 0.7623 - val_recall: 0.7440\n",
      "Epoch 14/30\n",
      "\u001b[1m55/55\u001b[0m \u001b[32m━━━━━━━━━━━━━━━━━━━━\u001b[0m\u001b[37m\u001b[0m \u001b[1m12s\u001b[0m 221ms/step - accuracy: 0.9177 - loss: 0.2043 - precision: 0.9284 - recall: 0.9050 - val_accuracy: 0.7600 - val_loss: 1.0533 - val_precision: 0.7642 - val_recall: 0.7520\n",
      "Epoch 15/30\n",
      "\u001b[1m55/55\u001b[0m \u001b[32m━━━━━━━━━━━━━━━━━━━━\u001b[0m\u001b[37m\u001b[0m \u001b[1m13s\u001b[0m 222ms/step - accuracy: 0.9269 - loss: 0.1855 - precision: 0.9298 - recall: 0.9156 - val_accuracy: 0.6960 - val_loss: 1.2250 - val_precision: 0.7049 - val_recall: 0.6880\n",
      "Epoch 16/30\n",
      "\u001b[1m55/55\u001b[0m \u001b[32m━━━━━━━━━━━━━━━━━━━━\u001b[0m\u001b[37m\u001b[0m \u001b[1m12s\u001b[0m 219ms/step - accuracy: 0.8778 - loss: 0.2977 - precision: 0.8909 - recall: 0.8662 - val_accuracy: 0.7200 - val_loss: 1.0108 - val_precision: 0.7350 - val_recall: 0.6880\n",
      "Epoch 17/30\n",
      "\u001b[1m55/55\u001b[0m \u001b[32m━━━━━━━━━━━━━━━━━━━━\u001b[0m\u001b[37m\u001b[0m \u001b[1m12s\u001b[0m 220ms/step - accuracy: 0.9128 - loss: 0.2240 - precision: 0.9241 - recall: 0.9033 - val_accuracy: 0.7040 - val_loss: 1.0364 - val_precision: 0.7250 - val_recall: 0.6960\n",
      "Epoch 18/30\n",
      "\u001b[1m55/55\u001b[0m \u001b[32m━━━━━━━━━━━━━━━━━━━━\u001b[0m\u001b[37m\u001b[0m \u001b[1m12s\u001b[0m 219ms/step - accuracy: 0.9289 - loss: 0.1846 - precision: 0.9321 - recall: 0.9231 - val_accuracy: 0.7440 - val_loss: 0.9328 - val_precision: 0.7627 - val_recall: 0.7200\n",
      "Epoch 19/30\n",
      "\u001b[1m55/55\u001b[0m \u001b[32m━━━━━━━━━━━━━━━━━━━━\u001b[0m\u001b[37m\u001b[0m \u001b[1m12s\u001b[0m 219ms/step - accuracy: 0.9108 - loss: 0.2091 - precision: 0.9211 - recall: 0.9017 - val_accuracy: 0.7680 - val_loss: 1.4149 - val_precision: 0.7724 - val_recall: 0.7600\n",
      "Epoch 20/30\n",
      "\u001b[1m55/55\u001b[0m \u001b[32m━━━━━━━━━━━━━━━━━━━━\u001b[0m\u001b[37m\u001b[0m \u001b[1m12s\u001b[0m 220ms/step - accuracy: 0.9475 - loss: 0.1407 - precision: 0.9527 - recall: 0.9395 - val_accuracy: 0.7760 - val_loss: 1.2324 - val_precision: 0.7823 - val_recall: 0.7760\n",
      "Epoch 21/30\n",
      "\u001b[1m55/55\u001b[0m \u001b[32m━━━━━━━━━━━━━━━━━━━━\u001b[0m\u001b[37m\u001b[0m \u001b[1m12s\u001b[0m 219ms/step - accuracy: 0.9452 - loss: 0.1245 - precision: 0.9485 - recall: 0.9415 - val_accuracy: 0.7600 - val_loss: 1.2776 - val_precision: 0.7642 - val_recall: 0.7520\n",
      "Epoch 22/30\n",
      "\u001b[1m55/55\u001b[0m \u001b[32m━━━━━━━━━━━━━━━━━━━━\u001b[0m\u001b[37m\u001b[0m \u001b[1m12s\u001b[0m 219ms/step - accuracy: 0.9545 - loss: 0.1224 - precision: 0.9557 - recall: 0.9485 - val_accuracy: 0.7680 - val_loss: 1.6597 - val_precision: 0.7680 - val_recall: 0.7680\n",
      "Epoch 23/30\n",
      "\u001b[1m55/55\u001b[0m \u001b[32m━━━━━━━━━━━━━━━━━━━━\u001b[0m\u001b[37m\u001b[0m \u001b[1m12s\u001b[0m 220ms/step - accuracy: 0.9478 - loss: 0.1392 - precision: 0.9513 - recall: 0.9416 - val_accuracy: 0.7440 - val_loss: 1.4930 - val_precision: 0.7561 - val_recall: 0.7440\n",
      "Epoch 24/30\n",
      "\u001b[1m55/55\u001b[0m \u001b[32m━━━━━━━━━━━━━━━━━━━━\u001b[0m\u001b[37m\u001b[0m \u001b[1m12s\u001b[0m 219ms/step - accuracy: 0.9466 - loss: 0.1530 - precision: 0.9479 - recall: 0.9438 - val_accuracy: 0.7600 - val_loss: 1.3006 - val_precision: 0.7705 - val_recall: 0.7520\n",
      "Epoch 25/30\n",
      "\u001b[1m55/55\u001b[0m \u001b[32m━━━━━━━━━━━━━━━━━━━━\u001b[0m\u001b[37m\u001b[0m \u001b[1m12s\u001b[0m 219ms/step - accuracy: 0.9548 - loss: 0.1306 - precision: 0.9551 - recall: 0.9525 - val_accuracy: 0.7920 - val_loss: 1.3583 - val_precision: 0.7951 - val_recall: 0.7760\n",
      "Epoch 26/30\n",
      "\u001b[1m55/55\u001b[0m \u001b[32m━━━━━━━━━━━━━━━━━━━━\u001b[0m\u001b[37m\u001b[0m \u001b[1m12s\u001b[0m 219ms/step - accuracy: 0.9650 - loss: 0.1134 - precision: 0.9670 - recall: 0.9626 - val_accuracy: 0.7520 - val_loss: 1.2516 - val_precision: 0.7642 - val_recall: 0.7520\n",
      "Epoch 27/30\n",
      "\u001b[1m55/55\u001b[0m \u001b[32m━━━━━━━━━━━━━━━━━━━━\u001b[0m\u001b[37m\u001b[0m \u001b[1m12s\u001b[0m 218ms/step - accuracy: 0.9657 - loss: 0.0918 - precision: 0.9660 - recall: 0.9636 - val_accuracy: 0.7760 - val_loss: 1.4524 - val_precision: 0.7760 - val_recall: 0.7760\n",
      "Epoch 28/30\n",
      "\u001b[1m55/55\u001b[0m \u001b[32m━━━━━━━━━━━━━━━━━━━━\u001b[0m\u001b[37m\u001b[0m \u001b[1m12s\u001b[0m 219ms/step - accuracy: 0.9561 - loss: 0.1031 - precision: 0.9610 - recall: 0.9550 - val_accuracy: 0.7680 - val_loss: 1.6029 - val_precision: 0.7680 - val_recall: 0.7680\n",
      "Epoch 29/30\n",
      "\u001b[1m55/55\u001b[0m \u001b[32m━━━━━━━━━━━━━━━━━━━━\u001b[0m\u001b[37m\u001b[0m \u001b[1m13s\u001b[0m 223ms/step - accuracy: 0.9607 - loss: 0.1125 - precision: 0.9639 - recall: 0.9591 - val_accuracy: 0.7680 - val_loss: 1.4449 - val_precision: 0.7742 - val_recall: 0.7680\n",
      "Epoch 30/30\n",
      "\u001b[1m55/55\u001b[0m \u001b[32m━━━━━━━━━━━━━━━━━━━━\u001b[0m\u001b[37m\u001b[0m \u001b[1m12s\u001b[0m 219ms/step - accuracy: 0.9788 - loss: 0.0564 - precision: 0.9803 - recall: 0.9762 - val_accuracy: 0.8160 - val_loss: 1.5951 - val_precision: 0.8160 - val_recall: 0.8160\n",
      "Predicting on validation set...\n",
      "\u001b[1m4/4\u001b[0m \u001b[32m━━━━━━━━━━━━━━━━━━━━\u001b[0m\u001b[37m\u001b[0m \u001b[1m0s\u001b[0m 66ms/step\n",
      "Sending metrics to clearML...\n",
      "done\n"
     ]
    }
   ],
   "source": [
    "# combination 4: contrast 0.5 + histEq + rotate 5 + rotate 20 (all best performing) 250%\n",
    "task_name = 'he,c,r5,r20'\n",
    "sub_project_name = 'HE+C+ROTATE'\n",
    "\n",
    "augmentation_metadata = {\n",
    "        'methods': {        \n",
    "            'histEq': {\n",
    "                'parameters': {\n",
    "                    'p': 1.0  # Probability of applying the augmentation\n",
    "                },\n",
    "                'apply_to_percentage': 0.625  # 50% of the training images\n",
    "            },\n",
    "            'bnc': {\n",
    "            'parameters': {\n",
    "                'alpha': 0.5,\n",
    "                'beta': 0\n",
    "            },\n",
    "            'apply_to_percentage': 0.625  # 50% of the training images\n",
    "            },\n",
    "            'rotate': {\n",
    "                'parameters': {\n",
    "                    'angle_limit': 5, # Maximum angle of rotation\n",
    "                    'p': 1.0  # Probability of applying the augmentation\n",
    "                },\n",
    "                'apply_to_percentage': 0.625  # 50% of the training images\n",
    "            },\n",
    "            'rotate2': {\n",
    "                'parameters': {\n",
    "                    'angle_limit': 20, # Maximum angle of rotation\n",
    "                    'p': 1.0  # Probability of applying the augmentation\n",
    "                },\n",
    "                'apply_to_percentage': 0.625  # 50% of the training images\n",
    "            }                    \n",
    "        }\n",
    "    }\n",
    "\n",
    "for i in range(N):\n",
    "    RUN = i + 1\n",
    "    try:\n",
    "        print(f\"Starting RUN: {RUN}\")\n",
    "        main(RUN, augmentation_metadata, task_name, sub_project_name, epochs, train_size, w1, w2)\n",
    "    except Exception as e:\n",
    "        print(f\"Error in RUN: {RUN}\")\n",
    "        print(e)\n",
    "        break\n",
    "    finally:\n",
    "        clear_output(wait=True)  # Clear the output to avoid scrolling\n",
    "        gc.collect()  # Collect garbage to avoid memory leaks"
   ]
  },
  {
   "cell_type": "markdown",
   "metadata": {},
   "source": [
    "# Weather Conditions 3"
   ]
  },
  {
   "cell_type": "code",
   "execution_count": 28,
   "metadata": {},
   "outputs": [],
   "source": [
    "w1 = 4\n",
    "w2 = 5"
   ]
  },
  {
   "cell_type": "code",
   "execution_count": 29,
   "metadata": {},
   "outputs": [
    {
     "name": "stdout",
     "output_type": "stream",
     "text": [
      "Starting RUN: 5\n",
      "Seed:  3207245847\n",
      "Num GPUs Available:  0\n"
     ]
    },
    {
     "name": "stderr",
     "output_type": "stream",
     "text": [
      "c:\\github\\Third-Year-Project\\Intruder-Aircraft-Detection\\main\\tl_clf.py:82: SettingWithCopyWarning:\n",
      "\n",
      "\n",
      "A value is trying to be set on a copy of a slice from a DataFrame.\n",
      "Try using .loc[row_indexer,col_indexer] = value instead\n",
      "\n",
      "See the caveats in the documentation: https://pandas.pydata.org/pandas-docs/stable/user_guide/indexing.html#returning-a-view-versus-a-copy\n",
      "\n",
      "c:\\github\\Third-Year-Project\\Intruder-Aircraft-Detection\\main\\tl_clf.py:83: SettingWithCopyWarning:\n",
      "\n",
      "\n",
      "A value is trying to be set on a copy of a slice from a DataFrame.\n",
      "Try using .loc[row_indexer,col_indexer] = value instead\n",
      "\n",
      "See the caveats in the documentation: https://pandas.pydata.org/pandas-docs/stable/user_guide/indexing.html#returning-a-view-versus-a-copy\n",
      "\n"
     ]
    },
    {
     "name": "stdout",
     "output_type": "stream",
     "text": [
      "Removing dataset if pre-existing\n",
      "Copying training files:\n"
     ]
    },
    {
     "name": "stderr",
     "output_type": "stream",
     "text": [
      "Copying files: 100%|██████████| 1000/1000 [00:00<00:00, 1496.62it/s]\n"
     ]
    },
    {
     "name": "stdout",
     "output_type": "stream",
     "text": [
      "Copying validation files:\n"
     ]
    },
    {
     "name": "stderr",
     "output_type": "stream",
     "text": [
      "Copying files: 100%|██████████| 250/250 [00:00<00:00, 966.90it/s] \n"
     ]
    },
    {
     "name": "stdout",
     "output_type": "stream",
     "text": [
      "Dataset 'weather_45_500' created at C:\\github\\Third-Year-Project\\Intruder-Aircraft-Detection\\datasets\\Custom\\weather_45_500\n",
      "Processing train labels in weather_45_500:\n"
     ]
    },
    {
     "name": "stderr",
     "output_type": "stream",
     "text": [
      "Processing labels: 100%|██████████| 500/500 [00:01<00:00, 360.80it/s]\n"
     ]
    },
    {
     "name": "stdout",
     "output_type": "stream",
     "text": [
      "Processing valid labels in weather_45_500:\n"
     ]
    },
    {
     "name": "stderr",
     "output_type": "stream",
     "text": [
      "Processing labels: 100%|██████████| 125/125 [00:00<00:00, 310.10it/s]\n"
     ]
    },
    {
     "name": "stdout",
     "output_type": "stream",
     "text": [
      "Label correction completed.\n"
     ]
    },
    {
     "name": "stderr",
     "output_type": "stream",
     "text": [
      "Removing existing directories/files: 100%|██████████| 3/3 [00:00<00:00, 6011.90it/s]\n",
      "Copying files: 100%|██████████| 500/500 [00:00<00:00, 894.24it/s]\n",
      "Copying files: 100%|██████████| 500/500 [00:00<00:00, 1340.07it/s]\n",
      "Applying augmentations: 100%|██████████| 1250/1250 [00:24<00:00, 51.86it/s]\n"
     ]
    },
    {
     "name": "stdout",
     "output_type": "stream",
     "text": [
      "An error occurred: Expected y_min for bbox (0.31603499999999995, -0.07623150000000001, 0.998717, 0.3788895, 1) to be in the range [0.0, 1.0], got -0.07623150000000001.\n",
      "An error occurred: Expected x_min for bbox (-0.12539900000000004, -0.1299795, 0.864633, 0.5300414999999999, 2) to be in the range [0.0, 1.0], got -0.12539900000000004.\n",
      "An error occurred: Expected y_min for bbox (0.31603499999999995, -0.07623150000000001, 0.998717, 0.3788895, 1) to be in the range [0.0, 1.0], got -0.07623150000000001.\n"
     ]
    },
    {
     "name": "stderr",
     "output_type": "stream",
     "text": [
      "Processing images:   1%|▏         | 7/500 [00:00<00:30, 15.96it/s]"
     ]
    },
    {
     "name": "stdout",
     "output_type": "stream",
     "text": [
      "An error occurred with C:/github/Third-Year-Project/Intruder-Aircraft-Detection/datasets/Custom/weather_45_500\\images\\train\\28006.jpg: Expected y_min for bbox (0.31603499999999995, -0.07623150000000001, 0.998717, 0.3788895, 1) to be in the range [0.0, 1.0], got -0.07623150000000001.\n"
     ]
    },
    {
     "name": "stderr",
     "output_type": "stream",
     "text": [
      "Processing images:  81%|████████  | 404/500 [00:13<00:02, 34.91it/s]"
     ]
    },
    {
     "name": "stdout",
     "output_type": "stream",
     "text": [
      "An error occurred with C:/github/Third-Year-Project/Intruder-Aircraft-Detection/datasets/Custom/weather_45_500\\images\\train\\53264.jpg: Expected x_min for bbox (-0.12539900000000004, -0.1299795, 0.864633, 0.5300414999999999, 2) to be in the range [0.0, 1.0], got -0.12539900000000004.\n"
     ]
    },
    {
     "name": "stderr",
     "output_type": "stream",
     "text": [
      "Processing images: 100%|██████████| 500/500 [00:16<00:00, 30.64it/s]\n",
      "Processing images:   0%|          | 6/1747 [00:00<01:39, 17.55it/s]"
     ]
    },
    {
     "name": "stdout",
     "output_type": "stream",
     "text": [
      "An error occurred with C:/github/Third-Year-Project/Intruder-Aircraft-Detection/datasets/Custom/weather_45_500\\images\\train-aug\\28006.jpg: Expected y_min for bbox (0.31603499999999995, -0.07623150000000001, 0.998717, 0.3788895, 1) to be in the range [0.0, 1.0], got -0.07623150000000001.\n"
     ]
    },
    {
     "name": "stderr",
     "output_type": "stream",
     "text": [
      "Processing images:  39%|███▉      | 683/1747 [00:27<00:32, 32.79it/s]"
     ]
    },
    {
     "name": "stdout",
     "output_type": "stream",
     "text": [
      "An error occurred with C:/github/Third-Year-Project/Intruder-Aircraft-Detection/datasets/Custom/weather_45_500\\images\\train-aug\\4306-rotate2-440a76f0.jpg: list index out of range\n"
     ]
    },
    {
     "name": "stderr",
     "output_type": "stream",
     "text": [
      "Processing images:  69%|██████▉   | 1208/1747 [00:42<00:16, 33.66it/s]"
     ]
    },
    {
     "name": "stdout",
     "output_type": "stream",
     "text": [
      "An error occurred with C:/github/Third-Year-Project/Intruder-Aircraft-Detection/datasets/Custom/weather_45_500\\images\\train-aug\\52688-rotate2-e8dc86b0.jpg: Expected y_min for bbox (0.2606535, -5.000000000143778e-07, 0.6159445, 0.3314765, 2) to be in the range [0.0, 1.0], got -5.000000000143778e-07.\n"
     ]
    },
    {
     "name": "stderr",
     "output_type": "stream",
     "text": [
      "Processing images:  78%|███████▊  | 1369/1747 [00:47<00:10, 34.53it/s]"
     ]
    },
    {
     "name": "stdout",
     "output_type": "stream",
     "text": [
      "An error occurred with C:/github/Third-Year-Project/Intruder-Aircraft-Detection/datasets/Custom/weather_45_500\\images\\train-aug\\53213-rotate-d4a6080f.jpg: Expected y_min for bbox (0.146934, -4.999999999866223e-07, 0.385954, 0.1732485, 2) to be in the range [0.0, 1.0], got -4.999999999866223e-07.\n"
     ]
    },
    {
     "name": "stderr",
     "output_type": "stream",
     "text": [
      "Processing images:  80%|████████  | 1398/1747 [00:48<00:10, 32.96it/s]"
     ]
    },
    {
     "name": "stdout",
     "output_type": "stream",
     "text": [
      "An error occurred with C:/github/Third-Year-Project/Intruder-Aircraft-Detection/datasets/Custom/weather_45_500\\images\\train-aug\\53264.jpg: Expected x_min for bbox (-0.12539900000000004, -0.1299795, 0.864633, 0.5300414999999999, 2) to be in the range [0.0, 1.0], got -0.12539900000000004.\n"
     ]
    },
    {
     "name": "stderr",
     "output_type": "stream",
     "text": [
      "Processing images:  92%|█████████▏| 1608/1747 [00:55<00:04, 28.54it/s]"
     ]
    },
    {
     "name": "stdout",
     "output_type": "stream",
     "text": [
      "An error occurred with C:/github/Third-Year-Project/Intruder-Aircraft-Detection/datasets/Custom/weather_45_500\\images\\train-aug\\53866-rotate2-b4ba1954.jpg: Expected y_min for bbox (0.5752985, -5.000000000005e-07, 0.6583015000000001, 0.0893185, 2) to be in the range [0.0, 1.0], got -5.000000000005e-07.\n"
     ]
    },
    {
     "name": "stderr",
     "output_type": "stream",
     "text": [
      "Processing images:  95%|█████████▍| 1651/1747 [00:56<00:02, 36.64it/s]"
     ]
    },
    {
     "name": "stdout",
     "output_type": "stream",
     "text": [
      "An error occurred with C:/github/Third-Year-Project/Intruder-Aircraft-Detection/datasets/Custom/weather_45_500\\images\\train-aug\\5507-rotate2-75807a28.jpg: Expected y_min for bbox (0.632602, -5.000000000005e-07, 0.724882, 0.0723785, 0) to be in the range [0.0, 1.0], got -5.000000000005e-07.\n"
     ]
    },
    {
     "name": "stderr",
     "output_type": "stream",
     "text": [
      "Processing images: 100%|██████████| 1747/1747 [00:59<00:00, 29.51it/s]\n",
      "Processing images:  56%|█████▌    | 70/125 [00:02<00:01, 35.22it/s]"
     ]
    },
    {
     "name": "stdout",
     "output_type": "stream",
     "text": [
      "An error occurred with C:/github/Third-Year-Project/Intruder-Aircraft-Detection/datasets/Custom/weather_45_500\\images\\valid\\52916.jpg: In YOLO format all coordinates must be float and in range (0, 1]\n"
     ]
    },
    {
     "name": "stderr",
     "output_type": "stream",
     "text": [
      "Processing images: 100%|██████████| 125/125 [00:04<00:00, 29.94it/s]\n",
      "Moving images in train: 100%|██████████| 498/498 [00:01<00:00, 282.67it/s]\n",
      "Moving images in train-aug: 100%|██████████| 1740/1740 [00:06<00:00, 277.73it/s]\n",
      "Moving images in valid: 100%|██████████| 124/124 [00:00<00:00, 287.34it/s]\n"
     ]
    },
    {
     "name": "stdout",
     "output_type": "stream",
     "text": [
      "Found 498 files belonging to 3 classes.\n",
      "Found 1740 files belonging to 3 classes.\n",
      "Found 124 files belonging to 3 classes.\n",
      "ClearML Task: created new task id=fe0262efa8a14826a59fe64812c6a3ce\n",
      "ClearML results page: https://app.clear.ml/projects/1209ba3714444886b3124026634c98ea/experiments/fe0262efa8a14826a59fe64812c6a3ce/output/log\n",
      "Training model...\n",
      "Epoch 1/30\n",
      "\u001b[1m16/16\u001b[0m \u001b[32m━━━━━━━━━━━━━━━━━━━━\u001b[0m\u001b[37m\u001b[0m \u001b[1m7s\u001b[0m 307ms/step - accuracy: 0.3458 - loss: 2.0881 - precision: 0.3685 - recall: 0.1302 - val_accuracy: 0.3306 - val_loss: 1.1076 - val_precision: 0.0000e+00 - val_recall: 0.0000e+00\n",
      "Epoch 2/30\n",
      "\u001b[1m16/16\u001b[0m \u001b[32m━━━━━━━━━━━━━━━━━━━━\u001b[0m\u001b[37m\u001b[0m \u001b[1m4s\u001b[0m 230ms/step - accuracy: 0.3268 - loss: 1.1033 - precision: 0.0000e+00 - recall: 0.0000e+00 - val_accuracy: 0.3387 - val_loss: 1.0997 - val_precision: 0.0000e+00 - val_recall: 0.0000e+00\n",
      "Epoch 3/30\n",
      "\u001b[1m16/16\u001b[0m \u001b[32m━━━━━━━━━━━━━━━━━━━━\u001b[0m\u001b[37m\u001b[0m \u001b[1m4s\u001b[0m 224ms/step - accuracy: 0.3147 - loss: 1.1006 - precision: 0.0000e+00 - recall: 0.0000e+00 - val_accuracy: 0.3387 - val_loss: 1.0986 - val_precision: 0.0000e+00 - val_recall: 0.0000e+00\n",
      "Epoch 4/30\n",
      "\u001b[1m16/16\u001b[0m \u001b[32m━━━━━━━━━━━━━━━━━━━━\u001b[0m\u001b[37m\u001b[0m \u001b[1m4s\u001b[0m 228ms/step - accuracy: 0.3504 - loss: 1.0985 - precision: 0.0000e+00 - recall: 0.0000e+00 - val_accuracy: 0.3548 - val_loss: 1.0984 - val_precision: 0.0000e+00 - val_recall: 0.0000e+00\n",
      "Epoch 5/30\n",
      "\u001b[1m16/16\u001b[0m \u001b[32m━━━━━━━━━━━━━━━━━━━━\u001b[0m\u001b[37m\u001b[0m \u001b[1m4s\u001b[0m 225ms/step - accuracy: 0.3456 - loss: 1.0988 - precision: 0.0000e+00 - recall: 0.0000e+00 - val_accuracy: 0.4435 - val_loss: 1.0964 - val_precision: 0.0000e+00 - val_recall: 0.0000e+00\n",
      "Epoch 6/30\n",
      "\u001b[1m16/16\u001b[0m \u001b[32m━━━━━━━━━━━━━━━━━━━━\u001b[0m\u001b[37m\u001b[0m \u001b[1m4s\u001b[0m 223ms/step - accuracy: 0.3860 - loss: 1.0963 - precision: 0.0000e+00 - recall: 0.0000e+00 - val_accuracy: 0.3952 - val_loss: 1.0950 - val_precision: 0.0000e+00 - val_recall: 0.0000e+00\n",
      "Epoch 7/30\n",
      "\u001b[1m16/16\u001b[0m \u001b[32m━━━━━━━━━━━━━━━━━━━━\u001b[0m\u001b[37m\u001b[0m \u001b[1m4s\u001b[0m 229ms/step - accuracy: 0.4726 - loss: 1.0911 - precision: 0.0000e+00 - recall: 0.0000e+00 - val_accuracy: 0.6210 - val_loss: 1.0851 - val_precision: 0.0000e+00 - val_recall: 0.0000e+00\n",
      "Epoch 8/30\n",
      "\u001b[1m16/16\u001b[0m \u001b[32m━━━━━━━━━━━━━━━━━━━━\u001b[0m\u001b[37m\u001b[0m \u001b[1m4s\u001b[0m 223ms/step - accuracy: 0.5893 - loss: 1.0814 - precision: 0.0000e+00 - recall: 0.0000e+00 - val_accuracy: 0.3790 - val_loss: 1.0999 - val_precision: 0.0000e+00 - val_recall: 0.0000e+00\n",
      "Epoch 9/30\n",
      "\u001b[1m16/16\u001b[0m \u001b[32m━━━━━━━━━━━━━━━━━━━━\u001b[0m\u001b[37m\u001b[0m \u001b[1m4s\u001b[0m 222ms/step - accuracy: 0.4490 - loss: 1.0707 - precision: 0.4348 - recall: 0.0594 - val_accuracy: 0.5161 - val_loss: 1.0819 - val_precision: 0.0000e+00 - val_recall: 0.0000e+00\n",
      "Epoch 10/30\n",
      "\u001b[1m16/16\u001b[0m \u001b[32m━━━━━━━━━━━━━━━━━━━━\u001b[0m\u001b[37m\u001b[0m \u001b[1m4s\u001b[0m 223ms/step - accuracy: 0.5404 - loss: 1.0550 - precision: 0.7181 - recall: 0.0146 - val_accuracy: 0.4839 - val_loss: 1.0506 - val_precision: 0.5000 - val_recall: 0.1452\n",
      "Epoch 11/30\n",
      "\u001b[1m16/16\u001b[0m \u001b[32m━━━━━━━━━━━━━━━━━━━━\u001b[0m\u001b[37m\u001b[0m \u001b[1m4s\u001b[0m 242ms/step - accuracy: 0.5850 - loss: 0.9759 - precision: 0.6968 - recall: 0.2211 - val_accuracy: 0.5484 - val_loss: 0.9861 - val_precision: 0.6000 - val_recall: 0.1694\n",
      "Epoch 12/30\n",
      "\u001b[1m16/16\u001b[0m \u001b[32m━━━━━━━━━━━━━━━━━━━━\u001b[0m\u001b[37m\u001b[0m \u001b[1m5s\u001b[0m 280ms/step - accuracy: 0.6506 - loss: 0.8658 - precision: 0.7770 - recall: 0.3753 - val_accuracy: 0.5484 - val_loss: 0.9569 - val_precision: 0.6154 - val_recall: 0.3871\n",
      "Epoch 13/30\n",
      "\u001b[1m16/16\u001b[0m \u001b[32m━━━━━━━━━━━━━━━━━━━━\u001b[0m\u001b[37m\u001b[0m \u001b[1m4s\u001b[0m 230ms/step - accuracy: 0.6788 - loss: 0.7922 - precision: 0.7474 - recall: 0.5089 - val_accuracy: 0.5968 - val_loss: 0.9192 - val_precision: 0.6806 - val_recall: 0.3952\n",
      "Epoch 14/30\n",
      "\u001b[1m16/16\u001b[0m \u001b[32m━━━━━━━━━━━━━━━━━━━━\u001b[0m\u001b[37m\u001b[0m \u001b[1m4s\u001b[0m 225ms/step - accuracy: 0.7197 - loss: 0.7055 - precision: 0.8183 - recall: 0.5240 - val_accuracy: 0.6129 - val_loss: 1.1106 - val_precision: 0.6514 - val_recall: 0.5726\n",
      "Epoch 15/30\n",
      "\u001b[1m16/16\u001b[0m \u001b[32m━━━━━━━━━━━━━━━━━━━━\u001b[0m\u001b[37m\u001b[0m \u001b[1m4s\u001b[0m 229ms/step - accuracy: 0.7439 - loss: 0.6040 - precision: 0.8115 - recall: 0.6780 - val_accuracy: 0.6694 - val_loss: 0.9229 - val_precision: 0.6737 - val_recall: 0.5161\n",
      "Epoch 16/30\n",
      "\u001b[1m16/16\u001b[0m \u001b[32m━━━━━━━━━━━━━━━━━━━━\u001b[0m\u001b[37m\u001b[0m \u001b[1m4s\u001b[0m 221ms/step - accuracy: 0.7592 - loss: 0.5407 - precision: 0.8202 - recall: 0.7076 - val_accuracy: 0.7016 - val_loss: 1.0309 - val_precision: 0.6964 - val_recall: 0.6290\n",
      "Epoch 17/30\n",
      "\u001b[1m16/16\u001b[0m \u001b[32m━━━━━━━━━━━━━━━━━━━━\u001b[0m\u001b[37m\u001b[0m \u001b[1m4s\u001b[0m 225ms/step - accuracy: 0.7631 - loss: 0.5673 - precision: 0.8388 - recall: 0.6648 - val_accuracy: 0.7097 - val_loss: 1.1044 - val_precision: 0.7304 - val_recall: 0.6774\n",
      "Epoch 18/30\n",
      "\u001b[1m16/16\u001b[0m \u001b[32m━━━━━━━━━━━━━━━━━━━━\u001b[0m\u001b[37m\u001b[0m \u001b[1m4s\u001b[0m 226ms/step - accuracy: 0.8701 - loss: 0.3939 - precision: 0.9088 - recall: 0.8298 - val_accuracy: 0.7339 - val_loss: 1.2919 - val_precision: 0.7373 - val_recall: 0.7016\n",
      "Epoch 19/30\n",
      "\u001b[1m16/16\u001b[0m \u001b[32m━━━━━━━━━━━━━━━━━━━━\u001b[0m\u001b[37m\u001b[0m \u001b[1m4s\u001b[0m 222ms/step - accuracy: 0.8496 - loss: 0.3969 - precision: 0.8766 - recall: 0.8293 - val_accuracy: 0.7177 - val_loss: 1.1187 - val_precision: 0.7250 - val_recall: 0.7016\n",
      "Epoch 20/30\n",
      "\u001b[1m16/16\u001b[0m \u001b[32m━━━━━━━━━━━━━━━━━━━━\u001b[0m\u001b[37m\u001b[0m \u001b[1m4s\u001b[0m 226ms/step - accuracy: 0.8667 - loss: 0.3361 - precision: 0.8973 - recall: 0.8471 - val_accuracy: 0.7016 - val_loss: 1.2866 - val_precision: 0.7034 - val_recall: 0.6694\n",
      "Epoch 21/30\n",
      "\u001b[1m16/16\u001b[0m \u001b[32m━━━━━━━━━━━━━━━━━━━━\u001b[0m\u001b[37m\u001b[0m \u001b[1m4s\u001b[0m 227ms/step - accuracy: 0.8665 - loss: 0.3521 - precision: 0.8831 - recall: 0.8496 - val_accuracy: 0.7097 - val_loss: 1.2452 - val_precision: 0.7131 - val_recall: 0.7016\n",
      "Epoch 22/30\n",
      "\u001b[1m16/16\u001b[0m \u001b[32m━━━━━━━━━━━━━━━━━━━━\u001b[0m\u001b[37m\u001b[0m \u001b[1m4s\u001b[0m 222ms/step - accuracy: 0.8513 - loss: 0.3698 - precision: 0.8576 - recall: 0.8402 - val_accuracy: 0.6855 - val_loss: 1.1667 - val_precision: 0.7000 - val_recall: 0.6774\n",
      "Epoch 23/30\n",
      "\u001b[1m16/16\u001b[0m \u001b[32m━━━━━━━━━━━━━━━━━━━━\u001b[0m\u001b[37m\u001b[0m \u001b[1m4s\u001b[0m 225ms/step - accuracy: 0.8760 - loss: 0.3927 - precision: 0.8892 - recall: 0.8547 - val_accuracy: 0.7339 - val_loss: 1.1956 - val_precision: 0.7586 - val_recall: 0.7097\n",
      "Epoch 24/30\n",
      "\u001b[1m16/16\u001b[0m \u001b[32m━━━━━━━━━━━━━━━━━━━━\u001b[0m\u001b[37m\u001b[0m \u001b[1m4s\u001b[0m 226ms/step - accuracy: 0.9076 - loss: 0.2911 - precision: 0.9343 - recall: 0.8749 - val_accuracy: 0.7097 - val_loss: 1.6848 - val_precision: 0.7000 - val_recall: 0.6774\n",
      "Epoch 25/30\n",
      "\u001b[1m16/16\u001b[0m \u001b[32m━━━━━━━━━━━━━━━━━━━━\u001b[0m\u001b[37m\u001b[0m \u001b[1m4s\u001b[0m 224ms/step - accuracy: 0.8887 - loss: 0.2789 - precision: 0.8896 - recall: 0.8776 - val_accuracy: 0.7742 - val_loss: 1.4170 - val_precision: 0.7724 - val_recall: 0.7661\n",
      "Epoch 26/30\n",
      "\u001b[1m16/16\u001b[0m \u001b[32m━━━━━━━━━━━━━━━━━━━━\u001b[0m\u001b[37m\u001b[0m \u001b[1m4s\u001b[0m 223ms/step - accuracy: 0.9005 - loss: 0.3143 - precision: 0.9274 - recall: 0.8916 - val_accuracy: 0.7419 - val_loss: 1.4359 - val_precision: 0.7542 - val_recall: 0.7177\n",
      "Epoch 27/30\n",
      "\u001b[1m16/16\u001b[0m \u001b[32m━━━━━━━━━━━━━━━━━━━━\u001b[0m\u001b[37m\u001b[0m \u001b[1m4s\u001b[0m 226ms/step - accuracy: 0.8669 - loss: 0.3636 - precision: 0.8972 - recall: 0.8274 - val_accuracy: 0.7339 - val_loss: 1.4827 - val_precision: 0.7565 - val_recall: 0.7016\n",
      "Epoch 28/30\n",
      "\u001b[1m16/16\u001b[0m \u001b[32m━━━━━━━━━━━━━━━━━━━━\u001b[0m\u001b[37m\u001b[0m \u001b[1m4s\u001b[0m 225ms/step - accuracy: 0.8845 - loss: 0.2957 - precision: 0.8972 - recall: 0.8720 - val_accuracy: 0.7581 - val_loss: 1.4817 - val_precision: 0.7712 - val_recall: 0.7339\n",
      "Epoch 29/30\n",
      "\u001b[1m16/16\u001b[0m \u001b[32m━━━━━━━━━━━━━━━━━━━━\u001b[0m\u001b[37m\u001b[0m \u001b[1m4s\u001b[0m 224ms/step - accuracy: 0.8877 - loss: 0.2653 - precision: 0.8987 - recall: 0.8828 - val_accuracy: 0.7581 - val_loss: 1.6499 - val_precision: 0.7627 - val_recall: 0.7258\n",
      "Epoch 30/30\n",
      "\u001b[1m16/16\u001b[0m \u001b[32m━━━━━━━━━━━━━━━━━━━━\u001b[0m\u001b[37m\u001b[0m \u001b[1m4s\u001b[0m 226ms/step - accuracy: 0.9322 - loss: 0.2161 - precision: 0.9355 - recall: 0.9218 - val_accuracy: 0.6694 - val_loss: 2.0000 - val_precision: 0.6777 - val_recall: 0.6613\n",
      "Predicting on validation set...\n",
      "\u001b[1m4/4\u001b[0m \u001b[32m━━━━━━━━━━━━━━━━━━━━\u001b[0m\u001b[37m\u001b[0m \u001b[1m0s\u001b[0m 68ms/step\n",
      "Sending metrics to clearML...\n",
      "done\n",
      "ClearML Task: created new task id=1e297264221e451e8d3076103c3c51fc\n",
      "ClearML results page: https://app.clear.ml/projects/1209ba3714444886b3124026634c98ea/experiments/1e297264221e451e8d3076103c3c51fc/output/log\n",
      "Training model...\n",
      "Epoch 1/30\n",
      "\u001b[1m55/55\u001b[0m \u001b[32m━━━━━━━━━━━━━━━━━━━━\u001b[0m\u001b[37m\u001b[0m \u001b[1m16s\u001b[0m 249ms/step - accuracy: 0.3391 - loss: 1.9679 - precision: 0.2849 - recall: 0.0490 - val_accuracy: 0.3629 - val_loss: 1.0972 - val_precision: 0.0000e+00 - val_recall: 0.0000e+00\n",
      "Epoch 2/30\n",
      "\u001b[1m55/55\u001b[0m \u001b[32m━━━━━━━━━━━━━━━━━━━━\u001b[0m\u001b[37m\u001b[0m \u001b[1m12s\u001b[0m 219ms/step - accuracy: 0.4084 - loss: 1.0587 - precision: 0.6261 - recall: 0.0767 - val_accuracy: 0.5000 - val_loss: 1.0847 - val_precision: 0.3333 - val_recall: 0.0081\n",
      "Epoch 3/30\n",
      "\u001b[1m55/55\u001b[0m \u001b[32m━━━━━━━━━━━━━━━━━━━━\u001b[0m\u001b[37m\u001b[0m \u001b[1m12s\u001b[0m 220ms/step - accuracy: 0.5531 - loss: 0.9753 - precision: 0.6554 - recall: 0.2149 - val_accuracy: 0.5484 - val_loss: 0.9944 - val_precision: 0.6053 - val_recall: 0.3710\n",
      "Epoch 4/30\n",
      "\u001b[1m55/55\u001b[0m \u001b[32m━━━━━━━━━━━━━━━━━━━━\u001b[0m\u001b[37m\u001b[0m \u001b[1m14s\u001b[0m 242ms/step - accuracy: 0.6527 - loss: 0.7969 - precision: 0.7448 - recall: 0.5032 - val_accuracy: 0.7016 - val_loss: 0.9380 - val_precision: 0.7143 - val_recall: 0.6048\n",
      "Epoch 5/30\n",
      "\u001b[1m55/55\u001b[0m \u001b[32m━━━━━━━━━━━━━━━━━━━━\u001b[0m\u001b[37m\u001b[0m \u001b[1m12s\u001b[0m 221ms/step - accuracy: 0.7440 - loss: 0.5956 - precision: 0.8111 - recall: 0.6736 - val_accuracy: 0.6290 - val_loss: 1.0539 - val_precision: 0.6435 - val_recall: 0.5968\n",
      "Epoch 6/30\n",
      "\u001b[1m55/55\u001b[0m \u001b[32m━━━━━━━━━━━━━━━━━━━━\u001b[0m\u001b[37m\u001b[0m \u001b[1m12s\u001b[0m 220ms/step - accuracy: 0.8175 - loss: 0.4900 - precision: 0.8552 - recall: 0.7709 - val_accuracy: 0.6774 - val_loss: 0.9476 - val_precision: 0.6891 - val_recall: 0.6613\n",
      "Epoch 7/30\n",
      "\u001b[1m55/55\u001b[0m \u001b[32m━━━━━━━━━━━━━━━━━━━━\u001b[0m\u001b[37m\u001b[0m \u001b[1m13s\u001b[0m 225ms/step - accuracy: 0.8143 - loss: 0.4601 - precision: 0.8565 - recall: 0.7693 - val_accuracy: 0.7097 - val_loss: 0.9686 - val_precision: 0.7436 - val_recall: 0.7016\n",
      "Epoch 8/30\n",
      "\u001b[1m55/55\u001b[0m \u001b[32m━━━━━━━━━━━━━━━━━━━━\u001b[0m\u001b[37m\u001b[0m \u001b[1m12s\u001b[0m 220ms/step - accuracy: 0.8367 - loss: 0.4246 - precision: 0.8680 - recall: 0.8042 - val_accuracy: 0.7500 - val_loss: 0.9560 - val_precision: 0.7583 - val_recall: 0.7339\n",
      "Epoch 9/30\n",
      "\u001b[1m55/55\u001b[0m \u001b[32m━━━━━━━━━━━━━━━━━━━━\u001b[0m\u001b[37m\u001b[0m \u001b[1m12s\u001b[0m 220ms/step - accuracy: 0.8807 - loss: 0.3205 - precision: 0.9015 - recall: 0.8631 - val_accuracy: 0.7581 - val_loss: 1.0487 - val_precision: 0.7705 - val_recall: 0.7581\n",
      "Epoch 10/30\n",
      "\u001b[1m55/55\u001b[0m \u001b[32m━━━━━━━━━━━━━━━━━━━━\u001b[0m\u001b[37m\u001b[0m \u001b[1m12s\u001b[0m 222ms/step - accuracy: 0.8948 - loss: 0.3090 - precision: 0.9113 - recall: 0.8780 - val_accuracy: 0.7661 - val_loss: 1.0090 - val_precision: 0.7797 - val_recall: 0.7419\n",
      "Epoch 11/30\n",
      "\u001b[1m55/55\u001b[0m \u001b[32m━━━━━━━━━━━━━━━━━━━━\u001b[0m\u001b[37m\u001b[0m \u001b[1m12s\u001b[0m 220ms/step - accuracy: 0.9076 - loss: 0.2510 - precision: 0.9249 - recall: 0.8879 - val_accuracy: 0.7581 - val_loss: 1.0459 - val_precision: 0.7686 - val_recall: 0.7500\n",
      "Epoch 12/30\n",
      "\u001b[1m55/55\u001b[0m \u001b[32m━━━━━━━━━━━━━━━━━━━━\u001b[0m\u001b[37m\u001b[0m \u001b[1m12s\u001b[0m 221ms/step - accuracy: 0.9170 - loss: 0.2270 - precision: 0.9293 - recall: 0.9087 - val_accuracy: 0.7339 - val_loss: 1.2365 - val_precision: 0.7398 - val_recall: 0.7339\n",
      "Epoch 13/30\n",
      "\u001b[1m55/55\u001b[0m \u001b[32m━━━━━━━━━━━━━━━━━━━━\u001b[0m\u001b[37m\u001b[0m \u001b[1m12s\u001b[0m 221ms/step - accuracy: 0.9100 - loss: 0.2428 - precision: 0.9194 - recall: 0.8930 - val_accuracy: 0.7903 - val_loss: 1.2445 - val_precision: 0.7886 - val_recall: 0.7823\n",
      "Epoch 14/30\n",
      "\u001b[1m55/55\u001b[0m \u001b[32m━━━━━━━━━━━━━━━━━━━━\u001b[0m\u001b[37m\u001b[0m \u001b[1m12s\u001b[0m 221ms/step - accuracy: 0.9331 - loss: 0.1826 - precision: 0.9410 - recall: 0.9273 - val_accuracy: 0.7742 - val_loss: 1.1285 - val_precision: 0.7705 - val_recall: 0.7581\n",
      "Epoch 15/30\n",
      "\u001b[1m55/55\u001b[0m \u001b[32m━━━━━━━━━━━━━━━━━━━━\u001b[0m\u001b[37m\u001b[0m \u001b[1m12s\u001b[0m 222ms/step - accuracy: 0.9173 - loss: 0.1952 - precision: 0.9352 - recall: 0.8968 - val_accuracy: 0.7339 - val_loss: 1.3198 - val_precision: 0.7377 - val_recall: 0.7258\n",
      "Epoch 16/30\n",
      "\u001b[1m55/55\u001b[0m \u001b[32m━━━━━━━━━━━━━━━━━━━━\u001b[0m\u001b[37m\u001b[0m \u001b[1m12s\u001b[0m 221ms/step - accuracy: 0.9304 - loss: 0.1720 - precision: 0.9372 - recall: 0.9267 - val_accuracy: 0.7903 - val_loss: 1.2137 - val_precision: 0.7869 - val_recall: 0.7742\n",
      "Epoch 17/30\n",
      "\u001b[1m55/55\u001b[0m \u001b[32m━━━━━━━━━━━━━━━━━━━━\u001b[0m\u001b[37m\u001b[0m \u001b[1m12s\u001b[0m 221ms/step - accuracy: 0.9588 - loss: 0.1237 - precision: 0.9668 - recall: 0.9555 - val_accuracy: 0.7742 - val_loss: 1.5825 - val_precision: 0.7805 - val_recall: 0.7742\n",
      "Epoch 18/30\n",
      "\u001b[1m55/55\u001b[0m \u001b[32m━━━━━━━━━━━━━━━━━━━━\u001b[0m\u001b[37m\u001b[0m \u001b[1m12s\u001b[0m 221ms/step - accuracy: 0.9697 - loss: 0.1012 - precision: 0.9726 - recall: 0.9654 - val_accuracy: 0.7823 - val_loss: 1.1724 - val_precision: 0.7869 - val_recall: 0.7742\n",
      "Epoch 19/30\n",
      "\u001b[1m55/55\u001b[0m \u001b[32m━━━━━━━━━━━━━━━━━━━━\u001b[0m\u001b[37m\u001b[0m \u001b[1m12s\u001b[0m 220ms/step - accuracy: 0.9441 - loss: 0.1629 - precision: 0.9565 - recall: 0.9284 - val_accuracy: 0.7500 - val_loss: 1.5672 - val_precision: 0.7561 - val_recall: 0.7500\n",
      "Epoch 20/30\n",
      "\u001b[1m55/55\u001b[0m \u001b[32m━━━━━━━━━━━━━━━━━━━━\u001b[0m\u001b[37m\u001b[0m \u001b[1m12s\u001b[0m 221ms/step - accuracy: 0.9644 - loss: 0.1123 - precision: 0.9677 - recall: 0.9589 - val_accuracy: 0.7903 - val_loss: 1.5407 - val_precision: 0.7903 - val_recall: 0.7903\n",
      "Epoch 21/30\n",
      "\u001b[1m55/55\u001b[0m \u001b[32m━━━━━━━━━━━━━━━━━━━━\u001b[0m\u001b[37m\u001b[0m \u001b[1m12s\u001b[0m 221ms/step - accuracy: 0.9762 - loss: 0.0751 - precision: 0.9826 - recall: 0.9675 - val_accuracy: 0.7903 - val_loss: 1.4561 - val_precision: 0.7903 - val_recall: 0.7903\n",
      "Epoch 22/30\n",
      "\u001b[1m55/55\u001b[0m \u001b[32m━━━━━━━━━━━━━━━━━━━━\u001b[0m\u001b[37m\u001b[0m \u001b[1m13s\u001b[0m 225ms/step - accuracy: 0.9666 - loss: 0.1013 - precision: 0.9697 - recall: 0.9659 - val_accuracy: 0.8065 - val_loss: 1.4982 - val_precision: 0.8115 - val_recall: 0.7984\n",
      "Epoch 23/30\n",
      "\u001b[1m55/55\u001b[0m \u001b[32m━━━━━━━━━━━━━━━━━━━━\u001b[0m\u001b[37m\u001b[0m \u001b[1m12s\u001b[0m 222ms/step - accuracy: 0.9654 - loss: 0.1023 - precision: 0.9678 - recall: 0.9563 - val_accuracy: 0.8145 - val_loss: 1.7440 - val_precision: 0.8130 - val_recall: 0.8065\n",
      "Epoch 24/30\n",
      "\u001b[1m55/55\u001b[0m \u001b[32m━━━━━━━━━━━━━━━━━━━━\u001b[0m\u001b[37m\u001b[0m \u001b[1m12s\u001b[0m 220ms/step - accuracy: 0.9710 - loss: 0.0808 - precision: 0.9712 - recall: 0.9694 - val_accuracy: 0.7581 - val_loss: 1.9318 - val_precision: 0.7581 - val_recall: 0.7581\n",
      "Epoch 25/30\n",
      "\u001b[1m55/55\u001b[0m \u001b[32m━━━━━━━━━━━━━━━━━━━━\u001b[0m\u001b[37m\u001b[0m \u001b[1m12s\u001b[0m 221ms/step - accuracy: 0.8804 - loss: 0.2933 - precision: 0.8967 - recall: 0.8647 - val_accuracy: 0.7823 - val_loss: 1.5158 - val_precision: 0.7851 - val_recall: 0.7661\n",
      "Epoch 26/30\n",
      "\u001b[1m55/55\u001b[0m \u001b[32m━━━━━━━━━━━━━━━━━━━━\u001b[0m\u001b[37m\u001b[0m \u001b[1m12s\u001b[0m 220ms/step - accuracy: 0.9410 - loss: 0.1857 - precision: 0.9513 - recall: 0.9309 - val_accuracy: 0.7258 - val_loss: 2.1348 - val_precision: 0.7236 - val_recall: 0.7177\n",
      "Epoch 27/30\n",
      "\u001b[1m55/55\u001b[0m \u001b[32m━━━━━━━━━━━━━━━━━━━━\u001b[0m\u001b[37m\u001b[0m \u001b[1m12s\u001b[0m 221ms/step - accuracy: 0.9581 - loss: 0.1242 - precision: 0.9674 - recall: 0.9550 - val_accuracy: 0.8226 - val_loss: 1.5824 - val_precision: 0.8226 - val_recall: 0.8226\n",
      "Epoch 28/30\n",
      "\u001b[1m55/55\u001b[0m \u001b[32m━━━━━━━━━━━━━━━━━━━━\u001b[0m\u001b[37m\u001b[0m \u001b[1m12s\u001b[0m 220ms/step - accuracy: 0.9757 - loss: 0.0701 - precision: 0.9760 - recall: 0.9725 - val_accuracy: 0.7258 - val_loss: 2.0868 - val_precision: 0.7295 - val_recall: 0.7177\n",
      "Epoch 29/30\n",
      "\u001b[1m55/55\u001b[0m \u001b[32m━━━━━━━━━━━━━━━━━━━━\u001b[0m\u001b[37m\u001b[0m \u001b[1m12s\u001b[0m 220ms/step - accuracy: 0.9717 - loss: 0.0824 - precision: 0.9748 - recall: 0.9697 - val_accuracy: 0.8065 - val_loss: 1.8489 - val_precision: 0.8065 - val_recall: 0.8065\n",
      "Epoch 30/30\n",
      "\u001b[1m55/55\u001b[0m \u001b[32m━━━━━━━━━━━━━━━━━━━━\u001b[0m\u001b[37m\u001b[0m \u001b[1m12s\u001b[0m 222ms/step - accuracy: 0.9883 - loss: 0.0390 - precision: 0.9882 - recall: 0.9857 - val_accuracy: 0.7742 - val_loss: 1.9936 - val_precision: 0.7724 - val_recall: 0.7661\n",
      "Predicting on validation set...\n",
      "\u001b[1m4/4\u001b[0m \u001b[32m━━━━━━━━━━━━━━━━━━━━\u001b[0m\u001b[37m\u001b[0m \u001b[1m0s\u001b[0m 68ms/step\n",
      "Sending metrics to clearML...\n",
      "done\n"
     ]
    }
   ],
   "source": [
    "# combination 2: rotate 5 + rotate 20 250%\n",
    "task_name = 'r5,20'\n",
    "sub_project_name = 'ROTATE_20'\n",
    "\n",
    "augmentation_metadata = {\n",
    "        'methods': {        \n",
    "            'rotate': {\n",
    "                'parameters': {\n",
    "                    'angle_limit': 5, # Maximum angle of rotation\n",
    "                    'p': 1.0  # Probability of applying the augmentation\n",
    "                },\n",
    "                'apply_to_percentage': 1.25  # 50% of the training images\n",
    "            },\n",
    "            'rotate2': {\n",
    "                'parameters': {\n",
    "                    'angle_limit': 20, # Maximum angle of rotation\n",
    "                    'p': 1.0  # Probability of applying the augmentation\n",
    "                },\n",
    "                'apply_to_percentage': 1.25  # 50% of the training images\n",
    "            }        \n",
    "        }\n",
    "    }\n",
    "\n",
    "\n",
    "for i in range(N):\n",
    "    RUN = i + 1\n",
    "    try:\n",
    "        print(f\"Starting RUN: {RUN}\")\n",
    "        main(RUN, augmentation_metadata, task_name, sub_project_name, epochs, train_size, w1, w2)\n",
    "    except Exception as e:\n",
    "        print(f\"Error in RUN: {RUN}\")\n",
    "        print(e)\n",
    "        break\n",
    "    finally:\n",
    "        clear_output(wait=True)  # Clear the output to avoid scrolling\n",
    "        gc.collect()  # Collect garbage to avoid memory leaks"
   ]
  },
  {
   "cell_type": "code",
   "execution_count": 30,
   "metadata": {},
   "outputs": [
    {
     "name": "stdout",
     "output_type": "stream",
     "text": [
      "Starting RUN: 5\n",
      "Seed:  3210598688\n",
      "Num GPUs Available:  0\n"
     ]
    },
    {
     "name": "stderr",
     "output_type": "stream",
     "text": [
      "c:\\github\\Third-Year-Project\\Intruder-Aircraft-Detection\\main\\tl_clf.py:82: SettingWithCopyWarning:\n",
      "\n",
      "\n",
      "A value is trying to be set on a copy of a slice from a DataFrame.\n",
      "Try using .loc[row_indexer,col_indexer] = value instead\n",
      "\n",
      "See the caveats in the documentation: https://pandas.pydata.org/pandas-docs/stable/user_guide/indexing.html#returning-a-view-versus-a-copy\n",
      "\n",
      "c:\\github\\Third-Year-Project\\Intruder-Aircraft-Detection\\main\\tl_clf.py:83: SettingWithCopyWarning:\n",
      "\n",
      "\n",
      "A value is trying to be set on a copy of a slice from a DataFrame.\n",
      "Try using .loc[row_indexer,col_indexer] = value instead\n",
      "\n",
      "See the caveats in the documentation: https://pandas.pydata.org/pandas-docs/stable/user_guide/indexing.html#returning-a-view-versus-a-copy\n",
      "\n"
     ]
    },
    {
     "name": "stdout",
     "output_type": "stream",
     "text": [
      "Removing dataset if pre-existing\n",
      "Copying training files:\n"
     ]
    },
    {
     "name": "stderr",
     "output_type": "stream",
     "text": [
      "Copying files: 100%|██████████| 1000/1000 [00:00<00:00, 1708.98it/s]\n"
     ]
    },
    {
     "name": "stdout",
     "output_type": "stream",
     "text": [
      "Copying validation files:\n"
     ]
    },
    {
     "name": "stderr",
     "output_type": "stream",
     "text": [
      "Copying files: 100%|██████████| 250/250 [00:00<00:00, 1474.69it/s]\n"
     ]
    },
    {
     "name": "stdout",
     "output_type": "stream",
     "text": [
      "Dataset 'weather_45_500' created at C:\\github\\Third-Year-Project\\Intruder-Aircraft-Detection\\datasets\\Custom\\weather_45_500\n",
      "Processing train labels in weather_45_500:\n"
     ]
    },
    {
     "name": "stderr",
     "output_type": "stream",
     "text": [
      "Processing labels: 100%|██████████| 500/500 [00:01<00:00, 337.80it/s]\n"
     ]
    },
    {
     "name": "stdout",
     "output_type": "stream",
     "text": [
      "Processing valid labels in weather_45_500:\n"
     ]
    },
    {
     "name": "stderr",
     "output_type": "stream",
     "text": [
      "Processing labels: 100%|██████████| 125/125 [00:00<00:00, 280.22it/s]\n"
     ]
    },
    {
     "name": "stdout",
     "output_type": "stream",
     "text": [
      "Label correction completed.\n"
     ]
    },
    {
     "name": "stderr",
     "output_type": "stream",
     "text": [
      "Removing existing directories/files: 100%|██████████| 3/3 [00:00<00:00, 6029.19it/s]\n",
      "Copying files: 100%|██████████| 500/500 [00:00<00:00, 1024.29it/s]\n",
      "Copying files: 100%|██████████| 500/500 [00:00<00:00, 1394.32it/s]\n",
      "Applying augmentations: 100%|██████████| 1250/1250 [00:25<00:00, 48.73it/s]\n"
     ]
    },
    {
     "name": "stdout",
     "output_type": "stream",
     "text": [
      "An error occurred: Expected y_min for bbox (0.2490575, -0.07570950000000001, 0.9783645000000001, 0.4104955, 1) to be in the range [0.0, 1.0], got -0.07570950000000001.\n",
      "An error occurred: Expected y_min for bbox (0.2490575, -0.07570950000000001, 0.9783645000000001, 0.4104955, 1) to be in the range [0.0, 1.0], got -0.07570950000000001.\n",
      "An error occurred: Expected y_max for bbox (0.3830585, 0.754232, 0.8080715, 1.037574, 1) to be in the range [0.0, 1.0], got 1.037574.\n",
      "An error occurred: Expected x_min for bbox (-0.02121799999999996, 0.4453045, 0.937496, 1.0844475, 1) to be in the range [0.0, 1.0], got -0.02121799999999996.\n",
      "An error occurred: Expected y_min for bbox (0.47015499999999993, -0.022556500000000007, 0.890417, 0.2576185, 1) to be in the range [0.0, 1.0], got -0.022556500000000007.\n",
      "An error occurred: Expected y_min for bbox (0.47015499999999993, -0.022556500000000007, 0.890417, 0.2576185, 1) to be in the range [0.0, 1.0], got -0.022556500000000007.\n",
      "An error occurred: Expected y_min for bbox (0.47015499999999993, -0.022556500000000007, 0.890417, 0.2576185, 1) to be in the range [0.0, 1.0], got -0.022556500000000007.\n",
      "An error occurred: Expected x_min for bbox (-0.02121799999999996, 0.4453045, 0.937496, 1.0844475, 1) to be in the range [0.0, 1.0], got -0.02121799999999996.\n",
      "An error occurred: Expected y_min for bbox (0.47015499999999993, -0.022556500000000007, 0.890417, 0.2576185, 1) to be in the range [0.0, 1.0], got -0.022556500000000007.\n",
      "An error occurred: Expected x_min for bbox (-0.02121799999999996, 0.4453045, 0.937496, 1.0844475, 1) to be in the range [0.0, 1.0], got -0.02121799999999996.\n",
      "An error occurred: Expected y_min for bbox (0.2490575, -0.07570950000000001, 0.9783645000000001, 0.4104955, 1) to be in the range [0.0, 1.0], got -0.07570950000000001.\n",
      "An error occurred: Expected y_max for bbox (0.3830585, 0.754232, 0.8080715, 1.037574, 1) to be in the range [0.0, 1.0], got 1.037574.\n"
     ]
    },
    {
     "name": "stderr",
     "output_type": "stream",
     "text": [
      "Processing images:   4%|▍         | 19/500 [00:01<00:28, 16.81it/s]"
     ]
    },
    {
     "name": "stdout",
     "output_type": "stream",
     "text": [
      "An error occurred with C:/github/Third-Year-Project/Intruder-Aircraft-Detection/datasets/Custom/weather_45_500\\images\\train\\28333.jpg: Expected y_min for bbox (0.47015499999999993, -0.022556500000000007, 0.890417, 0.2576185, 1) to be in the range [0.0, 1.0], got -0.022556500000000007.\n"
     ]
    },
    {
     "name": "stderr",
     "output_type": "stream",
     "text": [
      "Processing images:  11%|█         | 56/500 [00:02<00:14, 31.70it/s]"
     ]
    },
    {
     "name": "stdout",
     "output_type": "stream",
     "text": [
      "An error occurred with C:/github/Third-Year-Project/Intruder-Aircraft-Detection/datasets/Custom/weather_45_500\\images\\train\\28633.jpg: Expected x_min for bbox (-0.02121799999999996, 0.4453045, 0.937496, 1.0844475, 1) to be in the range [0.0, 1.0], got -0.02121799999999996.\n"
     ]
    },
    {
     "name": "stderr",
     "output_type": "stream",
     "text": [
      "Processing images:  16%|█▌        | 78/500 [00:03<00:11, 35.88it/s]"
     ]
    },
    {
     "name": "stdout",
     "output_type": "stream",
     "text": [
      "An error occurred with C:/github/Third-Year-Project/Intruder-Aircraft-Detection/datasets/Custom/weather_45_500\\images\\train\\28830.jpg: Expected y_max for bbox (0.3830585, 0.754232, 0.8080715, 1.037574, 1) to be in the range [0.0, 1.0], got 1.037574.\n",
      "An error occurred with C:/github/Third-Year-Project/Intruder-Aircraft-Detection/datasets/Custom/weather_45_500\\images\\train\\28857.jpg: Expected y_min for bbox (0.2490575, -0.07570950000000001, 0.9783645000000001, 0.4104955, 1) to be in the range [0.0, 1.0], got -0.07570950000000001.\n"
     ]
    },
    {
     "name": "stderr",
     "output_type": "stream",
     "text": [
      "Processing images:  78%|███████▊  | 391/500 [00:13<00:03, 34.96it/s]"
     ]
    },
    {
     "name": "stdout",
     "output_type": "stream",
     "text": [
      "An error occurred with C:/github/Third-Year-Project/Intruder-Aircraft-Detection/datasets/Custom/weather_45_500\\images\\train\\53264.jpg: Expected x_min for bbox (-0.12539900000000004, -0.1299795, 0.864633, 0.5300414999999999, 2) to be in the range [0.0, 1.0], got -0.12539900000000004.\n"
     ]
    },
    {
     "name": "stderr",
     "output_type": "stream",
     "text": [
      "Processing images: 100%|██████████| 500/500 [00:16<00:00, 30.61it/s]\n",
      "Processing images:   3%|▎         | 59/1738 [00:04<01:41, 16.51it/s]"
     ]
    },
    {
     "name": "stdout",
     "output_type": "stream",
     "text": [
      "An error occurred with C:/github/Third-Year-Project/Intruder-Aircraft-Detection/datasets/Custom/weather_45_500\\images\\train-aug\\28333.jpg: Expected y_min for bbox (0.47015499999999993, -0.022556500000000007, 0.890417, 0.2576185, 1) to be in the range [0.0, 1.0], got -0.022556500000000007.\n"
     ]
    },
    {
     "name": "stderr",
     "output_type": "stream",
     "text": [
      "Processing images:  11%|█         | 190/1738 [00:11<00:53, 29.19it/s]"
     ]
    },
    {
     "name": "stdout",
     "output_type": "stream",
     "text": [
      "An error occurred with C:/github/Third-Year-Project/Intruder-Aircraft-Detection/datasets/Custom/weather_45_500\\images\\train-aug\\28633.jpg: Expected x_min for bbox (-0.02121799999999996, 0.4453045, 0.937496, 1.0844475, 1) to be in the range [0.0, 1.0], got -0.02121799999999996.\n"
     ]
    },
    {
     "name": "stderr",
     "output_type": "stream",
     "text": [
      "Processing images:  15%|█▍        | 254/1738 [00:13<00:42, 34.94it/s]"
     ]
    },
    {
     "name": "stdout",
     "output_type": "stream",
     "text": [
      "An error occurred with C:/github/Third-Year-Project/Intruder-Aircraft-Detection/datasets/Custom/weather_45_500\\images\\train-aug\\28830.jpg: Expected y_max for bbox (0.3830585, 0.754232, 0.8080715, 1.037574, 1) to be in the range [0.0, 1.0], got 1.037574.\n"
     ]
    },
    {
     "name": "stderr",
     "output_type": "stream",
     "text": [
      "Processing images:  15%|█▌        | 267/1738 [00:13<00:40, 36.47it/s]"
     ]
    },
    {
     "name": "stdout",
     "output_type": "stream",
     "text": [
      "An error occurred with C:/github/Third-Year-Project/Intruder-Aircraft-Detection/datasets/Custom/weather_45_500\\images\\train-aug\\28857.jpg: Expected y_min for bbox (0.2490575, -0.07570950000000001, 0.9783645000000001, 0.4104955, 1) to be in the range [0.0, 1.0], got -0.07570950000000001.\n"
     ]
    },
    {
     "name": "stderr",
     "output_type": "stream",
     "text": [
      "Processing images:  78%|███████▊  | 1360/1738 [00:47<00:11, 33.75it/s]"
     ]
    },
    {
     "name": "stdout",
     "output_type": "stream",
     "text": [
      "An error occurred with C:/github/Third-Year-Project/Intruder-Aircraft-Detection/datasets/Custom/weather_45_500\\images\\train-aug\\53264.jpg: Expected x_min for bbox (-0.12539900000000004, -0.1299795, 0.864633, 0.5300414999999999, 2) to be in the range [0.0, 1.0], got -0.12539900000000004.\n"
     ]
    },
    {
     "name": "stderr",
     "output_type": "stream",
     "text": [
      "Processing images: 100%|██████████| 1738/1738 [00:59<00:00, 29.36it/s]\n",
      "Processing images:  18%|█▊        | 23/125 [00:01<00:03, 27.57it/s]"
     ]
    },
    {
     "name": "stdout",
     "output_type": "stream",
     "text": [
      "An error occurred with C:/github/Third-Year-Project/Intruder-Aircraft-Detection/datasets/Custom/weather_45_500\\images\\valid\\29918.jpg: Expected y_max for bbox (0.4077075, 0.7077145, 0.8470265, 1.0005935, 1) to be in the range [0.0, 1.0], got 1.0005935.\n"
     ]
    },
    {
     "name": "stderr",
     "output_type": "stream",
     "text": [
      "Processing images:  55%|█████▌    | 69/125 [00:02<00:01, 34.31it/s]"
     ]
    },
    {
     "name": "stdout",
     "output_type": "stream",
     "text": [
      "An error occurred with C:/github/Third-Year-Project/Intruder-Aircraft-Detection/datasets/Custom/weather_45_500\\images\\valid\\52916.jpg: In YOLO format all coordinates must be float and in range (0, 1]\n"
     ]
    },
    {
     "name": "stderr",
     "output_type": "stream",
     "text": [
      "Processing images:  78%|███████▊  | 98/125 [00:03<00:00, 34.69it/s]"
     ]
    },
    {
     "name": "stdout",
     "output_type": "stream",
     "text": [
      "An error occurred with C:/github/Third-Year-Project/Intruder-Aircraft-Detection/datasets/Custom/weather_45_500\\images\\valid\\53950.jpg: Expected y_min for bbox (0.15967549999999997, -0.06710449999999998, 0.9726885, 0.47490449999999995, 2) to be in the range [0.0, 1.0], got -0.06710449999999998.\n"
     ]
    },
    {
     "name": "stderr",
     "output_type": "stream",
     "text": [
      "Processing images: 100%|██████████| 125/125 [00:04<00:00, 29.99it/s]\n",
      "Moving images in train: 100%|██████████| 495/495 [00:01<00:00, 283.79it/s]\n",
      "Moving images in train-aug: 100%|██████████| 1733/1733 [00:05<00:00, 292.86it/s]\n",
      "Moving images in valid: 100%|██████████| 122/122 [00:00<00:00, 284.14it/s]\n"
     ]
    },
    {
     "name": "stdout",
     "output_type": "stream",
     "text": [
      "Found 495 files belonging to 3 classes.\n",
      "Found 1733 files belonging to 3 classes.\n",
      "Found 122 files belonging to 3 classes.\n",
      "ClearML Task: created new task id=64cf49bbd780402b89d449de5bf1d9fe\n",
      "ClearML results page: https://app.clear.ml/projects/5a674be4cf0f473c808dd42f7b83358f/experiments/64cf49bbd780402b89d449de5bf1d9fe/output/log\n",
      "Training model...\n",
      "Epoch 1/30\n",
      "\u001b[1m16/16\u001b[0m \u001b[32m━━━━━━━━━━━━━━━━━━━━\u001b[0m\u001b[37m\u001b[0m \u001b[1m7s\u001b[0m 309ms/step - accuracy: 0.3155 - loss: 2.7230 - precision: 0.2808 - recall: 0.1869 - val_accuracy: 0.3279 - val_loss: 1.0987 - val_precision: 0.0000e+00 - val_recall: 0.0000e+00\n",
      "Epoch 2/30\n",
      "\u001b[1m16/16\u001b[0m \u001b[32m━━━━━━━━━━━━━━━━━━━━\u001b[0m\u001b[37m\u001b[0m \u001b[1m4s\u001b[0m 229ms/step - accuracy: 0.3119 - loss: 1.0991 - precision: 0.0000e+00 - recall: 0.0000e+00 - val_accuracy: 0.3279 - val_loss: 1.0990 - val_precision: 0.0000e+00 - val_recall: 0.0000e+00\n",
      "Epoch 3/30\n",
      "\u001b[1m16/16\u001b[0m \u001b[32m━━━━━━━━━━━━━━━━━━━━\u001b[0m\u001b[37m\u001b[0m \u001b[1m4s\u001b[0m 225ms/step - accuracy: 0.2573 - loss: 1.1001 - precision: 0.0000e+00 - recall: 0.0000e+00 - val_accuracy: 0.3279 - val_loss: 1.0986 - val_precision: 0.0000e+00 - val_recall: 0.0000e+00\n",
      "Epoch 4/30\n",
      "\u001b[1m16/16\u001b[0m \u001b[32m━━━━━━━━━━━━━━━━━━━━\u001b[0m\u001b[37m\u001b[0m \u001b[1m4s\u001b[0m 226ms/step - accuracy: 0.2866 - loss: 1.0988 - precision: 0.0000e+00 - recall: 0.0000e+00 - val_accuracy: 0.3361 - val_loss: 1.0986 - val_precision: 0.0000e+00 - val_recall: 0.0000e+00\n",
      "Epoch 5/30\n",
      "\u001b[1m16/16\u001b[0m \u001b[32m━━━━━━━━━━━━━━━━━━━━\u001b[0m\u001b[37m\u001b[0m \u001b[1m4s\u001b[0m 222ms/step - accuracy: 0.3696 - loss: 1.0981 - precision: 0.0000e+00 - recall: 0.0000e+00 - val_accuracy: 0.3279 - val_loss: 1.0987 - val_precision: 0.0000e+00 - val_recall: 0.0000e+00\n",
      "Epoch 6/30\n",
      "\u001b[1m16/16\u001b[0m \u001b[32m━━━━━━━━━━━━━━━━━━━━\u001b[0m\u001b[37m\u001b[0m \u001b[1m4s\u001b[0m 223ms/step - accuracy: 0.3226 - loss: 1.0987 - precision: 0.0000e+00 - recall: 0.0000e+00 - val_accuracy: 0.3279 - val_loss: 1.0986 - val_precision: 0.0000e+00 - val_recall: 0.0000e+00\n",
      "Epoch 7/30\n",
      "\u001b[1m16/16\u001b[0m \u001b[32m━━━━━━━━━━━━━━━━━━━━\u001b[0m\u001b[37m\u001b[0m \u001b[1m4s\u001b[0m 229ms/step - accuracy: 0.3272 - loss: 1.0985 - precision: 0.0000e+00 - recall: 0.0000e+00 - val_accuracy: 0.3279 - val_loss: 1.0986 - val_precision: 0.0000e+00 - val_recall: 0.0000e+00\n",
      "Epoch 8/30\n",
      "\u001b[1m16/16\u001b[0m \u001b[32m━━━━━━━━━━━━━━━━━━━━\u001b[0m\u001b[37m\u001b[0m \u001b[1m4s\u001b[0m 224ms/step - accuracy: 0.3121 - loss: 1.0988 - precision: 0.0000e+00 - recall: 0.0000e+00 - val_accuracy: 0.4426 - val_loss: 1.0986 - val_precision: 0.0000e+00 - val_recall: 0.0000e+00\n",
      "Epoch 9/30\n",
      "\u001b[1m16/16\u001b[0m \u001b[32m━━━━━━━━━━━━━━━━━━━━\u001b[0m\u001b[37m\u001b[0m \u001b[1m4s\u001b[0m 224ms/step - accuracy: 0.3695 - loss: 1.0979 - precision: 0.0000e+00 - recall: 0.0000e+00 - val_accuracy: 0.3279 - val_loss: 1.0987 - val_precision: 0.0000e+00 - val_recall: 0.0000e+00\n",
      "Epoch 10/30\n",
      "\u001b[1m16/16\u001b[0m \u001b[32m━━━━━━━━━━━━━━━━━━━━\u001b[0m\u001b[37m\u001b[0m \u001b[1m4s\u001b[0m 222ms/step - accuracy: 0.3166 - loss: 1.0985 - precision: 0.0000e+00 - recall: 0.0000e+00 - val_accuracy: 0.3279 - val_loss: 1.0987 - val_precision: 0.0000e+00 - val_recall: 0.0000e+00\n",
      "Epoch 11/30\n",
      "\u001b[1m16/16\u001b[0m \u001b[32m━━━━━━━━━━━━━━━━━━━━\u001b[0m\u001b[37m\u001b[0m \u001b[1m4s\u001b[0m 245ms/step - accuracy: 0.3058 - loss: 1.0989 - precision: 0.0000e+00 - recall: 0.0000e+00 - val_accuracy: 0.3033 - val_loss: 1.0986 - val_precision: 0.0000e+00 - val_recall: 0.0000e+00\n",
      "Epoch 12/30\n",
      "\u001b[1m16/16\u001b[0m \u001b[32m━━━━━━━━━━━━━━━━━━━━\u001b[0m\u001b[37m\u001b[0m \u001b[1m5s\u001b[0m 278ms/step - accuracy: 0.3500 - loss: 1.0983 - precision: 0.0000e+00 - recall: 0.0000e+00 - val_accuracy: 0.3279 - val_loss: 1.0986 - val_precision: 0.0000e+00 - val_recall: 0.0000e+00\n",
      "Epoch 13/30\n",
      "\u001b[1m16/16\u001b[0m \u001b[32m━━━━━━━━━━━━━━━━━━━━\u001b[0m\u001b[37m\u001b[0m \u001b[1m4s\u001b[0m 225ms/step - accuracy: 0.3305 - loss: 1.0983 - precision: 0.0000e+00 - recall: 0.0000e+00 - val_accuracy: 0.3197 - val_loss: 1.0985 - val_precision: 0.0000e+00 - val_recall: 0.0000e+00\n",
      "Epoch 14/30\n",
      "\u001b[1m16/16\u001b[0m \u001b[32m━━━━━━━━━━━━━━━━━━━━\u001b[0m\u001b[37m\u001b[0m \u001b[1m4s\u001b[0m 228ms/step - accuracy: 0.3512 - loss: 1.0989 - precision: 0.0000e+00 - recall: 0.0000e+00 - val_accuracy: 0.3279 - val_loss: 1.0987 - val_precision: 0.0000e+00 - val_recall: 0.0000e+00\n",
      "Epoch 15/30\n",
      "\u001b[1m16/16\u001b[0m \u001b[32m━━━━━━━━━━━━━━━━━━━━\u001b[0m\u001b[37m\u001b[0m \u001b[1m4s\u001b[0m 227ms/step - accuracy: 0.3170 - loss: 1.0985 - precision: 0.0000e+00 - recall: 0.0000e+00 - val_accuracy: 0.3770 - val_loss: 1.0983 - val_precision: 0.0000e+00 - val_recall: 0.0000e+00\n",
      "Epoch 16/30\n",
      "\u001b[1m16/16\u001b[0m \u001b[32m━━━━━━━━━━━━━━━━━━━━\u001b[0m\u001b[37m\u001b[0m \u001b[1m4s\u001b[0m 221ms/step - accuracy: 0.3150 - loss: 1.0984 - precision: 0.0000e+00 - recall: 0.0000e+00 - val_accuracy: 0.3770 - val_loss: 1.0980 - val_precision: 0.0000e+00 - val_recall: 0.0000e+00\n",
      "Epoch 17/30\n",
      "\u001b[1m16/16\u001b[0m \u001b[32m━━━━━━━━━━━━━━━━━━━━\u001b[0m\u001b[37m\u001b[0m \u001b[1m4s\u001b[0m 221ms/step - accuracy: 0.3626 - loss: 1.0981 - precision: 0.0000e+00 - recall: 0.0000e+00 - val_accuracy: 0.4180 - val_loss: 1.0981 - val_precision: 0.0000e+00 - val_recall: 0.0000e+00\n",
      "Epoch 18/30\n",
      "\u001b[1m16/16\u001b[0m \u001b[32m━━━━━━━━━━━━━━━━━━━━\u001b[0m\u001b[37m\u001b[0m \u001b[1m4s\u001b[0m 226ms/step - accuracy: 0.3283 - loss: 1.0982 - precision: 0.0000e+00 - recall: 0.0000e+00 - val_accuracy: 0.4672 - val_loss: 1.0978 - val_precision: 0.0000e+00 - val_recall: 0.0000e+00\n",
      "Epoch 19/30\n",
      "\u001b[1m16/16\u001b[0m \u001b[32m━━━━━━━━━━━━━━━━━━━━\u001b[0m\u001b[37m\u001b[0m \u001b[1m4s\u001b[0m 222ms/step - accuracy: 0.3986 - loss: 1.0965 - precision: 0.0000e+00 - recall: 0.0000e+00 - val_accuracy: 0.3361 - val_loss: 1.1035 - val_precision: 0.0000e+00 - val_recall: 0.0000e+00\n",
      "Epoch 20/30\n",
      "\u001b[1m16/16\u001b[0m \u001b[32m━━━━━━━━━━━━━━━━━━━━\u001b[0m\u001b[37m\u001b[0m \u001b[1m4s\u001b[0m 224ms/step - accuracy: 0.3719 - loss: 1.0936 - precision: 0.0000e+00 - recall: 0.0000e+00 - val_accuracy: 0.3361 - val_loss: 1.1956 - val_precision: 0.3288 - val_recall: 0.1967\n",
      "Epoch 21/30\n",
      "\u001b[1m16/16\u001b[0m \u001b[32m━━━━━━━━━━━━━━━━━━━━\u001b[0m\u001b[37m\u001b[0m \u001b[1m4s\u001b[0m 230ms/step - accuracy: 0.4816 - loss: 1.1139 - precision: 0.2632 - recall: 0.0317 - val_accuracy: 0.5164 - val_loss: 1.0565 - val_precision: 0.0000e+00 - val_recall: 0.0000e+00\n",
      "Epoch 22/30\n",
      "\u001b[1m16/16\u001b[0m \u001b[32m━━━━━━━━━━━━━━━━━━━━\u001b[0m\u001b[37m\u001b[0m \u001b[1m4s\u001b[0m 222ms/step - accuracy: 0.4292 - loss: 1.0755 - precision: 0.0000e+00 - recall: 0.0000e+00 - val_accuracy: 0.3689 - val_loss: 1.0921 - val_precision: 0.0000e+00 - val_recall: 0.0000e+00\n",
      "Epoch 23/30\n",
      "\u001b[1m16/16\u001b[0m \u001b[32m━━━━━━━━━━━━━━━━━━━━\u001b[0m\u001b[37m\u001b[0m \u001b[1m4s\u001b[0m 225ms/step - accuracy: 0.4805 - loss: 1.0653 - precision: 0.4063 - recall: 0.0190 - val_accuracy: 0.5820 - val_loss: 0.9311 - val_precision: 0.8409 - val_recall: 0.3033\n",
      "Epoch 24/30\n",
      "\u001b[1m16/16\u001b[0m \u001b[32m━━━━━━━━━━━━━━━━━━━━\u001b[0m\u001b[37m\u001b[0m \u001b[1m4s\u001b[0m 228ms/step - accuracy: 0.5681 - loss: 0.9588 - precision: 0.6921 - recall: 0.1728 - val_accuracy: 0.5738 - val_loss: 0.9658 - val_precision: 0.9286 - val_recall: 0.1066\n",
      "Epoch 25/30\n",
      "\u001b[1m16/16\u001b[0m \u001b[32m━━━━━━━━━━━━━━━━━━━━\u001b[0m\u001b[37m\u001b[0m \u001b[1m4s\u001b[0m 222ms/step - accuracy: 0.5917 - loss: 0.9078 - precision: 0.7386 - recall: 0.2830 - val_accuracy: 0.5656 - val_loss: 0.9784 - val_precision: 0.9444 - val_recall: 0.1393\n",
      "Epoch 26/30\n",
      "\u001b[1m16/16\u001b[0m \u001b[32m━━━━━━━━━━━━━━━━━━━━\u001b[0m\u001b[37m\u001b[0m \u001b[1m4s\u001b[0m 223ms/step - accuracy: 0.6217 - loss: 0.9180 - precision: 0.8160 - recall: 0.2364 - val_accuracy: 0.7295 - val_loss: 0.7512 - val_precision: 0.8727 - val_recall: 0.3934\n",
      "Epoch 27/30\n",
      "\u001b[1m16/16\u001b[0m \u001b[32m━━━━━━━━━━━━━━━━━━━━\u001b[0m\u001b[37m\u001b[0m \u001b[1m4s\u001b[0m 225ms/step - accuracy: 0.6401 - loss: 0.9030 - precision: 0.7172 - recall: 0.4510 - val_accuracy: 0.5820 - val_loss: 0.8645 - val_precision: 0.8333 - val_recall: 0.2869\n",
      "Epoch 28/30\n",
      "\u001b[1m16/16\u001b[0m \u001b[32m━━━━━━━━━━━━━━━━━━━━\u001b[0m\u001b[37m\u001b[0m \u001b[1m4s\u001b[0m 224ms/step - accuracy: 0.6487 - loss: 0.8052 - precision: 0.7697 - recall: 0.4630 - val_accuracy: 0.6639 - val_loss: 0.7993 - val_precision: 0.8511 - val_recall: 0.3279\n",
      "Epoch 29/30\n",
      "\u001b[1m16/16\u001b[0m \u001b[32m━━━━━━━━━━━━━━━━━━━━\u001b[0m\u001b[37m\u001b[0m \u001b[1m4s\u001b[0m 235ms/step - accuracy: 0.6393 - loss: 0.7702 - precision: 0.7321 - recall: 0.4700 - val_accuracy: 0.6230 - val_loss: 0.7393 - val_precision: 0.6989 - val_recall: 0.5328\n",
      "Epoch 30/30\n",
      "\u001b[1m16/16\u001b[0m \u001b[32m━━━━━━━━━━━━━━━━━━━━\u001b[0m\u001b[37m\u001b[0m \u001b[1m4s\u001b[0m 228ms/step - accuracy: 0.7128 - loss: 0.6685 - precision: 0.7889 - recall: 0.6418 - val_accuracy: 0.5984 - val_loss: 0.8736 - val_precision: 0.7959 - val_recall: 0.3197\n",
      "Predicting on validation set...\n",
      "\u001b[1m4/4\u001b[0m \u001b[32m━━━━━━━━━━━━━━━━━━━━\u001b[0m\u001b[37m\u001b[0m \u001b[1m0s\u001b[0m 62ms/step\n",
      "Sending metrics to clearML...\n",
      "done\n",
      "ClearML Task: created new task id=4af496bb3dd8485abc9d77167be968e0\n",
      "ClearML results page: https://app.clear.ml/projects/5a674be4cf0f473c808dd42f7b83358f/experiments/4af496bb3dd8485abc9d77167be968e0/output/log\n",
      "Training model...\n",
      "Epoch 1/30\n",
      "\u001b[1m55/55\u001b[0m \u001b[32m━━━━━━━━━━━━━━━━━━━━\u001b[0m\u001b[37m\u001b[0m \u001b[1m16s\u001b[0m 251ms/step - accuracy: 0.3393 - loss: 1.7449 - precision: 0.3531 - recall: 0.0983 - val_accuracy: 0.3361 - val_loss: 1.0993 - val_precision: 0.0000e+00 - val_recall: 0.0000e+00\n",
      "Epoch 2/30\n",
      "\u001b[1m55/55\u001b[0m \u001b[32m━━━━━━━━━━━━━━━━━━━━\u001b[0m\u001b[37m\u001b[0m \u001b[1m12s\u001b[0m 222ms/step - accuracy: 0.4051 - loss: 1.0641 - precision: 0.5875 - recall: 0.0703 - val_accuracy: 0.3279 - val_loss: 2.9213 - val_precision: 0.3279 - val_recall: 0.3279\n",
      "Epoch 3/30\n",
      "\u001b[1m55/55\u001b[0m \u001b[32m━━━━━━━━━━━━━━━━━━━━\u001b[0m\u001b[37m\u001b[0m \u001b[1m13s\u001b[0m 225ms/step - accuracy: 0.4599 - loss: 1.2113 - precision: 0.5025 - recall: 0.1184 - val_accuracy: 0.6148 - val_loss: 0.9873 - val_precision: 0.7368 - val_recall: 0.1148\n",
      "Epoch 4/30\n",
      "\u001b[1m55/55\u001b[0m \u001b[32m━━━━━━━━━━━━━━━━━━━━\u001b[0m\u001b[37m\u001b[0m \u001b[1m14s\u001b[0m 242ms/step - accuracy: 0.6069 - loss: 0.8794 - precision: 0.7395 - recall: 0.3490 - val_accuracy: 0.6230 - val_loss: 0.8377 - val_precision: 0.6905 - val_recall: 0.4754\n",
      "Epoch 5/30\n",
      "\u001b[1m55/55\u001b[0m \u001b[32m━━━━━━━━━━━━━━━━━━━━\u001b[0m\u001b[37m\u001b[0m \u001b[1m12s\u001b[0m 222ms/step - accuracy: 0.6725 - loss: 0.7500 - precision: 0.7333 - recall: 0.5302 - val_accuracy: 0.6885 - val_loss: 0.6526 - val_precision: 0.7383 - val_recall: 0.6475\n",
      "Epoch 6/30\n",
      "\u001b[1m55/55\u001b[0m \u001b[32m━━━━━━━━━━━━━━━━━━━━\u001b[0m\u001b[37m\u001b[0m \u001b[1m12s\u001b[0m 220ms/step - accuracy: 0.7513 - loss: 0.5656 - precision: 0.7881 - recall: 0.7030 - val_accuracy: 0.7295 - val_loss: 0.6445 - val_precision: 0.7850 - val_recall: 0.6885\n",
      "Epoch 7/30\n",
      "\u001b[1m55/55\u001b[0m \u001b[32m━━━━━━━━━━━━━━━━━━━━\u001b[0m\u001b[37m\u001b[0m \u001b[1m12s\u001b[0m 222ms/step - accuracy: 0.7983 - loss: 0.4762 - precision: 0.8252 - recall: 0.7637 - val_accuracy: 0.7705 - val_loss: 0.5941 - val_precision: 0.7712 - val_recall: 0.7459\n",
      "Epoch 8/30\n",
      "\u001b[1m55/55\u001b[0m \u001b[32m━━━━━━━━━━━━━━━━━━━━\u001b[0m\u001b[37m\u001b[0m \u001b[1m13s\u001b[0m 222ms/step - accuracy: 0.8358 - loss: 0.3958 - precision: 0.8566 - recall: 0.8166 - val_accuracy: 0.7705 - val_loss: 0.6160 - val_precision: 0.7797 - val_recall: 0.7541\n",
      "Epoch 9/30\n",
      "\u001b[1m55/55\u001b[0m \u001b[32m━━━━━━━━━━━━━━━━━━━━\u001b[0m\u001b[37m\u001b[0m \u001b[1m13s\u001b[0m 223ms/step - accuracy: 0.8025 - loss: 0.5129 - precision: 0.8349 - recall: 0.7480 - val_accuracy: 0.7951 - val_loss: 0.6037 - val_precision: 0.8017 - val_recall: 0.7623\n",
      "Epoch 10/30\n",
      "\u001b[1m55/55\u001b[0m \u001b[32m━━━━━━━━━━━━━━━━━━━━\u001b[0m\u001b[37m\u001b[0m \u001b[1m12s\u001b[0m 221ms/step - accuracy: 0.8713 - loss: 0.3011 - precision: 0.8893 - recall: 0.8648 - val_accuracy: 0.7951 - val_loss: 0.5620 - val_precision: 0.8067 - val_recall: 0.7869\n",
      "Epoch 11/30\n",
      "\u001b[1m55/55\u001b[0m \u001b[32m━━━━━━━━━━━━━━━━━━━━\u001b[0m\u001b[37m\u001b[0m \u001b[1m12s\u001b[0m 220ms/step - accuracy: 0.9070 - loss: 0.2371 - precision: 0.9222 - recall: 0.8940 - val_accuracy: 0.8115 - val_loss: 0.5458 - val_precision: 0.8182 - val_recall: 0.8115\n",
      "Epoch 12/30\n",
      "\u001b[1m55/55\u001b[0m \u001b[32m━━━━━━━━━━━━━━━━━━━━\u001b[0m\u001b[37m\u001b[0m \u001b[1m13s\u001b[0m 226ms/step - accuracy: 0.9059 - loss: 0.2289 - precision: 0.9159 - recall: 0.8978 - val_accuracy: 0.8197 - val_loss: 0.6397 - val_precision: 0.8197 - val_recall: 0.8197\n",
      "Epoch 13/30\n",
      "\u001b[1m55/55\u001b[0m \u001b[32m━━━━━━━━━━━━━━━━━━━━\u001b[0m\u001b[37m\u001b[0m \u001b[1m12s\u001b[0m 220ms/step - accuracy: 0.9268 - loss: 0.1947 - precision: 0.9325 - recall: 0.9169 - val_accuracy: 0.8361 - val_loss: 0.6069 - val_precision: 0.8361 - val_recall: 0.8361\n",
      "Epoch 14/30\n",
      "\u001b[1m55/55\u001b[0m \u001b[32m━━━━━━━━━━━━━━━━━━━━\u001b[0m\u001b[37m\u001b[0m \u001b[1m12s\u001b[0m 221ms/step - accuracy: 0.9457 - loss: 0.1429 - precision: 0.9508 - recall: 0.9419 - val_accuracy: 0.8115 - val_loss: 0.6781 - val_precision: 0.8115 - val_recall: 0.8115\n",
      "Epoch 15/30\n",
      "\u001b[1m55/55\u001b[0m \u001b[32m━━━━━━━━━━━━━━━━━━━━\u001b[0m\u001b[37m\u001b[0m \u001b[1m12s\u001b[0m 222ms/step - accuracy: 0.9392 - loss: 0.1590 - precision: 0.9447 - recall: 0.9346 - val_accuracy: 0.7295 - val_loss: 0.9776 - val_precision: 0.7479 - val_recall: 0.7295\n",
      "Epoch 16/30\n",
      "\u001b[1m55/55\u001b[0m \u001b[32m━━━━━━━━━━━━━━━━━━━━\u001b[0m\u001b[37m\u001b[0m \u001b[1m12s\u001b[0m 222ms/step - accuracy: 0.9354 - loss: 0.1711 - precision: 0.9425 - recall: 0.9268 - val_accuracy: 0.7951 - val_loss: 0.8733 - val_precision: 0.7934 - val_recall: 0.7869\n",
      "Epoch 17/30\n",
      "\u001b[1m55/55\u001b[0m \u001b[32m━━━━━━━━━━━━━━━━━━━━\u001b[0m\u001b[37m\u001b[0m \u001b[1m12s\u001b[0m 221ms/step - accuracy: 0.9531 - loss: 0.1305 - precision: 0.9594 - recall: 0.9509 - val_accuracy: 0.8279 - val_loss: 0.6840 - val_precision: 0.8264 - val_recall: 0.8197\n",
      "Epoch 18/30\n",
      "\u001b[1m55/55\u001b[0m \u001b[32m━━━━━━━━━━━━━━━━━━━━\u001b[0m\u001b[37m\u001b[0m \u001b[1m12s\u001b[0m 220ms/step - accuracy: 0.9485 - loss: 0.1318 - precision: 0.9574 - recall: 0.9432 - val_accuracy: 0.7951 - val_loss: 0.7797 - val_precision: 0.7983 - val_recall: 0.7787\n",
      "Epoch 19/30\n",
      "\u001b[1m55/55\u001b[0m \u001b[32m━━━━━━━━━━━━━━━━━━━━\u001b[0m\u001b[37m\u001b[0m \u001b[1m12s\u001b[0m 221ms/step - accuracy: 0.9353 - loss: 0.1742 - precision: 0.9393 - recall: 0.9266 - val_accuracy: 0.8033 - val_loss: 0.7551 - val_precision: 0.8099 - val_recall: 0.8033\n",
      "Epoch 20/30\n",
      "\u001b[1m55/55\u001b[0m \u001b[32m━━━━━━━━━━━━━━━━━━━━\u001b[0m\u001b[37m\u001b[0m \u001b[1m12s\u001b[0m 222ms/step - accuracy: 0.9676 - loss: 0.0891 - precision: 0.9703 - recall: 0.9653 - val_accuracy: 0.8279 - val_loss: 0.8112 - val_precision: 0.8279 - val_recall: 0.8279\n",
      "Epoch 21/30\n",
      "\u001b[1m55/55\u001b[0m \u001b[32m━━━━━━━━━━━━━━━━━━━━\u001b[0m\u001b[37m\u001b[0m \u001b[1m12s\u001b[0m 221ms/step - accuracy: 0.9694 - loss: 0.0721 - precision: 0.9709 - recall: 0.9671 - val_accuracy: 0.8361 - val_loss: 0.6650 - val_precision: 0.8361 - val_recall: 0.8361\n",
      "Epoch 22/30\n",
      "\u001b[1m55/55\u001b[0m \u001b[32m━━━━━━━━━━━━━━━━━━━━\u001b[0m\u001b[37m\u001b[0m \u001b[1m12s\u001b[0m 221ms/step - accuracy: 0.9778 - loss: 0.0654 - precision: 0.9804 - recall: 0.9765 - val_accuracy: 0.8197 - val_loss: 0.7888 - val_precision: 0.8197 - val_recall: 0.8197\n",
      "Epoch 23/30\n",
      "\u001b[1m55/55\u001b[0m \u001b[32m━━━━━━━━━━━━━━━━━━━━\u001b[0m\u001b[37m\u001b[0m \u001b[1m12s\u001b[0m 222ms/step - accuracy: 0.9817 - loss: 0.0644 - precision: 0.9833 - recall: 0.9785 - val_accuracy: 0.8443 - val_loss: 0.6536 - val_precision: 0.8512 - val_recall: 0.8443\n",
      "Epoch 24/30\n",
      "\u001b[1m55/55\u001b[0m \u001b[32m━━━━━━━━━━━━━━━━━━━━\u001b[0m\u001b[37m\u001b[0m \u001b[1m12s\u001b[0m 222ms/step - accuracy: 0.9659 - loss: 0.0881 - precision: 0.9731 - recall: 0.9629 - val_accuracy: 0.8361 - val_loss: 0.7351 - val_precision: 0.8361 - val_recall: 0.8361\n",
      "Epoch 25/30\n",
      "\u001b[1m55/55\u001b[0m \u001b[32m━━━━━━━━━━━━━━━━━━━━\u001b[0m\u001b[37m\u001b[0m \u001b[1m12s\u001b[0m 221ms/step - accuracy: 0.9740 - loss: 0.0816 - precision: 0.9768 - recall: 0.9682 - val_accuracy: 0.8279 - val_loss: 0.8110 - val_precision: 0.8264 - val_recall: 0.8197\n",
      "Epoch 26/30\n",
      "\u001b[1m55/55\u001b[0m \u001b[32m━━━━━━━━━━━━━━━━━━━━\u001b[0m\u001b[37m\u001b[0m \u001b[1m12s\u001b[0m 220ms/step - accuracy: 0.9737 - loss: 0.0728 - precision: 0.9756 - recall: 0.9699 - val_accuracy: 0.8197 - val_loss: 0.8333 - val_precision: 0.8197 - val_recall: 0.8197\n",
      "Epoch 27/30\n",
      "\u001b[1m55/55\u001b[0m \u001b[32m━━━━━━━━━━━━━━━━━━━━\u001b[0m\u001b[37m\u001b[0m \u001b[1m13s\u001b[0m 227ms/step - accuracy: 0.9770 - loss: 0.0607 - precision: 0.9795 - recall: 0.9756 - val_accuracy: 0.8525 - val_loss: 0.8590 - val_precision: 0.8512 - val_recall: 0.8443\n",
      "Epoch 28/30\n",
      "\u001b[1m55/55\u001b[0m \u001b[32m━━━━━━━━━━━━━━━━━━━━\u001b[0m\u001b[37m\u001b[0m \u001b[1m12s\u001b[0m 222ms/step - accuracy: 0.9846 - loss: 0.0438 - precision: 0.9860 - recall: 0.9819 - val_accuracy: 0.8279 - val_loss: 1.0795 - val_precision: 0.8347 - val_recall: 0.8279\n",
      "Epoch 29/30\n",
      "\u001b[1m55/55\u001b[0m \u001b[32m━━━━━━━━━━━━━━━━━━━━\u001b[0m\u001b[37m\u001b[0m \u001b[1m13s\u001b[0m 222ms/step - accuracy: 0.9835 - loss: 0.0452 - precision: 0.9835 - recall: 0.9828 - val_accuracy: 0.8689 - val_loss: 0.8755 - val_precision: 0.8678 - val_recall: 0.8607\n",
      "Epoch 30/30\n",
      "\u001b[1m55/55\u001b[0m \u001b[32m━━━━━━━━━━━━━━━━━━━━\u001b[0m\u001b[37m\u001b[0m \u001b[1m12s\u001b[0m 222ms/step - accuracy: 0.9875 - loss: 0.0625 - precision: 0.9881 - recall: 0.9856 - val_accuracy: 0.8607 - val_loss: 0.8376 - val_precision: 0.8607 - val_recall: 0.8607\n",
      "Predicting on validation set...\n",
      "\u001b[1m4/4\u001b[0m \u001b[32m━━━━━━━━━━━━━━━━━━━━\u001b[0m\u001b[37m\u001b[0m \u001b[1m0s\u001b[0m 64ms/step\n",
      "Sending metrics to clearML...\n",
      "done\n"
     ]
    }
   ],
   "source": [
    "# combination 1: rotate 5 250%\n",
    "task_name = 'r5'\n",
    "sub_project_name = 'ROTATE'\n",
    "\n",
    "augmentation_metadata = {\n",
    "        'methods': {        \n",
    "            'rotate': {\n",
    "                'parameters': {\n",
    "                    'angle_limit': 5, # Maximum angle of rotation\n",
    "                    'p': 1.0  # Probability of applying the augmentation\n",
    "                },\n",
    "                'apply_to_percentage': 2.5  # 50% of the training images\n",
    "            }        \n",
    "        }\n",
    "    }\n",
    "\n",
    "\n",
    "for i in range(N):\n",
    "    RUN = i + 1\n",
    "    try:\n",
    "        print(f\"Starting RUN: {RUN}\")\n",
    "        main(RUN, augmentation_metadata, task_name, sub_project_name, epochs, train_size, w1, w2)\n",
    "    except Exception as e:\n",
    "        print(f\"Error in RUN: {RUN}\")\n",
    "        print(e)\n",
    "        break\n",
    "    finally:\n",
    "        clear_output(wait=True)  # Clear the output to avoid scrolling\n",
    "        gc.collect()  # Collect garbage to avoid memory leaks"
   ]
  },
  {
   "cell_type": "code",
   "execution_count": 31,
   "metadata": {},
   "outputs": [
    {
     "name": "stdout",
     "output_type": "stream",
     "text": [
      "Starting RUN: 5\n",
      "Seed:  3213977520\n",
      "Num GPUs Available:  0\n"
     ]
    },
    {
     "name": "stderr",
     "output_type": "stream",
     "text": [
      "c:\\github\\Third-Year-Project\\Intruder-Aircraft-Detection\\main\\tl_clf.py:82: SettingWithCopyWarning:\n",
      "\n",
      "\n",
      "A value is trying to be set on a copy of a slice from a DataFrame.\n",
      "Try using .loc[row_indexer,col_indexer] = value instead\n",
      "\n",
      "See the caveats in the documentation: https://pandas.pydata.org/pandas-docs/stable/user_guide/indexing.html#returning-a-view-versus-a-copy\n",
      "\n",
      "c:\\github\\Third-Year-Project\\Intruder-Aircraft-Detection\\main\\tl_clf.py:83: SettingWithCopyWarning:\n",
      "\n",
      "\n",
      "A value is trying to be set on a copy of a slice from a DataFrame.\n",
      "Try using .loc[row_indexer,col_indexer] = value instead\n",
      "\n",
      "See the caveats in the documentation: https://pandas.pydata.org/pandas-docs/stable/user_guide/indexing.html#returning-a-view-versus-a-copy\n",
      "\n"
     ]
    },
    {
     "name": "stdout",
     "output_type": "stream",
     "text": [
      "Removing dataset if pre-existing\n",
      "Copying training files:\n"
     ]
    },
    {
     "name": "stderr",
     "output_type": "stream",
     "text": [
      "Copying files: 100%|██████████| 1000/1000 [00:00<00:00, 1563.33it/s]\n"
     ]
    },
    {
     "name": "stdout",
     "output_type": "stream",
     "text": [
      "Copying validation files:\n"
     ]
    },
    {
     "name": "stderr",
     "output_type": "stream",
     "text": [
      "Copying files: 100%|██████████| 250/250 [00:00<00:00, 946.66it/s]\n"
     ]
    },
    {
     "name": "stdout",
     "output_type": "stream",
     "text": [
      "Dataset 'weather_45_500' created at C:\\github\\Third-Year-Project\\Intruder-Aircraft-Detection\\datasets\\Custom\\weather_45_500\n",
      "Processing train labels in weather_45_500:\n"
     ]
    },
    {
     "name": "stderr",
     "output_type": "stream",
     "text": [
      "Processing labels: 100%|██████████| 500/500 [00:01<00:00, 282.40it/s]\n"
     ]
    },
    {
     "name": "stdout",
     "output_type": "stream",
     "text": [
      "Processing valid labels in weather_45_500:\n"
     ]
    },
    {
     "name": "stderr",
     "output_type": "stream",
     "text": [
      "Processing labels: 100%|██████████| 125/125 [00:00<00:00, 247.69it/s]\n"
     ]
    },
    {
     "name": "stdout",
     "output_type": "stream",
     "text": [
      "Label correction completed.\n"
     ]
    },
    {
     "name": "stderr",
     "output_type": "stream",
     "text": [
      "Removing existing directories/files: 100%|██████████| 3/3 [00:00<00:00, 2997.36it/s]\n",
      "Copying files: 100%|██████████| 500/500 [00:00<00:00, 1054.52it/s]\n",
      "Copying files: 100%|██████████| 500/500 [00:00<00:00, 1455.27it/s]\n",
      "Applying augmentations: 100%|██████████| 1250/1250 [00:27<00:00, 44.66it/s]\n",
      "Processing images:  13%|█▎        | 64/500 [00:03<00:13, 32.73it/s]"
     ]
    },
    {
     "name": "stdout",
     "output_type": "stream",
     "text": [
      "An error occurred with C:/github/Third-Year-Project/Intruder-Aircraft-Detection/datasets/Custom/weather_45_500\\images\\train\\28706.jpg: In YOLO format all coordinates must be float and in range (0, 1]\n"
     ]
    },
    {
     "name": "stderr",
     "output_type": "stream",
     "text": [
      "Processing images: 100%|██████████| 500/500 [00:16<00:00, 30.64it/s]\n",
      "Processing images:  13%|█▎        | 223/1750 [00:12<00:41, 36.56it/s]"
     ]
    },
    {
     "name": "stdout",
     "output_type": "stream",
     "text": [
      "An error occurred with C:/github/Third-Year-Project/Intruder-Aircraft-Detection/datasets/Custom/weather_45_500\\images\\train-aug\\28706.jpg: In YOLO format all coordinates must be float and in range (0, 1]\n",
      "An error occurred with C:/github/Third-Year-Project/Intruder-Aircraft-Detection/datasets/Custom/weather_45_500\\images\\train-aug\\28706-bnc-07cf1e9e.jpg: In YOLO format all coordinates must be float and in range (0, 1]\n",
      "An error occurred with C:/github/Third-Year-Project/Intruder-Aircraft-Detection/datasets/Custom/weather_45_500\\images\\train-aug\\28706-bnc-c9027a9f.jpg: In YOLO format all coordinates must be float and in range (0, 1]\n"
     ]
    },
    {
     "name": "stderr",
     "output_type": "stream",
     "text": [
      "Processing images: 100%|██████████| 1750/1750 [00:59<00:00, 29.58it/s]\n",
      "Processing images:  25%|██▍       | 31/125 [00:01<00:03, 28.48it/s]"
     ]
    },
    {
     "name": "stdout",
     "output_type": "stream",
     "text": [
      "An error occurred with C:/github/Third-Year-Project/Intruder-Aircraft-Detection/datasets/Custom/weather_45_500\\images\\valid\\29918.jpg: Expected y_max for bbox (0.4077075, 0.7077145, 0.8470265, 1.0005935, 1) to be in the range [0.0, 1.0], got 1.0005935.\n"
     ]
    },
    {
     "name": "stderr",
     "output_type": "stream",
     "text": [
      "Processing images:  78%|███████▊  | 97/125 [00:03<00:00, 34.82it/s]"
     ]
    },
    {
     "name": "stdout",
     "output_type": "stream",
     "text": [
      "An error occurred with C:/github/Third-Year-Project/Intruder-Aircraft-Detection/datasets/Custom/weather_45_500\\images\\valid\\53950.jpg: Expected y_min for bbox (0.15967549999999997, -0.06710449999999998, 0.9726885, 0.47490449999999995, 2) to be in the range [0.0, 1.0], got -0.06710449999999998.\n"
     ]
    },
    {
     "name": "stderr",
     "output_type": "stream",
     "text": [
      "Processing images: 100%|██████████| 125/125 [00:04<00:00, 28.87it/s]\n",
      "Moving images in train: 100%|██████████| 499/499 [00:01<00:00, 280.59it/s]\n",
      "Moving images in train-aug: 100%|██████████| 1747/1747 [00:02<00:00, 596.16it/s]\n",
      "Moving images in valid: 100%|██████████| 123/123 [00:00<00:00, 295.08it/s]\n"
     ]
    },
    {
     "name": "stdout",
     "output_type": "stream",
     "text": [
      "Found 499 files belonging to 3 classes.\n",
      "Found 1747 files belonging to 3 classes.\n",
      "Found 123 files belonging to 3 classes.\n",
      "ClearML Task: created new task id=a8c1ff05d52448de969e904fe223435c\n",
      "ClearML results page: https://app.clear.ml/projects/732b3d856c964d8c8d6c1abc5eb2b83a/experiments/a8c1ff05d52448de969e904fe223435c/output/log\n",
      "Training model...\n",
      "Epoch 1/30\n",
      "\u001b[1m16/16\u001b[0m \u001b[32m━━━━━━━━━━━━━━━━━━━━\u001b[0m\u001b[37m\u001b[0m \u001b[1m7s\u001b[0m 314ms/step - accuracy: 0.3170 - loss: 2.2004 - precision: 0.3044 - recall: 0.1600 - val_accuracy: 0.3415 - val_loss: 1.0989 - val_precision: 0.0000e+00 - val_recall: 0.0000e+00\n",
      "Epoch 2/30\n",
      "\u001b[1m16/16\u001b[0m \u001b[32m━━━━━━━━━━━━━━━━━━━━\u001b[0m\u001b[37m\u001b[0m \u001b[1m4s\u001b[0m 232ms/step - accuracy: 0.3190 - loss: 1.0992 - precision: 0.0000e+00 - recall: 0.0000e+00 - val_accuracy: 0.3008 - val_loss: 1.0984 - val_precision: 0.0000e+00 - val_recall: 0.0000e+00\n",
      "Epoch 3/30\n",
      "\u001b[1m16/16\u001b[0m \u001b[32m━━━━━━━━━━━━━━━━━━━━\u001b[0m\u001b[37m\u001b[0m \u001b[1m4s\u001b[0m 226ms/step - accuracy: 0.3155 - loss: 1.0985 - precision: 0.0000e+00 - recall: 0.0000e+00 - val_accuracy: 0.3252 - val_loss: 1.0985 - val_precision: 0.0000e+00 - val_recall: 0.0000e+00\n",
      "Epoch 4/30\n",
      "\u001b[1m16/16\u001b[0m \u001b[32m━━━━━━━━━━━━━━━━━━━━\u001b[0m\u001b[37m\u001b[0m \u001b[1m4s\u001b[0m 228ms/step - accuracy: 0.3438 - loss: 1.0984 - precision: 0.0000e+00 - recall: 0.0000e+00 - val_accuracy: 0.3415 - val_loss: 1.0984 - val_precision: 0.0000e+00 - val_recall: 0.0000e+00\n",
      "Epoch 5/30\n",
      "\u001b[1m16/16\u001b[0m \u001b[32m━━━━━━━━━━━━━━━━━━━━\u001b[0m\u001b[37m\u001b[0m \u001b[1m4s\u001b[0m 225ms/step - accuracy: 0.3138 - loss: 1.0981 - precision: 0.0000e+00 - recall: 0.0000e+00 - val_accuracy: 0.3415 - val_loss: 1.0982 - val_precision: 0.0000e+00 - val_recall: 0.0000e+00\n",
      "Epoch 6/30\n",
      "\u001b[1m16/16\u001b[0m \u001b[32m━━━━━━━━━━━━━━━━━━━━\u001b[0m\u001b[37m\u001b[0m \u001b[1m4s\u001b[0m 225ms/step - accuracy: 0.3670 - loss: 1.0980 - precision: 0.0000e+00 - recall: 0.0000e+00 - val_accuracy: 0.3415 - val_loss: 1.0984 - val_precision: 0.0000e+00 - val_recall: 0.0000e+00\n",
      "Epoch 7/30\n",
      "\u001b[1m16/16\u001b[0m \u001b[32m━━━━━━━━━━━━━━━━━━━━\u001b[0m\u001b[37m\u001b[0m \u001b[1m4s\u001b[0m 231ms/step - accuracy: 0.2853 - loss: 1.0988 - precision: 0.0000e+00 - recall: 0.0000e+00 - val_accuracy: 0.3333 - val_loss: 1.0985 - val_precision: 0.0000e+00 - val_recall: 0.0000e+00\n",
      "Epoch 8/30\n",
      "\u001b[1m16/16\u001b[0m \u001b[32m━━━━━━━━━━━━━━━━━━━━\u001b[0m\u001b[37m\u001b[0m \u001b[1m4s\u001b[0m 225ms/step - accuracy: 0.3519 - loss: 1.0984 - precision: 0.0000e+00 - recall: 0.0000e+00 - val_accuracy: 0.3333 - val_loss: 1.0981 - val_precision: 0.0000e+00 - val_recall: 0.0000e+00\n",
      "Epoch 9/30\n",
      "\u001b[1m16/16\u001b[0m \u001b[32m━━━━━━━━━━━━━━━━━━━━\u001b[0m\u001b[37m\u001b[0m \u001b[1m4s\u001b[0m 223ms/step - accuracy: 0.3504 - loss: 1.0988 - precision: 0.0000e+00 - recall: 0.0000e+00 - val_accuracy: 0.3415 - val_loss: 1.0982 - val_precision: 0.0000e+00 - val_recall: 0.0000e+00\n",
      "Epoch 10/30\n",
      "\u001b[1m16/16\u001b[0m \u001b[32m━━━━━━━━━━━━━━━━━━━━\u001b[0m\u001b[37m\u001b[0m \u001b[1m4s\u001b[0m 225ms/step - accuracy: 0.2648 - loss: 1.0986 - precision: 0.0000e+00 - recall: 0.0000e+00 - val_accuracy: 0.3252 - val_loss: 1.0986 - val_precision: 0.0000e+00 - val_recall: 0.0000e+00\n",
      "Epoch 11/30\n",
      "\u001b[1m16/16\u001b[0m \u001b[32m━━━━━━━━━━━━━━━━━━━━\u001b[0m\u001b[37m\u001b[0m \u001b[1m4s\u001b[0m 247ms/step - accuracy: 0.3076 - loss: 1.0988 - precision: 0.0000e+00 - recall: 0.0000e+00 - val_accuracy: 0.3415 - val_loss: 1.0986 - val_precision: 0.0000e+00 - val_recall: 0.0000e+00\n",
      "Epoch 12/30\n",
      "\u001b[1m16/16\u001b[0m \u001b[32m━━━━━━━━━━━━━━━━━━━━\u001b[0m\u001b[37m\u001b[0m \u001b[1m5s\u001b[0m 280ms/step - accuracy: 0.3353 - loss: 1.0988 - precision: 0.0000e+00 - recall: 0.0000e+00 - val_accuracy: 0.3415 - val_loss: 1.0986 - val_precision: 0.0000e+00 - val_recall: 0.0000e+00\n",
      "Epoch 13/30\n",
      "\u001b[1m16/16\u001b[0m \u001b[32m━━━━━━━━━━━━━━━━━━━━\u001b[0m\u001b[37m\u001b[0m \u001b[1m4s\u001b[0m 226ms/step - accuracy: 0.3257 - loss: 1.0988 - precision: 0.0000e+00 - recall: 0.0000e+00 - val_accuracy: 0.3415 - val_loss: 1.0986 - val_precision: 0.0000e+00 - val_recall: 0.0000e+00\n",
      "Epoch 14/30\n",
      "\u001b[1m16/16\u001b[0m \u001b[32m━━━━━━━━━━━━━━━━━━━━\u001b[0m\u001b[37m\u001b[0m \u001b[1m4s\u001b[0m 224ms/step - accuracy: 0.3325 - loss: 1.0988 - precision: 0.0000e+00 - recall: 0.0000e+00 - val_accuracy: 0.3415 - val_loss: 1.0986 - val_precision: 0.0000e+00 - val_recall: 0.0000e+00\n",
      "Epoch 15/30\n",
      "\u001b[1m16/16\u001b[0m \u001b[32m━━━━━━━━━━━━━━━━━━━━\u001b[0m\u001b[37m\u001b[0m \u001b[1m4s\u001b[0m 227ms/step - accuracy: 0.3207 - loss: 1.0987 - precision: 0.0000e+00 - recall: 0.0000e+00 - val_accuracy: 0.3415 - val_loss: 1.0986 - val_precision: 0.0000e+00 - val_recall: 0.0000e+00\n",
      "Epoch 16/30\n",
      "\u001b[1m16/16\u001b[0m \u001b[32m━━━━━━━━━━━━━━━━━━━━\u001b[0m\u001b[37m\u001b[0m \u001b[1m4s\u001b[0m 225ms/step - accuracy: 0.3098 - loss: 1.0988 - precision: 0.0000e+00 - recall: 0.0000e+00 - val_accuracy: 0.3415 - val_loss: 1.0986 - val_precision: 0.0000e+00 - val_recall: 0.0000e+00\n",
      "Epoch 17/30\n",
      "\u001b[1m16/16\u001b[0m \u001b[32m━━━━━━━━━━━━━━━━━━━━\u001b[0m\u001b[37m\u001b[0m \u001b[1m4s\u001b[0m 225ms/step - accuracy: 0.3158 - loss: 1.0987 - precision: 0.0000e+00 - recall: 0.0000e+00 - val_accuracy: 0.3415 - val_loss: 1.0985 - val_precision: 0.0000e+00 - val_recall: 0.0000e+00\n",
      "Epoch 18/30\n",
      "\u001b[1m16/16\u001b[0m \u001b[32m━━━━━━━━━━━━━━━━━━━━\u001b[0m\u001b[37m\u001b[0m \u001b[1m4s\u001b[0m 228ms/step - accuracy: 0.3327 - loss: 1.0986 - precision: 0.0000e+00 - recall: 0.0000e+00 - val_accuracy: 0.3415 - val_loss: 1.0985 - val_precision: 0.0000e+00 - val_recall: 0.0000e+00\n",
      "Epoch 19/30\n",
      "\u001b[1m16/16\u001b[0m \u001b[32m━━━━━━━━━━━━━━━━━━━━\u001b[0m\u001b[37m\u001b[0m \u001b[1m4s\u001b[0m 226ms/step - accuracy: 0.3384 - loss: 1.0985 - precision: 0.0000e+00 - recall: 0.0000e+00 - val_accuracy: 0.3415 - val_loss: 1.0985 - val_precision: 0.0000e+00 - val_recall: 0.0000e+00\n",
      "Epoch 20/30\n",
      "\u001b[1m16/16\u001b[0m \u001b[32m━━━━━━━━━━━━━━━━━━━━\u001b[0m\u001b[37m\u001b[0m \u001b[1m4s\u001b[0m 227ms/step - accuracy: 0.3198 - loss: 1.0985 - precision: 0.0000e+00 - recall: 0.0000e+00 - val_accuracy: 0.3415 - val_loss: 1.0985 - val_precision: 0.0000e+00 - val_recall: 0.0000e+00\n",
      "Epoch 21/30\n",
      "\u001b[1m16/16\u001b[0m \u001b[32m━━━━━━━━━━━━━━━━━━━━\u001b[0m\u001b[37m\u001b[0m \u001b[1m4s\u001b[0m 225ms/step - accuracy: 0.3297 - loss: 1.0986 - precision: 0.0000e+00 - recall: 0.0000e+00 - val_accuracy: 0.3415 - val_loss: 1.0985 - val_precision: 0.0000e+00 - val_recall: 0.0000e+00\n",
      "Epoch 22/30\n",
      "\u001b[1m16/16\u001b[0m \u001b[32m━━━━━━━━━━━━━━━━━━━━\u001b[0m\u001b[37m\u001b[0m \u001b[1m4s\u001b[0m 230ms/step - accuracy: 0.3108 - loss: 1.0987 - precision: 0.0000e+00 - recall: 0.0000e+00 - val_accuracy: 0.3415 - val_loss: 1.0985 - val_precision: 0.0000e+00 - val_recall: 0.0000e+00\n",
      "Epoch 23/30\n",
      "\u001b[1m16/16\u001b[0m \u001b[32m━━━━━━━━━━━━━━━━━━━━\u001b[0m\u001b[37m\u001b[0m \u001b[1m4s\u001b[0m 227ms/step - accuracy: 0.3405 - loss: 1.0985 - precision: 0.0000e+00 - recall: 0.0000e+00 - val_accuracy: 0.3415 - val_loss: 1.0985 - val_precision: 0.0000e+00 - val_recall: 0.0000e+00\n",
      "Epoch 24/30\n",
      "\u001b[1m16/16\u001b[0m \u001b[32m━━━━━━━━━━━━━━━━━━━━\u001b[0m\u001b[37m\u001b[0m \u001b[1m4s\u001b[0m 225ms/step - accuracy: 0.3192 - loss: 1.0987 - precision: 0.0000e+00 - recall: 0.0000e+00 - val_accuracy: 0.3415 - val_loss: 1.0985 - val_precision: 0.0000e+00 - val_recall: 0.0000e+00\n",
      "Epoch 25/30\n",
      "\u001b[1m16/16\u001b[0m \u001b[32m━━━━━━━━━━━━━━━━━━━━\u001b[0m\u001b[37m\u001b[0m \u001b[1m4s\u001b[0m 235ms/step - accuracy: 0.3356 - loss: 1.0986 - precision: 0.0000e+00 - recall: 0.0000e+00 - val_accuracy: 0.3415 - val_loss: 1.0985 - val_precision: 0.0000e+00 - val_recall: 0.0000e+00\n",
      "Epoch 26/30\n",
      "\u001b[1m16/16\u001b[0m \u001b[32m━━━━━━━━━━━━━━━━━━━━\u001b[0m\u001b[37m\u001b[0m \u001b[1m4s\u001b[0m 234ms/step - accuracy: 0.3145 - loss: 1.0988 - precision: 0.0000e+00 - recall: 0.0000e+00 - val_accuracy: 0.3415 - val_loss: 1.0985 - val_precision: 0.0000e+00 - val_recall: 0.0000e+00\n",
      "Epoch 27/30\n",
      "\u001b[1m16/16\u001b[0m \u001b[32m━━━━━━━━━━━━━━━━━━━━\u001b[0m\u001b[37m\u001b[0m \u001b[1m4s\u001b[0m 225ms/step - accuracy: 0.3160 - loss: 1.0987 - precision: 0.0000e+00 - recall: 0.0000e+00 - val_accuracy: 0.3415 - val_loss: 1.0985 - val_precision: 0.0000e+00 - val_recall: 0.0000e+00\n",
      "Epoch 28/30\n",
      "\u001b[1m16/16\u001b[0m \u001b[32m━━━━━━━━━━━━━━━━━━━━\u001b[0m\u001b[37m\u001b[0m \u001b[1m4s\u001b[0m 229ms/step - accuracy: 0.3268 - loss: 1.0987 - precision: 0.0000e+00 - recall: 0.0000e+00 - val_accuracy: 0.3415 - val_loss: 1.0985 - val_precision: 0.0000e+00 - val_recall: 0.0000e+00\n",
      "Epoch 29/30\n",
      "\u001b[1m16/16\u001b[0m \u001b[32m━━━━━━━━━━━━━━━━━━━━\u001b[0m\u001b[37m\u001b[0m \u001b[1m4s\u001b[0m 227ms/step - accuracy: 0.3305 - loss: 1.0986 - precision: 0.0000e+00 - recall: 0.0000e+00 - val_accuracy: 0.3415 - val_loss: 1.0985 - val_precision: 0.0000e+00 - val_recall: 0.0000e+00\n",
      "Epoch 30/30\n",
      "\u001b[1m16/16\u001b[0m \u001b[32m━━━━━━━━━━━━━━━━━━━━\u001b[0m\u001b[37m\u001b[0m \u001b[1m4s\u001b[0m 227ms/step - accuracy: 0.2906 - loss: 1.0988 - precision: 0.0000e+00 - recall: 0.0000e+00 - val_accuracy: 0.3333 - val_loss: 1.0985 - val_precision: 0.0000e+00 - val_recall: 0.0000e+00\n",
      "Predicting on validation set...\n",
      "\u001b[1m4/4\u001b[0m \u001b[32m━━━━━━━━━━━━━━━━━━━━\u001b[0m\u001b[37m\u001b[0m \u001b[1m0s\u001b[0m 62ms/step\n"
     ]
    },
    {
     "name": "stderr",
     "output_type": "stream",
     "text": [
      "c:\\Users\\tomev\\anaconda3\\envs\\tf-cpu\\Lib\\site-packages\\sklearn\\metrics\\_classification.py:1344: UndefinedMetricWarning:\n",
      "\n",
      "Precision and F-score are ill-defined and being set to 0.0 in labels with no predicted samples. Use `zero_division` parameter to control this behavior.\n",
      "\n",
      "c:\\Users\\tomev\\anaconda3\\envs\\tf-cpu\\Lib\\site-packages\\sklearn\\metrics\\_classification.py:1344: UndefinedMetricWarning:\n",
      "\n",
      "Precision and F-score are ill-defined and being set to 0.0 in labels with no predicted samples. Use `zero_division` parameter to control this behavior.\n",
      "\n",
      "c:\\Users\\tomev\\anaconda3\\envs\\tf-cpu\\Lib\\site-packages\\sklearn\\metrics\\_classification.py:1344: UndefinedMetricWarning:\n",
      "\n",
      "Precision and F-score are ill-defined and being set to 0.0 in labels with no predicted samples. Use `zero_division` parameter to control this behavior.\n",
      "\n"
     ]
    },
    {
     "name": "stdout",
     "output_type": "stream",
     "text": [
      "Sending metrics to clearML...\n",
      "done\n",
      "ClearML Task: created new task id=f93dfa0ded8a49dfb30489103df9ead8\n",
      "ClearML results page: https://app.clear.ml/projects/732b3d856c964d8c8d6c1abc5eb2b83a/experiments/f93dfa0ded8a49dfb30489103df9ead8/output/log\n",
      "Training model...\n",
      "Epoch 1/30\n",
      "\u001b[1m55/55\u001b[0m \u001b[32m━━━━━━━━━━━━━━━━━━━━\u001b[0m\u001b[37m\u001b[0m \u001b[1m16s\u001b[0m 256ms/step - accuracy: 0.3207 - loss: 1.6283 - precision: 0.3105 - recall: 0.0625 - val_accuracy: 0.3333 - val_loss: 1.0986 - val_precision: 0.0000e+00 - val_recall: 0.0000e+00\n",
      "Epoch 2/30\n",
      "\u001b[1m55/55\u001b[0m \u001b[32m━━━━━━━━━━━━━━━━━━━━\u001b[0m\u001b[37m\u001b[0m \u001b[1m13s\u001b[0m 225ms/step - accuracy: 0.3520 - loss: 1.0993 - precision: 0.2636 - recall: 0.0127 - val_accuracy: 0.3252 - val_loss: 1.0989 - val_precision: 0.0000e+00 - val_recall: 0.0000e+00\n",
      "Epoch 3/30\n",
      "\u001b[1m55/55\u001b[0m \u001b[32m━━━━━━━━━━━━━━━━━━━━\u001b[0m\u001b[37m\u001b[0m \u001b[1m13s\u001b[0m 223ms/step - accuracy: 0.3415 - loss: 1.0982 - precision: 0.0000e+00 - recall: 0.0000e+00 - val_accuracy: 0.3089 - val_loss: 1.0987 - val_precision: 0.0000e+00 - val_recall: 0.0000e+00\n",
      "Epoch 4/30\n",
      "\u001b[1m55/55\u001b[0m \u001b[32m━━━━━━━━━━━━━━━━━━━━\u001b[0m\u001b[37m\u001b[0m \u001b[1m14s\u001b[0m 245ms/step - accuracy: 0.3850 - loss: 1.0979 - precision: 0.0000e+00 - recall: 0.0000e+00 - val_accuracy: 0.3333 - val_loss: 1.0950 - val_precision: 0.0000e+00 - val_recall: 0.0000e+00\n",
      "Epoch 5/30\n",
      "\u001b[1m55/55\u001b[0m \u001b[32m━━━━━━━━━━━━━━━━━━━━\u001b[0m\u001b[37m\u001b[0m \u001b[1m13s\u001b[0m 224ms/step - accuracy: 0.3875 - loss: 1.0911 - precision: 0.5029 - recall: 0.0019 - val_accuracy: 0.5285 - val_loss: 1.0533 - val_precision: 0.4545 - val_recall: 0.0407\n",
      "Epoch 6/30\n",
      "\u001b[1m55/55\u001b[0m \u001b[32m━━━━━━━━━━━━━━━━━━━━\u001b[0m\u001b[37m\u001b[0m \u001b[1m13s\u001b[0m 223ms/step - accuracy: 0.5467 - loss: 0.9777 - precision: 0.7122 - recall: 0.1756 - val_accuracy: 0.5610 - val_loss: 1.1852 - val_precision: 0.5600 - val_recall: 0.3415\n",
      "Epoch 7/30\n",
      "\u001b[1m55/55\u001b[0m \u001b[32m━━━━━━━━━━━━━━━━━━━━\u001b[0m\u001b[37m\u001b[0m \u001b[1m13s\u001b[0m 224ms/step - accuracy: 0.7104 - loss: 0.7428 - precision: 0.7944 - recall: 0.5205 - val_accuracy: 0.6504 - val_loss: 1.0364 - val_precision: 0.6509 - val_recall: 0.5610\n",
      "Epoch 8/30\n",
      "\u001b[1m55/55\u001b[0m \u001b[32m━━━━━━━━━━━━━━━━━━━━\u001b[0m\u001b[37m\u001b[0m \u001b[1m13s\u001b[0m 223ms/step - accuracy: 0.7559 - loss: 0.6046 - precision: 0.8463 - recall: 0.6448 - val_accuracy: 0.6667 - val_loss: 1.0507 - val_precision: 0.6792 - val_recall: 0.5854\n",
      "Epoch 9/30\n",
      "\u001b[1m55/55\u001b[0m \u001b[32m━━━━━━━━━━━━━━━━━━━━\u001b[0m\u001b[37m\u001b[0m \u001b[1m13s\u001b[0m 224ms/step - accuracy: 0.7077 - loss: 0.6793 - precision: 0.8270 - recall: 0.5747 - val_accuracy: 0.6992 - val_loss: 1.0994 - val_precision: 0.6957 - val_recall: 0.6504\n",
      "Epoch 10/30\n",
      "\u001b[1m55/55\u001b[0m \u001b[32m━━━━━━━━━━━━━━━━━━━━\u001b[0m\u001b[37m\u001b[0m \u001b[1m13s\u001b[0m 223ms/step - accuracy: 0.8388 - loss: 0.4290 - precision: 0.8734 - recall: 0.7925 - val_accuracy: 0.7073 - val_loss: 1.1208 - val_precision: 0.7119 - val_recall: 0.6829\n",
      "Epoch 11/30\n",
      "\u001b[1m55/55\u001b[0m \u001b[32m━━━━━━━━━━━━━━━━━━━━\u001b[0m\u001b[37m\u001b[0m \u001b[1m13s\u001b[0m 223ms/step - accuracy: 0.8737 - loss: 0.3394 - precision: 0.8900 - recall: 0.8432 - val_accuracy: 0.6829 - val_loss: 1.3578 - val_precision: 0.7000 - val_recall: 0.6829\n",
      "Epoch 12/30\n",
      "\u001b[1m55/55\u001b[0m \u001b[32m━━━━━━━━━━━━━━━━━━━━\u001b[0m\u001b[37m\u001b[0m \u001b[1m13s\u001b[0m 223ms/step - accuracy: 0.9007 - loss: 0.2725 - precision: 0.9148 - recall: 0.8832 - val_accuracy: 0.7073 - val_loss: 1.4261 - val_precision: 0.7107 - val_recall: 0.6992\n",
      "Epoch 13/30\n",
      "\u001b[1m55/55\u001b[0m \u001b[32m━━━━━━━━━━━━━━━━━━━━\u001b[0m\u001b[37m\u001b[0m \u001b[1m12s\u001b[0m 222ms/step - accuracy: 0.9066 - loss: 0.2289 - precision: 0.9177 - recall: 0.8977 - val_accuracy: 0.7154 - val_loss: 1.8049 - val_precision: 0.7273 - val_recall: 0.7154\n",
      "Epoch 14/30\n",
      "\u001b[1m55/55\u001b[0m \u001b[32m━━━━━━━━━━━━━━━━━━━━\u001b[0m\u001b[37m\u001b[0m \u001b[1m13s\u001b[0m 222ms/step - accuracy: 0.9283 - loss: 0.2035 - precision: 0.9356 - recall: 0.9208 - val_accuracy: 0.7073 - val_loss: 1.9468 - val_precision: 0.7073 - val_recall: 0.7073\n",
      "Epoch 15/30\n",
      "\u001b[1m55/55\u001b[0m \u001b[32m━━━━━━━━━━━━━━━━━━━━\u001b[0m\u001b[37m\u001b[0m \u001b[1m13s\u001b[0m 223ms/step - accuracy: 0.9355 - loss: 0.1793 - precision: 0.9425 - recall: 0.9296 - val_accuracy: 0.6992 - val_loss: 2.0242 - val_precision: 0.7049 - val_recall: 0.6992\n",
      "Epoch 16/30\n",
      "\u001b[1m55/55\u001b[0m \u001b[32m━━━━━━━━━━━━━━━━━━━━\u001b[0m\u001b[37m\u001b[0m \u001b[1m13s\u001b[0m 226ms/step - accuracy: 0.9470 - loss: 0.1591 - precision: 0.9503 - recall: 0.9409 - val_accuracy: 0.6992 - val_loss: 2.0696 - val_precision: 0.6992 - val_recall: 0.6992\n",
      "Epoch 17/30\n",
      "\u001b[1m55/55\u001b[0m \u001b[32m━━━━━━━━━━━━━━━━━━━━\u001b[0m\u001b[37m\u001b[0m \u001b[1m13s\u001b[0m 223ms/step - accuracy: 0.9441 - loss: 0.1606 - precision: 0.9468 - recall: 0.9411 - val_accuracy: 0.7154 - val_loss: 2.1337 - val_precision: 0.7131 - val_recall: 0.7073\n",
      "Epoch 18/30\n",
      "\u001b[1m55/55\u001b[0m \u001b[32m━━━━━━━━━━━━━━━━━━━━\u001b[0m\u001b[37m\u001b[0m \u001b[1m13s\u001b[0m 222ms/step - accuracy: 0.9724 - loss: 0.0921 - precision: 0.9745 - recall: 0.9715 - val_accuracy: 0.7236 - val_loss: 2.6010 - val_precision: 0.7236 - val_recall: 0.7236\n",
      "Epoch 19/30\n",
      "\u001b[1m55/55\u001b[0m \u001b[32m━━━━━━━━━━━━━━━━━━━━\u001b[0m\u001b[37m\u001b[0m \u001b[1m13s\u001b[0m 223ms/step - accuracy: 0.9751 - loss: 0.0764 - precision: 0.9758 - recall: 0.9741 - val_accuracy: 0.7154 - val_loss: 2.6840 - val_precision: 0.7154 - val_recall: 0.7154\n",
      "Epoch 20/30\n",
      "\u001b[1m55/55\u001b[0m \u001b[32m━━━━━━━━━━━━━━━━━━━━\u001b[0m\u001b[37m\u001b[0m \u001b[1m13s\u001b[0m 223ms/step - accuracy: 0.9815 - loss: 0.0575 - precision: 0.9821 - recall: 0.9791 - val_accuracy: 0.7073 - val_loss: 2.5784 - val_precision: 0.7049 - val_recall: 0.6992\n",
      "Epoch 21/30\n",
      "\u001b[1m55/55\u001b[0m \u001b[32m━━━━━━━━━━━━━━━━━━━━\u001b[0m\u001b[37m\u001b[0m \u001b[1m13s\u001b[0m 225ms/step - accuracy: 0.9027 - loss: 0.2578 - precision: 0.9303 - recall: 0.8843 - val_accuracy: 0.7480 - val_loss: 2.1349 - val_precision: 0.7459 - val_recall: 0.7398\n",
      "Epoch 22/30\n",
      "\u001b[1m55/55\u001b[0m \u001b[32m━━━━━━━━━━━━━━━━━━━━\u001b[0m\u001b[37m\u001b[0m \u001b[1m13s\u001b[0m 222ms/step - accuracy: 0.9717 - loss: 0.0957 - precision: 0.9742 - recall: 0.9635 - val_accuracy: 0.7236 - val_loss: 2.4284 - val_precision: 0.7236 - val_recall: 0.7236\n",
      "Epoch 23/30\n",
      "\u001b[1m55/55\u001b[0m \u001b[32m━━━━━━━━━━━━━━━━━━━━\u001b[0m\u001b[37m\u001b[0m \u001b[1m13s\u001b[0m 224ms/step - accuracy: 0.9817 - loss: 0.0595 - precision: 0.9836 - recall: 0.9817 - val_accuracy: 0.6992 - val_loss: 2.6723 - val_precision: 0.7049 - val_recall: 0.6992\n",
      "Epoch 24/30\n",
      "\u001b[1m55/55\u001b[0m \u001b[32m━━━━━━━━━━━━━━━━━━━━\u001b[0m\u001b[37m\u001b[0m \u001b[1m13s\u001b[0m 223ms/step - accuracy: 0.9614 - loss: 0.1123 - precision: 0.9661 - recall: 0.9568 - val_accuracy: 0.6179 - val_loss: 1.7637 - val_precision: 0.6379 - val_recall: 0.6016\n",
      "Epoch 25/30\n",
      "\u001b[1m55/55\u001b[0m \u001b[32m━━━━━━━━━━━━━━━━━━━━\u001b[0m\u001b[37m\u001b[0m \u001b[1m13s\u001b[0m 223ms/step - accuracy: 0.9252 - loss: 0.2023 - precision: 0.9422 - recall: 0.9071 - val_accuracy: 0.7154 - val_loss: 2.9323 - val_precision: 0.7213 - val_recall: 0.7154\n",
      "Epoch 26/30\n",
      "\u001b[1m55/55\u001b[0m \u001b[32m━━━━━━━━━━━━━━━━━━━━\u001b[0m\u001b[37m\u001b[0m \u001b[1m13s\u001b[0m 224ms/step - accuracy: 0.9909 - loss: 0.0395 - precision: 0.9908 - recall: 0.9894 - val_accuracy: 0.7154 - val_loss: 3.0903 - val_precision: 0.7213 - val_recall: 0.7154\n",
      "Epoch 27/30\n",
      "\u001b[1m55/55\u001b[0m \u001b[32m━━━━━━━━━━━━━━━━━━━━\u001b[0m\u001b[37m\u001b[0m \u001b[1m13s\u001b[0m 229ms/step - accuracy: 0.9924 - loss: 0.0253 - precision: 0.9928 - recall: 0.9923 - val_accuracy: 0.6829 - val_loss: 3.2745 - val_precision: 0.6829 - val_recall: 0.6829\n",
      "Epoch 28/30\n",
      "\u001b[1m55/55\u001b[0m \u001b[32m━━━━━━━━━━━━━━━━━━━━\u001b[0m\u001b[37m\u001b[0m \u001b[1m13s\u001b[0m 222ms/step - accuracy: 0.9942 - loss: 0.0277 - precision: 0.9942 - recall: 0.9942 - val_accuracy: 0.7154 - val_loss: 3.2454 - val_precision: 0.7190 - val_recall: 0.7073\n",
      "Epoch 29/30\n",
      "\u001b[1m55/55\u001b[0m \u001b[32m━━━━━━━━━━━━━━━━━━━━\u001b[0m\u001b[37m\u001b[0m \u001b[1m13s\u001b[0m 225ms/step - accuracy: 0.9945 - loss: 0.0193 - precision: 0.9960 - recall: 0.9945 - val_accuracy: 0.6992 - val_loss: 3.3569 - val_precision: 0.6992 - val_recall: 0.6992\n",
      "Epoch 30/30\n",
      "\u001b[1m55/55\u001b[0m \u001b[32m━━━━━━━━━━━━━━━━━━━━\u001b[0m\u001b[37m\u001b[0m \u001b[1m13s\u001b[0m 233ms/step - accuracy: 0.9962 - loss: 0.0184 - precision: 0.9962 - recall: 0.9962 - val_accuracy: 0.7236 - val_loss: 3.3361 - val_precision: 0.7236 - val_recall: 0.7236\n",
      "Predicting on validation set...\n",
      "\u001b[1m4/4\u001b[0m \u001b[32m━━━━━━━━━━━━━━━━━━━━\u001b[0m\u001b[37m\u001b[0m \u001b[1m0s\u001b[0m 71ms/step\n",
      "Sending metrics to clearML...\n",
      "done\n"
     ]
    }
   ],
   "source": [
    "# combination 3: contrast 0.5 + histEq 250%\n",
    "task_name = 'he,c'\n",
    "sub_project_name = 'HE+CONTRAST'\n",
    "\n",
    "augmentation_metadata = {\n",
    "        'methods': {        \n",
    "            'histEq': {\n",
    "                'parameters': {\n",
    "                    'p': 1.0  # Probability of applying the augmentation\n",
    "                },\n",
    "                'apply_to_percentage': 1.25  # 50% of the training images\n",
    "            },\n",
    "            'bnc': {\n",
    "            'parameters': {\n",
    "                'alpha': 0.5,\n",
    "                'beta': 0\n",
    "            },\n",
    "            'apply_to_percentage': 1.25  # 50% of the training images\n",
    "            }                    \n",
    "        }\n",
    "    }\n",
    "\n",
    "for i in range(N):\n",
    "    RUN = i + 1\n",
    "    try:\n",
    "        print(f\"Starting RUN: {RUN}\")\n",
    "        main(RUN, augmentation_metadata, task_name, sub_project_name, epochs, train_size, w1, w2)\n",
    "    except Exception as e:\n",
    "        print(f\"Error in RUN: {RUN}\")\n",
    "        print(e)\n",
    "        break\n",
    "    finally:\n",
    "        clear_output(wait=True)  # Clear the output to avoid scrolling\n",
    "        gc.collect()  # Collect garbage to avoid memory leaks"
   ]
  },
  {
   "cell_type": "code",
   "execution_count": 32,
   "metadata": {},
   "outputs": [
    {
     "name": "stdout",
     "output_type": "stream",
     "text": [
      "Starting RUN: 5\n",
      "Seed:  3217381587\n",
      "Num GPUs Available:  0\n"
     ]
    },
    {
     "name": "stderr",
     "output_type": "stream",
     "text": [
      "c:\\github\\Third-Year-Project\\Intruder-Aircraft-Detection\\main\\tl_clf.py:82: SettingWithCopyWarning:\n",
      "\n",
      "\n",
      "A value is trying to be set on a copy of a slice from a DataFrame.\n",
      "Try using .loc[row_indexer,col_indexer] = value instead\n",
      "\n",
      "See the caveats in the documentation: https://pandas.pydata.org/pandas-docs/stable/user_guide/indexing.html#returning-a-view-versus-a-copy\n",
      "\n",
      "c:\\github\\Third-Year-Project\\Intruder-Aircraft-Detection\\main\\tl_clf.py:83: SettingWithCopyWarning:\n",
      "\n",
      "\n",
      "A value is trying to be set on a copy of a slice from a DataFrame.\n",
      "Try using .loc[row_indexer,col_indexer] = value instead\n",
      "\n",
      "See the caveats in the documentation: https://pandas.pydata.org/pandas-docs/stable/user_guide/indexing.html#returning-a-view-versus-a-copy\n",
      "\n"
     ]
    },
    {
     "name": "stdout",
     "output_type": "stream",
     "text": [
      "Removing dataset if pre-existing\n",
      "Copying training files:\n"
     ]
    },
    {
     "name": "stderr",
     "output_type": "stream",
     "text": [
      "Copying files: 100%|██████████| 1000/1000 [00:00<00:00, 1594.47it/s]\n"
     ]
    },
    {
     "name": "stdout",
     "output_type": "stream",
     "text": [
      "Copying validation files:\n"
     ]
    },
    {
     "name": "stderr",
     "output_type": "stream",
     "text": [
      "Copying files: 100%|██████████| 250/250 [00:00<00:00, 1533.27it/s]\n"
     ]
    },
    {
     "name": "stdout",
     "output_type": "stream",
     "text": [
      "Dataset 'weather_45_500' created at C:\\github\\Third-Year-Project\\Intruder-Aircraft-Detection\\datasets\\Custom\\weather_45_500\n",
      "Processing train labels in weather_45_500:\n"
     ]
    },
    {
     "name": "stderr",
     "output_type": "stream",
     "text": [
      "Processing labels: 100%|██████████| 500/500 [00:01<00:00, 420.24it/s]\n"
     ]
    },
    {
     "name": "stdout",
     "output_type": "stream",
     "text": [
      "Processing valid labels in weather_45_500:\n"
     ]
    },
    {
     "name": "stderr",
     "output_type": "stream",
     "text": [
      "Processing labels: 100%|██████████| 125/125 [00:00<00:00, 302.95it/s]\n"
     ]
    },
    {
     "name": "stdout",
     "output_type": "stream",
     "text": [
      "Label correction completed.\n"
     ]
    },
    {
     "name": "stderr",
     "output_type": "stream",
     "text": [
      "Removing existing directories/files: 100%|██████████| 3/3 [00:00<00:00, 5994.72it/s]\n",
      "Copying files: 100%|██████████| 500/500 [00:00<00:00, 1067.00it/s]\n",
      "Copying files: 100%|██████████| 500/500 [00:00<00:00, 961.30it/s] \n",
      "Applying augmentations: 100%|██████████| 1248/1248 [00:26<00:00, 47.67it/s]\n"
     ]
    },
    {
     "name": "stdout",
     "output_type": "stream",
     "text": [
      "An error occurred: Expected x_min for bbox (-0.0473615, 0.3129345, 0.5972675000000001, 0.7426875, 1) to be in the range [0.0, 1.0], got -0.0473615.\n"
     ]
    },
    {
     "name": "stderr",
     "output_type": "stream",
     "text": [
      "Processing images:   2%|▏         | 9/500 [00:00<00:30, 16.30it/s]"
     ]
    },
    {
     "name": "stdout",
     "output_type": "stream",
     "text": [
      "An error occurred with C:/github/Third-Year-Project/Intruder-Aircraft-Detection/datasets/Custom/weather_45_500\\images\\train\\28040.jpg: Expected x_min for bbox (-0.0473615, 0.3129345, 0.5972675000000001, 0.7426875, 1) to be in the range [0.0, 1.0], got -0.0473615.\n"
     ]
    },
    {
     "name": "stderr",
     "output_type": "stream",
     "text": [
      "Processing images:  18%|█▊        | 90/500 [00:03<00:12, 33.58it/s]"
     ]
    },
    {
     "name": "stdout",
     "output_type": "stream",
     "text": [
      "An error occurred with C:/github/Third-Year-Project/Intruder-Aircraft-Detection/datasets/Custom/weather_45_500\\images\\train\\29013.jpg: Expected y_min for bbox (0.59587, -0.02172049999999999, 0.925314, 0.1979085, 1) to be in the range [0.0, 1.0], got -0.02172049999999999.\n"
     ]
    },
    {
     "name": "stderr",
     "output_type": "stream",
     "text": [
      "Processing images:  61%|██████    | 303/500 [00:10<00:05, 34.31it/s]"
     ]
    },
    {
     "name": "stdout",
     "output_type": "stream",
     "text": [
      "An error occurred with C:/github/Third-Year-Project/Intruder-Aircraft-Detection/datasets/Custom/weather_45_500\\images\\train\\52375.jpg: Expected y_max for bbox (0.19351849999999998, 0.622445, 0.7759535, 1.010735, 2) to be in the range [0.0, 1.0], got 1.010735.\n"
     ]
    },
    {
     "name": "stderr",
     "output_type": "stream",
     "text": [
      "Processing images: 100%|██████████| 500/500 [00:16<00:00, 30.53it/s]\n",
      "Processing images:   0%|          | 7/1747 [00:00<01:37, 17.88it/s]"
     ]
    },
    {
     "name": "stdout",
     "output_type": "stream",
     "text": [
      "An error occurred with C:/github/Third-Year-Project/Intruder-Aircraft-Detection/datasets/Custom/weather_45_500\\images\\train-aug\\28040.jpg: Expected x_min for bbox (-0.0473615, 0.3129345, 0.5972675000000001, 0.7426875, 1) to be in the range [0.0, 1.0], got -0.0473615.\n"
     ]
    },
    {
     "name": "stderr",
     "output_type": "stream",
     "text": [
      "Processing images:  17%|█▋        | 301/1747 [00:14<00:41, 34.59it/s]"
     ]
    },
    {
     "name": "stdout",
     "output_type": "stream",
     "text": [
      "An error occurred with C:/github/Third-Year-Project/Intruder-Aircraft-Detection/datasets/Custom/weather_45_500\\images\\train-aug\\29013.jpg: Expected y_min for bbox (0.59587, -0.02172049999999999, 0.925314, 0.1979085, 1) to be in the range [0.0, 1.0], got -0.02172049999999999.\n",
      "An error occurred with C:/github/Third-Year-Project/Intruder-Aircraft-Detection/datasets/Custom/weather_45_500\\images\\train-aug\\29013-histEq-e313fc37.jpg: Expected y_min for bbox (0.59587, -0.02172049999999999, 0.925314, 0.1979085, 1) to be in the range [0.0, 1.0], got -0.02172049999999999.\n"
     ]
    },
    {
     "name": "stderr",
     "output_type": "stream",
     "text": [
      "Processing images:  59%|█████▉    | 1031/1747 [00:37<00:18, 38.46it/s]"
     ]
    },
    {
     "name": "stdout",
     "output_type": "stream",
     "text": [
      "An error occurred with C:/github/Third-Year-Project/Intruder-Aircraft-Detection/datasets/Custom/weather_45_500\\images\\train-aug\\52375-histEq-752a26aa.jpg: Expected y_max for bbox (0.19351849999999998, 0.622445, 0.7759535, 1.010735, 2) to be in the range [0.0, 1.0], got 1.010735.\n",
      "An error occurred with C:/github/Third-Year-Project/Intruder-Aircraft-Detection/datasets/Custom/weather_45_500\\images\\train-aug\\52375.jpg: Expected y_max for bbox (0.19351849999999998, 0.622445, 0.7759535, 1.010735, 2) to be in the range [0.0, 1.0], got 1.010735.\n",
      "An error occurred with C:/github/Third-Year-Project/Intruder-Aircraft-Detection/datasets/Custom/weather_45_500\\images\\train-aug\\52375-bnc-e9d66458.jpg: Expected y_max for bbox (0.19351849999999998, 0.622445, 0.7759535, 1.010735, 2) to be in the range [0.0, 1.0], got 1.010735.\n"
     ]
    },
    {
     "name": "stderr",
     "output_type": "stream",
     "text": [
      "Processing images: 100%|██████████| 1747/1747 [00:58<00:00, 29.61it/s]\n",
      "Processing images: 100%|██████████| 125/125 [00:04<00:00, 29.46it/s]\n",
      "Moving images in train: 100%|██████████| 497/497 [00:01<00:00, 288.05it/s]\n",
      "Moving images in train-aug: 100%|██████████| 1741/1741 [00:05<00:00, 343.20it/s]\n",
      "Moving images in valid: 100%|██████████| 125/125 [00:00<00:00, 294.82it/s]\n"
     ]
    },
    {
     "name": "stdout",
     "output_type": "stream",
     "text": [
      "Found 497 files belonging to 3 classes.\n",
      "Found 1741 files belonging to 3 classes.\n",
      "Found 125 files belonging to 3 classes.\n",
      "ClearML Task: created new task id=18ee5099e783436a96dfa3bc9b2efbc2\n",
      "ClearML results page: https://app.clear.ml/projects/fb97ed0f5f9342429b425a323c599f73/experiments/18ee5099e783436a96dfa3bc9b2efbc2/output/log\n",
      "Training model...\n",
      "Epoch 1/30\n",
      "\u001b[1m16/16\u001b[0m \u001b[32m━━━━━━━━━━━━━━━━━━━━\u001b[0m\u001b[37m\u001b[0m \u001b[1m7s\u001b[0m 311ms/step - accuracy: 0.3124 - loss: 3.5145 - precision: 0.3037 - recall: 0.2187 - val_accuracy: 0.3360 - val_loss: 1.0988 - val_precision: 0.0000e+00 - val_recall: 0.0000e+00\n",
      "Epoch 2/30\n",
      "\u001b[1m16/16\u001b[0m \u001b[32m━━━━━━━━━━━━━━━━━━━━\u001b[0m\u001b[37m\u001b[0m \u001b[1m4s\u001b[0m 234ms/step - accuracy: 0.3320 - loss: 1.0987 - precision: 0.0000e+00 - recall: 0.0000e+00 - val_accuracy: 0.3360 - val_loss: 1.0987 - val_precision: 0.0000e+00 - val_recall: 0.0000e+00\n",
      "Epoch 3/30\n",
      "\u001b[1m16/16\u001b[0m \u001b[32m━━━━━━━━━━━━━━━━━━━━\u001b[0m\u001b[37m\u001b[0m \u001b[1m4s\u001b[0m 229ms/step - accuracy: 0.3146 - loss: 1.0993 - precision: 0.0000e+00 - recall: 0.0000e+00 - val_accuracy: 0.3360 - val_loss: 1.0986 - val_precision: 0.0000e+00 - val_recall: 0.0000e+00\n",
      "Epoch 4/30\n",
      "\u001b[1m16/16\u001b[0m \u001b[32m━━━━━━━━━━━━━━━━━━━━\u001b[0m\u001b[37m\u001b[0m \u001b[1m4s\u001b[0m 228ms/step - accuracy: 0.3156 - loss: 1.0989 - precision: 0.0000e+00 - recall: 0.0000e+00 - val_accuracy: 0.3360 - val_loss: 1.0987 - val_precision: 0.0000e+00 - val_recall: 0.0000e+00\n",
      "Epoch 5/30\n",
      "\u001b[1m16/16\u001b[0m \u001b[32m━━━━━━━━━━━━━━━━━━━━\u001b[0m\u001b[37m\u001b[0m \u001b[1m4s\u001b[0m 230ms/step - accuracy: 0.3173 - loss: 1.0987 - precision: 0.0000e+00 - recall: 0.0000e+00 - val_accuracy: 0.3360 - val_loss: 1.0985 - val_precision: 0.0000e+00 - val_recall: 0.0000e+00\n",
      "Epoch 6/30\n",
      "\u001b[1m16/16\u001b[0m \u001b[32m━━━━━━━━━━━━━━━━━━━━\u001b[0m\u001b[37m\u001b[0m \u001b[1m4s\u001b[0m 228ms/step - accuracy: 0.3123 - loss: 1.0986 - precision: 0.0000e+00 - recall: 0.0000e+00 - val_accuracy: 0.3760 - val_loss: 1.0980 - val_precision: 0.0000e+00 - val_recall: 0.0000e+00\n",
      "Epoch 7/30\n",
      "\u001b[1m16/16\u001b[0m \u001b[32m━━━━━━━━━━━━━━━━━━━━\u001b[0m\u001b[37m\u001b[0m \u001b[1m4s\u001b[0m 231ms/step - accuracy: 0.3117 - loss: 1.0994 - precision: 0.0000e+00 - recall: 0.0000e+00 - val_accuracy: 0.3600 - val_loss: 1.0959 - val_precision: 0.0000e+00 - val_recall: 0.0000e+00\n",
      "Epoch 8/30\n",
      "\u001b[1m16/16\u001b[0m \u001b[32m━━━━━━━━━━━━━━━━━━━━\u001b[0m\u001b[37m\u001b[0m \u001b[1m4s\u001b[0m 225ms/step - accuracy: 0.3921 - loss: 1.0986 - precision: 0.0000e+00 - recall: 0.0000e+00 - val_accuracy: 0.5520 - val_loss: 1.0947 - val_precision: 0.0000e+00 - val_recall: 0.0000e+00\n",
      "Epoch 9/30\n",
      "\u001b[1m16/16\u001b[0m \u001b[32m━━━━━━━━━━━━━━━━━━━━\u001b[0m\u001b[37m\u001b[0m \u001b[1m4s\u001b[0m 230ms/step - accuracy: 0.4893 - loss: 1.0967 - precision: 0.2157 - recall: 0.0073 - val_accuracy: 0.3440 - val_loss: 1.0926 - val_precision: 0.0000e+00 - val_recall: 0.0000e+00\n",
      "Epoch 10/30\n",
      "\u001b[1m16/16\u001b[0m \u001b[32m━━━━━━━━━━━━━━━━━━━━\u001b[0m\u001b[37m\u001b[0m \u001b[1m4s\u001b[0m 229ms/step - accuracy: 0.3546 - loss: 1.1078 - precision: 0.0000e+00 - recall: 0.0000e+00 - val_accuracy: 0.5760 - val_loss: 1.0817 - val_precision: 0.0000e+00 - val_recall: 0.0000e+00\n",
      "Epoch 11/30\n",
      "\u001b[1m16/16\u001b[0m \u001b[32m━━━━━━━━━━━━━━━━━━━━\u001b[0m\u001b[37m\u001b[0m \u001b[1m5s\u001b[0m 273ms/step - accuracy: 0.4713 - loss: 1.0676 - precision: 0.6153 - recall: 0.0093 - val_accuracy: 0.4880 - val_loss: 1.0596 - val_precision: 0.5000 - val_recall: 0.0080\n",
      "Epoch 12/30\n",
      "\u001b[1m16/16\u001b[0m \u001b[32m━━━━━━━━━━━━━━━━━━━━\u001b[0m\u001b[37m\u001b[0m \u001b[1m5s\u001b[0m 266ms/step - accuracy: 0.5412 - loss: 1.0743 - precision: 0.6501 - recall: 0.0601 - val_accuracy: 0.6400 - val_loss: 1.0194 - val_precision: 0.7059 - val_recall: 0.0960\n",
      "Epoch 13/30\n",
      "\u001b[1m16/16\u001b[0m \u001b[32m━━━━━━━━━━━━━━━━━━━━\u001b[0m\u001b[37m\u001b[0m \u001b[1m4s\u001b[0m 228ms/step - accuracy: 0.6068 - loss: 0.9636 - precision: 0.8157 - recall: 0.1816 - val_accuracy: 0.5280 - val_loss: 1.0631 - val_precision: 0.6383 - val_recall: 0.2400\n",
      "Epoch 14/30\n",
      "\u001b[1m16/16\u001b[0m \u001b[32m━━━━━━━━━━━━━━━━━━━━\u001b[0m\u001b[37m\u001b[0m \u001b[1m4s\u001b[0m 227ms/step - accuracy: 0.5641 - loss: 0.9210 - precision: 0.7663 - recall: 0.3311 - val_accuracy: 0.4880 - val_loss: 0.9995 - val_precision: 0.6471 - val_recall: 0.1760\n",
      "Epoch 15/30\n",
      "\u001b[1m16/16\u001b[0m \u001b[32m━━━━━━━━━━━━━━━━━━━━\u001b[0m\u001b[37m\u001b[0m \u001b[1m4s\u001b[0m 232ms/step - accuracy: 0.6204 - loss: 0.9009 - precision: 0.8920 - recall: 0.2121 - val_accuracy: 0.5600 - val_loss: 1.0231 - val_precision: 0.6087 - val_recall: 0.4480\n",
      "Epoch 16/30\n",
      "\u001b[1m16/16\u001b[0m \u001b[32m━━━━━━━━━━━━━━━━━━━━\u001b[0m\u001b[37m\u001b[0m \u001b[1m4s\u001b[0m 233ms/step - accuracy: 0.6747 - loss: 0.7825 - precision: 0.7783 - recall: 0.5559 - val_accuracy: 0.5200 - val_loss: 1.1586 - val_precision: 0.5253 - val_recall: 0.4160\n",
      "Epoch 17/30\n",
      "\u001b[1m16/16\u001b[0m \u001b[32m━━━━━━━━━━━━━━━━━━━━\u001b[0m\u001b[37m\u001b[0m \u001b[1m4s\u001b[0m 226ms/step - accuracy: 0.6859 - loss: 0.7130 - precision: 0.7379 - recall: 0.5787 - val_accuracy: 0.6480 - val_loss: 1.0839 - val_precision: 0.6436 - val_recall: 0.5200\n",
      "Epoch 18/30\n",
      "\u001b[1m16/16\u001b[0m \u001b[32m━━━━━━━━━━━━━━━━━━━━\u001b[0m\u001b[37m\u001b[0m \u001b[1m4s\u001b[0m 226ms/step - accuracy: 0.7508 - loss: 0.5778 - precision: 0.8166 - recall: 0.6940 - val_accuracy: 0.7440 - val_loss: 1.2272 - val_precision: 0.7522 - val_recall: 0.6800\n",
      "Epoch 19/30\n",
      "\u001b[1m16/16\u001b[0m \u001b[32m━━━━━━━━━━━━━━━━━━━━\u001b[0m\u001b[37m\u001b[0m \u001b[1m4s\u001b[0m 231ms/step - accuracy: 0.7797 - loss: 0.5318 - precision: 0.8346 - recall: 0.7308 - val_accuracy: 0.7120 - val_loss: 1.0546 - val_precision: 0.7339 - val_recall: 0.6400\n",
      "Epoch 20/30\n",
      "\u001b[1m16/16\u001b[0m \u001b[32m━━━━━━━━━━━━━━━━━━━━\u001b[0m\u001b[37m\u001b[0m \u001b[1m4s\u001b[0m 227ms/step - accuracy: 0.8285 - loss: 0.4671 - precision: 0.8734 - recall: 0.7750 - val_accuracy: 0.7520 - val_loss: 1.1226 - val_precision: 0.7544 - val_recall: 0.6880\n",
      "Epoch 21/30\n",
      "\u001b[1m16/16\u001b[0m \u001b[32m━━━━━━━━━━━━━━━━━━━━\u001b[0m\u001b[37m\u001b[0m \u001b[1m4s\u001b[0m 226ms/step - accuracy: 0.8232 - loss: 0.4427 - precision: 0.8722 - recall: 0.8017 - val_accuracy: 0.7520 - val_loss: 1.3489 - val_precision: 0.7563 - val_recall: 0.7200\n",
      "Epoch 22/30\n",
      "\u001b[1m16/16\u001b[0m \u001b[32m━━━━━━━━━━━━━━━━━━━━\u001b[0m\u001b[37m\u001b[0m \u001b[1m4s\u001b[0m 229ms/step - accuracy: 0.8189 - loss: 0.4516 - precision: 0.8427 - recall: 0.7770 - val_accuracy: 0.6960 - val_loss: 1.0592 - val_precision: 0.7290 - val_recall: 0.6240\n",
      "Epoch 23/30\n",
      "\u001b[1m16/16\u001b[0m \u001b[32m━━━━━━━━━━━━━━━━━━━━\u001b[0m\u001b[37m\u001b[0m \u001b[1m4s\u001b[0m 226ms/step - accuracy: 0.8268 - loss: 0.4528 - precision: 0.8585 - recall: 0.7581 - val_accuracy: 0.6720 - val_loss: 1.0213 - val_precision: 0.7182 - val_recall: 0.6320\n",
      "Epoch 24/30\n",
      "\u001b[1m16/16\u001b[0m \u001b[32m━━━━━━━━━━━━━━━━━━━━\u001b[0m\u001b[37m\u001b[0m \u001b[1m4s\u001b[0m 229ms/step - accuracy: 0.7961 - loss: 0.5349 - precision: 0.8212 - recall: 0.7154 - val_accuracy: 0.6640 - val_loss: 1.2080 - val_precision: 0.6827 - val_recall: 0.5680\n",
      "Epoch 25/30\n",
      "\u001b[1m16/16\u001b[0m \u001b[32m━━━━━━━━━━━━━━━━━━━━\u001b[0m\u001b[37m\u001b[0m \u001b[1m4s\u001b[0m 226ms/step - accuracy: 0.7960 - loss: 0.5163 - precision: 0.8551 - recall: 0.7404 - val_accuracy: 0.7360 - val_loss: 1.2496 - val_precision: 0.7810 - val_recall: 0.6560\n",
      "Epoch 26/30\n",
      "\u001b[1m16/16\u001b[0m \u001b[32m━━━━━━━━━━━━━━━━━━━━\u001b[0m\u001b[37m\u001b[0m \u001b[1m4s\u001b[0m 230ms/step - accuracy: 0.8637 - loss: 0.3728 - precision: 0.8966 - recall: 0.8271 - val_accuracy: 0.7360 - val_loss: 1.3560 - val_precision: 0.7542 - val_recall: 0.7120\n",
      "Epoch 27/30\n",
      "\u001b[1m16/16\u001b[0m \u001b[32m━━━━━━━━━━━━━━━━━━━━\u001b[0m\u001b[37m\u001b[0m \u001b[1m4s\u001b[0m 226ms/step - accuracy: 0.8509 - loss: 0.4236 - precision: 0.8761 - recall: 0.8232 - val_accuracy: 0.7840 - val_loss: 1.4059 - val_precision: 0.7949 - val_recall: 0.7440\n",
      "Epoch 28/30\n",
      "\u001b[1m16/16\u001b[0m \u001b[32m━━━━━━━━━━━━━━━━━━━━\u001b[0m\u001b[37m\u001b[0m \u001b[1m4s\u001b[0m 229ms/step - accuracy: 0.8875 - loss: 0.2977 - precision: 0.9102 - recall: 0.8618 - val_accuracy: 0.7520 - val_loss: 1.6007 - val_precision: 0.7647 - val_recall: 0.7280\n",
      "Epoch 29/30\n",
      "\u001b[1m16/16\u001b[0m \u001b[32m━━━━━━━━━━━━━━━━━━━━\u001b[0m\u001b[37m\u001b[0m \u001b[1m4s\u001b[0m 226ms/step - accuracy: 0.9036 - loss: 0.2929 - precision: 0.9200 - recall: 0.8945 - val_accuracy: 0.7520 - val_loss: 1.3833 - val_precision: 0.7768 - val_recall: 0.6960\n",
      "Epoch 30/30\n",
      "\u001b[1m16/16\u001b[0m \u001b[32m━━━━━━━━━━━━━━━━━━━━\u001b[0m\u001b[37m\u001b[0m \u001b[1m4s\u001b[0m 229ms/step - accuracy: 0.8402 - loss: 0.3762 - precision: 0.8636 - recall: 0.8301 - val_accuracy: 0.7840 - val_loss: 1.4398 - val_precision: 0.7982 - val_recall: 0.7280\n",
      "Predicting on validation set...\n",
      "\u001b[1m4/4\u001b[0m \u001b[32m━━━━━━━━━━━━━━━━━━━━\u001b[0m\u001b[37m\u001b[0m \u001b[1m0s\u001b[0m 69ms/step\n",
      "Sending metrics to clearML...\n",
      "done\n",
      "ClearML Task: created new task id=2de293db35964694ae9bdf20b5387b61\n",
      "ClearML results page: https://app.clear.ml/projects/fb97ed0f5f9342429b425a323c599f73/experiments/2de293db35964694ae9bdf20b5387b61/output/log\n",
      "Training model...\n",
      "Epoch 1/30\n",
      "\u001b[1m55/55\u001b[0m \u001b[32m━━━━━━━━━━━━━━━━━━━━\u001b[0m\u001b[37m\u001b[0m \u001b[1m16s\u001b[0m 253ms/step - accuracy: 0.3284 - loss: 1.7592 - precision: 0.2833 - recall: 0.0717 - val_accuracy: 0.3280 - val_loss: 1.0984 - val_precision: 0.0000e+00 - val_recall: 0.0000e+00\n",
      "Epoch 2/30\n",
      "\u001b[1m55/55\u001b[0m \u001b[32m━━━━━━━━━━━━━━━━━━━━\u001b[0m\u001b[37m\u001b[0m \u001b[1m13s\u001b[0m 224ms/step - accuracy: 0.3898 - loss: 1.0694 - precision: 0.6090 - recall: 0.0454 - val_accuracy: 0.3200 - val_loss: 1.1001 - val_precision: 0.0000e+00 - val_recall: 0.0000e+00\n",
      "Epoch 3/30\n",
      "\u001b[1m55/55\u001b[0m \u001b[32m━━━━━━━━━━━━━━━━━━━━\u001b[0m\u001b[37m\u001b[0m \u001b[1m13s\u001b[0m 226ms/step - accuracy: 0.4614 - loss: 1.0462 - precision: 0.6744 - recall: 0.0955 - val_accuracy: 0.3920 - val_loss: 1.0802 - val_precision: 1.0000 - val_recall: 0.0080\n",
      "Epoch 4/30\n",
      "\u001b[1m55/55\u001b[0m \u001b[32m━━━━━━━━━━━━━━━━━━━━\u001b[0m\u001b[37m\u001b[0m \u001b[1m14s\u001b[0m 249ms/step - accuracy: 0.5013 - loss: 0.9793 - precision: 0.6999 - recall: 0.1621 - val_accuracy: 0.5760 - val_loss: 0.9863 - val_precision: 0.7292 - val_recall: 0.2800\n",
      "Epoch 5/30\n",
      "\u001b[1m55/55\u001b[0m \u001b[32m━━━━━━━━━━━━━━━━━━━━\u001b[0m\u001b[37m\u001b[0m \u001b[1m13s\u001b[0m 224ms/step - accuracy: 0.6244 - loss: 0.8622 - precision: 0.7190 - recall: 0.4157 - val_accuracy: 0.6800 - val_loss: 0.9308 - val_precision: 0.6972 - val_recall: 0.6080\n",
      "Epoch 6/30\n",
      "\u001b[1m55/55\u001b[0m \u001b[32m━━━━━━━━━━━━━━━━━━━━\u001b[0m\u001b[37m\u001b[0m \u001b[1m13s\u001b[0m 223ms/step - accuracy: 0.7444 - loss: 0.6304 - precision: 0.7940 - recall: 0.6585 - val_accuracy: 0.6800 - val_loss: 0.9507 - val_precision: 0.7379 - val_recall: 0.6080\n",
      "Epoch 7/30\n",
      "\u001b[1m55/55\u001b[0m \u001b[32m━━━━━━━━━━━━━━━━━━━━\u001b[0m\u001b[37m\u001b[0m \u001b[1m13s\u001b[0m 226ms/step - accuracy: 0.7868 - loss: 0.5199 - precision: 0.8408 - recall: 0.7382 - val_accuracy: 0.7280 - val_loss: 0.9989 - val_precision: 0.7615 - val_recall: 0.6640\n",
      "Epoch 8/30\n",
      "\u001b[1m55/55\u001b[0m \u001b[32m━━━━━━━━━━━━━━━━━━━━\u001b[0m\u001b[37m\u001b[0m \u001b[1m13s\u001b[0m 223ms/step - accuracy: 0.8173 - loss: 0.4516 - precision: 0.8649 - recall: 0.7824 - val_accuracy: 0.7040 - val_loss: 1.2235 - val_precision: 0.7350 - val_recall: 0.6880\n",
      "Epoch 9/30\n",
      "\u001b[1m55/55\u001b[0m \u001b[32m━━━━━━━━━━━━━━━━━━━━\u001b[0m\u001b[37m\u001b[0m \u001b[1m13s\u001b[0m 223ms/step - accuracy: 0.8505 - loss: 0.3828 - precision: 0.8716 - recall: 0.8196 - val_accuracy: 0.7440 - val_loss: 1.3179 - val_precision: 0.7845 - val_recall: 0.7280\n",
      "Epoch 10/30\n",
      "\u001b[1m55/55\u001b[0m \u001b[32m━━━━━━━━━━━━━━━━━━━━\u001b[0m\u001b[37m\u001b[0m \u001b[1m13s\u001b[0m 223ms/step - accuracy: 0.8769 - loss: 0.3139 - precision: 0.8971 - recall: 0.8601 - val_accuracy: 0.7360 - val_loss: 1.5278 - val_precision: 0.7398 - val_recall: 0.7280\n",
      "Epoch 11/30\n",
      "\u001b[1m55/55\u001b[0m \u001b[32m━━━━━━━━━━━━━━━━━━━━\u001b[0m\u001b[37m\u001b[0m \u001b[1m13s\u001b[0m 222ms/step - accuracy: 0.8783 - loss: 0.3192 - precision: 0.8949 - recall: 0.8549 - val_accuracy: 0.7520 - val_loss: 1.4609 - val_precision: 0.7541 - val_recall: 0.7360\n",
      "Epoch 12/30\n",
      "\u001b[1m55/55\u001b[0m \u001b[32m━━━━━━━━━━━━━━━━━━━━\u001b[0m\u001b[37m\u001b[0m \u001b[1m13s\u001b[0m 228ms/step - accuracy: 0.8926 - loss: 0.2735 - precision: 0.9057 - recall: 0.8698 - val_accuracy: 0.7520 - val_loss: 1.8783 - val_precision: 0.7603 - val_recall: 0.7360\n",
      "Epoch 13/30\n",
      "\u001b[1m55/55\u001b[0m \u001b[32m━━━━━━━━━━━━━━━━━━━━\u001b[0m\u001b[37m\u001b[0m \u001b[1m13s\u001b[0m 223ms/step - accuracy: 0.9019 - loss: 0.2666 - precision: 0.9103 - recall: 0.8867 - val_accuracy: 0.7840 - val_loss: 1.7959 - val_precision: 0.7899 - val_recall: 0.7520\n",
      "Epoch 14/30\n",
      "\u001b[1m55/55\u001b[0m \u001b[32m━━━━━━━━━━━━━━━━━━━━\u001b[0m\u001b[37m\u001b[0m \u001b[1m13s\u001b[0m 223ms/step - accuracy: 0.9092 - loss: 0.2138 - precision: 0.9251 - recall: 0.8987 - val_accuracy: 0.7360 - val_loss: 1.7645 - val_precision: 0.7521 - val_recall: 0.7280\n",
      "Epoch 15/30\n",
      "\u001b[1m55/55\u001b[0m \u001b[32m━━━━━━━━━━━━━━━━━━━━\u001b[0m\u001b[37m\u001b[0m \u001b[1m13s\u001b[0m 224ms/step - accuracy: 0.9224 - loss: 0.2107 - precision: 0.9297 - recall: 0.9081 - val_accuracy: 0.7760 - val_loss: 1.7609 - val_precision: 0.7805 - val_recall: 0.7680\n",
      "Epoch 16/30\n",
      "\u001b[1m55/55\u001b[0m \u001b[32m━━━━━━━━━━━━━━━━━━━━\u001b[0m\u001b[37m\u001b[0m \u001b[1m13s\u001b[0m 226ms/step - accuracy: 0.9479 - loss: 0.1406 - precision: 0.9569 - recall: 0.9459 - val_accuracy: 0.7440 - val_loss: 1.7807 - val_precision: 0.7419 - val_recall: 0.7360\n",
      "Epoch 17/30\n",
      "\u001b[1m55/55\u001b[0m \u001b[32m━━━━━━━━━━━━━━━━━━━━\u001b[0m\u001b[37m\u001b[0m \u001b[1m13s\u001b[0m 227ms/step - accuracy: 0.9389 - loss: 0.1622 - precision: 0.9454 - recall: 0.9355 - val_accuracy: 0.7440 - val_loss: 1.9351 - val_precision: 0.7541 - val_recall: 0.7360\n",
      "Epoch 18/30\n",
      "\u001b[1m55/55\u001b[0m \u001b[32m━━━━━━━━━━━━━━━━━━━━\u001b[0m\u001b[37m\u001b[0m \u001b[1m13s\u001b[0m 224ms/step - accuracy: 0.9475 - loss: 0.1550 - precision: 0.9509 - recall: 0.9392 - val_accuracy: 0.7520 - val_loss: 1.9027 - val_precision: 0.7581 - val_recall: 0.7520\n",
      "Epoch 19/30\n",
      "\u001b[1m55/55\u001b[0m \u001b[32m━━━━━━━━━━━━━━━━━━━━\u001b[0m\u001b[37m\u001b[0m \u001b[1m13s\u001b[0m 224ms/step - accuracy: 0.9394 - loss: 0.1570 - precision: 0.9495 - recall: 0.9357 - val_accuracy: 0.7680 - val_loss: 1.8848 - val_precision: 0.7661 - val_recall: 0.7600\n",
      "Epoch 20/30\n",
      "\u001b[1m55/55\u001b[0m \u001b[32m━━━━━━━━━━━━━━━━━━━━\u001b[0m\u001b[37m\u001b[0m \u001b[1m13s\u001b[0m 224ms/step - accuracy: 0.9472 - loss: 0.1400 - precision: 0.9524 - recall: 0.9445 - val_accuracy: 0.7200 - val_loss: 1.5593 - val_precision: 0.7227 - val_recall: 0.6880\n",
      "Epoch 21/30\n",
      "\u001b[1m55/55\u001b[0m \u001b[32m━━━━━━━━━━━━━━━━━━━━\u001b[0m\u001b[37m\u001b[0m \u001b[1m13s\u001b[0m 222ms/step - accuracy: 0.9344 - loss: 0.1756 - precision: 0.9466 - recall: 0.9244 - val_accuracy: 0.7440 - val_loss: 2.3059 - val_precision: 0.7440 - val_recall: 0.7440\n",
      "Epoch 22/30\n",
      "\u001b[1m55/55\u001b[0m \u001b[32m━━━━━━━━━━━━━━━━━━━━\u001b[0m\u001b[37m\u001b[0m \u001b[1m13s\u001b[0m 224ms/step - accuracy: 0.9700 - loss: 0.0964 - precision: 0.9725 - recall: 0.9670 - val_accuracy: 0.7920 - val_loss: 2.1092 - val_precision: 0.7967 - val_recall: 0.7840\n",
      "Epoch 23/30\n",
      "\u001b[1m55/55\u001b[0m \u001b[32m━━━━━━━━━━━━━━━━━━━━\u001b[0m\u001b[37m\u001b[0m \u001b[1m13s\u001b[0m 223ms/step - accuracy: 0.9515 - loss: 0.1409 - precision: 0.9580 - recall: 0.9425 - val_accuracy: 0.7600 - val_loss: 2.5266 - val_precision: 0.7642 - val_recall: 0.7520\n",
      "Epoch 24/30\n",
      "\u001b[1m55/55\u001b[0m \u001b[32m━━━━━━━━━━━━━━━━━━━━\u001b[0m\u001b[37m\u001b[0m \u001b[1m13s\u001b[0m 223ms/step - accuracy: 0.9736 - loss: 0.0782 - precision: 0.9757 - recall: 0.9684 - val_accuracy: 0.7520 - val_loss: 2.1384 - val_precision: 0.7480 - val_recall: 0.7360\n",
      "Epoch 25/30\n",
      "\u001b[1m55/55\u001b[0m \u001b[32m━━━━━━━━━━━━━━━━━━━━\u001b[0m\u001b[37m\u001b[0m \u001b[1m13s\u001b[0m 224ms/step - accuracy: 0.9662 - loss: 0.1020 - precision: 0.9710 - recall: 0.9631 - val_accuracy: 0.7520 - val_loss: 2.3557 - val_precision: 0.7520 - val_recall: 0.7520\n",
      "Epoch 26/30\n",
      "\u001b[1m55/55\u001b[0m \u001b[32m━━━━━━━━━━━━━━━━━━━━\u001b[0m\u001b[37m\u001b[0m \u001b[1m13s\u001b[0m 224ms/step - accuracy: 0.9884 - loss: 0.0385 - precision: 0.9884 - recall: 0.9871 - val_accuracy: 0.7200 - val_loss: 2.6313 - val_precision: 0.7317 - val_recall: 0.7200\n",
      "Epoch 27/30\n",
      "\u001b[1m55/55\u001b[0m \u001b[32m━━━━━━━━━━━━━━━━━━━━\u001b[0m\u001b[37m\u001b[0m \u001b[1m13s\u001b[0m 224ms/step - accuracy: 0.9832 - loss: 0.0544 - precision: 0.9837 - recall: 0.9810 - val_accuracy: 0.7200 - val_loss: 2.7088 - val_precision: 0.7177 - val_recall: 0.7120\n",
      "Epoch 28/30\n",
      "\u001b[1m55/55\u001b[0m \u001b[32m━━━━━━━━━━━━━━━━━━━━\u001b[0m\u001b[37m\u001b[0m \u001b[1m13s\u001b[0m 223ms/step - accuracy: 0.9907 - loss: 0.0331 - precision: 0.9915 - recall: 0.9904 - val_accuracy: 0.7520 - val_loss: 2.8380 - val_precision: 0.7500 - val_recall: 0.7440\n",
      "Epoch 29/30\n",
      "\u001b[1m55/55\u001b[0m \u001b[32m━━━━━━━━━━━━━━━━━━━━\u001b[0m\u001b[37m\u001b[0m \u001b[1m13s\u001b[0m 222ms/step - accuracy: 0.9904 - loss: 0.0279 - precision: 0.9912 - recall: 0.9887 - val_accuracy: 0.7440 - val_loss: 2.9053 - val_precision: 0.7440 - val_recall: 0.7440\n",
      "Epoch 30/30\n",
      "\u001b[1m55/55\u001b[0m \u001b[32m━━━━━━━━━━━━━━━━━━━━\u001b[0m\u001b[37m\u001b[0m \u001b[1m13s\u001b[0m 224ms/step - accuracy: 0.9935 - loss: 0.0287 - precision: 0.9935 - recall: 0.9933 - val_accuracy: 0.7360 - val_loss: 2.5649 - val_precision: 0.7339 - val_recall: 0.7280\n",
      "Predicting on validation set...\n",
      "\u001b[1m4/4\u001b[0m \u001b[32m━━━━━━━━━━━━━━━━━━━━\u001b[0m\u001b[37m\u001b[0m \u001b[1m0s\u001b[0m 68ms/step\n",
      "Sending metrics to clearML...\n",
      "done\n"
     ]
    }
   ],
   "source": [
    "# combination 4: contrast 0.5 + histEq + rotate 5 + rotate 20 (all best performing) 250%\n",
    "task_name = 'he,c,r5,r20'\n",
    "sub_project_name = 'HE+C+ROTATE'\n",
    "\n",
    "augmentation_metadata = {\n",
    "        'methods': {        \n",
    "            'histEq': {\n",
    "                'parameters': {\n",
    "                    'p': 1.0  # Probability of applying the augmentation\n",
    "                },\n",
    "                'apply_to_percentage': 0.625  # 50% of the training images\n",
    "            },\n",
    "            'bnc': {\n",
    "            'parameters': {\n",
    "                'alpha': 0.5,\n",
    "                'beta': 0\n",
    "            },\n",
    "            'apply_to_percentage': 0.625  # 50% of the training images\n",
    "            },\n",
    "            'rotate': {\n",
    "                'parameters': {\n",
    "                    'angle_limit': 5, # Maximum angle of rotation\n",
    "                    'p': 1.0  # Probability of applying the augmentation\n",
    "                },\n",
    "                'apply_to_percentage': 0.625  # 50% of the training images\n",
    "            },\n",
    "            'rotate2': {\n",
    "                'parameters': {\n",
    "                    'angle_limit': 20, # Maximum angle of rotation\n",
    "                    'p': 1.0  # Probability of applying the augmentation\n",
    "                },\n",
    "                'apply_to_percentage': 0.625  # 50% of the training images\n",
    "            }                    \n",
    "        }\n",
    "    }\n",
    "\n",
    "for i in range(N):\n",
    "    RUN = i + 1\n",
    "    try:\n",
    "        print(f\"Starting RUN: {RUN}\")\n",
    "        main(RUN, augmentation_metadata, task_name, sub_project_name, epochs, train_size, w1, w2)\n",
    "    except Exception as e:\n",
    "        print(f\"Error in RUN: {RUN}\")\n",
    "        print(e)\n",
    "        break\n",
    "    finally:\n",
    "        clear_output(wait=True)  # Clear the output to avoid scrolling\n",
    "        gc.collect()  # Collect garbage to avoid memory leaks"
   ]
  }
 ],
 "metadata": {
  "kernelspec": {
   "display_name": "tf-cpu",
   "language": "python",
   "name": "python3"
  },
  "language_info": {
   "codemirror_mode": {
    "name": "ipython",
    "version": 3
   },
   "file_extension": ".py",
   "mimetype": "text/x-python",
   "name": "python",
   "nbconvert_exporter": "python",
   "pygments_lexer": "ipython3",
   "version": "3.11.9"
  }
 },
 "nbformat": 4,
 "nbformat_minor": 4
}

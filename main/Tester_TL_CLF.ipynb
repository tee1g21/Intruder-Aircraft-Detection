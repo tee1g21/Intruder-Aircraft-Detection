{
 "cells": [
  {
   "cell_type": "markdown",
   "metadata": {},
   "source": [
    "# ClearML\n",
    "https://app.clear.ml/dashboard"
   ]
  },
  {
   "cell_type": "markdown",
   "metadata": {},
   "source": [
    "# Tensorflow Classifier"
   ]
  },
  {
   "cell_type": "code",
   "execution_count": 2,
   "metadata": {},
   "outputs": [],
   "source": [
    "from IPython.display import clear_output \n",
    "import gc\n",
    "import os\n",
    "from tl_clf import main\n",
    "\n",
    "epochs = 30\n",
    "train_size = 2500\n",
    "N = 5  # Number of runs\n",
    "\n",
    "\n"
   ]
  },
  {
   "cell_type": "markdown",
   "metadata": {},
   "source": [
    "# Weather Conditions 1"
   ]
  },
  {
   "cell_type": "code",
   "execution_count": 3,
   "metadata": {},
   "outputs": [],
   "source": [
    "w1 = 0 \n",
    "w2 = 1"
   ]
  },
  {
   "cell_type": "code",
   "execution_count": 4,
   "metadata": {},
   "outputs": [
    {
     "name": "stdout",
     "output_type": "stream",
     "text": [
      "Starting RUN: 5\n",
      "Seed:  1859572106\n"
     ]
    },
    {
     "name": "stderr",
     "output_type": "stream",
     "text": [
      "c:\\github\\Third-Year-Project\\Intruder-Aircraft-Detection\\main\\tl_clf.py:79: SettingWithCopyWarning:\n",
      "\n",
      "\n",
      "A value is trying to be set on a copy of a slice from a DataFrame.\n",
      "Try using .loc[row_indexer,col_indexer] = value instead\n",
      "\n",
      "See the caveats in the documentation: https://pandas.pydata.org/pandas-docs/stable/user_guide/indexing.html#returning-a-view-versus-a-copy\n",
      "\n",
      "c:\\github\\Third-Year-Project\\Intruder-Aircraft-Detection\\main\\tl_clf.py:80: SettingWithCopyWarning:\n",
      "\n",
      "\n",
      "A value is trying to be set on a copy of a slice from a DataFrame.\n",
      "Try using .loc[row_indexer,col_indexer] = value instead\n",
      "\n",
      "See the caveats in the documentation: https://pandas.pydata.org/pandas-docs/stable/user_guide/indexing.html#returning-a-view-versus-a-copy\n",
      "\n"
     ]
    },
    {
     "name": "stdout",
     "output_type": "stream",
     "text": [
      "Removing dataset if pre-existing\n",
      "Copying training files:\n"
     ]
    },
    {
     "name": "stderr",
     "output_type": "stream",
     "text": [
      "Copying files: 100%|██████████| 5000/5000 [00:03<00:00, 1426.20it/s]\n"
     ]
    },
    {
     "name": "stdout",
     "output_type": "stream",
     "text": [
      "Copying validation files:\n"
     ]
    },
    {
     "name": "stderr",
     "output_type": "stream",
     "text": [
      "Copying files: 100%|██████████| 1000/1000 [00:00<00:00, 1017.52it/s]\n"
     ]
    },
    {
     "name": "stdout",
     "output_type": "stream",
     "text": [
      "Dataset 'weather_01_2500' created at C:\\github\\Third-Year-Project\\Intruder-Aircraft-Detection\\datasets\\Custom\\weather_01_2500\n",
      "Processing train labels in weather_01_2500:\n"
     ]
    },
    {
     "name": "stderr",
     "output_type": "stream",
     "text": [
      "Processing labels: 100%|██████████| 2500/2500 [00:09<00:00, 268.35it/s]\n"
     ]
    },
    {
     "name": "stdout",
     "output_type": "stream",
     "text": [
      "Processing valid labels in weather_01_2500:\n"
     ]
    },
    {
     "name": "stderr",
     "output_type": "stream",
     "text": [
      "Processing labels: 100%|██████████| 500/500 [00:01<00:00, 282.11it/s]\n"
     ]
    },
    {
     "name": "stdout",
     "output_type": "stream",
     "text": [
      "Label correction completed.\n"
     ]
    },
    {
     "name": "stderr",
     "output_type": "stream",
     "text": [
      "Removing existing directories/files: 100%|██████████| 3/3 [00:00<00:00, 6026.30it/s]\n",
      "Copying files: 100%|██████████| 2500/2500 [00:02<00:00, 1172.61it/s]\n",
      "Copying files: 100%|██████████| 2500/2500 [00:01<00:00, 1407.04it/s]\n",
      "Applying augmentations: 100%|██████████| 1250/1250 [00:15<00:00, 80.87it/s]\n",
      "Processing images:  20%|██        | 502/2500 [00:20<00:57, 34.70it/s]"
     ]
    },
    {
     "name": "stdout",
     "output_type": "stream",
     "text": [
      "An error occurred with C:/github/Third-Year-Project/Intruder-Aircraft-Detection/datasets/Custom/weather_01_2500\\images\\train\\24027.jpg: Expected x_max for bbox (0.46096849999999995, 0.09652050000000001, 1.0471375, 0.4872995, 1) to be in the range [0.0, 1.0], got 1.0471375.\n",
      "An error occurred with C:/github/Third-Year-Project/Intruder-Aircraft-Detection/datasets/Custom/weather_01_2500\\images\\train\\24022.jpg: Expected y_max for bbox (0.24655300000000002, 0.722105, 0.681787, 1.012261, 1) to be in the range [0.0, 1.0], got 1.012261.\n"
     ]
    },
    {
     "name": "stderr",
     "output_type": "stream",
     "text": [
      "Processing images:  21%|██        | 523/2500 [00:21<00:58, 34.00it/s]"
     ]
    },
    {
     "name": "stdout",
     "output_type": "stream",
     "text": [
      "An error occurred with C:/github/Third-Year-Project/Intruder-Aircraft-Detection/datasets/Custom/weather_01_2500\\images\\train\\24066.jpg: Expected x_min for bbox (-0.032714999999999994, -0.10783849999999998, 0.8482190000000001, 0.4794505, 1) to be in the range [0.0, 1.0], got -0.032714999999999994.\n"
     ]
    },
    {
     "name": "stderr",
     "output_type": "stream",
     "text": [
      "Processing images:  21%|██▏       | 535/2500 [00:21<00:57, 34.33it/s]"
     ]
    },
    {
     "name": "stdout",
     "output_type": "stream",
     "text": [
      "An error occurred with C:/github/Third-Year-Project/Intruder-Aircraft-Detection/datasets/Custom/weather_01_2500\\images\\train\\24096.jpg: Expected y_max for bbox (0.603079, 0.818155, 0.877433, 1.0010569999999999, 1) to be in the range [0.0, 1.0], got 1.0010569999999999.\n"
     ]
    },
    {
     "name": "stderr",
     "output_type": "stream",
     "text": [
      "Processing images:  23%|██▎       | 580/2500 [00:22<00:56, 33.81it/s]"
     ]
    },
    {
     "name": "stdout",
     "output_type": "stream",
     "text": [
      "An error occurred with C:/github/Third-Year-Project/Intruder-Aircraft-Detection/datasets/Custom/weather_01_2500\\images\\train\\24202.jpg: Expected y_min for bbox (0.19744650000000002, -0.022690500000000002, 0.6507875000000001, 0.2795365, 1) to be in the range [0.0, 1.0], got -0.022690500000000002.\n"
     ]
    },
    {
     "name": "stderr",
     "output_type": "stream",
     "text": [
      "Processing images:  27%|██▋       | 664/2500 [00:25<00:57, 31.78it/s]"
     ]
    },
    {
     "name": "stdout",
     "output_type": "stream",
     "text": [
      "An error occurred with C:/github/Third-Year-Project/Intruder-Aircraft-Detection/datasets/Custom/weather_01_2500\\images\\train\\24392.jpg: Expected x_max for bbox (0.389371, 0.478432, 1.160187, 0.99231, 1) to be in the range [0.0, 1.0], got 1.160187.\n"
     ]
    },
    {
     "name": "stderr",
     "output_type": "stream",
     "text": [
      "Processing images:  28%|██▊       | 704/2500 [00:26<00:56, 32.00it/s]"
     ]
    },
    {
     "name": "stdout",
     "output_type": "stream",
     "text": [
      "An error occurred with C:/github/Third-Year-Project/Intruder-Aircraft-Detection/datasets/Custom/weather_01_2500\\images\\train\\24484.jpg: Expected x_max for bbox (0.288232, 0.5063555, 1.0517779999999999, 1.0153865, 1) to be in the range [0.0, 1.0], got 1.0517779999999999.\n"
     ]
    },
    {
     "name": "stderr",
     "output_type": "stream",
     "text": [
      "Processing images:  32%|███▏      | 793/2500 [00:29<00:50, 33.81it/s]"
     ]
    },
    {
     "name": "stdout",
     "output_type": "stream",
     "text": [
      "An error occurred with C:/github/Third-Year-Project/Intruder-Aircraft-Detection/datasets/Custom/weather_01_2500\\images\\train\\24664.jpg: Expected x_min for bbox (-0.012226999999999988, 0.5140865000000001, 0.810117, 1.0623155, 1) to be in the range [0.0, 1.0], got -0.012226999999999988.\n"
     ]
    },
    {
     "name": "stderr",
     "output_type": "stream",
     "text": [
      "Processing images:  36%|███▌      | 905/2500 [00:33<00:47, 33.72it/s]"
     ]
    },
    {
     "name": "stdout",
     "output_type": "stream",
     "text": [
      "An error occurred with C:/github/Third-Year-Project/Intruder-Aircraft-Detection/datasets/Custom/weather_01_2500\\images\\train\\24891.jpg: Expected x_min for bbox (-0.01830599999999999, 0.35310800000000003, 0.48958799999999997, 0.6917040000000001, 1) to be in the range [0.0, 1.0], got -0.01830599999999999.\n"
     ]
    },
    {
     "name": "stderr",
     "output_type": "stream",
     "text": [
      "Processing images:  47%|████▋     | 1174/2500 [00:41<00:38, 34.00it/s]"
     ]
    },
    {
     "name": "stdout",
     "output_type": "stream",
     "text": [
      "An error occurred with C:/github/Third-Year-Project/Intruder-Aircraft-Detection/datasets/Custom/weather_01_2500\\images\\train\\25571.jpg: Expected x_min for bbox (-0.012365500000000001, 0.2159135, 0.4833855, 0.5464145, 1) to be in the range [0.0, 1.0], got -0.012365500000000001.\n"
     ]
    },
    {
     "name": "stderr",
     "output_type": "stream",
     "text": [
      "Processing images:  49%|████▉     | 1235/2500 [00:43<00:35, 35.17it/s]"
     ]
    },
    {
     "name": "stdout",
     "output_type": "stream",
     "text": [
      "An error occurred with C:/github/Third-Year-Project/Intruder-Aircraft-Detection/datasets/Custom/weather_01_2500\\images\\train\\25695.jpg: Expected x_max for bbox (0.3757315, 0.3660325, 1.0766624999999999, 0.8333195, 1) to be in the range [0.0, 1.0], got 1.0766624999999999.\n"
     ]
    },
    {
     "name": "stderr",
     "output_type": "stream",
     "text": [
      "Processing images:  60%|██████    | 1500/2500 [00:51<00:28, 35.03it/s]"
     ]
    },
    {
     "name": "stdout",
     "output_type": "stream",
     "text": [
      "An error occurred with C:/github/Third-Year-Project/Intruder-Aircraft-Detection/datasets/Custom/weather_01_2500\\images\\train\\48127.jpg: Expected x_max for bbox (0.405781, 0.446345, 1.002591, 0.844219, 2) to be in the range [0.0, 1.0], got 1.002591.\n"
     ]
    },
    {
     "name": "stderr",
     "output_type": "stream",
     "text": [
      "Processing images:  68%|██████▊   | 1700/2500 [00:57<00:22, 34.89it/s]"
     ]
    },
    {
     "name": "stdout",
     "output_type": "stream",
     "text": [
      "An error occurred with C:/github/Third-Year-Project/Intruder-Aircraft-Detection/datasets/Custom/weather_01_2500\\images\\train\\48545.jpg: Expected x_max for bbox (0.139949, 0.11087449999999999, 1.0701450000000001, 0.7310055, 2) to be in the range [0.0, 1.0], got 1.0701450000000001.\n"
     ]
    },
    {
     "name": "stderr",
     "output_type": "stream",
     "text": [
      "Processing images:  70%|███████   | 1752/2500 [00:59<00:21, 34.11it/s]"
     ]
    },
    {
     "name": "stdout",
     "output_type": "stream",
     "text": [
      "An error occurred with C:/github/Third-Year-Project/Intruder-Aircraft-Detection/datasets/Custom/weather_01_2500\\images\\train\\48653.jpg: In YOLO format all coordinates must be float and in range (0, 1]\n"
     ]
    },
    {
     "name": "stderr",
     "output_type": "stream",
     "text": [
      "Processing images:  71%|███████   | 1777/2500 [00:59<00:21, 34.20it/s]"
     ]
    },
    {
     "name": "stdout",
     "output_type": "stream",
     "text": [
      "An error occurred with C:/github/Third-Year-Project/Intruder-Aircraft-Detection/datasets/Custom/weather_01_2500\\images\\train\\48705.jpg: Expected x_min for bbox (-0.07913550000000003, 0.055376499999999995, 0.8971595, 0.7062394999999999, 2) to be in the range [0.0, 1.0], got -0.07913550000000003.\n"
     ]
    },
    {
     "name": "stderr",
     "output_type": "stream",
     "text": [
      "Processing images:  74%|███████▎  | 1838/2500 [01:01<00:19, 34.79it/s]"
     ]
    },
    {
     "name": "stdout",
     "output_type": "stream",
     "text": [
      "An error occurred with C:/github/Third-Year-Project/Intruder-Aircraft-Detection/datasets/Custom/weather_01_2500\\images\\train\\48839.jpg: Expected y_max for bbox (0.07873799999999997, 0.6116285, 0.708052, 1.0311715000000001, 2) to be in the range [0.0, 1.0], got 1.0311715000000001.\n"
     ]
    },
    {
     "name": "stderr",
     "output_type": "stream",
     "text": [
      "Processing images:  76%|███████▌  | 1895/2500 [01:03<00:18, 33.43it/s]"
     ]
    },
    {
     "name": "stdout",
     "output_type": "stream",
     "text": [
      "An error occurred with C:/github/Third-Year-Project/Intruder-Aircraft-Detection/datasets/Custom/weather_01_2500\\images\\train\\49062.jpg: Expected y_min for bbox (0.028610999999999998, -0.0326805, 0.831313, 0.5024545, 2) to be in the range [0.0, 1.0], got -0.0326805.\n"
     ]
    },
    {
     "name": "stderr",
     "output_type": "stream",
     "text": [
      "Processing images:  77%|███████▋  | 1935/2500 [01:04<00:16, 34.98it/s]"
     ]
    },
    {
     "name": "stdout",
     "output_type": "stream",
     "text": [
      "An error occurred with C:/github/Third-Year-Project/Intruder-Aircraft-Detection/datasets/Custom/weather_01_2500\\images\\train\\49148.jpg: Expected y_min for bbox (0.006384999999999974, -0.030349999999999988, 0.652875, 0.400644, 2) to be in the range [0.0, 1.0], got -0.030349999999999988.\n"
     ]
    },
    {
     "name": "stderr",
     "output_type": "stream",
     "text": [
      "Processing images:  88%|████████▊ | 2204/2500 [01:12<00:07, 37.85it/s]"
     ]
    },
    {
     "name": "stdout",
     "output_type": "stream",
     "text": [
      "An error occurred with C:/github/Third-Year-Project/Intruder-Aircraft-Detection/datasets/Custom/weather_01_2500\\images\\train\\49729.jpg: Expected x_max for bbox (0.425531, 0.400972, 1.050599, 0.8176840000000001, 2) to be in the range [0.0, 1.0], got 1.050599.\n"
     ]
    },
    {
     "name": "stderr",
     "output_type": "stream",
     "text": [
      "Processing images: 100%|█████████▉| 2489/2500 [01:21<00:00, 34.05it/s]"
     ]
    },
    {
     "name": "stdout",
     "output_type": "stream",
     "text": [
      "An error occurred with C:/github/Third-Year-Project/Intruder-Aircraft-Detection/datasets/Custom/weather_01_2500\\images\\train\\873.jpg: Expected y_max for bbox (0.45458450000000006, 0.7181775, 0.9206275, 1.0288725, 0) to be in the range [0.0, 1.0], got 1.0288725.\n"
     ]
    },
    {
     "name": "stderr",
     "output_type": "stream",
     "text": [
      "Processing images: 100%|██████████| 2500/2500 [01:21<00:00, 30.65it/s]\n",
      "Processing images:  20%|█▉        | 742/3750 [00:31<01:36, 31.28it/s]"
     ]
    },
    {
     "name": "stdout",
     "output_type": "stream",
     "text": [
      "An error occurred with C:/github/Third-Year-Project/Intruder-Aircraft-Detection/datasets/Custom/weather_01_2500\\images\\train-aug\\24022.jpg: Expected y_max for bbox (0.24655300000000002, 0.722105, 0.681787, 1.012261, 1) to be in the range [0.0, 1.0], got 1.012261.\n"
     ]
    },
    {
     "name": "stderr",
     "output_type": "stream",
     "text": [
      "Processing images:  20%|██        | 753/3750 [00:31<01:18, 38.40it/s]"
     ]
    },
    {
     "name": "stdout",
     "output_type": "stream",
     "text": [
      "An error occurred with C:/github/Third-Year-Project/Intruder-Aircraft-Detection/datasets/Custom/weather_01_2500\\images\\train-aug\\24022-histEq.jpg: Expected y_max for bbox (0.24655300000000002, 0.722105, 0.681787, 1.012261, 1) to be in the range [0.0, 1.0], got 1.012261.\n",
      "An error occurred with C:/github/Third-Year-Project/Intruder-Aircraft-Detection/datasets/Custom/weather_01_2500\\images\\train-aug\\24027.jpg: Expected x_max for bbox (0.46096849999999995, 0.09652050000000001, 1.0471375, 0.4872995, 1) to be in the range [0.0, 1.0], got 1.0471375.\n",
      "An error occurred with C:/github/Third-Year-Project/Intruder-Aircraft-Detection/datasets/Custom/weather_01_2500\\images\\train-aug\\24027-histEq.jpg: Expected x_max for bbox (0.46096849999999995, 0.09652050000000001, 1.0471375, 0.4872995, 1) to be in the range [0.0, 1.0], got 1.0471375.\n"
     ]
    },
    {
     "name": "stderr",
     "output_type": "stream",
     "text": [
      "Processing images:  21%|██        | 785/3750 [00:32<01:29, 33.06it/s]"
     ]
    },
    {
     "name": "stdout",
     "output_type": "stream",
     "text": [
      "An error occurred with C:/github/Third-Year-Project/Intruder-Aircraft-Detection/datasets/Custom/weather_01_2500\\images\\train-aug\\24066.jpg: Expected x_min for bbox (-0.032714999999999994, -0.10783849999999998, 0.8482190000000001, 0.4794505, 1) to be in the range [0.0, 1.0], got -0.032714999999999994.\n"
     ]
    },
    {
     "name": "stderr",
     "output_type": "stream",
     "text": [
      "Processing images:  21%|██▏       | 805/3750 [00:33<01:30, 32.54it/s]"
     ]
    },
    {
     "name": "stdout",
     "output_type": "stream",
     "text": [
      "An error occurred with C:/github/Third-Year-Project/Intruder-Aircraft-Detection/datasets/Custom/weather_01_2500\\images\\train-aug\\24096.jpg: Expected y_max for bbox (0.603079, 0.818155, 0.877433, 1.0010569999999999, 1) to be in the range [0.0, 1.0], got 1.0010569999999999.\n",
      "An error occurred with C:/github/Third-Year-Project/Intruder-Aircraft-Detection/datasets/Custom/weather_01_2500\\images\\train-aug\\24096-histEq.jpg: Expected y_max for bbox (0.603079, 0.818155, 0.877433, 1.0010569999999999, 1) to be in the range [0.0, 1.0], got 1.0010569999999999.\n"
     ]
    },
    {
     "name": "stderr",
     "output_type": "stream",
     "text": [
      "Processing images:  23%|██▎       | 877/3750 [00:35<01:26, 33.16it/s]"
     ]
    },
    {
     "name": "stdout",
     "output_type": "stream",
     "text": [
      "An error occurred with C:/github/Third-Year-Project/Intruder-Aircraft-Detection/datasets/Custom/weather_01_2500\\images\\train-aug\\24202.jpg: Expected y_min for bbox (0.19744650000000002, -0.022690500000000002, 0.6507875000000001, 0.2795365, 1) to be in the range [0.0, 1.0], got -0.022690500000000002.\n",
      "An error occurred with C:/github/Third-Year-Project/Intruder-Aircraft-Detection/datasets/Custom/weather_01_2500\\images\\train-aug\\24202-histEq.jpg: Expected y_min for bbox (0.19744650000000002, -0.022690500000000002, 0.6507875000000001, 0.2795365, 1) to be in the range [0.0, 1.0], got -0.022690500000000002.\n"
     ]
    },
    {
     "name": "stderr",
     "output_type": "stream",
     "text": [
      "Processing images:  27%|██▋       | 1002/3750 [00:39<01:19, 34.43it/s]"
     ]
    },
    {
     "name": "stdout",
     "output_type": "stream",
     "text": [
      "An error occurred with C:/github/Third-Year-Project/Intruder-Aircraft-Detection/datasets/Custom/weather_01_2500\\images\\train-aug\\24392.jpg: Expected x_max for bbox (0.389371, 0.478432, 1.160187, 0.99231, 1) to be in the range [0.0, 1.0], got 1.160187.\n",
      "An error occurred with C:/github/Third-Year-Project/Intruder-Aircraft-Detection/datasets/Custom/weather_01_2500\\images\\train-aug\\24392-histEq.jpg: Expected x_max for bbox (0.389371, 0.478432, 1.160187, 0.99231, 1) to be in the range [0.0, 1.0], got 1.160187.\n"
     ]
    },
    {
     "name": "stderr",
     "output_type": "stream",
     "text": [
      "Processing images:  29%|██▊       | 1072/3750 [00:41<01:13, 36.24it/s]"
     ]
    },
    {
     "name": "stdout",
     "output_type": "stream",
     "text": [
      "An error occurred with C:/github/Third-Year-Project/Intruder-Aircraft-Detection/datasets/Custom/weather_01_2500\\images\\train-aug\\24484.jpg: Expected x_max for bbox (0.288232, 0.5063555, 1.0517779999999999, 1.0153865, 1) to be in the range [0.0, 1.0], got 1.0517779999999999.\n",
      "An error occurred with C:/github/Third-Year-Project/Intruder-Aircraft-Detection/datasets/Custom/weather_01_2500\\images\\train-aug\\24484-histEq.jpg: Expected x_max for bbox (0.288232, 0.5063555, 1.0517779999999999, 1.0153865, 1) to be in the range [0.0, 1.0], got 1.0517779999999999.\n"
     ]
    },
    {
     "name": "stderr",
     "output_type": "stream",
     "text": [
      "Processing images:  32%|███▏      | 1193/3750 [00:45<01:20, 31.73it/s]"
     ]
    },
    {
     "name": "stdout",
     "output_type": "stream",
     "text": [
      "An error occurred with C:/github/Third-Year-Project/Intruder-Aircraft-Detection/datasets/Custom/weather_01_2500\\images\\train-aug\\24664.jpg: Expected x_min for bbox (-0.012226999999999988, 0.5140865000000001, 0.810117, 1.0623155, 1) to be in the range [0.0, 1.0], got -0.012226999999999988.\n"
     ]
    },
    {
     "name": "stderr",
     "output_type": "stream",
     "text": [
      "Processing images:  36%|███▋      | 1362/3750 [00:51<01:11, 33.55it/s]"
     ]
    },
    {
     "name": "stdout",
     "output_type": "stream",
     "text": [
      "An error occurred with C:/github/Third-Year-Project/Intruder-Aircraft-Detection/datasets/Custom/weather_01_2500\\images\\train-aug\\24891.jpg: Expected x_min for bbox (-0.01830599999999999, 0.35310800000000003, 0.48958799999999997, 0.6917040000000001, 1) to be in the range [0.0, 1.0], got -0.01830599999999999.\n"
     ]
    },
    {
     "name": "stderr",
     "output_type": "stream",
     "text": [
      "Processing images:  47%|████▋     | 1763/3750 [01:03<00:55, 35.57it/s]"
     ]
    },
    {
     "name": "stdout",
     "output_type": "stream",
     "text": [
      "An error occurred with C:/github/Third-Year-Project/Intruder-Aircraft-Detection/datasets/Custom/weather_01_2500\\images\\train-aug\\25571.jpg: Expected x_min for bbox (-0.012365500000000001, 0.2159135, 0.4833855, 0.5464145, 1) to be in the range [0.0, 1.0], got -0.012365500000000001.\n"
     ]
    },
    {
     "name": "stderr",
     "output_type": "stream",
     "text": [
      "Processing images:  49%|████▉     | 1852/3750 [01:06<00:53, 35.71it/s]"
     ]
    },
    {
     "name": "stdout",
     "output_type": "stream",
     "text": [
      "An error occurred with C:/github/Third-Year-Project/Intruder-Aircraft-Detection/datasets/Custom/weather_01_2500\\images\\train-aug\\25695.jpg: Expected x_max for bbox (0.3757315, 0.3660325, 1.0766624999999999, 0.8333195, 1) to be in the range [0.0, 1.0], got 1.0766624999999999.\n",
      "An error occurred with C:/github/Third-Year-Project/Intruder-Aircraft-Detection/datasets/Custom/weather_01_2500\\images\\train-aug\\25695-histEq.jpg: Expected x_max for bbox (0.3757315, 0.3660325, 1.0766624999999999, 0.8333195, 1) to be in the range [0.0, 1.0], got 1.0766624999999999.\n"
     ]
    },
    {
     "name": "stderr",
     "output_type": "stream",
     "text": [
      "Processing images:  60%|██████    | 2262/3750 [01:18<00:41, 35.87it/s]"
     ]
    },
    {
     "name": "stdout",
     "output_type": "stream",
     "text": [
      "An error occurred with C:/github/Third-Year-Project/Intruder-Aircraft-Detection/datasets/Custom/weather_01_2500\\images\\train-aug\\48127.jpg: Expected x_max for bbox (0.405781, 0.446345, 1.002591, 0.844219, 2) to be in the range [0.0, 1.0], got 1.002591.\n"
     ]
    },
    {
     "name": "stderr",
     "output_type": "stream",
     "text": [
      "Processing images:  68%|██████▊   | 2558/3750 [01:27<00:35, 33.80it/s]"
     ]
    },
    {
     "name": "stdout",
     "output_type": "stream",
     "text": [
      "An error occurred with C:/github/Third-Year-Project/Intruder-Aircraft-Detection/datasets/Custom/weather_01_2500\\images\\train-aug\\48545.jpg: Expected x_max for bbox (0.139949, 0.11087449999999999, 1.0701450000000001, 0.7310055, 2) to be in the range [0.0, 1.0], got 1.0701450000000001.\n"
     ]
    },
    {
     "name": "stderr",
     "output_type": "stream",
     "text": [
      "Processing images:  70%|███████   | 2639/3750 [01:30<00:30, 36.07it/s]"
     ]
    },
    {
     "name": "stdout",
     "output_type": "stream",
     "text": [
      "An error occurred with C:/github/Third-Year-Project/Intruder-Aircraft-Detection/datasets/Custom/weather_01_2500\\images\\train-aug\\48653.jpg: In YOLO format all coordinates must be float and in range (0, 1]\n"
     ]
    },
    {
     "name": "stderr",
     "output_type": "stream",
     "text": [
      "Processing images:  71%|███████▏  | 2676/3750 [01:31<00:31, 34.12it/s]"
     ]
    },
    {
     "name": "stdout",
     "output_type": "stream",
     "text": [
      "An error occurred with C:/github/Third-Year-Project/Intruder-Aircraft-Detection/datasets/Custom/weather_01_2500\\images\\train-aug\\48705.jpg: Expected x_min for bbox (-0.07913550000000003, 0.055376499999999995, 0.8971595, 0.7062394999999999, 2) to be in the range [0.0, 1.0], got -0.07913550000000003.\n"
     ]
    },
    {
     "name": "stderr",
     "output_type": "stream",
     "text": [
      "Processing images:  74%|███████▎  | 2765/3750 [01:34<00:28, 34.79it/s]"
     ]
    },
    {
     "name": "stdout",
     "output_type": "stream",
     "text": [
      "An error occurred with C:/github/Third-Year-Project/Intruder-Aircraft-Detection/datasets/Custom/weather_01_2500\\images\\train-aug\\48839.jpg: Expected y_max for bbox (0.07873799999999997, 0.6116285, 0.708052, 1.0311715000000001, 2) to be in the range [0.0, 1.0], got 1.0311715000000001.\n"
     ]
    },
    {
     "name": "stderr",
     "output_type": "stream",
     "text": [
      "Processing images:  76%|███████▌  | 2846/3750 [01:36<00:25, 35.95it/s]"
     ]
    },
    {
     "name": "stdout",
     "output_type": "stream",
     "text": [
      "An error occurred with C:/github/Third-Year-Project/Intruder-Aircraft-Detection/datasets/Custom/weather_01_2500\\images\\train-aug\\49062.jpg: Expected y_min for bbox (0.028610999999999998, -0.0326805, 0.831313, 0.5024545, 2) to be in the range [0.0, 1.0], got -0.0326805.\n",
      "An error occurred with C:/github/Third-Year-Project/Intruder-Aircraft-Detection/datasets/Custom/weather_01_2500\\images\\train-aug\\49062-histEq.jpg: Expected y_min for bbox (0.028610999999999998, -0.0326805, 0.831313, 0.5024545, 2) to be in the range [0.0, 1.0], got -0.0326805.\n"
     ]
    },
    {
     "name": "stderr",
     "output_type": "stream",
     "text": [
      "Processing images:  78%|███████▊  | 2908/3750 [01:38<00:23, 35.67it/s]"
     ]
    },
    {
     "name": "stdout",
     "output_type": "stream",
     "text": [
      "An error occurred with C:/github/Third-Year-Project/Intruder-Aircraft-Detection/datasets/Custom/weather_01_2500\\images\\train-aug\\49148.jpg: Expected y_min for bbox (0.006384999999999974, -0.030349999999999988, 0.652875, 0.400644, 2) to be in the range [0.0, 1.0], got -0.030349999999999988.\n"
     ]
    },
    {
     "name": "stderr",
     "output_type": "stream",
     "text": [
      "Processing images:  88%|████████▊ | 3305/3750 [01:50<00:12, 36.57it/s]"
     ]
    },
    {
     "name": "stdout",
     "output_type": "stream",
     "text": [
      "An error occurred with C:/github/Third-Year-Project/Intruder-Aircraft-Detection/datasets/Custom/weather_01_2500\\images\\train-aug\\49729.jpg: Expected x_max for bbox (0.425531, 0.400972, 1.050599, 0.8176840000000001, 2) to be in the range [0.0, 1.0], got 1.050599.\n"
     ]
    },
    {
     "name": "stderr",
     "output_type": "stream",
     "text": [
      "Processing images:  99%|█████████▉| 3719/3750 [02:02<00:00, 37.38it/s]"
     ]
    },
    {
     "name": "stdout",
     "output_type": "stream",
     "text": [
      "An error occurred with C:/github/Third-Year-Project/Intruder-Aircraft-Detection/datasets/Custom/weather_01_2500\\images\\train-aug\\873.jpg: Expected y_max for bbox (0.45458450000000006, 0.7181775, 0.9206275, 1.0288725, 0) to be in the range [0.0, 1.0], got 1.0288725.\n",
      "An error occurred with C:/github/Third-Year-Project/Intruder-Aircraft-Detection/datasets/Custom/weather_01_2500\\images\\train-aug\\873-histEq.jpg: Expected y_max for bbox (0.45458450000000006, 0.7181775, 0.9206275, 1.0288725, 0) to be in the range [0.0, 1.0], got 1.0288725.\n"
     ]
    },
    {
     "name": "stderr",
     "output_type": "stream",
     "text": [
      "Processing images: 100%|██████████| 3750/3750 [02:03<00:00, 30.33it/s]\n",
      "Processing images:  63%|██████▎   | 313/500 [00:10<00:05, 35.72it/s]"
     ]
    },
    {
     "name": "stdout",
     "output_type": "stream",
     "text": [
      "An error occurred with C:/github/Third-Year-Project/Intruder-Aircraft-Detection/datasets/Custom/weather_01_2500\\images\\valid\\48967.jpg: Expected x_max for bbox (0.391763, 0.222879, 1.0974650000000001, 0.6933469999999999, 2) to be in the range [0.0, 1.0], got 1.0974650000000001.\n",
      "An error occurred with C:/github/Third-Year-Project/Intruder-Aircraft-Detection/datasets/Custom/weather_01_2500\\images\\valid\\48958.jpg: Expected y_min for bbox (0.11869149999999995, -0.083345, 1.0148305, 0.514081, 2) to be in the range [0.0, 1.0], got -0.083345.\n"
     ]
    },
    {
     "name": "stderr",
     "output_type": "stream",
     "text": [
      "Processing images:  77%|███████▋  | 386/500 [00:12<00:03, 35.68it/s]"
     ]
    },
    {
     "name": "stdout",
     "output_type": "stream",
     "text": [
      "An error occurred with C:/github/Third-Year-Project/Intruder-Aircraft-Detection/datasets/Custom/weather_01_2500\\images\\valid\\49956.jpg: Expected x_min for bbox (-0.11142649999999998, 0.37090300000000004, 0.7043905, 0.9147810000000001, 2) to be in the range [0.0, 1.0], got -0.11142649999999998.\n"
     ]
    },
    {
     "name": "stderr",
     "output_type": "stream",
     "text": [
      "Processing images: 100%|██████████| 500/500 [00:16<00:00, 30.79it/s]\n",
      "Moving images in train: 100%|██████████| 2480/2480 [00:09<00:00, 271.65it/s]\n",
      "Moving images in train-aug: 100%|██████████| 3721/3721 [00:11<00:00, 336.31it/s]\n",
      "Moving images in valid: 100%|██████████| 497/497 [00:01<00:00, 261.71it/s]\n"
     ]
    },
    {
     "name": "stdout",
     "output_type": "stream",
     "text": [
      "Found 2480 files belonging to 3 classes.\n",
      "Found 3721 files belonging to 3 classes.\n",
      "Found 497 files belonging to 3 classes.\n",
      "ClearML Task: created new task id=0ca29f42aac84cd4ad76e5d20586db03\n",
      "ClearML results page: https://app.clear.ml/projects/62a798cfc814437d80f9638b3e3aca6d/experiments/0ca29f42aac84cd4ad76e5d20586db03/output/log\n",
      "Training model...\n",
      "Epoch 1/30\n",
      "\u001b[1m78/78\u001b[0m \u001b[32m━━━━━━━━━━━━━━━━━━━━\u001b[0m\u001b[37m\u001b[0m \u001b[1m21s\u001b[0m 243ms/step - accuracy: 0.3094 - loss: 1.5523 - precision: 0.3036 - recall: 0.0683 - val_accuracy: 0.3380 - val_loss: 1.0986 - val_precision: 0.0000e+00 - val_recall: 0.0000e+00\n",
      "Epoch 2/30\n",
      "\u001b[1m78/78\u001b[0m \u001b[32m━━━━━━━━━━━━━━━━━━━━\u001b[0m\u001b[37m\u001b[0m \u001b[1m17s\u001b[0m 220ms/step - accuracy: 0.3342 - loss: 1.0988 - precision: 0.0000e+00 - recall: 0.0000e+00 - val_accuracy: 0.3380 - val_loss: 1.0985 - val_precision: 0.0000e+00 - val_recall: 0.0000e+00\n",
      "Epoch 3/30\n",
      "\u001b[1m78/78\u001b[0m \u001b[32m━━━━━━━━━━━━━━━━━━━━\u001b[0m\u001b[37m\u001b[0m \u001b[1m18s\u001b[0m 233ms/step - accuracy: 0.3232 - loss: 1.0993 - precision: 0.0000e+00 - recall: 0.0000e+00 - val_accuracy: 0.3380 - val_loss: 1.0985 - val_precision: 0.0000e+00 - val_recall: 0.0000e+00\n",
      "Epoch 4/30\n",
      "\u001b[1m78/78\u001b[0m \u001b[32m━━━━━━━━━━━━━━━━━━━━\u001b[0m\u001b[37m\u001b[0m \u001b[1m18s\u001b[0m 222ms/step - accuracy: 0.3360 - loss: 1.0986 - precision: 0.0000e+00 - recall: 0.0000e+00 - val_accuracy: 0.3924 - val_loss: 1.0983 - val_precision: 0.0000e+00 - val_recall: 0.0000e+00\n",
      "Epoch 5/30\n",
      "\u001b[1m78/78\u001b[0m \u001b[32m━━━━━━━━━━━━━━━━━━━━\u001b[0m\u001b[37m\u001b[0m \u001b[1m18s\u001b[0m 232ms/step - accuracy: 0.3651 - loss: 1.0982 - precision: 0.0000e+00 - recall: 0.0000e+00 - val_accuracy: 0.3380 - val_loss: 1.0982 - val_precision: 0.0000e+00 - val_recall: 0.0000e+00\n",
      "Epoch 6/30\n",
      "\u001b[1m78/78\u001b[0m \u001b[32m━━━━━━━━━━━━━━━━━━━━\u001b[0m\u001b[37m\u001b[0m \u001b[1m18s\u001b[0m 222ms/step - accuracy: 0.3363 - loss: 1.0986 - precision: 0.0000e+00 - recall: 0.0000e+00 - val_accuracy: 0.3280 - val_loss: 1.0989 - val_precision: 0.0000e+00 - val_recall: 0.0000e+00\n",
      "Epoch 7/30\n",
      "\u001b[1m78/78\u001b[0m \u001b[32m━━━━━━━━━━━━━━━━━━━━\u001b[0m\u001b[37m\u001b[0m \u001b[1m18s\u001b[0m 228ms/step - accuracy: 0.3384 - loss: 1.0985 - precision: 0.0000e+00 - recall: 0.0000e+00 - val_accuracy: 0.4064 - val_loss: 1.0962 - val_precision: 0.0000e+00 - val_recall: 0.0000e+00\n",
      "Epoch 8/30\n",
      "\u001b[1m78/78\u001b[0m \u001b[32m━━━━━━━━━━━━━━━━━━━━\u001b[0m\u001b[37m\u001b[0m \u001b[1m18s\u001b[0m 223ms/step - accuracy: 0.3873 - loss: 1.0953 - precision: 0.0000e+00 - recall: 0.0000e+00 - val_accuracy: 0.3239 - val_loss: 1.0939 - val_precision: 0.0000e+00 - val_recall: 0.0000e+00\n",
      "Epoch 9/30\n",
      "\u001b[1m78/78\u001b[0m \u001b[32m━━━━━━━━━━━━━━━━━━━━\u001b[0m\u001b[37m\u001b[0m \u001b[1m18s\u001b[0m 223ms/step - accuracy: 0.3717 - loss: 1.0896 - precision: 0.4557 - recall: 2.4886e-04 - val_accuracy: 0.3400 - val_loss: 1.0770 - val_precision: 0.5000 - val_recall: 0.0141\n",
      "Epoch 10/30\n",
      "\u001b[1m78/78\u001b[0m \u001b[32m━━━━━━━━━━━━━━━━━━━━\u001b[0m\u001b[37m\u001b[0m \u001b[1m18s\u001b[0m 230ms/step - accuracy: 0.3821 - loss: 1.0884 - precision: 0.3858 - recall: 0.0097 - val_accuracy: 0.3481 - val_loss: 1.0847 - val_precision: 0.0000e+00 - val_recall: 0.0000e+00\n",
      "Epoch 11/30\n",
      "\u001b[1m78/78\u001b[0m \u001b[32m━━━━━━━━━━━━━━━━━━━━\u001b[0m\u001b[37m\u001b[0m \u001b[1m18s\u001b[0m 220ms/step - accuracy: 0.4058 - loss: 1.0833 - precision: 0.4048 - recall: 0.0051 - val_accuracy: 0.3441 - val_loss: 1.0832 - val_precision: 0.3000 - val_recall: 0.0060\n",
      "Epoch 12/30\n",
      "\u001b[1m78/78\u001b[0m \u001b[32m━━━━━━━━━━━━━━━━━━━━\u001b[0m\u001b[37m\u001b[0m \u001b[1m18s\u001b[0m 233ms/step - accuracy: 0.4160 - loss: 1.0812 - precision: 0.3960 - recall: 0.0047 - val_accuracy: 0.3421 - val_loss: 1.0774 - val_precision: 0.5000 - val_recall: 0.0483\n",
      "Epoch 13/30\n",
      "\u001b[1m78/78\u001b[0m \u001b[32m━━━━━━━━━━━━━━━━━━━━\u001b[0m\u001b[37m\u001b[0m \u001b[1m17s\u001b[0m 220ms/step - accuracy: 0.4019 - loss: 1.0801 - precision: 0.4652 - recall: 0.0205 - val_accuracy: 0.3783 - val_loss: 1.0820 - val_precision: 0.5208 - val_recall: 0.0503\n",
      "Epoch 14/30\n",
      "\u001b[1m78/78\u001b[0m \u001b[32m━━━━━━━━━━━━━━━━━━━━\u001b[0m\u001b[37m\u001b[0m \u001b[1m18s\u001b[0m 232ms/step - accuracy: 0.4168 - loss: 1.0734 - precision: 0.5737 - recall: 0.0427 - val_accuracy: 0.4427 - val_loss: 1.0744 - val_precision: 0.3333 - val_recall: 0.0020\n",
      "Epoch 15/30\n",
      "\u001b[1m78/78\u001b[0m \u001b[32m━━━━━━━━━━━━━━━━━━━━\u001b[0m\u001b[37m\u001b[0m \u001b[1m18s\u001b[0m 223ms/step - accuracy: 0.4050 - loss: 1.0756 - precision: 0.4940 - recall: 0.0256 - val_accuracy: 0.4608 - val_loss: 1.0583 - val_precision: 0.5102 - val_recall: 0.0503\n",
      "Epoch 16/30\n",
      "\u001b[1m78/78\u001b[0m \u001b[32m━━━━━━━━━━━━━━━━━━━━\u001b[0m\u001b[37m\u001b[0m \u001b[1m19s\u001b[0m 236ms/step - accuracy: 0.4423 - loss: 1.0734 - precision: 0.5312 - recall: 0.0677 - val_accuracy: 0.3602 - val_loss: 1.0680 - val_precision: 0.5385 - val_recall: 0.0563\n",
      "Epoch 17/30\n",
      "\u001b[1m78/78\u001b[0m \u001b[32m━━━━━━━━━━━━━━━━━━━━\u001b[0m\u001b[37m\u001b[0m \u001b[1m17s\u001b[0m 219ms/step - accuracy: 0.4408 - loss: 1.0622 - precision: 0.5805 - recall: 0.0559 - val_accuracy: 0.3823 - val_loss: 1.0656 - val_precision: 0.5854 - val_recall: 0.0483\n",
      "Epoch 18/30\n",
      "\u001b[1m78/78\u001b[0m \u001b[32m━━━━━━━━━━━━━━━━━━━━\u001b[0m\u001b[37m\u001b[0m \u001b[1m18s\u001b[0m 233ms/step - accuracy: 0.4312 - loss: 1.0573 - precision: 0.5523 - recall: 0.0853 - val_accuracy: 0.4386 - val_loss: 1.1634 - val_precision: 0.5306 - val_recall: 0.2616\n",
      "Epoch 19/30\n",
      "\u001b[1m78/78\u001b[0m \u001b[32m━━━━━━━━━━━━━━━━━━━━\u001b[0m\u001b[37m\u001b[0m \u001b[1m17s\u001b[0m 221ms/step - accuracy: 0.4443 - loss: 1.0953 - precision: 0.5191 - recall: 0.1126 - val_accuracy: 0.3421 - val_loss: 1.1002 - val_precision: 0.0000e+00 - val_recall: 0.0000e+00\n",
      "Epoch 20/30\n",
      "\u001b[1m78/78\u001b[0m \u001b[32m━━━━━━━━━━━━━━━━━━━━\u001b[0m\u001b[37m\u001b[0m \u001b[1m18s\u001b[0m 230ms/step - accuracy: 0.3485 - loss: 1.0962 - precision: 0.0000e+00 - recall: 0.0000e+00 - val_accuracy: 0.3380 - val_loss: 1.0902 - val_precision: 0.0000e+00 - val_recall: 0.0000e+00\n",
      "Epoch 21/30\n",
      "\u001b[1m78/78\u001b[0m \u001b[32m━━━━━━━━━━━━━━━━━━━━\u001b[0m\u001b[37m\u001b[0m \u001b[1m18s\u001b[0m 222ms/step - accuracy: 0.3828 - loss: 1.0922 - precision: 0.0916 - recall: 9.1379e-04 - val_accuracy: 0.3541 - val_loss: 1.0864 - val_precision: 0.0000e+00 - val_recall: 0.0000e+00\n",
      "Epoch 22/30\n",
      "\u001b[1m78/78\u001b[0m \u001b[32m━━━━━━━━━━━━━━━━━━━━\u001b[0m\u001b[37m\u001b[0m \u001b[1m18s\u001b[0m 222ms/step - accuracy: 0.4155 - loss: 1.0849 - precision: 0.3088 - recall: 0.0078 - val_accuracy: 0.3682 - val_loss: 1.0610 - val_precision: 0.5000 - val_recall: 0.0584\n",
      "Epoch 23/30\n",
      "\u001b[1m78/78\u001b[0m \u001b[32m━━━━━━━━━━━━━━━━━━━━\u001b[0m\u001b[37m\u001b[0m \u001b[1m18s\u001b[0m 231ms/step - accuracy: 0.4943 - loss: 1.0305 - precision: 0.5983 - recall: 0.1359 - val_accuracy: 0.5453 - val_loss: 0.9745 - val_precision: 0.6349 - val_recall: 0.1610\n",
      "Epoch 24/30\n",
      "\u001b[1m78/78\u001b[0m \u001b[32m━━━━━━━━━━━━━━━━━━━━\u001b[0m\u001b[37m\u001b[0m \u001b[1m17s\u001b[0m 221ms/step - accuracy: 0.5636 - loss: 0.9300 - precision: 0.6685 - recall: 0.3506 - val_accuracy: 0.4346 - val_loss: 1.0208 - val_precision: 0.7738 - val_recall: 0.1308\n",
      "Epoch 25/30\n",
      "\u001b[1m78/78\u001b[0m \u001b[32m━━━━━━━━━━━━━━━━━━━━\u001b[0m\u001b[37m\u001b[0m \u001b[1m18s\u001b[0m 234ms/step - accuracy: 0.5220 - loss: 0.9812 - precision: 0.6615 - recall: 0.2728 - val_accuracy: 0.6841 - val_loss: 0.7651 - val_precision: 0.7173 - val_recall: 0.5412\n",
      "Epoch 26/30\n",
      "\u001b[1m78/78\u001b[0m \u001b[32m━━━━━━━━━━━━━━━━━━━━\u001b[0m\u001b[37m\u001b[0m \u001b[1m18s\u001b[0m 222ms/step - accuracy: 0.7052 - loss: 0.6951 - precision: 0.7552 - recall: 0.6021 - val_accuracy: 0.7706 - val_loss: 0.6428 - val_precision: 0.8022 - val_recall: 0.7264\n",
      "Epoch 27/30\n",
      "\u001b[1m78/78\u001b[0m \u001b[32m━━━━━━━━━━━━━━━━━━━━\u001b[0m\u001b[37m\u001b[0m \u001b[1m19s\u001b[0m 234ms/step - accuracy: 0.7683 - loss: 0.5680 - precision: 0.7934 - recall: 0.7217 - val_accuracy: 0.7867 - val_loss: 0.6257 - val_precision: 0.8022 - val_recall: 0.7425\n",
      "Epoch 28/30\n",
      "\u001b[1m78/78\u001b[0m \u001b[32m━━━━━━━━━━━━━━━━━━━━\u001b[0m\u001b[37m\u001b[0m \u001b[1m18s\u001b[0m 221ms/step - accuracy: 0.8009 - loss: 0.4910 - precision: 0.8201 - recall: 0.7715 - val_accuracy: 0.7042 - val_loss: 0.7523 - val_precision: 0.7440 - val_recall: 0.6258\n",
      "Epoch 29/30\n",
      "\u001b[1m78/78\u001b[0m \u001b[32m━━━━━━━━━━━━━━━━━━━━\u001b[0m\u001b[37m\u001b[0m \u001b[1m18s\u001b[0m 234ms/step - accuracy: 0.8044 - loss: 0.4682 - precision: 0.8320 - recall: 0.7653 - val_accuracy: 0.7928 - val_loss: 0.6103 - val_precision: 0.8116 - val_recall: 0.7626\n",
      "Epoch 30/30\n",
      "\u001b[1m78/78\u001b[0m \u001b[32m━━━━━━━━━━━━━━━━━━━━\u001b[0m\u001b[37m\u001b[0m \u001b[1m17s\u001b[0m 221ms/step - accuracy: 0.8455 - loss: 0.3952 - precision: 0.8645 - recall: 0.8266 - val_accuracy: 0.7887 - val_loss: 0.6729 - val_precision: 0.7979 - val_recall: 0.7626\n",
      "Predicting on validation set...\n",
      "\u001b[1m16/16\u001b[0m \u001b[32m━━━━━━━━━━━━━━━━━━━━\u001b[0m\u001b[37m\u001b[0m \u001b[1m1s\u001b[0m 55ms/step\n",
      "Sending metrics to clearML...\n",
      "done\n",
      "ClearML Task: created new task id=01822962846c4429b216c5dcb6f02e7b\n",
      "ClearML results page: https://app.clear.ml/projects/62a798cfc814437d80f9638b3e3aca6d/experiments/01822962846c4429b216c5dcb6f02e7b/output/log\n",
      "Training model...\n",
      "Epoch 1/30\n",
      "\u001b[1m117/117\u001b[0m \u001b[32m━━━━━━━━━━━━━━━━━━━━\u001b[0m\u001b[37m\u001b[0m \u001b[1m30s\u001b[0m 236ms/step - accuracy: 0.3344 - loss: 1.5169 - precision: 0.3138 - recall: 0.0456 - val_accuracy: 0.3340 - val_loss: 1.0985 - val_precision: 0.0000e+00 - val_recall: 0.0000e+00\n",
      "Epoch 2/30\n",
      "\u001b[1m117/117\u001b[0m \u001b[32m━━━━━━━━━━━━━━━━━━━━\u001b[0m\u001b[37m\u001b[0m \u001b[1m26s\u001b[0m 224ms/step - accuracy: 0.3142 - loss: 1.0990 - precision: 0.0000e+00 - recall: 0.0000e+00 - val_accuracy: 0.3280 - val_loss: 1.0995 - val_precision: 0.0000e+00 - val_recall: 0.0000e+00\n",
      "Epoch 3/30\n",
      "\u001b[1m117/117\u001b[0m \u001b[32m━━━━━━━━━━━━━━━━━━━━\u001b[0m\u001b[37m\u001b[0m \u001b[1m26s\u001b[0m 217ms/step - accuracy: 0.3483 - loss: 1.0990 - precision: 0.3538 - recall: 0.0013 - val_accuracy: 0.3803 - val_loss: 1.0975 - val_precision: 0.0000e+00 - val_recall: 0.0000e+00\n",
      "Epoch 4/30\n",
      "\u001b[1m117/117\u001b[0m \u001b[32m━━━━━━━━━━━━━━━━━━━━\u001b[0m\u001b[37m\u001b[0m \u001b[1m27s\u001b[0m 225ms/step - accuracy: 0.4781 - loss: 1.0427 - precision: 0.5033 - recall: 0.0936 - val_accuracy: 0.6298 - val_loss: 0.8132 - val_precision: 0.6675 - val_recall: 0.5412\n",
      "Epoch 5/30\n",
      "\u001b[1m117/117\u001b[0m \u001b[32m━━━━━━━━━━━━━━━━━━━━\u001b[0m\u001b[37m\u001b[0m \u001b[1m27s\u001b[0m 226ms/step - accuracy: 0.6704 - loss: 0.7711 - precision: 0.7325 - recall: 0.5109 - val_accuracy: 0.7062 - val_loss: 0.6957 - val_precision: 0.7613 - val_recall: 0.6097\n",
      "Epoch 6/30\n",
      "\u001b[1m117/117\u001b[0m \u001b[32m━━━━━━━━━━━━━━━━━━━━\u001b[0m\u001b[37m\u001b[0m \u001b[1m26s\u001b[0m 218ms/step - accuracy: 0.7725 - loss: 0.5557 - precision: 0.8029 - recall: 0.7195 - val_accuracy: 0.7726 - val_loss: 0.6550 - val_precision: 0.7906 - val_recall: 0.7445\n",
      "Epoch 7/30\n",
      "\u001b[1m117/117\u001b[0m \u001b[32m━━━━━━━━━━━━━━━━━━━━\u001b[0m\u001b[37m\u001b[0m \u001b[1m27s\u001b[0m 224ms/step - accuracy: 0.8346 - loss: 0.4168 - precision: 0.8450 - recall: 0.8072 - val_accuracy: 0.7948 - val_loss: 0.6181 - val_precision: 0.8038 - val_recall: 0.7746\n",
      "Epoch 8/30\n",
      "\u001b[1m117/117\u001b[0m \u001b[32m━━━━━━━━━━━━━━━━━━━━\u001b[0m\u001b[37m\u001b[0m \u001b[1m27s\u001b[0m 225ms/step - accuracy: 0.8688 - loss: 0.3228 - precision: 0.8792 - recall: 0.8551 - val_accuracy: 0.8229 - val_loss: 0.6221 - val_precision: 0.8251 - val_recall: 0.8068\n",
      "Epoch 9/30\n",
      "\u001b[1m117/117\u001b[0m \u001b[32m━━━━━━━━━━━━━━━━━━━━\u001b[0m\u001b[37m\u001b[0m \u001b[1m26s\u001b[0m 219ms/step - accuracy: 0.8994 - loss: 0.2562 - precision: 0.9116 - recall: 0.8935 - val_accuracy: 0.8249 - val_loss: 0.6203 - val_precision: 0.8295 - val_recall: 0.8028\n",
      "Epoch 10/30\n",
      "\u001b[1m117/117\u001b[0m \u001b[32m━━━━━━━━━━━━━━━━━━━━\u001b[0m\u001b[37m\u001b[0m \u001b[1m27s\u001b[0m 226ms/step - accuracy: 0.9235 - loss: 0.2061 - precision: 0.9303 - recall: 0.9151 - val_accuracy: 0.8068 - val_loss: 0.6749 - val_precision: 0.8206 - val_recall: 0.8008\n",
      "Epoch 11/30\n",
      "\u001b[1m117/117\u001b[0m \u001b[32m━━━━━━━━━━━━━━━━━━━━\u001b[0m\u001b[37m\u001b[0m \u001b[1m27s\u001b[0m 227ms/step - accuracy: 0.9337 - loss: 0.1786 - precision: 0.9396 - recall: 0.9294 - val_accuracy: 0.8169 - val_loss: 0.8108 - val_precision: 0.8221 - val_recall: 0.8089\n",
      "Epoch 12/30\n",
      "\u001b[1m117/117\u001b[0m \u001b[32m━━━━━━━━━━━━━━━━━━━━\u001b[0m\u001b[37m\u001b[0m \u001b[1m26s\u001b[0m 218ms/step - accuracy: 0.9423 - loss: 0.1607 - precision: 0.9466 - recall: 0.9367 - val_accuracy: 0.8310 - val_loss: 0.7584 - val_precision: 0.8371 - val_recall: 0.8270\n",
      "Epoch 13/30\n",
      "\u001b[1m117/117\u001b[0m \u001b[32m━━━━━━━━━━━━━━━━━━━━\u001b[0m\u001b[37m\u001b[0m \u001b[1m27s\u001b[0m 226ms/step - accuracy: 0.9467 - loss: 0.1338 - precision: 0.9514 - recall: 0.9455 - val_accuracy: 0.8249 - val_loss: 0.8181 - val_precision: 0.8289 - val_recall: 0.8189\n",
      "Epoch 14/30\n",
      "\u001b[1m117/117\u001b[0m \u001b[32m━━━━━━━━━━━━━━━━━━━━\u001b[0m\u001b[37m\u001b[0m \u001b[1m26s\u001b[0m 224ms/step - accuracy: 0.9493 - loss: 0.1292 - precision: 0.9528 - recall: 0.9465 - val_accuracy: 0.8451 - val_loss: 0.8831 - val_precision: 0.8465 - val_recall: 0.8431\n",
      "Epoch 15/30\n",
      "\u001b[1m117/117\u001b[0m \u001b[32m━━━━━━━━━━━━━━━━━━━━\u001b[0m\u001b[37m\u001b[0m \u001b[1m26s\u001b[0m 218ms/step - accuracy: 0.9616 - loss: 0.1025 - precision: 0.9653 - recall: 0.9603 - val_accuracy: 0.8310 - val_loss: 0.9762 - val_precision: 0.8306 - val_recall: 0.8290\n",
      "Epoch 16/30\n",
      "\u001b[1m117/117\u001b[0m \u001b[32m━━━━━━━━━━━━━━━━━━━━\u001b[0m\u001b[37m\u001b[0m \u001b[1m26s\u001b[0m 223ms/step - accuracy: 0.9679 - loss: 0.0930 - precision: 0.9688 - recall: 0.9678 - val_accuracy: 0.8129 - val_loss: 0.9071 - val_precision: 0.8187 - val_recall: 0.8089\n",
      "Epoch 17/30\n",
      "\u001b[1m117/117\u001b[0m \u001b[32m━━━━━━━━━━━━━━━━━━━━\u001b[0m\u001b[37m\u001b[0m \u001b[1m26s\u001b[0m 224ms/step - accuracy: 0.9729 - loss: 0.0824 - precision: 0.9731 - recall: 0.9715 - val_accuracy: 0.8169 - val_loss: 1.0115 - val_precision: 0.8187 - val_recall: 0.8089\n",
      "Epoch 18/30\n",
      "\u001b[1m117/117\u001b[0m \u001b[32m━━━━━━━━━━━━━━━━━━━━\u001b[0m\u001b[37m\u001b[0m \u001b[1m26s\u001b[0m 217ms/step - accuracy: 0.9611 - loss: 0.0997 - precision: 0.9634 - recall: 0.9595 - val_accuracy: 0.8390 - val_loss: 1.0746 - val_precision: 0.8394 - val_recall: 0.8310\n",
      "Epoch 19/30\n",
      "\u001b[1m117/117\u001b[0m \u001b[32m━━━━━━━━━━━━━━━━━━━━\u001b[0m\u001b[37m\u001b[0m \u001b[1m27s\u001b[0m 227ms/step - accuracy: 0.9746 - loss: 0.0807 - precision: 0.9773 - recall: 0.9727 - val_accuracy: 0.8491 - val_loss: 1.0810 - val_precision: 0.8482 - val_recall: 0.8431\n",
      "Epoch 20/30\n",
      "\u001b[1m117/117\u001b[0m \u001b[32m━━━━━━━━━━━━━━━━━━━━\u001b[0m\u001b[37m\u001b[0m \u001b[1m26s\u001b[0m 223ms/step - accuracy: 0.9751 - loss: 0.0666 - precision: 0.9762 - recall: 0.9734 - val_accuracy: 0.8491 - val_loss: 1.0480 - val_precision: 0.8491 - val_recall: 0.8491\n",
      "Epoch 21/30\n",
      "\u001b[1m117/117\u001b[0m \u001b[32m━━━━━━━━━━━━━━━━━━━━\u001b[0m\u001b[37m\u001b[0m \u001b[1m26s\u001b[0m 215ms/step - accuracy: 0.9689 - loss: 0.0916 - precision: 0.9706 - recall: 0.9677 - val_accuracy: 0.8330 - val_loss: 1.0144 - val_precision: 0.8360 - val_recall: 0.8310\n",
      "Epoch 22/30\n",
      "\u001b[1m117/117\u001b[0m \u001b[32m━━━━━━━━━━━━━━━━━━━━\u001b[0m\u001b[37m\u001b[0m \u001b[1m27s\u001b[0m 225ms/step - accuracy: 0.9794 - loss: 0.0510 - precision: 0.9795 - recall: 0.9791 - val_accuracy: 0.8109 - val_loss: 0.9823 - val_precision: 0.8105 - val_recall: 0.8089\n",
      "Epoch 23/30\n",
      "\u001b[1m117/117\u001b[0m \u001b[32m━━━━━━━━━━━━━━━━━━━━\u001b[0m\u001b[37m\u001b[0m \u001b[1m27s\u001b[0m 228ms/step - accuracy: 0.9822 - loss: 0.0505 - precision: 0.9822 - recall: 0.9819 - val_accuracy: 0.8451 - val_loss: 1.1388 - val_precision: 0.8482 - val_recall: 0.8431\n",
      "Epoch 24/30\n",
      "\u001b[1m117/117\u001b[0m \u001b[32m━━━━━━━━━━━━━━━━━━━━\u001b[0m\u001b[37m\u001b[0m \u001b[1m26s\u001b[0m 216ms/step - accuracy: 0.9811 - loss: 0.0458 - precision: 0.9813 - recall: 0.9804 - val_accuracy: 0.8229 - val_loss: 1.2740 - val_precision: 0.8259 - val_recall: 0.8209\n",
      "Epoch 25/30\n",
      "\u001b[1m117/117\u001b[0m \u001b[32m━━━━━━━━━━━━━━━━━━━━\u001b[0m\u001b[37m\u001b[0m \u001b[1m27s\u001b[0m 225ms/step - accuracy: 0.9802 - loss: 0.0519 - precision: 0.9819 - recall: 0.9799 - val_accuracy: 0.8209 - val_loss: 1.0982 - val_precision: 0.8256 - val_recall: 0.8189\n",
      "Epoch 26/30\n",
      "\u001b[1m117/117\u001b[0m \u001b[32m━━━━━━━━━━━━━━━━━━━━\u001b[0m\u001b[37m\u001b[0m \u001b[1m26s\u001b[0m 223ms/step - accuracy: 0.9845 - loss: 0.0420 - precision: 0.9853 - recall: 0.9843 - val_accuracy: 0.8390 - val_loss: 1.2256 - val_precision: 0.8424 - val_recall: 0.8390\n",
      "Epoch 27/30\n",
      "\u001b[1m117/117\u001b[0m \u001b[32m━━━━━━━━━━━━━━━━━━━━\u001b[0m\u001b[37m\u001b[0m \u001b[1m26s\u001b[0m 216ms/step - accuracy: 0.9834 - loss: 0.0447 - precision: 0.9834 - recall: 0.9832 - val_accuracy: 0.8350 - val_loss: 1.4676 - val_precision: 0.8347 - val_recall: 0.8330\n",
      "Epoch 28/30\n",
      "\u001b[1m117/117\u001b[0m \u001b[32m━━━━━━━━━━━━━━━━━━━━\u001b[0m\u001b[37m\u001b[0m \u001b[1m26s\u001b[0m 224ms/step - accuracy: 0.9877 - loss: 0.0381 - precision: 0.9883 - recall: 0.9877 - val_accuracy: 0.8370 - val_loss: 1.3412 - val_precision: 0.8387 - val_recall: 0.8370\n",
      "Epoch 29/30\n",
      "\u001b[1m117/117\u001b[0m \u001b[32m━━━━━━━━━━━━━━━━━━━━\u001b[0m\u001b[37m\u001b[0m \u001b[1m27s\u001b[0m 226ms/step - accuracy: 0.9892 - loss: 0.0322 - precision: 0.9898 - recall: 0.9892 - val_accuracy: 0.8209 - val_loss: 1.2781 - val_precision: 0.8252 - val_recall: 0.8169\n",
      "Epoch 30/30\n",
      "\u001b[1m117/117\u001b[0m \u001b[32m━━━━━━━━━━━━━━━━━━━━\u001b[0m\u001b[37m\u001b[0m \u001b[1m26s\u001b[0m 218ms/step - accuracy: 0.9795 - loss: 0.0643 - precision: 0.9795 - recall: 0.9783 - val_accuracy: 0.8330 - val_loss: 1.0939 - val_precision: 0.8340 - val_recall: 0.8290\n",
      "Predicting on validation set...\n",
      "\u001b[1m16/16\u001b[0m \u001b[32m━━━━━━━━━━━━━━━━━━━━\u001b[0m\u001b[37m\u001b[0m \u001b[1m1s\u001b[0m 56ms/step\n",
      "Sending metrics to clearML...\n",
      "done\n"
     ]
    }
   ],
   "source": [
    "# histeq augmentation\n",
    "task_name = 'he'\n",
    "sub_project_name = 'HIST_EQ'\n",
    "\n",
    "augmentation_metadata = {\n",
    "        'methods': {        \n",
    "            'histEq': {\n",
    "                'parameters': {\n",
    "                    'p': 1.0  # Probability of applying the augmentation\n",
    "                },\n",
    "                'apply_to_percentage': 0.5  # 50% of the training images\n",
    "            }        \n",
    "        }\n",
    "    }\n",
    "\n",
    "for i in range(N):\n",
    "    RUN = i + 1\n",
    "    try:\n",
    "        print(f\"Starting RUN: {RUN}\")\n",
    "        main(RUN, augmentation_metadata, task_name, sub_project_name, epochs, train_size, w1, w2)\n",
    "    except Exception as e:\n",
    "        print(f\"Error in RUN: {RUN}\")\n",
    "        print(e)\n",
    "    finally:\n",
    "        clear_output(wait=True)  # Clear the output to avoid scrolling\n",
    "        gc.collect()  # Collect garbage to avoid memory leaks"
   ]
  },
  {
   "cell_type": "code",
   "execution_count": 5,
   "metadata": {},
   "outputs": [
    {
     "name": "stdout",
     "output_type": "stream",
     "text": [
      "Starting RUN: 5\n",
      "Seed:  1868174191\n"
     ]
    },
    {
     "name": "stderr",
     "output_type": "stream",
     "text": [
      "c:\\github\\Third-Year-Project\\Intruder-Aircraft-Detection\\main\\tl_clf.py:79: SettingWithCopyWarning:\n",
      "\n",
      "\n",
      "A value is trying to be set on a copy of a slice from a DataFrame.\n",
      "Try using .loc[row_indexer,col_indexer] = value instead\n",
      "\n",
      "See the caveats in the documentation: https://pandas.pydata.org/pandas-docs/stable/user_guide/indexing.html#returning-a-view-versus-a-copy\n",
      "\n",
      "c:\\github\\Third-Year-Project\\Intruder-Aircraft-Detection\\main\\tl_clf.py:80: SettingWithCopyWarning:\n",
      "\n",
      "\n",
      "A value is trying to be set on a copy of a slice from a DataFrame.\n",
      "Try using .loc[row_indexer,col_indexer] = value instead\n",
      "\n",
      "See the caveats in the documentation: https://pandas.pydata.org/pandas-docs/stable/user_guide/indexing.html#returning-a-view-versus-a-copy\n",
      "\n"
     ]
    },
    {
     "name": "stdout",
     "output_type": "stream",
     "text": [
      "Removing dataset if pre-existing\n",
      "Copying training files:\n"
     ]
    },
    {
     "name": "stderr",
     "output_type": "stream",
     "text": [
      "Copying files: 100%|██████████| 5000/5000 [00:02<00:00, 1977.38it/s]\n"
     ]
    },
    {
     "name": "stdout",
     "output_type": "stream",
     "text": [
      "Copying validation files:\n"
     ]
    },
    {
     "name": "stderr",
     "output_type": "stream",
     "text": [
      "Copying files: 100%|██████████| 1000/1000 [00:04<00:00, 247.13it/s]\n"
     ]
    },
    {
     "name": "stdout",
     "output_type": "stream",
     "text": [
      "Dataset 'weather_01_2500' created at C:\\github\\Third-Year-Project\\Intruder-Aircraft-Detection\\datasets\\Custom\\weather_01_2500\n",
      "Processing train labels in weather_01_2500:\n"
     ]
    },
    {
     "name": "stderr",
     "output_type": "stream",
     "text": [
      "Processing labels: 100%|██████████| 2500/2500 [00:09<00:00, 270.62it/s]\n"
     ]
    },
    {
     "name": "stdout",
     "output_type": "stream",
     "text": [
      "Processing valid labels in weather_01_2500:\n"
     ]
    },
    {
     "name": "stderr",
     "output_type": "stream",
     "text": [
      "Processing labels: 100%|██████████| 500/500 [00:01<00:00, 275.06it/s]\n"
     ]
    },
    {
     "name": "stdout",
     "output_type": "stream",
     "text": [
      "Label correction completed.\n"
     ]
    },
    {
     "name": "stderr",
     "output_type": "stream",
     "text": [
      "Removing existing directories/files: 100%|██████████| 3/3 [00:00<00:00, 6049.48it/s]\n",
      "Copying files: 100%|██████████| 2500/2500 [00:02<00:00, 1150.93it/s]\n",
      "Copying files: 100%|██████████| 2500/2500 [00:01<00:00, 1445.53it/s]\n",
      "Applying augmentations: 100%|██████████| 1250/1250 [00:52<00:00, 23.59it/s]\n",
      "Processing images:  20%|██        | 505/2500 [00:20<01:02, 31.93it/s]"
     ]
    },
    {
     "name": "stdout",
     "output_type": "stream",
     "text": [
      "An error occurred with C:/github/Third-Year-Project/Intruder-Aircraft-Detection/datasets/Custom/weather_01_2500\\images\\train\\24027.jpg: Expected x_max for bbox (0.46096849999999995, 0.09652050000000001, 1.0471375, 0.4872995, 1) to be in the range [0.0, 1.0], got 1.0471375.\n"
     ]
    },
    {
     "name": "stderr",
     "output_type": "stream",
     "text": [
      "Processing images:  21%|██        | 513/2500 [00:20<01:03, 31.37it/s]"
     ]
    },
    {
     "name": "stdout",
     "output_type": "stream",
     "text": [
      "An error occurred with C:/github/Third-Year-Project/Intruder-Aircraft-Detection/datasets/Custom/weather_01_2500\\images\\train\\24022.jpg: Expected y_max for bbox (0.24655300000000002, 0.722105, 0.681787, 1.012261, 1) to be in the range [0.0, 1.0], got 1.012261.\n"
     ]
    },
    {
     "name": "stderr",
     "output_type": "stream",
     "text": [
      "Processing images:  21%|██        | 525/2500 [00:21<01:00, 32.59it/s]"
     ]
    },
    {
     "name": "stdout",
     "output_type": "stream",
     "text": [
      "An error occurred with C:/github/Third-Year-Project/Intruder-Aircraft-Detection/datasets/Custom/weather_01_2500\\images\\train\\24066.jpg: Expected x_min for bbox (-0.032714999999999994, -0.10783849999999998, 0.8482190000000001, 0.4794505, 1) to be in the range [0.0, 1.0], got -0.032714999999999994.\n"
     ]
    },
    {
     "name": "stderr",
     "output_type": "stream",
     "text": [
      "Processing images:  22%|██▏       | 542/2500 [00:21<00:59, 32.94it/s]"
     ]
    },
    {
     "name": "stdout",
     "output_type": "stream",
     "text": [
      "An error occurred with C:/github/Third-Year-Project/Intruder-Aircraft-Detection/datasets/Custom/weather_01_2500\\images\\train\\24096.jpg: Expected y_max for bbox (0.603079, 0.818155, 0.877433, 1.0010569999999999, 1) to be in the range [0.0, 1.0], got 1.0010569999999999.\n"
     ]
    },
    {
     "name": "stderr",
     "output_type": "stream",
     "text": [
      "Processing images:  23%|██▎       | 567/2500 [00:22<00:54, 35.55it/s]"
     ]
    },
    {
     "name": "stdout",
     "output_type": "stream",
     "text": [
      "An error occurred with C:/github/Third-Year-Project/Intruder-Aircraft-Detection/datasets/Custom/weather_01_2500\\images\\train\\24158.jpg: Expected x_max for bbox (0.48810749999999997, 0.16665499999999997, 1.0361505, 0.532017, 1) to be in the range [0.0, 1.0], got 1.0361505.\n"
     ]
    },
    {
     "name": "stderr",
     "output_type": "stream",
     "text": [
      "Processing images:  24%|██▎       | 588/2500 [00:23<00:57, 33.26it/s]"
     ]
    },
    {
     "name": "stdout",
     "output_type": "stream",
     "text": [
      "An error occurred with C:/github/Third-Year-Project/Intruder-Aircraft-Detection/datasets/Custom/weather_01_2500\\images\\train\\24202.jpg: Expected y_min for bbox (0.19744650000000002, -0.022690500000000002, 0.6507875000000001, 0.2795365, 1) to be in the range [0.0, 1.0], got -0.022690500000000002.\n"
     ]
    },
    {
     "name": "stderr",
     "output_type": "stream",
     "text": [
      "Processing images:  25%|██▍       | 621/2500 [00:24<00:56, 32.97it/s]"
     ]
    },
    {
     "name": "stdout",
     "output_type": "stream",
     "text": [
      "An error occurred with C:/github/Third-Year-Project/Intruder-Aircraft-Detection/datasets/Custom/weather_01_2500\\images\\train\\24273.jpg: Expected y_min for bbox (0.197711, -0.007085499999999981, 0.582121, 0.2491875, 1) to be in the range [0.0, 1.0], got -0.007085499999999981.\n"
     ]
    },
    {
     "name": "stderr",
     "output_type": "stream",
     "text": [
      "Processing images:  27%|██▋       | 682/2500 [00:26<00:54, 33.13it/s]"
     ]
    },
    {
     "name": "stdout",
     "output_type": "stream",
     "text": [
      "An error occurred with C:/github/Third-Year-Project/Intruder-Aircraft-Detection/datasets/Custom/weather_01_2500\\images\\train\\24392.jpg: Expected x_max for bbox (0.389371, 0.478432, 1.160187, 0.99231, 1) to be in the range [0.0, 1.0], got 1.160187.\n"
     ]
    },
    {
     "name": "stderr",
     "output_type": "stream",
     "text": [
      "Processing images:  32%|███▏      | 799/2500 [00:29<00:49, 34.45it/s]"
     ]
    },
    {
     "name": "stdout",
     "output_type": "stream",
     "text": [
      "An error occurred with C:/github/Third-Year-Project/Intruder-Aircraft-Detection/datasets/Custom/weather_01_2500\\images\\train\\24664.jpg: Expected x_min for bbox (-0.012226999999999988, 0.5140865000000001, 0.810117, 1.0623155, 1) to be in the range [0.0, 1.0], got -0.012226999999999988.\n"
     ]
    },
    {
     "name": "stderr",
     "output_type": "stream",
     "text": [
      "Processing images:  42%|████▏     | 1039/2500 [00:37<00:41, 35.39it/s]"
     ]
    },
    {
     "name": "stdout",
     "output_type": "stream",
     "text": [
      "An error occurred with C:/github/Third-Year-Project/Intruder-Aircraft-Detection/datasets/Custom/weather_01_2500\\images\\train\\25261.jpg: Expected x_min for bbox (-0.09083650000000004, -0.04985999999999999, 0.6557445, 0.44786000000000004, 1) to be in the range [0.0, 1.0], got -0.09083650000000004.\n"
     ]
    },
    {
     "name": "stderr",
     "output_type": "stream",
     "text": [
      "Processing images:  58%|█████▊    | 1460/2500 [00:49<00:30, 34.27it/s]"
     ]
    },
    {
     "name": "stdout",
     "output_type": "stream",
     "text": [
      "An error occurred with C:/github/Third-Year-Project/Intruder-Aircraft-Detection/datasets/Custom/weather_01_2500\\images\\train\\48003.jpg: Expected y_max for bbox (0.4913965, 0.7711395, 0.8664335000000001, 1.0211645, 2) to be in the range [0.0, 1.0], got 1.0211645.\n"
     ]
    },
    {
     "name": "stderr",
     "output_type": "stream",
     "text": [
      "Processing images:  60%|██████    | 1505/2500 [00:51<00:28, 34.71it/s]"
     ]
    },
    {
     "name": "stdout",
     "output_type": "stream",
     "text": [
      "An error occurred with C:/github/Third-Year-Project/Intruder-Aircraft-Detection/datasets/Custom/weather_01_2500\\images\\train\\48102.jpg: Expected y_max for bbox (0.0957615, 0.625385, 0.7186585000000001, 1.040649, 2) to be in the range [0.0, 1.0], got 1.040649.\n"
     ]
    },
    {
     "name": "stderr",
     "output_type": "stream",
     "text": [
      "Processing images:  66%|██████▌   | 1650/2500 [00:55<00:24, 34.68it/s]"
     ]
    },
    {
     "name": "stdout",
     "output_type": "stream",
     "text": [
      "An error occurred with C:/github/Third-Year-Project/Intruder-Aircraft-Detection/datasets/Custom/weather_01_2500\\images\\train\\48405.jpg: Expected x_max for bbox (0.25508400000000003, 0.6339159999999999, 1.001982, 1.131848, 2) to be in the range [0.0, 1.0], got 1.001982.\n"
     ]
    },
    {
     "name": "stderr",
     "output_type": "stream",
     "text": [
      "Processing images:  68%|██████▊   | 1699/2500 [00:57<00:23, 33.79it/s]"
     ]
    },
    {
     "name": "stdout",
     "output_type": "stream",
     "text": [
      "An error occurred with C:/github/Third-Year-Project/Intruder-Aircraft-Detection/datasets/Custom/weather_01_2500\\images\\train\\48506.jpg: Expected y_min for bbox (0.604137, -0.0008270000000000083, 0.899387, 0.196007, 2) to be in the range [0.0, 1.0], got -0.0008270000000000083.\n"
     ]
    },
    {
     "name": "stderr",
     "output_type": "stream",
     "text": [
      "Processing images:  69%|██████▉   | 1719/2500 [00:57<00:23, 33.69it/s]"
     ]
    },
    {
     "name": "stdout",
     "output_type": "stream",
     "text": [
      "An error occurred with C:/github/Third-Year-Project/Intruder-Aircraft-Detection/datasets/Custom/weather_01_2500\\images\\train\\48545.jpg: Expected x_max for bbox (0.139949, 0.11087449999999999, 1.0701450000000001, 0.7310055, 2) to be in the range [0.0, 1.0], got 1.0701450000000001.\n"
     ]
    },
    {
     "name": "stderr",
     "output_type": "stream",
     "text": [
      "Processing images:  71%|███████   | 1764/2500 [00:59<00:21, 33.70it/s]"
     ]
    },
    {
     "name": "stdout",
     "output_type": "stream",
     "text": [
      "An error occurred with C:/github/Third-Year-Project/Intruder-Aircraft-Detection/datasets/Custom/weather_01_2500\\images\\train\\48653.jpg: In YOLO format all coordinates must be float and in range (0, 1]\n"
     ]
    },
    {
     "name": "stderr",
     "output_type": "stream",
     "text": [
      "Processing images:  74%|███████▍  | 1845/2500 [01:01<00:18, 35.96it/s]"
     ]
    },
    {
     "name": "stdout",
     "output_type": "stream",
     "text": [
      "An error occurred with C:/github/Third-Year-Project/Intruder-Aircraft-Detection/datasets/Custom/weather_01_2500\\images\\train\\48839.jpg: Expected y_max for bbox (0.07873799999999997, 0.6116285, 0.708052, 1.0311715000000001, 2) to be in the range [0.0, 1.0], got 1.0311715000000001.\n"
     ]
    },
    {
     "name": "stderr",
     "output_type": "stream",
     "text": [
      "Processing images:  78%|███████▊  | 1946/2500 [01:04<00:15, 35.20it/s]"
     ]
    },
    {
     "name": "stdout",
     "output_type": "stream",
     "text": [
      "An error occurred with C:/github/Third-Year-Project/Intruder-Aircraft-Detection/datasets/Custom/weather_01_2500\\images\\train\\49148.jpg: Expected y_min for bbox (0.006384999999999974, -0.030349999999999988, 0.652875, 0.400644, 2) to be in the range [0.0, 1.0], got -0.030349999999999988.\n"
     ]
    },
    {
     "name": "stderr",
     "output_type": "stream",
     "text": [
      "Processing images:  81%|████████  | 2015/2500 [01:06<00:13, 34.97it/s]"
     ]
    },
    {
     "name": "stdout",
     "output_type": "stream",
     "text": [
      "An error occurred with C:/github/Third-Year-Project/Intruder-Aircraft-Detection/datasets/Custom/weather_01_2500\\images\\train\\49296.jpg: Expected x_max for bbox (0.368679, 0.3249835, 1.086079, 0.8032505, 2) to be in the range [0.0, 1.0], got 1.086079.\n"
     ]
    },
    {
     "name": "stderr",
     "output_type": "stream",
     "text": [
      "Processing images: 100%|██████████| 2500/2500 [01:20<00:00, 30.87it/s]\n",
      "Processing images:  20%|██        | 754/3750 [00:34<01:35, 31.36it/s]"
     ]
    },
    {
     "name": "stdout",
     "output_type": "stream",
     "text": [
      "An error occurred with C:/github/Third-Year-Project/Intruder-Aircraft-Detection/datasets/Custom/weather_01_2500\\images\\train-aug\\24022.jpg: Expected y_max for bbox (0.24655300000000002, 0.722105, 0.681787, 1.012261, 1) to be in the range [0.0, 1.0], got 1.012261.\n"
     ]
    },
    {
     "name": "stderr",
     "output_type": "stream",
     "text": [
      "Processing images:  20%|██        | 766/3750 [00:34<01:43, 28.86it/s]"
     ]
    },
    {
     "name": "stdout",
     "output_type": "stream",
     "text": [
      "An error occurred with C:/github/Third-Year-Project/Intruder-Aircraft-Detection/datasets/Custom/weather_01_2500\\images\\train-aug\\24027.jpg: Expected x_max for bbox (0.46096849999999995, 0.09652050000000001, 1.0471375, 0.4872995, 1) to be in the range [0.0, 1.0], got 1.0471375.\n"
     ]
    },
    {
     "name": "stderr",
     "output_type": "stream",
     "text": [
      "Processing images:  21%|██        | 787/3750 [00:35<01:33, 31.67it/s]"
     ]
    },
    {
     "name": "stdout",
     "output_type": "stream",
     "text": [
      "An error occurred with C:/github/Third-Year-Project/Intruder-Aircraft-Detection/datasets/Custom/weather_01_2500\\images\\train-aug\\24066.jpg: Expected x_min for bbox (-0.032714999999999994, -0.10783849999999998, 0.8482190000000001, 0.4794505, 1) to be in the range [0.0, 1.0], got -0.032714999999999994.\n",
      "An error occurred with C:/github/Third-Year-Project/Intruder-Aircraft-Detection/datasets/Custom/weather_01_2500\\images\\train-aug\\24066-gaussian.jpg: Expected x_min for bbox (-0.032714999999999994, -0.10783849999999998, 0.8482190000000001, 0.4794505, 1) to be in the range [0.0, 1.0], got -0.032714999999999994.\n"
     ]
    },
    {
     "name": "stderr",
     "output_type": "stream",
     "text": [
      "Processing images:  22%|██▏       | 813/3750 [00:36<01:31, 31.96it/s]"
     ]
    },
    {
     "name": "stdout",
     "output_type": "stream",
     "text": [
      "An error occurred with C:/github/Third-Year-Project/Intruder-Aircraft-Detection/datasets/Custom/weather_01_2500\\images\\train-aug\\24096.jpg: Expected y_max for bbox (0.603079, 0.818155, 0.877433, 1.0010569999999999, 1) to be in the range [0.0, 1.0], got 1.0010569999999999.\n",
      "An error occurred with C:/github/Third-Year-Project/Intruder-Aircraft-Detection/datasets/Custom/weather_01_2500\\images\\train-aug\\24096-gaussian.jpg: Expected y_max for bbox (0.603079, 0.818155, 0.877433, 1.0010569999999999, 1) to be in the range [0.0, 1.0], got 1.0010569999999999.\n"
     ]
    },
    {
     "name": "stderr",
     "output_type": "stream",
     "text": [
      "Processing images:  23%|██▎       | 855/3750 [00:37<01:36, 30.08it/s]"
     ]
    },
    {
     "name": "stdout",
     "output_type": "stream",
     "text": [
      "An error occurred with C:/github/Third-Year-Project/Intruder-Aircraft-Detection/datasets/Custom/weather_01_2500\\images\\train-aug\\24158.jpg: Expected x_max for bbox (0.48810749999999997, 0.16665499999999997, 1.0361505, 0.532017, 1) to be in the range [0.0, 1.0], got 1.0361505.\n"
     ]
    },
    {
     "name": "stderr",
     "output_type": "stream",
     "text": [
      "Processing images:  23%|██▎       | 860/3750 [00:37<01:29, 32.46it/s]"
     ]
    },
    {
     "name": "stdout",
     "output_type": "stream",
     "text": [
      "An error occurred with C:/github/Third-Year-Project/Intruder-Aircraft-Detection/datasets/Custom/weather_01_2500\\images\\train-aug\\24158-gaussian.jpg: Expected x_max for bbox (0.48810749999999997, 0.16665499999999997, 1.0361505, 0.532017, 1) to be in the range [0.0, 1.0], got 1.0361505.\n"
     ]
    },
    {
     "name": "stderr",
     "output_type": "stream",
     "text": [
      "Processing images:  24%|██▎       | 889/3750 [00:38<01:26, 33.00it/s]"
     ]
    },
    {
     "name": "stdout",
     "output_type": "stream",
     "text": [
      "An error occurred with C:/github/Third-Year-Project/Intruder-Aircraft-Detection/datasets/Custom/weather_01_2500\\images\\train-aug\\24202.jpg: Expected y_min for bbox (0.19744650000000002, -0.022690500000000002, 0.6507875000000001, 0.2795365, 1) to be in the range [0.0, 1.0], got -0.022690500000000002.\n",
      "An error occurred with C:/github/Third-Year-Project/Intruder-Aircraft-Detection/datasets/Custom/weather_01_2500\\images\\train-aug\\24202-gaussian.jpg: Expected y_min for bbox (0.19744650000000002, -0.022690500000000002, 0.6507875000000001, 0.2795365, 1) to be in the range [0.0, 1.0], got -0.022690500000000002.\n"
     ]
    },
    {
     "name": "stderr",
     "output_type": "stream",
     "text": [
      "Processing images:  25%|██▍       | 930/3750 [00:40<01:29, 31.55it/s]"
     ]
    },
    {
     "name": "stdout",
     "output_type": "stream",
     "text": [
      "An error occurred with C:/github/Third-Year-Project/Intruder-Aircraft-Detection/datasets/Custom/weather_01_2500\\images\\train-aug\\24273.jpg: Expected y_min for bbox (0.197711, -0.007085499999999981, 0.582121, 0.2491875, 1) to be in the range [0.0, 1.0], got -0.007085499999999981.\n"
     ]
    },
    {
     "name": "stderr",
     "output_type": "stream",
     "text": [
      "Processing images:  27%|██▋       | 1031/3750 [00:43<01:25, 31.68it/s]"
     ]
    },
    {
     "name": "stdout",
     "output_type": "stream",
     "text": [
      "An error occurred with C:/github/Third-Year-Project/Intruder-Aircraft-Detection/datasets/Custom/weather_01_2500\\images\\train-aug\\24392.jpg: Expected x_max for bbox (0.389371, 0.478432, 1.160187, 0.99231, 1) to be in the range [0.0, 1.0], got 1.160187.\n",
      "An error occurred with C:/github/Third-Year-Project/Intruder-Aircraft-Detection/datasets/Custom/weather_01_2500\\images\\train-aug\\24392-gaussian.jpg: Expected x_max for bbox (0.389371, 0.478432, 1.160187, 0.99231, 1) to be in the range [0.0, 1.0], got 1.160187.\n"
     ]
    },
    {
     "name": "stderr",
     "output_type": "stream",
     "text": [
      "Processing images:  32%|███▏      | 1206/3750 [00:49<01:25, 29.79it/s]"
     ]
    },
    {
     "name": "stdout",
     "output_type": "stream",
     "text": [
      "An error occurred with C:/github/Third-Year-Project/Intruder-Aircraft-Detection/datasets/Custom/weather_01_2500\\images\\train-aug\\24664.jpg: Expected x_min for bbox (-0.012226999999999988, 0.5140865000000001, 0.810117, 1.0623155, 1) to be in the range [0.0, 1.0], got -0.012226999999999988.\n"
     ]
    },
    {
     "name": "stderr",
     "output_type": "stream",
     "text": [
      "Processing images:  42%|████▏     | 1559/3750 [01:02<01:07, 32.53it/s]"
     ]
    },
    {
     "name": "stdout",
     "output_type": "stream",
     "text": [
      "An error occurred with C:/github/Third-Year-Project/Intruder-Aircraft-Detection/datasets/Custom/weather_01_2500\\images\\train-aug\\25261.jpg: Expected x_min for bbox (-0.09083650000000004, -0.04985999999999999, 0.6557445, 0.44786000000000004, 1) to be in the range [0.0, 1.0], got -0.09083650000000004.\n"
     ]
    },
    {
     "name": "stderr",
     "output_type": "stream",
     "text": [
      "Processing images:  58%|█████▊    | 2182/3750 [01:23<00:50, 30.84it/s]"
     ]
    },
    {
     "name": "stdout",
     "output_type": "stream",
     "text": [
      "An error occurred with C:/github/Third-Year-Project/Intruder-Aircraft-Detection/datasets/Custom/weather_01_2500\\images\\train-aug\\48003.jpg: Expected y_max for bbox (0.4913965, 0.7711395, 0.8664335000000001, 1.0211645, 2) to be in the range [0.0, 1.0], got 1.0211645.\n",
      "An error occurred with C:/github/Third-Year-Project/Intruder-Aircraft-Detection/datasets/Custom/weather_01_2500\\images\\train-aug\\48003-gaussian.jpg: Expected y_max for bbox (0.4913965, 0.7711395, 0.8664335000000001, 1.0211645, 2) to be in the range [0.0, 1.0], got 1.0211645.\n"
     ]
    },
    {
     "name": "stderr",
     "output_type": "stream",
     "text": [
      "Processing images:  60%|██████    | 2258/3750 [01:26<00:49, 30.38it/s]"
     ]
    },
    {
     "name": "stdout",
     "output_type": "stream",
     "text": [
      "An error occurred with C:/github/Third-Year-Project/Intruder-Aircraft-Detection/datasets/Custom/weather_01_2500\\images\\train-aug\\48102.jpg: Expected y_max for bbox (0.0957615, 0.625385, 0.7186585000000001, 1.040649, 2) to be in the range [0.0, 1.0], got 1.040649.\n"
     ]
    },
    {
     "name": "stderr",
     "output_type": "stream",
     "text": [
      "Processing images:  66%|██████▌   | 2477/3750 [01:33<00:40, 31.81it/s]"
     ]
    },
    {
     "name": "stdout",
     "output_type": "stream",
     "text": [
      "An error occurred with C:/github/Third-Year-Project/Intruder-Aircraft-Detection/datasets/Custom/weather_01_2500\\images\\train-aug\\48405.jpg: Expected x_max for bbox (0.25508400000000003, 0.6339159999999999, 1.001982, 1.131848, 2) to be in the range [0.0, 1.0], got 1.001982.\n",
      "An error occurred with C:/github/Third-Year-Project/Intruder-Aircraft-Detection/datasets/Custom/weather_01_2500\\images\\train-aug\\48405-gaussian.jpg: Expected x_max for bbox (0.25508400000000003, 0.6339159999999999, 1.001982, 1.131848, 2) to be in the range [0.0, 1.0], got 1.001982.\n"
     ]
    },
    {
     "name": "stderr",
     "output_type": "stream",
     "text": [
      "Processing images:  68%|██████▊   | 2549/3750 [01:36<00:39, 30.78it/s]"
     ]
    },
    {
     "name": "stdout",
     "output_type": "stream",
     "text": [
      "An error occurred with C:/github/Third-Year-Project/Intruder-Aircraft-Detection/datasets/Custom/weather_01_2500\\images\\train-aug\\48506.jpg: Expected y_min for bbox (0.604137, -0.0008270000000000083, 0.899387, 0.196007, 2) to be in the range [0.0, 1.0], got -0.0008270000000000083.\n"
     ]
    },
    {
     "name": "stderr",
     "output_type": "stream",
     "text": [
      "Processing images:  69%|██████▉   | 2580/3750 [01:37<00:38, 30.37it/s]"
     ]
    },
    {
     "name": "stdout",
     "output_type": "stream",
     "text": [
      "An error occurred with C:/github/Third-Year-Project/Intruder-Aircraft-Detection/datasets/Custom/weather_01_2500\\images\\train-aug\\48545.jpg: Expected x_max for bbox (0.139949, 0.11087449999999999, 1.0701450000000001, 0.7310055, 2) to be in the range [0.0, 1.0], got 1.0701450000000001.\n"
     ]
    },
    {
     "name": "stderr",
     "output_type": "stream",
     "text": [
      "Processing images:  69%|██████▉   | 2588/3750 [01:37<00:37, 31.25it/s]"
     ]
    },
    {
     "name": "stdout",
     "output_type": "stream",
     "text": [
      "An error occurred with C:/github/Third-Year-Project/Intruder-Aircraft-Detection/datasets/Custom/weather_01_2500\\images\\train-aug\\48545-gaussian.jpg: Expected x_max for bbox (0.139949, 0.11087449999999999, 1.0701450000000001, 0.7310055, 2) to be in the range [0.0, 1.0], got 1.0701450000000001.\n"
     ]
    },
    {
     "name": "stderr",
     "output_type": "stream",
     "text": [
      "Processing images:  71%|███████   | 2653/3750 [01:39<00:34, 31.96it/s]"
     ]
    },
    {
     "name": "stdout",
     "output_type": "stream",
     "text": [
      "An error occurred with C:/github/Third-Year-Project/Intruder-Aircraft-Detection/datasets/Custom/weather_01_2500\\images\\train-aug\\48653.jpg: In YOLO format all coordinates must be float and in range (0, 1]\n"
     ]
    },
    {
     "name": "stderr",
     "output_type": "stream",
     "text": [
      "Processing images:  71%|███████   | 2661/3750 [01:40<00:35, 31.10it/s]"
     ]
    },
    {
     "name": "stdout",
     "output_type": "stream",
     "text": [
      "An error occurred with C:/github/Third-Year-Project/Intruder-Aircraft-Detection/datasets/Custom/weather_01_2500\\images\\train-aug\\48653-gaussian.jpg: In YOLO format all coordinates must be float and in range (0, 1]\n"
     ]
    },
    {
     "name": "stderr",
     "output_type": "stream",
     "text": [
      "Processing images:  74%|███████▍  | 2773/3750 [01:44<00:30, 32.09it/s]"
     ]
    },
    {
     "name": "stdout",
     "output_type": "stream",
     "text": [
      "An error occurred with C:/github/Third-Year-Project/Intruder-Aircraft-Detection/datasets/Custom/weather_01_2500\\images\\train-aug\\48839.jpg: Expected y_max for bbox (0.07873799999999997, 0.6116285, 0.708052, 1.0311715000000001, 2) to be in the range [0.0, 1.0], got 1.0311715000000001.\n"
     ]
    },
    {
     "name": "stderr",
     "output_type": "stream",
     "text": [
      "Processing images:  78%|███████▊  | 2925/3750 [01:49<00:26, 31.64it/s]"
     ]
    },
    {
     "name": "stdout",
     "output_type": "stream",
     "text": [
      "An error occurred with C:/github/Third-Year-Project/Intruder-Aircraft-Detection/datasets/Custom/weather_01_2500\\images\\train-aug\\49148.jpg: Expected y_min for bbox (0.006384999999999974, -0.030349999999999988, 0.652875, 0.400644, 2) to be in the range [0.0, 1.0], got -0.030349999999999988.\n"
     ]
    },
    {
     "name": "stderr",
     "output_type": "stream",
     "text": [
      "Processing images:  81%|████████  | 3021/3750 [01:52<00:23, 30.78it/s]"
     ]
    },
    {
     "name": "stdout",
     "output_type": "stream",
     "text": [
      "An error occurred with C:/github/Third-Year-Project/Intruder-Aircraft-Detection/datasets/Custom/weather_01_2500\\images\\train-aug\\49296.jpg: Expected x_max for bbox (0.368679, 0.3249835, 1.086079, 0.8032505, 2) to be in the range [0.0, 1.0], got 1.086079.\n",
      "An error occurred with C:/github/Third-Year-Project/Intruder-Aircraft-Detection/datasets/Custom/weather_01_2500\\images\\train-aug\\49296-gaussian.jpg: Expected x_max for bbox (0.368679, 0.3249835, 1.086079, 0.8032505, 2) to be in the range [0.0, 1.0], got 1.086079.\n"
     ]
    },
    {
     "name": "stderr",
     "output_type": "stream",
     "text": [
      "Processing images: 100%|██████████| 3750/3750 [02:16<00:00, 27.53it/s]\n",
      "Processing images:  60%|█████▉    | 298/500 [00:10<00:05, 34.16it/s]"
     ]
    },
    {
     "name": "stdout",
     "output_type": "stream",
     "text": [
      "An error occurred with C:/github/Third-Year-Project/Intruder-Aircraft-Detection/datasets/Custom/weather_01_2500\\images\\valid\\48958.jpg: Expected y_min for bbox (0.11869149999999995, -0.083345, 1.0148305, 0.514081, 2) to be in the range [0.0, 1.0], got -0.083345.\n"
     ]
    },
    {
     "name": "stderr",
     "output_type": "stream",
     "text": [
      "Processing images:  63%|██████▎   | 315/500 [00:10<00:05, 35.38it/s]"
     ]
    },
    {
     "name": "stdout",
     "output_type": "stream",
     "text": [
      "An error occurred with C:/github/Third-Year-Project/Intruder-Aircraft-Detection/datasets/Custom/weather_01_2500\\images\\valid\\48967.jpg: Expected x_max for bbox (0.391763, 0.222879, 1.0974650000000001, 0.6933469999999999, 2) to be in the range [0.0, 1.0], got 1.0974650000000001.\n"
     ]
    },
    {
     "name": "stderr",
     "output_type": "stream",
     "text": [
      "Processing images: 100%|██████████| 500/500 [00:16<00:00, 30.63it/s]\n",
      "Moving images in train: 100%|██████████| 2481/2481 [00:09<00:00, 274.07it/s]\n",
      "Moving images in train-aug: 100%|██████████| 3721/3721 [00:10<00:00, 339.96it/s]\n",
      "Moving images in valid: 100%|██████████| 498/498 [00:01<00:00, 275.56it/s]\n"
     ]
    },
    {
     "name": "stdout",
     "output_type": "stream",
     "text": [
      "Found 2481 files belonging to 3 classes.\n",
      "Found 3721 files belonging to 3 classes.\n",
      "Found 498 files belonging to 3 classes.\n",
      "ClearML Task: created new task id=fa32fd6874924f90a8080e2016e5ad3f\n",
      "ClearML results page: https://app.clear.ml/projects/8cfd67047c9d4e6abe11758d1fccbf13/experiments/fa32fd6874924f90a8080e2016e5ad3f/output/log\n",
      "Training model...\n",
      "Epoch 1/30\n",
      "\u001b[1m78/78\u001b[0m \u001b[32m━━━━━━━━━━━━━━━━━━━━\u001b[0m\u001b[37m\u001b[0m \u001b[1m21s\u001b[0m 244ms/step - accuracy: 0.3612 - loss: 1.5748 - precision: 0.3757 - recall: 0.0681 - val_accuracy: 0.3353 - val_loss: 1.0983 - val_precision: 0.0000e+00 - val_recall: 0.0000e+00\n",
      "Epoch 2/30\n",
      "\u001b[1m78/78\u001b[0m \u001b[32m━━━━━━━━━━━━━━━━━━━━\u001b[0m\u001b[37m\u001b[0m \u001b[1m18s\u001b[0m 222ms/step - accuracy: 0.3114 - loss: 1.0999 - precision: 0.0000e+00 - recall: 0.0000e+00 - val_accuracy: 0.3353 - val_loss: 1.0973 - val_precision: 0.0000e+00 - val_recall: 0.0000e+00\n",
      "Epoch 3/30\n",
      "\u001b[1m78/78\u001b[0m \u001b[32m━━━━━━━━━━━━━━━━━━━━\u001b[0m\u001b[37m\u001b[0m \u001b[1m19s\u001b[0m 235ms/step - accuracy: 0.3202 - loss: 1.1003 - precision: 0.0000e+00 - recall: 0.0000e+00 - val_accuracy: 0.3353 - val_loss: 1.0971 - val_precision: 0.0000e+00 - val_recall: 0.0000e+00\n",
      "Epoch 4/30\n",
      "\u001b[1m78/78\u001b[0m \u001b[32m━━━━━━━━━━━━━━━━━━━━\u001b[0m\u001b[37m\u001b[0m \u001b[1m18s\u001b[0m 222ms/step - accuracy: 0.3284 - loss: 1.1001 - precision: 0.0000e+00 - recall: 0.0000e+00 - val_accuracy: 0.4900 - val_loss: 1.0872 - val_precision: 0.0000e+00 - val_recall: 0.0000e+00\n",
      "Epoch 5/30\n",
      "\u001b[1m78/78\u001b[0m \u001b[32m━━━━━━━━━━━━━━━━━━━━\u001b[0m\u001b[37m\u001b[0m \u001b[1m19s\u001b[0m 236ms/step - accuracy: 0.4071 - loss: 1.0893 - precision: 0.3688 - recall: 0.0226 - val_accuracy: 0.4357 - val_loss: 1.0301 - val_precision: 0.4762 - val_recall: 0.0602\n",
      "Epoch 6/30\n",
      "\u001b[1m78/78\u001b[0m \u001b[32m━━━━━━━━━━━━━━━━━━━━\u001b[0m\u001b[37m\u001b[0m \u001b[1m18s\u001b[0m 222ms/step - accuracy: 0.4146 - loss: 1.1482 - precision: 0.6107 - recall: 0.0488 - val_accuracy: 0.4679 - val_loss: 1.0523 - val_precision: 0.5327 - val_recall: 0.1145\n",
      "Epoch 7/30\n",
      "\u001b[1m78/78\u001b[0m \u001b[32m━━━━━━━━━━━━━━━━━━━━\u001b[0m\u001b[37m\u001b[0m \u001b[1m18s\u001b[0m 233ms/step - accuracy: 0.5164 - loss: 1.0093 - precision: 0.6343 - recall: 0.1488 - val_accuracy: 0.5723 - val_loss: 0.9169 - val_precision: 0.6690 - val_recall: 0.3896\n",
      "Epoch 8/30\n",
      "\u001b[1m78/78\u001b[0m \u001b[32m━━━━━━━━━━━━━━━━━━━━\u001b[0m\u001b[37m\u001b[0m \u001b[1m18s\u001b[0m 222ms/step - accuracy: 0.5884 - loss: 0.8780 - precision: 0.6735 - recall: 0.4221 - val_accuracy: 0.7149 - val_loss: 0.7376 - val_precision: 0.7434 - val_recall: 0.6225\n",
      "Epoch 9/30\n",
      "\u001b[1m78/78\u001b[0m \u001b[32m━━━━━━━━━━━━━━━━━━━━\u001b[0m\u001b[37m\u001b[0m \u001b[1m18s\u001b[0m 226ms/step - accuracy: 0.6974 - loss: 0.6985 - precision: 0.7535 - recall: 0.5902 - val_accuracy: 0.7349 - val_loss: 0.6608 - val_precision: 0.7728 - val_recall: 0.6968\n",
      "Epoch 10/30\n",
      "\u001b[1m78/78\u001b[0m \u001b[32m━━━━━━━━━━━━━━━━━━━━\u001b[0m\u001b[37m\u001b[0m \u001b[1m18s\u001b[0m 233ms/step - accuracy: 0.7397 - loss: 0.6153 - precision: 0.7747 - recall: 0.6558 - val_accuracy: 0.7510 - val_loss: 0.6136 - val_precision: 0.7599 - val_recall: 0.7309\n",
      "Epoch 11/30\n",
      "\u001b[1m78/78\u001b[0m \u001b[32m━━━━━━━━━━━━━━━━━━━━\u001b[0m\u001b[37m\u001b[0m \u001b[1m18s\u001b[0m 227ms/step - accuracy: 0.7951 - loss: 0.5105 - precision: 0.8213 - recall: 0.7611 - val_accuracy: 0.7791 - val_loss: 0.6030 - val_precision: 0.7942 - val_recall: 0.7671\n",
      "Epoch 12/30\n",
      "\u001b[1m78/78\u001b[0m \u001b[32m━━━━━━━━━━━━━━━━━━━━\u001b[0m\u001b[37m\u001b[0m \u001b[1m19s\u001b[0m 236ms/step - accuracy: 0.8212 - loss: 0.4731 - precision: 0.8342 - recall: 0.7911 - val_accuracy: 0.7932 - val_loss: 0.6001 - val_precision: 0.8021 - val_recall: 0.7811\n",
      "Epoch 13/30\n",
      "\u001b[1m78/78\u001b[0m \u001b[32m━━━━━━━━━━━━━━━━━━━━\u001b[0m\u001b[37m\u001b[0m \u001b[1m18s\u001b[0m 221ms/step - accuracy: 0.8450 - loss: 0.4003 - precision: 0.8593 - recall: 0.8324 - val_accuracy: 0.7952 - val_loss: 0.6108 - val_precision: 0.7975 - val_recall: 0.7831\n",
      "Epoch 14/30\n",
      "\u001b[1m78/78\u001b[0m \u001b[32m━━━━━━━━━━━━━━━━━━━━\u001b[0m\u001b[37m\u001b[0m \u001b[1m19s\u001b[0m 235ms/step - accuracy: 0.8536 - loss: 0.3966 - precision: 0.8657 - recall: 0.8400 - val_accuracy: 0.7751 - val_loss: 0.7380 - val_precision: 0.7853 - val_recall: 0.7490\n",
      "Epoch 15/30\n",
      "\u001b[1m78/78\u001b[0m \u001b[32m━━━━━━━━━━━━━━━━━━━━\u001b[0m\u001b[37m\u001b[0m \u001b[1m17s\u001b[0m 221ms/step - accuracy: 0.8435 - loss: 0.3812 - precision: 0.8607 - recall: 0.8251 - val_accuracy: 0.7892 - val_loss: 0.7032 - val_precision: 0.7947 - val_recall: 0.7771\n",
      "Epoch 16/30\n",
      "\u001b[1m78/78\u001b[0m \u001b[32m━━━━━━━━━━━━━━━━━━━━\u001b[0m\u001b[37m\u001b[0m \u001b[1m19s\u001b[0m 243ms/step - accuracy: 0.8705 - loss: 0.3215 - precision: 0.8845 - recall: 0.8620 - val_accuracy: 0.7851 - val_loss: 0.6740 - val_precision: 0.8004 - val_recall: 0.7651\n",
      "Epoch 17/30\n",
      "\u001b[1m78/78\u001b[0m \u001b[32m━━━━━━━━━━━━━━━━━━━━\u001b[0m\u001b[37m\u001b[0m \u001b[1m18s\u001b[0m 221ms/step - accuracy: 0.9058 - loss: 0.2546 - precision: 0.9174 - recall: 0.8971 - val_accuracy: 0.8072 - val_loss: 0.6831 - val_precision: 0.8189 - val_recall: 0.7992\n",
      "Epoch 18/30\n",
      "\u001b[1m78/78\u001b[0m \u001b[32m━━━━━━━━━━━━━━━━━━━━\u001b[0m\u001b[37m\u001b[0m \u001b[1m19s\u001b[0m 236ms/step - accuracy: 0.8976 - loss: 0.2647 - precision: 0.9114 - recall: 0.8891 - val_accuracy: 0.8112 - val_loss: 0.6758 - val_precision: 0.8260 - val_recall: 0.7912\n",
      "Epoch 19/30\n",
      "\u001b[1m78/78\u001b[0m \u001b[32m━━━━━━━━━━━━━━━━━━━━\u001b[0m\u001b[37m\u001b[0m \u001b[1m18s\u001b[0m 223ms/step - accuracy: 0.9169 - loss: 0.2134 - precision: 0.9244 - recall: 0.9125 - val_accuracy: 0.7972 - val_loss: 0.7504 - val_precision: 0.8112 - val_recall: 0.7851\n",
      "Epoch 20/30\n",
      "\u001b[1m78/78\u001b[0m \u001b[32m━━━━━━━━━━━━━━━━━━━━\u001b[0m\u001b[37m\u001b[0m \u001b[1m19s\u001b[0m 236ms/step - accuracy: 0.9146 - loss: 0.2285 - precision: 0.9170 - recall: 0.9052 - val_accuracy: 0.7992 - val_loss: 0.7217 - val_precision: 0.8107 - val_recall: 0.7912\n",
      "Epoch 21/30\n",
      "\u001b[1m78/78\u001b[0m \u001b[32m━━━━━━━━━━━━━━━━━━━━\u001b[0m\u001b[37m\u001b[0m \u001b[1m18s\u001b[0m 223ms/step - accuracy: 0.9213 - loss: 0.2165 - precision: 0.9283 - recall: 0.9138 - val_accuracy: 0.8133 - val_loss: 0.7577 - val_precision: 0.8172 - val_recall: 0.7992\n",
      "Epoch 22/30\n",
      "\u001b[1m78/78\u001b[0m \u001b[32m━━━━━━━━━━━━━━━━━━━━\u001b[0m\u001b[37m\u001b[0m \u001b[1m18s\u001b[0m 223ms/step - accuracy: 0.9311 - loss: 0.1878 - precision: 0.9330 - recall: 0.9234 - val_accuracy: 0.8052 - val_loss: 0.8423 - val_precision: 0.8110 - val_recall: 0.8012\n",
      "Epoch 23/30\n",
      "\u001b[1m78/78\u001b[0m \u001b[32m━━━━━━━━━━━━━━━━━━━━\u001b[0m\u001b[37m\u001b[0m \u001b[1m19s\u001b[0m 236ms/step - accuracy: 0.9226 - loss: 0.2071 - precision: 0.9256 - recall: 0.9187 - val_accuracy: 0.8052 - val_loss: 0.7592 - val_precision: 0.8143 - val_recall: 0.8012\n",
      "Epoch 24/30\n",
      "\u001b[1m78/78\u001b[0m \u001b[32m━━━━━━━━━━━━━━━━━━━━\u001b[0m\u001b[37m\u001b[0m \u001b[1m18s\u001b[0m 222ms/step - accuracy: 0.9428 - loss: 0.1678 - precision: 0.9478 - recall: 0.9393 - val_accuracy: 0.8112 - val_loss: 0.8443 - val_precision: 0.8163 - val_recall: 0.8032\n",
      "Epoch 25/30\n",
      "\u001b[1m78/78\u001b[0m \u001b[32m━━━━━━━━━━━━━━━━━━━━\u001b[0m\u001b[37m\u001b[0m \u001b[1m19s\u001b[0m 236ms/step - accuracy: 0.9510 - loss: 0.1351 - precision: 0.9528 - recall: 0.9497 - val_accuracy: 0.8173 - val_loss: 0.9333 - val_precision: 0.8185 - val_recall: 0.8153\n",
      "Epoch 26/30\n",
      "\u001b[1m78/78\u001b[0m \u001b[32m━━━━━━━━━━━━━━━━━━━━\u001b[0m\u001b[37m\u001b[0m \u001b[1m18s\u001b[0m 222ms/step - accuracy: 0.9473 - loss: 0.1312 - precision: 0.9485 - recall: 0.9463 - val_accuracy: 0.8072 - val_loss: 0.9954 - val_precision: 0.8130 - val_recall: 0.8032\n",
      "Epoch 27/30\n",
      "\u001b[1m78/78\u001b[0m \u001b[32m━━━━━━━━━━━━━━━━━━━━\u001b[0m\u001b[37m\u001b[0m \u001b[1m19s\u001b[0m 239ms/step - accuracy: 0.9369 - loss: 0.1663 - precision: 0.9420 - recall: 0.9330 - val_accuracy: 0.8173 - val_loss: 0.8410 - val_precision: 0.8221 - val_recall: 0.8072\n",
      "Epoch 28/30\n",
      "\u001b[1m78/78\u001b[0m \u001b[32m━━━━━━━━━━━━━━━━━━━━\u001b[0m\u001b[37m\u001b[0m \u001b[1m18s\u001b[0m 225ms/step - accuracy: 0.9412 - loss: 0.1615 - precision: 0.9451 - recall: 0.9390 - val_accuracy: 0.8193 - val_loss: 0.7560 - val_precision: 0.8238 - val_recall: 0.8072\n",
      "Epoch 29/30\n",
      "\u001b[1m78/78\u001b[0m \u001b[32m━━━━━━━━━━━━━━━━━━━━\u001b[0m\u001b[37m\u001b[0m \u001b[1m18s\u001b[0m 233ms/step - accuracy: 0.9373 - loss: 0.1539 - precision: 0.9409 - recall: 0.9354 - val_accuracy: 0.8253 - val_loss: 0.9541 - val_precision: 0.8266 - val_recall: 0.8233\n",
      "Epoch 30/30\n",
      "\u001b[1m78/78\u001b[0m \u001b[32m━━━━━━━━━━━━━━━━━━━━\u001b[0m\u001b[37m\u001b[0m \u001b[1m18s\u001b[0m 223ms/step - accuracy: 0.9498 - loss: 0.1290 - precision: 0.9522 - recall: 0.9462 - val_accuracy: 0.8052 - val_loss: 0.8766 - val_precision: 0.8134 - val_recall: 0.8052\n",
      "Predicting on validation set...\n",
      "\u001b[1m16/16\u001b[0m \u001b[32m━━━━━━━━━━━━━━━━━━━━\u001b[0m\u001b[37m\u001b[0m \u001b[1m1s\u001b[0m 57ms/step\n",
      "Sending metrics to clearML...\n",
      "done\n",
      "ClearML Task: created new task id=5a7590037b774ce7887efc48f0121314\n",
      "ClearML results page: https://app.clear.ml/projects/8cfd67047c9d4e6abe11758d1fccbf13/experiments/5a7590037b774ce7887efc48f0121314/output/log\n",
      "Training model...\n",
      "Epoch 1/30\n",
      "\u001b[1m117/117\u001b[0m \u001b[32m━━━━━━━━━━━━━━━━━━━━\u001b[0m\u001b[37m\u001b[0m \u001b[1m31s\u001b[0m 242ms/step - accuracy: 0.3329 - loss: 1.5009 - precision: 0.3239 - recall: 0.0506 - val_accuracy: 0.3353 - val_loss: 1.0983 - val_precision: 0.0000e+00 - val_recall: 0.0000e+00\n",
      "Epoch 2/30\n",
      "\u001b[1m117/117\u001b[0m \u001b[32m━━━━━━━━━━━━━━━━━━━━\u001b[0m\u001b[37m\u001b[0m \u001b[1m27s\u001b[0m 227ms/step - accuracy: 0.4089 - loss: 1.0868 - precision: 0.4191 - recall: 0.0165 - val_accuracy: 0.5060 - val_loss: 1.0633 - val_precision: 0.5409 - val_recall: 0.1727\n",
      "Epoch 3/30\n",
      "\u001b[1m117/117\u001b[0m \u001b[32m━━━━━━━━━━━━━━━━━━━━\u001b[0m\u001b[37m\u001b[0m \u001b[1m26s\u001b[0m 219ms/step - accuracy: 0.5630 - loss: 0.9490 - precision: 0.6644 - recall: 0.2609 - val_accuracy: 0.7390 - val_loss: 0.6894 - val_precision: 0.7995 - val_recall: 0.6165\n",
      "Epoch 4/30\n",
      "\u001b[1m117/117\u001b[0m \u001b[32m━━━━━━━━━━━━━━━━━━━━\u001b[0m\u001b[37m\u001b[0m \u001b[1m27s\u001b[0m 229ms/step - accuracy: 0.7308 - loss: 0.6328 - precision: 0.7707 - recall: 0.6562 - val_accuracy: 0.7470 - val_loss: 0.6356 - val_precision: 0.7565 - val_recall: 0.7048\n",
      "Epoch 5/30\n",
      "\u001b[1m117/117\u001b[0m \u001b[32m━━━━━━━━━━━━━━━━━━━━\u001b[0m\u001b[37m\u001b[0m \u001b[1m27s\u001b[0m 229ms/step - accuracy: 0.7807 - loss: 0.5249 - precision: 0.8124 - recall: 0.7410 - val_accuracy: 0.7731 - val_loss: 0.5988 - val_precision: 0.7903 - val_recall: 0.7490\n",
      "Epoch 6/30\n",
      "\u001b[1m117/117\u001b[0m \u001b[32m━━━━━━━━━━━━━━━━━━━━\u001b[0m\u001b[37m\u001b[0m \u001b[1m26s\u001b[0m 220ms/step - accuracy: 0.8284 - loss: 0.4263 - precision: 0.8466 - recall: 0.8066 - val_accuracy: 0.7590 - val_loss: 0.6305 - val_precision: 0.7794 - val_recall: 0.7450\n",
      "Epoch 7/30\n",
      "\u001b[1m117/117\u001b[0m \u001b[32m━━━━━━━━━━━━━━━━━━━━\u001b[0m\u001b[37m\u001b[0m \u001b[1m27s\u001b[0m 227ms/step - accuracy: 0.8649 - loss: 0.3457 - precision: 0.8760 - recall: 0.8534 - val_accuracy: 0.7871 - val_loss: 0.5811 - val_precision: 0.7923 - val_recall: 0.7811\n",
      "Epoch 8/30\n",
      "\u001b[1m117/117\u001b[0m \u001b[32m━━━━━━━━━━━━━━━━━━━━\u001b[0m\u001b[37m\u001b[0m \u001b[1m27s\u001b[0m 230ms/step - accuracy: 0.8851 - loss: 0.3073 - precision: 0.8922 - recall: 0.8751 - val_accuracy: 0.7992 - val_loss: 0.5709 - val_precision: 0.8142 - val_recall: 0.7831\n",
      "Epoch 9/30\n",
      "\u001b[1m117/117\u001b[0m \u001b[32m━━━━━━━━━━━━━━━━━━━━\u001b[0m\u001b[37m\u001b[0m \u001b[1m26s\u001b[0m 223ms/step - accuracy: 0.8973 - loss: 0.2646 - precision: 0.9042 - recall: 0.8902 - val_accuracy: 0.8052 - val_loss: 0.6273 - val_precision: 0.8102 - val_recall: 0.7972\n",
      "Epoch 10/30\n",
      "\u001b[1m117/117\u001b[0m \u001b[32m━━━━━━━━━━━━━━━━━━━━\u001b[0m\u001b[37m\u001b[0m \u001b[1m27s\u001b[0m 226ms/step - accuracy: 0.9172 - loss: 0.2231 - precision: 0.9228 - recall: 0.9099 - val_accuracy: 0.7992 - val_loss: 0.7651 - val_precision: 0.8016 - val_recall: 0.7871\n",
      "Epoch 11/30\n",
      "\u001b[1m117/117\u001b[0m \u001b[32m━━━━━━━━━━━━━━━━━━━━\u001b[0m\u001b[37m\u001b[0m \u001b[1m27s\u001b[0m 228ms/step - accuracy: 0.9218 - loss: 0.2052 - precision: 0.9266 - recall: 0.9135 - val_accuracy: 0.8112 - val_loss: 0.7650 - val_precision: 0.8126 - val_recall: 0.8012\n",
      "Epoch 12/30\n",
      "\u001b[1m117/117\u001b[0m \u001b[32m━━━━━━━━━━━━━━━━━━━━\u001b[0m\u001b[37m\u001b[0m \u001b[1m26s\u001b[0m 222ms/step - accuracy: 0.9340 - loss: 0.1780 - precision: 0.9378 - recall: 0.9310 - val_accuracy: 0.8012 - val_loss: 0.7759 - val_precision: 0.8116 - val_recall: 0.7871\n",
      "Epoch 13/30\n",
      "\u001b[1m117/117\u001b[0m \u001b[32m━━━━━━━━━━━━━━━━━━━━\u001b[0m\u001b[37m\u001b[0m \u001b[1m27s\u001b[0m 232ms/step - accuracy: 0.9411 - loss: 0.1517 - precision: 0.9444 - recall: 0.9359 - val_accuracy: 0.8032 - val_loss: 0.7383 - val_precision: 0.8053 - val_recall: 0.7972\n",
      "Epoch 14/30\n",
      "\u001b[1m117/117\u001b[0m \u001b[32m━━━━━━━━━━━━━━━━━━━━\u001b[0m\u001b[37m\u001b[0m \u001b[1m27s\u001b[0m 230ms/step - accuracy: 0.9422 - loss: 0.1442 - precision: 0.9460 - recall: 0.9403 - val_accuracy: 0.8233 - val_loss: 0.7824 - val_precision: 0.8303 - val_recall: 0.8153\n",
      "Epoch 15/30\n",
      "\u001b[1m117/117\u001b[0m \u001b[32m━━━━━━━━━━━━━━━━━━━━\u001b[0m\u001b[37m\u001b[0m \u001b[1m27s\u001b[0m 224ms/step - accuracy: 0.9543 - loss: 0.1167 - precision: 0.9588 - recall: 0.9506 - val_accuracy: 0.8193 - val_loss: 0.7913 - val_precision: 0.8262 - val_recall: 0.8112\n",
      "Epoch 16/30\n",
      "\u001b[1m117/117\u001b[0m \u001b[32m━━━━━━━━━━━━━━━━━━━━\u001b[0m\u001b[37m\u001b[0m \u001b[1m26s\u001b[0m 222ms/step - accuracy: 0.9441 - loss: 0.1298 - precision: 0.9473 - recall: 0.9419 - val_accuracy: 0.8072 - val_loss: 0.8248 - val_precision: 0.8105 - val_recall: 0.8072\n",
      "Epoch 17/30\n",
      "\u001b[1m117/117\u001b[0m \u001b[32m━━━━━━━━━━━━━━━━━━━━\u001b[0m\u001b[37m\u001b[0m \u001b[1m27s\u001b[0m 229ms/step - accuracy: 0.9587 - loss: 0.1104 - precision: 0.9625 - recall: 0.9559 - val_accuracy: 0.8233 - val_loss: 0.9258 - val_precision: 0.8248 - val_recall: 0.8133\n",
      "Epoch 18/30\n",
      "\u001b[1m117/117\u001b[0m \u001b[32m━━━━━━━━━━━━━━━━━━━━\u001b[0m\u001b[37m\u001b[0m \u001b[1m27s\u001b[0m 228ms/step - accuracy: 0.9649 - loss: 0.0885 - precision: 0.9681 - recall: 0.9643 - val_accuracy: 0.7851 - val_loss: 1.0230 - val_precision: 0.7851 - val_recall: 0.7851\n",
      "Epoch 19/30\n",
      "\u001b[1m117/117\u001b[0m \u001b[32m━━━━━━━━━━━━━━━━━━━━\u001b[0m\u001b[37m\u001b[0m \u001b[1m26s\u001b[0m 220ms/step - accuracy: 0.9612 - loss: 0.1000 - precision: 0.9640 - recall: 0.9600 - val_accuracy: 0.8333 - val_loss: 0.8967 - val_precision: 0.8377 - val_recall: 0.8293\n",
      "Epoch 20/30\n",
      "\u001b[1m117/117\u001b[0m \u001b[32m━━━━━━━━━━━━━━━━━━━━\u001b[0m\u001b[37m\u001b[0m \u001b[1m28s\u001b[0m 233ms/step - accuracy: 0.9753 - loss: 0.0697 - precision: 0.9757 - recall: 0.9737 - val_accuracy: 0.8012 - val_loss: 1.0723 - val_precision: 0.8004 - val_recall: 0.7972\n",
      "Epoch 21/30\n",
      "\u001b[1m117/117\u001b[0m \u001b[32m━━━━━━━━━━━━━━━━━━━━\u001b[0m\u001b[37m\u001b[0m \u001b[1m27s\u001b[0m 230ms/step - accuracy: 0.9781 - loss: 0.0616 - precision: 0.9792 - recall: 0.9765 - val_accuracy: 0.8373 - val_loss: 1.0617 - val_precision: 0.8407 - val_recall: 0.8373\n",
      "Epoch 22/30\n",
      "\u001b[1m117/117\u001b[0m \u001b[32m━━━━━━━━━━━━━━━━━━━━\u001b[0m\u001b[37m\u001b[0m \u001b[1m26s\u001b[0m 221ms/step - accuracy: 0.9821 - loss: 0.0549 - precision: 0.9827 - recall: 0.9821 - val_accuracy: 0.8133 - val_loss: 0.8974 - val_precision: 0.8241 - val_recall: 0.8092\n",
      "Epoch 23/30\n",
      "\u001b[1m117/117\u001b[0m \u001b[32m━━━━━━━━━━━━━━━━━━━━\u001b[0m\u001b[37m\u001b[0m \u001b[1m27s\u001b[0m 231ms/step - accuracy: 0.9774 - loss: 0.0781 - precision: 0.9789 - recall: 0.9749 - val_accuracy: 0.8313 - val_loss: 1.1239 - val_precision: 0.8310 - val_recall: 0.8293\n",
      "Epoch 24/30\n",
      "\u001b[1m117/117\u001b[0m \u001b[32m━━━━━━━━━━━━━━━━━━━━\u001b[0m\u001b[37m\u001b[0m \u001b[1m28s\u001b[0m 235ms/step - accuracy: 0.9809 - loss: 0.0498 - precision: 0.9814 - recall: 0.9803 - val_accuracy: 0.8373 - val_loss: 1.0363 - val_precision: 0.8384 - val_recall: 0.8333\n",
      "Epoch 25/30\n",
      "\u001b[1m117/117\u001b[0m \u001b[32m━━━━━━━━━━━━━━━━━━━━\u001b[0m\u001b[37m\u001b[0m \u001b[1m26s\u001b[0m 221ms/step - accuracy: 0.9807 - loss: 0.0473 - precision: 0.9815 - recall: 0.9801 - val_accuracy: 0.8253 - val_loss: 1.1076 - val_precision: 0.8286 - val_recall: 0.8253\n",
      "Epoch 26/30\n",
      "\u001b[1m117/117\u001b[0m \u001b[32m━━━━━━━━━━━━━━━━━━━━\u001b[0m\u001b[37m\u001b[0m \u001b[1m27s\u001b[0m 230ms/step - accuracy: 0.9877 - loss: 0.0342 - precision: 0.9879 - recall: 0.9877 - val_accuracy: 0.8414 - val_loss: 1.1817 - val_precision: 0.8444 - val_recall: 0.8394\n",
      "Epoch 27/30\n",
      "\u001b[1m117/117\u001b[0m \u001b[32m━━━━━━━━━━━━━━━━━━━━\u001b[0m\u001b[37m\u001b[0m \u001b[1m27s\u001b[0m 229ms/step - accuracy: 0.9870 - loss: 0.0320 - precision: 0.9875 - recall: 0.9870 - val_accuracy: 0.8474 - val_loss: 1.2094 - val_precision: 0.8474 - val_recall: 0.8474\n",
      "Epoch 28/30\n",
      "\u001b[1m117/117\u001b[0m \u001b[32m━━━━━━━━━━━━━━━━━━━━\u001b[0m\u001b[37m\u001b[0m \u001b[1m26s\u001b[0m 223ms/step - accuracy: 0.9866 - loss: 0.0347 - precision: 0.9873 - recall: 0.9865 - val_accuracy: 0.8333 - val_loss: 1.1954 - val_precision: 0.8343 - val_recall: 0.8293\n",
      "Epoch 29/30\n",
      "\u001b[1m117/117\u001b[0m \u001b[32m━━━━━━━━━━━━━━━━━━━━\u001b[0m\u001b[37m\u001b[0m \u001b[1m27s\u001b[0m 230ms/step - accuracy: 0.9899 - loss: 0.0251 - precision: 0.9908 - recall: 0.9893 - val_accuracy: 0.8434 - val_loss: 1.2641 - val_precision: 0.8431 - val_recall: 0.8414\n",
      "Epoch 30/30\n",
      "\u001b[1m117/117\u001b[0m \u001b[32m━━━━━━━━━━━━━━━━━━━━\u001b[0m\u001b[37m\u001b[0m \u001b[1m27s\u001b[0m 228ms/step - accuracy: 0.9910 - loss: 0.0392 - precision: 0.9920 - recall: 0.9908 - val_accuracy: 0.8333 - val_loss: 1.2956 - val_precision: 0.8333 - val_recall: 0.8333\n",
      "Predicting on validation set...\n",
      "\u001b[1m16/16\u001b[0m \u001b[32m━━━━━━━━━━━━━━━━━━━━\u001b[0m\u001b[37m\u001b[0m \u001b[1m1s\u001b[0m 56ms/step\n",
      "Sending metrics to clearML...\n",
      "done\n"
     ]
    }
   ],
   "source": [
    "# guassian augmentation (100.0, 200.0)\n",
    "task_name = 'gau100200'\n",
    "sub_project_name = 'GAUSSIAN'\n",
    "\n",
    "augmentation_metadata = {\n",
    "        'methods': {        \n",
    "            'gaussian': {\n",
    "                'parameters': {\n",
    "                    'var_limit': (100.0, 200.0)\n",
    "                },\n",
    "                'apply_to_percentage': 0.5  # 50% of the training images\n",
    "            }        \n",
    "        }\n",
    "    }\n",
    "\n",
    "for i in range(N):\n",
    "    RUN = i + 1\n",
    "    try:\n",
    "        print(f\"Starting RUN: {RUN}\")\n",
    "        main(RUN, augmentation_metadata, task_name, sub_project_name, epochs, train_size, w1, w2)\n",
    "    except Exception as e:\n",
    "        print(f\"Error in RUN: {RUN}\")\n",
    "        print(e)\n",
    "    finally:\n",
    "        clear_output(wait=True)  # Clear the output to avoid scrolling\n",
    "        gc.collect()  # Collect garbage to avoid memory leaks"
   ]
  },
  {
   "cell_type": "code",
   "execution_count": 6,
   "metadata": {},
   "outputs": [
    {
     "name": "stdout",
     "output_type": "stream",
     "text": [
      "Starting RUN: 5\n",
      "Seed:  1876687174\n"
     ]
    },
    {
     "name": "stderr",
     "output_type": "stream",
     "text": [
      "c:\\github\\Third-Year-Project\\Intruder-Aircraft-Detection\\main\\tl_clf.py:79: SettingWithCopyWarning:\n",
      "\n",
      "\n",
      "A value is trying to be set on a copy of a slice from a DataFrame.\n",
      "Try using .loc[row_indexer,col_indexer] = value instead\n",
      "\n",
      "See the caveats in the documentation: https://pandas.pydata.org/pandas-docs/stable/user_guide/indexing.html#returning-a-view-versus-a-copy\n",
      "\n",
      "c:\\github\\Third-Year-Project\\Intruder-Aircraft-Detection\\main\\tl_clf.py:80: SettingWithCopyWarning:\n",
      "\n",
      "\n",
      "A value is trying to be set on a copy of a slice from a DataFrame.\n",
      "Try using .loc[row_indexer,col_indexer] = value instead\n",
      "\n",
      "See the caveats in the documentation: https://pandas.pydata.org/pandas-docs/stable/user_guide/indexing.html#returning-a-view-versus-a-copy\n",
      "\n"
     ]
    },
    {
     "name": "stdout",
     "output_type": "stream",
     "text": [
      "Removing dataset if pre-existing\n",
      "Copying training files:\n"
     ]
    },
    {
     "name": "stderr",
     "output_type": "stream",
     "text": [
      "Copying files: 100%|██████████| 5000/5000 [00:03<00:00, 1269.40it/s]\n"
     ]
    },
    {
     "name": "stdout",
     "output_type": "stream",
     "text": [
      "Copying validation files:\n"
     ]
    },
    {
     "name": "stderr",
     "output_type": "stream",
     "text": [
      "Copying files: 100%|██████████| 1000/1000 [00:02<00:00, 336.75it/s]\n"
     ]
    },
    {
     "name": "stdout",
     "output_type": "stream",
     "text": [
      "Dataset 'weather_01_2500' created at C:\\github\\Third-Year-Project\\Intruder-Aircraft-Detection\\datasets\\Custom\\weather_01_2500\n",
      "Processing train labels in weather_01_2500:\n"
     ]
    },
    {
     "name": "stderr",
     "output_type": "stream",
     "text": [
      "Processing labels: 100%|██████████| 2500/2500 [00:09<00:00, 263.63it/s]\n"
     ]
    },
    {
     "name": "stdout",
     "output_type": "stream",
     "text": [
      "Processing valid labels in weather_01_2500:\n"
     ]
    },
    {
     "name": "stderr",
     "output_type": "stream",
     "text": [
      "Processing labels: 100%|██████████| 500/500 [00:01<00:00, 267.39it/s]\n"
     ]
    },
    {
     "name": "stdout",
     "output_type": "stream",
     "text": [
      "Label correction completed.\n"
     ]
    },
    {
     "name": "stderr",
     "output_type": "stream",
     "text": [
      "Removing existing directories/files: 100%|██████████| 3/3 [00:00<00:00, 5963.47it/s]\n",
      "Copying files: 100%|██████████| 2500/2500 [00:02<00:00, 1169.33it/s]\n",
      "Copying files: 100%|██████████| 2500/2500 [00:01<00:00, 1449.71it/s]\n",
      "Applying augmentations: 100%|██████████| 1250/1250 [00:14<00:00, 85.18it/s]\n"
     ]
    },
    {
     "name": "stdout",
     "output_type": "stream",
     "text": [
      "An error occurred: Expected x_max for bbox (0.389371, 0.478432, 1.160187, 0.99231, 1) to be in the range [0.0, 1.0], got 1.160187.\n",
      "An error occurred: Expected y_max for bbox (0.07873799999999997, 0.6116285, 0.708052, 1.0311715000000001, 2) to be in the range [0.0, 1.0], got 1.0311715000000001.\n",
      "An error occurred: Expected x_max for bbox (0.48810749999999997, 0.16665499999999997, 1.0361505, 0.532017, 1) to be in the range [0.0, 1.0], got 1.0361505.\n",
      "An error occurred: Expected y_min for bbox (0.0959025, -0.07905450000000001, 0.7032695, 0.3258565, 2) to be in the range [0.0, 1.0], got -0.07905450000000001.\n",
      "An error occurred: Expected y_min for bbox (0.19744650000000002, -0.022690500000000002, 0.6507875000000001, 0.2795365, 1) to be in the range [0.0, 1.0], got -0.022690500000000002.\n",
      "An error occurred: Expected y_max for bbox (0.14731649999999996, 0.7641374999999999, 0.5491775, 1.0320445, 1) to be in the range [0.0, 1.0], got 1.0320445.\n",
      "An error occurred: Expected x_max for bbox (0.3757315, 0.3660325, 1.0766624999999999, 0.8333195, 1) to be in the range [0.0, 1.0], got 1.0766624999999999.\n",
      "An error occurred: Expected x_max for bbox (0.405781, 0.446345, 1.002591, 0.844219, 2) to be in the range [0.0, 1.0], got 1.002591.\n"
     ]
    },
    {
     "name": "stderr",
     "output_type": "stream",
     "text": [
      "Processing images:  21%|██        | 520/2500 [00:20<00:59, 33.29it/s]"
     ]
    },
    {
     "name": "stdout",
     "output_type": "stream",
     "text": [
      "An error occurred with C:/github/Third-Year-Project/Intruder-Aircraft-Detection/datasets/Custom/weather_01_2500\\images\\train\\24066.jpg: Expected x_min for bbox (-0.032714999999999994, -0.10783849999999998, 0.8482190000000001, 0.4794505, 1) to be in the range [0.0, 1.0], got -0.032714999999999994.\n"
     ]
    },
    {
     "name": "stderr",
     "output_type": "stream",
     "text": [
      "Processing images:  22%|██▏       | 545/2500 [00:21<00:58, 33.58it/s]"
     ]
    },
    {
     "name": "stdout",
     "output_type": "stream",
     "text": [
      "An error occurred with C:/github/Third-Year-Project/Intruder-Aircraft-Detection/datasets/Custom/weather_01_2500\\images\\train\\24104.jpg: Expected y_max for bbox (0.14731649999999996, 0.7641374999999999, 0.5491775, 1.0320445, 1) to be in the range [0.0, 1.0], got 1.0320445.\n"
     ]
    },
    {
     "name": "stderr",
     "output_type": "stream",
     "text": [
      "Processing images:  23%|██▎       | 570/2500 [00:22<00:56, 33.96it/s]"
     ]
    },
    {
     "name": "stdout",
     "output_type": "stream",
     "text": [
      "An error occurred with C:/github/Third-Year-Project/Intruder-Aircraft-Detection/datasets/Custom/weather_01_2500\\images\\train\\24158.jpg: Expected x_max for bbox (0.48810749999999997, 0.16665499999999997, 1.0361505, 0.532017, 1) to be in the range [0.0, 1.0], got 1.0361505.\n"
     ]
    },
    {
     "name": "stderr",
     "output_type": "stream",
     "text": [
      "Processing images:  23%|██▎       | 583/2500 [00:22<00:54, 35.08it/s]"
     ]
    },
    {
     "name": "stdout",
     "output_type": "stream",
     "text": [
      "An error occurred with C:/github/Third-Year-Project/Intruder-Aircraft-Detection/datasets/Custom/weather_01_2500\\images\\train\\24202.jpg: Expected y_min for bbox (0.19744650000000002, -0.022690500000000002, 0.6507875000000001, 0.2795365, 1) to be in the range [0.0, 1.0], got -0.022690500000000002.\n"
     ]
    },
    {
     "name": "stderr",
     "output_type": "stream",
     "text": [
      "Processing images:  26%|██▌       | 648/2500 [00:24<00:55, 33.52it/s]"
     ]
    },
    {
     "name": "stdout",
     "output_type": "stream",
     "text": [
      "An error occurred with C:/github/Third-Year-Project/Intruder-Aircraft-Detection/datasets/Custom/weather_01_2500\\images\\train\\24335.jpg: Expected x_min for bbox (-0.016773999999999956, 0.047126500000000016, 0.52576, 0.4088155, 1) to be in the range [0.0, 1.0], got -0.016773999999999956.\n"
     ]
    },
    {
     "name": "stderr",
     "output_type": "stream",
     "text": [
      "Processing images:  27%|██▋       | 669/2500 [00:25<00:53, 34.40it/s]"
     ]
    },
    {
     "name": "stdout",
     "output_type": "stream",
     "text": [
      "An error occurred with C:/github/Third-Year-Project/Intruder-Aircraft-Detection/datasets/Custom/weather_01_2500\\images\\train\\24392.jpg: Expected x_max for bbox (0.389371, 0.478432, 1.160187, 0.99231, 1) to be in the range [0.0, 1.0], got 1.160187.\n"
     ]
    },
    {
     "name": "stderr",
     "output_type": "stream",
     "text": [
      "Processing images:  31%|███       | 774/2500 [00:28<00:51, 33.48it/s]"
     ]
    },
    {
     "name": "stdout",
     "output_type": "stream",
     "text": [
      "An error occurred with C:/github/Third-Year-Project/Intruder-Aircraft-Detection/datasets/Custom/weather_01_2500\\images\\train\\24613.jpg: Expected y_min for bbox (0.21910349999999998, -0.01988999999999999, 0.6275445, 0.25240399999999996, 1) to be in the range [0.0, 1.0], got -0.01988999999999999.\n"
     ]
    },
    {
     "name": "stderr",
     "output_type": "stream",
     "text": [
      "Processing images:  36%|███▌      | 906/2500 [00:33<00:48, 32.97it/s]"
     ]
    },
    {
     "name": "stdout",
     "output_type": "stream",
     "text": [
      "An error occurred with C:/github/Third-Year-Project/Intruder-Aircraft-Detection/datasets/Custom/weather_01_2500\\images\\train\\24891.jpg: Expected x_min for bbox (-0.01830599999999999, 0.35310800000000003, 0.48958799999999997, 0.6917040000000001, 1) to be in the range [0.0, 1.0], got -0.01830599999999999.\n"
     ]
    },
    {
     "name": "stderr",
     "output_type": "stream",
     "text": [
      "Processing images:  49%|████▉     | 1219/2500 [00:42<00:37, 34.14it/s]"
     ]
    },
    {
     "name": "stdout",
     "output_type": "stream",
     "text": [
      "An error occurred with C:/github/Third-Year-Project/Intruder-Aircraft-Detection/datasets/Custom/weather_01_2500\\images\\train\\25695.jpg: Expected x_max for bbox (0.3757315, 0.3660325, 1.0766624999999999, 0.8333195, 1) to be in the range [0.0, 1.0], got 1.0766624999999999.\n"
     ]
    },
    {
     "name": "stderr",
     "output_type": "stream",
     "text": [
      "Processing images:  59%|█████▉    | 1480/2500 [00:50<00:29, 34.18it/s]"
     ]
    },
    {
     "name": "stdout",
     "output_type": "stream",
     "text": [
      "An error occurred with C:/github/Third-Year-Project/Intruder-Aircraft-Detection/datasets/Custom/weather_01_2500\\images\\train\\48102.jpg: Expected y_max for bbox (0.0957615, 0.625385, 0.7186585000000001, 1.040649, 2) to be in the range [0.0, 1.0], got 1.040649.\n",
      "An error occurred with C:/github/Third-Year-Project/Intruder-Aircraft-Detection/datasets/Custom/weather_01_2500\\images\\train\\48127.jpg: Expected x_max for bbox (0.405781, 0.446345, 1.002591, 0.844219, 2) to be in the range [0.0, 1.0], got 1.002591.\n"
     ]
    },
    {
     "name": "stderr",
     "output_type": "stream",
     "text": [
      "Processing images:  61%|██████    | 1514/2500 [00:51<00:27, 35.48it/s]"
     ]
    },
    {
     "name": "stdout",
     "output_type": "stream",
     "text": [
      "An error occurred with C:/github/Third-Year-Project/Intruder-Aircraft-Detection/datasets/Custom/weather_01_2500\\images\\train\\48182.jpg: Expected x_max for bbox (0.45793449999999997, 0.39898000000000006, 1.0627735, 0.802206, 2) to be in the range [0.0, 1.0], got 1.0627735.\n"
     ]
    },
    {
     "name": "stderr",
     "output_type": "stream",
     "text": [
      "Processing images:  70%|██████▉   | 1743/2500 [00:58<00:22, 34.40it/s]"
     ]
    },
    {
     "name": "stdout",
     "output_type": "stream",
     "text": [
      "An error occurred with C:/github/Third-Year-Project/Intruder-Aircraft-Detection/datasets/Custom/weather_01_2500\\images\\train\\48653.jpg: In YOLO format all coordinates must be float and in range (0, 1]\n"
     ]
    },
    {
     "name": "stderr",
     "output_type": "stream",
     "text": [
      "Processing images:  73%|███████▎  | 1824/2500 [01:00<00:18, 36.44it/s]"
     ]
    },
    {
     "name": "stdout",
     "output_type": "stream",
     "text": [
      "An error occurred with C:/github/Third-Year-Project/Intruder-Aircraft-Detection/datasets/Custom/weather_01_2500\\images\\train\\48839.jpg: Expected y_max for bbox (0.07873799999999997, 0.6116285, 0.708052, 1.0311715000000001, 2) to be in the range [0.0, 1.0], got 1.0311715000000001.\n"
     ]
    },
    {
     "name": "stderr",
     "output_type": "stream",
     "text": [
      "Processing images:  74%|███████▍  | 1849/2500 [01:01<00:17, 37.18it/s]"
     ]
    },
    {
     "name": "stdout",
     "output_type": "stream",
     "text": [
      "An error occurred with C:/github/Third-Year-Project/Intruder-Aircraft-Detection/datasets/Custom/weather_01_2500\\images\\train\\48882.jpg: Expected y_min for bbox (0.0959025, -0.07905450000000001, 0.7032695, 0.3258565, 2) to be in the range [0.0, 1.0], got -0.07905450000000001.\n"
     ]
    },
    {
     "name": "stderr",
     "output_type": "stream",
     "text": [
      "Processing images:  76%|███████▌  | 1890/2500 [01:02<00:17, 35.54it/s]"
     ]
    },
    {
     "name": "stdout",
     "output_type": "stream",
     "text": [
      "An error occurred with C:/github/Third-Year-Project/Intruder-Aircraft-Detection/datasets/Custom/weather_01_2500\\images\\train\\49062.jpg: Expected y_min for bbox (0.028610999999999998, -0.0326805, 0.831313, 0.5024545, 2) to be in the range [0.0, 1.0], got -0.0326805.\n"
     ]
    },
    {
     "name": "stderr",
     "output_type": "stream",
     "text": [
      "Processing images:  77%|███████▋  | 1931/2500 [01:04<00:16, 35.04it/s]"
     ]
    },
    {
     "name": "stdout",
     "output_type": "stream",
     "text": [
      "An error occurred with C:/github/Third-Year-Project/Intruder-Aircraft-Detection/datasets/Custom/weather_01_2500\\images\\train\\49148.jpg: Expected y_min for bbox (0.006384999999999974, -0.030349999999999988, 0.652875, 0.400644, 2) to be in the range [0.0, 1.0], got -0.030349999999999988.\n"
     ]
    },
    {
     "name": "stderr",
     "output_type": "stream",
     "text": [
      "Processing images: 100%|██████████| 2500/2500 [01:21<00:00, 30.80it/s]\n",
      "Processing images:  21%|██        | 780/3742 [00:32<01:25, 34.62it/s]"
     ]
    },
    {
     "name": "stdout",
     "output_type": "stream",
     "text": [
      "An error occurred with C:/github/Third-Year-Project/Intruder-Aircraft-Detection/datasets/Custom/weather_01_2500\\images\\train-aug\\24066.jpg: Expected x_min for bbox (-0.032714999999999994, -0.10783849999999998, 0.8482190000000001, 0.4794505, 1) to be in the range [0.0, 1.0], got -0.032714999999999994.\n"
     ]
    },
    {
     "name": "stderr",
     "output_type": "stream",
     "text": [
      "Processing images:  22%|██▏       | 809/3742 [00:33<01:27, 33.51it/s]"
     ]
    },
    {
     "name": "stdout",
     "output_type": "stream",
     "text": [
      "An error occurred with C:/github/Third-Year-Project/Intruder-Aircraft-Detection/datasets/Custom/weather_01_2500\\images\\train-aug\\24104.jpg: Expected y_max for bbox (0.14731649999999996, 0.7641374999999999, 0.5491775, 1.0320445, 1) to be in the range [0.0, 1.0], got 1.0320445.\n"
     ]
    },
    {
     "name": "stderr",
     "output_type": "stream",
     "text": [
      "Processing images:  23%|██▎       | 854/3742 [00:34<01:25, 33.63it/s]"
     ]
    },
    {
     "name": "stdout",
     "output_type": "stream",
     "text": [
      "An error occurred with C:/github/Third-Year-Project/Intruder-Aircraft-Detection/datasets/Custom/weather_01_2500\\images\\train-aug\\24158.jpg: Expected x_max for bbox (0.48810749999999997, 0.16665499999999997, 1.0361505, 0.532017, 1) to be in the range [0.0, 1.0], got 1.0361505.\n"
     ]
    },
    {
     "name": "stderr",
     "output_type": "stream",
     "text": [
      "Processing images:  23%|██▎       | 875/3742 [00:35<01:21, 35.33it/s]"
     ]
    },
    {
     "name": "stdout",
     "output_type": "stream",
     "text": [
      "An error occurred with C:/github/Third-Year-Project/Intruder-Aircraft-Detection/datasets/Custom/weather_01_2500\\images\\train-aug\\24202.jpg: Expected y_min for bbox (0.19744650000000002, -0.022690500000000002, 0.6507875000000001, 0.2795365, 1) to be in the range [0.0, 1.0], got -0.022690500000000002.\n"
     ]
    },
    {
     "name": "stderr",
     "output_type": "stream",
     "text": [
      "Processing images:  26%|██▋       | 984/3742 [00:39<01:21, 33.86it/s]"
     ]
    },
    {
     "name": "stdout",
     "output_type": "stream",
     "text": [
      "An error occurred with C:/github/Third-Year-Project/Intruder-Aircraft-Detection/datasets/Custom/weather_01_2500\\images\\train-aug\\24335.jpg: Expected x_min for bbox (-0.016773999999999956, 0.047126500000000016, 0.52576, 0.4088155, 1) to be in the range [0.0, 1.0], got -0.016773999999999956.\n"
     ]
    },
    {
     "name": "stderr",
     "output_type": "stream",
     "text": [
      "Processing images:  27%|██▋       | 1009/3742 [00:39<01:21, 33.38it/s]"
     ]
    },
    {
     "name": "stdout",
     "output_type": "stream",
     "text": [
      "An error occurred with C:/github/Third-Year-Project/Intruder-Aircraft-Detection/datasets/Custom/weather_01_2500\\images\\train-aug\\24392.jpg: Expected x_max for bbox (0.389371, 0.478432, 1.160187, 0.99231, 1) to be in the range [0.0, 1.0], got 1.160187.\n"
     ]
    },
    {
     "name": "stderr",
     "output_type": "stream",
     "text": [
      "Processing images:  31%|███       | 1169/3742 [00:44<01:20, 31.97it/s]"
     ]
    },
    {
     "name": "stdout",
     "output_type": "stream",
     "text": [
      "An error occurred with C:/github/Third-Year-Project/Intruder-Aircraft-Detection/datasets/Custom/weather_01_2500\\images\\train-aug\\24613.jpg: Expected y_min for bbox (0.21910349999999998, -0.01988999999999999, 0.6275445, 0.25240399999999996, 1) to be in the range [0.0, 1.0], got -0.01988999999999999.\n"
     ]
    },
    {
     "name": "stderr",
     "output_type": "stream",
     "text": [
      "Processing images:  36%|███▌      | 1356/3742 [00:50<01:13, 32.38it/s]"
     ]
    },
    {
     "name": "stdout",
     "output_type": "stream",
     "text": [
      "An error occurred with C:/github/Third-Year-Project/Intruder-Aircraft-Detection/datasets/Custom/weather_01_2500\\images\\train-aug\\24891.jpg: Expected x_min for bbox (-0.01830599999999999, 0.35310800000000003, 0.48958799999999997, 0.6917040000000001, 1) to be in the range [0.0, 1.0], got -0.01830599999999999.\n"
     ]
    },
    {
     "name": "stderr",
     "output_type": "stream",
     "text": [
      "Processing images:  49%|████▊     | 1821/3742 [01:05<00:54, 35.20it/s]"
     ]
    },
    {
     "name": "stdout",
     "output_type": "stream",
     "text": [
      "An error occurred with C:/github/Third-Year-Project/Intruder-Aircraft-Detection/datasets/Custom/weather_01_2500\\images\\train-aug\\25695.jpg: Expected x_max for bbox (0.3757315, 0.3660325, 1.0766624999999999, 0.8333195, 1) to be in the range [0.0, 1.0], got 1.0766624999999999.\n"
     ]
    },
    {
     "name": "stderr",
     "output_type": "stream",
     "text": [
      "Processing images:  59%|█████▉    | 2215/3742 [01:17<00:43, 35.17it/s]"
     ]
    },
    {
     "name": "stdout",
     "output_type": "stream",
     "text": [
      "An error occurred with C:/github/Third-Year-Project/Intruder-Aircraft-Detection/datasets/Custom/weather_01_2500\\images\\train-aug\\48102.jpg: Expected y_max for bbox (0.0957615, 0.625385, 0.7186585000000001, 1.040649, 2) to be in the range [0.0, 1.0], got 1.040649.\n"
     ]
    },
    {
     "name": "stderr",
     "output_type": "stream",
     "text": [
      "Processing images:  60%|█████▉    | 2232/3742 [01:17<00:41, 36.11it/s]"
     ]
    },
    {
     "name": "stdout",
     "output_type": "stream",
     "text": [
      "An error occurred with C:/github/Third-Year-Project/Intruder-Aircraft-Detection/datasets/Custom/weather_01_2500\\images\\train-aug\\48127.jpg: Expected x_max for bbox (0.405781, 0.446345, 1.002591, 0.844219, 2) to be in the range [0.0, 1.0], got 1.002591.\n"
     ]
    },
    {
     "name": "stderr",
     "output_type": "stream",
     "text": [
      "Processing images:  61%|██████    | 2265/3742 [01:18<00:41, 35.64it/s]"
     ]
    },
    {
     "name": "stdout",
     "output_type": "stream",
     "text": [
      "An error occurred with C:/github/Third-Year-Project/Intruder-Aircraft-Detection/datasets/Custom/weather_01_2500\\images\\train-aug\\48182.jpg: Expected x_max for bbox (0.45793449999999997, 0.39898000000000006, 1.0627735, 0.802206, 2) to be in the range [0.0, 1.0], got 1.0627735.\n"
     ]
    },
    {
     "name": "stderr",
     "output_type": "stream",
     "text": [
      "Processing images:  70%|██████▉   | 2616/3742 [01:29<00:32, 35.04it/s]"
     ]
    },
    {
     "name": "stdout",
     "output_type": "stream",
     "text": [
      "An error occurred with C:/github/Third-Year-Project/Intruder-Aircraft-Detection/datasets/Custom/weather_01_2500\\images\\train-aug\\48653.jpg: In YOLO format all coordinates must be float and in range (0, 1]\n"
     ]
    },
    {
     "name": "stderr",
     "output_type": "stream",
     "text": [
      "Processing images:  73%|███████▎  | 2737/3742 [01:33<00:27, 36.76it/s]"
     ]
    },
    {
     "name": "stdout",
     "output_type": "stream",
     "text": [
      "An error occurred with C:/github/Third-Year-Project/Intruder-Aircraft-Detection/datasets/Custom/weather_01_2500\\images\\train-aug\\48839.jpg: Expected y_max for bbox (0.07873799999999997, 0.6116285, 0.708052, 1.0311715000000001, 2) to be in the range [0.0, 1.0], got 1.0311715000000001.\n"
     ]
    },
    {
     "name": "stderr",
     "output_type": "stream",
     "text": [
      "Processing images:  74%|███████▍  | 2766/3742 [01:33<00:27, 35.22it/s]"
     ]
    },
    {
     "name": "stdout",
     "output_type": "stream",
     "text": [
      "An error occurred with C:/github/Third-Year-Project/Intruder-Aircraft-Detection/datasets/Custom/weather_01_2500\\images\\train-aug\\48882.jpg: Expected y_min for bbox (0.0959025, -0.07905450000000001, 0.7032695, 0.3258565, 2) to be in the range [0.0, 1.0], got -0.07905450000000001.\n"
     ]
    },
    {
     "name": "stderr",
     "output_type": "stream",
     "text": [
      "Processing images:  76%|███████▌  | 2828/3742 [01:35<00:25, 36.06it/s]"
     ]
    },
    {
     "name": "stdout",
     "output_type": "stream",
     "text": [
      "An error occurred with C:/github/Third-Year-Project/Intruder-Aircraft-Detection/datasets/Custom/weather_01_2500\\images\\train-aug\\49062.jpg: Expected y_min for bbox (0.028610999999999998, -0.0326805, 0.831313, 0.5024545, 2) to be in the range [0.0, 1.0], got -0.0326805.\n"
     ]
    },
    {
     "name": "stderr",
     "output_type": "stream",
     "text": [
      "Processing images:  77%|███████▋  | 2893/3742 [01:37<00:24, 35.14it/s]"
     ]
    },
    {
     "name": "stdout",
     "output_type": "stream",
     "text": [
      "An error occurred with C:/github/Third-Year-Project/Intruder-Aircraft-Detection/datasets/Custom/weather_01_2500\\images\\train-aug\\49148.jpg: Expected y_min for bbox (0.006384999999999974, -0.030349999999999988, 0.652875, 0.400644, 2) to be in the range [0.0, 1.0], got -0.030349999999999988.\n"
     ]
    },
    {
     "name": "stderr",
     "output_type": "stream",
     "text": [
      "Processing images: 100%|██████████| 3742/3742 [02:02<00:00, 30.43it/s]\n",
      "Processing images:  62%|██████▏   | 308/500 [00:10<00:05, 34.22it/s]"
     ]
    },
    {
     "name": "stdout",
     "output_type": "stream",
     "text": [
      "An error occurred with C:/github/Third-Year-Project/Intruder-Aircraft-Detection/datasets/Custom/weather_01_2500\\images\\valid\\48958.jpg: Expected y_min for bbox (0.11869149999999995, -0.083345, 1.0148305, 0.514081, 2) to be in the range [0.0, 1.0], got -0.083345.\n"
     ]
    },
    {
     "name": "stderr",
     "output_type": "stream",
     "text": [
      "Processing images:  63%|██████▎   | 317/500 [00:10<00:05, 34.20it/s]"
     ]
    },
    {
     "name": "stdout",
     "output_type": "stream",
     "text": [
      "An error occurred with C:/github/Third-Year-Project/Intruder-Aircraft-Detection/datasets/Custom/weather_01_2500\\images\\valid\\48967.jpg: Expected x_max for bbox (0.391763, 0.222879, 1.0974650000000001, 0.6933469999999999, 2) to be in the range [0.0, 1.0], got 1.0974650000000001.\n"
     ]
    },
    {
     "name": "stderr",
     "output_type": "stream",
     "text": [
      "Processing images:  77%|███████▋  | 386/500 [00:12<00:03, 34.28it/s]"
     ]
    },
    {
     "name": "stdout",
     "output_type": "stream",
     "text": [
      "An error occurred with C:/github/Third-Year-Project/Intruder-Aircraft-Detection/datasets/Custom/weather_01_2500\\images\\valid\\49956.jpg: Expected x_min for bbox (-0.11142649999999998, 0.37090300000000004, 0.7043905, 0.9147810000000001, 2) to be in the range [0.0, 1.0], got -0.11142649999999998.\n"
     ]
    },
    {
     "name": "stderr",
     "output_type": "stream",
     "text": [
      "Processing images: 100%|██████████| 500/500 [00:16<00:00, 30.82it/s]\n",
      "Moving images in train: 100%|██████████| 2483/2483 [00:09<00:00, 269.31it/s]\n",
      "Moving images in train-aug: 100%|██████████| 3725/3725 [00:13<00:00, 274.71it/s]\n",
      "Moving images in valid: 100%|██████████| 497/497 [00:01<00:00, 274.67it/s]\n"
     ]
    },
    {
     "name": "stdout",
     "output_type": "stream",
     "text": [
      "Found 2483 files belonging to 3 classes.\n",
      "Found 3725 files belonging to 3 classes.\n",
      "Found 497 files belonging to 3 classes.\n",
      "ClearML Task: created new task id=976f9d3f92d844518ffb084d09c24c2b\n",
      "ClearML results page: https://app.clear.ml/projects/5a674be4cf0f473c808dd42f7b83358f/experiments/976f9d3f92d844518ffb084d09c24c2b/output/log\n",
      "Training model...\n",
      "Epoch 1/30\n",
      "\u001b[1m78/78\u001b[0m \u001b[32m━━━━━━━━━━━━━━━━━━━━\u001b[0m\u001b[37m\u001b[0m \u001b[1m21s\u001b[0m 247ms/step - accuracy: 0.3227 - loss: 1.9102 - precision: 0.3107 - recall: 0.0892 - val_accuracy: 0.3481 - val_loss: 1.0984 - val_precision: 0.0000e+00 - val_recall: 0.0000e+00\n",
      "Epoch 2/30\n",
      "\u001b[1m78/78\u001b[0m \u001b[32m━━━━━━━━━━━━━━━━━━━━\u001b[0m\u001b[37m\u001b[0m \u001b[1m18s\u001b[0m 224ms/step - accuracy: 0.3457 - loss: 1.0986 - precision: 0.0000e+00 - recall: 0.0000e+00 - val_accuracy: 0.3461 - val_loss: 1.0915 - val_precision: 0.0000e+00 - val_recall: 0.0000e+00\n",
      "Epoch 3/30\n",
      "\u001b[1m78/78\u001b[0m \u001b[32m━━━━━━━━━━━━━━━━━━━━\u001b[0m\u001b[37m\u001b[0m \u001b[1m19s\u001b[0m 240ms/step - accuracy: 0.4222 - loss: 1.0815 - precision: 0.4867 - recall: 0.0128 - val_accuracy: 0.6036 - val_loss: 0.9555 - val_precision: 0.7094 - val_recall: 0.2897\n",
      "Epoch 4/30\n",
      "\u001b[1m78/78\u001b[0m \u001b[32m━━━━━━━━━━━━━━━━━━━━\u001b[0m\u001b[37m\u001b[0m \u001b[1m18s\u001b[0m 225ms/step - accuracy: 0.6057 - loss: 0.9164 - precision: 0.7024 - recall: 0.3732 - val_accuracy: 0.7243 - val_loss: 0.7221 - val_precision: 0.7758 - val_recall: 0.6197\n",
      "Epoch 5/30\n",
      "\u001b[1m78/78\u001b[0m \u001b[32m━━━━━━━━━━━━━━━━━━━━\u001b[0m\u001b[37m\u001b[0m \u001b[1m19s\u001b[0m 239ms/step - accuracy: 0.7053 - loss: 0.7368 - precision: 0.7616 - recall: 0.5919 - val_accuracy: 0.7284 - val_loss: 0.6882 - val_precision: 0.7609 - val_recall: 0.7042\n",
      "Epoch 6/30\n",
      "\u001b[1m78/78\u001b[0m \u001b[32m━━━━━━━━━━━━━━━━━━━━\u001b[0m\u001b[37m\u001b[0m \u001b[1m18s\u001b[0m 222ms/step - accuracy: 0.7482 - loss: 0.6148 - precision: 0.7829 - recall: 0.6859 - val_accuracy: 0.7505 - val_loss: 0.6218 - val_precision: 0.7618 - val_recall: 0.7143\n",
      "Epoch 7/30\n",
      "\u001b[1m78/78\u001b[0m \u001b[32m━━━━━━━━━━━━━━━━━━━━\u001b[0m\u001b[37m\u001b[0m \u001b[1m19s\u001b[0m 241ms/step - accuracy: 0.7974 - loss: 0.5250 - precision: 0.8201 - recall: 0.7611 - val_accuracy: 0.7666 - val_loss: 0.6247 - val_precision: 0.7759 - val_recall: 0.7525\n",
      "Epoch 8/30\n",
      "\u001b[1m78/78\u001b[0m \u001b[32m━━━━━━━━━━━━━━━━━━━━\u001b[0m\u001b[37m\u001b[0m \u001b[1m18s\u001b[0m 223ms/step - accuracy: 0.7985 - loss: 0.4898 - precision: 0.8224 - recall: 0.7684 - val_accuracy: 0.7887 - val_loss: 0.5809 - val_precision: 0.8009 - val_recall: 0.7445\n",
      "Epoch 9/30\n",
      "\u001b[1m78/78\u001b[0m \u001b[32m━━━━━━━━━━━━━━━━━━━━\u001b[0m\u001b[37m\u001b[0m \u001b[1m18s\u001b[0m 232ms/step - accuracy: 0.8379 - loss: 0.4132 - precision: 0.8563 - recall: 0.8225 - val_accuracy: 0.7887 - val_loss: 0.5870 - val_precision: 0.8034 - val_recall: 0.7646\n",
      "Epoch 10/30\n",
      "\u001b[1m78/78\u001b[0m \u001b[32m━━━━━━━━━━━━━━━━━━━━\u001b[0m\u001b[37m\u001b[0m \u001b[1m18s\u001b[0m 226ms/step - accuracy: 0.8605 - loss: 0.3645 - precision: 0.8743 - recall: 0.8471 - val_accuracy: 0.8028 - val_loss: 0.5669 - val_precision: 0.8170 - val_recall: 0.7907\n",
      "Epoch 11/30\n",
      "\u001b[1m78/78\u001b[0m \u001b[32m━━━━━━━━━━━━━━━━━━━━\u001b[0m\u001b[37m\u001b[0m \u001b[1m18s\u001b[0m 227ms/step - accuracy: 0.8721 - loss: 0.3207 - precision: 0.8898 - recall: 0.8601 - val_accuracy: 0.8028 - val_loss: 0.5647 - val_precision: 0.8137 - val_recall: 0.7907\n",
      "Epoch 12/30\n",
      "\u001b[1m78/78\u001b[0m \u001b[32m━━━━━━━━━━━━━━━━━━━━\u001b[0m\u001b[37m\u001b[0m \u001b[1m19s\u001b[0m 233ms/step - accuracy: 0.8838 - loss: 0.3150 - precision: 0.8934 - recall: 0.8726 - val_accuracy: 0.7787 - val_loss: 0.6392 - val_precision: 0.7901 - val_recall: 0.7726\n",
      "Epoch 13/30\n",
      "\u001b[1m78/78\u001b[0m \u001b[32m━━━━━━━━━━━━━━━━━━━━\u001b[0m\u001b[37m\u001b[0m \u001b[1m18s\u001b[0m 226ms/step - accuracy: 0.8869 - loss: 0.2991 - precision: 0.8926 - recall: 0.8716 - val_accuracy: 0.8028 - val_loss: 0.6373 - val_precision: 0.8115 - val_recall: 0.7968\n",
      "Epoch 14/30\n",
      "\u001b[1m78/78\u001b[0m \u001b[32m━━━━━━━━━━━━━━━━━━━━\u001b[0m\u001b[37m\u001b[0m \u001b[1m19s\u001b[0m 239ms/step - accuracy: 0.9073 - loss: 0.2370 - precision: 0.9137 - recall: 0.8999 - val_accuracy: 0.8089 - val_loss: 0.5999 - val_precision: 0.8178 - val_recall: 0.7948\n",
      "Epoch 15/30\n",
      "\u001b[1m78/78\u001b[0m \u001b[32m━━━━━━━━━━━━━━━━━━━━\u001b[0m\u001b[37m\u001b[0m \u001b[1m18s\u001b[0m 223ms/step - accuracy: 0.9189 - loss: 0.2175 - precision: 0.9267 - recall: 0.9144 - val_accuracy: 0.8109 - val_loss: 0.6538 - val_precision: 0.8180 - val_recall: 0.8048\n",
      "Epoch 16/30\n",
      "\u001b[1m78/78\u001b[0m \u001b[32m━━━━━━━━━━━━━━━━━━━━\u001b[0m\u001b[37m\u001b[0m \u001b[1m19s\u001b[0m 246ms/step - accuracy: 0.9072 - loss: 0.2359 - precision: 0.9136 - recall: 0.8999 - val_accuracy: 0.8209 - val_loss: 0.6677 - val_precision: 0.8272 - val_recall: 0.8089\n",
      "Epoch 17/30\n",
      "\u001b[1m78/78\u001b[0m \u001b[32m━━━━━━━━━━━━━━━━━━━━\u001b[0m\u001b[37m\u001b[0m \u001b[1m18s\u001b[0m 224ms/step - accuracy: 0.9256 - loss: 0.1844 - precision: 0.9289 - recall: 0.9220 - val_accuracy: 0.8109 - val_loss: 0.6367 - val_precision: 0.8214 - val_recall: 0.8048\n",
      "Epoch 18/30\n",
      "\u001b[1m78/78\u001b[0m \u001b[32m━━━━━━━━━━━━━━━━━━━━\u001b[0m\u001b[37m\u001b[0m \u001b[1m19s\u001b[0m 239ms/step - accuracy: 0.9405 - loss: 0.1675 - precision: 0.9473 - recall: 0.9374 - val_accuracy: 0.8229 - val_loss: 0.7222 - val_precision: 0.8272 - val_recall: 0.8189\n",
      "Epoch 19/30\n",
      "\u001b[1m78/78\u001b[0m \u001b[32m━━━━━━━━━━━━━━━━━━━━\u001b[0m\u001b[37m\u001b[0m \u001b[1m18s\u001b[0m 225ms/step - accuracy: 0.9428 - loss: 0.1581 - precision: 0.9487 - recall: 0.9367 - val_accuracy: 0.8089 - val_loss: 0.7078 - val_precision: 0.8130 - val_recall: 0.8048\n",
      "Epoch 20/30\n",
      "\u001b[1m78/78\u001b[0m \u001b[32m━━━━━━━━━━━━━━━━━━━━\u001b[0m\u001b[37m\u001b[0m \u001b[1m19s\u001b[0m 238ms/step - accuracy: 0.9511 - loss: 0.1398 - precision: 0.9536 - recall: 0.9400 - val_accuracy: 0.8390 - val_loss: 0.6311 - val_precision: 0.8480 - val_recall: 0.8310\n",
      "Epoch 21/30\n",
      "\u001b[1m78/78\u001b[0m \u001b[32m━━━━━━━━━━━━━━━━━━━━\u001b[0m\u001b[37m\u001b[0m \u001b[1m18s\u001b[0m 225ms/step - accuracy: 0.9451 - loss: 0.1343 - precision: 0.9469 - recall: 0.9385 - val_accuracy: 0.8229 - val_loss: 0.6577 - val_precision: 0.8357 - val_recall: 0.8189\n",
      "Epoch 22/30\n",
      "\u001b[1m78/78\u001b[0m \u001b[32m━━━━━━━━━━━━━━━━━━━━\u001b[0m\u001b[37m\u001b[0m \u001b[1m18s\u001b[0m 231ms/step - accuracy: 0.9460 - loss: 0.1392 - precision: 0.9525 - recall: 0.9434 - val_accuracy: 0.8189 - val_loss: 0.8015 - val_precision: 0.8238 - val_recall: 0.8089\n",
      "Epoch 23/30\n",
      "\u001b[1m78/78\u001b[0m \u001b[32m━━━━━━━━━━━━━━━━━━━━\u001b[0m\u001b[37m\u001b[0m \u001b[1m18s\u001b[0m 232ms/step - accuracy: 0.9486 - loss: 0.1321 - precision: 0.9521 - recall: 0.9448 - val_accuracy: 0.8310 - val_loss: 0.7802 - val_precision: 0.8333 - val_recall: 0.8249\n",
      "Epoch 24/30\n",
      "\u001b[1m78/78\u001b[0m \u001b[32m━━━━━━━━━━━━━━━━━━━━\u001b[0m\u001b[37m\u001b[0m \u001b[1m18s\u001b[0m 226ms/step - accuracy: 0.9639 - loss: 0.1034 - precision: 0.9651 - recall: 0.9613 - val_accuracy: 0.8350 - val_loss: 0.8231 - val_precision: 0.8367 - val_recall: 0.8350\n",
      "Epoch 25/30\n",
      "\u001b[1m78/78\u001b[0m \u001b[32m━━━━━━━━━━━━━━━━━━━━\u001b[0m\u001b[37m\u001b[0m \u001b[1m19s\u001b[0m 236ms/step - accuracy: 0.9692 - loss: 0.0952 - precision: 0.9703 - recall: 0.9667 - val_accuracy: 0.8330 - val_loss: 0.7066 - val_precision: 0.8344 - val_recall: 0.8209\n",
      "Epoch 26/30\n",
      "\u001b[1m78/78\u001b[0m \u001b[32m━━━━━━━━━━━━━━━━━━━━\u001b[0m\u001b[37m\u001b[0m \u001b[1m18s\u001b[0m 223ms/step - accuracy: 0.9688 - loss: 0.0952 - precision: 0.9692 - recall: 0.9632 - val_accuracy: 0.8390 - val_loss: 0.8028 - val_precision: 0.8441 - val_recall: 0.8390\n",
      "Epoch 27/30\n",
      "\u001b[1m78/78\u001b[0m \u001b[32m━━━━━━━━━━━━━━━━━━━━\u001b[0m\u001b[37m\u001b[0m \u001b[1m19s\u001b[0m 237ms/step - accuracy: 0.9620 - loss: 0.1014 - precision: 0.9643 - recall: 0.9602 - val_accuracy: 0.8330 - val_loss: 0.7625 - val_precision: 0.8398 - val_recall: 0.8330\n",
      "Epoch 28/30\n",
      "\u001b[1m78/78\u001b[0m \u001b[32m━━━━━━━━━━━━━━━━━━━━\u001b[0m\u001b[37m\u001b[0m \u001b[1m18s\u001b[0m 226ms/step - accuracy: 0.9610 - loss: 0.0938 - precision: 0.9627 - recall: 0.9590 - val_accuracy: 0.8471 - val_loss: 0.7912 - val_precision: 0.8496 - val_recall: 0.8410\n",
      "Epoch 29/30\n",
      "\u001b[1m78/78\u001b[0m \u001b[32m━━━━━━━━━━━━━━━━━━━━\u001b[0m\u001b[37m\u001b[0m \u001b[1m19s\u001b[0m 238ms/step - accuracy: 0.9718 - loss: 0.0818 - precision: 0.9719 - recall: 0.9707 - val_accuracy: 0.8471 - val_loss: 0.8084 - val_precision: 0.8537 - val_recall: 0.8451\n",
      "Epoch 30/30\n",
      "\u001b[1m78/78\u001b[0m \u001b[32m━━━━━━━━━━━━━━━━━━━━\u001b[0m\u001b[37m\u001b[0m \u001b[1m18s\u001b[0m 223ms/step - accuracy: 0.9677 - loss: 0.0807 - precision: 0.9697 - recall: 0.9669 - val_accuracy: 0.8431 - val_loss: 0.9276 - val_precision: 0.8458 - val_recall: 0.8390\n",
      "Predicting on validation set...\n",
      "\u001b[1m16/16\u001b[0m \u001b[32m━━━━━━━━━━━━━━━━━━━━\u001b[0m\u001b[37m\u001b[0m \u001b[1m1s\u001b[0m 53ms/step\n",
      "Sending metrics to clearML...\n",
      "done\n",
      "ClearML Task: created new task id=62fe78cbccac4d51936fd9db197fe4be\n",
      "ClearML results page: https://app.clear.ml/projects/5a674be4cf0f473c808dd42f7b83358f/experiments/62fe78cbccac4d51936fd9db197fe4be/output/log\n",
      "Training model...\n",
      "Epoch 1/30\n",
      "\u001b[1m117/117\u001b[0m \u001b[32m━━━━━━━━━━━━━━━━━━━━\u001b[0m\u001b[37m\u001b[0m \u001b[1m31s\u001b[0m 246ms/step - accuracy: 0.3413 - loss: 1.6475 - precision: 0.3108 - recall: 0.0506 - val_accuracy: 0.3863 - val_loss: 1.0854 - val_precision: 0.0000e+00 - val_recall: 0.0000e+00\n",
      "Epoch 2/30\n",
      "\u001b[1m117/117\u001b[0m \u001b[32m━━━━━━━━━━━━━━━━━━━━\u001b[0m\u001b[37m\u001b[0m \u001b[1m27s\u001b[0m 228ms/step - accuracy: 0.4964 - loss: 1.0274 - precision: 0.6385 - recall: 0.1216 - val_accuracy: 0.6519 - val_loss: 0.8276 - val_precision: 0.7677 - val_recall: 0.3924\n",
      "Epoch 3/30\n",
      "\u001b[1m117/117\u001b[0m \u001b[32m━━━━━━━━━━━━━━━━━━━━\u001b[0m\u001b[37m\u001b[0m \u001b[1m26s\u001b[0m 220ms/step - accuracy: 0.6729 - loss: 0.7504 - precision: 0.7435 - recall: 0.5487 - val_accuracy: 0.7465 - val_loss: 0.6530 - val_precision: 0.7599 - val_recall: 0.6942\n",
      "Epoch 4/30\n",
      "\u001b[1m117/117\u001b[0m \u001b[32m━━━━━━━━━━━━━━━━━━━━\u001b[0m\u001b[37m\u001b[0m \u001b[1m27s\u001b[0m 229ms/step - accuracy: 0.7445 - loss: 0.6115 - precision: 0.7896 - recall: 0.6717 - val_accuracy: 0.7565 - val_loss: 0.6165 - val_precision: 0.7768 - val_recall: 0.7143\n",
      "Epoch 5/30\n",
      "\u001b[1m117/117\u001b[0m \u001b[32m━━━━━━━━━━━━━━━━━━━━\u001b[0m\u001b[37m\u001b[0m \u001b[1m27s\u001b[0m 228ms/step - accuracy: 0.7954 - loss: 0.4893 - precision: 0.8306 - recall: 0.7553 - val_accuracy: 0.7626 - val_loss: 0.5781 - val_precision: 0.7896 - val_recall: 0.7324\n",
      "Epoch 6/30\n",
      "\u001b[1m117/117\u001b[0m \u001b[32m━━━━━━━━━━━━━━━━━━━━\u001b[0m\u001b[37m\u001b[0m \u001b[1m26s\u001b[0m 223ms/step - accuracy: 0.8393 - loss: 0.4043 - precision: 0.8561 - recall: 0.8113 - val_accuracy: 0.7505 - val_loss: 0.6688 - val_precision: 0.7722 - val_recall: 0.7364\n",
      "Epoch 7/30\n",
      "\u001b[1m117/117\u001b[0m \u001b[32m━━━━━━━━━━━━━━━━━━━━\u001b[0m\u001b[37m\u001b[0m \u001b[1m27s\u001b[0m 230ms/step - accuracy: 0.8752 - loss: 0.3270 - precision: 0.8920 - recall: 0.8566 - val_accuracy: 0.7847 - val_loss: 0.5405 - val_precision: 0.8034 - val_recall: 0.7646\n",
      "Epoch 8/30\n",
      "\u001b[1m117/117\u001b[0m \u001b[32m━━━━━━━━━━━━━━━━━━━━\u001b[0m\u001b[37m\u001b[0m \u001b[1m27s\u001b[0m 228ms/step - accuracy: 0.8992 - loss: 0.2736 - precision: 0.9081 - recall: 0.8827 - val_accuracy: 0.7948 - val_loss: 0.5869 - val_precision: 0.8100 - val_recall: 0.7807\n",
      "Epoch 9/30\n",
      "\u001b[1m117/117\u001b[0m \u001b[32m━━━━━━━━━━━━━━━━━━━━\u001b[0m\u001b[37m\u001b[0m \u001b[1m26s\u001b[0m 219ms/step - accuracy: 0.9113 - loss: 0.2514 - precision: 0.9266 - recall: 0.8982 - val_accuracy: 0.7968 - val_loss: 0.6165 - val_precision: 0.8000 - val_recall: 0.7887\n",
      "Epoch 10/30\n",
      "\u001b[1m117/117\u001b[0m \u001b[32m━━━━━━━━━━━━━━━━━━━━\u001b[0m\u001b[37m\u001b[0m \u001b[1m27s\u001b[0m 228ms/step - accuracy: 0.9259 - loss: 0.1929 - precision: 0.9331 - recall: 0.9191 - val_accuracy: 0.8008 - val_loss: 0.6586 - val_precision: 0.8024 - val_recall: 0.7928\n",
      "Epoch 11/30\n",
      "\u001b[1m117/117\u001b[0m \u001b[32m━━━━━━━━━━━━━━━━━━━━\u001b[0m\u001b[37m\u001b[0m \u001b[1m27s\u001b[0m 230ms/step - accuracy: 0.9535 - loss: 0.1455 - precision: 0.9582 - recall: 0.9481 - val_accuracy: 0.8209 - val_loss: 0.6107 - val_precision: 0.8241 - val_recall: 0.8109\n",
      "Epoch 12/30\n",
      "\u001b[1m117/117\u001b[0m \u001b[32m━━━━━━━━━━━━━━━━━━━━\u001b[0m\u001b[37m\u001b[0m \u001b[1m26s\u001b[0m 222ms/step - accuracy: 0.9469 - loss: 0.1487 - precision: 0.9522 - recall: 0.9442 - val_accuracy: 0.8129 - val_loss: 0.7157 - val_precision: 0.8200 - val_recall: 0.8068\n",
      "Epoch 13/30\n",
      "\u001b[1m117/117\u001b[0m \u001b[32m━━━━━━━━━━━━━━━━━━━━\u001b[0m\u001b[37m\u001b[0m \u001b[1m27s\u001b[0m 226ms/step - accuracy: 0.9546 - loss: 0.1259 - precision: 0.9595 - recall: 0.9510 - val_accuracy: 0.7988 - val_loss: 0.7434 - val_precision: 0.8065 - val_recall: 0.7968\n",
      "Epoch 14/30\n",
      "\u001b[1m117/117\u001b[0m \u001b[32m━━━━━━━━━━━━━━━━━━━━\u001b[0m\u001b[37m\u001b[0m \u001b[1m28s\u001b[0m 238ms/step - accuracy: 0.9702 - loss: 0.0940 - precision: 0.9714 - recall: 0.9669 - val_accuracy: 0.8270 - val_loss: 0.6639 - val_precision: 0.8371 - val_recall: 0.8169\n",
      "Epoch 15/30\n",
      "\u001b[1m117/117\u001b[0m \u001b[32m━━━━━━━━━━━━━━━━━━━━\u001b[0m\u001b[37m\u001b[0m \u001b[1m26s\u001b[0m 220ms/step - accuracy: 0.9648 - loss: 0.1001 - precision: 0.9674 - recall: 0.9631 - val_accuracy: 0.8350 - val_loss: 0.7420 - val_precision: 0.8377 - val_recall: 0.8310\n",
      "Epoch 16/30\n",
      "\u001b[1m117/117\u001b[0m \u001b[32m━━━━━━━━━━━━━━━━━━━━\u001b[0m\u001b[37m\u001b[0m \u001b[1m27s\u001b[0m 228ms/step - accuracy: 0.9724 - loss: 0.0905 - precision: 0.9734 - recall: 0.9698 - val_accuracy: 0.8310 - val_loss: 0.7641 - val_precision: 0.8408 - val_recall: 0.8290\n",
      "Epoch 17/30\n",
      "\u001b[1m117/117\u001b[0m \u001b[32m━━━━━━━━━━━━━━━━━━━━\u001b[0m\u001b[37m\u001b[0m \u001b[1m27s\u001b[0m 232ms/step - accuracy: 0.9773 - loss: 0.0665 - precision: 0.9787 - recall: 0.9763 - val_accuracy: 0.8310 - val_loss: 0.7472 - val_precision: 0.8340 - val_recall: 0.8290\n",
      "Epoch 18/30\n",
      "\u001b[1m117/117\u001b[0m \u001b[32m━━━━━━━━━━━━━━━━━━━━\u001b[0m\u001b[37m\u001b[0m \u001b[1m26s\u001b[0m 222ms/step - accuracy: 0.9831 - loss: 0.0619 - precision: 0.9838 - recall: 0.9816 - val_accuracy: 0.8310 - val_loss: 0.6470 - val_precision: 0.8347 - val_recall: 0.8229\n",
      "Epoch 19/30\n",
      "\u001b[1m 43/117\u001b[0m \u001b[32m━━━━━━━\u001b[0m\u001b[37m━━━━━━━━━━━━━\u001b[0m \u001b[1m17s\u001b[0m 240ms/step - accuracy: 0.9632 - loss: 0.0951 - precision: 0.9665 - recall: 0.9596"
     ]
    },
    {
     "name": "stderr",
     "output_type": "stream",
     "text": [
      "Exception encountered while uploading Failed uploading object Intruder-Aircraft-Detection/tl_clf/ROTATE/r5-w01-30-2500-5-aug.62fe78cbccac4d51936fd9db197fe4be/artifacts/notebook preview/notebook_62fe78cbccac4d51936fd9db197fe4be.html (500): <!doctype html>\n",
      "<html lang=en>\n",
      "<title>500 Internal Server Error</title>\n",
      "<h1>Internal Server Error</h1>\n",
      "<p>The server encountered an internal error and was unable to complete your request. Either the server is overloaded or there is an error in the application.</p>\n",
      "\n"
     ]
    },
    {
     "name": "stdout",
     "output_type": "stream",
     "text": [
      "\u001b[1m117/117\u001b[0m \u001b[32m━━━━━━━━━━━━━━━━━━━━\u001b[0m\u001b[37m\u001b[0m \u001b[1m27s\u001b[0m 228ms/step - accuracy: 0.9718 - loss: 0.0791 - precision: 0.9740 - recall: 0.9687 - val_accuracy: 0.8089 - val_loss: 0.8729 - val_precision: 0.8163 - val_recall: 0.8048\n",
      "Epoch 20/30\n",
      "\u001b[1m102/117\u001b[0m \u001b[32m━━━━━━━━━━━━━━━━━\u001b[0m\u001b[37m━━━\u001b[0m \u001b[1m3s\u001b[0m 225ms/step - accuracy: 0.9729 - loss: 0.0726 - precision: 0.9739 - recall: 0.9724"
     ]
    },
    {
     "name": "stderr",
     "output_type": "stream",
     "text": [
      "Exception encountered while uploading Failed uploading object Intruder-Aircraft-Detection/tl_clf/ROTATE/r5-w01-30-2500-5-aug.62fe78cbccac4d51936fd9db197fe4be/artifacts/notebook preview/notebook_62fe78cbccac4d51936fd9db197fe4be.html (500): <!doctype html>\n",
      "<html lang=en>\n",
      "<title>500 Internal Server Error</title>\n",
      "<h1>Internal Server Error</h1>\n",
      "<p>The server encountered an internal error and was unable to complete your request. Either the server is overloaded or there is an error in the application.</p>\n",
      "\n"
     ]
    },
    {
     "name": "stdout",
     "output_type": "stream",
     "text": [
      "\u001b[1m117/117\u001b[0m \u001b[32m━━━━━━━━━━━━━━━━━━━━\u001b[0m\u001b[37m\u001b[0m \u001b[1m27s\u001b[0m 230ms/step - accuracy: 0.9732 - loss: 0.0720 - precision: 0.9742 - recall: 0.9726 - val_accuracy: 0.8431 - val_loss: 0.8179 - val_precision: 0.8444 - val_recall: 0.8410\n",
      "Epoch 21/30\n",
      "\u001b[1m117/117\u001b[0m \u001b[32m━━━━━━━━━━━━━━━━━━━━\u001b[0m\u001b[37m\u001b[0m \u001b[1m27s\u001b[0m 225ms/step - accuracy: 0.9817 - loss: 0.0559 - precision: 0.9823 - recall: 0.9807 - val_accuracy: 0.8290 - val_loss: 0.8567 - val_precision: 0.8354 - val_recall: 0.8270\n",
      "Epoch 22/30\n",
      "\u001b[1m 43/117\u001b[0m \u001b[32m━━━━━━━\u001b[0m\u001b[37m━━━━━━━━━━━━━\u001b[0m \u001b[1m17s\u001b[0m 239ms/step - accuracy: 0.9797 - loss: 0.0565 - precision: 0.9831 - recall: 0.9795"
     ]
    },
    {
     "name": "stderr",
     "output_type": "stream",
     "text": [
      "Exception encountered while uploading Failed uploading object Intruder-Aircraft-Detection/tl_clf/ROTATE/r5-w01-30-2500-5-aug.62fe78cbccac4d51936fd9db197fe4be/artifacts/notebook preview/notebook_62fe78cbccac4d51936fd9db197fe4be.html (500): <!doctype html>\n",
      "<html lang=en>\n",
      "<title>500 Internal Server Error</title>\n",
      "<h1>Internal Server Error</h1>\n",
      "<p>The server encountered an internal error and was unable to complete your request. Either the server is overloaded or there is an error in the application.</p>\n",
      "\n"
     ]
    },
    {
     "name": "stdout",
     "output_type": "stream",
     "text": [
      "\u001b[1m117/117\u001b[0m \u001b[32m━━━━━━━━━━━━━━━━━━━━\u001b[0m\u001b[37m\u001b[0m \u001b[1m27s\u001b[0m 228ms/step - accuracy: 0.9841 - loss: 0.0482 - precision: 0.9861 - recall: 0.9837 - val_accuracy: 0.8491 - val_loss: 0.9765 - val_precision: 0.8534 - val_recall: 0.8431\n",
      "Epoch 23/30\n",
      "\u001b[1m117/117\u001b[0m \u001b[32m━━━━━━━━━━━━━━━━━━━━\u001b[0m\u001b[37m\u001b[0m \u001b[1m27s\u001b[0m 230ms/step - accuracy: 0.9886 - loss: 0.0348 - precision: 0.9889 - recall: 0.9882 - val_accuracy: 0.8451 - val_loss: 0.9488 - val_precision: 0.8465 - val_recall: 0.8431\n",
      "Epoch 24/30\n",
      "\u001b[1m  1/117\u001b[0m \u001b[37m━━━━━━━━━━━━━━━━━━━━\u001b[0m \u001b[1m59s\u001b[0m 514ms/step - accuracy: 1.0000 - loss: 0.0056 - precision: 1.0000 - recall: 1.0000"
     ]
    },
    {
     "name": "stderr",
     "output_type": "stream",
     "text": [
      "Exception encountered while uploading Failed uploading object Intruder-Aircraft-Detection/tl_clf/ROTATE/r5-w01-30-2500-5-aug.62fe78cbccac4d51936fd9db197fe4be/artifacts/notebook preview/notebook_62fe78cbccac4d51936fd9db197fe4be.html (500): <!doctype html>\n",
      "<html lang=en>\n",
      "<title>500 Internal Server Error</title>\n",
      "<h1>Internal Server Error</h1>\n",
      "<p>The server encountered an internal error and was unable to complete your request. Either the server is overloaded or there is an error in the application.</p>\n",
      "\n"
     ]
    },
    {
     "name": "stdout",
     "output_type": "stream",
     "text": [
      "\u001b[1m117/117\u001b[0m \u001b[32m━━━━━━━━━━━━━━━━━━━━\u001b[0m\u001b[37m\u001b[0m \u001b[1m26s\u001b[0m 219ms/step - accuracy: 0.9869 - loss: 0.0312 - precision: 0.9870 - recall: 0.9869 - val_accuracy: 0.8511 - val_loss: 0.9896 - val_precision: 0.8543 - val_recall: 0.8491\n",
      "Epoch 25/30\n",
      "\u001b[1m 67/117\u001b[0m \u001b[32m━━━━━━━━━━━\u001b[0m\u001b[37m━━━━━━━━━\u001b[0m \u001b[1m11s\u001b[0m 236ms/step - accuracy: 0.9913 - loss: 0.0262 - precision: 0.9921 - recall: 0.9913"
     ]
    },
    {
     "name": "stderr",
     "output_type": "stream",
     "text": [
      "Exception encountered while uploading Failed uploading object Intruder-Aircraft-Detection/tl_clf/ROTATE/r5-w01-30-2500-5-aug.62fe78cbccac4d51936fd9db197fe4be/artifacts/notebook preview/notebook_62fe78cbccac4d51936fd9db197fe4be.html (500): <!doctype html>\n",
      "<html lang=en>\n",
      "<title>500 Internal Server Error</title>\n",
      "<h1>Internal Server Error</h1>\n",
      "<p>The server encountered an internal error and was unable to complete your request. Either the server is overloaded or there is an error in the application.</p>\n",
      "\n"
     ]
    },
    {
     "name": "stdout",
     "output_type": "stream",
     "text": [
      "\u001b[1m117/117\u001b[0m \u001b[32m━━━━━━━━━━━━━━━━━━━━\u001b[0m\u001b[37m\u001b[0m \u001b[1m27s\u001b[0m 231ms/step - accuracy: 0.9909 - loss: 0.0270 - precision: 0.9917 - recall: 0.9908 - val_accuracy: 0.8571 - val_loss: 1.0117 - val_precision: 0.8569 - val_recall: 0.8551\n",
      "Epoch 26/30\n",
      "\u001b[1m117/117\u001b[0m \u001b[32m━━━━━━━━━━━━━━━━━━━━\u001b[0m\u001b[37m\u001b[0m \u001b[1m27s\u001b[0m 229ms/step - accuracy: 0.9931 - loss: 0.0253 - precision: 0.9932 - recall: 0.9931 - val_accuracy: 0.8169 - val_loss: 1.1932 - val_precision: 0.8174 - val_recall: 0.8109\n",
      "Epoch 27/30\n",
      "\u001b[1m  4/117\u001b[0m \u001b[37m━━━━━━━━━━━━━━━━━━━━\u001b[0m \u001b[1m32s\u001b[0m 289ms/step - accuracy: 0.9714 - loss: 0.0825 - precision: 0.9714 - recall: 0.9714"
     ]
    },
    {
     "name": "stderr",
     "output_type": "stream",
     "text": [
      "Exception encountered while uploading Failed uploading object Intruder-Aircraft-Detection/tl_clf/ROTATE/r5-w01-30-2500-5-aug.62fe78cbccac4d51936fd9db197fe4be/artifacts/notebook preview/notebook_62fe78cbccac4d51936fd9db197fe4be.html (500): <!doctype html>\n",
      "<html lang=en>\n",
      "<title>500 Internal Server Error</title>\n",
      "<h1>Internal Server Error</h1>\n",
      "<p>The server encountered an internal error and was unable to complete your request. Either the server is overloaded or there is an error in the application.</p>\n",
      "\n"
     ]
    },
    {
     "name": "stdout",
     "output_type": "stream",
     "text": [
      "\u001b[1m117/117\u001b[0m \u001b[32m━━━━━━━━━━━━━━━━━━━━\u001b[0m\u001b[37m\u001b[0m \u001b[1m26s\u001b[0m 220ms/step - accuracy: 0.9805 - loss: 0.0578 - precision: 0.9806 - recall: 0.9792 - val_accuracy: 0.8551 - val_loss: 1.0186 - val_precision: 0.8548 - val_recall: 0.8531\n",
      "Epoch 28/30\n",
      "\u001b[1m 75/117\u001b[0m \u001b[32m━━━━━━━━━━━━\u001b[0m\u001b[37m━━━━━━━━\u001b[0m \u001b[1m10s\u001b[0m 241ms/step - accuracy: 0.9919 - loss: 0.0269 - precision: 0.9922 - recall: 0.9919"
     ]
    },
    {
     "name": "stderr",
     "output_type": "stream",
     "text": [
      "Exception encountered while uploading Failed uploading object Intruder-Aircraft-Detection/tl_clf/ROTATE/r5-w01-30-2500-5-aug.62fe78cbccac4d51936fd9db197fe4be/artifacts/notebook preview/notebook_62fe78cbccac4d51936fd9db197fe4be.html (500): <!doctype html>\n",
      "<html lang=en>\n",
      "<title>500 Internal Server Error</title>\n",
      "<h1>Internal Server Error</h1>\n",
      "<p>The server encountered an internal error and was unable to complete your request. Either the server is overloaded or there is an error in the application.</p>\n",
      "\n"
     ]
    },
    {
     "name": "stdout",
     "output_type": "stream",
     "text": [
      "\u001b[1m117/117\u001b[0m \u001b[32m━━━━━━━━━━━━━━━━━━━━\u001b[0m\u001b[37m\u001b[0m \u001b[1m28s\u001b[0m 238ms/step - accuracy: 0.9916 - loss: 0.0271 - precision: 0.9920 - recall: 0.9915 - val_accuracy: 0.8511 - val_loss: 1.0133 - val_precision: 0.8511 - val_recall: 0.8511\n",
      "Epoch 29/30\n",
      "\u001b[1m117/117\u001b[0m \u001b[32m━━━━━━━━━━━━━━━━━━━━\u001b[0m\u001b[37m\u001b[0m \u001b[1m27s\u001b[0m 230ms/step - accuracy: 0.9913 - loss: 0.0192 - precision: 0.9919 - recall: 0.9913 - val_accuracy: 0.8330 - val_loss: 1.1203 - val_precision: 0.8323 - val_recall: 0.8290\n",
      "Epoch 30/30\n",
      "\u001b[1m 14/117\u001b[0m \u001b[32m━━\u001b[0m\u001b[37m━━━━━━━━━━━━━━━━━━\u001b[0m \u001b[1m24s\u001b[0m 237ms/step - accuracy: 0.9851 - loss: 0.0451 - precision: 0.9851 - recall: 0.9851"
     ]
    },
    {
     "name": "stderr",
     "output_type": "stream",
     "text": [
      "Exception encountered while uploading Failed uploading object Intruder-Aircraft-Detection/tl_clf/ROTATE/r5-w01-30-2500-5-aug.62fe78cbccac4d51936fd9db197fe4be/artifacts/notebook preview/notebook_62fe78cbccac4d51936fd9db197fe4be.html (500): <!doctype html>\n",
      "<html lang=en>\n",
      "<title>500 Internal Server Error</title>\n",
      "<h1>Internal Server Error</h1>\n",
      "<p>The server encountered an internal error and was unable to complete your request. Either the server is overloaded or there is an error in the application.</p>\n",
      "\n"
     ]
    },
    {
     "name": "stdout",
     "output_type": "stream",
     "text": [
      "\u001b[1m117/117\u001b[0m \u001b[32m━━━━━━━━━━━━━━━━━━━━\u001b[0m\u001b[37m\u001b[0m \u001b[1m26s\u001b[0m 220ms/step - accuracy: 0.9904 - loss: 0.0285 - precision: 0.9906 - recall: 0.9904 - val_accuracy: 0.8511 - val_loss: 1.1070 - val_precision: 0.8543 - val_recall: 0.8491\n",
      "Predicting on validation set...\n",
      "\u001b[1m16/16\u001b[0m \u001b[32m━━━━━━━━━━━━━━━━━━━━\u001b[0m\u001b[37m\u001b[0m \u001b[1m1s\u001b[0m 61ms/step\n",
      "Sending metrics to clearML...\n"
     ]
    },
    {
     "name": "stderr",
     "output_type": "stream",
     "text": [
      "Exception encountered while uploading Failed uploading object Intruder-Aircraft-Detection/tl_clf/ROTATE/r5-w01-30-2500-5-aug.62fe78cbccac4d51936fd9db197fe4be/artifacts/notebook preview/notebook_62fe78cbccac4d51936fd9db197fe4be.html (500): <!doctype html>\n",
      "<html lang=en>\n",
      "<title>500 Internal Server Error</title>\n",
      "<h1>Internal Server Error</h1>\n",
      "<p>The server encountered an internal error and was unable to complete your request. Either the server is overloaded or there is an error in the application.</p>\n",
      "\n"
     ]
    },
    {
     "name": "stdout",
     "output_type": "stream",
     "text": [
      "done\n"
     ]
    }
   ],
   "source": [
    "# rotate augmentation 5\n",
    "task_name = 'r5'\n",
    "sub_project_name = 'ROTATE'\n",
    "\n",
    "augmentation_metadata = {\n",
    "        'methods': {        \n",
    "            'rotate': {\n",
    "                'parameters': {\n",
    "                    'angle_limit': 5, # Maximum angle of rotation\n",
    "                    'p': 1.0  # Probability of applying the augmentation\n",
    "                },\n",
    "                'apply_to_percentage': 0.5  # 50% of the training images\n",
    "            }        \n",
    "        }\n",
    "    }\n",
    "\n",
    "for i in range(N):\n",
    "    RUN = i + 1\n",
    "    try:\n",
    "        print(f\"Starting RUN: {RUN}\")\n",
    "        main(RUN, augmentation_metadata, task_name, sub_project_name, epochs, train_size, w1, w2)\n",
    "    except Exception as e:\n",
    "        print(f\"Error in RUN: {RUN}\")\n",
    "        print(e)\n",
    "    finally:\n",
    "        clear_output(wait=True)  # Clear the output to avoid scrolling\n",
    "        gc.collect()  # Collect garbage to avoid memory leaks"
   ]
  },
  {
   "cell_type": "code",
   "execution_count": 7,
   "metadata": {},
   "outputs": [
    {
     "name": "stdout",
     "output_type": "stream",
     "text": [
      "Starting RUN: 5\n",
      "Seed:  1885374982\n"
     ]
    },
    {
     "name": "stderr",
     "output_type": "stream",
     "text": [
      "c:\\github\\Third-Year-Project\\Intruder-Aircraft-Detection\\main\\tl_clf.py:79: SettingWithCopyWarning:\n",
      "\n",
      "\n",
      "A value is trying to be set on a copy of a slice from a DataFrame.\n",
      "Try using .loc[row_indexer,col_indexer] = value instead\n",
      "\n",
      "See the caveats in the documentation: https://pandas.pydata.org/pandas-docs/stable/user_guide/indexing.html#returning-a-view-versus-a-copy\n",
      "\n",
      "c:\\github\\Third-Year-Project\\Intruder-Aircraft-Detection\\main\\tl_clf.py:80: SettingWithCopyWarning:\n",
      "\n",
      "\n",
      "A value is trying to be set on a copy of a slice from a DataFrame.\n",
      "Try using .loc[row_indexer,col_indexer] = value instead\n",
      "\n",
      "See the caveats in the documentation: https://pandas.pydata.org/pandas-docs/stable/user_guide/indexing.html#returning-a-view-versus-a-copy\n",
      "\n"
     ]
    },
    {
     "name": "stdout",
     "output_type": "stream",
     "text": [
      "Removing dataset if pre-existing\n",
      "Copying training files:\n"
     ]
    },
    {
     "name": "stderr",
     "output_type": "stream",
     "text": [
      "Copying files: 100%|██████████| 5000/5000 [00:02<00:00, 1895.89it/s]\n"
     ]
    },
    {
     "name": "stdout",
     "output_type": "stream",
     "text": [
      "Copying validation files:\n"
     ]
    },
    {
     "name": "stderr",
     "output_type": "stream",
     "text": [
      "Copying files: 100%|██████████| 1000/1000 [00:00<00:00, 1116.44it/s]\n"
     ]
    },
    {
     "name": "stdout",
     "output_type": "stream",
     "text": [
      "Dataset 'weather_01_2500' created at C:\\github\\Third-Year-Project\\Intruder-Aircraft-Detection\\datasets\\Custom\\weather_01_2500\n",
      "Processing train labels in weather_01_2500:\n"
     ]
    },
    {
     "name": "stderr",
     "output_type": "stream",
     "text": [
      "Processing labels: 100%|██████████| 2500/2500 [00:10<00:00, 228.74it/s]\n"
     ]
    },
    {
     "name": "stdout",
     "output_type": "stream",
     "text": [
      "Processing valid labels in weather_01_2500:\n"
     ]
    },
    {
     "name": "stderr",
     "output_type": "stream",
     "text": [
      "Processing labels: 100%|██████████| 500/500 [00:01<00:00, 270.28it/s]\n"
     ]
    },
    {
     "name": "stdout",
     "output_type": "stream",
     "text": [
      "Label correction completed.\n"
     ]
    },
    {
     "name": "stderr",
     "output_type": "stream",
     "text": [
      "Removing existing directories/files: 100%|██████████| 3/3 [00:00<00:00, 3008.11it/s]\n",
      "Copying files: 100%|██████████| 2500/2500 [00:02<00:00, 1209.73it/s]\n",
      "Copying files: 100%|██████████| 2500/2500 [00:01<00:00, 1415.23it/s]\n",
      "Applying augmentations: 100%|██████████| 1250/1250 [00:14<00:00, 86.34it/s]\n"
     ]
    },
    {
     "name": "stdout",
     "output_type": "stream",
     "text": [
      "An error occurred: Expected y_min for bbox (0.0959025, -0.07905450000000001, 0.7032695, 0.3258565, 2) to be in the range [0.0, 1.0], got -0.07905450000000001.\n",
      "An error occurred: Expected x_min for bbox (-0.016773999999999956, 0.047126500000000016, 0.52576, 0.4088155, 1) to be in the range [0.0, 1.0], got -0.016773999999999956.\n",
      "An error occurred: Expected x_min for bbox (-0.032714999999999994, -0.10783849999999998, 0.8482190000000001, 0.4794505, 1) to be in the range [0.0, 1.0], got -0.032714999999999994.\n",
      "An error occurred: Expected y_max for bbox (0.14731649999999996, 0.7641374999999999, 0.5491775, 1.0320445, 1) to be in the range [0.0, 1.0], got 1.0320445.\n",
      "An error occurred: Expected x_max for bbox (0.46096849999999995, 0.09652050000000001, 1.0471375, 0.4872995, 1) to be in the range [0.0, 1.0], got 1.0471375.\n",
      "An error occurred: Expected y_max for bbox (0.0957615, 0.625385, 0.7186585000000001, 1.040649, 2) to be in the range [0.0, 1.0], got 1.040649.\n"
     ]
    },
    {
     "name": "stderr",
     "output_type": "stream",
     "text": [
      "Processing images:  20%|██        | 511/2500 [00:20<01:00, 32.79it/s]"
     ]
    },
    {
     "name": "stdout",
     "output_type": "stream",
     "text": [
      "An error occurred with C:/github/Third-Year-Project/Intruder-Aircraft-Detection/datasets/Custom/weather_01_2500\\images\\train\\24027.jpg: Expected x_max for bbox (0.46096849999999995, 0.09652050000000001, 1.0471375, 0.4872995, 1) to be in the range [0.0, 1.0], got 1.0471375.\n"
     ]
    },
    {
     "name": "stderr",
     "output_type": "stream",
     "text": [
      "Processing images:  21%|██        | 524/2500 [00:20<00:57, 34.57it/s]"
     ]
    },
    {
     "name": "stdout",
     "output_type": "stream",
     "text": [
      "An error occurred with C:/github/Third-Year-Project/Intruder-Aircraft-Detection/datasets/Custom/weather_01_2500\\images\\train\\24066.jpg: Expected x_min for bbox (-0.032714999999999994, -0.10783849999999998, 0.8482190000000001, 0.4794505, 1) to be in the range [0.0, 1.0], got -0.032714999999999994.\n"
     ]
    },
    {
     "name": "stderr",
     "output_type": "stream",
     "text": [
      "Processing images:  22%|██▏       | 541/2500 [00:21<00:55, 35.44it/s]"
     ]
    },
    {
     "name": "stdout",
     "output_type": "stream",
     "text": [
      "An error occurred with C:/github/Third-Year-Project/Intruder-Aircraft-Detection/datasets/Custom/weather_01_2500\\images\\train\\24096.jpg: Expected y_max for bbox (0.603079, 0.818155, 0.877433, 1.0010569999999999, 1) to be in the range [0.0, 1.0], got 1.0010569999999999.\n"
     ]
    },
    {
     "name": "stderr",
     "output_type": "stream",
     "text": [
      "Processing images:  22%|██▏       | 550/2500 [00:21<00:56, 34.72it/s]"
     ]
    },
    {
     "name": "stdout",
     "output_type": "stream",
     "text": [
      "An error occurred with C:/github/Third-Year-Project/Intruder-Aircraft-Detection/datasets/Custom/weather_01_2500\\images\\train\\24104.jpg: Expected y_max for bbox (0.14731649999999996, 0.7641374999999999, 0.5491775, 1.0320445, 1) to be in the range [0.0, 1.0], got 1.0320445.\n"
     ]
    },
    {
     "name": "stderr",
     "output_type": "stream",
     "text": [
      "Processing images:  24%|██▍       | 603/2500 [00:22<00:54, 34.54it/s]"
     ]
    },
    {
     "name": "stdout",
     "output_type": "stream",
     "text": [
      "An error occurred with C:/github/Third-Year-Project/Intruder-Aircraft-Detection/datasets/Custom/weather_01_2500\\images\\train\\24202.jpg: Expected y_min for bbox (0.19744650000000002, -0.022690500000000002, 0.6507875000000001, 0.2795365, 1) to be in the range [0.0, 1.0], got -0.022690500000000002.\n"
     ]
    },
    {
     "name": "stderr",
     "output_type": "stream",
     "text": [
      "Processing images:  26%|██▌       | 656/2500 [00:24<00:57, 32.13it/s]"
     ]
    },
    {
     "name": "stdout",
     "output_type": "stream",
     "text": [
      "An error occurred with C:/github/Third-Year-Project/Intruder-Aircraft-Detection/datasets/Custom/weather_01_2500\\images\\train\\24335.jpg: Expected x_min for bbox (-0.016773999999999956, 0.047126500000000016, 0.52576, 0.4088155, 1) to be in the range [0.0, 1.0], got -0.016773999999999956.\n"
     ]
    },
    {
     "name": "stderr",
     "output_type": "stream",
     "text": [
      "Processing images:  27%|██▋       | 681/2500 [00:25<00:55, 33.03it/s]"
     ]
    },
    {
     "name": "stdout",
     "output_type": "stream",
     "text": [
      "An error occurred with C:/github/Third-Year-Project/Intruder-Aircraft-Detection/datasets/Custom/weather_01_2500\\images\\train\\24392.jpg: Expected x_max for bbox (0.389371, 0.478432, 1.160187, 0.99231, 1) to be in the range [0.0, 1.0], got 1.160187.\n"
     ]
    },
    {
     "name": "stderr",
     "output_type": "stream",
     "text": [
      "Processing images:  28%|██▊       | 698/2500 [00:25<00:51, 34.80it/s]"
     ]
    },
    {
     "name": "stdout",
     "output_type": "stream",
     "text": [
      "An error occurred with C:/github/Third-Year-Project/Intruder-Aircraft-Detection/datasets/Custom/weather_01_2500\\images\\train\\24416.jpg: Expected y_max for bbox (0.554391, 0.738745, 0.9893209999999999, 1.028699, 1) to be in the range [0.0, 1.0], got 1.028699.\n"
     ]
    },
    {
     "name": "stderr",
     "output_type": "stream",
     "text": [
      "Processing images:  31%|███       | 779/2500 [00:28<00:51, 33.49it/s]"
     ]
    },
    {
     "name": "stdout",
     "output_type": "stream",
     "text": [
      "An error occurred with C:/github/Third-Year-Project/Intruder-Aircraft-Detection/datasets/Custom/weather_01_2500\\images\\train\\24613.jpg: Expected y_min for bbox (0.21910349999999998, -0.01988999999999999, 0.6275445, 0.25240399999999996, 1) to be in the range [0.0, 1.0], got -0.01988999999999999.\n"
     ]
    },
    {
     "name": "stderr",
     "output_type": "stream",
     "text": [
      "Processing images:  41%|████▏     | 1036/2500 [00:36<00:40, 35.93it/s]"
     ]
    },
    {
     "name": "stdout",
     "output_type": "stream",
     "text": [
      "An error occurred with C:/github/Third-Year-Project/Intruder-Aircraft-Detection/datasets/Custom/weather_01_2500\\images\\train\\25261.jpg: Expected x_min for bbox (-0.09083650000000004, -0.04985999999999999, 0.6557445, 0.44786000000000004, 1) to be in the range [0.0, 1.0], got -0.09083650000000004.\n"
     ]
    },
    {
     "name": "stderr",
     "output_type": "stream",
     "text": [
      "Processing images:  50%|████▉     | 1241/2500 [00:42<00:35, 35.35it/s]"
     ]
    },
    {
     "name": "stdout",
     "output_type": "stream",
     "text": [
      "An error occurred with C:/github/Third-Year-Project/Intruder-Aircraft-Detection/datasets/Custom/weather_01_2500\\images\\train\\25695.jpg: Expected x_max for bbox (0.3757315, 0.3660325, 1.0766624999999999, 0.8333195, 1) to be in the range [0.0, 1.0], got 1.0766624999999999.\n"
     ]
    },
    {
     "name": "stderr",
     "output_type": "stream",
     "text": [
      "Processing images:  60%|█████▉    | 1494/2500 [00:50<00:28, 35.27it/s]"
     ]
    },
    {
     "name": "stdout",
     "output_type": "stream",
     "text": [
      "An error occurred with C:/github/Third-Year-Project/Intruder-Aircraft-Detection/datasets/Custom/weather_01_2500\\images\\train\\48102.jpg: Expected y_max for bbox (0.0957615, 0.625385, 0.7186585000000001, 1.040649, 2) to be in the range [0.0, 1.0], got 1.040649.\n"
     ]
    },
    {
     "name": "stderr",
     "output_type": "stream",
     "text": [
      "Processing images:  65%|██████▌   | 1635/2500 [00:54<00:25, 34.46it/s]"
     ]
    },
    {
     "name": "stdout",
     "output_type": "stream",
     "text": [
      "An error occurred with C:/github/Third-Year-Project/Intruder-Aircraft-Detection/datasets/Custom/weather_01_2500\\images\\train\\48405.jpg: Expected x_max for bbox (0.25508400000000003, 0.6339159999999999, 1.001982, 1.131848, 2) to be in the range [0.0, 1.0], got 1.001982.\n"
     ]
    },
    {
     "name": "stderr",
     "output_type": "stream",
     "text": [
      "Processing images:  68%|██████▊   | 1688/2500 [00:55<00:22, 35.50it/s]"
     ]
    },
    {
     "name": "stdout",
     "output_type": "stream",
     "text": [
      "An error occurred with C:/github/Third-Year-Project/Intruder-Aircraft-Detection/datasets/Custom/weather_01_2500\\images\\train\\48506.jpg: Expected y_min for bbox (0.604137, -0.0008270000000000083, 0.899387, 0.196007, 2) to be in the range [0.0, 1.0], got -0.0008270000000000083.\n"
     ]
    },
    {
     "name": "stderr",
     "output_type": "stream",
     "text": [
      "Processing images:  68%|██████▊   | 1708/2500 [00:56<00:23, 33.49it/s]"
     ]
    },
    {
     "name": "stdout",
     "output_type": "stream",
     "text": [
      "An error occurred with C:/github/Third-Year-Project/Intruder-Aircraft-Detection/datasets/Custom/weather_01_2500\\images\\train\\48545.jpg: Expected x_max for bbox (0.139949, 0.11087449999999999, 1.0701450000000001, 0.7310055, 2) to be in the range [0.0, 1.0], got 1.0701450000000001.\n"
     ]
    },
    {
     "name": "stderr",
     "output_type": "stream",
     "text": [
      "Processing images:  74%|███████▍  | 1857/2500 [01:00<00:17, 36.03it/s]"
     ]
    },
    {
     "name": "stdout",
     "output_type": "stream",
     "text": [
      "An error occurred with C:/github/Third-Year-Project/Intruder-Aircraft-Detection/datasets/Custom/weather_01_2500\\images\\train\\48882.jpg: Expected y_min for bbox (0.0959025, -0.07905450000000001, 0.7032695, 0.3258565, 2) to be in the range [0.0, 1.0], got -0.07905450000000001.\n"
     ]
    },
    {
     "name": "stderr",
     "output_type": "stream",
     "text": [
      "Processing images: 100%|██████████| 2500/2500 [01:19<00:00, 31.32it/s]\n",
      "Processing images:  20%|██        | 765/3744 [00:31<01:36, 30.90it/s]"
     ]
    },
    {
     "name": "stdout",
     "output_type": "stream",
     "text": [
      "An error occurred with C:/github/Third-Year-Project/Intruder-Aircraft-Detection/datasets/Custom/weather_01_2500\\images\\train-aug\\24027.jpg: Expected x_max for bbox (0.46096849999999995, 0.09652050000000001, 1.0471375, 0.4872995, 1) to be in the range [0.0, 1.0], got 1.0471375.\n"
     ]
    },
    {
     "name": "stderr",
     "output_type": "stream",
     "text": [
      "Processing images:  21%|██        | 782/3744 [00:31<01:27, 33.99it/s]"
     ]
    },
    {
     "name": "stdout",
     "output_type": "stream",
     "text": [
      "An error occurred with C:/github/Third-Year-Project/Intruder-Aircraft-Detection/datasets/Custom/weather_01_2500\\images\\train-aug\\24066.jpg: Expected x_min for bbox (-0.032714999999999994, -0.10783849999999998, 0.8482190000000001, 0.4794505, 1) to be in the range [0.0, 1.0], got -0.032714999999999994.\n"
     ]
    },
    {
     "name": "stderr",
     "output_type": "stream",
     "text": [
      "Processing images:  22%|██▏       | 815/3744 [00:32<01:26, 33.88it/s]"
     ]
    },
    {
     "name": "stdout",
     "output_type": "stream",
     "text": [
      "An error occurred with C:/github/Third-Year-Project/Intruder-Aircraft-Detection/datasets/Custom/weather_01_2500\\images\\train-aug\\24096.jpg: Expected y_max for bbox (0.603079, 0.818155, 0.877433, 1.0010569999999999, 1) to be in the range [0.0, 1.0], got 1.0010569999999999.\n",
      "An error occurred with C:/github/Third-Year-Project/Intruder-Aircraft-Detection/datasets/Custom/weather_01_2500\\images\\train-aug\\24104.jpg: Expected y_max for bbox (0.14731649999999996, 0.7641374999999999, 0.5491775, 1.0320445, 1) to be in the range [0.0, 1.0], got 1.0320445.\n"
     ]
    },
    {
     "name": "stderr",
     "output_type": "stream",
     "text": [
      "Processing images:  24%|██▍       | 893/3744 [00:35<01:18, 36.38it/s]"
     ]
    },
    {
     "name": "stdout",
     "output_type": "stream",
     "text": [
      "An error occurred with C:/github/Third-Year-Project/Intruder-Aircraft-Detection/datasets/Custom/weather_01_2500\\images\\train-aug\\24187-rotate.jpg: Expected y_min for bbox (0.637165, -5.000000000005e-07, 0.790815, 0.1224505, 1) to be in the range [0.0, 1.0], got -5.000000000005e-07.\n"
     ]
    },
    {
     "name": "stderr",
     "output_type": "stream",
     "text": [
      "Processing images:  24%|██▍       | 902/3744 [00:35<01:18, 36.01it/s]"
     ]
    },
    {
     "name": "stdout",
     "output_type": "stream",
     "text": [
      "An error occurred with C:/github/Third-Year-Project/Intruder-Aircraft-Detection/datasets/Custom/weather_01_2500\\images\\train-aug\\24202.jpg: Expected y_min for bbox (0.19744650000000002, -0.022690500000000002, 0.6507875000000001, 0.2795365, 1) to be in the range [0.0, 1.0], got -0.022690500000000002.\n"
     ]
    },
    {
     "name": "stderr",
     "output_type": "stream",
     "text": [
      "Processing images:  26%|██▌       | 982/3744 [00:37<01:21, 33.81it/s]"
     ]
    },
    {
     "name": "stdout",
     "output_type": "stream",
     "text": [
      "An error occurred with C:/github/Third-Year-Project/Intruder-Aircraft-Detection/datasets/Custom/weather_01_2500\\images\\train-aug\\24335.jpg: Expected x_min for bbox (-0.016773999999999956, 0.047126500000000016, 0.52576, 0.4088155, 1) to be in the range [0.0, 1.0], got -0.016773999999999956.\n"
     ]
    },
    {
     "name": "stderr",
     "output_type": "stream",
     "text": [
      "Processing images:  28%|██▊       | 1031/3744 [00:39<01:18, 34.71it/s]"
     ]
    },
    {
     "name": "stdout",
     "output_type": "stream",
     "text": [
      "An error occurred with C:/github/Third-Year-Project/Intruder-Aircraft-Detection/datasets/Custom/weather_01_2500\\images\\train-aug\\24392.jpg: Expected x_max for bbox (0.389371, 0.478432, 1.160187, 0.99231, 1) to be in the range [0.0, 1.0], got 1.160187.\n"
     ]
    },
    {
     "name": "stderr",
     "output_type": "stream",
     "text": [
      "Processing images:  28%|██▊       | 1048/3744 [00:40<01:19, 33.79it/s]"
     ]
    },
    {
     "name": "stdout",
     "output_type": "stream",
     "text": [
      "An error occurred with C:/github/Third-Year-Project/Intruder-Aircraft-Detection/datasets/Custom/weather_01_2500\\images\\train-aug\\24416.jpg: Expected y_max for bbox (0.554391, 0.738745, 0.9893209999999999, 1.028699, 1) to be in the range [0.0, 1.0], got 1.028699.\n"
     ]
    },
    {
     "name": "stderr",
     "output_type": "stream",
     "text": [
      "Processing images:  31%|███▏      | 1177/3744 [00:44<01:17, 33.00it/s]"
     ]
    },
    {
     "name": "stdout",
     "output_type": "stream",
     "text": [
      "An error occurred with C:/github/Third-Year-Project/Intruder-Aircraft-Detection/datasets/Custom/weather_01_2500\\images\\train-aug\\24613.jpg: Expected y_min for bbox (0.21910349999999998, -0.01988999999999999, 0.6275445, 0.25240399999999996, 1) to be in the range [0.0, 1.0], got -0.01988999999999999.\n"
     ]
    },
    {
     "name": "stderr",
     "output_type": "stream",
     "text": [
      "Processing images:  41%|████▏     | 1553/3744 [00:55<01:01, 35.51it/s]"
     ]
    },
    {
     "name": "stdout",
     "output_type": "stream",
     "text": [
      "An error occurred with C:/github/Third-Year-Project/Intruder-Aircraft-Detection/datasets/Custom/weather_01_2500\\images\\train-aug\\25261.jpg: Expected x_min for bbox (-0.09083650000000004, -0.04985999999999999, 0.6557445, 0.44786000000000004, 1) to be in the range [0.0, 1.0], got -0.09083650000000004.\n"
     ]
    },
    {
     "name": "stderr",
     "output_type": "stream",
     "text": [
      "Processing images:  50%|████▉     | 1854/3744 [01:04<00:52, 36.04it/s]"
     ]
    },
    {
     "name": "stdout",
     "output_type": "stream",
     "text": [
      "An error occurred with C:/github/Third-Year-Project/Intruder-Aircraft-Detection/datasets/Custom/weather_01_2500\\images\\train-aug\\25695.jpg: Expected x_max for bbox (0.3757315, 0.3660325, 1.0766624999999999, 0.8333195, 1) to be in the range [0.0, 1.0], got 1.0766624999999999.\n"
     ]
    },
    {
     "name": "stderr",
     "output_type": "stream",
     "text": [
      "Processing images:  60%|█████▉    | 2231/3744 [01:16<00:44, 34.28it/s]"
     ]
    },
    {
     "name": "stdout",
     "output_type": "stream",
     "text": [
      "An error occurred with C:/github/Third-Year-Project/Intruder-Aircraft-Detection/datasets/Custom/weather_01_2500\\images\\train-aug\\48102.jpg: Expected y_max for bbox (0.0957615, 0.625385, 0.7186585000000001, 1.040649, 2) to be in the range [0.0, 1.0], got 1.040649.\n"
     ]
    },
    {
     "name": "stderr",
     "output_type": "stream",
     "text": [
      "Processing images:  65%|██████▌   | 2448/3744 [01:22<00:37, 34.95it/s]"
     ]
    },
    {
     "name": "stdout",
     "output_type": "stream",
     "text": [
      "An error occurred with C:/github/Third-Year-Project/Intruder-Aircraft-Detection/datasets/Custom/weather_01_2500\\images\\train-aug\\48405.jpg: Expected x_max for bbox (0.25508400000000003, 0.6339159999999999, 1.001982, 1.131848, 2) to be in the range [0.0, 1.0], got 1.001982.\n"
     ]
    },
    {
     "name": "stderr",
     "output_type": "stream",
     "text": [
      "Processing images:  68%|██████▊   | 2533/3744 [01:25<00:35, 34.55it/s]"
     ]
    },
    {
     "name": "stdout",
     "output_type": "stream",
     "text": [
      "An error occurred with C:/github/Third-Year-Project/Intruder-Aircraft-Detection/datasets/Custom/weather_01_2500\\images\\train-aug\\48506.jpg: Expected y_min for bbox (0.604137, -0.0008270000000000083, 0.899387, 0.196007, 2) to be in the range [0.0, 1.0], got -0.0008270000000000083.\n"
     ]
    },
    {
     "name": "stderr",
     "output_type": "stream",
     "text": [
      "Processing images:  68%|██████▊   | 2561/3744 [01:26<00:36, 32.85it/s]"
     ]
    },
    {
     "name": "stdout",
     "output_type": "stream",
     "text": [
      "An error occurred with C:/github/Third-Year-Project/Intruder-Aircraft-Detection/datasets/Custom/weather_01_2500\\images\\train-aug\\48545.jpg: Expected x_max for bbox (0.139949, 0.11087449999999999, 1.0701450000000001, 0.7310055, 2) to be in the range [0.0, 1.0], got 1.0701450000000001.\n"
     ]
    },
    {
     "name": "stderr",
     "output_type": "stream",
     "text": [
      "Processing images:  74%|███████▍  | 2779/3744 [01:32<00:24, 39.42it/s]"
     ]
    },
    {
     "name": "stdout",
     "output_type": "stream",
     "text": [
      "An error occurred with C:/github/Third-Year-Project/Intruder-Aircraft-Detection/datasets/Custom/weather_01_2500\\images\\train-aug\\48882.jpg: Expected y_min for bbox (0.0959025, -0.07905450000000001, 0.7032695, 0.3258565, 2) to be in the range [0.0, 1.0], got -0.07905450000000001.\n",
      "An error occurred with C:/github/Third-Year-Project/Intruder-Aircraft-Detection/datasets/Custom/weather_01_2500\\images\\train-aug\\48874-rotate.jpg: Expected y_min for bbox (0.284893, -5.000000000143778e-07, 0.6163350000000001, 0.2970085, 2) to be in the range [0.0, 1.0], got -5.000000000143778e-07.\n"
     ]
    },
    {
     "name": "stderr",
     "output_type": "stream",
     "text": [
      "Processing images:  91%|█████████ | 3392/3744 [01:50<00:09, 35.90it/s]"
     ]
    },
    {
     "name": "stdout",
     "output_type": "stream",
     "text": [
      "An error occurred with C:/github/Third-Year-Project/Intruder-Aircraft-Detection/datasets/Custom/weather_01_2500\\images\\train-aug\\49848-rotate.jpg: Expected y_min for bbox (0.21021, -5.000000000005e-07, 0.364046, 0.12856450000000003, 2) to be in the range [0.0, 1.0], got -5.000000000005e-07.\n"
     ]
    },
    {
     "name": "stderr",
     "output_type": "stream",
     "text": [
      "Processing images:  93%|█████████▎| 3494/3744 [01:53<00:07, 35.04it/s]"
     ]
    },
    {
     "name": "stdout",
     "output_type": "stream",
     "text": [
      "An error occurred with C:/github/Third-Year-Project/Intruder-Aircraft-Detection/datasets/Custom/weather_01_2500\\images\\train-aug\\587-rotate.jpg: Expected y_min for bbox (0.222655, -5.000000000005e-07, 0.448827, 0.1806605, 0) to be in the range [0.0, 1.0], got -5.000000000005e-07.\n"
     ]
    },
    {
     "name": "stderr",
     "output_type": "stream",
     "text": [
      "Processing images: 100%|██████████| 3744/3744 [02:01<00:00, 30.91it/s]\n",
      "Processing images:  60%|██████    | 302/500 [00:10<00:05, 36.23it/s]"
     ]
    },
    {
     "name": "stdout",
     "output_type": "stream",
     "text": [
      "An error occurred with C:/github/Third-Year-Project/Intruder-Aircraft-Detection/datasets/Custom/weather_01_2500\\images\\valid\\48958.jpg: Expected y_min for bbox (0.11869149999999995, -0.083345, 1.0148305, 0.514081, 2) to be in the range [0.0, 1.0], got -0.083345.\n"
     ]
    },
    {
     "name": "stderr",
     "output_type": "stream",
     "text": [
      "Processing images:  77%|███████▋  | 387/500 [00:12<00:03, 35.47it/s]"
     ]
    },
    {
     "name": "stdout",
     "output_type": "stream",
     "text": [
      "An error occurred with C:/github/Third-Year-Project/Intruder-Aircraft-Detection/datasets/Custom/weather_01_2500\\images\\valid\\49956.jpg: Expected x_min for bbox (-0.11142649999999998, 0.37090300000000004, 0.7043905, 0.9147810000000001, 2) to be in the range [0.0, 1.0], got -0.11142649999999998.\n"
     ]
    },
    {
     "name": "stderr",
     "output_type": "stream",
     "text": [
      "Processing images: 100%|██████████| 500/500 [00:16<00:00, 30.90it/s]\n",
      "Moving images in train: 100%|██████████| 2484/2484 [00:08<00:00, 281.57it/s]\n",
      "Moving images in train-aug: 100%|██████████| 3724/3724 [00:13<00:00, 282.19it/s]\n",
      "Moving images in valid: 100%|██████████| 498/498 [00:01<00:00, 287.89it/s]\n"
     ]
    },
    {
     "name": "stdout",
     "output_type": "stream",
     "text": [
      "Found 2484 files belonging to 3 classes.\n",
      "Found 3724 files belonging to 3 classes.\n",
      "Found 498 files belonging to 3 classes.\n",
      "ClearML Task: created new task id=4d445eb6bea848a28369384d04267aaa\n",
      "ClearML results page: https://app.clear.ml/projects/5a674be4cf0f473c808dd42f7b83358f/experiments/4d445eb6bea848a28369384d04267aaa/output/log\n",
      "Training model...\n",
      "Epoch 1/30\n",
      "\u001b[1m37/78\u001b[0m \u001b[32m━━━━━━━━━\u001b[0m\u001b[37m━━━━━━━━━━━\u001b[0m \u001b[1m10s\u001b[0m 250ms/step - accuracy: 0.3332 - loss: 2.1314 - precision: 0.3134 - recall: 0.1287"
     ]
    },
    {
     "name": "stderr",
     "output_type": "stream",
     "text": [
      "Exception encountered while uploading Failed uploading object Intruder-Aircraft-Detection/tl_clf/ROTATE/r20-w01-30-2500-5-pure.4d445eb6bea848a28369384d04267aaa/artifacts/notebook preview/notebook_4d445eb6bea848a28369384d04267aaa.html (500): <!doctype html>\n",
      "<html lang=en>\n",
      "<title>500 Internal Server Error</title>\n",
      "<h1>Internal Server Error</h1>\n",
      "<p>The server encountered an internal error and was unable to complete your request. Either the server is overloaded or there is an error in the application.</p>\n",
      "\n"
     ]
    },
    {
     "name": "stdout",
     "output_type": "stream",
     "text": [
      "\u001b[1m78/78\u001b[0m \u001b[32m━━━━━━━━━━━━━━━━━━━━\u001b[0m\u001b[37m\u001b[0m \u001b[1m21s\u001b[0m 244ms/step - accuracy: 0.3310 - loss: 1.7141 - precision: 0.3189 - recall: 0.0805 - val_accuracy: 0.3755 - val_loss: 1.0978 - val_precision: 0.0000e+00 - val_recall: 0.0000e+00\n",
      "Epoch 2/30\n",
      "\u001b[1m78/78\u001b[0m \u001b[32m━━━━━━━━━━━━━━━━━━━━\u001b[0m\u001b[37m\u001b[0m \u001b[1m17s\u001b[0m 220ms/step - accuracy: 0.3495 - loss: 1.0977 - precision: 0.0000e+00 - recall: 0.0000e+00 - val_accuracy: 0.3373 - val_loss: 1.0985 - val_precision: 0.0000e+00 - val_recall: 0.0000e+00\n",
      "Epoch 3/30\n",
      "\u001b[1m78/78\u001b[0m \u001b[32m━━━━━━━━━━━━━━━━━━━━\u001b[0m\u001b[37m\u001b[0m \u001b[1m19s\u001b[0m 235ms/step - accuracy: 0.3336 - loss: 1.0986 - precision: 0.0000e+00 - recall: 0.0000e+00 - val_accuracy: 0.3313 - val_loss: 1.0985 - val_precision: 0.0000e+00 - val_recall: 0.0000e+00\n",
      "Epoch 4/30\n",
      "\u001b[1m 4/78\u001b[0m \u001b[32m━\u001b[0m\u001b[37m━━━━━━━━━━━━━━━━━━━\u001b[0m \u001b[1m20s\u001b[0m 281ms/step - accuracy: 0.3665 - loss: 1.0983 - precision: 0.0000e+00 - recall: 0.0000e+00"
     ]
    },
    {
     "name": "stderr",
     "output_type": "stream",
     "text": [
      "Exception encountered while uploading Failed uploading object Intruder-Aircraft-Detection/tl_clf/ROTATE/r20-w01-30-2500-5-pure.4d445eb6bea848a28369384d04267aaa/artifacts/notebook preview/notebook_4d445eb6bea848a28369384d04267aaa.html (500): <!doctype html>\n",
      "<html lang=en>\n",
      "<title>500 Internal Server Error</title>\n",
      "<h1>Internal Server Error</h1>\n",
      "<p>The server encountered an internal error and was unable to complete your request. Either the server is overloaded or there is an error in the application.</p>\n",
      "\n"
     ]
    },
    {
     "name": "stdout",
     "output_type": "stream",
     "text": [
      "\u001b[1m78/78\u001b[0m \u001b[32m━━━━━━━━━━━━━━━━━━━━\u001b[0m\u001b[37m\u001b[0m \u001b[1m18s\u001b[0m 222ms/step - accuracy: 0.3417 - loss: 1.0984 - precision: 0.0000e+00 - recall: 0.0000e+00 - val_accuracy: 0.3313 - val_loss: 1.0981 - val_precision: 0.0000e+00 - val_recall: 0.0000e+00\n",
      "Epoch 5/30\n",
      "\u001b[1m78/78\u001b[0m \u001b[32m━━━━━━━━━━━━━━━━━━━━\u001b[0m\u001b[37m\u001b[0m \u001b[1m18s\u001b[0m 225ms/step - accuracy: 0.3534 - loss: 1.0979 - precision: 0.0000e+00 - recall: 0.0000e+00 - val_accuracy: 0.3614 - val_loss: 1.0971 - val_precision: 0.0000e+00 - val_recall: 0.0000e+00\n",
      "Epoch 6/30\n",
      "\u001b[1m34/78\u001b[0m \u001b[32m━━━━━━━━\u001b[0m\u001b[37m━━━━━━━━━━━━\u001b[0m \u001b[1m10s\u001b[0m 239ms/step - accuracy: 0.3827 - loss: 1.0970 - precision: 0.0081 - recall: 2.1626e-04    "
     ]
    },
    {
     "name": "stderr",
     "output_type": "stream",
     "text": [
      "Exception encountered while uploading Failed uploading object Intruder-Aircraft-Detection/tl_clf/ROTATE/r20-w01-30-2500-5-pure.4d445eb6bea848a28369384d04267aaa/artifacts/notebook preview/notebook_4d445eb6bea848a28369384d04267aaa.html (500): <!doctype html>\n",
      "<html lang=en>\n",
      "<title>500 Internal Server Error</title>\n",
      "<h1>Internal Server Error</h1>\n",
      "<p>The server encountered an internal error and was unable to complete your request. Either the server is overloaded or there is an error in the application.</p>\n",
      "\n"
     ]
    },
    {
     "name": "stdout",
     "output_type": "stream",
     "text": [
      "\u001b[1m78/78\u001b[0m \u001b[32m━━━━━━━━━━━━━━━━━━━━\u001b[0m\u001b[37m\u001b[0m \u001b[1m18s\u001b[0m 231ms/step - accuracy: 0.3676 - loss: 1.0990 - precision: 0.1606 - recall: 0.0027 - val_accuracy: 0.3313 - val_loss: 1.0977 - val_precision: 0.0000e+00 - val_recall: 0.0000e+00\n",
      "Epoch 7/30\n",
      "\u001b[1m78/78\u001b[0m \u001b[32m━━━━━━━━━━━━━━━━━━━━\u001b[0m\u001b[37m\u001b[0m \u001b[1m18s\u001b[0m 221ms/step - accuracy: 0.3508 - loss: 1.0987 - precision: 0.2532 - recall: 0.0039 - val_accuracy: 0.3936 - val_loss: 1.0961 - val_precision: 0.0000e+00 - val_recall: 0.0000e+00\n",
      "Epoch 8/30\n",
      "\u001b[1m65/78\u001b[0m \u001b[32m━━━━━━━━━━━━━━━━\u001b[0m\u001b[37m━━━━\u001b[0m \u001b[1m2s\u001b[0m 229ms/step - accuracy: 0.3774 - loss: 1.0947 - precision: 0.2030 - recall: 0.0014"
     ]
    },
    {
     "name": "stderr",
     "output_type": "stream",
     "text": [
      "Exception encountered while uploading Failed uploading object Intruder-Aircraft-Detection/tl_clf/ROTATE/r20-w01-30-2500-5-pure.4d445eb6bea848a28369384d04267aaa/artifacts/notebook preview/notebook_4d445eb6bea848a28369384d04267aaa.html (500): <!doctype html>\n",
      "<html lang=en>\n",
      "<title>500 Internal Server Error</title>\n",
      "<h1>Internal Server Error</h1>\n",
      "<p>The server encountered an internal error and was unable to complete your request. Either the server is overloaded or there is an error in the application.</p>\n",
      "\n"
     ]
    },
    {
     "name": "stdout",
     "output_type": "stream",
     "text": [
      "\u001b[1m78/78\u001b[0m \u001b[32m━━━━━━━━━━━━━━━━━━━━\u001b[0m\u001b[37m\u001b[0m \u001b[1m19s\u001b[0m 238ms/step - accuracy: 0.3790 - loss: 1.0938 - precision: 0.2776 - recall: 0.0031 - val_accuracy: 0.4458 - val_loss: 1.0778 - val_precision: 0.0000e+00 - val_recall: 0.0000e+00\n",
      "Epoch 9/30\n",
      "\u001b[1m78/78\u001b[0m \u001b[32m━━━━━━━━━━━━━━━━━━━━\u001b[0m\u001b[37m\u001b[0m \u001b[1m18s\u001b[0m 223ms/step - accuracy: 0.3640 - loss: 1.0841 - precision: 0.3400 - recall: 0.0172 - val_accuracy: 0.4438 - val_loss: 1.0678 - val_precision: 0.5200 - val_recall: 0.0522\n",
      "Epoch 10/30\n",
      "\u001b[1m78/78\u001b[0m \u001b[32m━━━━━━━━━━━━━━━━━━━━\u001b[0m\u001b[37m\u001b[0m \u001b[1m19s\u001b[0m 239ms/step - accuracy: 0.3959 - loss: 1.0719 - precision: 0.5984 - recall: 0.0565 - val_accuracy: 0.4618 - val_loss: 1.0581 - val_precision: 0.5455 - val_recall: 0.0602\n",
      "Epoch 11/30\n",
      "\u001b[1m11/78\u001b[0m \u001b[32m━━\u001b[0m\u001b[37m━━━━━━━━━━━━━━━━━━\u001b[0m \u001b[1m16s\u001b[0m 241ms/step - accuracy: 0.4446 - loss: 1.0535 - precision: 0.6603 - recall: 0.0906"
     ]
    },
    {
     "name": "stderr",
     "output_type": "stream",
     "text": [
      "Exception encountered while uploading Failed uploading object Intruder-Aircraft-Detection/tl_clf/ROTATE/r20-w01-30-2500-5-pure.4d445eb6bea848a28369384d04267aaa/artifacts/notebook preview/notebook_4d445eb6bea848a28369384d04267aaa.html (500): <!doctype html>\n",
      "<html lang=en>\n",
      "<title>500 Internal Server Error</title>\n",
      "<h1>Internal Server Error</h1>\n",
      "<p>The server encountered an internal error and was unable to complete your request. Either the server is overloaded or there is an error in the application.</p>\n",
      "\n"
     ]
    },
    {
     "name": "stdout",
     "output_type": "stream",
     "text": [
      "\u001b[1m78/78\u001b[0m \u001b[32m━━━━━━━━━━━━━━━━━━━━\u001b[0m\u001b[37m\u001b[0m \u001b[1m18s\u001b[0m 223ms/step - accuracy: 0.4293 - loss: 1.0688 - precision: 0.5630 - recall: 0.0563 - val_accuracy: 0.4398 - val_loss: 1.0626 - val_precision: 0.4783 - val_recall: 0.0442\n",
      "Epoch 12/30\n",
      "\u001b[1m78/78\u001b[0m \u001b[32m━━━━━━━━━━━━━━━━━━━━\u001b[0m\u001b[37m\u001b[0m \u001b[1m18s\u001b[0m 225ms/step - accuracy: 0.4317 - loss: 1.0696 - precision: 0.6065 - recall: 0.0358 - val_accuracy: 0.4538 - val_loss: 1.0637 - val_precision: 0.5341 - val_recall: 0.0944\n",
      "Epoch 13/30\n",
      "\u001b[1m43/78\u001b[0m \u001b[32m━━━━━━━━━━━\u001b[0m\u001b[37m━━━━━━━━━\u001b[0m \u001b[1m8s\u001b[0m 240ms/step - accuracy: 0.4419 - loss: 1.0698 - precision: 0.5889 - recall: 0.0769"
     ]
    },
    {
     "name": "stderr",
     "output_type": "stream",
     "text": [
      "Exception encountered while uploading Failed uploading object Intruder-Aircraft-Detection/tl_clf/ROTATE/r20-w01-30-2500-5-pure.4d445eb6bea848a28369384d04267aaa/artifacts/notebook preview/notebook_4d445eb6bea848a28369384d04267aaa.html (500): <!doctype html>\n",
      "<html lang=en>\n",
      "<title>500 Internal Server Error</title>\n",
      "<h1>Internal Server Error</h1>\n",
      "<p>The server encountered an internal error and was unable to complete your request. Either the server is overloaded or there is an error in the application.</p>\n",
      "\n"
     ]
    },
    {
     "name": "stdout",
     "output_type": "stream",
     "text": [
      "\u001b[1m78/78\u001b[0m \u001b[32m━━━━━━━━━━━━━━━━━━━━\u001b[0m\u001b[37m\u001b[0m \u001b[1m19s\u001b[0m 235ms/step - accuracy: 0.4414 - loss: 1.0671 - precision: 0.5885 - recall: 0.0702 - val_accuracy: 0.4378 - val_loss: 1.0710 - val_precision: 0.5000 - val_recall: 0.0542\n",
      "Epoch 14/30\n",
      "\u001b[1m78/78\u001b[0m \u001b[32m━━━━━━━━━━━━━━━━━━━━\u001b[0m\u001b[37m\u001b[0m \u001b[1m17s\u001b[0m 220ms/step - accuracy: 0.4323 - loss: 1.0723 - precision: 0.5383 - recall: 0.0591 - val_accuracy: 0.4337 - val_loss: 1.0659 - val_precision: 0.4688 - val_recall: 0.0301\n",
      "Epoch 15/30\n",
      "\u001b[1m76/78\u001b[0m \u001b[32m━━━━━━━━━━━━━━━━━━━\u001b[0m\u001b[37m━\u001b[0m \u001b[1m0s\u001b[0m 223ms/step - accuracy: 0.4376 - loss: 1.0618 - precision: 0.5800 - recall: 0.0776"
     ]
    },
    {
     "name": "stderr",
     "output_type": "stream",
     "text": [
      "Exception encountered while uploading Failed uploading object Intruder-Aircraft-Detection/tl_clf/ROTATE/r20-w01-30-2500-5-pure.4d445eb6bea848a28369384d04267aaa/artifacts/notebook preview/notebook_4d445eb6bea848a28369384d04267aaa.html (500): <!doctype html>\n",
      "<html lang=en>\n",
      "<title>500 Internal Server Error</title>\n",
      "<h1>Internal Server Error</h1>\n",
      "<p>The server encountered an internal error and was unable to complete your request. Either the server is overloaded or there is an error in the application.</p>\n",
      "\n"
     ]
    },
    {
     "name": "stdout",
     "output_type": "stream",
     "text": [
      "\u001b[1m78/78\u001b[0m \u001b[32m━━━━━━━━━━━━━━━━━━━━\u001b[0m\u001b[37m\u001b[0m \u001b[1m19s\u001b[0m 236ms/step - accuracy: 0.4376 - loss: 1.0617 - precision: 0.5802 - recall: 0.0774 - val_accuracy: 0.4458 - val_loss: 1.0601 - val_precision: 0.5000 - val_recall: 0.0482\n",
      "Epoch 16/30\n",
      "\u001b[1m78/78\u001b[0m \u001b[32m━━━━━━━━━━━━━━━━━━━━\u001b[0m\u001b[37m\u001b[0m \u001b[1m18s\u001b[0m 221ms/step - accuracy: 0.4402 - loss: 1.0670 - precision: 0.5253 - recall: 0.0567 - val_accuracy: 0.4337 - val_loss: 1.0611 - val_precision: 0.5469 - val_recall: 0.0703\n",
      "Epoch 17/30\n",
      "\u001b[1m78/78\u001b[0m \u001b[32m━━━━━━━━━━━━━━━━━━━━\u001b[0m\u001b[37m\u001b[0m \u001b[1m19s\u001b[0m 245ms/step - accuracy: 0.4455 - loss: 1.0549 - precision: 0.6037 - recall: 0.0865 - val_accuracy: 0.4538 - val_loss: 1.0585 - val_precision: 0.5506 - val_recall: 0.0984\n",
      "Epoch 18/30\n",
      "\u001b[1m19/78\u001b[0m \u001b[32m━━━━\u001b[0m\u001b[37m━━━━━━━━━━━━━━━━\u001b[0m \u001b[1m13s\u001b[0m 224ms/step - accuracy: 0.4636 - loss: 1.0539 - precision: 0.6072 - recall: 0.1143"
     ]
    },
    {
     "name": "stderr",
     "output_type": "stream",
     "text": [
      "Exception encountered while uploading Failed uploading object Intruder-Aircraft-Detection/tl_clf/ROTATE/r20-w01-30-2500-5-pure.4d445eb6bea848a28369384d04267aaa/artifacts/notebook preview/notebook_4d445eb6bea848a28369384d04267aaa.html (500): <!doctype html>\n",
      "<html lang=en>\n",
      "<title>500 Internal Server Error</title>\n",
      "<h1>Internal Server Error</h1>\n",
      "<p>The server encountered an internal error and was unable to complete your request. Either the server is overloaded or there is an error in the application.</p>\n",
      "\n"
     ]
    },
    {
     "name": "stdout",
     "output_type": "stream",
     "text": [
      "\u001b[1m78/78\u001b[0m \u001b[32m━━━━━━━━━━━━━━━━━━━━\u001b[0m\u001b[37m\u001b[0m \u001b[1m18s\u001b[0m 221ms/step - accuracy: 0.4480 - loss: 1.0578 - precision: 0.5841 - recall: 0.0886 - val_accuracy: 0.4438 - val_loss: 1.0590 - val_precision: 0.4773 - val_recall: 0.0422\n",
      "Epoch 19/30\n",
      "\u001b[1m78/78\u001b[0m \u001b[32m━━━━━━━━━━━━━━━━━━━━\u001b[0m\u001b[37m\u001b[0m \u001b[1m18s\u001b[0m 225ms/step - accuracy: 0.4566 - loss: 1.0502 - precision: 0.5705 - recall: 0.0621 - val_accuracy: 0.4398 - val_loss: 1.0519 - val_precision: 0.5439 - val_recall: 0.0622\n",
      "Epoch 20/30\n",
      "\u001b[1m50/78\u001b[0m \u001b[32m━━━━━━━━━━━━\u001b[0m\u001b[37m━━━━━━━━\u001b[0m \u001b[1m6s\u001b[0m 233ms/step - accuracy: 0.4499 - loss: 1.0549 - precision: 0.5821 - recall: 0.0668"
     ]
    },
    {
     "name": "stderr",
     "output_type": "stream",
     "text": [
      "Exception encountered while uploading Failed uploading object Intruder-Aircraft-Detection/tl_clf/ROTATE/r20-w01-30-2500-5-pure.4d445eb6bea848a28369384d04267aaa/artifacts/notebook preview/notebook_4d445eb6bea848a28369384d04267aaa.html (500): <!doctype html>\n",
      "<html lang=en>\n",
      "<title>500 Internal Server Error</title>\n",
      "<h1>Internal Server Error</h1>\n",
      "<p>The server encountered an internal error and was unable to complete your request. Either the server is overloaded or there is an error in the application.</p>\n",
      "\n"
     ]
    },
    {
     "name": "stdout",
     "output_type": "stream",
     "text": [
      "\u001b[1m78/78\u001b[0m \u001b[32m━━━━━━━━━━━━━━━━━━━━\u001b[0m\u001b[37m\u001b[0m \u001b[1m19s\u001b[0m 237ms/step - accuracy: 0.4495 - loss: 1.0547 - precision: 0.5779 - recall: 0.0671 - val_accuracy: 0.4679 - val_loss: 1.0461 - val_precision: 0.5833 - val_recall: 0.0843\n",
      "Epoch 21/30\n",
      "\u001b[1m78/78\u001b[0m \u001b[32m━━━━━━━━━━━━━━━━━━━━\u001b[0m\u001b[37m\u001b[0m \u001b[1m18s\u001b[0m 221ms/step - accuracy: 0.4734 - loss: 1.0529 - precision: 0.5797 - recall: 0.0837 - val_accuracy: 0.4618 - val_loss: 1.0420 - val_precision: 0.5571 - val_recall: 0.0783\n",
      "Epoch 22/30\n",
      "\u001b[1m78/78\u001b[0m \u001b[32m━━━━━━━━━━━━━━━━━━━━\u001b[0m\u001b[37m\u001b[0m \u001b[1m0s\u001b[0m 224ms/step - accuracy: 0.4820 - loss: 1.0415 - precision: 0.6182 - recall: 0.0951"
     ]
    },
    {
     "name": "stderr",
     "output_type": "stream",
     "text": [
      "Exception encountered while uploading Failed uploading object Intruder-Aircraft-Detection/tl_clf/ROTATE/r20-w01-30-2500-5-pure.4d445eb6bea848a28369384d04267aaa/artifacts/notebook preview/notebook_4d445eb6bea848a28369384d04267aaa.html (500): <!doctype html>\n",
      "<html lang=en>\n",
      "<title>500 Internal Server Error</title>\n",
      "<h1>Internal Server Error</h1>\n",
      "<p>The server encountered an internal error and was unable to complete your request. Either the server is overloaded or there is an error in the application.</p>\n",
      "\n"
     ]
    },
    {
     "name": "stdout",
     "output_type": "stream",
     "text": [
      "\u001b[1m78/78\u001b[0m \u001b[32m━━━━━━━━━━━━━━━━━━━━\u001b[0m\u001b[37m\u001b[0m \u001b[1m19s\u001b[0m 238ms/step - accuracy: 0.4819 - loss: 1.0415 - precision: 0.6182 - recall: 0.0953 - val_accuracy: 0.4478 - val_loss: 1.0315 - val_precision: 0.5652 - val_recall: 0.0783\n",
      "Epoch 23/30\n",
      "\u001b[1m78/78\u001b[0m \u001b[32m━━━━━━━━━━━━━━━━━━━━\u001b[0m\u001b[37m\u001b[0m \u001b[1m18s\u001b[0m 221ms/step - accuracy: 0.4807 - loss: 1.0314 - precision: 0.5941 - recall: 0.1290 - val_accuracy: 0.4257 - val_loss: 1.0408 - val_precision: 0.5878 - val_recall: 0.1747\n",
      "Epoch 24/30\n",
      "\u001b[1m78/78\u001b[0m \u001b[32m━━━━━━━━━━━━━━━━━━━━\u001b[0m\u001b[37m\u001b[0m \u001b[1m19s\u001b[0m 239ms/step - accuracy: 0.4920 - loss: 1.0362 - precision: 0.5680 - recall: 0.1385 - val_accuracy: 0.4297 - val_loss: 1.0316 - val_precision: 0.5912 - val_recall: 0.2149\n",
      "Epoch 25/30\n",
      "\u001b[1m19/78\u001b[0m \u001b[32m━━━━\u001b[0m\u001b[37m━━━━━━━━━━━━━━━━\u001b[0m \u001b[1m13s\u001b[0m 224ms/step - accuracy: 0.5225 - loss: 1.0235 - precision: 0.5594 - recall: 0.1880"
     ]
    },
    {
     "name": "stderr",
     "output_type": "stream",
     "text": [
      "Exception encountered while uploading Failed uploading object Intruder-Aircraft-Detection/tl_clf/ROTATE/r20-w01-30-2500-5-pure.4d445eb6bea848a28369384d04267aaa/artifacts/notebook preview/notebook_4d445eb6bea848a28369384d04267aaa.html (500): <!doctype html>\n",
      "<html lang=en>\n",
      "<title>500 Internal Server Error</title>\n",
      "<h1>Internal Server Error</h1>\n",
      "<p>The server encountered an internal error and was unable to complete your request. Either the server is overloaded or there is an error in the application.</p>\n",
      "\n"
     ]
    },
    {
     "name": "stdout",
     "output_type": "stream",
     "text": [
      "\u001b[1m78/78\u001b[0m \u001b[32m━━━━━━━━━━━━━━━━━━━━\u001b[0m\u001b[37m\u001b[0m \u001b[1m18s\u001b[0m 228ms/step - accuracy: 0.5060 - loss: 1.0254 - precision: 0.5714 - recall: 0.1629 - val_accuracy: 0.4920 - val_loss: 1.0147 - val_precision: 0.5556 - val_recall: 0.0904\n",
      "Epoch 26/30\n",
      "\u001b[1m78/78\u001b[0m \u001b[32m━━━━━━━━━━━━━━━━━━━━\u001b[0m\u001b[37m\u001b[0m \u001b[1m18s\u001b[0m 223ms/step - accuracy: 0.5079 - loss: 1.0097 - precision: 0.6114 - recall: 0.1648 - val_accuracy: 0.5181 - val_loss: 0.9976 - val_precision: 0.6224 - val_recall: 0.2450\n",
      "Epoch 27/30\n",
      "\u001b[1m54/78\u001b[0m \u001b[32m━━━━━━━━━━━━━\u001b[0m\u001b[37m━━━━━━━\u001b[0m \u001b[1m5s\u001b[0m 234ms/step - accuracy: 0.5658 - loss: 0.9694 - precision: 0.6411 - recall: 0.2521"
     ]
    },
    {
     "name": "stderr",
     "output_type": "stream",
     "text": [
      "Exception encountered while uploading Failed uploading object Intruder-Aircraft-Detection/tl_clf/ROTATE/r20-w01-30-2500-5-pure.4d445eb6bea848a28369384d04267aaa/artifacts/notebook preview/notebook_4d445eb6bea848a28369384d04267aaa.html (500): <!doctype html>\n",
      "<html lang=en>\n",
      "<title>500 Internal Server Error</title>\n",
      "<h1>Internal Server Error</h1>\n",
      "<p>The server encountered an internal error and was unable to complete your request. Either the server is overloaded or there is an error in the application.</p>\n",
      "\n"
     ]
    },
    {
     "name": "stdout",
     "output_type": "stream",
     "text": [
      "\u001b[1m78/78\u001b[0m \u001b[32m━━━━━━━━━━━━━━━━━━━━\u001b[0m\u001b[37m\u001b[0m \u001b[1m19s\u001b[0m 235ms/step - accuracy: 0.5665 - loss: 0.9630 - precision: 0.6441 - recall: 0.2754 - val_accuracy: 0.5402 - val_loss: 0.9244 - val_precision: 0.7012 - val_recall: 0.3534\n",
      "Epoch 28/30\n",
      "\u001b[1m78/78\u001b[0m \u001b[32m━━━━━━━━━━━━━━━━━━━━\u001b[0m\u001b[37m\u001b[0m \u001b[1m18s\u001b[0m 221ms/step - accuracy: 0.6079 - loss: 0.9039 - precision: 0.6792 - recall: 0.4135 - val_accuracy: 0.6426 - val_loss: 0.8473 - val_precision: 0.6720 - val_recall: 0.5100\n",
      "Epoch 29/30\n",
      "\u001b[1m78/78\u001b[0m \u001b[32m━━━━━━━━━━━━━━━━━━━━\u001b[0m\u001b[37m\u001b[0m \u001b[1m19s\u001b[0m 238ms/step - accuracy: 0.6556 - loss: 0.8054 - precision: 0.7110 - recall: 0.5538 - val_accuracy: 0.6928 - val_loss: 0.7419 - val_precision: 0.7426 - val_recall: 0.6084\n",
      "Epoch 30/30\n"
     ]
    },
    {
     "name": "stderr",
     "output_type": "stream",
     "text": [
      "Exception encountered while uploading Failed uploading object Intruder-Aircraft-Detection/tl_clf/ROTATE/r20-w01-30-2500-5-pure.4d445eb6bea848a28369384d04267aaa/artifacts/notebook preview/notebook_4d445eb6bea848a28369384d04267aaa.html (500): <!doctype html>\n",
      "<html lang=en>\n",
      "<title>500 Internal Server Error</title>\n",
      "<h1>Internal Server Error</h1>\n",
      "<p>The server encountered an internal error and was unable to complete your request. Either the server is overloaded or there is an error in the application.</p>\n",
      "\n"
     ]
    },
    {
     "name": "stdout",
     "output_type": "stream",
     "text": [
      "\u001b[1m78/78\u001b[0m \u001b[32m━━━━━━━━━━━━━━━━━━━━\u001b[0m\u001b[37m\u001b[0m \u001b[1m18s\u001b[0m 226ms/step - accuracy: 0.7085 - loss: 0.7132 - precision: 0.7532 - recall: 0.6187 - val_accuracy: 0.7349 - val_loss: 0.6703 - val_precision: 0.7778 - val_recall: 0.6747\n",
      "Predicting on validation set...\n",
      "\u001b[1m16/16\u001b[0m \u001b[32m━━━━━━━━━━━━━━━━━━━━\u001b[0m\u001b[37m\u001b[0m \u001b[1m1s\u001b[0m 56ms/step\n",
      "Sending metrics to clearML...\n"
     ]
    },
    {
     "name": "stderr",
     "output_type": "stream",
     "text": [
      "Exception encountered while uploading Failed uploading object Intruder-Aircraft-Detection/tl_clf/ROTATE/r20-w01-30-2500-5-pure.4d445eb6bea848a28369384d04267aaa/artifacts/notebook preview/notebook_4d445eb6bea848a28369384d04267aaa.html (500): <!doctype html>\n",
      "<html lang=en>\n",
      "<title>500 Internal Server Error</title>\n",
      "<h1>Internal Server Error</h1>\n",
      "<p>The server encountered an internal error and was unable to complete your request. Either the server is overloaded or there is an error in the application.</p>\n",
      "\n"
     ]
    },
    {
     "name": "stdout",
     "output_type": "stream",
     "text": [
      "done\n",
      "ClearML Task: created new task id=c7fa4a96243b48308151416661c0aff6\n",
      "ClearML results page: https://app.clear.ml/projects/5a674be4cf0f473c808dd42f7b83358f/experiments/c7fa4a96243b48308151416661c0aff6/output/log\n",
      "Training model...\n",
      "Epoch 1/30\n",
      "\u001b[1m 38/117\u001b[0m \u001b[32m━━━━━━\u001b[0m\u001b[37m━━━━━━━━━━━━━━\u001b[0m \u001b[1m19s\u001b[0m 253ms/step - accuracy: 0.3342 - loss: 2.6348 - precision: 0.3159 - recall: 0.1001"
     ]
    },
    {
     "name": "stderr",
     "output_type": "stream",
     "text": [
      "Exception encountered while uploading Failed uploading object Intruder-Aircraft-Detection/tl_clf/ROTATE/r20-w01-30-2500-5-aug.c7fa4a96243b48308151416661c0aff6/artifacts/notebook preview/notebook_c7fa4a96243b48308151416661c0aff6.html (500): <!doctype html>\n",
      "<html lang=en>\n",
      "<title>500 Internal Server Error</title>\n",
      "<h1>Internal Server Error</h1>\n",
      "<p>The server encountered an internal error and was unable to complete your request. Either the server is overloaded or there is an error in the application.</p>\n",
      "\n"
     ]
    },
    {
     "name": "stdout",
     "output_type": "stream",
     "text": [
      "\u001b[1m117/117\u001b[0m \u001b[32m━━━━━━━━━━━━━━━━━━━━\u001b[0m\u001b[37m\u001b[0m \u001b[1m30s\u001b[0m 237ms/step - accuracy: 0.3457 - loss: 1.7822 - precision: 0.3402 - recall: 0.0516 - val_accuracy: 0.4418 - val_loss: 1.0863 - val_precision: 0.0000e+00 - val_recall: 0.0000e+00\n",
      "Epoch 2/30\n",
      "\u001b[1m117/117\u001b[0m \u001b[32m━━━━━━━━━━━━━━━━━━━━\u001b[0m\u001b[37m\u001b[0m \u001b[1m28s\u001b[0m 233ms/step - accuracy: 0.4001 - loss: 1.0775 - precision: 0.6132 - recall: 0.0422 - val_accuracy: 0.4217 - val_loss: 1.0788 - val_precision: 0.4706 - val_recall: 0.0321\n",
      "Epoch 3/30\n",
      "\u001b[1m 18/117\u001b[0m \u001b[32m━━━\u001b[0m\u001b[37m━━━━━━━━━━━━━━━━━\u001b[0m \u001b[1m22s\u001b[0m 228ms/step - accuracy: 0.4420 - loss: 1.0635 - precision: 0.5475 - recall: 0.0776"
     ]
    },
    {
     "name": "stderr",
     "output_type": "stream",
     "text": [
      "Exception encountered while uploading Failed uploading object Intruder-Aircraft-Detection/tl_clf/ROTATE/r20-w01-30-2500-5-aug.c7fa4a96243b48308151416661c0aff6/artifacts/notebook preview/notebook_c7fa4a96243b48308151416661c0aff6.html (500): <!doctype html>\n",
      "<html lang=en>\n",
      "<title>500 Internal Server Error</title>\n",
      "<h1>Internal Server Error</h1>\n",
      "<p>The server encountered an internal error and was unable to complete your request. Either the server is overloaded or there is an error in the application.</p>\n",
      "\n"
     ]
    },
    {
     "name": "stdout",
     "output_type": "stream",
     "text": [
      "\u001b[1m117/117\u001b[0m \u001b[32m━━━━━━━━━━━━━━━━━━━━\u001b[0m\u001b[37m\u001b[0m \u001b[1m26s\u001b[0m 218ms/step - accuracy: 0.4299 - loss: 1.0639 - precision: 0.5971 - recall: 0.0566 - val_accuracy: 0.5582 - val_loss: 1.0027 - val_precision: 0.6962 - val_recall: 0.1104\n",
      "Epoch 4/30\n",
      "\u001b[1m 93/117\u001b[0m \u001b[32m━━━━━━━━━━━━━━━\u001b[0m\u001b[37m━━━━━\u001b[0m \u001b[1m5s\u001b[0m 225ms/step - accuracy: 0.5932 - loss: 0.9111 - precision: 0.7067 - recall: 0.3425"
     ]
    },
    {
     "name": "stderr",
     "output_type": "stream",
     "text": [
      "Exception encountered while uploading Failed uploading object Intruder-Aircraft-Detection/tl_clf/ROTATE/r20-w01-30-2500-5-aug.c7fa4a96243b48308151416661c0aff6/artifacts/notebook preview/notebook_c7fa4a96243b48308151416661c0aff6.html (500): <!doctype html>\n",
      "<html lang=en>\n",
      "<title>500 Internal Server Error</title>\n",
      "<h1>Internal Server Error</h1>\n",
      "<p>The server encountered an internal error and was unable to complete your request. Either the server is overloaded or there is an error in the application.</p>\n",
      "\n"
     ]
    },
    {
     "name": "stdout",
     "output_type": "stream",
     "text": [
      "\u001b[1m117/117\u001b[0m \u001b[32m━━━━━━━━━━━━━━━━━━━━\u001b[0m\u001b[37m\u001b[0m \u001b[1m27s\u001b[0m 227ms/step - accuracy: 0.5991 - loss: 0.8992 - precision: 0.7061 - recall: 0.3617 - val_accuracy: 0.6888 - val_loss: 0.7083 - val_precision: 0.7745 - val_recall: 0.5863\n",
      "Epoch 5/30\n",
      "\u001b[1m117/117\u001b[0m \u001b[32m━━━━━━━━━━━━━━━━━━━━\u001b[0m\u001b[37m\u001b[0m \u001b[1m26s\u001b[0m 219ms/step - accuracy: 0.7175 - loss: 0.6773 - precision: 0.7752 - recall: 0.6260 - val_accuracy: 0.7651 - val_loss: 0.5833 - val_precision: 0.8046 - val_recall: 0.7028\n",
      "Epoch 6/30\n",
      "\u001b[1m 52/117\u001b[0m \u001b[32m━━━━━━━━\u001b[0m\u001b[37m━━━━━━━━━━━━\u001b[0m \u001b[1m15s\u001b[0m 233ms/step - accuracy: 0.7560 - loss: 0.5772 - precision: 0.8097 - recall: 0.7002"
     ]
    },
    {
     "name": "stderr",
     "output_type": "stream",
     "text": [
      "Exception encountered while uploading Failed uploading object Intruder-Aircraft-Detection/tl_clf/ROTATE/r20-w01-30-2500-5-aug.c7fa4a96243b48308151416661c0aff6/artifacts/notebook preview/notebook_c7fa4a96243b48308151416661c0aff6.html (500): <!doctype html>\n",
      "<html lang=en>\n",
      "<title>500 Internal Server Error</title>\n",
      "<h1>Internal Server Error</h1>\n",
      "<p>The server encountered an internal error and was unable to complete your request. Either the server is overloaded or there is an error in the application.</p>\n",
      "\n"
     ]
    },
    {
     "name": "stdout",
     "output_type": "stream",
     "text": [
      "\u001b[1m117/117\u001b[0m \u001b[32m━━━━━━━━━━━━━━━━━━━━\u001b[0m\u001b[37m\u001b[0m \u001b[1m27s\u001b[0m 229ms/step - accuracy: 0.7645 - loss: 0.5590 - precision: 0.8112 - recall: 0.7106 - val_accuracy: 0.7490 - val_loss: 0.5814 - val_precision: 0.7925 - val_recall: 0.6827\n",
      "Epoch 7/30\n",
      "\u001b[1m117/117\u001b[0m \u001b[32m━━━━━━━━━━━━━━━━━━━━\u001b[0m\u001b[37m\u001b[0m \u001b[1m27s\u001b[0m 230ms/step - accuracy: 0.8138 - loss: 0.4648 - precision: 0.8520 - recall: 0.7771 - val_accuracy: 0.8133 - val_loss: 0.5259 - val_precision: 0.8298 - val_recall: 0.7831\n",
      "Epoch 8/30\n",
      "\u001b[1m  2/117\u001b[0m \u001b[37m━━━━━━━━━━━━━━━━━━━━\u001b[0m \u001b[1m33s\u001b[0m 291ms/step - accuracy: 0.7969 - loss: 0.4701 - precision: 0.8113 - recall: 0.7734"
     ]
    },
    {
     "name": "stderr",
     "output_type": "stream",
     "text": [
      "Exception encountered while uploading Failed uploading object Intruder-Aircraft-Detection/tl_clf/ROTATE/r20-w01-30-2500-5-aug.c7fa4a96243b48308151416661c0aff6/artifacts/notebook preview/notebook_c7fa4a96243b48308151416661c0aff6.html (500): <!doctype html>\n",
      "<html lang=en>\n",
      "<title>500 Internal Server Error</title>\n",
      "<h1>Internal Server Error</h1>\n",
      "<p>The server encountered an internal error and was unable to complete your request. Either the server is overloaded or there is an error in the application.</p>\n",
      "\n"
     ]
    },
    {
     "name": "stdout",
     "output_type": "stream",
     "text": [
      "\u001b[1m117/117\u001b[0m \u001b[32m━━━━━━━━━━━━━━━━━━━━\u001b[0m\u001b[37m\u001b[0m \u001b[1m26s\u001b[0m 217ms/step - accuracy: 0.8515 - loss: 0.3747 - precision: 0.8721 - recall: 0.8318 - val_accuracy: 0.7811 - val_loss: 0.6642 - val_precision: 0.7922 - val_recall: 0.7731\n",
      "Epoch 9/30\n",
      "\u001b[1m 78/117\u001b[0m \u001b[32m━━━━━━━━━━━━━\u001b[0m\u001b[37m━━━━━━━\u001b[0m \u001b[1m8s\u001b[0m 229ms/step - accuracy: 0.8800 - loss: 0.3258 - precision: 0.8960 - recall: 0.8557"
     ]
    },
    {
     "name": "stderr",
     "output_type": "stream",
     "text": [
      "Exception encountered while uploading Failed uploading object Intruder-Aircraft-Detection/tl_clf/ROTATE/r20-w01-30-2500-5-aug.c7fa4a96243b48308151416661c0aff6/artifacts/notebook preview/notebook_c7fa4a96243b48308151416661c0aff6.html (500): <!doctype html>\n",
      "<html lang=en>\n",
      "<title>500 Internal Server Error</title>\n",
      "<h1>Internal Server Error</h1>\n",
      "<p>The server encountered an internal error and was unable to complete your request. Either the server is overloaded or there is an error in the application.</p>\n",
      "\n"
     ]
    },
    {
     "name": "stdout",
     "output_type": "stream",
     "text": [
      "\u001b[1m117/117\u001b[0m \u001b[32m━━━━━━━━━━━━━━━━━━━━\u001b[0m\u001b[37m\u001b[0m \u001b[1m27s\u001b[0m 228ms/step - accuracy: 0.8807 - loss: 0.3209 - precision: 0.8963 - recall: 0.8583 - val_accuracy: 0.8072 - val_loss: 0.5647 - val_precision: 0.8169 - val_recall: 0.7972\n",
      "Epoch 10/30\n",
      "\u001b[1m117/117\u001b[0m \u001b[32m━━━━━━━━━━━━━━━━━━━━\u001b[0m\u001b[37m\u001b[0m \u001b[1m26s\u001b[0m 224ms/step - accuracy: 0.8989 - loss: 0.2674 - precision: 0.9112 - recall: 0.8851 - val_accuracy: 0.8373 - val_loss: 0.5908 - val_precision: 0.8471 - val_recall: 0.8233\n",
      "Epoch 11/30\n",
      "\u001b[1m 31/117\u001b[0m \u001b[32m━━━━━\u001b[0m\u001b[37m━━━━━━━━━━━━━━━\u001b[0m \u001b[1m19s\u001b[0m 227ms/step - accuracy: 0.9143 - loss: 0.2412 - precision: 0.9218 - recall: 0.9062"
     ]
    },
    {
     "name": "stderr",
     "output_type": "stream",
     "text": [
      "Exception encountered while uploading Failed uploading object Intruder-Aircraft-Detection/tl_clf/ROTATE/r20-w01-30-2500-5-aug.c7fa4a96243b48308151416661c0aff6/artifacts/notebook preview/notebook_c7fa4a96243b48308151416661c0aff6.html (500): <!doctype html>\n",
      "<html lang=en>\n",
      "<title>500 Internal Server Error</title>\n",
      "<h1>Internal Server Error</h1>\n",
      "<p>The server encountered an internal error and was unable to complete your request. Either the server is overloaded or there is an error in the application.</p>\n",
      "\n"
     ]
    },
    {
     "name": "stdout",
     "output_type": "stream",
     "text": [
      "\u001b[1m117/117\u001b[0m \u001b[32m━━━━━━━━━━━━━━━━━━━━\u001b[0m\u001b[37m\u001b[0m \u001b[1m26s\u001b[0m 220ms/step - accuracy: 0.9168 - loss: 0.2287 - precision: 0.9249 - recall: 0.9082 - val_accuracy: 0.8333 - val_loss: 0.4830 - val_precision: 0.8455 - val_recall: 0.8133\n",
      "Epoch 12/30\n",
      "\u001b[1m104/117\u001b[0m \u001b[32m━━━━━━━━━━━━━━━━━\u001b[0m\u001b[37m━━━\u001b[0m \u001b[1m2s\u001b[0m 224ms/step - accuracy: 0.9242 - loss: 0.1991 - precision: 0.9352 - recall: 0.9159"
     ]
    },
    {
     "name": "stderr",
     "output_type": "stream",
     "text": [
      "Exception encountered while uploading Failed uploading object Intruder-Aircraft-Detection/tl_clf/ROTATE/r20-w01-30-2500-5-aug.c7fa4a96243b48308151416661c0aff6/artifacts/notebook preview/notebook_c7fa4a96243b48308151416661c0aff6.html (500): <!doctype html>\n",
      "<html lang=en>\n",
      "<title>500 Internal Server Error</title>\n",
      "<h1>Internal Server Error</h1>\n",
      "<p>The server encountered an internal error and was unable to complete your request. Either the server is overloaded or there is an error in the application.</p>\n",
      "\n"
     ]
    },
    {
     "name": "stdout",
     "output_type": "stream",
     "text": [
      "\u001b[1m117/117\u001b[0m \u001b[32m━━━━━━━━━━━━━━━━━━━━\u001b[0m\u001b[37m\u001b[0m \u001b[1m27s\u001b[0m 229ms/step - accuracy: 0.9237 - loss: 0.2004 - precision: 0.9346 - recall: 0.9156 - val_accuracy: 0.7651 - val_loss: 0.7197 - val_precision: 0.7782 - val_recall: 0.7610\n",
      "Epoch 13/30\n",
      "\u001b[1m117/117\u001b[0m \u001b[32m━━━━━━━━━━━━━━━━━━━━\u001b[0m\u001b[37m\u001b[0m \u001b[1m26s\u001b[0m 219ms/step - accuracy: 0.9026 - loss: 0.2651 - precision: 0.9136 - recall: 0.8841 - val_accuracy: 0.8434 - val_loss: 0.5276 - val_precision: 0.8510 - val_recall: 0.8373\n",
      "Epoch 14/30\n",
      "\u001b[1m 56/117\u001b[0m \u001b[32m━━━━━━━━━\u001b[0m\u001b[37m━━━━━━━━━━━\u001b[0m \u001b[1m14s\u001b[0m 236ms/step - accuracy: 0.9373 - loss: 0.1671 - precision: 0.9392 - recall: 0.9325"
     ]
    },
    {
     "name": "stderr",
     "output_type": "stream",
     "text": [
      "Exception encountered while uploading Failed uploading object Intruder-Aircraft-Detection/tl_clf/ROTATE/r20-w01-30-2500-5-aug.c7fa4a96243b48308151416661c0aff6/artifacts/notebook preview/notebook_c7fa4a96243b48308151416661c0aff6.html (500): <!doctype html>\n",
      "<html lang=en>\n",
      "<title>500 Internal Server Error</title>\n",
      "<h1>Internal Server Error</h1>\n",
      "<p>The server encountered an internal error and was unable to complete your request. Either the server is overloaded or there is an error in the application.</p>\n",
      "\n"
     ]
    },
    {
     "name": "stdout",
     "output_type": "stream",
     "text": [
      "\u001b[1m117/117\u001b[0m \u001b[32m━━━━━━━━━━━━━━━━━━━━\u001b[0m\u001b[37m\u001b[0m \u001b[1m27s\u001b[0m 228ms/step - accuracy: 0.9410 - loss: 0.1582 - precision: 0.9431 - recall: 0.9357 - val_accuracy: 0.8293 - val_loss: 0.6250 - val_precision: 0.8337 - val_recall: 0.8253\n",
      "Epoch 15/30\n",
      "\u001b[1m117/117\u001b[0m \u001b[32m━━━━━━━━━━━━━━━━━━━━\u001b[0m\u001b[37m\u001b[0m \u001b[1m27s\u001b[0m 227ms/step - accuracy: 0.9478 - loss: 0.1419 - precision: 0.9505 - recall: 0.9404 - val_accuracy: 0.8213 - val_loss: 0.5701 - val_precision: 0.8211 - val_recall: 0.8112\n",
      "Epoch 16/30\n",
      "\u001b[1m 12/117\u001b[0m \u001b[32m━━\u001b[0m\u001b[37m━━━━━━━━━━━━━━━━━━\u001b[0m \u001b[1m24s\u001b[0m 233ms/step - accuracy: 0.9611 - loss: 0.1271 - precision: 0.9676 - recall: 0.9475"
     ]
    },
    {
     "name": "stderr",
     "output_type": "stream",
     "text": [
      "Exception encountered while uploading Failed uploading object Intruder-Aircraft-Detection/tl_clf/ROTATE/r20-w01-30-2500-5-aug.c7fa4a96243b48308151416661c0aff6/artifacts/notebook preview/notebook_c7fa4a96243b48308151416661c0aff6.html (500): <!doctype html>\n",
      "<html lang=en>\n",
      "<title>500 Internal Server Error</title>\n",
      "<h1>Internal Server Error</h1>\n",
      "<p>The server encountered an internal error and was unable to complete your request. Either the server is overloaded or there is an error in the application.</p>\n",
      "\n"
     ]
    },
    {
     "name": "stdout",
     "output_type": "stream",
     "text": [
      "\u001b[1m117/117\u001b[0m \u001b[32m━━━━━━━━━━━━━━━━━━━━\u001b[0m\u001b[37m\u001b[0m \u001b[1m26s\u001b[0m 218ms/step - accuracy: 0.9570 - loss: 0.1200 - precision: 0.9626 - recall: 0.9503 - val_accuracy: 0.7992 - val_loss: 0.8007 - val_precision: 0.8061 - val_recall: 0.7932\n",
      "Epoch 17/30\n",
      "\u001b[1m 87/117\u001b[0m \u001b[32m━━━━━━━━━━━━━━\u001b[0m\u001b[37m━━━━━━\u001b[0m \u001b[1m7s\u001b[0m 236ms/step - accuracy: 0.9535 - loss: 0.1363 - precision: 0.9595 - recall: 0.9502"
     ]
    },
    {
     "name": "stderr",
     "output_type": "stream",
     "text": [
      "Exception encountered while uploading Failed uploading object Intruder-Aircraft-Detection/tl_clf/ROTATE/r20-w01-30-2500-5-aug.c7fa4a96243b48308151416661c0aff6/artifacts/notebook preview/notebook_c7fa4a96243b48308151416661c0aff6.html (500): <!doctype html>\n",
      "<html lang=en>\n",
      "<title>500 Internal Server Error</title>\n",
      "<h1>Internal Server Error</h1>\n",
      "<p>The server encountered an internal error and was unable to complete your request. Either the server is overloaded or there is an error in the application.</p>\n",
      "\n"
     ]
    },
    {
     "name": "stdout",
     "output_type": "stream",
     "text": [
      "\u001b[1m117/117\u001b[0m \u001b[32m━━━━━━━━━━━━━━━━━━━━\u001b[0m\u001b[37m\u001b[0m \u001b[1m28s\u001b[0m 234ms/step - accuracy: 0.9560 - loss: 0.1302 - precision: 0.9612 - recall: 0.9527 - val_accuracy: 0.8494 - val_loss: 0.6698 - val_precision: 0.8540 - val_recall: 0.8454\n",
      "Epoch 18/30\n",
      "\u001b[1m117/117\u001b[0m \u001b[32m━━━━━━━━━━━━━━━━━━━━\u001b[0m\u001b[37m\u001b[0m \u001b[1m26s\u001b[0m 223ms/step - accuracy: 0.9640 - loss: 0.0999 - precision: 0.9671 - recall: 0.9611 - val_accuracy: 0.8554 - val_loss: 0.6398 - val_precision: 0.8589 - val_recall: 0.8554\n",
      "Epoch 19/30\n",
      "\u001b[1m 39/117\u001b[0m \u001b[32m━━━━━━\u001b[0m\u001b[37m━━━━━━━━━━━━━━\u001b[0m \u001b[1m18s\u001b[0m 243ms/step - accuracy: 0.9534 - loss: 0.1280 - precision: 0.9573 - recall: 0.9513"
     ]
    },
    {
     "name": "stderr",
     "output_type": "stream",
     "text": [
      "Exception encountered while uploading Failed uploading object Intruder-Aircraft-Detection/tl_clf/ROTATE/r20-w01-30-2500-5-aug.c7fa4a96243b48308151416661c0aff6/artifacts/notebook preview/notebook_c7fa4a96243b48308151416661c0aff6.html (500): <!doctype html>\n",
      "<html lang=en>\n",
      "<title>500 Internal Server Error</title>\n",
      "<h1>Internal Server Error</h1>\n",
      "<p>The server encountered an internal error and was unable to complete your request. Either the server is overloaded or there is an error in the application.</p>\n",
      "\n"
     ]
    },
    {
     "name": "stdout",
     "output_type": "stream",
     "text": [
      "\u001b[1m117/117\u001b[0m \u001b[32m━━━━━━━━━━━━━━━━━━━━\u001b[0m\u001b[37m\u001b[0m \u001b[1m27s\u001b[0m 227ms/step - accuracy: 0.9653 - loss: 0.0984 - precision: 0.9688 - recall: 0.9628 - val_accuracy: 0.8193 - val_loss: 0.5117 - val_precision: 0.8320 - val_recall: 0.8052\n",
      "Epoch 20/30\n",
      "\u001b[1m114/117\u001b[0m \u001b[32m━━━━━━━━━━━━━━━━━━━\u001b[0m\u001b[37m━\u001b[0m \u001b[1m0s\u001b[0m 221ms/step - accuracy: 0.9494 - loss: 0.1365 - precision: 0.9511 - recall: 0.9418"
     ]
    },
    {
     "name": "stderr",
     "output_type": "stream",
     "text": [
      "Exception encountered while uploading Failed uploading object Intruder-Aircraft-Detection/tl_clf/ROTATE/r20-w01-30-2500-5-aug.c7fa4a96243b48308151416661c0aff6/artifacts/notebook preview/notebook_c7fa4a96243b48308151416661c0aff6.html (500): <!doctype html>\n",
      "<html lang=en>\n",
      "<title>500 Internal Server Error</title>\n",
      "<h1>Internal Server Error</h1>\n",
      "<p>The server encountered an internal error and was unable to complete your request. Either the server is overloaded or there is an error in the application.</p>\n",
      "\n"
     ]
    },
    {
     "name": "stdout",
     "output_type": "stream",
     "text": [
      "\u001b[1m117/117\u001b[0m \u001b[32m━━━━━━━━━━━━━━━━━━━━\u001b[0m\u001b[37m\u001b[0m \u001b[1m27s\u001b[0m 229ms/step - accuracy: 0.9497 - loss: 0.1358 - precision: 0.9513 - recall: 0.9422 - val_accuracy: 0.8434 - val_loss: 0.7619 - val_precision: 0.8441 - val_recall: 0.8373\n",
      "Epoch 21/30\n",
      "\u001b[1m117/117\u001b[0m \u001b[32m━━━━━━━━━━━━━━━━━━━━\u001b[0m\u001b[37m\u001b[0m \u001b[1m26s\u001b[0m 216ms/step - accuracy: 0.9656 - loss: 0.1030 - precision: 0.9669 - recall: 0.9642 - val_accuracy: 0.8614 - val_loss: 0.6537 - val_precision: 0.8609 - val_recall: 0.8574\n",
      "Epoch 22/30\n",
      "\u001b[1m 67/117\u001b[0m \u001b[32m━━━━━━━━━━━\u001b[0m\u001b[37m━━━━━━━━━\u001b[0m \u001b[1m11s\u001b[0m 231ms/step - accuracy: 0.9770 - loss: 0.0646 - precision: 0.9788 - recall: 0.9768"
     ]
    },
    {
     "name": "stderr",
     "output_type": "stream",
     "text": [
      "Exception encountered while uploading Failed uploading object Intruder-Aircraft-Detection/tl_clf/ROTATE/r20-w01-30-2500-5-aug.c7fa4a96243b48308151416661c0aff6/artifacts/notebook preview/notebook_c7fa4a96243b48308151416661c0aff6.html (500): <!doctype html>\n",
      "<html lang=en>\n",
      "<title>500 Internal Server Error</title>\n",
      "<h1>Internal Server Error</h1>\n",
      "<p>The server encountered an internal error and was unable to complete your request. Either the server is overloaded or there is an error in the application.</p>\n",
      "\n"
     ]
    },
    {
     "name": "stdout",
     "output_type": "stream",
     "text": [
      "\u001b[1m117/117\u001b[0m \u001b[32m━━━━━━━━━━━━━━━━━━━━\u001b[0m\u001b[37m\u001b[0m \u001b[1m27s\u001b[0m 228ms/step - accuracy: 0.9755 - loss: 0.0712 - precision: 0.9776 - recall: 0.9747 - val_accuracy: 0.8574 - val_loss: 0.6126 - val_precision: 0.8603 - val_recall: 0.8534\n",
      "Epoch 23/30\n",
      "\u001b[1m117/117\u001b[0m \u001b[32m━━━━━━━━━━━━━━━━━━━━\u001b[0m\u001b[37m\u001b[0m \u001b[1m27s\u001b[0m 228ms/step - accuracy: 0.9831 - loss: 0.0543 - precision: 0.9839 - recall: 0.9822 - val_accuracy: 0.8253 - val_loss: 0.8463 - val_precision: 0.8266 - val_recall: 0.8233\n",
      "Epoch 24/30\n",
      "\u001b[1m 19/117\u001b[0m \u001b[32m━━━\u001b[0m\u001b[37m━━━━━━━━━━━━━━━━━\u001b[0m \u001b[1m21s\u001b[0m 222ms/step - accuracy: 0.9694 - loss: 0.0737 - precision: 0.9698 - recall: 0.9694"
     ]
    },
    {
     "name": "stderr",
     "output_type": "stream",
     "text": [
      "Exception encountered while uploading Failed uploading object Intruder-Aircraft-Detection/tl_clf/ROTATE/r20-w01-30-2500-5-aug.c7fa4a96243b48308151416661c0aff6/artifacts/notebook preview/notebook_c7fa4a96243b48308151416661c0aff6.html (500): <!doctype html>\n",
      "<html lang=en>\n",
      "<title>500 Internal Server Error</title>\n",
      "<h1>Internal Server Error</h1>\n",
      "<p>The server encountered an internal error and was unable to complete your request. Either the server is overloaded or there is an error in the application.</p>\n",
      "\n"
     ]
    },
    {
     "name": "stdout",
     "output_type": "stream",
     "text": [
      "\u001b[1m117/117\u001b[0m \u001b[32m━━━━━━━━━━━━━━━━━━━━\u001b[0m\u001b[37m\u001b[0m \u001b[1m26s\u001b[0m 218ms/step - accuracy: 0.9805 - loss: 0.0524 - precision: 0.9816 - recall: 0.9801 - val_accuracy: 0.8715 - val_loss: 0.6980 - val_precision: 0.8765 - val_recall: 0.8695\n",
      "Epoch 25/30\n",
      "\u001b[1m 94/117\u001b[0m \u001b[32m━━━━━━━━━━━━━━━━\u001b[0m\u001b[37m━━━━\u001b[0m \u001b[1m5s\u001b[0m 226ms/step - accuracy: 0.9816 - loss: 0.0427 - precision: 0.9834 - recall: 0.9795"
     ]
    },
    {
     "name": "stderr",
     "output_type": "stream",
     "text": [
      "Exception encountered while uploading Failed uploading object Intruder-Aircraft-Detection/tl_clf/ROTATE/r20-w01-30-2500-5-aug.c7fa4a96243b48308151416661c0aff6/artifacts/notebook preview/notebook_c7fa4a96243b48308151416661c0aff6.html (500): <!doctype html>\n",
      "<html lang=en>\n",
      "<title>500 Internal Server Error</title>\n",
      "<h1>Internal Server Error</h1>\n",
      "<p>The server encountered an internal error and was unable to complete your request. Either the server is overloaded or there is an error in the application.</p>\n",
      "\n"
     ]
    },
    {
     "name": "stdout",
     "output_type": "stream",
     "text": [
      "\u001b[1m117/117\u001b[0m \u001b[32m━━━━━━━━━━━━━━━━━━━━\u001b[0m\u001b[37m\u001b[0m \u001b[1m27s\u001b[0m 229ms/step - accuracy: 0.9820 - loss: 0.0425 - precision: 0.9837 - recall: 0.9800 - val_accuracy: 0.8534 - val_loss: 0.7763 - val_precision: 0.8551 - val_recall: 0.8534\n",
      "Epoch 26/30\n",
      "\u001b[1m117/117\u001b[0m \u001b[32m━━━━━━━━━━━━━━━━━━━━\u001b[0m\u001b[37m\u001b[0m \u001b[1m26s\u001b[0m 222ms/step - accuracy: 0.9807 - loss: 0.0483 - precision: 0.9813 - recall: 0.9795 - val_accuracy: 0.8695 - val_loss: 0.7317 - val_precision: 0.8712 - val_recall: 0.8695\n",
      "Epoch 27/30\n",
      "\u001b[1m 52/117\u001b[0m \u001b[32m━━━━━━━━\u001b[0m\u001b[37m━━━━━━━━━━━━\u001b[0m \u001b[1m15s\u001b[0m 234ms/step - accuracy: 0.9803 - loss: 0.0485 - precision: 0.9841 - recall: 0.9798"
     ]
    },
    {
     "name": "stderr",
     "output_type": "stream",
     "text": [
      "Exception encountered while uploading Failed uploading object Intruder-Aircraft-Detection/tl_clf/ROTATE/r20-w01-30-2500-5-aug.c7fa4a96243b48308151416661c0aff6/artifacts/notebook preview/notebook_c7fa4a96243b48308151416661c0aff6.html (500): <!doctype html>\n",
      "<html lang=en>\n",
      "<title>500 Internal Server Error</title>\n",
      "<h1>Internal Server Error</h1>\n",
      "<p>The server encountered an internal error and was unable to complete your request. Either the server is overloaded or there is an error in the application.</p>\n",
      "\n"
     ]
    },
    {
     "name": "stdout",
     "output_type": "stream",
     "text": [
      "\u001b[1m117/117\u001b[0m \u001b[32m━━━━━━━━━━━━━━━━━━━━\u001b[0m\u001b[37m\u001b[0m \u001b[1m27s\u001b[0m 227ms/step - accuracy: 0.9825 - loss: 0.0456 - precision: 0.9855 - recall: 0.9820 - val_accuracy: 0.8675 - val_loss: 0.7633 - val_precision: 0.8710 - val_recall: 0.8675\n",
      "Epoch 28/30\n",
      "\u001b[1m117/117\u001b[0m \u001b[32m━━━━━━━━━━━━━━━━━━━━\u001b[0m\u001b[37m\u001b[0m \u001b[1m27s\u001b[0m 227ms/step - accuracy: 0.9898 - loss: 0.0280 - precision: 0.9901 - recall: 0.9895 - val_accuracy: 0.8635 - val_loss: 0.7385 - val_precision: 0.8632 - val_recall: 0.8614\n",
      "Epoch 29/30\n",
      "\u001b[1m  5/117\u001b[0m \u001b[37m━━━━━━━━━━━━━━━━━━━━\u001b[0m \u001b[1m28s\u001b[0m 257ms/step - accuracy: 0.9972 - loss: 0.0233 - precision: 0.9972 - recall: 0.9972"
     ]
    },
    {
     "name": "stderr",
     "output_type": "stream",
     "text": [
      "Exception encountered while uploading Failed uploading object Intruder-Aircraft-Detection/tl_clf/ROTATE/r20-w01-30-2500-5-aug.c7fa4a96243b48308151416661c0aff6/artifacts/notebook preview/notebook_c7fa4a96243b48308151416661c0aff6.html (500): <!doctype html>\n",
      "<html lang=en>\n",
      "<title>500 Internal Server Error</title>\n",
      "<h1>Internal Server Error</h1>\n",
      "<p>The server encountered an internal error and was unable to complete your request. Either the server is overloaded or there is an error in the application.</p>\n",
      "\n"
     ]
    },
    {
     "name": "stdout",
     "output_type": "stream",
     "text": [
      "\u001b[1m117/117\u001b[0m \u001b[32m━━━━━━━━━━━━━━━━━━━━\u001b[0m\u001b[37m\u001b[0m \u001b[1m26s\u001b[0m 220ms/step - accuracy: 0.9930 - loss: 0.0231 - precision: 0.9944 - recall: 0.9915 - val_accuracy: 0.8715 - val_loss: 0.7631 - val_precision: 0.8715 - val_recall: 0.8715\n",
      "Epoch 30/30\n",
      "\u001b[1m 81/117\u001b[0m \u001b[32m━━━━━━━━━━━━━\u001b[0m\u001b[37m━━━━━━━\u001b[0m \u001b[1m8s\u001b[0m 240ms/step - accuracy: 0.9824 - loss: 0.0423 - precision: 0.9834 - recall: 0.9808"
     ]
    },
    {
     "name": "stderr",
     "output_type": "stream",
     "text": [
      "Exception encountered while uploading Failed uploading object Intruder-Aircraft-Detection/tl_clf/ROTATE/r20-w01-30-2500-5-aug.c7fa4a96243b48308151416661c0aff6/artifacts/notebook preview/notebook_c7fa4a96243b48308151416661c0aff6.html (500): <!doctype html>\n",
      "<html lang=en>\n",
      "<title>500 Internal Server Error</title>\n",
      "<h1>Internal Server Error</h1>\n",
      "<p>The server encountered an internal error and was unable to complete your request. Either the server is overloaded or there is an error in the application.</p>\n",
      "\n"
     ]
    },
    {
     "name": "stdout",
     "output_type": "stream",
     "text": [
      "\u001b[1m117/117\u001b[0m \u001b[32m━━━━━━━━━━━━━━━━━━━━\u001b[0m\u001b[37m\u001b[0m \u001b[1m28s\u001b[0m 237ms/step - accuracy: 0.9840 - loss: 0.0396 - precision: 0.9851 - recall: 0.9826 - val_accuracy: 0.8594 - val_loss: 0.8064 - val_precision: 0.8612 - val_recall: 0.8594\n",
      "Predicting on validation set...\n",
      "\u001b[1m16/16\u001b[0m \u001b[32m━━━━━━━━━━━━━━━━━━━━\u001b[0m\u001b[37m\u001b[0m \u001b[1m1s\u001b[0m 54ms/step\n",
      "Sending metrics to clearML...\n"
     ]
    },
    {
     "name": "stderr",
     "output_type": "stream",
     "text": [
      "Exception encountered while uploading Failed uploading object Intruder-Aircraft-Detection/tl_clf/ROTATE/r20-w01-30-2500-5-aug.c7fa4a96243b48308151416661c0aff6/artifacts/notebook preview/notebook_c7fa4a96243b48308151416661c0aff6.html (500): <!doctype html>\n",
      "<html lang=en>\n",
      "<title>500 Internal Server Error</title>\n",
      "<h1>Internal Server Error</h1>\n",
      "<p>The server encountered an internal error and was unable to complete your request. Either the server is overloaded or there is an error in the application.</p>\n",
      "\n"
     ]
    },
    {
     "name": "stdout",
     "output_type": "stream",
     "text": [
      "done\n"
     ]
    }
   ],
   "source": [
    "# rotate augmentation 20\n",
    "task_name = 'r20'\n",
    "sub_project_name = 'ROTATE'\n",
    "\n",
    "augmentation_metadata = {\n",
    "        'methods': {        \n",
    "            'rotate': {\n",
    "                'parameters': {\n",
    "                    'angle_limit': 20, # Maximum angle of rotation\n",
    "                    'p': 1.0  # Probability of applying the augmentation\n",
    "                },\n",
    "                'apply_to_percentage': 0.5  # 50% of the training images\n",
    "            }        \n",
    "        }\n",
    "    }\n",
    "\n",
    "for i in range(N):\n",
    "    RUN = i + 1\n",
    "    try:\n",
    "        print(f\"Starting RUN: {RUN}\")\n",
    "        main(RUN, augmentation_metadata, task_name, sub_project_name, epochs, train_size, w1, w2)\n",
    "    except Exception as e:\n",
    "        print(f\"Error in RUN: {RUN}\")\n",
    "        print(e)\n",
    "    finally:\n",
    "        clear_output(wait=True)  # Clear the output to avoid scrolling\n",
    "        gc.collect()  # Collect garbage to avoid memory leaks"
   ]
  },
  {
   "cell_type": "code",
   "execution_count": 8,
   "metadata": {},
   "outputs": [
    {
     "name": "stdout",
     "output_type": "stream",
     "text": [
      "Starting RUN: 5\n",
      "Seed:  1893833294\n"
     ]
    },
    {
     "name": "stderr",
     "output_type": "stream",
     "text": [
      "c:\\github\\Third-Year-Project\\Intruder-Aircraft-Detection\\main\\tl_clf.py:79: SettingWithCopyWarning:\n",
      "\n",
      "\n",
      "A value is trying to be set on a copy of a slice from a DataFrame.\n",
      "Try using .loc[row_indexer,col_indexer] = value instead\n",
      "\n",
      "See the caveats in the documentation: https://pandas.pydata.org/pandas-docs/stable/user_guide/indexing.html#returning-a-view-versus-a-copy\n",
      "\n",
      "c:\\github\\Third-Year-Project\\Intruder-Aircraft-Detection\\main\\tl_clf.py:80: SettingWithCopyWarning:\n",
      "\n",
      "\n",
      "A value is trying to be set on a copy of a slice from a DataFrame.\n",
      "Try using .loc[row_indexer,col_indexer] = value instead\n",
      "\n",
      "See the caveats in the documentation: https://pandas.pydata.org/pandas-docs/stable/user_guide/indexing.html#returning-a-view-versus-a-copy\n",
      "\n"
     ]
    },
    {
     "name": "stdout",
     "output_type": "stream",
     "text": [
      "Removing dataset if pre-existing\n",
      "Copying training files:\n"
     ]
    },
    {
     "name": "stderr",
     "output_type": "stream",
     "text": [
      "Copying files: 100%|██████████| 5000/5000 [00:03<00:00, 1468.53it/s]\n"
     ]
    },
    {
     "name": "stdout",
     "output_type": "stream",
     "text": [
      "Copying validation files:\n"
     ]
    },
    {
     "name": "stderr",
     "output_type": "stream",
     "text": [
      "Copying files: 100%|██████████| 1000/1000 [00:00<00:00, 1183.84it/s]\n"
     ]
    },
    {
     "name": "stdout",
     "output_type": "stream",
     "text": [
      "Dataset 'weather_01_2500' created at C:\\github\\Third-Year-Project\\Intruder-Aircraft-Detection\\datasets\\Custom\\weather_01_2500\n",
      "Processing train labels in weather_01_2500:\n"
     ]
    },
    {
     "name": "stderr",
     "output_type": "stream",
     "text": [
      "Processing labels: 100%|██████████| 2500/2500 [00:09<00:00, 254.81it/s]\n"
     ]
    },
    {
     "name": "stdout",
     "output_type": "stream",
     "text": [
      "Processing valid labels in weather_01_2500:\n"
     ]
    },
    {
     "name": "stderr",
     "output_type": "stream",
     "text": [
      "Processing labels: 100%|██████████| 500/500 [00:01<00:00, 278.50it/s]\n"
     ]
    },
    {
     "name": "stdout",
     "output_type": "stream",
     "text": [
      "Label correction completed.\n"
     ]
    },
    {
     "name": "stderr",
     "output_type": "stream",
     "text": [
      "Removing existing directories/files: 100%|██████████| 3/3 [00:00<?, ?it/s]\n",
      "Copying files: 100%|██████████| 2500/2500 [00:02<00:00, 1231.77it/s]\n",
      "Copying files: 100%|██████████| 2500/2500 [00:01<00:00, 1453.54it/s]\n",
      "Applying augmentations: 100%|██████████| 1250/1250 [00:11<00:00, 105.36it/s]\n"
     ]
    },
    {
     "name": "stdout",
     "output_type": "stream",
     "text": [
      "An error occurred: Expected y_min for bbox (0.006384999999999974, -0.030349999999999988, 0.652875, 0.400644, 2) to be in the range [0.0, 1.0], got -0.030349999999999988.\n",
      "An error occurred: Expected x_max for bbox (0.425531, 0.400972, 1.050599, 0.8176840000000001, 2) to be in the range [0.0, 1.0], got 1.050599.\n",
      "An error occurred: Expected y_max for bbox (0.45458450000000006, 0.7181775, 0.9206275, 1.0288725, 0) to be in the range [0.0, 1.0], got 1.0288725.\n",
      "An error occurred: Expected x_max for bbox (0.368679, 0.3249835, 1.086079, 0.8032505, 2) to be in the range [0.0, 1.0], got 1.086079.\n",
      "An error occurred: Expected y_max for bbox (0.603079, 0.818155, 0.877433, 1.0010569999999999, 1) to be in the range [0.0, 1.0], got 1.0010569999999999.\n",
      "An error occurred: Expected x_max for bbox (0.48810749999999997, 0.16665499999999997, 1.0361505, 0.532017, 1) to be in the range [0.0, 1.0], got 1.0361505.\n",
      "An error occurred: Expected y_max for bbox (0.14731649999999996, 0.7641374999999999, 0.5491775, 1.0320445, 1) to be in the range [0.0, 1.0], got 1.0320445.\n",
      "An error occurred: Expected y_min for bbox (0.19744650000000002, -0.022690500000000002, 0.6507875000000001, 0.2795365, 1) to be in the range [0.0, 1.0], got -0.022690500000000002.\n",
      "An error occurred: Expected x_min for bbox (-0.09083650000000004, -0.04985999999999999, 0.6557445, 0.44786000000000004, 1) to be in the range [0.0, 1.0], got -0.09083650000000004.\n",
      "An error occurred: Expected x_max for bbox (0.46096849999999995, 0.09652050000000001, 1.0471375, 0.4872995, 1) to be in the range [0.0, 1.0], got 1.0471375.\n",
      "An error occurred: Expected x_max for bbox (0.3757315, 0.3660325, 1.0766624999999999, 0.8333195, 1) to be in the range [0.0, 1.0], got 1.0766624999999999.\n"
     ]
    },
    {
     "name": "stderr",
     "output_type": "stream",
     "text": [
      "Processing images:  20%|██        | 504/2500 [00:19<00:57, 34.68it/s]"
     ]
    },
    {
     "name": "stdout",
     "output_type": "stream",
     "text": [
      "An error occurred with C:/github/Third-Year-Project/Intruder-Aircraft-Detection/datasets/Custom/weather_01_2500\\images\\train\\24027.jpg: Expected x_max for bbox (0.46096849999999995, 0.09652050000000001, 1.0471375, 0.4872995, 1) to be in the range [0.0, 1.0], got 1.0471375.\n"
     ]
    },
    {
     "name": "stderr",
     "output_type": "stream",
     "text": [
      "Processing images:  21%|██        | 525/2500 [00:20<00:55, 35.57it/s]"
     ]
    },
    {
     "name": "stdout",
     "output_type": "stream",
     "text": [
      "An error occurred with C:/github/Third-Year-Project/Intruder-Aircraft-Detection/datasets/Custom/weather_01_2500\\images\\train\\24066.jpg: Expected x_min for bbox (-0.032714999999999994, -0.10783849999999998, 0.8482190000000001, 0.4794505, 1) to be in the range [0.0, 1.0], got -0.032714999999999994.\n"
     ]
    },
    {
     "name": "stderr",
     "output_type": "stream",
     "text": [
      "Processing images:  22%|██▏       | 538/2500 [00:20<00:57, 33.92it/s]"
     ]
    },
    {
     "name": "stdout",
     "output_type": "stream",
     "text": [
      "An error occurred with C:/github/Third-Year-Project/Intruder-Aircraft-Detection/datasets/Custom/weather_01_2500\\images\\train\\24096.jpg: Expected y_max for bbox (0.603079, 0.818155, 0.877433, 1.0010569999999999, 1) to be in the range [0.0, 1.0], got 1.0010569999999999.\n"
     ]
    },
    {
     "name": "stderr",
     "output_type": "stream",
     "text": [
      "Processing images:  22%|██▏       | 550/2500 [00:21<00:56, 34.49it/s]"
     ]
    },
    {
     "name": "stdout",
     "output_type": "stream",
     "text": [
      "An error occurred with C:/github/Third-Year-Project/Intruder-Aircraft-Detection/datasets/Custom/weather_01_2500\\images\\train\\24104.jpg: Expected y_max for bbox (0.14731649999999996, 0.7641374999999999, 0.5491775, 1.0320445, 1) to be in the range [0.0, 1.0], got 1.0320445.\n"
     ]
    },
    {
     "name": "stderr",
     "output_type": "stream",
     "text": [
      "Processing images:  23%|██▎       | 567/2500 [00:21<00:55, 35.01it/s]"
     ]
    },
    {
     "name": "stdout",
     "output_type": "stream",
     "text": [
      "An error occurred with C:/github/Third-Year-Project/Intruder-Aircraft-Detection/datasets/Custom/weather_01_2500\\images\\train\\24158.jpg: Expected x_max for bbox (0.48810749999999997, 0.16665499999999997, 1.0361505, 0.532017, 1) to be in the range [0.0, 1.0], got 1.0361505.\n"
     ]
    },
    {
     "name": "stderr",
     "output_type": "stream",
     "text": [
      "Processing images:  24%|██▎       | 588/2500 [00:22<00:56, 33.84it/s]"
     ]
    },
    {
     "name": "stdout",
     "output_type": "stream",
     "text": [
      "An error occurred with C:/github/Third-Year-Project/Intruder-Aircraft-Detection/datasets/Custom/weather_01_2500\\images\\train\\24202.jpg: Expected y_min for bbox (0.19744650000000002, -0.022690500000000002, 0.6507875000000001, 0.2795365, 1) to be in the range [0.0, 1.0], got -0.022690500000000002.\n"
     ]
    },
    {
     "name": "stderr",
     "output_type": "stream",
     "text": [
      "Processing images:  25%|██▍       | 620/2500 [00:23<00:55, 33.57it/s]"
     ]
    },
    {
     "name": "stdout",
     "output_type": "stream",
     "text": [
      "An error occurred with C:/github/Third-Year-Project/Intruder-Aircraft-Detection/datasets/Custom/weather_01_2500\\images\\train\\24273.jpg: Expected y_min for bbox (0.197711, -0.007085499999999981, 0.582121, 0.2491875, 1) to be in the range [0.0, 1.0], got -0.007085499999999981.\n"
     ]
    },
    {
     "name": "stderr",
     "output_type": "stream",
     "text": [
      "Processing images:  27%|██▋       | 685/2500 [00:25<00:55, 32.95it/s]"
     ]
    },
    {
     "name": "stdout",
     "output_type": "stream",
     "text": [
      "An error occurred with C:/github/Third-Year-Project/Intruder-Aircraft-Detection/datasets/Custom/weather_01_2500\\images\\train\\24416.jpg: Expected y_max for bbox (0.554391, 0.738745, 0.9893209999999999, 1.028699, 1) to be in the range [0.0, 1.0], got 1.028699.\n"
     ]
    },
    {
     "name": "stderr",
     "output_type": "stream",
     "text": [
      "Processing images:  36%|███▋      | 909/2500 [00:32<00:47, 33.60it/s]"
     ]
    },
    {
     "name": "stdout",
     "output_type": "stream",
     "text": [
      "An error occurred with C:/github/Third-Year-Project/Intruder-Aircraft-Detection/datasets/Custom/weather_01_2500\\images\\train\\24891.jpg: Expected x_min for bbox (-0.01830599999999999, 0.35310800000000003, 0.48958799999999997, 0.6917040000000001, 1) to be in the range [0.0, 1.0], got -0.01830599999999999.\n"
     ]
    },
    {
     "name": "stderr",
     "output_type": "stream",
     "text": [
      "Processing images:  41%|████      | 1026/2500 [00:36<00:42, 35.01it/s]"
     ]
    },
    {
     "name": "stdout",
     "output_type": "stream",
     "text": [
      "An error occurred with C:/github/Third-Year-Project/Intruder-Aircraft-Detection/datasets/Custom/weather_01_2500\\images\\train\\25261.jpg: Expected x_min for bbox (-0.09083650000000004, -0.04985999999999999, 0.6557445, 0.44786000000000004, 1) to be in the range [0.0, 1.0], got -0.09083650000000004.\n"
     ]
    },
    {
     "name": "stderr",
     "output_type": "stream",
     "text": [
      "Processing images:  50%|████▉     | 1239/2500 [00:42<00:34, 36.11it/s]"
     ]
    },
    {
     "name": "stdout",
     "output_type": "stream",
     "text": [
      "An error occurred with C:/github/Third-Year-Project/Intruder-Aircraft-Detection/datasets/Custom/weather_01_2500\\images\\train\\25695.jpg: Expected x_max for bbox (0.3757315, 0.3660325, 1.0766624999999999, 0.8333195, 1) to be in the range [0.0, 1.0], got 1.0766624999999999.\n"
     ]
    },
    {
     "name": "stderr",
     "output_type": "stream",
     "text": [
      "Processing images:  61%|██████    | 1517/2500 [00:50<00:29, 33.34it/s]"
     ]
    },
    {
     "name": "stdout",
     "output_type": "stream",
     "text": [
      "An error occurred with C:/github/Third-Year-Project/Intruder-Aircraft-Detection/datasets/Custom/weather_01_2500\\images\\train\\48127.jpg: Expected x_max for bbox (0.405781, 0.446345, 1.002591, 0.844219, 2) to be in the range [0.0, 1.0], got 1.002591.\n"
     ]
    },
    {
     "name": "stderr",
     "output_type": "stream",
     "text": [
      "Processing images:  68%|██████▊   | 1690/2500 [00:56<00:23, 34.96it/s]"
     ]
    },
    {
     "name": "stdout",
     "output_type": "stream",
     "text": [
      "An error occurred with C:/github/Third-Year-Project/Intruder-Aircraft-Detection/datasets/Custom/weather_01_2500\\images\\train\\48506.jpg: Expected y_min for bbox (0.604137, -0.0008270000000000083, 0.899387, 0.196007, 2) to be in the range [0.0, 1.0], got -0.0008270000000000083.\n"
     ]
    },
    {
     "name": "stderr",
     "output_type": "stream",
     "text": [
      "Processing images:  72%|███████▏  | 1807/2500 [00:59<00:19, 35.27it/s]"
     ]
    },
    {
     "name": "stdout",
     "output_type": "stream",
     "text": [
      "An error occurred with C:/github/Third-Year-Project/Intruder-Aircraft-Detection/datasets/Custom/weather_01_2500\\images\\train\\48746.jpg: Expected y_min for bbox (0.46203649999999996, -0.11042649999999998, 1.0618375, 0.2894405, 2) to be in the range [0.0, 1.0], got -0.11042649999999998.\n"
     ]
    },
    {
     "name": "stderr",
     "output_type": "stream",
     "text": [
      "Processing images:  77%|███████▋  | 1936/2500 [01:03<00:15, 37.34it/s]"
     ]
    },
    {
     "name": "stdout",
     "output_type": "stream",
     "text": [
      "An error occurred with C:/github/Third-Year-Project/Intruder-Aircraft-Detection/datasets/Custom/weather_01_2500\\images\\train\\49148.jpg: Expected y_min for bbox (0.006384999999999974, -0.030349999999999988, 0.652875, 0.400644, 2) to be in the range [0.0, 1.0], got -0.030349999999999988.\n"
     ]
    },
    {
     "name": "stderr",
     "output_type": "stream",
     "text": [
      "Processing images:  81%|████████  | 2013/2500 [01:05<00:13, 35.41it/s]"
     ]
    },
    {
     "name": "stdout",
     "output_type": "stream",
     "text": [
      "An error occurred with C:/github/Third-Year-Project/Intruder-Aircraft-Detection/datasets/Custom/weather_01_2500\\images\\train\\49296.jpg: Expected x_max for bbox (0.368679, 0.3249835, 1.086079, 0.8032505, 2) to be in the range [0.0, 1.0], got 1.086079.\n"
     ]
    },
    {
     "name": "stderr",
     "output_type": "stream",
     "text": [
      "Processing images:  88%|████████▊ | 2210/2500 [01:11<00:08, 35.35it/s]"
     ]
    },
    {
     "name": "stdout",
     "output_type": "stream",
     "text": [
      "An error occurred with C:/github/Third-Year-Project/Intruder-Aircraft-Detection/datasets/Custom/weather_01_2500\\images\\train\\49729.jpg: Expected x_max for bbox (0.425531, 0.400972, 1.050599, 0.8176840000000001, 2) to be in the range [0.0, 1.0], got 1.050599.\n"
     ]
    },
    {
     "name": "stderr",
     "output_type": "stream",
     "text": [
      "Processing images:  96%|█████████▌| 2389/2500 [01:16<00:03, 36.22it/s]"
     ]
    },
    {
     "name": "stdout",
     "output_type": "stream",
     "text": [
      "An error occurred with C:/github/Third-Year-Project/Intruder-Aircraft-Detection/datasets/Custom/weather_01_2500\\images\\train\\671.jpg: Expected y_min for bbox (0.5048285, -0.00766349999999999, 0.8729035, 0.2377195, 0) to be in the range [0.0, 1.0], got -0.00766349999999999.\n"
     ]
    },
    {
     "name": "stderr",
     "output_type": "stream",
     "text": [
      "Processing images:  99%|█████████▉| 2486/2500 [01:19<00:00, 36.08it/s]"
     ]
    },
    {
     "name": "stdout",
     "output_type": "stream",
     "text": [
      "An error occurred with C:/github/Third-Year-Project/Intruder-Aircraft-Detection/datasets/Custom/weather_01_2500\\images\\train\\873.jpg: Expected y_max for bbox (0.45458450000000006, 0.7181775, 0.9206275, 1.0288725, 0) to be in the range [0.0, 1.0], got 1.0288725.\n"
     ]
    },
    {
     "name": "stderr",
     "output_type": "stream",
     "text": [
      "Processing images: 100%|██████████| 2500/2500 [01:19<00:00, 31.26it/s]\n",
      "Processing images:  20%|██        | 757/3739 [00:31<01:30, 32.95it/s]"
     ]
    },
    {
     "name": "stdout",
     "output_type": "stream",
     "text": [
      "An error occurred with C:/github/Third-Year-Project/Intruder-Aircraft-Detection/datasets/Custom/weather_01_2500\\images\\train-aug\\24027.jpg: Expected x_max for bbox (0.46096849999999995, 0.09652050000000001, 1.0471375, 0.4872995, 1) to be in the range [0.0, 1.0], got 1.0471375.\n"
     ]
    },
    {
     "name": "stderr",
     "output_type": "stream",
     "text": [
      "Processing images:  21%|██        | 782/3739 [00:32<01:27, 33.95it/s]"
     ]
    },
    {
     "name": "stdout",
     "output_type": "stream",
     "text": [
      "An error occurred with C:/github/Third-Year-Project/Intruder-Aircraft-Detection/datasets/Custom/weather_01_2500\\images\\train-aug\\24066.jpg: Expected x_min for bbox (-0.032714999999999994, -0.10783849999999998, 0.8482190000000001, 0.4794505, 1) to be in the range [0.0, 1.0], got -0.032714999999999994.\n"
     ]
    },
    {
     "name": "stderr",
     "output_type": "stream",
     "text": [
      "Processing images:  22%|██▏       | 806/3739 [00:33<01:29, 32.95it/s]"
     ]
    },
    {
     "name": "stdout",
     "output_type": "stream",
     "text": [
      "An error occurred with C:/github/Third-Year-Project/Intruder-Aircraft-Detection/datasets/Custom/weather_01_2500\\images\\train-aug\\24096.jpg: Expected y_max for bbox (0.603079, 0.818155, 0.877433, 1.0010569999999999, 1) to be in the range [0.0, 1.0], got 1.0010569999999999.\n"
     ]
    },
    {
     "name": "stderr",
     "output_type": "stream",
     "text": [
      "Processing images:  22%|██▏       | 815/3739 [00:33<01:23, 34.85it/s]"
     ]
    },
    {
     "name": "stdout",
     "output_type": "stream",
     "text": [
      "An error occurred with C:/github/Third-Year-Project/Intruder-Aircraft-Detection/datasets/Custom/weather_01_2500\\images\\train-aug\\24104.jpg: Expected y_max for bbox (0.14731649999999996, 0.7641374999999999, 0.5491775, 1.0320445, 1) to be in the range [0.0, 1.0], got 1.0320445.\n"
     ]
    },
    {
     "name": "stderr",
     "output_type": "stream",
     "text": [
      "Processing images:  23%|██▎       | 855/3739 [00:34<01:24, 34.18it/s]"
     ]
    },
    {
     "name": "stdout",
     "output_type": "stream",
     "text": [
      "An error occurred with C:/github/Third-Year-Project/Intruder-Aircraft-Detection/datasets/Custom/weather_01_2500\\images\\train-aug\\24158.jpg: Expected x_max for bbox (0.48810749999999997, 0.16665499999999997, 1.0361505, 0.532017, 1) to be in the range [0.0, 1.0], got 1.0361505.\n"
     ]
    },
    {
     "name": "stderr",
     "output_type": "stream",
     "text": [
      "Processing images:  24%|██▎       | 888/3739 [00:35<01:21, 34.95it/s]"
     ]
    },
    {
     "name": "stdout",
     "output_type": "stream",
     "text": [
      "An error occurred with C:/github/Third-Year-Project/Intruder-Aircraft-Detection/datasets/Custom/weather_01_2500\\images\\train-aug\\24202.jpg: Expected y_min for bbox (0.19744650000000002, -0.022690500000000002, 0.6507875000000001, 0.2795365, 1) to be in the range [0.0, 1.0], got -0.022690500000000002.\n"
     ]
    },
    {
     "name": "stderr",
     "output_type": "stream",
     "text": [
      "Processing images:  25%|██▍       | 929/3739 [00:36<01:24, 33.14it/s]"
     ]
    },
    {
     "name": "stdout",
     "output_type": "stream",
     "text": [
      "An error occurred with C:/github/Third-Year-Project/Intruder-Aircraft-Detection/datasets/Custom/weather_01_2500\\images\\train-aug\\24273.jpg: Expected y_min for bbox (0.197711, -0.007085499999999981, 0.582121, 0.2491875, 1) to be in the range [0.0, 1.0], got -0.007085499999999981.\n"
     ]
    },
    {
     "name": "stderr",
     "output_type": "stream",
     "text": [
      "Processing images:  28%|██▊       | 1034/3739 [00:39<01:20, 33.52it/s]"
     ]
    },
    {
     "name": "stdout",
     "output_type": "stream",
     "text": [
      "An error occurred with C:/github/Third-Year-Project/Intruder-Aircraft-Detection/datasets/Custom/weather_01_2500\\images\\train-aug\\24416.jpg: Expected y_max for bbox (0.554391, 0.738745, 0.9893209999999999, 1.028699, 1) to be in the range [0.0, 1.0], got 1.028699.\n"
     ]
    },
    {
     "name": "stderr",
     "output_type": "stream",
     "text": [
      "Processing images:  36%|███▋      | 1363/3739 [00:50<01:08, 34.48it/s]"
     ]
    },
    {
     "name": "stdout",
     "output_type": "stream",
     "text": [
      "An error occurred with C:/github/Third-Year-Project/Intruder-Aircraft-Detection/datasets/Custom/weather_01_2500\\images\\train-aug\\24891.jpg: Expected x_min for bbox (-0.01830599999999999, 0.35310800000000003, 0.48958799999999997, 0.6917040000000001, 1) to be in the range [0.0, 1.0], got -0.01830599999999999.\n"
     ]
    },
    {
     "name": "stderr",
     "output_type": "stream",
     "text": [
      "Processing images:  41%|████      | 1536/3739 [00:55<01:03, 34.53it/s]"
     ]
    },
    {
     "name": "stdout",
     "output_type": "stream",
     "text": [
      "An error occurred with C:/github/Third-Year-Project/Intruder-Aircraft-Detection/datasets/Custom/weather_01_2500\\images\\train-aug\\25261.jpg: Expected x_min for bbox (-0.09083650000000004, -0.04985999999999999, 0.6557445, 0.44786000000000004, 1) to be in the range [0.0, 1.0], got -0.09083650000000004.\n"
     ]
    },
    {
     "name": "stderr",
     "output_type": "stream",
     "text": [
      "Processing images:  49%|████▉     | 1841/3739 [01:04<00:51, 36.96it/s]"
     ]
    },
    {
     "name": "stdout",
     "output_type": "stream",
     "text": [
      "An error occurred with C:/github/Third-Year-Project/Intruder-Aircraft-Detection/datasets/Custom/weather_01_2500\\images\\train-aug\\25695.jpg: Expected x_max for bbox (0.3757315, 0.3660325, 1.0766624999999999, 0.8333195, 1) to be in the range [0.0, 1.0], got 1.0766624999999999.\n"
     ]
    },
    {
     "name": "stderr",
     "output_type": "stream",
     "text": [
      "Processing images:  61%|██████    | 2270/3739 [01:17<00:43, 33.41it/s]"
     ]
    },
    {
     "name": "stdout",
     "output_type": "stream",
     "text": [
      "An error occurred with C:/github/Third-Year-Project/Intruder-Aircraft-Detection/datasets/Custom/weather_01_2500\\images\\train-aug\\48127.jpg: Expected x_max for bbox (0.405781, 0.446345, 1.002591, 0.844219, 2) to be in the range [0.0, 1.0], got 1.002591.\n"
     ]
    },
    {
     "name": "stderr",
     "output_type": "stream",
     "text": [
      "Processing images:  68%|██████▊   | 2535/3739 [01:25<00:35, 33.98it/s]"
     ]
    },
    {
     "name": "stdout",
     "output_type": "stream",
     "text": [
      "An error occurred with C:/github/Third-Year-Project/Intruder-Aircraft-Detection/datasets/Custom/weather_01_2500\\images\\train-aug\\48506.jpg: Expected y_min for bbox (0.604137, -0.0008270000000000083, 0.899387, 0.196007, 2) to be in the range [0.0, 1.0], got -0.0008270000000000083.\n"
     ]
    },
    {
     "name": "stderr",
     "output_type": "stream",
     "text": [
      "Processing images:  73%|███████▎  | 2720/3739 [01:31<00:29, 34.68it/s]"
     ]
    },
    {
     "name": "stdout",
     "output_type": "stream",
     "text": [
      "An error occurred with C:/github/Third-Year-Project/Intruder-Aircraft-Detection/datasets/Custom/weather_01_2500\\images\\train-aug\\48746.jpg: Expected y_min for bbox (0.46203649999999996, -0.11042649999999998, 1.0618375, 0.2894405, 2) to be in the range [0.0, 1.0], got -0.11042649999999998.\n"
     ]
    },
    {
     "name": "stderr",
     "output_type": "stream",
     "text": [
      "Processing images:  78%|███████▊  | 2909/3739 [01:36<00:22, 37.28it/s]"
     ]
    },
    {
     "name": "stdout",
     "output_type": "stream",
     "text": [
      "An error occurred with C:/github/Third-Year-Project/Intruder-Aircraft-Detection/datasets/Custom/weather_01_2500\\images\\train-aug\\49148.jpg: Expected y_min for bbox (0.006384999999999974, -0.030349999999999988, 0.652875, 0.400644, 2) to be in the range [0.0, 1.0], got -0.030349999999999988.\n"
     ]
    },
    {
     "name": "stderr",
     "output_type": "stream",
     "text": [
      "Processing images:  80%|████████  | 3002/3739 [01:39<00:20, 35.28it/s]"
     ]
    },
    {
     "name": "stdout",
     "output_type": "stream",
     "text": [
      "An error occurred with C:/github/Third-Year-Project/Intruder-Aircraft-Detection/datasets/Custom/weather_01_2500\\images\\train-aug\\49296.jpg: Expected x_max for bbox (0.368679, 0.3249835, 1.086079, 0.8032505, 2) to be in the range [0.0, 1.0], got 1.086079.\n"
     ]
    },
    {
     "name": "stderr",
     "output_type": "stream",
     "text": [
      "Processing images:  88%|████████▊ | 3295/3739 [01:48<00:12, 35.59it/s]"
     ]
    },
    {
     "name": "stdout",
     "output_type": "stream",
     "text": [
      "An error occurred with C:/github/Third-Year-Project/Intruder-Aircraft-Detection/datasets/Custom/weather_01_2500\\images\\train-aug\\49729.jpg: Expected x_max for bbox (0.425531, 0.400972, 1.050599, 0.8176840000000001, 2) to be in the range [0.0, 1.0], got 1.050599.\n"
     ]
    },
    {
     "name": "stderr",
     "output_type": "stream",
     "text": [
      "Processing images:  95%|█████████▌| 3564/3739 [01:56<00:04, 36.34it/s]"
     ]
    },
    {
     "name": "stdout",
     "output_type": "stream",
     "text": [
      "An error occurred with C:/github/Third-Year-Project/Intruder-Aircraft-Detection/datasets/Custom/weather_01_2500\\images\\train-aug\\671.jpg: Expected y_min for bbox (0.5048285, -0.00766349999999999, 0.8729035, 0.2377195, 0) to be in the range [0.0, 1.0], got -0.00766349999999999.\n"
     ]
    },
    {
     "name": "stderr",
     "output_type": "stream",
     "text": [
      "Processing images:  99%|█████████▉| 3718/3739 [02:00<00:00, 35.91it/s]"
     ]
    },
    {
     "name": "stdout",
     "output_type": "stream",
     "text": [
      "An error occurred with C:/github/Third-Year-Project/Intruder-Aircraft-Detection/datasets/Custom/weather_01_2500\\images\\train-aug\\873.jpg: Expected y_max for bbox (0.45458450000000006, 0.7181775, 0.9206275, 1.0288725, 0) to be in the range [0.0, 1.0], got 1.0288725.\n"
     ]
    },
    {
     "name": "stderr",
     "output_type": "stream",
     "text": [
      "Processing images: 100%|██████████| 3739/3739 [02:01<00:00, 30.87it/s]\n",
      "Processing images:  60%|█████▉    | 299/500 [00:10<00:05, 35.62it/s]"
     ]
    },
    {
     "name": "stdout",
     "output_type": "stream",
     "text": [
      "An error occurred with C:/github/Third-Year-Project/Intruder-Aircraft-Detection/datasets/Custom/weather_01_2500\\images\\valid\\48958.jpg: Expected y_min for bbox (0.11869149999999995, -0.083345, 1.0148305, 0.514081, 2) to be in the range [0.0, 1.0], got -0.083345.\n",
      "An error occurred with C:/github/Third-Year-Project/Intruder-Aircraft-Detection/datasets/Custom/weather_01_2500\\images\\valid\\48967.jpg: Expected x_max for bbox (0.391763, 0.222879, 1.0974650000000001, 0.6933469999999999, 2) to be in the range [0.0, 1.0], got 1.0974650000000001.\n"
     ]
    },
    {
     "name": "stderr",
     "output_type": "stream",
     "text": [
      "Processing images:  76%|███████▌  | 381/500 [00:12<00:03, 36.21it/s]"
     ]
    },
    {
     "name": "stdout",
     "output_type": "stream",
     "text": [
      "An error occurred with C:/github/Third-Year-Project/Intruder-Aircraft-Detection/datasets/Custom/weather_01_2500\\images\\valid\\49956.jpg: Expected x_min for bbox (-0.11142649999999998, 0.37090300000000004, 0.7043905, 0.9147810000000001, 2) to be in the range [0.0, 1.0], got -0.11142649999999998.\n"
     ]
    },
    {
     "name": "stderr",
     "output_type": "stream",
     "text": [
      "Processing images: 100%|██████████| 500/500 [00:16<00:00, 31.14it/s]\n",
      "Moving images in train: 100%|██████████| 2481/2481 [00:08<00:00, 282.52it/s]\n",
      "Moving images in train-aug: 100%|██████████| 3720/3720 [00:11<00:00, 318.10it/s]\n",
      "Moving images in valid: 100%|██████████| 497/497 [00:01<00:00, 281.50it/s]\n"
     ]
    },
    {
     "name": "stdout",
     "output_type": "stream",
     "text": [
      "Found 2481 files belonging to 3 classes.\n",
      "Found 3720 files belonging to 3 classes.\n",
      "Found 497 files belonging to 3 classes.\n",
      "ClearML Task: created new task id=1c283acb62564ce0bfa95f0c942bcdcb\n",
      "ClearML results page: https://app.clear.ml/projects/7250e546d5324b5c8e520b84207c06f5/experiments/1c283acb62564ce0bfa95f0c942bcdcb/output/log\n",
      "Training model...\n",
      "Epoch 1/30\n",
      "\u001b[1m38/78\u001b[0m \u001b[32m━━━━━━━━━\u001b[0m\u001b[37m━━━━━━━━━━━\u001b[0m \u001b[1m10s\u001b[0m 260ms/step - accuracy: 0.2978 - loss: 2.8905 - precision: 0.2497 - recall: 0.0839"
     ]
    },
    {
     "name": "stderr",
     "output_type": "stream",
     "text": [
      "Exception encountered while uploading Failed uploading object Intruder-Aircraft-Detection/tl_clf/ZOOM/z0.4-w01-30-2500-5-pure.1c283acb62564ce0bfa95f0c942bcdcb/artifacts/notebook preview/notebook_1c283acb62564ce0bfa95f0c942bcdcb.html (500): <!doctype html>\n",
      "<html lang=en>\n",
      "<title>500 Internal Server Error</title>\n",
      "<h1>Internal Server Error</h1>\n",
      "<p>The server encountered an internal error and was unable to complete your request. Either the server is overloaded or there is an error in the application.</p>\n",
      "\n"
     ]
    },
    {
     "name": "stdout",
     "output_type": "stream",
     "text": [
      "\u001b[1m78/78\u001b[0m \u001b[32m━━━━━━━━━━━━━━━━━━━━\u001b[0m\u001b[37m\u001b[0m \u001b[1m22s\u001b[0m 251ms/step - accuracy: 0.3117 - loss: 2.1704 - precision: 0.2531 - recall: 0.0521 - val_accuracy: 0.3400 - val_loss: 1.0985 - val_precision: 0.0000e+00 - val_recall: 0.0000e+00\n",
      "Epoch 2/30\n",
      "\u001b[1m78/78\u001b[0m \u001b[32m━━━━━━━━━━━━━━━━━━━━\u001b[0m\u001b[37m\u001b[0m \u001b[1m18s\u001b[0m 222ms/step - accuracy: 0.3334 - loss: 1.0988 - precision: 0.0000e+00 - recall: 0.0000e+00 - val_accuracy: 0.3300 - val_loss: 1.0985 - val_precision: 0.0000e+00 - val_recall: 0.0000e+00\n",
      "Epoch 3/30\n",
      "\u001b[1m78/78\u001b[0m \u001b[32m━━━━━━━━━━━━━━━━━━━━\u001b[0m\u001b[37m\u001b[0m \u001b[1m19s\u001b[0m 240ms/step - accuracy: 0.3232 - loss: 1.0985 - precision: 0.0000e+00 - recall: 0.0000e+00 - val_accuracy: 0.3481 - val_loss: 1.0981 - val_precision: 0.0000e+00 - val_recall: 0.0000e+00\n",
      "Epoch 4/30\n",
      "\u001b[1m 8/78\u001b[0m \u001b[32m━━\u001b[0m\u001b[37m━━━━━━━━━━━━━━━━━━\u001b[0m \u001b[1m17s\u001b[0m 244ms/step - accuracy: 0.3488 - loss: 1.0980 - precision: 0.0000e+00 - recall: 0.0000e+00"
     ]
    },
    {
     "name": "stderr",
     "output_type": "stream",
     "text": [
      "Exception encountered while uploading Failed uploading object Intruder-Aircraft-Detection/tl_clf/ZOOM/z0.4-w01-30-2500-5-pure.1c283acb62564ce0bfa95f0c942bcdcb/artifacts/notebook preview/notebook_1c283acb62564ce0bfa95f0c942bcdcb.html (500): <!doctype html>\n",
      "<html lang=en>\n",
      "<title>500 Internal Server Error</title>\n",
      "<h1>Internal Server Error</h1>\n",
      "<p>The server encountered an internal error and was unable to complete your request. Either the server is overloaded or there is an error in the application.</p>\n",
      "\n"
     ]
    },
    {
     "name": "stdout",
     "output_type": "stream",
     "text": [
      "\u001b[1m78/78\u001b[0m \u001b[32m━━━━━━━━━━━━━━━━━━━━\u001b[0m\u001b[37m\u001b[0m \u001b[1m18s\u001b[0m 223ms/step - accuracy: 0.3521 - loss: 1.0980 - precision: 0.0000e+00 - recall: 0.0000e+00 - val_accuracy: 0.3642 - val_loss: 1.0965 - val_precision: 0.0000e+00 - val_recall: 0.0000e+00\n",
      "Epoch 5/30\n",
      "\u001b[1m78/78\u001b[0m \u001b[32m━━━━━━━━━━━━━━━━━━━━\u001b[0m\u001b[37m\u001b[0m \u001b[1m18s\u001b[0m 230ms/step - accuracy: 0.3724 - loss: 1.0960 - precision: 0.1302 - recall: 0.0022 - val_accuracy: 0.3400 - val_loss: 1.0989 - val_precision: 0.0000e+00 - val_recall: 0.0000e+00\n",
      "Epoch 6/30\n",
      "\u001b[1m40/78\u001b[0m \u001b[32m━━━━━━━━━━\u001b[0m\u001b[37m━━━━━━━━━━\u001b[0m \u001b[1m9s\u001b[0m 250ms/step - accuracy: 0.4116 - loss: 1.0798 - precision: 0.5526 - recall: 0.0352"
     ]
    },
    {
     "name": "stderr",
     "output_type": "stream",
     "text": [
      "Exception encountered while uploading Failed uploading object Intruder-Aircraft-Detection/tl_clf/ZOOM/z0.4-w01-30-2500-5-pure.1c283acb62564ce0bfa95f0c942bcdcb/artifacts/notebook preview/notebook_1c283acb62564ce0bfa95f0c942bcdcb.html (500): <!doctype html>\n",
      "<html lang=en>\n",
      "<title>500 Internal Server Error</title>\n",
      "<h1>Internal Server Error</h1>\n",
      "<p>The server encountered an internal error and was unable to complete your request. Either the server is overloaded or there is an error in the application.</p>\n",
      "\n"
     ]
    },
    {
     "name": "stdout",
     "output_type": "stream",
     "text": [
      "\u001b[1m78/78\u001b[0m \u001b[32m━━━━━━━━━━━━━━━━━━━━\u001b[0m\u001b[37m\u001b[0m \u001b[1m19s\u001b[0m 240ms/step - accuracy: 0.4175 - loss: 1.0810 - precision: 0.5606 - recall: 0.0296 - val_accuracy: 0.4648 - val_loss: 1.0461 - val_precision: 0.6207 - val_recall: 0.1811\n",
      "Epoch 7/30\n",
      "\u001b[1m78/78\u001b[0m \u001b[32m━━━━━━━━━━━━━━━━━━━━\u001b[0m\u001b[37m\u001b[0m \u001b[1m18s\u001b[0m 222ms/step - accuracy: 0.5384 - loss: 0.9971 - precision: 0.6496 - recall: 0.1953 - val_accuracy: 0.5734 - val_loss: 0.9212 - val_precision: 0.7446 - val_recall: 0.4165\n",
      "Epoch 8/30\n",
      "\u001b[1m72/78\u001b[0m \u001b[32m━━━━━━━━━━━━━━━━━━\u001b[0m\u001b[37m━━\u001b[0m \u001b[1m1s\u001b[0m 231ms/step - accuracy: 0.6741 - loss: 0.7932 - precision: 0.7431 - recall: 0.5236"
     ]
    },
    {
     "name": "stderr",
     "output_type": "stream",
     "text": [
      "Exception encountered while uploading Failed uploading object Intruder-Aircraft-Detection/tl_clf/ZOOM/z0.4-w01-30-2500-5-pure.1c283acb62564ce0bfa95f0c942bcdcb/artifacts/notebook preview/notebook_1c283acb62564ce0bfa95f0c942bcdcb.html (500): <!doctype html>\n",
      "<html lang=en>\n",
      "<title>500 Internal Server Error</title>\n",
      "<h1>Internal Server Error</h1>\n",
      "<p>The server encountered an internal error and was unable to complete your request. Either the server is overloaded or there is an error in the application.</p>\n",
      "\n"
     ]
    },
    {
     "name": "stdout",
     "output_type": "stream",
     "text": [
      "\u001b[1m78/78\u001b[0m \u001b[32m━━━━━━━━━━━━━━━━━━━━\u001b[0m\u001b[37m\u001b[0m \u001b[1m19s\u001b[0m 242ms/step - accuracy: 0.6757 - loss: 0.7887 - precision: 0.7443 - recall: 0.5278 - val_accuracy: 0.7465 - val_loss: 0.6935 - val_precision: 0.7962 - val_recall: 0.6680\n",
      "Epoch 9/30\n",
      "\u001b[1m78/78\u001b[0m \u001b[32m━━━━━━━━━━━━━━━━━━━━\u001b[0m\u001b[37m\u001b[0m \u001b[1m18s\u001b[0m 222ms/step - accuracy: 0.7650 - loss: 0.5948 - precision: 0.8024 - recall: 0.6966 - val_accuracy: 0.7384 - val_loss: 0.6803 - val_precision: 0.7586 - val_recall: 0.7082\n",
      "Epoch 10/30\n",
      "\u001b[1m78/78\u001b[0m \u001b[32m━━━━━━━━━━━━━━━━━━━━\u001b[0m\u001b[37m\u001b[0m \u001b[1m19s\u001b[0m 241ms/step - accuracy: 0.7739 - loss: 0.5491 - precision: 0.7982 - recall: 0.7281 - val_accuracy: 0.7425 - val_loss: 0.6304 - val_precision: 0.7733 - val_recall: 0.7002\n",
      "Epoch 11/30\n",
      "\u001b[1m16/78\u001b[0m \u001b[32m━━━━\u001b[0m\u001b[37m━━━━━━━━━━━━━━━━\u001b[0m \u001b[1m14s\u001b[0m 236ms/step - accuracy: 0.8360 - loss: 0.4453 - precision: 0.8727 - recall: 0.8092"
     ]
    },
    {
     "name": "stderr",
     "output_type": "stream",
     "text": [
      "Exception encountered while uploading Failed uploading object Intruder-Aircraft-Detection/tl_clf/ZOOM/z0.4-w01-30-2500-5-pure.1c283acb62564ce0bfa95f0c942bcdcb/artifacts/notebook preview/notebook_1c283acb62564ce0bfa95f0c942bcdcb.html (500): <!doctype html>\n",
      "<html lang=en>\n",
      "<title>500 Internal Server Error</title>\n",
      "<h1>Internal Server Error</h1>\n",
      "<p>The server encountered an internal error and was unable to complete your request. Either the server is overloaded or there is an error in the application.</p>\n",
      "\n"
     ]
    },
    {
     "name": "stdout",
     "output_type": "stream",
     "text": [
      "\u001b[1m78/78\u001b[0m \u001b[32m━━━━━━━━━━━━━━━━━━━━\u001b[0m\u001b[37m\u001b[0m \u001b[1m18s\u001b[0m 226ms/step - accuracy: 0.8220 - loss: 0.4567 - precision: 0.8446 - recall: 0.7933 - val_accuracy: 0.7666 - val_loss: 0.6334 - val_precision: 0.7818 - val_recall: 0.7425\n",
      "Epoch 12/30\n",
      "\u001b[1m78/78\u001b[0m \u001b[32m━━━━━━━━━━━━━━━━━━━━\u001b[0m\u001b[37m\u001b[0m \u001b[1m18s\u001b[0m 228ms/step - accuracy: 0.8340 - loss: 0.4599 - precision: 0.8544 - recall: 0.7981 - val_accuracy: 0.7606 - val_loss: 0.6588 - val_precision: 0.7741 - val_recall: 0.7445\n",
      "Epoch 13/30\n",
      "\u001b[1m53/78\u001b[0m \u001b[32m━━━━━━━━━━━━━\u001b[0m\u001b[37m━━━━━━━\u001b[0m \u001b[1m5s\u001b[0m 236ms/step - accuracy: 0.8575 - loss: 0.3568 - precision: 0.8650 - recall: 0.8363"
     ]
    },
    {
     "name": "stderr",
     "output_type": "stream",
     "text": [
      "Exception encountered while uploading Failed uploading object Intruder-Aircraft-Detection/tl_clf/ZOOM/z0.4-w01-30-2500-5-pure.1c283acb62564ce0bfa95f0c942bcdcb/artifacts/notebook preview/notebook_1c283acb62564ce0bfa95f0c942bcdcb.html (500): <!doctype html>\n",
      "<html lang=en>\n",
      "<title>500 Internal Server Error</title>\n",
      "<h1>Internal Server Error</h1>\n",
      "<p>The server encountered an internal error and was unable to complete your request. Either the server is overloaded or there is an error in the application.</p>\n",
      "\n"
     ]
    },
    {
     "name": "stdout",
     "output_type": "stream",
     "text": [
      "\u001b[1m78/78\u001b[0m \u001b[32m━━━━━━━━━━━━━━━━━━━━\u001b[0m\u001b[37m\u001b[0m \u001b[1m19s\u001b[0m 237ms/step - accuracy: 0.8538 - loss: 0.3658 - precision: 0.8624 - recall: 0.8332 - val_accuracy: 0.7706 - val_loss: 0.6727 - val_precision: 0.7886 - val_recall: 0.7505\n",
      "Epoch 14/30\n",
      "\u001b[1m78/78\u001b[0m \u001b[32m━━━━━━━━━━━━━━━━━━━━\u001b[0m\u001b[37m\u001b[0m \u001b[1m18s\u001b[0m 223ms/step - accuracy: 0.8608 - loss: 0.3368 - precision: 0.8769 - recall: 0.8430 - val_accuracy: 0.7787 - val_loss: 0.6652 - val_precision: 0.7850 - val_recall: 0.7565\n",
      "Epoch 15/30\n",
      "\u001b[1m78/78\u001b[0m \u001b[32m━━━━━━━━━━━━━━━━━━━━\u001b[0m\u001b[37m\u001b[0m \u001b[1m19s\u001b[0m 240ms/step - accuracy: 0.8944 - loss: 0.2851 - precision: 0.9006 - recall: 0.8818 - val_accuracy: 0.7988 - val_loss: 0.6977 - val_precision: 0.8075 - val_recall: 0.7767\n",
      "Epoch 16/30\n"
     ]
    },
    {
     "name": "stderr",
     "output_type": "stream",
     "text": [
      "Exception encountered while uploading Failed uploading object Intruder-Aircraft-Detection/tl_clf/ZOOM/z0.4-w01-30-2500-5-pure.1c283acb62564ce0bfa95f0c942bcdcb/artifacts/notebook preview/notebook_1c283acb62564ce0bfa95f0c942bcdcb.html (500): <!doctype html>\n",
      "<html lang=en>\n",
      "<title>500 Internal Server Error</title>\n",
      "<h1>Internal Server Error</h1>\n",
      "<p>The server encountered an internal error and was unable to complete your request. Either the server is overloaded or there is an error in the application.</p>\n",
      "\n"
     ]
    },
    {
     "name": "stdout",
     "output_type": "stream",
     "text": [
      "\u001b[1m78/78\u001b[0m \u001b[32m━━━━━━━━━━━━━━━━━━━━\u001b[0m\u001b[37m\u001b[0m \u001b[1m18s\u001b[0m 223ms/step - accuracy: 0.8980 - loss: 0.2494 - precision: 0.9077 - recall: 0.8893 - val_accuracy: 0.7867 - val_loss: 0.7723 - val_precision: 0.7959 - val_recall: 0.7767\n",
      "Epoch 17/30\n",
      "\u001b[1m78/78\u001b[0m \u001b[32m━━━━━━━━━━━━━━━━━━━━\u001b[0m\u001b[37m\u001b[0m \u001b[1m18s\u001b[0m 231ms/step - accuracy: 0.9091 - loss: 0.2307 - precision: 0.9131 - recall: 0.9006 - val_accuracy: 0.8028 - val_loss: 0.7782 - val_precision: 0.8161 - val_recall: 0.7948\n",
      "Epoch 18/30\n",
      "\u001b[1m26/78\u001b[0m \u001b[32m━━━━━━\u001b[0m\u001b[37m━━━━━━━━━━━━━━\u001b[0m \u001b[1m11s\u001b[0m 222ms/step - accuracy: 0.9273 - loss: 0.2029 - precision: 0.9319 - recall: 0.9257"
     ]
    },
    {
     "name": "stderr",
     "output_type": "stream",
     "text": [
      "Exception encountered while uploading Failed uploading object Intruder-Aircraft-Detection/tl_clf/ZOOM/z0.4-w01-30-2500-5-pure.1c283acb62564ce0bfa95f0c942bcdcb/artifacts/notebook preview/notebook_1c283acb62564ce0bfa95f0c942bcdcb.html (500): <!doctype html>\n",
      "<html lang=en>\n",
      "<title>500 Internal Server Error</title>\n",
      "<h1>Internal Server Error</h1>\n",
      "<p>The server encountered an internal error and was unable to complete your request. Either the server is overloaded or there is an error in the application.</p>\n",
      "\n"
     ]
    },
    {
     "name": "stdout",
     "output_type": "stream",
     "text": [
      "\u001b[1m78/78\u001b[0m \u001b[32m━━━━━━━━━━━━━━━━━━━━\u001b[0m\u001b[37m\u001b[0m \u001b[1m18s\u001b[0m 223ms/step - accuracy: 0.9084 - loss: 0.2446 - precision: 0.9158 - recall: 0.9001 - val_accuracy: 0.7988 - val_loss: 0.7206 - val_precision: 0.8082 - val_recall: 0.7887\n",
      "Epoch 19/30\n",
      "\u001b[1m78/78\u001b[0m \u001b[32m━━━━━━━━━━━━━━━━━━━━\u001b[0m\u001b[37m\u001b[0m \u001b[1m18s\u001b[0m 222ms/step - accuracy: 0.9339 - loss: 0.2035 - precision: 0.9369 - recall: 0.9303 - val_accuracy: 0.8008 - val_loss: 0.7903 - val_precision: 0.8074 - val_recall: 0.7928\n",
      "Epoch 20/30\n",
      "\u001b[1m58/78\u001b[0m \u001b[32m━━━━━━━━━━━━━━\u001b[0m\u001b[37m━━━━━━\u001b[0m \u001b[1m4s\u001b[0m 239ms/step - accuracy: 0.9401 - loss: 0.1754 - precision: 0.9470 - recall: 0.9371"
     ]
    },
    {
     "name": "stderr",
     "output_type": "stream",
     "text": [
      "Exception encountered while uploading Failed uploading object Intruder-Aircraft-Detection/tl_clf/ZOOM/z0.4-w01-30-2500-5-pure.1c283acb62564ce0bfa95f0c942bcdcb/artifacts/notebook preview/notebook_1c283acb62564ce0bfa95f0c942bcdcb.html (500): <!doctype html>\n",
      "<html lang=en>\n",
      "<title>500 Internal Server Error</title>\n",
      "<h1>Internal Server Error</h1>\n",
      "<p>The server encountered an internal error and was unable to complete your request. Either the server is overloaded or there is an error in the application.</p>\n",
      "\n"
     ]
    },
    {
     "name": "stdout",
     "output_type": "stream",
     "text": [
      "\u001b[1m78/78\u001b[0m \u001b[32m━━━━━━━━━━━━━━━━━━━━\u001b[0m\u001b[37m\u001b[0m \u001b[1m19s\u001b[0m 243ms/step - accuracy: 0.9383 - loss: 0.1786 - precision: 0.9452 - recall: 0.9350 - val_accuracy: 0.7706 - val_loss: 0.8980 - val_precision: 0.7719 - val_recall: 0.7626\n",
      "Epoch 21/30\n",
      "\u001b[1m78/78\u001b[0m \u001b[32m━━━━━━━━━━━━━━━━━━━━\u001b[0m\u001b[37m\u001b[0m \u001b[1m18s\u001b[0m 225ms/step - accuracy: 0.9269 - loss: 0.2091 - precision: 0.9285 - recall: 0.9222 - val_accuracy: 0.7948 - val_loss: 0.8832 - val_precision: 0.7972 - val_recall: 0.7907\n",
      "Epoch 22/30\n",
      "\u001b[1m78/78\u001b[0m \u001b[32m━━━━━━━━━━━━━━━━━━━━\u001b[0m\u001b[37m\u001b[0m \u001b[1m19s\u001b[0m 245ms/step - accuracy: 0.9296 - loss: 0.1754 - precision: 0.9366 - recall: 0.9265 - val_accuracy: 0.8149 - val_loss: 0.8207 - val_precision: 0.8230 - val_recall: 0.8048\n",
      "Epoch 23/30\n",
      "\u001b[1m 3/78\u001b[0m \u001b[37m━━━━━━━━━━━━━━━━━━━━\u001b[0m \u001b[1m20s\u001b[0m 275ms/step - accuracy: 0.9931 - loss: 0.0795 - precision: 0.9931 - recall: 0.9931"
     ]
    },
    {
     "name": "stderr",
     "output_type": "stream",
     "text": [
      "Exception encountered while uploading Failed uploading object Intruder-Aircraft-Detection/tl_clf/ZOOM/z0.4-w01-30-2500-5-pure.1c283acb62564ce0bfa95f0c942bcdcb/artifacts/notebook preview/notebook_1c283acb62564ce0bfa95f0c942bcdcb.html (500): <!doctype html>\n",
      "<html lang=en>\n",
      "<title>500 Internal Server Error</title>\n",
      "<h1>Internal Server Error</h1>\n",
      "<p>The server encountered an internal error and was unable to complete your request. Either the server is overloaded or there is an error in the application.</p>\n",
      "\n"
     ]
    },
    {
     "name": "stdout",
     "output_type": "stream",
     "text": [
      "\u001b[1m78/78\u001b[0m \u001b[32m━━━━━━━━━━━━━━━━━━━━\u001b[0m\u001b[37m\u001b[0m \u001b[1m18s\u001b[0m 222ms/step - accuracy: 0.9518 - loss: 0.1429 - precision: 0.9535 - recall: 0.9492 - val_accuracy: 0.8068 - val_loss: 0.8379 - val_precision: 0.8111 - val_recall: 0.7948\n",
      "Epoch 24/30\n",
      "\u001b[1m78/78\u001b[0m \u001b[32m━━━━━━━━━━━━━━━━━━━━\u001b[0m\u001b[37m\u001b[0m \u001b[1m19s\u001b[0m 235ms/step - accuracy: 0.9451 - loss: 0.1533 - precision: 0.9460 - recall: 0.9414 - val_accuracy: 0.7948 - val_loss: 0.8393 - val_precision: 0.8079 - val_recall: 0.7867\n",
      "Epoch 25/30\n",
      "\u001b[1m32/78\u001b[0m \u001b[32m━━━━━━━━\u001b[0m\u001b[37m━━━━━━━━━━━━\u001b[0m \u001b[1m10s\u001b[0m 235ms/step - accuracy: 0.9402 - loss: 0.1583 - precision: 0.9442 - recall: 0.9354"
     ]
    },
    {
     "name": "stderr",
     "output_type": "stream",
     "text": [
      "Exception encountered while uploading Failed uploading object Intruder-Aircraft-Detection/tl_clf/ZOOM/z0.4-w01-30-2500-5-pure.1c283acb62564ce0bfa95f0c942bcdcb/artifacts/notebook preview/notebook_1c283acb62564ce0bfa95f0c942bcdcb.html (500): <!doctype html>\n",
      "<html lang=en>\n",
      "<title>500 Internal Server Error</title>\n",
      "<h1>Internal Server Error</h1>\n",
      "<p>The server encountered an internal error and was unable to complete your request. Either the server is overloaded or there is an error in the application.</p>\n",
      "\n"
     ]
    },
    {
     "name": "stdout",
     "output_type": "stream",
     "text": [
      "\u001b[1m78/78\u001b[0m \u001b[32m━━━━━━━━━━━━━━━━━━━━\u001b[0m\u001b[37m\u001b[0m \u001b[1m18s\u001b[0m 228ms/step - accuracy: 0.9427 - loss: 0.1591 - precision: 0.9470 - recall: 0.9380 - val_accuracy: 0.8229 - val_loss: 0.8908 - val_precision: 0.8299 - val_recall: 0.8149\n",
      "Epoch 26/30\n",
      "\u001b[1m78/78\u001b[0m \u001b[32m━━━━━━━━━━━━━━━━━━━━\u001b[0m\u001b[37m\u001b[0m \u001b[1m18s\u001b[0m 223ms/step - accuracy: 0.9535 - loss: 0.1346 - precision: 0.9553 - recall: 0.9518 - val_accuracy: 0.8089 - val_loss: 0.8532 - val_precision: 0.8244 - val_recall: 0.8028\n",
      "Epoch 27/30\n",
      "\u001b[1m61/78\u001b[0m \u001b[32m━━━━━━━━━━━━━━━\u001b[0m\u001b[37m━━━━━\u001b[0m \u001b[1m4s\u001b[0m 238ms/step - accuracy: 0.9552 - loss: 0.1173 - precision: 0.9578 - recall: 0.9520"
     ]
    },
    {
     "name": "stderr",
     "output_type": "stream",
     "text": [
      "Exception encountered while uploading Failed uploading object Intruder-Aircraft-Detection/tl_clf/ZOOM/z0.4-w01-30-2500-5-pure.1c283acb62564ce0bfa95f0c942bcdcb/artifacts/notebook preview/notebook_1c283acb62564ce0bfa95f0c942bcdcb.html (500): <!doctype html>\n",
      "<html lang=en>\n",
      "<title>500 Internal Server Error</title>\n",
      "<h1>Internal Server Error</h1>\n",
      "<p>The server encountered an internal error and was unable to complete your request. Either the server is overloaded or there is an error in the application.</p>\n",
      "\n"
     ]
    },
    {
     "name": "stdout",
     "output_type": "stream",
     "text": [
      "\u001b[1m78/78\u001b[0m \u001b[32m━━━━━━━━━━━━━━━━━━━━\u001b[0m\u001b[37m\u001b[0m \u001b[1m19s\u001b[0m 243ms/step - accuracy: 0.9549 - loss: 0.1186 - precision: 0.9576 - recall: 0.9518 - val_accuracy: 0.8048 - val_loss: 1.0965 - val_precision: 0.8156 - val_recall: 0.8008\n",
      "Epoch 28/30\n",
      "\u001b[1m78/78\u001b[0m \u001b[32m━━━━━━━━━━━━━━━━━━━━\u001b[0m\u001b[37m\u001b[0m \u001b[1m18s\u001b[0m 223ms/step - accuracy: 0.9553 - loss: 0.1128 - precision: 0.9580 - recall: 0.9534 - val_accuracy: 0.8169 - val_loss: 1.0306 - val_precision: 0.8208 - val_recall: 0.8109\n",
      "Epoch 29/30\n",
      "\u001b[1m78/78\u001b[0m \u001b[32m━━━━━━━━━━━━━━━━━━━━\u001b[0m\u001b[37m\u001b[0m \u001b[1m19s\u001b[0m 240ms/step - accuracy: 0.9651 - loss: 0.1086 - precision: 0.9661 - recall: 0.9627 - val_accuracy: 0.8129 - val_loss: 1.0752 - val_precision: 0.8197 - val_recall: 0.8048\n",
      "Epoch 30/30\n",
      "\u001b[1m10/78\u001b[0m \u001b[32m━━\u001b[0m\u001b[37m━━━━━━━━━━━━━━━━━━\u001b[0m \u001b[1m16s\u001b[0m 238ms/step - accuracy: 0.9611 - loss: 0.0897 - precision: 0.9611 - recall: 0.9611"
     ]
    },
    {
     "name": "stderr",
     "output_type": "stream",
     "text": [
      "Exception encountered while uploading Failed uploading object Intruder-Aircraft-Detection/tl_clf/ZOOM/z0.4-w01-30-2500-5-pure.1c283acb62564ce0bfa95f0c942bcdcb/artifacts/notebook preview/notebook_1c283acb62564ce0bfa95f0c942bcdcb.html (500): <!doctype html>\n",
      "<html lang=en>\n",
      "<title>500 Internal Server Error</title>\n",
      "<h1>Internal Server Error</h1>\n",
      "<p>The server encountered an internal error and was unable to complete your request. Either the server is overloaded or there is an error in the application.</p>\n",
      "\n"
     ]
    },
    {
     "name": "stdout",
     "output_type": "stream",
     "text": [
      "\u001b[1m78/78\u001b[0m \u001b[32m━━━━━━━━━━━━━━━━━━━━\u001b[0m\u001b[37m\u001b[0m \u001b[1m18s\u001b[0m 227ms/step - accuracy: 0.9583 - loss: 0.1013 - precision: 0.9588 - recall: 0.9563 - val_accuracy: 0.8249 - val_loss: 1.0253 - val_precision: 0.8374 - val_recall: 0.8189\n",
      "Predicting on validation set...\n",
      "\u001b[1m16/16\u001b[0m \u001b[32m━━━━━━━━━━━━━━━━━━━━\u001b[0m\u001b[37m\u001b[0m \u001b[1m1s\u001b[0m 58ms/step\n",
      "Sending metrics to clearML...\n"
     ]
    },
    {
     "name": "stderr",
     "output_type": "stream",
     "text": [
      "Exception encountered while uploading Failed uploading object Intruder-Aircraft-Detection/tl_clf/ZOOM/z0.4-w01-30-2500-5-pure.1c283acb62564ce0bfa95f0c942bcdcb/artifacts/notebook preview/notebook_1c283acb62564ce0bfa95f0c942bcdcb.html (500): <!doctype html>\n",
      "<html lang=en>\n",
      "<title>500 Internal Server Error</title>\n",
      "<h1>Internal Server Error</h1>\n",
      "<p>The server encountered an internal error and was unable to complete your request. Either the server is overloaded or there is an error in the application.</p>\n",
      "\n"
     ]
    },
    {
     "name": "stdout",
     "output_type": "stream",
     "text": [
      "done\n",
      "ClearML Task: created new task id=a32a764b18f944ccb421f741bc735382\n",
      "ClearML results page: https://app.clear.ml/projects/7250e546d5324b5c8e520b84207c06f5/experiments/a32a764b18f944ccb421f741bc735382/output/log\n",
      "Training model...\n",
      "Epoch 1/30\n",
      "\u001b[1m 37/117\u001b[0m \u001b[32m━━━━━━\u001b[0m\u001b[37m━━━━━━━━━━━━━━\u001b[0m \u001b[1m20s\u001b[0m 258ms/step - accuracy: 0.3530 - loss: 2.0308 - precision: 0.3375 - recall: 0.1053"
     ]
    },
    {
     "name": "stderr",
     "output_type": "stream",
     "text": [
      "Exception encountered while uploading Failed uploading object Intruder-Aircraft-Detection/tl_clf/ZOOM/z0.4-w01-30-2500-5-aug.a32a764b18f944ccb421f741bc735382/artifacts/notebook preview/notebook_a32a764b18f944ccb421f741bc735382.html (500): <!doctype html>\n",
      "<html lang=en>\n",
      "<title>500 Internal Server Error</title>\n",
      "<h1>Internal Server Error</h1>\n",
      "<p>The server encountered an internal error and was unable to complete your request. Either the server is overloaded or there is an error in the application.</p>\n",
      "\n"
     ]
    },
    {
     "name": "stdout",
     "output_type": "stream",
     "text": [
      "\u001b[1m117/117\u001b[0m \u001b[32m━━━━━━━━━━━━━━━━━━━━\u001b[0m\u001b[37m\u001b[0m \u001b[1m31s\u001b[0m 246ms/step - accuracy: 0.3452 - loss: 1.5045 - precision: 0.3425 - recall: 0.0483 - val_accuracy: 0.3340 - val_loss: 1.0984 - val_precision: 0.0000e+00 - val_recall: 0.0000e+00\n",
      "Epoch 2/30\n",
      "\u001b[1m117/117\u001b[0m \u001b[32m━━━━━━━━━━━━━━━━━━━━\u001b[0m\u001b[37m\u001b[0m \u001b[1m27s\u001b[0m 232ms/step - accuracy: 0.3438 - loss: 1.0989 - precision: 0.0000e+00 - recall: 0.0000e+00 - val_accuracy: 0.4386 - val_loss: 1.0952 - val_precision: 0.0000e+00 - val_recall: 0.0000e+00\n",
      "Epoch 3/30\n",
      "\u001b[1m 10/117\u001b[0m \u001b[32m━\u001b[0m\u001b[37m━━━━━━━━━━━━━━━━━━━\u001b[0m \u001b[1m25s\u001b[0m 238ms/step - accuracy: 0.3963 - loss: 1.0985 - precision: 0.0000e+00 - recall: 0.0000e+00"
     ]
    },
    {
     "name": "stderr",
     "output_type": "stream",
     "text": [
      "Exception encountered while uploading Failed uploading object Intruder-Aircraft-Detection/tl_clf/ZOOM/z0.4-w01-30-2500-5-aug.a32a764b18f944ccb421f741bc735382/artifacts/notebook preview/notebook_a32a764b18f944ccb421f741bc735382.html (500): <!doctype html>\n",
      "<html lang=en>\n",
      "<title>500 Internal Server Error</title>\n",
      "<h1>Internal Server Error</h1>\n",
      "<p>The server encountered an internal error and was unable to complete your request. Either the server is overloaded or there is an error in the application.</p>\n",
      "\n"
     ]
    },
    {
     "name": "stdout",
     "output_type": "stream",
     "text": [
      "\u001b[1m117/117\u001b[0m \u001b[32m━━━━━━━━━━━━━━━━━━━━\u001b[0m\u001b[37m\u001b[0m \u001b[1m26s\u001b[0m 218ms/step - accuracy: 0.4016 - loss: 1.0830 - precision: 0.3468 - recall: 0.0261 - val_accuracy: 0.5734 - val_loss: 0.9518 - val_precision: 0.7119 - val_recall: 0.2535\n",
      "Epoch 4/30\n",
      "\u001b[1m 88/117\u001b[0m \u001b[32m━━━━━━━━━━━━━━━\u001b[0m\u001b[37m━━━━━\u001b[0m \u001b[1m6s\u001b[0m 230ms/step - accuracy: 0.5993 - loss: 0.8900 - precision: 0.6681 - recall: 0.3964"
     ]
    },
    {
     "name": "stderr",
     "output_type": "stream",
     "text": [
      "Exception encountered while uploading Failed uploading object Intruder-Aircraft-Detection/tl_clf/ZOOM/z0.4-w01-30-2500-5-aug.a32a764b18f944ccb421f741bc735382/artifacts/notebook preview/notebook_a32a764b18f944ccb421f741bc735382.html (500): <!doctype html>\n",
      "<html lang=en>\n",
      "<title>500 Internal Server Error</title>\n",
      "<h1>Internal Server Error</h1>\n",
      "<p>The server encountered an internal error and was unable to complete your request. Either the server is overloaded or there is an error in the application.</p>\n",
      "\n"
     ]
    },
    {
     "name": "stdout",
     "output_type": "stream",
     "text": [
      "\u001b[1m117/117\u001b[0m \u001b[32m━━━━━━━━━━━━━━━━━━━━\u001b[0m\u001b[37m\u001b[0m \u001b[1m28s\u001b[0m 233ms/step - accuracy: 0.6088 - loss: 0.8741 - precision: 0.6781 - recall: 0.4173 - val_accuracy: 0.7062 - val_loss: 0.6944 - val_precision: 0.7506 - val_recall: 0.6419\n",
      "Epoch 5/30\n",
      "\u001b[1m117/117\u001b[0m \u001b[32m━━━━━━━━━━━━━━━━━━━━\u001b[0m\u001b[37m\u001b[0m \u001b[1m26s\u001b[0m 223ms/step - accuracy: 0.7256 - loss: 0.6523 - precision: 0.7722 - recall: 0.6556 - val_accuracy: 0.7545 - val_loss: 0.6437 - val_precision: 0.7605 - val_recall: 0.7284\n",
      "Epoch 6/30\n",
      "\u001b[1m 41/117\u001b[0m \u001b[32m━━━━━━━\u001b[0m\u001b[37m━━━━━━━━━━━━━\u001b[0m \u001b[1m18s\u001b[0m 245ms/step - accuracy: 0.7983 - loss: 0.5443 - precision: 0.8309 - recall: 0.7729"
     ]
    },
    {
     "name": "stderr",
     "output_type": "stream",
     "text": [
      "Exception encountered while uploading Failed uploading object Intruder-Aircraft-Detection/tl_clf/ZOOM/z0.4-w01-30-2500-5-aug.a32a764b18f944ccb421f741bc735382/artifacts/notebook preview/notebook_a32a764b18f944ccb421f741bc735382.html (500): <!doctype html>\n",
      "<html lang=en>\n",
      "<title>500 Internal Server Error</title>\n",
      "<h1>Internal Server Error</h1>\n",
      "<p>The server encountered an internal error and was unable to complete your request. Either the server is overloaded or there is an error in the application.</p>\n",
      "\n"
     ]
    },
    {
     "name": "stdout",
     "output_type": "stream",
     "text": [
      "\u001b[1m117/117\u001b[0m \u001b[32m━━━━━━━━━━━━━━━━━━━━\u001b[0m\u001b[37m\u001b[0m \u001b[1m27s\u001b[0m 230ms/step - accuracy: 0.7988 - loss: 0.5245 - precision: 0.8320 - recall: 0.7639 - val_accuracy: 0.7666 - val_loss: 0.6374 - val_precision: 0.7832 - val_recall: 0.7485\n",
      "Epoch 7/30\n",
      "\u001b[1m115/117\u001b[0m \u001b[32m━━━━━━━━━━━━━━━━━━━\u001b[0m\u001b[37m━\u001b[0m \u001b[1m0s\u001b[0m 224ms/step - accuracy: 0.8337 - loss: 0.4324 - precision: 0.8492 - recall: 0.8039"
     ]
    },
    {
     "name": "stderr",
     "output_type": "stream",
     "text": [
      "Exception encountered while uploading Failed uploading object Intruder-Aircraft-Detection/tl_clf/ZOOM/z0.4-w01-30-2500-5-aug.a32a764b18f944ccb421f741bc735382/artifacts/notebook preview/notebook_a32a764b18f944ccb421f741bc735382.html (500): <!doctype html>\n",
      "<html lang=en>\n",
      "<title>500 Internal Server Error</title>\n",
      "<h1>Internal Server Error</h1>\n",
      "<p>The server encountered an internal error and was unable to complete your request. Either the server is overloaded or there is an error in the application.</p>\n",
      "\n"
     ]
    },
    {
     "name": "stdout",
     "output_type": "stream",
     "text": [
      "\u001b[1m117/117\u001b[0m \u001b[32m━━━━━━━━━━━━━━━━━━━━\u001b[0m\u001b[37m\u001b[0m \u001b[1m27s\u001b[0m 233ms/step - accuracy: 0.8339 - loss: 0.4316 - precision: 0.8495 - recall: 0.8043 - val_accuracy: 0.7767 - val_loss: 0.6344 - val_precision: 0.7888 - val_recall: 0.7666\n",
      "Epoch 8/30\n",
      "\u001b[1m117/117\u001b[0m \u001b[32m━━━━━━━━━━━━━━━━━━━━\u001b[0m\u001b[37m\u001b[0m \u001b[1m26s\u001b[0m 219ms/step - accuracy: 0.8488 - loss: 0.3987 - precision: 0.8713 - recall: 0.8229 - val_accuracy: 0.7847 - val_loss: 0.6171 - val_precision: 0.7935 - val_recall: 0.7807\n",
      "Epoch 9/30\n",
      "\u001b[1m117/117\u001b[0m \u001b[32m━━━━━━━━━━━━━━━━━━━━\u001b[0m\u001b[37m\u001b[0m \u001b[1m27s\u001b[0m 231ms/step - accuracy: 0.8904 - loss: 0.2887 - precision: 0.8988 - recall: 0.8819 - val_accuracy: 0.7948 - val_loss: 0.6659 - val_precision: 0.8012 - val_recall: 0.7787\n",
      "Epoch 10/30\n",
      "\u001b[1m117/117\u001b[0m \u001b[32m━━━━━━━━━━━━━━━━━━━━\u001b[0m\u001b[37m\u001b[0m \u001b[1m27s\u001b[0m 231ms/step - accuracy: 0.9132 - loss: 0.2464 - precision: 0.9238 - recall: 0.9053 - val_accuracy: 0.8008 - val_loss: 0.6636 - val_precision: 0.8154 - val_recall: 0.7907\n",
      "Epoch 11/30\n",
      "\u001b[1m117/117\u001b[0m \u001b[32m━━━━━━━━━━━━━━━━━━━━\u001b[0m\u001b[37m\u001b[0m \u001b[1m26s\u001b[0m 219ms/step - accuracy: 0.9334 - loss: 0.1961 - precision: 0.9401 - recall: 0.9271 - val_accuracy: 0.7928 - val_loss: 0.8840 - val_precision: 0.7996 - val_recall: 0.7867\n",
      "Epoch 12/30\n",
      "\u001b[1m117/117\u001b[0m \u001b[32m━━━━━━━━━━━━━━━━━━━━\u001b[0m\u001b[37m\u001b[0m \u001b[1m27s\u001b[0m 232ms/step - accuracy: 0.9279 - loss: 0.1972 - precision: 0.9320 - recall: 0.9236 - val_accuracy: 0.8270 - val_loss: 0.8193 - val_precision: 0.8300 - val_recall: 0.8249\n",
      "Epoch 13/30\n",
      "\u001b[1m117/117\u001b[0m \u001b[32m━━━━━━━━━━━━━━━━━━━━\u001b[0m\u001b[37m\u001b[0m \u001b[1m28s\u001b[0m 234ms/step - accuracy: 0.9434 - loss: 0.1516 - precision: 0.9461 - recall: 0.9402 - val_accuracy: 0.8310 - val_loss: 0.8557 - val_precision: 0.8340 - val_recall: 0.8189\n",
      "Epoch 14/30\n",
      "\u001b[1m117/117\u001b[0m \u001b[32m━━━━━━━━━━━━━━━━━━━━\u001b[0m\u001b[37m\u001b[0m \u001b[1m27s\u001b[0m 226ms/step - accuracy: 0.9476 - loss: 0.1486 - precision: 0.9500 - recall: 0.9454 - val_accuracy: 0.8350 - val_loss: 0.8196 - val_precision: 0.8394 - val_recall: 0.8310\n",
      "Epoch 15/30\n",
      "\u001b[1m117/117\u001b[0m \u001b[32m━━━━━━━━━━━━━━━━━━━━\u001b[0m\u001b[37m\u001b[0m \u001b[1m27s\u001b[0m 232ms/step - accuracy: 0.9595 - loss: 0.1109 - precision: 0.9620 - recall: 0.9585 - val_accuracy: 0.8330 - val_loss: 0.8406 - val_precision: 0.8408 - val_recall: 0.8290\n",
      "Epoch 16/30\n",
      "\u001b[1m117/117\u001b[0m \u001b[32m━━━━━━━━━━━━━━━━━━━━\u001b[0m\u001b[37m\u001b[0m \u001b[1m28s\u001b[0m 233ms/step - accuracy: 0.9547 - loss: 0.1300 - precision: 0.9583 - recall: 0.9520 - val_accuracy: 0.8390 - val_loss: 0.9084 - val_precision: 0.8384 - val_recall: 0.8350\n",
      "Epoch 17/30\n",
      "\u001b[1m117/117\u001b[0m \u001b[32m━━━━━━━━━━━━━━━━━━━━\u001b[0m\u001b[37m\u001b[0m \u001b[1m26s\u001b[0m 218ms/step - accuracy: 0.9708 - loss: 0.0869 - precision: 0.9726 - recall: 0.9698 - val_accuracy: 0.8431 - val_loss: 1.0448 - val_precision: 0.8448 - val_recall: 0.8431\n",
      "Epoch 18/30\n",
      "\u001b[1m117/117\u001b[0m \u001b[32m━━━━━━━━━━━━━━━━━━━━\u001b[0m\u001b[37m\u001b[0m \u001b[1m27s\u001b[0m 231ms/step - accuracy: 0.9747 - loss: 0.0713 - precision: 0.9752 - recall: 0.9731 - val_accuracy: 0.8390 - val_loss: 1.1577 - val_precision: 0.8401 - val_recall: 0.8350\n",
      "Epoch 19/30\n",
      "\u001b[1m117/117\u001b[0m \u001b[32m━━━━━━━━━━━━━━━━━━━━\u001b[0m\u001b[37m\u001b[0m \u001b[1m27s\u001b[0m 232ms/step - accuracy: 0.9751 - loss: 0.0743 - precision: 0.9770 - recall: 0.9734 - val_accuracy: 0.8350 - val_loss: 1.1816 - val_precision: 0.8381 - val_recall: 0.8330\n",
      "Epoch 20/30\n",
      "\u001b[1m117/117\u001b[0m \u001b[32m━━━━━━━━━━━━━━━━━━━━\u001b[0m\u001b[37m\u001b[0m \u001b[1m26s\u001b[0m 219ms/step - accuracy: 0.9705 - loss: 0.0765 - precision: 0.9716 - recall: 0.9697 - val_accuracy: 0.8370 - val_loss: 1.0613 - val_precision: 0.8364 - val_recall: 0.8330\n",
      "Epoch 21/30\n",
      "\u001b[1m117/117\u001b[0m \u001b[32m━━━━━━━━━━━━━━━━━━━━\u001b[0m\u001b[37m\u001b[0m \u001b[1m27s\u001b[0m 232ms/step - accuracy: 0.9757 - loss: 0.0730 - precision: 0.9784 - recall: 0.9750 - val_accuracy: 0.8390 - val_loss: 1.2196 - val_precision: 0.8404 - val_recall: 0.8370\n",
      "Epoch 22/30\n",
      "\u001b[1m117/117\u001b[0m \u001b[32m━━━━━━━━━━━━━━━━━━━━\u001b[0m\u001b[37m\u001b[0m \u001b[1m27s\u001b[0m 232ms/step - accuracy: 0.9836 - loss: 0.0462 - precision: 0.9837 - recall: 0.9834 - val_accuracy: 0.8350 - val_loss: 1.1134 - val_precision: 0.8364 - val_recall: 0.8330\n",
      "Epoch 23/30\n",
      "\u001b[1m117/117\u001b[0m \u001b[32m━━━━━━━━━━━━━━━━━━━━\u001b[0m\u001b[37m\u001b[0m \u001b[1m26s\u001b[0m 219ms/step - accuracy: 0.9835 - loss: 0.0487 - precision: 0.9840 - recall: 0.9834 - val_accuracy: 0.8451 - val_loss: 1.1060 - val_precision: 0.8462 - val_recall: 0.8410\n",
      "Epoch 24/30\n",
      "\u001b[1m117/117\u001b[0m \u001b[32m━━━━━━━━━━━━━━━━━━━━\u001b[0m\u001b[37m\u001b[0m \u001b[1m27s\u001b[0m 230ms/step - accuracy: 0.9851 - loss: 0.0418 - precision: 0.9855 - recall: 0.9850 - val_accuracy: 0.8410 - val_loss: 1.2582 - val_precision: 0.8449 - val_recall: 0.8330\n",
      "Epoch 25/30\n",
      "\u001b[1m117/117\u001b[0m \u001b[32m━━━━━━━━━━━━━━━━━━━━\u001b[0m\u001b[37m\u001b[0m \u001b[1m27s\u001b[0m 231ms/step - accuracy: 0.9827 - loss: 0.0481 - precision: 0.9831 - recall: 0.9821 - val_accuracy: 0.8451 - val_loss: 1.1222 - val_precision: 0.8465 - val_recall: 0.8431\n",
      "Epoch 26/30\n",
      "\u001b[1m117/117\u001b[0m \u001b[32m━━━━━━━━━━━━━━━━━━━━\u001b[0m\u001b[37m\u001b[0m \u001b[1m27s\u001b[0m 228ms/step - accuracy: 0.9841 - loss: 0.0470 - precision: 0.9848 - recall: 0.9827 - val_accuracy: 0.8511 - val_loss: 1.1101 - val_precision: 0.8508 - val_recall: 0.8491\n",
      "Epoch 27/30\n",
      "\u001b[1m117/117\u001b[0m \u001b[32m━━━━━━━━━━━━━━━━━━━━\u001b[0m\u001b[37m\u001b[0m \u001b[1m27s\u001b[0m 232ms/step - accuracy: 0.9786 - loss: 0.0602 - precision: 0.9789 - recall: 0.9784 - val_accuracy: 0.8410 - val_loss: 1.1895 - val_precision: 0.8441 - val_recall: 0.8390\n",
      "Epoch 28/30\n",
      "\u001b[1m117/117\u001b[0m \u001b[32m━━━━━━━━━━━━━━━━━━━━\u001b[0m\u001b[37m\u001b[0m \u001b[1m27s\u001b[0m 231ms/step - accuracy: 0.9930 - loss: 0.0285 - precision: 0.9934 - recall: 0.9929 - val_accuracy: 0.8551 - val_loss: 1.3013 - val_precision: 0.8551 - val_recall: 0.8551\n",
      "Epoch 29/30\n",
      "\u001b[1m117/117\u001b[0m \u001b[32m━━━━━━━━━━━━━━━━━━━━\u001b[0m\u001b[37m\u001b[0m \u001b[1m26s\u001b[0m 220ms/step - accuracy: 0.9828 - loss: 0.0480 - precision: 0.9836 - recall: 0.9821 - val_accuracy: 0.8511 - val_loss: 1.4043 - val_precision: 0.8545 - val_recall: 0.8511\n",
      "Epoch 30/30\n",
      "\u001b[1m117/117\u001b[0m \u001b[32m━━━━━━━━━━━━━━━━━━━━\u001b[0m\u001b[37m\u001b[0m \u001b[1m27s\u001b[0m 231ms/step - accuracy: 0.9904 - loss: 0.0304 - precision: 0.9907 - recall: 0.9894 - val_accuracy: 0.8471 - val_loss: 1.3097 - val_precision: 0.8488 - val_recall: 0.8471\n",
      "Predicting on validation set...\n",
      "\u001b[1m16/16\u001b[0m \u001b[32m━━━━━━━━━━━━━━━━━━━━\u001b[0m\u001b[37m\u001b[0m \u001b[1m1s\u001b[0m 57ms/step\n",
      "Sending metrics to clearML...\n",
      "done\n"
     ]
    }
   ],
   "source": [
    "# zoom 0.4\n",
    "task_name = 'z0.4'\n",
    "sub_project_name = 'ZOOM'\n",
    "\n",
    "augmentation_metadata = {\n",
    "        'methods': {        \n",
    "            'zoom': {\n",
    "                'parameters': {\n",
    "                    'zoom_factor': 0.4, # Maximum angle of rotation\n",
    "                },\n",
    "                'apply_to_percentage': 0.5  # 50% of the training images\n",
    "            }        \n",
    "        }\n",
    "    }\n",
    "\n",
    "for i in range(N):\n",
    "    RUN = i + 1\n",
    "    try:\n",
    "        print(f\"Starting RUN: {RUN}\")\n",
    "        main(RUN, augmentation_metadata, task_name, sub_project_name, epochs, train_size, w1, w2)\n",
    "    except Exception as e:\n",
    "        print(f\"Error in RUN: {RUN}\")\n",
    "        print(e)\n",
    "    finally:\n",
    "        clear_output(wait=True)  # Clear the output to avoid scrolling\n",
    "        gc.collect()  # Collect garbage to avoid memory leaks"
   ]
  },
  {
   "cell_type": "code",
   "execution_count": 9,
   "metadata": {},
   "outputs": [
    {
     "name": "stdout",
     "output_type": "stream",
     "text": [
      "Starting RUN: 5\n",
      "Seed:  1902393347\n"
     ]
    },
    {
     "name": "stderr",
     "output_type": "stream",
     "text": [
      "c:\\github\\Third-Year-Project\\Intruder-Aircraft-Detection\\main\\tl_clf.py:79: SettingWithCopyWarning:\n",
      "\n",
      "\n",
      "A value is trying to be set on a copy of a slice from a DataFrame.\n",
      "Try using .loc[row_indexer,col_indexer] = value instead\n",
      "\n",
      "See the caveats in the documentation: https://pandas.pydata.org/pandas-docs/stable/user_guide/indexing.html#returning-a-view-versus-a-copy\n",
      "\n",
      "c:\\github\\Third-Year-Project\\Intruder-Aircraft-Detection\\main\\tl_clf.py:80: SettingWithCopyWarning:\n",
      "\n",
      "\n",
      "A value is trying to be set on a copy of a slice from a DataFrame.\n",
      "Try using .loc[row_indexer,col_indexer] = value instead\n",
      "\n",
      "See the caveats in the documentation: https://pandas.pydata.org/pandas-docs/stable/user_guide/indexing.html#returning-a-view-versus-a-copy\n",
      "\n"
     ]
    },
    {
     "name": "stdout",
     "output_type": "stream",
     "text": [
      "Removing dataset if pre-existing\n",
      "Copying training files:\n"
     ]
    },
    {
     "name": "stderr",
     "output_type": "stream",
     "text": [
      "Copying files: 100%|██████████| 5000/5000 [00:03<00:00, 1505.54it/s]\n"
     ]
    },
    {
     "name": "stdout",
     "output_type": "stream",
     "text": [
      "Copying validation files:\n"
     ]
    },
    {
     "name": "stderr",
     "output_type": "stream",
     "text": [
      "Copying files: 100%|██████████| 1000/1000 [00:00<00:00, 1207.40it/s]\n"
     ]
    },
    {
     "name": "stdout",
     "output_type": "stream",
     "text": [
      "Dataset 'weather_01_2500' created at C:\\github\\Third-Year-Project\\Intruder-Aircraft-Detection\\datasets\\Custom\\weather_01_2500\n",
      "Processing train labels in weather_01_2500:\n"
     ]
    },
    {
     "name": "stderr",
     "output_type": "stream",
     "text": [
      "Processing labels: 100%|██████████| 2500/2500 [00:10<00:00, 243.01it/s]\n"
     ]
    },
    {
     "name": "stdout",
     "output_type": "stream",
     "text": [
      "Processing valid labels in weather_01_2500:\n"
     ]
    },
    {
     "name": "stderr",
     "output_type": "stream",
     "text": [
      "Processing labels: 100%|██████████| 500/500 [00:01<00:00, 272.77it/s]\n"
     ]
    },
    {
     "name": "stdout",
     "output_type": "stream",
     "text": [
      "Label correction completed.\n"
     ]
    },
    {
     "name": "stderr",
     "output_type": "stream",
     "text": [
      "Removing existing directories/files: 100%|██████████| 3/3 [00:00<00:00, 6029.19it/s]\n",
      "Copying files: 100%|██████████| 2500/2500 [00:02<00:00, 1183.14it/s]\n",
      "Copying files: 100%|██████████| 2500/2500 [00:01<00:00, 1485.03it/s]\n",
      "Applying augmentations: 100%|██████████| 1250/1250 [00:25<00:00, 48.13it/s]\n",
      "Processing images:  20%|██        | 509/2500 [00:20<01:02, 32.10it/s]"
     ]
    },
    {
     "name": "stdout",
     "output_type": "stream",
     "text": [
      "An error occurred with C:/github/Third-Year-Project/Intruder-Aircraft-Detection/datasets/Custom/weather_01_2500\\images\\train\\24022.jpg: Expected y_max for bbox (0.24655300000000002, 0.722105, 0.681787, 1.012261, 1) to be in the range [0.0, 1.0], got 1.012261.\n"
     ]
    },
    {
     "name": "stderr",
     "output_type": "stream",
     "text": [
      "Processing images:  21%|██        | 526/2500 [00:20<00:56, 34.87it/s]"
     ]
    },
    {
     "name": "stdout",
     "output_type": "stream",
     "text": [
      "An error occurred with C:/github/Third-Year-Project/Intruder-Aircraft-Detection/datasets/Custom/weather_01_2500\\images\\train\\24066.jpg: Expected x_min for bbox (-0.032714999999999994, -0.10783849999999998, 0.8482190000000001, 0.4794505, 1) to be in the range [0.0, 1.0], got -0.032714999999999994.\n"
     ]
    },
    {
     "name": "stderr",
     "output_type": "stream",
     "text": [
      "Processing images:  22%|██▏       | 550/2500 [00:21<00:56, 34.63it/s]"
     ]
    },
    {
     "name": "stdout",
     "output_type": "stream",
     "text": [
      "An error occurred with C:/github/Third-Year-Project/Intruder-Aircraft-Detection/datasets/Custom/weather_01_2500\\images\\train\\24104.jpg: Expected y_max for bbox (0.14731649999999996, 0.7641374999999999, 0.5491775, 1.0320445, 1) to be in the range [0.0, 1.0], got 1.0320445.\n"
     ]
    },
    {
     "name": "stderr",
     "output_type": "stream",
     "text": [
      "Processing images:  24%|██▍       | 598/2500 [00:22<00:57, 33.12it/s]"
     ]
    },
    {
     "name": "stdout",
     "output_type": "stream",
     "text": [
      "An error occurred with C:/github/Third-Year-Project/Intruder-Aircraft-Detection/datasets/Custom/weather_01_2500\\images\\train\\24202.jpg: Expected y_min for bbox (0.19744650000000002, -0.022690500000000002, 0.6507875000000001, 0.2795365, 1) to be in the range [0.0, 1.0], got -0.022690500000000002.\n"
     ]
    },
    {
     "name": "stderr",
     "output_type": "stream",
     "text": [
      "Processing images:  25%|██▌       | 631/2500 [00:23<00:53, 34.91it/s]"
     ]
    },
    {
     "name": "stdout",
     "output_type": "stream",
     "text": [
      "An error occurred with C:/github/Third-Year-Project/Intruder-Aircraft-Detection/datasets/Custom/weather_01_2500\\images\\train\\24273.jpg: Expected y_min for bbox (0.197711, -0.007085499999999981, 0.582121, 0.2491875, 1) to be in the range [0.0, 1.0], got -0.007085499999999981.\n"
     ]
    },
    {
     "name": "stderr",
     "output_type": "stream",
     "text": [
      "Processing images:  26%|██▋       | 659/2500 [00:24<00:54, 33.59it/s]"
     ]
    },
    {
     "name": "stdout",
     "output_type": "stream",
     "text": [
      "An error occurred with C:/github/Third-Year-Project/Intruder-Aircraft-Detection/datasets/Custom/weather_01_2500\\images\\train\\24335.jpg: Expected x_min for bbox (-0.016773999999999956, 0.047126500000000016, 0.52576, 0.4088155, 1) to be in the range [0.0, 1.0], got -0.016773999999999956.\n"
     ]
    },
    {
     "name": "stderr",
     "output_type": "stream",
     "text": [
      "Processing images:  28%|██▊       | 692/2500 [00:25<00:51, 35.40it/s]"
     ]
    },
    {
     "name": "stdout",
     "output_type": "stream",
     "text": [
      "An error occurred with C:/github/Third-Year-Project/Intruder-Aircraft-Detection/datasets/Custom/weather_01_2500\\images\\train\\24416.jpg: Expected y_max for bbox (0.554391, 0.738745, 0.9893209999999999, 1.028699, 1) to be in the range [0.0, 1.0], got 1.028699.\n"
     ]
    },
    {
     "name": "stderr",
     "output_type": "stream",
     "text": [
      "Processing images:  41%|████      | 1016/2500 [00:35<00:42, 34.65it/s]"
     ]
    },
    {
     "name": "stdout",
     "output_type": "stream",
     "text": [
      "An error occurred with C:/github/Third-Year-Project/Intruder-Aircraft-Detection/datasets/Custom/weather_01_2500\\images\\train\\25189.jpg: Expected y_max for bbox (0.17113399999999998, 0.7412034999999999, 0.601, 1.0277805, 1) to be in the range [0.0, 1.0], got 1.0277805.\n"
     ]
    },
    {
     "name": "stderr",
     "output_type": "stream",
     "text": [
      "Processing images:  44%|████▎     | 1093/2500 [00:38<00:39, 35.25it/s]"
     ]
    },
    {
     "name": "stdout",
     "output_type": "stream",
     "text": [
      "An error occurred with C:/github/Third-Year-Project/Intruder-Aircraft-Detection/datasets/Custom/weather_01_2500\\images\\train\\25365.jpg: Expected y_max for bbox (0.617381, 0.832845, 0.871829, 1.0024769999999998, 1) to be in the range [0.0, 1.0], got 1.0024769999999998.\n"
     ]
    },
    {
     "name": "stderr",
     "output_type": "stream",
     "text": [
      "Processing images:  50%|█████     | 1258/2500 [00:43<00:34, 36.31it/s]"
     ]
    },
    {
     "name": "stdout",
     "output_type": "stream",
     "text": [
      "An error occurred with C:/github/Third-Year-Project/Intruder-Aircraft-Detection/datasets/Custom/weather_01_2500\\images\\train\\25695.jpg: Expected x_max for bbox (0.3757315, 0.3660325, 1.0766624999999999, 0.8333195, 1) to be in the range [0.0, 1.0], got 1.0766624999999999.\n"
     ]
    },
    {
     "name": "stderr",
     "output_type": "stream",
     "text": [
      "Processing images:  60%|█████▉    | 1492/2500 [00:50<00:28, 35.81it/s]"
     ]
    },
    {
     "name": "stdout",
     "output_type": "stream",
     "text": [
      "An error occurred with C:/github/Third-Year-Project/Intruder-Aircraft-Detection/datasets/Custom/weather_01_2500\\images\\train\\48102.jpg: Expected y_max for bbox (0.0957615, 0.625385, 0.7186585000000001, 1.040649, 2) to be in the range [0.0, 1.0], got 1.040649.\n"
     ]
    },
    {
     "name": "stderr",
     "output_type": "stream",
     "text": [
      "Processing images:  61%|██████    | 1529/2500 [00:51<00:28, 33.82it/s]"
     ]
    },
    {
     "name": "stdout",
     "output_type": "stream",
     "text": [
      "An error occurred with C:/github/Third-Year-Project/Intruder-Aircraft-Detection/datasets/Custom/weather_01_2500\\images\\train\\48182.jpg: Expected x_max for bbox (0.45793449999999997, 0.39898000000000006, 1.0627735, 0.802206, 2) to be in the range [0.0, 1.0], got 1.0627735.\n"
     ]
    },
    {
     "name": "stderr",
     "output_type": "stream",
     "text": [
      "Processing images:  65%|██████▌   | 1634/2500 [00:54<00:24, 36.00it/s]"
     ]
    },
    {
     "name": "stdout",
     "output_type": "stream",
     "text": [
      "An error occurred with C:/github/Third-Year-Project/Intruder-Aircraft-Detection/datasets/Custom/weather_01_2500\\images\\train\\48405.jpg: Expected x_max for bbox (0.25508400000000003, 0.6339159999999999, 1.001982, 1.131848, 2) to be in the range [0.0, 1.0], got 1.001982.\n"
     ]
    },
    {
     "name": "stderr",
     "output_type": "stream",
     "text": [
      "Processing images:  67%|██████▋   | 1687/2500 [00:56<00:24, 32.74it/s]"
     ]
    },
    {
     "name": "stdout",
     "output_type": "stream",
     "text": [
      "An error occurred with C:/github/Third-Year-Project/Intruder-Aircraft-Detection/datasets/Custom/weather_01_2500\\images\\train\\48545.jpg: Expected x_max for bbox (0.139949, 0.11087449999999999, 1.0701450000000001, 0.7310055, 2) to be in the range [0.0, 1.0], got 1.0701450000000001.\n"
     ]
    },
    {
     "name": "stderr",
     "output_type": "stream",
     "text": [
      "Processing images:  73%|███████▎  | 1832/2500 [01:00<00:19, 34.33it/s]"
     ]
    },
    {
     "name": "stdout",
     "output_type": "stream",
     "text": [
      "An error occurred with C:/github/Third-Year-Project/Intruder-Aircraft-Detection/datasets/Custom/weather_01_2500\\images\\train\\48839.jpg: Expected y_max for bbox (0.07873799999999997, 0.6116285, 0.708052, 1.0311715000000001, 2) to be in the range [0.0, 1.0], got 1.0311715000000001.\n"
     ]
    },
    {
     "name": "stderr",
     "output_type": "stream",
     "text": [
      "Processing images:  75%|███████▍  | 1864/2500 [01:01<00:18, 34.95it/s]"
     ]
    },
    {
     "name": "stdout",
     "output_type": "stream",
     "text": [
      "An error occurred with C:/github/Third-Year-Project/Intruder-Aircraft-Detection/datasets/Custom/weather_01_2500\\images\\train\\48882.jpg: Expected y_min for bbox (0.0959025, -0.07905450000000001, 0.7032695, 0.3258565, 2) to be in the range [0.0, 1.0], got -0.07905450000000001.\n"
     ]
    },
    {
     "name": "stderr",
     "output_type": "stream",
     "text": [
      "Processing images:  76%|███████▌  | 1897/2500 [01:02<00:16, 35.60it/s]"
     ]
    },
    {
     "name": "stdout",
     "output_type": "stream",
     "text": [
      "An error occurred with C:/github/Third-Year-Project/Intruder-Aircraft-Detection/datasets/Custom/weather_01_2500\\images\\train\\49062.jpg: Expected y_min for bbox (0.028610999999999998, -0.0326805, 0.831313, 0.5024545, 2) to be in the range [0.0, 1.0], got -0.0326805.\n"
     ]
    },
    {
     "name": "stderr",
     "output_type": "stream",
     "text": [
      "Processing images:  77%|███████▋  | 1930/2500 [01:03<00:15, 36.85it/s]"
     ]
    },
    {
     "name": "stdout",
     "output_type": "stream",
     "text": [
      "An error occurred with C:/github/Third-Year-Project/Intruder-Aircraft-Detection/datasets/Custom/weather_01_2500\\images\\train\\49148.jpg: Expected y_min for bbox (0.006384999999999974, -0.030349999999999988, 0.652875, 0.400644, 2) to be in the range [0.0, 1.0], got -0.030349999999999988.\n"
     ]
    },
    {
     "name": "stderr",
     "output_type": "stream",
     "text": [
      "Processing images:  79%|███████▊  | 1967/2500 [01:04<00:14, 35.88it/s]"
     ]
    },
    {
     "name": "stdout",
     "output_type": "stream",
     "text": [
      "An error occurred with C:/github/Third-Year-Project/Intruder-Aircraft-Detection/datasets/Custom/weather_01_2500\\images\\train\\49219.jpg: Expected x_min for bbox (-0.11297200000000002, 0.2757265, 0.6323099999999999, 0.7725815, 2) to be in the range [0.0, 1.0], got -0.11297200000000002.\n"
     ]
    },
    {
     "name": "stderr",
     "output_type": "stream",
     "text": [
      "Processing images:  88%|████████▊ | 2208/2500 [01:11<00:08, 35.52it/s]"
     ]
    },
    {
     "name": "stdout",
     "output_type": "stream",
     "text": [
      "An error occurred with C:/github/Third-Year-Project/Intruder-Aircraft-Detection/datasets/Custom/weather_01_2500\\images\\train\\49729.jpg: Expected x_max for bbox (0.425531, 0.400972, 1.050599, 0.8176840000000001, 2) to be in the range [0.0, 1.0], got 1.050599.\n"
     ]
    },
    {
     "name": "stderr",
     "output_type": "stream",
     "text": [
      "Processing images:  95%|█████████▍| 2373/2500 [01:16<00:03, 34.88it/s]"
     ]
    },
    {
     "name": "stdout",
     "output_type": "stream",
     "text": [
      "An error occurred with C:/github/Third-Year-Project/Intruder-Aircraft-Detection/datasets/Custom/weather_01_2500\\images\\train\\671.jpg: Expected y_min for bbox (0.5048285, -0.00766349999999999, 0.8729035, 0.2377195, 0) to be in the range [0.0, 1.0], got -0.00766349999999999.\n"
     ]
    },
    {
     "name": "stderr",
     "output_type": "stream",
     "text": [
      "Processing images:  99%|█████████▉| 2485/2500 [01:19<00:00, 34.29it/s]"
     ]
    },
    {
     "name": "stdout",
     "output_type": "stream",
     "text": [
      "An error occurred with C:/github/Third-Year-Project/Intruder-Aircraft-Detection/datasets/Custom/weather_01_2500\\images\\train\\873.jpg: Expected y_max for bbox (0.45458450000000006, 0.7181775, 0.9206275, 1.0288725, 0) to be in the range [0.0, 1.0], got 1.0288725.\n"
     ]
    },
    {
     "name": "stderr",
     "output_type": "stream",
     "text": [
      "Processing images: 100%|██████████| 2500/2500 [01:19<00:00, 31.30it/s]\n",
      "Processing images:  20%|██        | 768/3750 [00:31<01:29, 33.41it/s]"
     ]
    },
    {
     "name": "stdout",
     "output_type": "stream",
     "text": [
      "An error occurred with C:/github/Third-Year-Project/Intruder-Aircraft-Detection/datasets/Custom/weather_01_2500\\images\\train-aug\\24022.jpg: Expected y_max for bbox (0.24655300000000002, 0.722105, 0.681787, 1.012261, 1) to be in the range [0.0, 1.0], got 1.012261.\n",
      "An error occurred with C:/github/Third-Year-Project/Intruder-Aircraft-Detection/datasets/Custom/weather_01_2500\\images\\train-aug\\24022-bnc.jpg: Expected y_max for bbox (0.24655300000000002, 0.722105, 0.681787, 1.012261, 1) to be in the range [0.0, 1.0], got 1.012261.\n"
     ]
    },
    {
     "name": "stderr",
     "output_type": "stream",
     "text": [
      "Processing images:  21%|██        | 790/3750 [00:32<01:20, 36.71it/s]"
     ]
    },
    {
     "name": "stdout",
     "output_type": "stream",
     "text": [
      "An error occurred with C:/github/Third-Year-Project/Intruder-Aircraft-Detection/datasets/Custom/weather_01_2500\\images\\train-aug\\24066-bnc.jpg: Expected x_min for bbox (-0.032714999999999994, -0.10783849999999998, 0.8482190000000001, 0.4794505, 1) to be in the range [0.0, 1.0], got -0.032714999999999994.\n",
      "An error occurred with C:/github/Third-Year-Project/Intruder-Aircraft-Detection/datasets/Custom/weather_01_2500\\images\\train-aug\\24066.jpg: Expected x_min for bbox (-0.032714999999999994, -0.10783849999999998, 0.8482190000000001, 0.4794505, 1) to be in the range [0.0, 1.0], got -0.032714999999999994.\n"
     ]
    },
    {
     "name": "stderr",
     "output_type": "stream",
     "text": [
      "Processing images:  22%|██▏       | 823/3750 [00:33<01:21, 36.03it/s]"
     ]
    },
    {
     "name": "stdout",
     "output_type": "stream",
     "text": [
      "An error occurred with C:/github/Third-Year-Project/Intruder-Aircraft-Detection/datasets/Custom/weather_01_2500\\images\\train-aug\\24104-bnc.jpg: Expected y_max for bbox (0.14731649999999996, 0.7641374999999999, 0.5491775, 1.0320445, 1) to be in the range [0.0, 1.0], got 1.0320445.\n",
      "An error occurred with C:/github/Third-Year-Project/Intruder-Aircraft-Detection/datasets/Custom/weather_01_2500\\images\\train-aug\\24104.jpg: Expected y_max for bbox (0.14731649999999996, 0.7641374999999999, 0.5491775, 1.0320445, 1) to be in the range [0.0, 1.0], got 1.0320445.\n"
     ]
    },
    {
     "name": "stderr",
     "output_type": "stream",
     "text": [
      "Processing images:  24%|██▍       | 897/3750 [00:35<01:17, 36.84it/s]"
     ]
    },
    {
     "name": "stdout",
     "output_type": "stream",
     "text": [
      "An error occurred with C:/github/Third-Year-Project/Intruder-Aircraft-Detection/datasets/Custom/weather_01_2500\\images\\train-aug\\24202.jpg: Expected y_min for bbox (0.19744650000000002, -0.022690500000000002, 0.6507875000000001, 0.2795365, 1) to be in the range [0.0, 1.0], got -0.022690500000000002.\n",
      "An error occurred with C:/github/Third-Year-Project/Intruder-Aircraft-Detection/datasets/Custom/weather_01_2500\\images\\train-aug\\24202-bnc.jpg: Expected y_min for bbox (0.19744650000000002, -0.022690500000000002, 0.6507875000000001, 0.2795365, 1) to be in the range [0.0, 1.0], got -0.022690500000000002.\n"
     ]
    },
    {
     "name": "stderr",
     "output_type": "stream",
     "text": [
      "Processing images:  25%|██▌       | 947/3750 [00:36<01:13, 38.26it/s]"
     ]
    },
    {
     "name": "stdout",
     "output_type": "stream",
     "text": [
      "An error occurred with C:/github/Third-Year-Project/Intruder-Aircraft-Detection/datasets/Custom/weather_01_2500\\images\\train-aug\\24273.jpg: Expected y_min for bbox (0.197711, -0.007085499999999981, 0.582121, 0.2491875, 1) to be in the range [0.0, 1.0], got -0.007085499999999981.\n",
      "An error occurred with C:/github/Third-Year-Project/Intruder-Aircraft-Detection/datasets/Custom/weather_01_2500\\images\\train-aug\\24273-bnc.jpg: Expected y_min for bbox (0.197711, -0.007085499999999981, 0.582121, 0.2491875, 1) to be in the range [0.0, 1.0], got -0.007085499999999981.\n"
     ]
    },
    {
     "name": "stderr",
     "output_type": "stream",
     "text": [
      "Processing images:  27%|██▋       | 996/3750 [00:38<01:20, 34.25it/s]"
     ]
    },
    {
     "name": "stdout",
     "output_type": "stream",
     "text": [
      "An error occurred with C:/github/Third-Year-Project/Intruder-Aircraft-Detection/datasets/Custom/weather_01_2500\\images\\train-aug\\24335.jpg: Expected x_min for bbox (-0.016773999999999956, 0.047126500000000016, 0.52576, 0.4088155, 1) to be in the range [0.0, 1.0], got -0.016773999999999956.\n",
      "An error occurred with C:/github/Third-Year-Project/Intruder-Aircraft-Detection/datasets/Custom/weather_01_2500\\images\\train-aug\\24335-bnc.jpg: Expected x_min for bbox (-0.016773999999999956, 0.047126500000000016, 0.52576, 0.4088155, 1) to be in the range [0.0, 1.0], got -0.016773999999999956.\n"
     ]
    },
    {
     "name": "stderr",
     "output_type": "stream",
     "text": [
      "Processing images:  28%|██▊       | 1050/3750 [00:39<01:20, 33.73it/s]"
     ]
    },
    {
     "name": "stdout",
     "output_type": "stream",
     "text": [
      "An error occurred with C:/github/Third-Year-Project/Intruder-Aircraft-Detection/datasets/Custom/weather_01_2500\\images\\train-aug\\24416.jpg: Expected y_max for bbox (0.554391, 0.738745, 0.9893209999999999, 1.028699, 1) to be in the range [0.0, 1.0], got 1.028699.\n"
     ]
    },
    {
     "name": "stderr",
     "output_type": "stream",
     "text": [
      "Processing images:  40%|████      | 1512/3750 [00:54<01:05, 34.42it/s]"
     ]
    },
    {
     "name": "stdout",
     "output_type": "stream",
     "text": [
      "An error occurred with C:/github/Third-Year-Project/Intruder-Aircraft-Detection/datasets/Custom/weather_01_2500\\images\\train-aug\\25189-bnc.jpg: Expected y_max for bbox (0.17113399999999998, 0.7412034999999999, 0.601, 1.0277805, 1) to be in the range [0.0, 1.0], got 1.0277805.\n",
      "An error occurred with C:/github/Third-Year-Project/Intruder-Aircraft-Detection/datasets/Custom/weather_01_2500\\images\\train-aug\\25189.jpg: Expected y_max for bbox (0.17113399999999998, 0.7412034999999999, 0.601, 1.0277805, 1) to be in the range [0.0, 1.0], got 1.0277805.\n"
     ]
    },
    {
     "name": "stderr",
     "output_type": "stream",
     "text": [
      "Processing images:  44%|████▍     | 1645/3750 [00:58<01:00, 34.70it/s]"
     ]
    },
    {
     "name": "stdout",
     "output_type": "stream",
     "text": [
      "An error occurred with C:/github/Third-Year-Project/Intruder-Aircraft-Detection/datasets/Custom/weather_01_2500\\images\\train-aug\\25365.jpg: Expected y_max for bbox (0.617381, 0.832845, 0.871829, 1.0024769999999998, 1) to be in the range [0.0, 1.0], got 1.0024769999999998.\n"
     ]
    },
    {
     "name": "stderr",
     "output_type": "stream",
     "text": [
      "Processing images:  50%|█████     | 1886/3750 [01:05<00:50, 36.85it/s]"
     ]
    },
    {
     "name": "stdout",
     "output_type": "stream",
     "text": [
      "An error occurred with C:/github/Third-Year-Project/Intruder-Aircraft-Detection/datasets/Custom/weather_01_2500\\images\\train-aug\\25695.jpg: Expected x_max for bbox (0.3757315, 0.3660325, 1.0766624999999999, 0.8333195, 1) to be in the range [0.0, 1.0], got 1.0766624999999999.\n"
     ]
    },
    {
     "name": "stderr",
     "output_type": "stream",
     "text": [
      "Processing images:  60%|█████▉    | 2236/3750 [01:16<00:39, 38.01it/s]"
     ]
    },
    {
     "name": "stdout",
     "output_type": "stream",
     "text": [
      "An error occurred with C:/github/Third-Year-Project/Intruder-Aircraft-Detection/datasets/Custom/weather_01_2500\\images\\train-aug\\48102.jpg: Expected y_max for bbox (0.0957615, 0.625385, 0.7186585000000001, 1.040649, 2) to be in the range [0.0, 1.0], got 1.040649.\n",
      "An error occurred with C:/github/Third-Year-Project/Intruder-Aircraft-Detection/datasets/Custom/weather_01_2500\\images\\train-aug\\48102-bnc.jpg: Expected y_max for bbox (0.0957615, 0.625385, 0.7186585000000001, 1.040649, 2) to be in the range [0.0, 1.0], got 1.040649.\n"
     ]
    },
    {
     "name": "stderr",
     "output_type": "stream",
     "text": [
      "Processing images:  61%|██████▏   | 2297/3750 [01:18<00:42, 33.81it/s]"
     ]
    },
    {
     "name": "stdout",
     "output_type": "stream",
     "text": [
      "An error occurred with C:/github/Third-Year-Project/Intruder-Aircraft-Detection/datasets/Custom/weather_01_2500\\images\\train-aug\\48182.jpg: Expected x_max for bbox (0.45793449999999997, 0.39898000000000006, 1.0627735, 0.802206, 2) to be in the range [0.0, 1.0], got 1.0627735.\n"
     ]
    },
    {
     "name": "stderr",
     "output_type": "stream",
     "text": [
      "Processing images:  65%|██████▌   | 2451/3750 [01:22<00:36, 35.92it/s]"
     ]
    },
    {
     "name": "stdout",
     "output_type": "stream",
     "text": [
      "An error occurred with C:/github/Third-Year-Project/Intruder-Aircraft-Detection/datasets/Custom/weather_01_2500\\images\\train-aug\\48405.jpg: Expected x_max for bbox (0.25508400000000003, 0.6339159999999999, 1.001982, 1.131848, 2) to be in the range [0.0, 1.0], got 1.001982.\n"
     ]
    },
    {
     "name": "stderr",
     "output_type": "stream",
     "text": [
      "Processing images:  68%|██████▊   | 2536/3750 [01:25<00:36, 32.94it/s]"
     ]
    },
    {
     "name": "stdout",
     "output_type": "stream",
     "text": [
      "An error occurred with C:/github/Third-Year-Project/Intruder-Aircraft-Detection/datasets/Custom/weather_01_2500\\images\\train-aug\\48545.jpg: Expected x_max for bbox (0.139949, 0.11087449999999999, 1.0701450000000001, 0.7310055, 2) to be in the range [0.0, 1.0], got 1.0701450000000001.\n"
     ]
    },
    {
     "name": "stderr",
     "output_type": "stream",
     "text": [
      "Processing images:  73%|███████▎  | 2756/3750 [01:32<00:32, 30.83it/s]"
     ]
    },
    {
     "name": "stdout",
     "output_type": "stream",
     "text": [
      "An error occurred with C:/github/Third-Year-Project/Intruder-Aircraft-Detection/datasets/Custom/weather_01_2500\\images\\train-aug\\48839.jpg: Expected y_max for bbox (0.07873799999999997, 0.6116285, 0.708052, 1.0311715000000001, 2) to be in the range [0.0, 1.0], got 1.0311715000000001.\n"
     ]
    },
    {
     "name": "stderr",
     "output_type": "stream",
     "text": [
      "Processing images:  74%|███████▍  | 2792/3750 [01:33<00:27, 34.58it/s]"
     ]
    },
    {
     "name": "stdout",
     "output_type": "stream",
     "text": [
      "An error occurred with C:/github/Third-Year-Project/Intruder-Aircraft-Detection/datasets/Custom/weather_01_2500\\images\\train-aug\\48882-bnc.jpg: Expected y_min for bbox (0.0959025, -0.07905450000000001, 0.7032695, 0.3258565, 2) to be in the range [0.0, 1.0], got -0.07905450000000001.\n",
      "An error occurred with C:/github/Third-Year-Project/Intruder-Aircraft-Detection/datasets/Custom/weather_01_2500\\images\\train-aug\\48882.jpg: Expected y_min for bbox (0.0959025, -0.07905450000000001, 0.7032695, 0.3258565, 2) to be in the range [0.0, 1.0], got -0.07905450000000001.\n"
     ]
    },
    {
     "name": "stderr",
     "output_type": "stream",
     "text": [
      "Processing images:  76%|███████▌  | 2845/3750 [01:34<00:23, 38.50it/s]"
     ]
    },
    {
     "name": "stdout",
     "output_type": "stream",
     "text": [
      "An error occurred with C:/github/Third-Year-Project/Intruder-Aircraft-Detection/datasets/Custom/weather_01_2500\\images\\train-aug\\49062.jpg: Expected y_min for bbox (0.028610999999999998, -0.0326805, 0.831313, 0.5024545, 2) to be in the range [0.0, 1.0], got -0.0326805.\n",
      "An error occurred with C:/github/Third-Year-Project/Intruder-Aircraft-Detection/datasets/Custom/weather_01_2500\\images\\train-aug\\49062-bnc.jpg: Expected y_min for bbox (0.028610999999999998, -0.0326805, 0.831313, 0.5024545, 2) to be in the range [0.0, 1.0], got -0.0326805.\n"
     ]
    },
    {
     "name": "stderr",
     "output_type": "stream",
     "text": [
      "Processing images:  77%|███████▋  | 2899/3750 [01:36<00:24, 34.36it/s]"
     ]
    },
    {
     "name": "stdout",
     "output_type": "stream",
     "text": [
      "An error occurred with C:/github/Third-Year-Project/Intruder-Aircraft-Detection/datasets/Custom/weather_01_2500\\images\\train-aug\\49148.jpg: Expected y_min for bbox (0.006384999999999974, -0.030349999999999988, 0.652875, 0.400644, 2) to be in the range [0.0, 1.0], got -0.030349999999999988.\n"
     ]
    },
    {
     "name": "stderr",
     "output_type": "stream",
     "text": [
      "Processing images:  79%|███████▉  | 2956/3750 [01:38<00:21, 36.16it/s]"
     ]
    },
    {
     "name": "stdout",
     "output_type": "stream",
     "text": [
      "An error occurred with C:/github/Third-Year-Project/Intruder-Aircraft-Detection/datasets/Custom/weather_01_2500\\images\\train-aug\\49219.jpg: Expected x_min for bbox (-0.11297200000000002, 0.2757265, 0.6323099999999999, 0.7725815, 2) to be in the range [0.0, 1.0], got -0.11297200000000002.\n"
     ]
    },
    {
     "name": "stderr",
     "output_type": "stream",
     "text": [
      "Processing images:  88%|████████▊ | 3305/3750 [01:48<00:11, 37.83it/s]"
     ]
    },
    {
     "name": "stdout",
     "output_type": "stream",
     "text": [
      "An error occurred with C:/github/Third-Year-Project/Intruder-Aircraft-Detection/datasets/Custom/weather_01_2500\\images\\train-aug\\49729.jpg: Expected x_max for bbox (0.425531, 0.400972, 1.050599, 0.8176840000000001, 2) to be in the range [0.0, 1.0], got 1.050599.\n"
     ]
    },
    {
     "name": "stderr",
     "output_type": "stream",
     "text": [
      "Processing images:  95%|█████████▍| 3559/3750 [01:55<00:05, 36.35it/s]"
     ]
    },
    {
     "name": "stdout",
     "output_type": "stream",
     "text": [
      "An error occurred with C:/github/Third-Year-Project/Intruder-Aircraft-Detection/datasets/Custom/weather_01_2500\\images\\train-aug\\671.jpg: Expected y_min for bbox (0.5048285, -0.00766349999999999, 0.8729035, 0.2377195, 0) to be in the range [0.0, 1.0], got -0.00766349999999999.\n"
     ]
    },
    {
     "name": "stderr",
     "output_type": "stream",
     "text": [
      "Processing images:  99%|█████████▉| 3720/3750 [02:00<00:00, 36.68it/s]"
     ]
    },
    {
     "name": "stdout",
     "output_type": "stream",
     "text": [
      "An error occurred with C:/github/Third-Year-Project/Intruder-Aircraft-Detection/datasets/Custom/weather_01_2500\\images\\train-aug\\873.jpg: Expected y_max for bbox (0.45458450000000006, 0.7181775, 0.9206275, 1.0288725, 0) to be in the range [0.0, 1.0], got 1.0288725.\n"
     ]
    },
    {
     "name": "stderr",
     "output_type": "stream",
     "text": [
      "Processing images: 100%|██████████| 3750/3750 [02:01<00:00, 30.89it/s]\n",
      "Processing images:  60%|██████    | 302/500 [00:10<00:05, 35.70it/s]"
     ]
    },
    {
     "name": "stdout",
     "output_type": "stream",
     "text": [
      "An error occurred with C:/github/Third-Year-Project/Intruder-Aircraft-Detection/datasets/Custom/weather_01_2500\\images\\valid\\48958.jpg: Expected y_min for bbox (0.11869149999999995, -0.083345, 1.0148305, 0.514081, 2) to be in the range [0.0, 1.0], got -0.083345.\n"
     ]
    },
    {
     "name": "stderr",
     "output_type": "stream",
     "text": [
      "Processing images:  63%|██████▎   | 314/500 [00:10<00:05, 34.32it/s]"
     ]
    },
    {
     "name": "stdout",
     "output_type": "stream",
     "text": [
      "An error occurred with C:/github/Third-Year-Project/Intruder-Aircraft-Detection/datasets/Custom/weather_01_2500\\images\\valid\\48967.jpg: Expected x_max for bbox (0.391763, 0.222879, 1.0974650000000001, 0.6933469999999999, 2) to be in the range [0.0, 1.0], got 1.0974650000000001.\n"
     ]
    },
    {
     "name": "stderr",
     "output_type": "stream",
     "text": [
      "Processing images:  76%|███████▋  | 382/500 [00:12<00:03, 33.94it/s]"
     ]
    },
    {
     "name": "stdout",
     "output_type": "stream",
     "text": [
      "An error occurred with C:/github/Third-Year-Project/Intruder-Aircraft-Detection/datasets/Custom/weather_01_2500\\images\\valid\\49956.jpg: Expected x_min for bbox (-0.11142649999999998, 0.37090300000000004, 0.7043905, 0.9147810000000001, 2) to be in the range [0.0, 1.0], got -0.11142649999999998.\n"
     ]
    },
    {
     "name": "stderr",
     "output_type": "stream",
     "text": [
      "Processing images: 100%|██████████| 500/500 [00:16<00:00, 30.87it/s]\n",
      "Moving images in train: 100%|██████████| 2478/2478 [00:09<00:00, 273.53it/s]\n",
      "Moving images in train-aug: 100%|██████████| 3718/3718 [00:10<00:00, 359.78it/s]\n",
      "Moving images in valid: 100%|██████████| 497/497 [00:01<00:00, 285.70it/s]\n"
     ]
    },
    {
     "name": "stdout",
     "output_type": "stream",
     "text": [
      "Found 2478 files belonging to 3 classes.\n",
      "Found 3718 files belonging to 3 classes.\n",
      "Found 497 files belonging to 3 classes.\n",
      "ClearML Task: created new task id=ae65b945245c473cb09e90a0dfb7f038\n",
      "ClearML results page: https://app.clear.ml/projects/48ca4ec2cdaa48e1875c7a67c9ee7b6c/experiments/ae65b945245c473cb09e90a0dfb7f038/output/log\n",
      "Training model...\n",
      "Epoch 1/30\n",
      "\u001b[1m78/78\u001b[0m \u001b[32m━━━━━━━━━━━━━━━━━━━━\u001b[0m\u001b[37m\u001b[0m \u001b[1m22s\u001b[0m 250ms/step - accuracy: 0.3014 - loss: 1.8269 - precision: 0.2170 - recall: 0.0402 - val_accuracy: 0.3300 - val_loss: 1.0986 - val_precision: 0.0000e+00 - val_recall: 0.0000e+00\n",
      "Epoch 2/30\n",
      "\u001b[1m78/78\u001b[0m \u001b[32m━━━━━━━━━━━━━━━━━━━━\u001b[0m\u001b[37m\u001b[0m \u001b[1m18s\u001b[0m 224ms/step - accuracy: 0.3253 - loss: 1.0986 - precision: 0.0000e+00 - recall: 0.0000e+00 - val_accuracy: 0.3561 - val_loss: 1.0981 - val_precision: 0.0000e+00 - val_recall: 0.0000e+00\n",
      "Epoch 3/30\n",
      "\u001b[1m78/78\u001b[0m \u001b[32m━━━━━━━━━━━━━━━━━━━━\u001b[0m\u001b[37m\u001b[0m \u001b[1m19s\u001b[0m 243ms/step - accuracy: 0.3506 - loss: 1.0986 - precision: 0.0000e+00 - recall: 0.0000e+00 - val_accuracy: 0.3340 - val_loss: 1.0982 - val_precision: 0.0000e+00 - val_recall: 0.0000e+00\n",
      "Epoch 4/30\n",
      "\u001b[1m78/78\u001b[0m \u001b[32m━━━━━━━━━━━━━━━━━━━━\u001b[0m\u001b[37m\u001b[0m \u001b[1m18s\u001b[0m 226ms/step - accuracy: 0.3794 - loss: 1.0940 - precision: 0.2959 - recall: 0.0092 - val_accuracy: 0.4849 - val_loss: 1.0527 - val_precision: 0.4545 - val_recall: 0.0201\n",
      "Epoch 5/30\n",
      "\u001b[1m78/78\u001b[0m \u001b[32m━━━━━━━━━━━━━━━━━━━━\u001b[0m\u001b[37m\u001b[0m \u001b[1m19s\u001b[0m 245ms/step - accuracy: 0.5650 - loss: 0.9911 - precision: 0.6375 - recall: 0.1775 - val_accuracy: 0.6781 - val_loss: 0.8164 - val_precision: 0.7460 - val_recall: 0.4728\n",
      "Epoch 6/30\n",
      "\u001b[1m78/78\u001b[0m \u001b[32m━━━━━━━━━━━━━━━━━━━━\u001b[0m\u001b[37m\u001b[0m \u001b[1m18s\u001b[0m 224ms/step - accuracy: 0.6744 - loss: 0.7979 - precision: 0.7372 - recall: 0.5019 - val_accuracy: 0.7404 - val_loss: 0.7119 - val_precision: 0.7778 - val_recall: 0.6197\n",
      "Epoch 7/30\n",
      "\u001b[1m78/78\u001b[0m \u001b[32m━━━━━━━━━━━━━━━━━━━━\u001b[0m\u001b[37m\u001b[0m \u001b[1m19s\u001b[0m 244ms/step - accuracy: 0.7399 - loss: 0.6398 - precision: 0.7847 - recall: 0.6635 - val_accuracy: 0.7525 - val_loss: 0.6775 - val_precision: 0.7874 - val_recall: 0.6781\n",
      "Epoch 8/30\n",
      "\u001b[1m78/78\u001b[0m \u001b[32m━━━━━━━━━━━━━━━━━━━━\u001b[0m\u001b[37m\u001b[0m \u001b[1m18s\u001b[0m 224ms/step - accuracy: 0.7718 - loss: 0.5422 - precision: 0.8043 - recall: 0.7179 - val_accuracy: 0.7646 - val_loss: 0.6466 - val_precision: 0.7759 - val_recall: 0.7243\n",
      "Epoch 9/30\n",
      "\u001b[1m78/78\u001b[0m \u001b[32m━━━━━━━━━━━━━━━━━━━━\u001b[0m\u001b[37m\u001b[0m \u001b[1m18s\u001b[0m 229ms/step - accuracy: 0.8013 - loss: 0.4777 - precision: 0.8179 - recall: 0.7716 - val_accuracy: 0.7565 - val_loss: 0.6601 - val_precision: 0.7756 - val_recall: 0.7304\n",
      "Epoch 10/30\n",
      "\u001b[1m78/78\u001b[0m \u001b[32m━━━━━━━━━━━━━━━━━━━━\u001b[0m\u001b[37m\u001b[0m \u001b[1m19s\u001b[0m 241ms/step - accuracy: 0.8266 - loss: 0.4288 - precision: 0.8454 - recall: 0.7998 - val_accuracy: 0.7767 - val_loss: 0.6312 - val_precision: 0.7895 - val_recall: 0.7545\n",
      "Epoch 11/30\n",
      "\u001b[1m78/78\u001b[0m \u001b[32m━━━━━━━━━━━━━━━━━━━━\u001b[0m\u001b[37m\u001b[0m \u001b[1m18s\u001b[0m 224ms/step - accuracy: 0.8451 - loss: 0.3603 - precision: 0.8655 - recall: 0.8299 - val_accuracy: 0.7787 - val_loss: 0.6144 - val_precision: 0.7899 - val_recall: 0.7565\n",
      "Epoch 12/30\n",
      "\u001b[1m78/78\u001b[0m \u001b[32m━━━━━━━━━━━━━━━━━━━━\u001b[0m\u001b[37m\u001b[0m \u001b[1m20s\u001b[0m 248ms/step - accuracy: 0.8674 - loss: 0.3323 - precision: 0.8795 - recall: 0.8564 - val_accuracy: 0.7907 - val_loss: 0.6432 - val_precision: 0.8062 - val_recall: 0.7787\n",
      "Epoch 13/30\n",
      "\u001b[1m78/78\u001b[0m \u001b[32m━━━━━━━━━━━━━━━━━━━━\u001b[0m\u001b[37m\u001b[0m \u001b[1m18s\u001b[0m 224ms/step - accuracy: 0.8972 - loss: 0.2822 - precision: 0.9069 - recall: 0.8878 - val_accuracy: 0.8109 - val_loss: 0.6065 - val_precision: 0.8174 - val_recall: 0.7928\n",
      "Epoch 14/30\n",
      "\u001b[1m78/78\u001b[0m \u001b[32m━━━━━━━━━━━━━━━━━━━━\u001b[0m\u001b[37m\u001b[0m \u001b[1m20s\u001b[0m 248ms/step - accuracy: 0.8981 - loss: 0.2577 - precision: 0.9089 - recall: 0.8859 - val_accuracy: 0.7988 - val_loss: 0.7045 - val_precision: 0.8024 - val_recall: 0.7928\n",
      "Epoch 15/30\n",
      "\u001b[1m78/78\u001b[0m \u001b[32m━━━━━━━━━━━━━━━━━━━━\u001b[0m\u001b[37m\u001b[0m \u001b[1m18s\u001b[0m 225ms/step - accuracy: 0.9164 - loss: 0.2179 - precision: 0.9253 - recall: 0.9125 - val_accuracy: 0.7928 - val_loss: 0.8169 - val_precision: 0.8000 - val_recall: 0.7887\n",
      "Epoch 16/30\n",
      "\u001b[1m78/78\u001b[0m \u001b[32m━━━━━━━━━━━━━━━━━━━━\u001b[0m\u001b[37m\u001b[0m \u001b[1m20s\u001b[0m 255ms/step - accuracy: 0.9208 - loss: 0.2042 - precision: 0.9312 - recall: 0.9194 - val_accuracy: 0.7887 - val_loss: 0.7207 - val_precision: 0.7988 - val_recall: 0.7746\n",
      "Epoch 17/30\n",
      "\u001b[1m78/78\u001b[0m \u001b[32m━━━━━━━━━━━━━━━━━━━━\u001b[0m\u001b[37m\u001b[0m \u001b[1m18s\u001b[0m 225ms/step - accuracy: 0.9237 - loss: 0.2033 - precision: 0.9322 - recall: 0.9161 - val_accuracy: 0.8169 - val_loss: 0.6997 - val_precision: 0.8218 - val_recall: 0.7887\n",
      "Epoch 18/30\n",
      "\u001b[1m78/78\u001b[0m \u001b[32m━━━━━━━━━━━━━━━━━━━━\u001b[0m\u001b[37m\u001b[0m \u001b[1m19s\u001b[0m 245ms/step - accuracy: 0.9253 - loss: 0.1925 - precision: 0.9308 - recall: 0.9204 - val_accuracy: 0.8410 - val_loss: 0.6779 - val_precision: 0.8495 - val_recall: 0.8290\n",
      "Epoch 19/30\n",
      "\u001b[1m78/78\u001b[0m \u001b[32m━━━━━━━━━━━━━━━━━━━━\u001b[0m\u001b[37m\u001b[0m \u001b[1m18s\u001b[0m 224ms/step - accuracy: 0.9453 - loss: 0.1521 - precision: 0.9489 - recall: 0.9394 - val_accuracy: 0.8410 - val_loss: 0.7195 - val_precision: 0.8457 - val_recall: 0.8270\n",
      "Epoch 20/30\n",
      "\u001b[1m78/78\u001b[0m \u001b[32m━━━━━━━━━━━━━━━━━━━━\u001b[0m\u001b[37m\u001b[0m \u001b[1m18s\u001b[0m 230ms/step - accuracy: 0.9486 - loss: 0.1401 - precision: 0.9517 - recall: 0.9438 - val_accuracy: 0.8370 - val_loss: 0.6133 - val_precision: 0.8436 - val_recall: 0.8249\n",
      "Epoch 21/30\n",
      "\u001b[1m78/78\u001b[0m \u001b[32m━━━━━━━━━━━━━━━━━━━━\u001b[0m\u001b[37m\u001b[0m \u001b[1m19s\u001b[0m 238ms/step - accuracy: 0.9404 - loss: 0.1569 - precision: 0.9428 - recall: 0.9374 - val_accuracy: 0.8410 - val_loss: 0.6417 - val_precision: 0.8474 - val_recall: 0.8270\n",
      "Epoch 22/30\n",
      "\u001b[1m78/78\u001b[0m \u001b[32m━━━━━━━━━━━━━━━━━━━━\u001b[0m\u001b[37m\u001b[0m \u001b[1m18s\u001b[0m 225ms/step - accuracy: 0.9548 - loss: 0.1228 - precision: 0.9576 - recall: 0.9519 - val_accuracy: 0.8270 - val_loss: 0.8745 - val_precision: 0.8323 - val_recall: 0.8189\n",
      "Epoch 23/30\n",
      "\u001b[1m78/78\u001b[0m \u001b[32m━━━━━━━━━━━━━━━━━━━━\u001b[0m\u001b[37m\u001b[0m \u001b[1m19s\u001b[0m 242ms/step - accuracy: 0.9625 - loss: 0.1094 - precision: 0.9666 - recall: 0.9588 - val_accuracy: 0.8370 - val_loss: 0.7475 - val_precision: 0.8418 - val_recall: 0.8350\n",
      "Epoch 24/30\n",
      "\u001b[1m78/78\u001b[0m \u001b[32m━━━━━━━━━━━━━━━━━━━━\u001b[0m\u001b[37m\u001b[0m \u001b[1m18s\u001b[0m 227ms/step - accuracy: 0.9622 - loss: 0.1079 - precision: 0.9639 - recall: 0.9612 - val_accuracy: 0.8350 - val_loss: 0.7653 - val_precision: 0.8411 - val_recall: 0.8310\n",
      "Epoch 25/30\n",
      "\u001b[1m78/78\u001b[0m \u001b[32m━━━━━━━━━━━━━━━━━━━━\u001b[0m\u001b[37m\u001b[0m \u001b[1m19s\u001b[0m 242ms/step - accuracy: 0.9612 - loss: 0.1008 - precision: 0.9621 - recall: 0.9600 - val_accuracy: 0.8350 - val_loss: 0.7546 - val_precision: 0.8435 - val_recall: 0.8350\n",
      "Epoch 26/30\n",
      "\u001b[1m78/78\u001b[0m \u001b[32m━━━━━━━━━━━━━━━━━━━━\u001b[0m\u001b[37m\u001b[0m \u001b[1m18s\u001b[0m 225ms/step - accuracy: 0.9682 - loss: 0.0922 - precision: 0.9689 - recall: 0.9670 - val_accuracy: 0.8290 - val_loss: 0.8689 - val_precision: 0.8350 - val_recall: 0.8249\n",
      "Epoch 27/30\n",
      "\u001b[1m78/78\u001b[0m \u001b[32m━━━━━━━━━━━━━━━━━━━━\u001b[0m\u001b[37m\u001b[0m \u001b[1m19s\u001b[0m 242ms/step - accuracy: 0.9563 - loss: 0.1147 - precision: 0.9573 - recall: 0.9531 - val_accuracy: 0.8048 - val_loss: 0.8732 - val_precision: 0.8169 - val_recall: 0.7988\n",
      "Epoch 28/30\n",
      "\u001b[1m78/78\u001b[0m \u001b[32m━━━━━━━━━━━━━━━━━━━━\u001b[0m\u001b[37m\u001b[0m \u001b[1m18s\u001b[0m 228ms/step - accuracy: 0.9672 - loss: 0.0924 - precision: 0.9691 - recall: 0.9653 - val_accuracy: 0.8350 - val_loss: 0.8728 - val_precision: 0.8418 - val_recall: 0.8350\n",
      "Epoch 29/30\n",
      "\u001b[1m78/78\u001b[0m \u001b[32m━━━━━━━━━━━━━━━━━━━━\u001b[0m\u001b[37m\u001b[0m \u001b[1m19s\u001b[0m 244ms/step - accuracy: 0.9695 - loss: 0.0770 - precision: 0.9694 - recall: 0.9670 - val_accuracy: 0.8451 - val_loss: 0.8412 - val_precision: 0.8465 - val_recall: 0.8431\n",
      "Epoch 30/30\n",
      "\u001b[1m78/78\u001b[0m \u001b[32m━━━━━━━━━━━━━━━━━━━━\u001b[0m\u001b[37m\u001b[0m \u001b[1m18s\u001b[0m 225ms/step - accuracy: 0.9724 - loss: 0.0763 - precision: 0.9742 - recall: 0.9710 - val_accuracy: 0.8350 - val_loss: 0.7131 - val_precision: 0.8377 - val_recall: 0.8310\n",
      "Predicting on validation set...\n",
      "\u001b[1m16/16\u001b[0m \u001b[32m━━━━━━━━━━━━━━━━━━━━\u001b[0m\u001b[37m\u001b[0m \u001b[1m1s\u001b[0m 53ms/step\n",
      "Sending metrics to clearML...\n",
      "done\n",
      "ClearML Task: created new task id=5812d95c56074222b6859e6972173ad5\n",
      "ClearML results page: https://app.clear.ml/projects/48ca4ec2cdaa48e1875c7a67c9ee7b6c/experiments/5812d95c56074222b6859e6972173ad5/output/log\n",
      "Training model...\n",
      "Epoch 1/30\n",
      "\u001b[1m117/117\u001b[0m \u001b[32m━━━━━━━━━━━━━━━━━━━━\u001b[0m\u001b[37m\u001b[0m \u001b[1m31s\u001b[0m 242ms/step - accuracy: 0.3354 - loss: 1.2431 - precision: 0.3318 - recall: 0.0451 - val_accuracy: 0.3300 - val_loss: 1.0987 - val_precision: 0.0000e+00 - val_recall: 0.0000e+00\n",
      "Epoch 2/30\n",
      "\u001b[1m117/117\u001b[0m \u001b[32m━━━━━━━━━━━━━━━━━━━━\u001b[0m\u001b[37m\u001b[0m \u001b[1m28s\u001b[0m 233ms/step - accuracy: 0.3342 - loss: 1.0993 - precision: 0.0000e+00 - recall: 0.0000e+00 - val_accuracy: 0.4990 - val_loss: 1.0915 - val_precision: 0.0000e+00 - val_recall: 0.0000e+00\n",
      "Epoch 3/30\n",
      "\u001b[1m117/117\u001b[0m \u001b[32m━━━━━━━━━━━━━━━━━━━━\u001b[0m\u001b[37m\u001b[0m \u001b[1m26s\u001b[0m 221ms/step - accuracy: 0.5017 - loss: 1.0477 - precision: 0.5572 - recall: 0.0902 - val_accuracy: 0.6680 - val_loss: 0.7661 - val_precision: 0.7299 - val_recall: 0.5654\n",
      "Epoch 4/30\n",
      "\u001b[1m117/117\u001b[0m \u001b[32m━━━━━━━━━━━━━━━━━━━━\u001b[0m\u001b[37m\u001b[0m \u001b[1m27s\u001b[0m 233ms/step - accuracy: 0.6863 - loss: 0.7266 - precision: 0.7555 - recall: 0.5755 - val_accuracy: 0.7002 - val_loss: 0.7723 - val_precision: 0.7282 - val_recall: 0.6901\n",
      "Epoch 5/30\n",
      "\u001b[1m117/117\u001b[0m \u001b[32m━━━━━━━━━━━━━━━━━━━━\u001b[0m\u001b[37m\u001b[0m \u001b[1m28s\u001b[0m 233ms/step - accuracy: 0.7698 - loss: 0.5562 - precision: 0.8042 - recall: 0.7249 - val_accuracy: 0.7586 - val_loss: 0.7070 - val_precision: 0.7591 - val_recall: 0.7545\n",
      "Epoch 6/30\n",
      "\u001b[1m117/117\u001b[0m \u001b[32m━━━━━━━━━━━━━━━━━━━━\u001b[0m\u001b[37m\u001b[0m \u001b[1m26s\u001b[0m 221ms/step - accuracy: 0.8070 - loss: 0.4917 - precision: 0.8301 - recall: 0.7589 - val_accuracy: 0.7746 - val_loss: 0.7013 - val_precision: 0.7800 - val_recall: 0.7706\n",
      "Epoch 7/30\n",
      "\u001b[1m117/117\u001b[0m \u001b[32m━━━━━━━━━━━━━━━━━━━━\u001b[0m\u001b[37m\u001b[0m \u001b[1m28s\u001b[0m 234ms/step - accuracy: 0.8447 - loss: 0.4002 - precision: 0.8602 - recall: 0.8298 - val_accuracy: 0.7807 - val_loss: 0.7684 - val_precision: 0.7873 - val_recall: 0.7746\n",
      "Epoch 8/30\n",
      "\u001b[1m117/117\u001b[0m \u001b[32m━━━━━━━━━━━━━━━━━━━━\u001b[0m\u001b[37m\u001b[0m \u001b[1m28s\u001b[0m 235ms/step - accuracy: 0.8670 - loss: 0.3642 - precision: 0.8822 - recall: 0.8471 - val_accuracy: 0.8129 - val_loss: 0.7534 - val_precision: 0.8184 - val_recall: 0.8068\n",
      "Epoch 9/30\n",
      "\u001b[1m117/117\u001b[0m \u001b[32m━━━━━━━━━━━━━━━━━━━━\u001b[0m\u001b[37m\u001b[0m \u001b[1m26s\u001b[0m 222ms/step - accuracy: 0.8947 - loss: 0.2984 - precision: 0.9035 - recall: 0.8835 - val_accuracy: 0.7726 - val_loss: 0.7199 - val_precision: 0.7831 - val_recall: 0.7626\n",
      "Epoch 10/30\n",
      "\u001b[1m117/117\u001b[0m \u001b[32m━━━━━━━━━━━━━━━━━━━━\u001b[0m\u001b[37m\u001b[0m \u001b[1m28s\u001b[0m 234ms/step - accuracy: 0.8987 - loss: 0.2750 - precision: 0.9050 - recall: 0.8893 - val_accuracy: 0.8129 - val_loss: 0.8725 - val_precision: 0.8167 - val_recall: 0.8068\n",
      "Epoch 11/30\n",
      "\u001b[1m117/117\u001b[0m \u001b[32m━━━━━━━━━━━━━━━━━━━━\u001b[0m\u001b[37m\u001b[0m \u001b[1m28s\u001b[0m 241ms/step - accuracy: 0.9070 - loss: 0.2490 - precision: 0.9137 - recall: 0.8992 - val_accuracy: 0.8048 - val_loss: 0.7920 - val_precision: 0.8122 - val_recall: 0.8008\n",
      "Epoch 12/30\n",
      "\u001b[1m117/117\u001b[0m \u001b[32m━━━━━━━━━━━━━━━━━━━━\u001b[0m\u001b[37m\u001b[0m \u001b[1m26s\u001b[0m 221ms/step - accuracy: 0.9261 - loss: 0.2080 - precision: 0.9329 - recall: 0.9200 - val_accuracy: 0.8129 - val_loss: 0.7990 - val_precision: 0.8162 - val_recall: 0.8129\n",
      "Epoch 13/30\n",
      "\u001b[1m117/117\u001b[0m \u001b[32m━━━━━━━━━━━━━━━━━━━━\u001b[0m\u001b[37m\u001b[0m \u001b[1m28s\u001b[0m 233ms/step - accuracy: 0.9348 - loss: 0.1831 - precision: 0.9408 - recall: 0.9288 - val_accuracy: 0.8089 - val_loss: 1.0251 - val_precision: 0.8130 - val_recall: 0.8048\n",
      "Epoch 14/30\n",
      "\u001b[1m117/117\u001b[0m \u001b[32m━━━━━━━━━━━━━━━━━━━━\u001b[0m\u001b[37m\u001b[0m \u001b[1m28s\u001b[0m 235ms/step - accuracy: 0.9389 - loss: 0.1747 - precision: 0.9455 - recall: 0.9350 - val_accuracy: 0.8028 - val_loss: 0.9559 - val_precision: 0.8077 - val_recall: 0.8028\n",
      "Epoch 15/30\n",
      "\u001b[1m117/117\u001b[0m \u001b[32m━━━━━━━━━━━━━━━━━━━━\u001b[0m\u001b[37m\u001b[0m \u001b[1m26s\u001b[0m 222ms/step - accuracy: 0.9419 - loss: 0.1532 - precision: 0.9479 - recall: 0.9396 - val_accuracy: 0.7988 - val_loss: 0.9922 - val_precision: 0.7996 - val_recall: 0.7948\n",
      "Epoch 16/30\n",
      "\u001b[1m117/117\u001b[0m \u001b[32m━━━━━━━━━━━━━━━━━━━━\u001b[0m\u001b[37m\u001b[0m \u001b[1m28s\u001b[0m 234ms/step - accuracy: 0.9321 - loss: 0.1699 - precision: 0.9388 - recall: 0.9293 - val_accuracy: 0.8209 - val_loss: 1.0117 - val_precision: 0.8259 - val_recall: 0.8209\n",
      "Epoch 17/30\n",
      "\u001b[1m117/117\u001b[0m \u001b[32m━━━━━━━━━━━━━━━━━━━━\u001b[0m\u001b[37m\u001b[0m \u001b[1m28s\u001b[0m 234ms/step - accuracy: 0.9550 - loss: 0.1290 - precision: 0.9593 - recall: 0.9507 - val_accuracy: 0.8189 - val_loss: 1.2669 - val_precision: 0.8219 - val_recall: 0.8169\n",
      "Epoch 18/30\n",
      "\u001b[1m117/117\u001b[0m \u001b[32m━━━━━━━━━━━━━━━━━━━━\u001b[0m\u001b[37m\u001b[0m \u001b[1m26s\u001b[0m 221ms/step - accuracy: 0.9580 - loss: 0.1298 - precision: 0.9604 - recall: 0.9550 - val_accuracy: 0.8149 - val_loss: 1.1192 - val_precision: 0.8178 - val_recall: 0.8129\n",
      "Epoch 19/30\n",
      "\u001b[1m117/117\u001b[0m \u001b[32m━━━━━━━━━━━━━━━━━━━━\u001b[0m\u001b[37m\u001b[0m \u001b[1m28s\u001b[0m 233ms/step - accuracy: 0.9608 - loss: 0.1171 - precision: 0.9628 - recall: 0.9558 - val_accuracy: 0.8169 - val_loss: 1.2034 - val_precision: 0.8169 - val_recall: 0.8169\n",
      "Epoch 20/30\n",
      "\u001b[1m117/117\u001b[0m \u001b[32m━━━━━━━━━━━━━━━━━━━━\u001b[0m\u001b[37m\u001b[0m \u001b[1m28s\u001b[0m 237ms/step - accuracy: 0.9677 - loss: 0.0914 - precision: 0.9681 - recall: 0.9652 - val_accuracy: 0.8109 - val_loss: 1.2032 - val_precision: 0.8114 - val_recall: 0.8048\n",
      "Epoch 21/30\n",
      "\u001b[1m117/117\u001b[0m \u001b[32m━━━━━━━━━━━━━━━━━━━━\u001b[0m\u001b[37m\u001b[0m \u001b[1m26s\u001b[0m 224ms/step - accuracy: 0.9712 - loss: 0.0848 - precision: 0.9735 - recall: 0.9674 - val_accuracy: 0.8270 - val_loss: 1.2086 - val_precision: 0.8276 - val_recall: 0.8209\n",
      "Epoch 22/30\n",
      "\u001b[1m117/117\u001b[0m \u001b[32m━━━━━━━━━━━━━━━━━━━━\u001b[0m\u001b[37m\u001b[0m \u001b[1m28s\u001b[0m 233ms/step - accuracy: 0.9680 - loss: 0.0870 - precision: 0.9705 - recall: 0.9643 - val_accuracy: 0.8350 - val_loss: 1.2742 - val_precision: 0.8384 - val_recall: 0.8350\n",
      "Epoch 23/30\n",
      "\u001b[1m117/117\u001b[0m \u001b[32m━━━━━━━━━━━━━━━━━━━━\u001b[0m\u001b[37m\u001b[0m \u001b[1m27s\u001b[0m 232ms/step - accuracy: 0.9729 - loss: 0.0743 - precision: 0.9748 - recall: 0.9718 - val_accuracy: 0.8229 - val_loss: 1.3326 - val_precision: 0.8289 - val_recall: 0.8189\n",
      "Epoch 24/30\n",
      "\u001b[1m117/117\u001b[0m \u001b[32m━━━━━━━━━━━━━━━━━━━━\u001b[0m\u001b[37m\u001b[0m \u001b[1m26s\u001b[0m 220ms/step - accuracy: 0.9689 - loss: 0.0800 - precision: 0.9700 - recall: 0.9663 - val_accuracy: 0.8189 - val_loss: 1.3987 - val_precision: 0.8189 - val_recall: 0.8189\n",
      "Epoch 25/30\n",
      "\u001b[1m117/117\u001b[0m \u001b[32m━━━━━━━━━━━━━━━━━━━━\u001b[0m\u001b[37m\u001b[0m \u001b[1m28s\u001b[0m 241ms/step - accuracy: 0.9801 - loss: 0.0617 - precision: 0.9811 - recall: 0.9791 - val_accuracy: 0.8068 - val_loss: 1.2950 - val_precision: 0.8101 - val_recall: 0.8068\n",
      "Epoch 26/30\n",
      "\u001b[1m117/117\u001b[0m \u001b[32m━━━━━━━━━━━━━━━━━━━━\u001b[0m\u001b[37m\u001b[0m \u001b[1m28s\u001b[0m 234ms/step - accuracy: 0.9827 - loss: 0.0503 - precision: 0.9842 - recall: 0.9822 - val_accuracy: 0.8310 - val_loss: 1.3714 - val_precision: 0.8316 - val_recall: 0.8249\n",
      "Epoch 27/30\n",
      "\u001b[1m117/117\u001b[0m \u001b[32m━━━━━━━━━━━━━━━━━━━━\u001b[0m\u001b[37m\u001b[0m \u001b[1m26s\u001b[0m 220ms/step - accuracy: 0.9846 - loss: 0.0554 - precision: 0.9848 - recall: 0.9834 - val_accuracy: 0.8310 - val_loss: 1.3863 - val_precision: 0.8310 - val_recall: 0.8310\n",
      "Epoch 28/30\n",
      "\u001b[1m117/117\u001b[0m \u001b[32m━━━━━━━━━━━━━━━━━━━━\u001b[0m\u001b[37m\u001b[0m \u001b[1m28s\u001b[0m 235ms/step - accuracy: 0.9781 - loss: 0.0498 - precision: 0.9787 - recall: 0.9774 - val_accuracy: 0.8330 - val_loss: 1.3040 - val_precision: 0.8364 - val_recall: 0.8330\n",
      "Epoch 29/30\n",
      "\u001b[1m117/117\u001b[0m \u001b[32m━━━━━━━━━━━━━━━━━━━━\u001b[0m\u001b[37m\u001b[0m \u001b[1m28s\u001b[0m 235ms/step - accuracy: 0.9851 - loss: 0.0465 - precision: 0.9857 - recall: 0.9849 - val_accuracy: 0.8370 - val_loss: 1.3018 - val_precision: 0.8370 - val_recall: 0.8370\n",
      "Epoch 30/30\n",
      "\u001b[1m117/117\u001b[0m \u001b[32m━━━━━━━━━━━━━━━━━━━━\u001b[0m\u001b[37m\u001b[0m \u001b[1m26s\u001b[0m 220ms/step - accuracy: 0.9846 - loss: 0.0432 - precision: 0.9860 - recall: 0.9837 - val_accuracy: 0.8410 - val_loss: 1.3745 - val_precision: 0.8407 - val_recall: 0.8390\n",
      "Predicting on validation set...\n",
      "\u001b[1m16/16\u001b[0m \u001b[32m━━━━━━━━━━━━━━━━━━━━\u001b[0m\u001b[37m\u001b[0m \u001b[1m2s\u001b[0m 81ms/step\n",
      "Sending metrics to clearML...\n",
      "done\n"
     ]
    }
   ],
   "source": [
    "# contrast 0.5\n",
    "task_name = 'c0.5'\n",
    "sub_project_name = 'CONTRAST'\n",
    "\n",
    "augmentation_metadata = {\n",
    "    'methods': {        \n",
    "        'bnc': {\n",
    "            'parameters': {\n",
    "                'alpha': 0.5,\n",
    "                'beta': 0\n",
    "            },\n",
    "            'apply_to_percentage': 0.5  # 50% of the training images\n",
    "        }        \n",
    "    }\n",
    "}\n",
    "\n",
    "for i in range(N):\n",
    "    RUN = i + 1\n",
    "    try:\n",
    "        print(f\"Starting RUN: {RUN}\")\n",
    "        main(RUN, augmentation_metadata, task_name, sub_project_name, epochs, train_size, w1, w2)\n",
    "    except Exception as e:\n",
    "        print(f\"Error in RUN: {RUN}\")\n",
    "        print(e)\n",
    "    finally:\n",
    "        clear_output(wait=True)  # Clear the output to avoid scrolling\n",
    "        gc.collect()  # Collect garbage to avoid memory leaks"
   ]
  },
  {
   "cell_type": "markdown",
   "metadata": {},
   "source": [
    "# Weather Conditions 2"
   ]
  },
  {
   "cell_type": "code",
   "execution_count": 10,
   "metadata": {},
   "outputs": [],
   "source": [
    "w1 = 2\n",
    "w2 = 3"
   ]
  },
  {
   "cell_type": "code",
   "execution_count": 11,
   "metadata": {},
   "outputs": [
    {
     "name": "stdout",
     "output_type": "stream",
     "text": [
      "Starting RUN: 5\n",
      "Seed:  1911017941\n"
     ]
    },
    {
     "name": "stderr",
     "output_type": "stream",
     "text": [
      "c:\\github\\Third-Year-Project\\Intruder-Aircraft-Detection\\main\\tl_clf.py:79: SettingWithCopyWarning:\n",
      "\n",
      "\n",
      "A value is trying to be set on a copy of a slice from a DataFrame.\n",
      "Try using .loc[row_indexer,col_indexer] = value instead\n",
      "\n",
      "See the caveats in the documentation: https://pandas.pydata.org/pandas-docs/stable/user_guide/indexing.html#returning-a-view-versus-a-copy\n",
      "\n",
      "c:\\github\\Third-Year-Project\\Intruder-Aircraft-Detection\\main\\tl_clf.py:80: SettingWithCopyWarning:\n",
      "\n",
      "\n",
      "A value is trying to be set on a copy of a slice from a DataFrame.\n",
      "Try using .loc[row_indexer,col_indexer] = value instead\n",
      "\n",
      "See the caveats in the documentation: https://pandas.pydata.org/pandas-docs/stable/user_guide/indexing.html#returning-a-view-versus-a-copy\n",
      "\n"
     ]
    },
    {
     "name": "stdout",
     "output_type": "stream",
     "text": [
      "Removing dataset if pre-existing\n",
      "Copying training files:\n"
     ]
    },
    {
     "name": "stderr",
     "output_type": "stream",
     "text": [
      "Copying files: 100%|██████████| 5000/5000 [00:03<00:00, 1609.81it/s]\n"
     ]
    },
    {
     "name": "stdout",
     "output_type": "stream",
     "text": [
      "Copying validation files:\n"
     ]
    },
    {
     "name": "stderr",
     "output_type": "stream",
     "text": [
      "Copying files: 100%|██████████| 1000/1000 [00:01<00:00, 983.55it/s]\n"
     ]
    },
    {
     "name": "stdout",
     "output_type": "stream",
     "text": [
      "Dataset 'weather_23_2500' created at C:\\github\\Third-Year-Project\\Intruder-Aircraft-Detection\\datasets\\Custom\\weather_23_2500\n",
      "Processing train labels in weather_23_2500:\n"
     ]
    },
    {
     "name": "stderr",
     "output_type": "stream",
     "text": [
      "Processing labels: 100%|██████████| 2500/2500 [00:09<00:00, 266.88it/s]\n"
     ]
    },
    {
     "name": "stdout",
     "output_type": "stream",
     "text": [
      "Processing valid labels in weather_23_2500:\n"
     ]
    },
    {
     "name": "stderr",
     "output_type": "stream",
     "text": [
      "Processing labels: 100%|██████████| 500/500 [00:01<00:00, 274.59it/s]\n"
     ]
    },
    {
     "name": "stdout",
     "output_type": "stream",
     "text": [
      "Label correction completed.\n"
     ]
    },
    {
     "name": "stderr",
     "output_type": "stream",
     "text": [
      "Removing existing directories/files: 100%|██████████| 3/3 [00:00<00:00, 2998.07it/s]\n",
      "Copying files: 100%|██████████| 2500/2500 [00:02<00:00, 1179.44it/s]\n",
      "Copying files: 100%|██████████| 2500/2500 [00:01<00:00, 1489.92it/s]\n",
      "Applying augmentations: 100%|██████████| 1250/1250 [00:14<00:00, 83.34it/s]\n",
      "Processing images:  12%|█▏        | 303/2500 [00:14<01:05, 33.53it/s]"
     ]
    },
    {
     "name": "stdout",
     "output_type": "stream",
     "text": [
      "An error occurred with C:/github/Third-Year-Project/Intruder-Aircraft-Detection/datasets/Custom/weather_23_2500\\images\\train\\26045.jpg: Expected x_max for bbox (0.28810699999999995, 0.48339099999999996, 1.049593, 0.9910490000000001, 1) to be in the range [0.0, 1.0], got 1.049593.\n"
     ]
    },
    {
     "name": "stderr",
     "output_type": "stream",
     "text": [
      "Processing images:  16%|█▌        | 400/2500 [00:17<00:57, 36.33it/s]"
     ]
    },
    {
     "name": "stdout",
     "output_type": "stream",
     "text": [
      "An error occurred with C:/github/Third-Year-Project/Intruder-Aircraft-Detection/datasets/Custom/weather_23_2500\\images\\train\\26227.jpg: Expected y_max for bbox (0.36195600000000006, 0.7324, 0.764684, 1.000886, 1) to be in the range [0.0, 1.0], got 1.000886.\n"
     ]
    },
    {
     "name": "stderr",
     "output_type": "stream",
     "text": [
      "Processing images:  21%|██        | 529/2500 [00:21<00:56, 35.19it/s]"
     ]
    },
    {
     "name": "stdout",
     "output_type": "stream",
     "text": [
      "An error occurred with C:/github/Third-Year-Project/Intruder-Aircraft-Detection/datasets/Custom/weather_23_2500\\images\\train\\26500.jpg: Expected y_max for bbox (0.0655045, 0.7670555, 0.42422150000000003, 1.0062005, 1) to be in the range [0.0, 1.0], got 1.0062005.\n"
     ]
    },
    {
     "name": "stderr",
     "output_type": "stream",
     "text": [
      "Processing images:  25%|██▍       | 622/2500 [00:24<00:52, 35.46it/s]"
     ]
    },
    {
     "name": "stdout",
     "output_type": "stream",
     "text": [
      "An error occurred with C:/github/Third-Year-Project/Intruder-Aircraft-Detection/datasets/Custom/weather_23_2500\\images\\train\\26657.jpg: Expected x_max for bbox (0.27437150000000005, 0.117452, 1.1447385, 0.697696, 1) to be in the range [0.0, 1.0], got 1.1447385.\n"
     ]
    },
    {
     "name": "stderr",
     "output_type": "stream",
     "text": [
      "Processing images:  27%|██▋       | 687/2500 [00:26<00:51, 35.03it/s]"
     ]
    },
    {
     "name": "stdout",
     "output_type": "stream",
     "text": [
      "An error occurred with C:/github/Third-Year-Project/Intruder-Aircraft-Detection/datasets/Custom/weather_23_2500\\images\\train\\26778.jpg: Expected y_min for bbox (0.17198949999999996, -0.047677, 0.8024305, 0.372617, 1) to be in the range [0.0, 1.0], got -0.047677.\n"
     ]
    },
    {
     "name": "stderr",
     "output_type": "stream",
     "text": [
      "Processing images:  31%|███       | 776/2500 [00:28<00:47, 36.13it/s]"
     ]
    },
    {
     "name": "stdout",
     "output_type": "stream",
     "text": [
      "An error occurred with C:/github/Third-Year-Project/Intruder-Aircraft-Detection/datasets/Custom/weather_23_2500\\images\\train\\27022.jpg: Expected x_min for bbox (-0.0780495, 0.5655505, 0.7145335, 1.0939394999999998, 1) to be in the range [0.0, 1.0], got -0.0780495.\n"
     ]
    },
    {
     "name": "stderr",
     "output_type": "stream",
     "text": [
      "Processing images:  35%|███▍      | 865/2500 [00:31<00:45, 36.11it/s]"
     ]
    },
    {
     "name": "stdout",
     "output_type": "stream",
     "text": [
      "An error occurred with C:/github/Third-Year-Project/Intruder-Aircraft-Detection/datasets/Custom/weather_23_2500\\images\\train\\27218.jpg: Expected y_max for bbox (0.38584999999999997, 0.7377294999999999, 0.7992459999999999, 1.0133264999999998, 1) to be in the range [0.0, 1.0], got 1.0133264999999998.\n"
     ]
    },
    {
     "name": "stderr",
     "output_type": "stream",
     "text": [
      "Processing images:  38%|███▊      | 958/2500 [00:34<00:43, 35.39it/s]"
     ]
    },
    {
     "name": "stdout",
     "output_type": "stream",
     "text": [
      "An error occurred with C:/github/Third-Year-Project/Intruder-Aircraft-Detection/datasets/Custom/weather_23_2500\\images\\train\\27381.jpg: Expected y_max for bbox (0.24027500000000002, 0.6626745, 0.832789, 1.0576835, 1) to be in the range [0.0, 1.0], got 1.0576835.\n"
     ]
    },
    {
     "name": "stderr",
     "output_type": "stream",
     "text": [
      "Processing images:  41%|████      | 1030/2500 [00:36<00:42, 34.47it/s]"
     ]
    },
    {
     "name": "stdout",
     "output_type": "stream",
     "text": [
      "An error occurred with C:/github/Third-Year-Project/Intruder-Aircraft-Detection/datasets/Custom/weather_23_2500\\images\\train\\27530.jpg: Expected y_max for bbox (0.19746399999999997, 0.778044, 0.563272, 1.021916, 1) to be in the range [0.0, 1.0], got 1.021916.\n"
     ]
    },
    {
     "name": "stderr",
     "output_type": "stream",
     "text": [
      "Processing images:  65%|██████▌   | 1631/2500 [00:54<00:23, 36.32it/s]"
     ]
    },
    {
     "name": "stdout",
     "output_type": "stream",
     "text": [
      "An error occurred with C:/github/Third-Year-Project/Intruder-Aircraft-Detection/datasets/Custom/weather_23_2500\\images\\train\\3818.jpg: Expected y_max for bbox (0.578752, 0.762086, 0.935798, 1.000116, 0) to be in the range [0.0, 1.0], got 1.000116.\n"
     ]
    },
    {
     "name": "stderr",
     "output_type": "stream",
     "text": [
      "Processing images:  76%|███████▌  | 1888/2500 [01:01<00:17, 35.62it/s]"
     ]
    },
    {
     "name": "stdout",
     "output_type": "stream",
     "text": [
      "An error occurred with C:/github/Third-Year-Project/Intruder-Aircraft-Detection/datasets/Custom/weather_23_2500\\images\\train\\50482.jpg: Expected y_max for bbox (0.4692875000000001, 0.789791, 0.7999505, 1.010233, 2) to be in the range [0.0, 1.0], got 1.010233.\n"
     ]
    },
    {
     "name": "stderr",
     "output_type": "stream",
     "text": [
      "Processing images:  80%|████████  | 2005/2500 [01:05<00:13, 36.80it/s]"
     ]
    },
    {
     "name": "stdout",
     "output_type": "stream",
     "text": [
      "An error occurred with C:/github/Third-Year-Project/Intruder-Aircraft-Detection/datasets/Custom/weather_23_2500\\images\\train\\50719.jpg: Expected x_min for bbox (-0.11753550000000001, 0.31711149999999994, 0.8069695, 0.9334484999999999, 2) to be in the range [0.0, 1.0], got -0.11753550000000001.\n"
     ]
    },
    {
     "name": "stderr",
     "output_type": "stream",
     "text": [
      "Processing images:  81%|████████  | 2022/2500 [01:05<00:12, 36.99it/s]"
     ]
    },
    {
     "name": "stdout",
     "output_type": "stream",
     "text": [
      "An error occurred with C:/github/Third-Year-Project/Intruder-Aircraft-Detection/datasets/Custom/weather_23_2500\\images\\train\\50732.jpg: Expected x_min for bbox (-0.02266499999999999, 0.5461069999999999, 0.560295, 0.9347469999999999, 2) to be in the range [0.0, 1.0], got -0.02266499999999999.\n"
     ]
    },
    {
     "name": "stderr",
     "output_type": "stream",
     "text": [
      "Processing images:  82%|████████▏ | 2051/2500 [01:06<00:12, 35.68it/s]"
     ]
    },
    {
     "name": "stdout",
     "output_type": "stream",
     "text": [
      "An error occurred with C:/github/Third-Year-Project/Intruder-Aircraft-Detection/datasets/Custom/weather_23_2500\\images\\train\\50820.jpg: Expected y_min for bbox (0.05699850000000001, -0.0029215000000000213, 0.5023355, 0.2939695, 2) to be in the range [0.0, 1.0], got -0.0029215000000000213.\n"
     ]
    },
    {
     "name": "stderr",
     "output_type": "stream",
     "text": [
      "Processing images:  93%|█████████▎| 2336/2500 [01:14<00:04, 35.84it/s]"
     ]
    },
    {
     "name": "stdout",
     "output_type": "stream",
     "text": [
      "An error occurred with C:/github/Third-Year-Project/Intruder-Aircraft-Detection/datasets/Custom/weather_23_2500\\images\\train\\51548.jpg: Expected y_max for bbox (0.38042449999999994, 0.694677, 0.8531095, 1.009801, 2) to be in the range [0.0, 1.0], got 1.009801.\n"
     ]
    },
    {
     "name": "stderr",
     "output_type": "stream",
     "text": [
      "Processing images:  98%|█████████▊| 2462/2500 [01:18<00:01, 37.15it/s]"
     ]
    },
    {
     "name": "stdout",
     "output_type": "stream",
     "text": [
      "An error occurred with C:/github/Third-Year-Project/Intruder-Aircraft-Detection/datasets/Custom/weather_23_2500\\images\\train\\51808.jpg: Expected x_min for bbox (-0.02981600000000001, 0.598216, 0.699454, 1.084396, 2) to be in the range [0.0, 1.0], got -0.02981600000000001.\n",
      "An error occurred with C:/github/Third-Year-Project/Intruder-Aircraft-Detection/datasets/Custom/weather_23_2500\\images\\train\\51806.jpg: Expected x_min for bbox (-0.14135050000000005, 0.26239999999999997, 0.7313425, 0.844196, 2) to be in the range [0.0, 1.0], got -0.14135050000000005.\n"
     ]
    },
    {
     "name": "stderr",
     "output_type": "stream",
     "text": [
      "Processing images: 100%|██████████| 2500/2500 [01:19<00:00, 31.31it/s]\n",
      "Processing images:  12%|█▏        | 461/3750 [00:23<01:28, 37.31it/s]"
     ]
    },
    {
     "name": "stdout",
     "output_type": "stream",
     "text": [
      "An error occurred with C:/github/Third-Year-Project/Intruder-Aircraft-Detection/datasets/Custom/weather_23_2500\\images\\train-aug\\26045.jpg: Expected x_max for bbox (0.28810699999999995, 0.48339099999999996, 1.049593, 0.9910490000000001, 1) to be in the range [0.0, 1.0], got 1.049593.\n",
      "An error occurred with C:/github/Third-Year-Project/Intruder-Aircraft-Detection/datasets/Custom/weather_23_2500\\images\\train-aug\\26045-histEq.jpg: Expected x_max for bbox (0.28810699999999995, 0.48339099999999996, 1.049593, 0.9910490000000001, 1) to be in the range [0.0, 1.0], got 1.049593.\n"
     ]
    },
    {
     "name": "stderr",
     "output_type": "stream",
     "text": [
      "Processing images:  16%|█▌        | 598/3750 [00:27<01:29, 35.05it/s]"
     ]
    },
    {
     "name": "stdout",
     "output_type": "stream",
     "text": [
      "An error occurred with C:/github/Third-Year-Project/Intruder-Aircraft-Detection/datasets/Custom/weather_23_2500\\images\\train-aug\\26227.jpg: Expected y_max for bbox (0.36195600000000006, 0.7324, 0.764684, 1.000886, 1) to be in the range [0.0, 1.0], got 1.000886.\n"
     ]
    },
    {
     "name": "stderr",
     "output_type": "stream",
     "text": [
      "Processing images:  21%|██        | 795/3750 [00:34<01:24, 34.85it/s]"
     ]
    },
    {
     "name": "stdout",
     "output_type": "stream",
     "text": [
      "An error occurred with C:/github/Third-Year-Project/Intruder-Aircraft-Detection/datasets/Custom/weather_23_2500\\images\\train-aug\\26500.jpg: Expected y_max for bbox (0.0655045, 0.7670555, 0.42422150000000003, 1.0062005, 1) to be in the range [0.0, 1.0], got 1.0062005.\n",
      "An error occurred with C:/github/Third-Year-Project/Intruder-Aircraft-Detection/datasets/Custom/weather_23_2500\\images\\train-aug\\26500-histEq.jpg: Expected y_max for bbox (0.0655045, 0.7670555, 0.42422150000000003, 1.0062005, 1) to be in the range [0.0, 1.0], got 1.0062005.\n"
     ]
    },
    {
     "name": "stderr",
     "output_type": "stream",
     "text": [
      "Processing images:  25%|██▍       | 930/3750 [00:38<01:18, 36.13it/s]"
     ]
    },
    {
     "name": "stdout",
     "output_type": "stream",
     "text": [
      "An error occurred with C:/github/Third-Year-Project/Intruder-Aircraft-Detection/datasets/Custom/weather_23_2500\\images\\train-aug\\26657-histEq.jpg: Expected x_max for bbox (0.27437150000000005, 0.117452, 1.1447385, 0.697696, 1) to be in the range [0.0, 1.0], got 1.1447385.\n",
      "An error occurred with C:/github/Third-Year-Project/Intruder-Aircraft-Detection/datasets/Custom/weather_23_2500\\images\\train-aug\\26657.jpg: Expected x_max for bbox (0.27437150000000005, 0.117452, 1.1447385, 0.697696, 1) to be in the range [0.0, 1.0], got 1.1447385.\n"
     ]
    },
    {
     "name": "stderr",
     "output_type": "stream",
     "text": [
      "Processing images:  28%|██▊       | 1039/3750 [00:41<01:16, 35.46it/s]"
     ]
    },
    {
     "name": "stdout",
     "output_type": "stream",
     "text": [
      "An error occurred with C:/github/Third-Year-Project/Intruder-Aircraft-Detection/datasets/Custom/weather_23_2500\\images\\train-aug\\26778.jpg: Expected y_min for bbox (0.17198949999999996, -0.047677, 0.8024305, 0.372617, 1) to be in the range [0.0, 1.0], got -0.047677.\n"
     ]
    },
    {
     "name": "stderr",
     "output_type": "stream",
     "text": [
      "Processing images:  28%|██▊       | 1052/3750 [00:41<01:16, 35.43it/s]"
     ]
    },
    {
     "name": "stdout",
     "output_type": "stream",
     "text": [
      "An error occurred with C:/github/Third-Year-Project/Intruder-Aircraft-Detection/datasets/Custom/weather_23_2500\\images\\train-aug\\26778-histEq.jpg: Expected y_min for bbox (0.17198949999999996, -0.047677, 0.8024305, 0.372617, 1) to be in the range [0.0, 1.0], got -0.047677.\n"
     ]
    },
    {
     "name": "stderr",
     "output_type": "stream",
     "text": [
      "Processing images:  31%|███       | 1161/3750 [00:44<01:14, 34.89it/s]"
     ]
    },
    {
     "name": "stdout",
     "output_type": "stream",
     "text": [
      "An error occurred with C:/github/Third-Year-Project/Intruder-Aircraft-Detection/datasets/Custom/weather_23_2500\\images\\train-aug\\27022.jpg: Expected x_min for bbox (-0.0780495, 0.5655505, 0.7145335, 1.0939394999999998, 1) to be in the range [0.0, 1.0], got -0.0780495.\n"
     ]
    },
    {
     "name": "stderr",
     "output_type": "stream",
     "text": [
      "Processing images:  35%|███▍      | 1302/3750 [00:49<01:09, 35.25it/s]"
     ]
    },
    {
     "name": "stdout",
     "output_type": "stream",
     "text": [
      "An error occurred with C:/github/Third-Year-Project/Intruder-Aircraft-Detection/datasets/Custom/weather_23_2500\\images\\train-aug\\27218.jpg: Expected y_max for bbox (0.38584999999999997, 0.7377294999999999, 0.7992459999999999, 1.0133264999999998, 1) to be in the range [0.0, 1.0], got 1.0133264999999998.\n"
     ]
    },
    {
     "name": "stderr",
     "output_type": "stream",
     "text": [
      "Processing images:  39%|███▊      | 1444/3750 [00:53<01:03, 36.45it/s]"
     ]
    },
    {
     "name": "stdout",
     "output_type": "stream",
     "text": [
      "An error occurred with C:/github/Third-Year-Project/Intruder-Aircraft-Detection/datasets/Custom/weather_23_2500\\images\\train-aug\\27381.jpg: Expected y_max for bbox (0.24027500000000002, 0.6626745, 0.832789, 1.0576835, 1) to be in the range [0.0, 1.0], got 1.0576835.\n",
      "An error occurred with C:/github/Third-Year-Project/Intruder-Aircraft-Detection/datasets/Custom/weather_23_2500\\images\\train-aug\\27381-histEq.jpg: Expected y_max for bbox (0.24027500000000002, 0.6626745, 0.832789, 1.0576835, 1) to be in the range [0.0, 1.0], got 1.0576835.\n"
     ]
    },
    {
     "name": "stderr",
     "output_type": "stream",
     "text": [
      "Processing images:  41%|████▏     | 1553/3750 [00:56<01:03, 34.68it/s]"
     ]
    },
    {
     "name": "stdout",
     "output_type": "stream",
     "text": [
      "An error occurred with C:/github/Third-Year-Project/Intruder-Aircraft-Detection/datasets/Custom/weather_23_2500\\images\\train-aug\\27530.jpg: Expected y_max for bbox (0.19746399999999997, 0.778044, 0.563272, 1.021916, 1) to be in the range [0.0, 1.0], got 1.021916.\n"
     ]
    },
    {
     "name": "stderr",
     "output_type": "stream",
     "text": [
      "Processing images:  65%|██████▌   | 2451/3750 [01:23<00:35, 37.05it/s]"
     ]
    },
    {
     "name": "stdout",
     "output_type": "stream",
     "text": [
      "An error occurred with C:/github/Third-Year-Project/Intruder-Aircraft-Detection/datasets/Custom/weather_23_2500\\images\\train-aug\\3818.jpg: Expected y_max for bbox (0.578752, 0.762086, 0.935798, 1.000116, 0) to be in the range [0.0, 1.0], got 1.000116.\n"
     ]
    },
    {
     "name": "stderr",
     "output_type": "stream",
     "text": [
      "Processing images:  76%|███████▌  | 2844/3750 [01:35<00:24, 37.33it/s]"
     ]
    },
    {
     "name": "stdout",
     "output_type": "stream",
     "text": [
      "An error occurred with C:/github/Third-Year-Project/Intruder-Aircraft-Detection/datasets/Custom/weather_23_2500\\images\\train-aug\\50482.jpg: Expected y_max for bbox (0.4692875000000001, 0.789791, 0.7999505, 1.010233, 2) to be in the range [0.0, 1.0], got 1.010233.\n",
      "An error occurred with C:/github/Third-Year-Project/Intruder-Aircraft-Detection/datasets/Custom/weather_23_2500\\images\\train-aug\\50482-histEq.jpg: Expected y_max for bbox (0.4692875000000001, 0.789791, 0.7999505, 1.010233, 2) to be in the range [0.0, 1.0], got 1.010233.\n"
     ]
    },
    {
     "name": "stderr",
     "output_type": "stream",
     "text": [
      "Processing images:  80%|████████  | 3009/3750 [01:40<00:20, 36.51it/s]"
     ]
    },
    {
     "name": "stdout",
     "output_type": "stream",
     "text": [
      "An error occurred with C:/github/Third-Year-Project/Intruder-Aircraft-Detection/datasets/Custom/weather_23_2500\\images\\train-aug\\50719.jpg: Expected x_min for bbox (-0.11753550000000001, 0.31711149999999994, 0.8069695, 0.9334484999999999, 2) to be in the range [0.0, 1.0], got -0.11753550000000001.\n",
      "An error occurred with C:/github/Third-Year-Project/Intruder-Aircraft-Detection/datasets/Custom/weather_23_2500\\images\\train-aug\\50732.jpg: Expected x_min for bbox (-0.02266499999999999, 0.5461069999999999, 0.560295, 0.9347469999999999, 2) to be in the range [0.0, 1.0], got -0.02266499999999999.\n"
     ]
    },
    {
     "name": "stderr",
     "output_type": "stream",
     "text": [
      "Processing images:  81%|████████  | 3020/3750 [01:40<00:18, 38.47it/s]"
     ]
    },
    {
     "name": "stdout",
     "output_type": "stream",
     "text": [
      "An error occurred with C:/github/Third-Year-Project/Intruder-Aircraft-Detection/datasets/Custom/weather_23_2500\\images\\train-aug\\50732-histEq.jpg: Expected x_min for bbox (-0.02266499999999999, 0.5461069999999999, 0.560295, 0.9347469999999999, 2) to be in the range [0.0, 1.0], got -0.02266499999999999.\n"
     ]
    },
    {
     "name": "stderr",
     "output_type": "stream",
     "text": [
      "Processing images:  82%|████████▏ | 3077/3750 [01:42<00:19, 34.94it/s]"
     ]
    },
    {
     "name": "stdout",
     "output_type": "stream",
     "text": [
      "An error occurred with C:/github/Third-Year-Project/Intruder-Aircraft-Detection/datasets/Custom/weather_23_2500\\images\\train-aug\\50820.jpg: Expected y_min for bbox (0.05699850000000001, -0.0029215000000000213, 0.5023355, 0.2939695, 2) to be in the range [0.0, 1.0], got -0.0029215000000000213.\n"
     ]
    },
    {
     "name": "stderr",
     "output_type": "stream",
     "text": [
      "Processing images:  93%|█████████▎| 3498/3750 [01:54<00:06, 36.01it/s]"
     ]
    },
    {
     "name": "stdout",
     "output_type": "stream",
     "text": [
      "An error occurred with C:/github/Third-Year-Project/Intruder-Aircraft-Detection/datasets/Custom/weather_23_2500\\images\\train-aug\\51548-histEq.jpg: Expected y_max for bbox (0.38042449999999994, 0.694677, 0.8531095, 1.009801, 2) to be in the range [0.0, 1.0], got 1.009801.\n",
      "An error occurred with C:/github/Third-Year-Project/Intruder-Aircraft-Detection/datasets/Custom/weather_23_2500\\images\\train-aug\\51548.jpg: Expected y_max for bbox (0.38042449999999994, 0.694677, 0.8531095, 1.009801, 2) to be in the range [0.0, 1.0], got 1.009801.\n"
     ]
    },
    {
     "name": "stderr",
     "output_type": "stream",
     "text": [
      "Processing images:  98%|█████████▊| 3689/3750 [02:00<00:01, 37.78it/s]"
     ]
    },
    {
     "name": "stdout",
     "output_type": "stream",
     "text": [
      "An error occurred with C:/github/Third-Year-Project/Intruder-Aircraft-Detection/datasets/Custom/weather_23_2500\\images\\train-aug\\51808.jpg: Expected x_min for bbox (-0.02981600000000001, 0.598216, 0.699454, 1.084396, 2) to be in the range [0.0, 1.0], got -0.02981600000000001.\n",
      "An error occurred with C:/github/Third-Year-Project/Intruder-Aircraft-Detection/datasets/Custom/weather_23_2500\\images\\train-aug\\51806.jpg: Expected x_min for bbox (-0.14135050000000005, 0.26239999999999997, 0.7313425, 0.844196, 2) to be in the range [0.0, 1.0], got -0.14135050000000005.\n",
      "An error occurred with C:/github/Third-Year-Project/Intruder-Aircraft-Detection/datasets/Custom/weather_23_2500\\images\\train-aug\\51808-histEq.jpg: Expected x_min for bbox (-0.02981600000000001, 0.598216, 0.699454, 1.084396, 2) to be in the range [0.0, 1.0], got -0.02981600000000001.\n"
     ]
    },
    {
     "name": "stderr",
     "output_type": "stream",
     "text": [
      "Processing images: 100%|██████████| 3750/3750 [02:02<00:00, 30.65it/s]\n",
      "Processing images:   5%|▍         | 23/500 [00:01<00:27, 17.64it/s]"
     ]
    },
    {
     "name": "stdout",
     "output_type": "stream",
     "text": [
      "An error occurred with C:/github/Third-Year-Project/Intruder-Aircraft-Detection/datasets/Custom/weather_23_2500\\images\\valid\\26926.jpg: Expected y_min for bbox (0.38187599999999994, -0.12572450000000002, 1.180976, 0.4070085, 1) to be in the range [0.0, 1.0], got -0.12572450000000002.\n"
     ]
    },
    {
     "name": "stderr",
     "output_type": "stream",
     "text": [
      "Processing images:  17%|█▋        | 85/500 [00:03<00:13, 31.58it/s]"
     ]
    },
    {
     "name": "stdout",
     "output_type": "stream",
     "text": [
      "An error occurred with C:/github/Third-Year-Project/Intruder-Aircraft-Detection/datasets/Custom/weather_23_2500\\images\\valid\\26999.jpg: Expected x_min for bbox (-0.1462135, 0.3244429999999999, 0.7076735, 0.893701, 1) to be in the range [0.0, 1.0], got -0.1462135.\n"
     ]
    },
    {
     "name": "stderr",
     "output_type": "stream",
     "text": [
      "Processing images:  70%|███████   | 350/500 [00:11<00:04, 35.25it/s]"
     ]
    },
    {
     "name": "stdout",
     "output_type": "stream",
     "text": [
      "An error occurred with C:/github/Third-Year-Project/Intruder-Aircraft-Detection/datasets/Custom/weather_23_2500\\images\\valid\\50917.jpg: Expected y_min for bbox (0.3312055, -0.11337250000000001, 1.1166544999999999, 0.41026050000000003, 2) to be in the range [0.0, 1.0], got -0.11337250000000001.\n"
     ]
    },
    {
     "name": "stderr",
     "output_type": "stream",
     "text": [
      "Processing images:  77%|███████▋  | 387/500 [00:12<00:03, 36.26it/s]"
     ]
    },
    {
     "name": "stdout",
     "output_type": "stream",
     "text": [
      "An error occurred with C:/github/Third-Year-Project/Intruder-Aircraft-Detection/datasets/Custom/weather_23_2500\\images\\valid\\50955.jpg: Expected x_min for bbox (-0.021672000000000025, 0.2856885, 0.507494, 0.6384655, 2) to be in the range [0.0, 1.0], got -0.021672000000000025.\n"
     ]
    },
    {
     "name": "stderr",
     "output_type": "stream",
     "text": [
      "Processing images:  89%|████████▉ | 447/500 [00:14<00:01, 34.94it/s]"
     ]
    },
    {
     "name": "stdout",
     "output_type": "stream",
     "text": [
      "An error occurred with C:/github/Third-Year-Project/Intruder-Aircraft-Detection/datasets/Custom/weather_23_2500\\images\\valid\\51937.jpg: Expected y_min for bbox (0.07818900000000001, -0.009202500000000002, 0.5387230000000001, 0.2978205, 2) to be in the range [0.0, 1.0], got -0.009202500000000002.\n"
     ]
    },
    {
     "name": "stderr",
     "output_type": "stream",
     "text": [
      "Processing images: 100%|██████████| 500/500 [00:15<00:00, 31.31it/s]\n",
      "Moving images in train: 100%|██████████| 2483/2483 [00:08<00:00, 276.11it/s]\n",
      "Moving images in train-aug: 100%|██████████| 3724/3724 [00:10<00:00, 354.81it/s]\n",
      "Moving images in valid: 100%|██████████| 495/495 [00:01<00:00, 287.86it/s]\n"
     ]
    },
    {
     "name": "stdout",
     "output_type": "stream",
     "text": [
      "Found 2483 files belonging to 3 classes.\n",
      "Found 3724 files belonging to 3 classes.\n",
      "Found 495 files belonging to 3 classes.\n",
      "ClearML Task: created new task id=4312bbb396ba4681a39f39a4e3f147a4\n",
      "ClearML results page: https://app.clear.ml/projects/62a798cfc814437d80f9638b3e3aca6d/experiments/4312bbb396ba4681a39f39a4e3f147a4/output/log\n",
      "Training model...\n",
      "Epoch 1/30\n",
      "\u001b[1m78/78\u001b[0m \u001b[32m━━━━━━━━━━━━━━━━━━━━\u001b[0m\u001b[37m\u001b[0m \u001b[1m22s\u001b[0m 254ms/step - accuracy: 0.3247 - loss: 1.6251 - precision: 0.3521 - recall: 0.0739 - val_accuracy: 0.3374 - val_loss: 1.0985 - val_precision: 0.0000e+00 - val_recall: 0.0000e+00\n",
      "Epoch 2/30\n",
      "\u001b[1m78/78\u001b[0m \u001b[32m━━━━━━━━━━━━━━━━━━━━\u001b[0m\u001b[37m\u001b[0m \u001b[1m18s\u001b[0m 225ms/step - accuracy: 0.3338 - loss: 1.0987 - precision: 0.0000e+00 - recall: 0.0000e+00 - val_accuracy: 0.3374 - val_loss: 1.0985 - val_precision: 0.0000e+00 - val_recall: 0.0000e+00\n",
      "Epoch 3/30\n",
      "\u001b[1m78/78\u001b[0m \u001b[32m━━━━━━━━━━━━━━━━━━━━\u001b[0m\u001b[37m\u001b[0m \u001b[1m19s\u001b[0m 245ms/step - accuracy: 0.3324 - loss: 1.0987 - precision: 0.0000e+00 - recall: 0.0000e+00 - val_accuracy: 0.3374 - val_loss: 1.0984 - val_precision: 0.0000e+00 - val_recall: 0.0000e+00\n",
      "Epoch 4/30\n",
      "\u001b[1m78/78\u001b[0m \u001b[32m━━━━━━━━━━━━━━━━━━━━\u001b[0m\u001b[37m\u001b[0m \u001b[1m18s\u001b[0m 225ms/step - accuracy: 0.3356 - loss: 1.0987 - precision: 0.0000e+00 - recall: 0.0000e+00 - val_accuracy: 0.3374 - val_loss: 1.0984 - val_precision: 0.0000e+00 - val_recall: 0.0000e+00\n",
      "Epoch 5/30\n",
      "\u001b[1m78/78\u001b[0m \u001b[32m━━━━━━━━━━━━━━━━━━━━\u001b[0m\u001b[37m\u001b[0m \u001b[1m19s\u001b[0m 246ms/step - accuracy: 0.3358 - loss: 1.0986 - precision: 0.0000e+00 - recall: 0.0000e+00 - val_accuracy: 0.3313 - val_loss: 1.0987 - val_precision: 0.0000e+00 - val_recall: 0.0000e+00\n",
      "Epoch 6/30\n",
      "\u001b[1m78/78\u001b[0m \u001b[32m━━━━━━━━━━━━━━━━━━━━\u001b[0m\u001b[37m\u001b[0m \u001b[1m18s\u001b[0m 227ms/step - accuracy: 0.3291 - loss: 1.0989 - precision: 0.0000e+00 - recall: 0.0000e+00 - val_accuracy: 0.3374 - val_loss: 1.0981 - val_precision: 0.0000e+00 - val_recall: 0.0000e+00\n",
      "Epoch 7/30\n",
      "\u001b[1m78/78\u001b[0m \u001b[32m━━━━━━━━━━━━━━━━━━━━\u001b[0m\u001b[37m\u001b[0m \u001b[1m19s\u001b[0m 246ms/step - accuracy: 0.3377 - loss: 1.0981 - precision: 0.0000e+00 - recall: 0.0000e+00 - val_accuracy: 0.4323 - val_loss: 1.0976 - val_precision: 0.0000e+00 - val_recall: 0.0000e+00\n",
      "Epoch 8/30\n",
      "\u001b[1m78/78\u001b[0m \u001b[32m━━━━━━━━━━━━━━━━━━━━\u001b[0m\u001b[37m\u001b[0m \u001b[1m18s\u001b[0m 226ms/step - accuracy: 0.3760 - loss: 1.0979 - precision: 0.0120 - recall: 9.1763e-05 - val_accuracy: 0.3374 - val_loss: 3.1700 - val_precision: 0.3374 - val_recall: 0.3374\n",
      "Epoch 9/30\n",
      "\u001b[1m78/78\u001b[0m \u001b[32m━━━━━━━━━━━━━━━━━━━━\u001b[0m\u001b[37m\u001b[0m \u001b[1m18s\u001b[0m 232ms/step - accuracy: 0.3510 - loss: 1.2545 - precision: 0.3170 - recall: 0.0348 - val_accuracy: 0.4747 - val_loss: 1.0943 - val_precision: 0.0000e+00 - val_recall: 0.0000e+00\n",
      "Epoch 10/30\n",
      "\u001b[1m78/78\u001b[0m \u001b[32m━━━━━━━━━━━━━━━━━━━━\u001b[0m\u001b[37m\u001b[0m \u001b[1m19s\u001b[0m 243ms/step - accuracy: 0.3595 - loss: 1.0962 - precision: 0.1873 - recall: 0.0029 - val_accuracy: 0.3333 - val_loss: 1.0964 - val_precision: 0.0000e+00 - val_recall: 0.0000e+00\n",
      "Epoch 11/30\n",
      "\u001b[1m78/78\u001b[0m \u001b[32m━━━━━━━━━━━━━━━━━━━━\u001b[0m\u001b[37m\u001b[0m \u001b[1m18s\u001b[0m 226ms/step - accuracy: 0.3783 - loss: 1.0958 - precision: 0.1142 - recall: 8.0914e-04 - val_accuracy: 0.3515 - val_loss: 1.0849 - val_precision: 0.0000e+00 - val_recall: 0.0000e+00\n",
      "Epoch 12/30\n",
      "\u001b[1m78/78\u001b[0m \u001b[32m━━━━━━━━━━━━━━━━━━━━\u001b[0m\u001b[37m\u001b[0m \u001b[1m19s\u001b[0m 246ms/step - accuracy: 0.3894 - loss: 1.0923 - precision: 0.3051 - recall: 0.0037 - val_accuracy: 0.3354 - val_loss: 1.0893 - val_precision: 0.0000e+00 - val_recall: 0.0000e+00\n",
      "Epoch 13/30\n",
      "\u001b[1m78/78\u001b[0m \u001b[32m━━━━━━━━━━━━━━━━━━━━\u001b[0m\u001b[37m\u001b[0m \u001b[1m18s\u001b[0m 225ms/step - accuracy: 0.4093 - loss: 1.0845 - precision: 0.5670 - recall: 0.0027 - val_accuracy: 0.4788 - val_loss: 1.0723 - val_precision: 0.0000e+00 - val_recall: 0.0000e+00\n",
      "Epoch 14/30\n",
      "\u001b[1m78/78\u001b[0m \u001b[32m━━━━━━━━━━━━━━━━━━━━\u001b[0m\u001b[37m\u001b[0m \u001b[1m20s\u001b[0m 248ms/step - accuracy: 0.4205 - loss: 1.0811 - precision: 0.3189 - recall: 0.0036 - val_accuracy: 0.4768 - val_loss: 1.0820 - val_precision: 0.0000e+00 - val_recall: 0.0000e+00\n",
      "Epoch 15/30\n",
      "\u001b[1m78/78\u001b[0m \u001b[32m━━━━━━━━━━━━━━━━━━━━\u001b[0m\u001b[37m\u001b[0m \u001b[1m18s\u001b[0m 227ms/step - accuracy: 0.4074 - loss: 1.0838 - precision: 0.2324 - recall: 0.0041 - val_accuracy: 0.4667 - val_loss: 1.0518 - val_precision: 0.6400 - val_recall: 0.0323\n",
      "Epoch 16/30\n",
      "\u001b[1m78/78\u001b[0m \u001b[32m━━━━━━━━━━━━━━━━━━━━\u001b[0m\u001b[37m\u001b[0m \u001b[1m21s\u001b[0m 260ms/step - accuracy: 0.4280 - loss: 1.0663 - precision: 0.4284 - recall: 0.0289 - val_accuracy: 0.4889 - val_loss: 1.0406 - val_precision: 0.6000 - val_recall: 0.0242\n",
      "Epoch 17/30\n",
      "\u001b[1m78/78\u001b[0m \u001b[32m━━━━━━━━━━━━━━━━━━━━\u001b[0m\u001b[37m\u001b[0m \u001b[1m18s\u001b[0m 227ms/step - accuracy: 0.4395 - loss: 1.0674 - precision: 0.4991 - recall: 0.0387 - val_accuracy: 0.4909 - val_loss: 1.0174 - val_precision: 0.7308 - val_recall: 0.0768\n",
      "Epoch 18/30\n",
      "\u001b[1m78/78\u001b[0m \u001b[32m━━━━━━━━━━━━━━━━━━━━\u001b[0m\u001b[37m\u001b[0m \u001b[1m20s\u001b[0m 247ms/step - accuracy: 0.4317 - loss: 1.0658 - precision: 0.4517 - recall: 0.0458 - val_accuracy: 0.4768 - val_loss: 1.0239 - val_precision: 0.6757 - val_recall: 0.0505\n",
      "Epoch 19/30\n",
      "\u001b[1m78/78\u001b[0m \u001b[32m━━━━━━━━━━━━━━━━━━━━\u001b[0m\u001b[37m\u001b[0m \u001b[1m18s\u001b[0m 226ms/step - accuracy: 0.4309 - loss: 1.0600 - precision: 0.4661 - recall: 0.0462 - val_accuracy: 0.5091 - val_loss: 1.0191 - val_precision: 0.6907 - val_recall: 0.1354\n",
      "Epoch 20/30\n",
      "\u001b[1m78/78\u001b[0m \u001b[32m━━━━━━━━━━━━━━━━━━━━\u001b[0m\u001b[37m\u001b[0m \u001b[1m18s\u001b[0m 231ms/step - accuracy: 0.4515 - loss: 1.0505 - precision: 0.5128 - recall: 0.0970 - val_accuracy: 0.5030 - val_loss: 1.0120 - val_precision: 0.7000 - val_recall: 0.1414\n",
      "Epoch 21/30\n",
      "\u001b[1m78/78\u001b[0m \u001b[32m━━━━━━━━━━━━━━━━━━━━\u001b[0m\u001b[37m\u001b[0m \u001b[1m19s\u001b[0m 241ms/step - accuracy: 0.4592 - loss: 1.0462 - precision: 0.5001 - recall: 0.1127 - val_accuracy: 0.5313 - val_loss: 1.0197 - val_precision: 0.7826 - val_recall: 0.0364\n",
      "Epoch 22/30\n",
      "\u001b[1m78/78\u001b[0m \u001b[32m━━━━━━━━━━━━━━━━━━━━\u001b[0m\u001b[37m\u001b[0m \u001b[1m18s\u001b[0m 225ms/step - accuracy: 0.4696 - loss: 1.0579 - precision: 0.5245 - recall: 0.0598 - val_accuracy: 0.4687 - val_loss: 1.0326 - val_precision: 0.8065 - val_recall: 0.0505\n",
      "Epoch 23/30\n",
      "\u001b[1m78/78\u001b[0m \u001b[32m━━━━━━━━━━━━━━━━━━━━\u001b[0m\u001b[37m\u001b[0m \u001b[1m19s\u001b[0m 246ms/step - accuracy: 0.4398 - loss: 1.0537 - precision: 0.5661 - recall: 0.0595 - val_accuracy: 0.5232 - val_loss: 0.9753 - val_precision: 0.6794 - val_recall: 0.1798\n",
      "Epoch 24/30\n",
      "\u001b[1m78/78\u001b[0m \u001b[32m━━━━━━━━━━━━━━━━━━━━\u001b[0m\u001b[37m\u001b[0m \u001b[1m18s\u001b[0m 227ms/step - accuracy: 0.5286 - loss: 0.9873 - precision: 0.6198 - recall: 0.2072 - val_accuracy: 0.4990 - val_loss: 0.9584 - val_precision: 0.7517 - val_recall: 0.2202\n",
      "Epoch 25/30\n",
      "\u001b[1m78/78\u001b[0m \u001b[32m━━━━━━━━━━━━━━━━━━━━\u001b[0m\u001b[37m\u001b[0m \u001b[1m20s\u001b[0m 248ms/step - accuracy: 0.5871 - loss: 0.8997 - precision: 0.6739 - recall: 0.3747 - val_accuracy: 0.7596 - val_loss: 0.6565 - val_precision: 0.8035 - val_recall: 0.6444\n",
      "Epoch 26/30\n",
      "\u001b[1m78/78\u001b[0m \u001b[32m━━━━━━━━━━━━━━━━━━━━\u001b[0m\u001b[37m\u001b[0m \u001b[1m18s\u001b[0m 225ms/step - accuracy: 0.7157 - loss: 0.6815 - precision: 0.7764 - recall: 0.6424 - val_accuracy: 0.7899 - val_loss: 0.5893 - val_precision: 0.8174 - val_recall: 0.7232\n",
      "Epoch 27/30\n",
      "\u001b[1m78/78\u001b[0m \u001b[32m━━━━━━━━━━━━━━━━━━━━\u001b[0m\u001b[37m\u001b[0m \u001b[1m19s\u001b[0m 247ms/step - accuracy: 0.7938 - loss: 0.5372 - precision: 0.8280 - recall: 0.7469 - val_accuracy: 0.8202 - val_loss: 0.5303 - val_precision: 0.8319 - val_recall: 0.8000\n",
      "Epoch 28/30\n",
      "\u001b[1m78/78\u001b[0m \u001b[32m━━━━━━━━━━━━━━━━━━━━\u001b[0m\u001b[37m\u001b[0m \u001b[1m18s\u001b[0m 225ms/step - accuracy: 0.8261 - loss: 0.4394 - precision: 0.8509 - recall: 0.7912 - val_accuracy: 0.8141 - val_loss: 0.5077 - val_precision: 0.8413 - val_recall: 0.7818\n",
      "Epoch 29/30\n",
      "\u001b[1m78/78\u001b[0m \u001b[32m━━━━━━━━━━━━━━━━━━━━\u001b[0m\u001b[37m\u001b[0m \u001b[1m19s\u001b[0m 246ms/step - accuracy: 0.8262 - loss: 0.3989 - precision: 0.8534 - recall: 0.8014 - val_accuracy: 0.8404 - val_loss: 0.4854 - val_precision: 0.8547 - val_recall: 0.8202\n",
      "Epoch 30/30\n",
      "\u001b[1m78/78\u001b[0m \u001b[32m━━━━━━━━━━━━━━━━━━━━\u001b[0m\u001b[37m\u001b[0m \u001b[1m18s\u001b[0m 227ms/step - accuracy: 0.8711 - loss: 0.3190 - precision: 0.8881 - recall: 0.8534 - val_accuracy: 0.8424 - val_loss: 0.4607 - val_precision: 0.8509 - val_recall: 0.8303\n",
      "Predicting on validation set...\n",
      "\u001b[1m16/16\u001b[0m \u001b[32m━━━━━━━━━━━━━━━━━━━━\u001b[0m\u001b[37m\u001b[0m \u001b[1m1s\u001b[0m 54ms/step\n",
      "Sending metrics to clearML...\n",
      "done\n",
      "ClearML Task: created new task id=1f5ba67cb26a444882a362126deecff7\n",
      "ClearML results page: https://app.clear.ml/projects/62a798cfc814437d80f9638b3e3aca6d/experiments/1f5ba67cb26a444882a362126deecff7/output/log\n",
      "Training model...\n",
      "Epoch 1/30\n",
      "\u001b[1m117/117\u001b[0m \u001b[32m━━━━━━━━━━━━━━━━━━━━\u001b[0m\u001b[37m\u001b[0m \u001b[1m32s\u001b[0m 255ms/step - accuracy: 0.3412 - loss: 1.6595 - precision: 0.3663 - recall: 0.0728 - val_accuracy: 0.3293 - val_loss: 1.0977 - val_precision: 0.0000e+00 - val_recall: 0.0000e+00\n",
      "Epoch 2/30\n",
      "\u001b[1m117/117\u001b[0m \u001b[32m━━━━━━━━━━━━━━━━━━━━\u001b[0m\u001b[37m\u001b[0m \u001b[1m28s\u001b[0m 235ms/step - accuracy: 0.3744 - loss: 1.0870 - precision: 0.2753 - recall: 0.0171 - val_accuracy: 0.7374 - val_loss: 0.7458 - val_precision: 0.7851 - val_recall: 0.5535\n",
      "Epoch 3/30\n",
      "\u001b[1m117/117\u001b[0m \u001b[32m━━━━━━━━━━━━━━━━━━━━\u001b[0m\u001b[37m\u001b[0m \u001b[1m26s\u001b[0m 220ms/step - accuracy: 0.3856 - loss: 1.1541 - precision: 0.5715 - recall: 0.0586 - val_accuracy: 0.4222 - val_loss: 1.0976 - val_precision: 0.0000e+00 - val_recall: 0.0000e+00\n",
      "Epoch 4/30\n",
      "\u001b[1m117/117\u001b[0m \u001b[32m━━━━━━━━━━━━━━━━━━━━\u001b[0m\u001b[37m\u001b[0m \u001b[1m28s\u001b[0m 235ms/step - accuracy: 0.3961 - loss: 1.0927 - precision: 0.3398 - recall: 0.0029 - val_accuracy: 0.5778 - val_loss: 1.0452 - val_precision: 0.9474 - val_recall: 0.0364\n",
      "Epoch 5/30\n",
      "\u001b[1m117/117\u001b[0m \u001b[32m━━━━━━━━━━━━━━━━━━━━\u001b[0m\u001b[37m\u001b[0m \u001b[1m28s\u001b[0m 235ms/step - accuracy: 0.4033 - loss: 1.0872 - precision: 0.5879 - recall: 0.0224 - val_accuracy: 0.5172 - val_loss: 1.0384 - val_precision: 0.9167 - val_recall: 0.0444\n",
      "Epoch 6/30\n",
      "\u001b[1m117/117\u001b[0m \u001b[32m━━━━━━━━━━━━━━━━━━━━\u001b[0m\u001b[37m\u001b[0m \u001b[1m26s\u001b[0m 222ms/step - accuracy: 0.4122 - loss: 1.1889 - precision: 0.5834 - recall: 0.0304 - val_accuracy: 0.3293 - val_loss: 1.0986 - val_precision: 0.0000e+00 - val_recall: 0.0000e+00\n",
      "Epoch 7/30\n",
      "\u001b[1m117/117\u001b[0m \u001b[32m━━━━━━━━━━━━━━━━━━━━\u001b[0m\u001b[37m\u001b[0m \u001b[1m28s\u001b[0m 236ms/step - accuracy: 0.3320 - loss: 1.0991 - precision: 0.0000e+00 - recall: 0.0000e+00 - val_accuracy: 0.3293 - val_loss: 1.0988 - val_precision: 0.0000e+00 - val_recall: 0.0000e+00\n",
      "Epoch 8/30\n",
      "\u001b[1m117/117\u001b[0m \u001b[32m━━━━━━━━━━━━━━━━━━━━\u001b[0m\u001b[37m\u001b[0m \u001b[1m28s\u001b[0m 234ms/step - accuracy: 0.3273 - loss: 1.0992 - precision: 0.0000e+00 - recall: 0.0000e+00 - val_accuracy: 0.3293 - val_loss: 1.0983 - val_precision: 0.0000e+00 - val_recall: 0.0000e+00\n",
      "Epoch 9/30\n",
      "\u001b[1m117/117\u001b[0m \u001b[32m━━━━━━━━━━━━━━━━━━━━\u001b[0m\u001b[37m\u001b[0m \u001b[1m26s\u001b[0m 222ms/step - accuracy: 0.3289 - loss: 1.0993 - precision: 0.1949 - recall: 5.7190e-05 - val_accuracy: 0.3293 - val_loss: 1.0970 - val_precision: 0.0000e+00 - val_recall: 0.0000e+00\n",
      "Epoch 10/30\n",
      "\u001b[1m117/117\u001b[0m \u001b[32m━━━━━━━━━━━━━━━━━━━━\u001b[0m\u001b[37m\u001b[0m \u001b[1m28s\u001b[0m 234ms/step - accuracy: 0.4145 - loss: 1.0442 - precision: 0.6852 - recall: 0.0739 - val_accuracy: 0.6505 - val_loss: 0.7821 - val_precision: 0.8155 - val_recall: 0.4465\n",
      "Epoch 11/30\n",
      "\u001b[1m117/117\u001b[0m \u001b[32m━━━━━━━━━━━━━━━━━━━━\u001b[0m\u001b[37m\u001b[0m \u001b[1m28s\u001b[0m 235ms/step - accuracy: 0.6384 - loss: 0.8280 - precision: 0.7239 - recall: 0.4390 - val_accuracy: 0.7172 - val_loss: 0.6643 - val_precision: 0.8031 - val_recall: 0.6182\n",
      "Epoch 12/30\n",
      "\u001b[1m117/117\u001b[0m \u001b[32m━━━━━━━━━━━━━━━━━━━━\u001b[0m\u001b[37m\u001b[0m \u001b[1m27s\u001b[0m 225ms/step - accuracy: 0.6870 - loss: 0.7116 - precision: 0.7686 - recall: 0.5898 - val_accuracy: 0.7495 - val_loss: 0.6228 - val_precision: 0.8113 - val_recall: 0.6081\n",
      "Epoch 13/30\n",
      "\u001b[1m117/117\u001b[0m \u001b[32m━━━━━━━━━━━━━━━━━━━━\u001b[0m\u001b[37m\u001b[0m \u001b[1m29s\u001b[0m 245ms/step - accuracy: 0.7258 - loss: 0.6433 - precision: 0.7871 - recall: 0.6236 - val_accuracy: 0.7717 - val_loss: 0.5738 - val_precision: 0.8009 - val_recall: 0.7313\n",
      "Epoch 14/30\n",
      "\u001b[1m117/117\u001b[0m \u001b[32m━━━━━━━━━━━━━━━━━━━━\u001b[0m\u001b[37m\u001b[0m \u001b[1m28s\u001b[0m 235ms/step - accuracy: 0.7743 - loss: 0.5597 - precision: 0.8106 - recall: 0.7182 - val_accuracy: 0.7778 - val_loss: 0.5660 - val_precision: 0.7949 - val_recall: 0.7515\n",
      "Epoch 15/30\n",
      "\u001b[1m117/117\u001b[0m \u001b[32m━━━━━━━━━━━━━━━━━━━━\u001b[0m\u001b[37m\u001b[0m \u001b[1m26s\u001b[0m 223ms/step - accuracy: 0.8096 - loss: 0.4671 - precision: 0.8252 - recall: 0.7757 - val_accuracy: 0.8061 - val_loss: 0.5031 - val_precision: 0.8260 - val_recall: 0.7960\n",
      "Epoch 16/30\n",
      "\u001b[1m117/117\u001b[0m \u001b[32m━━━━━━━━━━━━━━━━━━━━\u001b[0m\u001b[37m\u001b[0m \u001b[1m28s\u001b[0m 235ms/step - accuracy: 0.8357 - loss: 0.4082 - precision: 0.8514 - recall: 0.8151 - val_accuracy: 0.8141 - val_loss: 0.5032 - val_precision: 0.8240 - val_recall: 0.8040\n",
      "Epoch 17/30\n",
      "\u001b[1m117/117\u001b[0m \u001b[32m━━━━━━━━━━━━━━━━━━━━\u001b[0m\u001b[37m\u001b[0m \u001b[1m28s\u001b[0m 234ms/step - accuracy: 0.8545 - loss: 0.3882 - precision: 0.8749 - recall: 0.8306 - val_accuracy: 0.8444 - val_loss: 0.4999 - val_precision: 0.8536 - val_recall: 0.8364\n",
      "Epoch 18/30\n",
      "\u001b[1m117/117\u001b[0m \u001b[32m━━━━━━━━━━━━━━━━━━━━\u001b[0m\u001b[37m\u001b[0m \u001b[1m26s\u001b[0m 222ms/step - accuracy: 0.8606 - loss: 0.3518 - precision: 0.8678 - recall: 0.8447 - val_accuracy: 0.8485 - val_loss: 0.4745 - val_precision: 0.8557 - val_recall: 0.8384\n",
      "Epoch 19/30\n",
      "\u001b[1m117/117\u001b[0m \u001b[32m━━━━━━━━━━━━━━━━━━━━\u001b[0m\u001b[37m\u001b[0m \u001b[1m28s\u001b[0m 235ms/step - accuracy: 0.8702 - loss: 0.3505 - precision: 0.8794 - recall: 0.8549 - val_accuracy: 0.8141 - val_loss: 0.5690 - val_precision: 0.8148 - val_recall: 0.8000\n",
      "Epoch 20/30\n",
      "\u001b[1m117/117\u001b[0m \u001b[32m━━━━━━━━━━━━━━━━━━━━\u001b[0m\u001b[37m\u001b[0m \u001b[1m28s\u001b[0m 234ms/step - accuracy: 0.8808 - loss: 0.3274 - precision: 0.8930 - recall: 0.8681 - val_accuracy: 0.8606 - val_loss: 0.4311 - val_precision: 0.8686 - val_recall: 0.8545\n",
      "Epoch 21/30\n",
      "\u001b[1m117/117\u001b[0m \u001b[32m━━━━━━━━━━━━━━━━━━━━\u001b[0m\u001b[37m\u001b[0m \u001b[1m26s\u001b[0m 221ms/step - accuracy: 0.8892 - loss: 0.2771 - precision: 0.9011 - recall: 0.8740 - val_accuracy: 0.8525 - val_loss: 0.4869 - val_precision: 0.8625 - val_recall: 0.8364\n",
      "Epoch 22/30\n",
      "\u001b[1m117/117\u001b[0m \u001b[32m━━━━━━━━━━━━━━━━━━━━\u001b[0m\u001b[37m\u001b[0m \u001b[1m28s\u001b[0m 237ms/step - accuracy: 0.8863 - loss: 0.2850 - precision: 0.8968 - recall: 0.8749 - val_accuracy: 0.8566 - val_loss: 0.5139 - val_precision: 0.8583 - val_recall: 0.8566\n",
      "Epoch 23/30\n",
      "\u001b[1m117/117\u001b[0m \u001b[32m━━━━━━━━━━━━━━━━━━━━\u001b[0m\u001b[37m\u001b[0m \u001b[1m28s\u001b[0m 237ms/step - accuracy: 0.9069 - loss: 0.2368 - precision: 0.9130 - recall: 0.8996 - val_accuracy: 0.8747 - val_loss: 0.5901 - val_precision: 0.8737 - val_recall: 0.8667\n",
      "Epoch 24/30\n",
      "\u001b[1m117/117\u001b[0m \u001b[32m━━━━━━━━━━━━━━━━━━━━\u001b[0m\u001b[37m\u001b[0m \u001b[1m26s\u001b[0m 222ms/step - accuracy: 0.9079 - loss: 0.2250 - precision: 0.9189 - recall: 0.8997 - val_accuracy: 0.8707 - val_loss: 0.5056 - val_precision: 0.8737 - val_recall: 0.8667\n",
      "Epoch 25/30\n",
      "\u001b[1m117/117\u001b[0m \u001b[32m━━━━━━━━━━━━━━━━━━━━\u001b[0m\u001b[37m\u001b[0m \u001b[1m29s\u001b[0m 245ms/step - accuracy: 0.9202 - loss: 0.2088 - precision: 0.9267 - recall: 0.9100 - val_accuracy: 0.8747 - val_loss: 0.5749 - val_precision: 0.8832 - val_recall: 0.8707\n",
      "Epoch 26/30\n",
      "\u001b[1m117/117\u001b[0m \u001b[32m━━━━━━━━━━━━━━━━━━━━\u001b[0m\u001b[37m\u001b[0m \u001b[1m28s\u001b[0m 236ms/step - accuracy: 0.9056 - loss: 0.2507 - precision: 0.9223 - recall: 0.8841 - val_accuracy: 0.8323 - val_loss: 0.4923 - val_precision: 0.8412 - val_recall: 0.8242\n",
      "Epoch 27/30\n",
      "\u001b[1m117/117\u001b[0m \u001b[32m━━━━━━━━━━━━━━━━━━━━\u001b[0m\u001b[37m\u001b[0m \u001b[1m26s\u001b[0m 222ms/step - accuracy: 0.9005 - loss: 0.2512 - precision: 0.9112 - recall: 0.8941 - val_accuracy: 0.8788 - val_loss: 0.4832 - val_precision: 0.8852 - val_recall: 0.8727\n",
      "Epoch 28/30\n",
      "\u001b[1m117/117\u001b[0m \u001b[32m━━━━━━━━━━━━━━━━━━━━\u001b[0m\u001b[37m\u001b[0m \u001b[1m28s\u001b[0m 235ms/step - accuracy: 0.9197 - loss: 0.2073 - precision: 0.9265 - recall: 0.9113 - val_accuracy: 0.8667 - val_loss: 0.5146 - val_precision: 0.8667 - val_recall: 0.8667\n",
      "Epoch 29/30\n",
      "\u001b[1m117/117\u001b[0m \u001b[32m━━━━━━━━━━━━━━━━━━━━\u001b[0m\u001b[37m\u001b[0m \u001b[1m28s\u001b[0m 237ms/step - accuracy: 0.9286 - loss: 0.1928 - precision: 0.9333 - recall: 0.9203 - val_accuracy: 0.8687 - val_loss: 0.5090 - val_precision: 0.8758 - val_recall: 0.8687\n",
      "Epoch 30/30\n",
      "\u001b[1m117/117\u001b[0m \u001b[32m━━━━━━━━━━━━━━━━━━━━\u001b[0m\u001b[37m\u001b[0m \u001b[1m26s\u001b[0m 222ms/step - accuracy: 0.9394 - loss: 0.1713 - precision: 0.9437 - recall: 0.9341 - val_accuracy: 0.8646 - val_loss: 0.4978 - val_precision: 0.8676 - val_recall: 0.8606\n",
      "Predicting on validation set...\n",
      "\u001b[1m16/16\u001b[0m \u001b[32m━━━━━━━━━━━━━━━━━━━━\u001b[0m\u001b[37m\u001b[0m \u001b[1m2s\u001b[0m 88ms/step\n",
      "Sending metrics to clearML...\n",
      "done\n"
     ]
    }
   ],
   "source": [
    "# histeq augmentation\n",
    "task_name = 'he'\n",
    "sub_project_name = 'HIST_EQ'\n",
    "\n",
    "augmentation_metadata = {\n",
    "        'methods': {        \n",
    "            'histEq': {\n",
    "                'parameters': {\n",
    "                    'p': 1.0  # Probability of applying the augmentation\n",
    "                },\n",
    "                'apply_to_percentage': 0.5  # 50% of the training images\n",
    "            }        \n",
    "        }\n",
    "    }\n",
    "\n",
    "for i in range(N):\n",
    "    RUN = i + 1\n",
    "    try:\n",
    "        print(f\"Starting RUN: {RUN}\")\n",
    "        main(RUN, augmentation_metadata, task_name, sub_project_name, epochs, train_size, w1, w2)\n",
    "    except Exception as e:\n",
    "        print(f\"Error in RUN: {RUN}\")\n",
    "        print(e)\n",
    "    finally:\n",
    "        clear_output(wait=True)  # Clear the output to avoid scrolling\n",
    "        gc.collect()  # Collect garbage to avoid memory leaks"
   ]
  },
  {
   "cell_type": "code",
   "execution_count": 12,
   "metadata": {},
   "outputs": [
    {
     "name": "stdout",
     "output_type": "stream",
     "text": [
      "Starting RUN: 5\n",
      "Seed:  1919946635\n"
     ]
    },
    {
     "name": "stderr",
     "output_type": "stream",
     "text": [
      "c:\\github\\Third-Year-Project\\Intruder-Aircraft-Detection\\main\\tl_clf.py:79: SettingWithCopyWarning:\n",
      "\n",
      "\n",
      "A value is trying to be set on a copy of a slice from a DataFrame.\n",
      "Try using .loc[row_indexer,col_indexer] = value instead\n",
      "\n",
      "See the caveats in the documentation: https://pandas.pydata.org/pandas-docs/stable/user_guide/indexing.html#returning-a-view-versus-a-copy\n",
      "\n",
      "c:\\github\\Third-Year-Project\\Intruder-Aircraft-Detection\\main\\tl_clf.py:80: SettingWithCopyWarning:\n",
      "\n",
      "\n",
      "A value is trying to be set on a copy of a slice from a DataFrame.\n",
      "Try using .loc[row_indexer,col_indexer] = value instead\n",
      "\n",
      "See the caveats in the documentation: https://pandas.pydata.org/pandas-docs/stable/user_guide/indexing.html#returning-a-view-versus-a-copy\n",
      "\n"
     ]
    },
    {
     "name": "stdout",
     "output_type": "stream",
     "text": [
      "Removing dataset if pre-existing\n",
      "Copying training files:\n"
     ]
    },
    {
     "name": "stderr",
     "output_type": "stream",
     "text": [
      "Copying files: 100%|██████████| 5000/5000 [00:05<00:00, 891.46it/s] \n"
     ]
    },
    {
     "name": "stdout",
     "output_type": "stream",
     "text": [
      "Copying validation files:\n"
     ]
    },
    {
     "name": "stderr",
     "output_type": "stream",
     "text": [
      "Copying files: 100%|██████████| 1000/1000 [00:00<00:00, 1243.52it/s]\n"
     ]
    },
    {
     "name": "stdout",
     "output_type": "stream",
     "text": [
      "Dataset 'weather_23_2500' created at C:\\github\\Third-Year-Project\\Intruder-Aircraft-Detection\\datasets\\Custom\\weather_23_2500\n",
      "Processing train labels in weather_23_2500:\n"
     ]
    },
    {
     "name": "stderr",
     "output_type": "stream",
     "text": [
      "Processing labels: 100%|██████████| 2500/2500 [00:09<00:00, 274.29it/s]\n"
     ]
    },
    {
     "name": "stdout",
     "output_type": "stream",
     "text": [
      "Processing valid labels in weather_23_2500:\n"
     ]
    },
    {
     "name": "stderr",
     "output_type": "stream",
     "text": [
      "Processing labels: 100%|██████████| 500/500 [00:01<00:00, 281.00it/s]\n"
     ]
    },
    {
     "name": "stdout",
     "output_type": "stream",
     "text": [
      "Label correction completed.\n"
     ]
    },
    {
     "name": "stderr",
     "output_type": "stream",
     "text": [
      "Removing existing directories/files: 100%|██████████| 3/3 [00:00<00:00, 6003.30it/s]\n",
      "Copying files: 100%|██████████| 2500/2500 [00:02<00:00, 1148.57it/s]\n",
      "Copying files: 100%|██████████| 2500/2500 [00:01<00:00, 1476.26it/s]\n",
      "Applying augmentations: 100%|██████████| 1250/1250 [00:52<00:00, 23.72it/s]\n",
      "Processing images:  14%|█▎        | 338/2500 [00:15<01:03, 34.19it/s]"
     ]
    },
    {
     "name": "stdout",
     "output_type": "stream",
     "text": [
      "An error occurred with C:/github/Third-Year-Project/Intruder-Aircraft-Detection/datasets/Custom/weather_23_2500\\images\\train\\26098.jpg: Expected x_min for bbox (-0.05254049999999999, 0.6148480000000001, 0.7579965, 1.1552060000000002, 1) to be in the range [0.0, 1.0], got -0.05254049999999999.\n"
     ]
    },
    {
     "name": "stderr",
     "output_type": "stream",
     "text": [
      "Processing images:  22%|██▏       | 543/2500 [00:21<00:54, 35.75it/s]"
     ]
    },
    {
     "name": "stdout",
     "output_type": "stream",
     "text": [
      "An error occurred with C:/github/Third-Year-Project/Intruder-Aircraft-Detection/datasets/Custom/weather_23_2500\\images\\train\\26500.jpg: Expected y_max for bbox (0.0655045, 0.7670555, 0.42422150000000003, 1.0062005, 1) to be in the range [0.0, 1.0], got 1.0062005.\n"
     ]
    },
    {
     "name": "stderr",
     "output_type": "stream",
     "text": [
      "Processing images:  25%|██▌       | 628/2500 [00:24<00:54, 34.52it/s]"
     ]
    },
    {
     "name": "stdout",
     "output_type": "stream",
     "text": [
      "An error occurred with C:/github/Third-Year-Project/Intruder-Aircraft-Detection/datasets/Custom/weather_23_2500\\images\\train\\26657.jpg: Expected x_max for bbox (0.27437150000000005, 0.117452, 1.1447385, 0.697696, 1) to be in the range [0.0, 1.0], got 1.1447385.\n"
     ]
    },
    {
     "name": "stderr",
     "output_type": "stream",
     "text": [
      "Processing images:  28%|██▊       | 693/2500 [00:26<00:51, 35.39it/s]"
     ]
    },
    {
     "name": "stdout",
     "output_type": "stream",
     "text": [
      "An error occurred with C:/github/Third-Year-Project/Intruder-Aircraft-Detection/datasets/Custom/weather_23_2500\\images\\train\\26778.jpg: Expected y_min for bbox (0.17198949999999996, -0.047677, 0.8024305, 0.372617, 1) to be in the range [0.0, 1.0], got -0.047677.\n"
     ]
    },
    {
     "name": "stderr",
     "output_type": "stream",
     "text": [
      "Processing images:  31%|███       | 770/2500 [00:28<00:49, 35.16it/s]"
     ]
    },
    {
     "name": "stdout",
     "output_type": "stream",
     "text": [
      "An error occurred with C:/github/Third-Year-Project/Intruder-Aircraft-Detection/datasets/Custom/weather_23_2500\\images\\train\\27022.jpg: Expected x_min for bbox (-0.0780495, 0.5655505, 0.7145335, 1.0939394999999998, 1) to be in the range [0.0, 1.0], got -0.0780495.\n"
     ]
    },
    {
     "name": "stderr",
     "output_type": "stream",
     "text": [
      "Processing images:  35%|███▍      | 863/2500 [00:31<00:46, 35.45it/s]"
     ]
    },
    {
     "name": "stdout",
     "output_type": "stream",
     "text": [
      "An error occurred with C:/github/Third-Year-Project/Intruder-Aircraft-Detection/datasets/Custom/weather_23_2500\\images\\train\\27218.jpg: Expected y_max for bbox (0.38584999999999997, 0.7377294999999999, 0.7992459999999999, 1.0133264999999998, 1) to be in the range [0.0, 1.0], got 1.0133264999999998.\n"
     ]
    },
    {
     "name": "stderr",
     "output_type": "stream",
     "text": [
      "Processing images:  38%|███▊      | 944/2500 [00:34<00:45, 34.23it/s]"
     ]
    },
    {
     "name": "stdout",
     "output_type": "stream",
     "text": [
      "An error occurred with C:/github/Third-Year-Project/Intruder-Aircraft-Detection/datasets/Custom/weather_23_2500\\images\\train\\27381.jpg: Expected y_max for bbox (0.24027500000000002, 0.6626745, 0.832789, 1.0576835, 1) to be in the range [0.0, 1.0], got 1.0576835.\n"
     ]
    },
    {
     "name": "stderr",
     "output_type": "stream",
     "text": [
      "Processing images:  40%|████      | 1009/2500 [00:36<00:43, 34.27it/s]"
     ]
    },
    {
     "name": "stdout",
     "output_type": "stream",
     "text": [
      "An error occurred with C:/github/Third-Year-Project/Intruder-Aircraft-Detection/datasets/Custom/weather_23_2500\\images\\train\\27530.jpg: Expected y_max for bbox (0.19746399999999997, 0.778044, 0.563272, 1.021916, 1) to be in the range [0.0, 1.0], got 1.021916.\n"
     ]
    },
    {
     "name": "stderr",
     "output_type": "stream",
     "text": [
      "Processing images:  81%|████████  | 2026/2500 [01:06<00:13, 35.36it/s]"
     ]
    },
    {
     "name": "stdout",
     "output_type": "stream",
     "text": [
      "An error occurred with C:/github/Third-Year-Project/Intruder-Aircraft-Detection/datasets/Custom/weather_23_2500\\images\\train\\50732.jpg: Expected x_min for bbox (-0.02266499999999999, 0.5461069999999999, 0.560295, 0.9347469999999999, 2) to be in the range [0.0, 1.0], got -0.02266499999999999.\n"
     ]
    },
    {
     "name": "stderr",
     "output_type": "stream",
     "text": [
      "Processing images:  82%|████████▏ | 2059/2500 [01:07<00:12, 35.81it/s]"
     ]
    },
    {
     "name": "stdout",
     "output_type": "stream",
     "text": [
      "An error occurred with C:/github/Third-Year-Project/Intruder-Aircraft-Detection/datasets/Custom/weather_23_2500\\images\\train\\50820.jpg: Expected y_min for bbox (0.05699850000000001, -0.0029215000000000213, 0.5023355, 0.2939695, 2) to be in the range [0.0, 1.0], got -0.0029215000000000213.\n"
     ]
    },
    {
     "name": "stderr",
     "output_type": "stream",
     "text": [
      "Processing images:  83%|████████▎ | 2076/2500 [01:07<00:11, 35.83it/s]"
     ]
    },
    {
     "name": "stdout",
     "output_type": "stream",
     "text": [
      "An error occurred with C:/github/Third-Year-Project/Intruder-Aircraft-Detection/datasets/Custom/weather_23_2500\\images\\train\\50883.jpg: Expected y_min for bbox (0.12349849999999996, -0.0012560000000000071, 0.7682795, 0.42859800000000003, 2) to be in the range [0.0, 1.0], got -0.0012560000000000071.\n"
     ]
    },
    {
     "name": "stderr",
     "output_type": "stream",
     "text": [
      "Processing images:  89%|████████▉ | 2221/2500 [01:11<00:07, 35.63it/s]"
     ]
    },
    {
     "name": "stdout",
     "output_type": "stream",
     "text": [
      "An error occurred with C:/github/Third-Year-Project/Intruder-Aircraft-Detection/datasets/Custom/weather_23_2500\\images\\train\\51292.jpg: Expected x_min for bbox (-0.01595049999999998, -0.01135449999999999, 0.7156905, 0.4764065, 2) to be in the range [0.0, 1.0], got -0.01595049999999998.\n"
     ]
    },
    {
     "name": "stderr",
     "output_type": "stream",
     "text": [
      "Processing images:  93%|█████████▎| 2318/2500 [01:14<00:05, 35.18it/s]"
     ]
    },
    {
     "name": "stdout",
     "output_type": "stream",
     "text": [
      "An error occurred with C:/github/Third-Year-Project/Intruder-Aircraft-Detection/datasets/Custom/weather_23_2500\\images\\train\\51512.jpg: In YOLO format all coordinates must be float and in range (0, 1]\n"
     ]
    },
    {
     "name": "stderr",
     "output_type": "stream",
     "text": [
      "Processing images:  99%|█████████▉| 2479/2500 [01:19<00:00, 34.53it/s]"
     ]
    },
    {
     "name": "stdout",
     "output_type": "stream",
     "text": [
      "An error occurred with C:/github/Third-Year-Project/Intruder-Aircraft-Detection/datasets/Custom/weather_23_2500\\images\\train\\51848.jpg: In YOLO format all coordinates must be float and in range (0, 1]\n"
     ]
    },
    {
     "name": "stderr",
     "output_type": "stream",
     "text": [
      "Processing images: 100%|██████████| 2500/2500 [01:20<00:00, 31.20it/s]\n",
      "Processing images:  14%|█▎        | 508/3750 [00:27<01:41, 32.09it/s]"
     ]
    },
    {
     "name": "stdout",
     "output_type": "stream",
     "text": [
      "An error occurred with C:/github/Third-Year-Project/Intruder-Aircraft-Detection/datasets/Custom/weather_23_2500\\images\\train-aug\\26098.jpg: Expected x_min for bbox (-0.05254049999999999, 0.6148480000000001, 0.7579965, 1.1552060000000002, 1) to be in the range [0.0, 1.0], got -0.05254049999999999.\n",
      "An error occurred with C:/github/Third-Year-Project/Intruder-Aircraft-Detection/datasets/Custom/weather_23_2500\\images\\train-aug\\26098-gaussian.jpg: Expected x_min for bbox (-0.05254049999999999, 0.6148480000000001, 0.7579965, 1.1552060000000002, 1) to be in the range [0.0, 1.0], got -0.05254049999999999.\n"
     ]
    },
    {
     "name": "stderr",
     "output_type": "stream",
     "text": [
      "Processing images:  22%|██▏       | 812/3750 [00:37<01:32, 31.73it/s]"
     ]
    },
    {
     "name": "stdout",
     "output_type": "stream",
     "text": [
      "An error occurred with C:/github/Third-Year-Project/Intruder-Aircraft-Detection/datasets/Custom/weather_23_2500\\images\\train-aug\\26500.jpg: Expected y_max for bbox (0.0655045, 0.7670555, 0.42422150000000003, 1.0062005, 1) to be in the range [0.0, 1.0], got 1.0062005.\n"
     ]
    },
    {
     "name": "stderr",
     "output_type": "stream",
     "text": [
      "Processing images:  22%|██▏       | 825/3750 [00:38<01:30, 32.35it/s]"
     ]
    },
    {
     "name": "stdout",
     "output_type": "stream",
     "text": [
      "An error occurred with C:/github/Third-Year-Project/Intruder-Aircraft-Detection/datasets/Custom/weather_23_2500\\images\\train-aug\\26500-gaussian.jpg: Expected y_max for bbox (0.0655045, 0.7670555, 0.42422150000000003, 1.0062005, 1) to be in the range [0.0, 1.0], got 1.0062005.\n"
     ]
    },
    {
     "name": "stderr",
     "output_type": "stream",
     "text": [
      "Processing images:  25%|██▌       | 938/3750 [00:41<01:33, 30.18it/s]"
     ]
    },
    {
     "name": "stdout",
     "output_type": "stream",
     "text": [
      "An error occurred with C:/github/Third-Year-Project/Intruder-Aircraft-Detection/datasets/Custom/weather_23_2500\\images\\train-aug\\26657.jpg: Expected x_max for bbox (0.27437150000000005, 0.117452, 1.1447385, 0.697696, 1) to be in the range [0.0, 1.0], got 1.1447385.\n",
      "An error occurred with C:/github/Third-Year-Project/Intruder-Aircraft-Detection/datasets/Custom/weather_23_2500\\images\\train-aug\\26657-gaussian.jpg: Expected x_max for bbox (0.27437150000000005, 0.117452, 1.1447385, 0.697696, 1) to be in the range [0.0, 1.0], got 1.1447385.\n"
     ]
    },
    {
     "name": "stderr",
     "output_type": "stream",
     "text": [
      "Processing images:  28%|██▊       | 1047/3750 [00:45<01:28, 30.47it/s]"
     ]
    },
    {
     "name": "stdout",
     "output_type": "stream",
     "text": [
      "An error occurred with C:/github/Third-Year-Project/Intruder-Aircraft-Detection/datasets/Custom/weather_23_2500\\images\\train-aug\\26778.jpg: Expected y_min for bbox (0.17198949999999996, -0.047677, 0.8024305, 0.372617, 1) to be in the range [0.0, 1.0], got -0.047677.\n"
     ]
    },
    {
     "name": "stderr",
     "output_type": "stream",
     "text": [
      "Processing images:  31%|███       | 1157/3750 [00:49<01:20, 32.03it/s]"
     ]
    },
    {
     "name": "stdout",
     "output_type": "stream",
     "text": [
      "An error occurred with C:/github/Third-Year-Project/Intruder-Aircraft-Detection/datasets/Custom/weather_23_2500\\images\\train-aug\\27022.jpg: Expected x_min for bbox (-0.0780495, 0.5655505, 0.7145335, 1.0939394999999998, 1) to be in the range [0.0, 1.0], got -0.0780495.\n"
     ]
    },
    {
     "name": "stderr",
     "output_type": "stream",
     "text": [
      "Processing images:  34%|███▍      | 1289/3750 [00:53<01:12, 34.05it/s]"
     ]
    },
    {
     "name": "stdout",
     "output_type": "stream",
     "text": [
      "An error occurred with C:/github/Third-Year-Project/Intruder-Aircraft-Detection/datasets/Custom/weather_23_2500\\images\\train-aug\\27218.jpg: Expected y_max for bbox (0.38584999999999997, 0.7377294999999999, 0.7992459999999999, 1.0133264999999998, 1) to be in the range [0.0, 1.0], got 1.0133264999999998.\n",
      "An error occurred with C:/github/Third-Year-Project/Intruder-Aircraft-Detection/datasets/Custom/weather_23_2500\\images\\train-aug\\27218-gaussian.jpg: Expected y_max for bbox (0.38584999999999997, 0.7377294999999999, 0.7992459999999999, 1.0133264999999998, 1) to be in the range [0.0, 1.0], got 1.0133264999999998.\n"
     ]
    },
    {
     "name": "stderr",
     "output_type": "stream",
     "text": [
      "Processing images:  38%|███▊      | 1420/3750 [00:58<01:17, 30.08it/s]"
     ]
    },
    {
     "name": "stdout",
     "output_type": "stream",
     "text": [
      "An error occurred with C:/github/Third-Year-Project/Intruder-Aircraft-Detection/datasets/Custom/weather_23_2500\\images\\train-aug\\27381.jpg: Expected y_max for bbox (0.24027500000000002, 0.6626745, 0.832789, 1.0576835, 1) to be in the range [0.0, 1.0], got 1.0576835.\n"
     ]
    },
    {
     "name": "stderr",
     "output_type": "stream",
     "text": [
      "Processing images:  40%|████      | 1511/3750 [01:01<01:12, 30.78it/s]"
     ]
    },
    {
     "name": "stdout",
     "output_type": "stream",
     "text": [
      "An error occurred with C:/github/Third-Year-Project/Intruder-Aircraft-Detection/datasets/Custom/weather_23_2500\\images\\train-aug\\27530.jpg: Expected y_max for bbox (0.19746399999999997, 0.778044, 0.563272, 1.021916, 1) to be in the range [0.0, 1.0], got 1.021916.\n",
      "An error occurred with C:/github/Third-Year-Project/Intruder-Aircraft-Detection/datasets/Custom/weather_23_2500\\images\\train-aug\\27530-gaussian.jpg: Expected y_max for bbox (0.19746399999999997, 0.778044, 0.563272, 1.021916, 1) to be in the range [0.0, 1.0], got 1.021916.\n"
     ]
    },
    {
     "name": "stderr",
     "output_type": "stream",
     "text": [
      "Processing images:  81%|████████  | 3035/3750 [01:51<00:22, 31.48it/s]"
     ]
    },
    {
     "name": "stdout",
     "output_type": "stream",
     "text": [
      "An error occurred with C:/github/Third-Year-Project/Intruder-Aircraft-Detection/datasets/Custom/weather_23_2500\\images\\train-aug\\50732.jpg: Expected x_min for bbox (-0.02266499999999999, 0.5461069999999999, 0.560295, 0.9347469999999999, 2) to be in the range [0.0, 1.0], got -0.02266499999999999.\n"
     ]
    },
    {
     "name": "stderr",
     "output_type": "stream",
     "text": [
      "Processing images:  82%|████████▏ | 3081/3750 [01:52<00:19, 34.48it/s]"
     ]
    },
    {
     "name": "stdout",
     "output_type": "stream",
     "text": [
      "An error occurred with C:/github/Third-Year-Project/Intruder-Aircraft-Detection/datasets/Custom/weather_23_2500\\images\\train-aug\\50820.jpg: Expected y_min for bbox (0.05699850000000001, -0.0029215000000000213, 0.5023355, 0.2939695, 2) to be in the range [0.0, 1.0], got -0.0029215000000000213.\n",
      "An error occurred with C:/github/Third-Year-Project/Intruder-Aircraft-Detection/datasets/Custom/weather_23_2500\\images\\train-aug\\50820-gaussian.jpg: Expected y_min for bbox (0.05699850000000001, -0.0029215000000000213, 0.5023355, 0.2939695, 2) to be in the range [0.0, 1.0], got -0.0029215000000000213.\n"
     ]
    },
    {
     "name": "stderr",
     "output_type": "stream",
     "text": [
      "Processing images:  83%|████████▎ | 3113/3750 [01:53<00:19, 32.68it/s]"
     ]
    },
    {
     "name": "stdout",
     "output_type": "stream",
     "text": [
      "An error occurred with C:/github/Third-Year-Project/Intruder-Aircraft-Detection/datasets/Custom/weather_23_2500\\images\\train-aug\\50883.jpg: Expected y_min for bbox (0.12349849999999996, -0.0012560000000000071, 0.7682795, 0.42859800000000003, 2) to be in the range [0.0, 1.0], got -0.0012560000000000071.\n"
     ]
    },
    {
     "name": "stderr",
     "output_type": "stream",
     "text": [
      "Processing images:  88%|████████▊ | 3315/3750 [02:00<00:14, 29.80it/s]"
     ]
    },
    {
     "name": "stdout",
     "output_type": "stream",
     "text": [
      "An error occurred with C:/github/Third-Year-Project/Intruder-Aircraft-Detection/datasets/Custom/weather_23_2500\\images\\train-aug\\51292.jpg: Expected x_min for bbox (-0.01595049999999998, -0.01135449999999999, 0.7156905, 0.4764065, 2) to be in the range [0.0, 1.0], got -0.01595049999999998.\n",
      "An error occurred with C:/github/Third-Year-Project/Intruder-Aircraft-Detection/datasets/Custom/weather_23_2500\\images\\train-aug\\51292-gaussian.jpg: Expected x_min for bbox (-0.01595049999999998, -0.01135449999999999, 0.7156905, 0.4764065, 2) to be in the range [0.0, 1.0], got -0.01595049999999998.\n"
     ]
    },
    {
     "name": "stderr",
     "output_type": "stream",
     "text": [
      "Processing images:  93%|█████████▎| 3479/3750 [02:06<00:08, 31.15it/s]"
     ]
    },
    {
     "name": "stdout",
     "output_type": "stream",
     "text": [
      "An error occurred with C:/github/Third-Year-Project/Intruder-Aircraft-Detection/datasets/Custom/weather_23_2500\\images\\train-aug\\51512.jpg: In YOLO format all coordinates must be float and in range (0, 1]\n"
     ]
    },
    {
     "name": "stderr",
     "output_type": "stream",
     "text": [
      "Processing images:  99%|█████████▉| 3704/3750 [02:13<00:01, 32.01it/s]"
     ]
    },
    {
     "name": "stdout",
     "output_type": "stream",
     "text": [
      "An error occurred with C:/github/Third-Year-Project/Intruder-Aircraft-Detection/datasets/Custom/weather_23_2500\\images\\train-aug\\51848.jpg: In YOLO format all coordinates must be float and in range (0, 1]\n"
     ]
    },
    {
     "name": "stderr",
     "output_type": "stream",
     "text": [
      "Processing images:  99%|█████████▉| 3712/3750 [02:13<00:01, 31.93it/s]"
     ]
    },
    {
     "name": "stdout",
     "output_type": "stream",
     "text": [
      "An error occurred with C:/github/Third-Year-Project/Intruder-Aircraft-Detection/datasets/Custom/weather_23_2500\\images\\train-aug\\51848-gaussian.jpg: In YOLO format all coordinates must be float and in range (0, 1]\n"
     ]
    },
    {
     "name": "stderr",
     "output_type": "stream",
     "text": [
      "Processing images: 100%|██████████| 3750/3750 [02:15<00:00, 27.77it/s]\n",
      "Processing images:   4%|▍         | 19/500 [00:01<00:28, 16.70it/s]"
     ]
    },
    {
     "name": "stdout",
     "output_type": "stream",
     "text": [
      "An error occurred with C:/github/Third-Year-Project/Intruder-Aircraft-Detection/datasets/Custom/weather_23_2500\\images\\valid\\26926.jpg: Expected y_min for bbox (0.38187599999999994, -0.12572450000000002, 1.180976, 0.4070085, 1) to be in the range [0.0, 1.0], got -0.12572450000000002.\n"
     ]
    },
    {
     "name": "stderr",
     "output_type": "stream",
     "text": [
      "Processing images:  17%|█▋        | 86/500 [00:03<00:12, 34.07it/s]"
     ]
    },
    {
     "name": "stdout",
     "output_type": "stream",
     "text": [
      "An error occurred with C:/github/Third-Year-Project/Intruder-Aircraft-Detection/datasets/Custom/weather_23_2500\\images\\valid\\26999.jpg: Expected x_min for bbox (-0.1462135, 0.3244429999999999, 0.7076735, 0.893701, 1) to be in the range [0.0, 1.0], got -0.1462135.\n"
     ]
    },
    {
     "name": "stderr",
     "output_type": "stream",
     "text": [
      "Processing images:  70%|███████   | 352/500 [00:11<00:04, 35.35it/s]"
     ]
    },
    {
     "name": "stdout",
     "output_type": "stream",
     "text": [
      "An error occurred with C:/github/Third-Year-Project/Intruder-Aircraft-Detection/datasets/Custom/weather_23_2500\\images\\valid\\50917.jpg: Expected y_min for bbox (0.3312055, -0.11337250000000001, 1.1166544999999999, 0.41026050000000003, 2) to be in the range [0.0, 1.0], got -0.11337250000000001.\n"
     ]
    },
    {
     "name": "stderr",
     "output_type": "stream",
     "text": [
      "Processing images:  77%|███████▋  | 385/500 [00:12<00:03, 37.35it/s]"
     ]
    },
    {
     "name": "stdout",
     "output_type": "stream",
     "text": [
      "An error occurred with C:/github/Third-Year-Project/Intruder-Aircraft-Detection/datasets/Custom/weather_23_2500\\images\\valid\\50955.jpg: Expected x_min for bbox (-0.021672000000000025, 0.2856885, 0.507494, 0.6384655, 2) to be in the range [0.0, 1.0], got -0.021672000000000025.\n"
     ]
    },
    {
     "name": "stderr",
     "output_type": "stream",
     "text": [
      "Processing images:  91%|█████████ | 454/500 [00:14<00:01, 36.26it/s]"
     ]
    },
    {
     "name": "stdout",
     "output_type": "stream",
     "text": [
      "An error occurred with C:/github/Third-Year-Project/Intruder-Aircraft-Detection/datasets/Custom/weather_23_2500\\images\\valid\\51937.jpg: Expected y_min for bbox (0.07818900000000001, -0.009202500000000002, 0.5387230000000001, 0.2978205, 2) to be in the range [0.0, 1.0], got -0.009202500000000002.\n"
     ]
    },
    {
     "name": "stderr",
     "output_type": "stream",
     "text": [
      "Processing images: 100%|██████████| 500/500 [00:16<00:00, 31.18it/s]\n",
      "Moving images in train: 100%|██████████| 2486/2486 [00:08<00:00, 278.28it/s]\n",
      "Moving images in train-aug: 100%|██████████| 3728/3728 [00:10<00:00, 343.77it/s]\n",
      "Moving images in valid: 100%|██████████| 495/495 [00:01<00:00, 286.12it/s]\n"
     ]
    },
    {
     "name": "stdout",
     "output_type": "stream",
     "text": [
      "Found 2486 files belonging to 3 classes.\n",
      "Found 3728 files belonging to 3 classes.\n",
      "Found 495 files belonging to 3 classes.\n",
      "ClearML Task: created new task id=c9f6ad8700e54d8bbdb3a4b97812f088\n",
      "ClearML results page: https://app.clear.ml/projects/8cfd67047c9d4e6abe11758d1fccbf13/experiments/c9f6ad8700e54d8bbdb3a4b97812f088/output/log\n",
      "Training model...\n",
      "Epoch 1/30\n",
      "\u001b[1m78/78\u001b[0m \u001b[32m━━━━━━━━━━━━━━━━━━━━\u001b[0m\u001b[37m\u001b[0m \u001b[1m22s\u001b[0m 258ms/step - accuracy: 0.3149 - loss: 2.1792 - precision: 0.2891 - recall: 0.0684 - val_accuracy: 0.3354 - val_loss: 1.0980 - val_precision: 0.0000e+00 - val_recall: 0.0000e+00\n",
      "Epoch 2/30\n",
      "\u001b[1m78/78\u001b[0m \u001b[32m━━━━━━━━━━━━━━━━━━━━\u001b[0m\u001b[37m\u001b[0m \u001b[1m18s\u001b[0m 229ms/step - accuracy: 0.3136 - loss: 1.0983 - precision: 0.0000e+00 - recall: 0.0000e+00 - val_accuracy: 0.3354 - val_loss: 1.0979 - val_precision: 0.0000e+00 - val_recall: 0.0000e+00\n",
      "Epoch 3/30\n",
      "\u001b[1m78/78\u001b[0m \u001b[32m━━━━━━━━━━━━━━━━━━━━\u001b[0m\u001b[37m\u001b[0m \u001b[1m20s\u001b[0m 249ms/step - accuracy: 0.3229 - loss: 1.0985 - precision: 0.0000e+00 - recall: 0.0000e+00 - val_accuracy: 0.3313 - val_loss: 1.0976 - val_precision: 0.0000e+00 - val_recall: 0.0000e+00\n",
      "Epoch 4/30\n",
      "\u001b[1m78/78\u001b[0m \u001b[32m━━━━━━━━━━━━━━━━━━━━\u001b[0m\u001b[37m\u001b[0m \u001b[1m18s\u001b[0m 228ms/step - accuracy: 0.3213 - loss: 1.0992 - precision: 0.0000e+00 - recall: 0.0000e+00 - val_accuracy: 0.4000 - val_loss: 1.0979 - val_precision: 0.0000e+00 - val_recall: 0.0000e+00\n",
      "Epoch 5/30\n",
      "\u001b[1m78/78\u001b[0m \u001b[32m━━━━━━━━━━━━━━━━━━━━\u001b[0m\u001b[37m\u001b[0m \u001b[1m20s\u001b[0m 250ms/step - accuracy: 0.3595 - loss: 1.0979 - precision: 0.0000e+00 - recall: 0.0000e+00 - val_accuracy: 0.3313 - val_loss: 1.0980 - val_precision: 0.0000e+00 - val_recall: 0.0000e+00\n",
      "Epoch 6/30\n",
      "\u001b[1m78/78\u001b[0m \u001b[32m━━━━━━━━━━━━━━━━━━━━\u001b[0m\u001b[37m\u001b[0m \u001b[1m18s\u001b[0m 227ms/step - accuracy: 0.3462 - loss: 1.0983 - precision: 0.0000e+00 - recall: 0.0000e+00 - val_accuracy: 0.3333 - val_loss: 1.0979 - val_precision: 0.0000e+00 - val_recall: 0.0000e+00\n",
      "Epoch 7/30\n",
      "\u001b[1m78/78\u001b[0m \u001b[32m━━━━━━━━━━━━━━━━━━━━\u001b[0m\u001b[37m\u001b[0m \u001b[1m20s\u001b[0m 252ms/step - accuracy: 0.3431 - loss: 1.0986 - precision: 0.0000e+00 - recall: 0.0000e+00 - val_accuracy: 0.3374 - val_loss: 1.0961 - val_precision: 0.0000e+00 - val_recall: 0.0000e+00\n",
      "Epoch 8/30\n",
      "\u001b[1m78/78\u001b[0m \u001b[32m━━━━━━━━━━━━━━━━━━━━\u001b[0m\u001b[37m\u001b[0m \u001b[1m18s\u001b[0m 228ms/step - accuracy: 0.3609 - loss: 1.0964 - precision: 0.0619 - recall: 0.0012 - val_accuracy: 0.3414 - val_loss: 1.0980 - val_precision: 0.0000e+00 - val_recall: 0.0000e+00\n",
      "Epoch 9/30\n",
      "\u001b[1m78/78\u001b[0m \u001b[32m━━━━━━━━━━━━━━━━━━━━\u001b[0m\u001b[37m\u001b[0m \u001b[1m18s\u001b[0m 233ms/step - accuracy: 0.3372 - loss: 1.1000 - precision: 0.0000e+00 - recall: 0.0000e+00 - val_accuracy: 0.3293 - val_loss: 1.0984 - val_precision: 0.0000e+00 - val_recall: 0.0000e+00\n",
      "Epoch 10/30\n",
      "\u001b[1m78/78\u001b[0m \u001b[32m━━━━━━━━━━━━━━━━━━━━\u001b[0m\u001b[37m\u001b[0m \u001b[1m19s\u001b[0m 243ms/step - accuracy: 0.3648 - loss: 1.0976 - precision: 0.0000e+00 - recall: 0.0000e+00 - val_accuracy: 0.4384 - val_loss: 1.0843 - val_precision: 0.0000e+00 - val_recall: 0.0000e+00\n",
      "Epoch 11/30\n",
      "\u001b[1m78/78\u001b[0m \u001b[32m━━━━━━━━━━━━━━━━━━━━\u001b[0m\u001b[37m\u001b[0m \u001b[1m18s\u001b[0m 227ms/step - accuracy: 0.4304 - loss: 1.0814 - precision: 0.5030 - recall: 0.0242 - val_accuracy: 0.4667 - val_loss: 1.0033 - val_precision: 0.5650 - val_recall: 0.2545\n",
      "Epoch 12/30\n",
      "\u001b[1m78/78\u001b[0m \u001b[32m━━━━━━━━━━━━━━━━━━━━\u001b[0m\u001b[37m\u001b[0m \u001b[1m20s\u001b[0m 247ms/step - accuracy: 0.5745 - loss: 0.9360 - precision: 0.7504 - recall: 0.2937 - val_accuracy: 0.3333 - val_loss: 1.0977 - val_precision: 0.0000e+00 - val_recall: 0.0000e+00\n",
      "Epoch 13/30\n",
      "\u001b[1m78/78\u001b[0m \u001b[32m━━━━━━━━━━━━━━━━━━━━\u001b[0m\u001b[37m\u001b[0m \u001b[1m18s\u001b[0m 227ms/step - accuracy: 0.3591 - loss: 1.0975 - precision: 0.0000e+00 - recall: 0.0000e+00 - val_accuracy: 0.3576 - val_loss: 1.0899 - val_precision: 0.0000e+00 - val_recall: 0.0000e+00\n",
      "Epoch 14/30\n",
      "\u001b[1m78/78\u001b[0m \u001b[32m━━━━━━━━━━━━━━━━━━━━\u001b[0m\u001b[37m\u001b[0m \u001b[1m20s\u001b[0m 251ms/step - accuracy: 0.4038 - loss: 1.0712 - precision: 0.4299 - recall: 0.0472 - val_accuracy: 0.7071 - val_loss: 0.8418 - val_precision: 0.7794 - val_recall: 0.3212\n",
      "Epoch 15/30\n",
      "\u001b[1m78/78\u001b[0m \u001b[32m━━━━━━━━━━━━━━━━━━━━\u001b[0m\u001b[37m\u001b[0m \u001b[1m18s\u001b[0m 230ms/step - accuracy: 0.6334 - loss: 0.8238 - precision: 0.7394 - recall: 0.4136 - val_accuracy: 0.7152 - val_loss: 0.7164 - val_precision: 0.7544 - val_recall: 0.6020\n",
      "Epoch 16/30\n",
      "\u001b[1m78/78\u001b[0m \u001b[32m━━━━━━━━━━━━━━━━━━━━\u001b[0m\u001b[37m\u001b[0m \u001b[1m21s\u001b[0m 269ms/step - accuracy: 0.7226 - loss: 0.6719 - precision: 0.7806 - recall: 0.6232 - val_accuracy: 0.7192 - val_loss: 0.6644 - val_precision: 0.7574 - val_recall: 0.6747\n",
      "Epoch 17/30\n",
      "\u001b[1m78/78\u001b[0m \u001b[32m━━━━━━━━━━━━━━━━━━━━\u001b[0m\u001b[37m\u001b[0m \u001b[1m18s\u001b[0m 229ms/step - accuracy: 0.7612 - loss: 0.5494 - precision: 0.8031 - recall: 0.7110 - val_accuracy: 0.7636 - val_loss: 0.6130 - val_precision: 0.7792 - val_recall: 0.7414\n",
      "Epoch 18/30\n",
      "\u001b[1m78/78\u001b[0m \u001b[32m━━━━━━━━━━━━━━━━━━━━\u001b[0m\u001b[37m\u001b[0m \u001b[1m20s\u001b[0m 251ms/step - accuracy: 0.8065 - loss: 0.4892 - precision: 0.8262 - recall: 0.7671 - val_accuracy: 0.7960 - val_loss: 0.6118 - val_precision: 0.8083 - val_recall: 0.7838\n",
      "Epoch 19/30\n",
      "\u001b[1m78/78\u001b[0m \u001b[32m━━━━━━━━━━━━━━━━━━━━\u001b[0m\u001b[37m\u001b[0m \u001b[1m18s\u001b[0m 228ms/step - accuracy: 0.8321 - loss: 0.4274 - precision: 0.8534 - recall: 0.8088 - val_accuracy: 0.7960 - val_loss: 0.6107 - val_precision: 0.8037 - val_recall: 0.7859\n",
      "Epoch 20/30\n",
      "\u001b[1m78/78\u001b[0m \u001b[32m━━━━━━━━━━━━━━━━━━━━\u001b[0m\u001b[37m\u001b[0m \u001b[1m20s\u001b[0m 251ms/step - accuracy: 0.8556 - loss: 0.3688 - precision: 0.8649 - recall: 0.8406 - val_accuracy: 0.7960 - val_loss: 0.5855 - val_precision: 0.8100 - val_recall: 0.7838\n",
      "Epoch 21/30\n",
      "\u001b[1m78/78\u001b[0m \u001b[32m━━━━━━━━━━━━━━━━━━━━\u001b[0m\u001b[37m\u001b[0m \u001b[1m18s\u001b[0m 228ms/step - accuracy: 0.8700 - loss: 0.3302 - precision: 0.8873 - recall: 0.8569 - val_accuracy: 0.7838 - val_loss: 0.6278 - val_precision: 0.7959 - val_recall: 0.7798\n",
      "Epoch 22/30\n",
      "\u001b[1m78/78\u001b[0m \u001b[32m━━━━━━━━━━━━━━━━━━━━\u001b[0m\u001b[37m\u001b[0m \u001b[1m18s\u001b[0m 233ms/step - accuracy: 0.8841 - loss: 0.2939 - precision: 0.8930 - recall: 0.8732 - val_accuracy: 0.8242 - val_loss: 0.6083 - val_precision: 0.8385 - val_recall: 0.8182\n",
      "Epoch 23/30\n",
      "\u001b[1m78/78\u001b[0m \u001b[32m━━━━━━━━━━━━━━━━━━━━\u001b[0m\u001b[37m\u001b[0m \u001b[1m19s\u001b[0m 245ms/step - accuracy: 0.8869 - loss: 0.2814 - precision: 0.9000 - recall: 0.8820 - val_accuracy: 0.8242 - val_loss: 0.6179 - val_precision: 0.8309 - val_recall: 0.8141\n",
      "Epoch 24/30\n",
      "\u001b[1m78/78\u001b[0m \u001b[32m━━━━━━━━━━━━━━━━━━━━\u001b[0m\u001b[37m\u001b[0m \u001b[1m18s\u001b[0m 228ms/step - accuracy: 0.9032 - loss: 0.2484 - precision: 0.9114 - recall: 0.8969 - val_accuracy: 0.7899 - val_loss: 0.6485 - val_precision: 0.7930 - val_recall: 0.7818\n",
      "Epoch 25/30\n",
      "\u001b[1m78/78\u001b[0m \u001b[32m━━━━━━━━━━━━━━━━━━━━\u001b[0m\u001b[37m\u001b[0m \u001b[1m20s\u001b[0m 249ms/step - accuracy: 0.9017 - loss: 0.2614 - precision: 0.9074 - recall: 0.8889 - val_accuracy: 0.8020 - val_loss: 0.6711 - val_precision: 0.8082 - val_recall: 0.7919\n",
      "Epoch 26/30\n",
      "\u001b[1m78/78\u001b[0m \u001b[32m━━━━━━━━━━━━━━━━━━━━\u001b[0m\u001b[37m\u001b[0m \u001b[1m18s\u001b[0m 230ms/step - accuracy: 0.8969 - loss: 0.2605 - precision: 0.9036 - recall: 0.8866 - val_accuracy: 0.8424 - val_loss: 0.6216 - val_precision: 0.8473 - val_recall: 0.8404\n",
      "Epoch 27/30\n",
      "\u001b[1m78/78\u001b[0m \u001b[32m━━━━━━━━━━━━━━━━━━━━\u001b[0m\u001b[37m\u001b[0m \u001b[1m20s\u001b[0m 251ms/step - accuracy: 0.9282 - loss: 0.2051 - precision: 0.9337 - recall: 0.9204 - val_accuracy: 0.8444 - val_loss: 0.6671 - val_precision: 0.8493 - val_recall: 0.8424\n",
      "Epoch 28/30\n",
      "\u001b[1m78/78\u001b[0m \u001b[32m━━━━━━━━━━━━━━━━━━━━\u001b[0m\u001b[37m\u001b[0m \u001b[1m18s\u001b[0m 228ms/step - accuracy: 0.9271 - loss: 0.1924 - precision: 0.9278 - recall: 0.9192 - val_accuracy: 0.8343 - val_loss: 0.7456 - val_precision: 0.8425 - val_recall: 0.8323\n",
      "Epoch 29/30\n",
      "\u001b[1m78/78\u001b[0m \u001b[32m━━━━━━━━━━━━━━━━━━━━\u001b[0m\u001b[37m\u001b[0m \u001b[1m20s\u001b[0m 251ms/step - accuracy: 0.9373 - loss: 0.1844 - precision: 0.9425 - recall: 0.9286 - val_accuracy: 0.8525 - val_loss: 0.6964 - val_precision: 0.8540 - val_recall: 0.8505\n",
      "Epoch 30/30\n",
      "\u001b[1m78/78\u001b[0m \u001b[32m━━━━━━━━━━━━━━━━━━━━\u001b[0m\u001b[37m\u001b[0m \u001b[1m18s\u001b[0m 228ms/step - accuracy: 0.9268 - loss: 0.1860 - precision: 0.9364 - recall: 0.9230 - val_accuracy: 0.8424 - val_loss: 0.6713 - val_precision: 0.8487 - val_recall: 0.8384\n",
      "Predicting on validation set...\n",
      "\u001b[1m16/16\u001b[0m \u001b[32m━━━━━━━━━━━━━━━━━━━━\u001b[0m\u001b[37m\u001b[0m \u001b[1m1s\u001b[0m 54ms/step\n",
      "Sending metrics to clearML...\n",
      "done\n",
      "ClearML Task: created new task id=afaa212c97794af6bdcea87c4d667ec9\n",
      "ClearML results page: https://app.clear.ml/projects/8cfd67047c9d4e6abe11758d1fccbf13/experiments/afaa212c97794af6bdcea87c4d667ec9/output/log\n",
      "Training model...\n",
      "Epoch 1/30\n",
      "\u001b[1m117/117\u001b[0m \u001b[32m━━━━━━━━━━━━━━━━━━━━\u001b[0m\u001b[37m\u001b[0m \u001b[1m32s\u001b[0m 259ms/step - accuracy: 0.3280 - loss: 1.3958 - precision: 0.3167 - recall: 0.0575 - val_accuracy: 0.3333 - val_loss: 1.0986 - val_precision: 0.0000e+00 - val_recall: 0.0000e+00\n",
      "Epoch 2/30\n",
      "\u001b[1m117/117\u001b[0m \u001b[32m━━━━━━━━━━━━━━━━━━━━\u001b[0m\u001b[37m\u001b[0m \u001b[1m29s\u001b[0m 249ms/step - accuracy: 0.3198 - loss: 1.0988 - precision: 0.0000e+00 - recall: 0.0000e+00 - val_accuracy: 0.3354 - val_loss: 1.0986 - val_precision: 0.0000e+00 - val_recall: 0.0000e+00\n",
      "Epoch 3/30\n",
      "\u001b[1m117/117\u001b[0m \u001b[32m━━━━━━━━━━━━━━━━━━━━\u001b[0m\u001b[37m\u001b[0m \u001b[1m28s\u001b[0m 235ms/step - accuracy: 0.3296 - loss: 1.0988 - precision: 0.0000e+00 - recall: 0.0000e+00 - val_accuracy: 0.4182 - val_loss: 1.0986 - val_precision: 0.0000e+00 - val_recall: 0.0000e+00\n",
      "Epoch 4/30\n",
      "\u001b[1m117/117\u001b[0m \u001b[32m━━━━━━━━━━━━━━━━━━━━\u001b[0m\u001b[37m\u001b[0m \u001b[1m29s\u001b[0m 243ms/step - accuracy: 0.3311 - loss: 1.0988 - precision: 0.0000e+00 - recall: 0.0000e+00 - val_accuracy: 0.3354 - val_loss: 1.0985 - val_precision: 0.0000e+00 - val_recall: 0.0000e+00\n",
      "Epoch 5/30\n",
      "\u001b[1m117/117\u001b[0m \u001b[32m━━━━━━━━━━━━━━━━━━━━\u001b[0m\u001b[37m\u001b[0m \u001b[1m29s\u001b[0m 245ms/step - accuracy: 0.3301 - loss: 1.0989 - precision: 0.0000e+00 - recall: 0.0000e+00 - val_accuracy: 0.3354 - val_loss: 1.0985 - val_precision: 0.0000e+00 - val_recall: 0.0000e+00\n",
      "Epoch 6/30\n",
      "\u001b[1m117/117\u001b[0m \u001b[32m━━━━━━━━━━━━━━━━━━━━\u001b[0m\u001b[37m\u001b[0m \u001b[1m28s\u001b[0m 234ms/step - accuracy: 0.3367 - loss: 1.0985 - precision: 0.0000e+00 - recall: 0.0000e+00 - val_accuracy: 0.3354 - val_loss: 1.0980 - val_precision: 0.0000e+00 - val_recall: 0.0000e+00\n",
      "Epoch 7/30\n",
      "\u001b[1m117/117\u001b[0m \u001b[32m━━━━━━━━━━━━━━━━━━━━\u001b[0m\u001b[37m\u001b[0m \u001b[1m29s\u001b[0m 243ms/step - accuracy: 0.3429 - loss: 1.0984 - precision: 0.0000e+00 - recall: 0.0000e+00 - val_accuracy: 0.3354 - val_loss: 1.0963 - val_precision: 0.0000e+00 - val_recall: 0.0000e+00\n",
      "Epoch 8/30\n",
      "\u001b[1m117/117\u001b[0m \u001b[32m━━━━━━━━━━━━━━━━━━━━\u001b[0m\u001b[37m\u001b[0m \u001b[1m29s\u001b[0m 245ms/step - accuracy: 0.3687 - loss: 1.0968 - precision: 0.0693 - recall: 1.9887e-04 - val_accuracy: 0.4626 - val_loss: 1.0944 - val_precision: 0.0000e+00 - val_recall: 0.0000e+00\n",
      "Epoch 9/30\n",
      "\u001b[1m117/117\u001b[0m \u001b[32m━━━━━━━━━━━━━━━━━━━━\u001b[0m\u001b[37m\u001b[0m \u001b[1m28s\u001b[0m 240ms/step - accuracy: 0.3865 - loss: 1.0929 - precision: 0.0377 - recall: 1.5982e-04 - val_accuracy: 0.4646 - val_loss: 1.0771 - val_precision: 0.0000e+00 - val_recall: 0.0000e+00\n",
      "Epoch 10/30\n",
      "\u001b[1m117/117\u001b[0m \u001b[32m━━━━━━━━━━━━━━━━━━━━\u001b[0m\u001b[37m\u001b[0m \u001b[1m28s\u001b[0m 236ms/step - accuracy: 0.3966 - loss: 1.0851 - precision: 0.3956 - recall: 0.0052 - val_accuracy: 0.4626 - val_loss: 1.0622 - val_precision: 0.0000e+00 - val_recall: 0.0000e+00\n",
      "Epoch 11/30\n",
      "\u001b[1m117/117\u001b[0m \u001b[32m━━━━━━━━━━━━━━━━━━━━\u001b[0m\u001b[37m\u001b[0m \u001b[1m29s\u001b[0m 245ms/step - accuracy: 0.4247 - loss: 1.0705 - precision: 0.4627 - recall: 0.0320 - val_accuracy: 0.4303 - val_loss: 1.0522 - val_precision: 0.5946 - val_recall: 0.0444\n",
      "Epoch 12/30\n",
      "\u001b[1m117/117\u001b[0m \u001b[32m━━━━━━━━━━━━━━━━━━━━\u001b[0m\u001b[37m\u001b[0m \u001b[1m31s\u001b[0m 259ms/step - accuracy: 0.4423 - loss: 1.0615 - precision: 0.5330 - recall: 0.0616 - val_accuracy: 0.5010 - val_loss: 1.0313 - val_precision: 0.7500 - val_recall: 0.0727\n",
      "Epoch 13/30\n",
      "\u001b[1m117/117\u001b[0m \u001b[32m━━━━━━━━━━━━━━━━━━━━\u001b[0m\u001b[37m\u001b[0m \u001b[1m28s\u001b[0m 232ms/step - accuracy: 0.4455 - loss: 1.0509 - precision: 0.5090 - recall: 0.0842 - val_accuracy: 0.4707 - val_loss: 1.0189 - val_precision: 0.5870 - val_recall: 0.0545\n",
      "Epoch 14/30\n",
      "\u001b[1m117/117\u001b[0m \u001b[32m━━━━━━━━━━━━━━━━━━━━\u001b[0m\u001b[37m\u001b[0m \u001b[1m29s\u001b[0m 246ms/step - accuracy: 0.4501 - loss: 1.0487 - precision: 0.5331 - recall: 0.1093 - val_accuracy: 0.5152 - val_loss: 1.0017 - val_precision: 0.5943 - val_recall: 0.1273\n",
      "Epoch 15/30\n",
      "\u001b[1m117/117\u001b[0m \u001b[32m━━━━━━━━━━━━━━━━━━━━\u001b[0m\u001b[37m\u001b[0m \u001b[1m29s\u001b[0m 248ms/step - accuracy: 0.4595 - loss: 1.0465 - precision: 0.5153 - recall: 0.1305 - val_accuracy: 0.5010 - val_loss: 0.9957 - val_precision: 0.6510 - val_recall: 0.1960\n",
      "Epoch 16/30\n",
      "\u001b[1m117/117\u001b[0m \u001b[32m━━━━━━━━━━━━━━━━━━━━\u001b[0m\u001b[37m\u001b[0m \u001b[1m27s\u001b[0m 231ms/step - accuracy: 0.4735 - loss: 1.0355 - precision: 0.5640 - recall: 0.1718 - val_accuracy: 0.5192 - val_loss: 1.0023 - val_precision: 0.5962 - val_recall: 0.1253\n",
      "Epoch 17/30\n",
      "\u001b[1m117/117\u001b[0m \u001b[32m━━━━━━━━━━━━━━━━━━━━\u001b[0m\u001b[37m\u001b[0m \u001b[1m29s\u001b[0m 245ms/step - accuracy: 0.4579 - loss: 1.0437 - precision: 0.5415 - recall: 0.1492 - val_accuracy: 0.5152 - val_loss: 1.0247 - val_precision: 0.6909 - val_recall: 0.0768\n",
      "Epoch 18/30\n",
      "\u001b[1m117/117\u001b[0m \u001b[32m━━━━━━━━━━━━━━━━━━━━\u001b[0m\u001b[37m\u001b[0m \u001b[1m29s\u001b[0m 246ms/step - accuracy: 0.4608 - loss: 1.0377 - precision: 0.5566 - recall: 0.1114 - val_accuracy: 0.5152 - val_loss: 0.9895 - val_precision: 0.6159 - val_recall: 0.2040\n",
      "Epoch 19/30\n",
      "\u001b[1m117/117\u001b[0m \u001b[32m━━━━━━━━━━━━━━━━━━━━\u001b[0m\u001b[37m\u001b[0m \u001b[1m27s\u001b[0m 231ms/step - accuracy: 0.4595 - loss: 1.0325 - precision: 0.5536 - recall: 0.2041 - val_accuracy: 0.5131 - val_loss: 0.9862 - val_precision: 0.6265 - val_recall: 0.2101\n",
      "Epoch 20/30\n",
      "\u001b[1m117/117\u001b[0m \u001b[32m━━━━━━━━━━━━━━━━━━━━\u001b[0m\u001b[37m\u001b[0m \u001b[1m29s\u001b[0m 246ms/step - accuracy: 0.5158 - loss: 0.9899 - precision: 0.6095 - recall: 0.2615 - val_accuracy: 0.7111 - val_loss: 0.7672 - val_precision: 0.7837 - val_recall: 0.5636\n",
      "Epoch 21/30\n",
      "\u001b[1m117/117\u001b[0m \u001b[32m━━━━━━━━━━━━━━━━━━━━\u001b[0m\u001b[37m\u001b[0m \u001b[1m29s\u001b[0m 248ms/step - accuracy: 0.6951 - loss: 0.7618 - precision: 0.7569 - recall: 0.5460 - val_accuracy: 0.7859 - val_loss: 0.5994 - val_precision: 0.8269 - val_recall: 0.6949\n",
      "Epoch 22/30\n",
      "\u001b[1m117/117\u001b[0m \u001b[32m━━━━━━━━━━━━━━━━━━━━\u001b[0m\u001b[37m\u001b[0m \u001b[1m28s\u001b[0m 236ms/step - accuracy: 0.8007 - loss: 0.5174 - precision: 0.8353 - recall: 0.7486 - val_accuracy: 0.7838 - val_loss: 0.5516 - val_precision: 0.8009 - val_recall: 0.7475\n",
      "Epoch 23/30\n",
      "\u001b[1m117/117\u001b[0m \u001b[32m━━━━━━━━━━━━━━━━━━━━\u001b[0m\u001b[37m\u001b[0m \u001b[1m29s\u001b[0m 244ms/step - accuracy: 0.8490 - loss: 0.3863 - precision: 0.8655 - recall: 0.8181 - val_accuracy: 0.8101 - val_loss: 0.5219 - val_precision: 0.8176 - val_recall: 0.7879\n",
      "Epoch 24/30\n",
      "\u001b[1m117/117\u001b[0m \u001b[32m━━━━━━━━━━━━━━━━━━━━\u001b[0m\u001b[37m\u001b[0m \u001b[1m29s\u001b[0m 247ms/step - accuracy: 0.8985 - loss: 0.2913 - precision: 0.9083 - recall: 0.8856 - val_accuracy: 0.8444 - val_loss: 0.4932 - val_precision: 0.8562 - val_recall: 0.8303\n",
      "Epoch 25/30\n",
      "\u001b[1m117/117\u001b[0m \u001b[32m━━━━━━━━━━━━━━━━━━━━\u001b[0m\u001b[37m\u001b[0m \u001b[1m30s\u001b[0m 254ms/step - accuracy: 0.9104 - loss: 0.2532 - precision: 0.9183 - recall: 0.9003 - val_accuracy: 0.8222 - val_loss: 0.5248 - val_precision: 0.8306 - val_recall: 0.8121\n",
      "Epoch 26/30\n",
      "\u001b[1m117/117\u001b[0m \u001b[32m━━━━━━━━━━━━━━━━━━━━\u001b[0m\u001b[37m\u001b[0m \u001b[1m27s\u001b[0m 231ms/step - accuracy: 0.9169 - loss: 0.2217 - precision: 0.9254 - recall: 0.9110 - val_accuracy: 0.8566 - val_loss: 0.5132 - val_precision: 0.8639 - val_recall: 0.8465\n",
      "Epoch 27/30\n",
      "\u001b[1m117/117\u001b[0m \u001b[32m━━━━━━━━━━━━━━━━━━━━\u001b[0m\u001b[37m\u001b[0m \u001b[1m29s\u001b[0m 246ms/step - accuracy: 0.9335 - loss: 0.1720 - precision: 0.9399 - recall: 0.9288 - val_accuracy: 0.8687 - val_loss: 0.5243 - val_precision: 0.8745 - val_recall: 0.8586\n",
      "Epoch 28/30\n",
      "\u001b[1m117/117\u001b[0m \u001b[32m━━━━━━━━━━━━━━━━━━━━\u001b[0m\u001b[37m\u001b[0m \u001b[1m29s\u001b[0m 248ms/step - accuracy: 0.9323 - loss: 0.1715 - precision: 0.9357 - recall: 0.9294 - val_accuracy: 0.8646 - val_loss: 0.5233 - val_precision: 0.8768 - val_recall: 0.8626\n",
      "Epoch 29/30\n",
      "\u001b[1m117/117\u001b[0m \u001b[32m━━━━━━━━━━━━━━━━━━━━\u001b[0m\u001b[37m\u001b[0m \u001b[1m28s\u001b[0m 233ms/step - accuracy: 0.9456 - loss: 0.1335 - precision: 0.9476 - recall: 0.9433 - val_accuracy: 0.8707 - val_loss: 0.5514 - val_precision: 0.8699 - val_recall: 0.8646\n",
      "Epoch 30/30\n",
      "\u001b[1m117/117\u001b[0m \u001b[32m━━━━━━━━━━━━━━━━━━━━\u001b[0m\u001b[37m\u001b[0m \u001b[1m29s\u001b[0m 247ms/step - accuracy: 0.9579 - loss: 0.1108 - precision: 0.9604 - recall: 0.9563 - val_accuracy: 0.8808 - val_loss: 0.5649 - val_precision: 0.8837 - val_recall: 0.8747\n",
      "Predicting on validation set...\n",
      "\u001b[1m16/16\u001b[0m \u001b[32m━━━━━━━━━━━━━━━━━━━━\u001b[0m\u001b[37m\u001b[0m \u001b[1m1s\u001b[0m 56ms/step\n",
      "Sending metrics to clearML...\n",
      "done\n"
     ]
    }
   ],
   "source": [
    "# guassian augmentation (100.0, 200.0)\n",
    "task_name = 'gau100200'\n",
    "sub_project_name = 'GAUSSIAN'\n",
    "\n",
    "augmentation_metadata = {\n",
    "        'methods': {        \n",
    "            'gaussian': {\n",
    "                'parameters': {\n",
    "                    'var_limit': (100.0, 200.0)\n",
    "                },\n",
    "                'apply_to_percentage': 0.5  # 50% of the training images\n",
    "            }        \n",
    "        }\n",
    "    }\n",
    "\n",
    "for i in range(N):\n",
    "    RUN = i + 1\n",
    "    try:\n",
    "        print(f\"Starting RUN: {RUN}\")\n",
    "        main(RUN, augmentation_metadata, task_name, sub_project_name, epochs, train_size, w1, w2)\n",
    "    except Exception as e:\n",
    "        print(f\"Error in RUN: {RUN}\")\n",
    "        print(e)\n",
    "    finally:\n",
    "        clear_output(wait=True)  # Clear the output to avoid scrolling\n",
    "        gc.collect()  # Collect garbage to avoid memory leaks"
   ]
  },
  {
   "cell_type": "code",
   "execution_count": 13,
   "metadata": {},
   "outputs": [
    {
     "name": "stdout",
     "output_type": "stream",
     "text": [
      "Starting RUN: 5\n",
      "Seed:  1928946355\n"
     ]
    },
    {
     "name": "stderr",
     "output_type": "stream",
     "text": [
      "c:\\github\\Third-Year-Project\\Intruder-Aircraft-Detection\\main\\tl_clf.py:79: SettingWithCopyWarning:\n",
      "\n",
      "\n",
      "A value is trying to be set on a copy of a slice from a DataFrame.\n",
      "Try using .loc[row_indexer,col_indexer] = value instead\n",
      "\n",
      "See the caveats in the documentation: https://pandas.pydata.org/pandas-docs/stable/user_guide/indexing.html#returning-a-view-versus-a-copy\n",
      "\n",
      "c:\\github\\Third-Year-Project\\Intruder-Aircraft-Detection\\main\\tl_clf.py:80: SettingWithCopyWarning:\n",
      "\n",
      "\n",
      "A value is trying to be set on a copy of a slice from a DataFrame.\n",
      "Try using .loc[row_indexer,col_indexer] = value instead\n",
      "\n",
      "See the caveats in the documentation: https://pandas.pydata.org/pandas-docs/stable/user_guide/indexing.html#returning-a-view-versus-a-copy\n",
      "\n"
     ]
    },
    {
     "name": "stdout",
     "output_type": "stream",
     "text": [
      "Removing dataset if pre-existing\n",
      "Copying training files:\n"
     ]
    },
    {
     "name": "stderr",
     "output_type": "stream",
     "text": [
      "Copying files: 100%|██████████| 5000/5000 [00:03<00:00, 1617.22it/s]\n"
     ]
    },
    {
     "name": "stdout",
     "output_type": "stream",
     "text": [
      "Copying validation files:\n"
     ]
    },
    {
     "name": "stderr",
     "output_type": "stream",
     "text": [
      "Copying files: 100%|██████████| 1000/1000 [00:00<00:00, 1080.85it/s]\n"
     ]
    },
    {
     "name": "stdout",
     "output_type": "stream",
     "text": [
      "Dataset 'weather_23_2500' created at C:\\github\\Third-Year-Project\\Intruder-Aircraft-Detection\\datasets\\Custom\\weather_23_2500\n",
      "Processing train labels in weather_23_2500:\n"
     ]
    },
    {
     "name": "stderr",
     "output_type": "stream",
     "text": [
      "Processing labels: 100%|██████████| 2500/2500 [00:12<00:00, 207.31it/s]\n"
     ]
    },
    {
     "name": "stdout",
     "output_type": "stream",
     "text": [
      "Processing valid labels in weather_23_2500:\n"
     ]
    },
    {
     "name": "stderr",
     "output_type": "stream",
     "text": [
      "Processing labels: 100%|██████████| 500/500 [00:01<00:00, 267.41it/s]\n"
     ]
    },
    {
     "name": "stdout",
     "output_type": "stream",
     "text": [
      "Label correction completed.\n"
     ]
    },
    {
     "name": "stderr",
     "output_type": "stream",
     "text": [
      "Removing existing directories/files: 100%|██████████| 3/3 [00:00<00:00, 5977.63it/s]\n",
      "Copying files: 100%|██████████| 2500/2500 [00:02<00:00, 1111.53it/s]\n",
      "Copying files: 100%|██████████| 2500/2500 [00:01<00:00, 1392.77it/s]\n",
      "Applying augmentations: 100%|██████████| 1250/1250 [00:16<00:00, 75.36it/s]\n"
     ]
    },
    {
     "name": "stdout",
     "output_type": "stream",
     "text": [
      "An error occurred: Expected y_max for bbox (0.06709400000000001, 0.82754, 0.38573199999999996, 1.0399660000000002, 2) to be in the range [0.0, 1.0], got 1.0399660000000002.\n",
      "An error occurred: In YOLO format all coordinates must be float and in range (0, 1]\n",
      "An error occurred: Expected x_min for bbox (-0.05254049999999999, 0.6148480000000001, 0.7579965, 1.1552060000000002, 1) to be in the range [0.0, 1.0], got -0.05254049999999999.\n",
      "An error occurred: Expected x_min for bbox (-0.0780495, 0.5655505, 0.7145335, 1.0939394999999998, 1) to be in the range [0.0, 1.0], got -0.0780495.\n",
      "An error occurred: Expected y_max for bbox (0.36195600000000006, 0.7324, 0.764684, 1.000886, 1) to be in the range [0.0, 1.0], got 1.000886.\n",
      "An error occurred: Expected x_max for bbox (0.3556645, 0.47547049999999996, 1.0335975, 0.9274255, 1) to be in the range [0.0, 1.0], got 1.0335975.\n",
      "An error occurred: Expected y_max for bbox (0.24027500000000002, 0.6626745, 0.832789, 1.0576835, 1) to be in the range [0.0, 1.0], got 1.0576835.\n"
     ]
    },
    {
     "name": "stderr",
     "output_type": "stream",
     "text": [
      "Processing images:  13%|█▎        | 336/2500 [00:15<01:02, 34.88it/s]"
     ]
    },
    {
     "name": "stdout",
     "output_type": "stream",
     "text": [
      "An error occurred with C:/github/Third-Year-Project/Intruder-Aircraft-Detection/datasets/Custom/weather_23_2500\\images\\train\\26098.jpg: Expected x_min for bbox (-0.05254049999999999, 0.6148480000000001, 0.7579965, 1.1552060000000002, 1) to be in the range [0.0, 1.0], got -0.05254049999999999.\n"
     ]
    },
    {
     "name": "stderr",
     "output_type": "stream",
     "text": [
      "Processing images:  16%|█▌        | 405/2500 [00:17<01:01, 34.00it/s]"
     ]
    },
    {
     "name": "stdout",
     "output_type": "stream",
     "text": [
      "An error occurred with C:/github/Third-Year-Project/Intruder-Aircraft-Detection/datasets/Custom/weather_23_2500\\images\\train\\26227.jpg: Expected y_max for bbox (0.36195600000000006, 0.7324, 0.764684, 1.000886, 1) to be in the range [0.0, 1.0], got 1.000886.\n"
     ]
    },
    {
     "name": "stderr",
     "output_type": "stream",
     "text": [
      "Processing images:  20%|██        | 506/2500 [00:21<01:01, 32.56it/s]"
     ]
    },
    {
     "name": "stdout",
     "output_type": "stream",
     "text": [
      "An error occurred with C:/github/Third-Year-Project/Intruder-Aircraft-Detection/datasets/Custom/weather_23_2500\\images\\train\\26422.jpg: Expected x_max for bbox (0.3556645, 0.47547049999999996, 1.0335975, 0.9274255, 1) to be in the range [0.0, 1.0], got 1.0335975.\n"
     ]
    },
    {
     "name": "stderr",
     "output_type": "stream",
     "text": [
      "Processing images:  22%|██▏       | 543/2500 [00:22<00:56, 34.52it/s]"
     ]
    },
    {
     "name": "stdout",
     "output_type": "stream",
     "text": [
      "An error occurred with C:/github/Third-Year-Project/Intruder-Aircraft-Detection/datasets/Custom/weather_23_2500\\images\\train\\26500.jpg: Expected y_max for bbox (0.0655045, 0.7670555, 0.42422150000000003, 1.0062005, 1) to be in the range [0.0, 1.0], got 1.0062005.\n"
     ]
    },
    {
     "name": "stderr",
     "output_type": "stream",
     "text": [
      "Processing images:  30%|███       | 760/2500 [00:28<00:49, 35.23it/s]"
     ]
    },
    {
     "name": "stdout",
     "output_type": "stream",
     "text": [
      "An error occurred with C:/github/Third-Year-Project/Intruder-Aircraft-Detection/datasets/Custom/weather_23_2500\\images\\train\\27022.jpg: Expected x_min for bbox (-0.0780495, 0.5655505, 0.7145335, 1.0939394999999998, 1) to be in the range [0.0, 1.0], got -0.0780495.\n"
     ]
    },
    {
     "name": "stderr",
     "output_type": "stream",
     "text": [
      "Processing images:  34%|███▍      | 853/2500 [00:31<00:50, 32.68it/s]"
     ]
    },
    {
     "name": "stdout",
     "output_type": "stream",
     "text": [
      "An error occurred with C:/github/Third-Year-Project/Intruder-Aircraft-Detection/datasets/Custom/weather_23_2500\\images\\train\\27198.jpg: Expected x_min for bbox (-0.08473900000000001, -0.027910999999999964, 0.831197, 0.582713, 1) to be in the range [0.0, 1.0], got -0.08473900000000001.\n"
     ]
    },
    {
     "name": "stderr",
     "output_type": "stream",
     "text": [
      "Processing images:  34%|███▍      | 862/2500 [00:31<00:46, 35.46it/s]"
     ]
    },
    {
     "name": "stdout",
     "output_type": "stream",
     "text": [
      "An error occurred with C:/github/Third-Year-Project/Intruder-Aircraft-Detection/datasets/Custom/weather_23_2500\\images\\train\\27218.jpg: Expected y_max for bbox (0.38584999999999997, 0.7377294999999999, 0.7992459999999999, 1.0133264999999998, 1) to be in the range [0.0, 1.0], got 1.0133264999999998.\n"
     ]
    },
    {
     "name": "stderr",
     "output_type": "stream",
     "text": [
      "Processing images:  38%|███▊      | 962/2500 [00:35<00:44, 34.44it/s]"
     ]
    },
    {
     "name": "stdout",
     "output_type": "stream",
     "text": [
      "An error occurred with C:/github/Third-Year-Project/Intruder-Aircraft-Detection/datasets/Custom/weather_23_2500\\images\\train\\27381.jpg: Expected y_max for bbox (0.24027500000000002, 0.6626745, 0.832789, 1.0576835, 1) to be in the range [0.0, 1.0], got 1.0576835.\n"
     ]
    },
    {
     "name": "stderr",
     "output_type": "stream",
     "text": [
      "Processing images:  65%|██████▌   | 1627/2500 [00:55<00:23, 37.49it/s]"
     ]
    },
    {
     "name": "stdout",
     "output_type": "stream",
     "text": [
      "An error occurred with C:/github/Third-Year-Project/Intruder-Aircraft-Detection/datasets/Custom/weather_23_2500\\images\\train\\3818.jpg: Expected y_max for bbox (0.578752, 0.762086, 0.935798, 1.000116, 0) to be in the range [0.0, 1.0], got 1.000116.\n"
     ]
    },
    {
     "name": "stderr",
     "output_type": "stream",
     "text": [
      "Processing images:  76%|███████▌  | 1892/2500 [01:03<00:17, 35.55it/s]"
     ]
    },
    {
     "name": "stdout",
     "output_type": "stream",
     "text": [
      "An error occurred with C:/github/Third-Year-Project/Intruder-Aircraft-Detection/datasets/Custom/weather_23_2500\\images\\train\\50467.jpg: Expected y_max for bbox (0.06709400000000001, 0.82754, 0.38573199999999996, 1.0399660000000002, 2) to be in the range [0.0, 1.0], got 1.0399660000000002.\n",
      "An error occurred with C:/github/Third-Year-Project/Intruder-Aircraft-Detection/datasets/Custom/weather_23_2500\\images\\train\\50482.jpg: Expected y_max for bbox (0.4692875000000001, 0.789791, 0.7999505, 1.010233, 2) to be in the range [0.0, 1.0], got 1.010233.\n"
     ]
    },
    {
     "name": "stderr",
     "output_type": "stream",
     "text": [
      "Processing images:  80%|████████  | 2002/2500 [01:06<00:13, 35.61it/s]"
     ]
    },
    {
     "name": "stdout",
     "output_type": "stream",
     "text": [
      "An error occurred with C:/github/Third-Year-Project/Intruder-Aircraft-Detection/datasets/Custom/weather_23_2500\\images\\train\\50719.jpg: Expected x_min for bbox (-0.11753550000000001, 0.31711149999999994, 0.8069695, 0.9334484999999999, 2) to be in the range [0.0, 1.0], got -0.11753550000000001.\n"
     ]
    },
    {
     "name": "stderr",
     "output_type": "stream",
     "text": [
      "Processing images:  82%|████████▏ | 2055/2500 [01:07<00:12, 36.27it/s]"
     ]
    },
    {
     "name": "stdout",
     "output_type": "stream",
     "text": [
      "An error occurred with C:/github/Third-Year-Project/Intruder-Aircraft-Detection/datasets/Custom/weather_23_2500\\images\\train\\50820.jpg: Expected y_min for bbox (0.05699850000000001, -0.0029215000000000213, 0.5023355, 0.2939695, 2) to be in the range [0.0, 1.0], got -0.0029215000000000213.\n"
     ]
    },
    {
     "name": "stderr",
     "output_type": "stream",
     "text": [
      "Processing images:  87%|████████▋ | 2180/2500 [01:11<00:08, 36.18it/s]"
     ]
    },
    {
     "name": "stdout",
     "output_type": "stream",
     "text": [
      "An error occurred with C:/github/Third-Year-Project/Intruder-Aircraft-Detection/datasets/Custom/weather_23_2500\\images\\train\\51177.jpg: Expected x_max for bbox (0.30940350000000005, 0.6482319999999999, 1.1197745000000001, 1.1884799999999998, 2) to be in the range [0.0, 1.0], got 1.1197745000000001.\n"
     ]
    },
    {
     "name": "stderr",
     "output_type": "stream",
     "text": [
      "Processing images:  93%|█████████▎| 2325/2500 [01:16<00:05, 34.49it/s]"
     ]
    },
    {
     "name": "stdout",
     "output_type": "stream",
     "text": [
      "An error occurred with C:/github/Third-Year-Project/Intruder-Aircraft-Detection/datasets/Custom/weather_23_2500\\images\\train\\51512.jpg: In YOLO format all coordinates must be float and in range (0, 1]\n"
     ]
    },
    {
     "name": "stderr",
     "output_type": "stream",
     "text": [
      "Processing images:  94%|█████████▍| 2346/2500 [01:16<00:04, 34.48it/s]"
     ]
    },
    {
     "name": "stdout",
     "output_type": "stream",
     "text": [
      "An error occurred with C:/github/Third-Year-Project/Intruder-Aircraft-Detection/datasets/Custom/weather_23_2500\\images\\train\\51548.jpg: Expected y_max for bbox (0.38042449999999994, 0.694677, 0.8531095, 1.009801, 2) to be in the range [0.0, 1.0], got 1.009801.\n"
     ]
    },
    {
     "name": "stderr",
     "output_type": "stream",
     "text": [
      "Processing images:  99%|█████████▊| 2467/2500 [01:20<00:00, 33.83it/s]"
     ]
    },
    {
     "name": "stdout",
     "output_type": "stream",
     "text": [
      "An error occurred with C:/github/Third-Year-Project/Intruder-Aircraft-Detection/datasets/Custom/weather_23_2500\\images\\train\\51806.jpg: Expected x_min for bbox (-0.14135050000000005, 0.26239999999999997, 0.7313425, 0.844196, 2) to be in the range [0.0, 1.0], got -0.14135050000000005.\n"
     ]
    },
    {
     "name": "stderr",
     "output_type": "stream",
     "text": [
      "Processing images:  99%|█████████▉| 2484/2500 [01:20<00:00, 36.50it/s]"
     ]
    },
    {
     "name": "stdout",
     "output_type": "stream",
     "text": [
      "An error occurred with C:/github/Third-Year-Project/Intruder-Aircraft-Detection/datasets/Custom/weather_23_2500\\images\\train\\51848.jpg: In YOLO format all coordinates must be float and in range (0, 1]\n"
     ]
    },
    {
     "name": "stderr",
     "output_type": "stream",
     "text": [
      "Processing images: 100%|██████████| 2500/2500 [01:21<00:00, 30.72it/s]\n",
      "Processing images:  14%|█▎        | 506/3743 [00:26<01:36, 33.62it/s]"
     ]
    },
    {
     "name": "stdout",
     "output_type": "stream",
     "text": [
      "An error occurred with C:/github/Third-Year-Project/Intruder-Aircraft-Detection/datasets/Custom/weather_23_2500\\images\\train-aug\\26098.jpg: Expected x_min for bbox (-0.05254049999999999, 0.6148480000000001, 0.7579965, 1.1552060000000002, 1) to be in the range [0.0, 1.0], got -0.05254049999999999.\n"
     ]
    },
    {
     "name": "stderr",
     "output_type": "stream",
     "text": [
      "Processing images:  16%|█▌        | 599/3743 [00:29<01:31, 34.38it/s]"
     ]
    },
    {
     "name": "stdout",
     "output_type": "stream",
     "text": [
      "An error occurred with C:/github/Third-Year-Project/Intruder-Aircraft-Detection/datasets/Custom/weather_23_2500\\images\\train-aug\\26227.jpg: Expected y_max for bbox (0.36195600000000006, 0.7324, 0.764684, 1.000886, 1) to be in the range [0.0, 1.0], got 1.000886.\n"
     ]
    },
    {
     "name": "stderr",
     "output_type": "stream",
     "text": [
      "Processing images:  20%|██        | 752/3743 [00:33<01:27, 34.11it/s]"
     ]
    },
    {
     "name": "stdout",
     "output_type": "stream",
     "text": [
      "An error occurred with C:/github/Third-Year-Project/Intruder-Aircraft-Detection/datasets/Custom/weather_23_2500\\images\\train-aug\\26422.jpg: Expected x_max for bbox (0.3556645, 0.47547049999999996, 1.0335975, 0.9274255, 1) to be in the range [0.0, 1.0], got 1.0335975.\n"
     ]
    },
    {
     "name": "stderr",
     "output_type": "stream",
     "text": [
      "Processing images:  22%|██▏       | 821/3743 [00:35<01:22, 35.27it/s]"
     ]
    },
    {
     "name": "stdout",
     "output_type": "stream",
     "text": [
      "An error occurred with C:/github/Third-Year-Project/Intruder-Aircraft-Detection/datasets/Custom/weather_23_2500\\images\\train-aug\\26500.jpg: Expected y_max for bbox (0.0655045, 0.7670555, 0.42422150000000003, 1.0062005, 1) to be in the range [0.0, 1.0], got 1.0062005.\n"
     ]
    },
    {
     "name": "stderr",
     "output_type": "stream",
     "text": [
      "Processing images:  30%|███       | 1137/3743 [00:45<01:16, 34.17it/s]"
     ]
    },
    {
     "name": "stdout",
     "output_type": "stream",
     "text": [
      "An error occurred with C:/github/Third-Year-Project/Intruder-Aircraft-Detection/datasets/Custom/weather_23_2500\\images\\train-aug\\27022.jpg: Expected x_min for bbox (-0.0780495, 0.5655505, 0.7145335, 1.0939394999999998, 1) to be in the range [0.0, 1.0], got -0.0780495.\n"
     ]
    },
    {
     "name": "stderr",
     "output_type": "stream",
     "text": [
      "Processing images:  34%|███▍      | 1282/3743 [00:49<01:10, 34.75it/s]"
     ]
    },
    {
     "name": "stdout",
     "output_type": "stream",
     "text": [
      "An error occurred with C:/github/Third-Year-Project/Intruder-Aircraft-Detection/datasets/Custom/weather_23_2500\\images\\train-aug\\27198.jpg: Expected x_min for bbox (-0.08473900000000001, -0.027910999999999964, 0.831197, 0.582713, 1) to be in the range [0.0, 1.0], got -0.08473900000000001.\n"
     ]
    },
    {
     "name": "stderr",
     "output_type": "stream",
     "text": [
      "Processing images:  34%|███▍      | 1291/3743 [00:50<01:06, 37.06it/s]"
     ]
    },
    {
     "name": "stdout",
     "output_type": "stream",
     "text": [
      "An error occurred with C:/github/Third-Year-Project/Intruder-Aircraft-Detection/datasets/Custom/weather_23_2500\\images\\train-aug\\27218.jpg: Expected y_max for bbox (0.38584999999999997, 0.7377294999999999, 0.7992459999999999, 1.0133264999999998, 1) to be in the range [0.0, 1.0], got 1.0133264999999998.\n"
     ]
    },
    {
     "name": "stderr",
     "output_type": "stream",
     "text": [
      "Processing images:  38%|███▊      | 1432/3743 [00:54<01:07, 34.12it/s]"
     ]
    },
    {
     "name": "stdout",
     "output_type": "stream",
     "text": [
      "An error occurred with C:/github/Third-Year-Project/Intruder-Aircraft-Detection/datasets/Custom/weather_23_2500\\images\\train-aug\\27381.jpg: Expected y_max for bbox (0.24027500000000002, 0.6626745, 0.832789, 1.0576835, 1) to be in the range [0.0, 1.0], got 1.0576835.\n"
     ]
    },
    {
     "name": "stderr",
     "output_type": "stream",
     "text": [
      "Processing images:  65%|██████▌   | 2441/3743 [01:24<00:33, 39.20it/s]"
     ]
    },
    {
     "name": "stdout",
     "output_type": "stream",
     "text": [
      "An error occurred with C:/github/Third-Year-Project/Intruder-Aircraft-Detection/datasets/Custom/weather_23_2500\\images\\train-aug\\3818.jpg: Expected y_max for bbox (0.578752, 0.762086, 0.935798, 1.000116, 0) to be in the range [0.0, 1.0], got 1.000116.\n"
     ]
    },
    {
     "name": "stderr",
     "output_type": "stream",
     "text": [
      "Processing images:  76%|███████▌  | 2838/3743 [01:36<00:25, 35.43it/s]"
     ]
    },
    {
     "name": "stdout",
     "output_type": "stream",
     "text": [
      "An error occurred with C:/github/Third-Year-Project/Intruder-Aircraft-Detection/datasets/Custom/weather_23_2500\\images\\train-aug\\50467.jpg: Expected y_max for bbox (0.06709400000000001, 0.82754, 0.38573199999999996, 1.0399660000000002, 2) to be in the range [0.0, 1.0], got 1.0399660000000002.\n"
     ]
    },
    {
     "name": "stderr",
     "output_type": "stream",
     "text": [
      "Processing images:  76%|███████▌  | 2847/3743 [01:36<00:24, 36.31it/s]"
     ]
    },
    {
     "name": "stdout",
     "output_type": "stream",
     "text": [
      "An error occurred with C:/github/Third-Year-Project/Intruder-Aircraft-Detection/datasets/Custom/weather_23_2500\\images\\train-aug\\50482.jpg: Expected y_max for bbox (0.4692875000000001, 0.789791, 0.7999505, 1.010233, 2) to be in the range [0.0, 1.0], got 1.010233.\n"
     ]
    },
    {
     "name": "stderr",
     "output_type": "stream",
     "text": [
      "Processing images:  80%|████████  | 2996/3743 [01:41<00:21, 35.03it/s]"
     ]
    },
    {
     "name": "stdout",
     "output_type": "stream",
     "text": [
      "An error occurred with C:/github/Third-Year-Project/Intruder-Aircraft-Detection/datasets/Custom/weather_23_2500\\images\\train-aug\\50719.jpg: Expected x_min for bbox (-0.11753550000000001, 0.31711149999999994, 0.8069695, 0.9334484999999999, 2) to be in the range [0.0, 1.0], got -0.11753550000000001.\n"
     ]
    },
    {
     "name": "stderr",
     "output_type": "stream",
     "text": [
      "Processing images:  82%|████████▏ | 3073/3743 [01:43<00:18, 35.81it/s]"
     ]
    },
    {
     "name": "stdout",
     "output_type": "stream",
     "text": [
      "An error occurred with C:/github/Third-Year-Project/Intruder-Aircraft-Detection/datasets/Custom/weather_23_2500\\images\\train-aug\\50820.jpg: Expected y_min for bbox (0.05699850000000001, -0.0029215000000000213, 0.5023355, 0.2939695, 2) to be in the range [0.0, 1.0], got -0.0029215000000000213.\n"
     ]
    },
    {
     "name": "stderr",
     "output_type": "stream",
     "text": [
      "Processing images:  87%|████████▋ | 3254/3743 [01:49<00:13, 36.59it/s]"
     ]
    },
    {
     "name": "stdout",
     "output_type": "stream",
     "text": [
      "An error occurred with C:/github/Third-Year-Project/Intruder-Aircraft-Detection/datasets/Custom/weather_23_2500\\images\\train-aug\\51177.jpg: Expected x_max for bbox (0.30940350000000005, 0.6482319999999999, 1.1197745000000001, 1.1884799999999998, 2) to be in the range [0.0, 1.0], got 1.1197745000000001.\n"
     ]
    },
    {
     "name": "stderr",
     "output_type": "stream",
     "text": [
      "Processing images:  93%|█████████▎| 3487/3743 [01:56<00:07, 32.47it/s]"
     ]
    },
    {
     "name": "stdout",
     "output_type": "stream",
     "text": [
      "An error occurred with C:/github/Third-Year-Project/Intruder-Aircraft-Detection/datasets/Custom/weather_23_2500\\images\\train-aug\\51512.jpg: In YOLO format all coordinates must be float and in range (0, 1]\n"
     ]
    },
    {
     "name": "stderr",
     "output_type": "stream",
     "text": [
      "Processing images:  94%|█████████▎| 3508/3743 [01:56<00:06, 34.34it/s]"
     ]
    },
    {
     "name": "stdout",
     "output_type": "stream",
     "text": [
      "An error occurred with C:/github/Third-Year-Project/Intruder-Aircraft-Detection/datasets/Custom/weather_23_2500\\images\\train-aug\\51548.jpg: Expected y_max for bbox (0.38042449999999994, 0.694677, 0.8531095, 1.009801, 2) to be in the range [0.0, 1.0], got 1.009801.\n"
     ]
    },
    {
     "name": "stderr",
     "output_type": "stream",
     "text": [
      "Processing images:  99%|█████████▊| 3693/3743 [02:02<00:01, 33.47it/s]"
     ]
    },
    {
     "name": "stdout",
     "output_type": "stream",
     "text": [
      "An error occurred with C:/github/Third-Year-Project/Intruder-Aircraft-Detection/datasets/Custom/weather_23_2500\\images\\train-aug\\51806.jpg: Expected x_min for bbox (-0.14135050000000005, 0.26239999999999997, 0.7313425, 0.844196, 2) to be in the range [0.0, 1.0], got -0.14135050000000005.\n"
     ]
    },
    {
     "name": "stderr",
     "output_type": "stream",
     "text": [
      "Processing images:  99%|█████████▉| 3718/3743 [02:03<00:00, 36.46it/s]"
     ]
    },
    {
     "name": "stdout",
     "output_type": "stream",
     "text": [
      "An error occurred with C:/github/Third-Year-Project/Intruder-Aircraft-Detection/datasets/Custom/weather_23_2500\\images\\train-aug\\51848.jpg: In YOLO format all coordinates must be float and in range (0, 1]\n"
     ]
    },
    {
     "name": "stderr",
     "output_type": "stream",
     "text": [
      "Processing images: 100%|██████████| 3743/3743 [02:04<00:00, 30.16it/s]\n",
      "Processing images:   4%|▍         | 21/500 [00:01<00:26, 17.87it/s]"
     ]
    },
    {
     "name": "stdout",
     "output_type": "stream",
     "text": [
      "An error occurred with C:/github/Third-Year-Project/Intruder-Aircraft-Detection/datasets/Custom/weather_23_2500\\images\\valid\\26926.jpg: Expected y_min for bbox (0.38187599999999994, -0.12572450000000002, 1.180976, 0.4070085, 1) to be in the range [0.0, 1.0], got -0.12572450000000002.\n"
     ]
    },
    {
     "name": "stderr",
     "output_type": "stream",
     "text": [
      "Processing images:  17%|█▋        | 85/500 [00:03<00:12, 33.45it/s]"
     ]
    },
    {
     "name": "stdout",
     "output_type": "stream",
     "text": [
      "An error occurred with C:/github/Third-Year-Project/Intruder-Aircraft-Detection/datasets/Custom/weather_23_2500\\images\\valid\\26999.jpg: Expected x_min for bbox (-0.1462135, 0.3244429999999999, 0.7076735, 0.893701, 1) to be in the range [0.0, 1.0], got -0.1462135.\n"
     ]
    },
    {
     "name": "stderr",
     "output_type": "stream",
     "text": [
      "Processing images:  70%|███████   | 350/500 [00:11<00:04, 35.04it/s]"
     ]
    },
    {
     "name": "stdout",
     "output_type": "stream",
     "text": [
      "An error occurred with C:/github/Third-Year-Project/Intruder-Aircraft-Detection/datasets/Custom/weather_23_2500\\images\\valid\\50917.jpg: Expected y_min for bbox (0.3312055, -0.11337250000000001, 1.1166544999999999, 0.41026050000000003, 2) to be in the range [0.0, 1.0], got -0.11337250000000001.\n"
     ]
    },
    {
     "name": "stderr",
     "output_type": "stream",
     "text": [
      "Processing images:  90%|█████████ | 451/500 [00:14<00:01, 35.88it/s]"
     ]
    },
    {
     "name": "stdout",
     "output_type": "stream",
     "text": [
      "An error occurred with C:/github/Third-Year-Project/Intruder-Aircraft-Detection/datasets/Custom/weather_23_2500\\images\\valid\\51937.jpg: Expected y_min for bbox (0.07818900000000001, -0.009202500000000002, 0.5387230000000001, 0.2978205, 2) to be in the range [0.0, 1.0], got -0.009202500000000002.\n"
     ]
    },
    {
     "name": "stderr",
     "output_type": "stream",
     "text": [
      "Processing images: 100%|██████████| 500/500 [00:16<00:00, 30.75it/s]\n",
      "Moving images in train: 100%|██████████| 2482/2482 [00:08<00:00, 275.78it/s]\n",
      "Moving images in train-aug: 100%|██████████| 3725/3725 [00:14<00:00, 263.91it/s]\n",
      "Moving images in valid: 100%|██████████| 496/496 [00:01<00:00, 272.30it/s]\n"
     ]
    },
    {
     "name": "stdout",
     "output_type": "stream",
     "text": [
      "Found 2482 files belonging to 3 classes.\n",
      "Found 3725 files belonging to 3 classes.\n",
      "Found 496 files belonging to 3 classes.\n",
      "ClearML Task: created new task id=75f6cc61dd9e436791faa95d7947e0bd\n",
      "ClearML results page: https://app.clear.ml/projects/5a674be4cf0f473c808dd42f7b83358f/experiments/75f6cc61dd9e436791faa95d7947e0bd/output/log\n",
      "Training model...\n",
      "Epoch 1/30\n",
      "\u001b[1m78/78\u001b[0m \u001b[32m━━━━━━━━━━━━━━━━━━━━\u001b[0m\u001b[37m\u001b[0m \u001b[1m23s\u001b[0m 263ms/step - accuracy: 0.3399 - loss: 1.6950 - precision: 0.3228 - recall: 0.0870 - val_accuracy: 0.3367 - val_loss: 1.0974 - val_precision: 0.0000e+00 - val_recall: 0.0000e+00\n",
      "Epoch 2/30\n",
      "\u001b[1m78/78\u001b[0m \u001b[32m━━━━━━━━━━━━━━━━━━━━\u001b[0m\u001b[37m\u001b[0m \u001b[1m18s\u001b[0m 233ms/step - accuracy: 0.3297 - loss: 1.0994 - precision: 0.0000e+00 - recall: 0.0000e+00 - val_accuracy: 0.3327 - val_loss: 1.0986 - val_precision: 0.0000e+00 - val_recall: 0.0000e+00\n",
      "Epoch 3/30\n",
      "\u001b[1m78/78\u001b[0m \u001b[32m━━━━━━━━━━━━━━━━━━━━\u001b[0m\u001b[37m\u001b[0m \u001b[1m20s\u001b[0m 257ms/step - accuracy: 0.3349 - loss: 1.0986 - precision: 0.0000e+00 - recall: 0.0000e+00 - val_accuracy: 0.3327 - val_loss: 1.0986 - val_precision: 0.0000e+00 - val_recall: 0.0000e+00\n",
      "Epoch 4/30\n",
      "\u001b[1m78/78\u001b[0m \u001b[32m━━━━━━━━━━━━━━━━━━━━\u001b[0m\u001b[37m\u001b[0m \u001b[1m19s\u001b[0m 237ms/step - accuracy: 0.3320 - loss: 1.0987 - precision: 0.0000e+00 - recall: 0.0000e+00 - val_accuracy: 0.3327 - val_loss: 1.0986 - val_precision: 0.0000e+00 - val_recall: 0.0000e+00\n",
      "Epoch 5/30\n",
      "\u001b[1m78/78\u001b[0m \u001b[32m━━━━━━━━━━━━━━━━━━━━\u001b[0m\u001b[37m\u001b[0m \u001b[1m20s\u001b[0m 257ms/step - accuracy: 0.3369 - loss: 1.0986 - precision: 0.0000e+00 - recall: 0.0000e+00 - val_accuracy: 0.3367 - val_loss: 1.0986 - val_precision: 0.0000e+00 - val_recall: 0.0000e+00\n",
      "Epoch 6/30\n",
      "\u001b[1m78/78\u001b[0m \u001b[32m━━━━━━━━━━━━━━━━━━━━\u001b[0m\u001b[37m\u001b[0m \u001b[1m18s\u001b[0m 233ms/step - accuracy: 0.3250 - loss: 1.0986 - precision: 0.0000e+00 - recall: 0.0000e+00 - val_accuracy: 0.3367 - val_loss: 1.0986 - val_precision: 0.0000e+00 - val_recall: 0.0000e+00\n",
      "Epoch 7/30\n",
      "\u001b[1m78/78\u001b[0m \u001b[32m━━━━━━━━━━━━━━━━━━━━\u001b[0m\u001b[37m\u001b[0m \u001b[1m20s\u001b[0m 258ms/step - accuracy: 0.3377 - loss: 1.0992 - precision: 0.0989 - recall: 7.4734e-04 - val_accuracy: 0.3367 - val_loss: 1.0986 - val_precision: 0.0000e+00 - val_recall: 0.0000e+00\n",
      "Epoch 8/30\n",
      "\u001b[1m78/78\u001b[0m \u001b[32m━━━━━━━━━━━━━━━━━━━━\u001b[0m\u001b[37m\u001b[0m \u001b[1m19s\u001b[0m 234ms/step - accuracy: 0.3291 - loss: 1.1063 - precision: 0.3185 - recall: 0.0081 - val_accuracy: 0.3306 - val_loss: 1.0984 - val_precision: 0.0000e+00 - val_recall: 0.0000e+00\n",
      "Epoch 9/30\n",
      "\u001b[1m78/78\u001b[0m \u001b[32m━━━━━━━━━━━━━━━━━━━━\u001b[0m\u001b[37m\u001b[0m \u001b[1m20s\u001b[0m 259ms/step - accuracy: 0.3139 - loss: 1.0989 - precision: 0.0000e+00 - recall: 0.0000e+00 - val_accuracy: 0.3407 - val_loss: 1.0984 - val_precision: 0.0000e+00 - val_recall: 0.0000e+00\n",
      "Epoch 10/30\n",
      "\u001b[1m78/78\u001b[0m \u001b[32m━━━━━━━━━━━━━━━━━━━━\u001b[0m\u001b[37m\u001b[0m \u001b[1m19s\u001b[0m 234ms/step - accuracy: 0.3191 - loss: 1.0985 - precision: 0.0000e+00 - recall: 0.0000e+00 - val_accuracy: 0.3367 - val_loss: 1.0979 - val_precision: 0.0000e+00 - val_recall: 0.0000e+00\n",
      "Epoch 11/30\n",
      "\u001b[1m78/78\u001b[0m \u001b[32m━━━━━━━━━━━━━━━━━━━━\u001b[0m\u001b[37m\u001b[0m \u001b[1m20s\u001b[0m 257ms/step - accuracy: 0.3421 - loss: 1.0992 - precision: 0.3291 - recall: 0.0025 - val_accuracy: 0.3306 - val_loss: 1.0986 - val_precision: 0.0000e+00 - val_recall: 0.0000e+00\n",
      "Epoch 12/30\n",
      "\u001b[1m78/78\u001b[0m \u001b[32m━━━━━━━━━━━━━━━━━━━━\u001b[0m\u001b[37m\u001b[0m \u001b[1m19s\u001b[0m 234ms/step - accuracy: 0.3590 - loss: 1.0979 - precision: 0.0000e+00 - recall: 0.0000e+00 - val_accuracy: 0.3528 - val_loss: 1.0971 - val_precision: 0.0000e+00 - val_recall: 0.0000e+00\n",
      "Epoch 13/30\n",
      "\u001b[1m78/78\u001b[0m \u001b[32m━━━━━━━━━━━━━━━━━━━━\u001b[0m\u001b[37m\u001b[0m \u001b[1m19s\u001b[0m 239ms/step - accuracy: 0.3518 - loss: 1.0978 - precision: 0.0000e+00 - recall: 0.0000e+00 - val_accuracy: 0.3367 - val_loss: 1.0962 - val_precision: 0.0000e+00 - val_recall: 0.0000e+00\n",
      "Epoch 14/30\n",
      "\u001b[1m78/78\u001b[0m \u001b[32m━━━━━━━━━━━━━━━━━━━━\u001b[0m\u001b[37m\u001b[0m \u001b[1m20s\u001b[0m 251ms/step - accuracy: 0.3668 - loss: 1.0957 - precision: 0.0000e+00 - recall: 0.0000e+00 - val_accuracy: 0.4698 - val_loss: 1.0819 - val_precision: 0.0000e+00 - val_recall: 0.0000e+00\n",
      "Epoch 15/30\n",
      "\u001b[1m78/78\u001b[0m \u001b[32m━━━━━━━━━━━━━━━━━━━━\u001b[0m\u001b[37m\u001b[0m \u001b[1m19s\u001b[0m 234ms/step - accuracy: 0.4012 - loss: 1.0867 - precision: 0.4909 - recall: 0.0094 - val_accuracy: 0.4516 - val_loss: 1.0778 - val_precision: 0.0000e+00 - val_recall: 0.0000e+00\n",
      "Epoch 16/30\n",
      "\u001b[1m78/78\u001b[0m \u001b[32m━━━━━━━━━━━━━━━━━━━━\u001b[0m\u001b[37m\u001b[0m \u001b[1m21s\u001b[0m 268ms/step - accuracy: 0.4028 - loss: 1.0867 - precision: 0.2551 - recall: 0.0018 - val_accuracy: 0.4536 - val_loss: 1.0688 - val_precision: 0.0000e+00 - val_recall: 0.0000e+00\n",
      "Epoch 17/30\n",
      "\u001b[1m78/78\u001b[0m \u001b[32m━━━━━━━━━━━━━━━━━━━━\u001b[0m\u001b[37m\u001b[0m \u001b[1m19s\u001b[0m 234ms/step - accuracy: 0.4320 - loss: 1.0775 - precision: 0.4546 - recall: 0.0297 - val_accuracy: 0.4577 - val_loss: 1.0745 - val_precision: 0.0000e+00 - val_recall: 0.0000e+00\n",
      "Epoch 18/30\n",
      "\u001b[1m78/78\u001b[0m \u001b[32m━━━━━━━━━━━━━━━━━━━━\u001b[0m\u001b[37m\u001b[0m \u001b[1m21s\u001b[0m 260ms/step - accuracy: 0.4398 - loss: 1.0699 - precision: 0.4940 - recall: 0.0223 - val_accuracy: 0.4093 - val_loss: 1.0722 - val_precision: 0.0000e+00 - val_recall: 0.0000e+00\n",
      "Epoch 19/30\n",
      "\u001b[1m78/78\u001b[0m \u001b[32m━━━━━━━━━━━━━━━━━━━━\u001b[0m\u001b[37m\u001b[0m \u001b[1m19s\u001b[0m 236ms/step - accuracy: 0.4437 - loss: 1.0649 - precision: 0.5216 - recall: 0.0657 - val_accuracy: 0.5766 - val_loss: 0.9950 - val_precision: 0.7955 - val_recall: 0.0706\n",
      "Epoch 20/30\n",
      "\u001b[1m78/78\u001b[0m \u001b[32m━━━━━━━━━━━━━━━━━━━━\u001b[0m\u001b[37m\u001b[0m \u001b[1m21s\u001b[0m 261ms/step - accuracy: 0.4763 - loss: 1.0507 - precision: 0.5124 - recall: 0.1118 - val_accuracy: 0.5867 - val_loss: 0.9088 - val_precision: 0.7070 - val_recall: 0.3649\n",
      "Epoch 21/30\n",
      "\u001b[1m78/78\u001b[0m \u001b[32m━━━━━━━━━━━━━━━━━━━━\u001b[0m\u001b[37m\u001b[0m \u001b[1m19s\u001b[0m 234ms/step - accuracy: 0.5909 - loss: 0.9132 - precision: 0.6672 - recall: 0.3814 - val_accuracy: 0.4879 - val_loss: 0.9441 - val_precision: 0.5546 - val_recall: 0.3891\n",
      "Epoch 22/30\n",
      "\u001b[1m78/78\u001b[0m \u001b[32m━━━━━━━━━━━━━━━━━━━━\u001b[0m\u001b[37m\u001b[0m \u001b[1m20s\u001b[0m 257ms/step - accuracy: 0.6660 - loss: 0.7205 - precision: 0.7359 - recall: 0.5884 - val_accuracy: 0.7742 - val_loss: 0.5676 - val_precision: 0.8027 - val_recall: 0.7137\n",
      "Epoch 23/30\n",
      "\u001b[1m78/78\u001b[0m \u001b[32m━━━━━━━━━━━━━━━━━━━━\u001b[0m\u001b[37m\u001b[0m \u001b[1m19s\u001b[0m 234ms/step - accuracy: 0.7784 - loss: 0.5166 - precision: 0.8191 - recall: 0.7350 - val_accuracy: 0.7762 - val_loss: 0.5103 - val_precision: 0.8129 - val_recall: 0.7359\n",
      "Epoch 24/30\n",
      "\u001b[1m78/78\u001b[0m \u001b[32m━━━━━━━━━━━━━━━━━━━━\u001b[0m\u001b[37m\u001b[0m \u001b[1m20s\u001b[0m 257ms/step - accuracy: 0.8142 - loss: 0.4443 - precision: 0.8465 - recall: 0.7816 - val_accuracy: 0.8105 - val_loss: 0.5047 - val_precision: 0.8203 - val_recall: 0.7823\n",
      "Epoch 25/30\n",
      "\u001b[1m78/78\u001b[0m \u001b[32m━━━━━━━━━━━━━━━━━━━━\u001b[0m\u001b[37m\u001b[0m \u001b[1m19s\u001b[0m 235ms/step - accuracy: 0.8374 - loss: 0.3840 - precision: 0.8492 - recall: 0.8120 - val_accuracy: 0.8427 - val_loss: 0.4742 - val_precision: 0.8539 - val_recall: 0.8246\n",
      "Epoch 26/30\n",
      "\u001b[1m78/78\u001b[0m \u001b[32m━━━━━━━━━━━━━━━━━━━━\u001b[0m\u001b[37m\u001b[0m \u001b[1m20s\u001b[0m 254ms/step - accuracy: 0.8809 - loss: 0.3023 - precision: 0.8940 - recall: 0.8642 - val_accuracy: 0.8347 - val_loss: 0.5054 - val_precision: 0.8416 - val_recall: 0.8246\n",
      "Epoch 27/30\n",
      "\u001b[1m78/78\u001b[0m \u001b[32m━━━━━━━━━━━━━━━━━━━━\u001b[0m\u001b[37m\u001b[0m \u001b[1m19s\u001b[0m 237ms/step - accuracy: 0.8817 - loss: 0.2849 - precision: 0.8915 - recall: 0.8706 - val_accuracy: 0.8407 - val_loss: 0.4304 - val_precision: 0.8629 - val_recall: 0.8246\n",
      "Epoch 28/30\n",
      "\u001b[1m78/78\u001b[0m \u001b[32m━━━━━━━━━━━━━━━━━━━━\u001b[0m\u001b[37m\u001b[0m \u001b[1m19s\u001b[0m 240ms/step - accuracy: 0.8979 - loss: 0.2641 - precision: 0.9093 - recall: 0.8835 - val_accuracy: 0.8488 - val_loss: 0.4712 - val_precision: 0.8504 - val_recall: 0.8367\n",
      "Epoch 29/30\n",
      "\u001b[1m78/78\u001b[0m \u001b[32m━━━━━━━━━━━━━━━━━━━━\u001b[0m\u001b[37m\u001b[0m \u001b[1m20s\u001b[0m 251ms/step - accuracy: 0.9149 - loss: 0.2225 - precision: 0.9264 - recall: 0.9081 - val_accuracy: 0.8488 - val_loss: 0.4584 - val_precision: 0.8496 - val_recall: 0.8427\n",
      "Epoch 30/30\n",
      "\u001b[1m78/78\u001b[0m \u001b[32m━━━━━━━━━━━━━━━━━━━━\u001b[0m\u001b[37m\u001b[0m \u001b[1m19s\u001b[0m 240ms/step - accuracy: 0.9100 - loss: 0.2000 - precision: 0.9221 - recall: 0.9048 - val_accuracy: 0.8347 - val_loss: 0.4928 - val_precision: 0.8412 - val_recall: 0.8226\n",
      "Predicting on validation set...\n",
      "\u001b[1m16/16\u001b[0m \u001b[32m━━━━━━━━━━━━━━━━━━━━\u001b[0m\u001b[37m\u001b[0m \u001b[1m1s\u001b[0m 57ms/step\n",
      "Sending metrics to clearML...\n",
      "done\n",
      "ClearML Task: created new task id=a36da34828c8446db98c4e3ace03430b\n",
      "ClearML results page: https://app.clear.ml/projects/5a674be4cf0f473c808dd42f7b83358f/experiments/a36da34828c8446db98c4e3ace03430b/output/log\n",
      "Training model...\n",
      "Epoch 1/30\n",
      "\u001b[1m117/117\u001b[0m \u001b[32m━━━━━━━━━━━━━━━━━━━━\u001b[0m\u001b[37m\u001b[0m \u001b[1m32s\u001b[0m 252ms/step - accuracy: 0.3508 - loss: 1.4537 - precision: 0.3084 - recall: 0.0655 - val_accuracy: 0.4556 - val_loss: 1.0648 - val_precision: 1.0000 - val_recall: 0.0020\n",
      "Epoch 2/30\n",
      "\u001b[1m117/117\u001b[0m \u001b[32m━━━━━━━━━━━━━━━━━━━━\u001b[0m\u001b[37m\u001b[0m \u001b[1m29s\u001b[0m 248ms/step - accuracy: 0.4686 - loss: 1.0547 - precision: 0.5663 - recall: 0.1013 - val_accuracy: 0.5968 - val_loss: 0.8944 - val_precision: 0.8346 - val_recall: 0.2238\n",
      "Epoch 3/30\n",
      "\u001b[1m117/117\u001b[0m \u001b[32m━━━━━━━━━━━━━━━━━━━━\u001b[0m\u001b[37m\u001b[0m \u001b[1m27s\u001b[0m 231ms/step - accuracy: 0.6324 - loss: 0.8264 - precision: 0.7049 - recall: 0.4738 - val_accuracy: 0.7500 - val_loss: 0.6307 - val_precision: 0.7826 - val_recall: 0.6895\n",
      "Epoch 4/30\n",
      "\u001b[1m117/117\u001b[0m \u001b[32m━━━━━━━━━━━━━━━━━━━━\u001b[0m\u001b[37m\u001b[0m \u001b[1m29s\u001b[0m 242ms/step - accuracy: 0.7409 - loss: 0.6438 - precision: 0.7788 - recall: 0.6826 - val_accuracy: 0.7601 - val_loss: 0.5989 - val_precision: 0.7714 - val_recall: 0.7278\n",
      "Epoch 5/30\n",
      "\u001b[1m117/117\u001b[0m \u001b[32m━━━━━━━━━━━━━━━━━━━━\u001b[0m\u001b[37m\u001b[0m \u001b[1m29s\u001b[0m 246ms/step - accuracy: 0.7875 - loss: 0.4969 - precision: 0.8164 - recall: 0.7623 - val_accuracy: 0.7843 - val_loss: 0.5539 - val_precision: 0.7971 - val_recall: 0.7762\n",
      "Epoch 6/30\n",
      "\u001b[1m117/117\u001b[0m \u001b[32m━━━━━━━━━━━━━━━━━━━━\u001b[0m\u001b[37m\u001b[0m \u001b[1m27s\u001b[0m 233ms/step - accuracy: 0.8318 - loss: 0.4100 - precision: 0.8472 - recall: 0.8092 - val_accuracy: 0.7843 - val_loss: 0.5597 - val_precision: 0.7888 - val_recall: 0.7681\n",
      "Epoch 7/30\n",
      "\u001b[1m117/117\u001b[0m \u001b[32m━━━━━━━━━━━━━━━━━━━━\u001b[0m\u001b[37m\u001b[0m \u001b[1m29s\u001b[0m 244ms/step - accuracy: 0.8506 - loss: 0.3809 - precision: 0.8701 - recall: 0.8336 - val_accuracy: 0.7923 - val_loss: 0.5875 - val_precision: 0.7935 - val_recall: 0.7823\n",
      "Epoch 8/30\n",
      "\u001b[1m117/117\u001b[0m \u001b[32m━━━━━━━━━━━━━━━━━━━━\u001b[0m\u001b[37m\u001b[0m \u001b[1m29s\u001b[0m 246ms/step - accuracy: 0.8703 - loss: 0.3350 - precision: 0.8890 - recall: 0.8576 - val_accuracy: 0.8044 - val_loss: 0.5684 - val_precision: 0.8086 - val_recall: 0.8004\n",
      "Epoch 9/30\n",
      "\u001b[1m117/117\u001b[0m \u001b[32m━━━━━━━━━━━━━━━━━━━━\u001b[0m\u001b[37m\u001b[0m \u001b[1m28s\u001b[0m 234ms/step - accuracy: 0.8913 - loss: 0.2796 - precision: 0.8974 - recall: 0.8806 - val_accuracy: 0.8266 - val_loss: 0.5530 - val_precision: 0.8299 - val_recall: 0.8165\n",
      "Epoch 10/30\n",
      "\u001b[1m117/117\u001b[0m \u001b[32m━━━━━━━━━━━━━━━━━━━━\u001b[0m\u001b[37m\u001b[0m \u001b[1m29s\u001b[0m 243ms/step - accuracy: 0.9048 - loss: 0.2450 - precision: 0.9109 - recall: 0.9001 - val_accuracy: 0.8327 - val_loss: 0.5563 - val_precision: 0.8357 - val_recall: 0.8306\n",
      "Epoch 11/30\n",
      "\u001b[1m117/117\u001b[0m \u001b[32m━━━━━━━━━━━━━━━━━━━━\u001b[0m\u001b[37m\u001b[0m \u001b[1m29s\u001b[0m 246ms/step - accuracy: 0.9231 - loss: 0.2024 - precision: 0.9309 - recall: 0.9180 - val_accuracy: 0.8306 - val_loss: 0.6098 - val_precision: 0.8347 - val_recall: 0.8246\n",
      "Epoch 12/30\n",
      "\u001b[1m117/117\u001b[0m \u001b[32m━━━━━━━━━━━━━━━━━━━━\u001b[0m\u001b[37m\u001b[0m \u001b[1m29s\u001b[0m 245ms/step - accuracy: 0.9283 - loss: 0.2030 - precision: 0.9340 - recall: 0.9235 - val_accuracy: 0.8569 - val_loss: 0.5504 - val_precision: 0.8566 - val_recall: 0.8548\n",
      "Epoch 13/30\n",
      "\u001b[1m117/117\u001b[0m \u001b[32m━━━━━━━━━━━━━━━━━━━━\u001b[0m\u001b[37m\u001b[0m \u001b[1m29s\u001b[0m 243ms/step - accuracy: 0.9437 - loss: 0.1628 - precision: 0.9483 - recall: 0.9391 - val_accuracy: 0.8286 - val_loss: 0.5783 - val_precision: 0.8333 - val_recall: 0.8266\n",
      "Epoch 14/30\n",
      "\u001b[1m117/117\u001b[0m \u001b[32m━━━━━━━━━━━━━━━━━━━━\u001b[0m\u001b[37m\u001b[0m \u001b[1m29s\u001b[0m 247ms/step - accuracy: 0.9426 - loss: 0.1572 - precision: 0.9461 - recall: 0.9393 - val_accuracy: 0.8649 - val_loss: 0.5793 - val_precision: 0.8679 - val_recall: 0.8609\n",
      "Epoch 15/30\n",
      "\u001b[1m117/117\u001b[0m \u001b[32m━━━━━━━━━━━━━━━━━━━━\u001b[0m\u001b[37m\u001b[0m \u001b[1m29s\u001b[0m 242ms/step - accuracy: 0.9508 - loss: 0.1424 - precision: 0.9542 - recall: 0.9498 - val_accuracy: 0.8488 - val_loss: 0.6551 - val_precision: 0.8499 - val_recall: 0.8448\n",
      "Epoch 16/30\n",
      "\u001b[1m117/117\u001b[0m \u001b[32m━━━━━━━━━━━━━━━━━━━━\u001b[0m\u001b[37m\u001b[0m \u001b[1m28s\u001b[0m 233ms/step - accuracy: 0.9558 - loss: 0.1197 - precision: 0.9569 - recall: 0.9537 - val_accuracy: 0.8629 - val_loss: 0.6270 - val_precision: 0.8641 - val_recall: 0.8589\n",
      "Epoch 17/30\n",
      "\u001b[1m117/117\u001b[0m \u001b[32m━━━━━━━━━━━━━━━━━━━━\u001b[0m\u001b[37m\u001b[0m \u001b[1m29s\u001b[0m 246ms/step - accuracy: 0.9622 - loss: 0.1155 - precision: 0.9651 - recall: 0.9606 - val_accuracy: 0.8528 - val_loss: 0.6028 - val_precision: 0.8528 - val_recall: 0.8528\n",
      "Epoch 18/30\n",
      "\u001b[1m117/117\u001b[0m \u001b[32m━━━━━━━━━━━━━━━━━━━━\u001b[0m\u001b[37m\u001b[0m \u001b[1m29s\u001b[0m 244ms/step - accuracy: 0.9513 - loss: 0.1241 - precision: 0.9524 - recall: 0.9485 - val_accuracy: 0.8710 - val_loss: 0.6502 - val_precision: 0.8707 - val_recall: 0.8690\n",
      "Epoch 19/30\n",
      "\u001b[1m117/117\u001b[0m \u001b[32m━━━━━━━━━━━━━━━━━━━━\u001b[0m\u001b[37m\u001b[0m \u001b[1m27s\u001b[0m 231ms/step - accuracy: 0.9629 - loss: 0.1030 - precision: 0.9643 - recall: 0.9612 - val_accuracy: 0.8730 - val_loss: 0.6210 - val_precision: 0.8745 - val_recall: 0.8710\n",
      "Epoch 20/30\n",
      "\u001b[1m117/117\u001b[0m \u001b[32m━━━━━━━━━━━━━━━━━━━━\u001b[0m\u001b[37m\u001b[0m \u001b[1m29s\u001b[0m 246ms/step - accuracy: 0.9706 - loss: 0.0958 - precision: 0.9721 - recall: 0.9689 - val_accuracy: 0.8770 - val_loss: 0.5702 - val_precision: 0.8788 - val_recall: 0.8770\n",
      "Epoch 21/30\n",
      "\u001b[1m117/117\u001b[0m \u001b[32m━━━━━━━━━━━━━━━━━━━━\u001b[0m\u001b[37m\u001b[0m \u001b[1m29s\u001b[0m 246ms/step - accuracy: 0.9706 - loss: 0.0880 - precision: 0.9727 - recall: 0.9693 - val_accuracy: 0.8690 - val_loss: 0.5531 - val_precision: 0.8770 - val_recall: 0.8629\n",
      "Epoch 22/30\n",
      "\u001b[1m117/117\u001b[0m \u001b[32m━━━━━━━━━━━━━━━━━━━━\u001b[0m\u001b[37m\u001b[0m \u001b[1m28s\u001b[0m 232ms/step - accuracy: 0.9706 - loss: 0.0918 - precision: 0.9712 - recall: 0.9670 - val_accuracy: 0.8548 - val_loss: 0.6535 - val_precision: 0.8548 - val_recall: 0.8548\n",
      "Epoch 23/30\n",
      "\u001b[1m117/117\u001b[0m \u001b[32m━━━━━━━━━━━━━━━━━━━━\u001b[0m\u001b[37m\u001b[0m \u001b[1m29s\u001b[0m 247ms/step - accuracy: 0.9666 - loss: 0.0922 - precision: 0.9672 - recall: 0.9653 - val_accuracy: 0.8407 - val_loss: 0.7168 - val_precision: 0.8438 - val_recall: 0.8387\n",
      "Epoch 24/30\n",
      "\u001b[1m117/117\u001b[0m \u001b[32m━━━━━━━━━━━━━━━━━━━━\u001b[0m\u001b[37m\u001b[0m \u001b[1m30s\u001b[0m 258ms/step - accuracy: 0.9697 - loss: 0.0928 - precision: 0.9720 - recall: 0.9692 - val_accuracy: 0.8810 - val_loss: 0.7294 - val_precision: 0.8826 - val_recall: 0.8790\n",
      "Epoch 25/30\n",
      "\u001b[1m117/117\u001b[0m \u001b[32m━━━━━━━━━━━━━━━━━━━━\u001b[0m\u001b[37m\u001b[0m \u001b[1m27s\u001b[0m 231ms/step - accuracy: 0.9720 - loss: 0.0770 - precision: 0.9726 - recall: 0.9713 - val_accuracy: 0.8831 - val_loss: 0.6781 - val_precision: 0.8831 - val_recall: 0.8831\n",
      "Epoch 26/30\n",
      "\u001b[1m117/117\u001b[0m \u001b[32m━━━━━━━━━━━━━━━━━━━━\u001b[0m\u001b[37m\u001b[0m \u001b[1m29s\u001b[0m 245ms/step - accuracy: 0.9784 - loss: 0.0624 - precision: 0.9786 - recall: 0.9782 - val_accuracy: 0.8790 - val_loss: 0.7924 - val_precision: 0.8788 - val_recall: 0.8770\n",
      "Epoch 27/30\n",
      "\u001b[1m117/117\u001b[0m \u001b[32m━━━━━━━━━━━━━━━━━━━━\u001b[0m\u001b[37m\u001b[0m \u001b[1m29s\u001b[0m 247ms/step - accuracy: 0.9752 - loss: 0.0732 - precision: 0.9768 - recall: 0.9744 - val_accuracy: 0.8770 - val_loss: 0.6682 - val_precision: 0.8783 - val_recall: 0.8730\n",
      "Epoch 28/30\n",
      "\u001b[1m117/117\u001b[0m \u001b[32m━━━━━━━━━━━━━━━━━━━━\u001b[0m\u001b[37m\u001b[0m \u001b[1m27s\u001b[0m 231ms/step - accuracy: 0.9805 - loss: 0.0642 - precision: 0.9812 - recall: 0.9779 - val_accuracy: 0.8831 - val_loss: 0.8265 - val_precision: 0.8828 - val_recall: 0.8810\n",
      "Epoch 29/30\n",
      "\u001b[1m117/117\u001b[0m \u001b[32m━━━━━━━━━━━━━━━━━━━━\u001b[0m\u001b[37m\u001b[0m \u001b[1m29s\u001b[0m 245ms/step - accuracy: 0.9873 - loss: 0.0414 - precision: 0.9880 - recall: 0.9861 - val_accuracy: 0.8750 - val_loss: 0.8554 - val_precision: 0.8745 - val_recall: 0.8710\n",
      "Epoch 30/30\n",
      "\u001b[1m117/117\u001b[0m \u001b[32m━━━━━━━━━━━━━━━━━━━━\u001b[0m\u001b[37m\u001b[0m \u001b[1m29s\u001b[0m 245ms/step - accuracy: 0.9870 - loss: 0.0372 - precision: 0.9875 - recall: 0.9868 - val_accuracy: 0.8710 - val_loss: 0.8937 - val_precision: 0.8710 - val_recall: 0.8710\n",
      "Predicting on validation set...\n",
      "\u001b[1m16/16\u001b[0m \u001b[32m━━━━━━━━━━━━━━━━━━━━\u001b[0m\u001b[37m\u001b[0m \u001b[1m1s\u001b[0m 52ms/step\n",
      "Sending metrics to clearML...\n",
      "done\n"
     ]
    }
   ],
   "source": [
    "# rotate augmentation 5\n",
    "task_name = 'r5'\n",
    "sub_project_name = 'ROTATE'\n",
    "\n",
    "augmentation_metadata = {\n",
    "        'methods': {        \n",
    "            'rotate': {\n",
    "                'parameters': {\n",
    "                    'angle_limit': 5, # Maximum angle of rotation\n",
    "                    'p': 1.0  # Probability of applying the augmentation\n",
    "                },\n",
    "                'apply_to_percentage': 0.5  # 50% of the training images\n",
    "            }        \n",
    "        }\n",
    "    }\n",
    "\n",
    "for i in range(N):\n",
    "    RUN = i + 1\n",
    "    try:\n",
    "        print(f\"Starting RUN: {RUN}\")\n",
    "        main(RUN, augmentation_metadata, task_name, sub_project_name, epochs, train_size, w1, w2)\n",
    "    except Exception as e:\n",
    "        print(f\"Error in RUN: {RUN}\")\n",
    "        print(e)\n",
    "    finally:\n",
    "        clear_output(wait=True)  # Clear the output to avoid scrolling\n",
    "        gc.collect()  # Collect garbage to avoid memory leaks"
   ]
  },
  {
   "cell_type": "code",
   "execution_count": 14,
   "metadata": {},
   "outputs": [
    {
     "name": "stdout",
     "output_type": "stream",
     "text": [
      "Starting RUN: 5\n",
      "Seed:  1937978162\n"
     ]
    },
    {
     "name": "stderr",
     "output_type": "stream",
     "text": [
      "c:\\github\\Third-Year-Project\\Intruder-Aircraft-Detection\\main\\tl_clf.py:79: SettingWithCopyWarning:\n",
      "\n",
      "\n",
      "A value is trying to be set on a copy of a slice from a DataFrame.\n",
      "Try using .loc[row_indexer,col_indexer] = value instead\n",
      "\n",
      "See the caveats in the documentation: https://pandas.pydata.org/pandas-docs/stable/user_guide/indexing.html#returning-a-view-versus-a-copy\n",
      "\n",
      "c:\\github\\Third-Year-Project\\Intruder-Aircraft-Detection\\main\\tl_clf.py:80: SettingWithCopyWarning:\n",
      "\n",
      "\n",
      "A value is trying to be set on a copy of a slice from a DataFrame.\n",
      "Try using .loc[row_indexer,col_indexer] = value instead\n",
      "\n",
      "See the caveats in the documentation: https://pandas.pydata.org/pandas-docs/stable/user_guide/indexing.html#returning-a-view-versus-a-copy\n",
      "\n"
     ]
    },
    {
     "name": "stdout",
     "output_type": "stream",
     "text": [
      "Removing dataset if pre-existing\n",
      "Copying training files:\n"
     ]
    },
    {
     "name": "stderr",
     "output_type": "stream",
     "text": [
      "Copying files: 100%|██████████| 5000/5000 [00:03<00:00, 1417.92it/s]\n"
     ]
    },
    {
     "name": "stdout",
     "output_type": "stream",
     "text": [
      "Copying validation files:\n"
     ]
    },
    {
     "name": "stderr",
     "output_type": "stream",
     "text": [
      "Copying files: 100%|██████████| 1000/1000 [00:01<00:00, 683.29it/s]\n"
     ]
    },
    {
     "name": "stdout",
     "output_type": "stream",
     "text": [
      "Dataset 'weather_23_2500' created at C:\\github\\Third-Year-Project\\Intruder-Aircraft-Detection\\datasets\\Custom\\weather_23_2500\n",
      "Processing train labels in weather_23_2500:\n"
     ]
    },
    {
     "name": "stderr",
     "output_type": "stream",
     "text": [
      "Processing labels: 100%|██████████| 2500/2500 [00:09<00:00, 261.20it/s]\n"
     ]
    },
    {
     "name": "stdout",
     "output_type": "stream",
     "text": [
      "Processing valid labels in weather_23_2500:\n"
     ]
    },
    {
     "name": "stderr",
     "output_type": "stream",
     "text": [
      "Processing labels: 100%|██████████| 500/500 [00:01<00:00, 267.90it/s]\n"
     ]
    },
    {
     "name": "stdout",
     "output_type": "stream",
     "text": [
      "Label correction completed.\n"
     ]
    },
    {
     "name": "stderr",
     "output_type": "stream",
     "text": [
      "Removing existing directories/files: 100%|██████████| 3/3 [00:00<00:00, 5991.86it/s]\n",
      "Copying files: 100%|██████████| 2500/2500 [00:02<00:00, 1091.77it/s]\n",
      "Copying files: 100%|██████████| 2500/2500 [00:01<00:00, 1388.14it/s]\n",
      "Applying augmentations: 100%|██████████| 1250/1250 [00:15<00:00, 81.68it/s]\n"
     ]
    },
    {
     "name": "stdout",
     "output_type": "stream",
     "text": [
      "An error occurred: Expected y_max for bbox (0.423424, 0.730641, 0.8816200000000001, 1.036105, 1) to be in the range [0.0, 1.0], got 1.036105.\n",
      "An error occurred: Expected x_min for bbox (-0.02266499999999999, 0.5461069999999999, 0.560295, 0.9347469999999999, 2) to be in the range [0.0, 1.0], got -0.02266499999999999.\n",
      "An error occurred: Expected y_max for bbox (0.578752, 0.762086, 0.935798, 1.000116, 0) to be in the range [0.0, 1.0], got 1.000116.\n",
      "An error occurred: Expected y_max for bbox (0.36195600000000006, 0.7324, 0.764684, 1.000886, 1) to be in the range [0.0, 1.0], got 1.000886.\n",
      "An error occurred: Expected y_max for bbox (0.0655045, 0.7670555, 0.42422150000000003, 1.0062005, 1) to be in the range [0.0, 1.0], got 1.0062005.\n",
      "An error occurred: In YOLO format all coordinates must be float and in range (0, 1]\n",
      "An error occurred: In YOLO format all coordinates must be float and in range (0, 1]\n",
      "An error occurred: Expected x_min for bbox (-0.11753550000000001, 0.31711149999999994, 0.8069695, 0.9334484999999999, 2) to be in the range [0.0, 1.0], got -0.11753550000000001.\n",
      "An error occurred: Expected y_max for bbox (0.38042449999999994, 0.694677, 0.8531095, 1.009801, 2) to be in the range [0.0, 1.0], got 1.009801.\n",
      "An error occurred: Expected x_max for bbox (0.30940350000000005, 0.6482319999999999, 1.1197745000000001, 1.1884799999999998, 2) to be in the range [0.0, 1.0], got 1.1197745000000001.\n",
      "An error occurred: Expected y_max for bbox (0.34076549999999994, 0.686593, 0.8614025, 1.033685, 0) to be in the range [0.0, 1.0], got 1.033685.\n",
      "An error occurred: Expected x_max for bbox (0.27437150000000005, 0.117452, 1.1447385, 0.697696, 1) to be in the range [0.0, 1.0], got 1.1447385.\n",
      "An error occurred: Expected x_max for bbox (0.3556645, 0.47547049999999996, 1.0335975, 0.9274255, 1) to be in the range [0.0, 1.0], got 1.0335975.\n",
      "An error occurred: Expected y_max for bbox (0.26693300000000003, 0.6076385000000001, 0.916885, 1.0409395000000001, 2) to be in the range [0.0, 1.0], got 1.0409395000000001.\n"
     ]
    },
    {
     "name": "stderr",
     "output_type": "stream",
     "text": [
      "Processing images:  12%|█▏        | 309/2500 [00:15<01:02, 35.24it/s]"
     ]
    },
    {
     "name": "stdout",
     "output_type": "stream",
     "text": [
      "An error occurred with C:/github/Third-Year-Project/Intruder-Aircraft-Detection/datasets/Custom/weather_23_2500\\images\\train\\26045.jpg: Expected x_max for bbox (0.28810699999999995, 0.48339099999999996, 1.049593, 0.9910490000000001, 1) to be in the range [0.0, 1.0], got 1.049593.\n"
     ]
    },
    {
     "name": "stderr",
     "output_type": "stream",
     "text": [
      "Processing images:  13%|█▎        | 326/2500 [00:15<01:01, 35.38it/s]"
     ]
    },
    {
     "name": "stdout",
     "output_type": "stream",
     "text": [
      "An error occurred with C:/github/Third-Year-Project/Intruder-Aircraft-Detection/datasets/Custom/weather_23_2500\\images\\train\\26071.jpg: Expected y_max for bbox (0.17629099999999998, 0.6937635, 0.787639, 1.1013285, 1) to be in the range [0.0, 1.0], got 1.1013285.\n"
     ]
    },
    {
     "name": "stderr",
     "output_type": "stream",
     "text": [
      "Processing images:  16%|█▌        | 403/2500 [00:18<01:01, 34.36it/s]"
     ]
    },
    {
     "name": "stdout",
     "output_type": "stream",
     "text": [
      "An error occurred with C:/github/Third-Year-Project/Intruder-Aircraft-Detection/datasets/Custom/weather_23_2500\\images\\train\\26215.jpg: Expected y_min for bbox (0.3336595, -0.0619315, 1.0472645, 0.41380550000000005, 1) to be in the range [0.0, 1.0], got -0.0619315.\n"
     ]
    },
    {
     "name": "stderr",
     "output_type": "stream",
     "text": [
      "Processing images:  16%|█▋        | 412/2500 [00:18<00:59, 35.13it/s]"
     ]
    },
    {
     "name": "stdout",
     "output_type": "stream",
     "text": [
      "An error occurred with C:/github/Third-Year-Project/Intruder-Aircraft-Detection/datasets/Custom/weather_23_2500\\images\\train\\26227.jpg: Expected y_max for bbox (0.36195600000000006, 0.7324, 0.764684, 1.000886, 1) to be in the range [0.0, 1.0], got 1.000886.\n"
     ]
    },
    {
     "name": "stderr",
     "output_type": "stream",
     "text": [
      "Processing images:  21%|██        | 521/2500 [00:21<01:00, 32.89it/s]"
     ]
    },
    {
     "name": "stdout",
     "output_type": "stream",
     "text": [
      "An error occurred with C:/github/Third-Year-Project/Intruder-Aircraft-Detection/datasets/Custom/weather_23_2500\\images\\train\\26422.jpg: Expected x_max for bbox (0.3556645, 0.47547049999999996, 1.0335975, 0.9274255, 1) to be in the range [0.0, 1.0], got 1.0335975.\n"
     ]
    },
    {
     "name": "stderr",
     "output_type": "stream",
     "text": [
      "Processing images:  22%|██▏       | 550/2500 [00:22<00:56, 34.62it/s]"
     ]
    },
    {
     "name": "stdout",
     "output_type": "stream",
     "text": [
      "An error occurred with C:/github/Third-Year-Project/Intruder-Aircraft-Detection/datasets/Custom/weather_23_2500\\images\\train\\26500.jpg: Expected y_max for bbox (0.0655045, 0.7670555, 0.42422150000000003, 1.0062005, 1) to be in the range [0.0, 1.0], got 1.0062005.\n"
     ]
    },
    {
     "name": "stderr",
     "output_type": "stream",
     "text": [
      "Processing images:  25%|██▍       | 623/2500 [00:24<00:55, 34.06it/s]"
     ]
    },
    {
     "name": "stdout",
     "output_type": "stream",
     "text": [
      "An error occurred with C:/github/Third-Year-Project/Intruder-Aircraft-Detection/datasets/Custom/weather_23_2500\\images\\train\\26657.jpg: Expected x_max for bbox (0.27437150000000005, 0.117452, 1.1447385, 0.697696, 1) to be in the range [0.0, 1.0], got 1.1447385.\n"
     ]
    },
    {
     "name": "stderr",
     "output_type": "stream",
     "text": [
      "Processing images:  28%|██▊       | 688/2500 [00:26<00:53, 33.69it/s]"
     ]
    },
    {
     "name": "stdout",
     "output_type": "stream",
     "text": [
      "An error occurred with C:/github/Third-Year-Project/Intruder-Aircraft-Detection/datasets/Custom/weather_23_2500\\images\\train\\26778.jpg: Expected y_min for bbox (0.17198949999999996, -0.047677, 0.8024305, 0.372617, 1) to be in the range [0.0, 1.0], got -0.047677.\n"
     ]
    },
    {
     "name": "stderr",
     "output_type": "stream",
     "text": [
      "Processing images:  30%|███       | 761/2500 [00:29<00:51, 33.83it/s]"
     ]
    },
    {
     "name": "stdout",
     "output_type": "stream",
     "text": [
      "An error occurred with C:/github/Third-Year-Project/Intruder-Aircraft-Detection/datasets/Custom/weather_23_2500\\images\\train\\27022.jpg: Expected x_min for bbox (-0.0780495, 0.5655505, 0.7145335, 1.0939394999999998, 1) to be in the range [0.0, 1.0], got -0.0780495.\n"
     ]
    },
    {
     "name": "stderr",
     "output_type": "stream",
     "text": [
      "Processing images:  34%|███▍      | 850/2500 [00:31<00:50, 32.91it/s]"
     ]
    },
    {
     "name": "stdout",
     "output_type": "stream",
     "text": [
      "An error occurred with C:/github/Third-Year-Project/Intruder-Aircraft-Detection/datasets/Custom/weather_23_2500\\images\\train\\27198.jpg: Expected x_min for bbox (-0.08473900000000001, -0.027910999999999964, 0.831197, 0.582713, 1) to be in the range [0.0, 1.0], got -0.08473900000000001.\n"
     ]
    },
    {
     "name": "stderr",
     "output_type": "stream",
     "text": [
      "Processing images:  45%|████▌     | 1127/2500 [00:40<00:39, 34.45it/s]"
     ]
    },
    {
     "name": "stdout",
     "output_type": "stream",
     "text": [
      "An error occurred with C:/github/Third-Year-Project/Intruder-Aircraft-Detection/datasets/Custom/weather_23_2500\\images\\train\\27726.jpg: Expected y_max for bbox (0.423424, 0.730641, 0.8816200000000001, 1.036105, 1) to be in the range [0.0, 1.0], got 1.036105.\n"
     ]
    },
    {
     "name": "stderr",
     "output_type": "stream",
     "text": [
      "Processing images:  65%|██████▌   | 1636/2500 [00:55<00:23, 36.89it/s]"
     ]
    },
    {
     "name": "stdout",
     "output_type": "stream",
     "text": [
      "An error occurred with C:/github/Third-Year-Project/Intruder-Aircraft-Detection/datasets/Custom/weather_23_2500\\images\\train\\3818.jpg: Expected y_max for bbox (0.578752, 0.762086, 0.935798, 1.000116, 0) to be in the range [0.0, 1.0], got 1.000116.\n",
      "An error occurred with C:/github/Third-Year-Project/Intruder-Aircraft-Detection/datasets/Custom/weather_23_2500\\images\\train\\3835.jpg: Expected y_max for bbox (0.34076549999999994, 0.686593, 0.8614025, 1.033685, 0) to be in the range [0.0, 1.0], got 1.033685.\n"
     ]
    },
    {
     "name": "stderr",
     "output_type": "stream",
     "text": [
      "Processing images:  80%|████████  | 2003/2500 [01:06<00:12, 38.24it/s]"
     ]
    },
    {
     "name": "stdout",
     "output_type": "stream",
     "text": [
      "An error occurred with C:/github/Third-Year-Project/Intruder-Aircraft-Detection/datasets/Custom/weather_23_2500\\images\\train\\50719.jpg: Expected x_min for bbox (-0.11753550000000001, 0.31711149999999994, 0.8069695, 0.9334484999999999, 2) to be in the range [0.0, 1.0], got -0.11753550000000001.\n",
      "An error occurred with C:/github/Third-Year-Project/Intruder-Aircraft-Detection/datasets/Custom/weather_23_2500\\images\\train\\50732.jpg: Expected x_min for bbox (-0.02266499999999999, 0.5461069999999999, 0.560295, 0.9347469999999999, 2) to be in the range [0.0, 1.0], got -0.02266499999999999.\n"
     ]
    },
    {
     "name": "stderr",
     "output_type": "stream",
     "text": [
      "Processing images:  84%|████████▎ | 2092/2500 [01:09<00:11, 34.69it/s]"
     ]
    },
    {
     "name": "stdout",
     "output_type": "stream",
     "text": [
      "An error occurred with C:/github/Third-Year-Project/Intruder-Aircraft-Detection/datasets/Custom/weather_23_2500\\images\\train\\51009.jpg: Expected y_max for bbox (0.26693300000000003, 0.6076385000000001, 0.916885, 1.0409395000000001, 2) to be in the range [0.0, 1.0], got 1.0409395000000001.\n"
     ]
    },
    {
     "name": "stderr",
     "output_type": "stream",
     "text": [
      "Processing images:  87%|████████▋ | 2180/2500 [01:11<00:09, 34.35it/s]"
     ]
    },
    {
     "name": "stdout",
     "output_type": "stream",
     "text": [
      "An error occurred with C:/github/Third-Year-Project/Intruder-Aircraft-Detection/datasets/Custom/weather_23_2500\\images\\train\\51177.jpg: Expected x_max for bbox (0.30940350000000005, 0.6482319999999999, 1.1197745000000001, 1.1884799999999998, 2) to be in the range [0.0, 1.0], got 1.1197745000000001.\n"
     ]
    },
    {
     "name": "stderr",
     "output_type": "stream",
     "text": [
      "Processing images:  93%|█████████▎| 2333/2500 [01:16<00:04, 34.22it/s]"
     ]
    },
    {
     "name": "stdout",
     "output_type": "stream",
     "text": [
      "An error occurred with C:/github/Third-Year-Project/Intruder-Aircraft-Detection/datasets/Custom/weather_23_2500\\images\\train\\51512.jpg: In YOLO format all coordinates must be float and in range (0, 1]\n"
     ]
    },
    {
     "name": "stderr",
     "output_type": "stream",
     "text": [
      "Processing images:  94%|█████████▍| 2353/2500 [01:17<00:04, 34.35it/s]"
     ]
    },
    {
     "name": "stdout",
     "output_type": "stream",
     "text": [
      "An error occurred with C:/github/Third-Year-Project/Intruder-Aircraft-Detection/datasets/Custom/weather_23_2500\\images\\train\\51548.jpg: Expected y_max for bbox (0.38042449999999994, 0.694677, 0.8531095, 1.009801, 2) to be in the range [0.0, 1.0], got 1.009801.\n"
     ]
    },
    {
     "name": "stderr",
     "output_type": "stream",
     "text": [
      "Processing images:  99%|█████████▉| 2485/2500 [01:21<00:00, 33.99it/s]"
     ]
    },
    {
     "name": "stdout",
     "output_type": "stream",
     "text": [
      "An error occurred with C:/github/Third-Year-Project/Intruder-Aircraft-Detection/datasets/Custom/weather_23_2500\\images\\train\\51848.jpg: In YOLO format all coordinates must be float and in range (0, 1]\n"
     ]
    },
    {
     "name": "stderr",
     "output_type": "stream",
     "text": [
      "Processing images: 100%|██████████| 2500/2500 [01:21<00:00, 30.62it/s]\n",
      "Processing images:  13%|█▎        | 475/3736 [00:25<01:38, 33.18it/s]"
     ]
    },
    {
     "name": "stdout",
     "output_type": "stream",
     "text": [
      "An error occurred with C:/github/Third-Year-Project/Intruder-Aircraft-Detection/datasets/Custom/weather_23_2500\\images\\train-aug\\26045.jpg: Expected x_max for bbox (0.28810699999999995, 0.48339099999999996, 1.049593, 0.9910490000000001, 1) to be in the range [0.0, 1.0], got 1.049593.\n"
     ]
    },
    {
     "name": "stderr",
     "output_type": "stream",
     "text": [
      "Processing images:  13%|█▎        | 488/3736 [00:26<01:31, 35.38it/s]"
     ]
    },
    {
     "name": "stdout",
     "output_type": "stream",
     "text": [
      "An error occurred with C:/github/Third-Year-Project/Intruder-Aircraft-Detection/datasets/Custom/weather_23_2500\\images\\train-aug\\26071.jpg: Expected y_max for bbox (0.17629099999999998, 0.6937635, 0.787639, 1.1013285, 1) to be in the range [0.0, 1.0], got 1.1013285.\n"
     ]
    },
    {
     "name": "stderr",
     "output_type": "stream",
     "text": [
      "Processing images:  16%|█▋        | 609/3736 [00:29<01:32, 33.66it/s]"
     ]
    },
    {
     "name": "stdout",
     "output_type": "stream",
     "text": [
      "An error occurred with C:/github/Third-Year-Project/Intruder-Aircraft-Detection/datasets/Custom/weather_23_2500\\images\\train-aug\\26215.jpg: Expected y_min for bbox (0.3336595, -0.0619315, 1.0472645, 0.41380550000000005, 1) to be in the range [0.0, 1.0], got -0.0619315.\n",
      "An error occurred with C:/github/Third-Year-Project/Intruder-Aircraft-Detection/datasets/Custom/weather_23_2500\\images\\train-aug\\26227.jpg: Expected y_max for bbox (0.36195600000000006, 0.7324, 0.764684, 1.000886, 1) to be in the range [0.0, 1.0], got 1.000886.\n"
     ]
    },
    {
     "name": "stderr",
     "output_type": "stream",
     "text": [
      "Processing images:  21%|██        | 767/3736 [00:34<01:27, 33.96it/s]"
     ]
    },
    {
     "name": "stdout",
     "output_type": "stream",
     "text": [
      "An error occurred with C:/github/Third-Year-Project/Intruder-Aircraft-Detection/datasets/Custom/weather_23_2500\\images\\train-aug\\26422.jpg: Expected x_max for bbox (0.3556645, 0.47547049999999996, 1.0335975, 0.9274255, 1) to be in the range [0.0, 1.0], got 1.0335975.\n"
     ]
    },
    {
     "name": "stderr",
     "output_type": "stream",
     "text": [
      "Processing images:  22%|██▏       | 816/3736 [00:36<01:26, 33.71it/s]"
     ]
    },
    {
     "name": "stdout",
     "output_type": "stream",
     "text": [
      "An error occurred with C:/github/Third-Year-Project/Intruder-Aircraft-Detection/datasets/Custom/weather_23_2500\\images\\train-aug\\26500.jpg: Expected y_max for bbox (0.0655045, 0.7670555, 0.42422150000000003, 1.0062005, 1) to be in the range [0.0, 1.0], got 1.0062005.\n"
     ]
    },
    {
     "name": "stderr",
     "output_type": "stream",
     "text": [
      "Processing images:  25%|██▍       | 933/3736 [00:40<01:22, 34.04it/s]"
     ]
    },
    {
     "name": "stdout",
     "output_type": "stream",
     "text": [
      "An error occurred with C:/github/Third-Year-Project/Intruder-Aircraft-Detection/datasets/Custom/weather_23_2500\\images\\train-aug\\26657.jpg: Expected x_max for bbox (0.27437150000000005, 0.117452, 1.1447385, 0.697696, 1) to be in the range [0.0, 1.0], got 1.1447385.\n"
     ]
    },
    {
     "name": "stderr",
     "output_type": "stream",
     "text": [
      "Processing images:  28%|██▊       | 1034/3736 [00:43<01:19, 33.87it/s]"
     ]
    },
    {
     "name": "stdout",
     "output_type": "stream",
     "text": [
      "An error occurred with C:/github/Third-Year-Project/Intruder-Aircraft-Detection/datasets/Custom/weather_23_2500\\images\\train-aug\\26778.jpg: Expected y_min for bbox (0.17198949999999996, -0.047677, 0.8024305, 0.372617, 1) to be in the range [0.0, 1.0], got -0.047677.\n"
     ]
    },
    {
     "name": "stderr",
     "output_type": "stream",
     "text": [
      "Processing images:  31%|███       | 1150/3736 [00:46<01:19, 32.60it/s]"
     ]
    },
    {
     "name": "stdout",
     "output_type": "stream",
     "text": [
      "An error occurred with C:/github/Third-Year-Project/Intruder-Aircraft-Detection/datasets/Custom/weather_23_2500\\images\\train-aug\\27022.jpg: Expected x_min for bbox (-0.0780495, 0.5655505, 0.7145335, 1.0939394999999998, 1) to be in the range [0.0, 1.0], got -0.0780495.\n"
     ]
    },
    {
     "name": "stderr",
     "output_type": "stream",
     "text": [
      "Processing images:  34%|███▍      | 1279/3736 [00:50<01:12, 34.01it/s]"
     ]
    },
    {
     "name": "stdout",
     "output_type": "stream",
     "text": [
      "An error occurred with C:/github/Third-Year-Project/Intruder-Aircraft-Detection/datasets/Custom/weather_23_2500\\images\\train-aug\\27198.jpg: Expected x_min for bbox (-0.08473900000000001, -0.027910999999999964, 0.831197, 0.582713, 1) to be in the range [0.0, 1.0], got -0.08473900000000001.\n"
     ]
    },
    {
     "name": "stderr",
     "output_type": "stream",
     "text": [
      "Processing images:  38%|███▊      | 1416/3736 [00:55<01:09, 33.41it/s]"
     ]
    },
    {
     "name": "stdout",
     "output_type": "stream",
     "text": [
      "An error occurred with C:/github/Third-Year-Project/Intruder-Aircraft-Detection/datasets/Custom/weather_23_2500\\images\\train-aug\\27362-rotate.jpg: Expected y_min for bbox (0.5917305, -5.000000000005e-07, 0.6693455, 0.0460925, 1) to be in the range [0.0, 1.0], got -5.000000000005e-07.\n"
     ]
    },
    {
     "name": "stderr",
     "output_type": "stream",
     "text": [
      "Processing images:  45%|████▌     | 1693/3736 [01:03<01:00, 33.87it/s]"
     ]
    },
    {
     "name": "stdout",
     "output_type": "stream",
     "text": [
      "An error occurred with C:/github/Third-Year-Project/Intruder-Aircraft-Detection/datasets/Custom/weather_23_2500\\images\\train-aug\\27726.jpg: Expected y_max for bbox (0.423424, 0.730641, 0.8816200000000001, 1.036105, 1) to be in the range [0.0, 1.0], got 1.036105.\n"
     ]
    },
    {
     "name": "stderr",
     "output_type": "stream",
     "text": [
      "Processing images:  54%|█████▍    | 2014/3736 [01:13<00:47, 36.40it/s]"
     ]
    },
    {
     "name": "stdout",
     "output_type": "stream",
     "text": [
      "An error occurred with C:/github/Third-Year-Project/Intruder-Aircraft-Detection/datasets/Custom/weather_23_2500\\images\\train-aug\\3193-rotate.jpg: Expected y_min for bbox (0.4229735, -4.999999999866223e-07, 0.7710725, 0.26339650000000003, 0) to be in the range [0.0, 1.0], got -4.999999999866223e-07.\n"
     ]
    },
    {
     "name": "stderr",
     "output_type": "stream",
     "text": [
      "Processing images:  65%|██████▌   | 2447/3736 [01:26<00:34, 37.17it/s]"
     ]
    },
    {
     "name": "stdout",
     "output_type": "stream",
     "text": [
      "An error occurred with C:/github/Third-Year-Project/Intruder-Aircraft-Detection/datasets/Custom/weather_23_2500\\images\\train-aug\\3818.jpg: Expected y_max for bbox (0.578752, 0.762086, 0.935798, 1.000116, 0) to be in the range [0.0, 1.0], got 1.000116.\n"
     ]
    },
    {
     "name": "stderr",
     "output_type": "stream",
     "text": [
      "Processing images:  66%|██████▌   | 2456/3736 [01:26<00:33, 38.54it/s]"
     ]
    },
    {
     "name": "stdout",
     "output_type": "stream",
     "text": [
      "An error occurred with C:/github/Third-Year-Project/Intruder-Aircraft-Detection/datasets/Custom/weather_23_2500\\images\\train-aug\\3835.jpg: Expected y_max for bbox (0.34076549999999994, 0.686593, 0.8614025, 1.033685, 0) to be in the range [0.0, 1.0], got 1.033685.\n"
     ]
    },
    {
     "name": "stderr",
     "output_type": "stream",
     "text": [
      "Processing images:  80%|███████▉  | 2988/3736 [01:42<00:21, 34.42it/s]"
     ]
    },
    {
     "name": "stdout",
     "output_type": "stream",
     "text": [
      "An error occurred with C:/github/Third-Year-Project/Intruder-Aircraft-Detection/datasets/Custom/weather_23_2500\\images\\train-aug\\50719.jpg: Expected x_min for bbox (-0.11753550000000001, 0.31711149999999994, 0.8069695, 0.9334484999999999, 2) to be in the range [0.0, 1.0], got -0.11753550000000001.\n"
     ]
    },
    {
     "name": "stderr",
     "output_type": "stream",
     "text": [
      "Processing images:  80%|████████  | 2997/3736 [01:43<00:20, 36.37it/s]"
     ]
    },
    {
     "name": "stdout",
     "output_type": "stream",
     "text": [
      "An error occurred with C:/github/Third-Year-Project/Intruder-Aircraft-Detection/datasets/Custom/weather_23_2500\\images\\train-aug\\50732.jpg: Expected x_min for bbox (-0.02266499999999999, 0.5461069999999999, 0.560295, 0.9347469999999999, 2) to be in the range [0.0, 1.0], got -0.02266499999999999.\n"
     ]
    },
    {
     "name": "stderr",
     "output_type": "stream",
     "text": [
      "Processing images:  84%|████████▍ | 3130/3736 [01:47<00:18, 33.26it/s]"
     ]
    },
    {
     "name": "stdout",
     "output_type": "stream",
     "text": [
      "An error occurred with C:/github/Third-Year-Project/Intruder-Aircraft-Detection/datasets/Custom/weather_23_2500\\images\\train-aug\\51009.jpg: Expected y_max for bbox (0.26693300000000003, 0.6076385000000001, 0.916885, 1.0409395000000001, 2) to be in the range [0.0, 1.0], got 1.0409395000000001.\n"
     ]
    },
    {
     "name": "stderr",
     "output_type": "stream",
     "text": [
      "Processing images:  87%|████████▋ | 3251/3736 [01:50<00:13, 34.77it/s]"
     ]
    },
    {
     "name": "stdout",
     "output_type": "stream",
     "text": [
      "An error occurred with C:/github/Third-Year-Project/Intruder-Aircraft-Detection/datasets/Custom/weather_23_2500\\images\\train-aug\\51177.jpg: Expected x_max for bbox (0.30940350000000005, 0.6482319999999999, 1.1197745000000001, 1.1884799999999998, 2) to be in the range [0.0, 1.0], got 1.1197745000000001.\n"
     ]
    },
    {
     "name": "stderr",
     "output_type": "stream",
     "text": [
      "Processing images:  93%|█████████▎| 3480/3736 [01:57<00:07, 33.76it/s]"
     ]
    },
    {
     "name": "stdout",
     "output_type": "stream",
     "text": [
      "An error occurred with C:/github/Third-Year-Project/Intruder-Aircraft-Detection/datasets/Custom/weather_23_2500\\images\\train-aug\\51512.jpg: In YOLO format all coordinates must be float and in range (0, 1]\n"
     ]
    },
    {
     "name": "stderr",
     "output_type": "stream",
     "text": [
      "Processing images:  94%|█████████▍| 3512/3736 [01:59<00:06, 33.41it/s]"
     ]
    },
    {
     "name": "stdout",
     "output_type": "stream",
     "text": [
      "An error occurred with C:/github/Third-Year-Project/Intruder-Aircraft-Detection/datasets/Custom/weather_23_2500\\images\\train-aug\\51548.jpg: Expected y_max for bbox (0.38042449999999994, 0.694677, 0.8531095, 1.009801, 2) to be in the range [0.0, 1.0], got 1.009801.\n"
     ]
    },
    {
     "name": "stderr",
     "output_type": "stream",
     "text": [
      "Processing images:  96%|█████████▌| 3577/3736 [02:00<00:04, 36.01it/s]"
     ]
    },
    {
     "name": "stdout",
     "output_type": "stream",
     "text": [
      "An error occurred with C:/github/Third-Year-Project/Intruder-Aircraft-Detection/datasets/Custom/weather_23_2500\\images\\train-aug\\51642-rotate.jpg: Expected y_min for bbox (0.19472050000000002, -4.999999999866223e-07, 0.7316455, 0.43095249999999996, 2) to be in the range [0.0, 1.0], got -4.999999999866223e-07.\n"
     ]
    },
    {
     "name": "stderr",
     "output_type": "stream",
     "text": [
      "Processing images:  99%|█████████▉| 3706/3736 [02:04<00:00, 34.08it/s]"
     ]
    },
    {
     "name": "stdout",
     "output_type": "stream",
     "text": [
      "An error occurred with C:/github/Third-Year-Project/Intruder-Aircraft-Detection/datasets/Custom/weather_23_2500\\images\\train-aug\\51848.jpg: In YOLO format all coordinates must be float and in range (0, 1]\n"
     ]
    },
    {
     "name": "stderr",
     "output_type": "stream",
     "text": [
      "Processing images: 100%|██████████| 3736/3736 [02:05<00:00, 29.68it/s]\n",
      "Processing images:   5%|▍         | 24/500 [00:01<00:26, 18.06it/s]"
     ]
    },
    {
     "name": "stdout",
     "output_type": "stream",
     "text": [
      "An error occurred with C:/github/Third-Year-Project/Intruder-Aircraft-Detection/datasets/Custom/weather_23_2500\\images\\valid\\26926.jpg: Expected y_min for bbox (0.38187599999999994, -0.12572450000000002, 1.180976, 0.4070085, 1) to be in the range [0.0, 1.0], got -0.12572450000000002.\n"
     ]
    },
    {
     "name": "stderr",
     "output_type": "stream",
     "text": [
      "Processing images:  17%|█▋        | 87/500 [00:04<00:12, 32.44it/s]"
     ]
    },
    {
     "name": "stdout",
     "output_type": "stream",
     "text": [
      "An error occurred with C:/github/Third-Year-Project/Intruder-Aircraft-Detection/datasets/Custom/weather_23_2500\\images\\valid\\26999.jpg: Expected x_min for bbox (-0.1462135, 0.3244429999999999, 0.7076735, 0.893701, 1) to be in the range [0.0, 1.0], got -0.1462135.\n"
     ]
    },
    {
     "name": "stderr",
     "output_type": "stream",
     "text": [
      "Processing images:  70%|███████   | 352/500 [00:11<00:04, 34.74it/s]"
     ]
    },
    {
     "name": "stdout",
     "output_type": "stream",
     "text": [
      "An error occurred with C:/github/Third-Year-Project/Intruder-Aircraft-Detection/datasets/Custom/weather_23_2500\\images\\valid\\50917.jpg: Expected y_min for bbox (0.3312055, -0.11337250000000001, 1.1166544999999999, 0.41026050000000003, 2) to be in the range [0.0, 1.0], got -0.11337250000000001.\n"
     ]
    },
    {
     "name": "stderr",
     "output_type": "stream",
     "text": [
      "Processing images:  78%|███████▊  | 389/500 [00:13<00:03, 35.94it/s]"
     ]
    },
    {
     "name": "stdout",
     "output_type": "stream",
     "text": [
      "An error occurred with C:/github/Third-Year-Project/Intruder-Aircraft-Detection/datasets/Custom/weather_23_2500\\images\\valid\\50955.jpg: Expected x_min for bbox (-0.021672000000000025, 0.2856885, 0.507494, 0.6384655, 2) to be in the range [0.0, 1.0], got -0.021672000000000025.\n"
     ]
    },
    {
     "name": "stderr",
     "output_type": "stream",
     "text": [
      "Processing images:  91%|█████████ | 454/500 [00:14<00:01, 36.58it/s]"
     ]
    },
    {
     "name": "stdout",
     "output_type": "stream",
     "text": [
      "An error occurred with C:/github/Third-Year-Project/Intruder-Aircraft-Detection/datasets/Custom/weather_23_2500\\images\\valid\\51937.jpg: Expected y_min for bbox (0.07818900000000001, -0.009202500000000002, 0.5387230000000001, 0.2978205, 2) to be in the range [0.0, 1.0], got -0.009202500000000002.\n"
     ]
    },
    {
     "name": "stderr",
     "output_type": "stream",
     "text": [
      "Processing images: 100%|██████████| 500/500 [00:16<00:00, 30.54it/s]\n",
      "Moving images in train: 100%|██████████| 2480/2480 [00:09<00:00, 268.59it/s]\n",
      "Moving images in train-aug: 100%|██████████| 3713/3713 [00:13<00:00, 269.41it/s]\n",
      "Moving images in valid: 100%|██████████| 495/495 [00:01<00:00, 280.61it/s]\n"
     ]
    },
    {
     "name": "stdout",
     "output_type": "stream",
     "text": [
      "Found 2480 files belonging to 3 classes.\n",
      "Found 3713 files belonging to 3 classes.\n",
      "Found 495 files belonging to 3 classes.\n",
      "ClearML Task: created new task id=657e367034a34aedb999fffd235285f5\n",
      "ClearML results page: https://app.clear.ml/projects/5a674be4cf0f473c808dd42f7b83358f/experiments/657e367034a34aedb999fffd235285f5/output/log\n",
      "Training model...\n",
      "Epoch 1/30\n",
      "\u001b[1m78/78\u001b[0m \u001b[32m━━━━━━━━━━━━━━━━━━━━\u001b[0m\u001b[37m\u001b[0m \u001b[1m23s\u001b[0m 267ms/step - accuracy: 0.3405 - loss: 1.4922 - precision: 0.3683 - recall: 0.0764 - val_accuracy: 0.3333 - val_loss: 1.0984 - val_precision: 0.0000e+00 - val_recall: 0.0000e+00\n",
      "Epoch 2/30\n",
      "\u001b[1m78/78\u001b[0m \u001b[32m━━━━━━━━━━━━━━━━━━━━\u001b[0m\u001b[37m\u001b[0m \u001b[1m19s\u001b[0m 241ms/step - accuracy: 0.3880 - loss: 1.0934 - precision: 0.0932 - recall: 4.9280e-04 - val_accuracy: 0.4707 - val_loss: 1.0696 - val_precision: 1.0000 - val_recall: 0.0020\n",
      "Epoch 3/30\n",
      "\u001b[1m78/78\u001b[0m \u001b[32m━━━━━━━━━━━━━━━━━━━━\u001b[0m\u001b[37m\u001b[0m \u001b[1m21s\u001b[0m 262ms/step - accuracy: 0.5377 - loss: 1.0034 - precision: 0.6782 - recall: 0.1630 - val_accuracy: 0.6444 - val_loss: 0.8552 - val_precision: 0.7720 - val_recall: 0.3899\n",
      "Epoch 4/30\n",
      "\u001b[1m78/78\u001b[0m \u001b[32m━━━━━━━━━━━━━━━━━━━━\u001b[0m\u001b[37m\u001b[0m \u001b[1m19s\u001b[0m 235ms/step - accuracy: 0.6110 - loss: 0.8731 - precision: 0.7312 - recall: 0.3566 - val_accuracy: 0.7293 - val_loss: 0.6468 - val_precision: 0.7627 - val_recall: 0.6687\n",
      "Epoch 5/30\n",
      "\u001b[1m78/78\u001b[0m \u001b[32m━━━━━━━━━━━━━━━━━━━━\u001b[0m\u001b[37m\u001b[0m \u001b[1m21s\u001b[0m 262ms/step - accuracy: 0.7355 - loss: 0.6573 - precision: 0.7823 - recall: 0.6567 - val_accuracy: 0.7596 - val_loss: 0.5771 - val_precision: 0.7826 - val_recall: 0.7273\n",
      "Epoch 6/30\n",
      "\u001b[1m78/78\u001b[0m \u001b[32m━━━━━━━━━━━━━━━━━━━━\u001b[0m\u001b[37m\u001b[0m \u001b[1m19s\u001b[0m 236ms/step - accuracy: 0.7809 - loss: 0.5561 - precision: 0.8160 - recall: 0.7299 - val_accuracy: 0.7515 - val_loss: 0.5457 - val_precision: 0.7625 - val_recall: 0.7394\n",
      "Epoch 7/30\n",
      "\u001b[1m78/78\u001b[0m \u001b[32m━━━━━━━━━━━━━━━━━━━━\u001b[0m\u001b[37m\u001b[0m \u001b[1m21s\u001b[0m 266ms/step - accuracy: 0.7918 - loss: 0.5049 - precision: 0.8152 - recall: 0.7624 - val_accuracy: 0.7677 - val_loss: 0.5317 - val_precision: 0.7780 - val_recall: 0.7576\n",
      "Epoch 8/30\n",
      "\u001b[1m78/78\u001b[0m \u001b[32m━━━━━━━━━━━━━━━━━━━━\u001b[0m\u001b[37m\u001b[0m \u001b[1m19s\u001b[0m 236ms/step - accuracy: 0.8230 - loss: 0.4480 - precision: 0.8404 - recall: 0.8025 - val_accuracy: 0.7192 - val_loss: 0.6717 - val_precision: 0.7181 - val_recall: 0.7152\n",
      "Epoch 9/30\n",
      "\u001b[1m78/78\u001b[0m \u001b[32m━━━━━━━━━━━━━━━━━━━━\u001b[0m\u001b[37m\u001b[0m \u001b[1m21s\u001b[0m 260ms/step - accuracy: 0.8351 - loss: 0.4090 - precision: 0.8484 - recall: 0.8200 - val_accuracy: 0.7939 - val_loss: 0.5168 - val_precision: 0.8021 - val_recall: 0.7859\n",
      "Epoch 10/30\n",
      "\u001b[1m78/78\u001b[0m \u001b[32m━━━━━━━━━━━━━━━━━━━━\u001b[0m\u001b[37m\u001b[0m \u001b[1m19s\u001b[0m 238ms/step - accuracy: 0.8451 - loss: 0.3822 - precision: 0.8606 - recall: 0.8290 - val_accuracy: 0.8101 - val_loss: 0.5050 - val_precision: 0.8225 - val_recall: 0.7960\n",
      "Epoch 11/30\n",
      "\u001b[1m78/78\u001b[0m \u001b[32m━━━━━━━━━━━━━━━━━━━━\u001b[0m\u001b[37m\u001b[0m \u001b[1m21s\u001b[0m 260ms/step - accuracy: 0.8661 - loss: 0.3413 - precision: 0.8767 - recall: 0.8572 - val_accuracy: 0.8343 - val_loss: 0.4971 - val_precision: 0.8416 - val_recall: 0.8263\n",
      "Epoch 12/30\n",
      "\u001b[1m78/78\u001b[0m \u001b[32m━━━━━━━━━━━━━━━━━━━━\u001b[0m\u001b[37m\u001b[0m \u001b[1m19s\u001b[0m 236ms/step - accuracy: 0.8718 - loss: 0.3174 - precision: 0.8807 - recall: 0.8629 - val_accuracy: 0.7899 - val_loss: 0.5426 - val_precision: 0.8145 - val_recall: 0.7717\n",
      "Epoch 13/30\n",
      "\u001b[1m78/78\u001b[0m \u001b[32m━━━━━━━━━━━━━━━━━━━━\u001b[0m\u001b[37m\u001b[0m \u001b[1m19s\u001b[0m 244ms/step - accuracy: 0.8769 - loss: 0.3326 - precision: 0.8939 - recall: 0.8615 - val_accuracy: 0.8263 - val_loss: 0.5483 - val_precision: 0.8327 - val_recall: 0.8242\n",
      "Epoch 14/30\n",
      "\u001b[1m78/78\u001b[0m \u001b[32m━━━━━━━━━━━━━━━━━━━━\u001b[0m\u001b[37m\u001b[0m \u001b[1m20s\u001b[0m 253ms/step - accuracy: 0.8806 - loss: 0.2987 - precision: 0.8874 - recall: 0.8720 - val_accuracy: 0.8384 - val_loss: 0.4758 - val_precision: 0.8452 - val_recall: 0.8384\n",
      "Epoch 15/30\n",
      "\u001b[1m78/78\u001b[0m \u001b[32m━━━━━━━━━━━━━━━━━━━━\u001b[0m\u001b[37m\u001b[0m \u001b[1m19s\u001b[0m 243ms/step - accuracy: 0.8955 - loss: 0.2822 - precision: 0.9015 - recall: 0.8847 - val_accuracy: 0.8384 - val_loss: 0.4870 - val_precision: 0.8408 - val_recall: 0.8323\n",
      "Epoch 16/30\n",
      "\u001b[1m78/78\u001b[0m \u001b[32m━━━━━━━━━━━━━━━━━━━━\u001b[0m\u001b[37m\u001b[0m \u001b[1m22s\u001b[0m 275ms/step - accuracy: 0.8978 - loss: 0.2608 - precision: 0.9062 - recall: 0.8925 - val_accuracy: 0.8485 - val_loss: 0.4923 - val_precision: 0.8499 - val_recall: 0.8465\n",
      "Epoch 17/30\n",
      "\u001b[1m78/78\u001b[0m \u001b[32m━━━━━━━━━━━━━━━━━━━━\u001b[0m\u001b[37m\u001b[0m \u001b[1m19s\u001b[0m 237ms/step - accuracy: 0.9288 - loss: 0.2102 - precision: 0.9340 - recall: 0.9235 - val_accuracy: 0.8808 - val_loss: 0.4684 - val_precision: 0.8857 - val_recall: 0.8768\n",
      "Epoch 18/30\n",
      "\u001b[1m78/78\u001b[0m \u001b[32m━━━━━━━━━━━━━━━━━━━━\u001b[0m\u001b[37m\u001b[0m \u001b[1m21s\u001b[0m 263ms/step - accuracy: 0.9217 - loss: 0.2112 - precision: 0.9250 - recall: 0.9118 - val_accuracy: 0.8687 - val_loss: 0.5134 - val_precision: 0.8704 - val_recall: 0.8687\n",
      "Epoch 19/30\n",
      "\u001b[1m78/78\u001b[0m \u001b[32m━━━━━━━━━━━━━━━━━━━━\u001b[0m\u001b[37m\u001b[0m \u001b[1m19s\u001b[0m 237ms/step - accuracy: 0.9222 - loss: 0.2127 - precision: 0.9271 - recall: 0.9181 - val_accuracy: 0.8747 - val_loss: 0.4855 - val_precision: 0.8778 - val_recall: 0.8707\n",
      "Epoch 20/30\n",
      "\u001b[1m78/78\u001b[0m \u001b[32m━━━━━━━━━━━━━━━━━━━━\u001b[0m\u001b[37m\u001b[0m \u001b[1m21s\u001b[0m 261ms/step - accuracy: 0.9365 - loss: 0.1746 - precision: 0.9394 - recall: 0.9316 - val_accuracy: 0.8727 - val_loss: 0.4606 - val_precision: 0.8789 - val_recall: 0.8646\n",
      "Epoch 21/30\n",
      "\u001b[1m78/78\u001b[0m \u001b[32m━━━━━━━━━━━━━━━━━━━━\u001b[0m\u001b[37m\u001b[0m \u001b[1m19s\u001b[0m 236ms/step - accuracy: 0.9386 - loss: 0.1763 - precision: 0.9400 - recall: 0.9297 - val_accuracy: 0.8566 - val_loss: 0.4999 - val_precision: 0.8577 - val_recall: 0.8525\n",
      "Epoch 22/30\n",
      "\u001b[1m78/78\u001b[0m \u001b[32m━━━━━━━━━━━━━━━━━━━━\u001b[0m\u001b[37m\u001b[0m \u001b[1m21s\u001b[0m 263ms/step - accuracy: 0.9494 - loss: 0.1462 - precision: 0.9561 - recall: 0.9463 - val_accuracy: 0.8788 - val_loss: 0.4632 - val_precision: 0.8819 - val_recall: 0.8747\n",
      "Epoch 23/30\n",
      "\u001b[1m78/78\u001b[0m \u001b[32m━━━━━━━━━━━━━━━━━━━━\u001b[0m\u001b[37m\u001b[0m \u001b[1m19s\u001b[0m 237ms/step - accuracy: 0.9571 - loss: 0.1299 - precision: 0.9606 - recall: 0.9558 - val_accuracy: 0.8747 - val_loss: 0.5657 - val_precision: 0.8778 - val_recall: 0.8707\n",
      "Epoch 24/30\n",
      "\u001b[1m78/78\u001b[0m \u001b[32m━━━━━━━━━━━━━━━━━━━━\u001b[0m\u001b[37m\u001b[0m \u001b[1m21s\u001b[0m 262ms/step - accuracy: 0.9465 - loss: 0.1412 - precision: 0.9497 - recall: 0.9415 - val_accuracy: 0.8727 - val_loss: 0.5298 - val_precision: 0.8834 - val_recall: 0.8727\n",
      "Epoch 25/30\n",
      "\u001b[1m78/78\u001b[0m \u001b[32m━━━━━━━━━━━━━━━━━━━━\u001b[0m\u001b[37m\u001b[0m \u001b[1m19s\u001b[0m 239ms/step - accuracy: 0.9561 - loss: 0.1275 - precision: 0.9568 - recall: 0.9531 - val_accuracy: 0.8465 - val_loss: 0.5749 - val_precision: 0.8516 - val_recall: 0.8465\n",
      "Epoch 26/30\n",
      "\u001b[1m78/78\u001b[0m \u001b[32m━━━━━━━━━━━━━━━━━━━━\u001b[0m\u001b[37m\u001b[0m \u001b[1m21s\u001b[0m 261ms/step - accuracy: 0.9522 - loss: 0.1145 - precision: 0.9544 - recall: 0.9492 - val_accuracy: 0.8909 - val_loss: 0.6376 - val_precision: 0.8945 - val_recall: 0.8909\n",
      "Epoch 27/30\n",
      "\u001b[1m78/78\u001b[0m \u001b[32m━━━━━━━━━━━━━━━━━━━━\u001b[0m\u001b[37m\u001b[0m \u001b[1m19s\u001b[0m 238ms/step - accuracy: 0.9560 - loss: 0.1398 - precision: 0.9598 - recall: 0.9540 - val_accuracy: 0.8545 - val_loss: 0.6663 - val_precision: 0.8563 - val_recall: 0.8545\n",
      "Epoch 28/30\n",
      "\u001b[1m78/78\u001b[0m \u001b[32m━━━━━━━━━━━━━━━━━━━━\u001b[0m\u001b[37m\u001b[0m \u001b[1m20s\u001b[0m 259ms/step - accuracy: 0.9528 - loss: 0.1224 - precision: 0.9540 - recall: 0.9516 - val_accuracy: 0.8909 - val_loss: 0.5320 - val_precision: 0.8905 - val_recall: 0.8869\n",
      "Epoch 29/30\n",
      "\u001b[1m78/78\u001b[0m \u001b[32m━━━━━━━━━━━━━━━━━━━━\u001b[0m\u001b[37m\u001b[0m \u001b[1m19s\u001b[0m 238ms/step - accuracy: 0.9680 - loss: 0.1036 - precision: 0.9711 - recall: 0.9667 - val_accuracy: 0.8869 - val_loss: 0.6381 - val_precision: 0.8902 - val_recall: 0.8848\n",
      "Epoch 30/30\n",
      "\u001b[1m78/78\u001b[0m \u001b[32m━━━━━━━━━━━━━━━━━━━━\u001b[0m\u001b[37m\u001b[0m \u001b[1m19s\u001b[0m 242ms/step - accuracy: 0.9709 - loss: 0.0900 - precision: 0.9715 - recall: 0.9695 - val_accuracy: 0.8667 - val_loss: 0.7160 - val_precision: 0.8664 - val_recall: 0.8646\n",
      "Predicting on validation set...\n",
      "\u001b[1m16/16\u001b[0m \u001b[32m━━━━━━━━━━━━━━━━━━━━\u001b[0m\u001b[37m\u001b[0m \u001b[1m3s\u001b[0m 141ms/step\n",
      "Sending metrics to clearML...\n",
      "done\n",
      "ClearML Task: created new task id=08bb10ce057a4a8e9580b1a9664818da\n",
      "ClearML results page: https://app.clear.ml/projects/5a674be4cf0f473c808dd42f7b83358f/experiments/08bb10ce057a4a8e9580b1a9664818da/output/log\n",
      "Training model...\n",
      "Epoch 1/30\n",
      "\u001b[1m117/117\u001b[0m \u001b[32m━━━━━━━━━━━━━━━━━━━━\u001b[0m\u001b[37m\u001b[0m \u001b[1m34s\u001b[0m 271ms/step - accuracy: 0.3274 - loss: 1.8352 - precision: 0.3063 - recall: 0.0550 - val_accuracy: 0.3374 - val_loss: 1.0985 - val_precision: 0.0000e+00 - val_recall: 0.0000e+00\n",
      "Epoch 2/30\n",
      "\u001b[1m117/117\u001b[0m \u001b[32m━━━━━━━━━━━━━━━━━━━━\u001b[0m\u001b[37m\u001b[0m \u001b[1m30s\u001b[0m 250ms/step - accuracy: 0.3903 - loss: 1.0869 - precision: 0.5657 - recall: 0.0190 - val_accuracy: 0.3293 - val_loss: 1.0980 - val_precision: 0.0000e+00 - val_recall: 0.0000e+00\n",
      "Epoch 3/30\n",
      "\u001b[1m117/117\u001b[0m \u001b[32m━━━━━━━━━━━━━━━━━━━━\u001b[0m\u001b[37m\u001b[0m \u001b[1m28s\u001b[0m 234ms/step - accuracy: 0.4383 - loss: 1.0685 - precision: 0.5579 - recall: 0.0479 - val_accuracy: 0.5030 - val_loss: 1.0535 - val_precision: 1.0000 - val_recall: 0.0141\n",
      "Epoch 4/30\n",
      "\u001b[1m117/117\u001b[0m \u001b[32m━━━━━━━━━━━━━━━━━━━━\u001b[0m\u001b[37m\u001b[0m \u001b[1m29s\u001b[0m 244ms/step - accuracy: 0.5623 - loss: 0.9611 - precision: 0.6681 - recall: 0.2413 - val_accuracy: 0.6808 - val_loss: 0.7365 - val_precision: 0.7765 - val_recall: 0.5616\n",
      "Epoch 5/30\n",
      "\u001b[1m117/117\u001b[0m \u001b[32m━━━━━━━━━━━━━━━━━━━━\u001b[0m\u001b[37m\u001b[0m \u001b[1m29s\u001b[0m 248ms/step - accuracy: 0.6182 - loss: 0.8590 - precision: 0.7317 - recall: 0.3820 - val_accuracy: 0.6667 - val_loss: 0.7067 - val_precision: 0.7358 - val_recall: 0.6020\n",
      "Epoch 6/30\n",
      "\u001b[1m117/117\u001b[0m \u001b[32m━━━━━━━━━━━━━━━━━━━━\u001b[0m\u001b[37m\u001b[0m \u001b[1m28s\u001b[0m 237ms/step - accuracy: 0.6691 - loss: 0.7342 - precision: 0.7196 - recall: 0.5789 - val_accuracy: 0.7394 - val_loss: 0.6514 - val_precision: 0.7654 - val_recall: 0.6788\n",
      "Epoch 7/30\n",
      "\u001b[1m117/117\u001b[0m \u001b[32m━━━━━━━━━━━━━━━━━━━━\u001b[0m\u001b[37m\u001b[0m \u001b[1m29s\u001b[0m 245ms/step - accuracy: 0.7297 - loss: 0.6204 - precision: 0.7763 - recall: 0.6714 - val_accuracy: 0.7576 - val_loss: 0.6030 - val_precision: 0.7973 - val_recall: 0.7152\n",
      "Epoch 8/30\n",
      "\u001b[1m117/117\u001b[0m \u001b[32m━━━━━━━━━━━━━━━━━━━━\u001b[0m\u001b[37m\u001b[0m \u001b[1m29s\u001b[0m 249ms/step - accuracy: 0.7701 - loss: 0.5577 - precision: 0.8064 - recall: 0.7270 - val_accuracy: 0.7535 - val_loss: 0.5873 - val_precision: 0.7819 - val_recall: 0.7313\n",
      "Epoch 9/30\n",
      "\u001b[1m117/117\u001b[0m \u001b[32m━━━━━━━━━━━━━━━━━━━━\u001b[0m\u001b[37m\u001b[0m \u001b[1m28s\u001b[0m 241ms/step - accuracy: 0.8203 - loss: 0.4437 - precision: 0.8489 - recall: 0.7912 - val_accuracy: 0.7616 - val_loss: 0.6676 - val_precision: 0.7637 - val_recall: 0.7576\n",
      "Epoch 10/30\n",
      "\u001b[1m117/117\u001b[0m \u001b[32m━━━━━━━━━━━━━━━━━━━━\u001b[0m\u001b[37m\u001b[0m \u001b[1m28s\u001b[0m 233ms/step - accuracy: 0.8185 - loss: 0.4478 - precision: 0.8353 - recall: 0.7916 - val_accuracy: 0.7495 - val_loss: 0.6512 - val_precision: 0.7673 - val_recall: 0.7394\n",
      "Epoch 11/30\n",
      "\u001b[1m117/117\u001b[0m \u001b[32m━━━━━━━━━━━━━━━━━━━━\u001b[0m\u001b[37m\u001b[0m \u001b[1m30s\u001b[0m 250ms/step - accuracy: 0.8513 - loss: 0.3616 - precision: 0.8671 - recall: 0.8371 - val_accuracy: 0.8061 - val_loss: 0.6652 - val_precision: 0.8131 - val_recall: 0.8000\n",
      "Epoch 12/30\n",
      "\u001b[1m117/117\u001b[0m \u001b[32m━━━━━━━━━━━━━━━━━━━━\u001b[0m\u001b[37m\u001b[0m \u001b[1m31s\u001b[0m 260ms/step - accuracy: 0.8407 - loss: 0.4102 - precision: 0.8617 - recall: 0.8248 - val_accuracy: 0.8303 - val_loss: 0.5814 - val_precision: 0.8361 - val_recall: 0.8242\n",
      "Epoch 13/30\n",
      "\u001b[1m117/117\u001b[0m \u001b[32m━━━━━━━━━━━━━━━━━━━━\u001b[0m\u001b[37m\u001b[0m \u001b[1m28s\u001b[0m 233ms/step - accuracy: 0.8862 - loss: 0.2757 - precision: 0.8977 - recall: 0.8746 - val_accuracy: 0.8364 - val_loss: 0.5654 - val_precision: 0.8391 - val_recall: 0.8323\n",
      "Epoch 14/30\n",
      "\u001b[1m117/117\u001b[0m \u001b[32m━━━━━━━━━━━━━━━━━━━━\u001b[0m\u001b[37m\u001b[0m \u001b[1m30s\u001b[0m 250ms/step - accuracy: 0.8993 - loss: 0.2513 - precision: 0.9067 - recall: 0.8911 - val_accuracy: 0.8606 - val_loss: 0.5403 - val_precision: 0.8603 - val_recall: 0.8586\n",
      "Epoch 15/30\n",
      "\u001b[1m117/117\u001b[0m \u001b[32m━━━━━━━━━━━━━━━━━━━━\u001b[0m\u001b[37m\u001b[0m \u001b[1m29s\u001b[0m 249ms/step - accuracy: 0.9068 - loss: 0.2510 - precision: 0.9133 - recall: 0.8994 - val_accuracy: 0.8747 - val_loss: 0.5281 - val_precision: 0.8789 - val_recall: 0.8646\n",
      "Epoch 16/30\n",
      "\u001b[1m117/117\u001b[0m \u001b[32m━━━━━━━━━━━━━━━━━━━━\u001b[0m\u001b[37m\u001b[0m \u001b[1m27s\u001b[0m 232ms/step - accuracy: 0.9294 - loss: 0.1955 - precision: 0.9358 - recall: 0.9217 - val_accuracy: 0.8626 - val_loss: 0.5827 - val_precision: 0.8659 - val_recall: 0.8606\n",
      "Epoch 17/30\n",
      "\u001b[1m117/117\u001b[0m \u001b[32m━━━━━━━━━━━━━━━━━━━━\u001b[0m\u001b[37m\u001b[0m \u001b[1m29s\u001b[0m 248ms/step - accuracy: 0.9343 - loss: 0.1740 - precision: 0.9383 - recall: 0.9291 - val_accuracy: 0.8646 - val_loss: 0.5931 - val_precision: 0.8689 - val_recall: 0.8566\n",
      "Epoch 18/30\n",
      "\u001b[1m117/117\u001b[0m \u001b[32m━━━━━━━━━━━━━━━━━━━━\u001b[0m\u001b[37m\u001b[0m \u001b[1m29s\u001b[0m 250ms/step - accuracy: 0.9444 - loss: 0.1500 - precision: 0.9486 - recall: 0.9397 - val_accuracy: 0.8586 - val_loss: 0.5930 - val_precision: 0.8621 - val_recall: 0.8586\n",
      "Epoch 19/30\n",
      "\u001b[1m117/117\u001b[0m \u001b[32m━━━━━━━━━━━━━━━━━━━━\u001b[0m\u001b[37m\u001b[0m \u001b[1m27s\u001b[0m 232ms/step - accuracy: 0.9546 - loss: 0.1264 - precision: 0.9582 - recall: 0.9517 - val_accuracy: 0.8687 - val_loss: 0.5837 - val_precision: 0.8717 - val_recall: 0.8646\n",
      "Epoch 20/30\n",
      "\u001b[1m117/117\u001b[0m \u001b[32m━━━━━━━━━━━━━━━━━━━━\u001b[0m\u001b[37m\u001b[0m \u001b[1m29s\u001b[0m 248ms/step - accuracy: 0.9615 - loss: 0.1083 - precision: 0.9631 - recall: 0.9577 - val_accuracy: 0.8586 - val_loss: 0.6371 - val_precision: 0.8656 - val_recall: 0.8586\n",
      "Epoch 21/30\n",
      "\u001b[1m117/117\u001b[0m \u001b[32m━━━━━━━━━━━━━━━━━━━━\u001b[0m\u001b[37m\u001b[0m \u001b[1m30s\u001b[0m 252ms/step - accuracy: 0.9677 - loss: 0.0894 - precision: 0.9704 - recall: 0.9631 - val_accuracy: 0.8646 - val_loss: 0.7289 - val_precision: 0.8717 - val_recall: 0.8646\n",
      "Epoch 22/30\n",
      "\u001b[1m117/117\u001b[0m \u001b[32m━━━━━━━━━━━━━━━━━━━━\u001b[0m\u001b[37m\u001b[0m \u001b[1m28s\u001b[0m 237ms/step - accuracy: 0.9638 - loss: 0.1022 - precision: 0.9664 - recall: 0.9612 - val_accuracy: 0.8788 - val_loss: 0.7337 - val_precision: 0.8806 - val_recall: 0.8788\n",
      "Epoch 23/30\n",
      "\u001b[1m117/117\u001b[0m \u001b[32m━━━━━━━━━━━━━━━━━━━━\u001b[0m\u001b[37m\u001b[0m \u001b[1m29s\u001b[0m 246ms/step - accuracy: 0.9647 - loss: 0.0917 - precision: 0.9680 - recall: 0.9631 - val_accuracy: 0.8687 - val_loss: 0.6663 - val_precision: 0.8720 - val_recall: 0.8667\n",
      "Epoch 24/30\n",
      "\u001b[1m117/117\u001b[0m \u001b[32m━━━━━━━━━━━━━━━━━━━━\u001b[0m\u001b[37m\u001b[0m \u001b[1m31s\u001b[0m 262ms/step - accuracy: 0.9691 - loss: 0.0964 - precision: 0.9727 - recall: 0.9674 - val_accuracy: 0.8606 - val_loss: 0.7598 - val_precision: 0.8606 - val_recall: 0.8606\n",
      "Epoch 25/30\n",
      "\u001b[1m117/117\u001b[0m \u001b[32m━━━━━━━━━━━━━━━━━━━━\u001b[0m\u001b[37m\u001b[0m \u001b[1m30s\u001b[0m 252ms/step - accuracy: 0.9719 - loss: 0.0781 - precision: 0.9745 - recall: 0.9710 - val_accuracy: 0.8747 - val_loss: 0.7516 - val_precision: 0.8745 - val_recall: 0.8727\n",
      "Epoch 26/30\n",
      "\u001b[1m117/117\u001b[0m \u001b[32m━━━━━━━━━━━━━━━━━━━━\u001b[0m\u001b[37m\u001b[0m \u001b[1m28s\u001b[0m 233ms/step - accuracy: 0.9688 - loss: 0.0776 - precision: 0.9709 - recall: 0.9673 - val_accuracy: 0.8747 - val_loss: 0.7046 - val_precision: 0.8763 - val_recall: 0.8727\n",
      "Epoch 27/30\n",
      "\u001b[1m117/117\u001b[0m \u001b[32m━━━━━━━━━━━━━━━━━━━━\u001b[0m\u001b[37m\u001b[0m \u001b[1m30s\u001b[0m 258ms/step - accuracy: 0.9773 - loss: 0.0605 - precision: 0.9793 - recall: 0.9766 - val_accuracy: 0.8808 - val_loss: 0.7129 - val_precision: 0.8808 - val_recall: 0.8808\n",
      "Epoch 28/30\n",
      "\u001b[1m117/117\u001b[0m \u001b[32m━━━━━━━━━━━━━━━━━━━━\u001b[0m\u001b[37m\u001b[0m \u001b[1m30s\u001b[0m 256ms/step - accuracy: 0.9773 - loss: 0.0642 - precision: 0.9786 - recall: 0.9759 - val_accuracy: 0.8808 - val_loss: 0.6418 - val_precision: 0.8841 - val_recall: 0.8788\n",
      "Epoch 29/30\n",
      "\u001b[1m117/117\u001b[0m \u001b[32m━━━━━━━━━━━━━━━━━━━━\u001b[0m\u001b[37m\u001b[0m \u001b[1m27s\u001b[0m 232ms/step - accuracy: 0.9793 - loss: 0.0571 - precision: 0.9799 - recall: 0.9781 - val_accuracy: 0.8606 - val_loss: 0.8563 - val_precision: 0.8623 - val_recall: 0.8606\n",
      "Epoch 30/30\n",
      "\u001b[1m117/117\u001b[0m \u001b[32m━━━━━━━━━━━━━━━━━━━━\u001b[0m\u001b[37m\u001b[0m \u001b[1m29s\u001b[0m 250ms/step - accuracy: 0.9817 - loss: 0.0616 - precision: 0.9837 - recall: 0.9816 - val_accuracy: 0.8808 - val_loss: 0.7670 - val_precision: 0.8824 - val_recall: 0.8788\n",
      "Predicting on validation set...\n",
      "\u001b[1m16/16\u001b[0m \u001b[32m━━━━━━━━━━━━━━━━━━━━\u001b[0m\u001b[37m\u001b[0m \u001b[1m1s\u001b[0m 59ms/step\n",
      "Sending metrics to clearML...\n",
      "done\n"
     ]
    }
   ],
   "source": [
    "# rotate augmentation 20\n",
    "task_name = 'r20'\n",
    "sub_project_name = 'ROTATE'\n",
    "\n",
    "augmentation_metadata = {\n",
    "        'methods': {        \n",
    "            'rotate': {\n",
    "                'parameters': {\n",
    "                    'angle_limit': 20, # Maximum angle of rotation\n",
    "                    'p': 1.0  # Probability of applying the augmentation\n",
    "                },\n",
    "                'apply_to_percentage': 0.5  # 50% of the training images\n",
    "            }        \n",
    "        }\n",
    "    }\n",
    "\n",
    "for i in range(N):\n",
    "    RUN = i + 1\n",
    "    try:\n",
    "        print(f\"Starting RUN: {RUN}\")\n",
    "        main(RUN, augmentation_metadata, task_name, sub_project_name, epochs, train_size, w1, w2)\n",
    "    except Exception as e:\n",
    "        print(f\"Error in RUN: {RUN}\")\n",
    "        print(e)\n",
    "    finally:\n",
    "        clear_output(wait=True)  # Clear the output to avoid scrolling\n",
    "        gc.collect()  # Collect garbage to avoid memory leaks"
   ]
  },
  {
   "cell_type": "code",
   "execution_count": 15,
   "metadata": {},
   "outputs": [
    {
     "name": "stdout",
     "output_type": "stream",
     "text": [
      "Starting RUN: 5\n",
      "Seed:  1947401230\n"
     ]
    },
    {
     "name": "stderr",
     "output_type": "stream",
     "text": [
      "c:\\github\\Third-Year-Project\\Intruder-Aircraft-Detection\\main\\tl_clf.py:79: SettingWithCopyWarning:\n",
      "\n",
      "\n",
      "A value is trying to be set on a copy of a slice from a DataFrame.\n",
      "Try using .loc[row_indexer,col_indexer] = value instead\n",
      "\n",
      "See the caveats in the documentation: https://pandas.pydata.org/pandas-docs/stable/user_guide/indexing.html#returning-a-view-versus-a-copy\n",
      "\n",
      "c:\\github\\Third-Year-Project\\Intruder-Aircraft-Detection\\main\\tl_clf.py:80: SettingWithCopyWarning:\n",
      "\n",
      "\n",
      "A value is trying to be set on a copy of a slice from a DataFrame.\n",
      "Try using .loc[row_indexer,col_indexer] = value instead\n",
      "\n",
      "See the caveats in the documentation: https://pandas.pydata.org/pandas-docs/stable/user_guide/indexing.html#returning-a-view-versus-a-copy\n",
      "\n"
     ]
    },
    {
     "name": "stdout",
     "output_type": "stream",
     "text": [
      "Removing dataset if pre-existing\n",
      "Copying training files:\n"
     ]
    },
    {
     "name": "stderr",
     "output_type": "stream",
     "text": [
      "Copying files: 100%|██████████| 5000/5000 [00:04<00:00, 1184.40it/s]\n"
     ]
    },
    {
     "name": "stdout",
     "output_type": "stream",
     "text": [
      "Copying validation files:\n"
     ]
    },
    {
     "name": "stderr",
     "output_type": "stream",
     "text": [
      "Copying files: 100%|██████████| 1000/1000 [00:02<00:00, 454.52it/s]\n"
     ]
    },
    {
     "name": "stdout",
     "output_type": "stream",
     "text": [
      "Dataset 'weather_23_2500' created at C:\\github\\Third-Year-Project\\Intruder-Aircraft-Detection\\datasets\\Custom\\weather_23_2500\n",
      "Processing train labels in weather_23_2500:\n"
     ]
    },
    {
     "name": "stderr",
     "output_type": "stream",
     "text": [
      "Processing labels: 100%|██████████| 2500/2500 [00:08<00:00, 277.98it/s]\n"
     ]
    },
    {
     "name": "stdout",
     "output_type": "stream",
     "text": [
      "Processing valid labels in weather_23_2500:\n"
     ]
    },
    {
     "name": "stderr",
     "output_type": "stream",
     "text": [
      "Processing labels: 100%|██████████| 500/500 [00:01<00:00, 272.49it/s]\n"
     ]
    },
    {
     "name": "stdout",
     "output_type": "stream",
     "text": [
      "Label correction completed.\n"
     ]
    },
    {
     "name": "stderr",
     "output_type": "stream",
     "text": [
      "Removing existing directories/files: 100%|██████████| 3/3 [00:00<00:00, 5997.57it/s]\n",
      "Copying files: 100%|██████████| 2500/2500 [00:02<00:00, 1082.64it/s]\n",
      "Copying files: 100%|██████████| 2500/2500 [00:01<00:00, 1417.27it/s]\n",
      "Applying augmentations: 100%|██████████| 1250/1250 [00:12<00:00, 102.09it/s]\n"
     ]
    },
    {
     "name": "stdout",
     "output_type": "stream",
     "text": [
      "An error occurred: Expected x_min for bbox (-0.14135050000000005, 0.26239999999999997, 0.7313425, 0.844196, 2) to be in the range [0.0, 1.0], got -0.14135050000000005.\n",
      "An error occurred: Expected y_max for bbox (0.06709400000000001, 0.82754, 0.38573199999999996, 1.0399660000000002, 2) to be in the range [0.0, 1.0], got 1.0399660000000002.\n",
      "An error occurred: Expected x_min for bbox (-0.02981600000000001, 0.598216, 0.699454, 1.084396, 2) to be in the range [0.0, 1.0], got -0.02981600000000001.\n",
      "An error occurred: Expected y_max for bbox (0.34076549999999994, 0.686593, 0.8614025, 1.033685, 0) to be in the range [0.0, 1.0], got 1.033685.\n"
     ]
    },
    {
     "name": "stderr",
     "output_type": "stream",
     "text": [
      "Processing images:  13%|█▎        | 332/2500 [00:16<01:02, 34.45it/s]"
     ]
    },
    {
     "name": "stdout",
     "output_type": "stream",
     "text": [
      "An error occurred with C:/github/Third-Year-Project/Intruder-Aircraft-Detection/datasets/Custom/weather_23_2500\\images\\train\\26098.jpg: Expected x_min for bbox (-0.05254049999999999, 0.6148480000000001, 0.7579965, 1.1552060000000002, 1) to be in the range [0.0, 1.0], got -0.05254049999999999.\n"
     ]
    },
    {
     "name": "stderr",
     "output_type": "stream",
     "text": [
      "Processing images:  16%|█▌        | 392/2500 [00:17<01:01, 34.24it/s]"
     ]
    },
    {
     "name": "stdout",
     "output_type": "stream",
     "text": [
      "An error occurred with C:/github/Third-Year-Project/Intruder-Aircraft-Detection/datasets/Custom/weather_23_2500\\images\\train\\26227.jpg: Expected y_max for bbox (0.36195600000000006, 0.7324, 0.764684, 1.000886, 1) to be in the range [0.0, 1.0], got 1.000886.\n"
     ]
    },
    {
     "name": "stderr",
     "output_type": "stream",
     "text": [
      "Processing images:  20%|█▉        | 496/2500 [00:21<00:59, 33.44it/s]"
     ]
    },
    {
     "name": "stdout",
     "output_type": "stream",
     "text": [
      "An error occurred with C:/github/Third-Year-Project/Intruder-Aircraft-Detection/datasets/Custom/weather_23_2500\\images\\train\\26422.jpg: Expected x_max for bbox (0.3556645, 0.47547049999999996, 1.0335975, 0.9274255, 1) to be in the range [0.0, 1.0], got 1.0335975.\n"
     ]
    },
    {
     "name": "stderr",
     "output_type": "stream",
     "text": [
      "Processing images:  24%|██▍       | 601/2500 [00:24<00:53, 35.28it/s]"
     ]
    },
    {
     "name": "stdout",
     "output_type": "stream",
     "text": [
      "An error occurred with C:/github/Third-Year-Project/Intruder-Aircraft-Detection/datasets/Custom/weather_23_2500\\images\\train\\26657.jpg: Expected x_max for bbox (0.27437150000000005, 0.117452, 1.1447385, 0.697696, 1) to be in the range [0.0, 1.0], got 1.1447385.\n"
     ]
    },
    {
     "name": "stderr",
     "output_type": "stream",
     "text": [
      "Processing images:  44%|████▍     | 1110/2500 [00:40<00:42, 32.85it/s]"
     ]
    },
    {
     "name": "stdout",
     "output_type": "stream",
     "text": [
      "An error occurred with C:/github/Third-Year-Project/Intruder-Aircraft-Detection/datasets/Custom/weather_23_2500\\images\\train\\27726.jpg: Expected y_max for bbox (0.423424, 0.730641, 0.8816200000000001, 1.036105, 1) to be in the range [0.0, 1.0], got 1.036105.\n"
     ]
    },
    {
     "name": "stderr",
     "output_type": "stream",
     "text": [
      "Processing images:  66%|██████▌   | 1639/2500 [00:55<00:22, 37.79it/s]"
     ]
    },
    {
     "name": "stdout",
     "output_type": "stream",
     "text": [
      "An error occurred with C:/github/Third-Year-Project/Intruder-Aircraft-Detection/datasets/Custom/weather_23_2500\\images\\train\\3818.jpg: Expected y_max for bbox (0.578752, 0.762086, 0.935798, 1.000116, 0) to be in the range [0.0, 1.0], got 1.000116.\n",
      "An error occurred with C:/github/Third-Year-Project/Intruder-Aircraft-Detection/datasets/Custom/weather_23_2500\\images\\train\\3835.jpg: Expected y_max for bbox (0.34076549999999994, 0.686593, 0.8614025, 1.033685, 0) to be in the range [0.0, 1.0], got 1.033685.\n"
     ]
    },
    {
     "name": "stderr",
     "output_type": "stream",
     "text": [
      "Processing images:  76%|███████▌  | 1892/2500 [01:03<00:17, 34.59it/s]"
     ]
    },
    {
     "name": "stdout",
     "output_type": "stream",
     "text": [
      "An error occurred with C:/github/Third-Year-Project/Intruder-Aircraft-Detection/datasets/Custom/weather_23_2500\\images\\train\\50467.jpg: Expected y_max for bbox (0.06709400000000001, 0.82754, 0.38573199999999996, 1.0399660000000002, 2) to be in the range [0.0, 1.0], got 1.0399660000000002.\n"
     ]
    },
    {
     "name": "stderr",
     "output_type": "stream",
     "text": [
      "Processing images:  80%|████████  | 2001/2500 [01:06<00:13, 35.78it/s]"
     ]
    },
    {
     "name": "stdout",
     "output_type": "stream",
     "text": [
      "An error occurred with C:/github/Third-Year-Project/Intruder-Aircraft-Detection/datasets/Custom/weather_23_2500\\images\\train\\50719.jpg: Expected x_min for bbox (-0.11753550000000001, 0.31711149999999994, 0.8069695, 0.9334484999999999, 2) to be in the range [0.0, 1.0], got -0.11753550000000001.\n"
     ]
    },
    {
     "name": "stderr",
     "output_type": "stream",
     "text": [
      "Processing images:  82%|████████▏ | 2053/2500 [01:08<00:12, 34.52it/s]"
     ]
    },
    {
     "name": "stdout",
     "output_type": "stream",
     "text": [
      "An error occurred with C:/github/Third-Year-Project/Intruder-Aircraft-Detection/datasets/Custom/weather_23_2500\\images\\train\\50820.jpg: Expected y_min for bbox (0.05699850000000001, -0.0029215000000000213, 0.5023355, 0.2939695, 2) to be in the range [0.0, 1.0], got -0.0029215000000000213.\n"
     ]
    },
    {
     "name": "stderr",
     "output_type": "stream",
     "text": [
      "Processing images:  98%|█████████▊| 2462/2500 [01:20<00:01, 35.87it/s]"
     ]
    },
    {
     "name": "stdout",
     "output_type": "stream",
     "text": [
      "An error occurred with C:/github/Third-Year-Project/Intruder-Aircraft-Detection/datasets/Custom/weather_23_2500\\images\\train\\51806.jpg: Expected x_min for bbox (-0.14135050000000005, 0.26239999999999997, 0.7313425, 0.844196, 2) to be in the range [0.0, 1.0], got -0.14135050000000005.\n",
      "An error occurred with C:/github/Third-Year-Project/Intruder-Aircraft-Detection/datasets/Custom/weather_23_2500\\images\\train\\51808.jpg: Expected x_min for bbox (-0.02981600000000001, 0.598216, 0.699454, 1.084396, 2) to be in the range [0.0, 1.0], got -0.02981600000000001.\n"
     ]
    },
    {
     "name": "stderr",
     "output_type": "stream",
     "text": [
      "Processing images: 100%|██████████| 2500/2500 [01:21<00:00, 30.58it/s]\n",
      "Processing images:  13%|█▎        | 497/3746 [00:26<01:32, 35.03it/s]"
     ]
    },
    {
     "name": "stdout",
     "output_type": "stream",
     "text": [
      "An error occurred with C:/github/Third-Year-Project/Intruder-Aircraft-Detection/datasets/Custom/weather_23_2500\\images\\train-aug\\26098.jpg: Expected x_min for bbox (-0.05254049999999999, 0.6148480000000001, 0.7579965, 1.1552060000000002, 1) to be in the range [0.0, 1.0], got -0.05254049999999999.\n"
     ]
    },
    {
     "name": "stderr",
     "output_type": "stream",
     "text": [
      "Processing images:  16%|█▌        | 590/3746 [00:28<01:33, 33.74it/s]"
     ]
    },
    {
     "name": "stdout",
     "output_type": "stream",
     "text": [
      "An error occurred with C:/github/Third-Year-Project/Intruder-Aircraft-Detection/datasets/Custom/weather_23_2500\\images\\train-aug\\26227.jpg: Expected y_max for bbox (0.36195600000000006, 0.7324, 0.764684, 1.000886, 1) to be in the range [0.0, 1.0], got 1.000886.\n"
     ]
    },
    {
     "name": "stderr",
     "output_type": "stream",
     "text": [
      "Processing images:  20%|█▉        | 746/3746 [00:33<01:29, 33.62it/s]"
     ]
    },
    {
     "name": "stdout",
     "output_type": "stream",
     "text": [
      "An error occurred with C:/github/Third-Year-Project/Intruder-Aircraft-Detection/datasets/Custom/weather_23_2500\\images\\train-aug\\26422.jpg: Expected x_max for bbox (0.3556645, 0.47547049999999996, 1.0335975, 0.9274255, 1) to be in the range [0.0, 1.0], got 1.0335975.\n"
     ]
    },
    {
     "name": "stderr",
     "output_type": "stream",
     "text": [
      "Processing images:  24%|██▍       | 911/3746 [00:38<01:21, 34.97it/s]"
     ]
    },
    {
     "name": "stdout",
     "output_type": "stream",
     "text": [
      "An error occurred with C:/github/Third-Year-Project/Intruder-Aircraft-Detection/datasets/Custom/weather_23_2500\\images\\train-aug\\26657.jpg: Expected x_max for bbox (0.27437150000000005, 0.117452, 1.1447385, 0.697696, 1) to be in the range [0.0, 1.0], got 1.1447385.\n"
     ]
    },
    {
     "name": "stderr",
     "output_type": "stream",
     "text": [
      "Processing images:  45%|████▍     | 1671/3746 [01:02<01:02, 33.03it/s]"
     ]
    },
    {
     "name": "stdout",
     "output_type": "stream",
     "text": [
      "An error occurred with C:/github/Third-Year-Project/Intruder-Aircraft-Detection/datasets/Custom/weather_23_2500\\images\\train-aug\\27726.jpg: Expected y_max for bbox (0.423424, 0.730641, 0.8816200000000001, 1.036105, 1) to be in the range [0.0, 1.0], got 1.036105.\n"
     ]
    },
    {
     "name": "stderr",
     "output_type": "stream",
     "text": [
      "Processing images:  66%|██████▌   | 2457/3746 [01:25<00:34, 37.74it/s]"
     ]
    },
    {
     "name": "stdout",
     "output_type": "stream",
     "text": [
      "An error occurred with C:/github/Third-Year-Project/Intruder-Aircraft-Detection/datasets/Custom/weather_23_2500\\images\\train-aug\\3818.jpg: Expected y_max for bbox (0.578752, 0.762086, 0.935798, 1.000116, 0) to be in the range [0.0, 1.0], got 1.000116.\n"
     ]
    },
    {
     "name": "stderr",
     "output_type": "stream",
     "text": [
      "Processing images:  66%|██████▌   | 2466/3746 [01:25<00:33, 38.17it/s]"
     ]
    },
    {
     "name": "stdout",
     "output_type": "stream",
     "text": [
      "An error occurred with C:/github/Third-Year-Project/Intruder-Aircraft-Detection/datasets/Custom/weather_23_2500\\images\\train-aug\\3835.jpg: Expected y_max for bbox (0.34076549999999994, 0.686593, 0.8614025, 1.033685, 0) to be in the range [0.0, 1.0], got 1.033685.\n"
     ]
    },
    {
     "name": "stderr",
     "output_type": "stream",
     "text": [
      "Processing images:  76%|███████▌  | 2834/3746 [01:36<00:26, 34.53it/s]"
     ]
    },
    {
     "name": "stdout",
     "output_type": "stream",
     "text": [
      "An error occurred with C:/github/Third-Year-Project/Intruder-Aircraft-Detection/datasets/Custom/weather_23_2500\\images\\train-aug\\50467.jpg: Expected y_max for bbox (0.06709400000000001, 0.82754, 0.38573199999999996, 1.0399660000000002, 2) to be in the range [0.0, 1.0], got 1.0399660000000002.\n"
     ]
    },
    {
     "name": "stderr",
     "output_type": "stream",
     "text": [
      "Processing images:  80%|████████  | 3003/3746 [01:41<00:21, 34.66it/s]"
     ]
    },
    {
     "name": "stdout",
     "output_type": "stream",
     "text": [
      "An error occurred with C:/github/Third-Year-Project/Intruder-Aircraft-Detection/datasets/Custom/weather_23_2500\\images\\train-aug\\50719.jpg: Expected x_min for bbox (-0.11753550000000001, 0.31711149999999994, 0.8069695, 0.9334484999999999, 2) to be in the range [0.0, 1.0], got -0.11753550000000001.\n"
     ]
    },
    {
     "name": "stderr",
     "output_type": "stream",
     "text": [
      "Processing images:  82%|████████▏ | 3076/3746 [01:43<00:18, 35.96it/s]"
     ]
    },
    {
     "name": "stdout",
     "output_type": "stream",
     "text": [
      "An error occurred with C:/github/Third-Year-Project/Intruder-Aircraft-Detection/datasets/Custom/weather_23_2500\\images\\train-aug\\50820.jpg: Expected y_min for bbox (0.05699850000000001, -0.0029215000000000213, 0.5023355, 0.2939695, 2) to be in the range [0.0, 1.0], got -0.0029215000000000213.\n"
     ]
    },
    {
     "name": "stderr",
     "output_type": "stream",
     "text": [
      "Processing images:  98%|█████████▊| 3682/3746 [02:02<00:01, 36.08it/s]"
     ]
    },
    {
     "name": "stdout",
     "output_type": "stream",
     "text": [
      "An error occurred with C:/github/Third-Year-Project/Intruder-Aircraft-Detection/datasets/Custom/weather_23_2500\\images\\train-aug\\51808.jpg: Expected x_min for bbox (-0.02981600000000001, 0.598216, 0.699454, 1.084396, 2) to be in the range [0.0, 1.0], got -0.02981600000000001.\n",
      "An error occurred with C:/github/Third-Year-Project/Intruder-Aircraft-Detection/datasets/Custom/weather_23_2500\\images\\train-aug\\51806.jpg: Expected x_min for bbox (-0.14135050000000005, 0.26239999999999997, 0.7313425, 0.844196, 2) to be in the range [0.0, 1.0], got -0.14135050000000005.\n"
     ]
    },
    {
     "name": "stderr",
     "output_type": "stream",
     "text": [
      "Processing images: 100%|██████████| 3746/3746 [02:04<00:00, 30.16it/s]\n",
      "Processing images:   4%|▍         | 21/500 [00:01<00:26, 18.04it/s]"
     ]
    },
    {
     "name": "stdout",
     "output_type": "stream",
     "text": [
      "An error occurred with C:/github/Third-Year-Project/Intruder-Aircraft-Detection/datasets/Custom/weather_23_2500\\images\\valid\\26926.jpg: Expected y_min for bbox (0.38187599999999994, -0.12572450000000002, 1.180976, 0.4070085, 1) to be in the range [0.0, 1.0], got -0.12572450000000002.\n"
     ]
    },
    {
     "name": "stderr",
     "output_type": "stream",
     "text": [
      "Processing images:  17%|█▋        | 87/500 [00:04<00:12, 32.32it/s]"
     ]
    },
    {
     "name": "stdout",
     "output_type": "stream",
     "text": [
      "An error occurred with C:/github/Third-Year-Project/Intruder-Aircraft-Detection/datasets/Custom/weather_23_2500\\images\\valid\\26999.jpg: Expected x_min for bbox (-0.1462135, 0.3244429999999999, 0.7076735, 0.893701, 1) to be in the range [0.0, 1.0], got -0.1462135.\n"
     ]
    },
    {
     "name": "stderr",
     "output_type": "stream",
     "text": [
      "Processing images:  70%|███████   | 352/500 [00:11<00:04, 34.16it/s]"
     ]
    },
    {
     "name": "stdout",
     "output_type": "stream",
     "text": [
      "An error occurred with C:/github/Third-Year-Project/Intruder-Aircraft-Detection/datasets/Custom/weather_23_2500\\images\\valid\\50917.jpg: Expected y_min for bbox (0.3312055, -0.11337250000000001, 1.1166544999999999, 0.41026050000000003, 2) to be in the range [0.0, 1.0], got -0.11337250000000001.\n"
     ]
    },
    {
     "name": "stderr",
     "output_type": "stream",
     "text": [
      "Processing images:  77%|███████▋  | 385/500 [00:12<00:03, 36.10it/s]"
     ]
    },
    {
     "name": "stdout",
     "output_type": "stream",
     "text": [
      "An error occurred with C:/github/Third-Year-Project/Intruder-Aircraft-Detection/datasets/Custom/weather_23_2500\\images\\valid\\50955.jpg: Expected x_min for bbox (-0.021672000000000025, 0.2856885, 0.507494, 0.6384655, 2) to be in the range [0.0, 1.0], got -0.021672000000000025.\n"
     ]
    },
    {
     "name": "stderr",
     "output_type": "stream",
     "text": [
      "Processing images:  90%|█████████ | 450/500 [00:14<00:01, 35.97it/s]"
     ]
    },
    {
     "name": "stdout",
     "output_type": "stream",
     "text": [
      "An error occurred with C:/github/Third-Year-Project/Intruder-Aircraft-Detection/datasets/Custom/weather_23_2500\\images\\valid\\51937.jpg: Expected y_min for bbox (0.07818900000000001, -0.009202500000000002, 0.5387230000000001, 0.2978205, 2) to be in the range [0.0, 1.0], got -0.009202500000000002.\n"
     ]
    },
    {
     "name": "stderr",
     "output_type": "stream",
     "text": [
      "Processing images: 100%|██████████| 500/500 [00:16<00:00, 30.56it/s]\n",
      "Moving images in train: 100%|██████████| 2488/2488 [00:09<00:00, 269.45it/s]\n",
      "Moving images in train-aug: 100%|██████████| 3734/3734 [00:12<00:00, 298.18it/s]\n",
      "Moving images in valid: 100%|██████████| 495/495 [00:01<00:00, 274.21it/s]\n"
     ]
    },
    {
     "name": "stdout",
     "output_type": "stream",
     "text": [
      "Found 2488 files belonging to 3 classes.\n",
      "Found 3734 files belonging to 3 classes.\n",
      "Found 495 files belonging to 3 classes.\n",
      "ClearML Task: created new task id=3b20f56cd2db454a998ffd01cff5a178\n",
      "ClearML results page: https://app.clear.ml/projects/7250e546d5324b5c8e520b84207c06f5/experiments/3b20f56cd2db454a998ffd01cff5a178/output/log\n",
      "Training model...\n",
      "Epoch 1/30\n",
      "\u001b[1m78/78\u001b[0m \u001b[32m━━━━━━━━━━━━━━━━━━━━\u001b[0m\u001b[37m\u001b[0m \u001b[1m23s\u001b[0m 268ms/step - accuracy: 0.3272 - loss: 1.7973 - precision: 0.3546 - recall: 0.0845 - val_accuracy: 0.4141 - val_loss: 1.0983 - val_precision: 0.0000e+00 - val_recall: 0.0000e+00\n",
      "Epoch 2/30\n",
      "\u001b[1m78/78\u001b[0m \u001b[32m━━━━━━━━━━━━━━━━━━━━\u001b[0m\u001b[37m\u001b[0m \u001b[1m19s\u001b[0m 238ms/step - accuracy: 0.3635 - loss: 1.0986 - precision: 0.0443 - recall: 1.2143e-04 - val_accuracy: 0.3717 - val_loss: 1.0942 - val_precision: 0.0000e+00 - val_recall: 0.0000e+00\n",
      "Epoch 3/30\n",
      "\u001b[1m78/78\u001b[0m \u001b[32m━━━━━━━━━━━━━━━━━━━━\u001b[0m\u001b[37m\u001b[0m \u001b[1m21s\u001b[0m 263ms/step - accuracy: 0.4530 - loss: 1.0744 - precision: 0.2969 - recall: 0.0152 - val_accuracy: 0.5737 - val_loss: 0.9896 - val_precision: 0.8413 - val_recall: 0.1071\n",
      "Epoch 4/30\n",
      "\u001b[1m78/78\u001b[0m \u001b[32m━━━━━━━━━━━━━━━━━━━━\u001b[0m\u001b[37m\u001b[0m \u001b[1m19s\u001b[0m 240ms/step - accuracy: 0.6326 - loss: 0.8692 - precision: 0.7272 - recall: 0.3910 - val_accuracy: 0.7172 - val_loss: 0.7185 - val_precision: 0.7924 - val_recall: 0.5475\n",
      "Epoch 5/30\n",
      "\u001b[1m78/78\u001b[0m \u001b[32m━━━━━━━━━━━━━━━━━━━━\u001b[0m\u001b[37m\u001b[0m \u001b[1m21s\u001b[0m 264ms/step - accuracy: 0.7238 - loss: 0.6858 - precision: 0.7823 - recall: 0.6080 - val_accuracy: 0.7475 - val_loss: 0.6484 - val_precision: 0.7778 - val_recall: 0.6929\n",
      "Epoch 6/30\n",
      "\u001b[1m78/78\u001b[0m \u001b[32m━━━━━━━━━━━━━━━━━━━━\u001b[0m\u001b[37m\u001b[0m \u001b[1m19s\u001b[0m 238ms/step - accuracy: 0.7719 - loss: 0.5792 - precision: 0.7997 - recall: 0.7209 - val_accuracy: 0.6869 - val_loss: 0.7033 - val_precision: 0.7405 - val_recall: 0.6283\n",
      "Epoch 7/30\n",
      "\u001b[1m78/78\u001b[0m \u001b[32m━━━━━━━━━━━━━━━━━━━━\u001b[0m\u001b[37m\u001b[0m \u001b[1m21s\u001b[0m 263ms/step - accuracy: 0.7670 - loss: 0.5593 - precision: 0.8126 - recall: 0.7093 - val_accuracy: 0.7535 - val_loss: 0.6212 - val_precision: 0.7677 - val_recall: 0.7212\n",
      "Epoch 8/30\n",
      "\u001b[1m78/78\u001b[0m \u001b[32m━━━━━━━━━━━━━━━━━━━━\u001b[0m\u001b[37m\u001b[0m \u001b[1m19s\u001b[0m 238ms/step - accuracy: 0.8236 - loss: 0.4317 - precision: 0.8455 - recall: 0.8015 - val_accuracy: 0.7919 - val_loss: 0.5840 - val_precision: 0.7983 - val_recall: 0.7677\n",
      "Epoch 9/30\n",
      "\u001b[1m78/78\u001b[0m \u001b[32m━━━━━━━━━━━━━━━━━━━━\u001b[0m\u001b[37m\u001b[0m \u001b[1m21s\u001b[0m 265ms/step - accuracy: 0.8407 - loss: 0.3723 - precision: 0.8581 - recall: 0.8256 - val_accuracy: 0.8000 - val_loss: 0.5763 - val_precision: 0.8138 - val_recall: 0.7859\n",
      "Epoch 10/30\n",
      "\u001b[1m78/78\u001b[0m \u001b[32m━━━━━━━━━━━━━━━━━━━━\u001b[0m\u001b[37m\u001b[0m \u001b[1m19s\u001b[0m 238ms/step - accuracy: 0.8699 - loss: 0.3258 - precision: 0.8815 - recall: 0.8567 - val_accuracy: 0.7960 - val_loss: 0.6267 - val_precision: 0.8025 - val_recall: 0.7879\n",
      "Epoch 11/30\n",
      "\u001b[1m78/78\u001b[0m \u001b[32m━━━━━━━━━━━━━━━━━━━━\u001b[0m\u001b[37m\u001b[0m \u001b[1m21s\u001b[0m 269ms/step - accuracy: 0.8750 - loss: 0.3047 - precision: 0.8811 - recall: 0.8613 - val_accuracy: 0.8182 - val_loss: 0.5978 - val_precision: 0.8204 - val_recall: 0.8121\n",
      "Epoch 12/30\n",
      "\u001b[1m78/78\u001b[0m \u001b[32m━━━━━━━━━━━━━━━━━━━━\u001b[0m\u001b[37m\u001b[0m \u001b[1m19s\u001b[0m 241ms/step - accuracy: 0.9059 - loss: 0.2524 - precision: 0.9127 - recall: 0.9032 - val_accuracy: 0.8202 - val_loss: 0.5727 - val_precision: 0.8251 - val_recall: 0.8101\n",
      "Epoch 13/30\n",
      "\u001b[1m78/78\u001b[0m \u001b[32m━━━━━━━━━━━━━━━━━━━━\u001b[0m\u001b[37m\u001b[0m \u001b[1m21s\u001b[0m 267ms/step - accuracy: 0.9037 - loss: 0.2303 - precision: 0.9127 - recall: 0.9011 - val_accuracy: 0.8283 - val_loss: 0.5646 - val_precision: 0.8306 - val_recall: 0.8222\n",
      "Epoch 14/30\n",
      "\u001b[1m78/78\u001b[0m \u001b[32m━━━━━━━━━━━━━━━━━━━━\u001b[0m\u001b[37m\u001b[0m \u001b[1m19s\u001b[0m 239ms/step - accuracy: 0.9209 - loss: 0.2203 - precision: 0.9265 - recall: 0.9134 - val_accuracy: 0.8465 - val_loss: 0.5927 - val_precision: 0.8510 - val_recall: 0.8424\n",
      "Epoch 15/30\n",
      "\u001b[1m78/78\u001b[0m \u001b[32m━━━━━━━━━━━━━━━━━━━━\u001b[0m\u001b[37m\u001b[0m \u001b[1m19s\u001b[0m 243ms/step - accuracy: 0.9243 - loss: 0.2056 - precision: 0.9302 - recall: 0.9192 - val_accuracy: 0.8343 - val_loss: 0.6994 - val_precision: 0.8405 - val_recall: 0.8303\n",
      "Epoch 16/30\n",
      "\u001b[1m78/78\u001b[0m \u001b[32m━━━━━━━━━━━━━━━━━━━━\u001b[0m\u001b[37m\u001b[0m \u001b[1m22s\u001b[0m 275ms/step - accuracy: 0.9281 - loss: 0.1847 - precision: 0.9332 - recall: 0.9234 - val_accuracy: 0.8424 - val_loss: 0.5941 - val_precision: 0.8438 - val_recall: 0.8404\n",
      "Epoch 17/30\n",
      "\u001b[1m78/78\u001b[0m \u001b[32m━━━━━━━━━━━━━━━━━━━━\u001b[0m\u001b[37m\u001b[0m \u001b[1m19s\u001b[0m 244ms/step - accuracy: 0.9223 - loss: 0.2017 - precision: 0.9287 - recall: 0.9129 - val_accuracy: 0.8566 - val_loss: 0.6101 - val_precision: 0.8595 - val_recall: 0.8404\n",
      "Epoch 18/30\n",
      "\u001b[1m78/78\u001b[0m \u001b[32m━━━━━━━━━━━━━━━━━━━━\u001b[0m\u001b[37m\u001b[0m \u001b[1m20s\u001b[0m 258ms/step - accuracy: 0.9373 - loss: 0.1636 - precision: 0.9395 - recall: 0.9335 - val_accuracy: 0.8303 - val_loss: 0.8139 - val_precision: 0.8320 - val_recall: 0.8303\n",
      "Epoch 19/30\n",
      "\u001b[1m78/78\u001b[0m \u001b[32m━━━━━━━━━━━━━━━━━━━━\u001b[0m\u001b[37m\u001b[0m \u001b[1m19s\u001b[0m 238ms/step - accuracy: 0.9364 - loss: 0.1570 - precision: 0.9395 - recall: 0.9330 - val_accuracy: 0.8404 - val_loss: 0.6417 - val_precision: 0.8449 - val_recall: 0.8364\n",
      "Epoch 20/30\n",
      "\u001b[1m78/78\u001b[0m \u001b[32m━━━━━━━━━━━━━━━━━━━━\u001b[0m\u001b[37m\u001b[0m \u001b[1m21s\u001b[0m 263ms/step - accuracy: 0.9394 - loss: 0.1382 - precision: 0.9435 - recall: 0.9346 - val_accuracy: 0.8061 - val_loss: 0.6421 - val_precision: 0.8255 - val_recall: 0.7838\n",
      "Epoch 21/30\n",
      "\u001b[1m78/78\u001b[0m \u001b[32m━━━━━━━━━━━━━━━━━━━━\u001b[0m\u001b[37m\u001b[0m \u001b[1m19s\u001b[0m 238ms/step - accuracy: 0.9038 - loss: 0.2634 - precision: 0.9217 - recall: 0.8787 - val_accuracy: 0.8626 - val_loss: 0.6699 - val_precision: 0.8691 - val_recall: 0.8586\n",
      "Epoch 22/30\n",
      "\u001b[1m78/78\u001b[0m \u001b[32m━━━━━━━━━━━━━━━━━━━━\u001b[0m\u001b[37m\u001b[0m \u001b[1m21s\u001b[0m 265ms/step - accuracy: 0.9486 - loss: 0.1472 - precision: 0.9527 - recall: 0.9462 - val_accuracy: 0.8343 - val_loss: 0.7689 - val_precision: 0.8374 - val_recall: 0.8323\n",
      "Epoch 23/30\n",
      "\u001b[1m78/78\u001b[0m \u001b[32m━━━━━━━━━━━━━━━━━━━━\u001b[0m\u001b[37m\u001b[0m \u001b[1m19s\u001b[0m 239ms/step - accuracy: 0.9453 - loss: 0.1392 - precision: 0.9500 - recall: 0.9426 - val_accuracy: 0.8646 - val_loss: 0.7212 - val_precision: 0.8641 - val_recall: 0.8606\n",
      "Epoch 24/30\n",
      "\u001b[1m78/78\u001b[0m \u001b[32m━━━━━━━━━━━━━━━━━━━━\u001b[0m\u001b[37m\u001b[0m \u001b[1m21s\u001b[0m 264ms/step - accuracy: 0.9500 - loss: 0.1226 - precision: 0.9543 - recall: 0.9487 - val_accuracy: 0.8101 - val_loss: 0.8393 - val_precision: 0.8167 - val_recall: 0.8101\n",
      "Epoch 25/30\n",
      "\u001b[1m78/78\u001b[0m \u001b[32m━━━━━━━━━━━━━━━━━━━━\u001b[0m\u001b[37m\u001b[0m \u001b[1m19s\u001b[0m 238ms/step - accuracy: 0.9495 - loss: 0.1417 - precision: 0.9538 - recall: 0.9444 - val_accuracy: 0.8768 - val_loss: 0.8462 - val_precision: 0.8785 - val_recall: 0.8768\n",
      "Epoch 26/30\n",
      "\u001b[1m78/78\u001b[0m \u001b[32m━━━━━━━━━━━━━━━━━━━━\u001b[0m\u001b[37m\u001b[0m \u001b[1m21s\u001b[0m 268ms/step - accuracy: 0.9558 - loss: 0.1245 - precision: 0.9592 - recall: 0.9533 - val_accuracy: 0.8525 - val_loss: 0.7563 - val_precision: 0.8557 - val_recall: 0.8505\n",
      "Epoch 27/30\n",
      "\u001b[1m78/78\u001b[0m \u001b[32m━━━━━━━━━━━━━━━━━━━━\u001b[0m\u001b[37m\u001b[0m \u001b[1m19s\u001b[0m 239ms/step - accuracy: 0.9513 - loss: 0.1199 - precision: 0.9547 - recall: 0.9476 - val_accuracy: 0.8646 - val_loss: 0.7714 - val_precision: 0.8644 - val_recall: 0.8626\n",
      "Epoch 28/30\n",
      "\u001b[1m78/78\u001b[0m \u001b[32m━━━━━━━━━━━━━━━━━━━━\u001b[0m\u001b[37m\u001b[0m \u001b[1m21s\u001b[0m 266ms/step - accuracy: 0.9665 - loss: 0.1039 - precision: 0.9702 - recall: 0.9644 - val_accuracy: 0.8646 - val_loss: 0.7819 - val_precision: 0.8661 - val_recall: 0.8626\n",
      "Epoch 29/30\n",
      "\u001b[1m78/78\u001b[0m \u001b[32m━━━━━━━━━━━━━━━━━━━━\u001b[0m\u001b[37m\u001b[0m \u001b[1m19s\u001b[0m 239ms/step - accuracy: 0.9631 - loss: 0.0924 - precision: 0.9642 - recall: 0.9610 - val_accuracy: 0.8646 - val_loss: 0.8509 - val_precision: 0.8664 - val_recall: 0.8646\n",
      "Epoch 30/30\n",
      "\u001b[1m78/78\u001b[0m \u001b[32m━━━━━━━━━━━━━━━━━━━━\u001b[0m\u001b[37m\u001b[0m \u001b[1m21s\u001b[0m 265ms/step - accuracy: 0.9582 - loss: 0.1163 - precision: 0.9607 - recall: 0.9571 - val_accuracy: 0.8687 - val_loss: 0.8186 - val_precision: 0.8720 - val_recall: 0.8667\n",
      "Predicting on validation set...\n",
      "\u001b[1m16/16\u001b[0m \u001b[32m━━━━━━━━━━━━━━━━━━━━\u001b[0m\u001b[37m\u001b[0m \u001b[1m1s\u001b[0m 58ms/step\n",
      "Sending metrics to clearML...\n",
      "done\n",
      "ClearML Task: created new task id=d76b69625d054fd881cc1d3df483ae4c\n",
      "ClearML results page: https://app.clear.ml/projects/7250e546d5324b5c8e520b84207c06f5/experiments/d76b69625d054fd881cc1d3df483ae4c/output/log\n",
      "Training model...\n",
      "Epoch 1/30\n",
      "\u001b[1m117/117\u001b[0m \u001b[32m━━━━━━━━━━━━━━━━━━━━\u001b[0m\u001b[37m\u001b[0m \u001b[1m34s\u001b[0m 270ms/step - accuracy: 0.3530 - loss: 1.4642 - precision: 0.3412 - recall: 0.0612 - val_accuracy: 0.4768 - val_loss: 1.0835 - val_precision: 0.0000e+00 - val_recall: 0.0000e+00\n",
      "Epoch 2/30\n",
      "\u001b[1m117/117\u001b[0m \u001b[32m━━━━━━━━━━━━━━━━━━━━\u001b[0m\u001b[37m\u001b[0m \u001b[1m30s\u001b[0m 251ms/step - accuracy: 0.4648 - loss: 1.0613 - precision: 0.3830 - recall: 0.0503 - val_accuracy: 0.7313 - val_loss: 0.7563 - val_precision: 0.8006 - val_recall: 0.5758\n",
      "Epoch 3/30\n",
      "\u001b[1m117/117\u001b[0m \u001b[32m━━━━━━━━━━━━━━━━━━━━\u001b[0m\u001b[37m\u001b[0m \u001b[1m28s\u001b[0m 237ms/step - accuracy: 0.6943 - loss: 0.7548 - precision: 0.7707 - recall: 0.5323 - val_accuracy: 0.7273 - val_loss: 0.7018 - val_precision: 0.7658 - val_recall: 0.6606\n",
      "Epoch 4/30\n",
      "\u001b[1m117/117\u001b[0m \u001b[32m━━━━━━━━━━━━━━━━━━━━\u001b[0m\u001b[37m\u001b[0m \u001b[1m29s\u001b[0m 247ms/step - accuracy: 0.7590 - loss: 0.5923 - precision: 0.7911 - recall: 0.7011 - val_accuracy: 0.7596 - val_loss: 0.6393 - val_precision: 0.7812 - val_recall: 0.7212\n",
      "Epoch 5/30\n",
      "\u001b[1m117/117\u001b[0m \u001b[32m━━━━━━━━━━━━━━━━━━━━\u001b[0m\u001b[37m\u001b[0m \u001b[1m30s\u001b[0m 252ms/step - accuracy: 0.7999 - loss: 0.5035 - precision: 0.8235 - recall: 0.7647 - val_accuracy: 0.8061 - val_loss: 0.5867 - val_precision: 0.8180 - val_recall: 0.7899\n",
      "Epoch 6/30\n",
      "\u001b[1m117/117\u001b[0m \u001b[32m━━━━━━━━━━━━━━━━━━━━\u001b[0m\u001b[37m\u001b[0m \u001b[1m29s\u001b[0m 244ms/step - accuracy: 0.8210 - loss: 0.4074 - precision: 0.8354 - recall: 0.8013 - val_accuracy: 0.8061 - val_loss: 0.5879 - val_precision: 0.8094 - val_recall: 0.7980\n",
      "Epoch 7/30\n",
      "\u001b[1m117/117\u001b[0m \u001b[32m━━━━━━━━━━━━━━━━━━━━\u001b[0m\u001b[37m\u001b[0m \u001b[1m28s\u001b[0m 236ms/step - accuracy: 0.8662 - loss: 0.3567 - precision: 0.8757 - recall: 0.8446 - val_accuracy: 0.7919 - val_loss: 0.7291 - val_precision: 0.7963 - val_recall: 0.7899\n",
      "Epoch 8/30\n",
      "\u001b[1m117/117\u001b[0m \u001b[32m━━━━━━━━━━━━━━━━━━━━\u001b[0m\u001b[37m\u001b[0m \u001b[1m30s\u001b[0m 251ms/step - accuracy: 0.8797 - loss: 0.3135 - precision: 0.8974 - recall: 0.8673 - val_accuracy: 0.8020 - val_loss: 0.5818 - val_precision: 0.8054 - val_recall: 0.7778\n",
      "Epoch 9/30\n",
      "\u001b[1m117/117\u001b[0m \u001b[32m━━━━━━━━━━━━━━━━━━━━\u001b[0m\u001b[37m\u001b[0m \u001b[1m30s\u001b[0m 252ms/step - accuracy: 0.8884 - loss: 0.2887 - precision: 0.8954 - recall: 0.8679 - val_accuracy: 0.8364 - val_loss: 0.6266 - val_precision: 0.8408 - val_recall: 0.8323\n",
      "Epoch 10/30\n",
      "\u001b[1m117/117\u001b[0m \u001b[32m━━━━━━━━━━━━━━━━━━━━\u001b[0m\u001b[37m\u001b[0m \u001b[1m28s\u001b[0m 234ms/step - accuracy: 0.9045 - loss: 0.2524 - precision: 0.9110 - recall: 0.8925 - val_accuracy: 0.8444 - val_loss: 0.5816 - val_precision: 0.8452 - val_recall: 0.8384\n",
      "Epoch 11/30\n",
      "\u001b[1m117/117\u001b[0m \u001b[32m━━━━━━━━━━━━━━━━━━━━\u001b[0m\u001b[37m\u001b[0m \u001b[1m30s\u001b[0m 252ms/step - accuracy: 0.9203 - loss: 0.2111 - precision: 0.9243 - recall: 0.9129 - val_accuracy: 0.8263 - val_loss: 0.6793 - val_precision: 0.8310 - val_recall: 0.8242\n",
      "Epoch 12/30\n",
      "\u001b[1m117/117\u001b[0m \u001b[32m━━━━━━━━━━━━━━━━━━━━\u001b[0m\u001b[37m\u001b[0m \u001b[1m31s\u001b[0m 266ms/step - accuracy: 0.9266 - loss: 0.1903 - precision: 0.9312 - recall: 0.9236 - val_accuracy: 0.8444 - val_loss: 0.6111 - val_precision: 0.8458 - val_recall: 0.8424\n",
      "Epoch 13/30\n",
      "\u001b[1m117/117\u001b[0m \u001b[32m━━━━━━━━━━━━━━━━━━━━\u001b[0m\u001b[37m\u001b[0m \u001b[1m28s\u001b[0m 234ms/step - accuracy: 0.9360 - loss: 0.1813 - precision: 0.9386 - recall: 0.9310 - val_accuracy: 0.8323 - val_loss: 0.6190 - val_precision: 0.8333 - val_recall: 0.8283\n",
      "Epoch 14/30\n",
      "\u001b[1m117/117\u001b[0m \u001b[32m━━━━━━━━━━━━━━━━━━━━\u001b[0m\u001b[37m\u001b[0m \u001b[1m30s\u001b[0m 251ms/step - accuracy: 0.9460 - loss: 0.1567 - precision: 0.9485 - recall: 0.9442 - val_accuracy: 0.8646 - val_loss: 0.5702 - val_precision: 0.8646 - val_recall: 0.8646\n",
      "Epoch 15/30\n",
      "\u001b[1m117/117\u001b[0m \u001b[32m━━━━━━━━━━━━━━━━━━━━\u001b[0m\u001b[37m\u001b[0m \u001b[1m30s\u001b[0m 252ms/step - accuracy: 0.9458 - loss: 0.1510 - precision: 0.9506 - recall: 0.9416 - val_accuracy: 0.8727 - val_loss: 0.6479 - val_precision: 0.8760 - val_recall: 0.8707\n",
      "Epoch 16/30\n",
      "\u001b[1m117/117\u001b[0m \u001b[32m━━━━━━━━━━━━━━━━━━━━\u001b[0m\u001b[37m\u001b[0m \u001b[1m28s\u001b[0m 239ms/step - accuracy: 0.9528 - loss: 0.1311 - precision: 0.9559 - recall: 0.9507 - val_accuracy: 0.8646 - val_loss: 0.6886 - val_precision: 0.8664 - val_recall: 0.8646\n",
      "Epoch 17/30\n",
      "\u001b[1m117/117\u001b[0m \u001b[32m━━━━━━━━━━━━━━━━━━━━\u001b[0m\u001b[37m\u001b[0m \u001b[1m29s\u001b[0m 250ms/step - accuracy: 0.9568 - loss: 0.1209 - precision: 0.9603 - recall: 0.9554 - val_accuracy: 0.8606 - val_loss: 0.6702 - val_precision: 0.8621 - val_recall: 0.8586\n",
      "Epoch 18/30\n",
      "\u001b[1m117/117\u001b[0m \u001b[32m━━━━━━━━━━━━━━━━━━━━\u001b[0m\u001b[37m\u001b[0m \u001b[1m30s\u001b[0m 253ms/step - accuracy: 0.9608 - loss: 0.1165 - precision: 0.9618 - recall: 0.9592 - val_accuracy: 0.8606 - val_loss: 0.8050 - val_precision: 0.8600 - val_recall: 0.8566\n",
      "Epoch 19/30\n",
      "\u001b[1m117/117\u001b[0m \u001b[32m━━━━━━━━━━━━━━━━━━━━\u001b[0m\u001b[37m\u001b[0m \u001b[1m30s\u001b[0m 251ms/step - accuracy: 0.9662 - loss: 0.1024 - precision: 0.9668 - recall: 0.9651 - val_accuracy: 0.8808 - val_loss: 0.7098 - val_precision: 0.8824 - val_recall: 0.8788\n",
      "Epoch 20/30\n",
      "\u001b[1m117/117\u001b[0m \u001b[32m━━━━━━━━━━━━━━━━━━━━\u001b[0m\u001b[37m\u001b[0m \u001b[1m28s\u001b[0m 235ms/step - accuracy: 0.9527 - loss: 0.1252 - precision: 0.9561 - recall: 0.9510 - val_accuracy: 0.8747 - val_loss: 0.7469 - val_precision: 0.8747 - val_recall: 0.8747\n",
      "Epoch 21/30\n",
      "\u001b[1m117/117\u001b[0m \u001b[32m━━━━━━━━━━━━━━━━━━━━\u001b[0m\u001b[37m\u001b[0m \u001b[1m30s\u001b[0m 252ms/step - accuracy: 0.9608 - loss: 0.0975 - precision: 0.9621 - recall: 0.9591 - val_accuracy: 0.8485 - val_loss: 0.6280 - val_precision: 0.8519 - val_recall: 0.8485\n",
      "Epoch 22/30\n",
      "\u001b[1m117/117\u001b[0m \u001b[32m━━━━━━━━━━━━━━━━━━━━\u001b[0m\u001b[37m\u001b[0m \u001b[1m30s\u001b[0m 252ms/step - accuracy: 0.9564 - loss: 0.1141 - precision: 0.9586 - recall: 0.9544 - val_accuracy: 0.8687 - val_loss: 0.7601 - val_precision: 0.8704 - val_recall: 0.8687\n",
      "Epoch 23/30\n",
      "\u001b[1m117/117\u001b[0m \u001b[32m━━━━━━━━━━━━━━━━━━━━\u001b[0m\u001b[37m\u001b[0m \u001b[1m28s\u001b[0m 235ms/step - accuracy: 0.9749 - loss: 0.0700 - precision: 0.9753 - recall: 0.9744 - val_accuracy: 0.8909 - val_loss: 0.7552 - val_precision: 0.8907 - val_recall: 0.8889\n",
      "Epoch 24/30\n",
      "\u001b[1m117/117\u001b[0m \u001b[32m━━━━━━━━━━━━━━━━━━━━\u001b[0m\u001b[37m\u001b[0m \u001b[1m32s\u001b[0m 268ms/step - accuracy: 0.9762 - loss: 0.0653 - precision: 0.9769 - recall: 0.9755 - val_accuracy: 0.8808 - val_loss: 0.7911 - val_precision: 0.8808 - val_recall: 0.8808\n",
      "Epoch 25/30\n",
      "\u001b[1m117/117\u001b[0m \u001b[32m━━━━━━━━━━━━━━━━━━━━\u001b[0m\u001b[37m\u001b[0m \u001b[1m30s\u001b[0m 251ms/step - accuracy: 0.9767 - loss: 0.0660 - precision: 0.9773 - recall: 0.9767 - val_accuracy: 0.8606 - val_loss: 0.8130 - val_precision: 0.8603 - val_recall: 0.8586\n",
      "Epoch 26/30\n",
      "\u001b[1m117/117\u001b[0m \u001b[32m━━━━━━━━━━━━━━━━━━━━\u001b[0m\u001b[37m\u001b[0m \u001b[1m28s\u001b[0m 239ms/step - accuracy: 0.9704 - loss: 0.0799 - precision: 0.9715 - recall: 0.9696 - val_accuracy: 0.8909 - val_loss: 0.8250 - val_precision: 0.8909 - val_recall: 0.8909\n",
      "Epoch 27/30\n",
      "\u001b[1m117/117\u001b[0m \u001b[32m━━━━━━━━━━━━━━━━━━━━\u001b[0m\u001b[37m\u001b[0m \u001b[1m28s\u001b[0m 237ms/step - accuracy: 0.9802 - loss: 0.0570 - precision: 0.9805 - recall: 0.9799 - val_accuracy: 0.8848 - val_loss: 0.8799 - val_precision: 0.8866 - val_recall: 0.8848\n",
      "Epoch 28/30\n",
      "\u001b[1m117/117\u001b[0m \u001b[32m━━━━━━━━━━━━━━━━━━━━\u001b[0m\u001b[37m\u001b[0m \u001b[1m28s\u001b[0m 236ms/step - accuracy: 0.9766 - loss: 0.0631 - precision: 0.9775 - recall: 0.9750 - val_accuracy: 0.8869 - val_loss: 0.7581 - val_precision: 0.8887 - val_recall: 0.8869\n",
      "Epoch 29/30\n",
      "\u001b[1m117/117\u001b[0m \u001b[32m━━━━━━━━━━━━━━━━━━━━\u001b[0m\u001b[37m\u001b[0m \u001b[1m28s\u001b[0m 234ms/step - accuracy: 0.9890 - loss: 0.0365 - precision: 0.9892 - recall: 0.9882 - val_accuracy: 0.8707 - val_loss: 0.8987 - val_precision: 0.8725 - val_recall: 0.8707\n",
      "Epoch 30/30\n",
      "\u001b[1m117/117\u001b[0m \u001b[32m━━━━━━━━━━━━━━━━━━━━\u001b[0m\u001b[37m\u001b[0m \u001b[1m28s\u001b[0m 234ms/step - accuracy: 0.9808 - loss: 0.0503 - precision: 0.9817 - recall: 0.9806 - val_accuracy: 0.8869 - val_loss: 0.8209 - val_precision: 0.8869 - val_recall: 0.8869\n",
      "Predicting on validation set...\n",
      "\u001b[1m16/16\u001b[0m \u001b[32m━━━━━━━━━━━━━━━━━━━━\u001b[0m\u001b[37m\u001b[0m \u001b[1m1s\u001b[0m 56ms/step\n",
      "Sending metrics to clearML...\n",
      "done\n"
     ]
    }
   ],
   "source": [
    "# zoom 0.4\n",
    "task_name = 'z0.4'\n",
    "sub_project_name = 'ZOOM'\n",
    "\n",
    "augmentation_metadata = {\n",
    "        'methods': {        \n",
    "            'zoom': {\n",
    "                'parameters': {\n",
    "                    'zoom_factor': 0.4, # Maximum angle of rotation\n",
    "                },\n",
    "                'apply_to_percentage': 0.5  # 50% of the training images\n",
    "            }        \n",
    "        }\n",
    "    }\n",
    "\n",
    "for i in range(N):\n",
    "    RUN = i + 1\n",
    "    try:\n",
    "        print(f\"Starting RUN: {RUN}\")\n",
    "        main(RUN, augmentation_metadata, task_name, sub_project_name, epochs, train_size, w1, w2)\n",
    "    except Exception as e:\n",
    "        print(f\"Error in RUN: {RUN}\")\n",
    "        print(e)\n",
    "    finally:\n",
    "        clear_output(wait=True)  # Clear the output to avoid scrolling\n",
    "        gc.collect()  # Collect garbage to avoid memory leaks"
   ]
  },
  {
   "cell_type": "code",
   "execution_count": 16,
   "metadata": {},
   "outputs": [
    {
     "name": "stdout",
     "output_type": "stream",
     "text": [
      "Starting RUN: 5\n",
      "Seed:  1956802512\n"
     ]
    },
    {
     "name": "stderr",
     "output_type": "stream",
     "text": [
      "c:\\github\\Third-Year-Project\\Intruder-Aircraft-Detection\\main\\tl_clf.py:79: SettingWithCopyWarning:\n",
      "\n",
      "\n",
      "A value is trying to be set on a copy of a slice from a DataFrame.\n",
      "Try using .loc[row_indexer,col_indexer] = value instead\n",
      "\n",
      "See the caveats in the documentation: https://pandas.pydata.org/pandas-docs/stable/user_guide/indexing.html#returning-a-view-versus-a-copy\n",
      "\n",
      "c:\\github\\Third-Year-Project\\Intruder-Aircraft-Detection\\main\\tl_clf.py:80: SettingWithCopyWarning:\n",
      "\n",
      "\n",
      "A value is trying to be set on a copy of a slice from a DataFrame.\n",
      "Try using .loc[row_indexer,col_indexer] = value instead\n",
      "\n",
      "See the caveats in the documentation: https://pandas.pydata.org/pandas-docs/stable/user_guide/indexing.html#returning-a-view-versus-a-copy\n",
      "\n"
     ]
    },
    {
     "name": "stdout",
     "output_type": "stream",
     "text": [
      "Removing dataset if pre-existing\n",
      "Copying training files:\n"
     ]
    },
    {
     "name": "stderr",
     "output_type": "stream",
     "text": [
      "Copying files: 100%|██████████| 5000/5000 [00:03<00:00, 1395.32it/s]\n"
     ]
    },
    {
     "name": "stdout",
     "output_type": "stream",
     "text": [
      "Copying validation files:\n"
     ]
    },
    {
     "name": "stderr",
     "output_type": "stream",
     "text": [
      "Copying files: 100%|██████████| 1000/1000 [00:02<00:00, 493.48it/s]\n"
     ]
    },
    {
     "name": "stdout",
     "output_type": "stream",
     "text": [
      "Dataset 'weather_23_2500' created at C:\\github\\Third-Year-Project\\Intruder-Aircraft-Detection\\datasets\\Custom\\weather_23_2500\n",
      "Processing train labels in weather_23_2500:\n"
     ]
    },
    {
     "name": "stderr",
     "output_type": "stream",
     "text": [
      "Processing labels: 100%|██████████| 2500/2500 [00:09<00:00, 264.89it/s]\n"
     ]
    },
    {
     "name": "stdout",
     "output_type": "stream",
     "text": [
      "Processing valid labels in weather_23_2500:\n"
     ]
    },
    {
     "name": "stderr",
     "output_type": "stream",
     "text": [
      "Processing labels: 100%|██████████| 500/500 [00:01<00:00, 264.21it/s]\n"
     ]
    },
    {
     "name": "stdout",
     "output_type": "stream",
     "text": [
      "Label correction completed.\n"
     ]
    },
    {
     "name": "stderr",
     "output_type": "stream",
     "text": [
      "Removing existing directories/files: 100%|██████████| 3/3 [00:00<00:00, 2999.50it/s]\n",
      "Copying files: 100%|██████████| 2500/2500 [00:02<00:00, 1052.79it/s]\n",
      "Copying files: 100%|██████████| 2500/2500 [00:01<00:00, 1434.34it/s]\n",
      "Applying augmentations: 100%|██████████| 1250/1250 [00:26<00:00, 47.85it/s]\n",
      "Processing images:  13%|█▎        | 323/2500 [00:16<01:01, 35.34it/s]"
     ]
    },
    {
     "name": "stdout",
     "output_type": "stream",
     "text": [
      "An error occurred with C:/github/Third-Year-Project/Intruder-Aircraft-Detection/datasets/Custom/weather_23_2500\\images\\train\\26098.jpg: Expected x_min for bbox (-0.05254049999999999, 0.6148480000000001, 0.7579965, 1.1552060000000002, 1) to be in the range [0.0, 1.0], got -0.05254049999999999.\n"
     ]
    },
    {
     "name": "stderr",
     "output_type": "stream",
     "text": [
      "Processing images:  21%|██▏       | 532/2500 [00:22<00:58, 33.82it/s]"
     ]
    },
    {
     "name": "stdout",
     "output_type": "stream",
     "text": [
      "An error occurred with C:/github/Third-Year-Project/Intruder-Aircraft-Detection/datasets/Custom/weather_23_2500\\images\\train\\26500.jpg: Expected y_max for bbox (0.0655045, 0.7670555, 0.42422150000000003, 1.0062005, 1) to be in the range [0.0, 1.0], got 1.0062005.\n"
     ]
    },
    {
     "name": "stderr",
     "output_type": "stream",
     "text": [
      "Processing images:  27%|██▋       | 673/2500 [00:26<00:52, 34.95it/s]"
     ]
    },
    {
     "name": "stdout",
     "output_type": "stream",
     "text": [
      "An error occurred with C:/github/Third-Year-Project/Intruder-Aircraft-Detection/datasets/Custom/weather_23_2500\\images\\train\\26778.jpg: Expected y_min for bbox (0.17198949999999996, -0.047677, 0.8024305, 0.372617, 1) to be in the range [0.0, 1.0], got -0.047677.\n"
     ]
    },
    {
     "name": "stderr",
     "output_type": "stream",
     "text": [
      "Processing images:  76%|███████▌  | 1902/2500 [01:04<00:17, 34.80it/s]"
     ]
    },
    {
     "name": "stdout",
     "output_type": "stream",
     "text": [
      "An error occurred with C:/github/Third-Year-Project/Intruder-Aircraft-Detection/datasets/Custom/weather_23_2500\\images\\train\\50482.jpg: Expected y_max for bbox (0.4692875000000001, 0.789791, 0.7999505, 1.010233, 2) to be in the range [0.0, 1.0], got 1.010233.\n"
     ]
    },
    {
     "name": "stderr",
     "output_type": "stream",
     "text": [
      "Processing images:  80%|████████  | 2011/2500 [01:07<00:13, 36.64it/s]"
     ]
    },
    {
     "name": "stdout",
     "output_type": "stream",
     "text": [
      "An error occurred with C:/github/Third-Year-Project/Intruder-Aircraft-Detection/datasets/Custom/weather_23_2500\\images\\train\\50719.jpg: Expected x_min for bbox (-0.11753550000000001, 0.31711149999999994, 0.8069695, 0.9334484999999999, 2) to be in the range [0.0, 1.0], got -0.11753550000000001.\n"
     ]
    },
    {
     "name": "stderr",
     "output_type": "stream",
     "text": [
      "Processing images:  87%|████████▋ | 2176/2500 [01:12<00:09, 35.20it/s]"
     ]
    },
    {
     "name": "stdout",
     "output_type": "stream",
     "text": [
      "An error occurred with C:/github/Third-Year-Project/Intruder-Aircraft-Detection/datasets/Custom/weather_23_2500\\images\\train\\51177.jpg: Expected x_max for bbox (0.30940350000000005, 0.6482319999999999, 1.1197745000000001, 1.1884799999999998, 2) to be in the range [0.0, 1.0], got 1.1197745000000001.\n"
     ]
    },
    {
     "name": "stderr",
     "output_type": "stream",
     "text": [
      "Processing images:  93%|█████████▎| 2321/2500 [01:17<00:05, 33.54it/s]"
     ]
    },
    {
     "name": "stdout",
     "output_type": "stream",
     "text": [
      "An error occurred with C:/github/Third-Year-Project/Intruder-Aircraft-Detection/datasets/Custom/weather_23_2500\\images\\train\\51512.jpg: In YOLO format all coordinates must be float and in range (0, 1]\n"
     ]
    },
    {
     "name": "stderr",
     "output_type": "stream",
     "text": [
      "Processing images:  99%|█████████▊| 2466/2500 [01:21<00:00, 34.73it/s]"
     ]
    },
    {
     "name": "stdout",
     "output_type": "stream",
     "text": [
      "An error occurred with C:/github/Third-Year-Project/Intruder-Aircraft-Detection/datasets/Custom/weather_23_2500\\images\\train\\51808.jpg: Expected x_min for bbox (-0.02981600000000001, 0.598216, 0.699454, 1.084396, 2) to be in the range [0.0, 1.0], got -0.02981600000000001.\n"
     ]
    },
    {
     "name": "stderr",
     "output_type": "stream",
     "text": [
      "Processing images: 100%|██████████| 2500/2500 [01:22<00:00, 30.28it/s]\n",
      "Processing images:  13%|█▎        | 487/3750 [00:26<01:25, 38.27it/s]"
     ]
    },
    {
     "name": "stdout",
     "output_type": "stream",
     "text": [
      "An error occurred with C:/github/Third-Year-Project/Intruder-Aircraft-Detection/datasets/Custom/weather_23_2500\\images\\train-aug\\26098.jpg: Expected x_min for bbox (-0.05254049999999999, 0.6148480000000001, 0.7579965, 1.1552060000000002, 1) to be in the range [0.0, 1.0], got -0.05254049999999999.\n",
      "An error occurred with C:/github/Third-Year-Project/Intruder-Aircraft-Detection/datasets/Custom/weather_23_2500\\images\\train-aug\\26098-bnc.jpg: Expected x_min for bbox (-0.05254049999999999, 0.6148480000000001, 0.7579965, 1.1552060000000002, 1) to be in the range [0.0, 1.0], got -0.05254049999999999.\n"
     ]
    },
    {
     "name": "stderr",
     "output_type": "stream",
     "text": [
      "Processing images:  21%|██        | 796/3750 [00:35<01:20, 36.51it/s]"
     ]
    },
    {
     "name": "stdout",
     "output_type": "stream",
     "text": [
      "An error occurred with C:/github/Third-Year-Project/Intruder-Aircraft-Detection/datasets/Custom/weather_23_2500\\images\\train-aug\\26500-bnc.jpg: Expected y_max for bbox (0.0655045, 0.7670555, 0.42422150000000003, 1.0062005, 1) to be in the range [0.0, 1.0], got 1.0062005.\n",
      "An error occurred with C:/github/Third-Year-Project/Intruder-Aircraft-Detection/datasets/Custom/weather_23_2500\\images\\train-aug\\26500.jpg: Expected y_max for bbox (0.0655045, 0.7670555, 0.42422150000000003, 1.0062005, 1) to be in the range [0.0, 1.0], got 1.0062005.\n"
     ]
    },
    {
     "name": "stderr",
     "output_type": "stream",
     "text": [
      "Processing images:  27%|██▋       | 1022/3750 [00:42<01:16, 35.88it/s]"
     ]
    },
    {
     "name": "stdout",
     "output_type": "stream",
     "text": [
      "An error occurred with C:/github/Third-Year-Project/Intruder-Aircraft-Detection/datasets/Custom/weather_23_2500\\images\\train-aug\\26778-bnc.jpg: Expected y_min for bbox (0.17198949999999996, -0.047677, 0.8024305, 0.372617, 1) to be in the range [0.0, 1.0], got -0.047677.\n",
      "An error occurred with C:/github/Third-Year-Project/Intruder-Aircraft-Detection/datasets/Custom/weather_23_2500\\images\\train-aug\\26778.jpg: Expected y_min for bbox (0.17198949999999996, -0.047677, 0.8024305, 0.372617, 1) to be in the range [0.0, 1.0], got -0.047677.\n"
     ]
    },
    {
     "name": "stderr",
     "output_type": "stream",
     "text": [
      "Processing images:  76%|███████▋  | 2864/3750 [01:38<00:23, 37.56it/s]"
     ]
    },
    {
     "name": "stdout",
     "output_type": "stream",
     "text": [
      "An error occurred with C:/github/Third-Year-Project/Intruder-Aircraft-Detection/datasets/Custom/weather_23_2500\\images\\train-aug\\50482-bnc.jpg: Expected y_max for bbox (0.4692875000000001, 0.789791, 0.7999505, 1.010233, 2) to be in the range [0.0, 1.0], got 1.010233.\n",
      "An error occurred with C:/github/Third-Year-Project/Intruder-Aircraft-Detection/datasets/Custom/weather_23_2500\\images\\train-aug\\50482.jpg: Expected y_max for bbox (0.4692875000000001, 0.789791, 0.7999505, 1.010233, 2) to be in the range [0.0, 1.0], got 1.010233.\n"
     ]
    },
    {
     "name": "stderr",
     "output_type": "stream",
     "text": [
      "Processing images:  80%|████████  | 3017/3750 [01:42<00:19, 36.69it/s]"
     ]
    },
    {
     "name": "stdout",
     "output_type": "stream",
     "text": [
      "An error occurred with C:/github/Third-Year-Project/Intruder-Aircraft-Detection/datasets/Custom/weather_23_2500\\images\\train-aug\\50719.jpg: Expected x_min for bbox (-0.11753550000000001, 0.31711149999999994, 0.8069695, 0.9334484999999999, 2) to be in the range [0.0, 1.0], got -0.11753550000000001.\n"
     ]
    },
    {
     "name": "stderr",
     "output_type": "stream",
     "text": [
      "Processing images:  87%|████████▋ | 3259/3750 [01:49<00:13, 37.08it/s]"
     ]
    },
    {
     "name": "stdout",
     "output_type": "stream",
     "text": [
      "An error occurred with C:/github/Third-Year-Project/Intruder-Aircraft-Detection/datasets/Custom/weather_23_2500\\images\\train-aug\\51177.jpg: Expected x_max for bbox (0.30940350000000005, 0.6482319999999999, 1.1197745000000001, 1.1884799999999998, 2) to be in the range [0.0, 1.0], got 1.1197745000000001.\n",
      "An error occurred with C:/github/Third-Year-Project/Intruder-Aircraft-Detection/datasets/Custom/weather_23_2500\\images\\train-aug\\51177-bnc.jpg: Expected x_max for bbox (0.30940350000000005, 0.6482319999999999, 1.1197745000000001, 1.1884799999999998, 2) to be in the range [0.0, 1.0], got 1.1197745000000001.\n"
     ]
    },
    {
     "name": "stderr",
     "output_type": "stream",
     "text": [
      "Processing images:  93%|█████████▎| 3488/3750 [01:57<00:07, 33.92it/s]"
     ]
    },
    {
     "name": "stdout",
     "output_type": "stream",
     "text": [
      "An error occurred with C:/github/Third-Year-Project/Intruder-Aircraft-Detection/datasets/Custom/weather_23_2500\\images\\train-aug\\51512.jpg: In YOLO format all coordinates must be float and in range (0, 1]\n"
     ]
    },
    {
     "name": "stderr",
     "output_type": "stream",
     "text": [
      "Processing images:  98%|█████████▊| 3690/3750 [02:03<00:01, 38.14it/s]"
     ]
    },
    {
     "name": "stdout",
     "output_type": "stream",
     "text": [
      "An error occurred with C:/github/Third-Year-Project/Intruder-Aircraft-Detection/datasets/Custom/weather_23_2500\\images\\train-aug\\51808-bnc.jpg: Expected x_min for bbox (-0.02981600000000001, 0.598216, 0.699454, 1.084396, 2) to be in the range [0.0, 1.0], got -0.02981600000000001.\n",
      "An error occurred with C:/github/Third-Year-Project/Intruder-Aircraft-Detection/datasets/Custom/weather_23_2500\\images\\train-aug\\51808.jpg: Expected x_min for bbox (-0.02981600000000001, 0.598216, 0.699454, 1.084396, 2) to be in the range [0.0, 1.0], got -0.02981600000000001.\n"
     ]
    },
    {
     "name": "stderr",
     "output_type": "stream",
     "text": [
      "Processing images: 100%|██████████| 3750/3750 [02:04<00:00, 30.02it/s]\n",
      "Processing images:   5%|▌         | 27/500 [00:01<00:31, 14.94it/s]"
     ]
    },
    {
     "name": "stdout",
     "output_type": "stream",
     "text": [
      "An error occurred with C:/github/Third-Year-Project/Intruder-Aircraft-Detection/datasets/Custom/weather_23_2500\\images\\valid\\26926.jpg: Expected y_min for bbox (0.38187599999999994, -0.12572450000000002, 1.180976, 0.4070085, 1) to be in the range [0.0, 1.0], got -0.12572450000000002.\n"
     ]
    },
    {
     "name": "stderr",
     "output_type": "stream",
     "text": [
      "Processing images:  17%|█▋        | 86/500 [00:04<00:12, 32.56it/s]"
     ]
    },
    {
     "name": "stdout",
     "output_type": "stream",
     "text": [
      "An error occurred with C:/github/Third-Year-Project/Intruder-Aircraft-Detection/datasets/Custom/weather_23_2500\\images\\valid\\26999.jpg: Expected x_min for bbox (-0.1462135, 0.3244429999999999, 0.7076735, 0.893701, 1) to be in the range [0.0, 1.0], got -0.1462135.\n"
     ]
    },
    {
     "name": "stderr",
     "output_type": "stream",
     "text": [
      "Processing images:  71%|███████   | 353/500 [00:12<00:04, 36.13it/s]"
     ]
    },
    {
     "name": "stdout",
     "output_type": "stream",
     "text": [
      "An error occurred with C:/github/Third-Year-Project/Intruder-Aircraft-Detection/datasets/Custom/weather_23_2500\\images\\valid\\50917.jpg: Expected y_min for bbox (0.3312055, -0.11337250000000001, 1.1166544999999999, 0.41026050000000003, 2) to be in the range [0.0, 1.0], got -0.11337250000000001.\n"
     ]
    },
    {
     "name": "stderr",
     "output_type": "stream",
     "text": [
      "Processing images:  77%|███████▋  | 386/500 [00:13<00:03, 36.51it/s]"
     ]
    },
    {
     "name": "stdout",
     "output_type": "stream",
     "text": [
      "An error occurred with C:/github/Third-Year-Project/Intruder-Aircraft-Detection/datasets/Custom/weather_23_2500\\images\\valid\\50955.jpg: Expected x_min for bbox (-0.021672000000000025, 0.2856885, 0.507494, 0.6384655, 2) to be in the range [0.0, 1.0], got -0.021672000000000025.\n"
     ]
    },
    {
     "name": "stderr",
     "output_type": "stream",
     "text": [
      "Processing images:  90%|█████████ | 451/500 [00:14<00:01, 35.16it/s]"
     ]
    },
    {
     "name": "stdout",
     "output_type": "stream",
     "text": [
      "An error occurred with C:/github/Third-Year-Project/Intruder-Aircraft-Detection/datasets/Custom/weather_23_2500\\images\\valid\\51937.jpg: Expected y_min for bbox (0.07818900000000001, -0.009202500000000002, 0.5387230000000001, 0.2978205, 2) to be in the range [0.0, 1.0], got -0.009202500000000002.\n"
     ]
    },
    {
     "name": "stderr",
     "output_type": "stream",
     "text": [
      "Processing images: 100%|██████████| 500/500 [00:16<00:00, 30.31it/s]\n",
      "Moving images in train: 100%|██████████| 2492/2492 [00:09<00:00, 268.18it/s]\n",
      "Moving images in train-aug: 100%|██████████| 3736/3736 [00:10<00:00, 345.81it/s]\n",
      "Moving images in valid: 100%|██████████| 495/495 [00:01<00:00, 273.23it/s]\n"
     ]
    },
    {
     "name": "stdout",
     "output_type": "stream",
     "text": [
      "Found 2492 files belonging to 3 classes.\n",
      "Found 3736 files belonging to 3 classes.\n",
      "Found 495 files belonging to 3 classes.\n",
      "ClearML Task: created new task id=bed3850ba9ab43a29a576364885f74bb\n",
      "ClearML results page: https://app.clear.ml/projects/48ca4ec2cdaa48e1875c7a67c9ee7b6c/experiments/bed3850ba9ab43a29a576364885f74bb/output/log\n",
      "Training model...\n",
      "Epoch 1/30\n",
      "\u001b[1m78/78\u001b[0m \u001b[32m━━━━━━━━━━━━━━━━━━━━\u001b[0m\u001b[37m\u001b[0m \u001b[1m24s\u001b[0m 274ms/step - accuracy: 0.3435 - loss: 1.6182 - precision: 0.3231 - recall: 0.0674 - val_accuracy: 0.3293 - val_loss: 1.0984 - val_precision: 0.0000e+00 - val_recall: 0.0000e+00\n",
      "Epoch 2/30\n",
      "\u001b[1m78/78\u001b[0m \u001b[32m━━━━━━━━━━━━━━━━━━━━\u001b[0m\u001b[37m\u001b[0m \u001b[1m19s\u001b[0m 240ms/step - accuracy: 0.3473 - loss: 1.0981 - precision: 0.0199 - recall: 1.1798e-04 - val_accuracy: 0.3333 - val_loss: 1.1080 - val_precision: 0.6806 - val_recall: 0.0990\n",
      "Epoch 3/30\n",
      "\u001b[1m78/78\u001b[0m \u001b[32m━━━━━━━━━━━━━━━━━━━━\u001b[0m\u001b[37m\u001b[0m \u001b[1m21s\u001b[0m 267ms/step - accuracy: 0.5175 - loss: 1.0510 - precision: 0.6411 - recall: 0.0718 - val_accuracy: 0.7273 - val_loss: 0.7183 - val_precision: 0.7893 - val_recall: 0.5677\n",
      "Epoch 4/30\n",
      "\u001b[1m78/78\u001b[0m \u001b[32m━━━━━━━━━━━━━━━━━━━━\u001b[0m\u001b[37m\u001b[0m \u001b[1m19s\u001b[0m 240ms/step - accuracy: 0.6629 - loss: 0.8056 - precision: 0.7405 - recall: 0.4719 - val_accuracy: 0.7232 - val_loss: 0.6628 - val_precision: 0.7352 - val_recall: 0.6788\n",
      "Epoch 5/30\n",
      "\u001b[1m78/78\u001b[0m \u001b[32m━━━━━━━━━━━━━━━━━━━━\u001b[0m\u001b[37m\u001b[0m \u001b[1m21s\u001b[0m 270ms/step - accuracy: 0.7529 - loss: 0.6353 - precision: 0.7924 - recall: 0.6786 - val_accuracy: 0.7616 - val_loss: 0.6229 - val_precision: 0.7650 - val_recall: 0.7232\n",
      "Epoch 6/30\n",
      "\u001b[1m78/78\u001b[0m \u001b[32m━━━━━━━━━━━━━━━━━━━━\u001b[0m\u001b[37m\u001b[0m \u001b[1m19s\u001b[0m 241ms/step - accuracy: 0.7814 - loss: 0.5524 - precision: 0.8107 - recall: 0.7334 - val_accuracy: 0.7253 - val_loss: 0.6589 - val_precision: 0.7358 - val_recall: 0.7091\n",
      "Epoch 7/30\n",
      "\u001b[1m78/78\u001b[0m \u001b[32m━━━━━━━━━━━━━━━━━━━━\u001b[0m\u001b[37m\u001b[0m \u001b[1m21s\u001b[0m 268ms/step - accuracy: 0.7981 - loss: 0.4956 - precision: 0.8187 - recall: 0.7649 - val_accuracy: 0.7697 - val_loss: 0.6211 - val_precision: 0.7801 - val_recall: 0.7596\n",
      "Epoch 8/30\n",
      "\u001b[1m78/78\u001b[0m \u001b[32m━━━━━━━━━━━━━━━━━━━━\u001b[0m\u001b[37m\u001b[0m \u001b[1m19s\u001b[0m 241ms/step - accuracy: 0.8277 - loss: 0.4291 - precision: 0.8465 - recall: 0.8041 - val_accuracy: 0.7394 - val_loss: 0.6717 - val_precision: 0.7479 - val_recall: 0.7313\n",
      "Epoch 9/30\n",
      "\u001b[1m78/78\u001b[0m \u001b[32m━━━━━━━━━━━━━━━━━━━━\u001b[0m\u001b[37m\u001b[0m \u001b[1m21s\u001b[0m 266ms/step - accuracy: 0.8333 - loss: 0.4169 - precision: 0.8538 - recall: 0.8093 - val_accuracy: 0.7899 - val_loss: 0.6041 - val_precision: 0.7992 - val_recall: 0.7879\n",
      "Epoch 10/30\n",
      "\u001b[1m78/78\u001b[0m \u001b[32m━━━━━━━━━━━━━━━━━━━━\u001b[0m\u001b[37m\u001b[0m \u001b[1m19s\u001b[0m 243ms/step - accuracy: 0.8571 - loss: 0.3601 - precision: 0.8728 - recall: 0.8431 - val_accuracy: 0.7636 - val_loss: 0.6502 - val_precision: 0.7700 - val_recall: 0.7576\n",
      "Epoch 11/30\n",
      "\u001b[1m78/78\u001b[0m \u001b[32m━━━━━━━━━━━━━━━━━━━━\u001b[0m\u001b[37m\u001b[0m \u001b[1m21s\u001b[0m 268ms/step - accuracy: 0.8709 - loss: 0.2979 - precision: 0.8787 - recall: 0.8624 - val_accuracy: 0.8020 - val_loss: 0.6232 - val_precision: 0.8078 - val_recall: 0.7980\n",
      "Epoch 12/30\n",
      "\u001b[1m78/78\u001b[0m \u001b[32m━━━━━━━━━━━━━━━━━━━━\u001b[0m\u001b[37m\u001b[0m \u001b[1m19s\u001b[0m 240ms/step - accuracy: 0.8879 - loss: 0.2846 - precision: 0.8971 - recall: 0.8771 - val_accuracy: 0.7899 - val_loss: 0.6785 - val_precision: 0.7988 - val_recall: 0.7778\n",
      "Epoch 13/30\n",
      "\u001b[1m78/78\u001b[0m \u001b[32m━━━━━━━━━━━━━━━━━━━━\u001b[0m\u001b[37m\u001b[0m \u001b[1m21s\u001b[0m 268ms/step - accuracy: 0.8884 - loss: 0.2749 - precision: 0.8984 - recall: 0.8771 - val_accuracy: 0.8061 - val_loss: 0.6695 - val_precision: 0.8090 - val_recall: 0.7960\n",
      "Epoch 14/30\n",
      "\u001b[1m78/78\u001b[0m \u001b[32m━━━━━━━━━━━━━━━━━━━━\u001b[0m\u001b[37m\u001b[0m \u001b[1m19s\u001b[0m 242ms/step - accuracy: 0.8897 - loss: 0.2728 - precision: 0.8967 - recall: 0.8808 - val_accuracy: 0.8040 - val_loss: 0.7032 - val_precision: 0.8073 - val_recall: 0.8040\n",
      "Epoch 15/30\n",
      "\u001b[1m78/78\u001b[0m \u001b[32m━━━━━━━━━━━━━━━━━━━━\u001b[0m\u001b[37m\u001b[0m \u001b[1m21s\u001b[0m 267ms/step - accuracy: 0.9246 - loss: 0.2043 - precision: 0.9302 - recall: 0.9201 - val_accuracy: 0.8182 - val_loss: 0.7207 - val_precision: 0.8279 - val_recall: 0.8162\n",
      "Epoch 16/30\n",
      "\u001b[1m78/78\u001b[0m \u001b[32m━━━━━━━━━━━━━━━━━━━━\u001b[0m\u001b[37m\u001b[0m \u001b[1m19s\u001b[0m 242ms/step - accuracy: 0.9181 - loss: 0.2021 - precision: 0.9210 - recall: 0.9132 - val_accuracy: 0.8101 - val_loss: 0.7402 - val_precision: 0.8093 - val_recall: 0.8061\n",
      "Epoch 17/30\n",
      "\u001b[1m78/78\u001b[0m \u001b[32m━━━━━━━━━━━━━━━━━━━━\u001b[0m\u001b[37m\u001b[0m \u001b[1m20s\u001b[0m 257ms/step - accuracy: 0.9209 - loss: 0.1873 - precision: 0.9268 - recall: 0.9154 - val_accuracy: 0.8364 - val_loss: 0.6809 - val_precision: 0.8405 - val_recall: 0.8303\n",
      "Epoch 18/30\n",
      "\u001b[1m78/78\u001b[0m \u001b[32m━━━━━━━━━━━━━━━━━━━━\u001b[0m\u001b[37m\u001b[0m \u001b[1m22s\u001b[0m 252ms/step - accuracy: 0.9411 - loss: 0.1509 - precision: 0.9426 - recall: 0.9359 - val_accuracy: 0.8343 - val_loss: 0.6976 - val_precision: 0.8374 - val_recall: 0.8323\n",
      "Epoch 19/30\n",
      "\u001b[1m78/78\u001b[0m \u001b[32m━━━━━━━━━━━━━━━━━━━━\u001b[0m\u001b[37m\u001b[0m \u001b[1m20s\u001b[0m 250ms/step - accuracy: 0.9516 - loss: 0.1385 - precision: 0.9538 - recall: 0.9493 - val_accuracy: 0.8283 - val_loss: 0.7732 - val_precision: 0.8323 - val_recall: 0.8222\n",
      "Epoch 20/30\n",
      "\u001b[1m78/78\u001b[0m \u001b[32m━━━━━━━━━━━━━━━━━━━━\u001b[0m\u001b[37m\u001b[0m \u001b[1m21s\u001b[0m 264ms/step - accuracy: 0.9432 - loss: 0.1423 - precision: 0.9459 - recall: 0.9390 - val_accuracy: 0.8444 - val_loss: 0.7807 - val_precision: 0.8452 - val_recall: 0.8384\n",
      "Epoch 21/30\n",
      "\u001b[1m78/78\u001b[0m \u001b[32m━━━━━━━━━━━━━━━━━━━━\u001b[0m\u001b[37m\u001b[0m \u001b[1m20s\u001b[0m 251ms/step - accuracy: 0.9593 - loss: 0.1197 - precision: 0.9603 - recall: 0.9575 - val_accuracy: 0.8485 - val_loss: 0.8467 - val_precision: 0.8513 - val_recall: 0.8444\n",
      "Epoch 22/30\n",
      "\u001b[1m78/78\u001b[0m \u001b[32m━━━━━━━━━━━━━━━━━━━━\u001b[0m\u001b[37m\u001b[0m \u001b[1m21s\u001b[0m 263ms/step - accuracy: 0.9622 - loss: 0.1033 - precision: 0.9636 - recall: 0.9582 - val_accuracy: 0.8485 - val_loss: 0.8792 - val_precision: 0.8482 - val_recall: 0.8465\n",
      "Epoch 23/30\n",
      "\u001b[1m78/78\u001b[0m \u001b[32m━━━━━━━━━━━━━━━━━━━━\u001b[0m\u001b[37m\u001b[0m \u001b[1m19s\u001b[0m 242ms/step - accuracy: 0.9589 - loss: 0.1084 - precision: 0.9605 - recall: 0.9581 - val_accuracy: 0.8465 - val_loss: 0.8999 - val_precision: 0.8479 - val_recall: 0.8444\n",
      "Epoch 24/30\n",
      "\u001b[1m78/78\u001b[0m \u001b[32m━━━━━━━━━━━━━━━━━━━━\u001b[0m\u001b[37m\u001b[0m \u001b[1m21s\u001b[0m 267ms/step - accuracy: 0.9667 - loss: 0.0968 - precision: 0.9705 - recall: 0.9631 - val_accuracy: 0.8505 - val_loss: 0.9466 - val_precision: 0.8505 - val_recall: 0.8505\n",
      "Epoch 25/30\n",
      "\u001b[1m78/78\u001b[0m \u001b[32m━━━━━━━━━━━━━━━━━━━━\u001b[0m\u001b[37m\u001b[0m \u001b[1m19s\u001b[0m 240ms/step - accuracy: 0.9685 - loss: 0.0842 - precision: 0.9696 - recall: 0.9679 - val_accuracy: 0.8727 - val_loss: 0.8862 - val_precision: 0.8780 - val_recall: 0.8727\n",
      "Epoch 26/30\n",
      "\u001b[1m78/78\u001b[0m \u001b[32m━━━━━━━━━━━━━━━━━━━━\u001b[0m\u001b[37m\u001b[0m \u001b[1m21s\u001b[0m 268ms/step - accuracy: 0.9703 - loss: 0.0844 - precision: 0.9709 - recall: 0.9697 - val_accuracy: 0.8545 - val_loss: 0.8225 - val_precision: 0.8577 - val_recall: 0.8525\n",
      "Epoch 27/30\n",
      "\u001b[1m78/78\u001b[0m \u001b[32m━━━━━━━━━━━━━━━━━━━━\u001b[0m\u001b[37m\u001b[0m \u001b[1m19s\u001b[0m 240ms/step - accuracy: 0.9620 - loss: 0.0932 - precision: 0.9646 - recall: 0.9593 - val_accuracy: 0.8727 - val_loss: 0.8880 - val_precision: 0.8727 - val_recall: 0.8727\n",
      "Epoch 28/30\n",
      "\u001b[1m78/78\u001b[0m \u001b[32m━━━━━━━━━━━━━━━━━━━━\u001b[0m\u001b[37m\u001b[0m \u001b[1m21s\u001b[0m 270ms/step - accuracy: 0.9724 - loss: 0.0641 - precision: 0.9742 - recall: 0.9706 - val_accuracy: 0.8768 - val_loss: 0.9515 - val_precision: 0.8780 - val_recall: 0.8727\n",
      "Epoch 29/30\n",
      "\u001b[1m78/78\u001b[0m \u001b[32m━━━━━━━━━━━━━━━━━━━━\u001b[0m\u001b[37m\u001b[0m \u001b[1m19s\u001b[0m 241ms/step - accuracy: 0.9752 - loss: 0.0744 - precision: 0.9766 - recall: 0.9733 - val_accuracy: 0.8727 - val_loss: 0.8817 - val_precision: 0.8725 - val_recall: 0.8707\n",
      "Epoch 30/30\n",
      "\u001b[1m78/78\u001b[0m \u001b[32m━━━━━━━━━━━━━━━━━━━━\u001b[0m\u001b[37m\u001b[0m \u001b[1m21s\u001b[0m 267ms/step - accuracy: 0.9851 - loss: 0.0483 - precision: 0.9864 - recall: 0.9847 - val_accuracy: 0.8505 - val_loss: 0.8619 - val_precision: 0.8534 - val_recall: 0.8465\n",
      "Predicting on validation set...\n",
      "\u001b[1m16/16\u001b[0m \u001b[32m━━━━━━━━━━━━━━━━━━━━\u001b[0m\u001b[37m\u001b[0m \u001b[1m1s\u001b[0m 56ms/step\n",
      "Sending metrics to clearML...\n",
      "done\n",
      "ClearML Task: created new task id=2fe02e74423f40ae9f2d98b8eb871ef1\n",
      "ClearML results page: https://app.clear.ml/projects/48ca4ec2cdaa48e1875c7a67c9ee7b6c/experiments/2fe02e74423f40ae9f2d98b8eb871ef1/output/log\n",
      "Training model...\n",
      "Epoch 1/30\n",
      "\u001b[1m117/117\u001b[0m \u001b[32m━━━━━━━━━━━━━━━━━━━━\u001b[0m\u001b[37m\u001b[0m \u001b[1m34s\u001b[0m 273ms/step - accuracy: 0.3385 - loss: 1.4359 - precision: 0.3695 - recall: 0.0501 - val_accuracy: 0.3293 - val_loss: 1.0986 - val_precision: 0.0000e+00 - val_recall: 0.0000e+00\n",
      "Epoch 2/30\n",
      "\u001b[1m117/117\u001b[0m \u001b[32m━━━━━━━━━━━━━━━━━━━━\u001b[0m\u001b[37m\u001b[0m \u001b[1m30s\u001b[0m 256ms/step - accuracy: 0.3469 - loss: 1.0987 - precision: 0.0000e+00 - recall: 0.0000e+00 - val_accuracy: 0.3374 - val_loss: 1.0947 - val_precision: 0.0000e+00 - val_recall: 0.0000e+00\n",
      "Epoch 3/30\n",
      "\u001b[1m117/117\u001b[0m \u001b[32m━━━━━━━━━━━━━━━━━━━━\u001b[0m\u001b[37m\u001b[0m \u001b[1m29s\u001b[0m 242ms/step - accuracy: 0.3587 - loss: 1.0987 - precision: 0.3475 - recall: 3.1189e-04 - val_accuracy: 0.4040 - val_loss: 1.0785 - val_precision: 0.0000e+00 - val_recall: 0.0000e+00\n",
      "Epoch 4/30\n",
      "\u001b[1m117/117\u001b[0m \u001b[32m━━━━━━━━━━━━━━━━━━━━\u001b[0m\u001b[37m\u001b[0m \u001b[1m30s\u001b[0m 250ms/step - accuracy: 0.3466 - loss: 1.1058 - precision: 0.3459 - recall: 0.0109 - val_accuracy: 0.4323 - val_loss: 1.0975 - val_precision: 0.0000e+00 - val_recall: 0.0000e+00\n",
      "Epoch 5/30\n",
      "\u001b[1m117/117\u001b[0m \u001b[32m━━━━━━━━━━━━━━━━━━━━\u001b[0m\u001b[37m\u001b[0m \u001b[1m30s\u001b[0m 253ms/step - accuracy: 0.3536 - loss: 1.0980 - precision: 0.0000e+00 - recall: 0.0000e+00 - val_accuracy: 0.4222 - val_loss: 1.0970 - val_precision: 0.0000e+00 - val_recall: 0.0000e+00\n",
      "Epoch 6/30\n",
      "\u001b[1m117/117\u001b[0m \u001b[32m━━━━━━━━━━━━━━━━━━━━\u001b[0m\u001b[37m\u001b[0m \u001b[1m30s\u001b[0m 252ms/step - accuracy: 0.3736 - loss: 1.0954 - precision: 0.0155 - recall: 4.3661e-05 - val_accuracy: 0.4202 - val_loss: 1.0655 - val_precision: 0.0000e+00 - val_recall: 0.0000e+00\n",
      "Epoch 7/30\n",
      "\u001b[1m117/117\u001b[0m \u001b[32m━━━━━━━━━━━━━━━━━━━━\u001b[0m\u001b[37m\u001b[0m \u001b[1m28s\u001b[0m 236ms/step - accuracy: 0.3961 - loss: 1.0899 - precision: 0.3842 - recall: 0.0116 - val_accuracy: 0.3576 - val_loss: 1.0677 - val_precision: 0.6316 - val_recall: 0.0242\n",
      "Epoch 8/30\n",
      "\u001b[1m117/117\u001b[0m \u001b[32m━━━━━━━━━━━━━━━━━━━━\u001b[0m\u001b[37m\u001b[0m \u001b[1m30s\u001b[0m 255ms/step - accuracy: 0.4048 - loss: 1.0833 - precision: 0.5347 - recall: 0.0138 - val_accuracy: 0.4141 - val_loss: 1.0534 - val_precision: 0.6984 - val_recall: 0.0889\n",
      "Epoch 9/30\n",
      "\u001b[1m117/117\u001b[0m \u001b[32m━━━━━━━━━━━━━━━━━━━━\u001b[0m\u001b[37m\u001b[0m \u001b[1m30s\u001b[0m 255ms/step - accuracy: 0.4098 - loss: 1.0743 - precision: 0.5346 - recall: 0.0360 - val_accuracy: 0.4687 - val_loss: 1.0385 - val_precision: 0.6286 - val_recall: 0.0444\n",
      "Epoch 10/30\n",
      "\u001b[1m117/117\u001b[0m \u001b[32m━━━━━━━━━━━━━━━━━━━━\u001b[0m\u001b[37m\u001b[0m \u001b[1m28s\u001b[0m 238ms/step - accuracy: 0.4231 - loss: 1.0759 - precision: 0.4648 - recall: 0.0282 - val_accuracy: 0.4222 - val_loss: 1.0474 - val_precision: 0.6667 - val_recall: 0.0606\n",
      "Epoch 11/30\n",
      "\u001b[1m117/117\u001b[0m \u001b[32m━━━━━━━━━━━━━━━━━━━━\u001b[0m\u001b[37m\u001b[0m \u001b[1m30s\u001b[0m 254ms/step - accuracy: 0.4201 - loss: 1.0751 - precision: 0.5165 - recall: 0.0379 - val_accuracy: 0.4909 - val_loss: 1.0351 - val_precision: 0.6207 - val_recall: 0.0364\n",
      "Epoch 12/30\n",
      "\u001b[1m117/117\u001b[0m \u001b[32m━━━━━━━━━━━━━━━━━━━━\u001b[0m\u001b[37m\u001b[0m \u001b[1m30s\u001b[0m 255ms/step - accuracy: 0.4415 - loss: 1.0653 - precision: 0.5384 - recall: 0.0485 - val_accuracy: 0.4949 - val_loss: 1.0229 - val_precision: 0.6727 - val_recall: 0.0747\n",
      "Epoch 13/30\n",
      "\u001b[1m117/117\u001b[0m \u001b[32m━━━━━━━━━━━━━━━━━━━━\u001b[0m\u001b[37m\u001b[0m \u001b[1m31s\u001b[0m 260ms/step - accuracy: 0.4392 - loss: 1.0649 - precision: 0.4920 - recall: 0.0638 - val_accuracy: 0.4545 - val_loss: 1.0294 - val_precision: 0.6267 - val_recall: 0.1899\n",
      "Epoch 14/30\n",
      "\u001b[1m117/117\u001b[0m \u001b[32m━━━━━━━━━━━━━━━━━━━━\u001b[0m\u001b[37m\u001b[0m \u001b[1m30s\u001b[0m 251ms/step - accuracy: 0.4359 - loss: 1.0665 - precision: 0.4905 - recall: 0.0553 - val_accuracy: 0.4949 - val_loss: 1.0261 - val_precision: 0.6889 - val_recall: 0.0626\n",
      "Epoch 15/30\n",
      "\u001b[1m117/117\u001b[0m \u001b[32m━━━━━━━━━━━━━━━━━━━━\u001b[0m\u001b[37m\u001b[0m \u001b[1m30s\u001b[0m 255ms/step - accuracy: 0.4394 - loss: 1.0695 - precision: 0.5092 - recall: 0.0391 - val_accuracy: 0.4606 - val_loss: 1.0383 - val_precision: 0.6579 - val_recall: 0.0505\n",
      "Epoch 16/30\n",
      "\u001b[1m117/117\u001b[0m \u001b[32m━━━━━━━━━━━━━━━━━━━━\u001b[0m\u001b[37m\u001b[0m \u001b[1m29s\u001b[0m 246ms/step - accuracy: 0.4378 - loss: 1.0599 - precision: 0.5411 - recall: 0.0535 - val_accuracy: 0.4545 - val_loss: 1.0387 - val_precision: 0.6000 - val_recall: 0.0364\n",
      "Epoch 17/30\n",
      "\u001b[1m117/117\u001b[0m \u001b[32m━━━━━━━━━━━━━━━━━━━━\u001b[0m\u001b[37m\u001b[0m \u001b[1m28s\u001b[0m 237ms/step - accuracy: 0.4445 - loss: 1.0602 - precision: 0.5423 - recall: 0.0610 - val_accuracy: 0.5010 - val_loss: 1.0225 - val_precision: 0.6667 - val_recall: 0.0808\n",
      "Epoch 18/30\n",
      "\u001b[1m117/117\u001b[0m \u001b[32m━━━━━━━━━━━━━━━━━━━━\u001b[0m\u001b[37m\u001b[0m \u001b[1m30s\u001b[0m 254ms/step - accuracy: 0.4498 - loss: 1.0562 - precision: 0.5506 - recall: 0.0581 - val_accuracy: 0.4848 - val_loss: 1.0096 - val_precision: 0.6508 - val_recall: 0.1657\n",
      "Epoch 19/30\n",
      "\u001b[1m117/117\u001b[0m \u001b[32m━━━━━━━━━━━━━━━━━━━━\u001b[0m\u001b[37m\u001b[0m \u001b[1m30s\u001b[0m 253ms/step - accuracy: 0.4529 - loss: 1.0531 - precision: 0.5896 - recall: 0.1043 - val_accuracy: 0.6990 - val_loss: 0.8005 - val_precision: 0.7803 - val_recall: 0.5455\n",
      "Epoch 20/30\n",
      "\u001b[1m117/117\u001b[0m \u001b[32m━━━━━━━━━━━━━━━━━━━━\u001b[0m\u001b[37m\u001b[0m \u001b[1m28s\u001b[0m 236ms/step - accuracy: 0.6529 - loss: 0.8282 - precision: 0.7330 - recall: 0.4697 - val_accuracy: 0.7192 - val_loss: 0.6607 - val_precision: 0.7394 - val_recall: 0.6707\n",
      "Epoch 21/30\n",
      "\u001b[1m117/117\u001b[0m \u001b[32m━━━━━━━━━━━━━━━━━━━━\u001b[0m\u001b[37m\u001b[0m \u001b[1m30s\u001b[0m 256ms/step - accuracy: 0.7289 - loss: 0.6752 - precision: 0.7715 - recall: 0.6265 - val_accuracy: 0.7616 - val_loss: 0.6577 - val_precision: 0.7679 - val_recall: 0.7354\n",
      "Epoch 22/30\n",
      "\u001b[1m117/117\u001b[0m \u001b[32m━━━━━━━━━━━━━━━━━━━━\u001b[0m\u001b[37m\u001b[0m \u001b[1m30s\u001b[0m 254ms/step - accuracy: 0.7951 - loss: 0.5316 - precision: 0.8188 - recall: 0.7547 - val_accuracy: 0.7556 - val_loss: 0.6589 - val_precision: 0.7642 - val_recall: 0.7333\n",
      "Epoch 23/30\n",
      "\u001b[1m117/117\u001b[0m \u001b[32m━━━━━━━━━━━━━━━━━━━━\u001b[0m\u001b[37m\u001b[0m \u001b[1m28s\u001b[0m 236ms/step - accuracy: 0.8287 - loss: 0.4498 - precision: 0.8464 - recall: 0.7867 - val_accuracy: 0.7495 - val_loss: 0.6866 - val_precision: 0.7635 - val_recall: 0.7434\n",
      "Epoch 24/30\n",
      "\u001b[1m117/117\u001b[0m \u001b[32m━━━━━━━━━━━━━━━━━━━━\u001b[0m\u001b[37m\u001b[0m \u001b[1m30s\u001b[0m 253ms/step - accuracy: 0.8539 - loss: 0.3814 - precision: 0.8731 - recall: 0.8356 - val_accuracy: 0.7778 - val_loss: 0.7010 - val_precision: 0.7921 - val_recall: 0.7697\n",
      "Epoch 25/30\n",
      "\u001b[1m117/117\u001b[0m \u001b[32m━━━━━━━━━━━━━━━━━━━━\u001b[0m\u001b[37m\u001b[0m \u001b[1m32s\u001b[0m 269ms/step - accuracy: 0.8680 - loss: 0.3162 - precision: 0.8870 - recall: 0.8547 - val_accuracy: 0.7798 - val_loss: 0.7439 - val_precision: 0.7864 - val_recall: 0.7737\n",
      "Epoch 26/30\n",
      "\u001b[1m117/117\u001b[0m \u001b[32m━━━━━━━━━━━━━━━━━━━━\u001b[0m\u001b[37m\u001b[0m \u001b[1m28s\u001b[0m 240ms/step - accuracy: 0.8981 - loss: 0.2693 - precision: 0.9070 - recall: 0.8861 - val_accuracy: 0.7697 - val_loss: 0.8195 - val_precision: 0.7755 - val_recall: 0.7677\n",
      "Epoch 27/30\n",
      "\u001b[1m117/117\u001b[0m \u001b[32m━━━━━━━━━━━━━━━━━━━━\u001b[0m\u001b[37m\u001b[0m \u001b[1m30s\u001b[0m 251ms/step - accuracy: 0.8930 - loss: 0.2642 - precision: 0.9027 - recall: 0.8811 - val_accuracy: 0.7879 - val_loss: 0.7434 - val_precision: 0.7911 - val_recall: 0.7879\n",
      "Epoch 28/30\n",
      "\u001b[1m117/117\u001b[0m \u001b[32m━━━━━━━━━━━━━━━━━━━━\u001b[0m\u001b[37m\u001b[0m \u001b[1m30s\u001b[0m 256ms/step - accuracy: 0.9166 - loss: 0.2105 - precision: 0.9265 - recall: 0.9035 - val_accuracy: 0.8101 - val_loss: 0.8016 - val_precision: 0.8134 - val_recall: 0.8101\n",
      "Epoch 29/30\n",
      "\u001b[1m117/117\u001b[0m \u001b[32m━━━━━━━━━━━━━━━━━━━━\u001b[0m\u001b[37m\u001b[0m \u001b[1m30s\u001b[0m 255ms/step - accuracy: 0.9210 - loss: 0.2135 - precision: 0.9268 - recall: 0.9166 - val_accuracy: 0.8182 - val_loss: 0.8158 - val_precision: 0.8234 - val_recall: 0.8101\n",
      "Epoch 30/30\n",
      "\u001b[1m117/117\u001b[0m \u001b[32m━━━━━━━━━━━━━━━━━━━━\u001b[0m\u001b[37m\u001b[0m \u001b[1m28s\u001b[0m 236ms/step - accuracy: 0.9356 - loss: 0.1745 - precision: 0.9410 - recall: 0.9338 - val_accuracy: 0.8303 - val_loss: 0.9005 - val_precision: 0.8310 - val_recall: 0.8242\n",
      "Predicting on validation set...\n",
      "\u001b[1m16/16\u001b[0m \u001b[32m━━━━━━━━━━━━━━━━━━━━\u001b[0m\u001b[37m\u001b[0m \u001b[1m1s\u001b[0m 58ms/step\n",
      "Sending metrics to clearML...\n",
      "done\n"
     ]
    }
   ],
   "source": [
    "# contrast 0.5\n",
    "task_name = 'c0.5'\n",
    "sub_project_name = 'CONTRAST'\n",
    "\n",
    "augmentation_metadata = {\n",
    "    'methods': {        \n",
    "        'bnc': {\n",
    "            'parameters': {\n",
    "                'alpha': 0.5,\n",
    "                'beta': 0\n",
    "            },\n",
    "            'apply_to_percentage': 0.5  # 50% of the training images\n",
    "        }        \n",
    "    }\n",
    "}\n",
    "\n",
    "for i in range(N):\n",
    "    RUN = i + 1\n",
    "    try:\n",
    "        print(f\"Starting RUN: {RUN}\")\n",
    "        main(RUN, augmentation_metadata, task_name, sub_project_name, epochs, train_size, w1, w2)\n",
    "    except Exception as e:\n",
    "        print(f\"Error in RUN: {RUN}\")\n",
    "        print(e)\n",
    "    finally:\n",
    "        clear_output(wait=True)  # Clear the output to avoid scrolling\n",
    "        gc.collect()  # Collect garbage to avoid memory leaks"
   ]
  },
  {
   "cell_type": "markdown",
   "metadata": {},
   "source": [
    "# Weather Conditions 3"
   ]
  },
  {
   "cell_type": "code",
   "execution_count": 17,
   "metadata": {},
   "outputs": [],
   "source": [
    "w1 = 4\n",
    "w2 = 5"
   ]
  },
  {
   "cell_type": "code",
   "execution_count": 18,
   "metadata": {},
   "outputs": [
    {
     "name": "stdout",
     "output_type": "stream",
     "text": [
      "Starting RUN: 5\n",
      "Seed:  1966125503\n"
     ]
    },
    {
     "name": "stderr",
     "output_type": "stream",
     "text": [
      "c:\\github\\Third-Year-Project\\Intruder-Aircraft-Detection\\main\\tl_clf.py:79: SettingWithCopyWarning:\n",
      "\n",
      "\n",
      "A value is trying to be set on a copy of a slice from a DataFrame.\n",
      "Try using .loc[row_indexer,col_indexer] = value instead\n",
      "\n",
      "See the caveats in the documentation: https://pandas.pydata.org/pandas-docs/stable/user_guide/indexing.html#returning-a-view-versus-a-copy\n",
      "\n",
      "c:\\github\\Third-Year-Project\\Intruder-Aircraft-Detection\\main\\tl_clf.py:80: SettingWithCopyWarning:\n",
      "\n",
      "\n",
      "A value is trying to be set on a copy of a slice from a DataFrame.\n",
      "Try using .loc[row_indexer,col_indexer] = value instead\n",
      "\n",
      "See the caveats in the documentation: https://pandas.pydata.org/pandas-docs/stable/user_guide/indexing.html#returning-a-view-versus-a-copy\n",
      "\n"
     ]
    },
    {
     "name": "stdout",
     "output_type": "stream",
     "text": [
      "Removing dataset if pre-existing\n",
      "Copying training files:\n"
     ]
    },
    {
     "name": "stderr",
     "output_type": "stream",
     "text": [
      "Copying files: 100%|██████████| 5000/5000 [00:03<00:00, 1387.62it/s]\n"
     ]
    },
    {
     "name": "stdout",
     "output_type": "stream",
     "text": [
      "Copying validation files:\n"
     ]
    },
    {
     "name": "stderr",
     "output_type": "stream",
     "text": [
      "Copying files: 100%|██████████| 1000/1000 [00:01<00:00, 947.20it/s]\n"
     ]
    },
    {
     "name": "stdout",
     "output_type": "stream",
     "text": [
      "Dataset 'weather_45_2500' created at C:\\github\\Third-Year-Project\\Intruder-Aircraft-Detection\\datasets\\Custom\\weather_45_2500\n",
      "Processing train labels in weather_45_2500:\n"
     ]
    },
    {
     "name": "stderr",
     "output_type": "stream",
     "text": [
      "Processing labels: 100%|██████████| 2500/2500 [00:09<00:00, 264.29it/s]\n"
     ]
    },
    {
     "name": "stdout",
     "output_type": "stream",
     "text": [
      "Processing valid labels in weather_45_2500:\n"
     ]
    },
    {
     "name": "stderr",
     "output_type": "stream",
     "text": [
      "Processing labels: 100%|██████████| 500/500 [00:01<00:00, 273.17it/s]\n"
     ]
    },
    {
     "name": "stdout",
     "output_type": "stream",
     "text": [
      "Label correction completed.\n"
     ]
    },
    {
     "name": "stderr",
     "output_type": "stream",
     "text": [
      "Removing existing directories/files: 100%|██████████| 3/3 [00:00<00:00, 6032.08it/s]\n",
      "Copying files: 100%|██████████| 2500/2500 [00:02<00:00, 1049.67it/s]\n",
      "Copying files: 100%|██████████| 2500/2500 [00:01<00:00, 1476.70it/s]\n",
      "Applying augmentations: 100%|██████████| 1250/1250 [00:15<00:00, 82.47it/s]\n",
      "Processing images:   6%|▌         | 151/2500 [00:11<02:34, 15.24it/s]"
     ]
    },
    {
     "name": "stdout",
     "output_type": "stream",
     "text": [
      "An error occurred with C:/github/Third-Year-Project/Intruder-Aircraft-Detection/datasets/Custom/weather_45_2500\\images\\train\\28333.jpg: Expected y_min for bbox (0.47015499999999993, -0.022556500000000007, 0.890417, 0.2576185, 1) to be in the range [0.0, 1.0], got -0.022556500000000007.\n"
     ]
    },
    {
     "name": "stderr",
     "output_type": "stream",
     "text": [
      "Processing images:  12%|█▏        | 295/2500 [00:16<01:09, 31.95it/s]"
     ]
    },
    {
     "name": "stdout",
     "output_type": "stream",
     "text": [
      "An error occurred with C:/github/Third-Year-Project/Intruder-Aircraft-Detection/datasets/Custom/weather_45_2500\\images\\train\\28633.jpg: Expected x_min for bbox (-0.02121799999999996, 0.4453045, 0.937496, 1.0844475, 1) to be in the range [0.0, 1.0], got -0.02121799999999996.\n"
     ]
    },
    {
     "name": "stderr",
     "output_type": "stream",
     "text": [
      "Processing images:  13%|█▎        | 316/2500 [00:17<01:05, 33.23it/s]"
     ]
    },
    {
     "name": "stdout",
     "output_type": "stream",
     "text": [
      "An error occurred with C:/github/Third-Year-Project/Intruder-Aircraft-Detection/datasets/Custom/weather_45_2500\\images\\train\\28653.jpg: Expected x_max for bbox (0.4856945, 0.37555200000000005, 1.0210155, 0.732432, 1) to be in the range [0.0, 1.0], got 1.0210155.\n"
     ]
    },
    {
     "name": "stderr",
     "output_type": "stream",
     "text": [
      "Processing images:  13%|█▎        | 328/2500 [00:17<01:05, 32.92it/s]"
     ]
    },
    {
     "name": "stdout",
     "output_type": "stream",
     "text": [
      "An error occurred with C:/github/Third-Year-Project/Intruder-Aircraft-Detection/datasets/Custom/weather_45_2500\\images\\train\\28695.jpg: Expected y_min for bbox (0.11332400000000004, -0.011081000000000008, 0.7337899999999999, 0.402563, 1) to be in the range [0.0, 1.0], got -0.011081000000000008.\n"
     ]
    },
    {
     "name": "stderr",
     "output_type": "stream",
     "text": [
      "Processing images:  16%|█▌        | 389/2500 [00:19<01:01, 34.11it/s]"
     ]
    },
    {
     "name": "stdout",
     "output_type": "stream",
     "text": [
      "An error occurred with C:/github/Third-Year-Project/Intruder-Aircraft-Detection/datasets/Custom/weather_45_2500\\images\\train\\28830.jpg: Expected y_max for bbox (0.3830585, 0.754232, 0.8080715, 1.037574, 1) to be in the range [0.0, 1.0], got 1.037574.\n"
     ]
    },
    {
     "name": "stderr",
     "output_type": "stream",
     "text": [
      "Processing images:  16%|█▌        | 402/2500 [00:19<00:59, 35.18it/s]"
     ]
    },
    {
     "name": "stdout",
     "output_type": "stream",
     "text": [
      "An error occurred with C:/github/Third-Year-Project/Intruder-Aircraft-Detection/datasets/Custom/weather_45_2500\\images\\train\\28857.jpg: Expected y_min for bbox (0.2490575, -0.07570950000000001, 0.9783645000000001, 0.4104955, 1) to be in the range [0.0, 1.0], got -0.07570950000000001.\n"
     ]
    },
    {
     "name": "stderr",
     "output_type": "stream",
     "text": [
      "Processing images:  26%|██▌       | 643/2500 [00:27<00:54, 33.97it/s]"
     ]
    },
    {
     "name": "stdout",
     "output_type": "stream",
     "text": [
      "An error occurred with C:/github/Third-Year-Project/Intruder-Aircraft-Detection/datasets/Custom/weather_45_2500\\images\\train\\29454.jpg: Expected y_max for bbox (0.166634, 0.6343235, 0.724798, 1.0064325, 1) to be in the range [0.0, 1.0], got 1.0064325.\n"
     ]
    },
    {
     "name": "stderr",
     "output_type": "stream",
     "text": [
      "Processing images:  27%|██▋       | 676/2500 [00:28<00:53, 34.22it/s]"
     ]
    },
    {
     "name": "stdout",
     "output_type": "stream",
     "text": [
      "An error occurred with C:/github/Third-Year-Project/Intruder-Aircraft-Detection/datasets/Custom/weather_45_2500\\images\\train\\29532.jpg: Expected y_min for bbox (0.034367499999999995, -0.032188999999999995, 0.4652345, 0.25505500000000003, 1) to be in the range [0.0, 1.0], got -0.032188999999999995.\n"
     ]
    },
    {
     "name": "stderr",
     "output_type": "stream",
     "text": [
      "Processing images:  32%|███▏      | 797/2500 [00:32<00:51, 33.06it/s]"
     ]
    },
    {
     "name": "stdout",
     "output_type": "stream",
     "text": [
      "An error occurred with C:/github/Third-Year-Project/Intruder-Aircraft-Detection/datasets/Custom/weather_45_2500\\images\\train\\29815.jpg: Expected x_max for bbox (0.18880199999999997, 0.20361949999999995, 1.133998, 0.8337505, 1) to be in the range [0.0, 1.0], got 1.133998.\n"
     ]
    },
    {
     "name": "stderr",
     "output_type": "stream",
     "text": [
      "Processing images:  61%|██████    | 1530/2500 [00:54<00:28, 34.06it/s]"
     ]
    },
    {
     "name": "stdout",
     "output_type": "stream",
     "text": [
      "An error occurred with C:/github/Third-Year-Project/Intruder-Aircraft-Detection/datasets/Custom/weather_45_2500\\images\\train\\52375.jpg: Expected y_max for bbox (0.19351849999999998, 0.622445, 0.7759535, 1.010735, 2) to be in the range [0.0, 1.0], got 1.010735.\n"
     ]
    },
    {
     "name": "stderr",
     "output_type": "stream",
     "text": [
      "Processing images:  69%|██████▊   | 1715/2500 [00:59<00:23, 33.75it/s]"
     ]
    },
    {
     "name": "stdout",
     "output_type": "stream",
     "text": [
      "An error occurred with C:/github/Third-Year-Project/Intruder-Aircraft-Detection/datasets/Custom/weather_45_2500\\images\\train\\52751.jpg: Expected x_min for bbox (-0.06371850000000001, -0.10423849999999998, 0.7122185, 0.41305249999999993, 2) to be in the range [0.0, 1.0], got -0.06371850000000001.\n"
     ]
    },
    {
     "name": "stderr",
     "output_type": "stream",
     "text": [
      "Processing images:  75%|███████▍  | 1868/2500 [01:04<00:18, 34.90it/s]"
     ]
    },
    {
     "name": "stdout",
     "output_type": "stream",
     "text": [
      "An error occurred with C:/github/Third-Year-Project/Intruder-Aircraft-Detection/datasets/Custom/weather_45_2500\\images\\train\\53138.jpg: Expected x_min for bbox (-0.10308700000000004, -0.017604499999999967, 0.853993, 0.6204485, 2) to be in the range [0.0, 1.0], got -0.10308700000000004.\n"
     ]
    },
    {
     "name": "stderr",
     "output_type": "stream",
     "text": [
      "Processing images:  77%|███████▋  | 1937/2500 [01:06<00:16, 33.73it/s]"
     ]
    },
    {
     "name": "stdout",
     "output_type": "stream",
     "text": [
      "An error occurred with C:/github/Third-Year-Project/Intruder-Aircraft-Detection/datasets/Custom/weather_45_2500\\images\\train\\53264.jpg: Expected x_min for bbox (-0.12539900000000004, -0.1299795, 0.864633, 0.5300414999999999, 2) to be in the range [0.0, 1.0], got -0.12539900000000004.\n"
     ]
    },
    {
     "name": "stderr",
     "output_type": "stream",
     "text": [
      "Processing images:  79%|███████▉  | 1978/2500 [01:07<00:14, 35.56it/s]"
     ]
    },
    {
     "name": "stdout",
     "output_type": "stream",
     "text": [
      "An error occurred with C:/github/Third-Year-Project/Intruder-Aircraft-Detection/datasets/Custom/weather_45_2500\\images\\train\\53341.jpg: Expected x_min for bbox (-0.008224499999999996, 0.672373, 0.4899325, 1.004477, 2) to be in the range [0.0, 1.0], got -0.008224499999999996.\n"
     ]
    },
    {
     "name": "stderr",
     "output_type": "stream",
     "text": [
      "Processing images:  81%|████████  | 2023/2500 [01:09<00:13, 35.50it/s]"
     ]
    },
    {
     "name": "stdout",
     "output_type": "stream",
     "text": [
      "An error occurred with C:/github/Third-Year-Project/Intruder-Aircraft-Detection/datasets/Custom/weather_45_2500\\images\\train\\53420.jpg: Expected x_max for bbox (0.42271650000000005, 0.6723135, 1.0245235, 1.0735185, 2) to be in the range [0.0, 1.0], got 1.0245235.\n"
     ]
    },
    {
     "name": "stderr",
     "output_type": "stream",
     "text": [
      "Processing images:  83%|████████▎ | 2084/2500 [01:11<00:11, 34.89it/s]"
     ]
    },
    {
     "name": "stdout",
     "output_type": "stream",
     "text": [
      "An error occurred with C:/github/Third-Year-Project/Intruder-Aircraft-Detection/datasets/Custom/weather_45_2500\\images\\train\\53546.jpg: Expected x_min for bbox (-0.196893, 0.27815399999999996, 0.644803, 0.8392839999999999, 2) to be in the range [0.0, 1.0], got -0.196893.\n"
     ]
    },
    {
     "name": "stderr",
     "output_type": "stream",
     "text": [
      "Processing images: 100%|██████████| 2500/2500 [01:23<00:00, 29.96it/s]\n",
      "Processing images:   6%|▌         | 222/3750 [00:16<03:39, 16.05it/s]"
     ]
    },
    {
     "name": "stdout",
     "output_type": "stream",
     "text": [
      "An error occurred with C:/github/Third-Year-Project/Intruder-Aircraft-Detection/datasets/Custom/weather_45_2500\\images\\train-aug\\28333.jpg: Expected y_min for bbox (0.47015499999999993, -0.022556500000000007, 0.890417, 0.2576185, 1) to be in the range [0.0, 1.0], got -0.022556500000000007.\n"
     ]
    },
    {
     "name": "stderr",
     "output_type": "stream",
     "text": [
      "Processing images:  12%|█▏        | 454/3750 [00:25<01:30, 36.52it/s]"
     ]
    },
    {
     "name": "stdout",
     "output_type": "stream",
     "text": [
      "An error occurred with C:/github/Third-Year-Project/Intruder-Aircraft-Detection/datasets/Custom/weather_45_2500\\images\\train-aug\\28633-histEq.jpg: Expected x_min for bbox (-0.02121799999999996, 0.4453045, 0.937496, 1.0844475, 1) to be in the range [0.0, 1.0], got -0.02121799999999996.\n",
      "An error occurred with C:/github/Third-Year-Project/Intruder-Aircraft-Detection/datasets/Custom/weather_45_2500\\images\\train-aug\\28633.jpg: Expected x_min for bbox (-0.02121799999999996, 0.4453045, 0.937496, 1.0844475, 1) to be in the range [0.0, 1.0], got -0.02121799999999996.\n"
     ]
    },
    {
     "name": "stderr",
     "output_type": "stream",
     "text": [
      "Processing images:  13%|█▎        | 475/3750 [00:26<01:38, 33.24it/s]"
     ]
    },
    {
     "name": "stdout",
     "output_type": "stream",
     "text": [
      "An error occurred with C:/github/Third-Year-Project/Intruder-Aircraft-Detection/datasets/Custom/weather_45_2500\\images\\train-aug\\28653.jpg: Expected x_max for bbox (0.4856945, 0.37555200000000005, 1.0210155, 0.732432, 1) to be in the range [0.0, 1.0], got 1.0210155.\n"
     ]
    },
    {
     "name": "stderr",
     "output_type": "stream",
     "text": [
      "Processing images:  13%|█▎        | 496/3750 [00:26<01:39, 32.83it/s]"
     ]
    },
    {
     "name": "stdout",
     "output_type": "stream",
     "text": [
      "An error occurred with C:/github/Third-Year-Project/Intruder-Aircraft-Detection/datasets/Custom/weather_45_2500\\images\\train-aug\\28695.jpg: Expected y_min for bbox (0.11332400000000004, -0.011081000000000008, 0.7337899999999999, 0.402563, 1) to be in the range [0.0, 1.0], got -0.011081000000000008.\n"
     ]
    },
    {
     "name": "stderr",
     "output_type": "stream",
     "text": [
      "Processing images:  16%|█▌        | 584/3750 [00:29<01:32, 34.17it/s]"
     ]
    },
    {
     "name": "stdout",
     "output_type": "stream",
     "text": [
      "An error occurred with C:/github/Third-Year-Project/Intruder-Aircraft-Detection/datasets/Custom/weather_45_2500\\images\\train-aug\\28830.jpg: Expected y_max for bbox (0.3830585, 0.754232, 0.8080715, 1.037574, 1) to be in the range [0.0, 1.0], got 1.037574.\n"
     ]
    },
    {
     "name": "stderr",
     "output_type": "stream",
     "text": [
      "Processing images:  16%|█▌        | 601/3750 [00:30<01:32, 33.90it/s]"
     ]
    },
    {
     "name": "stdout",
     "output_type": "stream",
     "text": [
      "An error occurred with C:/github/Third-Year-Project/Intruder-Aircraft-Detection/datasets/Custom/weather_45_2500\\images\\train-aug\\28857.jpg: Expected y_min for bbox (0.2490575, -0.07570950000000001, 0.9783645000000001, 0.4104955, 1) to be in the range [0.0, 1.0], got -0.07570950000000001.\n"
     ]
    },
    {
     "name": "stderr",
     "output_type": "stream",
     "text": [
      "Processing images:  26%|██▌       | 963/3750 [00:42<01:21, 34.34it/s]"
     ]
    },
    {
     "name": "stdout",
     "output_type": "stream",
     "text": [
      "An error occurred with C:/github/Third-Year-Project/Intruder-Aircraft-Detection/datasets/Custom/weather_45_2500\\images\\train-aug\\29454.jpg: Expected y_max for bbox (0.166634, 0.6343235, 0.724798, 1.0064325, 1) to be in the range [0.0, 1.0], got 1.0064325.\n"
     ]
    },
    {
     "name": "stderr",
     "output_type": "stream",
     "text": [
      "Processing images:  27%|██▋       | 1024/3750 [00:43<01:23, 32.71it/s]"
     ]
    },
    {
     "name": "stdout",
     "output_type": "stream",
     "text": [
      "An error occurred with C:/github/Third-Year-Project/Intruder-Aircraft-Detection/datasets/Custom/weather_45_2500\\images\\train-aug\\29532.jpg: Expected y_min for bbox (0.034367499999999995, -0.032188999999999995, 0.4652345, 0.25505500000000003, 1) to be in the range [0.0, 1.0], got -0.032188999999999995.\n"
     ]
    },
    {
     "name": "stderr",
     "output_type": "stream",
     "text": [
      "Processing images:  32%|███▏      | 1205/3750 [00:49<01:14, 34.16it/s]"
     ]
    },
    {
     "name": "stdout",
     "output_type": "stream",
     "text": [
      "An error occurred with C:/github/Third-Year-Project/Intruder-Aircraft-Detection/datasets/Custom/weather_45_2500\\images\\train-aug\\29815.jpg: Expected x_max for bbox (0.18880199999999997, 0.20361949999999995, 1.133998, 0.8337505, 1) to be in the range [0.0, 1.0], got 1.133998.\n",
      "An error occurred with C:/github/Third-Year-Project/Intruder-Aircraft-Detection/datasets/Custom/weather_45_2500\\images\\train-aug\\29815-histEq.jpg: Expected x_max for bbox (0.18880199999999997, 0.20361949999999995, 1.133998, 0.8337505, 1) to be in the range [0.0, 1.0], got 1.133998.\n"
     ]
    },
    {
     "name": "stderr",
     "output_type": "stream",
     "text": [
      "Processing images:  61%|██████▏   | 2297/3750 [01:23<00:42, 34.41it/s]"
     ]
    },
    {
     "name": "stdout",
     "output_type": "stream",
     "text": [
      "An error occurred with C:/github/Third-Year-Project/Intruder-Aircraft-Detection/datasets/Custom/weather_45_2500\\images\\train-aug\\52375.jpg: Expected y_max for bbox (0.19351849999999998, 0.622445, 0.7759535, 1.010735, 2) to be in the range [0.0, 1.0], got 1.010735.\n"
     ]
    },
    {
     "name": "stderr",
     "output_type": "stream",
     "text": [
      "Processing images:  69%|██████▊   | 2570/3750 [01:31<00:34, 34.29it/s]"
     ]
    },
    {
     "name": "stdout",
     "output_type": "stream",
     "text": [
      "An error occurred with C:/github/Third-Year-Project/Intruder-Aircraft-Detection/datasets/Custom/weather_45_2500\\images\\train-aug\\52751.jpg: Expected x_min for bbox (-0.06371850000000001, -0.10423849999999998, 0.7122185, 0.41305249999999993, 2) to be in the range [0.0, 1.0], got -0.06371850000000001.\n",
      "An error occurred with C:/github/Third-Year-Project/Intruder-Aircraft-Detection/datasets/Custom/weather_45_2500\\images\\train-aug\\52751-histEq.jpg: Expected x_min for bbox (-0.06371850000000001, -0.10423849999999998, 0.7122185, 0.41305249999999993, 2) to be in the range [0.0, 1.0], got -0.06371850000000001.\n"
     ]
    },
    {
     "name": "stderr",
     "output_type": "stream",
     "text": [
      "Processing images:  75%|███████▍  | 2808/3750 [01:39<00:25, 36.79it/s]"
     ]
    },
    {
     "name": "stdout",
     "output_type": "stream",
     "text": [
      "An error occurred with C:/github/Third-Year-Project/Intruder-Aircraft-Detection/datasets/Custom/weather_45_2500\\images\\train-aug\\53138-histEq.jpg: Expected x_min for bbox (-0.10308700000000004, -0.017604499999999967, 0.853993, 0.6204485, 2) to be in the range [0.0, 1.0], got -0.10308700000000004.\n",
      "An error occurred with C:/github/Third-Year-Project/Intruder-Aircraft-Detection/datasets/Custom/weather_45_2500\\images\\train-aug\\53138.jpg: Expected x_min for bbox (-0.10308700000000004, -0.017604499999999967, 0.853993, 0.6204485, 2) to be in the range [0.0, 1.0], got -0.10308700000000004.\n"
     ]
    },
    {
     "name": "stderr",
     "output_type": "stream",
     "text": [
      "Processing images:  78%|███████▊  | 2910/3750 [01:42<00:24, 34.97it/s]"
     ]
    },
    {
     "name": "stdout",
     "output_type": "stream",
     "text": [
      "An error occurred with C:/github/Third-Year-Project/Intruder-Aircraft-Detection/datasets/Custom/weather_45_2500\\images\\train-aug\\53264-histEq.jpg: Expected x_min for bbox (-0.12539900000000004, -0.1299795, 0.864633, 0.5300414999999999, 2) to be in the range [0.0, 1.0], got -0.12539900000000004.\n",
      "An error occurred with C:/github/Third-Year-Project/Intruder-Aircraft-Detection/datasets/Custom/weather_45_2500\\images\\train-aug\\53264.jpg: Expected x_min for bbox (-0.12539900000000004, -0.1299795, 0.864633, 0.5300414999999999, 2) to be in the range [0.0, 1.0], got -0.12539900000000004.\n"
     ]
    },
    {
     "name": "stderr",
     "output_type": "stream",
     "text": [
      "Processing images:  79%|███████▉  | 2971/3750 [01:44<00:22, 34.46it/s]"
     ]
    },
    {
     "name": "stdout",
     "output_type": "stream",
     "text": [
      "An error occurred with C:/github/Third-Year-Project/Intruder-Aircraft-Detection/datasets/Custom/weather_45_2500\\images\\train-aug\\53341.jpg: Expected x_min for bbox (-0.008224499999999996, 0.672373, 0.4899325, 1.004477, 2) to be in the range [0.0, 1.0], got -0.008224499999999996.\n"
     ]
    },
    {
     "name": "stderr",
     "output_type": "stream",
     "text": [
      "Processing images:  81%|████████  | 3036/3750 [01:46<00:20, 34.55it/s]"
     ]
    },
    {
     "name": "stdout",
     "output_type": "stream",
     "text": [
      "An error occurred with C:/github/Third-Year-Project/Intruder-Aircraft-Detection/datasets/Custom/weather_45_2500\\images\\train-aug\\53420.jpg: Expected x_max for bbox (0.42271650000000005, 0.6723135, 1.0245235, 1.0735185, 2) to be in the range [0.0, 1.0], got 1.0245235.\n"
     ]
    },
    {
     "name": "stderr",
     "output_type": "stream",
     "text": [
      "Processing images:  83%|████████▎ | 3124/3750 [01:48<00:19, 31.40it/s]"
     ]
    },
    {
     "name": "stdout",
     "output_type": "stream",
     "text": [
      "An error occurred with C:/github/Third-Year-Project/Intruder-Aircraft-Detection/datasets/Custom/weather_45_2500\\images\\train-aug\\53546.jpg: Expected x_min for bbox (-0.196893, 0.27815399999999996, 0.644803, 0.8392839999999999, 2) to be in the range [0.0, 1.0], got -0.196893.\n"
     ]
    },
    {
     "name": "stderr",
     "output_type": "stream",
     "text": [
      "Processing images: 100%|██████████| 3750/3750 [02:07<00:00, 29.38it/s]\n",
      "Processing images:  20%|██        | 101/500 [00:04<00:12, 32.82it/s]"
     ]
    },
    {
     "name": "stdout",
     "output_type": "stream",
     "text": [
      "An error occurred with C:/github/Third-Year-Project/Intruder-Aircraft-Detection/datasets/Custom/weather_45_2500\\images\\valid\\29918.jpg: Expected y_max for bbox (0.4077075, 0.7077145, 0.8470265, 1.0005935, 1) to be in the range [0.0, 1.0], got 1.0005935.\n"
     ]
    },
    {
     "name": "stderr",
     "output_type": "stream",
     "text": [
      "Processing images:  53%|█████▎    | 266/500 [00:09<00:06, 34.42it/s]"
     ]
    },
    {
     "name": "stdout",
     "output_type": "stream",
     "text": [
      "An error occurred with C:/github/Third-Year-Project/Intruder-Aircraft-Detection/datasets/Custom/weather_45_2500\\images\\valid\\52916.jpg: In YOLO format all coordinates must be float and in range (0, 1]\n"
     ]
    },
    {
     "name": "stderr",
     "output_type": "stream",
     "text": [
      "Processing images:  56%|█████▌    | 279/500 [00:10<00:06, 34.11it/s]"
     ]
    },
    {
     "name": "stdout",
     "output_type": "stream",
     "text": [
      "An error occurred with C:/github/Third-Year-Project/Intruder-Aircraft-Detection/datasets/Custom/weather_45_2500\\images\\valid\\52925.jpg: Expected x_min for bbox (-0.17107, 0.23527800000000004, 0.669476, 0.795642, 2) to be in the range [0.0, 1.0], got -0.17107.\n"
     ]
    },
    {
     "name": "stderr",
     "output_type": "stream",
     "text": [
      "Processing images: 100%|██████████| 500/500 [00:16<00:00, 29.86it/s]\n",
      "Moving images in train: 100%|██████████| 2484/2484 [00:08<00:00, 283.21it/s]\n",
      "Moving images in train-aug: 100%|██████████| 3729/3729 [00:10<00:00, 351.57it/s]\n",
      "Moving images in valid: 100%|██████████| 497/497 [00:01<00:00, 280.93it/s]\n"
     ]
    },
    {
     "name": "stdout",
     "output_type": "stream",
     "text": [
      "Found 2484 files belonging to 3 classes.\n",
      "Found 3729 files belonging to 3 classes.\n",
      "Found 497 files belonging to 3 classes.\n",
      "ClearML Task: created new task id=ad8b8d0b05864eb3a8f815926db74f0e\n",
      "ClearML results page: https://app.clear.ml/projects/62a798cfc814437d80f9638b3e3aca6d/experiments/ad8b8d0b05864eb3a8f815926db74f0e/output/log\n",
      "Training model...\n",
      "Epoch 1/30\n",
      "\u001b[1m78/78\u001b[0m \u001b[32m━━━━━━━━━━━━━━━━━━━━\u001b[0m\u001b[37m\u001b[0m \u001b[1m23s\u001b[0m 271ms/step - accuracy: 0.3072 - loss: 1.5414 - precision: 0.2730 - recall: 0.0643 - val_accuracy: 0.3300 - val_loss: 1.0986 - val_precision: 0.0000e+00 - val_recall: 0.0000e+00\n",
      "Epoch 2/30\n",
      "\u001b[1m78/78\u001b[0m \u001b[32m━━━━━━━━━━━━━━━━━━━━\u001b[0m\u001b[37m\u001b[0m \u001b[1m19s\u001b[0m 237ms/step - accuracy: 0.3257 - loss: 1.0987 - precision: 0.0000e+00 - recall: 0.0000e+00 - val_accuracy: 0.3360 - val_loss: 1.0986 - val_precision: 0.0000e+00 - val_recall: 0.0000e+00\n",
      "Epoch 3/30\n",
      "\u001b[1m78/78\u001b[0m \u001b[32m━━━━━━━━━━━━━━━━━━━━\u001b[0m\u001b[37m\u001b[0m \u001b[1m21s\u001b[0m 265ms/step - accuracy: 0.3252 - loss: 1.0989 - precision: 0.0000e+00 - recall: 0.0000e+00 - val_accuracy: 0.3360 - val_loss: 1.0986 - val_precision: 0.0000e+00 - val_recall: 0.0000e+00\n",
      "Epoch 4/30\n",
      "\u001b[1m78/78\u001b[0m \u001b[32m━━━━━━━━━━━━━━━━━━━━\u001b[0m\u001b[37m\u001b[0m \u001b[1m19s\u001b[0m 238ms/step - accuracy: 0.3129 - loss: 1.0989 - precision: 0.0000e+00 - recall: 0.0000e+00 - val_accuracy: 0.3360 - val_loss: 1.0984 - val_precision: 0.0000e+00 - val_recall: 0.0000e+00\n",
      "Epoch 5/30\n",
      "\u001b[1m78/78\u001b[0m \u001b[32m━━━━━━━━━━━━━━━━━━━━\u001b[0m\u001b[37m\u001b[0m \u001b[1m21s\u001b[0m 268ms/step - accuracy: 0.3340 - loss: 1.0988 - precision: 0.0000e+00 - recall: 0.0000e+00 - val_accuracy: 0.3360 - val_loss: 1.0983 - val_precision: 0.0000e+00 - val_recall: 0.0000e+00\n",
      "Epoch 6/30\n",
      "\u001b[1m78/78\u001b[0m \u001b[32m━━━━━━━━━━━━━━━━━━━━\u001b[0m\u001b[37m\u001b[0m \u001b[1m19s\u001b[0m 238ms/step - accuracy: 0.3460 - loss: 1.0986 - precision: 0.0475 - recall: 1.5577e-04 - val_accuracy: 0.3521 - val_loss: 1.0952 - val_precision: 0.0000e+00 - val_recall: 0.0000e+00\n",
      "Epoch 7/30\n",
      "\u001b[1m78/78\u001b[0m \u001b[32m━━━━━━━━━━━━━━━━━━━━\u001b[0m\u001b[37m\u001b[0m \u001b[1m21s\u001b[0m 267ms/step - accuracy: 0.4216 - loss: 1.0529 - precision: 0.7007 - recall: 0.0775 - val_accuracy: 0.6338 - val_loss: 0.8667 - val_precision: 0.7477 - val_recall: 0.3219\n",
      "Epoch 8/30\n",
      "\u001b[1m78/78\u001b[0m \u001b[32m━━━━━━━━━━━━━━━━━━━━\u001b[0m\u001b[37m\u001b[0m \u001b[1m19s\u001b[0m 237ms/step - accuracy: 0.6622 - loss: 0.7730 - precision: 0.7268 - recall: 0.4987 - val_accuracy: 0.7364 - val_loss: 0.6719 - val_precision: 0.7802 - val_recall: 0.6499\n",
      "Epoch 9/30\n",
      "\u001b[1m78/78\u001b[0m \u001b[32m━━━━━━━━━━━━━━━━━━━━\u001b[0m\u001b[37m\u001b[0m \u001b[1m21s\u001b[0m 266ms/step - accuracy: 0.7719 - loss: 0.5686 - precision: 0.7935 - recall: 0.7248 - val_accuracy: 0.7505 - val_loss: 0.6247 - val_precision: 0.8020 - val_recall: 0.6519\n",
      "Epoch 10/30\n",
      "\u001b[1m78/78\u001b[0m \u001b[32m━━━━━━━━━━━━━━━━━━━━\u001b[0m\u001b[37m\u001b[0m \u001b[1m19s\u001b[0m 238ms/step - accuracy: 0.7852 - loss: 0.5207 - precision: 0.8067 - recall: 0.7427 - val_accuracy: 0.7988 - val_loss: 0.5571 - val_precision: 0.8118 - val_recall: 0.7726\n",
      "Epoch 11/30\n",
      "\u001b[1m78/78\u001b[0m \u001b[32m━━━━━━━━━━━━━━━━━━━━\u001b[0m\u001b[37m\u001b[0m \u001b[1m21s\u001b[0m 267ms/step - accuracy: 0.8316 - loss: 0.4156 - precision: 0.8478 - recall: 0.8151 - val_accuracy: 0.8169 - val_loss: 0.5371 - val_precision: 0.8205 - val_recall: 0.7907\n",
      "Epoch 12/30\n",
      "\u001b[1m78/78\u001b[0m \u001b[32m━━━━━━━━━━━━━━━━━━━━\u001b[0m\u001b[37m\u001b[0m \u001b[1m19s\u001b[0m 239ms/step - accuracy: 0.8399 - loss: 0.3913 - precision: 0.8531 - recall: 0.8277 - val_accuracy: 0.8209 - val_loss: 0.5546 - val_precision: 0.8323 - val_recall: 0.8089\n",
      "Epoch 13/30\n",
      "\u001b[1m78/78\u001b[0m \u001b[32m━━━━━━━━━━━━━━━━━━━━\u001b[0m\u001b[37m\u001b[0m \u001b[1m21s\u001b[0m 270ms/step - accuracy: 0.8621 - loss: 0.3332 - precision: 0.8707 - recall: 0.8526 - val_accuracy: 0.8129 - val_loss: 0.5808 - val_precision: 0.8143 - val_recall: 0.8028\n",
      "Epoch 14/30\n",
      "\u001b[1m78/78\u001b[0m \u001b[32m━━━━━━━━━━━━━━━━━━━━\u001b[0m\u001b[37m\u001b[0m \u001b[1m19s\u001b[0m 239ms/step - accuracy: 0.8862 - loss: 0.2918 - precision: 0.8914 - recall: 0.8803 - val_accuracy: 0.8189 - val_loss: 0.5572 - val_precision: 0.8210 - val_recall: 0.8028\n",
      "Epoch 15/30\n",
      "\u001b[1m78/78\u001b[0m \u001b[32m━━━━━━━━━━━━━━━━━━━━\u001b[0m\u001b[37m\u001b[0m \u001b[1m20s\u001b[0m 248ms/step - accuracy: 0.9202 - loss: 0.2478 - precision: 0.9256 - recall: 0.9122 - val_accuracy: 0.8008 - val_loss: 0.6384 - val_precision: 0.8140 - val_recall: 0.7928\n",
      "Epoch 16/30\n",
      "\u001b[1m78/78\u001b[0m \u001b[32m━━━━━━━━━━━━━━━━━━━━\u001b[0m\u001b[37m\u001b[0m \u001b[1m20s\u001b[0m 254ms/step - accuracy: 0.9130 - loss: 0.2438 - precision: 0.9188 - recall: 0.9045 - val_accuracy: 0.8330 - val_loss: 0.5827 - val_precision: 0.8425 - val_recall: 0.8290\n",
      "Epoch 17/30\n",
      "\u001b[1m78/78\u001b[0m \u001b[32m━━━━━━━━━━━━━━━━━━━━\u001b[0m\u001b[37m\u001b[0m \u001b[1m19s\u001b[0m 245ms/step - accuracy: 0.9287 - loss: 0.2192 - precision: 0.9315 - recall: 0.9225 - val_accuracy: 0.8290 - val_loss: 0.6543 - val_precision: 0.8354 - val_recall: 0.8270\n",
      "Epoch 18/30\n",
      "\u001b[1m78/78\u001b[0m \u001b[32m━━━━━━━━━━━━━━━━━━━━\u001b[0m\u001b[37m\u001b[0m \u001b[1m22s\u001b[0m 281ms/step - accuracy: 0.9266 - loss: 0.1797 - precision: 0.9319 - recall: 0.9246 - val_accuracy: 0.8310 - val_loss: 0.6130 - val_precision: 0.8361 - val_recall: 0.8209\n",
      "Epoch 19/30\n",
      "\u001b[1m78/78\u001b[0m \u001b[32m━━━━━━━━━━━━━━━━━━━━\u001b[0m\u001b[37m\u001b[0m \u001b[1m19s\u001b[0m 238ms/step - accuracy: 0.9460 - loss: 0.1594 - precision: 0.9480 - recall: 0.9434 - val_accuracy: 0.8229 - val_loss: 0.5808 - val_precision: 0.8289 - val_recall: 0.8089\n",
      "Epoch 20/30\n",
      "\u001b[1m78/78\u001b[0m \u001b[32m━━━━━━━━━━━━━━━━━━━━\u001b[0m\u001b[37m\u001b[0m \u001b[1m21s\u001b[0m 271ms/step - accuracy: 0.9404 - loss: 0.1715 - precision: 0.9469 - recall: 0.9377 - val_accuracy: 0.8270 - val_loss: 0.6921 - val_precision: 0.8276 - val_recall: 0.8209\n",
      "Epoch 21/30\n",
      "\u001b[1m78/78\u001b[0m \u001b[32m━━━━━━━━━━━━━━━━━━━━\u001b[0m\u001b[37m\u001b[0m \u001b[1m19s\u001b[0m 239ms/step - accuracy: 0.9454 - loss: 0.1491 - precision: 0.9505 - recall: 0.9417 - val_accuracy: 0.8189 - val_loss: 0.6243 - val_precision: 0.8228 - val_recall: 0.8129\n",
      "Epoch 22/30\n",
      "\u001b[1m78/78\u001b[0m \u001b[32m━━━━━━━━━━━━━━━━━━━━\u001b[0m\u001b[37m\u001b[0m \u001b[1m21s\u001b[0m 268ms/step - accuracy: 0.9481 - loss: 0.1535 - precision: 0.9524 - recall: 0.9426 - val_accuracy: 0.8390 - val_loss: 0.6329 - val_precision: 0.8463 - val_recall: 0.8310\n",
      "Epoch 23/30\n",
      "\u001b[1m78/78\u001b[0m \u001b[32m━━━━━━━━━━━━━━━━━━━━\u001b[0m\u001b[37m\u001b[0m \u001b[1m19s\u001b[0m 238ms/step - accuracy: 0.9487 - loss: 0.1364 - precision: 0.9528 - recall: 0.9454 - val_accuracy: 0.8149 - val_loss: 0.6555 - val_precision: 0.8238 - val_recall: 0.8089\n",
      "Epoch 24/30\n",
      "\u001b[1m78/78\u001b[0m \u001b[32m━━━━━━━━━━━━━━━━━━━━\u001b[0m\u001b[37m\u001b[0m \u001b[1m21s\u001b[0m 268ms/step - accuracy: 0.9540 - loss: 0.1366 - precision: 0.9573 - recall: 0.9471 - val_accuracy: 0.8209 - val_loss: 0.8510 - val_precision: 0.8265 - val_recall: 0.8149\n",
      "Epoch 25/30\n",
      "\u001b[1m78/78\u001b[0m \u001b[32m━━━━━━━━━━━━━━━━━━━━\u001b[0m\u001b[37m\u001b[0m \u001b[1m19s\u001b[0m 239ms/step - accuracy: 0.9678 - loss: 0.1013 - precision: 0.9679 - recall: 0.9635 - val_accuracy: 0.8089 - val_loss: 0.6975 - val_precision: 0.8172 - val_recall: 0.8008\n",
      "Epoch 26/30\n",
      "\u001b[1m78/78\u001b[0m \u001b[32m━━━━━━━━━━━━━━━━━━━━\u001b[0m\u001b[37m\u001b[0m \u001b[1m21s\u001b[0m 267ms/step - accuracy: 0.9522 - loss: 0.1235 - precision: 0.9540 - recall: 0.9502 - val_accuracy: 0.8290 - val_loss: 0.8124 - val_precision: 0.8357 - val_recall: 0.8290\n",
      "Epoch 27/30\n",
      "\u001b[1m78/78\u001b[0m \u001b[32m━━━━━━━━━━━━━━━━━━━━\u001b[0m\u001b[37m\u001b[0m \u001b[1m19s\u001b[0m 239ms/step - accuracy: 0.9685 - loss: 0.0978 - precision: 0.9710 - recall: 0.9643 - val_accuracy: 0.8048 - val_loss: 0.8191 - val_precision: 0.8061 - val_recall: 0.8028\n",
      "Epoch 28/30\n",
      "\u001b[1m78/78\u001b[0m \u001b[32m━━━━━━━━━━━━━━━━━━━━\u001b[0m\u001b[37m\u001b[0m \u001b[1m21s\u001b[0m 266ms/step - accuracy: 0.9705 - loss: 0.0859 - precision: 0.9732 - recall: 0.9694 - val_accuracy: 0.8270 - val_loss: 0.8684 - val_precision: 0.8333 - val_recall: 0.8249\n",
      "Epoch 29/30\n",
      "\u001b[1m78/78\u001b[0m \u001b[32m━━━━━━━━━━━━━━━━━━━━\u001b[0m\u001b[37m\u001b[0m \u001b[1m19s\u001b[0m 236ms/step - accuracy: 0.9748 - loss: 0.0765 - precision: 0.9766 - recall: 0.9705 - val_accuracy: 0.8229 - val_loss: 0.9615 - val_precision: 0.8279 - val_recall: 0.8229\n",
      "Epoch 30/30\n",
      "\u001b[1m78/78\u001b[0m \u001b[32m━━━━━━━━━━━━━━━━━━━━\u001b[0m\u001b[37m\u001b[0m \u001b[1m21s\u001b[0m 268ms/step - accuracy: 0.9828 - loss: 0.0526 - precision: 0.9841 - recall: 0.9818 - val_accuracy: 0.8008 - val_loss: 1.0506 - val_precision: 0.8061 - val_recall: 0.7948\n",
      "Predicting on validation set...\n",
      "\u001b[1m16/16\u001b[0m \u001b[32m━━━━━━━━━━━━━━━━━━━━\u001b[0m\u001b[37m\u001b[0m \u001b[1m1s\u001b[0m 56ms/step\n",
      "Sending metrics to clearML...\n",
      "done\n",
      "ClearML Task: created new task id=195bd37c8a12494289a034dcc1df284f\n",
      "ClearML results page: https://app.clear.ml/projects/62a798cfc814437d80f9638b3e3aca6d/experiments/195bd37c8a12494289a034dcc1df284f/output/log\n",
      "Training model...\n",
      "Epoch 1/30\n",
      "\u001b[1m117/117\u001b[0m \u001b[32m━━━━━━━━━━━━━━━━━━━━\u001b[0m\u001b[37m\u001b[0m \u001b[1m34s\u001b[0m 275ms/step - accuracy: 0.3181 - loss: 1.5762 - precision: 0.2582 - recall: 0.0259 - val_accuracy: 0.3360 - val_loss: 1.0985 - val_precision: 0.0000e+00 - val_recall: 0.0000e+00\n",
      "Epoch 2/30\n",
      "\u001b[1m117/117\u001b[0m \u001b[32m━━━━━━━━━━━━━━━━━━━━\u001b[0m\u001b[37m\u001b[0m \u001b[1m30s\u001b[0m 256ms/step - accuracy: 0.4006 - loss: 1.1056 - precision: 0.2699 - recall: 0.0047 - val_accuracy: 0.5835 - val_loss: 1.0283 - val_precision: 0.8438 - val_recall: 0.0543\n",
      "Epoch 3/30\n",
      "\u001b[1m117/117\u001b[0m \u001b[32m━━━━━━━━━━━━━━━━━━━━\u001b[0m\u001b[37m\u001b[0m \u001b[1m28s\u001b[0m 240ms/step - accuracy: 0.5647 - loss: 0.9646 - precision: 0.6968 - recall: 0.2392 - val_accuracy: 0.7203 - val_loss: 0.7662 - val_precision: 0.7875 - val_recall: 0.5070\n",
      "Epoch 4/30\n",
      "\u001b[1m117/117\u001b[0m \u001b[32m━━━━━━━━━━━━━━━━━━━━\u001b[0m\u001b[37m\u001b[0m \u001b[1m29s\u001b[0m 249ms/step - accuracy: 0.7220 - loss: 0.6809 - precision: 0.7663 - recall: 0.6269 - val_accuracy: 0.7525 - val_loss: 0.6514 - val_precision: 0.7734 - val_recall: 0.7143\n",
      "Epoch 5/30\n",
      "\u001b[1m117/117\u001b[0m \u001b[32m━━━━━━━━━━━━━━━━━━━━\u001b[0m\u001b[37m\u001b[0m \u001b[1m30s\u001b[0m 254ms/step - accuracy: 0.7859 - loss: 0.5254 - precision: 0.8057 - recall: 0.7527 - val_accuracy: 0.7525 - val_loss: 0.5990 - val_precision: 0.7710 - val_recall: 0.7384\n",
      "Epoch 6/30\n",
      "\u001b[1m117/117\u001b[0m \u001b[32m━━━━━━━━━━━━━━━━━━━━\u001b[0m\u001b[37m\u001b[0m \u001b[1m30s\u001b[0m 252ms/step - accuracy: 0.8154 - loss: 0.4626 - precision: 0.8281 - recall: 0.7952 - val_accuracy: 0.7887 - val_loss: 0.5752 - val_precision: 0.8021 - val_recall: 0.7746\n",
      "Epoch 7/30\n",
      "\u001b[1m117/117\u001b[0m \u001b[32m━━━━━━━━━━━━━━━━━━━━\u001b[0m\u001b[37m\u001b[0m \u001b[1m28s\u001b[0m 236ms/step - accuracy: 0.8563 - loss: 0.3585 - precision: 0.8629 - recall: 0.8451 - val_accuracy: 0.7948 - val_loss: 0.5609 - val_precision: 0.8004 - val_recall: 0.7746\n",
      "Epoch 8/30\n",
      "\u001b[1m117/117\u001b[0m \u001b[32m━━━━━━━━━━━━━━━━━━━━\u001b[0m\u001b[37m\u001b[0m \u001b[1m30s\u001b[0m 255ms/step - accuracy: 0.8750 - loss: 0.3208 - precision: 0.8815 - recall: 0.8645 - val_accuracy: 0.8129 - val_loss: 0.5293 - val_precision: 0.8217 - val_recall: 0.8068\n",
      "Epoch 9/30\n",
      "\u001b[1m117/117\u001b[0m \u001b[32m━━━━━━━━━━━━━━━━━━━━\u001b[0m\u001b[37m\u001b[0m \u001b[1m30s\u001b[0m 254ms/step - accuracy: 0.8964 - loss: 0.2773 - precision: 0.9030 - recall: 0.8895 - val_accuracy: 0.8169 - val_loss: 0.5779 - val_precision: 0.8224 - val_recall: 0.8109\n",
      "Epoch 10/30\n",
      "\u001b[1m117/117\u001b[0m \u001b[32m━━━━━━━━━━━━━━━━━━━━\u001b[0m\u001b[37m\u001b[0m \u001b[1m28s\u001b[0m 235ms/step - accuracy: 0.9038 - loss: 0.2699 - precision: 0.9096 - recall: 0.8955 - val_accuracy: 0.8290 - val_loss: 0.6422 - val_precision: 0.8333 - val_recall: 0.8249\n",
      "Epoch 11/30\n",
      "\u001b[1m117/117\u001b[0m \u001b[32m━━━━━━━━━━━━━━━━━━━━\u001b[0m\u001b[37m\u001b[0m \u001b[1m30s\u001b[0m 257ms/step - accuracy: 0.9258 - loss: 0.2131 - precision: 0.9349 - recall: 0.9200 - val_accuracy: 0.8370 - val_loss: 0.6355 - val_precision: 0.8367 - val_recall: 0.8350\n",
      "Epoch 12/30\n",
      "\u001b[1m117/117\u001b[0m \u001b[32m━━━━━━━━━━━━━━━━━━━━\u001b[0m\u001b[37m\u001b[0m \u001b[1m32s\u001b[0m 269ms/step - accuracy: 0.9418 - loss: 0.1739 - precision: 0.9469 - recall: 0.9390 - val_accuracy: 0.8451 - val_loss: 0.6648 - val_precision: 0.8513 - val_recall: 0.8410\n",
      "Epoch 13/30\n",
      "\u001b[1m117/117\u001b[0m \u001b[32m━━━━━━━━━━━━━━━━━━━━\u001b[0m\u001b[37m\u001b[0m \u001b[1m28s\u001b[0m 240ms/step - accuracy: 0.9417 - loss: 0.1589 - precision: 0.9438 - recall: 0.9406 - val_accuracy: 0.8350 - val_loss: 0.7250 - val_precision: 0.8381 - val_recall: 0.8330\n",
      "Epoch 14/30\n",
      "\u001b[1m117/117\u001b[0m \u001b[32m━━━━━━━━━━━━━━━━━━━━\u001b[0m\u001b[37m\u001b[0m \u001b[1m29s\u001b[0m 249ms/step - accuracy: 0.9487 - loss: 0.1401 - precision: 0.9537 - recall: 0.9463 - val_accuracy: 0.8471 - val_loss: 0.7773 - val_precision: 0.8537 - val_recall: 0.8451\n",
      "Epoch 15/30\n",
      "\u001b[1m117/117\u001b[0m \u001b[32m━━━━━━━━━━━━━━━━━━━━\u001b[0m\u001b[37m\u001b[0m \u001b[1m30s\u001b[0m 254ms/step - accuracy: 0.9605 - loss: 0.1208 - precision: 0.9629 - recall: 0.9583 - val_accuracy: 0.8531 - val_loss: 0.7561 - val_precision: 0.8531 - val_recall: 0.8531\n",
      "Epoch 16/30\n",
      "\u001b[1m117/117\u001b[0m \u001b[32m━━━━━━━━━━━━━━━━━━━━\u001b[0m\u001b[37m\u001b[0m \u001b[1m28s\u001b[0m 239ms/step - accuracy: 0.9632 - loss: 0.1145 - precision: 0.9656 - recall: 0.9599 - val_accuracy: 0.8370 - val_loss: 0.8102 - val_precision: 0.8387 - val_recall: 0.8370\n",
      "Epoch 17/30\n",
      "\u001b[1m117/117\u001b[0m \u001b[32m━━━━━━━━━━━━━━━━━━━━\u001b[0m\u001b[37m\u001b[0m \u001b[1m29s\u001b[0m 247ms/step - accuracy: 0.9527 - loss: 0.1394 - precision: 0.9559 - recall: 0.9492 - val_accuracy: 0.8350 - val_loss: 0.8595 - val_precision: 0.8398 - val_recall: 0.8330\n",
      "Epoch 18/30\n",
      "\u001b[1m117/117\u001b[0m \u001b[32m━━━━━━━━━━━━━━━━━━━━\u001b[0m\u001b[37m\u001b[0m \u001b[1m30s\u001b[0m 255ms/step - accuracy: 0.9644 - loss: 0.1036 - precision: 0.9652 - recall: 0.9626 - val_accuracy: 0.8431 - val_loss: 0.8158 - val_precision: 0.8424 - val_recall: 0.8390\n",
      "Epoch 19/30\n",
      "\u001b[1m117/117\u001b[0m \u001b[32m━━━━━━━━━━━━━━━━━━━━\u001b[0m\u001b[37m\u001b[0m \u001b[1m30s\u001b[0m 256ms/step - accuracy: 0.9668 - loss: 0.0928 - precision: 0.9685 - recall: 0.9654 - val_accuracy: 0.8370 - val_loss: 0.9339 - val_precision: 0.8370 - val_recall: 0.8370\n",
      "Epoch 20/30\n",
      "\u001b[1m117/117\u001b[0m \u001b[32m━━━━━━━━━━━━━━━━━━━━\u001b[0m\u001b[37m\u001b[0m \u001b[1m28s\u001b[0m 236ms/step - accuracy: 0.9751 - loss: 0.0791 - precision: 0.9777 - recall: 0.9722 - val_accuracy: 0.8169 - val_loss: 0.8848 - val_precision: 0.8178 - val_recall: 0.8129\n",
      "Epoch 21/30\n",
      "\u001b[1m117/117\u001b[0m \u001b[32m━━━━━━━━━━━━━━━━━━━━\u001b[0m\u001b[37m\u001b[0m \u001b[1m30s\u001b[0m 253ms/step - accuracy: 0.9767 - loss: 0.0650 - precision: 0.9796 - recall: 0.9756 - val_accuracy: 0.8290 - val_loss: 0.9812 - val_precision: 0.8323 - val_recall: 0.8290\n",
      "Epoch 22/30\n",
      "\u001b[1m117/117\u001b[0m \u001b[32m━━━━━━━━━━━━━━━━━━━━\u001b[0m\u001b[37m\u001b[0m \u001b[1m30s\u001b[0m 255ms/step - accuracy: 0.9782 - loss: 0.0654 - precision: 0.9800 - recall: 0.9774 - val_accuracy: 0.8189 - val_loss: 0.8791 - val_precision: 0.8202 - val_recall: 0.8169\n",
      "Epoch 23/30\n",
      "\u001b[1m117/117\u001b[0m \u001b[32m━━━━━━━━━━━━━━━━━━━━\u001b[0m\u001b[37m\u001b[0m \u001b[1m28s\u001b[0m 236ms/step - accuracy: 0.9727 - loss: 0.0829 - precision: 0.9760 - recall: 0.9712 - val_accuracy: 0.8209 - val_loss: 1.0854 - val_precision: 0.8242 - val_recall: 0.8209\n",
      "Epoch 24/30\n",
      "\u001b[1m117/117\u001b[0m \u001b[32m━━━━━━━━━━━━━━━━━━━━\u001b[0m\u001b[37m\u001b[0m \u001b[1m30s\u001b[0m 254ms/step - accuracy: 0.9840 - loss: 0.0495 - precision: 0.9851 - recall: 0.9832 - val_accuracy: 0.8370 - val_loss: 1.0417 - val_precision: 0.8404 - val_recall: 0.8370\n",
      "Epoch 25/30\n",
      "\u001b[1m117/117\u001b[0m \u001b[32m━━━━━━━━━━━━━━━━━━━━\u001b[0m\u001b[37m\u001b[0m \u001b[1m32s\u001b[0m 269ms/step - accuracy: 0.9870 - loss: 0.0460 - precision: 0.9876 - recall: 0.9866 - val_accuracy: 0.8350 - val_loss: 1.3648 - val_precision: 0.8347 - val_recall: 0.8330\n",
      "Epoch 26/30\n",
      "\u001b[1m117/117\u001b[0m \u001b[32m━━━━━━━━━━━━━━━━━━━━\u001b[0m\u001b[37m\u001b[0m \u001b[1m28s\u001b[0m 239ms/step - accuracy: 0.9814 - loss: 0.0659 - precision: 0.9832 - recall: 0.9799 - val_accuracy: 0.8330 - val_loss: 1.2257 - val_precision: 0.8327 - val_recall: 0.8310\n",
      "Epoch 27/30\n",
      "\u001b[1m117/117\u001b[0m \u001b[32m━━━━━━━━━━━━━━━━━━━━\u001b[0m\u001b[37m\u001b[0m \u001b[1m30s\u001b[0m 249ms/step - accuracy: 0.9903 - loss: 0.0402 - precision: 0.9906 - recall: 0.9893 - val_accuracy: 0.8350 - val_loss: 1.2937 - val_precision: 0.8350 - val_recall: 0.8350\n",
      "Epoch 28/30\n",
      "\u001b[1m117/117\u001b[0m \u001b[32m━━━━━━━━━━━━━━━━━━━━\u001b[0m\u001b[37m\u001b[0m \u001b[1m30s\u001b[0m 254ms/step - accuracy: 0.9641 - loss: 0.1041 - precision: 0.9674 - recall: 0.9604 - val_accuracy: 0.8109 - val_loss: 0.9780 - val_precision: 0.8121 - val_recall: 0.8089\n",
      "Epoch 29/30\n",
      "\u001b[1m117/117\u001b[0m \u001b[32m━━━━━━━━━━━━━━━━━━━━\u001b[0m\u001b[37m\u001b[0m \u001b[1m28s\u001b[0m 239ms/step - accuracy: 0.9723 - loss: 0.0789 - precision: 0.9733 - recall: 0.9713 - val_accuracy: 0.8471 - val_loss: 1.1523 - val_precision: 0.8468 - val_recall: 0.8451\n",
      "Epoch 30/30\n",
      "\u001b[1m117/117\u001b[0m \u001b[32m━━━━━━━━━━━━━━━━━━━━\u001b[0m\u001b[37m\u001b[0m \u001b[1m30s\u001b[0m 249ms/step - accuracy: 0.9840 - loss: 0.0429 - precision: 0.9850 - recall: 0.9833 - val_accuracy: 0.8531 - val_loss: 1.1203 - val_precision: 0.8563 - val_recall: 0.8511\n",
      "Predicting on validation set...\n",
      "\u001b[1m16/16\u001b[0m \u001b[32m━━━━━━━━━━━━━━━━━━━━\u001b[0m\u001b[37m\u001b[0m \u001b[1m1s\u001b[0m 55ms/step\n",
      "Sending metrics to clearML...\n",
      "done\n"
     ]
    }
   ],
   "source": [
    "# histeq augmentation\n",
    "task_name = 'he'\n",
    "sub_project_name = 'HIST_EQ'\n",
    "\n",
    "augmentation_metadata = {\n",
    "        'methods': {        \n",
    "            'histEq': {\n",
    "                'parameters': {\n",
    "                    'p': 1.0  # Probability of applying the augmentation\n",
    "                },\n",
    "                'apply_to_percentage': 0.5  # 50% of the training images\n",
    "            }        \n",
    "        }\n",
    "    }\n",
    "\n",
    "for i in range(N):\n",
    "    RUN = i + 1\n",
    "    try:\n",
    "        print(f\"Starting RUN: {RUN}\")\n",
    "        main(RUN, augmentation_metadata, task_name, sub_project_name, epochs, train_size, w1, w2)\n",
    "    except Exception as e:\n",
    "        print(f\"Error in RUN: {RUN}\")\n",
    "        print(e)\n",
    "    finally:\n",
    "        clear_output(wait=True)  # Clear the output to avoid scrolling\n",
    "        gc.collect()  # Collect garbage to avoid memory leaks"
   ]
  },
  {
   "cell_type": "code",
   "execution_count": 19,
   "metadata": {},
   "outputs": [
    {
     "name": "stdout",
     "output_type": "stream",
     "text": [
      "Starting RUN: 5\n",
      "Seed:  1975645908\n"
     ]
    },
    {
     "name": "stderr",
     "output_type": "stream",
     "text": [
      "c:\\github\\Third-Year-Project\\Intruder-Aircraft-Detection\\main\\tl_clf.py:79: SettingWithCopyWarning:\n",
      "\n",
      "\n",
      "A value is trying to be set on a copy of a slice from a DataFrame.\n",
      "Try using .loc[row_indexer,col_indexer] = value instead\n",
      "\n",
      "See the caveats in the documentation: https://pandas.pydata.org/pandas-docs/stable/user_guide/indexing.html#returning-a-view-versus-a-copy\n",
      "\n",
      "c:\\github\\Third-Year-Project\\Intruder-Aircraft-Detection\\main\\tl_clf.py:80: SettingWithCopyWarning:\n",
      "\n",
      "\n",
      "A value is trying to be set on a copy of a slice from a DataFrame.\n",
      "Try using .loc[row_indexer,col_indexer] = value instead\n",
      "\n",
      "See the caveats in the documentation: https://pandas.pydata.org/pandas-docs/stable/user_guide/indexing.html#returning-a-view-versus-a-copy\n",
      "\n"
     ]
    },
    {
     "name": "stdout",
     "output_type": "stream",
     "text": [
      "Removing dataset if pre-existing\n",
      "Copying training files:\n"
     ]
    },
    {
     "name": "stderr",
     "output_type": "stream",
     "text": [
      "Copying files: 100%|██████████| 5000/5000 [00:07<00:00, 626.15it/s] \n"
     ]
    },
    {
     "name": "stdout",
     "output_type": "stream",
     "text": [
      "Copying validation files:\n"
     ]
    },
    {
     "name": "stderr",
     "output_type": "stream",
     "text": [
      "Copying files: 100%|██████████| 1000/1000 [00:00<00:00, 1834.40it/s]\n"
     ]
    },
    {
     "name": "stdout",
     "output_type": "stream",
     "text": [
      "Dataset 'weather_45_2500' created at C:\\github\\Third-Year-Project\\Intruder-Aircraft-Detection\\datasets\\Custom\\weather_45_2500\n",
      "Processing train labels in weather_45_2500:\n"
     ]
    },
    {
     "name": "stderr",
     "output_type": "stream",
     "text": [
      "Processing labels: 100%|██████████| 2500/2500 [00:09<00:00, 273.81it/s]\n"
     ]
    },
    {
     "name": "stdout",
     "output_type": "stream",
     "text": [
      "Processing valid labels in weather_45_2500:\n"
     ]
    },
    {
     "name": "stderr",
     "output_type": "stream",
     "text": [
      "Processing labels: 100%|██████████| 500/500 [00:01<00:00, 277.80it/s]\n"
     ]
    },
    {
     "name": "stdout",
     "output_type": "stream",
     "text": [
      "Label correction completed.\n"
     ]
    },
    {
     "name": "stderr",
     "output_type": "stream",
     "text": [
      "Removing existing directories/files: 100%|██████████| 3/3 [00:00<?, ?it/s]\n",
      "Copying files: 100%|██████████| 2500/2500 [00:02<00:00, 990.41it/s] \n",
      "Copying files: 100%|██████████| 2500/2500 [00:01<00:00, 1453.48it/s]\n",
      "Applying augmentations: 100%|██████████| 1250/1250 [00:53<00:00, 23.53it/s]\n",
      "Processing images:   0%|          | 8/2500 [00:00<02:46, 15.00it/s]"
     ]
    },
    {
     "name": "stdout",
     "output_type": "stream",
     "text": [
      "An error occurred with C:/github/Third-Year-Project/Intruder-Aircraft-Detection/datasets/Custom/weather_45_2500\\images\\train\\28006.jpg: Expected y_min for bbox (0.31603499999999995, -0.07623150000000001, 0.998717, 0.3788895, 1) to be in the range [0.0, 1.0], got -0.07623150000000001.\n"
     ]
    },
    {
     "name": "stderr",
     "output_type": "stream",
     "text": [
      "Processing images:   1%|          | 24/2500 [00:01<03:08, 13.11it/s]"
     ]
    },
    {
     "name": "stdout",
     "output_type": "stream",
     "text": [
      "An error occurred with C:/github/Third-Year-Project/Intruder-Aircraft-Detection/datasets/Custom/weather_45_2500\\images\\train\\28040.jpg: Expected x_min for bbox (-0.0473615, 0.3129345, 0.5972675000000001, 0.7426875, 1) to be in the range [0.0, 1.0], got -0.0473615.\n"
     ]
    },
    {
     "name": "stderr",
     "output_type": "stream",
     "text": [
      "Processing images:   5%|▌         | 137/2500 [00:10<02:30, 15.70it/s]"
     ]
    },
    {
     "name": "stdout",
     "output_type": "stream",
     "text": [
      "An error occurred with C:/github/Third-Year-Project/Intruder-Aircraft-Detection/datasets/Custom/weather_45_2500\\images\\train\\28284.jpg: Expected x_max for bbox (0.189772, 0.575604, 1.100998, 1.1830880000000001, 1) to be in the range [0.0, 1.0], got 1.100998.\n"
     ]
    },
    {
     "name": "stderr",
     "output_type": "stream",
     "text": [
      "Processing images:   6%|▋         | 159/2500 [00:11<01:46, 21.98it/s]"
     ]
    },
    {
     "name": "stdout",
     "output_type": "stream",
     "text": [
      "An error occurred with C:/github/Third-Year-Project/Intruder-Aircraft-Detection/datasets/Custom/weather_45_2500\\images\\train\\28333.jpg: Expected y_min for bbox (0.47015499999999993, -0.022556500000000007, 0.890417, 0.2576185, 1) to be in the range [0.0, 1.0], got -0.022556500000000007.\n"
     ]
    },
    {
     "name": "stderr",
     "output_type": "stream",
     "text": [
      "Processing images:   8%|▊         | 198/2500 [00:12<01:10, 32.58it/s]"
     ]
    },
    {
     "name": "stdout",
     "output_type": "stream",
     "text": [
      "An error occurred with C:/github/Third-Year-Project/Intruder-Aircraft-Detection/datasets/Custom/weather_45_2500\\images\\train\\28423.jpg: Expected y_max for bbox (0.0305415, 0.4883285, 0.9941045, 1.1307035, 1) to be in the range [0.0, 1.0], got 1.1307035.\n"
     ]
    },
    {
     "name": "stderr",
     "output_type": "stream",
     "text": [
      "Processing images:  13%|█▎        | 323/2500 [00:16<01:05, 33.45it/s]"
     ]
    },
    {
     "name": "stdout",
     "output_type": "stream",
     "text": [
      "An error occurred with C:/github/Third-Year-Project/Intruder-Aircraft-Detection/datasets/Custom/weather_45_2500\\images\\train\\28695.jpg: Expected y_min for bbox (0.11332400000000004, -0.011081000000000008, 0.7337899999999999, 0.402563, 1) to be in the range [0.0, 1.0], got -0.011081000000000008.\n"
     ]
    },
    {
     "name": "stderr",
     "output_type": "stream",
     "text": [
      "Processing images:  17%|█▋        | 424/2500 [00:20<01:00, 34.06it/s]"
     ]
    },
    {
     "name": "stdout",
     "output_type": "stream",
     "text": [
      "An error occurred with C:/github/Third-Year-Project/Intruder-Aircraft-Detection/datasets/Custom/weather_45_2500\\images\\train\\29013.jpg: Expected y_min for bbox (0.59587, -0.02172049999999999, 0.925314, 0.1979085, 1) to be in the range [0.0, 1.0], got -0.02172049999999999.\n"
     ]
    },
    {
     "name": "stderr",
     "output_type": "stream",
     "text": [
      "Processing images:  23%|██▎       | 573/2500 [00:24<00:57, 33.59it/s]"
     ]
    },
    {
     "name": "stdout",
     "output_type": "stream",
     "text": [
      "An error occurred with C:/github/Third-Year-Project/Intruder-Aircraft-Detection/datasets/Custom/weather_45_2500\\images\\train\\29335.jpg: Expected y_max for bbox (0.47840099999999997, 0.7528035000000001, 0.926549, 1.0515685000000001, 1) to be in the range [0.0, 1.0], got 1.0515685000000001.\n"
     ]
    },
    {
     "name": "stderr",
     "output_type": "stream",
     "text": [
      "Processing images:  25%|██▌       | 629/2500 [00:26<00:55, 33.52it/s]"
     ]
    },
    {
     "name": "stdout",
     "output_type": "stream",
     "text": [
      "An error occurred with C:/github/Third-Year-Project/Intruder-Aircraft-Detection/datasets/Custom/weather_45_2500\\images\\train\\29446.jpg: Expected x_max for bbox (0.23347149999999994, 0.03606499999999996, 1.0153205, 0.5572969999999999, 1) to be in the range [0.0, 1.0], got 1.0153205.\n"
     ]
    },
    {
     "name": "stderr",
     "output_type": "stream",
     "text": [
      "Processing images:  27%|██▋       | 666/2500 [00:27<00:56, 32.72it/s]"
     ]
    },
    {
     "name": "stdout",
     "output_type": "stream",
     "text": [
      "An error occurred with C:/github/Third-Year-Project/Intruder-Aircraft-Detection/datasets/Custom/weather_45_2500\\images\\train\\29532.jpg: Expected y_min for bbox (0.034367499999999995, -0.032188999999999995, 0.4652345, 0.25505500000000003, 1) to be in the range [0.0, 1.0], got -0.032188999999999995.\n"
     ]
    },
    {
     "name": "stderr",
     "output_type": "stream",
     "text": [
      "Processing images:  60%|██████    | 1510/2500 [00:53<00:29, 33.78it/s]"
     ]
    },
    {
     "name": "stdout",
     "output_type": "stream",
     "text": [
      "An error occurred with C:/github/Third-Year-Project/Intruder-Aircraft-Detection/datasets/Custom/weather_45_2500\\images\\train\\52365.jpg: Expected x_max for bbox (0.487545, 0.513501, 1.0378530000000001, 0.880373, 2) to be in the range [0.0, 1.0], got 1.0378530000000001.\n"
     ]
    },
    {
     "name": "stderr",
     "output_type": "stream",
     "text": [
      "Processing images:  61%|██████    | 1519/2500 [00:53<00:27, 35.69it/s]"
     ]
    },
    {
     "name": "stdout",
     "output_type": "stream",
     "text": [
      "An error occurred with C:/github/Third-Year-Project/Intruder-Aircraft-Detection/datasets/Custom/weather_45_2500\\images\\train\\52375.jpg: Expected y_max for bbox (0.19351849999999998, 0.622445, 0.7759535, 1.010735, 2) to be in the range [0.0, 1.0], got 1.010735.\n"
     ]
    },
    {
     "name": "stderr",
     "output_type": "stream",
     "text": [
      "Processing images:  75%|███████▍  | 1872/2500 [01:04<00:18, 34.46it/s]"
     ]
    },
    {
     "name": "stdout",
     "output_type": "stream",
     "text": [
      "An error occurred with C:/github/Third-Year-Project/Intruder-Aircraft-Detection/datasets/Custom/weather_45_2500\\images\\train\\53138.jpg: Expected x_min for bbox (-0.10308700000000004, -0.017604499999999967, 0.853993, 0.6204485, 2) to be in the range [0.0, 1.0], got -0.10308700000000004.\n"
     ]
    },
    {
     "name": "stderr",
     "output_type": "stream",
     "text": [
      "Processing images:  78%|███████▊  | 1945/2500 [01:06<00:16, 32.74it/s]"
     ]
    },
    {
     "name": "stdout",
     "output_type": "stream",
     "text": [
      "An error occurred with C:/github/Third-Year-Project/Intruder-Aircraft-Detection/datasets/Custom/weather_45_2500\\images\\train\\53264.jpg: Expected x_min for bbox (-0.12539900000000004, -0.1299795, 0.864633, 0.5300414999999999, 2) to be in the range [0.0, 1.0], got -0.12539900000000004.\n"
     ]
    },
    {
     "name": "stderr",
     "output_type": "stream",
     "text": [
      "Processing images:  81%|████████  | 2026/2500 [01:08<00:13, 35.50it/s]"
     ]
    },
    {
     "name": "stdout",
     "output_type": "stream",
     "text": [
      "An error occurred with C:/github/Third-Year-Project/Intruder-Aircraft-Detection/datasets/Custom/weather_45_2500\\images\\train\\53420.jpg: Expected x_max for bbox (0.42271650000000005, 0.6723135, 1.0245235, 1.0735185, 2) to be in the range [0.0, 1.0], got 1.0245235.\n"
     ]
    },
    {
     "name": "stderr",
     "output_type": "stream",
     "text": [
      "Processing images:  89%|████████▉ | 2231/2500 [01:15<00:08, 32.94it/s]"
     ]
    },
    {
     "name": "stdout",
     "output_type": "stream",
     "text": [
      "An error occurred with C:/github/Third-Year-Project/Intruder-Aircraft-Detection/datasets/Custom/weather_45_2500\\images\\train\\53840.jpg: Expected x_min for bbox (-0.02357100000000001, 0.633796, 0.577437, 1.034468, 2) to be in the range [0.0, 1.0], got -0.02357100000000001.\n"
     ]
    },
    {
     "name": "stderr",
     "output_type": "stream",
     "text": [
      "Processing images: 100%|██████████| 2500/2500 [01:23<00:00, 30.00it/s]\n",
      "Processing images:   0%|          | 7/3750 [00:00<03:45, 16.61it/s]"
     ]
    },
    {
     "name": "stdout",
     "output_type": "stream",
     "text": [
      "An error occurred with C:/github/Third-Year-Project/Intruder-Aircraft-Detection/datasets/Custom/weather_45_2500\\images\\train-aug\\28006.jpg: Expected y_min for bbox (0.31603499999999995, -0.07623150000000001, 0.998717, 0.3788895, 1) to be in the range [0.0, 1.0], got -0.07623150000000001.\n"
     ]
    },
    {
     "name": "stderr",
     "output_type": "stream",
     "text": [
      "Processing images:   1%|          | 31/3750 [00:02<04:17, 14.45it/s]"
     ]
    },
    {
     "name": "stdout",
     "output_type": "stream",
     "text": [
      "An error occurred with C:/github/Third-Year-Project/Intruder-Aircraft-Detection/datasets/Custom/weather_45_2500\\images\\train-aug\\28040.jpg: Expected x_min for bbox (-0.0473615, 0.3129345, 0.5972675000000001, 0.7426875, 1) to be in the range [0.0, 1.0], got -0.0473615.\n"
     ]
    },
    {
     "name": "stderr",
     "output_type": "stream",
     "text": [
      "Processing images:   1%|          | 36/3750 [00:02<03:43, 16.61it/s]"
     ]
    },
    {
     "name": "stdout",
     "output_type": "stream",
     "text": [
      "An error occurred with C:/github/Third-Year-Project/Intruder-Aircraft-Detection/datasets/Custom/weather_45_2500\\images\\train-aug\\28040-gaussian.jpg: Expected x_min for bbox (-0.0473615, 0.3129345, 0.5972675000000001, 0.7426875, 1) to be in the range [0.0, 1.0], got -0.0473615.\n"
     ]
    },
    {
     "name": "stderr",
     "output_type": "stream",
     "text": [
      "Processing images:   5%|▌         | 201/3750 [00:14<03:44, 15.78it/s]"
     ]
    },
    {
     "name": "stdout",
     "output_type": "stream",
     "text": [
      "An error occurred with C:/github/Third-Year-Project/Intruder-Aircraft-Detection/datasets/Custom/weather_45_2500\\images\\train-aug\\28284.jpg: Expected x_max for bbox (0.189772, 0.575604, 1.100998, 1.1830880000000001, 1) to be in the range [0.0, 1.0], got 1.100998.\n"
     ]
    },
    {
     "name": "stderr",
     "output_type": "stream",
     "text": [
      "Processing images:   5%|▌         | 204/3750 [00:14<03:27, 17.11it/s]"
     ]
    },
    {
     "name": "stdout",
     "output_type": "stream",
     "text": [
      "An error occurred with C:/github/Third-Year-Project/Intruder-Aircraft-Detection/datasets/Custom/weather_45_2500\\images\\train-aug\\28284-gaussian.jpg: Expected x_max for bbox (0.189772, 0.575604, 1.100998, 1.1830880000000001, 1) to be in the range [0.0, 1.0], got 1.100998.\n"
     ]
    },
    {
     "name": "stderr",
     "output_type": "stream",
     "text": [
      "Processing images:   6%|▋         | 237/3750 [00:16<03:29, 16.76it/s]"
     ]
    },
    {
     "name": "stdout",
     "output_type": "stream",
     "text": [
      "An error occurred with C:/github/Third-Year-Project/Intruder-Aircraft-Detection/datasets/Custom/weather_45_2500\\images\\train-aug\\28333.jpg: Expected y_min for bbox (0.47015499999999993, -0.022556500000000007, 0.890417, 0.2576185, 1) to be in the range [0.0, 1.0], got -0.022556500000000007.\n",
      "An error occurred with C:/github/Third-Year-Project/Intruder-Aircraft-Detection/datasets/Custom/weather_45_2500\\images\\train-aug\\28333-gaussian.jpg: Expected y_min for bbox (0.47015499999999993, -0.022556500000000007, 0.890417, 0.2576185, 1) to be in the range [0.0, 1.0], got -0.022556500000000007.\n"
     ]
    },
    {
     "name": "stderr",
     "output_type": "stream",
     "text": [
      "Processing images:   8%|▊         | 291/3750 [00:21<03:45, 15.37it/s]"
     ]
    },
    {
     "name": "stdout",
     "output_type": "stream",
     "text": [
      "An error occurred with C:/github/Third-Year-Project/Intruder-Aircraft-Detection/datasets/Custom/weather_45_2500\\images\\train-aug\\28423.jpg: Expected y_max for bbox (0.0305415, 0.4883285, 0.9941045, 1.1307035, 1) to be in the range [0.0, 1.0], got 1.1307035.\n",
      "An error occurred with C:/github/Third-Year-Project/Intruder-Aircraft-Detection/datasets/Custom/weather_45_2500\\images\\train-aug\\28423-gaussian.jpg: Expected y_max for bbox (0.0305415, 0.4883285, 0.9941045, 1.1307035, 1) to be in the range [0.0, 1.0], got 1.1307035.\n"
     ]
    },
    {
     "name": "stderr",
     "output_type": "stream",
     "text": [
      "Processing images:  13%|█▎        | 487/3750 [00:28<01:33, 34.76it/s]"
     ]
    },
    {
     "name": "stdout",
     "output_type": "stream",
     "text": [
      "An error occurred with C:/github/Third-Year-Project/Intruder-Aircraft-Detection/datasets/Custom/weather_45_2500\\images\\train-aug\\28695.jpg: Expected y_min for bbox (0.11332400000000004, -0.011081000000000008, 0.7337899999999999, 0.402563, 1) to be in the range [0.0, 1.0], got -0.011081000000000008.\n",
      "An error occurred with C:/github/Third-Year-Project/Intruder-Aircraft-Detection/datasets/Custom/weather_45_2500\\images\\train-aug\\28695-gaussian.jpg: Expected y_min for bbox (0.11332400000000004, -0.011081000000000008, 0.7337899999999999, 0.402563, 1) to be in the range [0.0, 1.0], got -0.011081000000000008.\n"
     ]
    },
    {
     "name": "stderr",
     "output_type": "stream",
     "text": [
      "Processing images:  17%|█▋        | 635/3750 [00:33<01:40, 30.95it/s]"
     ]
    },
    {
     "name": "stdout",
     "output_type": "stream",
     "text": [
      "An error occurred with C:/github/Third-Year-Project/Intruder-Aircraft-Detection/datasets/Custom/weather_45_2500\\images\\train-aug\\29013.jpg: Expected y_min for bbox (0.59587, -0.02172049999999999, 0.925314, 0.1979085, 1) to be in the range [0.0, 1.0], got -0.02172049999999999.\n"
     ]
    },
    {
     "name": "stderr",
     "output_type": "stream",
     "text": [
      "Processing images:  23%|██▎       | 858/3750 [00:41<01:32, 31.26it/s]"
     ]
    },
    {
     "name": "stdout",
     "output_type": "stream",
     "text": [
      "An error occurred with C:/github/Third-Year-Project/Intruder-Aircraft-Detection/datasets/Custom/weather_45_2500\\images\\train-aug\\29335.jpg: Expected y_max for bbox (0.47840099999999997, 0.7528035000000001, 0.926549, 1.0515685000000001, 1) to be in the range [0.0, 1.0], got 1.0515685000000001.\n"
     ]
    },
    {
     "name": "stderr",
     "output_type": "stream",
     "text": [
      "Processing images:  25%|██▌       | 943/3750 [00:44<01:24, 33.07it/s]"
     ]
    },
    {
     "name": "stdout",
     "output_type": "stream",
     "text": [
      "An error occurred with C:/github/Third-Year-Project/Intruder-Aircraft-Detection/datasets/Custom/weather_45_2500\\images\\train-aug\\29446.jpg: Expected x_max for bbox (0.23347149999999994, 0.03606499999999996, 1.0153205, 0.5572969999999999, 1) to be in the range [0.0, 1.0], got 1.0153205.\n",
      "An error occurred with C:/github/Third-Year-Project/Intruder-Aircraft-Detection/datasets/Custom/weather_45_2500\\images\\train-aug\\29446-gaussian.jpg: Expected x_max for bbox (0.23347149999999994, 0.03606499999999996, 1.0153205, 0.5572969999999999, 1) to be in the range [0.0, 1.0], got 1.0153205.\n"
     ]
    },
    {
     "name": "stderr",
     "output_type": "stream",
     "text": [
      "Processing images:  27%|██▋       | 1004/3750 [00:46<01:31, 30.01it/s]"
     ]
    },
    {
     "name": "stdout",
     "output_type": "stream",
     "text": [
      "An error occurred with C:/github/Third-Year-Project/Intruder-Aircraft-Detection/datasets/Custom/weather_45_2500\\images\\train-aug\\29532.jpg: Expected y_min for bbox (0.034367499999999995, -0.032188999999999995, 0.4652345, 0.25505500000000003, 1) to be in the range [0.0, 1.0], got -0.032188999999999995.\n"
     ]
    },
    {
     "name": "stderr",
     "output_type": "stream",
     "text": [
      "Processing images:  27%|██▋       | 1009/3750 [00:46<01:25, 31.95it/s]"
     ]
    },
    {
     "name": "stdout",
     "output_type": "stream",
     "text": [
      "An error occurred with C:/github/Third-Year-Project/Intruder-Aircraft-Detection/datasets/Custom/weather_45_2500\\images\\train-aug\\29532-gaussian.jpg: Expected y_min for bbox (0.034367499999999995, -0.032188999999999995, 0.4652345, 0.25505500000000003, 1) to be in the range [0.0, 1.0], got -0.032188999999999995.\n"
     ]
    },
    {
     "name": "stderr",
     "output_type": "stream",
     "text": [
      "Processing images:  61%|██████    | 2275/3750 [01:28<00:46, 31.78it/s]"
     ]
    },
    {
     "name": "stdout",
     "output_type": "stream",
     "text": [
      "An error occurred with C:/github/Third-Year-Project/Intruder-Aircraft-Detection/datasets/Custom/weather_45_2500\\images\\train-aug\\52365.jpg: Expected x_max for bbox (0.487545, 0.513501, 1.0378530000000001, 0.880373, 2) to be in the range [0.0, 1.0], got 1.0378530000000001.\n",
      "An error occurred with C:/github/Third-Year-Project/Intruder-Aircraft-Detection/datasets/Custom/weather_45_2500\\images\\train-aug\\52375.jpg: Expected y_max for bbox (0.19351849999999998, 0.622445, 0.7759535, 1.010735, 2) to be in the range [0.0, 1.0], got 1.010735.\n"
     ]
    },
    {
     "name": "stderr",
     "output_type": "stream",
     "text": [
      "Processing images:  75%|███████▍  | 2807/3750 [01:46<00:28, 33.18it/s]"
     ]
    },
    {
     "name": "stdout",
     "output_type": "stream",
     "text": [
      "An error occurred with C:/github/Third-Year-Project/Intruder-Aircraft-Detection/datasets/Custom/weather_45_2500\\images\\train-aug\\53138.jpg: Expected x_min for bbox (-0.10308700000000004, -0.017604499999999967, 0.853993, 0.6204485, 2) to be in the range [0.0, 1.0], got -0.10308700000000004.\n"
     ]
    },
    {
     "name": "stderr",
     "output_type": "stream",
     "text": [
      "Processing images:  78%|███████▊  | 2915/3750 [01:49<00:24, 33.52it/s]"
     ]
    },
    {
     "name": "stdout",
     "output_type": "stream",
     "text": [
      "An error occurred with C:/github/Third-Year-Project/Intruder-Aircraft-Detection/datasets/Custom/weather_45_2500\\images\\train-aug\\53264.jpg: Expected x_min for bbox (-0.12539900000000004, -0.1299795, 0.864633, 0.5300414999999999, 2) to be in the range [0.0, 1.0], got -0.12539900000000004.\n",
      "An error occurred with C:/github/Third-Year-Project/Intruder-Aircraft-Detection/datasets/Custom/weather_45_2500\\images\\train-aug\\53264-gaussian.jpg: Expected x_min for bbox (-0.12539900000000004, -0.1299795, 0.864633, 0.5300414999999999, 2) to be in the range [0.0, 1.0], got -0.12539900000000004.\n"
     ]
    },
    {
     "name": "stderr",
     "output_type": "stream",
     "text": [
      "Processing images:  81%|████████  | 3035/3750 [01:53<00:20, 34.85it/s]"
     ]
    },
    {
     "name": "stdout",
     "output_type": "stream",
     "text": [
      "An error occurred with C:/github/Third-Year-Project/Intruder-Aircraft-Detection/datasets/Custom/weather_45_2500\\images\\train-aug\\53420.jpg: Expected x_max for bbox (0.42271650000000005, 0.6723135, 1.0245235, 1.0735185, 2) to be in the range [0.0, 1.0], got 1.0245235.\n",
      "An error occurred with C:/github/Third-Year-Project/Intruder-Aircraft-Detection/datasets/Custom/weather_45_2500\\images\\train-aug\\53420-gaussian.jpg: Expected x_max for bbox (0.42271650000000005, 0.6723135, 1.0245235, 1.0735185, 2) to be in the range [0.0, 1.0], got 1.0245235.\n"
     ]
    },
    {
     "name": "stderr",
     "output_type": "stream",
     "text": [
      "Processing images:  89%|████████▉ | 3345/3750 [02:04<00:12, 31.62it/s]"
     ]
    },
    {
     "name": "stdout",
     "output_type": "stream",
     "text": [
      "An error occurred with C:/github/Third-Year-Project/Intruder-Aircraft-Detection/datasets/Custom/weather_45_2500\\images\\train-aug\\53840.jpg: Expected x_min for bbox (-0.02357100000000001, 0.633796, 0.577437, 1.034468, 2) to be in the range [0.0, 1.0], got -0.02357100000000001.\n",
      "An error occurred with C:/github/Third-Year-Project/Intruder-Aircraft-Detection/datasets/Custom/weather_45_2500\\images\\train-aug\\53840-gaussian.jpg: Expected x_min for bbox (-0.02357100000000001, 0.633796, 0.577437, 1.034468, 2) to be in the range [0.0, 1.0], got -0.02357100000000001.\n"
     ]
    },
    {
     "name": "stderr",
     "output_type": "stream",
     "text": [
      "Processing images: 100%|██████████| 3750/3750 [02:17<00:00, 27.28it/s]\n",
      "Processing images:  19%|█▉        | 97/500 [00:04<00:12, 32.77it/s]"
     ]
    },
    {
     "name": "stdout",
     "output_type": "stream",
     "text": [
      "An error occurred with C:/github/Third-Year-Project/Intruder-Aircraft-Detection/datasets/Custom/weather_45_2500\\images\\valid\\29918.jpg: Expected y_max for bbox (0.4077075, 0.7077145, 0.8470265, 1.0005935, 1) to be in the range [0.0, 1.0], got 1.0005935.\n"
     ]
    },
    {
     "name": "stderr",
     "output_type": "stream",
     "text": [
      "Processing images:  54%|█████▍    | 270/500 [00:09<00:06, 36.27it/s]"
     ]
    },
    {
     "name": "stdout",
     "output_type": "stream",
     "text": [
      "An error occurred with C:/github/Third-Year-Project/Intruder-Aircraft-Detection/datasets/Custom/weather_45_2500\\images\\valid\\52916.jpg: In YOLO format all coordinates must be float and in range (0, 1]\n",
      "An error occurred with C:/github/Third-Year-Project/Intruder-Aircraft-Detection/datasets/Custom/weather_45_2500\\images\\valid\\52925.jpg: Expected x_min for bbox (-0.17107, 0.23527800000000004, 0.669476, 0.795642, 2) to be in the range [0.0, 1.0], got -0.17107.\n"
     ]
    },
    {
     "name": "stderr",
     "output_type": "stream",
     "text": [
      "Processing images: 100%|██████████| 500/500 [00:16<00:00, 29.80it/s]\n",
      "Moving images in train: 100%|██████████| 2484/2484 [00:08<00:00, 282.81it/s]\n",
      "Moving images in train-aug: 100%|██████████| 3724/3724 [00:10<00:00, 346.06it/s]\n",
      "Moving images in valid: 100%|██████████| 497/497 [00:01<00:00, 281.36it/s]\n"
     ]
    },
    {
     "name": "stdout",
     "output_type": "stream",
     "text": [
      "Found 2484 files belonging to 3 classes.\n",
      "Found 3724 files belonging to 3 classes.\n",
      "Found 497 files belonging to 3 classes.\n",
      "ClearML Task: created new task id=2920a15edacc46f7ad370adc08c7cc05\n",
      "ClearML results page: https://app.clear.ml/projects/8cfd67047c9d4e6abe11758d1fccbf13/experiments/2920a15edacc46f7ad370adc08c7cc05/output/log\n",
      "Training model...\n",
      "Epoch 1/30\n",
      "\u001b[1m78/78\u001b[0m \u001b[32m━━━━━━━━━━━━━━━━━━━━\u001b[0m\u001b[37m\u001b[0m \u001b[1m23s\u001b[0m 272ms/step - accuracy: 0.3397 - loss: 1.4574 - precision: 0.3348 - recall: 0.0831 - val_accuracy: 0.3340 - val_loss: 1.0986 - val_precision: 0.0000e+00 - val_recall: 0.0000e+00\n",
      "Epoch 2/30\n",
      "\u001b[1m78/78\u001b[0m \u001b[32m━━━━━━━━━━━━━━━━━━━━\u001b[0m\u001b[37m\u001b[0m \u001b[1m19s\u001b[0m 244ms/step - accuracy: 0.3126 - loss: 1.0989 - precision: 0.0000e+00 - recall: 0.0000e+00 - val_accuracy: 0.3340 - val_loss: 1.0986 - val_precision: 0.0000e+00 - val_recall: 0.0000e+00\n",
      "Epoch 3/30\n",
      "\u001b[1m78/78\u001b[0m \u001b[32m━━━━━━━━━━━━━━━━━━━━\u001b[0m\u001b[37m\u001b[0m \u001b[1m21s\u001b[0m 269ms/step - accuracy: 0.3204 - loss: 1.0989 - precision: 0.0000e+00 - recall: 0.0000e+00 - val_accuracy: 0.3340 - val_loss: 1.0986 - val_precision: 0.0000e+00 - val_recall: 0.0000e+00\n",
      "Epoch 4/30\n",
      "\u001b[1m78/78\u001b[0m \u001b[32m━━━━━━━━━━━━━━━━━━━━\u001b[0m\u001b[37m\u001b[0m \u001b[1m19s\u001b[0m 240ms/step - accuracy: 0.3201 - loss: 1.0988 - precision: 0.0000e+00 - recall: 0.0000e+00 - val_accuracy: 0.3340 - val_loss: 1.0986 - val_precision: 0.0000e+00 - val_recall: 0.0000e+00\n",
      "Epoch 5/30\n",
      "\u001b[1m78/78\u001b[0m \u001b[32m━━━━━━━━━━━━━━━━━━━━\u001b[0m\u001b[37m\u001b[0m \u001b[1m22s\u001b[0m 273ms/step - accuracy: 0.3224 - loss: 1.0988 - precision: 0.0000e+00 - recall: 0.0000e+00 - val_accuracy: 0.3340 - val_loss: 1.0986 - val_precision: 0.0000e+00 - val_recall: 0.0000e+00\n",
      "Epoch 6/30\n",
      "\u001b[1m78/78\u001b[0m \u001b[32m━━━━━━━━━━━━━━━━━━━━\u001b[0m\u001b[37m\u001b[0m \u001b[1m19s\u001b[0m 245ms/step - accuracy: 0.3233 - loss: 1.0988 - precision: 0.0000e+00 - recall: 0.0000e+00 - val_accuracy: 0.3340 - val_loss: 1.0986 - val_precision: 0.0000e+00 - val_recall: 0.0000e+00\n",
      "Epoch 7/30\n",
      "\u001b[1m78/78\u001b[0m \u001b[32m━━━━━━━━━━━━━━━━━━━━\u001b[0m\u001b[37m\u001b[0m \u001b[1m21s\u001b[0m 272ms/step - accuracy: 0.3199 - loss: 1.0987 - precision: 0.0000e+00 - recall: 0.0000e+00 - val_accuracy: 0.3340 - val_loss: 1.0986 - val_precision: 0.0000e+00 - val_recall: 0.0000e+00\n",
      "Epoch 8/30\n",
      "\u001b[1m78/78\u001b[0m \u001b[32m━━━━━━━━━━━━━━━━━━━━\u001b[0m\u001b[37m\u001b[0m \u001b[1m19s\u001b[0m 241ms/step - accuracy: 0.3131 - loss: 1.0989 - precision: 0.0000e+00 - recall: 0.0000e+00 - val_accuracy: 0.3340 - val_loss: 1.0986 - val_precision: 0.0000e+00 - val_recall: 0.0000e+00\n",
      "Epoch 9/30\n",
      "\u001b[1m78/78\u001b[0m \u001b[32m━━━━━━━━━━━━━━━━━━━━\u001b[0m\u001b[37m\u001b[0m \u001b[1m22s\u001b[0m 273ms/step - accuracy: 0.3128 - loss: 1.0992 - precision: 0.0000e+00 - recall: 0.0000e+00 - val_accuracy: 0.3340 - val_loss: 1.0985 - val_precision: 0.0000e+00 - val_recall: 0.0000e+00\n",
      "Epoch 10/30\n",
      "\u001b[1m78/78\u001b[0m \u001b[32m━━━━━━━━━━━━━━━━━━━━\u001b[0m\u001b[37m\u001b[0m \u001b[1m19s\u001b[0m 241ms/step - accuracy: 0.3251 - loss: 1.0988 - precision: 0.0000e+00 - recall: 0.0000e+00 - val_accuracy: 0.3340 - val_loss: 1.0983 - val_precision: 0.0000e+00 - val_recall: 0.0000e+00\n",
      "Epoch 11/30\n",
      "\u001b[1m78/78\u001b[0m \u001b[32m━━━━━━━━━━━━━━━━━━━━\u001b[0m\u001b[37m\u001b[0m \u001b[1m22s\u001b[0m 274ms/step - accuracy: 0.3291 - loss: 1.0989 - precision: 0.0000e+00 - recall: 0.0000e+00 - val_accuracy: 0.3340 - val_loss: 1.0982 - val_precision: 0.0000e+00 - val_recall: 0.0000e+00\n",
      "Epoch 12/30\n",
      "\u001b[1m78/78\u001b[0m \u001b[32m━━━━━━━━━━━━━━━━━━━━\u001b[0m\u001b[37m\u001b[0m \u001b[1m19s\u001b[0m 241ms/step - accuracy: 0.3103 - loss: 1.0990 - precision: 0.0000e+00 - recall: 0.0000e+00 - val_accuracy: 0.3702 - val_loss: 1.0975 - val_precision: 0.0000e+00 - val_recall: 0.0000e+00\n",
      "Epoch 13/30\n",
      "\u001b[1m78/78\u001b[0m \u001b[32m━━━━━━━━━━━━━━━━━━━━\u001b[0m\u001b[37m\u001b[0m \u001b[1m21s\u001b[0m 271ms/step - accuracy: 0.3403 - loss: 1.0986 - precision: 0.0000e+00 - recall: 0.0000e+00 - val_accuracy: 0.4467 - val_loss: 1.0964 - val_precision: 0.0000e+00 - val_recall: 0.0000e+00\n",
      "Epoch 14/30\n",
      "\u001b[1m78/78\u001b[0m \u001b[32m━━━━━━━━━━━━━━━━━━━━\u001b[0m\u001b[37m\u001b[0m \u001b[1m19s\u001b[0m 243ms/step - accuracy: 0.3752 - loss: 1.0973 - precision: 0.0000e+00 - recall: 0.0000e+00 - val_accuracy: 0.3340 - val_loss: 1.0986 - val_precision: 0.0000e+00 - val_recall: 0.0000e+00\n",
      "Epoch 15/30\n",
      "\u001b[1m78/78\u001b[0m \u001b[32m━━━━━━━━━━━━━━━━━━━━\u001b[0m\u001b[37m\u001b[0m \u001b[1m22s\u001b[0m 273ms/step - accuracy: 0.3273 - loss: 1.1006 - precision: 0.0823 - recall: 0.0013 - val_accuracy: 0.3340 - val_loss: 1.0983 - val_precision: 0.0000e+00 - val_recall: 0.0000e+00\n",
      "Epoch 16/30\n",
      "\u001b[1m78/78\u001b[0m \u001b[32m━━━━━━━━━━━━━━━━━━━━\u001b[0m\u001b[37m\u001b[0m \u001b[1m19s\u001b[0m 244ms/step - accuracy: 0.3247 - loss: 1.0995 - precision: 0.0000e+00 - recall: 0.0000e+00 - val_accuracy: 0.3340 - val_loss: 1.0982 - val_precision: 0.0000e+00 - val_recall: 0.0000e+00\n",
      "Epoch 17/30\n",
      "\u001b[1m78/78\u001b[0m \u001b[32m━━━━━━━━━━━━━━━━━━━━\u001b[0m\u001b[37m\u001b[0m \u001b[1m23s\u001b[0m 296ms/step - accuracy: 0.3319 - loss: 1.0989 - precision: 0.0000e+00 - recall: 0.0000e+00 - val_accuracy: 0.3461 - val_loss: 1.0967 - val_precision: 0.0000e+00 - val_recall: 0.0000e+00\n",
      "Epoch 18/30\n",
      "\u001b[1m78/78\u001b[0m \u001b[32m━━━━━━━━━━━━━━━━━━━━\u001b[0m\u001b[37m\u001b[0m \u001b[1m19s\u001b[0m 242ms/step - accuracy: 0.3561 - loss: 1.0947 - precision: 0.0000e+00 - recall: 0.0000e+00 - val_accuracy: 0.4306 - val_loss: 1.0860 - val_precision: 0.0000e+00 - val_recall: 0.0000e+00\n",
      "Epoch 19/30\n",
      "\u001b[1m78/78\u001b[0m \u001b[32m━━━━━━━━━━━━━━━━━━━━\u001b[0m\u001b[37m\u001b[0m \u001b[1m21s\u001b[0m 260ms/step - accuracy: 0.3997 - loss: 1.0835 - precision: 0.4393 - recall: 0.0110 - val_accuracy: 0.4125 - val_loss: 1.0828 - val_precision: 0.0000e+00 - val_recall: 0.0000e+00\n",
      "Epoch 20/30\n",
      "\u001b[1m78/78\u001b[0m \u001b[32m━━━━━━━━━━━━━━━━━━━━\u001b[0m\u001b[37m\u001b[0m \u001b[1m20s\u001b[0m 246ms/step - accuracy: 0.4047 - loss: 1.0773 - precision: 0.5477 - recall: 0.0244 - val_accuracy: 0.4527 - val_loss: 1.0688 - val_precision: 0.5000 - val_recall: 0.0020\n",
      "Epoch 21/30\n",
      "\u001b[1m78/78\u001b[0m \u001b[32m━━━━━━━━━━━━━━━━━━━━\u001b[0m\u001b[37m\u001b[0m \u001b[1m20s\u001b[0m 250ms/step - accuracy: 0.4251 - loss: 1.0669 - precision: 0.5393 - recall: 0.0259 - val_accuracy: 0.4728 - val_loss: 1.0577 - val_precision: 0.5556 - val_recall: 0.0201\n",
      "Epoch 22/30\n",
      "\u001b[1m78/78\u001b[0m \u001b[32m━━━━━━━━━━━━━━━━━━━━\u001b[0m\u001b[37m\u001b[0m \u001b[1m21s\u001b[0m 265ms/step - accuracy: 0.4402 - loss: 1.0567 - precision: 0.5765 - recall: 0.0462 - val_accuracy: 0.4688 - val_loss: 1.0585 - val_precision: 0.5625 - val_recall: 0.0181\n",
      "Epoch 23/30\n",
      "\u001b[1m78/78\u001b[0m \u001b[32m━━━━━━━━━━━━━━━━━━━━\u001b[0m\u001b[37m\u001b[0m \u001b[1m20s\u001b[0m 252ms/step - accuracy: 0.4255 - loss: 1.0587 - precision: 0.6060 - recall: 0.0461 - val_accuracy: 0.4346 - val_loss: 1.0581 - val_precision: 0.5882 - val_recall: 0.0201\n",
      "Epoch 24/30\n",
      "\u001b[1m78/78\u001b[0m \u001b[32m━━━━━━━━━━━━━━━━━━━━\u001b[0m\u001b[37m\u001b[0m \u001b[1m21s\u001b[0m 266ms/step - accuracy: 0.4320 - loss: 1.0532 - precision: 0.5435 - recall: 0.0553 - val_accuracy: 0.4004 - val_loss: 1.0651 - val_precision: 0.4512 - val_recall: 0.0744\n",
      "Epoch 25/30\n",
      "\u001b[1m78/78\u001b[0m \u001b[32m━━━━━━━━━━━━━━━━━━━━\u001b[0m\u001b[37m\u001b[0m \u001b[1m19s\u001b[0m 242ms/step - accuracy: 0.4228 - loss: 1.0643 - precision: 0.5011 - recall: 0.0595 - val_accuracy: 0.4487 - val_loss: 1.0604 - val_precision: 0.4697 - val_recall: 0.1247\n",
      "Epoch 26/30\n",
      "\u001b[1m78/78\u001b[0m \u001b[32m━━━━━━━━━━━━━━━━━━━━\u001b[0m\u001b[37m\u001b[0m \u001b[1m22s\u001b[0m 273ms/step - accuracy: 0.4194 - loss: 1.0645 - precision: 0.4732 - recall: 0.0796 - val_accuracy: 0.4044 - val_loss: 1.0637 - val_precision: 0.4800 - val_recall: 0.0724\n",
      "Epoch 27/30\n",
      "\u001b[1m78/78\u001b[0m \u001b[32m━━━━━━━━━━━━━━━━━━━━\u001b[0m\u001b[37m\u001b[0m \u001b[1m19s\u001b[0m 243ms/step - accuracy: 0.4257 - loss: 1.0519 - precision: 0.5499 - recall: 0.0671 - val_accuracy: 0.4225 - val_loss: 1.0608 - val_precision: 0.4714 - val_recall: 0.0664\n",
      "Epoch 28/30\n",
      "\u001b[1m78/78\u001b[0m \u001b[32m━━━━━━━━━━━━━━━━━━━━\u001b[0m\u001b[37m\u001b[0m \u001b[1m22s\u001b[0m 274ms/step - accuracy: 0.4203 - loss: 1.0484 - precision: 0.5636 - recall: 0.0860 - val_accuracy: 0.4064 - val_loss: 1.0720 - val_precision: 0.4872 - val_recall: 0.1147\n",
      "Epoch 29/30\n",
      "\u001b[1m78/78\u001b[0m \u001b[32m━━━━━━━━━━━━━━━━━━━━\u001b[0m\u001b[37m\u001b[0m \u001b[1m19s\u001b[0m 243ms/step - accuracy: 0.4166 - loss: 1.0635 - precision: 0.4856 - recall: 0.0350 - val_accuracy: 0.5312 - val_loss: 0.9730 - val_precision: 0.6667 - val_recall: 0.2495\n",
      "Epoch 30/30\n",
      "\u001b[1m78/78\u001b[0m \u001b[32m━━━━━━━━━━━━━━━━━━━━\u001b[0m\u001b[37m\u001b[0m \u001b[1m21s\u001b[0m 271ms/step - accuracy: 0.4825 - loss: 1.0477 - precision: 0.6242 - recall: 0.1419 - val_accuracy: 0.4165 - val_loss: 1.0599 - val_precision: 0.4167 - val_recall: 0.0101\n",
      "Predicting on validation set...\n",
      "\u001b[1m16/16\u001b[0m \u001b[32m━━━━━━━━━━━━━━━━━━━━\u001b[0m\u001b[37m\u001b[0m \u001b[1m1s\u001b[0m 58ms/step\n",
      "Sending metrics to clearML...\n",
      "done\n",
      "ClearML Task: created new task id=a6954e2a7b984554bd83d5b105633913\n",
      "ClearML results page: https://app.clear.ml/projects/8cfd67047c9d4e6abe11758d1fccbf13/experiments/a6954e2a7b984554bd83d5b105633913/output/log\n",
      "Training model...\n",
      "Epoch 1/30\n",
      "\u001b[1m117/117\u001b[0m \u001b[32m━━━━━━━━━━━━━━━━━━━━\u001b[0m\u001b[37m\u001b[0m \u001b[1m35s\u001b[0m 281ms/step - accuracy: 0.3153 - loss: 1.4721 - precision: 0.2738 - recall: 0.0511 - val_accuracy: 0.3340 - val_loss: 1.0986 - val_precision: 0.0000e+00 - val_recall: 0.0000e+00\n",
      "Epoch 2/30\n",
      "\u001b[1m117/117\u001b[0m \u001b[32m━━━━━━━━━━━━━━━━━━━━\u001b[0m\u001b[37m\u001b[0m \u001b[1m31s\u001b[0m 260ms/step - accuracy: 0.3392 - loss: 1.0986 - precision: 0.0155 - recall: 1.1386e-05 - val_accuracy: 0.4427 - val_loss: 1.0635 - val_precision: 0.8333 - val_recall: 0.0201\n",
      "Epoch 3/30\n",
      "\u001b[1m117/117\u001b[0m \u001b[32m━━━━━━━━━━━━━━━━━━━━\u001b[0m\u001b[37m\u001b[0m \u001b[1m31s\u001b[0m 265ms/step - accuracy: 0.5229 - loss: 1.0166 - precision: 0.6598 - recall: 0.1242 - val_accuracy: 0.6056 - val_loss: 0.8467 - val_precision: 0.7368 - val_recall: 0.4225\n",
      "Epoch 4/30\n",
      "\u001b[1m117/117\u001b[0m \u001b[32m━━━━━━━━━━━━━━━━━━━━\u001b[0m\u001b[37m\u001b[0m \u001b[1m29s\u001b[0m 243ms/step - accuracy: 0.6737 - loss: 0.7627 - precision: 0.7531 - recall: 0.5378 - val_accuracy: 0.6801 - val_loss: 0.7297 - val_precision: 0.7201 - val_recall: 0.5694\n",
      "Epoch 5/30\n",
      "\u001b[1m117/117\u001b[0m \u001b[32m━━━━━━━━━━━━━━━━━━━━\u001b[0m\u001b[37m\u001b[0m \u001b[1m31s\u001b[0m 260ms/step - accuracy: 0.7560 - loss: 0.5673 - precision: 0.7943 - recall: 0.7089 - val_accuracy: 0.7907 - val_loss: 0.5927 - val_precision: 0.8004 - val_recall: 0.7505\n",
      "Epoch 6/30\n",
      "\u001b[1m117/117\u001b[0m \u001b[32m━━━━━━━━━━━━━━━━━━━━\u001b[0m\u001b[37m\u001b[0m \u001b[1m31s\u001b[0m 261ms/step - accuracy: 0.8335 - loss: 0.4238 - precision: 0.8491 - recall: 0.8116 - val_accuracy: 0.7928 - val_loss: 0.5892 - val_precision: 0.7996 - val_recall: 0.7787\n",
      "Epoch 7/30\n",
      "\u001b[1m117/117\u001b[0m \u001b[32m━━━━━━━━━━━━━━━━━━━━\u001b[0m\u001b[37m\u001b[0m \u001b[1m29s\u001b[0m 241ms/step - accuracy: 0.8573 - loss: 0.3633 - precision: 0.8655 - recall: 0.8439 - val_accuracy: 0.8310 - val_loss: 0.5729 - val_precision: 0.8408 - val_recall: 0.8290\n",
      "Epoch 8/30\n",
      "\u001b[1m117/117\u001b[0m \u001b[32m━━━━━━━━━━━━━━━━━━━━\u001b[0m\u001b[37m\u001b[0m \u001b[1m29s\u001b[0m 242ms/step - accuracy: 0.8834 - loss: 0.2919 - precision: 0.8929 - recall: 0.8778 - val_accuracy: 0.8249 - val_loss: 0.5710 - val_precision: 0.8323 - val_recall: 0.8189\n",
      "Epoch 9/30\n",
      "\u001b[1m117/117\u001b[0m \u001b[32m━━━━━━━━━━━━━━━━━━━━\u001b[0m\u001b[37m\u001b[0m \u001b[1m31s\u001b[0m 260ms/step - accuracy: 0.9036 - loss: 0.2664 - precision: 0.9088 - recall: 0.8990 - val_accuracy: 0.8270 - val_loss: 0.6812 - val_precision: 0.8269 - val_recall: 0.8169\n",
      "Epoch 10/30\n",
      "\u001b[1m117/117\u001b[0m \u001b[32m━━━━━━━━━━━━━━━━━━━━\u001b[0m\u001b[37m\u001b[0m \u001b[1m31s\u001b[0m 262ms/step - accuracy: 0.8930 - loss: 0.2932 - precision: 0.9008 - recall: 0.8848 - val_accuracy: 0.8471 - val_loss: 0.5955 - val_precision: 0.8516 - val_recall: 0.8431\n",
      "Epoch 11/30\n",
      "\u001b[1m117/117\u001b[0m \u001b[32m━━━━━━━━━━━━━━━━━━━━\u001b[0m\u001b[37m\u001b[0m \u001b[1m29s\u001b[0m 248ms/step - accuracy: 0.9124 - loss: 0.2309 - precision: 0.9166 - recall: 0.9081 - val_accuracy: 0.8451 - val_loss: 0.5752 - val_precision: 0.8531 - val_recall: 0.8410\n",
      "Epoch 12/30\n",
      "\u001b[1m117/117\u001b[0m \u001b[32m━━━━━━━━━━━━━━━━━━━━\u001b[0m\u001b[37m\u001b[0m \u001b[1m30s\u001b[0m 251ms/step - accuracy: 0.9270 - loss: 0.1894 - precision: 0.9319 - recall: 0.9217 - val_accuracy: 0.8471 - val_loss: 0.6217 - val_precision: 0.8528 - val_recall: 0.8390\n",
      "Epoch 13/30\n",
      "\u001b[1m117/117\u001b[0m \u001b[32m━━━━━━━━━━━━━━━━━━━━\u001b[0m\u001b[37m\u001b[0m \u001b[1m31s\u001b[0m 262ms/step - accuracy: 0.9179 - loss: 0.2403 - precision: 0.9232 - recall: 0.9114 - val_accuracy: 0.8330 - val_loss: 0.6759 - val_precision: 0.8405 - val_recall: 0.8270\n",
      "Epoch 14/30\n",
      "\u001b[1m117/117\u001b[0m \u001b[32m━━━━━━━━━━━━━━━━━━━━\u001b[0m\u001b[37m\u001b[0m \u001b[1m33s\u001b[0m 277ms/step - accuracy: 0.9448 - loss: 0.1516 - precision: 0.9475 - recall: 0.9422 - val_accuracy: 0.8471 - val_loss: 0.6380 - val_precision: 0.8496 - val_recall: 0.8410\n",
      "Epoch 15/30\n",
      "\u001b[1m117/117\u001b[0m \u001b[32m━━━━━━━━━━━━━━━━━━━━\u001b[0m\u001b[37m\u001b[0m \u001b[1m29s\u001b[0m 241ms/step - accuracy: 0.9393 - loss: 0.1671 - precision: 0.9432 - recall: 0.9368 - val_accuracy: 0.8471 - val_loss: 0.7151 - val_precision: 0.8468 - val_recall: 0.8451\n",
      "Epoch 16/30\n",
      "\u001b[1m117/117\u001b[0m \u001b[32m━━━━━━━━━━━━━━━━━━━━\u001b[0m\u001b[37m\u001b[0m \u001b[1m31s\u001b[0m 261ms/step - accuracy: 0.9504 - loss: 0.1421 - precision: 0.9538 - recall: 0.9472 - val_accuracy: 0.8511 - val_loss: 0.7217 - val_precision: 0.8560 - val_recall: 0.8491\n",
      "Epoch 17/30\n",
      "\u001b[1m117/117\u001b[0m \u001b[32m━━━━━━━━━━━━━━━━━━━━\u001b[0m\u001b[37m\u001b[0m \u001b[1m31s\u001b[0m 261ms/step - accuracy: 0.9478 - loss: 0.1404 - precision: 0.9524 - recall: 0.9452 - val_accuracy: 0.8551 - val_loss: 0.7561 - val_precision: 0.8580 - val_recall: 0.8511\n",
      "Epoch 18/30\n",
      "\u001b[1m117/117\u001b[0m \u001b[32m━━━━━━━━━━━━━━━━━━━━\u001b[0m\u001b[37m\u001b[0m \u001b[1m29s\u001b[0m 246ms/step - accuracy: 0.9609 - loss: 0.1107 - precision: 0.9650 - recall: 0.9579 - val_accuracy: 0.8451 - val_loss: 0.7518 - val_precision: 0.8473 - val_recall: 0.8370\n",
      "Epoch 19/30\n",
      "\u001b[1m117/117\u001b[0m \u001b[32m━━━━━━━━━━━━━━━━━━━━\u001b[0m\u001b[37m\u001b[0m \u001b[1m30s\u001b[0m 255ms/step - accuracy: 0.9586 - loss: 0.1158 - precision: 0.9625 - recall: 0.9567 - val_accuracy: 0.8551 - val_loss: 0.8235 - val_precision: 0.8563 - val_recall: 0.8511\n",
      "Epoch 20/30\n",
      "\u001b[1m117/117\u001b[0m \u001b[32m━━━━━━━━━━━━━━━━━━━━\u001b[0m\u001b[37m\u001b[0m \u001b[1m31s\u001b[0m 260ms/step - accuracy: 0.9699 - loss: 0.0873 - precision: 0.9724 - recall: 0.9691 - val_accuracy: 0.8652 - val_loss: 0.8078 - val_precision: 0.8649 - val_recall: 0.8632\n",
      "Epoch 21/30\n",
      "\u001b[1m117/117\u001b[0m \u001b[32m━━━━━━━━━━━━━━━━━━━━\u001b[0m\u001b[37m\u001b[0m \u001b[1m31s\u001b[0m 263ms/step - accuracy: 0.9755 - loss: 0.0752 - precision: 0.9760 - recall: 0.9717 - val_accuracy: 0.8471 - val_loss: 0.8800 - val_precision: 0.8488 - val_recall: 0.8471\n",
      "Epoch 22/30\n",
      "\u001b[1m117/117\u001b[0m \u001b[32m━━━━━━━━━━━━━━━━━━━━\u001b[0m\u001b[37m\u001b[0m \u001b[1m29s\u001b[0m 242ms/step - accuracy: 0.9771 - loss: 0.0681 - precision: 0.9775 - recall: 0.9761 - val_accuracy: 0.8551 - val_loss: 0.9014 - val_precision: 0.8566 - val_recall: 0.8531\n",
      "Epoch 23/30\n",
      "\u001b[1m117/117\u001b[0m \u001b[32m━━━━━━━━━━━━━━━━━━━━\u001b[0m\u001b[37m\u001b[0m \u001b[1m31s\u001b[0m 262ms/step - accuracy: 0.9775 - loss: 0.0721 - precision: 0.9793 - recall: 0.9755 - val_accuracy: 0.8732 - val_loss: 0.8268 - val_precision: 0.8747 - val_recall: 0.8712\n",
      "Epoch 24/30\n",
      "\u001b[1m117/117\u001b[0m \u001b[32m━━━━━━━━━━━━━━━━━━━━\u001b[0m\u001b[37m\u001b[0m \u001b[1m31s\u001b[0m 259ms/step - accuracy: 0.9768 - loss: 0.0686 - precision: 0.9772 - recall: 0.9765 - val_accuracy: 0.8511 - val_loss: 0.9541 - val_precision: 0.8522 - val_recall: 0.8471\n",
      "Epoch 25/30\n",
      "\u001b[1m117/117\u001b[0m \u001b[32m━━━━━━━━━━━━━━━━━━━━\u001b[0m\u001b[37m\u001b[0m \u001b[1m29s\u001b[0m 247ms/step - accuracy: 0.9857 - loss: 0.0459 - precision: 0.9866 - recall: 0.9842 - val_accuracy: 0.8451 - val_loss: 0.9758 - val_precision: 0.8468 - val_recall: 0.8451\n",
      "Epoch 26/30\n",
      "\u001b[1m117/117\u001b[0m \u001b[32m━━━━━━━━━━━━━━━━━━━━\u001b[0m\u001b[37m\u001b[0m \u001b[1m32s\u001b[0m 272ms/step - accuracy: 0.9845 - loss: 0.0550 - precision: 0.9847 - recall: 0.9843 - val_accuracy: 0.8571 - val_loss: 0.9818 - val_precision: 0.8589 - val_recall: 0.8571\n",
      "Epoch 27/30\n",
      "\u001b[1m117/117\u001b[0m \u001b[32m━━━━━━━━━━━━━━━━━━━━\u001b[0m\u001b[37m\u001b[0m \u001b[1m31s\u001b[0m 261ms/step - accuracy: 0.9898 - loss: 0.0351 - precision: 0.9901 - recall: 0.9886 - val_accuracy: 0.8471 - val_loss: 1.0251 - val_precision: 0.8502 - val_recall: 0.8451\n",
      "Epoch 28/30\n",
      "\u001b[1m117/117\u001b[0m \u001b[32m━━━━━━━━━━━━━━━━━━━━\u001b[0m\u001b[37m\u001b[0m \u001b[1m31s\u001b[0m 262ms/step - accuracy: 0.9857 - loss: 0.0423 - precision: 0.9861 - recall: 0.9855 - val_accuracy: 0.8491 - val_loss: 1.0035 - val_precision: 0.8522 - val_recall: 0.8471\n",
      "Epoch 29/30\n",
      "\u001b[1m117/117\u001b[0m \u001b[32m━━━━━━━━━━━━━━━━━━━━\u001b[0m\u001b[37m\u001b[0m \u001b[1m29s\u001b[0m 241ms/step - accuracy: 0.9901 - loss: 0.0351 - precision: 0.9908 - recall: 0.9899 - val_accuracy: 0.8531 - val_loss: 1.0551 - val_precision: 0.8548 - val_recall: 0.8531\n",
      "Epoch 30/30\n",
      "\u001b[1m117/117\u001b[0m \u001b[32m━━━━━━━━━━━━━━━━━━━━\u001b[0m\u001b[37m\u001b[0m \u001b[1m31s\u001b[0m 259ms/step - accuracy: 0.9833 - loss: 0.0453 - precision: 0.9833 - recall: 0.9826 - val_accuracy: 0.8531 - val_loss: 1.1607 - val_precision: 0.8531 - val_recall: 0.8531\n",
      "Predicting on validation set...\n",
      "\u001b[1m16/16\u001b[0m \u001b[32m━━━━━━━━━━━━━━━━━━━━\u001b[0m\u001b[37m\u001b[0m \u001b[1m1s\u001b[0m 58ms/step\n",
      "Sending metrics to clearML...\n",
      "done\n"
     ]
    }
   ],
   "source": [
    "# guassian augmentation (100.0, 200.0)\n",
    "task_name = 'gau100200'\n",
    "sub_project_name = 'GAUSSIAN'\n",
    "\n",
    "augmentation_metadata = {\n",
    "        'methods': {        \n",
    "            'gaussian': {\n",
    "                'parameters': {\n",
    "                    'var_limit': (100.0, 200.0)\n",
    "                },\n",
    "                'apply_to_percentage': 0.5  # 50% of the training images\n",
    "            }        \n",
    "        }\n",
    "    }\n",
    "\n",
    "for i in range(N):\n",
    "    RUN = i + 1\n",
    "    try:\n",
    "        print(f\"Starting RUN: {RUN}\")\n",
    "        main(RUN, augmentation_metadata, task_name, sub_project_name, epochs, train_size, w1, w2)\n",
    "    except Exception as e:\n",
    "        print(f\"Error in RUN: {RUN}\")\n",
    "        print(e)\n",
    "    finally:\n",
    "        clear_output(wait=True)  # Clear the output to avoid scrolling\n",
    "        gc.collect()  # Collect garbage to avoid memory leaks"
   ]
  },
  {
   "cell_type": "code",
   "execution_count": 20,
   "metadata": {},
   "outputs": [
    {
     "name": "stdout",
     "output_type": "stream",
     "text": [
      "Starting RUN: 5\n",
      "Seed:  1985159794\n"
     ]
    },
    {
     "name": "stderr",
     "output_type": "stream",
     "text": [
      "c:\\github\\Third-Year-Project\\Intruder-Aircraft-Detection\\main\\tl_clf.py:79: SettingWithCopyWarning:\n",
      "\n",
      "\n",
      "A value is trying to be set on a copy of a slice from a DataFrame.\n",
      "Try using .loc[row_indexer,col_indexer] = value instead\n",
      "\n",
      "See the caveats in the documentation: https://pandas.pydata.org/pandas-docs/stable/user_guide/indexing.html#returning-a-view-versus-a-copy\n",
      "\n",
      "c:\\github\\Third-Year-Project\\Intruder-Aircraft-Detection\\main\\tl_clf.py:80: SettingWithCopyWarning:\n",
      "\n",
      "\n",
      "A value is trying to be set on a copy of a slice from a DataFrame.\n",
      "Try using .loc[row_indexer,col_indexer] = value instead\n",
      "\n",
      "See the caveats in the documentation: https://pandas.pydata.org/pandas-docs/stable/user_guide/indexing.html#returning-a-view-versus-a-copy\n",
      "\n"
     ]
    },
    {
     "name": "stdout",
     "output_type": "stream",
     "text": [
      "Removing dataset if pre-existing\n",
      "Copying training files:\n"
     ]
    },
    {
     "name": "stderr",
     "output_type": "stream",
     "text": [
      "Copying files: 100%|██████████| 5000/5000 [00:03<00:00, 1461.98it/s]\n"
     ]
    },
    {
     "name": "stdout",
     "output_type": "stream",
     "text": [
      "Copying validation files:\n"
     ]
    },
    {
     "name": "stderr",
     "output_type": "stream",
     "text": [
      "Copying files: 100%|██████████| 1000/1000 [00:04<00:00, 233.66it/s]\n"
     ]
    },
    {
     "name": "stdout",
     "output_type": "stream",
     "text": [
      "Dataset 'weather_45_2500' created at C:\\github\\Third-Year-Project\\Intruder-Aircraft-Detection\\datasets\\Custom\\weather_45_2500\n",
      "Processing train labels in weather_45_2500:\n"
     ]
    },
    {
     "name": "stderr",
     "output_type": "stream",
     "text": [
      "Processing labels: 100%|██████████| 2500/2500 [00:09<00:00, 272.52it/s]\n"
     ]
    },
    {
     "name": "stdout",
     "output_type": "stream",
     "text": [
      "Processing valid labels in weather_45_2500:\n"
     ]
    },
    {
     "name": "stderr",
     "output_type": "stream",
     "text": [
      "Processing labels: 100%|██████████| 500/500 [00:01<00:00, 276.49it/s]\n"
     ]
    },
    {
     "name": "stdout",
     "output_type": "stream",
     "text": [
      "Label correction completed.\n"
     ]
    },
    {
     "name": "stderr",
     "output_type": "stream",
     "text": [
      "Removing existing directories/files: 100%|██████████| 3/3 [00:00<00:00, 6055.30it/s]\n",
      "Copying files: 100%|██████████| 2500/2500 [00:02<00:00, 978.40it/s] \n",
      "Copying files: 100%|██████████| 2500/2500 [00:01<00:00, 1444.68it/s]\n",
      "Applying augmentations: 100%|██████████| 1250/1250 [00:16<00:00, 77.00it/s]\n"
     ]
    },
    {
     "name": "stdout",
     "output_type": "stream",
     "text": [
      "An error occurred: Expected x_max for bbox (0.42271650000000005, 0.6723135, 1.0245235, 1.0735185, 2) to be in the range [0.0, 1.0], got 1.0245235.\n",
      "An error occurred: Expected y_min for bbox (0.31603499999999995, -0.07623150000000001, 0.998717, 0.3788895, 1) to be in the range [0.0, 1.0], got -0.07623150000000001.\n",
      "An error occurred: Expected y_max for bbox (0.14462699999999998, 0.7264375000000001, 0.618055, 1.0420565000000002, 2) to be in the range [0.0, 1.0], got 1.0420565000000002.\n",
      "An error occurred: Expected x_max for bbox (0.487545, 0.513501, 1.0378530000000001, 0.880373, 2) to be in the range [0.0, 1.0], got 1.0378530000000001.\n",
      "An error occurred: Expected x_max for bbox (0.4856945, 0.37555200000000005, 1.0210155, 0.732432, 1) to be in the range [0.0, 1.0], got 1.0210155.\n",
      "An error occurred: Expected y_max for bbox (0.3830585, 0.754232, 0.8080715, 1.037574, 1) to be in the range [0.0, 1.0], got 1.037574.\n",
      "An error occurred: Expected x_max for bbox (0.38456350000000006, 0.2877965, 1.0164545, 0.7090575, 2) to be in the range [0.0, 1.0], got 1.0164545.\n",
      "An error occurred: Expected x_max for bbox (0.189772, 0.575604, 1.100998, 1.1830880000000001, 1) to be in the range [0.0, 1.0], got 1.100998.\n"
     ]
    },
    {
     "name": "stderr",
     "output_type": "stream",
     "text": [
      "Processing images:   0%|          | 0/2500 [00:00<?, ?it/s]"
     ]
    },
    {
     "name": "stdout",
     "output_type": "stream",
     "text": [
      "An error occurred with C:/github/Third-Year-Project/Intruder-Aircraft-Detection/datasets/Custom/weather_45_2500\\images\\train\\28006.jpg: Expected y_min for bbox (0.31603499999999995, -0.07623150000000001, 0.998717, 0.3788895, 1) to be in the range [0.0, 1.0], got -0.07623150000000001.\n"
     ]
    },
    {
     "name": "stderr",
     "output_type": "stream",
     "text": [
      "Processing images:   1%|          | 17/2500 [00:01<02:43, 15.22it/s]"
     ]
    },
    {
     "name": "stdout",
     "output_type": "stream",
     "text": [
      "An error occurred with C:/github/Third-Year-Project/Intruder-Aircraft-Detection/datasets/Custom/weather_45_2500\\images\\train\\28040.jpg: Expected x_min for bbox (-0.0473615, 0.3129345, 0.5972675000000001, 0.7426875, 1) to be in the range [0.0, 1.0], got -0.0473615.\n"
     ]
    },
    {
     "name": "stderr",
     "output_type": "stream",
     "text": [
      "Processing images:   5%|▌         | 127/2500 [00:10<02:51, 13.87it/s]"
     ]
    },
    {
     "name": "stdout",
     "output_type": "stream",
     "text": [
      "An error occurred with C:/github/Third-Year-Project/Intruder-Aircraft-Detection/datasets/Custom/weather_45_2500\\images\\train\\28284.jpg: Expected x_max for bbox (0.189772, 0.575604, 1.100998, 1.1830880000000001, 1) to be in the range [0.0, 1.0], got 1.100998.\n"
     ]
    },
    {
     "name": "stderr",
     "output_type": "stream",
     "text": [
      "Processing images:   6%|▌         | 154/2500 [00:12<02:41, 14.49it/s]"
     ]
    },
    {
     "name": "stdout",
     "output_type": "stream",
     "text": [
      "An error occurred with C:/github/Third-Year-Project/Intruder-Aircraft-Detection/datasets/Custom/weather_45_2500\\images\\train\\28333.jpg: Expected y_min for bbox (0.47015499999999993, -0.022556500000000007, 0.890417, 0.2576185, 1) to be in the range [0.0, 1.0], got -0.022556500000000007.\n"
     ]
    },
    {
     "name": "stderr",
     "output_type": "stream",
     "text": [
      "Processing images:  12%|█▏        | 292/2500 [00:16<01:05, 33.96it/s]"
     ]
    },
    {
     "name": "stdout",
     "output_type": "stream",
     "text": [
      "An error occurred with C:/github/Third-Year-Project/Intruder-Aircraft-Detection/datasets/Custom/weather_45_2500\\images\\train\\28653.jpg: Expected x_max for bbox (0.4856945, 0.37555200000000005, 1.0210155, 0.732432, 1) to be in the range [0.0, 1.0], got 1.0210155.\n"
     ]
    },
    {
     "name": "stderr",
     "output_type": "stream",
     "text": [
      "Processing images:  15%|█▌        | 380/2500 [00:19<01:03, 33.65it/s]"
     ]
    },
    {
     "name": "stdout",
     "output_type": "stream",
     "text": [
      "An error occurred with C:/github/Third-Year-Project/Intruder-Aircraft-Detection/datasets/Custom/weather_45_2500\\images\\train\\28830.jpg: Expected y_max for bbox (0.3830585, 0.754232, 0.8080715, 1.037574, 1) to be in the range [0.0, 1.0], got 1.037574.\n"
     ]
    },
    {
     "name": "stderr",
     "output_type": "stream",
     "text": [
      "Processing images:  16%|█▌        | 401/2500 [00:20<01:02, 33.69it/s]"
     ]
    },
    {
     "name": "stdout",
     "output_type": "stream",
     "text": [
      "An error occurred with C:/github/Third-Year-Project/Intruder-Aircraft-Detection/datasets/Custom/weather_45_2500\\images\\train\\28857.jpg: Expected y_min for bbox (0.2490575, -0.07570950000000001, 0.9783645000000001, 0.4104955, 1) to be in the range [0.0, 1.0], got -0.07570950000000001.\n"
     ]
    },
    {
     "name": "stderr",
     "output_type": "stream",
     "text": [
      "Processing images:  17%|█▋        | 426/2500 [00:20<01:02, 33.14it/s]"
     ]
    },
    {
     "name": "stdout",
     "output_type": "stream",
     "text": [
      "An error occurred with C:/github/Third-Year-Project/Intruder-Aircraft-Detection/datasets/Custom/weather_45_2500\\images\\train\\29013.jpg: Expected y_min for bbox (0.59587, -0.02172049999999999, 0.925314, 0.1979085, 1) to be in the range [0.0, 1.0], got -0.02172049999999999.\n"
     ]
    },
    {
     "name": "stderr",
     "output_type": "stream",
     "text": [
      "Processing images:  32%|███▏      | 791/2500 [00:32<00:52, 32.74it/s]"
     ]
    },
    {
     "name": "stdout",
     "output_type": "stream",
     "text": [
      "An error occurred with C:/github/Third-Year-Project/Intruder-Aircraft-Detection/datasets/Custom/weather_45_2500\\images\\train\\29815.jpg: Expected x_max for bbox (0.18880199999999997, 0.20361949999999995, 1.133998, 0.8337505, 1) to be in the range [0.0, 1.0], got 1.133998.\n"
     ]
    },
    {
     "name": "stderr",
     "output_type": "stream",
     "text": [
      "Processing images:  54%|█████▍    | 1360/2500 [00:49<00:32, 35.04it/s]"
     ]
    },
    {
     "name": "stdout",
     "output_type": "stream",
     "text": [
      "An error occurred with C:/github/Third-Year-Project/Intruder-Aircraft-Detection/datasets/Custom/weather_45_2500\\images\\train\\52037.jpg: Expected x_max for bbox (0.38456350000000006, 0.2877965, 1.0164545, 0.7090575, 2) to be in the range [0.0, 1.0], got 1.0164545.\n"
     ]
    },
    {
     "name": "stderr",
     "output_type": "stream",
     "text": [
      "Processing images:  60%|██████    | 1509/2500 [00:54<00:29, 33.30it/s]"
     ]
    },
    {
     "name": "stdout",
     "output_type": "stream",
     "text": [
      "An error occurred with C:/github/Third-Year-Project/Intruder-Aircraft-Detection/datasets/Custom/weather_45_2500\\images\\train\\52310.jpg: Expected y_max for bbox (0.14462699999999998, 0.7264375000000001, 0.618055, 1.0420565000000002, 2) to be in the range [0.0, 1.0], got 1.0420565000000002.\n"
     ]
    },
    {
     "name": "stderr",
     "output_type": "stream",
     "text": [
      "Processing images:  61%|██████    | 1526/2500 [00:54<00:27, 35.11it/s]"
     ]
    },
    {
     "name": "stdout",
     "output_type": "stream",
     "text": [
      "An error occurred with C:/github/Third-Year-Project/Intruder-Aircraft-Detection/datasets/Custom/weather_45_2500\\images\\train\\52365.jpg: Expected x_max for bbox (0.487545, 0.513501, 1.0378530000000001, 0.880373, 2) to be in the range [0.0, 1.0], got 1.0378530000000001.\n"
     ]
    },
    {
     "name": "stderr",
     "output_type": "stream",
     "text": [
      "Processing images:  78%|███████▊  | 1951/2500 [01:07<00:16, 34.14it/s]"
     ]
    },
    {
     "name": "stdout",
     "output_type": "stream",
     "text": [
      "An error occurred with C:/github/Third-Year-Project/Intruder-Aircraft-Detection/datasets/Custom/weather_45_2500\\images\\train\\53248.jpg: Expected y_max for bbox (0.185026, 0.75632, 0.559774, 1.006152, 2) to be in the range [0.0, 1.0], got 1.006152.\n"
     ]
    },
    {
     "name": "stderr",
     "output_type": "stream",
     "text": [
      "Processing images:  81%|████████  | 2028/2500 [01:10<00:13, 34.59it/s]"
     ]
    },
    {
     "name": "stdout",
     "output_type": "stream",
     "text": [
      "An error occurred with C:/github/Third-Year-Project/Intruder-Aircraft-Detection/datasets/Custom/weather_45_2500\\images\\train\\53420.jpg: Expected x_max for bbox (0.42271650000000005, 0.6723135, 1.0245235, 1.0735185, 2) to be in the range [0.0, 1.0], got 1.0245235.\n"
     ]
    },
    {
     "name": "stderr",
     "output_type": "stream",
     "text": [
      "Processing images:  90%|████████▉ | 2245/2500 [01:17<00:07, 33.81it/s]"
     ]
    },
    {
     "name": "stdout",
     "output_type": "stream",
     "text": [
      "An error occurred with C:/github/Third-Year-Project/Intruder-Aircraft-Detection/datasets/Custom/weather_45_2500\\images\\train\\53840.jpg: Expected x_min for bbox (-0.02357100000000001, 0.633796, 0.577437, 1.034468, 2) to be in the range [0.0, 1.0], got -0.02357100000000001.\n"
     ]
    },
    {
     "name": "stderr",
     "output_type": "stream",
     "text": [
      "Processing images: 100%|██████████| 2500/2500 [01:24<00:00, 29.57it/s]\n",
      "Processing images:   0%|          | 11/3742 [00:00<03:59, 15.60it/s]"
     ]
    },
    {
     "name": "stdout",
     "output_type": "stream",
     "text": [
      "An error occurred with C:/github/Third-Year-Project/Intruder-Aircraft-Detection/datasets/Custom/weather_45_2500\\images\\train-aug\\28006.jpg: Expected y_min for bbox (0.31603499999999995, -0.07623150000000001, 0.998717, 0.3788895, 1) to be in the range [0.0, 1.0], got -0.07623150000000001.\n"
     ]
    },
    {
     "name": "stderr",
     "output_type": "stream",
     "text": [
      "Processing images:   1%|          | 31/3742 [00:02<04:59, 12.39it/s]"
     ]
    },
    {
     "name": "stdout",
     "output_type": "stream",
     "text": [
      "An error occurred with C:/github/Third-Year-Project/Intruder-Aircraft-Detection/datasets/Custom/weather_45_2500\\images\\train-aug\\28040.jpg: Expected x_min for bbox (-0.0473615, 0.3129345, 0.5972675000000001, 0.7426875, 1) to be in the range [0.0, 1.0], got -0.0473615.\n"
     ]
    },
    {
     "name": "stderr",
     "output_type": "stream",
     "text": [
      "Processing images:   5%|▌         | 192/3742 [00:13<03:47, 15.63it/s]"
     ]
    },
    {
     "name": "stdout",
     "output_type": "stream",
     "text": [
      "An error occurred with C:/github/Third-Year-Project/Intruder-Aircraft-Detection/datasets/Custom/weather_45_2500\\images\\train-aug\\28284.jpg: Expected x_max for bbox (0.189772, 0.575604, 1.100998, 1.1830880000000001, 1) to be in the range [0.0, 1.0], got 1.100998.\n"
     ]
    },
    {
     "name": "stderr",
     "output_type": "stream",
     "text": [
      "Processing images:   6%|▌         | 223/3742 [00:16<03:55, 14.97it/s]"
     ]
    },
    {
     "name": "stdout",
     "output_type": "stream",
     "text": [
      "An error occurred with C:/github/Third-Year-Project/Intruder-Aircraft-Detection/datasets/Custom/weather_45_2500\\images\\train-aug\\28333.jpg: Expected y_min for bbox (0.47015499999999993, -0.022556500000000007, 0.890417, 0.2576185, 1) to be in the range [0.0, 1.0], got -0.022556500000000007.\n"
     ]
    },
    {
     "name": "stderr",
     "output_type": "stream",
     "text": [
      "Processing images:  12%|█▏        | 438/3742 [00:26<01:37, 33.93it/s]"
     ]
    },
    {
     "name": "stdout",
     "output_type": "stream",
     "text": [
      "An error occurred with C:/github/Third-Year-Project/Intruder-Aircraft-Detection/datasets/Custom/weather_45_2500\\images\\train-aug\\28653.jpg: Expected x_max for bbox (0.4856945, 0.37555200000000005, 1.0210155, 0.732432, 1) to be in the range [0.0, 1.0], got 1.0210155.\n"
     ]
    },
    {
     "name": "stderr",
     "output_type": "stream",
     "text": [
      "Processing images:  15%|█▌        | 566/3742 [00:30<01:38, 32.13it/s]"
     ]
    },
    {
     "name": "stdout",
     "output_type": "stream",
     "text": [
      "An error occurred with C:/github/Third-Year-Project/Intruder-Aircraft-Detection/datasets/Custom/weather_45_2500\\images\\train-aug\\28830.jpg: Expected y_max for bbox (0.3830585, 0.754232, 0.8080715, 1.037574, 1) to be in the range [0.0, 1.0], got 1.037574.\n"
     ]
    },
    {
     "name": "stderr",
     "output_type": "stream",
     "text": [
      "Processing images:  16%|█▌        | 591/3742 [00:31<01:33, 33.80it/s]"
     ]
    },
    {
     "name": "stdout",
     "output_type": "stream",
     "text": [
      "An error occurred with C:/github/Third-Year-Project/Intruder-Aircraft-Detection/datasets/Custom/weather_45_2500\\images\\train-aug\\28857.jpg: Expected y_min for bbox (0.2490575, -0.07570950000000001, 0.9783645000000001, 0.4104955, 1) to be in the range [0.0, 1.0], got -0.07570950000000001.\n"
     ]
    },
    {
     "name": "stderr",
     "output_type": "stream",
     "text": [
      "Processing images:  17%|█▋        | 636/3742 [00:32<01:32, 33.66it/s]"
     ]
    },
    {
     "name": "stdout",
     "output_type": "stream",
     "text": [
      "An error occurred with C:/github/Third-Year-Project/Intruder-Aircraft-Detection/datasets/Custom/weather_45_2500\\images\\train-aug\\29013.jpg: Expected y_min for bbox (0.59587, -0.02172049999999999, 0.925314, 0.1979085, 1) to be in the range [0.0, 1.0], got -0.02172049999999999.\n"
     ]
    },
    {
     "name": "stderr",
     "output_type": "stream",
     "text": [
      "Processing images:  32%|███▏      | 1197/3742 [00:50<01:17, 32.79it/s]"
     ]
    },
    {
     "name": "stdout",
     "output_type": "stream",
     "text": [
      "An error occurred with C:/github/Third-Year-Project/Intruder-Aircraft-Detection/datasets/Custom/weather_45_2500\\images\\train-aug\\29815.jpg: Expected x_max for bbox (0.18880199999999997, 0.20361949999999995, 1.133998, 0.8337505, 1) to be in the range [0.0, 1.0], got 1.133998.\n"
     ]
    },
    {
     "name": "stderr",
     "output_type": "stream",
     "text": [
      "Processing images:  54%|█████▍    | 2038/3742 [01:15<00:49, 34.72it/s]"
     ]
    },
    {
     "name": "stdout",
     "output_type": "stream",
     "text": [
      "An error occurred with C:/github/Third-Year-Project/Intruder-Aircraft-Detection/datasets/Custom/weather_45_2500\\images\\train-aug\\52037.jpg: Expected x_max for bbox (0.38456350000000006, 0.2877965, 1.0164545, 0.7090575, 2) to be in the range [0.0, 1.0], got 1.0164545.\n"
     ]
    },
    {
     "name": "stderr",
     "output_type": "stream",
     "text": [
      "Processing images:  60%|██████    | 2255/3742 [01:22<00:44, 33.58it/s]"
     ]
    },
    {
     "name": "stdout",
     "output_type": "stream",
     "text": [
      "An error occurred with C:/github/Third-Year-Project/Intruder-Aircraft-Detection/datasets/Custom/weather_45_2500\\images\\train-aug\\52310.jpg: Expected y_max for bbox (0.14462699999999998, 0.7264375000000001, 0.618055, 1.0420565000000002, 2) to be in the range [0.0, 1.0], got 1.0420565000000002.\n"
     ]
    },
    {
     "name": "stderr",
     "output_type": "stream",
     "text": [
      "Processing images:  61%|██████    | 2288/3742 [01:23<00:43, 33.73it/s]"
     ]
    },
    {
     "name": "stdout",
     "output_type": "stream",
     "text": [
      "An error occurred with C:/github/Third-Year-Project/Intruder-Aircraft-Detection/datasets/Custom/weather_45_2500\\images\\train-aug\\52365.jpg: Expected x_max for bbox (0.487545, 0.513501, 1.0378530000000001, 0.880373, 2) to be in the range [0.0, 1.0], got 1.0378530000000001.\n"
     ]
    },
    {
     "name": "stderr",
     "output_type": "stream",
     "text": [
      "Processing images:  78%|███████▊  | 2921/3742 [01:43<00:22, 36.14it/s]"
     ]
    },
    {
     "name": "stdout",
     "output_type": "stream",
     "text": [
      "An error occurred with C:/github/Third-Year-Project/Intruder-Aircraft-Detection/datasets/Custom/weather_45_2500\\images\\train-aug\\53248.jpg: Expected y_max for bbox (0.185026, 0.75632, 0.559774, 1.006152, 2) to be in the range [0.0, 1.0], got 1.006152.\n"
     ]
    },
    {
     "name": "stderr",
     "output_type": "stream",
     "text": [
      "Processing images:  81%|████████  | 3034/3742 [01:46<00:19, 35.43it/s]"
     ]
    },
    {
     "name": "stdout",
     "output_type": "stream",
     "text": [
      "An error occurred with C:/github/Third-Year-Project/Intruder-Aircraft-Detection/datasets/Custom/weather_45_2500\\images\\train-aug\\53420.jpg: Expected x_max for bbox (0.42271650000000005, 0.6723135, 1.0245235, 1.0735185, 2) to be in the range [0.0, 1.0], got 1.0245235.\n"
     ]
    },
    {
     "name": "stderr",
     "output_type": "stream",
     "text": [
      "Processing images:  90%|████████▉ | 3351/3742 [01:56<00:11, 34.44it/s]"
     ]
    },
    {
     "name": "stdout",
     "output_type": "stream",
     "text": [
      "An error occurred with C:/github/Third-Year-Project/Intruder-Aircraft-Detection/datasets/Custom/weather_45_2500\\images\\train-aug\\53840.jpg: Expected x_min for bbox (-0.02357100000000001, 0.633796, 0.577437, 1.034468, 2) to be in the range [0.0, 1.0], got -0.02357100000000001.\n"
     ]
    },
    {
     "name": "stderr",
     "output_type": "stream",
     "text": [
      "Processing images: 100%|██████████| 3742/3742 [02:08<00:00, 29.22it/s]\n",
      "Processing images:  54%|█████▎    | 268/500 [00:09<00:06, 34.81it/s]"
     ]
    },
    {
     "name": "stdout",
     "output_type": "stream",
     "text": [
      "An error occurred with C:/github/Third-Year-Project/Intruder-Aircraft-Detection/datasets/Custom/weather_45_2500\\images\\valid\\52916.jpg: In YOLO format all coordinates must be float and in range (0, 1]\n"
     ]
    },
    {
     "name": "stderr",
     "output_type": "stream",
     "text": [
      "Processing images:  55%|█████▌    | 277/500 [00:10<00:06, 34.90it/s]"
     ]
    },
    {
     "name": "stdout",
     "output_type": "stream",
     "text": [
      "An error occurred with C:/github/Third-Year-Project/Intruder-Aircraft-Detection/datasets/Custom/weather_45_2500\\images\\valid\\52925.jpg: Expected x_min for bbox (-0.17107, 0.23527800000000004, 0.669476, 0.795642, 2) to be in the range [0.0, 1.0], got -0.17107.\n"
     ]
    },
    {
     "name": "stderr",
     "output_type": "stream",
     "text": [
      "Processing images:  75%|███████▌  | 377/500 [00:13<00:03, 33.33it/s]"
     ]
    },
    {
     "name": "stdout",
     "output_type": "stream",
     "text": [
      "An error occurred with C:/github/Third-Year-Project/Intruder-Aircraft-Detection/datasets/Custom/weather_45_2500\\images\\valid\\53950.jpg: Expected y_min for bbox (0.15967549999999997, -0.06710449999999998, 0.9726885, 0.47490449999999995, 2) to be in the range [0.0, 1.0], got -0.06710449999999998.\n"
     ]
    },
    {
     "name": "stderr",
     "output_type": "stream",
     "text": [
      "Processing images: 100%|██████████| 500/500 [00:16<00:00, 29.46it/s]\n",
      "Moving images in train: 100%|██████████| 2485/2485 [00:08<00:00, 280.59it/s]\n",
      "Moving images in train-aug: 100%|██████████| 3727/3727 [00:13<00:00, 269.48it/s]\n",
      "Moving images in valid: 100%|██████████| 497/497 [00:01<00:00, 291.41it/s]\n"
     ]
    },
    {
     "name": "stdout",
     "output_type": "stream",
     "text": [
      "Found 2485 files belonging to 3 classes.\n",
      "Found 3727 files belonging to 3 classes.\n",
      "Found 497 files belonging to 3 classes.\n",
      "ClearML Task: created new task id=c02b2a68f723453f875cdd33605ab371\n",
      "ClearML results page: https://app.clear.ml/projects/5a674be4cf0f473c808dd42f7b83358f/experiments/c02b2a68f723453f875cdd33605ab371/output/log\n",
      "Training model...\n",
      "Epoch 1/30\n",
      "\u001b[1m78/78\u001b[0m \u001b[32m━━━━━━━━━━━━━━━━━━━━\u001b[0m\u001b[37m\u001b[0m \u001b[1m24s\u001b[0m 278ms/step - accuracy: 0.3416 - loss: 1.3080 - precision: 0.3527 - recall: 0.0761 - val_accuracy: 0.3360 - val_loss: 1.0987 - val_precision: 0.0000e+00 - val_recall: 0.0000e+00\n",
      "Epoch 2/30\n",
      "\u001b[1m78/78\u001b[0m \u001b[32m━━━━━━━━━━━━━━━━━━━━\u001b[0m\u001b[37m\u001b[0m \u001b[1m19s\u001b[0m 245ms/step - accuracy: 0.3241 - loss: 1.0993 - precision: 0.0000e+00 - recall: 0.0000e+00 - val_accuracy: 0.3360 - val_loss: 1.0986 - val_precision: 0.0000e+00 - val_recall: 0.0000e+00\n",
      "Epoch 3/30\n",
      "\u001b[1m78/78\u001b[0m \u001b[32m━━━━━━━━━━━━━━━━━━━━\u001b[0m\u001b[37m\u001b[0m \u001b[1m22s\u001b[0m 277ms/step - accuracy: 0.3090 - loss: 1.0987 - precision: 0.0000e+00 - recall: 0.0000e+00 - val_accuracy: 0.3742 - val_loss: 1.0986 - val_precision: 0.0000e+00 - val_recall: 0.0000e+00\n",
      "Epoch 4/30\n",
      "\u001b[1m78/78\u001b[0m \u001b[32m━━━━━━━━━━━━━━━━━━━━\u001b[0m\u001b[37m\u001b[0m \u001b[1m19s\u001b[0m 244ms/step - accuracy: 0.3505 - loss: 1.1011 - precision: 0.4351 - recall: 9.5400e-04 - val_accuracy: 0.5594 - val_loss: 1.0921 - val_precision: 0.0000e+00 - val_recall: 0.0000e+00\n",
      "Epoch 5/30\n",
      "\u001b[1m78/78\u001b[0m \u001b[32m━━━━━━━━━━━━━━━━━━━━\u001b[0m\u001b[37m\u001b[0m \u001b[1m22s\u001b[0m 278ms/step - accuracy: 0.5103 - loss: 1.0723 - precision: 0.5465 - recall: 0.0385 - val_accuracy: 0.5996 - val_loss: 0.9654 - val_precision: 0.7342 - val_recall: 0.1167\n",
      "Epoch 6/30\n",
      "\u001b[1m78/78\u001b[0m \u001b[32m━━━━━━━━━━━━━━━━━━━━\u001b[0m\u001b[37m\u001b[0m \u001b[1m19s\u001b[0m 243ms/step - accuracy: 0.5571 - loss: 0.9245 - precision: 0.6920 - recall: 0.2976 - val_accuracy: 0.6298 - val_loss: 0.8385 - val_precision: 0.7333 - val_recall: 0.4648\n",
      "Epoch 7/30\n",
      "\u001b[1m78/78\u001b[0m \u001b[32m━━━━━━━━━━━━━━━━━━━━\u001b[0m\u001b[37m\u001b[0m \u001b[1m22s\u001b[0m 276ms/step - accuracy: 0.6846 - loss: 0.7188 - precision: 0.7440 - recall: 0.5830 - val_accuracy: 0.7082 - val_loss: 0.7458 - val_precision: 0.7645 - val_recall: 0.5553\n",
      "Epoch 8/30\n",
      "\u001b[1m78/78\u001b[0m \u001b[32m━━━━━━━━━━━━━━━━━━━━\u001b[0m\u001b[37m\u001b[0m \u001b[1m19s\u001b[0m 245ms/step - accuracy: 0.7638 - loss: 0.5748 - precision: 0.8012 - recall: 0.6995 - val_accuracy: 0.7847 - val_loss: 0.6170 - val_precision: 0.7941 - val_recall: 0.7525\n",
      "Epoch 9/30\n",
      "\u001b[1m78/78\u001b[0m \u001b[32m━━━━━━━━━━━━━━━━━━━━\u001b[0m\u001b[37m\u001b[0m \u001b[1m22s\u001b[0m 276ms/step - accuracy: 0.8110 - loss: 0.4626 - precision: 0.8272 - recall: 0.7929 - val_accuracy: 0.7807 - val_loss: 0.6457 - val_precision: 0.7899 - val_recall: 0.7565\n",
      "Epoch 10/30\n",
      "\u001b[1m78/78\u001b[0m \u001b[32m━━━━━━━━━━━━━━━━━━━━\u001b[0m\u001b[37m\u001b[0m \u001b[1m19s\u001b[0m 243ms/step - accuracy: 0.8449 - loss: 0.3907 - precision: 0.8622 - recall: 0.8322 - val_accuracy: 0.8008 - val_loss: 0.6511 - val_precision: 0.8082 - val_recall: 0.7887\n",
      "Epoch 11/30\n",
      "\u001b[1m78/78\u001b[0m \u001b[32m━━━━━━━━━━━━━━━━━━━━\u001b[0m\u001b[37m\u001b[0m \u001b[1m22s\u001b[0m 277ms/step - accuracy: 0.8643 - loss: 0.3297 - precision: 0.8758 - recall: 0.8583 - val_accuracy: 0.8149 - val_loss: 0.6746 - val_precision: 0.8257 - val_recall: 0.8008\n",
      "Epoch 12/30\n",
      "\u001b[1m78/78\u001b[0m \u001b[32m━━━━━━━━━━━━━━━━━━━━\u001b[0m\u001b[37m\u001b[0m \u001b[1m20s\u001b[0m 248ms/step - accuracy: 0.8903 - loss: 0.2899 - precision: 0.8996 - recall: 0.8793 - val_accuracy: 0.8249 - val_loss: 0.6548 - val_precision: 0.8252 - val_recall: 0.8169\n",
      "Epoch 13/30\n",
      "\u001b[1m78/78\u001b[0m \u001b[32m━━━━━━━━━━━━━━━━━━━━\u001b[0m\u001b[37m\u001b[0m \u001b[1m22s\u001b[0m 275ms/step - accuracy: 0.8878 - loss: 0.2732 - precision: 0.8987 - recall: 0.8802 - val_accuracy: 0.7847 - val_loss: 0.7200 - val_precision: 0.8017 - val_recall: 0.7565\n",
      "Epoch 14/30\n",
      "\u001b[1m78/78\u001b[0m \u001b[32m━━━━━━━━━━━━━━━━━━━━\u001b[0m\u001b[37m\u001b[0m \u001b[1m20s\u001b[0m 247ms/step - accuracy: 0.8914 - loss: 0.3035 - precision: 0.8991 - recall: 0.8789 - val_accuracy: 0.8089 - val_loss: 0.7124 - val_precision: 0.8189 - val_recall: 0.8008\n",
      "Epoch 15/30\n",
      "\u001b[1m78/78\u001b[0m \u001b[32m━━━━━━━━━━━━━━━━━━━━\u001b[0m\u001b[37m\u001b[0m \u001b[1m22s\u001b[0m 279ms/step - accuracy: 0.9022 - loss: 0.2612 - precision: 0.9072 - recall: 0.8931 - val_accuracy: 0.8149 - val_loss: 0.7117 - val_precision: 0.8193 - val_recall: 0.8028\n",
      "Epoch 16/30\n",
      "\u001b[1m78/78\u001b[0m \u001b[32m━━━━━━━━━━━━━━━━━━━━\u001b[0m\u001b[37m\u001b[0m \u001b[1m20s\u001b[0m 246ms/step - accuracy: 0.9076 - loss: 0.2327 - precision: 0.9168 - recall: 0.9015 - val_accuracy: 0.8290 - val_loss: 0.7090 - val_precision: 0.8333 - val_recall: 0.8249\n",
      "Epoch 17/30\n",
      "\u001b[1m78/78\u001b[0m \u001b[32m━━━━━━━━━━━━━━━━━━━━\u001b[0m\u001b[37m\u001b[0m \u001b[1m24s\u001b[0m 300ms/step - accuracy: 0.9301 - loss: 0.2026 - precision: 0.9348 - recall: 0.9263 - val_accuracy: 0.8249 - val_loss: 0.7580 - val_precision: 0.8293 - val_recall: 0.8209\n",
      "Epoch 18/30\n",
      "\u001b[1m78/78\u001b[0m \u001b[32m━━━━━━━━━━━━━━━━━━━━\u001b[0m\u001b[37m\u001b[0m \u001b[1m20s\u001b[0m 247ms/step - accuracy: 0.9387 - loss: 0.1747 - precision: 0.9424 - recall: 0.9361 - val_accuracy: 0.8410 - val_loss: 0.7966 - val_precision: 0.8455 - val_recall: 0.8370\n",
      "Epoch 19/30\n",
      "\u001b[1m78/78\u001b[0m \u001b[32m━━━━━━━━━━━━━━━━━━━━\u001b[0m\u001b[37m\u001b[0m \u001b[1m22s\u001b[0m 277ms/step - accuracy: 0.9312 - loss: 0.1886 - precision: 0.9365 - recall: 0.9255 - val_accuracy: 0.8370 - val_loss: 0.8895 - val_precision: 0.8404 - val_recall: 0.8370\n",
      "Epoch 20/30\n",
      "\u001b[1m78/78\u001b[0m \u001b[32m━━━━━━━━━━━━━━━━━━━━\u001b[0m\u001b[37m\u001b[0m \u001b[1m20s\u001b[0m 247ms/step - accuracy: 0.9393 - loss: 0.1664 - precision: 0.9413 - recall: 0.9379 - val_accuracy: 0.8330 - val_loss: 0.8637 - val_precision: 0.8343 - val_recall: 0.8310\n",
      "Epoch 21/30\n",
      "\u001b[1m78/78\u001b[0m \u001b[32m━━━━━━━━━━━━━━━━━━━━\u001b[0m\u001b[37m\u001b[0m \u001b[1m22s\u001b[0m 275ms/step - accuracy: 0.9417 - loss: 0.1718 - precision: 0.9444 - recall: 0.9377 - val_accuracy: 0.8270 - val_loss: 0.8945 - val_precision: 0.8296 - val_recall: 0.8229\n",
      "Epoch 22/30\n",
      "\u001b[1m78/78\u001b[0m \u001b[32m━━━━━━━━━━━━━━━━━━━━\u001b[0m\u001b[37m\u001b[0m \u001b[1m20s\u001b[0m 247ms/step - accuracy: 0.9502 - loss: 0.1482 - precision: 0.9522 - recall: 0.9435 - val_accuracy: 0.8330 - val_loss: 0.9652 - val_precision: 0.8327 - val_recall: 0.8310\n",
      "Epoch 23/30\n",
      "\u001b[1m78/78\u001b[0m \u001b[32m━━━━━━━━━━━━━━━━━━━━\u001b[0m\u001b[37m\u001b[0m \u001b[1m21s\u001b[0m 265ms/step - accuracy: 0.9443 - loss: 0.1559 - precision: 0.9469 - recall: 0.9427 - val_accuracy: 0.8390 - val_loss: 0.9595 - val_precision: 0.8404 - val_recall: 0.8370\n",
      "Epoch 24/30\n",
      "\u001b[1m78/78\u001b[0m \u001b[32m━━━━━━━━━━━━━━━━━━━━\u001b[0m\u001b[37m\u001b[0m \u001b[1m20s\u001b[0m 247ms/step - accuracy: 0.9504 - loss: 0.1349 - precision: 0.9544 - recall: 0.9458 - val_accuracy: 0.8209 - val_loss: 0.8371 - val_precision: 0.8337 - val_recall: 0.8169\n",
      "Epoch 25/30\n",
      "\u001b[1m78/78\u001b[0m \u001b[32m━━━━━━━━━━━━━━━━━━━━\u001b[0m\u001b[37m\u001b[0m \u001b[1m20s\u001b[0m 252ms/step - accuracy: 0.9414 - loss: 0.1452 - precision: 0.9477 - recall: 0.9380 - val_accuracy: 0.8209 - val_loss: 1.0981 - val_precision: 0.8242 - val_recall: 0.8209\n",
      "Epoch 26/30\n",
      "\u001b[1m78/78\u001b[0m \u001b[32m━━━━━━━━━━━━━━━━━━━━\u001b[0m\u001b[37m\u001b[0m \u001b[1m21s\u001b[0m 270ms/step - accuracy: 0.9532 - loss: 0.1175 - precision: 0.9543 - recall: 0.9514 - val_accuracy: 0.8068 - val_loss: 1.0137 - val_precision: 0.8122 - val_recall: 0.8008\n",
      "Epoch 27/30\n",
      "\u001b[1m78/78\u001b[0m \u001b[32m━━━━━━━━━━━━━━━━━━━━\u001b[0m\u001b[37m\u001b[0m \u001b[1m20s\u001b[0m 254ms/step - accuracy: 0.9450 - loss: 0.1534 - precision: 0.9497 - recall: 0.9413 - val_accuracy: 0.8370 - val_loss: 1.0080 - val_precision: 0.8401 - val_recall: 0.8350\n",
      "Epoch 28/30\n",
      "\u001b[1m78/78\u001b[0m \u001b[32m━━━━━━━━━━━━━━━━━━━━\u001b[0m\u001b[37m\u001b[0m \u001b[1m21s\u001b[0m 268ms/step - accuracy: 0.9597 - loss: 0.1088 - precision: 0.9633 - recall: 0.9585 - val_accuracy: 0.8471 - val_loss: 0.9998 - val_precision: 0.8482 - val_recall: 0.8431\n",
      "Epoch 29/30\n",
      "\u001b[1m78/78\u001b[0m \u001b[32m━━━━━━━━━━━━━━━━━━━━\u001b[0m\u001b[37m\u001b[0m \u001b[1m20s\u001b[0m 254ms/step - accuracy: 0.9708 - loss: 0.0876 - precision: 0.9730 - recall: 0.9686 - val_accuracy: 0.8491 - val_loss: 1.0756 - val_precision: 0.8508 - val_recall: 0.8491\n",
      "Epoch 30/30\n",
      "\u001b[1m78/78\u001b[0m \u001b[32m━━━━━━━━━━━━━━━━━━━━\u001b[0m\u001b[37m\u001b[0m \u001b[1m21s\u001b[0m 271ms/step - accuracy: 0.9712 - loss: 0.0896 - precision: 0.9731 - recall: 0.9696 - val_accuracy: 0.8511 - val_loss: 1.1086 - val_precision: 0.8528 - val_recall: 0.8511\n",
      "Predicting on validation set...\n",
      "\u001b[1m16/16\u001b[0m \u001b[32m━━━━━━━━━━━━━━━━━━━━\u001b[0m\u001b[37m\u001b[0m \u001b[1m1s\u001b[0m 59ms/step\n",
      "Sending metrics to clearML...\n",
      "done\n",
      "ClearML Task: created new task id=681b721ec4b74ada847ee571570441d1\n",
      "ClearML results page: https://app.clear.ml/projects/5a674be4cf0f473c808dd42f7b83358f/experiments/681b721ec4b74ada847ee571570441d1/output/log\n",
      "Training model...\n",
      "Epoch 1/30\n",
      "\u001b[1m117/117\u001b[0m \u001b[32m━━━━━━━━━━━━━━━━━━━━\u001b[0m\u001b[37m\u001b[0m \u001b[1m35s\u001b[0m 285ms/step - accuracy: 0.3532 - loss: 1.3992 - precision: 0.3664 - recall: 0.0575 - val_accuracy: 0.4567 - val_loss: 1.0657 - val_precision: 1.0000 - val_recall: 0.0020\n",
      "Epoch 2/30\n",
      "\u001b[1m117/117\u001b[0m \u001b[32m━━━━━━━━━━━━━━━━━━━━\u001b[0m\u001b[37m\u001b[0m \u001b[1m31s\u001b[0m 263ms/step - accuracy: 0.4835 - loss: 1.0611 - precision: 0.5605 - recall: 0.0864 - val_accuracy: 0.5191 - val_loss: 1.0295 - val_precision: 0.7538 - val_recall: 0.0986\n",
      "Epoch 3/30\n",
      "\u001b[1m117/117\u001b[0m \u001b[32m━━━━━━━━━━━━━━━━━━━━\u001b[0m\u001b[37m\u001b[0m \u001b[1m31s\u001b[0m 263ms/step - accuracy: 0.5907 - loss: 0.9522 - precision: 0.6938 - recall: 0.2483 - val_accuracy: 0.6801 - val_loss: 0.7589 - val_precision: 0.7623 - val_recall: 0.5292\n",
      "Epoch 4/30\n",
      "\u001b[1m117/117\u001b[0m \u001b[32m━━━━━━━━━━━━━━━━━━━━\u001b[0m\u001b[37m\u001b[0m \u001b[1m29s\u001b[0m 243ms/step - accuracy: 0.7247 - loss: 0.6798 - precision: 0.7603 - recall: 0.6461 - val_accuracy: 0.7787 - val_loss: 0.6190 - val_precision: 0.8009 - val_recall: 0.7123\n",
      "Epoch 5/30\n",
      "\u001b[1m117/117\u001b[0m \u001b[32m━━━━━━━━━━━━━━━━━━━━\u001b[0m\u001b[37m\u001b[0m \u001b[1m31s\u001b[0m 263ms/step - accuracy: 0.7909 - loss: 0.5364 - precision: 0.8066 - recall: 0.7562 - val_accuracy: 0.7787 - val_loss: 0.5918 - val_precision: 0.7890 - val_recall: 0.7525\n",
      "Epoch 6/30\n",
      "\u001b[1m117/117\u001b[0m \u001b[32m━━━━━━━━━━━━━━━━━━━━\u001b[0m\u001b[37m\u001b[0m \u001b[1m31s\u001b[0m 265ms/step - accuracy: 0.8265 - loss: 0.4498 - precision: 0.8430 - recall: 0.8066 - val_accuracy: 0.7787 - val_loss: 0.6099 - val_precision: 0.7954 - val_recall: 0.7666\n",
      "Epoch 7/30\n",
      "\u001b[1m117/117\u001b[0m \u001b[32m━━━━━━━━━━━━━━━━━━━━\u001b[0m\u001b[37m\u001b[0m \u001b[1m30s\u001b[0m 250ms/step - accuracy: 0.8423 - loss: 0.3946 - precision: 0.8576 - recall: 0.8242 - val_accuracy: 0.8249 - val_loss: 0.6273 - val_precision: 0.8388 - val_recall: 0.8169\n",
      "Epoch 8/30\n",
      "\u001b[1m117/117\u001b[0m \u001b[32m━━━━━━━━━━━━━━━━━━━━\u001b[0m\u001b[37m\u001b[0m \u001b[1m31s\u001b[0m 259ms/step - accuracy: 0.8744 - loss: 0.3386 - precision: 0.8824 - recall: 0.8648 - val_accuracy: 0.7465 - val_loss: 0.6555 - val_precision: 0.7651 - val_recall: 0.7404\n",
      "Epoch 9/30\n",
      "\u001b[1m117/117\u001b[0m \u001b[32m━━━━━━━━━━━━━━━━━━━━\u001b[0m\u001b[37m\u001b[0m \u001b[1m31s\u001b[0m 263ms/step - accuracy: 0.8837 - loss: 0.3017 - precision: 0.8938 - recall: 0.8702 - val_accuracy: 0.8068 - val_loss: 0.6636 - val_precision: 0.8212 - val_recall: 0.7948\n",
      "Epoch 10/30\n",
      "\u001b[1m117/117\u001b[0m \u001b[32m━━━━━━━━━━━━━━━━━━━━\u001b[0m\u001b[37m\u001b[0m \u001b[1m31s\u001b[0m 262ms/step - accuracy: 0.9113 - loss: 0.2514 - precision: 0.9174 - recall: 0.9048 - val_accuracy: 0.8249 - val_loss: 0.6402 - val_precision: 0.8303 - val_recall: 0.8169\n",
      "Epoch 11/30\n",
      "\u001b[1m117/117\u001b[0m \u001b[32m━━━━━━━━━━━━━━━━━━━━\u001b[0m\u001b[37m\u001b[0m \u001b[1m29s\u001b[0m 243ms/step - accuracy: 0.9121 - loss: 0.2398 - precision: 0.9184 - recall: 0.9064 - val_accuracy: 0.8189 - val_loss: 0.7577 - val_precision: 0.8185 - val_recall: 0.8169\n",
      "Epoch 12/30\n",
      "\u001b[1m117/117\u001b[0m \u001b[32m━━━━━━━━━━━━━━━━━━━━\u001b[0m\u001b[37m\u001b[0m \u001b[1m31s\u001b[0m 263ms/step - accuracy: 0.9363 - loss: 0.2014 - precision: 0.9413 - recall: 0.9313 - val_accuracy: 0.6640 - val_loss: 1.6869 - val_precision: 0.6763 - val_recall: 0.6559\n",
      "Epoch 13/30\n",
      "\u001b[1m117/117\u001b[0m \u001b[32m━━━━━━━━━━━━━━━━━━━━\u001b[0m\u001b[37m\u001b[0m \u001b[1m33s\u001b[0m 280ms/step - accuracy: 0.8211 - loss: 0.4789 - precision: 0.8650 - recall: 0.7760 - val_accuracy: 0.8310 - val_loss: 0.6933 - val_precision: 0.8364 - val_recall: 0.8229\n",
      "Epoch 14/30\n",
      "\u001b[1m117/117\u001b[0m \u001b[32m━━━━━━━━━━━━━━━━━━━━\u001b[0m\u001b[37m\u001b[0m \u001b[1m29s\u001b[0m 242ms/step - accuracy: 0.9280 - loss: 0.2070 - precision: 0.9323 - recall: 0.9218 - val_accuracy: 0.8068 - val_loss: 0.9582 - val_precision: 0.8147 - val_recall: 0.8048\n",
      "Epoch 15/30\n",
      "\u001b[1m117/117\u001b[0m \u001b[32m━━━━━━━━━━━━━━━━━━━━\u001b[0m\u001b[37m\u001b[0m \u001b[1m31s\u001b[0m 260ms/step - accuracy: 0.9433 - loss: 0.1583 - precision: 0.9460 - recall: 0.9394 - val_accuracy: 0.8270 - val_loss: 0.9621 - val_precision: 0.8286 - val_recall: 0.8169\n",
      "Epoch 16/30\n",
      "\u001b[1m117/117\u001b[0m \u001b[32m━━━━━━━━━━━━━━━━━━━━\u001b[0m\u001b[37m\u001b[0m \u001b[1m31s\u001b[0m 264ms/step - accuracy: 0.9401 - loss: 0.1628 - precision: 0.9439 - recall: 0.9358 - val_accuracy: 0.8270 - val_loss: 0.9512 - val_precision: 0.8323 - val_recall: 0.8189\n",
      "Epoch 17/30\n",
      "\u001b[1m117/117\u001b[0m \u001b[32m━━━━━━━━━━━━━━━━━━━━\u001b[0m\u001b[37m\u001b[0m \u001b[1m30s\u001b[0m 257ms/step - accuracy: 0.9578 - loss: 0.1227 - precision: 0.9598 - recall: 0.9568 - val_accuracy: 0.8290 - val_loss: 0.9866 - val_precision: 0.8283 - val_recall: 0.8249\n",
      "Epoch 18/30\n",
      "\u001b[1m117/117\u001b[0m \u001b[32m━━━━━━━━━━━━━━━━━━━━\u001b[0m\u001b[37m\u001b[0m \u001b[1m29s\u001b[0m 243ms/step - accuracy: 0.9550 - loss: 0.1226 - precision: 0.9601 - recall: 0.9537 - val_accuracy: 0.8431 - val_loss: 0.9032 - val_precision: 0.8441 - val_recall: 0.8390\n",
      "Epoch 19/30\n",
      "\u001b[1m117/117\u001b[0m \u001b[32m━━━━━━━━━━━━━━━━━━━━\u001b[0m\u001b[37m\u001b[0m \u001b[1m31s\u001b[0m 263ms/step - accuracy: 0.9628 - loss: 0.1027 - precision: 0.9654 - recall: 0.9609 - val_accuracy: 0.8209 - val_loss: 0.9515 - val_precision: 0.8239 - val_recall: 0.8189\n",
      "Epoch 20/30\n",
      "\u001b[1m117/117\u001b[0m \u001b[32m━━━━━━━━━━━━━━━━━━━━\u001b[0m\u001b[37m\u001b[0m \u001b[1m31s\u001b[0m 263ms/step - accuracy: 0.9666 - loss: 0.0973 - precision: 0.9676 - recall: 0.9653 - val_accuracy: 0.8410 - val_loss: 1.0615 - val_precision: 0.8421 - val_recall: 0.8370\n",
      "Epoch 21/30\n",
      "\u001b[1m117/117\u001b[0m \u001b[32m━━━━━━━━━━━━━━━━━━━━\u001b[0m\u001b[37m\u001b[0m \u001b[1m29s\u001b[0m 242ms/step - accuracy: 0.9702 - loss: 0.0787 - precision: 0.9730 - recall: 0.9686 - val_accuracy: 0.8410 - val_loss: 1.1039 - val_precision: 0.8404 - val_recall: 0.8370\n",
      "Epoch 22/30\n",
      "\u001b[1m117/117\u001b[0m \u001b[32m━━━━━━━━━━━━━━━━━━━━\u001b[0m\u001b[37m\u001b[0m \u001b[1m31s\u001b[0m 262ms/step - accuracy: 0.9777 - loss: 0.0649 - precision: 0.9800 - recall: 0.9765 - val_accuracy: 0.8531 - val_loss: 1.1002 - val_precision: 0.8563 - val_recall: 0.8511\n",
      "Epoch 23/30\n",
      "\u001b[1m117/117\u001b[0m \u001b[32m━━━━━━━━━━━━━━━━━━━━\u001b[0m\u001b[37m\u001b[0m \u001b[1m31s\u001b[0m 265ms/step - accuracy: 0.9826 - loss: 0.0556 - precision: 0.9836 - recall: 0.9818 - val_accuracy: 0.8551 - val_loss: 1.1627 - val_precision: 0.8563 - val_recall: 0.8511\n",
      "Epoch 24/30\n",
      "\u001b[1m117/117\u001b[0m \u001b[32m━━━━━━━━━━━━━━━━━━━━\u001b[0m\u001b[37m\u001b[0m \u001b[1m31s\u001b[0m 264ms/step - accuracy: 0.9743 - loss: 0.0714 - precision: 0.9765 - recall: 0.9734 - val_accuracy: 0.8571 - val_loss: 1.0685 - val_precision: 0.8606 - val_recall: 0.8571\n",
      "Epoch 25/30\n",
      "\u001b[1m117/117\u001b[0m \u001b[32m━━━━━━━━━━━━━━━━━━━━\u001b[0m\u001b[37m\u001b[0m \u001b[1m29s\u001b[0m 243ms/step - accuracy: 0.9788 - loss: 0.0561 - precision: 0.9811 - recall: 0.9771 - val_accuracy: 0.8592 - val_loss: 1.1238 - val_precision: 0.8606 - val_recall: 0.8571\n",
      "Epoch 26/30\n",
      "\u001b[1m117/117\u001b[0m \u001b[32m━━━━━━━━━━━━━━━━━━━━\u001b[0m\u001b[37m\u001b[0m \u001b[1m34s\u001b[0m 284ms/step - accuracy: 0.9845 - loss: 0.0483 - precision: 0.9849 - recall: 0.9835 - val_accuracy: 0.8431 - val_loss: 1.2754 - val_precision: 0.8458 - val_recall: 0.8390\n",
      "Epoch 27/30\n",
      "\u001b[1m117/117\u001b[0m \u001b[32m━━━━━━━━━━━━━━━━━━━━\u001b[0m\u001b[37m\u001b[0m \u001b[1m31s\u001b[0m 265ms/step - accuracy: 0.9846 - loss: 0.0418 - precision: 0.9861 - recall: 0.9836 - val_accuracy: 0.8571 - val_loss: 1.2332 - val_precision: 0.8603 - val_recall: 0.8551\n",
      "Epoch 28/30\n",
      "\u001b[1m117/117\u001b[0m \u001b[32m━━━━━━━━━━━━━━━━━━━━\u001b[0m\u001b[37m\u001b[0m \u001b[1m29s\u001b[0m 248ms/step - accuracy: 0.9880 - loss: 0.0366 - precision: 0.9884 - recall: 0.9873 - val_accuracy: 0.8491 - val_loss: 1.5664 - val_precision: 0.8491 - val_recall: 0.8491\n",
      "Epoch 29/30\n",
      "\u001b[1m117/117\u001b[0m \u001b[32m━━━━━━━━━━━━━━━━━━━━\u001b[0m\u001b[37m\u001b[0m \u001b[1m31s\u001b[0m 259ms/step - accuracy: 0.9867 - loss: 0.0374 - precision: 0.9871 - recall: 0.9859 - val_accuracy: 0.8571 - val_loss: 1.2710 - val_precision: 0.8586 - val_recall: 0.8551\n",
      "Epoch 30/30\n",
      "\u001b[1m117/117\u001b[0m \u001b[32m━━━━━━━━━━━━━━━━━━━━\u001b[0m\u001b[37m\u001b[0m \u001b[1m31s\u001b[0m 263ms/step - accuracy: 0.9865 - loss: 0.0487 - precision: 0.9873 - recall: 0.9858 - val_accuracy: 0.8592 - val_loss: 1.1091 - val_precision: 0.8615 - val_recall: 0.8511\n",
      "Predicting on validation set...\n",
      "\u001b[1m16/16\u001b[0m \u001b[32m━━━━━━━━━━━━━━━━━━━━\u001b[0m\u001b[37m\u001b[0m \u001b[1m1s\u001b[0m 57ms/step\n",
      "Sending metrics to clearML...\n",
      "done\n"
     ]
    }
   ],
   "source": [
    "# rotate augmentation 5\n",
    "task_name = 'r5'\n",
    "sub_project_name = 'ROTATE'\n",
    "\n",
    "augmentation_metadata = {\n",
    "        'methods': {        \n",
    "            'rotate': {\n",
    "                'parameters': {\n",
    "                    'angle_limit': 5, # Maximum angle of rotation\n",
    "                    'p': 1.0  # Probability of applying the augmentation\n",
    "                },\n",
    "                'apply_to_percentage': 0.5  # 50% of the training images\n",
    "            }        \n",
    "        }\n",
    "    }\n",
    "\n",
    "for i in range(N):\n",
    "    RUN = i + 1\n",
    "    try:\n",
    "        print(f\"Starting RUN: {RUN}\")\n",
    "        main(RUN, augmentation_metadata, task_name, sub_project_name, epochs, train_size, w1, w2)\n",
    "    except Exception as e:\n",
    "        print(f\"Error in RUN: {RUN}\")\n",
    "        print(e)\n",
    "    finally:\n",
    "        clear_output(wait=True)  # Clear the output to avoid scrolling\n",
    "        gc.collect()  # Collect garbage to avoid memory leaks"
   ]
  },
  {
   "cell_type": "code",
   "execution_count": 21,
   "metadata": {},
   "outputs": [
    {
     "name": "stdout",
     "output_type": "stream",
     "text": [
      "Starting RUN: 5\n",
      "Seed:  1994777281\n"
     ]
    },
    {
     "name": "stderr",
     "output_type": "stream",
     "text": [
      "c:\\github\\Third-Year-Project\\Intruder-Aircraft-Detection\\main\\tl_clf.py:79: SettingWithCopyWarning:\n",
      "\n",
      "\n",
      "A value is trying to be set on a copy of a slice from a DataFrame.\n",
      "Try using .loc[row_indexer,col_indexer] = value instead\n",
      "\n",
      "See the caveats in the documentation: https://pandas.pydata.org/pandas-docs/stable/user_guide/indexing.html#returning-a-view-versus-a-copy\n",
      "\n",
      "c:\\github\\Third-Year-Project\\Intruder-Aircraft-Detection\\main\\tl_clf.py:80: SettingWithCopyWarning:\n",
      "\n",
      "\n",
      "A value is trying to be set on a copy of a slice from a DataFrame.\n",
      "Try using .loc[row_indexer,col_indexer] = value instead\n",
      "\n",
      "See the caveats in the documentation: https://pandas.pydata.org/pandas-docs/stable/user_guide/indexing.html#returning-a-view-versus-a-copy\n",
      "\n"
     ]
    },
    {
     "name": "stdout",
     "output_type": "stream",
     "text": [
      "Removing dataset if pre-existing\n",
      "Copying training files:\n"
     ]
    },
    {
     "name": "stderr",
     "output_type": "stream",
     "text": [
      "Copying files: 100%|██████████| 5000/5000 [00:05<00:00, 834.82it/s] \n"
     ]
    },
    {
     "name": "stdout",
     "output_type": "stream",
     "text": [
      "Copying validation files:\n"
     ]
    },
    {
     "name": "stderr",
     "output_type": "stream",
     "text": [
      "Copying files: 100%|██████████| 1000/1000 [00:00<00:00, 1580.61it/s]\n"
     ]
    },
    {
     "name": "stdout",
     "output_type": "stream",
     "text": [
      "Dataset 'weather_45_2500' created at C:\\github\\Third-Year-Project\\Intruder-Aircraft-Detection\\datasets\\Custom\\weather_45_2500\n",
      "Processing train labels in weather_45_2500:\n"
     ]
    },
    {
     "name": "stderr",
     "output_type": "stream",
     "text": [
      "Processing labels: 100%|██████████| 2500/2500 [00:09<00:00, 276.84it/s]\n"
     ]
    },
    {
     "name": "stdout",
     "output_type": "stream",
     "text": [
      "Processing valid labels in weather_45_2500:\n"
     ]
    },
    {
     "name": "stderr",
     "output_type": "stream",
     "text": [
      "Processing labels: 100%|██████████| 500/500 [00:01<00:00, 274.37it/s]\n"
     ]
    },
    {
     "name": "stdout",
     "output_type": "stream",
     "text": [
      "Label correction completed.\n"
     ]
    },
    {
     "name": "stderr",
     "output_type": "stream",
     "text": [
      "Removing existing directories/files: 100%|██████████| 3/3 [00:00<00:00, 6003.30it/s]\n",
      "Copying files: 100%|██████████| 2500/2500 [00:02<00:00, 936.76it/s] \n",
      "Copying files: 100%|██████████| 2500/2500 [00:01<00:00, 1446.56it/s]\n",
      "Applying augmentations: 100%|██████████| 1250/1250 [00:16<00:00, 74.11it/s]\n"
     ]
    },
    {
     "name": "stdout",
     "output_type": "stream",
     "text": [
      "An error occurred: Expected x_max for bbox (0.23347149999999994, 0.03606499999999996, 1.0153205, 0.5572969999999999, 1) to be in the range [0.0, 1.0], got 1.0153205.\n",
      "An error occurred: Expected y_max for bbox (0.14462699999999998, 0.7264375000000001, 0.618055, 1.0420565000000002, 2) to be in the range [0.0, 1.0], got 1.0420565000000002.\n",
      "An error occurred: Expected y_min for bbox (0.2490575, -0.07570950000000001, 0.9783645000000001, 0.4104955, 1) to be in the range [0.0, 1.0], got -0.07570950000000001.\n",
      "An error occurred: Expected x_max for bbox (0.189772, 0.575604, 1.100998, 1.1830880000000001, 1) to be in the range [0.0, 1.0], got 1.100998.\n"
     ]
    },
    {
     "name": "stderr",
     "output_type": "stream",
     "text": [
      "Processing images:   5%|▌         | 134/2500 [00:11<03:07, 12.63it/s]"
     ]
    },
    {
     "name": "stdout",
     "output_type": "stream",
     "text": [
      "An error occurred with C:/github/Third-Year-Project/Intruder-Aircraft-Detection/datasets/Custom/weather_45_2500\\images\\train\\28284.jpg: Expected x_max for bbox (0.189772, 0.575604, 1.100998, 1.1830880000000001, 1) to be in the range [0.0, 1.0], got 1.100998.\n"
     ]
    },
    {
     "name": "stderr",
     "output_type": "stream",
     "text": [
      "Processing images:   8%|▊         | 193/2500 [00:13<01:07, 34.03it/s]"
     ]
    },
    {
     "name": "stdout",
     "output_type": "stream",
     "text": [
      "An error occurred with C:/github/Third-Year-Project/Intruder-Aircraft-Detection/datasets/Custom/weather_45_2500\\images\\train\\28423.jpg: Expected y_max for bbox (0.0305415, 0.4883285, 0.9941045, 1.1307035, 1) to be in the range [0.0, 1.0], got 1.1307035.\n"
     ]
    },
    {
     "name": "stderr",
     "output_type": "stream",
     "text": [
      "Processing images:  13%|█▎        | 330/2500 [00:17<01:06, 32.77it/s]"
     ]
    },
    {
     "name": "stdout",
     "output_type": "stream",
     "text": [
      "An error occurred with C:/github/Third-Year-Project/Intruder-Aircraft-Detection/datasets/Custom/weather_45_2500\\images\\train\\28706.jpg: In YOLO format all coordinates must be float and in range (0, 1]\n"
     ]
    },
    {
     "name": "stderr",
     "output_type": "stream",
     "text": [
      "Processing images:  16%|█▌        | 406/2500 [00:20<01:02, 33.32it/s]"
     ]
    },
    {
     "name": "stdout",
     "output_type": "stream",
     "text": [
      "An error occurred with C:/github/Third-Year-Project/Intruder-Aircraft-Detection/datasets/Custom/weather_45_2500\\images\\train\\28857.jpg: Expected y_min for bbox (0.2490575, -0.07570950000000001, 0.9783645000000001, 0.4104955, 1) to be in the range [0.0, 1.0], got -0.07570950000000001.\n"
     ]
    },
    {
     "name": "stderr",
     "output_type": "stream",
     "text": [
      "Processing images:  17%|█▋        | 431/2500 [00:21<00:59, 34.66it/s]"
     ]
    },
    {
     "name": "stdout",
     "output_type": "stream",
     "text": [
      "An error occurred with C:/github/Third-Year-Project/Intruder-Aircraft-Detection/datasets/Custom/weather_45_2500\\images\\train\\29013.jpg: Expected y_min for bbox (0.59587, -0.02172049999999999, 0.925314, 0.1979085, 1) to be in the range [0.0, 1.0], got -0.02172049999999999.\n"
     ]
    },
    {
     "name": "stderr",
     "output_type": "stream",
     "text": [
      "Processing images:  24%|██▍       | 611/2500 [00:26<00:57, 32.87it/s]"
     ]
    },
    {
     "name": "stdout",
     "output_type": "stream",
     "text": [
      "An error occurred with C:/github/Third-Year-Project/Intruder-Aircraft-Detection/datasets/Custom/weather_45_2500\\images\\train\\29410.jpg: Expected y_min for bbox (0.113566, -0.11284, 0.8513820000000001, 0.379038, 1) to be in the range [0.0, 1.0], got -0.11284.\n"
     ]
    },
    {
     "name": "stderr",
     "output_type": "stream",
     "text": [
      "Processing images:  25%|██▌       | 631/2500 [00:27<00:55, 33.76it/s]"
     ]
    },
    {
     "name": "stdout",
     "output_type": "stream",
     "text": [
      "An error occurred with C:/github/Third-Year-Project/Intruder-Aircraft-Detection/datasets/Custom/weather_45_2500\\images\\train\\29446.jpg: Expected x_max for bbox (0.23347149999999994, 0.03606499999999996, 1.0153205, 0.5572969999999999, 1) to be in the range [0.0, 1.0], got 1.0153205.\n"
     ]
    },
    {
     "name": "stderr",
     "output_type": "stream",
     "text": [
      "Processing images:  55%|█████▍    | 1371/2500 [00:49<00:32, 34.79it/s]"
     ]
    },
    {
     "name": "stdout",
     "output_type": "stream",
     "text": [
      "An error occurred with C:/github/Third-Year-Project/Intruder-Aircraft-Detection/datasets/Custom/weather_45_2500\\images\\train\\52037.jpg: Expected x_max for bbox (0.38456350000000006, 0.2877965, 1.0164545, 0.7090575, 2) to be in the range [0.0, 1.0], got 1.0164545.\n"
     ]
    },
    {
     "name": "stderr",
     "output_type": "stream",
     "text": [
      "Processing images:  60%|██████    | 1504/2500 [00:54<00:29, 33.88it/s]"
     ]
    },
    {
     "name": "stdout",
     "output_type": "stream",
     "text": [
      "An error occurred with C:/github/Third-Year-Project/Intruder-Aircraft-Detection/datasets/Custom/weather_45_2500\\images\\train\\52310.jpg: Expected y_max for bbox (0.14462699999999998, 0.7264375000000001, 0.618055, 1.0420565000000002, 2) to be in the range [0.0, 1.0], got 1.0420565000000002.\n"
     ]
    },
    {
     "name": "stderr",
     "output_type": "stream",
     "text": [
      "Processing images:  61%|██████▏   | 1533/2500 [00:54<00:28, 34.02it/s]"
     ]
    },
    {
     "name": "stdout",
     "output_type": "stream",
     "text": [
      "An error occurred with C:/github/Third-Year-Project/Intruder-Aircraft-Detection/datasets/Custom/weather_45_2500\\images\\train\\52375.jpg: Expected y_max for bbox (0.19351849999999998, 0.622445, 0.7759535, 1.010735, 2) to be in the range [0.0, 1.0], got 1.010735.\n"
     ]
    },
    {
     "name": "stderr",
     "output_type": "stream",
     "text": [
      "Processing images:  65%|██████▌   | 1633/2500 [00:58<00:25, 33.81it/s]"
     ]
    },
    {
     "name": "stdout",
     "output_type": "stream",
     "text": [
      "An error occurred with C:/github/Third-Year-Project/Intruder-Aircraft-Detection/datasets/Custom/weather_45_2500\\images\\train\\52560.jpg: Expected y_max for bbox (0.49586100000000005, 0.7528695000000001, 0.982877, 1.0775465, 2) to be in the range [0.0, 1.0], got 1.0775465.\n"
     ]
    },
    {
     "name": "stderr",
     "output_type": "stream",
     "text": [
      "Processing images:  78%|███████▊  | 1950/2500 [01:07<00:15, 35.28it/s]"
     ]
    },
    {
     "name": "stdout",
     "output_type": "stream",
     "text": [
      "An error occurred with C:/github/Third-Year-Project/Intruder-Aircraft-Detection/datasets/Custom/weather_45_2500\\images\\train\\53248.jpg: Expected y_max for bbox (0.185026, 0.75632, 0.559774, 1.006152, 2) to be in the range [0.0, 1.0], got 1.006152.\n"
     ]
    },
    {
     "name": "stderr",
     "output_type": "stream",
     "text": [
      "Processing images: 100%|██████████| 2500/2500 [01:24<00:00, 29.63it/s]\n",
      "Processing images:   5%|▌         | 201/3746 [00:15<03:42, 15.94it/s]"
     ]
    },
    {
     "name": "stdout",
     "output_type": "stream",
     "text": [
      "An error occurred with C:/github/Third-Year-Project/Intruder-Aircraft-Detection/datasets/Custom/weather_45_2500\\images\\train-aug\\28284.jpg: Expected x_max for bbox (0.189772, 0.575604, 1.100998, 1.1830880000000001, 1) to be in the range [0.0, 1.0], got 1.100998.\n"
     ]
    },
    {
     "name": "stderr",
     "output_type": "stream",
     "text": [
      "Processing images:   8%|▊         | 292/3746 [00:22<02:04, 27.68it/s]"
     ]
    },
    {
     "name": "stdout",
     "output_type": "stream",
     "text": [
      "An error occurred with C:/github/Third-Year-Project/Intruder-Aircraft-Detection/datasets/Custom/weather_45_2500\\images\\train-aug\\28423.jpg: Expected y_max for bbox (0.0305415, 0.4883285, 0.9941045, 1.1307035, 1) to be in the range [0.0, 1.0], got 1.1307035.\n"
     ]
    },
    {
     "name": "stderr",
     "output_type": "stream",
     "text": [
      "Processing images:  13%|█▎        | 494/3746 [00:28<01:41, 32.19it/s]"
     ]
    },
    {
     "name": "stdout",
     "output_type": "stream",
     "text": [
      "An error occurred with C:/github/Third-Year-Project/Intruder-Aircraft-Detection/datasets/Custom/weather_45_2500\\images\\train-aug\\28706.jpg: In YOLO format all coordinates must be float and in range (0, 1]\n"
     ]
    },
    {
     "name": "stderr",
     "output_type": "stream",
     "text": [
      "Processing images:  16%|█▌        | 599/3746 [00:32<01:34, 33.14it/s]"
     ]
    },
    {
     "name": "stdout",
     "output_type": "stream",
     "text": [
      "An error occurred with C:/github/Third-Year-Project/Intruder-Aircraft-Detection/datasets/Custom/weather_45_2500\\images\\train-aug\\28857.jpg: Expected y_min for bbox (0.2490575, -0.07570950000000001, 0.9783645000000001, 0.4104955, 1) to be in the range [0.0, 1.0], got -0.07570950000000001.\n"
     ]
    },
    {
     "name": "stderr",
     "output_type": "stream",
     "text": [
      "Processing images:  17%|█▋        | 640/3746 [00:33<01:32, 33.73it/s]"
     ]
    },
    {
     "name": "stdout",
     "output_type": "stream",
     "text": [
      "An error occurred with C:/github/Third-Year-Project/Intruder-Aircraft-Detection/datasets/Custom/weather_45_2500\\images\\train-aug\\29013.jpg: Expected y_min for bbox (0.59587, -0.02172049999999999, 0.925314, 0.1979085, 1) to be in the range [0.0, 1.0], got -0.02172049999999999.\n"
     ]
    },
    {
     "name": "stderr",
     "output_type": "stream",
     "text": [
      "Processing images:  25%|██▍       | 924/3746 [00:42<01:27, 32.16it/s]"
     ]
    },
    {
     "name": "stdout",
     "output_type": "stream",
     "text": [
      "An error occurred with C:/github/Third-Year-Project/Intruder-Aircraft-Detection/datasets/Custom/weather_45_2500\\images\\train-aug\\29410.jpg: Expected y_min for bbox (0.113566, -0.11284, 0.8513820000000001, 0.379038, 1) to be in the range [0.0, 1.0], got -0.11284.\n"
     ]
    },
    {
     "name": "stderr",
     "output_type": "stream",
     "text": [
      "Processing images:  25%|██▌       | 944/3746 [00:43<01:27, 31.93it/s]"
     ]
    },
    {
     "name": "stdout",
     "output_type": "stream",
     "text": [
      "An error occurred with C:/github/Third-Year-Project/Intruder-Aircraft-Detection/datasets/Custom/weather_45_2500\\images\\train-aug\\29446.jpg: Expected x_max for bbox (0.23347149999999994, 0.03606499999999996, 1.0153205, 0.5572969999999999, 1) to be in the range [0.0, 1.0], got 1.0153205.\n"
     ]
    },
    {
     "name": "stderr",
     "output_type": "stream",
     "text": [
      "Processing images:  34%|███▍      | 1292/3746 [00:54<01:09, 35.18it/s]"
     ]
    },
    {
     "name": "stdout",
     "output_type": "stream",
     "text": [
      "An error occurred with C:/github/Third-Year-Project/Intruder-Aircraft-Detection/datasets/Custom/weather_45_2500\\images\\train-aug\\4044-rotate.jpg: list index out of range\n"
     ]
    },
    {
     "name": "stderr",
     "output_type": "stream",
     "text": [
      "Processing images:  55%|█████▍    | 2057/3746 [01:17<00:48, 35.00it/s]"
     ]
    },
    {
     "name": "stdout",
     "output_type": "stream",
     "text": [
      "An error occurred with C:/github/Third-Year-Project/Intruder-Aircraft-Detection/datasets/Custom/weather_45_2500\\images\\train-aug\\52037.jpg: Expected x_max for bbox (0.38456350000000006, 0.2877965, 1.0164545, 0.7090575, 2) to be in the range [0.0, 1.0], got 1.0164545.\n"
     ]
    },
    {
     "name": "stderr",
     "output_type": "stream",
     "text": [
      "Processing images:  56%|█████▌    | 2090/3746 [01:18<00:48, 33.95it/s]"
     ]
    },
    {
     "name": "stdout",
     "output_type": "stream",
     "text": [
      "An error occurred with C:/github/Third-Year-Project/Intruder-Aircraft-Detection/datasets/Custom/weather_45_2500\\images\\train-aug\\52078-rotate.jpg: Expected y_min for bbox (0.27738700000000005, -5.000000000005e-07, 0.529987, 0.20050449999999997, 2) to be in the range [0.0, 1.0], got -5.000000000005e-07.\n"
     ]
    },
    {
     "name": "stderr",
     "output_type": "stream",
     "text": [
      "Processing images:  60%|██████    | 2258/3746 [01:23<00:44, 33.25it/s]"
     ]
    },
    {
     "name": "stdout",
     "output_type": "stream",
     "text": [
      "An error occurred with C:/github/Third-Year-Project/Intruder-Aircraft-Detection/datasets/Custom/weather_45_2500\\images\\train-aug\\52310.jpg: Expected y_max for bbox (0.14462699999999998, 0.7264375000000001, 0.618055, 1.0420565000000002, 2) to be in the range [0.0, 1.0], got 1.0420565000000002.\n"
     ]
    },
    {
     "name": "stderr",
     "output_type": "stream",
     "text": [
      "Processing images:  61%|██████▏   | 2299/3746 [01:25<00:42, 34.17it/s]"
     ]
    },
    {
     "name": "stdout",
     "output_type": "stream",
     "text": [
      "An error occurred with C:/github/Third-Year-Project/Intruder-Aircraft-Detection/datasets/Custom/weather_45_2500\\images\\train-aug\\52375.jpg: Expected y_max for bbox (0.19351849999999998, 0.622445, 0.7759535, 1.010735, 2) to be in the range [0.0, 1.0], got 1.010735.\n"
     ]
    },
    {
     "name": "stderr",
     "output_type": "stream",
     "text": [
      "Processing images:  65%|██████▌   | 2447/3746 [01:29<00:40, 32.27it/s]"
     ]
    },
    {
     "name": "stdout",
     "output_type": "stream",
     "text": [
      "An error occurred with C:/github/Third-Year-Project/Intruder-Aircraft-Detection/datasets/Custom/weather_45_2500\\images\\train-aug\\52560.jpg: Expected y_max for bbox (0.49586100000000005, 0.7528695000000001, 0.982877, 1.0775465, 2) to be in the range [0.0, 1.0], got 1.0775465.\n"
     ]
    },
    {
     "name": "stderr",
     "output_type": "stream",
     "text": [
      "Processing images:  78%|███████▊  | 2923/3746 [01:44<00:23, 34.58it/s]"
     ]
    },
    {
     "name": "stdout",
     "output_type": "stream",
     "text": [
      "An error occurred with C:/github/Third-Year-Project/Intruder-Aircraft-Detection/datasets/Custom/weather_45_2500\\images\\train-aug\\53248.jpg: Expected y_max for bbox (0.185026, 0.75632, 0.559774, 1.006152, 2) to be in the range [0.0, 1.0], got 1.006152.\n"
     ]
    },
    {
     "name": "stderr",
     "output_type": "stream",
     "text": [
      "Processing images:  83%|████████▎ | 3104/3746 [01:50<00:18, 35.08it/s]"
     ]
    },
    {
     "name": "stdout",
     "output_type": "stream",
     "text": [
      "An error occurred with C:/github/Third-Year-Project/Intruder-Aircraft-Detection/datasets/Custom/weather_45_2500\\images\\train-aug\\53515-rotate.jpg: Expected y_min for bbox (0.5190185, -5.000000000005e-07, 0.6700195, 0.1593885, 2) to be in the range [0.0, 1.0], got -5.000000000005e-07.\n"
     ]
    },
    {
     "name": "stderr",
     "output_type": "stream",
     "text": [
      "Processing images: 100%|██████████| 3746/3746 [02:09<00:00, 28.85it/s]\n",
      "Processing images:  20%|██        | 101/500 [00:04<00:12, 30.95it/s]"
     ]
    },
    {
     "name": "stdout",
     "output_type": "stream",
     "text": [
      "An error occurred with C:/github/Third-Year-Project/Intruder-Aircraft-Detection/datasets/Custom/weather_45_2500\\images\\valid\\29918.jpg: Expected y_max for bbox (0.4077075, 0.7077145, 0.8470265, 1.0005935, 1) to be in the range [0.0, 1.0], got 1.0005935.\n"
     ]
    },
    {
     "name": "stderr",
     "output_type": "stream",
     "text": [
      "Processing images:  53%|█████▎    | 266/500 [00:10<00:06, 33.59it/s]"
     ]
    },
    {
     "name": "stdout",
     "output_type": "stream",
     "text": [
      "An error occurred with C:/github/Third-Year-Project/Intruder-Aircraft-Detection/datasets/Custom/weather_45_2500\\images\\valid\\52916.jpg: In YOLO format all coordinates must be float and in range (0, 1]\n"
     ]
    },
    {
     "name": "stderr",
     "output_type": "stream",
     "text": [
      "Processing images:  55%|█████▌    | 275/500 [00:10<00:06, 34.66it/s]"
     ]
    },
    {
     "name": "stdout",
     "output_type": "stream",
     "text": [
      "An error occurred with C:/github/Third-Year-Project/Intruder-Aircraft-Detection/datasets/Custom/weather_45_2500\\images\\valid\\52925.jpg: Expected x_min for bbox (-0.17107, 0.23527800000000004, 0.669476, 0.795642, 2) to be in the range [0.0, 1.0], got -0.17107.\n"
     ]
    },
    {
     "name": "stderr",
     "output_type": "stream",
     "text": [
      "Processing images:  76%|███████▌  | 380/500 [00:13<00:03, 34.33it/s]"
     ]
    },
    {
     "name": "stdout",
     "output_type": "stream",
     "text": [
      "An error occurred with C:/github/Third-Year-Project/Intruder-Aircraft-Detection/datasets/Custom/weather_45_2500\\images\\valid\\53950.jpg: Expected y_min for bbox (0.15967549999999997, -0.06710449999999998, 0.9726885, 0.47490449999999995, 2) to be in the range [0.0, 1.0], got -0.06710449999999998.\n"
     ]
    },
    {
     "name": "stderr",
     "output_type": "stream",
     "text": [
      "Processing images: 100%|██████████| 500/500 [00:17<00:00, 29.20it/s]\n",
      "Moving images in train: 100%|██████████| 2488/2488 [00:09<00:00, 269.54it/s]\n",
      "Moving images in train-aug: 100%|██████████| 3731/3731 [00:13<00:00, 278.31it/s]\n",
      "Moving images in valid: 100%|██████████| 496/496 [00:01<00:00, 276.86it/s]\n"
     ]
    },
    {
     "name": "stdout",
     "output_type": "stream",
     "text": [
      "Found 2488 files belonging to 3 classes.\n",
      "Found 3731 files belonging to 3 classes.\n",
      "Found 496 files belonging to 3 classes.\n",
      "ClearML Task: created new task id=38bb124dd21e455ebea20408122fa653\n",
      "ClearML results page: https://app.clear.ml/projects/5a674be4cf0f473c808dd42f7b83358f/experiments/38bb124dd21e455ebea20408122fa653/output/log\n",
      "Training model...\n",
      "Epoch 1/30\n",
      "\u001b[1m78/78\u001b[0m \u001b[32m━━━━━━━━━━━━━━━━━━━━\u001b[0m\u001b[37m\u001b[0m \u001b[1m25s\u001b[0m 287ms/step - accuracy: 0.3475 - loss: 1.4214 - precision: 0.3342 - recall: 0.0863 - val_accuracy: 0.3367 - val_loss: 1.0985 - val_precision: 0.0000e+00 - val_recall: 0.0000e+00\n",
      "Epoch 2/30\n",
      "\u001b[1m78/78\u001b[0m \u001b[32m━━━━━━━━━━━━━━━━━━━━\u001b[0m\u001b[37m\u001b[0m \u001b[1m20s\u001b[0m 249ms/step - accuracy: 0.3262 - loss: 1.0988 - precision: 0.0000e+00 - recall: 0.0000e+00 - val_accuracy: 0.3367 - val_loss: 1.0984 - val_precision: 0.0000e+00 - val_recall: 0.0000e+00\n",
      "Epoch 3/30\n",
      "\u001b[1m78/78\u001b[0m \u001b[32m━━━━━━━━━━━━━━━━━━━━\u001b[0m\u001b[37m\u001b[0m \u001b[1m22s\u001b[0m 283ms/step - accuracy: 0.3220 - loss: 1.1011 - precision: 0.2215 - recall: 0.0035 - val_accuracy: 0.3226 - val_loss: 1.0984 - val_precision: 0.0000e+00 - val_recall: 0.0000e+00\n",
      "Epoch 4/30\n",
      "\u001b[1m78/78\u001b[0m \u001b[32m━━━━━━━━━━━━━━━━━━━━\u001b[0m\u001b[37m\u001b[0m \u001b[1m20s\u001b[0m 247ms/step - accuracy: 0.3827 - loss: 1.0921 - precision: 0.2274 - recall: 0.0066 - val_accuracy: 0.4940 - val_loss: 1.0094 - val_precision: 0.6607 - val_recall: 0.1492\n",
      "Epoch 5/30\n",
      "\u001b[1m78/78\u001b[0m \u001b[32m━━━━━━━━━━━━━━━━━━━━\u001b[0m\u001b[37m\u001b[0m \u001b[1m22s\u001b[0m 283ms/step - accuracy: 0.4905 - loss: 1.0318 - precision: 0.6076 - recall: 0.1144 - val_accuracy: 0.5685 - val_loss: 0.8817 - val_precision: 0.6200 - val_recall: 0.5000\n",
      "Epoch 6/30\n",
      "\u001b[1m78/78\u001b[0m \u001b[32m━━━━━━━━━━━━━━━━━━━━\u001b[0m\u001b[37m\u001b[0m \u001b[1m20s\u001b[0m 250ms/step - accuracy: 0.6197 - loss: 0.8349 - precision: 0.7028 - recall: 0.4308 - val_accuracy: 0.7258 - val_loss: 0.7063 - val_precision: 0.7566 - val_recall: 0.6331\n",
      "Epoch 7/30\n",
      "\u001b[1m78/78\u001b[0m \u001b[32m━━━━━━━━━━━━━━━━━━━━\u001b[0m\u001b[37m\u001b[0m \u001b[1m22s\u001b[0m 284ms/step - accuracy: 0.7303 - loss: 0.6208 - precision: 0.7833 - recall: 0.6752 - val_accuracy: 0.7782 - val_loss: 0.6176 - val_precision: 0.7934 - val_recall: 0.7278\n",
      "Epoch 8/30\n",
      "\u001b[1m78/78\u001b[0m \u001b[32m━━━━━━━━━━━━━━━━━━━━\u001b[0m\u001b[37m\u001b[0m \u001b[1m20s\u001b[0m 250ms/step - accuracy: 0.7859 - loss: 0.5058 - precision: 0.8077 - recall: 0.7473 - val_accuracy: 0.7802 - val_loss: 0.6250 - val_precision: 0.7922 - val_recall: 0.7762\n",
      "Epoch 9/30\n",
      "\u001b[1m78/78\u001b[0m \u001b[32m━━━━━━━━━━━━━━━━━━━━\u001b[0m\u001b[37m\u001b[0m \u001b[1m22s\u001b[0m 284ms/step - accuracy: 0.8124 - loss: 0.4488 - precision: 0.8274 - recall: 0.7898 - val_accuracy: 0.7843 - val_loss: 0.5901 - val_precision: 0.7926 - val_recall: 0.7782\n",
      "Epoch 10/30\n",
      "\u001b[1m78/78\u001b[0m \u001b[32m━━━━━━━━━━━━━━━━━━━━\u001b[0m\u001b[37m\u001b[0m \u001b[1m20s\u001b[0m 251ms/step - accuracy: 0.8329 - loss: 0.3921 - precision: 0.8447 - recall: 0.8136 - val_accuracy: 0.7984 - val_loss: 0.6594 - val_precision: 0.8033 - val_recall: 0.7903\n",
      "Epoch 11/30\n",
      "\u001b[1m78/78\u001b[0m \u001b[32m━━━━━━━━━━━━━━━━━━━━\u001b[0m\u001b[37m\u001b[0m \u001b[1m22s\u001b[0m 284ms/step - accuracy: 0.8476 - loss: 0.3573 - precision: 0.8563 - recall: 0.8348 - val_accuracy: 0.8145 - val_loss: 0.6318 - val_precision: 0.8217 - val_recall: 0.8085\n",
      "Epoch 12/30\n",
      "\u001b[1m78/78\u001b[0m \u001b[32m━━━━━━━━━━━━━━━━━━━━\u001b[0m\u001b[37m\u001b[0m \u001b[1m20s\u001b[0m 250ms/step - accuracy: 0.8769 - loss: 0.3015 - precision: 0.8864 - recall: 0.8672 - val_accuracy: 0.8145 - val_loss: 0.6605 - val_precision: 0.8184 - val_recall: 0.8085\n",
      "Epoch 13/30\n",
      "\u001b[1m78/78\u001b[0m \u001b[32m━━━━━━━━━━━━━━━━━━━━\u001b[0m\u001b[37m\u001b[0m \u001b[1m22s\u001b[0m 284ms/step - accuracy: 0.8815 - loss: 0.2927 - precision: 0.8942 - recall: 0.8711 - val_accuracy: 0.8226 - val_loss: 0.7075 - val_precision: 0.8252 - val_recall: 0.8185\n",
      "Epoch 14/30\n",
      "\u001b[1m78/78\u001b[0m \u001b[32m━━━━━━━━━━━━━━━━━━━━\u001b[0m\u001b[37m\u001b[0m \u001b[1m20s\u001b[0m 251ms/step - accuracy: 0.8894 - loss: 0.2638 - precision: 0.8974 - recall: 0.8806 - val_accuracy: 0.8286 - val_loss: 0.6492 - val_precision: 0.8316 - val_recall: 0.8266\n",
      "Epoch 15/30\n",
      "\u001b[1m78/78\u001b[0m \u001b[32m━━━━━━━━━━━━━━━━━━━━\u001b[0m\u001b[37m\u001b[0m \u001b[1m22s\u001b[0m 283ms/step - accuracy: 0.8927 - loss: 0.2659 - precision: 0.9042 - recall: 0.8850 - val_accuracy: 0.8145 - val_loss: 0.8843 - val_precision: 0.8141 - val_recall: 0.8125\n",
      "Epoch 16/30\n",
      "\u001b[1m78/78\u001b[0m \u001b[32m━━━━━━━━━━━━━━━━━━━━\u001b[0m\u001b[37m\u001b[0m \u001b[1m20s\u001b[0m 250ms/step - accuracy: 0.8998 - loss: 0.2385 - precision: 0.9129 - recall: 0.8924 - val_accuracy: 0.8145 - val_loss: 0.7234 - val_precision: 0.8178 - val_recall: 0.8145\n",
      "Epoch 17/30\n",
      "\u001b[1m78/78\u001b[0m \u001b[32m━━━━━━━━━━━━━━━━━━━━\u001b[0m\u001b[37m\u001b[0m \u001b[1m24s\u001b[0m 309ms/step - accuracy: 0.9143 - loss: 0.2150 - precision: 0.9200 - recall: 0.9109 - val_accuracy: 0.8427 - val_loss: 0.6492 - val_precision: 0.8545 - val_recall: 0.8407\n",
      "Epoch 18/30\n",
      "\u001b[1m78/78\u001b[0m \u001b[32m━━━━━━━━━━━━━━━━━━━━\u001b[0m\u001b[37m\u001b[0m \u001b[1m20s\u001b[0m 253ms/step - accuracy: 0.9133 - loss: 0.2148 - precision: 0.9195 - recall: 0.9006 - val_accuracy: 0.8327 - val_loss: 0.7244 - val_precision: 0.8408 - val_recall: 0.8306\n",
      "Epoch 19/30\n",
      "\u001b[1m78/78\u001b[0m \u001b[32m━━━━━━━━━━━━━━━━━━━━\u001b[0m\u001b[37m\u001b[0m \u001b[1m22s\u001b[0m 282ms/step - accuracy: 0.9206 - loss: 0.1814 - precision: 0.9252 - recall: 0.9123 - val_accuracy: 0.8105 - val_loss: 0.6422 - val_precision: 0.8278 - val_recall: 0.8044\n",
      "Epoch 20/30\n",
      "\u001b[1m78/78\u001b[0m \u001b[32m━━━━━━━━━━━━━━━━━━━━\u001b[0m\u001b[37m\u001b[0m \u001b[1m20s\u001b[0m 251ms/step - accuracy: 0.9202 - loss: 0.2013 - precision: 0.9259 - recall: 0.9139 - val_accuracy: 0.8347 - val_loss: 0.7400 - val_precision: 0.8416 - val_recall: 0.8246\n",
      "Epoch 21/30\n",
      "\u001b[1m78/78\u001b[0m \u001b[32m━━━━━━━━━━━━━━━━━━━━\u001b[0m\u001b[37m\u001b[0m \u001b[1m23s\u001b[0m 285ms/step - accuracy: 0.9224 - loss: 0.1924 - precision: 0.9283 - recall: 0.9159 - val_accuracy: 0.8407 - val_loss: 0.7119 - val_precision: 0.8473 - val_recall: 0.8387\n",
      "Epoch 22/30\n",
      "\u001b[1m78/78\u001b[0m \u001b[32m━━━━━━━━━━━━━━━━━━━━\u001b[0m\u001b[37m\u001b[0m \u001b[1m20s\u001b[0m 252ms/step - accuracy: 0.9405 - loss: 0.1692 - precision: 0.9453 - recall: 0.9342 - val_accuracy: 0.8306 - val_loss: 0.7626 - val_precision: 0.8337 - val_recall: 0.8286\n",
      "Epoch 23/30\n",
      "\u001b[1m78/78\u001b[0m \u001b[32m━━━━━━━━━━━━━━━━━━━━\u001b[0m\u001b[37m\u001b[0m \u001b[1m22s\u001b[0m 284ms/step - accuracy: 0.9346 - loss: 0.1719 - precision: 0.9382 - recall: 0.9307 - val_accuracy: 0.8206 - val_loss: 0.8243 - val_precision: 0.8256 - val_recall: 0.8206\n",
      "Epoch 24/30\n",
      "\u001b[1m78/78\u001b[0m \u001b[32m━━━━━━━━━━━━━━━━━━━━\u001b[0m\u001b[37m\u001b[0m \u001b[1m20s\u001b[0m 250ms/step - accuracy: 0.9363 - loss: 0.1587 - precision: 0.9419 - recall: 0.9338 - val_accuracy: 0.8508 - val_loss: 0.7553 - val_precision: 0.8560 - val_recall: 0.8508\n",
      "Epoch 25/30\n",
      "\u001b[1m78/78\u001b[0m \u001b[32m━━━━━━━━━━━━━━━━━━━━\u001b[0m\u001b[37m\u001b[0m \u001b[1m23s\u001b[0m 287ms/step - accuracy: 0.9543 - loss: 0.1355 - precision: 0.9574 - recall: 0.9497 - val_accuracy: 0.8448 - val_loss: 0.8443 - val_precision: 0.8545 - val_recall: 0.8407\n",
      "Epoch 26/30\n",
      "\u001b[1m78/78\u001b[0m \u001b[32m━━━━━━━━━━━━━━━━━━━━\u001b[0m\u001b[37m\u001b[0m \u001b[1m20s\u001b[0m 252ms/step - accuracy: 0.9465 - loss: 0.1290 - precision: 0.9484 - recall: 0.9420 - val_accuracy: 0.8407 - val_loss: 0.8248 - val_precision: 0.8458 - val_recall: 0.8407\n",
      "Epoch 27/30\n",
      "\u001b[1m78/78\u001b[0m \u001b[32m━━━━━━━━━━━━━━━━━━━━\u001b[0m\u001b[37m\u001b[0m \u001b[1m23s\u001b[0m 287ms/step - accuracy: 0.9499 - loss: 0.1374 - precision: 0.9546 - recall: 0.9476 - val_accuracy: 0.8347 - val_loss: 1.0319 - val_precision: 0.8391 - val_recall: 0.8306\n",
      "Epoch 28/30\n",
      "\u001b[1m78/78\u001b[0m \u001b[32m━━━━━━━━━━━━━━━━━━━━\u001b[0m\u001b[37m\u001b[0m \u001b[1m20s\u001b[0m 250ms/step - accuracy: 0.9566 - loss: 0.1121 - precision: 0.9639 - recall: 0.9537 - val_accuracy: 0.8548 - val_loss: 0.8097 - val_precision: 0.8560 - val_recall: 0.8508\n",
      "Epoch 29/30\n",
      "\u001b[1m78/78\u001b[0m \u001b[32m━━━━━━━━━━━━━━━━━━━━\u001b[0m\u001b[37m\u001b[0m \u001b[1m22s\u001b[0m 283ms/step - accuracy: 0.9557 - loss: 0.1279 - precision: 0.9571 - recall: 0.9491 - val_accuracy: 0.8508 - val_loss: 0.8803 - val_precision: 0.8540 - val_recall: 0.8488\n",
      "Epoch 30/30\n",
      "\u001b[1m78/78\u001b[0m \u001b[32m━━━━━━━━━━━━━━━━━━━━\u001b[0m\u001b[37m\u001b[0m \u001b[1m20s\u001b[0m 254ms/step - accuracy: 0.9671 - loss: 0.0978 - precision: 0.9703 - recall: 0.9659 - val_accuracy: 0.8448 - val_loss: 0.8676 - val_precision: 0.8482 - val_recall: 0.8448\n",
      "Predicting on validation set...\n",
      "\u001b[1m16/16\u001b[0m \u001b[32m━━━━━━━━━━━━━━━━━━━━\u001b[0m\u001b[37m\u001b[0m \u001b[1m1s\u001b[0m 59ms/step\n",
      "Sending metrics to clearML...\n",
      "done\n",
      "ClearML Task: created new task id=70754694f7fc4ede9ac1cc47bd1a2986\n",
      "ClearML results page: https://app.clear.ml/projects/5a674be4cf0f473c808dd42f7b83358f/experiments/70754694f7fc4ede9ac1cc47bd1a2986/output/log\n",
      "Training model...\n",
      "Epoch 1/30\n",
      "\u001b[1m117/117\u001b[0m \u001b[32m━━━━━━━━━━━━━━━━━━━━\u001b[0m\u001b[37m\u001b[0m \u001b[1m37s\u001b[0m 293ms/step - accuracy: 0.3438 - loss: 1.5040 - precision: 0.3604 - recall: 0.0669 - val_accuracy: 0.3367 - val_loss: 1.1003 - val_precision: 0.0000e+00 - val_recall: 0.0000e+00\n",
      "Epoch 2/30\n",
      "\u001b[1m117/117\u001b[0m \u001b[32m━━━━━━━━━━━━━━━━━━━━\u001b[0m\u001b[37m\u001b[0m \u001b[1m32s\u001b[0m 269ms/step - accuracy: 0.3785 - loss: 1.0793 - precision: 0.6105 - recall: 0.0323 - val_accuracy: 0.3367 - val_loss: 1.0997 - val_precision: 0.0000e+00 - val_recall: 0.0000e+00\n",
      "Epoch 3/30\n",
      "\u001b[1m117/117\u001b[0m \u001b[32m━━━━━━━━━━━━━━━━━━━━\u001b[0m\u001b[37m\u001b[0m \u001b[1m32s\u001b[0m 272ms/step - accuracy: 0.3805 - loss: 1.0759 - precision: 0.6214 - recall: 0.0455 - val_accuracy: 0.3367 - val_loss: 1.1018 - val_precision: 0.0000e+00 - val_recall: 0.0000e+00\n",
      "Epoch 4/30\n",
      "\u001b[1m117/117\u001b[0m \u001b[32m━━━━━━━━━━━━━━━━━━━━\u001b[0m\u001b[37m\u001b[0m \u001b[1m29s\u001b[0m 248ms/step - accuracy: 0.4019 - loss: 1.0652 - precision: 0.5989 - recall: 0.0523 - val_accuracy: 0.3367 - val_loss: 1.1002 - val_precision: 0.0000e+00 - val_recall: 0.0000e+00\n",
      "Epoch 5/30\n",
      "\u001b[1m117/117\u001b[0m \u001b[32m━━━━━━━━━━━━━━━━━━━━\u001b[0m\u001b[37m\u001b[0m \u001b[1m32s\u001b[0m 271ms/step - accuracy: 0.4114 - loss: 1.0650 - precision: 0.5691 - recall: 0.0574 - val_accuracy: 0.4778 - val_loss: 1.0302 - val_precision: 0.7100 - val_recall: 0.1431\n",
      "Epoch 6/30\n",
      "\u001b[1m117/117\u001b[0m \u001b[32m━━━━━━━━━━━━━━━━━━━━\u001b[0m\u001b[37m\u001b[0m \u001b[1m32s\u001b[0m 271ms/step - accuracy: 0.4238 - loss: 1.0529 - precision: 0.6628 - recall: 0.0870 - val_accuracy: 0.3407 - val_loss: 1.0952 - val_precision: 0.0000e+00 - val_recall: 0.0000e+00\n",
      "Epoch 7/30\n",
      "\u001b[1m117/117\u001b[0m \u001b[32m━━━━━━━━━━━━━━━━━━━━\u001b[0m\u001b[37m\u001b[0m \u001b[1m30s\u001b[0m 253ms/step - accuracy: 0.4323 - loss: 1.0475 - precision: 0.6277 - recall: 0.0640 - val_accuracy: 0.5645 - val_loss: 0.9708 - val_precision: 0.7273 - val_recall: 0.1774\n",
      "Epoch 8/30\n",
      "\u001b[1m117/117\u001b[0m \u001b[32m━━━━━━━━━━━━━━━━━━━━\u001b[0m\u001b[37m\u001b[0m \u001b[1m31s\u001b[0m 266ms/step - accuracy: 0.5607 - loss: 0.9520 - precision: 0.6687 - recall: 0.2512 - val_accuracy: 0.6774 - val_loss: 0.7995 - val_precision: 0.7483 - val_recall: 0.4315\n",
      "Epoch 9/30\n",
      "\u001b[1m117/117\u001b[0m \u001b[32m━━━━━━━━━━━━━━━━━━━━\u001b[0m\u001b[37m\u001b[0m \u001b[1m32s\u001b[0m 271ms/step - accuracy: 0.6696 - loss: 0.7877 - precision: 0.7334 - recall: 0.4883 - val_accuracy: 0.6895 - val_loss: 0.7027 - val_precision: 0.7255 - val_recall: 0.6129\n",
      "Epoch 10/30\n",
      "\u001b[1m117/117\u001b[0m \u001b[32m━━━━━━━━━━━━━━━━━━━━\u001b[0m\u001b[37m\u001b[0m \u001b[1m32s\u001b[0m 269ms/step - accuracy: 0.7209 - loss: 0.6408 - precision: 0.7705 - recall: 0.6517 - val_accuracy: 0.7036 - val_loss: 0.6720 - val_precision: 0.7352 - val_recall: 0.6492\n",
      "Epoch 11/30\n",
      "\u001b[1m117/117\u001b[0m \u001b[32m━━━━━━━━━━━━━━━━━━━━\u001b[0m\u001b[37m\u001b[0m \u001b[1m29s\u001b[0m 246ms/step - accuracy: 0.7727 - loss: 0.5420 - precision: 0.8033 - recall: 0.7274 - val_accuracy: 0.7540 - val_loss: 0.5912 - val_precision: 0.7846 - val_recall: 0.6976\n",
      "Epoch 12/30\n",
      "\u001b[1m117/117\u001b[0m \u001b[32m━━━━━━━━━━━━━━━━━━━━\u001b[0m\u001b[37m\u001b[0m \u001b[1m32s\u001b[0m 269ms/step - accuracy: 0.8275 - loss: 0.4342 - precision: 0.8544 - recall: 0.7981 - val_accuracy: 0.7238 - val_loss: 0.6077 - val_precision: 0.7638 - val_recall: 0.6976\n",
      "Epoch 13/30\n",
      "\u001b[1m117/117\u001b[0m \u001b[32m━━━━━━━━━━━━━━━━━━━━\u001b[0m\u001b[37m\u001b[0m \u001b[1m34s\u001b[0m 287ms/step - accuracy: 0.8533 - loss: 0.3781 - precision: 0.8762 - recall: 0.8305 - val_accuracy: 0.7843 - val_loss: 0.5736 - val_precision: 0.8116 - val_recall: 0.7641\n",
      "Epoch 14/30\n",
      "\u001b[1m117/117\u001b[0m \u001b[32m━━━━━━━━━━━━━━━━━━━━\u001b[0m\u001b[37m\u001b[0m \u001b[1m32s\u001b[0m 271ms/step - accuracy: 0.8706 - loss: 0.3293 - precision: 0.8882 - recall: 0.8553 - val_accuracy: 0.7419 - val_loss: 0.6451 - val_precision: 0.7726 - val_recall: 0.7056\n",
      "Epoch 15/30\n",
      "\u001b[1m117/117\u001b[0m \u001b[32m━━━━━━━━━━━━━━━━━━━━\u001b[0m\u001b[37m\u001b[0m \u001b[1m29s\u001b[0m 248ms/step - accuracy: 0.8647 - loss: 0.3428 - precision: 0.8910 - recall: 0.8382 - val_accuracy: 0.8085 - val_loss: 0.6722 - val_precision: 0.8234 - val_recall: 0.7802\n",
      "Epoch 16/30\n",
      "\u001b[1m117/117\u001b[0m \u001b[32m━━━━━━━━━━━━━━━━━━━━\u001b[0m\u001b[37m\u001b[0m \u001b[1m32s\u001b[0m 270ms/step - accuracy: 0.9036 - loss: 0.2657 - precision: 0.9162 - recall: 0.8941 - val_accuracy: 0.7903 - val_loss: 0.7026 - val_precision: 0.8034 - val_recall: 0.7581\n",
      "Epoch 17/30\n",
      "\u001b[1m117/117\u001b[0m \u001b[32m━━━━━━━━━━━━━━━━━━━━\u001b[0m\u001b[37m\u001b[0m \u001b[1m32s\u001b[0m 269ms/step - accuracy: 0.9152 - loss: 0.2264 - precision: 0.9277 - recall: 0.9069 - val_accuracy: 0.8347 - val_loss: 0.7153 - val_precision: 0.8385 - val_recall: 0.8165\n",
      "Epoch 18/30\n",
      "\u001b[1m117/117\u001b[0m \u001b[32m━━━━━━━━━━━━━━━━━━━━\u001b[0m\u001b[37m\u001b[0m \u001b[1m30s\u001b[0m 253ms/step - accuracy: 0.9264 - loss: 0.1946 - precision: 0.9361 - recall: 0.9218 - val_accuracy: 0.8145 - val_loss: 0.7218 - val_precision: 0.8244 - val_recall: 0.8044\n",
      "Epoch 19/30\n",
      "\u001b[1m117/117\u001b[0m \u001b[32m━━━━━━━━━━━━━━━━━━━━\u001b[0m\u001b[37m\u001b[0m \u001b[1m31s\u001b[0m 263ms/step - accuracy: 0.9343 - loss: 0.1679 - precision: 0.9399 - recall: 0.9271 - val_accuracy: 0.8387 - val_loss: 0.7850 - val_precision: 0.8419 - val_recall: 0.8266\n",
      "Epoch 20/30\n",
      "\u001b[1m117/117\u001b[0m \u001b[32m━━━━━━━━━━━━━━━━━━━━\u001b[0m\u001b[37m\u001b[0m \u001b[1m32s\u001b[0m 271ms/step - accuracy: 0.9351 - loss: 0.1710 - precision: 0.9435 - recall: 0.9239 - val_accuracy: 0.8347 - val_loss: 0.7260 - val_precision: 0.8427 - val_recall: 0.8206\n",
      "Epoch 21/30\n",
      "\u001b[1m117/117\u001b[0m \u001b[32m━━━━━━━━━━━━━━━━━━━━\u001b[0m\u001b[37m\u001b[0m \u001b[1m32s\u001b[0m 270ms/step - accuracy: 0.9503 - loss: 0.1430 - precision: 0.9596 - recall: 0.9467 - val_accuracy: 0.8266 - val_loss: 0.8219 - val_precision: 0.8340 - val_recall: 0.8206\n",
      "Epoch 22/30\n",
      "\u001b[1m117/117\u001b[0m \u001b[32m━━━━━━━━━━━━━━━━━━━━\u001b[0m\u001b[37m\u001b[0m \u001b[1m29s\u001b[0m 248ms/step - accuracy: 0.9502 - loss: 0.1279 - precision: 0.9581 - recall: 0.9452 - val_accuracy: 0.8427 - val_loss: 0.8152 - val_precision: 0.8510 - val_recall: 0.8407\n",
      "Epoch 23/30\n",
      "\u001b[1m117/117\u001b[0m \u001b[32m━━━━━━━━━━━━━━━━━━━━\u001b[0m\u001b[37m\u001b[0m \u001b[1m32s\u001b[0m 269ms/step - accuracy: 0.9623 - loss: 0.1108 - precision: 0.9676 - recall: 0.9578 - val_accuracy: 0.8306 - val_loss: 0.9425 - val_precision: 0.8313 - val_recall: 0.8246\n",
      "Epoch 24/30\n",
      "\u001b[1m117/117\u001b[0m \u001b[32m━━━━━━━━━━━━━━━━━━━━\u001b[0m\u001b[37m\u001b[0m \u001b[1m32s\u001b[0m 270ms/step - accuracy: 0.9669 - loss: 0.1071 - precision: 0.9717 - recall: 0.9640 - val_accuracy: 0.8569 - val_loss: 0.8724 - val_precision: 0.8630 - val_recall: 0.8508\n",
      "Epoch 25/30\n",
      "\u001b[1m117/117\u001b[0m \u001b[32m━━━━━━━━━━━━━━━━━━━━\u001b[0m\u001b[37m\u001b[0m \u001b[1m30s\u001b[0m 254ms/step - accuracy: 0.9675 - loss: 0.0776 - precision: 0.9716 - recall: 0.9666 - val_accuracy: 0.8528 - val_loss: 0.8482 - val_precision: 0.8627 - val_recall: 0.8488\n",
      "Epoch 26/30\n",
      "\u001b[1m117/117\u001b[0m \u001b[32m━━━━━━━━━━━━━━━━━━━━\u001b[0m\u001b[37m\u001b[0m \u001b[1m33s\u001b[0m 283ms/step - accuracy: 0.9721 - loss: 0.0859 - precision: 0.9735 - recall: 0.9686 - val_accuracy: 0.8609 - val_loss: 0.8502 - val_precision: 0.8676 - val_recall: 0.8589\n",
      "Epoch 27/30\n",
      "\u001b[1m117/117\u001b[0m \u001b[32m━━━━━━━━━━━━━━━━━━━━\u001b[0m\u001b[37m\u001b[0m \u001b[1m32s\u001b[0m 270ms/step - accuracy: 0.9707 - loss: 0.0879 - precision: 0.9744 - recall: 0.9680 - val_accuracy: 0.8569 - val_loss: 0.9282 - val_precision: 0.8668 - val_recall: 0.8528\n",
      "Epoch 28/30\n",
      "\u001b[1m117/117\u001b[0m \u001b[32m━━━━━━━━━━━━━━━━━━━━\u001b[0m\u001b[37m\u001b[0m \u001b[1m32s\u001b[0m 269ms/step - accuracy: 0.9766 - loss: 0.0661 - precision: 0.9787 - recall: 0.9755 - val_accuracy: 0.8508 - val_loss: 1.0940 - val_precision: 0.8540 - val_recall: 0.8488\n",
      "Epoch 29/30\n",
      "\u001b[1m117/117\u001b[0m \u001b[32m━━━━━━━━━━━━━━━━━━━━\u001b[0m\u001b[37m\u001b[0m \u001b[1m29s\u001b[0m 248ms/step - accuracy: 0.9716 - loss: 0.0746 - precision: 0.9733 - recall: 0.9709 - val_accuracy: 0.8448 - val_loss: 0.8549 - val_precision: 0.8480 - val_recall: 0.8327\n",
      "Epoch 30/30\n",
      "\u001b[1m117/117\u001b[0m \u001b[32m━━━━━━━━━━━━━━━━━━━━\u001b[0m\u001b[37m\u001b[0m \u001b[1m32s\u001b[0m 271ms/step - accuracy: 0.9691 - loss: 0.0987 - precision: 0.9741 - recall: 0.9640 - val_accuracy: 0.8528 - val_loss: 0.9620 - val_precision: 0.8577 - val_recall: 0.8508\n",
      "Predicting on validation set...\n",
      "\u001b[1m16/16\u001b[0m \u001b[32m━━━━━━━━━━━━━━━━━━━━\u001b[0m\u001b[37m\u001b[0m \u001b[1m1s\u001b[0m 59ms/step\n",
      "Sending metrics to clearML...\n",
      "done\n"
     ]
    }
   ],
   "source": [
    "# rotate augmentation 20\n",
    "task_name = 'r20'\n",
    "sub_project_name = 'ROTATE'\n",
    "\n",
    "augmentation_metadata = {\n",
    "        'methods': {        \n",
    "            'rotate': {\n",
    "                'parameters': {\n",
    "                    'angle_limit': 20, # Maximum angle of rotation\n",
    "                    'p': 1.0  # Probability of applying the augmentation\n",
    "                },\n",
    "                'apply_to_percentage': 0.5  # 50% of the training images\n",
    "            }        \n",
    "        }\n",
    "    }\n",
    "\n",
    "for i in range(N):\n",
    "    RUN = i + 1\n",
    "    try:\n",
    "        print(f\"Starting RUN: {RUN}\")\n",
    "        main(RUN, augmentation_metadata, task_name, sub_project_name, epochs, train_size, w1, w2)\n",
    "    except Exception as e:\n",
    "        print(f\"Error in RUN: {RUN}\")\n",
    "        print(e)\n",
    "    finally:\n",
    "        clear_output(wait=True)  # Clear the output to avoid scrolling\n",
    "        gc.collect()  # Collect garbage to avoid memory leaks"
   ]
  },
  {
   "cell_type": "code",
   "execution_count": 22,
   "metadata": {},
   "outputs": [
    {
     "name": "stdout",
     "output_type": "stream",
     "text": [
      "Starting RUN: 5\n",
      "Seed:  2004513732\n"
     ]
    },
    {
     "name": "stderr",
     "output_type": "stream",
     "text": [
      "c:\\github\\Third-Year-Project\\Intruder-Aircraft-Detection\\main\\tl_clf.py:79: SettingWithCopyWarning:\n",
      "\n",
      "\n",
      "A value is trying to be set on a copy of a slice from a DataFrame.\n",
      "Try using .loc[row_indexer,col_indexer] = value instead\n",
      "\n",
      "See the caveats in the documentation: https://pandas.pydata.org/pandas-docs/stable/user_guide/indexing.html#returning-a-view-versus-a-copy\n",
      "\n",
      "c:\\github\\Third-Year-Project\\Intruder-Aircraft-Detection\\main\\tl_clf.py:80: SettingWithCopyWarning:\n",
      "\n",
      "\n",
      "A value is trying to be set on a copy of a slice from a DataFrame.\n",
      "Try using .loc[row_indexer,col_indexer] = value instead\n",
      "\n",
      "See the caveats in the documentation: https://pandas.pydata.org/pandas-docs/stable/user_guide/indexing.html#returning-a-view-versus-a-copy\n",
      "\n"
     ]
    },
    {
     "name": "stdout",
     "output_type": "stream",
     "text": [
      "Removing dataset if pre-existing\n",
      "Copying training files:\n"
     ]
    },
    {
     "name": "stderr",
     "output_type": "stream",
     "text": [
      "Copying files: 100%|██████████| 5000/5000 [00:09<00:00, 551.82it/s] \n"
     ]
    },
    {
     "name": "stdout",
     "output_type": "stream",
     "text": [
      "Copying validation files:\n"
     ]
    },
    {
     "name": "stderr",
     "output_type": "stream",
     "text": [
      "Copying files: 100%|██████████| 1000/1000 [00:00<00:00, 1533.45it/s]\n"
     ]
    },
    {
     "name": "stdout",
     "output_type": "stream",
     "text": [
      "Dataset 'weather_45_2500' created at C:\\github\\Third-Year-Project\\Intruder-Aircraft-Detection\\datasets\\Custom\\weather_45_2500\n",
      "Processing train labels in weather_45_2500:\n"
     ]
    },
    {
     "name": "stderr",
     "output_type": "stream",
     "text": [
      "Processing labels: 100%|██████████| 2500/2500 [00:08<00:00, 290.45it/s]\n"
     ]
    },
    {
     "name": "stdout",
     "output_type": "stream",
     "text": [
      "Processing valid labels in weather_45_2500:\n"
     ]
    },
    {
     "name": "stderr",
     "output_type": "stream",
     "text": [
      "Processing labels: 100%|██████████| 500/500 [00:01<00:00, 271.54it/s]\n"
     ]
    },
    {
     "name": "stdout",
     "output_type": "stream",
     "text": [
      "Label correction completed.\n"
     ]
    },
    {
     "name": "stderr",
     "output_type": "stream",
     "text": [
      "Removing existing directories/files: 100%|██████████| 3/3 [00:00<00:00, 6043.67it/s]\n",
      "Copying files: 100%|██████████| 2500/2500 [00:02<00:00, 935.02it/s]\n",
      "Copying files: 100%|██████████| 2500/2500 [00:01<00:00, 1429.02it/s]\n",
      "Applying augmentations: 100%|██████████| 1250/1250 [00:12<00:00, 100.23it/s]\n"
     ]
    },
    {
     "name": "stdout",
     "output_type": "stream",
     "text": [
      "An error occurred: Expected x_min for bbox (-0.101744, 0.561029, 0.612382, 1.037113, 1) to be in the range [0.0, 1.0], got -0.101744.\n",
      "An error occurred: Expected y_max for bbox (0.185026, 0.75632, 0.559774, 1.006152, 2) to be in the range [0.0, 1.0], got 1.006152.\n",
      "An error occurred: Expected x_min for bbox (-0.196893, 0.27815399999999996, 0.644803, 0.8392839999999999, 2) to be in the range [0.0, 1.0], got -0.196893.\n",
      "An error occurred: Expected x_min for bbox (-0.06371850000000001, -0.10423849999999998, 0.7122185, 0.41305249999999993, 2) to be in the range [0.0, 1.0], got -0.06371850000000001.\n",
      "An error occurred: Expected x_max for bbox (0.4856945, 0.37555200000000005, 1.0210155, 0.732432, 1) to be in the range [0.0, 1.0], got 1.0210155.\n",
      "An error occurred: Expected y_min for bbox (0.47015499999999993, -0.022556500000000007, 0.890417, 0.2576185, 1) to be in the range [0.0, 1.0], got -0.022556500000000007.\n",
      "An error occurred: Expected y_min for bbox (0.2490575, -0.07570950000000001, 0.9783645000000001, 0.4104955, 1) to be in the range [0.0, 1.0], got -0.07570950000000001.\n"
     ]
    },
    {
     "name": "stderr",
     "output_type": "stream",
     "text": [
      "Processing images:   0%|          | 10/2500 [00:00<03:07, 13.29it/s]"
     ]
    },
    {
     "name": "stdout",
     "output_type": "stream",
     "text": [
      "An error occurred with C:/github/Third-Year-Project/Intruder-Aircraft-Detection/datasets/Custom/weather_45_2500\\images\\train\\28006.jpg: Expected y_min for bbox (0.31603499999999995, -0.07623150000000001, 0.998717, 0.3788895, 1) to be in the range [0.0, 1.0], got -0.07623150000000001.\n"
     ]
    },
    {
     "name": "stderr",
     "output_type": "stream",
     "text": [
      "Processing images:   1%|          | 20/2500 [00:01<03:14, 12.74it/s]"
     ]
    },
    {
     "name": "stdout",
     "output_type": "stream",
     "text": [
      "An error occurred with C:/github/Third-Year-Project/Intruder-Aircraft-Detection/datasets/Custom/weather_45_2500\\images\\train\\28040.jpg: Expected x_min for bbox (-0.0473615, 0.3129345, 0.5972675000000001, 0.7426875, 1) to be in the range [0.0, 1.0], got -0.0473615.\n"
     ]
    },
    {
     "name": "stderr",
     "output_type": "stream",
     "text": [
      "Processing images:   3%|▎         | 66/2500 [00:05<03:09, 12.83it/s]"
     ]
    },
    {
     "name": "stdout",
     "output_type": "stream",
     "text": [
      "An error occurred with C:/github/Third-Year-Project/Intruder-Aircraft-Detection/datasets/Custom/weather_45_2500\\images\\train\\28141.jpg: Expected x_min for bbox (-0.101744, 0.561029, 0.612382, 1.037113, 1) to be in the range [0.0, 1.0], got -0.101744.\n"
     ]
    },
    {
     "name": "stderr",
     "output_type": "stream",
     "text": [
      "Processing images:   6%|▋         | 160/2500 [00:12<01:50, 21.24it/s]"
     ]
    },
    {
     "name": "stdout",
     "output_type": "stream",
     "text": [
      "An error occurred with C:/github/Third-Year-Project/Intruder-Aircraft-Detection/datasets/Custom/weather_45_2500\\images\\train\\28333.jpg: Expected y_min for bbox (0.47015499999999993, -0.022556500000000007, 0.890417, 0.2576185, 1) to be in the range [0.0, 1.0], got -0.022556500000000007.\n"
     ]
    },
    {
     "name": "stderr",
     "output_type": "stream",
     "text": [
      "Processing images:   8%|▊         | 206/2500 [00:14<01:07, 33.82it/s]"
     ]
    },
    {
     "name": "stdout",
     "output_type": "stream",
     "text": [
      "An error occurred with C:/github/Third-Year-Project/Intruder-Aircraft-Detection/datasets/Custom/weather_45_2500\\images\\train\\28423.jpg: Expected y_max for bbox (0.0305415, 0.4883285, 0.9941045, 1.1307035, 1) to be in the range [0.0, 1.0], got 1.1307035.\n"
     ]
    },
    {
     "name": "stderr",
     "output_type": "stream",
     "text": [
      "Processing images:  12%|█▏        | 307/2500 [00:17<01:07, 32.62it/s]"
     ]
    },
    {
     "name": "stdout",
     "output_type": "stream",
     "text": [
      "An error occurred with C:/github/Third-Year-Project/Intruder-Aircraft-Detection/datasets/Custom/weather_45_2500\\images\\train\\28653.jpg: Expected x_max for bbox (0.4856945, 0.37555200000000005, 1.0210155, 0.732432, 1) to be in the range [0.0, 1.0], got 1.0210155.\n"
     ]
    },
    {
     "name": "stderr",
     "output_type": "stream",
     "text": [
      "Processing images:  13%|█▎        | 332/2500 [00:18<01:05, 32.89it/s]"
     ]
    },
    {
     "name": "stdout",
     "output_type": "stream",
     "text": [
      "An error occurred with C:/github/Third-Year-Project/Intruder-Aircraft-Detection/datasets/Custom/weather_45_2500\\images\\train\\28706.jpg: In YOLO format all coordinates must be float and in range (0, 1]\n"
     ]
    },
    {
     "name": "stderr",
     "output_type": "stream",
     "text": [
      "Processing images:  16%|█▌        | 389/2500 [00:20<01:02, 33.88it/s]"
     ]
    },
    {
     "name": "stdout",
     "output_type": "stream",
     "text": [
      "An error occurred with C:/github/Third-Year-Project/Intruder-Aircraft-Detection/datasets/Custom/weather_45_2500\\images\\train\\28830.jpg: Expected y_max for bbox (0.3830585, 0.754232, 0.8080715, 1.037574, 1) to be in the range [0.0, 1.0], got 1.037574.\n"
     ]
    },
    {
     "name": "stderr",
     "output_type": "stream",
     "text": [
      "Processing images:  16%|█▌        | 398/2500 [00:20<01:00, 34.54it/s]"
     ]
    },
    {
     "name": "stdout",
     "output_type": "stream",
     "text": [
      "An error occurred with C:/github/Third-Year-Project/Intruder-Aircraft-Detection/datasets/Custom/weather_45_2500\\images\\train\\28857.jpg: Expected y_min for bbox (0.2490575, -0.07570950000000001, 0.9783645000000001, 0.4104955, 1) to be in the range [0.0, 1.0], got -0.07570950000000001.\n"
     ]
    },
    {
     "name": "stderr",
     "output_type": "stream",
     "text": [
      "Processing images:  25%|██▍       | 615/2500 [00:27<00:58, 32.35it/s]"
     ]
    },
    {
     "name": "stdout",
     "output_type": "stream",
     "text": [
      "An error occurred with C:/github/Third-Year-Project/Intruder-Aircraft-Detection/datasets/Custom/weather_45_2500\\images\\train\\29446.jpg: Expected x_max for bbox (0.23347149999999994, 0.03606499999999996, 1.0153205, 0.5572969999999999, 1) to be in the range [0.0, 1.0], got 1.0153205.\n"
     ]
    },
    {
     "name": "stderr",
     "output_type": "stream",
     "text": [
      "Processing images:  25%|██▌       | 628/2500 [00:27<00:54, 34.09it/s]"
     ]
    },
    {
     "name": "stdout",
     "output_type": "stream",
     "text": [
      "An error occurred with C:/github/Third-Year-Project/Intruder-Aircraft-Detection/datasets/Custom/weather_45_2500\\images\\train\\29465.jpg: Expected x_max for bbox (0.38954849999999996, 0.45536699999999997, 1.1199314999999999, 0.9422889999999999, 1) to be in the range [0.0, 1.0], got 1.1199314999999999.\n"
     ]
    },
    {
     "name": "stderr",
     "output_type": "stream",
     "text": [
      "Processing images:  61%|██████    | 1513/2500 [00:54<00:31, 31.20it/s]"
     ]
    },
    {
     "name": "stdout",
     "output_type": "stream",
     "text": [
      "An error occurred with C:/github/Third-Year-Project/Intruder-Aircraft-Detection/datasets/Custom/weather_45_2500\\images\\train\\52365.jpg: Expected x_max for bbox (0.487545, 0.513501, 1.0378530000000001, 0.880373, 2) to be in the range [0.0, 1.0], got 1.0378530000000001.\n"
     ]
    },
    {
     "name": "stderr",
     "output_type": "stream",
     "text": [
      "Processing images:  65%|██████▍   | 1618/2500 [00:58<00:26, 33.65it/s]"
     ]
    },
    {
     "name": "stdout",
     "output_type": "stream",
     "text": [
      "An error occurred with C:/github/Third-Year-Project/Intruder-Aircraft-Detection/datasets/Custom/weather_45_2500\\images\\train\\52560.jpg: Expected y_max for bbox (0.49586100000000005, 0.7528695000000001, 0.982877, 1.0775465, 2) to be in the range [0.0, 1.0], got 1.0775465.\n"
     ]
    },
    {
     "name": "stderr",
     "output_type": "stream",
     "text": [
      "Processing images:  69%|██████▉   | 1719/2500 [01:01<00:22, 34.21it/s]"
     ]
    },
    {
     "name": "stdout",
     "output_type": "stream",
     "text": [
      "An error occurred with C:/github/Third-Year-Project/Intruder-Aircraft-Detection/datasets/Custom/weather_45_2500\\images\\train\\52751.jpg: Expected x_min for bbox (-0.06371850000000001, -0.10423849999999998, 0.7122185, 0.41305249999999993, 2) to be in the range [0.0, 1.0], got -0.06371850000000001.\n"
     ]
    },
    {
     "name": "stderr",
     "output_type": "stream",
     "text": [
      "Processing images:  78%|███████▊  | 1944/2500 [01:08<00:16, 34.67it/s]"
     ]
    },
    {
     "name": "stdout",
     "output_type": "stream",
     "text": [
      "An error occurred with C:/github/Third-Year-Project/Intruder-Aircraft-Detection/datasets/Custom/weather_45_2500\\images\\train\\53248.jpg: Expected y_max for bbox (0.185026, 0.75632, 0.559774, 1.006152, 2) to be in the range [0.0, 1.0], got 1.006152.\n"
     ]
    },
    {
     "name": "stderr",
     "output_type": "stream",
     "text": [
      "Processing images:  78%|███████▊  | 1952/2500 [01:08<00:16, 33.64it/s]"
     ]
    },
    {
     "name": "stdout",
     "output_type": "stream",
     "text": [
      "An error occurred with C:/github/Third-Year-Project/Intruder-Aircraft-Detection/datasets/Custom/weather_45_2500\\images\\train\\53264.jpg: Expected x_min for bbox (-0.12539900000000004, -0.1299795, 0.864633, 0.5300414999999999, 2) to be in the range [0.0, 1.0], got -0.12539900000000004.\n"
     ]
    },
    {
     "name": "stderr",
     "output_type": "stream",
     "text": [
      "Processing images:  83%|████████▎ | 2084/2500 [01:12<00:12, 33.48it/s]"
     ]
    },
    {
     "name": "stdout",
     "output_type": "stream",
     "text": [
      "An error occurred with C:/github/Third-Year-Project/Intruder-Aircraft-Detection/datasets/Custom/weather_45_2500\\images\\train\\53546.jpg: Expected x_min for bbox (-0.196893, 0.27815399999999996, 0.644803, 0.8392839999999999, 2) to be in the range [0.0, 1.0], got -0.196893.\n"
     ]
    },
    {
     "name": "stderr",
     "output_type": "stream",
     "text": [
      "Processing images: 100%|██████████| 2500/2500 [01:25<00:00, 29.37it/s]\n",
      "Processing images:   0%|          | 3/3743 [00:00<03:19, 18.75it/s]"
     ]
    },
    {
     "name": "stdout",
     "output_type": "stream",
     "text": [
      "An error occurred with C:/github/Third-Year-Project/Intruder-Aircraft-Detection/datasets/Custom/weather_45_2500\\images\\train-aug\\28006.jpg: Expected y_min for bbox (0.31603499999999995, -0.07623150000000001, 0.998717, 0.3788895, 1) to be in the range [0.0, 1.0], got -0.07623150000000001.\n"
     ]
    },
    {
     "name": "stderr",
     "output_type": "stream",
     "text": [
      "Processing images:   1%|          | 22/3743 [00:01<04:20, 14.28it/s]"
     ]
    },
    {
     "name": "stdout",
     "output_type": "stream",
     "text": [
      "An error occurred with C:/github/Third-Year-Project/Intruder-Aircraft-Detection/datasets/Custom/weather_45_2500\\images\\train-aug\\28040.jpg: Expected x_min for bbox (-0.0473615, 0.3129345, 0.5972675000000001, 0.7426875, 1) to be in the range [0.0, 1.0], got -0.0473615.\n"
     ]
    },
    {
     "name": "stderr",
     "output_type": "stream",
     "text": [
      "Processing images:   3%|▎         | 95/3743 [00:07<04:06, 14.80it/s]"
     ]
    },
    {
     "name": "stdout",
     "output_type": "stream",
     "text": [
      "An error occurred with C:/github/Third-Year-Project/Intruder-Aircraft-Detection/datasets/Custom/weather_45_2500\\images\\train-aug\\28141.jpg: Expected x_min for bbox (-0.101744, 0.561029, 0.612382, 1.037113, 1) to be in the range [0.0, 1.0], got -0.101744.\n"
     ]
    },
    {
     "name": "stderr",
     "output_type": "stream",
     "text": [
      "Processing images:   6%|▌         | 229/3743 [00:17<04:52, 12.02it/s]"
     ]
    },
    {
     "name": "stdout",
     "output_type": "stream",
     "text": [
      "An error occurred with C:/github/Third-Year-Project/Intruder-Aircraft-Detection/datasets/Custom/weather_45_2500\\images\\train-aug\\28333.jpg: Expected y_min for bbox (0.47015499999999993, -0.022556500000000007, 0.890417, 0.2576185, 1) to be in the range [0.0, 1.0], got -0.022556500000000007.\n"
     ]
    },
    {
     "name": "stderr",
     "output_type": "stream",
     "text": [
      "Processing images:   8%|▊         | 302/3743 [00:23<01:59, 28.78it/s]"
     ]
    },
    {
     "name": "stdout",
     "output_type": "stream",
     "text": [
      "An error occurred with C:/github/Third-Year-Project/Intruder-Aircraft-Detection/datasets/Custom/weather_45_2500\\images\\train-aug\\28423.jpg: Expected y_max for bbox (0.0305415, 0.4883285, 0.9941045, 1.1307035, 1) to be in the range [0.0, 1.0], got 1.1307035.\n"
     ]
    },
    {
     "name": "stderr",
     "output_type": "stream",
     "text": [
      "Processing images:  12%|█▏        | 461/3743 [00:28<01:41, 32.43it/s]"
     ]
    },
    {
     "name": "stdout",
     "output_type": "stream",
     "text": [
      "An error occurred with C:/github/Third-Year-Project/Intruder-Aircraft-Detection/datasets/Custom/weather_45_2500\\images\\train-aug\\28653.jpg: Expected x_max for bbox (0.4856945, 0.37555200000000005, 1.0210155, 0.732432, 1) to be in the range [0.0, 1.0], got 1.0210155.\n"
     ]
    },
    {
     "name": "stderr",
     "output_type": "stream",
     "text": [
      "Processing images:  13%|█▎        | 494/3743 [00:29<01:37, 33.36it/s]"
     ]
    },
    {
     "name": "stdout",
     "output_type": "stream",
     "text": [
      "An error occurred with C:/github/Third-Year-Project/Intruder-Aircraft-Detection/datasets/Custom/weather_45_2500\\images\\train-aug\\28706.jpg: In YOLO format all coordinates must be float and in range (0, 1]\n"
     ]
    },
    {
     "name": "stderr",
     "output_type": "stream",
     "text": [
      "Processing images:  16%|█▌        | 582/3743 [00:32<01:36, 32.82it/s]"
     ]
    },
    {
     "name": "stdout",
     "output_type": "stream",
     "text": [
      "An error occurred with C:/github/Third-Year-Project/Intruder-Aircraft-Detection/datasets/Custom/weather_45_2500\\images\\train-aug\\28830.jpg: Expected y_max for bbox (0.3830585, 0.754232, 0.8080715, 1.037574, 1) to be in the range [0.0, 1.0], got 1.037574.\n"
     ]
    },
    {
     "name": "stderr",
     "output_type": "stream",
     "text": [
      "Processing images:  16%|█▌        | 595/3743 [00:32<01:34, 33.15it/s]"
     ]
    },
    {
     "name": "stdout",
     "output_type": "stream",
     "text": [
      "An error occurred with C:/github/Third-Year-Project/Intruder-Aircraft-Detection/datasets/Custom/weather_45_2500\\images\\train-aug\\28857.jpg: Expected y_min for bbox (0.2490575, -0.07570950000000001, 0.9783645000000001, 0.4104955, 1) to be in the range [0.0, 1.0], got -0.07570950000000001.\n"
     ]
    },
    {
     "name": "stderr",
     "output_type": "stream",
     "text": [
      "Processing images:  25%|██▍       | 920/3743 [00:43<01:25, 32.90it/s]"
     ]
    },
    {
     "name": "stdout",
     "output_type": "stream",
     "text": [
      "An error occurred with C:/github/Third-Year-Project/Intruder-Aircraft-Detection/datasets/Custom/weather_45_2500\\images\\train-aug\\29446.jpg: Expected x_max for bbox (0.23347149999999994, 0.03606499999999996, 1.0153205, 0.5572969999999999, 1) to be in the range [0.0, 1.0], got 1.0153205.\n"
     ]
    },
    {
     "name": "stderr",
     "output_type": "stream",
     "text": [
      "Processing images:  25%|██▌       | 941/3743 [00:43<01:22, 34.13it/s]"
     ]
    },
    {
     "name": "stdout",
     "output_type": "stream",
     "text": [
      "An error occurred with C:/github/Third-Year-Project/Intruder-Aircraft-Detection/datasets/Custom/weather_45_2500\\images\\train-aug\\29465.jpg: Expected x_max for bbox (0.38954849999999996, 0.45536699999999997, 1.1199314999999999, 0.9422889999999999, 1) to be in the range [0.0, 1.0], got 1.1199314999999999.\n"
     ]
    },
    {
     "name": "stderr",
     "output_type": "stream",
     "text": [
      "Processing images:  61%|██████    | 2273/3743 [01:25<00:42, 34.27it/s]"
     ]
    },
    {
     "name": "stdout",
     "output_type": "stream",
     "text": [
      "An error occurred with C:/github/Third-Year-Project/Intruder-Aircraft-Detection/datasets/Custom/weather_45_2500\\images\\train-aug\\52365.jpg: Expected x_max for bbox (0.487545, 0.513501, 1.0378530000000001, 0.880373, 2) to be in the range [0.0, 1.0], got 1.0378530000000001.\n"
     ]
    },
    {
     "name": "stderr",
     "output_type": "stream",
     "text": [
      "Processing images:  65%|██████▍   | 2426/3743 [01:29<00:39, 33.06it/s]"
     ]
    },
    {
     "name": "stdout",
     "output_type": "stream",
     "text": [
      "An error occurred with C:/github/Third-Year-Project/Intruder-Aircraft-Detection/datasets/Custom/weather_45_2500\\images\\train-aug\\52560.jpg: Expected y_max for bbox (0.49586100000000005, 0.7528695000000001, 0.982877, 1.0775465, 2) to be in the range [0.0, 1.0], got 1.0775465.\n"
     ]
    },
    {
     "name": "stderr",
     "output_type": "stream",
     "text": [
      "Processing images:  69%|██████▉   | 2578/3743 [01:34<00:35, 32.67it/s]"
     ]
    },
    {
     "name": "stdout",
     "output_type": "stream",
     "text": [
      "An error occurred with C:/github/Third-Year-Project/Intruder-Aircraft-Detection/datasets/Custom/weather_45_2500\\images\\train-aug\\52751.jpg: Expected x_min for bbox (-0.06371850000000001, -0.10423849999999998, 0.7122185, 0.41305249999999993, 2) to be in the range [0.0, 1.0], got -0.06371850000000001.\n"
     ]
    },
    {
     "name": "stderr",
     "output_type": "stream",
     "text": [
      "Processing images:  78%|███████▊  | 2911/3743 [01:44<00:23, 35.86it/s]"
     ]
    },
    {
     "name": "stdout",
     "output_type": "stream",
     "text": [
      "An error occurred with C:/github/Third-Year-Project/Intruder-Aircraft-Detection/datasets/Custom/weather_45_2500\\images\\train-aug\\53248.jpg: Expected y_max for bbox (0.185026, 0.75632, 0.559774, 1.006152, 2) to be in the range [0.0, 1.0], got 1.006152.\n"
     ]
    },
    {
     "name": "stderr",
     "output_type": "stream",
     "text": [
      "Processing images:  78%|███████▊  | 2927/3743 [01:45<00:24, 33.36it/s]"
     ]
    },
    {
     "name": "stdout",
     "output_type": "stream",
     "text": [
      "An error occurred with C:/github/Third-Year-Project/Intruder-Aircraft-Detection/datasets/Custom/weather_45_2500\\images\\train-aug\\53264.jpg: Expected x_min for bbox (-0.12539900000000004, -0.1299795, 0.864633, 0.5300414999999999, 2) to be in the range [0.0, 1.0], got -0.12539900000000004.\n"
     ]
    },
    {
     "name": "stderr",
     "output_type": "stream",
     "text": [
      "Processing images:  83%|████████▎ | 3120/3743 [01:51<00:17, 34.82it/s]"
     ]
    },
    {
     "name": "stdout",
     "output_type": "stream",
     "text": [
      "An error occurred with C:/github/Third-Year-Project/Intruder-Aircraft-Detection/datasets/Custom/weather_45_2500\\images\\train-aug\\53546.jpg: Expected x_min for bbox (-0.196893, 0.27815399999999996, 0.644803, 0.8392839999999999, 2) to be in the range [0.0, 1.0], got -0.196893.\n"
     ]
    },
    {
     "name": "stderr",
     "output_type": "stream",
     "text": [
      "Processing images: 100%|██████████| 3743/3743 [02:10<00:00, 28.77it/s]\n",
      "Processing images:  19%|█▉        | 97/500 [00:04<00:12, 32.80it/s]"
     ]
    },
    {
     "name": "stdout",
     "output_type": "stream",
     "text": [
      "An error occurred with C:/github/Third-Year-Project/Intruder-Aircraft-Detection/datasets/Custom/weather_45_2500\\images\\valid\\29918.jpg: Expected y_max for bbox (0.4077075, 0.7077145, 0.8470265, 1.0005935, 1) to be in the range [0.0, 1.0], got 1.0005935.\n"
     ]
    },
    {
     "name": "stderr",
     "output_type": "stream",
     "text": [
      "Processing images:  76%|███████▋  | 382/500 [00:13<00:03, 34.52it/s]"
     ]
    },
    {
     "name": "stdout",
     "output_type": "stream",
     "text": [
      "An error occurred with C:/github/Third-Year-Project/Intruder-Aircraft-Detection/datasets/Custom/weather_45_2500\\images\\valid\\53950.jpg: Expected y_min for bbox (0.15967549999999997, -0.06710449999999998, 0.9726885, 0.47490449999999995, 2) to be in the range [0.0, 1.0], got -0.06710449999999998.\n"
     ]
    },
    {
     "name": "stderr",
     "output_type": "stream",
     "text": [
      "Processing images: 100%|██████████| 500/500 [00:17<00:00, 29.18it/s]\n",
      "Moving images in train: 100%|██████████| 2483/2483 [00:09<00:00, 271.97it/s]\n",
      "Moving images in train-aug: 100%|██████████| 3726/3726 [00:12<00:00, 304.48it/s]\n",
      "Moving images in valid: 100%|██████████| 498/498 [00:01<00:00, 281.07it/s]\n"
     ]
    },
    {
     "name": "stdout",
     "output_type": "stream",
     "text": [
      "Found 2483 files belonging to 3 classes.\n",
      "Found 3726 files belonging to 3 classes.\n",
      "Found 498 files belonging to 3 classes.\n",
      "ClearML Task: created new task id=b58dc73757564b5a8ae434a42a0ec6a2\n",
      "ClearML results page: https://app.clear.ml/projects/7250e546d5324b5c8e520b84207c06f5/experiments/b58dc73757564b5a8ae434a42a0ec6a2/output/log\n",
      "Training model...\n",
      "Epoch 1/30\n",
      "\u001b[1m78/78\u001b[0m \u001b[32m━━━━━━━━━━━━━━━━━━━━\u001b[0m\u001b[37m\u001b[0m \u001b[1m25s\u001b[0m 291ms/step - accuracy: 0.3255 - loss: 1.3822 - precision: 0.2881 - recall: 0.0493 - val_accuracy: 0.3454 - val_loss: 1.0985 - val_precision: 0.0000e+00 - val_recall: 0.0000e+00\n",
      "Epoch 2/30\n",
      "\u001b[1m78/78\u001b[0m \u001b[32m━━━━━━━━━━━━━━━━━━━━\u001b[0m\u001b[37m\u001b[0m \u001b[1m20s\u001b[0m 252ms/step - accuracy: 0.3791 - loss: 1.0932 - precision: 0.2174 - recall: 0.0034 - val_accuracy: 0.5964 - val_loss: 0.9768 - val_precision: 0.6907 - val_recall: 0.1345\n",
      "Epoch 3/30\n",
      "\u001b[1m78/78\u001b[0m \u001b[32m━━━━━━━━━━━━━━━━━━━━\u001b[0m\u001b[37m\u001b[0m \u001b[1m22s\u001b[0m 284ms/step - accuracy: 0.4935 - loss: 1.0384 - precision: 0.6020 - recall: 0.1130 - val_accuracy: 0.5241 - val_loss: 0.9191 - val_precision: 0.6863 - val_recall: 0.2108\n",
      "Epoch 4/30\n",
      "\u001b[1m78/78\u001b[0m \u001b[32m━━━━━━━━━━━━━━━━━━━━\u001b[0m\u001b[37m\u001b[0m \u001b[1m20s\u001b[0m 254ms/step - accuracy: 0.6335 - loss: 0.8419 - precision: 0.7383 - recall: 0.4218 - val_accuracy: 0.7510 - val_loss: 0.6406 - val_precision: 0.7822 - val_recall: 0.6707\n",
      "Epoch 5/30\n",
      "\u001b[1m78/78\u001b[0m \u001b[32m━━━━━━━━━━━━━━━━━━━━\u001b[0m\u001b[37m\u001b[0m \u001b[1m23s\u001b[0m 289ms/step - accuracy: 0.7284 - loss: 0.6483 - precision: 0.7772 - recall: 0.6436 - val_accuracy: 0.7791 - val_loss: 0.6017 - val_precision: 0.7820 - val_recall: 0.7490\n",
      "Epoch 6/30\n",
      "\u001b[1m78/78\u001b[0m \u001b[32m━━━━━━━━━━━━━━━━━━━━\u001b[0m\u001b[37m\u001b[0m \u001b[1m20s\u001b[0m 253ms/step - accuracy: 0.7770 - loss: 0.5388 - precision: 0.7935 - recall: 0.7402 - val_accuracy: 0.7711 - val_loss: 0.5587 - val_precision: 0.7838 - val_recall: 0.7570\n",
      "Epoch 7/30\n",
      "\u001b[1m78/78\u001b[0m \u001b[32m━━━━━━━━━━━━━━━━━━━━\u001b[0m\u001b[37m\u001b[0m \u001b[1m22s\u001b[0m 285ms/step - accuracy: 0.7958 - loss: 0.4630 - precision: 0.8134 - recall: 0.7741 - val_accuracy: 0.7671 - val_loss: 0.5601 - val_precision: 0.7724 - val_recall: 0.7631\n",
      "Epoch 8/30\n",
      "\u001b[1m78/78\u001b[0m \u001b[32m━━━━━━━━━━━━━━━━━━━━\u001b[0m\u001b[37m\u001b[0m \u001b[1m20s\u001b[0m 254ms/step - accuracy: 0.8228 - loss: 0.4265 - precision: 0.8402 - recall: 0.8071 - val_accuracy: 0.8072 - val_loss: 0.5556 - val_precision: 0.8093 - val_recall: 0.8012\n",
      "Epoch 9/30\n",
      "\u001b[1m78/78\u001b[0m \u001b[32m━━━━━━━━━━━━━━━━━━━━\u001b[0m\u001b[37m\u001b[0m \u001b[1m23s\u001b[0m 290ms/step - accuracy: 0.8381 - loss: 0.4068 - precision: 0.8478 - recall: 0.8148 - val_accuracy: 0.7992 - val_loss: 0.5285 - val_precision: 0.8107 - val_recall: 0.7912\n",
      "Epoch 10/30\n",
      "\u001b[1m78/78\u001b[0m \u001b[32m━━━━━━━━━━━━━━━━━━━━\u001b[0m\u001b[37m\u001b[0m \u001b[1m20s\u001b[0m 252ms/step - accuracy: 0.8878 - loss: 0.3119 - precision: 0.8954 - recall: 0.8788 - val_accuracy: 0.8112 - val_loss: 0.5731 - val_precision: 0.8161 - val_recall: 0.7932\n",
      "Epoch 11/30\n",
      "\u001b[1m78/78\u001b[0m \u001b[32m━━━━━━━━━━━━━━━━━━━━\u001b[0m\u001b[37m\u001b[0m \u001b[1m23s\u001b[0m 285ms/step - accuracy: 0.8896 - loss: 0.2901 - precision: 0.8985 - recall: 0.8817 - val_accuracy: 0.8273 - val_loss: 0.5417 - val_precision: 0.8320 - val_recall: 0.8253\n",
      "Epoch 12/30\n",
      "\u001b[1m78/78\u001b[0m \u001b[32m━━━━━━━━━━━━━━━━━━━━\u001b[0m\u001b[37m\u001b[0m \u001b[1m20s\u001b[0m 252ms/step - accuracy: 0.8895 - loss: 0.2704 - precision: 0.8986 - recall: 0.8812 - val_accuracy: 0.8153 - val_loss: 0.5720 - val_precision: 0.8206 - val_recall: 0.7992\n",
      "Epoch 13/30\n",
      "\u001b[1m78/78\u001b[0m \u001b[32m━━━━━━━━━━━━━━━━━━━━\u001b[0m\u001b[37m\u001b[0m \u001b[1m23s\u001b[0m 289ms/step - accuracy: 0.9054 - loss: 0.2508 - precision: 0.9105 - recall: 0.8996 - val_accuracy: 0.8233 - val_loss: 0.5868 - val_precision: 0.8248 - val_recall: 0.8133\n",
      "Epoch 14/30\n",
      "\u001b[1m78/78\u001b[0m \u001b[32m━━━━━━━━━━━━━━━━━━━━\u001b[0m\u001b[37m\u001b[0m \u001b[1m20s\u001b[0m 252ms/step - accuracy: 0.9114 - loss: 0.2443 - precision: 0.9139 - recall: 0.9059 - val_accuracy: 0.8353 - val_loss: 0.5764 - val_precision: 0.8398 - val_recall: 0.8313\n",
      "Epoch 15/30\n",
      "\u001b[1m78/78\u001b[0m \u001b[32m━━━━━━━━━━━━━━━━━━━━\u001b[0m\u001b[37m\u001b[0m \u001b[1m23s\u001b[0m 287ms/step - accuracy: 0.9351 - loss: 0.1714 - precision: 0.9408 - recall: 0.9315 - val_accuracy: 0.8454 - val_loss: 0.5385 - val_precision: 0.8462 - val_recall: 0.8394\n",
      "Epoch 16/30\n",
      "\u001b[1m78/78\u001b[0m \u001b[32m━━━━━━━━━━━━━━━━━━━━\u001b[0m\u001b[37m\u001b[0m \u001b[1m20s\u001b[0m 253ms/step - accuracy: 0.9279 - loss: 0.1791 - precision: 0.9332 - recall: 0.9239 - val_accuracy: 0.8313 - val_loss: 0.6540 - val_precision: 0.8360 - val_recall: 0.8293\n",
      "Epoch 17/30\n",
      "\u001b[1m78/78\u001b[0m \u001b[32m━━━━━━━━━━━━━━━━━━━━\u001b[0m\u001b[37m\u001b[0m \u001b[1m25s\u001b[0m 316ms/step - accuracy: 0.9477 - loss: 0.1510 - precision: 0.9509 - recall: 0.9428 - val_accuracy: 0.8092 - val_loss: 0.6291 - val_precision: 0.8160 - val_recall: 0.8012\n",
      "Epoch 18/30\n",
      "\u001b[1m78/78\u001b[0m \u001b[32m━━━━━━━━━━━━━━━━━━━━\u001b[0m\u001b[37m\u001b[0m \u001b[1m20s\u001b[0m 256ms/step - accuracy: 0.9228 - loss: 0.1890 - precision: 0.9268 - recall: 0.9175 - val_accuracy: 0.8173 - val_loss: 0.7130 - val_precision: 0.8211 - val_recall: 0.8112\n",
      "Epoch 19/30\n",
      "\u001b[1m78/78\u001b[0m \u001b[32m━━━━━━━━━━━━━━━━━━━━\u001b[0m\u001b[37m\u001b[0m \u001b[1m23s\u001b[0m 291ms/step - accuracy: 0.9473 - loss: 0.1481 - precision: 0.9565 - recall: 0.9430 - val_accuracy: 0.8353 - val_loss: 0.7240 - val_precision: 0.8398 - val_recall: 0.8313\n",
      "Epoch 20/30\n",
      "\u001b[1m78/78\u001b[0m \u001b[32m━━━━━━━━━━━━━━━━━━━━\u001b[0m\u001b[37m\u001b[0m \u001b[1m20s\u001b[0m 254ms/step - accuracy: 0.9461 - loss: 0.1609 - precision: 0.9499 - recall: 0.9405 - val_accuracy: 0.8373 - val_loss: 0.6689 - val_precision: 0.8384 - val_recall: 0.8333\n",
      "Epoch 21/30\n",
      "\u001b[1m78/78\u001b[0m \u001b[32m━━━━━━━━━━━━━━━━━━━━\u001b[0m\u001b[37m\u001b[0m \u001b[1m23s\u001b[0m 287ms/step - accuracy: 0.9494 - loss: 0.1325 - precision: 0.9528 - recall: 0.9486 - val_accuracy: 0.8273 - val_loss: 0.8595 - val_precision: 0.8333 - val_recall: 0.8233\n",
      "Epoch 22/30\n",
      "\u001b[1m78/78\u001b[0m \u001b[32m━━━━━━━━━━━━━━━━━━━━\u001b[0m\u001b[37m\u001b[0m \u001b[1m20s\u001b[0m 255ms/step - accuracy: 0.9629 - loss: 0.1069 - precision: 0.9682 - recall: 0.9592 - val_accuracy: 0.8353 - val_loss: 0.7327 - val_precision: 0.8371 - val_recall: 0.8253\n",
      "Epoch 23/30\n",
      "\u001b[1m78/78\u001b[0m \u001b[32m━━━━━━━━━━━━━━━━━━━━\u001b[0m\u001b[37m\u001b[0m \u001b[1m23s\u001b[0m 288ms/step - accuracy: 0.9669 - loss: 0.0985 - precision: 0.9710 - recall: 0.9625 - val_accuracy: 0.8072 - val_loss: 0.9426 - val_precision: 0.8089 - val_recall: 0.8072\n",
      "Epoch 24/30\n",
      "\u001b[1m78/78\u001b[0m \u001b[32m━━━━━━━━━━━━━━━━━━━━\u001b[0m\u001b[37m\u001b[0m \u001b[1m20s\u001b[0m 253ms/step - accuracy: 0.9637 - loss: 0.1095 - precision: 0.9652 - recall: 0.9617 - val_accuracy: 0.8514 - val_loss: 0.7487 - val_precision: 0.8563 - val_recall: 0.8494\n",
      "Epoch 25/30\n",
      "\u001b[1m78/78\u001b[0m \u001b[32m━━━━━━━━━━━━━━━━━━━━\u001b[0m\u001b[37m\u001b[0m \u001b[1m23s\u001b[0m 285ms/step - accuracy: 0.9809 - loss: 0.0667 - precision: 0.9810 - recall: 0.9803 - val_accuracy: 0.8153 - val_loss: 0.8436 - val_precision: 0.8211 - val_recall: 0.8112\n",
      "Epoch 26/30\n",
      "\u001b[1m78/78\u001b[0m \u001b[32m━━━━━━━━━━━━━━━━━━━━\u001b[0m\u001b[37m\u001b[0m \u001b[1m20s\u001b[0m 257ms/step - accuracy: 0.9700 - loss: 0.0809 - precision: 0.9718 - recall: 0.9693 - val_accuracy: 0.8434 - val_loss: 0.7919 - val_precision: 0.8462 - val_recall: 0.8394\n",
      "Epoch 27/30\n",
      "\u001b[1m78/78\u001b[0m \u001b[32m━━━━━━━━━━━━━━━━━━━━\u001b[0m\u001b[37m\u001b[0m \u001b[1m23s\u001b[0m 286ms/step - accuracy: 0.9767 - loss: 0.0620 - precision: 0.9794 - recall: 0.9764 - val_accuracy: 0.8313 - val_loss: 0.7690 - val_precision: 0.8411 - val_recall: 0.8293\n",
      "Epoch 28/30\n",
      "\u001b[1m78/78\u001b[0m \u001b[32m━━━━━━━━━━━━━━━━━━━━\u001b[0m\u001b[37m\u001b[0m \u001b[1m20s\u001b[0m 254ms/step - accuracy: 0.9678 - loss: 0.0849 - precision: 0.9691 - recall: 0.9647 - val_accuracy: 0.8494 - val_loss: 0.7435 - val_precision: 0.8525 - val_recall: 0.8474\n",
      "Epoch 29/30\n",
      "\u001b[1m78/78\u001b[0m \u001b[32m━━━━━━━━━━━━━━━━━━━━\u001b[0m\u001b[37m\u001b[0m \u001b[1m23s\u001b[0m 286ms/step - accuracy: 0.9760 - loss: 0.0672 - precision: 0.9783 - recall: 0.9738 - val_accuracy: 0.8313 - val_loss: 0.8421 - val_precision: 0.8354 - val_recall: 0.8153\n",
      "Epoch 30/30\n",
      "\u001b[1m78/78\u001b[0m \u001b[32m━━━━━━━━━━━━━━━━━━━━\u001b[0m\u001b[37m\u001b[0m \u001b[1m20s\u001b[0m 253ms/step - accuracy: 0.9685 - loss: 0.0864 - precision: 0.9712 - recall: 0.9671 - val_accuracy: 0.8514 - val_loss: 0.9311 - val_precision: 0.8528 - val_recall: 0.8494\n",
      "Predicting on validation set...\n",
      "\u001b[1m16/16\u001b[0m \u001b[32m━━━━━━━━━━━━━━━━━━━━\u001b[0m\u001b[37m\u001b[0m \u001b[1m1s\u001b[0m 58ms/step\n",
      "Sending metrics to clearML...\n",
      "done\n",
      "ClearML Task: created new task id=7135286828714d14861ffba619dc740b\n",
      "ClearML results page: https://app.clear.ml/projects/7250e546d5324b5c8e520b84207c06f5/experiments/7135286828714d14861ffba619dc740b/output/log\n",
      "Training model...\n",
      "Epoch 1/30\n",
      "\u001b[1m117/117\u001b[0m \u001b[32m━━━━━━━━━━━━━━━━━━━━\u001b[0m\u001b[37m\u001b[0m \u001b[1m37s\u001b[0m 298ms/step - accuracy: 0.3425 - loss: 1.2635 - precision: 0.3758 - recall: 0.0750 - val_accuracy: 0.4016 - val_loss: 1.0986 - val_precision: 0.0000e+00 - val_recall: 0.0000e+00\n",
      "Epoch 2/30\n",
      "\u001b[1m117/117\u001b[0m \u001b[32m━━━━━━━━━━━━━━━━━━━━\u001b[0m\u001b[37m\u001b[0m \u001b[1m32s\u001b[0m 273ms/step - accuracy: 0.3464 - loss: 1.0984 - precision: 0.0000e+00 - recall: 0.0000e+00 - val_accuracy: 0.3414 - val_loss: 1.0987 - val_precision: 0.0000e+00 - val_recall: 0.0000e+00\n",
      "Epoch 3/30\n",
      "\u001b[1m117/117\u001b[0m \u001b[32m━━━━━━━━━━━━━━━━━━━━\u001b[0m\u001b[37m\u001b[0m \u001b[1m32s\u001b[0m 272ms/step - accuracy: 0.3622 - loss: 1.0977 - precision: 0.0000e+00 - recall: 0.0000e+00 - val_accuracy: 0.3293 - val_loss: 1.0981 - val_precision: 0.0000e+00 - val_recall: 0.0000e+00\n",
      "Epoch 4/30\n",
      "\u001b[1m117/117\u001b[0m \u001b[32m━━━━━━━━━━━━━━━━━━━━\u001b[0m\u001b[37m\u001b[0m \u001b[1m29s\u001b[0m 249ms/step - accuracy: 0.3524 - loss: 1.0972 - precision: 0.0000e+00 - recall: 0.0000e+00 - val_accuracy: 0.3313 - val_loss: 1.0983 - val_precision: 0.0000e+00 - val_recall: 0.0000e+00\n",
      "Epoch 5/30\n",
      "\u001b[1m117/117\u001b[0m \u001b[32m━━━━━━━━━━━━━━━━━━━━\u001b[0m\u001b[37m\u001b[0m \u001b[1m32s\u001b[0m 271ms/step - accuracy: 0.3590 - loss: 1.0967 - precision: 0.0000e+00 - recall: 0.0000e+00 - val_accuracy: 0.3313 - val_loss: 1.1003 - val_precision: 0.0000e+00 - val_recall: 0.0000e+00\n",
      "Epoch 6/30\n",
      "\u001b[1m117/117\u001b[0m \u001b[32m━━━━━━━━━━━━━━━━━━━━\u001b[0m\u001b[37m\u001b[0m \u001b[1m32s\u001b[0m 273ms/step - accuracy: 0.3726 - loss: 1.0947 - precision: 0.0697 - recall: 0.0011 - val_accuracy: 0.4498 - val_loss: 1.0465 - val_precision: 0.8500 - val_recall: 0.0341\n",
      "Epoch 7/30\n",
      "\u001b[1m117/117\u001b[0m \u001b[32m━━━━━━━━━━━━━━━━━━━━\u001b[0m\u001b[37m\u001b[0m \u001b[1m30s\u001b[0m 254ms/step - accuracy: 0.5217 - loss: 0.9652 - precision: 0.7077 - recall: 0.2208 - val_accuracy: 0.6265 - val_loss: 0.9295 - val_precision: 0.7830 - val_recall: 0.1667\n",
      "Epoch 8/30\n",
      "\u001b[1m117/117\u001b[0m \u001b[32m━━━━━━━━━━━━━━━━━━━━\u001b[0m\u001b[37m\u001b[0m \u001b[1m31s\u001b[0m 266ms/step - accuracy: 0.6879 - loss: 0.7345 - precision: 0.7843 - recall: 0.5126 - val_accuracy: 0.7731 - val_loss: 0.5912 - val_precision: 0.7886 - val_recall: 0.7490\n",
      "Epoch 9/30\n",
      "\u001b[1m117/117\u001b[0m \u001b[32m━━━━━━━━━━━━━━━━━━━━\u001b[0m\u001b[37m\u001b[0m \u001b[1m32s\u001b[0m 273ms/step - accuracy: 0.7986 - loss: 0.4943 - precision: 0.8221 - recall: 0.7605 - val_accuracy: 0.8092 - val_loss: 0.5336 - val_precision: 0.8191 - val_recall: 0.7912\n",
      "Epoch 10/30\n",
      "\u001b[1m117/117\u001b[0m \u001b[32m━━━━━━━━━━━━━━━━━━━━\u001b[0m\u001b[37m\u001b[0m \u001b[1m32s\u001b[0m 275ms/step - accuracy: 0.8604 - loss: 0.3656 - precision: 0.8732 - recall: 0.8425 - val_accuracy: 0.8133 - val_loss: 0.5337 - val_precision: 0.8292 - val_recall: 0.7992\n",
      "Epoch 11/30\n",
      "\u001b[1m117/117\u001b[0m \u001b[32m━━━━━━━━━━━━━━━━━━━━\u001b[0m\u001b[37m\u001b[0m \u001b[1m30s\u001b[0m 250ms/step - accuracy: 0.8656 - loss: 0.3167 - precision: 0.8842 - recall: 0.8555 - val_accuracy: 0.8173 - val_loss: 0.5676 - val_precision: 0.8187 - val_recall: 0.8072\n",
      "Epoch 12/30\n",
      "\u001b[1m117/117\u001b[0m \u001b[32m━━━━━━━━━━━━━━━━━━━━\u001b[0m\u001b[37m\u001b[0m \u001b[1m32s\u001b[0m 272ms/step - accuracy: 0.9135 - loss: 0.2548 - precision: 0.9195 - recall: 0.9037 - val_accuracy: 0.8233 - val_loss: 0.5203 - val_precision: 0.8354 - val_recall: 0.8153\n",
      "Epoch 13/30\n",
      "\u001b[1m117/117\u001b[0m \u001b[32m━━━━━━━━━━━━━━━━━━━━\u001b[0m\u001b[37m\u001b[0m \u001b[1m34s\u001b[0m 292ms/step - accuracy: 0.9214 - loss: 0.2062 - precision: 0.9275 - recall: 0.9152 - val_accuracy: 0.8133 - val_loss: 0.6645 - val_precision: 0.8154 - val_recall: 0.8072\n",
      "Epoch 14/30\n",
      "\u001b[1m117/117\u001b[0m \u001b[32m━━━━━━━━━━━━━━━━━━━━\u001b[0m\u001b[37m\u001b[0m \u001b[1m32s\u001b[0m 273ms/step - accuracy: 0.9253 - loss: 0.2117 - precision: 0.9343 - recall: 0.9189 - val_accuracy: 0.8313 - val_loss: 0.6115 - val_precision: 0.8310 - val_recall: 0.8293\n",
      "Epoch 15/30\n",
      "\u001b[1m117/117\u001b[0m \u001b[32m━━━━━━━━━━━━━━━━━━━━\u001b[0m\u001b[37m\u001b[0m \u001b[1m30s\u001b[0m 249ms/step - accuracy: 0.9331 - loss: 0.1683 - precision: 0.9390 - recall: 0.9294 - val_accuracy: 0.8434 - val_loss: 0.6848 - val_precision: 0.8458 - val_recall: 0.8373\n",
      "Epoch 16/30\n",
      "\u001b[1m117/117\u001b[0m \u001b[32m━━━━━━━━━━━━━━━━━━━━\u001b[0m\u001b[37m\u001b[0m \u001b[1m32s\u001b[0m 272ms/step - accuracy: 0.9490 - loss: 0.1404 - precision: 0.9539 - recall: 0.9456 - val_accuracy: 0.8133 - val_loss: 0.7282 - val_precision: 0.8178 - val_recall: 0.8112\n",
      "Epoch 17/30\n",
      "\u001b[1m117/117\u001b[0m \u001b[32m━━━━━━━━━━━━━━━━━━━━\u001b[0m\u001b[37m\u001b[0m \u001b[1m32s\u001b[0m 270ms/step - accuracy: 0.9532 - loss: 0.1447 - precision: 0.9564 - recall: 0.9494 - val_accuracy: 0.8353 - val_loss: 0.6662 - val_precision: 0.8394 - val_recall: 0.8293\n",
      "Epoch 18/30\n",
      "\u001b[1m117/117\u001b[0m \u001b[32m━━━━━━━━━━━━━━━━━━━━\u001b[0m\u001b[37m\u001b[0m \u001b[1m30s\u001b[0m 254ms/step - accuracy: 0.9350 - loss: 0.1877 - precision: 0.9431 - recall: 0.9290 - val_accuracy: 0.8072 - val_loss: 0.7840 - val_precision: 0.8097 - val_recall: 0.8032\n",
      "Epoch 19/30\n",
      "\u001b[1m117/117\u001b[0m \u001b[32m━━━━━━━━━━━━━━━━━━━━\u001b[0m\u001b[37m\u001b[0m \u001b[1m32s\u001b[0m 268ms/step - accuracy: 0.9498 - loss: 0.1439 - precision: 0.9525 - recall: 0.9484 - val_accuracy: 0.8153 - val_loss: 0.7469 - val_precision: 0.8208 - val_recall: 0.8092\n",
      "Epoch 20/30\n",
      "\u001b[1m117/117\u001b[0m \u001b[32m━━━━━━━━━━━━━━━━━━━━\u001b[0m\u001b[37m\u001b[0m \u001b[1m32s\u001b[0m 272ms/step - accuracy: 0.9464 - loss: 0.1599 - precision: 0.9488 - recall: 0.9419 - val_accuracy: 0.8454 - val_loss: 0.8327 - val_precision: 0.8471 - val_recall: 0.8454\n",
      "Epoch 21/30\n",
      "\u001b[1m117/117\u001b[0m \u001b[32m━━━━━━━━━━━━━━━━━━━━\u001b[0m\u001b[37m\u001b[0m \u001b[1m32s\u001b[0m 271ms/step - accuracy: 0.9680 - loss: 0.0856 - precision: 0.9706 - recall: 0.9642 - val_accuracy: 0.8534 - val_loss: 0.8296 - val_precision: 0.8563 - val_recall: 0.8494\n",
      "Epoch 22/30\n",
      "\u001b[1m117/117\u001b[0m \u001b[32m━━━━━━━━━━━━━━━━━━━━\u001b[0m\u001b[37m\u001b[0m \u001b[1m30s\u001b[0m 249ms/step - accuracy: 0.9732 - loss: 0.0763 - precision: 0.9773 - recall: 0.9718 - val_accuracy: 0.8373 - val_loss: 0.8206 - val_precision: 0.8435 - val_recall: 0.8333\n",
      "Epoch 23/30\n",
      "\u001b[1m117/117\u001b[0m \u001b[32m━━━━━━━━━━━━━━━━━━━━\u001b[0m\u001b[37m\u001b[0m \u001b[1m32s\u001b[0m 272ms/step - accuracy: 0.9683 - loss: 0.0841 - precision: 0.9715 - recall: 0.9659 - val_accuracy: 0.8414 - val_loss: 0.7416 - val_precision: 0.8493 - val_recall: 0.8373\n",
      "Epoch 24/30\n",
      "\u001b[1m117/117\u001b[0m \u001b[32m━━━━━━━━━━━━━━━━━━━━\u001b[0m\u001b[37m\u001b[0m \u001b[1m32s\u001b[0m 272ms/step - accuracy: 0.9711 - loss: 0.0836 - precision: 0.9725 - recall: 0.9674 - val_accuracy: 0.8534 - val_loss: 0.8011 - val_precision: 0.8615 - val_recall: 0.8494\n",
      "Epoch 25/30\n",
      "\u001b[1m117/117\u001b[0m \u001b[32m━━━━━━━━━━━━━━━━━━━━\u001b[0m\u001b[37m\u001b[0m \u001b[1m30s\u001b[0m 250ms/step - accuracy: 0.9796 - loss: 0.0658 - precision: 0.9820 - recall: 0.9771 - val_accuracy: 0.8233 - val_loss: 0.9588 - val_precision: 0.8293 - val_recall: 0.8193\n",
      "Epoch 26/30\n",
      "\u001b[1m117/117\u001b[0m \u001b[32m━━━━━━━━━━━━━━━━━━━━\u001b[0m\u001b[37m\u001b[0m \u001b[1m34s\u001b[0m 290ms/step - accuracy: 0.9826 - loss: 0.0551 - precision: 0.9832 - recall: 0.9815 - val_accuracy: 0.8394 - val_loss: 1.0162 - val_precision: 0.8427 - val_recall: 0.8394\n",
      "Epoch 27/30\n",
      "\u001b[1m117/117\u001b[0m \u001b[32m━━━━━━━━━━━━━━━━━━━━\u001b[0m\u001b[37m\u001b[0m \u001b[1m32s\u001b[0m 270ms/step - accuracy: 0.9788 - loss: 0.0574 - precision: 0.9795 - recall: 0.9780 - val_accuracy: 0.8394 - val_loss: 1.0265 - val_precision: 0.8407 - val_recall: 0.8373\n",
      "Epoch 28/30\n",
      "\u001b[1m117/117\u001b[0m \u001b[32m━━━━━━━━━━━━━━━━━━━━\u001b[0m\u001b[37m\u001b[0m \u001b[1m31s\u001b[0m 260ms/step - accuracy: 0.9806 - loss: 0.0609 - precision: 0.9829 - recall: 0.9790 - val_accuracy: 0.8293 - val_loss: 1.0450 - val_precision: 0.8310 - val_recall: 0.8293\n",
      "Epoch 29/30\n",
      "\u001b[1m117/117\u001b[0m \u001b[32m━━━━━━━━━━━━━━━━━━━━\u001b[0m\u001b[37m\u001b[0m \u001b[1m31s\u001b[0m 261ms/step - accuracy: 0.9794 - loss: 0.0518 - precision: 0.9803 - recall: 0.9780 - val_accuracy: 0.8434 - val_loss: 1.0027 - val_precision: 0.8451 - val_recall: 0.8434\n",
      "Epoch 30/30\n",
      "\u001b[1m117/117\u001b[0m \u001b[32m━━━━━━━━━━━━━━━━━━━━\u001b[0m\u001b[37m\u001b[0m \u001b[1m32s\u001b[0m 274ms/step - accuracy: 0.9849 - loss: 0.0372 - precision: 0.9866 - recall: 0.9847 - val_accuracy: 0.8173 - val_loss: 1.0665 - val_precision: 0.8202 - val_recall: 0.8153\n",
      "Predicting on validation set...\n",
      "\u001b[1m16/16\u001b[0m \u001b[32m━━━━━━━━━━━━━━━━━━━━\u001b[0m\u001b[37m\u001b[0m \u001b[1m1s\u001b[0m 56ms/step\n",
      "Sending metrics to clearML...\n",
      "done\n"
     ]
    }
   ],
   "source": [
    "# zoom 0.4\n",
    "task_name = 'z0.4'\n",
    "sub_project_name = 'ZOOM'\n",
    "\n",
    "augmentation_metadata = {\n",
    "        'methods': {        \n",
    "            'zoom': {\n",
    "                'parameters': {\n",
    "                    'zoom_factor': 0.4, # Maximum angle of rotation\n",
    "                },\n",
    "                'apply_to_percentage': 0.5  # 50% of the training images\n",
    "            }        \n",
    "        }\n",
    "    }\n",
    "\n",
    "for i in range(N):\n",
    "    RUN = i + 1\n",
    "    try:\n",
    "        print(f\"Starting RUN: {RUN}\")\n",
    "        main(RUN, augmentation_metadata, task_name, sub_project_name, epochs, train_size, w1, w2)\n",
    "    except Exception as e:\n",
    "        print(f\"Error in RUN: {RUN}\")\n",
    "        print(e)\n",
    "    finally:\n",
    "        clear_output(wait=True)  # Clear the output to avoid scrolling\n",
    "        gc.collect()  # Collect garbage to avoid memory leaks"
   ]
  },
  {
   "cell_type": "code",
   "execution_count": 23,
   "metadata": {},
   "outputs": [
    {
     "name": "stdout",
     "output_type": "stream",
     "text": [
      "Starting RUN: 5\n",
      "Seed:  2014436527\n"
     ]
    },
    {
     "name": "stderr",
     "output_type": "stream",
     "text": [
      "c:\\github\\Third-Year-Project\\Intruder-Aircraft-Detection\\main\\tl_clf.py:79: SettingWithCopyWarning:\n",
      "\n",
      "\n",
      "A value is trying to be set on a copy of a slice from a DataFrame.\n",
      "Try using .loc[row_indexer,col_indexer] = value instead\n",
      "\n",
      "See the caveats in the documentation: https://pandas.pydata.org/pandas-docs/stable/user_guide/indexing.html#returning-a-view-versus-a-copy\n",
      "\n",
      "c:\\github\\Third-Year-Project\\Intruder-Aircraft-Detection\\main\\tl_clf.py:80: SettingWithCopyWarning:\n",
      "\n",
      "\n",
      "A value is trying to be set on a copy of a slice from a DataFrame.\n",
      "Try using .loc[row_indexer,col_indexer] = value instead\n",
      "\n",
      "See the caveats in the documentation: https://pandas.pydata.org/pandas-docs/stable/user_guide/indexing.html#returning-a-view-versus-a-copy\n",
      "\n"
     ]
    },
    {
     "name": "stdout",
     "output_type": "stream",
     "text": [
      "Removing dataset if pre-existing\n",
      "Copying training files:\n"
     ]
    },
    {
     "name": "stderr",
     "output_type": "stream",
     "text": [
      "Copying files: 100%|██████████| 5000/5000 [00:06<00:00, 816.78it/s] \n"
     ]
    },
    {
     "name": "stdout",
     "output_type": "stream",
     "text": [
      "Copying validation files:\n"
     ]
    },
    {
     "name": "stderr",
     "output_type": "stream",
     "text": [
      "Copying files: 100%|██████████| 1000/1000 [00:02<00:00, 406.48it/s]\n"
     ]
    },
    {
     "name": "stdout",
     "output_type": "stream",
     "text": [
      "Dataset 'weather_45_2500' created at C:\\github\\Third-Year-Project\\Intruder-Aircraft-Detection\\datasets\\Custom\\weather_45_2500\n",
      "Processing train labels in weather_45_2500:\n"
     ]
    },
    {
     "name": "stderr",
     "output_type": "stream",
     "text": [
      "Processing labels: 100%|██████████| 2500/2500 [00:09<00:00, 250.47it/s]\n"
     ]
    },
    {
     "name": "stdout",
     "output_type": "stream",
     "text": [
      "Processing valid labels in weather_45_2500:\n"
     ]
    },
    {
     "name": "stderr",
     "output_type": "stream",
     "text": [
      "Processing labels: 100%|██████████| 500/500 [00:02<00:00, 226.86it/s]\n"
     ]
    },
    {
     "name": "stdout",
     "output_type": "stream",
     "text": [
      "Label correction completed.\n"
     ]
    },
    {
     "name": "stderr",
     "output_type": "stream",
     "text": [
      "Removing existing directories/files: 100%|██████████| 3/3 [00:00<00:00, 2998.79it/s]\n",
      "Copying files: 100%|██████████| 2500/2500 [00:03<00:00, 751.34it/s]\n",
      "Copying files: 100%|██████████| 2500/2500 [00:02<00:00, 1192.15it/s]\n",
      "Applying augmentations: 100%|██████████| 1250/1250 [00:25<00:00, 48.59it/s]\n",
      "Processing images:   0%|          | 8/2500 [00:00<03:42, 11.19it/s]"
     ]
    },
    {
     "name": "stdout",
     "output_type": "stream",
     "text": [
      "An error occurred with C:/github/Third-Year-Project/Intruder-Aircraft-Detection/datasets/Custom/weather_45_2500\\images\\train\\28006.jpg: Expected y_min for bbox (0.31603499999999995, -0.07623150000000001, 0.998717, 0.3788895, 1) to be in the range [0.0, 1.0], got -0.07623150000000001.\n"
     ]
    },
    {
     "name": "stderr",
     "output_type": "stream",
     "text": [
      "Processing images:   5%|▌         | 130/2500 [00:16<01:19, 29.84it/s]"
     ]
    },
    {
     "name": "stdout",
     "output_type": "stream",
     "text": [
      "An error occurred with C:/github/Third-Year-Project/Intruder-Aircraft-Detection/datasets/Custom/weather_45_2500\\images\\train\\28284.jpg: Expected x_max for bbox (0.189772, 0.575604, 1.100998, 1.1830880000000001, 1) to be in the range [0.0, 1.0], got 1.100998.\n"
     ]
    },
    {
     "name": "stderr",
     "output_type": "stream",
     "text": [
      "Processing images:   6%|▋         | 158/2500 [00:17<01:11, 32.81it/s]"
     ]
    },
    {
     "name": "stdout",
     "output_type": "stream",
     "text": [
      "An error occurred with C:/github/Third-Year-Project/Intruder-Aircraft-Detection/datasets/Custom/weather_45_2500\\images\\train\\28333.jpg: Expected y_min for bbox (0.47015499999999993, -0.022556500000000007, 0.890417, 0.2576185, 1) to be in the range [0.0, 1.0], got -0.022556500000000007.\n"
     ]
    },
    {
     "name": "stderr",
     "output_type": "stream",
     "text": [
      "Processing images:  12%|█▏        | 302/2500 [00:22<01:09, 31.64it/s]"
     ]
    },
    {
     "name": "stdout",
     "output_type": "stream",
     "text": [
      "An error occurred with C:/github/Third-Year-Project/Intruder-Aircraft-Detection/datasets/Custom/weather_45_2500\\images\\train\\28633.jpg: Expected x_min for bbox (-0.02121799999999996, 0.4453045, 0.937496, 1.0844475, 1) to be in the range [0.0, 1.0], got -0.02121799999999996.\n"
     ]
    },
    {
     "name": "stderr",
     "output_type": "stream",
     "text": [
      "Processing images:  17%|█▋        | 425/2500 [00:26<01:06, 31.43it/s]"
     ]
    },
    {
     "name": "stdout",
     "output_type": "stream",
     "text": [
      "An error occurred with C:/github/Third-Year-Project/Intruder-Aircraft-Detection/datasets/Custom/weather_45_2500\\images\\train\\29013.jpg: Expected y_min for bbox (0.59587, -0.02172049999999999, 0.925314, 0.1979085, 1) to be in the range [0.0, 1.0], got -0.02172049999999999.\n"
     ]
    },
    {
     "name": "stderr",
     "output_type": "stream",
     "text": [
      "Processing images:  24%|██▍       | 603/2500 [00:32<00:59, 31.73it/s]"
     ]
    },
    {
     "name": "stdout",
     "output_type": "stream",
     "text": [
      "An error occurred with C:/github/Third-Year-Project/Intruder-Aircraft-Detection/datasets/Custom/weather_45_2500\\images\\train\\29410.jpg: Expected y_min for bbox (0.113566, -0.11284, 0.8513820000000001, 0.379038, 1) to be in the range [0.0, 1.0], got -0.11284.\n"
     ]
    },
    {
     "name": "stderr",
     "output_type": "stream",
     "text": [
      "Processing images:  25%|██▌       | 627/2500 [00:33<01:01, 30.45it/s]"
     ]
    },
    {
     "name": "stdout",
     "output_type": "stream",
     "text": [
      "An error occurred with C:/github/Third-Year-Project/Intruder-Aircraft-Detection/datasets/Custom/weather_45_2500\\images\\train\\29454.jpg: Expected y_max for bbox (0.166634, 0.6343235, 0.724798, 1.0064325, 1) to be in the range [0.0, 1.0], got 1.0064325.\n"
     ]
    },
    {
     "name": "stderr",
     "output_type": "stream",
     "text": [
      "Processing images:  26%|██▋       | 662/2500 [00:34<01:00, 30.22it/s]"
     ]
    },
    {
     "name": "stdout",
     "output_type": "stream",
     "text": [
      "An error occurred with C:/github/Third-Year-Project/Intruder-Aircraft-Detection/datasets/Custom/weather_45_2500\\images\\train\\29532.jpg: Expected y_min for bbox (0.034367499999999995, -0.032188999999999995, 0.4652345, 0.25505500000000003, 1) to be in the range [0.0, 1.0], got -0.032188999999999995.\n"
     ]
    },
    {
     "name": "stderr",
     "output_type": "stream",
     "text": [
      "Processing images:  33%|███▎      | 833/2500 [00:39<00:50, 33.31it/s]"
     ]
    },
    {
     "name": "stdout",
     "output_type": "stream",
     "text": [
      "An error occurred with C:/github/Third-Year-Project/Intruder-Aircraft-Detection/datasets/Custom/weather_45_2500\\images\\train\\29894.jpg: Expected y_max for bbox (0.5705215, 0.8107574999999999, 0.8660985, 1.0078084999999999, 1) to be in the range [0.0, 1.0], got 1.0078084999999999.\n"
     ]
    },
    {
     "name": "stderr",
     "output_type": "stream",
     "text": [
      "Processing images:  55%|█████▌    | 1379/2500 [00:57<00:37, 29.79it/s]"
     ]
    },
    {
     "name": "stdout",
     "output_type": "stream",
     "text": [
      "An error occurred with C:/github/Third-Year-Project/Intruder-Aircraft-Detection/datasets/Custom/weather_45_2500\\images\\train\\52087.jpg: Expected x_min for bbox (-0.0442225, 0.15761199999999997, 0.7150505, 0.663794, 2) to be in the range [0.0, 1.0], got -0.0442225.\n"
     ]
    },
    {
     "name": "stderr",
     "output_type": "stream",
     "text": [
      "Processing images:  61%|██████    | 1528/2500 [01:02<00:29, 32.75it/s]"
     ]
    },
    {
     "name": "stdout",
     "output_type": "stream",
     "text": [
      "An error occurred with C:/github/Third-Year-Project/Intruder-Aircraft-Detection/datasets/Custom/weather_45_2500\\images\\train\\52365.jpg: Expected x_max for bbox (0.487545, 0.513501, 1.0378530000000001, 0.880373, 2) to be in the range [0.0, 1.0], got 1.0378530000000001.\n",
      "An error occurred with C:/github/Third-Year-Project/Intruder-Aircraft-Detection/datasets/Custom/weather_45_2500\\images\\train\\52375.jpg: Expected y_max for bbox (0.19351849999999998, 0.622445, 0.7759535, 1.010735, 2) to be in the range [0.0, 1.0], got 1.010735.\n"
     ]
    },
    {
     "name": "stderr",
     "output_type": "stream",
     "text": [
      "Processing images:  74%|███████▍  | 1845/2500 [01:12<00:21, 30.89it/s]"
     ]
    },
    {
     "name": "stdout",
     "output_type": "stream",
     "text": [
      "An error occurred with C:/github/Third-Year-Project/Intruder-Aircraft-Detection/datasets/Custom/weather_45_2500\\images\\train\\53114.jpg: Expected x_max for bbox (0.5044139999999999, 0.7477020000000001, 1.0455839999999998, 1.108482, 2) to be in the range [0.0, 1.0], got 1.0455839999999998.\n"
     ]
    },
    {
     "name": "stderr",
     "output_type": "stream",
     "text": [
      "Processing images:  74%|███████▍  | 1853/2500 [01:12<00:19, 33.10it/s]"
     ]
    },
    {
     "name": "stdout",
     "output_type": "stream",
     "text": [
      "An error occurred with C:/github/Third-Year-Project/Intruder-Aircraft-Detection/datasets/Custom/weather_45_2500\\images\\train\\53138.jpg: Expected x_min for bbox (-0.10308700000000004, -0.017604499999999967, 0.853993, 0.6204485, 2) to be in the range [0.0, 1.0], got -0.10308700000000004.\n"
     ]
    },
    {
     "name": "stderr",
     "output_type": "stream",
     "text": [
      "Processing images:  77%|███████▋  | 1915/2500 [01:14<00:17, 33.02it/s]"
     ]
    },
    {
     "name": "stdout",
     "output_type": "stream",
     "text": [
      "An error occurred with C:/github/Third-Year-Project/Intruder-Aircraft-Detection/datasets/Custom/weather_45_2500\\images\\train\\53248.jpg: Expected y_max for bbox (0.185026, 0.75632, 0.559774, 1.006152, 2) to be in the range [0.0, 1.0], got 1.006152.\n"
     ]
    },
    {
     "name": "stderr",
     "output_type": "stream",
     "text": [
      "Processing images:  83%|████████▎ | 2071/2500 [01:19<00:13, 32.34it/s]"
     ]
    },
    {
     "name": "stdout",
     "output_type": "stream",
     "text": [
      "An error occurred with C:/github/Third-Year-Project/Intruder-Aircraft-Detection/datasets/Custom/weather_45_2500\\images\\train\\53546.jpg: Expected x_min for bbox (-0.196893, 0.27815399999999996, 0.644803, 0.8392839999999999, 2) to be in the range [0.0, 1.0], got -0.196893.\n"
     ]
    },
    {
     "name": "stderr",
     "output_type": "stream",
     "text": [
      "Processing images: 100%|██████████| 2500/2500 [01:33<00:00, 26.84it/s]\n",
      "Processing images:   0%|          | 8/3750 [00:00<04:30, 13.82it/s]"
     ]
    },
    {
     "name": "stdout",
     "output_type": "stream",
     "text": [
      "An error occurred with C:/github/Third-Year-Project/Intruder-Aircraft-Detection/datasets/Custom/weather_45_2500\\images\\train-aug\\28006.jpg: Expected y_min for bbox (0.31603499999999995, -0.07623150000000001, 0.998717, 0.3788895, 1) to be in the range [0.0, 1.0], got -0.07623150000000001.\n",
      "An error occurred with C:/github/Third-Year-Project/Intruder-Aircraft-Detection/datasets/Custom/weather_45_2500\\images\\train-aug\\28006-bnc.jpg: Expected y_min for bbox (0.31603499999999995, -0.07623150000000001, 0.998717, 0.3788895, 1) to be in the range [0.0, 1.0], got -0.07623150000000001.\n"
     ]
    },
    {
     "name": "stderr",
     "output_type": "stream",
     "text": [
      "Processing images:   5%|▌         | 192/3750 [00:14<04:40, 12.68it/s]"
     ]
    },
    {
     "name": "stdout",
     "output_type": "stream",
     "text": [
      "An error occurred with C:/github/Third-Year-Project/Intruder-Aircraft-Detection/datasets/Custom/weather_45_2500\\images\\train-aug\\28284.jpg: Expected x_max for bbox (0.189772, 0.575604, 1.100998, 1.1830880000000001, 1) to be in the range [0.0, 1.0], got 1.100998.\n"
     ]
    },
    {
     "name": "stderr",
     "output_type": "stream",
     "text": [
      "Processing images:   6%|▌         | 231/3750 [00:18<04:28, 13.09it/s]"
     ]
    },
    {
     "name": "stdout",
     "output_type": "stream",
     "text": [
      "An error occurred with C:/github/Third-Year-Project/Intruder-Aircraft-Detection/datasets/Custom/weather_45_2500\\images\\train-aug\\28333.jpg: Expected y_min for bbox (0.47015499999999993, -0.022556500000000007, 0.890417, 0.2576185, 1) to be in the range [0.0, 1.0], got -0.022556500000000007.\n"
     ]
    },
    {
     "name": "stderr",
     "output_type": "stream",
     "text": [
      "Processing images:   6%|▋         | 235/3750 [00:18<04:12, 13.93it/s]"
     ]
    },
    {
     "name": "stdout",
     "output_type": "stream",
     "text": [
      "An error occurred with C:/github/Third-Year-Project/Intruder-Aircraft-Detection/datasets/Custom/weather_45_2500\\images\\train-aug\\28333-bnc.jpg: Expected y_min for bbox (0.47015499999999993, -0.022556500000000007, 0.890417, 0.2576185, 1) to be in the range [0.0, 1.0], got -0.022556500000000007.\n"
     ]
    },
    {
     "name": "stderr",
     "output_type": "stream",
     "text": [
      "Processing images:  12%|█▏        | 463/3750 [00:32<01:47, 30.72it/s]"
     ]
    },
    {
     "name": "stdout",
     "output_type": "stream",
     "text": [
      "An error occurred with C:/github/Third-Year-Project/Intruder-Aircraft-Detection/datasets/Custom/weather_45_2500\\images\\train-aug\\28633.jpg: Expected x_min for bbox (-0.02121799999999996, 0.4453045, 0.937496, 1.0844475, 1) to be in the range [0.0, 1.0], got -0.02121799999999996.\n"
     ]
    },
    {
     "name": "stderr",
     "output_type": "stream",
     "text": [
      "Processing images:  17%|█▋        | 636/3750 [00:38<01:39, 31.45it/s]"
     ]
    },
    {
     "name": "stdout",
     "output_type": "stream",
     "text": [
      "An error occurred with C:/github/Third-Year-Project/Intruder-Aircraft-Detection/datasets/Custom/weather_45_2500\\images\\train-aug\\29013-bnc.jpg: Expected y_min for bbox (0.59587, -0.02172049999999999, 0.925314, 0.1979085, 1) to be in the range [0.0, 1.0], got -0.02172049999999999.\n",
      "An error occurred with C:/github/Third-Year-Project/Intruder-Aircraft-Detection/datasets/Custom/weather_45_2500\\images\\train-aug\\29013.jpg: Expected y_min for bbox (0.59587, -0.02172049999999999, 0.925314, 0.1979085, 1) to be in the range [0.0, 1.0], got -0.02172049999999999.\n"
     ]
    },
    {
     "name": "stderr",
     "output_type": "stream",
     "text": [
      "Processing images:  24%|██▍       | 911/3750 [00:47<01:29, 31.64it/s]"
     ]
    },
    {
     "name": "stdout",
     "output_type": "stream",
     "text": [
      "An error occurred with C:/github/Third-Year-Project/Intruder-Aircraft-Detection/datasets/Custom/weather_45_2500\\images\\train-aug\\29410.jpg: Expected y_min for bbox (0.113566, -0.11284, 0.8513820000000001, 0.379038, 1) to be in the range [0.0, 1.0], got -0.11284.\n"
     ]
    },
    {
     "name": "stderr",
     "output_type": "stream",
     "text": [
      "Processing images:  25%|██▌       | 944/3750 [00:48<01:20, 34.94it/s]"
     ]
    },
    {
     "name": "stdout",
     "output_type": "stream",
     "text": [
      "An error occurred with C:/github/Third-Year-Project/Intruder-Aircraft-Detection/datasets/Custom/weather_45_2500\\images\\train-aug\\29454.jpg: Expected y_max for bbox (0.166634, 0.6343235, 0.724798, 1.0064325, 1) to be in the range [0.0, 1.0], got 1.0064325.\n",
      "An error occurred with C:/github/Third-Year-Project/Intruder-Aircraft-Detection/datasets/Custom/weather_45_2500\\images\\train-aug\\29454-bnc.jpg: Expected y_max for bbox (0.166634, 0.6343235, 0.724798, 1.0064325, 1) to be in the range [0.0, 1.0], got 1.0064325.\n"
     ]
    },
    {
     "name": "stderr",
     "output_type": "stream",
     "text": [
      "Processing images:  27%|██▋       | 997/3750 [00:50<01:30, 30.39it/s]"
     ]
    },
    {
     "name": "stdout",
     "output_type": "stream",
     "text": [
      "An error occurred with C:/github/Third-Year-Project/Intruder-Aircraft-Detection/datasets/Custom/weather_45_2500\\images\\train-aug\\29532.jpg: Expected y_min for bbox (0.034367499999999995, -0.032188999999999995, 0.4652345, 0.25505500000000003, 1) to be in the range [0.0, 1.0], got -0.032188999999999995.\n"
     ]
    },
    {
     "name": "stderr",
     "output_type": "stream",
     "text": [
      "Processing images:  34%|███▎      | 1263/3750 [00:59<01:19, 31.37it/s]"
     ]
    },
    {
     "name": "stdout",
     "output_type": "stream",
     "text": [
      "An error occurred with C:/github/Third-Year-Project/Intruder-Aircraft-Detection/datasets/Custom/weather_45_2500\\images\\train-aug\\29894.jpg: Expected y_max for bbox (0.5705215, 0.8107574999999999, 0.8660985, 1.0078084999999999, 1) to be in the range [0.0, 1.0], got 1.0078084999999999.\n"
     ]
    },
    {
     "name": "stderr",
     "output_type": "stream",
     "text": [
      "Processing images:  55%|█████▌    | 2069/3750 [01:24<00:55, 30.04it/s]"
     ]
    },
    {
     "name": "stdout",
     "output_type": "stream",
     "text": [
      "An error occurred with C:/github/Third-Year-Project/Intruder-Aircraft-Detection/datasets/Custom/weather_45_2500\\images\\train-aug\\52087.jpg: Expected x_min for bbox (-0.0442225, 0.15761199999999997, 0.7150505, 0.663794, 2) to be in the range [0.0, 1.0], got -0.0442225.\n"
     ]
    },
    {
     "name": "stderr",
     "output_type": "stream",
     "text": [
      "Processing images:  61%|██████    | 2294/3750 [01:31<00:40, 35.56it/s]"
     ]
    },
    {
     "name": "stdout",
     "output_type": "stream",
     "text": [
      "An error occurred with C:/github/Third-Year-Project/Intruder-Aircraft-Detection/datasets/Custom/weather_45_2500\\images\\train-aug\\52365.jpg: Expected x_max for bbox (0.487545, 0.513501, 1.0378530000000001, 0.880373, 2) to be in the range [0.0, 1.0], got 1.0378530000000001.\n",
      "An error occurred with C:/github/Third-Year-Project/Intruder-Aircraft-Detection/datasets/Custom/weather_45_2500\\images\\train-aug\\52375-bnc.jpg: Expected y_max for bbox (0.19351849999999998, 0.622445, 0.7759535, 1.010735, 2) to be in the range [0.0, 1.0], got 1.010735.\n",
      "An error occurred with C:/github/Third-Year-Project/Intruder-Aircraft-Detection/datasets/Custom/weather_45_2500\\images\\train-aug\\52375.jpg: Expected y_max for bbox (0.19351849999999998, 0.622445, 0.7759535, 1.010735, 2) to be in the range [0.0, 1.0], got 1.010735.\n"
     ]
    },
    {
     "name": "stderr",
     "output_type": "stream",
     "text": [
      "Processing images:  74%|███████▍  | 2771/3750 [01:48<00:31, 31.27it/s]"
     ]
    },
    {
     "name": "stdout",
     "output_type": "stream",
     "text": [
      "An error occurred with C:/github/Third-Year-Project/Intruder-Aircraft-Detection/datasets/Custom/weather_45_2500\\images\\train-aug\\53114.jpg: Expected x_max for bbox (0.5044139999999999, 0.7477020000000001, 1.0455839999999998, 1.108482, 2) to be in the range [0.0, 1.0], got 1.0455839999999998.\n",
      "An error occurred with C:/github/Third-Year-Project/Intruder-Aircraft-Detection/datasets/Custom/weather_45_2500\\images\\train-aug\\53114-bnc.jpg: Expected x_max for bbox (0.5044139999999999, 0.7477020000000001, 1.0455839999999998, 1.108482, 2) to be in the range [0.0, 1.0], got 1.0455839999999998.\n"
     ]
    },
    {
     "name": "stderr",
     "output_type": "stream",
     "text": [
      "Processing images:  74%|███████▍  | 2789/3750 [01:48<00:27, 35.52it/s]"
     ]
    },
    {
     "name": "stdout",
     "output_type": "stream",
     "text": [
      "An error occurred with C:/github/Third-Year-Project/Intruder-Aircraft-Detection/datasets/Custom/weather_45_2500\\images\\train-aug\\53138-bnc.jpg: Expected x_min for bbox (-0.10308700000000004, -0.017604499999999967, 0.853993, 0.6204485, 2) to be in the range [0.0, 1.0], got -0.10308700000000004.\n",
      "An error occurred with C:/github/Third-Year-Project/Intruder-Aircraft-Detection/datasets/Custom/weather_45_2500\\images\\train-aug\\53138.jpg: Expected x_min for bbox (-0.10308700000000004, -0.017604499999999967, 0.853993, 0.6204485, 2) to be in the range [0.0, 1.0], got -0.10308700000000004.\n"
     ]
    },
    {
     "name": "stderr",
     "output_type": "stream",
     "text": [
      "Processing images:  77%|███████▋  | 2874/3750 [01:51<00:25, 34.77it/s]"
     ]
    },
    {
     "name": "stdout",
     "output_type": "stream",
     "text": [
      "An error occurred with C:/github/Third-Year-Project/Intruder-Aircraft-Detection/datasets/Custom/weather_45_2500\\images\\train-aug\\53248.jpg: Expected y_max for bbox (0.185026, 0.75632, 0.559774, 1.006152, 2) to be in the range [0.0, 1.0], got 1.006152.\n"
     ]
    },
    {
     "name": "stderr",
     "output_type": "stream",
     "text": [
      "Processing images:  83%|████████▎ | 3103/3750 [01:58<00:18, 35.38it/s]"
     ]
    },
    {
     "name": "stdout",
     "output_type": "stream",
     "text": [
      "An error occurred with C:/github/Third-Year-Project/Intruder-Aircraft-Detection/datasets/Custom/weather_45_2500\\images\\train-aug\\53546-bnc.jpg: Expected x_min for bbox (-0.196893, 0.27815399999999996, 0.644803, 0.8392839999999999, 2) to be in the range [0.0, 1.0], got -0.196893.\n",
      "An error occurred with C:/github/Third-Year-Project/Intruder-Aircraft-Detection/datasets/Custom/weather_45_2500\\images\\train-aug\\53546.jpg: Expected x_min for bbox (-0.196893, 0.27815399999999996, 0.644803, 0.8392839999999999, 2) to be in the range [0.0, 1.0], got -0.196893.\n"
     ]
    },
    {
     "name": "stderr",
     "output_type": "stream",
     "text": [
      "Processing images: 100%|██████████| 3750/3750 [02:19<00:00, 26.96it/s]\n",
      "Processing images:  21%|██        | 103/500 [00:05<00:13, 29.88it/s]"
     ]
    },
    {
     "name": "stdout",
     "output_type": "stream",
     "text": [
      "An error occurred with C:/github/Third-Year-Project/Intruder-Aircraft-Detection/datasets/Custom/weather_45_2500\\images\\valid\\29918.jpg: Expected y_max for bbox (0.4077075, 0.7077145, 0.8470265, 1.0005935, 1) to be in the range [0.0, 1.0], got 1.0005935.\n"
     ]
    },
    {
     "name": "stderr",
     "output_type": "stream",
     "text": [
      "Processing images:  52%|█████▏    | 262/500 [00:10<00:06, 34.13it/s]"
     ]
    },
    {
     "name": "stdout",
     "output_type": "stream",
     "text": [
      "An error occurred with C:/github/Third-Year-Project/Intruder-Aircraft-Detection/datasets/Custom/weather_45_2500\\images\\valid\\52916.jpg: In YOLO format all coordinates must be float and in range (0, 1]\n"
     ]
    },
    {
     "name": "stderr",
     "output_type": "stream",
     "text": [
      "Processing images:  75%|███████▌  | 376/500 [00:14<00:04, 27.64it/s]"
     ]
    },
    {
     "name": "stdout",
     "output_type": "stream",
     "text": [
      "An error occurred with C:/github/Third-Year-Project/Intruder-Aircraft-Detection/datasets/Custom/weather_45_2500\\images\\valid\\53950.jpg: Expected y_min for bbox (0.15967549999999997, -0.06710449999999998, 0.9726885, 0.47490449999999995, 2) to be in the range [0.0, 1.0], got -0.06710449999999998.\n"
     ]
    },
    {
     "name": "stderr",
     "output_type": "stream",
     "text": [
      "Processing images: 100%|██████████| 500/500 [00:18<00:00, 26.48it/s]\n",
      "Moving images in train: 100%|██████████| 2484/2484 [00:13<00:00, 189.93it/s]\n",
      "Moving images in train-aug: 100%|██████████| 3726/3726 [00:13<00:00, 274.63it/s]\n",
      "Moving images in valid: 100%|██████████| 497/497 [00:01<00:00, 249.60it/s]\n"
     ]
    },
    {
     "name": "stdout",
     "output_type": "stream",
     "text": [
      "Found 2484 files belonging to 3 classes.\n",
      "Found 3726 files belonging to 3 classes.\n",
      "Found 497 files belonging to 3 classes.\n",
      "ClearML Task: created new task id=cd6ec69bb3f3459d8cdbf3be019f12ab\n",
      "ClearML results page: https://app.clear.ml/projects/48ca4ec2cdaa48e1875c7a67c9ee7b6c/experiments/cd6ec69bb3f3459d8cdbf3be019f12ab/output/log\n",
      "Training model...\n",
      "Epoch 1/30\n",
      "\u001b[1m78/78\u001b[0m \u001b[32m━━━━━━━━━━━━━━━━━━━━\u001b[0m\u001b[37m\u001b[0m \u001b[1m26s\u001b[0m 307ms/step - accuracy: 0.3286 - loss: 1.5010 - precision: 0.3590 - recall: 0.0731 - val_accuracy: 0.3380 - val_loss: 1.0986 - val_precision: 0.0000e+00 - val_recall: 0.0000e+00\n",
      "Epoch 2/30\n",
      "\u001b[1m78/78\u001b[0m \u001b[32m━━━━━━━━━━━━━━━━━━━━\u001b[0m\u001b[37m\u001b[0m \u001b[1m21s\u001b[0m 265ms/step - accuracy: 0.3084 - loss: 1.0988 - precision: 0.0000e+00 - recall: 0.0000e+00 - val_accuracy: 0.3380 - val_loss: 1.0986 - val_precision: 0.0000e+00 - val_recall: 0.0000e+00\n",
      "Epoch 3/30\n",
      "\u001b[1m78/78\u001b[0m \u001b[32m━━━━━━━━━━━━━━━━━━━━\u001b[0m\u001b[37m\u001b[0m \u001b[1m24s\u001b[0m 302ms/step - accuracy: 0.3240 - loss: 1.0988 - precision: 0.0000e+00 - recall: 0.0000e+00 - val_accuracy: 0.3380 - val_loss: 1.0986 - val_precision: 0.0000e+00 - val_recall: 0.0000e+00\n",
      "Epoch 4/30\n",
      "\u001b[1m78/78\u001b[0m \u001b[32m━━━━━━━━━━━━━━━━━━━━\u001b[0m\u001b[37m\u001b[0m \u001b[1m21s\u001b[0m 263ms/step - accuracy: 0.3144 - loss: 1.0988 - precision: 0.0000e+00 - recall: 0.0000e+00 - val_accuracy: 0.3380 - val_loss: 1.0986 - val_precision: 0.0000e+00 - val_recall: 0.0000e+00\n",
      "Epoch 5/30\n",
      "\u001b[1m78/78\u001b[0m \u001b[32m━━━━━━━━━━━━━━━━━━━━\u001b[0m\u001b[37m\u001b[0m \u001b[1m24s\u001b[0m 301ms/step - accuracy: 0.3246 - loss: 1.0988 - precision: 0.0000e+00 - recall: 0.0000e+00 - val_accuracy: 0.3380 - val_loss: 1.0986 - val_precision: 0.0000e+00 - val_recall: 0.0000e+00\n",
      "Epoch 6/30\n",
      "\u001b[1m78/78\u001b[0m \u001b[32m━━━━━━━━━━━━━━━━━━━━\u001b[0m\u001b[37m\u001b[0m \u001b[1m22s\u001b[0m 273ms/step - accuracy: 0.3215 - loss: 1.0988 - precision: 0.0000e+00 - recall: 0.0000e+00 - val_accuracy: 0.3380 - val_loss: 1.0986 - val_precision: 0.0000e+00 - val_recall: 0.0000e+00\n",
      "Epoch 7/30\n",
      "\u001b[1m78/78\u001b[0m \u001b[32m━━━━━━━━━━━━━━━━━━━━\u001b[0m\u001b[37m\u001b[0m \u001b[1m24s\u001b[0m 302ms/step - accuracy: 0.3217 - loss: 1.0989 - precision: 0.0000e+00 - recall: 0.0000e+00 - val_accuracy: 0.3380 - val_loss: 1.0986 - val_precision: 0.0000e+00 - val_recall: 0.0000e+00\n",
      "Epoch 8/30\n",
      "\u001b[1m78/78\u001b[0m \u001b[32m━━━━━━━━━━━━━━━━━━━━\u001b[0m\u001b[37m\u001b[0m \u001b[1m22s\u001b[0m 277ms/step - accuracy: 0.3347 - loss: 1.1061 - precision: 0.1638 - recall: 0.0024 - val_accuracy: 0.3380 - val_loss: 1.0986 - val_precision: 0.0000e+00 - val_recall: 0.0000e+00\n",
      "Epoch 9/30\n",
      "\u001b[1m78/78\u001b[0m \u001b[32m━━━━━━━━━━━━━━━━━━━━\u001b[0m\u001b[37m\u001b[0m \u001b[1m23s\u001b[0m 295ms/step - accuracy: 0.3227 - loss: 1.0990 - precision: 0.0000e+00 - recall: 0.0000e+00 - val_accuracy: 0.3380 - val_loss: 1.0986 - val_precision: 0.0000e+00 - val_recall: 0.0000e+00\n",
      "Epoch 10/30\n",
      "\u001b[1m78/78\u001b[0m \u001b[32m━━━━━━━━━━━━━━━━━━━━\u001b[0m\u001b[37m\u001b[0m \u001b[1m22s\u001b[0m 274ms/step - accuracy: 0.3203 - loss: 1.0989 - precision: 0.0000e+00 - recall: 0.0000e+00 - val_accuracy: 0.3380 - val_loss: 1.0986 - val_precision: 0.0000e+00 - val_recall: 0.0000e+00\n",
      "Epoch 11/30\n",
      "\u001b[1m78/78\u001b[0m \u001b[32m━━━━━━━━━━━━━━━━━━━━\u001b[0m\u001b[37m\u001b[0m \u001b[1m23s\u001b[0m 292ms/step - accuracy: 0.3088 - loss: 1.0990 - precision: 0.0000e+00 - recall: 0.0000e+00 - val_accuracy: 0.3380 - val_loss: 1.0986 - val_precision: 0.0000e+00 - val_recall: 0.0000e+00\n",
      "Epoch 12/30\n",
      "\u001b[1m78/78\u001b[0m \u001b[32m━━━━━━━━━━━━━━━━━━━━\u001b[0m\u001b[37m\u001b[0m \u001b[1m22s\u001b[0m 273ms/step - accuracy: 0.3145 - loss: 1.0990 - precision: 0.0000e+00 - recall: 0.0000e+00 - val_accuracy: 0.3380 - val_loss: 1.0986 - val_precision: 0.0000e+00 - val_recall: 0.0000e+00\n",
      "Epoch 13/30\n",
      "\u001b[1m78/78\u001b[0m \u001b[32m━━━━━━━━━━━━━━━━━━━━\u001b[0m\u001b[37m\u001b[0m \u001b[1m23s\u001b[0m 292ms/step - accuracy: 0.3193 - loss: 1.0990 - precision: 0.0000e+00 - recall: 0.0000e+00 - val_accuracy: 0.3380 - val_loss: 1.0986 - val_precision: 0.0000e+00 - val_recall: 0.0000e+00\n",
      "Epoch 14/30\n",
      "\u001b[1m78/78\u001b[0m \u001b[32m━━━━━━━━━━━━━━━━━━━━\u001b[0m\u001b[37m\u001b[0m \u001b[1m22s\u001b[0m 275ms/step - accuracy: 0.3279 - loss: 1.0988 - precision: 0.0000e+00 - recall: 0.0000e+00 - val_accuracy: 0.3380 - val_loss: 1.0986 - val_precision: 0.0000e+00 - val_recall: 0.0000e+00\n",
      "Epoch 15/30\n",
      "\u001b[1m78/78\u001b[0m \u001b[32m━━━━━━━━━━━━━━━━━━━━\u001b[0m\u001b[37m\u001b[0m \u001b[1m23s\u001b[0m 294ms/step - accuracy: 0.3178 - loss: 1.0989 - precision: 0.0000e+00 - recall: 0.0000e+00 - val_accuracy: 0.3380 - val_loss: 1.0986 - val_precision: 0.0000e+00 - val_recall: 0.0000e+00\n",
      "Epoch 16/30\n",
      "\u001b[1m78/78\u001b[0m \u001b[32m━━━━━━━━━━━━━━━━━━━━\u001b[0m\u001b[37m\u001b[0m \u001b[1m22s\u001b[0m 273ms/step - accuracy: 0.3195 - loss: 1.0995 - precision: 0.0957 - recall: 0.0014 - val_accuracy: 0.3380 - val_loss: 1.0986 - val_precision: 0.0000e+00 - val_recall: 0.0000e+00\n",
      "Epoch 17/30\n",
      "\u001b[1m78/78\u001b[0m \u001b[32m━━━━━━━━━━━━━━━━━━━━\u001b[0m\u001b[37m\u001b[0m \u001b[1m25s\u001b[0m 320ms/step - accuracy: 0.3132 - loss: 1.0990 - precision: 0.0000e+00 - recall: 0.0000e+00 - val_accuracy: 0.3380 - val_loss: 1.0985 - val_precision: 0.0000e+00 - val_recall: 0.0000e+00\n",
      "Epoch 18/30\n",
      "\u001b[1m78/78\u001b[0m \u001b[32m━━━━━━━━━━━━━━━━━━━━\u001b[0m\u001b[37m\u001b[0m \u001b[1m22s\u001b[0m 283ms/step - accuracy: 0.3114 - loss: 1.0990 - precision: 0.0000e+00 - recall: 0.0000e+00 - val_accuracy: 0.3380 - val_loss: 1.0986 - val_precision: 0.0000e+00 - val_recall: 0.0000e+00\n",
      "Epoch 19/30\n",
      "\u001b[1m78/78\u001b[0m \u001b[32m━━━━━━━━━━━━━━━━━━━━\u001b[0m\u001b[37m\u001b[0m \u001b[1m22s\u001b[0m 274ms/step - accuracy: 0.2992 - loss: 1.0989 - precision: 0.0000e+00 - recall: 0.0000e+00 - val_accuracy: 0.3380 - val_loss: 1.0985 - val_precision: 0.0000e+00 - val_recall: 0.0000e+00\n",
      "Epoch 20/30\n",
      "\u001b[1m78/78\u001b[0m \u001b[32m━━━━━━━━━━━━━━━━━━━━\u001b[0m\u001b[37m\u001b[0m \u001b[1m24s\u001b[0m 299ms/step - accuracy: 0.3159 - loss: 1.0988 - precision: 0.0000e+00 - recall: 0.0000e+00 - val_accuracy: 0.3380 - val_loss: 1.0985 - val_precision: 0.0000e+00 - val_recall: 0.0000e+00\n",
      "Epoch 21/30\n",
      "\u001b[1m78/78\u001b[0m \u001b[32m━━━━━━━━━━━━━━━━━━━━\u001b[0m\u001b[37m\u001b[0m \u001b[1m21s\u001b[0m 265ms/step - accuracy: 0.3039 - loss: 1.0989 - precision: 0.0000e+00 - recall: 0.0000e+00 - val_accuracy: 0.3380 - val_loss: 1.0986 - val_precision: 0.0000e+00 - val_recall: 0.0000e+00\n",
      "Epoch 22/30\n",
      "\u001b[1m78/78\u001b[0m \u001b[32m━━━━━━━━━━━━━━━━━━━━\u001b[0m\u001b[37m\u001b[0m \u001b[1m24s\u001b[0m 301ms/step - accuracy: 0.3218 - loss: 1.0989 - precision: 0.0000e+00 - recall: 0.0000e+00 - val_accuracy: 0.3380 - val_loss: 1.0986 - val_precision: 0.0000e+00 - val_recall: 0.0000e+00\n",
      "Epoch 23/30\n",
      "\u001b[1m78/78\u001b[0m \u001b[32m━━━━━━━━━━━━━━━━━━━━\u001b[0m\u001b[37m\u001b[0m \u001b[1m21s\u001b[0m 264ms/step - accuracy: 0.3177 - loss: 1.0989 - precision: 0.0000e+00 - recall: 0.0000e+00 - val_accuracy: 0.3380 - val_loss: 1.0985 - val_precision: 0.0000e+00 - val_recall: 0.0000e+00\n",
      "Epoch 24/30\n",
      "\u001b[1m78/78\u001b[0m \u001b[32m━━━━━━━━━━━━━━━━━━━━\u001b[0m\u001b[37m\u001b[0m \u001b[1m24s\u001b[0m 297ms/step - accuracy: 0.3068 - loss: 1.0995 - precision: 0.0000e+00 - recall: 0.0000e+00 - val_accuracy: 0.3380 - val_loss: 1.0985 - val_precision: 0.0000e+00 - val_recall: 0.0000e+00\n",
      "Epoch 25/30\n",
      "\u001b[1m78/78\u001b[0m \u001b[32m━━━━━━━━━━━━━━━━━━━━\u001b[0m\u001b[37m\u001b[0m \u001b[1m21s\u001b[0m 264ms/step - accuracy: 0.3136 - loss: 1.0993 - precision: 0.0000e+00 - recall: 0.0000e+00 - val_accuracy: 0.3380 - val_loss: 1.0985 - val_precision: 0.0000e+00 - val_recall: 0.0000e+00\n",
      "Epoch 26/30\n",
      "\u001b[1m78/78\u001b[0m \u001b[32m━━━━━━━━━━━━━━━━━━━━\u001b[0m\u001b[37m\u001b[0m \u001b[1m23s\u001b[0m 294ms/step - accuracy: 0.3252 - loss: 1.0989 - precision: 0.0000e+00 - recall: 0.0000e+00 - val_accuracy: 0.3380 - val_loss: 1.0985 - val_precision: 0.0000e+00 - val_recall: 0.0000e+00\n",
      "Epoch 27/30\n",
      "\u001b[1m78/78\u001b[0m \u001b[32m━━━━━━━━━━━━━━━━━━━━\u001b[0m\u001b[37m\u001b[0m \u001b[1m20s\u001b[0m 258ms/step - accuracy: 0.3160 - loss: 1.0990 - precision: 0.0000e+00 - recall: 0.0000e+00 - val_accuracy: 0.3380 - val_loss: 1.0986 - val_precision: 0.0000e+00 - val_recall: 0.0000e+00\n",
      "Epoch 28/30\n",
      "\u001b[1m78/78\u001b[0m \u001b[32m━━━━━━━━━━━━━━━━━━━━\u001b[0m\u001b[37m\u001b[0m \u001b[1m23s\u001b[0m 296ms/step - accuracy: 0.3116 - loss: 1.0990 - precision: 0.0000e+00 - recall: 0.0000e+00 - val_accuracy: 0.3380 - val_loss: 1.0985 - val_precision: 0.0000e+00 - val_recall: 0.0000e+00\n",
      "Epoch 29/30\n",
      "\u001b[1m78/78\u001b[0m \u001b[32m━━━━━━━━━━━━━━━━━━━━\u001b[0m\u001b[37m\u001b[0m \u001b[1m21s\u001b[0m 260ms/step - accuracy: 0.3198 - loss: 1.0990 - precision: 0.0000e+00 - recall: 0.0000e+00 - val_accuracy: 0.3380 - val_loss: 1.0985 - val_precision: 0.0000e+00 - val_recall: 0.0000e+00\n",
      "Epoch 30/30\n",
      "\u001b[1m78/78\u001b[0m \u001b[32m━━━━━━━━━━━━━━━━━━━━\u001b[0m\u001b[37m\u001b[0m \u001b[1m23s\u001b[0m 294ms/step - accuracy: 0.3209 - loss: 1.0989 - precision: 0.0000e+00 - recall: 0.0000e+00 - val_accuracy: 0.3380 - val_loss: 1.0984 - val_precision: 0.0000e+00 - val_recall: 0.0000e+00\n",
      "Predicting on validation set...\n",
      "\u001b[1m16/16\u001b[0m \u001b[32m━━━━━━━━━━━━━━━━━━━━\u001b[0m\u001b[37m\u001b[0m \u001b[1m1s\u001b[0m 59ms/step\n"
     ]
    },
    {
     "name": "stderr",
     "output_type": "stream",
     "text": [
      "c:\\Users\\tomev\\anaconda3\\envs\\tf-cpu\\Lib\\site-packages\\sklearn\\metrics\\_classification.py:1344: UndefinedMetricWarning:\n",
      "\n",
      "Precision and F-score are ill-defined and being set to 0.0 in labels with no predicted samples. Use `zero_division` parameter to control this behavior.\n",
      "\n",
      "c:\\Users\\tomev\\anaconda3\\envs\\tf-cpu\\Lib\\site-packages\\sklearn\\metrics\\_classification.py:1344: UndefinedMetricWarning:\n",
      "\n",
      "Precision and F-score are ill-defined and being set to 0.0 in labels with no predicted samples. Use `zero_division` parameter to control this behavior.\n",
      "\n",
      "c:\\Users\\tomev\\anaconda3\\envs\\tf-cpu\\Lib\\site-packages\\sklearn\\metrics\\_classification.py:1344: UndefinedMetricWarning:\n",
      "\n",
      "Precision and F-score are ill-defined and being set to 0.0 in labels with no predicted samples. Use `zero_division` parameter to control this behavior.\n",
      "\n"
     ]
    },
    {
     "name": "stdout",
     "output_type": "stream",
     "text": [
      "Sending metrics to clearML...\n",
      "done\n",
      "ClearML Task: created new task id=684923603f994478aa2e8f51e889ea46\n",
      "ClearML results page: https://app.clear.ml/projects/48ca4ec2cdaa48e1875c7a67c9ee7b6c/experiments/684923603f994478aa2e8f51e889ea46/output/log\n",
      "Training model...\n",
      "Epoch 1/30\n",
      "\u001b[1m117/117\u001b[0m \u001b[32m━━━━━━━━━━━━━━━━━━━━\u001b[0m\u001b[37m\u001b[0m \u001b[1m38s\u001b[0m 282ms/step - accuracy: 0.3339 - loss: 1.5575 - precision: 0.3152 - recall: 0.0557 - val_accuracy: 0.6056 - val_loss: 1.0948 - val_precision: 0.0000e+00 - val_recall: 0.0000e+00\n",
      "Epoch 2/30\n",
      "\u001b[1m117/117\u001b[0m \u001b[32m━━━━━━━━━━━━━━━━━━━━\u001b[0m\u001b[37m\u001b[0m \u001b[1m33s\u001b[0m 279ms/step - accuracy: 0.4591 - loss: 1.0870 - precision: 0.3896 - recall: 0.0116 - val_accuracy: 0.5433 - val_loss: 0.9860 - val_precision: 0.7260 - val_recall: 0.1066\n",
      "Epoch 3/30\n",
      "\u001b[1m117/117\u001b[0m \u001b[32m━━━━━━━━━━━━━━━━━━━━\u001b[0m\u001b[37m\u001b[0m \u001b[1m33s\u001b[0m 277ms/step - accuracy: 0.5756 - loss: 0.9236 - precision: 0.7102 - recall: 0.2533 - val_accuracy: 0.7042 - val_loss: 0.7261 - val_precision: 0.7143 - val_recall: 0.6740\n",
      "Epoch 4/30\n",
      "\u001b[1m117/117\u001b[0m \u001b[32m━━━━━━━━━━━━━━━━━━━━\u001b[0m\u001b[37m\u001b[0m \u001b[1m30s\u001b[0m 254ms/step - accuracy: 0.7579 - loss: 0.6287 - precision: 0.7882 - recall: 0.6897 - val_accuracy: 0.7404 - val_loss: 0.6350 - val_precision: 0.7667 - val_recall: 0.7143\n",
      "Epoch 5/30\n",
      "\u001b[1m117/117\u001b[0m \u001b[32m━━━━━━━━━━━━━━━━━━━━\u001b[0m\u001b[37m\u001b[0m \u001b[1m33s\u001b[0m 279ms/step - accuracy: 0.8008 - loss: 0.5318 - precision: 0.8209 - recall: 0.7558 - val_accuracy: 0.7767 - val_loss: 0.6760 - val_precision: 0.7828 - val_recall: 0.7686\n",
      "Epoch 6/30\n",
      "\u001b[1m117/117\u001b[0m \u001b[32m━━━━━━━━━━━━━━━━━━━━\u001b[0m\u001b[37m\u001b[0m \u001b[1m33s\u001b[0m 278ms/step - accuracy: 0.8129 - loss: 0.4645 - precision: 0.8290 - recall: 0.7843 - val_accuracy: 0.7082 - val_loss: 0.8400 - val_precision: 0.7215 - val_recall: 0.6881\n",
      "Epoch 7/30\n",
      "\u001b[1m117/117\u001b[0m \u001b[32m━━━━━━━━━━━━━━━━━━━━\u001b[0m\u001b[37m\u001b[0m \u001b[1m33s\u001b[0m 278ms/step - accuracy: 0.8390 - loss: 0.4219 - precision: 0.8534 - recall: 0.8209 - val_accuracy: 0.7666 - val_loss: 0.7260 - val_precision: 0.7672 - val_recall: 0.7626\n",
      "Epoch 8/30\n",
      "\u001b[1m117/117\u001b[0m \u001b[32m━━━━━━━━━━━━━━━━━━━━\u001b[0m\u001b[37m\u001b[0m \u001b[1m30s\u001b[0m 256ms/step - accuracy: 0.8648 - loss: 0.3627 - precision: 0.8730 - recall: 0.8527 - val_accuracy: 0.7907 - val_loss: 0.7222 - val_precision: 0.7931 - val_recall: 0.7867\n",
      "Epoch 9/30\n",
      "\u001b[1m117/117\u001b[0m \u001b[32m━━━━━━━━━━━━━━━━━━━━\u001b[0m\u001b[37m\u001b[0m \u001b[1m33s\u001b[0m 278ms/step - accuracy: 0.8908 - loss: 0.2984 - precision: 0.8971 - recall: 0.8833 - val_accuracy: 0.7746 - val_loss: 0.7368 - val_precision: 0.7860 - val_recall: 0.7686\n",
      "Epoch 10/30\n",
      "\u001b[1m117/117\u001b[0m \u001b[32m━━━━━━━━━━━━━━━━━━━━\u001b[0m\u001b[37m\u001b[0m \u001b[1m33s\u001b[0m 279ms/step - accuracy: 0.9015 - loss: 0.2584 - precision: 0.9086 - recall: 0.8965 - val_accuracy: 0.7887 - val_loss: 0.7550 - val_precision: 0.7923 - val_recall: 0.7827\n",
      "Epoch 11/30\n",
      "\u001b[1m117/117\u001b[0m \u001b[32m━━━━━━━━━━━━━━━━━━━━\u001b[0m\u001b[37m\u001b[0m \u001b[1m32s\u001b[0m 268ms/step - accuracy: 0.9020 - loss: 0.2695 - precision: 0.9080 - recall: 0.8921 - val_accuracy: 0.7746 - val_loss: 0.6978 - val_precision: 0.7867 - val_recall: 0.7646\n",
      "Epoch 12/30\n",
      "\u001b[1m117/117\u001b[0m \u001b[32m━━━━━━━━━━━━━━━━━━━━\u001b[0m\u001b[37m\u001b[0m \u001b[1m34s\u001b[0m 286ms/step - accuracy: 0.9085 - loss: 0.2456 - precision: 0.9187 - recall: 0.9038 - val_accuracy: 0.7867 - val_loss: 0.8391 - val_precision: 0.7935 - val_recall: 0.7807\n",
      "Epoch 13/30\n",
      "\u001b[1m117/117\u001b[0m \u001b[32m━━━━━━━━━━━━━━━━━━━━\u001b[0m\u001b[37m\u001b[0m \u001b[1m33s\u001b[0m 278ms/step - accuracy: 0.9296 - loss: 0.2037 - precision: 0.9339 - recall: 0.9241 - val_accuracy: 0.7867 - val_loss: 0.8239 - val_precision: 0.7907 - val_recall: 0.7827\n",
      "Epoch 14/30\n",
      "\u001b[1m117/117\u001b[0m \u001b[32m━━━━━━━━━━━━━━━━━━━━\u001b[0m\u001b[37m\u001b[0m \u001b[1m33s\u001b[0m 280ms/step - accuracy: 0.9321 - loss: 0.1904 - precision: 0.9376 - recall: 0.9295 - val_accuracy: 0.7847 - val_loss: 0.8934 - val_precision: 0.7927 - val_recall: 0.7847\n",
      "Epoch 15/30\n",
      "\u001b[1m117/117\u001b[0m \u001b[32m━━━━━━━━━━━━━━━━━━━━\u001b[0m\u001b[37m\u001b[0m \u001b[1m31s\u001b[0m 260ms/step - accuracy: 0.9464 - loss: 0.1479 - precision: 0.9506 - recall: 0.9441 - val_accuracy: 0.8008 - val_loss: 0.9554 - val_precision: 0.8028 - val_recall: 0.7948\n",
      "Epoch 16/30\n",
      "\u001b[1m117/117\u001b[0m \u001b[32m━━━━━━━━━━━━━━━━━━━━\u001b[0m\u001b[37m\u001b[0m \u001b[1m30s\u001b[0m 256ms/step - accuracy: 0.9451 - loss: 0.1583 - precision: 0.9464 - recall: 0.9423 - val_accuracy: 0.8068 - val_loss: 0.9776 - val_precision: 0.8114 - val_recall: 0.8048\n",
      "Epoch 17/30\n",
      "\u001b[1m117/117\u001b[0m \u001b[32m━━━━━━━━━━━━━━━━━━━━\u001b[0m\u001b[37m\u001b[0m \u001b[1m30s\u001b[0m 257ms/step - accuracy: 0.9576 - loss: 0.1266 - precision: 0.9587 - recall: 0.9542 - val_accuracy: 0.7988 - val_loss: 0.9979 - val_precision: 0.8008 - val_recall: 0.7928\n",
      "Epoch 18/30\n",
      "\u001b[1m117/117\u001b[0m \u001b[32m━━━━━━━━━━━━━━━━━━━━\u001b[0m\u001b[37m\u001b[0m \u001b[1m30s\u001b[0m 255ms/step - accuracy: 0.9592 - loss: 0.1107 - precision: 0.9622 - recall: 0.9564 - val_accuracy: 0.7988 - val_loss: 1.0644 - val_precision: 0.8000 - val_recall: 0.7968\n",
      "Epoch 19/30\n",
      "\u001b[1m117/117\u001b[0m \u001b[32m━━━━━━━━━━━━━━━━━━━━\u001b[0m\u001b[37m\u001b[0m \u001b[1m30s\u001b[0m 255ms/step - accuracy: 0.9658 - loss: 0.1038 - precision: 0.9676 - recall: 0.9640 - val_accuracy: 0.8189 - val_loss: 1.2456 - val_precision: 0.8198 - val_recall: 0.8149\n",
      "Epoch 20/30\n",
      "\u001b[1m117/117\u001b[0m \u001b[32m━━━━━━━━━━━━━━━━━━━━\u001b[0m\u001b[37m\u001b[0m \u001b[1m30s\u001b[0m 255ms/step - accuracy: 0.9673 - loss: 0.0891 - precision: 0.9686 - recall: 0.9659 - val_accuracy: 0.7907 - val_loss: 1.3605 - val_precision: 0.7907 - val_recall: 0.7907\n",
      "Epoch 21/30\n",
      "\u001b[1m117/117\u001b[0m \u001b[32m━━━━━━━━━━━━━━━━━━━━\u001b[0m\u001b[37m\u001b[0m \u001b[1m30s\u001b[0m 254ms/step - accuracy: 0.9486 - loss: 0.1391 - precision: 0.9514 - recall: 0.9443 - val_accuracy: 0.8008 - val_loss: 1.2285 - val_precision: 0.8020 - val_recall: 0.7988\n",
      "Epoch 22/30\n",
      "\u001b[1m117/117\u001b[0m \u001b[32m━━━━━━━━━━━━━━━━━━━━\u001b[0m\u001b[37m\u001b[0m \u001b[1m30s\u001b[0m 256ms/step - accuracy: 0.9755 - loss: 0.0743 - precision: 0.9767 - recall: 0.9740 - val_accuracy: 0.7867 - val_loss: 1.3695 - val_precision: 0.7890 - val_recall: 0.7827\n",
      "Epoch 23/30\n",
      "\u001b[1m117/117\u001b[0m \u001b[32m━━━━━━━━━━━━━━━━━━━━\u001b[0m\u001b[37m\u001b[0m \u001b[1m30s\u001b[0m 254ms/step - accuracy: 0.9646 - loss: 0.0798 - precision: 0.9669 - recall: 0.9639 - val_accuracy: 0.7928 - val_loss: 1.5087 - val_precision: 0.7976 - val_recall: 0.7928\n",
      "Epoch 24/30\n",
      "\u001b[1m117/117\u001b[0m \u001b[32m━━━━━━━━━━━━━━━━━━━━\u001b[0m\u001b[37m\u001b[0m \u001b[1m30s\u001b[0m 255ms/step - accuracy: 0.9768 - loss: 0.0667 - precision: 0.9775 - recall: 0.9761 - val_accuracy: 0.7807 - val_loss: 1.2724 - val_precision: 0.7818 - val_recall: 0.7787\n",
      "Epoch 25/30\n",
      "\u001b[1m117/117\u001b[0m \u001b[32m━━━━━━━━━━━━━━━━━━━━\u001b[0m\u001b[37m\u001b[0m \u001b[1m30s\u001b[0m 255ms/step - accuracy: 0.9778 - loss: 0.0710 - precision: 0.9787 - recall: 0.9758 - val_accuracy: 0.8048 - val_loss: 1.3480 - val_precision: 0.8061 - val_recall: 0.8028\n",
      "Epoch 26/30\n",
      "\u001b[1m117/117\u001b[0m \u001b[32m━━━━━━━━━━━━━━━━━━━━\u001b[0m\u001b[37m\u001b[0m \u001b[1m32s\u001b[0m 275ms/step - accuracy: 0.9806 - loss: 0.0590 - precision: 0.9814 - recall: 0.9793 - val_accuracy: 0.7928 - val_loss: 1.4343 - val_precision: 0.7939 - val_recall: 0.7907\n",
      "Epoch 27/30\n",
      "\u001b[1m117/117\u001b[0m \u001b[32m━━━━━━━━━━━━━━━━━━━━\u001b[0m\u001b[37m\u001b[0m \u001b[1m33s\u001b[0m 279ms/step - accuracy: 0.9862 - loss: 0.0532 - precision: 0.9862 - recall: 0.9849 - val_accuracy: 0.8109 - val_loss: 1.4118 - val_precision: 0.8105 - val_recall: 0.8089\n",
      "Epoch 28/30\n",
      "\u001b[1m117/117\u001b[0m \u001b[32m━━━━━━━━━━━━━━━━━━━━\u001b[0m\u001b[37m\u001b[0m \u001b[1m33s\u001b[0m 279ms/step - accuracy: 0.9829 - loss: 0.0518 - precision: 0.9831 - recall: 0.9829 - val_accuracy: 0.7988 - val_loss: 1.4898 - val_precision: 0.8004 - val_recall: 0.7988\n",
      "Epoch 29/30\n",
      "\u001b[1m117/117\u001b[0m \u001b[32m━━━━━━━━━━━━━━━━━━━━\u001b[0m\u001b[37m\u001b[0m \u001b[1m30s\u001b[0m 253ms/step - accuracy: 0.9787 - loss: 0.0673 - precision: 0.9794 - recall: 0.9781 - val_accuracy: 0.8149 - val_loss: 1.4629 - val_precision: 0.8145 - val_recall: 0.8129\n",
      "Epoch 30/30\n",
      "\u001b[1m117/117\u001b[0m \u001b[32m━━━━━━━━━━━━━━━━━━━━\u001b[0m\u001b[37m\u001b[0m \u001b[1m33s\u001b[0m 278ms/step - accuracy: 0.9867 - loss: 0.0447 - precision: 0.9868 - recall: 0.9867 - val_accuracy: 0.8048 - val_loss: 1.5890 - val_precision: 0.8077 - val_recall: 0.8028\n",
      "Predicting on validation set...\n",
      "\u001b[1m16/16\u001b[0m \u001b[32m━━━━━━━━━━━━━━━━━━━━\u001b[0m\u001b[37m\u001b[0m \u001b[1m1s\u001b[0m 58ms/step\n",
      "Sending metrics to clearML...\n",
      "done\n"
     ]
    }
   ],
   "source": [
    "# contrast 0.5\n",
    "task_name = 'c0.5'\n",
    "sub_project_name = 'CONTRAST'\n",
    "\n",
    "augmentation_metadata = {\n",
    "    'methods': {        \n",
    "        'bnc': {\n",
    "            'parameters': {\n",
    "                'alpha': 0.5,\n",
    "                'beta': 0\n",
    "            },\n",
    "            'apply_to_percentage': 0.5  # 50% of the training images\n",
    "        }        \n",
    "    }\n",
    "}\n",
    "\n",
    "for i in range(N):\n",
    "    RUN = i + 1\n",
    "    try:\n",
    "        print(f\"Starting RUN: {RUN}\")\n",
    "        main(RUN, augmentation_metadata, task_name, sub_project_name, epochs, train_size, w1, w2)\n",
    "    except Exception as e:\n",
    "        print(f\"Error in RUN: {RUN}\")\n",
    "        print(e)\n",
    "    finally:\n",
    "        clear_output(wait=True)  # Clear the output to avoid scrolling\n",
    "        gc.collect()  # Collect garbage to avoid memory leaks"
   ]
  }
 ],
 "metadata": {
  "kernelspec": {
   "display_name": "tf-cpu",
   "language": "python",
   "name": "python3"
  },
  "language_info": {
   "codemirror_mode": {
    "name": "ipython",
    "version": 3
   },
   "file_extension": ".py",
   "mimetype": "text/x-python",
   "name": "python",
   "nbconvert_exporter": "python",
   "pygments_lexer": "ipython3",
   "version": "3.11.9"
  }
 },
 "nbformat": 4,
 "nbformat_minor": 4
}

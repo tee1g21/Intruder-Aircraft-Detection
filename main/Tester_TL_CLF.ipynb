{
 "cells": [
  {
   "cell_type": "markdown",
   "metadata": {},
   "source": [
    "# ClearML\n",
    "https://app.clear.ml/dashboard"
   ]
  },
  {
   "cell_type": "markdown",
   "metadata": {},
   "source": [
    "# Tensorflow Classifier"
   ]
  },
  {
   "cell_type": "code",
   "execution_count": 1,
   "metadata": {},
   "outputs": [],
   "source": [
    "from IPython.display import clear_output \n",
    "import gc\n",
    "import os\n",
    "from tl_clf import main\n",
    "\n",
    "epochs = 30\n",
    "train_size = 2500\n",
    "N = 5  # Number of runs\n",
    "\n",
    "\n"
   ]
  },
  {
   "cell_type": "markdown",
   "metadata": {},
   "source": [
    "# Weather Conditions 1"
   ]
  },
  {
   "cell_type": "code",
   "execution_count": 2,
   "metadata": {},
   "outputs": [],
   "source": [
    "w1 = 0 \n",
    "w2 = 1"
   ]
  },
  {
   "cell_type": "code",
   "execution_count": 3,
   "metadata": {},
   "outputs": [
    {
     "name": "stdout",
     "output_type": "stream",
     "text": [
      "Starting RUN: 1\n",
      "Seed:  2396422930\n"
     ]
    },
    {
     "name": "stderr",
     "output_type": "stream",
     "text": [
      "c:\\github\\Third-Year-Project\\Intruder-Aircraft-Detection\\main\\tl_clf.py:79: SettingWithCopyWarning: \n",
      "A value is trying to be set on a copy of a slice from a DataFrame.\n",
      "Try using .loc[row_indexer,col_indexer] = value instead\n",
      "\n",
      "See the caveats in the documentation: https://pandas.pydata.org/pandas-docs/stable/user_guide/indexing.html#returning-a-view-versus-a-copy\n",
      "  filtered_train_df['stratify_key'] = filtered_train_df['ac'] + '_' + filtered_train_df['weather'].astype(str)\n",
      "c:\\github\\Third-Year-Project\\Intruder-Aircraft-Detection\\main\\tl_clf.py:80: SettingWithCopyWarning: \n",
      "A value is trying to be set on a copy of a slice from a DataFrame.\n",
      "Try using .loc[row_indexer,col_indexer] = value instead\n",
      "\n",
      "See the caveats in the documentation: https://pandas.pydata.org/pandas-docs/stable/user_guide/indexing.html#returning-a-view-versus-a-copy\n",
      "  filtered_valid_df['stratify_key'] = filtered_valid_df['ac'] + '_' + filtered_valid_df['weather'].astype(str)\n"
     ]
    },
    {
     "name": "stdout",
     "output_type": "stream",
     "text": [
      "Removing dataset if pre-existing\n",
      "Copying training files:\n"
     ]
    },
    {
     "name": "stderr",
     "output_type": "stream",
     "text": [
      "Copying files: 100%|██████████| 5000/5000 [00:04<00:00, 1069.05it/s]\n"
     ]
    },
    {
     "name": "stdout",
     "output_type": "stream",
     "text": [
      "Copying validation files:\n"
     ]
    },
    {
     "name": "stderr",
     "output_type": "stream",
     "text": [
      "Copying files: 100%|██████████| 1000/1000 [00:00<00:00, 1496.66it/s]\n"
     ]
    },
    {
     "name": "stdout",
     "output_type": "stream",
     "text": [
      "Dataset 'weather_01_2500' created at C:\\github\\Third-Year-Project\\Intruder-Aircraft-Detection\\datasets\\Custom\\weather_01_2500\n",
      "Processing train labels in weather_01_2500:\n"
     ]
    },
    {
     "name": "stderr",
     "output_type": "stream",
     "text": [
      "Processing labels: 100%|██████████| 2500/2500 [00:10<00:00, 244.18it/s]\n"
     ]
    },
    {
     "name": "stdout",
     "output_type": "stream",
     "text": [
      "Processing valid labels in weather_01_2500:\n"
     ]
    },
    {
     "name": "stderr",
     "output_type": "stream",
     "text": [
      "Processing labels: 100%|██████████| 500/500 [00:02<00:00, 179.93it/s]\n"
     ]
    },
    {
     "name": "stdout",
     "output_type": "stream",
     "text": [
      "Label correction completed.\n"
     ]
    },
    {
     "name": "stderr",
     "output_type": "stream",
     "text": [
      "Removing existing directories/files: 100%|██████████| 3/3 [00:00<00:00, 1500.29it/s]\n",
      "Copying files: 100%|██████████| 2500/2500 [00:02<00:00, 1035.61it/s]\n",
      "Copying files: 100%|██████████| 2500/2500 [00:02<00:00, 1217.67it/s]\n",
      "Applying augmentations:  11%|█▏        | 286/2500 [00:04<00:32, 68.23it/s]\n"
     ]
    }
   ],
   "source": [
    "# histeq augmentation\n",
    "task_name = 'he'\n",
    "sub_project_name = 'HIST_EQ'\n",
    "\n",
    "augmentation_metadata = {\n",
    "        'methods': {        \n",
    "            'histEq': {\n",
    "                'parameters': {\n",
    "                    'p': 1.0  # Probability of applying the augmentation\n",
    "                },\n",
    "                'apply_to_percentage': 1.0  # 50% of the training images\n",
    "            }        \n",
    "        }\n",
    "    }\n",
    "\n",
    "for i in range(N):\n",
    "    RUN = i + 1\n",
    "    try:\n",
    "        print(f\"Starting RUN: {RUN}\")\n",
    "        main(RUN, augmentation_metadata, task_name, sub_project_name, epochs, train_size, w1, w2)\n",
    "    except Exception as e:\n",
    "        print(f\"Error in RUN: {RUN}\")\n",
    "        print(e)\n",
    "        break\n",
    "    finally:\n",
    "        clear_output(wait=True)  # Clear the output to avoid scrolling\n",
    "        gc.collect()  # Collect garbage to avoid memory leaks"
   ]
  },
  {
   "cell_type": "code",
   "execution_count": null,
   "metadata": {},
   "outputs": [],
   "source": [
    "# guassian augmentation (100.0, 200.0)\n",
    "task_name = 'gau100200'\n",
    "sub_project_name = 'GAUSSIAN'\n",
    "\n",
    "augmentation_metadata = {\n",
    "        'methods': {        \n",
    "            'gaussian': {\n",
    "                'parameters': {\n",
    "                    'var_limit': (100.0, 200.0)\n",
    "                },\n",
    "                'apply_to_percentage': 0.5  # 50% of the training images\n",
    "            }        \n",
    "        }\n",
    "    }\n",
    "\n",
    "for i in range(N):\n",
    "    RUN = i + 1\n",
    "    try:\n",
    "        print(f\"Starting RUN: {RUN}\")\n",
    "        main(RUN, augmentation_metadata, task_name, sub_project_name, epochs, train_size, w1, w2)\n",
    "    except Exception as e:\n",
    "        print(f\"Error in RUN: {RUN}\")\n",
    "        print(e)\n",
    "    finally:\n",
    "        clear_output(wait=True)  # Clear the output to avoid scrolling\n",
    "        gc.collect()  # Collect garbage to avoid memory leaks"
   ]
  },
  {
   "cell_type": "code",
   "execution_count": null,
   "metadata": {},
   "outputs": [],
   "source": [
    "# rotate augmentation 5\n",
    "task_name = 'r5'\n",
    "sub_project_name = 'ROTATE'\n",
    "\n",
    "augmentation_metadata = {\n",
    "        'methods': {        \n",
    "            'rotate': {\n",
    "                'parameters': {\n",
    "                    'angle_limit': 5, # Maximum angle of rotation\n",
    "                    'p': 1.0  # Probability of applying the augmentation\n",
    "                },\n",
    "                'apply_to_percentage': 0.5  # 50% of the training images\n",
    "            }        \n",
    "        }\n",
    "    }\n",
    "\n",
    "for i in range(N):\n",
    "    RUN = i + 1\n",
    "    try:\n",
    "        print(f\"Starting RUN: {RUN}\")\n",
    "        main(RUN, augmentation_metadata, task_name, sub_project_name, epochs, train_size, w1, w2)\n",
    "    except Exception as e:\n",
    "        print(f\"Error in RUN: {RUN}\")\n",
    "        print(e)\n",
    "    finally:\n",
    "        clear_output(wait=True)  # Clear the output to avoid scrolling\n",
    "        gc.collect()  # Collect garbage to avoid memory leaks"
   ]
  },
  {
   "cell_type": "code",
   "execution_count": null,
   "metadata": {},
   "outputs": [],
   "source": [
    "# rotate augmentation 20\n",
    "task_name = 'r20'\n",
    "sub_project_name = 'ROTATE'\n",
    "\n",
    "augmentation_metadata = {\n",
    "        'methods': {        \n",
    "            'rotate': {\n",
    "                'parameters': {\n",
    "                    'angle_limit': 20, # Maximum angle of rotation\n",
    "                    'p': 1.0  # Probability of applying the augmentation\n",
    "                },\n",
    "                'apply_to_percentage': 0.5  # 50% of the training images\n",
    "            }        \n",
    "        }\n",
    "    }\n",
    "\n",
    "for i in range(N):\n",
    "    RUN = i + 1\n",
    "    try:\n",
    "        print(f\"Starting RUN: {RUN}\")\n",
    "        main(RUN, augmentation_metadata, task_name, sub_project_name, epochs, train_size, w1, w2)\n",
    "    except Exception as e:\n",
    "        print(f\"Error in RUN: {RUN}\")\n",
    "        print(e)\n",
    "    finally:\n",
    "        clear_output(wait=True)  # Clear the output to avoid scrolling\n",
    "        gc.collect()  # Collect garbage to avoid memory leaks"
   ]
  },
  {
   "cell_type": "code",
   "execution_count": null,
   "metadata": {},
   "outputs": [],
   "source": [
    "# zoom 0.4\n",
    "task_name = 'z0.4'\n",
    "sub_project_name = 'ZOOM'\n",
    "\n",
    "augmentation_metadata = {\n",
    "        'methods': {        \n",
    "            'zoom': {\n",
    "                'parameters': {\n",
    "                    'zoom_factor': 0.4, # Maximum angle of rotation\n",
    "                },\n",
    "                'apply_to_percentage': 0.5  # 50% of the training images\n",
    "            }        \n",
    "        }\n",
    "    }\n",
    "\n",
    "for i in range(N):\n",
    "    RUN = i + 1\n",
    "    try:\n",
    "        print(f\"Starting RUN: {RUN}\")\n",
    "        main(RUN, augmentation_metadata, task_name, sub_project_name, epochs, train_size, w1, w2)\n",
    "    except Exception as e:\n",
    "        print(f\"Error in RUN: {RUN}\")\n",
    "        print(e)\n",
    "    finally:\n",
    "        clear_output(wait=True)  # Clear the output to avoid scrolling\n",
    "        gc.collect()  # Collect garbage to avoid memory leaks"
   ]
  },
  {
   "cell_type": "code",
   "execution_count": null,
   "metadata": {},
   "outputs": [],
   "source": [
    "# contrast 0.5\n",
    "task_name = 'c0.5'\n",
    "sub_project_name = 'CONTRAST'\n",
    "\n",
    "augmentation_metadata = {\n",
    "    'methods': {        \n",
    "        'bnc': {\n",
    "            'parameters': {\n",
    "                'alpha': 0.5,\n",
    "                'beta': 0\n",
    "            },\n",
    "            'apply_to_percentage': 0.5  # 50% of the training images\n",
    "        }        \n",
    "    }\n",
    "}\n",
    "\n",
    "for i in range(N):\n",
    "    RUN = i + 1\n",
    "    try:\n",
    "        print(f\"Starting RUN: {RUN}\")\n",
    "        main(RUN, augmentation_metadata, task_name, sub_project_name, epochs, train_size, w1, w2)\n",
    "    except Exception as e:\n",
    "        print(f\"Error in RUN: {RUN}\")\n",
    "        print(e)\n",
    "    finally:\n",
    "        clear_output(wait=True)  # Clear the output to avoid scrolling\n",
    "        gc.collect()  # Collect garbage to avoid memory leaks"
   ]
  },
  {
   "cell_type": "markdown",
   "metadata": {},
   "source": [
    "# Weather Conditions 2"
   ]
  },
  {
   "cell_type": "code",
   "execution_count": null,
   "metadata": {},
   "outputs": [],
   "source": [
    "w1 = 2\n",
    "w2 = 3"
   ]
  },
  {
   "cell_type": "code",
   "execution_count": null,
   "metadata": {},
   "outputs": [],
   "source": [
    "# histeq augmentation\n",
    "task_name = 'he'\n",
    "sub_project_name = 'HIST_EQ'\n",
    "\n",
    "augmentation_metadata = {\n",
    "        'methods': {        \n",
    "            'histEq': {\n",
    "                'parameters': {\n",
    "                    'p': 1.0  # Probability of applying the augmentation\n",
    "                },\n",
    "                'apply_to_percentage': 0.5  # 50% of the training images\n",
    "            }        \n",
    "        }\n",
    "    }\n",
    "\n",
    "for i in range(N):\n",
    "    RUN = i + 1\n",
    "    try:\n",
    "        print(f\"Starting RUN: {RUN}\")\n",
    "        main(RUN, augmentation_metadata, task_name, sub_project_name, epochs, train_size, w1, w2)\n",
    "    except Exception as e:\n",
    "        print(f\"Error in RUN: {RUN}\")\n",
    "        print(e)\n",
    "    finally:\n",
    "        clear_output(wait=True)  # Clear the output to avoid scrolling\n",
    "        gc.collect()  # Collect garbage to avoid memory leaks"
   ]
  },
  {
   "cell_type": "code",
   "execution_count": null,
   "metadata": {},
   "outputs": [],
   "source": [
    "# guassian augmentation (100.0, 200.0)\n",
    "task_name = 'gau100200'\n",
    "sub_project_name = 'GAUSSIAN'\n",
    "\n",
    "augmentation_metadata = {\n",
    "        'methods': {        \n",
    "            'gaussian': {\n",
    "                'parameters': {\n",
    "                    'var_limit': (100.0, 200.0)\n",
    "                },\n",
    "                'apply_to_percentage': 0.5  # 50% of the training images\n",
    "            }        \n",
    "        }\n",
    "    }\n",
    "\n",
    "for i in range(N):\n",
    "    RUN = i + 1\n",
    "    try:\n",
    "        print(f\"Starting RUN: {RUN}\")\n",
    "        main(RUN, augmentation_metadata, task_name, sub_project_name, epochs, train_size, w1, w2)\n",
    "    except Exception as e:\n",
    "        print(f\"Error in RUN: {RUN}\")\n",
    "        print(e)\n",
    "    finally:\n",
    "        clear_output(wait=True)  # Clear the output to avoid scrolling\n",
    "        gc.collect()  # Collect garbage to avoid memory leaks"
   ]
  },
  {
   "cell_type": "code",
   "execution_count": null,
   "metadata": {},
   "outputs": [],
   "source": [
    "# rotate augmentation 5\n",
    "task_name = 'r5'\n",
    "sub_project_name = 'ROTATE'\n",
    "\n",
    "augmentation_metadata = {\n",
    "        'methods': {        \n",
    "            'rotate': {\n",
    "                'parameters': {\n",
    "                    'angle_limit': 5, # Maximum angle of rotation\n",
    "                    'p': 1.0  # Probability of applying the augmentation\n",
    "                },\n",
    "                'apply_to_percentage': 0.5  # 50% of the training images\n",
    "            }        \n",
    "        }\n",
    "    }\n",
    "\n",
    "for i in range(N):\n",
    "    RUN = i + 1\n",
    "    try:\n",
    "        print(f\"Starting RUN: {RUN}\")\n",
    "        main(RUN, augmentation_metadata, task_name, sub_project_name, epochs, train_size, w1, w2)\n",
    "    except Exception as e:\n",
    "        print(f\"Error in RUN: {RUN}\")\n",
    "        print(e)\n",
    "    finally:\n",
    "        clear_output(wait=True)  # Clear the output to avoid scrolling\n",
    "        gc.collect()  # Collect garbage to avoid memory leaks"
   ]
  },
  {
   "cell_type": "code",
   "execution_count": null,
   "metadata": {},
   "outputs": [],
   "source": [
    "# rotate augmentation 20\n",
    "task_name = 'r20'\n",
    "sub_project_name = 'ROTATE'\n",
    "\n",
    "augmentation_metadata = {\n",
    "        'methods': {        \n",
    "            'rotate': {\n",
    "                'parameters': {\n",
    "                    'angle_limit': 20, # Maximum angle of rotation\n",
    "                    'p': 1.0  # Probability of applying the augmentation\n",
    "                },\n",
    "                'apply_to_percentage': 0.5  # 50% of the training images\n",
    "            }        \n",
    "        }\n",
    "    }\n",
    "\n",
    "for i in range(N):\n",
    "    RUN = i + 1\n",
    "    try:\n",
    "        print(f\"Starting RUN: {RUN}\")\n",
    "        main(RUN, augmentation_metadata, task_name, sub_project_name, epochs, train_size, w1, w2)\n",
    "    except Exception as e:\n",
    "        print(f\"Error in RUN: {RUN}\")\n",
    "        print(e)\n",
    "    finally:\n",
    "        clear_output(wait=True)  # Clear the output to avoid scrolling\n",
    "        gc.collect()  # Collect garbage to avoid memory leaks"
   ]
  },
  {
   "cell_type": "code",
   "execution_count": null,
   "metadata": {},
   "outputs": [],
   "source": [
    "# zoom 0.4\n",
    "task_name = 'z0.4'\n",
    "sub_project_name = 'ZOOM'\n",
    "\n",
    "augmentation_metadata = {\n",
    "        'methods': {        \n",
    "            'zoom': {\n",
    "                'parameters': {\n",
    "                    'zoom_factor': 0.4, # Maximum angle of rotation\n",
    "                },\n",
    "                'apply_to_percentage': 0.5  # 50% of the training images\n",
    "            }        \n",
    "        }\n",
    "    }\n",
    "\n",
    "for i in range(N):\n",
    "    RUN = i + 1\n",
    "    try:\n",
    "        print(f\"Starting RUN: {RUN}\")\n",
    "        main(RUN, augmentation_metadata, task_name, sub_project_name, epochs, train_size, w1, w2)\n",
    "    except Exception as e:\n",
    "        print(f\"Error in RUN: {RUN}\")\n",
    "        print(e)\n",
    "    finally:\n",
    "        clear_output(wait=True)  # Clear the output to avoid scrolling\n",
    "        gc.collect()  # Collect garbage to avoid memory leaks"
   ]
  },
  {
   "cell_type": "code",
   "execution_count": null,
   "metadata": {},
   "outputs": [],
   "source": [
    "# contrast 0.5\n",
    "task_name = 'c0.5'\n",
    "sub_project_name = 'CONTRAST'\n",
    "\n",
    "augmentation_metadata = {\n",
    "    'methods': {        \n",
    "        'bnc': {\n",
    "            'parameters': {\n",
    "                'alpha': 0.5,\n",
    "                'beta': 0\n",
    "            },\n",
    "            'apply_to_percentage': 0.5  # 50% of the training images\n",
    "        }        \n",
    "    }\n",
    "}\n",
    "\n",
    "for i in range(N):\n",
    "    RUN = i + 1\n",
    "    try:\n",
    "        print(f\"Starting RUN: {RUN}\")\n",
    "        main(RUN, augmentation_metadata, task_name, sub_project_name, epochs, train_size, w1, w2)\n",
    "    except Exception as e:\n",
    "        print(f\"Error in RUN: {RUN}\")\n",
    "        print(e)\n",
    "    finally:\n",
    "        clear_output(wait=True)  # Clear the output to avoid scrolling\n",
    "        gc.collect()  # Collect garbage to avoid memory leaks"
   ]
  },
  {
   "cell_type": "markdown",
   "metadata": {},
   "source": [
    "# Weather Conditions 3"
   ]
  },
  {
   "cell_type": "code",
   "execution_count": null,
   "metadata": {},
   "outputs": [],
   "source": [
    "w1 = 4\n",
    "w2 = 5"
   ]
  },
  {
   "cell_type": "code",
   "execution_count": null,
   "metadata": {},
   "outputs": [],
   "source": [
    "# histeq augmentation\n",
    "task_name = 'he'\n",
    "sub_project_name = 'HIST_EQ'\n",
    "\n",
    "augmentation_metadata = {\n",
    "        'methods': {        \n",
    "            'histEq': {\n",
    "                'parameters': {\n",
    "                    'p': 1.0  # Probability of applying the augmentation\n",
    "                },\n",
    "                'apply_to_percentage': 0.5  # 50% of the training images\n",
    "            }        \n",
    "        }\n",
    "    }\n",
    "\n",
    "for i in range(N):\n",
    "    RUN = i + 1\n",
    "    try:\n",
    "        print(f\"Starting RUN: {RUN}\")\n",
    "        main(RUN, augmentation_metadata, task_name, sub_project_name, epochs, train_size, w1, w2)\n",
    "    except Exception as e:\n",
    "        print(f\"Error in RUN: {RUN}\")\n",
    "        print(e)\n",
    "    finally:\n",
    "        clear_output(wait=True)  # Clear the output to avoid scrolling\n",
    "        gc.collect()  # Collect garbage to avoid memory leaks"
   ]
  },
  {
   "cell_type": "code",
   "execution_count": null,
   "metadata": {},
   "outputs": [],
   "source": [
    "# guassian augmentation (100.0, 200.0)\n",
    "task_name = 'gau100200'\n",
    "sub_project_name = 'GAUSSIAN'\n",
    "\n",
    "augmentation_metadata = {\n",
    "        'methods': {        \n",
    "            'gaussian': {\n",
    "                'parameters': {\n",
    "                    'var_limit': (100.0, 200.0)\n",
    "                },\n",
    "                'apply_to_percentage': 0.5  # 50% of the training images\n",
    "            }        \n",
    "        }\n",
    "    }\n",
    "\n",
    "for i in range(N):\n",
    "    RUN = i + 1\n",
    "    try:\n",
    "        print(f\"Starting RUN: {RUN}\")\n",
    "        main(RUN, augmentation_metadata, task_name, sub_project_name, epochs, train_size, w1, w2)\n",
    "    except Exception as e:\n",
    "        print(f\"Error in RUN: {RUN}\")\n",
    "        print(e)\n",
    "    finally:\n",
    "        clear_output(wait=True)  # Clear the output to avoid scrolling\n",
    "        gc.collect()  # Collect garbage to avoid memory leaks"
   ]
  },
  {
   "cell_type": "code",
   "execution_count": null,
   "metadata": {},
   "outputs": [],
   "source": [
    "# rotate augmentation 5\n",
    "task_name = 'r5'\n",
    "sub_project_name = 'ROTATE'\n",
    "\n",
    "augmentation_metadata = {\n",
    "        'methods': {        \n",
    "            'rotate': {\n",
    "                'parameters': {\n",
    "                    'angle_limit': 5, # Maximum angle of rotation\n",
    "                    'p': 1.0  # Probability of applying the augmentation\n",
    "                },\n",
    "                'apply_to_percentage': 0.5  # 50% of the training images\n",
    "            }        \n",
    "        }\n",
    "    }\n",
    "\n",
    "for i in range(N):\n",
    "    RUN = i + 1\n",
    "    try:\n",
    "        print(f\"Starting RUN: {RUN}\")\n",
    "        main(RUN, augmentation_metadata, task_name, sub_project_name, epochs, train_size, w1, w2)\n",
    "    except Exception as e:\n",
    "        print(f\"Error in RUN: {RUN}\")\n",
    "        print(e)\n",
    "    finally:\n",
    "        clear_output(wait=True)  # Clear the output to avoid scrolling\n",
    "        gc.collect()  # Collect garbage to avoid memory leaks"
   ]
  },
  {
   "cell_type": "code",
   "execution_count": null,
   "metadata": {},
   "outputs": [],
   "source": [
    "# rotate augmentation 20\n",
    "task_name = 'r20'\n",
    "sub_project_name = 'ROTATE'\n",
    "\n",
    "augmentation_metadata = {\n",
    "        'methods': {        \n",
    "            'rotate': {\n",
    "                'parameters': {\n",
    "                    'angle_limit': 20, # Maximum angle of rotation\n",
    "                    'p': 1.0  # Probability of applying the augmentation\n",
    "                },\n",
    "                'apply_to_percentage': 0.5  # 50% of the training images\n",
    "            }        \n",
    "        }\n",
    "    }\n",
    "\n",
    "for i in range(N):\n",
    "    RUN = i + 1\n",
    "    try:\n",
    "        print(f\"Starting RUN: {RUN}\")\n",
    "        main(RUN, augmentation_metadata, task_name, sub_project_name, epochs, train_size, w1, w2)\n",
    "    except Exception as e:\n",
    "        print(f\"Error in RUN: {RUN}\")\n",
    "        print(e)\n",
    "    finally:\n",
    "        clear_output(wait=True)  # Clear the output to avoid scrolling\n",
    "        gc.collect()  # Collect garbage to avoid memory leaks"
   ]
  },
  {
   "cell_type": "code",
   "execution_count": null,
   "metadata": {},
   "outputs": [],
   "source": [
    "# zoom 0.4\n",
    "task_name = 'z0.4'\n",
    "sub_project_name = 'ZOOM'\n",
    "\n",
    "augmentation_metadata = {\n",
    "        'methods': {        \n",
    "            'zoom': {\n",
    "                'parameters': {\n",
    "                    'zoom_factor': 0.4, # Maximum angle of rotation\n",
    "                },\n",
    "                'apply_to_percentage': 0.5  # 50% of the training images\n",
    "            }        \n",
    "        }\n",
    "    }\n",
    "\n",
    "for i in range(N):\n",
    "    RUN = i + 1\n",
    "    try:\n",
    "        print(f\"Starting RUN: {RUN}\")\n",
    "        main(RUN, augmentation_metadata, task_name, sub_project_name, epochs, train_size, w1, w2)\n",
    "    except Exception as e:\n",
    "        print(f\"Error in RUN: {RUN}\")\n",
    "        print(e)\n",
    "    finally:\n",
    "        clear_output(wait=True)  # Clear the output to avoid scrolling\n",
    "        gc.collect()  # Collect garbage to avoid memory leaks"
   ]
  },
  {
   "cell_type": "code",
   "execution_count": null,
   "metadata": {},
   "outputs": [],
   "source": [
    "# contrast 0.5\n",
    "task_name = 'c0.5'\n",
    "sub_project_name = 'CONTRAST'\n",
    "\n",
    "augmentation_metadata = {\n",
    "    'methods': {        \n",
    "        'bnc': {\n",
    "            'parameters': {\n",
    "                'alpha': 0.5,\n",
    "                'beta': 0\n",
    "            },\n",
    "            'apply_to_percentage': 0.5  # 50% of the training images\n",
    "        }        \n",
    "    }\n",
    "}\n",
    "\n",
    "for i in range(N):\n",
    "    RUN = i + 1\n",
    "    try:\n",
    "        print(f\"Starting RUN: {RUN}\")\n",
    "        main(RUN, augmentation_metadata, task_name, sub_project_name, epochs, train_size, w1, w2)\n",
    "    except Exception as e:\n",
    "        print(f\"Error in RUN: {RUN}\")\n",
    "        print(e)\n",
    "    finally:\n",
    "        clear_output(wait=True)  # Clear the output to avoid scrolling\n",
    "        gc.collect()  # Collect garbage to avoid memory leaks"
   ]
  }
 ],
 "metadata": {
  "kernelspec": {
   "display_name": "tf-cpu",
   "language": "python",
   "name": "python3"
  },
  "language_info": {
   "codemirror_mode": {
    "name": "ipython",
    "version": 3
   },
   "file_extension": ".py",
   "mimetype": "text/x-python",
   "name": "python",
   "nbconvert_exporter": "python",
   "pygments_lexer": "ipython3",
   "version": "3.11.9"
  }
 },
 "nbformat": 4,
 "nbformat_minor": 4
}

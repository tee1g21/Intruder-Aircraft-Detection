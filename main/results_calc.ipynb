{
 "cells": [
  {
   "cell_type": "code",
   "execution_count": 1,
   "metadata": {},
   "outputs": [
    {
     "name": "stdout",
     "output_type": "stream",
     "text": [
      "Detailed Metrics:\n",
      "                           Metric  Training  Validation\n",
      "                 Average Accuracy     0.661       0.611\n",
      "   Standard Deviation of Accuracy     0.250       0.169\n",
      "                    Best Accuracy     0.946       0.798\n",
      "                    Last Accuracy     0.935       0.798\n",
      "                      Overall AUC       NaN       0.540\n",
      "                 Maximum F1 Score       NaN       0.804\n",
      "                     Minimum Loss       NaN       0.738\n",
      "Difference in Average Loss Last N       NaN       0.655\n",
      "Standard Deviation of Loss Last N       NaN       0.104\n",
      "\n",
      "Summary Statistics:\n",
      "         Statistic  Average Training  Average Validation\n",
      "           Average          0.698000            0.579667\n",
      "Standard Deviation          0.326469            0.267832\n"
     ]
    }
   ],
   "source": [
    "import pandas as pd\n",
    "import numpy as np\n",
    "\n",
    "def process_metrics(metric_data):\n",
    "    # Create a DataFrame from the list of strings\n",
    "    data = {\n",
    "        \"Metric\": [],\n",
    "        \"Training\": [],\n",
    "        \"Validation\": []\n",
    "    }\n",
    "    \n",
    "    for item in metric_data:\n",
    "        parts = item.split()  # Split string into components\n",
    "        metric_name = \" \".join(parts[:-2])  # Metric name is all except last two elements\n",
    "        training_val = parts[-2]  # Second last element is training value\n",
    "        validation_val = parts[-1]  # Last element is validation value\n",
    "        \n",
    "        # Convert 'NaN' string to actual NaN value\n",
    "        training_val = float(training_val) if training_val != \"NaN\" else np.nan\n",
    "        validation_val = float(validation_val) if validation_val != \"NaN\" else np.nan\n",
    "        \n",
    "        data['Metric'].append(metric_name)\n",
    "        data['Training'].append(training_val)\n",
    "        data['Validation'].append(validation_val)\n",
    "\n",
    "    df = pd.DataFrame(data)\n",
    "    \n",
    "    # Calculate averages and standard deviations\n",
    "    summary_data = {\n",
    "        'Statistic': ['Average', 'Standard Deviation'],\n",
    "        'Average Training': [df['Training'].mean(), df['Training'].std()],\n",
    "        'Average Validation': [df['Validation'].mean(), df['Validation'].std()]\n",
    "    }\n",
    "    \n",
    "    summary_df = pd.DataFrame(summary_data)\n",
    "    \n",
    "    # Formatting output\n",
    "    result = \"Detailed Metrics:\\n\" + df.to_string(index=False) + \"\\n\\nSummary Statistics:\\n\" + summary_df.to_string(index=False)\n",
    "    \n",
    "    return result\n",
    "\n",
    "# Example usage\n",
    "metric_lines = [\n",
    "    \"Average Accuracy 0.661 0.611\",\n",
    "    \"Standard Deviation of Accuracy 0.250 0.169\",\n",
    "    \"Best Accuracy 0.946 0.798\",\n",
    "    \"Last Accuracy 0.935 0.798\",\n",
    "    \"Overall AUC NaN 0.540\",\n",
    "    \"Maximum F1 Score NaN 0.804\",\n",
    "    \"Minimum Loss NaN 0.738\",\n",
    "    \"Difference in Average Loss Last N NaN 0.655\",\n",
    "    \"Standard Deviation of Loss Last N NaN 0.104\"\n",
    "]\n",
    "\n",
    "result = process_metrics(metric_lines)\n",
    "print(result)\n"
   ]
  }
 ],
 "metadata": {
  "kernelspec": {
   "display_name": "Python 3",
   "language": "python",
   "name": "python3"
  },
  "language_info": {
   "codemirror_mode": {
    "name": "ipython",
    "version": 3
   },
   "file_extension": ".py",
   "mimetype": "text/x-python",
   "name": "python",
   "nbconvert_exporter": "python",
   "pygments_lexer": "ipython3",
   "version": "3.11.9"
  }
 },
 "nbformat": 4,
 "nbformat_minor": 2
}
